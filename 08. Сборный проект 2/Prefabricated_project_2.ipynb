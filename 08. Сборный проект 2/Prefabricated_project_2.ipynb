{
 "cells": [
  {
   "cell_type": "markdown",
   "metadata": {},
   "source": [
    "<h1 style=\"color:crimson\">Восстановление золота из руды:</h1> "
   ]
  },
  {
   "cell_type": "markdown",
   "metadata": {},
   "source": [
    "---\n",
    "<span style=\"color:crimson\"><b>Цель</b></span>: создать модель  предсказывающую коэффициент восстановления золота из золотосодержащей руды. \n",
    "\n",
    "<span style=\"color:crimson\"><b>Данные</b></span>: данные с параметрами добычи и очистки.  \n",
    "\n",
    "<span style=\"color:crimson\"><b>Логика работы модели</b></span>: по параметрам сырья предсказать, какое кол-ва золота мы получим после всех этапов обработки.\n",
    "\n",
    "---"
   ]
  },
  {
   "cell_type": "markdown",
   "metadata": {},
   "source": [
    "<h2 style=\"color:crimson\">Наименование признаков:</h2> \n",
    "\n",
    "Наименование признаков должно быть такое:\n",
    "\n",
    "`[этап].[тип_параметра].[название_параметра]`\n",
    "\n",
    "Пример: `rougher.input.feed_ag`\n",
    "\n",
    "| **Возможные значения для блока** `[этап]`:\n",
    "\n",
    "- *rougher —* флотация\n",
    "- *primary_cleaner* — первичная очистка\n",
    "- *secondary_cleaner* — вторичная очистка\n",
    "- *final* — финальные характеристики\n",
    "\n",
    "| **Возможные значения для блока** `[тип_параметра]`:\n",
    "\n",
    "- *input* — параметры сырья\n",
    "- *output* — параметры продукта\n",
    "- *state* — параметры, характеризующие текущее состояние этапа\n",
    "- *calculation —* расчётные характеристики\n",
    "\n",
    "| **Возможные значения для блока** `[название_параметра]`:\n",
    " \n",
    "\n",
    "<span style=\"color: red\">output</span>:\n",
    "\n",
    "- ***concentrate_**** — концентрат тяжёлых минералов, которые остаются после промывки в воде природных рыхлых отложений или специально раздробленных для шлихования горных пород.\n",
    "- ***recovery*** —  эффективность обогащения\n",
    "- ***tail_**** —  отходы обогащения полезных ископаемых, состоящие в основном из пустой породы, то есть имеющие минимальное содержание полезного компонента.\n",
    "\n",
    "<span style=\"color: red\">input</span>:\n",
    "\n",
    "- *sulfate*  — сульфат\n",
    "- *depressant* — депресанты. (вещества, применяемые при флотации полезных ископаемых и обеспечивающие извлечение одних минералов и оседание других)\n",
    "- *feed_size* — гранулометрический состав. (относительное содержание в горной породе частиц различных размеров независимо от их химического или минералогического состава)\n",
    "- *xanthate* — ксантогенаты. (тривиальное название солей и эфиров ксантогеновых кислот)\n",
    "\n",
    "<span style=\"color: red\">state</span>:\n",
    "\n",
    "- *floatbank8_** — судя по описанию это какие-то технологические значения с датчиков.\n",
    "\n",
    "<span style=\"color: red\">calculation</span>:\n",
    "\n",
    "- *sulfate_to_au_concentrate* — концентрат  сульфата в золоте\n",
    "- *floatbank1*_sulfate_to_au_feed* — судя по описанию это какие-то технологические значения с датчиков.\n",
    "- *au_pb_ratio* —  соотношение золота к свинцу."
   ]
  },
  {
   "cell_type": "markdown",
   "metadata": {},
   "source": [
    "<h2 style=\"color:crimson\"> Подготовка данных:</h2>"
   ]
  },
  {
   "cell_type": "markdown",
   "metadata": {},
   "source": [
    "<h4><span style=\"color: red\"><b>И</b></span>мпортируем библиотеки:</h4>"
   ]
  },
  {
   "cell_type": "code",
   "execution_count": 1,
   "metadata": {},
   "outputs": [
    {
     "name": "stdout",
     "output_type": "stream",
     "text": [
      "Requirement already satisfied: pathlib2 in c:\\programers\\anaconda3\\lib\\site-packages (2.3.5)\n",
      "Requirement already satisfied: six in c:\\programers\\anaconda3\\lib\\site-packages (from pathlib2) (1.15.0)\n",
      "Requirement already satisfied: sidetable in c:\\programers\\anaconda3\\lib\\site-packages (0.9.0)\n",
      "Requirement already satisfied: pandas>=1.0 in c:\\programers\\anaconda3\\lib\\site-packages (from sidetable) (1.2.4)\n",
      "Requirement already satisfied: pytz>=2017.3 in c:\\programers\\anaconda3\\lib\\site-packages (from pandas>=1.0->sidetable) (2021.1)\n",
      "Requirement already satisfied: numpy>=1.16.5 in c:\\programers\\anaconda3\\lib\\site-packages (from pandas>=1.0->sidetable) (1.19.5)\n",
      "Requirement already satisfied: python-dateutil>=2.7.3 in c:\\programers\\anaconda3\\lib\\site-packages (from pandas>=1.0->sidetable) (2.8.1)\n",
      "Requirement already satisfied: six>=1.5 in c:\\programers\\anaconda3\\lib\\site-packages (from python-dateutil>=2.7.3->pandas>=1.0->sidetable) (1.15.0)\n",
      "Requirement already satisfied: missingno in c:\\programers\\anaconda3\\lib\\site-packages (0.5.0)\n",
      "Requirement already satisfied: numpy in c:\\programers\\anaconda3\\lib\\site-packages (from missingno) (1.19.5)\n",
      "Requirement already satisfied: scipy in c:\\programers\\anaconda3\\lib\\site-packages (from missingno) (1.6.2)\n",
      "Requirement already satisfied: seaborn in c:\\programers\\anaconda3\\lib\\site-packages (from missingno) (0.11.1)\n",
      "Requirement already satisfied: matplotlib in c:\\programers\\anaconda3\\lib\\site-packages (from missingno) (3.3.4)\n",
      "Requirement already satisfied: cycler>=0.10 in c:\\programers\\anaconda3\\lib\\site-packages (from matplotlib->missingno) (0.10.0)\n",
      "Requirement already satisfied: pyparsing!=2.0.4,!=2.1.2,!=2.1.6,>=2.0.3 in c:\\programers\\anaconda3\\lib\\site-packages (from matplotlib->missingno) (2.4.7)\n",
      "Requirement already satisfied: kiwisolver>=1.0.1 in c:\\programers\\anaconda3\\lib\\site-packages (from matplotlib->missingno) (1.3.1)\n",
      "Requirement already satisfied: pillow>=6.2.0 in c:\\programers\\anaconda3\\lib\\site-packages (from matplotlib->missingno) (8.2.0)\n",
      "Requirement already satisfied: python-dateutil>=2.1 in c:\\programers\\anaconda3\\lib\\site-packages (from matplotlib->missingno) (2.8.1)\n",
      "Requirement already satisfied: six in c:\\programers\\anaconda3\\lib\\site-packages (from cycler>=0.10->matplotlib->missingno) (1.15.0)\n",
      "Requirement already satisfied: pandas>=0.23 in c:\\programers\\anaconda3\\lib\\site-packages (from seaborn->missingno) (1.2.4)\n",
      "Requirement already satisfied: pytz>=2017.3 in c:\\programers\\anaconda3\\lib\\site-packages (from pandas>=0.23->seaborn->missingno) (2021.1)\n"
     ]
    }
   ],
   "source": [
    "!pip install pathlib2\n",
    "!pip install sidetable\n",
    "!pip install missingno"
   ]
  },
  {
   "cell_type": "code",
   "execution_count": 2,
   "metadata": {},
   "outputs": [],
   "source": [
    "import pandas as pd\n",
    "import sidetable as stb\n",
    "import missingno as msno\n",
    "import numpy as np\n",
    "from sklearn.metrics import mean_absolute_error, make_scorer\n",
    "from matplotlib import pyplot as plt\n",
    "import seaborn as sns\n",
    "from sklearn.preprocessing import StandardScaler\n",
    "from sklearn.model_selection import GridSearchCV\n",
    "from sklearn.linear_model import LinearRegression, Ridge, ElasticNet\n",
    "from sklearn.model_selection import cross_val_score\n",
    "from sklearn.dummy import DummyRegressor\n",
    "from sklearn.kernel_ridge import KernelRidge"
   ]
  },
  {
   "cell_type": "markdown",
   "metadata": {},
   "source": [
    "<h4><span style=\"color: red\"><b>О</b></span>ткроем файлы:</h4>"
   ]
  },
  {
   "cell_type": "code",
   "execution_count": 3,
   "metadata": {},
   "outputs": [],
   "source": [
    "train = pd.read_csv('/datasets/gold_recovery_train_new.csv', parse_dates=['date'])\n",
    "test = pd.read_csv('/datasets/gold_recovery_test_new.csv',  parse_dates=['date'])\n",
    "full = pd.read_csv('/datasets/gold_recovery_full_new.csv',  parse_dates=['date'])"
   ]
  },
  {
   "cell_type": "markdown",
   "metadata": {},
   "source": [
    "<h4><span style=\"color: red\"><b>В</b></span>зглянем на датасеты:</h4>"
   ]
  },
  {
   "cell_type": "code",
   "execution_count": 4,
   "metadata": {},
   "outputs": [
    {
     "data": {
      "text/html": [
       "<div>\n",
       "<style scoped>\n",
       "    .dataframe tbody tr th:only-of-type {\n",
       "        vertical-align: middle;\n",
       "    }\n",
       "\n",
       "    .dataframe tbody tr th {\n",
       "        vertical-align: top;\n",
       "    }\n",
       "\n",
       "    .dataframe thead th {\n",
       "        text-align: right;\n",
       "    }\n",
       "</style>\n",
       "<table border=\"1\" class=\"dataframe\">\n",
       "  <thead>\n",
       "    <tr style=\"text-align: right;\">\n",
       "      <th></th>\n",
       "      <th>date</th>\n",
       "      <th>final.output.concentrate_ag</th>\n",
       "      <th>final.output.concentrate_pb</th>\n",
       "      <th>final.output.concentrate_sol</th>\n",
       "      <th>final.output.concentrate_au</th>\n",
       "      <th>final.output.recovery</th>\n",
       "      <th>final.output.tail_ag</th>\n",
       "      <th>final.output.tail_pb</th>\n",
       "      <th>final.output.tail_sol</th>\n",
       "      <th>final.output.tail_au</th>\n",
       "      <th>...</th>\n",
       "      <th>secondary_cleaner.state.floatbank4_a_air</th>\n",
       "      <th>secondary_cleaner.state.floatbank4_a_level</th>\n",
       "      <th>secondary_cleaner.state.floatbank4_b_air</th>\n",
       "      <th>secondary_cleaner.state.floatbank4_b_level</th>\n",
       "      <th>secondary_cleaner.state.floatbank5_a_air</th>\n",
       "      <th>secondary_cleaner.state.floatbank5_a_level</th>\n",
       "      <th>secondary_cleaner.state.floatbank5_b_air</th>\n",
       "      <th>secondary_cleaner.state.floatbank5_b_level</th>\n",
       "      <th>secondary_cleaner.state.floatbank6_a_air</th>\n",
       "      <th>secondary_cleaner.state.floatbank6_a_level</th>\n",
       "    </tr>\n",
       "  </thead>\n",
       "  <tbody>\n",
       "    <tr>\n",
       "      <th>11406</th>\n",
       "      <td>2018-04-06 17:59:59</td>\n",
       "      <td>4.264073</td>\n",
       "      <td>10.224174</td>\n",
       "      <td>8.732379</td>\n",
       "      <td>47.341629</td>\n",
       "      <td>71.826073</td>\n",
       "      <td>9.538125</td>\n",
       "      <td>1.571226</td>\n",
       "      <td>7.791038</td>\n",
       "      <td>2.030831</td>\n",
       "      <td>...</td>\n",
       "      <td>22.998205</td>\n",
       "      <td>-503.153268</td>\n",
       "      <td>15.922304</td>\n",
       "      <td>-500.494943</td>\n",
       "      <td>22.014493</td>\n",
       "      <td>-501.362556</td>\n",
       "      <td>13.969767</td>\n",
       "      <td>-500.195982</td>\n",
       "      <td>12.986469</td>\n",
       "      <td>-500.679237</td>\n",
       "    </tr>\n",
       "    <tr>\n",
       "      <th>12893</th>\n",
       "      <td>2018-06-13 12:59:59</td>\n",
       "      <td>3.800375</td>\n",
       "      <td>11.323245</td>\n",
       "      <td>6.896163</td>\n",
       "      <td>46.568327</td>\n",
       "      <td>61.123247</td>\n",
       "      <td>9.268241</td>\n",
       "      <td>2.792454</td>\n",
       "      <td>7.257135</td>\n",
       "      <td>2.089960</td>\n",
       "      <td>...</td>\n",
       "      <td>30.015029</td>\n",
       "      <td>-499.369064</td>\n",
       "      <td>22.027253</td>\n",
       "      <td>-499.154805</td>\n",
       "      <td>24.989573</td>\n",
       "      <td>-499.811384</td>\n",
       "      <td>22.976772</td>\n",
       "      <td>-500.288652</td>\n",
       "      <td>24.984525</td>\n",
       "      <td>-500.522665</td>\n",
       "    </tr>\n",
       "    <tr>\n",
       "      <th>5831</th>\n",
       "      <td>2017-02-26 04:59:59</td>\n",
       "      <td>3.975828</td>\n",
       "      <td>10.402945</td>\n",
       "      <td>13.606088</td>\n",
       "      <td>47.245083</td>\n",
       "      <td>70.739867</td>\n",
       "      <td>12.117793</td>\n",
       "      <td>4.477085</td>\n",
       "      <td>9.281291</td>\n",
       "      <td>4.068361</td>\n",
       "      <td>...</td>\n",
       "      <td>25.020358</td>\n",
       "      <td>-400.702640</td>\n",
       "      <td>23.027562</td>\n",
       "      <td>-400.127008</td>\n",
       "      <td>23.019407</td>\n",
       "      <td>-450.068356</td>\n",
       "      <td>20.002970</td>\n",
       "      <td>-449.822171</td>\n",
       "      <td>25.001485</td>\n",
       "      <td>-500.070351</td>\n",
       "    </tr>\n",
       "  </tbody>\n",
       "</table>\n",
       "<p>3 rows × 87 columns</p>\n",
       "</div>"
      ],
      "text/plain": [
       "                     date  final.output.concentrate_ag  \\\n",
       "11406 2018-04-06 17:59:59                     4.264073   \n",
       "12893 2018-06-13 12:59:59                     3.800375   \n",
       "5831  2017-02-26 04:59:59                     3.975828   \n",
       "\n",
       "       final.output.concentrate_pb  final.output.concentrate_sol  \\\n",
       "11406                    10.224174                      8.732379   \n",
       "12893                    11.323245                      6.896163   \n",
       "5831                     10.402945                     13.606088   \n",
       "\n",
       "       final.output.concentrate_au  final.output.recovery  \\\n",
       "11406                    47.341629              71.826073   \n",
       "12893                    46.568327              61.123247   \n",
       "5831                     47.245083              70.739867   \n",
       "\n",
       "       final.output.tail_ag  final.output.tail_pb  final.output.tail_sol  \\\n",
       "11406              9.538125              1.571226               7.791038   \n",
       "12893              9.268241              2.792454               7.257135   \n",
       "5831              12.117793              4.477085               9.281291   \n",
       "\n",
       "       final.output.tail_au  ...  secondary_cleaner.state.floatbank4_a_air  \\\n",
       "11406              2.030831  ...                                 22.998205   \n",
       "12893              2.089960  ...                                 30.015029   \n",
       "5831               4.068361  ...                                 25.020358   \n",
       "\n",
       "       secondary_cleaner.state.floatbank4_a_level  \\\n",
       "11406                                 -503.153268   \n",
       "12893                                 -499.369064   \n",
       "5831                                  -400.702640   \n",
       "\n",
       "       secondary_cleaner.state.floatbank4_b_air  \\\n",
       "11406                                 15.922304   \n",
       "12893                                 22.027253   \n",
       "5831                                  23.027562   \n",
       "\n",
       "       secondary_cleaner.state.floatbank4_b_level  \\\n",
       "11406                                 -500.494943   \n",
       "12893                                 -499.154805   \n",
       "5831                                  -400.127008   \n",
       "\n",
       "       secondary_cleaner.state.floatbank5_a_air  \\\n",
       "11406                                 22.014493   \n",
       "12893                                 24.989573   \n",
       "5831                                  23.019407   \n",
       "\n",
       "       secondary_cleaner.state.floatbank5_a_level  \\\n",
       "11406                                 -501.362556   \n",
       "12893                                 -499.811384   \n",
       "5831                                  -450.068356   \n",
       "\n",
       "       secondary_cleaner.state.floatbank5_b_air  \\\n",
       "11406                                 13.969767   \n",
       "12893                                 22.976772   \n",
       "5831                                  20.002970   \n",
       "\n",
       "       secondary_cleaner.state.floatbank5_b_level  \\\n",
       "11406                                 -500.195982   \n",
       "12893                                 -500.288652   \n",
       "5831                                  -449.822171   \n",
       "\n",
       "       secondary_cleaner.state.floatbank6_a_air  \\\n",
       "11406                                 12.986469   \n",
       "12893                                 24.984525   \n",
       "5831                                  25.001485   \n",
       "\n",
       "       secondary_cleaner.state.floatbank6_a_level  \n",
       "11406                                 -500.679237  \n",
       "12893                                 -500.522665  \n",
       "5831                                  -500.070351  \n",
       "\n",
       "[3 rows x 87 columns]"
      ]
     },
     "execution_count": 4,
     "metadata": {},
     "output_type": "execute_result"
    }
   ],
   "source": [
    "train.sample(3)"
   ]
  },
  {
   "cell_type": "code",
   "execution_count": 5,
   "metadata": {},
   "outputs": [
    {
     "data": {
      "text/html": [
       "<div>\n",
       "<style scoped>\n",
       "    .dataframe tbody tr th:only-of-type {\n",
       "        vertical-align: middle;\n",
       "    }\n",
       "\n",
       "    .dataframe tbody tr th {\n",
       "        vertical-align: top;\n",
       "    }\n",
       "\n",
       "    .dataframe thead th {\n",
       "        text-align: right;\n",
       "    }\n",
       "</style>\n",
       "<table border=\"1\" class=\"dataframe\">\n",
       "  <thead>\n",
       "    <tr style=\"text-align: right;\">\n",
       "      <th></th>\n",
       "      <th>date</th>\n",
       "      <th>primary_cleaner.input.sulfate</th>\n",
       "      <th>primary_cleaner.input.depressant</th>\n",
       "      <th>primary_cleaner.input.feed_size</th>\n",
       "      <th>primary_cleaner.input.xanthate</th>\n",
       "      <th>primary_cleaner.state.floatbank8_a_air</th>\n",
       "      <th>primary_cleaner.state.floatbank8_a_level</th>\n",
       "      <th>primary_cleaner.state.floatbank8_b_air</th>\n",
       "      <th>primary_cleaner.state.floatbank8_b_level</th>\n",
       "      <th>primary_cleaner.state.floatbank8_c_air</th>\n",
       "      <th>...</th>\n",
       "      <th>secondary_cleaner.state.floatbank4_a_air</th>\n",
       "      <th>secondary_cleaner.state.floatbank4_a_level</th>\n",
       "      <th>secondary_cleaner.state.floatbank4_b_air</th>\n",
       "      <th>secondary_cleaner.state.floatbank4_b_level</th>\n",
       "      <th>secondary_cleaner.state.floatbank5_a_air</th>\n",
       "      <th>secondary_cleaner.state.floatbank5_a_level</th>\n",
       "      <th>secondary_cleaner.state.floatbank5_b_air</th>\n",
       "      <th>secondary_cleaner.state.floatbank5_b_level</th>\n",
       "      <th>secondary_cleaner.state.floatbank6_a_air</th>\n",
       "      <th>secondary_cleaner.state.floatbank6_a_level</th>\n",
       "    </tr>\n",
       "  </thead>\n",
       "  <tbody>\n",
       "    <tr>\n",
       "      <th>4968</th>\n",
       "      <td>2017-12-17 04:59:59</td>\n",
       "      <td>58.008716</td>\n",
       "      <td>3.994091</td>\n",
       "      <td>6.470001</td>\n",
       "      <td>0.500558</td>\n",
       "      <td>1551.871328</td>\n",
       "      <td>-441.830986</td>\n",
       "      <td>1552.452588</td>\n",
       "      <td>-799.997015</td>\n",
       "      <td>1506.164669</td>\n",
       "      <td>...</td>\n",
       "      <td>19.967068</td>\n",
       "      <td>-516.151596</td>\n",
       "      <td>14.981208</td>\n",
       "      <td>-6.506986</td>\n",
       "      <td>10.986187</td>\n",
       "      <td>-559.692660</td>\n",
       "      <td>8.089905</td>\n",
       "      <td>-384.877506</td>\n",
       "      <td>12.014706</td>\n",
       "      <td>-482.695674</td>\n",
       "    </tr>\n",
       "    <tr>\n",
       "      <th>2270</th>\n",
       "      <td>2016-12-16 15:59:59</td>\n",
       "      <td>175.881116</td>\n",
       "      <td>10.866322</td>\n",
       "      <td>7.240000</td>\n",
       "      <td>1.129501</td>\n",
       "      <td>1502.430719</td>\n",
       "      <td>-499.947806</td>\n",
       "      <td>1503.705824</td>\n",
       "      <td>-500.751747</td>\n",
       "      <td>1502.350520</td>\n",
       "      <td>...</td>\n",
       "      <td>16.988124</td>\n",
       "      <td>-499.298016</td>\n",
       "      <td>14.939725</td>\n",
       "      <td>-497.442426</td>\n",
       "      <td>17.100412</td>\n",
       "      <td>-500.399574</td>\n",
       "      <td>12.026117</td>\n",
       "      <td>-500.484543</td>\n",
       "      <td>21.016434</td>\n",
       "      <td>-500.360895</td>\n",
       "    </tr>\n",
       "    <tr>\n",
       "      <th>2063</th>\n",
       "      <td>2016-12-07 18:59:59</td>\n",
       "      <td>191.039231</td>\n",
       "      <td>8.007806</td>\n",
       "      <td>7.565000</td>\n",
       "      <td>0.998697</td>\n",
       "      <td>1501.899678</td>\n",
       "      <td>-499.929616</td>\n",
       "      <td>1503.249115</td>\n",
       "      <td>-499.599654</td>\n",
       "      <td>1496.456770</td>\n",
       "      <td>...</td>\n",
       "      <td>17.974815</td>\n",
       "      <td>-500.067396</td>\n",
       "      <td>15.967366</td>\n",
       "      <td>-500.476179</td>\n",
       "      <td>15.846700</td>\n",
       "      <td>-500.210842</td>\n",
       "      <td>12.017318</td>\n",
       "      <td>-499.868926</td>\n",
       "      <td>21.016767</td>\n",
       "      <td>-499.541885</td>\n",
       "    </tr>\n",
       "  </tbody>\n",
       "</table>\n",
       "<p>3 rows × 53 columns</p>\n",
       "</div>"
      ],
      "text/plain": [
       "                    date  primary_cleaner.input.sulfate  \\\n",
       "4968 2017-12-17 04:59:59                      58.008716   \n",
       "2270 2016-12-16 15:59:59                     175.881116   \n",
       "2063 2016-12-07 18:59:59                     191.039231   \n",
       "\n",
       "      primary_cleaner.input.depressant  primary_cleaner.input.feed_size  \\\n",
       "4968                          3.994091                         6.470001   \n",
       "2270                         10.866322                         7.240000   \n",
       "2063                          8.007806                         7.565000   \n",
       "\n",
       "      primary_cleaner.input.xanthate  primary_cleaner.state.floatbank8_a_air  \\\n",
       "4968                        0.500558                             1551.871328   \n",
       "2270                        1.129501                             1502.430719   \n",
       "2063                        0.998697                             1501.899678   \n",
       "\n",
       "      primary_cleaner.state.floatbank8_a_level  \\\n",
       "4968                               -441.830986   \n",
       "2270                               -499.947806   \n",
       "2063                               -499.929616   \n",
       "\n",
       "      primary_cleaner.state.floatbank8_b_air  \\\n",
       "4968                             1552.452588   \n",
       "2270                             1503.705824   \n",
       "2063                             1503.249115   \n",
       "\n",
       "      primary_cleaner.state.floatbank8_b_level  \\\n",
       "4968                               -799.997015   \n",
       "2270                               -500.751747   \n",
       "2063                               -499.599654   \n",
       "\n",
       "      primary_cleaner.state.floatbank8_c_air  ...  \\\n",
       "4968                             1506.164669  ...   \n",
       "2270                             1502.350520  ...   \n",
       "2063                             1496.456770  ...   \n",
       "\n",
       "      secondary_cleaner.state.floatbank4_a_air  \\\n",
       "4968                                 19.967068   \n",
       "2270                                 16.988124   \n",
       "2063                                 17.974815   \n",
       "\n",
       "      secondary_cleaner.state.floatbank4_a_level  \\\n",
       "4968                                 -516.151596   \n",
       "2270                                 -499.298016   \n",
       "2063                                 -500.067396   \n",
       "\n",
       "      secondary_cleaner.state.floatbank4_b_air  \\\n",
       "4968                                 14.981208   \n",
       "2270                                 14.939725   \n",
       "2063                                 15.967366   \n",
       "\n",
       "      secondary_cleaner.state.floatbank4_b_level  \\\n",
       "4968                                   -6.506986   \n",
       "2270                                 -497.442426   \n",
       "2063                                 -500.476179   \n",
       "\n",
       "      secondary_cleaner.state.floatbank5_a_air  \\\n",
       "4968                                 10.986187   \n",
       "2270                                 17.100412   \n",
       "2063                                 15.846700   \n",
       "\n",
       "      secondary_cleaner.state.floatbank5_a_level  \\\n",
       "4968                                 -559.692660   \n",
       "2270                                 -500.399574   \n",
       "2063                                 -500.210842   \n",
       "\n",
       "      secondary_cleaner.state.floatbank5_b_air  \\\n",
       "4968                                  8.089905   \n",
       "2270                                 12.026117   \n",
       "2063                                 12.017318   \n",
       "\n",
       "      secondary_cleaner.state.floatbank5_b_level  \\\n",
       "4968                                 -384.877506   \n",
       "2270                                 -500.484543   \n",
       "2063                                 -499.868926   \n",
       "\n",
       "      secondary_cleaner.state.floatbank6_a_air  \\\n",
       "4968                                 12.014706   \n",
       "2270                                 21.016434   \n",
       "2063                                 21.016767   \n",
       "\n",
       "      secondary_cleaner.state.floatbank6_a_level  \n",
       "4968                                 -482.695674  \n",
       "2270                                 -500.360895  \n",
       "2063                                 -499.541885  \n",
       "\n",
       "[3 rows x 53 columns]"
      ]
     },
     "execution_count": 5,
     "metadata": {},
     "output_type": "execute_result"
    }
   ],
   "source": [
    "test.sample(3)"
   ]
  },
  {
   "cell_type": "code",
   "execution_count": 6,
   "metadata": {},
   "outputs": [
    {
     "data": {
      "text/html": [
       "<div>\n",
       "<style scoped>\n",
       "    .dataframe tbody tr th:only-of-type {\n",
       "        vertical-align: middle;\n",
       "    }\n",
       "\n",
       "    .dataframe tbody tr th {\n",
       "        vertical-align: top;\n",
       "    }\n",
       "\n",
       "    .dataframe thead th {\n",
       "        text-align: right;\n",
       "    }\n",
       "</style>\n",
       "<table border=\"1\" class=\"dataframe\">\n",
       "  <thead>\n",
       "    <tr style=\"text-align: right;\">\n",
       "      <th></th>\n",
       "      <th>date</th>\n",
       "      <th>final.output.concentrate_ag</th>\n",
       "      <th>final.output.concentrate_pb</th>\n",
       "      <th>final.output.concentrate_sol</th>\n",
       "      <th>final.output.concentrate_au</th>\n",
       "      <th>final.output.recovery</th>\n",
       "      <th>final.output.tail_ag</th>\n",
       "      <th>final.output.tail_pb</th>\n",
       "      <th>final.output.tail_sol</th>\n",
       "      <th>final.output.tail_au</th>\n",
       "      <th>...</th>\n",
       "      <th>secondary_cleaner.state.floatbank4_a_air</th>\n",
       "      <th>secondary_cleaner.state.floatbank4_a_level</th>\n",
       "      <th>secondary_cleaner.state.floatbank4_b_air</th>\n",
       "      <th>secondary_cleaner.state.floatbank4_b_level</th>\n",
       "      <th>secondary_cleaner.state.floatbank5_a_air</th>\n",
       "      <th>secondary_cleaner.state.floatbank5_a_level</th>\n",
       "      <th>secondary_cleaner.state.floatbank5_b_air</th>\n",
       "      <th>secondary_cleaner.state.floatbank5_b_level</th>\n",
       "      <th>secondary_cleaner.state.floatbank6_a_air</th>\n",
       "      <th>secondary_cleaner.state.floatbank6_a_level</th>\n",
       "    </tr>\n",
       "  </thead>\n",
       "  <tbody>\n",
       "    <tr>\n",
       "      <th>14089</th>\n",
       "      <td>2017-11-18 15:59:59</td>\n",
       "      <td>7.062620</td>\n",
       "      <td>10.956325</td>\n",
       "      <td>9.296519</td>\n",
       "      <td>40.220386</td>\n",
       "      <td>63.272695</td>\n",
       "      <td>12.393843</td>\n",
       "      <td>4.749768</td>\n",
       "      <td>10.320654</td>\n",
       "      <td>5.995564</td>\n",
       "      <td>...</td>\n",
       "      <td>16.995330</td>\n",
       "      <td>-502.090164</td>\n",
       "      <td>15.069036</td>\n",
       "      <td>-505.228351</td>\n",
       "      <td>10.911948</td>\n",
       "      <td>-498.695634</td>\n",
       "      <td>9.011558</td>\n",
       "      <td>-486.159102</td>\n",
       "      <td>16.007250</td>\n",
       "      <td>-497.216718</td>\n",
       "    </tr>\n",
       "    <tr>\n",
       "      <th>1956</th>\n",
       "      <td>2016-04-22 03:00:00</td>\n",
       "      <td>5.744010</td>\n",
       "      <td>9.862044</td>\n",
       "      <td>17.503822</td>\n",
       "      <td>44.515789</td>\n",
       "      <td>57.607570</td>\n",
       "      <td>7.361049</td>\n",
       "      <td>1.942923</td>\n",
       "      <td>13.350806</td>\n",
       "      <td>3.051188</td>\n",
       "      <td>...</td>\n",
       "      <td>14.014155</td>\n",
       "      <td>-502.168639</td>\n",
       "      <td>12.009955</td>\n",
       "      <td>-500.077022</td>\n",
       "      <td>12.996283</td>\n",
       "      <td>-498.682469</td>\n",
       "      <td>10.949324</td>\n",
       "      <td>-500.028817</td>\n",
       "      <td>20.034315</td>\n",
       "      <td>-498.130534</td>\n",
       "    </tr>\n",
       "    <tr>\n",
       "      <th>8340</th>\n",
       "      <td>2017-02-21 08:59:59</td>\n",
       "      <td>6.246482</td>\n",
       "      <td>10.989923</td>\n",
       "      <td>14.300915</td>\n",
       "      <td>43.035463</td>\n",
       "      <td>74.877985</td>\n",
       "      <td>12.040753</td>\n",
       "      <td>4.323085</td>\n",
       "      <td>8.410120</td>\n",
       "      <td>3.614080</td>\n",
       "      <td>...</td>\n",
       "      <td>25.008581</td>\n",
       "      <td>-398.869822</td>\n",
       "      <td>22.959107</td>\n",
       "      <td>-399.959513</td>\n",
       "      <td>23.078493</td>\n",
       "      <td>-450.980253</td>\n",
       "      <td>20.015411</td>\n",
       "      <td>-450.475452</td>\n",
       "      <td>25.007456</td>\n",
       "      <td>-500.811395</td>\n",
       "    </tr>\n",
       "  </tbody>\n",
       "</table>\n",
       "<p>3 rows × 87 columns</p>\n",
       "</div>"
      ],
      "text/plain": [
       "                     date  final.output.concentrate_ag  \\\n",
       "14089 2017-11-18 15:59:59                     7.062620   \n",
       "1956  2016-04-22 03:00:00                     5.744010   \n",
       "8340  2017-02-21 08:59:59                     6.246482   \n",
       "\n",
       "       final.output.concentrate_pb  final.output.concentrate_sol  \\\n",
       "14089                    10.956325                      9.296519   \n",
       "1956                      9.862044                     17.503822   \n",
       "8340                     10.989923                     14.300915   \n",
       "\n",
       "       final.output.concentrate_au  final.output.recovery  \\\n",
       "14089                    40.220386              63.272695   \n",
       "1956                     44.515789              57.607570   \n",
       "8340                     43.035463              74.877985   \n",
       "\n",
       "       final.output.tail_ag  final.output.tail_pb  final.output.tail_sol  \\\n",
       "14089             12.393843              4.749768              10.320654   \n",
       "1956               7.361049              1.942923              13.350806   \n",
       "8340              12.040753              4.323085               8.410120   \n",
       "\n",
       "       final.output.tail_au  ...  secondary_cleaner.state.floatbank4_a_air  \\\n",
       "14089              5.995564  ...                                 16.995330   \n",
       "1956               3.051188  ...                                 14.014155   \n",
       "8340               3.614080  ...                                 25.008581   \n",
       "\n",
       "       secondary_cleaner.state.floatbank4_a_level  \\\n",
       "14089                                 -502.090164   \n",
       "1956                                  -502.168639   \n",
       "8340                                  -398.869822   \n",
       "\n",
       "       secondary_cleaner.state.floatbank4_b_air  \\\n",
       "14089                                 15.069036   \n",
       "1956                                  12.009955   \n",
       "8340                                  22.959107   \n",
       "\n",
       "       secondary_cleaner.state.floatbank4_b_level  \\\n",
       "14089                                 -505.228351   \n",
       "1956                                  -500.077022   \n",
       "8340                                  -399.959513   \n",
       "\n",
       "       secondary_cleaner.state.floatbank5_a_air  \\\n",
       "14089                                 10.911948   \n",
       "1956                                  12.996283   \n",
       "8340                                  23.078493   \n",
       "\n",
       "       secondary_cleaner.state.floatbank5_a_level  \\\n",
       "14089                                 -498.695634   \n",
       "1956                                  -498.682469   \n",
       "8340                                  -450.980253   \n",
       "\n",
       "       secondary_cleaner.state.floatbank5_b_air  \\\n",
       "14089                                  9.011558   \n",
       "1956                                  10.949324   \n",
       "8340                                  20.015411   \n",
       "\n",
       "       secondary_cleaner.state.floatbank5_b_level  \\\n",
       "14089                                 -486.159102   \n",
       "1956                                  -500.028817   \n",
       "8340                                  -450.475452   \n",
       "\n",
       "       secondary_cleaner.state.floatbank6_a_air  \\\n",
       "14089                                 16.007250   \n",
       "1956                                  20.034315   \n",
       "8340                                  25.007456   \n",
       "\n",
       "       secondary_cleaner.state.floatbank6_a_level  \n",
       "14089                                 -497.216718  \n",
       "1956                                  -498.130534  \n",
       "8340                                  -500.811395  \n",
       "\n",
       "[3 rows x 87 columns]"
      ]
     },
     "execution_count": 6,
     "metadata": {},
     "output_type": "execute_result"
    }
   ],
   "source": [
    "full.sample(3)"
   ]
  },
  {
   "cell_type": "markdown",
   "metadata": {},
   "source": [
    "Каждый объект, это полный круг обработки руды."
   ]
  },
  {
   "cell_type": "markdown",
   "metadata": {},
   "source": [
    "<h4><span style=\"color: red\"><b>П</b></span>роверим размер датасетов:</h4>"
   ]
  },
  {
   "cell_type": "code",
   "execution_count": 7,
   "metadata": {},
   "outputs": [
    {
     "name": "stdout",
     "output_type": "stream",
     "text": [
      "Размер обучающей выборки (14149, 87)\n",
      "Размер тестовой выборки  (5290, 53)\n",
      "---------------------------------\n",
      "Размер общей выборки  (19439, 87)\n"
     ]
    }
   ],
   "source": [
    "print('Размер обучающей выборки', train.shape)\n",
    "print('Размер тестовой выборки ', test.shape)\n",
    "print('---------------------------------')\n",
    "print('Размер общей выборки ', full.shape)"
   ]
  },
  {
   "cell_type": "markdown",
   "metadata": {},
   "source": [
    "Кол-во объектов совпадает, а вот некоторых параметры недоступны, потому что замеряются и/или рассчитываются значительно позже."
   ]
  },
  {
   "cell_type": "markdown",
   "metadata": {},
   "source": [
    "<h4><span style=\"color: red\"><b>П</b></span>оиск и удаление пропусков:</h4>"
   ]
  },
  {
   "cell_type": "markdown",
   "metadata": {},
   "source": [
    "Взглянем на полный список:"
   ]
  },
  {
   "cell_type": "code",
   "execution_count": 8,
   "metadata": {},
   "outputs": [
    {
     "data": {
      "text/html": [
       "<style  type=\"text/css\" >\n",
       "</style><table id=\"T_15d24_\" ><thead>    <tr>        <th class=\"blank level0\" ></th>        <th class=\"col_heading level0 col0\" >missing</th>        <th class=\"col_heading level0 col1\" >total</th>        <th class=\"col_heading level0 col2\" >percent</th>    </tr></thead><tbody>\n",
       "                <tr>\n",
       "                        <th id=\"T_15d24_level0_row0\" class=\"row_heading level0 row0\" >secondary_cleaner.output.tail_sol</th>\n",
       "                        <td id=\"T_15d24_row0_col0\" class=\"data row0 col0\" >1,605</td>\n",
       "                        <td id=\"T_15d24_row0_col1\" class=\"data row0 col1\" >14,149</td>\n",
       "                        <td id=\"T_15d24_row0_col2\" class=\"data row0 col2\" >11.34%</td>\n",
       "            </tr>\n",
       "            <tr>\n",
       "                        <th id=\"T_15d24_level0_row1\" class=\"row_heading level0 row1\" >rougher.state.floatbank10_e_air</th>\n",
       "                        <td id=\"T_15d24_row1_col0\" class=\"data row1 col0\" >436</td>\n",
       "                        <td id=\"T_15d24_row1_col1\" class=\"data row1 col1\" >14,149</td>\n",
       "                        <td id=\"T_15d24_row1_col2\" class=\"data row1 col2\" >3.08%</td>\n",
       "            </tr>\n",
       "            <tr>\n",
       "                        <th id=\"T_15d24_level0_row2\" class=\"row_heading level0 row2\" >rougher.input.floatbank11_xanthate</th>\n",
       "                        <td id=\"T_15d24_row2_col0\" class=\"data row2 col0\" >428</td>\n",
       "                        <td id=\"T_15d24_row2_col1\" class=\"data row2 col1\" >14,149</td>\n",
       "                        <td id=\"T_15d24_row2_col2\" class=\"data row2 col2\" >3.02%</td>\n",
       "            </tr>\n",
       "            <tr>\n",
       "                        <th id=\"T_15d24_level0_row3\" class=\"row_heading level0 row3\" >primary_cleaner.output.concentrate_sol</th>\n",
       "                        <td id=\"T_15d24_row3_col0\" class=\"data row3 col0\" >286</td>\n",
       "                        <td id=\"T_15d24_row3_col1\" class=\"data row3 col1\" >14,149</td>\n",
       "                        <td id=\"T_15d24_row3_col2\" class=\"data row3 col2\" >2.02%</td>\n",
       "            </tr>\n",
       "            <tr>\n",
       "                        <th id=\"T_15d24_level0_row4\" class=\"row_heading level0 row4\" >secondary_cleaner.state.floatbank2_a_air</th>\n",
       "                        <td id=\"T_15d24_row4_col0\" class=\"data row4 col0\" >217</td>\n",
       "                        <td id=\"T_15d24_row4_col1\" class=\"data row4 col1\" >14,149</td>\n",
       "                        <td id=\"T_15d24_row4_col2\" class=\"data row4 col2\" >1.53%</td>\n",
       "            </tr>\n",
       "            <tr>\n",
       "                        <th id=\"T_15d24_level0_row5\" class=\"row_heading level0 row5\" >final.output.concentrate_sol</th>\n",
       "                        <td id=\"T_15d24_row5_col0\" class=\"data row5 col0\" >211</td>\n",
       "                        <td id=\"T_15d24_row5_col1\" class=\"data row5 col1\" >14,149</td>\n",
       "                        <td id=\"T_15d24_row5_col2\" class=\"data row5 col2\" >1.49%</td>\n",
       "            </tr>\n",
       "            <tr>\n",
       "                        <th id=\"T_15d24_level0_row6\" class=\"row_heading level0 row6\" >rougher.input.feed_size</th>\n",
       "                        <td id=\"T_15d24_row6_col0\" class=\"data row6 col0\" >144</td>\n",
       "                        <td id=\"T_15d24_row6_col1\" class=\"data row6 col1\" >14,149</td>\n",
       "                        <td id=\"T_15d24_row6_col2\" class=\"data row6 col2\" >1.02%</td>\n",
       "            </tr>\n",
       "            <tr>\n",
       "                        <th id=\"T_15d24_level0_row7\" class=\"row_heading level0 row7\" >final.output.tail_pb</th>\n",
       "                        <td id=\"T_15d24_row7_col0\" class=\"data row7 col0\" >100</td>\n",
       "                        <td id=\"T_15d24_row7_col1\" class=\"data row7 col1\" >14,149</td>\n",
       "                        <td id=\"T_15d24_row7_col2\" class=\"data row7 col2\" >0.71%</td>\n",
       "            </tr>\n",
       "            <tr>\n",
       "                        <th id=\"T_15d24_level0_row8\" class=\"row_heading level0 row8\" >rougher.input.feed_pb</th>\n",
       "                        <td id=\"T_15d24_row8_col0\" class=\"data row8 col0\" >100</td>\n",
       "                        <td id=\"T_15d24_row8_col1\" class=\"data row8 col1\" >14,149</td>\n",
       "                        <td id=\"T_15d24_row8_col2\" class=\"data row8 col2\" >0.71%</td>\n",
       "            </tr>\n",
       "            <tr>\n",
       "                        <th id=\"T_15d24_level0_row9\" class=\"row_heading level0 row9\" >primary_cleaner.input.xanthate</th>\n",
       "                        <td id=\"T_15d24_row9_col0\" class=\"data row9 col0\" >100</td>\n",
       "                        <td id=\"T_15d24_row9_col1\" class=\"data row9 col1\" >14,149</td>\n",
       "                        <td id=\"T_15d24_row9_col2\" class=\"data row9 col2\" >0.71%</td>\n",
       "            </tr>\n",
       "            <tr>\n",
       "                        <th id=\"T_15d24_level0_row10\" class=\"row_heading level0 row10\" >primary_cleaner.output.concentrate_pb</th>\n",
       "                        <td id=\"T_15d24_row10_col0\" class=\"data row10 col0\" >86</td>\n",
       "                        <td id=\"T_15d24_row10_col1\" class=\"data row10 col1\" >14,149</td>\n",
       "                        <td id=\"T_15d24_row10_col2\" class=\"data row10 col2\" >0.61%</td>\n",
       "            </tr>\n",
       "            <tr>\n",
       "                        <th id=\"T_15d24_level0_row11\" class=\"row_heading level0 row11\" >rougher.input.feed_sol</th>\n",
       "                        <td id=\"T_15d24_row11_col0\" class=\"data row11 col0\" >78</td>\n",
       "                        <td id=\"T_15d24_row11_col1\" class=\"data row11 col1\" >14,149</td>\n",
       "                        <td id=\"T_15d24_row11_col2\" class=\"data row11 col2\" >0.55%</td>\n",
       "            </tr>\n",
       "            <tr>\n",
       "                        <th id=\"T_15d24_level0_row12\" class=\"row_heading level0 row12\" >primary_cleaner.output.tail_sol</th>\n",
       "                        <td id=\"T_15d24_row12_col0\" class=\"data row12 col0\" >46</td>\n",
       "                        <td id=\"T_15d24_row12_col1\" class=\"data row12 col1\" >14,149</td>\n",
       "                        <td id=\"T_15d24_row12_col2\" class=\"data row12 col2\" >0.33%</td>\n",
       "            </tr>\n",
       "            <tr>\n",
       "                        <th id=\"T_15d24_level0_row13\" class=\"row_heading level0 row13\" >rougher.input.floatbank11_sulfate</th>\n",
       "                        <td id=\"T_15d24_row13_col0\" class=\"data row13 col0\" >36</td>\n",
       "                        <td id=\"T_15d24_row13_col1\" class=\"data row13 col1\" >14,149</td>\n",
       "                        <td id=\"T_15d24_row13_col2\" class=\"data row13 col2\" >0.25%</td>\n",
       "            </tr>\n",
       "            <tr>\n",
       "                        <th id=\"T_15d24_level0_row14\" class=\"row_heading level0 row14\" >primary_cleaner.input.depressant</th>\n",
       "                        <td id=\"T_15d24_row14_col0\" class=\"data row14 col0\" >32</td>\n",
       "                        <td id=\"T_15d24_row14_col1\" class=\"data row14 col1\" >14,149</td>\n",
       "                        <td id=\"T_15d24_row14_col2\" class=\"data row14 col2\" >0.23%</td>\n",
       "            </tr>\n",
       "            <tr>\n",
       "                        <th id=\"T_15d24_level0_row15\" class=\"row_heading level0 row15\" >rougher.input.floatbank10_sulfate</th>\n",
       "                        <td id=\"T_15d24_row15_col0\" class=\"data row15 col0\" >29</td>\n",
       "                        <td id=\"T_15d24_row15_col1\" class=\"data row15 col1\" >14,149</td>\n",
       "                        <td id=\"T_15d24_row15_col2\" class=\"data row15 col2\" >0.20%</td>\n",
       "            </tr>\n",
       "            <tr>\n",
       "                        <th id=\"T_15d24_level0_row16\" class=\"row_heading level0 row16\" >rougher.output.concentrate_sol</th>\n",
       "                        <td id=\"T_15d24_row16_col0\" class=\"data row16 col0\" >22</td>\n",
       "                        <td id=\"T_15d24_row16_col1\" class=\"data row16 col1\" >14,149</td>\n",
       "                        <td id=\"T_15d24_row16_col2\" class=\"data row16 col2\" >0.16%</td>\n",
       "            </tr>\n",
       "            <tr>\n",
       "                        <th id=\"T_15d24_level0_row17\" class=\"row_heading level0 row17\" >secondary_cleaner.state.floatbank2_b_air</th>\n",
       "                        <td id=\"T_15d24_row17_col0\" class=\"data row17 col0\" >21</td>\n",
       "                        <td id=\"T_15d24_row17_col1\" class=\"data row17 col1\" >14,149</td>\n",
       "                        <td id=\"T_15d24_row17_col2\" class=\"data row17 col2\" >0.15%</td>\n",
       "            </tr>\n",
       "            <tr>\n",
       "                        <th id=\"T_15d24_level0_row18\" class=\"row_heading level0 row18\" >primary_cleaner.input.sulfate</th>\n",
       "                        <td id=\"T_15d24_row18_col0\" class=\"data row18 col0\" >20</td>\n",
       "                        <td id=\"T_15d24_row18_col1\" class=\"data row18 col1\" >14,149</td>\n",
       "                        <td id=\"T_15d24_row18_col2\" class=\"data row18 col2\" >0.14%</td>\n",
       "            </tr>\n",
       "            <tr>\n",
       "                        <th id=\"T_15d24_level0_row19\" class=\"row_heading level0 row19\" >primary_cleaner.output.tail_pb</th>\n",
       "                        <td id=\"T_15d24_row19_col0\" class=\"data row19 col0\" >15</td>\n",
       "                        <td id=\"T_15d24_row19_col1\" class=\"data row19 col1\" >14,149</td>\n",
       "                        <td id=\"T_15d24_row19_col2\" class=\"data row19 col2\" >0.11%</td>\n",
       "            </tr>\n",
       "            <tr>\n",
       "                        <th id=\"T_15d24_level0_row20\" class=\"row_heading level0 row20\" >secondary_cleaner.output.tail_pb</th>\n",
       "                        <td id=\"T_15d24_row20_col0\" class=\"data row20 col0\" >10</td>\n",
       "                        <td id=\"T_15d24_row20_col1\" class=\"data row20 col1\" >14,149</td>\n",
       "                        <td id=\"T_15d24_row20_col2\" class=\"data row20 col2\" >0.07%</td>\n",
       "            </tr>\n",
       "            <tr>\n",
       "                        <th id=\"T_15d24_level0_row21\" class=\"row_heading level0 row21\" >rougher.input.feed_rate</th>\n",
       "                        <td id=\"T_15d24_row21_col0\" class=\"data row21 col0\" >8</td>\n",
       "                        <td id=\"T_15d24_row21_col1\" class=\"data row21 col1\" >14,149</td>\n",
       "                        <td id=\"T_15d24_row21_col2\" class=\"data row21 col2\" >0.06%</td>\n",
       "            </tr>\n",
       "            <tr>\n",
       "                        <th id=\"T_15d24_level0_row22\" class=\"row_heading level0 row22\" >rougher.input.floatbank10_xanthate</th>\n",
       "                        <td id=\"T_15d24_row22_col0\" class=\"data row22 col0\" >8</td>\n",
       "                        <td id=\"T_15d24_row22_col1\" class=\"data row22 col1\" >14,149</td>\n",
       "                        <td id=\"T_15d24_row22_col2\" class=\"data row22 col2\" >0.06%</td>\n",
       "            </tr>\n",
       "            <tr>\n",
       "                        <th id=\"T_15d24_level0_row23\" class=\"row_heading level0 row23\" >secondary_cleaner.state.floatbank4_a_air</th>\n",
       "                        <td id=\"T_15d24_row23_col0\" class=\"data row23 col0\" >6</td>\n",
       "                        <td id=\"T_15d24_row23_col1\" class=\"data row23 col1\" >14,149</td>\n",
       "                        <td id=\"T_15d24_row23_col2\" class=\"data row23 col2\" >0.04%</td>\n",
       "            </tr>\n",
       "            <tr>\n",
       "                        <th id=\"T_15d24_level0_row24\" class=\"row_heading level0 row24\" >final.output.tail_sol</th>\n",
       "                        <td id=\"T_15d24_row24_col0\" class=\"data row24 col0\" >5</td>\n",
       "                        <td id=\"T_15d24_row24_col1\" class=\"data row24 col1\" >14,149</td>\n",
       "                        <td id=\"T_15d24_row24_col2\" class=\"data row24 col2\" >0.04%</td>\n",
       "            </tr>\n",
       "            <tr>\n",
       "                        <th id=\"T_15d24_level0_row25\" class=\"row_heading level0 row25\" >secondary_cleaner.state.floatbank3_a_air</th>\n",
       "                        <td id=\"T_15d24_row25_col0\" class=\"data row25 col0\" >4</td>\n",
       "                        <td id=\"T_15d24_row25_col1\" class=\"data row25 col1\" >14,149</td>\n",
       "                        <td id=\"T_15d24_row25_col2\" class=\"data row25 col2\" >0.03%</td>\n",
       "            </tr>\n",
       "            <tr>\n",
       "                        <th id=\"T_15d24_level0_row26\" class=\"row_heading level0 row26\" >primary_cleaner.state.floatbank8_b_air</th>\n",
       "                        <td id=\"T_15d24_row26_col0\" class=\"data row26 col0\" >4</td>\n",
       "                        <td id=\"T_15d24_row26_col1\" class=\"data row26 col1\" >14,149</td>\n",
       "                        <td id=\"T_15d24_row26_col2\" class=\"data row26 col2\" >0.03%</td>\n",
       "            </tr>\n",
       "            <tr>\n",
       "                        <th id=\"T_15d24_level0_row27\" class=\"row_heading level0 row27\" >primary_cleaner.state.floatbank8_a_air</th>\n",
       "                        <td id=\"T_15d24_row27_col0\" class=\"data row27 col0\" >4</td>\n",
       "                        <td id=\"T_15d24_row27_col1\" class=\"data row27 col1\" >14,149</td>\n",
       "                        <td id=\"T_15d24_row27_col2\" class=\"data row27 col2\" >0.03%</td>\n",
       "            </tr>\n",
       "            <tr>\n",
       "                        <th id=\"T_15d24_level0_row28\" class=\"row_heading level0 row28\" >primary_cleaner.state.floatbank8_d_air</th>\n",
       "                        <td id=\"T_15d24_row28_col0\" class=\"data row28 col0\" >3</td>\n",
       "                        <td id=\"T_15d24_row28_col1\" class=\"data row28 col1\" >14,149</td>\n",
       "                        <td id=\"T_15d24_row28_col2\" class=\"data row28 col2\" >0.02%</td>\n",
       "            </tr>\n",
       "            <tr>\n",
       "                        <th id=\"T_15d24_level0_row29\" class=\"row_heading level0 row29\" >primary_cleaner.state.floatbank8_c_air</th>\n",
       "                        <td id=\"T_15d24_row29_col0\" class=\"data row29 col0\" >2</td>\n",
       "                        <td id=\"T_15d24_row29_col1\" class=\"data row29 col1\" >14,149</td>\n",
       "                        <td id=\"T_15d24_row29_col2\" class=\"data row29 col2\" >0.01%</td>\n",
       "            </tr>\n",
       "            <tr>\n",
       "                        <th id=\"T_15d24_level0_row30\" class=\"row_heading level0 row30\" >secondary_cleaner.output.tail_ag</th>\n",
       "                        <td id=\"T_15d24_row30_col0\" class=\"data row30 col0\" >2</td>\n",
       "                        <td id=\"T_15d24_row30_col1\" class=\"data row30 col1\" >14,149</td>\n",
       "                        <td id=\"T_15d24_row30_col2\" class=\"data row30 col2\" >0.01%</td>\n",
       "            </tr>\n",
       "            <tr>\n",
       "                        <th id=\"T_15d24_level0_row31\" class=\"row_heading level0 row31\" >secondary_cleaner.state.floatbank6_a_air</th>\n",
       "                        <td id=\"T_15d24_row31_col0\" class=\"data row31 col0\" >2</td>\n",
       "                        <td id=\"T_15d24_row31_col1\" class=\"data row31 col1\" >14,149</td>\n",
       "                        <td id=\"T_15d24_row31_col2\" class=\"data row31 col2\" >0.01%</td>\n",
       "            </tr>\n",
       "            <tr>\n",
       "                        <th id=\"T_15d24_level0_row32\" class=\"row_heading level0 row32\" >secondary_cleaner.state.floatbank2_a_level</th>\n",
       "                        <td id=\"T_15d24_row32_col0\" class=\"data row32 col0\" >1</td>\n",
       "                        <td id=\"T_15d24_row32_col1\" class=\"data row32 col1\" >14,149</td>\n",
       "                        <td id=\"T_15d24_row32_col2\" class=\"data row32 col2\" >0.01%</td>\n",
       "            </tr>\n",
       "            <tr>\n",
       "                        <th id=\"T_15d24_level0_row33\" class=\"row_heading level0 row33\" >secondary_cleaner.state.floatbank3_a_level</th>\n",
       "                        <td id=\"T_15d24_row33_col0\" class=\"data row33 col0\" >1</td>\n",
       "                        <td id=\"T_15d24_row33_col1\" class=\"data row33 col1\" >14,149</td>\n",
       "                        <td id=\"T_15d24_row33_col2\" class=\"data row33 col2\" >0.01%</td>\n",
       "            </tr>\n",
       "            <tr>\n",
       "                        <th id=\"T_15d24_level0_row34\" class=\"row_heading level0 row34\" >secondary_cleaner.state.floatbank2_b_level</th>\n",
       "                        <td id=\"T_15d24_row34_col0\" class=\"data row34 col0\" >1</td>\n",
       "                        <td id=\"T_15d24_row34_col1\" class=\"data row34 col1\" >14,149</td>\n",
       "                        <td id=\"T_15d24_row34_col2\" class=\"data row34 col2\" >0.01%</td>\n",
       "            </tr>\n",
       "            <tr>\n",
       "                        <th id=\"T_15d24_level0_row35\" class=\"row_heading level0 row35\" >secondary_cleaner.state.floatbank4_a_level</th>\n",
       "                        <td id=\"T_15d24_row35_col0\" class=\"data row35 col0\" >1</td>\n",
       "                        <td id=\"T_15d24_row35_col1\" class=\"data row35 col1\" >14,149</td>\n",
       "                        <td id=\"T_15d24_row35_col2\" class=\"data row35 col2\" >0.01%</td>\n",
       "            </tr>\n",
       "            <tr>\n",
       "                        <th id=\"T_15d24_level0_row36\" class=\"row_heading level0 row36\" >secondary_cleaner.state.floatbank3_b_air</th>\n",
       "                        <td id=\"T_15d24_row36_col0\" class=\"data row36 col0\" >1</td>\n",
       "                        <td id=\"T_15d24_row36_col1\" class=\"data row36 col1\" >14,149</td>\n",
       "                        <td id=\"T_15d24_row36_col2\" class=\"data row36 col2\" >0.01%</td>\n",
       "            </tr>\n",
       "            <tr>\n",
       "                        <th id=\"T_15d24_level0_row37\" class=\"row_heading level0 row37\" >secondary_cleaner.state.floatbank3_b_level</th>\n",
       "                        <td id=\"T_15d24_row37_col0\" class=\"data row37 col0\" >1</td>\n",
       "                        <td id=\"T_15d24_row37_col1\" class=\"data row37 col1\" >14,149</td>\n",
       "                        <td id=\"T_15d24_row37_col2\" class=\"data row37 col2\" >0.01%</td>\n",
       "            </tr>\n",
       "            <tr>\n",
       "                        <th id=\"T_15d24_level0_row38\" class=\"row_heading level0 row38\" >secondary_cleaner.state.floatbank4_b_level</th>\n",
       "                        <td id=\"T_15d24_row38_col0\" class=\"data row38 col0\" >1</td>\n",
       "                        <td id=\"T_15d24_row38_col1\" class=\"data row38 col1\" >14,149</td>\n",
       "                        <td id=\"T_15d24_row38_col2\" class=\"data row38 col2\" >0.01%</td>\n",
       "            </tr>\n",
       "            <tr>\n",
       "                        <th id=\"T_15d24_level0_row39\" class=\"row_heading level0 row39\" >secondary_cleaner.state.floatbank5_a_air</th>\n",
       "                        <td id=\"T_15d24_row39_col0\" class=\"data row39 col0\" >1</td>\n",
       "                        <td id=\"T_15d24_row39_col1\" class=\"data row39 col1\" >14,149</td>\n",
       "                        <td id=\"T_15d24_row39_col2\" class=\"data row39 col2\" >0.01%</td>\n",
       "            </tr>\n",
       "            <tr>\n",
       "                        <th id=\"T_15d24_level0_row40\" class=\"row_heading level0 row40\" >secondary_cleaner.state.floatbank5_a_level</th>\n",
       "                        <td id=\"T_15d24_row40_col0\" class=\"data row40 col0\" >1</td>\n",
       "                        <td id=\"T_15d24_row40_col1\" class=\"data row40 col1\" >14,149</td>\n",
       "                        <td id=\"T_15d24_row40_col2\" class=\"data row40 col2\" >0.01%</td>\n",
       "            </tr>\n",
       "            <tr>\n",
       "                        <th id=\"T_15d24_level0_row41\" class=\"row_heading level0 row41\" >secondary_cleaner.state.floatbank5_b_air</th>\n",
       "                        <td id=\"T_15d24_row41_col0\" class=\"data row41 col0\" >1</td>\n",
       "                        <td id=\"T_15d24_row41_col1\" class=\"data row41 col1\" >14,149</td>\n",
       "                        <td id=\"T_15d24_row41_col2\" class=\"data row41 col2\" >0.01%</td>\n",
       "            </tr>\n",
       "            <tr>\n",
       "                        <th id=\"T_15d24_level0_row42\" class=\"row_heading level0 row42\" >secondary_cleaner.state.floatbank5_b_level</th>\n",
       "                        <td id=\"T_15d24_row42_col0\" class=\"data row42 col0\" >1</td>\n",
       "                        <td id=\"T_15d24_row42_col1\" class=\"data row42 col1\" >14,149</td>\n",
       "                        <td id=\"T_15d24_row42_col2\" class=\"data row42 col2\" >0.01%</td>\n",
       "            </tr>\n",
       "            <tr>\n",
       "                        <th id=\"T_15d24_level0_row43\" class=\"row_heading level0 row43\" >secondary_cleaner.state.floatbank4_b_air</th>\n",
       "                        <td id=\"T_15d24_row43_col0\" class=\"data row43 col0\" >1</td>\n",
       "                        <td id=\"T_15d24_row43_col1\" class=\"data row43 col1\" >14,149</td>\n",
       "                        <td id=\"T_15d24_row43_col2\" class=\"data row43 col2\" >0.01%</td>\n",
       "            </tr>\n",
       "            <tr>\n",
       "                        <th id=\"T_15d24_level0_row44\" class=\"row_heading level0 row44\" >final.output.concentrate_ag</th>\n",
       "                        <td id=\"T_15d24_row44_col0\" class=\"data row44 col0\" >1</td>\n",
       "                        <td id=\"T_15d24_row44_col1\" class=\"data row44 col1\" >14,149</td>\n",
       "                        <td id=\"T_15d24_row44_col2\" class=\"data row44 col2\" >0.01%</td>\n",
       "            </tr>\n",
       "            <tr>\n",
       "                        <th id=\"T_15d24_level0_row45\" class=\"row_heading level0 row45\" >rougher.state.floatbank10_c_level</th>\n",
       "                        <td id=\"T_15d24_row45_col0\" class=\"data row45 col0\" >1</td>\n",
       "                        <td id=\"T_15d24_row45_col1\" class=\"data row45 col1\" >14,149</td>\n",
       "                        <td id=\"T_15d24_row45_col2\" class=\"data row45 col2\" >0.01%</td>\n",
       "            </tr>\n",
       "            <tr>\n",
       "                        <th id=\"T_15d24_level0_row46\" class=\"row_heading level0 row46\" >rougher.calculation.floatbank10_sulfate_to_au_feed</th>\n",
       "                        <td id=\"T_15d24_row46_col0\" class=\"data row46 col0\" >1</td>\n",
       "                        <td id=\"T_15d24_row46_col1\" class=\"data row46 col1\" >14,149</td>\n",
       "                        <td id=\"T_15d24_row46_col2\" class=\"data row46 col2\" >0.01%</td>\n",
       "            </tr>\n",
       "            <tr>\n",
       "                        <th id=\"T_15d24_level0_row47\" class=\"row_heading level0 row47\" >primary_cleaner.output.tail_ag</th>\n",
       "                        <td id=\"T_15d24_row47_col0\" class=\"data row47 col0\" >1</td>\n",
       "                        <td id=\"T_15d24_row47_col1\" class=\"data row47 col1\" >14,149</td>\n",
       "                        <td id=\"T_15d24_row47_col2\" class=\"data row47 col2\" >0.01%</td>\n",
       "            </tr>\n",
       "            <tr>\n",
       "                        <th id=\"T_15d24_level0_row48\" class=\"row_heading level0 row48\" >primary_cleaner.state.floatbank8_a_level</th>\n",
       "                        <td id=\"T_15d24_row48_col0\" class=\"data row48 col0\" >1</td>\n",
       "                        <td id=\"T_15d24_row48_col1\" class=\"data row48 col1\" >14,149</td>\n",
       "                        <td id=\"T_15d24_row48_col2\" class=\"data row48 col2\" >0.01%</td>\n",
       "            </tr>\n",
       "            <tr>\n",
       "                        <th id=\"T_15d24_level0_row49\" class=\"row_heading level0 row49\" >primary_cleaner.state.floatbank8_b_level</th>\n",
       "                        <td id=\"T_15d24_row49_col0\" class=\"data row49 col0\" >1</td>\n",
       "                        <td id=\"T_15d24_row49_col1\" class=\"data row49 col1\" >14,149</td>\n",
       "                        <td id=\"T_15d24_row49_col2\" class=\"data row49 col2\" >0.01%</td>\n",
       "            </tr>\n",
       "            <tr>\n",
       "                        <th id=\"T_15d24_level0_row50\" class=\"row_heading level0 row50\" >primary_cleaner.state.floatbank8_c_level</th>\n",
       "                        <td id=\"T_15d24_row50_col0\" class=\"data row50 col0\" >1</td>\n",
       "                        <td id=\"T_15d24_row50_col1\" class=\"data row50 col1\" >14,149</td>\n",
       "                        <td id=\"T_15d24_row50_col2\" class=\"data row50 col2\" >0.01%</td>\n",
       "            </tr>\n",
       "            <tr>\n",
       "                        <th id=\"T_15d24_level0_row51\" class=\"row_heading level0 row51\" >primary_cleaner.state.floatbank8_d_level</th>\n",
       "                        <td id=\"T_15d24_row51_col0\" class=\"data row51 col0\" >1</td>\n",
       "                        <td id=\"T_15d24_row51_col1\" class=\"data row51 col1\" >14,149</td>\n",
       "                        <td id=\"T_15d24_row51_col2\" class=\"data row51 col2\" >0.01%</td>\n",
       "            </tr>\n",
       "            <tr>\n",
       "                        <th id=\"T_15d24_level0_row52\" class=\"row_heading level0 row52\" >rougher.calculation.sulfate_to_au_concentrate</th>\n",
       "                        <td id=\"T_15d24_row52_col0\" class=\"data row52 col0\" >1</td>\n",
       "                        <td id=\"T_15d24_row52_col1\" class=\"data row52 col1\" >14,149</td>\n",
       "                        <td id=\"T_15d24_row52_col2\" class=\"data row52 col2\" >0.01%</td>\n",
       "            </tr>\n",
       "            <tr>\n",
       "                        <th id=\"T_15d24_level0_row53\" class=\"row_heading level0 row53\" >rougher.calculation.floatbank11_sulfate_to_au_feed</th>\n",
       "                        <td id=\"T_15d24_row53_col0\" class=\"data row53 col0\" >1</td>\n",
       "                        <td id=\"T_15d24_row53_col1\" class=\"data row53 col1\" >14,149</td>\n",
       "                        <td id=\"T_15d24_row53_col2\" class=\"data row53 col2\" >0.01%</td>\n",
       "            </tr>\n",
       "            <tr>\n",
       "                        <th id=\"T_15d24_level0_row54\" class=\"row_heading level0 row54\" >rougher.state.floatbank10_c_air</th>\n",
       "                        <td id=\"T_15d24_row54_col0\" class=\"data row54 col0\" >1</td>\n",
       "                        <td id=\"T_15d24_row54_col1\" class=\"data row54 col1\" >14,149</td>\n",
       "                        <td id=\"T_15d24_row54_col2\" class=\"data row54 col2\" >0.01%</td>\n",
       "            </tr>\n",
       "            <tr>\n",
       "                        <th id=\"T_15d24_level0_row55\" class=\"row_heading level0 row55\" >final.output.concentrate_pb</th>\n",
       "                        <td id=\"T_15d24_row55_col0\" class=\"data row55 col0\" >1</td>\n",
       "                        <td id=\"T_15d24_row55_col1\" class=\"data row55 col1\" >14,149</td>\n",
       "                        <td id=\"T_15d24_row55_col2\" class=\"data row55 col2\" >0.01%</td>\n",
       "            </tr>\n",
       "            <tr>\n",
       "                        <th id=\"T_15d24_level0_row56\" class=\"row_heading level0 row56\" >rougher.output.tail_ag</th>\n",
       "                        <td id=\"T_15d24_row56_col0\" class=\"data row56 col0\" >1</td>\n",
       "                        <td id=\"T_15d24_row56_col1\" class=\"data row56 col1\" >14,149</td>\n",
       "                        <td id=\"T_15d24_row56_col2\" class=\"data row56 col2\" >0.01%</td>\n",
       "            </tr>\n",
       "            <tr>\n",
       "                        <th id=\"T_15d24_level0_row57\" class=\"row_heading level0 row57\" >rougher.state.floatbank10_a_air</th>\n",
       "                        <td id=\"T_15d24_row57_col0\" class=\"data row57 col0\" >1</td>\n",
       "                        <td id=\"T_15d24_row57_col1\" class=\"data row57 col1\" >14,149</td>\n",
       "                        <td id=\"T_15d24_row57_col2\" class=\"data row57 col2\" >0.01%</td>\n",
       "            </tr>\n",
       "            <tr>\n",
       "                        <th id=\"T_15d24_level0_row58\" class=\"row_heading level0 row58\" >rougher.state.floatbank10_a_level</th>\n",
       "                        <td id=\"T_15d24_row58_col0\" class=\"data row58 col0\" >1</td>\n",
       "                        <td id=\"T_15d24_row58_col1\" class=\"data row58 col1\" >14,149</td>\n",
       "                        <td id=\"T_15d24_row58_col2\" class=\"data row58 col2\" >0.01%</td>\n",
       "            </tr>\n",
       "            <tr>\n",
       "                        <th id=\"T_15d24_level0_row59\" class=\"row_heading level0 row59\" >rougher.state.floatbank10_b_air</th>\n",
       "                        <td id=\"T_15d24_row59_col0\" class=\"data row59 col0\" >1</td>\n",
       "                        <td id=\"T_15d24_row59_col1\" class=\"data row59 col1\" >14,149</td>\n",
       "                        <td id=\"T_15d24_row59_col2\" class=\"data row59 col2\" >0.01%</td>\n",
       "            </tr>\n",
       "            <tr>\n",
       "                        <th id=\"T_15d24_level0_row60\" class=\"row_heading level0 row60\" >rougher.state.floatbank10_b_level</th>\n",
       "                        <td id=\"T_15d24_row60_col0\" class=\"data row60 col0\" >1</td>\n",
       "                        <td id=\"T_15d24_row60_col1\" class=\"data row60 col1\" >14,149</td>\n",
       "                        <td id=\"T_15d24_row60_col2\" class=\"data row60 col2\" >0.01%</td>\n",
       "            </tr>\n",
       "            <tr>\n",
       "                        <th id=\"T_15d24_level0_row61\" class=\"row_heading level0 row61\" >secondary_cleaner.state.floatbank6_a_level</th>\n",
       "                        <td id=\"T_15d24_row61_col0\" class=\"data row61 col0\" >1</td>\n",
       "                        <td id=\"T_15d24_row61_col1\" class=\"data row61 col1\" >14,149</td>\n",
       "                        <td id=\"T_15d24_row61_col2\" class=\"data row61 col2\" >0.01%</td>\n",
       "            </tr>\n",
       "    </tbody></table>"
      ],
      "text/plain": [
       "<pandas.io.formats.style.Styler at 0x222c159ca60>"
      ]
     },
     "execution_count": 8,
     "metadata": {},
     "output_type": "execute_result"
    }
   ],
   "source": [
    "train.stb.missing(style=True, clip_0=True)"
   ]
  },
  {
   "cell_type": "code",
   "execution_count": 9,
   "metadata": {},
   "outputs": [
    {
     "data": {
      "text/html": [
       "<style  type=\"text/css\" >\n",
       "</style><table id=\"T_2ccf2_\" ><thead>    <tr>        <th class=\"blank level0\" ></th>        <th class=\"col_heading level0 col0\" >missing</th>        <th class=\"col_heading level0 col1\" >total</th>        <th class=\"col_heading level0 col2\" >percent</th>    </tr></thead><tbody>\n",
       "                <tr>\n",
       "                        <th id=\"T_2ccf2_level0_row0\" class=\"row_heading level0 row0\" >rougher.input.floatbank11_xanthate</th>\n",
       "                        <td id=\"T_2ccf2_row0_col0\" class=\"data row0 col0\" >25</td>\n",
       "                        <td id=\"T_2ccf2_row0_col1\" class=\"data row0 col1\" >5,290</td>\n",
       "                        <td id=\"T_2ccf2_row0_col2\" class=\"data row0 col2\" >0.47%</td>\n",
       "            </tr>\n",
       "            <tr>\n",
       "                        <th id=\"T_2ccf2_level0_row1\" class=\"row_heading level0 row1\" >rougher.input.feed_sol</th>\n",
       "                        <td id=\"T_2ccf2_row1_col0\" class=\"data row1 col0\" >21</td>\n",
       "                        <td id=\"T_2ccf2_row1_col1\" class=\"data row1 col1\" >5,290</td>\n",
       "                        <td id=\"T_2ccf2_row1_col2\" class=\"data row1 col2\" >0.40%</td>\n",
       "            </tr>\n",
       "            <tr>\n",
       "                        <th id=\"T_2ccf2_level0_row2\" class=\"row_heading level0 row2\" >secondary_cleaner.state.floatbank3_a_air</th>\n",
       "                        <td id=\"T_2ccf2_row2_col0\" class=\"data row2 col0\" >9</td>\n",
       "                        <td id=\"T_2ccf2_row2_col1\" class=\"data row2 col1\" >5,290</td>\n",
       "                        <td id=\"T_2ccf2_row2_col2\" class=\"data row2 col2\" >0.17%</td>\n",
       "            </tr>\n",
       "            <tr>\n",
       "                        <th id=\"T_2ccf2_level0_row3\" class=\"row_heading level0 row3\" >rougher.input.floatbank11_sulfate</th>\n",
       "                        <td id=\"T_2ccf2_row3_col0\" class=\"data row3 col0\" >8</td>\n",
       "                        <td id=\"T_2ccf2_row3_col1\" class=\"data row3 col1\" >5,290</td>\n",
       "                        <td id=\"T_2ccf2_row3_col2\" class=\"data row3 col2\" >0.15%</td>\n",
       "            </tr>\n",
       "            <tr>\n",
       "                        <th id=\"T_2ccf2_level0_row4\" class=\"row_heading level0 row4\" >primary_cleaner.input.depressant</th>\n",
       "                        <td id=\"T_2ccf2_row4_col0\" class=\"data row4 col0\" >5</td>\n",
       "                        <td id=\"T_2ccf2_row4_col1\" class=\"data row4 col1\" >5,290</td>\n",
       "                        <td id=\"T_2ccf2_row4_col2\" class=\"data row4 col2\" >0.09%</td>\n",
       "            </tr>\n",
       "            <tr>\n",
       "                        <th id=\"T_2ccf2_level0_row5\" class=\"row_heading level0 row5\" >rougher.input.floatbank10_sulfate</th>\n",
       "                        <td id=\"T_2ccf2_row5_col0\" class=\"data row5 col0\" >5</td>\n",
       "                        <td id=\"T_2ccf2_row5_col1\" class=\"data row5 col1\" >5,290</td>\n",
       "                        <td id=\"T_2ccf2_row5_col2\" class=\"data row5 col2\" >0.09%</td>\n",
       "            </tr>\n",
       "            <tr>\n",
       "                        <th id=\"T_2ccf2_level0_row6\" class=\"row_heading level0 row6\" >primary_cleaner.input.sulfate</th>\n",
       "                        <td id=\"T_2ccf2_row6_col0\" class=\"data row6 col0\" >4</td>\n",
       "                        <td id=\"T_2ccf2_row6_col1\" class=\"data row6 col1\" >5,290</td>\n",
       "                        <td id=\"T_2ccf2_row6_col2\" class=\"data row6 col2\" >0.08%</td>\n",
       "            </tr>\n",
       "            <tr>\n",
       "                        <th id=\"T_2ccf2_level0_row7\" class=\"row_heading level0 row7\" >primary_cleaner.input.xanthate</th>\n",
       "                        <td id=\"T_2ccf2_row7_col0\" class=\"data row7 col0\" >4</td>\n",
       "                        <td id=\"T_2ccf2_row7_col1\" class=\"data row7 col1\" >5,290</td>\n",
       "                        <td id=\"T_2ccf2_row7_col2\" class=\"data row7 col2\" >0.08%</td>\n",
       "            </tr>\n",
       "            <tr>\n",
       "                        <th id=\"T_2ccf2_level0_row8\" class=\"row_heading level0 row8\" >rougher.input.feed_rate</th>\n",
       "                        <td id=\"T_2ccf2_row8_col0\" class=\"data row8 col0\" >3</td>\n",
       "                        <td id=\"T_2ccf2_row8_col1\" class=\"data row8 col1\" >5,290</td>\n",
       "                        <td id=\"T_2ccf2_row8_col2\" class=\"data row8 col2\" >0.06%</td>\n",
       "            </tr>\n",
       "            <tr>\n",
       "                        <th id=\"T_2ccf2_level0_row9\" class=\"row_heading level0 row9\" >secondary_cleaner.state.floatbank2_a_air</th>\n",
       "                        <td id=\"T_2ccf2_row9_col0\" class=\"data row9 col0\" >3</td>\n",
       "                        <td id=\"T_2ccf2_row9_col1\" class=\"data row9 col1\" >5,290</td>\n",
       "                        <td id=\"T_2ccf2_row9_col2\" class=\"data row9 col2\" >0.06%</td>\n",
       "            </tr>\n",
       "            <tr>\n",
       "                        <th id=\"T_2ccf2_level0_row10\" class=\"row_heading level0 row10\" >secondary_cleaner.state.floatbank2_b_air</th>\n",
       "                        <td id=\"T_2ccf2_row10_col0\" class=\"data row10 col0\" >2</td>\n",
       "                        <td id=\"T_2ccf2_row10_col1\" class=\"data row10 col1\" >5,290</td>\n",
       "                        <td id=\"T_2ccf2_row10_col2\" class=\"data row10 col2\" >0.04%</td>\n",
       "            </tr>\n",
       "            <tr>\n",
       "                        <th id=\"T_2ccf2_level0_row11\" class=\"row_heading level0 row11\" >rougher.input.feed_size</th>\n",
       "                        <td id=\"T_2ccf2_row11_col0\" class=\"data row11 col0\" >1</td>\n",
       "                        <td id=\"T_2ccf2_row11_col1\" class=\"data row11 col1\" >5,290</td>\n",
       "                        <td id=\"T_2ccf2_row11_col2\" class=\"data row11 col2\" >0.02%</td>\n",
       "            </tr>\n",
       "    </tbody></table>"
      ],
      "text/plain": [
       "<pandas.io.formats.style.Styler at 0x222c154ad90>"
      ]
     },
     "execution_count": 9,
     "metadata": {},
     "output_type": "execute_result"
    }
   ],
   "source": [
    "test.stb.missing(style=True, clip_0=True)"
   ]
  },
  {
   "cell_type": "code",
   "execution_count": 10,
   "metadata": {},
   "outputs": [
    {
     "data": {
      "text/html": [
       "<style  type=\"text/css\" >\n",
       "</style><table id=\"T_4e27f_\" ><thead>    <tr>        <th class=\"blank level0\" ></th>        <th class=\"col_heading level0 col0\" >missing</th>        <th class=\"col_heading level0 col1\" >total</th>        <th class=\"col_heading level0 col2\" >percent</th>    </tr></thead><tbody>\n",
       "                <tr>\n",
       "                        <th id=\"T_4e27f_level0_row0\" class=\"row_heading level0 row0\" >secondary_cleaner.output.tail_sol</th>\n",
       "                        <td id=\"T_4e27f_row0_col0\" class=\"data row0 col0\" >1,748</td>\n",
       "                        <td id=\"T_4e27f_row0_col1\" class=\"data row0 col1\" >19,439</td>\n",
       "                        <td id=\"T_4e27f_row0_col2\" class=\"data row0 col2\" >8.99%</td>\n",
       "            </tr>\n",
       "            <tr>\n",
       "                        <th id=\"T_4e27f_level0_row1\" class=\"row_heading level0 row1\" >rougher.input.floatbank11_xanthate</th>\n",
       "                        <td id=\"T_4e27f_row1_col0\" class=\"data row1 col0\" >453</td>\n",
       "                        <td id=\"T_4e27f_row1_col1\" class=\"data row1 col1\" >19,439</td>\n",
       "                        <td id=\"T_4e27f_row1_col2\" class=\"data row1 col2\" >2.33%</td>\n",
       "            </tr>\n",
       "            <tr>\n",
       "                        <th id=\"T_4e27f_level0_row2\" class=\"row_heading level0 row2\" >rougher.state.floatbank10_e_air</th>\n",
       "                        <td id=\"T_4e27f_row2_col0\" class=\"data row2 col0\" >436</td>\n",
       "                        <td id=\"T_4e27f_row2_col1\" class=\"data row2 col1\" >19,439</td>\n",
       "                        <td id=\"T_4e27f_row2_col2\" class=\"data row2 col2\" >2.24%</td>\n",
       "            </tr>\n",
       "            <tr>\n",
       "                        <th id=\"T_4e27f_level0_row3\" class=\"row_heading level0 row3\" >primary_cleaner.output.concentrate_sol</th>\n",
       "                        <td id=\"T_4e27f_row3_col0\" class=\"data row3 col0\" >370</td>\n",
       "                        <td id=\"T_4e27f_row3_col1\" class=\"data row3 col1\" >19,439</td>\n",
       "                        <td id=\"T_4e27f_row3_col2\" class=\"data row3 col2\" >1.90%</td>\n",
       "            </tr>\n",
       "            <tr>\n",
       "                        <th id=\"T_4e27f_level0_row4\" class=\"row_heading level0 row4\" >secondary_cleaner.state.floatbank2_a_air</th>\n",
       "                        <td id=\"T_4e27f_row4_col0\" class=\"data row4 col0\" >220</td>\n",
       "                        <td id=\"T_4e27f_row4_col1\" class=\"data row4 col1\" >19,439</td>\n",
       "                        <td id=\"T_4e27f_row4_col2\" class=\"data row4 col2\" >1.13%</td>\n",
       "            </tr>\n",
       "            <tr>\n",
       "                        <th id=\"T_4e27f_level0_row5\" class=\"row_heading level0 row5\" >final.output.concentrate_sol</th>\n",
       "                        <td id=\"T_4e27f_row5_col0\" class=\"data row5 col0\" >211</td>\n",
       "                        <td id=\"T_4e27f_row5_col1\" class=\"data row5 col1\" >19,439</td>\n",
       "                        <td id=\"T_4e27f_row5_col2\" class=\"data row5 col2\" >1.09%</td>\n",
       "            </tr>\n",
       "            <tr>\n",
       "                        <th id=\"T_4e27f_level0_row6\" class=\"row_heading level0 row6\" >rougher.input.feed_size</th>\n",
       "                        <td id=\"T_4e27f_row6_col0\" class=\"data row6 col0\" >145</td>\n",
       "                        <td id=\"T_4e27f_row6_col1\" class=\"data row6 col1\" >19,439</td>\n",
       "                        <td id=\"T_4e27f_row6_col2\" class=\"data row6 col2\" >0.75%</td>\n",
       "            </tr>\n",
       "            <tr>\n",
       "                        <th id=\"T_4e27f_level0_row7\" class=\"row_heading level0 row7\" >primary_cleaner.output.concentrate_pb</th>\n",
       "                        <td id=\"T_4e27f_row7_col0\" class=\"data row7 col0\" >116</td>\n",
       "                        <td id=\"T_4e27f_row7_col1\" class=\"data row7 col1\" >19,439</td>\n",
       "                        <td id=\"T_4e27f_row7_col2\" class=\"data row7 col2\" >0.60%</td>\n",
       "            </tr>\n",
       "            <tr>\n",
       "                        <th id=\"T_4e27f_level0_row8\" class=\"row_heading level0 row8\" >primary_cleaner.input.xanthate</th>\n",
       "                        <td id=\"T_4e27f_row8_col0\" class=\"data row8 col0\" >104</td>\n",
       "                        <td id=\"T_4e27f_row8_col1\" class=\"data row8 col1\" >19,439</td>\n",
       "                        <td id=\"T_4e27f_row8_col2\" class=\"data row8 col2\" >0.54%</td>\n",
       "            </tr>\n",
       "            <tr>\n",
       "                        <th id=\"T_4e27f_level0_row9\" class=\"row_heading level0 row9\" >final.output.tail_pb</th>\n",
       "                        <td id=\"T_4e27f_row9_col0\" class=\"data row9 col0\" >101</td>\n",
       "                        <td id=\"T_4e27f_row9_col1\" class=\"data row9 col1\" >19,439</td>\n",
       "                        <td id=\"T_4e27f_row9_col2\" class=\"data row9 col2\" >0.52%</td>\n",
       "            </tr>\n",
       "            <tr>\n",
       "                        <th id=\"T_4e27f_level0_row10\" class=\"row_heading level0 row10\" >rougher.input.feed_pb</th>\n",
       "                        <td id=\"T_4e27f_row10_col0\" class=\"data row10 col0\" >100</td>\n",
       "                        <td id=\"T_4e27f_row10_col1\" class=\"data row10 col1\" >19,439</td>\n",
       "                        <td id=\"T_4e27f_row10_col2\" class=\"data row10 col2\" >0.51%</td>\n",
       "            </tr>\n",
       "            <tr>\n",
       "                        <th id=\"T_4e27f_level0_row11\" class=\"row_heading level0 row11\" >rougher.input.feed_sol</th>\n",
       "                        <td id=\"T_4e27f_row11_col0\" class=\"data row11 col0\" >99</td>\n",
       "                        <td id=\"T_4e27f_row11_col1\" class=\"data row11 col1\" >19,439</td>\n",
       "                        <td id=\"T_4e27f_row11_col2\" class=\"data row11 col2\" >0.51%</td>\n",
       "            </tr>\n",
       "            <tr>\n",
       "                        <th id=\"T_4e27f_level0_row12\" class=\"row_heading level0 row12\" >primary_cleaner.output.tail_sol</th>\n",
       "                        <td id=\"T_4e27f_row12_col0\" class=\"data row12 col0\" >62</td>\n",
       "                        <td id=\"T_4e27f_row12_col1\" class=\"data row12 col1\" >19,439</td>\n",
       "                        <td id=\"T_4e27f_row12_col2\" class=\"data row12 col2\" >0.32%</td>\n",
       "            </tr>\n",
       "            <tr>\n",
       "                        <th id=\"T_4e27f_level0_row13\" class=\"row_heading level0 row13\" >rougher.input.floatbank11_sulfate</th>\n",
       "                        <td id=\"T_4e27f_row13_col0\" class=\"data row13 col0\" >44</td>\n",
       "                        <td id=\"T_4e27f_row13_col1\" class=\"data row13 col1\" >19,439</td>\n",
       "                        <td id=\"T_4e27f_row13_col2\" class=\"data row13 col2\" >0.23%</td>\n",
       "            </tr>\n",
       "            <tr>\n",
       "                        <th id=\"T_4e27f_level0_row14\" class=\"row_heading level0 row14\" >primary_cleaner.input.depressant</th>\n",
       "                        <td id=\"T_4e27f_row14_col0\" class=\"data row14 col0\" >37</td>\n",
       "                        <td id=\"T_4e27f_row14_col1\" class=\"data row14 col1\" >19,439</td>\n",
       "                        <td id=\"T_4e27f_row14_col2\" class=\"data row14 col2\" >0.19%</td>\n",
       "            </tr>\n",
       "            <tr>\n",
       "                        <th id=\"T_4e27f_level0_row15\" class=\"row_heading level0 row15\" >rougher.input.floatbank10_sulfate</th>\n",
       "                        <td id=\"T_4e27f_row15_col0\" class=\"data row15 col0\" >34</td>\n",
       "                        <td id=\"T_4e27f_row15_col1\" class=\"data row15 col1\" >19,439</td>\n",
       "                        <td id=\"T_4e27f_row15_col2\" class=\"data row15 col2\" >0.17%</td>\n",
       "            </tr>\n",
       "            <tr>\n",
       "                        <th id=\"T_4e27f_level0_row16\" class=\"row_heading level0 row16\" >primary_cleaner.input.sulfate</th>\n",
       "                        <td id=\"T_4e27f_row16_col0\" class=\"data row16 col0\" >24</td>\n",
       "                        <td id=\"T_4e27f_row16_col1\" class=\"data row16 col1\" >19,439</td>\n",
       "                        <td id=\"T_4e27f_row16_col2\" class=\"data row16 col2\" >0.12%</td>\n",
       "            </tr>\n",
       "            <tr>\n",
       "                        <th id=\"T_4e27f_level0_row17\" class=\"row_heading level0 row17\" >secondary_cleaner.state.floatbank2_b_air</th>\n",
       "                        <td id=\"T_4e27f_row17_col0\" class=\"data row17 col0\" >23</td>\n",
       "                        <td id=\"T_4e27f_row17_col1\" class=\"data row17 col1\" >19,439</td>\n",
       "                        <td id=\"T_4e27f_row17_col2\" class=\"data row17 col2\" >0.12%</td>\n",
       "            </tr>\n",
       "            <tr>\n",
       "                        <th id=\"T_4e27f_level0_row18\" class=\"row_heading level0 row18\" >rougher.output.concentrate_sol</th>\n",
       "                        <td id=\"T_4e27f_row18_col0\" class=\"data row18 col0\" >23</td>\n",
       "                        <td id=\"T_4e27f_row18_col1\" class=\"data row18 col1\" >19,439</td>\n",
       "                        <td id=\"T_4e27f_row18_col2\" class=\"data row18 col2\" >0.12%</td>\n",
       "            </tr>\n",
       "            <tr>\n",
       "                        <th id=\"T_4e27f_level0_row19\" class=\"row_heading level0 row19\" >primary_cleaner.output.tail_pb</th>\n",
       "                        <td id=\"T_4e27f_row19_col0\" class=\"data row19 col0\" >21</td>\n",
       "                        <td id=\"T_4e27f_row19_col1\" class=\"data row19 col1\" >19,439</td>\n",
       "                        <td id=\"T_4e27f_row19_col2\" class=\"data row19 col2\" >0.11%</td>\n",
       "            </tr>\n",
       "            <tr>\n",
       "                        <th id=\"T_4e27f_level0_row20\" class=\"row_heading level0 row20\" >secondary_cleaner.state.floatbank3_a_air</th>\n",
       "                        <td id=\"T_4e27f_row20_col0\" class=\"data row20 col0\" >13</td>\n",
       "                        <td id=\"T_4e27f_row20_col1\" class=\"data row20 col1\" >19,439</td>\n",
       "                        <td id=\"T_4e27f_row20_col2\" class=\"data row20 col2\" >0.07%</td>\n",
       "            </tr>\n",
       "            <tr>\n",
       "                        <th id=\"T_4e27f_level0_row21\" class=\"row_heading level0 row21\" >secondary_cleaner.output.tail_pb</th>\n",
       "                        <td id=\"T_4e27f_row21_col0\" class=\"data row21 col0\" >12</td>\n",
       "                        <td id=\"T_4e27f_row21_col1\" class=\"data row21 col1\" >19,439</td>\n",
       "                        <td id=\"T_4e27f_row21_col2\" class=\"data row21 col2\" >0.06%</td>\n",
       "            </tr>\n",
       "            <tr>\n",
       "                        <th id=\"T_4e27f_level0_row22\" class=\"row_heading level0 row22\" >rougher.input.feed_rate</th>\n",
       "                        <td id=\"T_4e27f_row22_col0\" class=\"data row22 col0\" >11</td>\n",
       "                        <td id=\"T_4e27f_row22_col1\" class=\"data row22 col1\" >19,439</td>\n",
       "                        <td id=\"T_4e27f_row22_col2\" class=\"data row22 col2\" >0.06%</td>\n",
       "            </tr>\n",
       "            <tr>\n",
       "                        <th id=\"T_4e27f_level0_row23\" class=\"row_heading level0 row23\" >rougher.input.floatbank10_xanthate</th>\n",
       "                        <td id=\"T_4e27f_row23_col0\" class=\"data row23 col0\" >8</td>\n",
       "                        <td id=\"T_4e27f_row23_col1\" class=\"data row23 col1\" >19,439</td>\n",
       "                        <td id=\"T_4e27f_row23_col2\" class=\"data row23 col2\" >0.04%</td>\n",
       "            </tr>\n",
       "            <tr>\n",
       "                        <th id=\"T_4e27f_level0_row24\" class=\"row_heading level0 row24\" >final.output.tail_sol</th>\n",
       "                        <td id=\"T_4e27f_row24_col0\" class=\"data row24 col0\" >6</td>\n",
       "                        <td id=\"T_4e27f_row24_col1\" class=\"data row24 col1\" >19,439</td>\n",
       "                        <td id=\"T_4e27f_row24_col2\" class=\"data row24 col2\" >0.03%</td>\n",
       "            </tr>\n",
       "            <tr>\n",
       "                        <th id=\"T_4e27f_level0_row25\" class=\"row_heading level0 row25\" >secondary_cleaner.state.floatbank4_a_air</th>\n",
       "                        <td id=\"T_4e27f_row25_col0\" class=\"data row25 col0\" >6</td>\n",
       "                        <td id=\"T_4e27f_row25_col1\" class=\"data row25 col1\" >19,439</td>\n",
       "                        <td id=\"T_4e27f_row25_col2\" class=\"data row25 col2\" >0.03%</td>\n",
       "            </tr>\n",
       "            <tr>\n",
       "                        <th id=\"T_4e27f_level0_row26\" class=\"row_heading level0 row26\" >primary_cleaner.output.tail_ag</th>\n",
       "                        <td id=\"T_4e27f_row26_col0\" class=\"data row26 col0\" >4</td>\n",
       "                        <td id=\"T_4e27f_row26_col1\" class=\"data row26 col1\" >19,439</td>\n",
       "                        <td id=\"T_4e27f_row26_col2\" class=\"data row26 col2\" >0.02%</td>\n",
       "            </tr>\n",
       "            <tr>\n",
       "                        <th id=\"T_4e27f_level0_row27\" class=\"row_heading level0 row27\" >primary_cleaner.state.floatbank8_b_air</th>\n",
       "                        <td id=\"T_4e27f_row27_col0\" class=\"data row27 col0\" >4</td>\n",
       "                        <td id=\"T_4e27f_row27_col1\" class=\"data row27 col1\" >19,439</td>\n",
       "                        <td id=\"T_4e27f_row27_col2\" class=\"data row27 col2\" >0.02%</td>\n",
       "            </tr>\n",
       "            <tr>\n",
       "                        <th id=\"T_4e27f_level0_row28\" class=\"row_heading level0 row28\" >primary_cleaner.state.floatbank8_a_air</th>\n",
       "                        <td id=\"T_4e27f_row28_col0\" class=\"data row28 col0\" >4</td>\n",
       "                        <td id=\"T_4e27f_row28_col1\" class=\"data row28 col1\" >19,439</td>\n",
       "                        <td id=\"T_4e27f_row28_col2\" class=\"data row28 col2\" >0.02%</td>\n",
       "            </tr>\n",
       "            <tr>\n",
       "                        <th id=\"T_4e27f_level0_row29\" class=\"row_heading level0 row29\" >primary_cleaner.state.floatbank8_d_air</th>\n",
       "                        <td id=\"T_4e27f_row29_col0\" class=\"data row29 col0\" >3</td>\n",
       "                        <td id=\"T_4e27f_row29_col1\" class=\"data row29 col1\" >19,439</td>\n",
       "                        <td id=\"T_4e27f_row29_col2\" class=\"data row29 col2\" >0.02%</td>\n",
       "            </tr>\n",
       "            <tr>\n",
       "                        <th id=\"T_4e27f_level0_row30\" class=\"row_heading level0 row30\" >secondary_cleaner.output.tail_ag</th>\n",
       "                        <td id=\"T_4e27f_row30_col0\" class=\"data row30 col0\" >2</td>\n",
       "                        <td id=\"T_4e27f_row30_col1\" class=\"data row30 col1\" >19,439</td>\n",
       "                        <td id=\"T_4e27f_row30_col2\" class=\"data row30 col2\" >0.01%</td>\n",
       "            </tr>\n",
       "            <tr>\n",
       "                        <th id=\"T_4e27f_level0_row31\" class=\"row_heading level0 row31\" >rougher.calculation.floatbank10_sulfate_to_au_feed</th>\n",
       "                        <td id=\"T_4e27f_row31_col0\" class=\"data row31 col0\" >2</td>\n",
       "                        <td id=\"T_4e27f_row31_col1\" class=\"data row31 col1\" >19,439</td>\n",
       "                        <td id=\"T_4e27f_row31_col2\" class=\"data row31 col2\" >0.01%</td>\n",
       "            </tr>\n",
       "            <tr>\n",
       "                        <th id=\"T_4e27f_level0_row32\" class=\"row_heading level0 row32\" >rougher.calculation.floatbank11_sulfate_to_au_feed</th>\n",
       "                        <td id=\"T_4e27f_row32_col0\" class=\"data row32 col0\" >2</td>\n",
       "                        <td id=\"T_4e27f_row32_col1\" class=\"data row32 col1\" >19,439</td>\n",
       "                        <td id=\"T_4e27f_row32_col2\" class=\"data row32 col2\" >0.01%</td>\n",
       "            </tr>\n",
       "            <tr>\n",
       "                        <th id=\"T_4e27f_level0_row33\" class=\"row_heading level0 row33\" >rougher.calculation.sulfate_to_au_concentrate</th>\n",
       "                        <td id=\"T_4e27f_row33_col0\" class=\"data row33 col0\" >2</td>\n",
       "                        <td id=\"T_4e27f_row33_col1\" class=\"data row33 col1\" >19,439</td>\n",
       "                        <td id=\"T_4e27f_row33_col2\" class=\"data row33 col2\" >0.01%</td>\n",
       "            </tr>\n",
       "            <tr>\n",
       "                        <th id=\"T_4e27f_level0_row34\" class=\"row_heading level0 row34\" >primary_cleaner.state.floatbank8_c_air</th>\n",
       "                        <td id=\"T_4e27f_row34_col0\" class=\"data row34 col0\" >2</td>\n",
       "                        <td id=\"T_4e27f_row34_col1\" class=\"data row34 col1\" >19,439</td>\n",
       "                        <td id=\"T_4e27f_row34_col2\" class=\"data row34 col2\" >0.01%</td>\n",
       "            </tr>\n",
       "            <tr>\n",
       "                        <th id=\"T_4e27f_level0_row35\" class=\"row_heading level0 row35\" >secondary_cleaner.state.floatbank6_a_air</th>\n",
       "                        <td id=\"T_4e27f_row35_col0\" class=\"data row35 col0\" >2</td>\n",
       "                        <td id=\"T_4e27f_row35_col1\" class=\"data row35 col1\" >19,439</td>\n",
       "                        <td id=\"T_4e27f_row35_col2\" class=\"data row35 col2\" >0.01%</td>\n",
       "            </tr>\n",
       "            <tr>\n",
       "                        <th id=\"T_4e27f_level0_row36\" class=\"row_heading level0 row36\" >secondary_cleaner.state.floatbank4_b_level</th>\n",
       "                        <td id=\"T_4e27f_row36_col0\" class=\"data row36 col0\" >1</td>\n",
       "                        <td id=\"T_4e27f_row36_col1\" class=\"data row36 col1\" >19,439</td>\n",
       "                        <td id=\"T_4e27f_row36_col2\" class=\"data row36 col2\" >0.01%</td>\n",
       "            </tr>\n",
       "            <tr>\n",
       "                        <th id=\"T_4e27f_level0_row37\" class=\"row_heading level0 row37\" >secondary_cleaner.state.floatbank4_b_air</th>\n",
       "                        <td id=\"T_4e27f_row37_col0\" class=\"data row37 col0\" >1</td>\n",
       "                        <td id=\"T_4e27f_row37_col1\" class=\"data row37 col1\" >19,439</td>\n",
       "                        <td id=\"T_4e27f_row37_col2\" class=\"data row37 col2\" >0.01%</td>\n",
       "            </tr>\n",
       "            <tr>\n",
       "                        <th id=\"T_4e27f_level0_row38\" class=\"row_heading level0 row38\" >secondary_cleaner.state.floatbank4_a_level</th>\n",
       "                        <td id=\"T_4e27f_row38_col0\" class=\"data row38 col0\" >1</td>\n",
       "                        <td id=\"T_4e27f_row38_col1\" class=\"data row38 col1\" >19,439</td>\n",
       "                        <td id=\"T_4e27f_row38_col2\" class=\"data row38 col2\" >0.01%</td>\n",
       "            </tr>\n",
       "            <tr>\n",
       "                        <th id=\"T_4e27f_level0_row39\" class=\"row_heading level0 row39\" >secondary_cleaner.state.floatbank3_b_level</th>\n",
       "                        <td id=\"T_4e27f_row39_col0\" class=\"data row39 col0\" >1</td>\n",
       "                        <td id=\"T_4e27f_row39_col1\" class=\"data row39 col1\" >19,439</td>\n",
       "                        <td id=\"T_4e27f_row39_col2\" class=\"data row39 col2\" >0.01%</td>\n",
       "            </tr>\n",
       "            <tr>\n",
       "                        <th id=\"T_4e27f_level0_row40\" class=\"row_heading level0 row40\" >secondary_cleaner.state.floatbank3_b_air</th>\n",
       "                        <td id=\"T_4e27f_row40_col0\" class=\"data row40 col0\" >1</td>\n",
       "                        <td id=\"T_4e27f_row40_col1\" class=\"data row40 col1\" >19,439</td>\n",
       "                        <td id=\"T_4e27f_row40_col2\" class=\"data row40 col2\" >0.01%</td>\n",
       "            </tr>\n",
       "            <tr>\n",
       "                        <th id=\"T_4e27f_level0_row41\" class=\"row_heading level0 row41\" >secondary_cleaner.state.floatbank3_a_level</th>\n",
       "                        <td id=\"T_4e27f_row41_col0\" class=\"data row41 col0\" >1</td>\n",
       "                        <td id=\"T_4e27f_row41_col1\" class=\"data row41 col1\" >19,439</td>\n",
       "                        <td id=\"T_4e27f_row41_col2\" class=\"data row41 col2\" >0.01%</td>\n",
       "            </tr>\n",
       "            <tr>\n",
       "                        <th id=\"T_4e27f_level0_row42\" class=\"row_heading level0 row42\" >secondary_cleaner.state.floatbank5_a_air</th>\n",
       "                        <td id=\"T_4e27f_row42_col0\" class=\"data row42 col0\" >1</td>\n",
       "                        <td id=\"T_4e27f_row42_col1\" class=\"data row42 col1\" >19,439</td>\n",
       "                        <td id=\"T_4e27f_row42_col2\" class=\"data row42 col2\" >0.01%</td>\n",
       "            </tr>\n",
       "            <tr>\n",
       "                        <th id=\"T_4e27f_level0_row43\" class=\"row_heading level0 row43\" >secondary_cleaner.state.floatbank5_a_level</th>\n",
       "                        <td id=\"T_4e27f_row43_col0\" class=\"data row43 col0\" >1</td>\n",
       "                        <td id=\"T_4e27f_row43_col1\" class=\"data row43 col1\" >19,439</td>\n",
       "                        <td id=\"T_4e27f_row43_col2\" class=\"data row43 col2\" >0.01%</td>\n",
       "            </tr>\n",
       "            <tr>\n",
       "                        <th id=\"T_4e27f_level0_row44\" class=\"row_heading level0 row44\" >secondary_cleaner.state.floatbank5_b_air</th>\n",
       "                        <td id=\"T_4e27f_row44_col0\" class=\"data row44 col0\" >1</td>\n",
       "                        <td id=\"T_4e27f_row44_col1\" class=\"data row44 col1\" >19,439</td>\n",
       "                        <td id=\"T_4e27f_row44_col2\" class=\"data row44 col2\" >0.01%</td>\n",
       "            </tr>\n",
       "            <tr>\n",
       "                        <th id=\"T_4e27f_level0_row45\" class=\"row_heading level0 row45\" >secondary_cleaner.state.floatbank5_b_level</th>\n",
       "                        <td id=\"T_4e27f_row45_col0\" class=\"data row45 col0\" >1</td>\n",
       "                        <td id=\"T_4e27f_row45_col1\" class=\"data row45 col1\" >19,439</td>\n",
       "                        <td id=\"T_4e27f_row45_col2\" class=\"data row45 col2\" >0.01%</td>\n",
       "            </tr>\n",
       "            <tr>\n",
       "                        <th id=\"T_4e27f_level0_row46\" class=\"row_heading level0 row46\" >secondary_cleaner.state.floatbank2_b_level</th>\n",
       "                        <td id=\"T_4e27f_row46_col0\" class=\"data row46 col0\" >1</td>\n",
       "                        <td id=\"T_4e27f_row46_col1\" class=\"data row46 col1\" >19,439</td>\n",
       "                        <td id=\"T_4e27f_row46_col2\" class=\"data row46 col2\" >0.01%</td>\n",
       "            </tr>\n",
       "            <tr>\n",
       "                        <th id=\"T_4e27f_level0_row47\" class=\"row_heading level0 row47\" >final.output.concentrate_ag</th>\n",
       "                        <td id=\"T_4e27f_row47_col0\" class=\"data row47 col0\" >1</td>\n",
       "                        <td id=\"T_4e27f_row47_col1\" class=\"data row47 col1\" >19,439</td>\n",
       "                        <td id=\"T_4e27f_row47_col2\" class=\"data row47 col2\" >0.01%</td>\n",
       "            </tr>\n",
       "            <tr>\n",
       "                        <th id=\"T_4e27f_level0_row48\" class=\"row_heading level0 row48\" >secondary_cleaner.state.floatbank2_a_level</th>\n",
       "                        <td id=\"T_4e27f_row48_col0\" class=\"data row48 col0\" >1</td>\n",
       "                        <td id=\"T_4e27f_row48_col1\" class=\"data row48 col1\" >19,439</td>\n",
       "                        <td id=\"T_4e27f_row48_col2\" class=\"data row48 col2\" >0.01%</td>\n",
       "            </tr>\n",
       "            <tr>\n",
       "                        <th id=\"T_4e27f_level0_row49\" class=\"row_heading level0 row49\" >rougher.state.floatbank10_c_level</th>\n",
       "                        <td id=\"T_4e27f_row49_col0\" class=\"data row49 col0\" >1</td>\n",
       "                        <td id=\"T_4e27f_row49_col1\" class=\"data row49 col1\" >19,439</td>\n",
       "                        <td id=\"T_4e27f_row49_col2\" class=\"data row49 col2\" >0.01%</td>\n",
       "            </tr>\n",
       "            <tr>\n",
       "                        <th id=\"T_4e27f_level0_row50\" class=\"row_heading level0 row50\" >rougher.state.floatbank10_c_air</th>\n",
       "                        <td id=\"T_4e27f_row50_col0\" class=\"data row50 col0\" >1</td>\n",
       "                        <td id=\"T_4e27f_row50_col1\" class=\"data row50 col1\" >19,439</td>\n",
       "                        <td id=\"T_4e27f_row50_col2\" class=\"data row50 col2\" >0.01%</td>\n",
       "            </tr>\n",
       "            <tr>\n",
       "                        <th id=\"T_4e27f_level0_row51\" class=\"row_heading level0 row51\" >rougher.state.floatbank10_b_level</th>\n",
       "                        <td id=\"T_4e27f_row51_col0\" class=\"data row51 col0\" >1</td>\n",
       "                        <td id=\"T_4e27f_row51_col1\" class=\"data row51 col1\" >19,439</td>\n",
       "                        <td id=\"T_4e27f_row51_col2\" class=\"data row51 col2\" >0.01%</td>\n",
       "            </tr>\n",
       "            <tr>\n",
       "                        <th id=\"T_4e27f_level0_row52\" class=\"row_heading level0 row52\" >rougher.state.floatbank10_b_air</th>\n",
       "                        <td id=\"T_4e27f_row52_col0\" class=\"data row52 col0\" >1</td>\n",
       "                        <td id=\"T_4e27f_row52_col1\" class=\"data row52 col1\" >19,439</td>\n",
       "                        <td id=\"T_4e27f_row52_col2\" class=\"data row52 col2\" >0.01%</td>\n",
       "            </tr>\n",
       "            <tr>\n",
       "                        <th id=\"T_4e27f_level0_row53\" class=\"row_heading level0 row53\" >rougher.state.floatbank10_a_level</th>\n",
       "                        <td id=\"T_4e27f_row53_col0\" class=\"data row53 col0\" >1</td>\n",
       "                        <td id=\"T_4e27f_row53_col1\" class=\"data row53 col1\" >19,439</td>\n",
       "                        <td id=\"T_4e27f_row53_col2\" class=\"data row53 col2\" >0.01%</td>\n",
       "            </tr>\n",
       "            <tr>\n",
       "                        <th id=\"T_4e27f_level0_row54\" class=\"row_heading level0 row54\" >rougher.state.floatbank10_a_air</th>\n",
       "                        <td id=\"T_4e27f_row54_col0\" class=\"data row54 col0\" >1</td>\n",
       "                        <td id=\"T_4e27f_row54_col1\" class=\"data row54 col1\" >19,439</td>\n",
       "                        <td id=\"T_4e27f_row54_col2\" class=\"data row54 col2\" >0.01%</td>\n",
       "            </tr>\n",
       "            <tr>\n",
       "                        <th id=\"T_4e27f_level0_row55\" class=\"row_heading level0 row55\" >rougher.output.tail_ag</th>\n",
       "                        <td id=\"T_4e27f_row55_col0\" class=\"data row55 col0\" >1</td>\n",
       "                        <td id=\"T_4e27f_row55_col1\" class=\"data row55 col1\" >19,439</td>\n",
       "                        <td id=\"T_4e27f_row55_col2\" class=\"data row55 col2\" >0.01%</td>\n",
       "            </tr>\n",
       "            <tr>\n",
       "                        <th id=\"T_4e27f_level0_row56\" class=\"row_heading level0 row56\" >final.output.concentrate_pb</th>\n",
       "                        <td id=\"T_4e27f_row56_col0\" class=\"data row56 col0\" >1</td>\n",
       "                        <td id=\"T_4e27f_row56_col1\" class=\"data row56 col1\" >19,439</td>\n",
       "                        <td id=\"T_4e27f_row56_col2\" class=\"data row56 col2\" >0.01%</td>\n",
       "            </tr>\n",
       "            <tr>\n",
       "                        <th id=\"T_4e27f_level0_row57\" class=\"row_heading level0 row57\" >primary_cleaner.state.floatbank8_d_level</th>\n",
       "                        <td id=\"T_4e27f_row57_col0\" class=\"data row57 col0\" >1</td>\n",
       "                        <td id=\"T_4e27f_row57_col1\" class=\"data row57 col1\" >19,439</td>\n",
       "                        <td id=\"T_4e27f_row57_col2\" class=\"data row57 col2\" >0.01%</td>\n",
       "            </tr>\n",
       "            <tr>\n",
       "                        <th id=\"T_4e27f_level0_row58\" class=\"row_heading level0 row58\" >primary_cleaner.state.floatbank8_c_level</th>\n",
       "                        <td id=\"T_4e27f_row58_col0\" class=\"data row58 col0\" >1</td>\n",
       "                        <td id=\"T_4e27f_row58_col1\" class=\"data row58 col1\" >19,439</td>\n",
       "                        <td id=\"T_4e27f_row58_col2\" class=\"data row58 col2\" >0.01%</td>\n",
       "            </tr>\n",
       "            <tr>\n",
       "                        <th id=\"T_4e27f_level0_row59\" class=\"row_heading level0 row59\" >primary_cleaner.state.floatbank8_b_level</th>\n",
       "                        <td id=\"T_4e27f_row59_col0\" class=\"data row59 col0\" >1</td>\n",
       "                        <td id=\"T_4e27f_row59_col1\" class=\"data row59 col1\" >19,439</td>\n",
       "                        <td id=\"T_4e27f_row59_col2\" class=\"data row59 col2\" >0.01%</td>\n",
       "            </tr>\n",
       "            <tr>\n",
       "                        <th id=\"T_4e27f_level0_row60\" class=\"row_heading level0 row60\" >primary_cleaner.state.floatbank8_a_level</th>\n",
       "                        <td id=\"T_4e27f_row60_col0\" class=\"data row60 col0\" >1</td>\n",
       "                        <td id=\"T_4e27f_row60_col1\" class=\"data row60 col1\" >19,439</td>\n",
       "                        <td id=\"T_4e27f_row60_col2\" class=\"data row60 col2\" >0.01%</td>\n",
       "            </tr>\n",
       "            <tr>\n",
       "                        <th id=\"T_4e27f_level0_row61\" class=\"row_heading level0 row61\" >final.output.tail_ag</th>\n",
       "                        <td id=\"T_4e27f_row61_col0\" class=\"data row61 col0\" >1</td>\n",
       "                        <td id=\"T_4e27f_row61_col1\" class=\"data row61 col1\" >19,439</td>\n",
       "                        <td id=\"T_4e27f_row61_col2\" class=\"data row61 col2\" >0.01%</td>\n",
       "            </tr>\n",
       "            <tr>\n",
       "                        <th id=\"T_4e27f_level0_row62\" class=\"row_heading level0 row62\" >secondary_cleaner.state.floatbank6_a_level</th>\n",
       "                        <td id=\"T_4e27f_row62_col0\" class=\"data row62 col0\" >1</td>\n",
       "                        <td id=\"T_4e27f_row62_col1\" class=\"data row62 col1\" >19,439</td>\n",
       "                        <td id=\"T_4e27f_row62_col2\" class=\"data row62 col2\" >0.01%</td>\n",
       "            </tr>\n",
       "    </tbody></table>"
      ],
      "text/plain": [
       "<pandas.io.formats.style.Styler at 0x222c154af10>"
      ]
     },
     "execution_count": 10,
     "metadata": {},
     "output_type": "execute_result"
    }
   ],
   "source": [
    "full.stb.missing(style=True, clip_0=True)"
   ]
  },
  {
   "cell_type": "code",
   "execution_count": 11,
   "metadata": {},
   "outputs": [
    {
     "data": {
      "image/png": "[encoded data removed]",
      "text/plain": [
       "<Figure size 1800x720 with 2 Axes>"
      ]
     },
     "metadata": {
      "needs_background": "light"
     },
     "output_type": "display_data"
    }
   ],
   "source": [
    "msno.matrix(full);"
   ]
  },
  {
   "cell_type": "markdown",
   "metadata": {},
   "source": [
    "Имеется столбец secondary_cleaner.output.tail_sol с 9% пропусков, можно заполнить его средним, но это может (скорее всего) исказить данные для обучения модели. Удалим все пропуски."
   ]
  },
  {
   "cell_type": "code",
   "execution_count": 12,
   "metadata": {},
   "outputs": [],
   "source": [
    "train = train.dropna()\n",
    "test = test.dropna()\n",
    "full = full.dropna()"
   ]
  },
  {
   "cell_type": "markdown",
   "metadata": {},
   "source": [
    "<h4><span style=\"color: red\"><b>П</b></span>оиск дубликатов:</h4>"
   ]
  },
  {
   "cell_type": "code",
   "execution_count": 13,
   "metadata": {},
   "outputs": [
    {
     "data": {
      "text/plain": [
       "0"
      ]
     },
     "execution_count": 13,
     "metadata": {},
     "output_type": "execute_result"
    }
   ],
   "source": [
    "full[full.duplicated()].shape[0]"
   ]
  },
  {
   "cell_type": "markdown",
   "metadata": {},
   "source": [
    "<h4><span style=\"color: red\"><b>П</b></span>роверим, что эффективность обогащения рассчитана правильно: </h4>\n",
    "\n",
    "    1. Вычислим её на обучающей выборке для признака rougher.output.recovery.  \n",
    "    2. Найдём MAE между расчётами и значением признака.\n",
    "    3. Опишите выводы."
   ]
  },
  {
   "cell_type": "markdown",
   "metadata": {},
   "source": [
    "![title](https://i.ibb.co/wLWd26v/Untitled.png)\n",
    "\n",
    "- *C* — доля золота в концентрате после флотации/очистки;\n",
    "- *F* — доля золота в сырье/концентрате до флотации/очистки;\n",
    "- *T* — доля золота в отвальных хвостах после флотации/очистки."
   ]
  },
  {
   "cell_type": "code",
   "execution_count": 14,
   "metadata": {},
   "outputs": [
    {
     "name": "stdout",
     "output_type": "stream",
     "text": [
      "Проверим предсказание эффектимности обогащения (MAE): 9.82970122149377e-15\n"
     ]
    }
   ],
   "source": [
    "C = train['rougher.output.concentrate_au']\n",
    "F = train['rougher.input.feed_au']\n",
    "T = train['rougher.output.tail_au']\n",
    "recovery = train['rougher.output.recovery']\n",
    "\n",
    "new_recovery = (C*(F-T))/(F*(C-T))*100\n",
    "print('Проверим предсказание эффектимности обогащения (MAE):', mean_absolute_error(recovery, new_recovery))"
   ]
  },
  {
   "cell_type": "markdown",
   "metadata": {},
   "source": [
    "Т.к. наше отклонение очень маленькое ($10^{-15}$) ,то мы можем утверждать, что предсказание эффектимности обогащения очень точное. (отклонение могло возникнуть из-за типа из-за дробного типа данных)"
   ]
  },
  {
   "cell_type": "markdown",
   "metadata": {},
   "source": [
    "<h4><span style=\"color: red\"><b>А</b></span>нализ признаков, недоступных в тестовой выборке:</h4>"
   ]
  },
  {
   "cell_type": "markdown",
   "metadata": {},
   "source": [
    "Посмотрим каких параметров нет в тестовой выборке."
   ]
  },
  {
   "cell_type": "code",
   "execution_count": 15,
   "metadata": {
    "scrolled": false
   },
   "outputs": [
    {
     "name": "stdout",
     "output_type": "stream",
     "text": [
      "<class 'pandas.core.frame.DataFrame'>\n",
      "Int64Index: 11017 entries, 0 to 14148\n",
      "Data columns (total 34 columns):\n",
      " #   Column                                              Non-Null Count  Dtype  \n",
      "---  ------                                              --------------  -----  \n",
      " 0   final.output.concentrate_ag                         11017 non-null  float64\n",
      " 1   final.output.concentrate_au                         11017 non-null  float64\n",
      " 2   final.output.concentrate_pb                         11017 non-null  float64\n",
      " 3   final.output.concentrate_sol                        11017 non-null  float64\n",
      " 4   final.output.recovery                               11017 non-null  float64\n",
      " 5   final.output.tail_ag                                11017 non-null  float64\n",
      " 6   final.output.tail_au                                11017 non-null  float64\n",
      " 7   final.output.tail_pb                                11017 non-null  float64\n",
      " 8   final.output.tail_sol                               11017 non-null  float64\n",
      " 9   primary_cleaner.output.concentrate_ag               11017 non-null  float64\n",
      " 10  primary_cleaner.output.concentrate_au               11017 non-null  float64\n",
      " 11  primary_cleaner.output.concentrate_pb               11017 non-null  float64\n",
      " 12  primary_cleaner.output.concentrate_sol              11017 non-null  float64\n",
      " 13  primary_cleaner.output.tail_ag                      11017 non-null  float64\n",
      " 14  primary_cleaner.output.tail_au                      11017 non-null  float64\n",
      " 15  primary_cleaner.output.tail_pb                      11017 non-null  float64\n",
      " 16  primary_cleaner.output.tail_sol                     11017 non-null  float64\n",
      " 17  rougher.calculation.au_pb_ratio                     11017 non-null  float64\n",
      " 18  rougher.calculation.floatbank10_sulfate_to_au_feed  11017 non-null  float64\n",
      " 19  rougher.calculation.floatbank11_sulfate_to_au_feed  11017 non-null  float64\n",
      " 20  rougher.calculation.sulfate_to_au_concentrate       11017 non-null  float64\n",
      " 21  rougher.output.concentrate_ag                       11017 non-null  float64\n",
      " 22  rougher.output.concentrate_au                       11017 non-null  float64\n",
      " 23  rougher.output.concentrate_pb                       11017 non-null  float64\n",
      " 24  rougher.output.concentrate_sol                      11017 non-null  float64\n",
      " 25  rougher.output.recovery                             11017 non-null  float64\n",
      " 26  rougher.output.tail_ag                              11017 non-null  float64\n",
      " 27  rougher.output.tail_au                              11017 non-null  float64\n",
      " 28  rougher.output.tail_pb                              11017 non-null  float64\n",
      " 29  rougher.output.tail_sol                             11017 non-null  float64\n",
      " 30  secondary_cleaner.output.tail_ag                    11017 non-null  float64\n",
      " 31  secondary_cleaner.output.tail_au                    11017 non-null  float64\n",
      " 32  secondary_cleaner.output.tail_pb                    11017 non-null  float64\n",
      " 33  secondary_cleaner.output.tail_sol                   11017 non-null  float64\n",
      "dtypes: float64(34)\n",
      "memory usage: 2.9 MB\n"
     ]
    }
   ],
   "source": [
    "train_without_test_columns = list(set(train.columns.to_list()) - set(test.columns.to_list()))\n",
    "train_without_test_columns.sort()\n",
    "train[train_without_test_columns].info()"
   ]
  },
  {
   "cell_type": "markdown",
   "metadata": {},
   "source": [
    "Уточним предположение, что все столбцы в тестовой выборке относятся к офлайн метрикам."
   ]
  },
  {
   "cell_type": "code",
   "execution_count": 16,
   "metadata": {},
   "outputs": [],
   "source": [
    "for column in test.columns.to_list():\n",
    "    if 'final' in column:\n",
    "        print('final')\n",
    "    elif 'output' in column:\n",
    "        print('output')\n",
    "    elif 'calculation' in column:\n",
    "        print('calculation')"
   ]
  },
  {
   "cell_type": "markdown",
   "metadata": {},
   "source": [
    "<span style=\"color: red\"><b>Вывод:</b></span>  \n",
    "\n",
    "Судя по всему в тестовой выборке нет параметров продуктов и расчетных характеристик. Тип данных float64."
   ]
  },
  {
   "cell_type": "markdown",
   "metadata": {},
   "source": [
    "Добавим в тестовый фрейм целевой признак через фрейм full."
   ]
  },
  {
   "cell_type": "code",
   "execution_count": 17,
   "metadata": {},
   "outputs": [],
   "source": [
    "test = test.merge(full[['date', 'rougher.output.recovery','final.output.recovery']], on='date', how='inner')"
   ]
  },
  {
   "cell_type": "markdown",
   "metadata": {},
   "source": [
    "<h2 style=\"color:crimson\">Анализ данных:</h2>     "
   ]
  },
  {
   "cell_type": "markdown",
   "metadata": {},
   "source": [
    "<h4><span style=\"color: red\"><b>А</b></span>нализ, как меняется концентрация металлов (Au, Ag, Pb) на различных этапах.</h4>"
   ]
  },
  {
   "cell_type": "code",
   "execution_count": 18,
   "metadata": {},
   "outputs": [],
   "source": [
    "def cs_by_time(cs_icon, cs_ru):\n",
    "    plt.figure(figsize=(10, 8))  # Размер графика\n",
    "\n",
    "    columns_time = [\n",
    "        \"rougher.output.concentrate_\" + cs_icon,\n",
    "        \"primary_cleaner.output.concentrate_\" + cs_icon,\n",
    "        \"final.output.concentrate_\" + cs_icon,\n",
    "    ]\n",
    "\n",
    "    ax = sns.boxplot(\n",
    "        data=full[columns_time], orient=\"h\", palette=\"Set2\"\n",
    "    )  # Построение графика\n",
    "    plt.title(\n",
    "        \"Изменение {} ({}) на разных этапах обработки.\".format(cs_icon.upper(), cs_ru),\n",
    "        fontdict={\"size\": 25, \"color\": \"crimson\"},\n",
    "    )  # Заголовок таблицы"
   ]
  },
  {
   "cell_type": "markdown",
   "metadata": {},
   "source": [
    "---"
   ]
  },
  {
   "cell_type": "markdown",
   "metadata": {},
   "source": [
    "#### Содржание золота AU"
   ]
  },
  {
   "cell_type": "code",
   "execution_count": 19,
   "metadata": {},
   "outputs": [
    {
     "data": {
      "image/png": "[encoded data removed]",
      "text/plain": [
       "<Figure size 720x576 with 1 Axes>"
      ]
     },
     "metadata": {
      "needs_background": "light"
     },
     "output_type": "display_data"
    }
   ],
   "source": [
    "cs_by_time('au','золото')"
   ]
  },
  {
   "cell_type": "markdown",
   "metadata": {},
   "source": [
    "<span style=\"color: red\"><b>Вывод:</b></span>  \n",
    "\n",
    "Хоть медианное значение содержание золота увеличивается, но разброс, увеличивается."
   ]
  },
  {
   "cell_type": "markdown",
   "metadata": {},
   "source": [
    "---"
   ]
  },
  {
   "cell_type": "markdown",
   "metadata": {},
   "source": [
    "#### Содержание примесей"
   ]
  },
  {
   "cell_type": "code",
   "execution_count": 20,
   "metadata": {
    "scrolled": false
   },
   "outputs": [
    {
     "data": {
      "image/png": "[encoded data removed]",
      "text/plain": [
       "<Figure size 720x576 with 1 Axes>"
      ]
     },
     "metadata": {
      "needs_background": "light"
     },
     "output_type": "display_data"
    },
    {
     "data": {
      "image/png": "[encoded data removed]",
      "text/plain": [
       "<Figure size 720x576 with 1 Axes>"
      ]
     },
     "metadata": {
      "needs_background": "light"
     },
     "output_type": "display_data"
    }
   ],
   "source": [
    "cs_by_time('ag','cеребро')\n",
    "cs_by_time('pb','свинец')"
   ]
  },
  {
   "cell_type": "markdown",
   "metadata": {},
   "source": [
    "**С каждым этапом обработки:**\n",
    "1. Cодержание серебра значительно уменьшается.  \n",
    "2. Cодержание свинца, увеличивается (что неприятно). "
   ]
  },
  {
   "cell_type": "markdown",
   "metadata": {},
   "source": [
    "<h4><span style=\"color: red\"><b>С</b></span>равните распределения размеров гранул сырья в обучающей и тестовой выборках.\n",
    "</h4>"
   ]
  },
  {
   "cell_type": "code",
   "execution_count": 21,
   "metadata": {},
   "outputs": [
    {
     "data": {
      "text/plain": [
       "<Figure size 432x288 with 0 Axes>"
      ]
     },
     "metadata": {},
     "output_type": "display_data"
    },
    {
     "data": {
      "image/png": "[encoded data removed]",
      "text/plain": [
       "<Figure size 720x576 with 1 Axes>"
      ]
     },
     "metadata": {
      "needs_background": "light"
     },
     "output_type": "display_data"
    }
   ],
   "source": [
    "fig = plt.figure()\n",
    "plt.figure(figsize=(10, 8))  # Размер графика\n",
    "\n",
    "plt.title(\n",
    "    \"Сравнение размеров частиц в тестовой и обучающих выборках\",\n",
    "    fontdict={\"size\": 20, \"color\": \"crimson\"},\n",
    ")  # Заголовок таблицы\n",
    "plt.hist(train[\"rougher.input.feed_size\"], density=True, bins=30)\n",
    "plt.hist(test[\"rougher.input.feed_size\"], density=True, bins=30, alpha=0.5)\n",
    "\n",
    "plt.ylabel(\"Размер частицы\")\n",
    "plt.xlabel(\"Количество частиц\")\n",
    "plt.legend([\"train\", \"test\"])\n",
    "\n",
    "\n",
    "plt.show();"
   ]
  },
  {
   "cell_type": "markdown",
   "metadata": {},
   "source": [
    "<span style=\"color: red\"><b>Вывод:</b></span>  \n",
    "Прекрасное соотношение размеров частиц в тестовой и тренировочной выборке, никаких аномалий."
   ]
  },
  {
   "cell_type": "code",
   "execution_count": 22,
   "metadata": {},
   "outputs": [
    {
     "data": {
      "text/plain": [
       "<Figure size 432x288 with 0 Axes>"
      ]
     },
     "metadata": {},
     "output_type": "display_data"
    },
    {
     "data": {
      "image/png": "[encoded data removed]",
      "text/plain": [
       "<Figure size 720x576 with 1 Axes>"
      ]
     },
     "metadata": {
      "needs_background": "light"
     },
     "output_type": "display_data"
    }
   ],
   "source": [
    "rougher = 0\n",
    "primary_cleaner = 0\n",
    "final = 0\n",
    "\n",
    "for element in [\"au\", \"ag\", \"pb\", \"sol\"]:  # Подсчет суммарной концентрации элементов\n",
    "    columns_time = [\n",
    "        \"rougher.output.concentrate_\" + element,\n",
    "        \"primary_cleaner.output.concentrate_\" + element,\n",
    "        \"final.output.concentrate_\" + element,\n",
    "    ]  # Финальные этапы обработки\n",
    "\n",
    "    rougher += train[columns_time[0]]\n",
    "    primary_cleaner += train[columns_time[1]]\n",
    "    final += train[columns_time[2]]\n",
    "stage = pd.DataFrame([rougher, primary_cleaner, final]).T\n",
    "stage.rename(\n",
    "    columns={\n",
    "        \"rougher.output.concentrate_au\": \"rougher\",\n",
    "        \"primary_cleaner.output.concentrate_au\": \"primary_cleaner\",\n",
    "        \"final.output.concentrate_au\": \"final\",\n",
    "    },\n",
    "    inplace=True,\n",
    ")\n",
    "\n",
    "fig = plt.figure()\n",
    "plt.figure(figsize=(10, 8))  # Размер графика\n",
    "plt.title(\n",
    "    \"Сравнение суммарной концентрации веществ\",\n",
    "    fontdict={\"size\": 20, \"color\": \"crimson\"},\n",
    ")  # Заголовок таблицы\n",
    "plt.hist(stage[\"rougher\"], bins=30)\n",
    "plt.hist(stage[\"primary_cleaner\"], bins=30, alpha=0.5)\n",
    "plt.hist(stage[\"final\"], bins=30, alpha=0.5)\n",
    "\n",
    "plt.legend([\"rougher\", \"primary_cleaner\", \"final\"])\n",
    "plt.show();"
   ]
  },
  {
   "cell_type": "markdown",
   "metadata": {},
   "source": [
    "<span style=\"color: red\"><b>Вывод:</b></span>  \n",
    "На графике мы видим значения суммарной концентрации равные или близкие к нулю при этом их кол-во уменьшается во время обработки, можно предположить, что у нас присутствуют вещества не из нашего списка (золото, свинец, серебро и соли), но которые все же смогли пройти все этапы обработки, что печально."
   ]
  },
  {
   "cell_type": "markdown",
   "metadata": {},
   "source": [
    "**Удалим значения равные нулю в тренировочной выборке:**  \n",
    "Редактировать тестовую выборку считаю не разумным, ведь это эмпирические наблюдения, которые мы модем наблюдать повторно и нам важно знать, как ведет себя модель, даже при выбросах."
   ]
  },
  {
   "cell_type": "code",
   "execution_count": 23,
   "metadata": {},
   "outputs": [],
   "source": [
    "train = train[\n",
    "    train[\"rougher.output.concentrate_au\"]\n",
    "    + train[\"rougher.output.concentrate_ag\"]\n",
    "    + train[\"rougher.output.concentrate_pb\"]\n",
    "    + train[\"rougher.output.concentrate_sol\"]\n",
    "    != 0\n",
    "]\n",
    "\n",
    "train = train[\n",
    "    train[\"primary_cleaner.output.concentrate_au\"]\n",
    "    + train[\"primary_cleaner.output.concentrate_ag\"]\n",
    "    + train[\"primary_cleaner.output.concentrate_pb\"]\n",
    "    + train[\"primary_cleaner.output.concentrate_sol\"]\n",
    "    != 0\n",
    "]\n",
    "\n",
    "train = train[\n",
    "    train[\"final.output.concentrate_au\"]\n",
    "    + train[\"final.output.concentrate_ag\"]\n",
    "    + train[\"final.output.concentrate_pb\"]\n",
    "    + train[\"final.output.concentrate_sol\"]\n",
    "    != 0\n",
    "]"
   ]
  },
  {
   "cell_type": "markdown",
   "metadata": {},
   "source": [
    "<h2 style=\"color:crimson\">Обучение и тест моделей:</h2>"
   ]
  },
  {
   "cell_type": "markdown",
   "metadata": {},
   "source": [
    "<h4><span style=\"color: red\"><b>Ф</b></span>ункция для вычисления итоговой sMAPE.</h4>"
   ]
  },
  {
   "cell_type": "markdown",
   "metadata": {},
   "source": [
    "![](https://ie.wampi.ru/2021/12/27/IZOBRAZENIE_2021-12-27_201435.png)"
   ]
  },
  {
   "cell_type": "code",
   "execution_count": 24,
   "metadata": {},
   "outputs": [],
   "source": [
    "def F_sMAPE(target, predict):\n",
    "    t_r = target[\"rougher.output.recovery\"]\n",
    "    t_f = target[\"final.output.recovery\"]\n",
    "    p_r = predict[:, 0]\n",
    "    p_f = predict[:, 1]\n",
    "\n",
    "    sMAPE_rougher = (\n",
    "        1 / len(t_r) * np.sum(2 * np.abs(p_r - t_r) / (np.abs(t_r) + np.abs(p_r)) * 100)\n",
    "    )\n",
    "    sMAPE_final = (\n",
    "        1 / len(t_f) * np.sum(2 * np.abs(p_f - t_f) / (np.abs(t_f) + np.abs(p_f)) * 100)\n",
    "    )\n",
    "\n",
    "    return 0.25 * sMAPE_rougher + 0.75 * sMAPE_final\n",
    "\n",
    "\n",
    "F_sMAPE_scores = make_scorer(F_sMAPE, greater_is_better=False)"
   ]
  },
  {
   "cell_type": "markdown",
   "metadata": {},
   "source": [
    "<h4><span style=\"color: red\"><b>О</b></span>тделение целевого признака</h4>"
   ]
  },
  {
   "cell_type": "markdown",
   "metadata": {},
   "source": [
    "Так наша задача предсказать значение, кол-ва золота до того, как мы провели обработку, то уберем онлайн метрики из тренировочной выборки, кроме целевых признаков."
   ]
  },
  {
   "cell_type": "code",
   "execution_count": 25,
   "metadata": {},
   "outputs": [],
   "source": [
    "train = train[test.columns]"
   ]
  },
  {
   "cell_type": "code",
   "execution_count": 26,
   "metadata": {},
   "outputs": [],
   "source": [
    "features_train = train[\n",
    "    train.columns.drop([\"date\", \"rougher.output.recovery\", \"final.output.recovery\"])\n",
    "]\n",
    "target_train = train[[\"rougher.output.recovery\", \"final.output.recovery\"]]\n",
    "\n",
    "features_test = test[\n",
    "    train.columns.drop([\"date\", \"rougher.output.recovery\", \"final.output.recovery\"])\n",
    "]\n",
    "target_test = test[[\"rougher.output.recovery\", \"final.output.recovery\"]]"
   ]
  },
  {
   "cell_type": "markdown",
   "metadata": {},
   "source": [
    "<h4><span style=\"color: red\"><b>М</b></span>асштабирование:</h4>"
   ]
  },
  {
   "cell_type": "markdown",
   "metadata": {},
   "source": [
    "Лишним не будет."
   ]
  },
  {
   "cell_type": "code",
   "execution_count": 27,
   "metadata": {},
   "outputs": [],
   "source": [
    "scaler = StandardScaler()\n",
    "scaler.fit(features_train)\n",
    "\n",
    "features_train = pd.DataFrame(\n",
    "    scaler.transform(features_train), columns=features_train.columns\n",
    ")\n",
    "features_test = pd.DataFrame(\n",
    "    scaler.transform(features_test), columns=features_train.columns\n",
    ")"
   ]
  },
  {
   "cell_type": "markdown",
   "metadata": {},
   "source": [
    "<h4><span style=\"color: red\"><b>М</b></span>ожно выбрать одну из моделей, сравним с помощью кросс-валидации:</h4>\n",
    "\n",
    "   1. Линейную регрессию.   \n",
    "   \n",
    "   2. Ridge регрессию.\n",
    "   \n",
    "   3. KernelRidge регрессию.\n",
    "   \n",
    "   4. Константная модель.\n",
    "   \n",
    "   5. ElasticNet модель. "
   ]
  },
  {
   "cell_type": "markdown",
   "metadata": {},
   "source": [
    "<h4><b>| Л</b>инейная регрессия.</h4>"
   ]
  },
  {
   "cell_type": "code",
   "execution_count": 28,
   "metadata": {},
   "outputs": [
    {
     "name": "stdout",
     "output_type": "stream",
     "text": [
      "R2 для LinearRegression = -0.34897556458524537\n",
      "MAE для LinearRegression = -5.4891164703574225\n",
      "F_sMAPE для LinearRegression = 8.303527055527615\n"
     ]
    }
   ],
   "source": [
    "model = LinearRegression()\n",
    "\n",
    "print(\n",
    "    \"R2 для LinearRegression =\",\n",
    "    cross_val_score(model, features_train, target_train, cv=5, scoring=\"r2\").mean(),\n",
    ")\n",
    "print(\n",
    "    \"MAE для LinearRegression =\",\n",
    "    cross_val_score(\n",
    "        model, features_train, target_train, cv=5, scoring=\"neg_mean_absolute_error\"\n",
    "    ).mean(),\n",
    ")\n",
    "print(\n",
    "    \"F_sMAPE для LinearRegression =\",\n",
    "    cross_val_score(\n",
    "        model, features_train, target_train, cv=5, scoring=F_sMAPE_scores\n",
    "    ).mean()\n",
    "    * -1,\n",
    ")"
   ]
  },
  {
   "cell_type": "markdown",
   "metadata": {},
   "source": [
    "<h4><b>| R</b>idge регрессия.</h4>"
   ]
  },
  {
   "cell_type": "markdown",
   "metadata": {},
   "source": [
    "Определить подходящие значения гиперпараметров."
   ]
  },
  {
   "cell_type": "code",
   "execution_count": 29,
   "metadata": {},
   "outputs": [],
   "source": [
    "# model = Ridge(random_state=666)\n",
    "# hyperparams = {'alpha': np.arange(1, 10000, 10), \n",
    "#                'solver':['auto', 'svd','cholesky','lsqr','sparse_cg']}\n",
    "\n",
    "# clf = GridSearchCV(model, hyperparams, scoring=F_sMAPE_scores)\n",
    "# clf.fit(features_train, target_train)\n",
    "# print(\"Лучшие параметры модели: {}\".format(clf.best_params_))"
   ]
  },
  {
   "cell_type": "markdown",
   "metadata": {},
   "source": [
    "Обучим модель и проверим её показатели."
   ]
  },
  {
   "cell_type": "code",
   "execution_count": 30,
   "metadata": {},
   "outputs": [
    {
     "name": "stdout",
     "output_type": "stream",
     "text": [
      "R2 для Ridge  = -0.10315905503421949\n",
      "MAE для Ridge = -5.09614115630754\n",
      "F_sMAPE для Ridge = 7.718377775039978\n"
     ]
    }
   ],
   "source": [
    "model = Ridge(alpha=5359, solver='lsqr', random_state=666)\n",
    "\n",
    "print('R2 для Ridge  =',\n",
    "      cross_val_score(model, features_train, target_train, cv=5, scoring='r2').mean())\n",
    "print('MAE для Ridge =',\n",
    "      cross_val_score(model, features_train, target_train, cv=5, scoring='neg_mean_absolute_error').mean())\n",
    "print('F_sMAPE для Ridge =',\n",
    "      cross_val_score(model, features_train, target_train, cv=5, scoring=F_sMAPE_scores).mean()*-1)"
   ]
  },
  {
   "cell_type": "markdown",
   "metadata": {},
   "source": [
    "<h4><b>| K</b>ernelRidge регрессия.</h4>"
   ]
  },
  {
   "cell_type": "code",
   "execution_count": 31,
   "metadata": {},
   "outputs": [
    {
     "name": "stdout",
     "output_type": "stream",
     "text": [
      "R2 для Ridge  = -11.985470875942775\n",
      "MAE для Ridge = -16.459226311585393\n",
      "F_sMAPE для Ridge = 26.76708221111403\n"
     ]
    }
   ],
   "source": [
    "model = KernelRidge(kernel='rbf')\n",
    "\n",
    "print('R2 для Ridge  =',\n",
    "      cross_val_score(model, features_train, target_train, cv=5, scoring='r2').mean())\n",
    "print('MAE для Ridge =',\n",
    "      cross_val_score(model, features_train, target_train, cv=5, scoring='neg_mean_absolute_error').mean())\n",
    "print('F_sMAPE для Ridge =',\n",
    "      cross_val_score(model, features_train, target_train, cv=5, scoring=F_sMAPE_scores).mean()*-1)"
   ]
  },
  {
   "cell_type": "code",
   "execution_count": 32,
   "metadata": {},
   "outputs": [
    {
     "name": "stdout",
     "output_type": "stream",
     "text": [
      "R2 для Ridge  = -2754.6646113322627\n",
      "MAE для Ridge = -280.4830499784982\n",
      "F_sMAPE для Ridge = 187.32697276130006\n"
     ]
    }
   ],
   "source": [
    "model = KernelRidge(kernel='linear')\n",
    "\n",
    "print('R2 для Ridge  =',\n",
    "      cross_val_score(model, features_train, target_train, cv=5, scoring='r2').mean())\n",
    "print('MAE для Ridge =',\n",
    "      cross_val_score(model, features_train, target_train, cv=5, scoring='neg_mean_absolute_error').mean())\n",
    "print('F_sMAPE для Ridge =',\n",
    "      cross_val_score(model, features_train, target_train, cv=5, scoring=F_sMAPE_scores).mean()*-1)"
   ]
  },
  {
   "cell_type": "markdown",
   "metadata": {},
   "source": [
    "<h4><b>| К</b>онстантная модель</h4>"
   ]
  },
  {
   "cell_type": "code",
   "execution_count": 33,
   "metadata": {},
   "outputs": [
    {
     "name": "stdout",
     "output_type": "stream",
     "text": [
      "F_sMAPE для Ridge = 8.450281825251338\n"
     ]
    }
   ],
   "source": [
    "dummy_regressor_rougher = DummyRegressor(strategy=\"median\")\n",
    "dummy_regressor_rougher.fit(features_train, target_train)\n",
    "dummy_rougher_pred = dummy_regressor_rougher.predict(features_test)\n",
    "smape_dummy_rougher = F_sMAPE(target_test, dummy_rougher_pred)\n",
    "\n",
    "print('F_sMAPE для Ridge =',smape_dummy_rougher) "
   ]
  },
  {
   "cell_type": "markdown",
   "metadata": {},
   "source": [
    "<h4><b>| E</b>lasticNet регрессия.</h4>"
   ]
  },
  {
   "cell_type": "code",
   "execution_count": 34,
   "metadata": {},
   "outputs": [
    {
     "name": "stdout",
     "output_type": "stream",
     "text": [
      "R2 для ElasticNet  = -0.1530294956297141\n",
      "MAE для ElasticNet = -5.172190603475542\n",
      "F_sMAPE для ElasticNet = 7.610362557658971\n"
     ]
    }
   ],
   "source": [
    "model = ElasticNet(random_state=666)\n",
    "\n",
    "print('R2 для ElasticNet  =',\n",
    "      cross_val_score(model, features_train, target_train, cv=5, scoring='r2').mean())\n",
    "print('MAE для ElasticNet =',\n",
    "      cross_val_score(model, features_train, target_train, cv=5, scoring='neg_mean_absolute_error').mean())\n",
    "print('F_sMAPE для ElasticNet =',\n",
    "      cross_val_score(model, features_train, target_train, cv=5, scoring=F_sMAPE_scores).mean()*-1)"
   ]
  },
  {
   "cell_type": "markdown",
   "metadata": {},
   "source": [
    "<h2 style=\"color:crimson\">Лучшая модель:</h2>"
   ]
  },
  {
   "cell_type": "code",
   "execution_count": 35,
   "metadata": {},
   "outputs": [
    {
     "name": "stdout",
     "output_type": "stream",
     "text": [
      "R2 для ElasticNet  = -0.20566518656917668\n",
      "MAE для ElasticNet = -5.654163110344015\n",
      "F_sMAPE для ElasticNet = 8.152231391187945\n"
     ]
    }
   ],
   "source": [
    "model = ElasticNet(random_state=666)\n",
    "\n",
    "\n",
    "print('R2 для ElasticNet  =',\n",
    "      cross_val_score(model, features_test, target_test, cv=5, scoring='r2').mean())\n",
    "print('MAE для ElasticNet =',\n",
    "      cross_val_score(model, features_test, target_test, cv=5, scoring='neg_mean_absolute_error').mean())\n",
    "print('F_sMAPE для ElasticNet =',\n",
    "      cross_val_score(model, features_test, target_test, cv=5, scoring=F_sMAPE_scores).mean()*-1)"
   ]
  },
  {
   "cell_type": "markdown",
   "metadata": {},
   "source": [
    "<h2 style=\"color:crimson\">Выводы:</h2>"
   ]
  },
  {
   "cell_type": "markdown",
   "metadata": {},
   "source": [
    "**Советы:**\n",
    "* Дать более развернутое описание параметров.\n",
    "* Не допускать пропусков в данных\n",
    "* Выдавать полный датасет без двух дополнительных (или объяснять причину)\n",
    "* (Оптимально) Убрать онлайн параметры\n",
    "* (Оптимально) Указать приемлемые диапазоны для параметров.\n",
    "\n",
    "**Лучшая модель Ridge имеет следующие параметры:**\n",
    "* R2 = -0.1618587612483386\n",
    "* MAE = -5.165164435002338\n",
    "* F_sMAPE = 8.565472396070314"
   ]
  }
 ],
 "metadata": {
  "ExecuteTimeLog": [
   {
    "duration": 1813,
    "start_time": "2021-12-22T08:45:42.545Z"
   },
   {
    "duration": 412,
    "start_time": "2021-12-22T08:45:54.134Z"
   },
   {
    "duration": 311,
    "start_time": "2021-12-22T08:45:56.395Z"
   },
   {
    "duration": 63,
    "start_time": "2021-12-22T08:46:00.527Z"
   },
   {
    "duration": 61,
    "start_time": "2021-12-22T08:46:06.258Z"
   },
   {
    "duration": 28,
    "start_time": "2021-12-22T08:46:09.384Z"
   },
   {
    "duration": 27,
    "start_time": "2021-12-22T08:46:26.642Z"
   },
   {
    "duration": 27,
    "start_time": "2021-12-22T08:46:32.202Z"
   },
   {
    "duration": 877,
    "start_time": "2021-12-22T14:17:10.165Z"
   },
   {
    "duration": 4,
    "start_time": "2021-12-22T14:17:13.473Z"
   },
   {
    "duration": 881,
    "start_time": "2021-12-22T14:17:13.966Z"
   },
   {
    "duration": 31,
    "start_time": "2021-12-22T14:17:14.850Z"
   },
   {
    "duration": 30,
    "start_time": "2021-12-22T14:17:54.120Z"
   },
   {
    "duration": 368,
    "start_time": "2021-12-22T14:18:00.290Z"
   },
   {
    "duration": 31,
    "start_time": "2021-12-22T14:18:00.749Z"
   },
   {
    "duration": 30,
    "start_time": "2021-12-22T14:18:10.487Z"
   },
   {
    "duration": 31,
    "start_time": "2021-12-22T14:18:10.583Z"
   },
   {
    "duration": 34,
    "start_time": "2021-12-22T14:18:19.261Z"
   },
   {
    "duration": 316,
    "start_time": "2021-12-22T14:28:27.223Z"
   },
   {
    "duration": 104,
    "start_time": "2021-12-22T14:28:34.762Z"
   },
   {
    "duration": 6,
    "start_time": "2021-12-22T14:28:42.857Z"
   },
   {
    "duration": 5,
    "start_time": "2021-12-22T14:28:55.428Z"
   },
   {
    "duration": 5,
    "start_time": "2021-12-22T14:29:09.370Z"
   },
   {
    "duration": 5,
    "start_time": "2021-12-22T14:35:57.619Z"
   },
   {
    "duration": 6,
    "start_time": "2021-12-22T14:36:06.138Z"
   },
   {
    "duration": 5,
    "start_time": "2021-12-22T14:36:17.934Z"
   },
   {
    "duration": 6,
    "start_time": "2021-12-22T14:37:47.610Z"
   },
   {
    "duration": 5,
    "start_time": "2021-12-22T14:38:09.300Z"
   },
   {
    "duration": 5,
    "start_time": "2021-12-22T14:38:25.332Z"
   },
   {
    "duration": 7,
    "start_time": "2021-12-22T14:38:45.307Z"
   },
   {
    "duration": 7,
    "start_time": "2021-12-22T14:38:49.936Z"
   },
   {
    "duration": 5,
    "start_time": "2021-12-22T14:38:53.591Z"
   },
   {
    "duration": 6,
    "start_time": "2021-12-22T14:39:01.844Z"
   },
   {
    "duration": 329,
    "start_time": "2021-12-22T15:03:38.035Z"
   },
   {
    "duration": 5,
    "start_time": "2021-12-22T15:03:42.621Z"
   },
   {
    "duration": 31,
    "start_time": "2021-12-22T15:04:00.531Z"
   },
   {
    "duration": 32,
    "start_time": "2021-12-22T15:04:03.939Z"
   },
   {
    "duration": 31,
    "start_time": "2021-12-22T15:04:27.895Z"
   },
   {
    "duration": 33,
    "start_time": "2021-12-22T15:04:35.174Z"
   },
   {
    "duration": 5,
    "start_time": "2021-12-22T15:10:05.996Z"
   },
   {
    "duration": 960,
    "start_time": "2021-12-22T15:10:09.701Z"
   },
   {
    "duration": 25,
    "start_time": "2021-12-22T15:15:08.880Z"
   },
   {
    "duration": 328,
    "start_time": "2021-12-22T15:15:35.642Z"
   },
   {
    "duration": 359,
    "start_time": "2021-12-22T15:15:46.110Z"
   },
   {
    "duration": 19,
    "start_time": "2021-12-22T15:16:47.465Z"
   },
   {
    "duration": 359,
    "start_time": "2021-12-22T15:19:24.431Z"
   },
   {
    "duration": 400,
    "start_time": "2021-12-22T15:19:58.858Z"
   },
   {
    "duration": 984,
    "start_time": "2021-12-22T15:20:09.975Z"
   },
   {
    "duration": 340,
    "start_time": "2021-12-22T15:20:29.458Z"
   },
   {
    "duration": 429,
    "start_time": "2021-12-22T15:20:30.065Z"
   },
   {
    "duration": 15216,
    "start_time": "2021-12-22T15:20:48.008Z"
   },
   {
    "duration": 713,
    "start_time": "2021-12-22T15:21:09.338Z"
   },
   {
    "duration": 111,
    "start_time": "2021-12-22T15:21:10.636Z"
   },
   {
    "duration": 2049,
    "start_time": "2021-12-22T15:21:35.580Z"
   },
   {
    "duration": 61,
    "start_time": "2021-12-22T15:21:50.616Z"
   },
   {
    "duration": 6476,
    "start_time": "2021-12-22T15:57:53.419Z"
   },
   {
    "duration": 4,
    "start_time": "2021-12-22T15:57:59.898Z"
   },
   {
    "duration": 399,
    "start_time": "2021-12-22T15:58:43.193Z"
   },
   {
    "duration": 40,
    "start_time": "2021-12-22T15:58:47.973Z"
   },
   {
    "duration": 37,
    "start_time": "2021-12-22T16:01:15.530Z"
   },
   {
    "duration": 122,
    "start_time": "2021-12-22T16:21:21.947Z"
   },
   {
    "duration": 460,
    "start_time": "2021-12-22T16:21:25.374Z"
   },
   {
    "duration": 389,
    "start_time": "2021-12-22T16:21:28.667Z"
   },
   {
    "duration": 357,
    "start_time": "2021-12-22T16:22:23.704Z"
   },
   {
    "duration": 22771,
    "start_time": "2021-12-22T16:22:30.128Z"
   },
   {
    "duration": 2041,
    "start_time": "2021-12-22T16:22:52.903Z"
   },
   {
    "duration": 1227,
    "start_time": "2021-12-22T16:22:54.947Z"
   },
   {
    "duration": 9,
    "start_time": "2021-12-22T16:22:56.178Z"
   },
   {
    "duration": 114,
    "start_time": "2021-12-22T16:22:56.189Z"
   },
   {
    "duration": 35,
    "start_time": "2021-12-22T16:22:56.363Z"
   },
   {
    "duration": 37,
    "start_time": "2021-12-22T16:22:56.460Z"
   },
   {
    "duration": 5310,
    "start_time": "2021-12-22T16:22:56.500Z"
   },
   {
    "duration": 1312,
    "start_time": "2021-12-22T16:23:01.813Z"
   },
   {
    "duration": 4869,
    "start_time": "2021-12-22T16:33:51.605Z"
   },
   {
    "duration": 191,
    "start_time": "2021-12-22T16:33:56.683Z"
   },
   {
    "duration": 375,
    "start_time": "2021-12-22T16:37:21.144Z"
   },
   {
    "duration": 351,
    "start_time": "2021-12-22T16:41:02.459Z"
   },
   {
    "duration": 373,
    "start_time": "2021-12-22T16:41:05.783Z"
   },
   {
    "duration": 4555,
    "start_time": "2021-12-22T16:41:17.891Z"
   },
   {
    "duration": 51,
    "start_time": "2021-12-22T16:41:26.518Z"
   },
   {
    "duration": 24,
    "start_time": "2021-12-22T16:42:35.003Z"
   },
   {
    "duration": 34,
    "start_time": "2021-12-22T16:42:39.077Z"
   },
   {
    "duration": 727,
    "start_time": "2021-12-23T11:13:32.915Z"
   },
   {
    "duration": 690,
    "start_time": "2021-12-23T11:13:39.521Z"
   },
   {
    "duration": 384,
    "start_time": "2021-12-23T11:13:43.755Z"
   },
   {
    "duration": 369,
    "start_time": "2021-12-23T11:13:53.716Z"
   },
   {
    "duration": 328,
    "start_time": "2021-12-23T11:14:24.461Z"
   },
   {
    "duration": 337,
    "start_time": "2021-12-23T11:14:25.847Z"
   },
   {
    "duration": 346,
    "start_time": "2021-12-23T11:14:28.899Z"
   },
   {
    "duration": 330,
    "start_time": "2021-12-23T11:14:32.235Z"
   },
   {
    "duration": 1110,
    "start_time": "2021-12-23T11:14:33.543Z"
   },
   {
    "duration": 16976,
    "start_time": "2021-12-23T11:14:37.096Z"
   },
   {
    "duration": 792,
    "start_time": "2021-12-23T11:14:54.076Z"
   },
   {
    "duration": 963,
    "start_time": "2021-12-23T11:14:54.872Z"
   },
   {
    "duration": 581,
    "start_time": "2021-12-23T11:14:55.838Z"
   },
   {
    "duration": -491,
    "start_time": "2021-12-23T11:14:56.913Z"
   },
   {
    "duration": 8,
    "start_time": "2021-12-23T11:15:02.271Z"
   },
   {
    "duration": 8,
    "start_time": "2021-12-23T11:15:30.858Z"
   },
   {
    "duration": 34,
    "start_time": "2021-12-23T13:16:59.655Z"
   },
   {
    "duration": 31,
    "start_time": "2021-12-23T13:17:02.869Z"
   },
   {
    "duration": 31,
    "start_time": "2021-12-23T13:17:05.517Z"
   },
   {
    "duration": 4,
    "start_time": "2021-12-23T13:41:41.131Z"
   },
   {
    "duration": 186,
    "start_time": "2021-12-23T14:10:30.508Z"
   },
   {
    "duration": 11130,
    "start_time": "2021-12-23T14:26:36.874Z"
   },
   {
    "duration": 4,
    "start_time": "2021-12-23T14:28:02.921Z"
   },
   {
    "duration": 20,
    "start_time": "2021-12-23T14:33:28.965Z"
   },
   {
    "duration": 323,
    "start_time": "2021-12-23T14:33:31.634Z"
   },
   {
    "duration": 324,
    "start_time": "2021-12-23T14:33:34.863Z"
   },
   {
    "duration": 7,
    "start_time": "2021-12-23T14:33:38.360Z"
   },
   {
    "duration": 9,
    "start_time": "2021-12-23T14:33:47.437Z"
   },
   {
    "duration": 7813,
    "start_time": "2021-12-23T14:47:29.520Z"
   },
   {
    "duration": 4,
    "start_time": "2021-12-23T14:51:46.579Z"
   },
   {
    "duration": 12,
    "start_time": "2021-12-23T14:54:24.063Z"
   },
   {
    "duration": 7,
    "start_time": "2021-12-23T14:54:38.400Z"
   },
   {
    "duration": 9,
    "start_time": "2021-12-23T14:55:07.239Z"
   },
   {
    "duration": 9,
    "start_time": "2021-12-23T14:56:27.038Z"
   },
   {
    "duration": 9,
    "start_time": "2021-12-23T14:56:32.697Z"
   },
   {
    "duration": 6,
    "start_time": "2021-12-23T14:58:10.354Z"
   },
   {
    "duration": 6,
    "start_time": "2021-12-23T14:59:52.177Z"
   },
   {
    "duration": 399,
    "start_time": "2021-12-23T15:21:14.185Z"
   },
   {
    "duration": 40,
    "start_time": "2021-12-23T15:21:22.046Z"
   },
   {
    "duration": 8,
    "start_time": "2021-12-23T15:21:26.770Z"
   },
   {
    "duration": 9,
    "start_time": "2021-12-23T15:21:28.059Z"
   },
   {
    "duration": 7,
    "start_time": "2021-12-23T15:21:43.282Z"
   },
   {
    "duration": 7,
    "start_time": "2021-12-23T15:21:47.622Z"
   },
   {
    "duration": 9,
    "start_time": "2021-12-23T15:27:36.186Z"
   },
   {
    "duration": 9,
    "start_time": "2021-12-23T15:30:29.919Z"
   },
   {
    "duration": 9,
    "start_time": "2021-12-23T15:30:36.711Z"
   },
   {
    "duration": 10,
    "start_time": "2021-12-23T15:52:55.950Z"
   },
   {
    "duration": 12,
    "start_time": "2021-12-23T15:53:00.543Z"
   },
   {
    "duration": 10,
    "start_time": "2021-12-23T15:55:31.216Z"
   },
   {
    "duration": 12,
    "start_time": "2021-12-23T15:59:55.833Z"
   },
   {
    "duration": 10,
    "start_time": "2021-12-23T16:03:29.245Z"
   },
   {
    "duration": 12,
    "start_time": "2021-12-23T16:03:53.202Z"
   },
   {
    "duration": 17,
    "start_time": "2021-12-23T16:03:57.601Z"
   },
   {
    "duration": 11,
    "start_time": "2021-12-23T16:05:00.146Z"
   },
   {
    "duration": 489,
    "start_time": "2021-12-23T16:06:36.264Z"
   },
   {
    "duration": 385,
    "start_time": "2021-12-23T16:06:43.878Z"
   },
   {
    "duration": 400,
    "start_time": "2021-12-23T16:08:11.210Z"
   },
   {
    "duration": 5,
    "start_time": "2021-12-23T16:09:17.527Z"
   },
   {
    "duration": 17,
    "start_time": "2021-12-23T16:09:35.149Z"
   },
   {
    "duration": 16,
    "start_time": "2021-12-23T16:09:39.539Z"
   },
   {
    "duration": 19,
    "start_time": "2021-12-23T16:12:18.629Z"
   },
   {
    "duration": 16,
    "start_time": "2021-12-23T16:12:25.662Z"
   },
   {
    "duration": 11,
    "start_time": "2021-12-23T16:20:33.431Z"
   },
   {
    "duration": 12,
    "start_time": "2021-12-23T16:22:16.942Z"
   },
   {
    "duration": 15,
    "start_time": "2021-12-23T16:24:16.841Z"
   },
   {
    "duration": 15,
    "start_time": "2021-12-23T16:24:22.550Z"
   },
   {
    "duration": 408,
    "start_time": "2021-12-23T16:24:57.039Z"
   },
   {
    "duration": 453,
    "start_time": "2021-12-23T16:25:13.380Z"
   },
   {
    "duration": 384,
    "start_time": "2021-12-23T16:25:16.638Z"
   },
   {
    "duration": 11,
    "start_time": "2021-12-23T16:25:35.580Z"
   },
   {
    "duration": 12,
    "start_time": "2021-12-23T16:25:46.283Z"
   },
   {
    "duration": 58,
    "start_time": "2021-12-23T16:38:01.334Z"
   },
   {
    "duration": 373,
    "start_time": "2021-12-23T16:38:24.058Z"
   },
   {
    "duration": 352,
    "start_time": "2021-12-23T16:38:27.200Z"
   },
   {
    "duration": 6,
    "start_time": "2021-12-23T16:38:56.674Z"
   },
   {
    "duration": 7,
    "start_time": "2021-12-23T16:39:04.821Z"
   },
   {
    "duration": 392,
    "start_time": "2021-12-23T16:39:34.187Z"
   },
   {
    "duration": 7,
    "start_time": "2021-12-23T16:41:54.011Z"
   },
   {
    "duration": 4,
    "start_time": "2021-12-23T16:47:28.204Z"
   },
   {
    "duration": 5,
    "start_time": "2021-12-23T16:47:46.348Z"
   },
   {
    "duration": 7,
    "start_time": "2021-12-23T16:47:52.736Z"
   },
   {
    "duration": 4,
    "start_time": "2021-12-23T16:48:20.537Z"
   },
   {
    "duration": 4,
    "start_time": "2021-12-23T16:48:29.236Z"
   },
   {
    "duration": 4,
    "start_time": "2021-12-23T16:48:39.483Z"
   },
   {
    "duration": 7,
    "start_time": "2021-12-23T16:48:52.901Z"
   },
   {
    "duration": 9,
    "start_time": "2021-12-23T17:04:59.246Z"
   },
   {
    "duration": 41,
    "start_time": "2021-12-23T17:09:33.919Z"
   },
   {
    "duration": 16,
    "start_time": "2021-12-23T17:10:27.916Z"
   },
   {
    "duration": 26,
    "start_time": "2021-12-23T17:10:33.092Z"
   },
   {
    "duration": 26,
    "start_time": "2021-12-23T17:10:37.254Z"
   },
   {
    "duration": 403,
    "start_time": "2021-12-23T17:11:04.340Z"
   },
   {
    "duration": 19,
    "start_time": "2021-12-23T17:11:08.876Z"
   },
   {
    "duration": 20,
    "start_time": "2021-12-23T17:11:25.206Z"
   },
   {
    "duration": 17,
    "start_time": "2021-12-23T17:11:31.198Z"
   },
   {
    "duration": 16,
    "start_time": "2021-12-23T17:11:34.119Z"
   },
   {
    "duration": 355,
    "start_time": "2021-12-23T17:13:55.457Z"
   },
   {
    "duration": 18,
    "start_time": "2021-12-23T17:14:02.016Z"
   },
   {
    "duration": 7,
    "start_time": "2021-12-23T17:14:03.178Z"
   },
   {
    "duration": 8,
    "start_time": "2021-12-23T17:14:21.305Z"
   },
   {
    "duration": 109,
    "start_time": "2021-12-23T17:22:45.230Z"
   },
   {
    "duration": 9,
    "start_time": "2021-12-23T17:22:47.827Z"
   },
   {
    "duration": 15,
    "start_time": "2021-12-23T17:25:56.088Z"
   },
   {
    "duration": 5,
    "start_time": "2021-12-23T17:26:18.546Z"
   },
   {
    "duration": 4,
    "start_time": "2021-12-23T17:27:11.828Z"
   },
   {
    "duration": 4,
    "start_time": "2021-12-23T17:28:06.072Z"
   },
   {
    "duration": 4,
    "start_time": "2021-12-23T17:28:19.382Z"
   },
   {
    "duration": 4,
    "start_time": "2021-12-23T17:44:16.287Z"
   },
   {
    "duration": 6,
    "start_time": "2021-12-23T18:00:15.972Z"
   },
   {
    "duration": 8,
    "start_time": "2021-12-23T18:01:18.739Z"
   },
   {
    "duration": 5,
    "start_time": "2021-12-23T18:01:30.510Z"
   },
   {
    "duration": 9,
    "start_time": "2021-12-23T18:02:40.066Z"
   },
   {
    "duration": 336,
    "start_time": "2021-12-23T18:03:28.581Z"
   },
   {
    "duration": 6,
    "start_time": "2021-12-23T18:05:34.049Z"
   },
   {
    "duration": 7,
    "start_time": "2021-12-23T18:05:41.572Z"
   },
   {
    "duration": 7,
    "start_time": "2021-12-23T18:05:45.891Z"
   },
   {
    "duration": 16,
    "start_time": "2021-12-23T18:13:47.562Z"
   },
   {
    "duration": 111,
    "start_time": "2021-12-23T18:15:27.055Z"
   },
   {
    "duration": 4,
    "start_time": "2021-12-23T18:15:39.212Z"
   },
   {
    "duration": 12,
    "start_time": "2021-12-23T18:19:06.304Z"
   },
   {
    "duration": 17,
    "start_time": "2021-12-23T18:19:12.186Z"
   },
   {
    "duration": 6,
    "start_time": "2021-12-23T18:19:12.669Z"
   },
   {
    "duration": 7855,
    "start_time": "2021-12-23T18:41:13.915Z"
   },
   {
    "duration": 1947,
    "start_time": "2021-12-23T18:41:21.773Z"
   },
   {
    "duration": 1145,
    "start_time": "2021-12-23T18:41:23.724Z"
   },
   {
    "duration": 9,
    "start_time": "2021-12-23T18:41:24.873Z"
   },
   {
    "duration": 53,
    "start_time": "2021-12-23T18:41:24.885Z"
   },
   {
    "duration": 71,
    "start_time": "2021-12-23T18:41:24.941Z"
   },
   {
    "duration": 59,
    "start_time": "2021-12-23T18:41:25.015Z"
   },
   {
    "duration": 1056,
    "start_time": "2021-12-23T18:41:25.077Z"
   },
   {
    "duration": 1395,
    "start_time": "2021-12-23T18:41:26.137Z"
   },
   {
    "duration": 208,
    "start_time": "2021-12-23T18:41:27.536Z"
   },
   {
    "duration": 629,
    "start_time": "2021-12-23T18:41:27.747Z"
   },
   {
    "duration": -334,
    "start_time": "2021-12-23T18:41:28.713Z"
   },
   {
    "duration": -335,
    "start_time": "2021-12-23T18:41:28.715Z"
   },
   {
    "duration": 72,
    "start_time": "2021-12-23T18:42:04.665Z"
   },
   {
    "duration": 10,
    "start_time": "2021-12-23T18:42:09.945Z"
   },
   {
    "duration": 21,
    "start_time": "2021-12-23T18:42:11.325Z"
   },
   {
    "duration": 4,
    "start_time": "2021-12-23T18:42:11.995Z"
   },
   {
    "duration": 36,
    "start_time": "2021-12-23T19:06:04.891Z"
   },
   {
    "duration": 28,
    "start_time": "2021-12-23T19:06:17.359Z"
   },
   {
    "duration": 111,
    "start_time": "2021-12-23T19:06:26.415Z"
   },
   {
    "duration": 34,
    "start_time": "2021-12-23T19:07:15.113Z"
   },
   {
    "duration": 18,
    "start_time": "2021-12-23T19:07:24.507Z"
   },
   {
    "duration": 37,
    "start_time": "2021-12-23T19:07:33.440Z"
   },
   {
    "duration": 16,
    "start_time": "2021-12-23T19:08:48.001Z"
   },
   {
    "duration": 39,
    "start_time": "2021-12-23T19:09:43.528Z"
   },
   {
    "duration": 1223,
    "start_time": "2021-12-23T19:18:40.543Z"
   },
   {
    "duration": 9,
    "start_time": "2021-12-23T19:44:55.692Z"
   },
   {
    "duration": 158,
    "start_time": "2021-12-23T20:16:01.499Z"
   },
   {
    "duration": 327,
    "start_time": "2021-12-23T20:16:11.078Z"
   },
   {
    "duration": 200,
    "start_time": "2021-12-23T20:17:09.813Z"
   },
   {
    "duration": 285,
    "start_time": "2021-12-23T20:18:59.979Z"
   },
   {
    "duration": 640,
    "start_time": "2021-12-23T20:19:20.901Z"
   },
   {
    "duration": 598,
    "start_time": "2021-12-23T20:19:28.404Z"
   },
   {
    "duration": 582,
    "start_time": "2021-12-23T20:20:27.466Z"
   },
   {
    "duration": 623,
    "start_time": "2021-12-23T20:24:44.430Z"
   },
   {
    "duration": 322,
    "start_time": "2021-12-23T20:24:49.867Z"
   },
   {
    "duration": 283,
    "start_time": "2021-12-23T20:24:54.136Z"
   },
   {
    "duration": 296,
    "start_time": "2021-12-23T20:25:01.139Z"
   },
   {
    "duration": 653,
    "start_time": "2021-12-23T20:26:32.719Z"
   },
   {
    "duration": 592,
    "start_time": "2021-12-23T20:26:38.029Z"
   },
   {
    "duration": 972,
    "start_time": "2021-12-23T20:26:49.159Z"
   },
   {
    "duration": 299,
    "start_time": "2021-12-23T20:27:57.073Z"
   },
   {
    "duration": 415,
    "start_time": "2021-12-23T20:28:35.728Z"
   },
   {
    "duration": 713,
    "start_time": "2021-12-23T20:28:42.911Z"
   },
   {
    "duration": 398,
    "start_time": "2021-12-23T20:28:51.532Z"
   },
   {
    "duration": 399,
    "start_time": "2021-12-23T20:28:55.451Z"
   },
   {
    "duration": 396,
    "start_time": "2021-12-23T20:31:15.974Z"
   },
   {
    "duration": 455,
    "start_time": "2021-12-23T20:31:23.020Z"
   },
   {
    "duration": 860,
    "start_time": "2021-12-23T20:31:30.266Z"
   },
   {
    "duration": 519,
    "start_time": "2021-12-23T20:31:35.932Z"
   },
   {
    "duration": 561,
    "start_time": "2021-12-23T20:35:11.472Z"
   },
   {
    "duration": 280,
    "start_time": "2021-12-23T20:36:53.888Z"
   },
   {
    "duration": 455,
    "start_time": "2021-12-23T20:41:53.301Z"
   },
   {
    "duration": 380,
    "start_time": "2021-12-23T20:42:18.130Z"
   },
   {
    "duration": 6,
    "start_time": "2021-12-23T20:42:46.068Z"
   },
   {
    "duration": 8,
    "start_time": "2021-12-23T20:42:46.382Z"
   },
   {
    "duration": 8,
    "start_time": "2021-12-23T20:42:49.305Z"
   },
   {
    "duration": 160,
    "start_time": "2021-12-23T20:42:52.771Z"
   },
   {
    "duration": 7,
    "start_time": "2021-12-23T20:43:54.766Z"
   },
   {
    "duration": 290,
    "start_time": "2021-12-23T20:44:01.238Z"
   },
   {
    "duration": 8,
    "start_time": "2021-12-23T20:44:15.902Z"
   },
   {
    "duration": 10,
    "start_time": "2021-12-23T20:44:20.674Z"
   },
   {
    "duration": 284,
    "start_time": "2021-12-23T20:44:25.747Z"
   },
   {
    "duration": 385,
    "start_time": "2021-12-23T20:44:32.540Z"
   },
   {
    "duration": 4,
    "start_time": "2021-12-23T20:44:58.183Z"
   },
   {
    "duration": 328,
    "start_time": "2021-12-23T20:50:51.610Z"
   },
   {
    "duration": 5,
    "start_time": "2021-12-23T20:50:54.959Z"
   },
   {
    "duration": 392,
    "start_time": "2021-12-23T20:50:55.177Z"
   },
   {
    "duration": 5,
    "start_time": "2021-12-23T20:51:44.415Z"
   },
   {
    "duration": 5,
    "start_time": "2021-12-23T20:53:19.126Z"
   },
   {
    "duration": 416,
    "start_time": "2021-12-23T20:53:19.521Z"
   },
   {
    "duration": 6,
    "start_time": "2021-12-23T20:53:27.951Z"
   },
   {
    "duration": 606,
    "start_time": "2021-12-23T20:53:28.366Z"
   },
   {
    "duration": 5,
    "start_time": "2021-12-23T20:53:52.222Z"
   },
   {
    "duration": 488,
    "start_time": "2021-12-23T20:53:56.749Z"
   },
   {
    "duration": 5,
    "start_time": "2021-12-23T20:56:22.074Z"
   },
   {
    "duration": 430,
    "start_time": "2021-12-23T20:56:22.647Z"
   },
   {
    "duration": 8,
    "start_time": "2021-12-23T20:56:30.387Z"
   },
   {
    "duration": 403,
    "start_time": "2021-12-23T20:56:33.807Z"
   },
   {
    "duration": 6,
    "start_time": "2021-12-23T20:58:15.193Z"
   },
   {
    "duration": 437,
    "start_time": "2021-12-23T20:58:16.389Z"
   },
   {
    "duration": 6,
    "start_time": "2021-12-23T20:59:11.776Z"
   },
   {
    "duration": 424,
    "start_time": "2021-12-23T20:59:12.019Z"
   },
   {
    "duration": 1784,
    "start_time": "2021-12-23T21:02:57.675Z"
   },
   {
    "duration": 6,
    "start_time": "2021-12-23T21:07:27.530Z"
   },
   {
    "duration": 1635,
    "start_time": "2021-12-23T21:07:27.754Z"
   },
   {
    "duration": 6,
    "start_time": "2021-12-23T21:07:33.323Z"
   },
   {
    "duration": 1643,
    "start_time": "2021-12-23T21:07:33.578Z"
   },
   {
    "duration": 5,
    "start_time": "2021-12-23T21:08:34.926Z"
   },
   {
    "duration": 318,
    "start_time": "2021-12-23T21:09:26.531Z"
   },
   {
    "duration": 8,
    "start_time": "2021-12-23T21:10:11.116Z"
   },
   {
    "duration": 1993,
    "start_time": "2021-12-23T21:10:13.974Z"
   },
   {
    "duration": 604,
    "start_time": "2021-12-23T21:17:59.792Z"
   },
   {
    "duration": 1853,
    "start_time": "2021-12-23T21:23:09.011Z"
   },
   {
    "duration": 407,
    "start_time": "2021-12-23T21:40:59.612Z"
   },
   {
    "duration": 432,
    "start_time": "2021-12-23T21:44:06.328Z"
   },
   {
    "duration": 1231,
    "start_time": "2021-12-23T21:47:27.231Z"
   },
   {
    "duration": 5154,
    "start_time": "2021-12-23T22:21:59.378Z"
   },
   {
    "duration": 5917,
    "start_time": "2021-12-23T22:22:30.654Z"
   },
   {
    "duration": 289,
    "start_time": "2021-12-23T22:22:42.788Z"
   },
   {
    "duration": 282,
    "start_time": "2021-12-23T22:22:58.220Z"
   },
   {
    "duration": 318,
    "start_time": "2021-12-23T22:23:31.180Z"
   },
   {
    "duration": 412,
    "start_time": "2021-12-23T22:23:40.417Z"
   },
   {
    "duration": 526,
    "start_time": "2021-12-23T22:25:20.408Z"
   },
   {
    "duration": 625,
    "start_time": "2021-12-23T22:25:38.210Z"
   },
   {
    "duration": 567,
    "start_time": "2021-12-23T22:25:43.554Z"
   },
   {
    "duration": 570,
    "start_time": "2021-12-23T22:25:46.948Z"
   },
   {
    "duration": 631,
    "start_time": "2021-12-23T22:25:51.058Z"
   },
   {
    "duration": 1000,
    "start_time": "2021-12-23T22:26:31.902Z"
   },
   {
    "duration": 1261,
    "start_time": "2021-12-23T22:26:50.917Z"
   },
   {
    "duration": 930,
    "start_time": "2021-12-23T22:26:56.996Z"
   },
   {
    "duration": 1843,
    "start_time": "2021-12-23T22:29:11.646Z"
   },
   {
    "duration": 907,
    "start_time": "2021-12-23T22:29:32.417Z"
   },
   {
    "duration": 1306,
    "start_time": "2021-12-23T22:29:48.950Z"
   },
   {
    "duration": 935,
    "start_time": "2021-12-23T22:30:07.459Z"
   },
   {
    "duration": 1072,
    "start_time": "2021-12-23T22:30:21.096Z"
   },
   {
    "duration": 1185,
    "start_time": "2021-12-23T22:31:43.045Z"
   },
   {
    "duration": 1114,
    "start_time": "2021-12-23T22:31:54.354Z"
   },
   {
    "duration": 1162,
    "start_time": "2021-12-23T22:32:45.076Z"
   },
   {
    "duration": 1318,
    "start_time": "2021-12-23T22:32:53.895Z"
   },
   {
    "duration": 1250,
    "start_time": "2021-12-23T22:36:07.475Z"
   },
   {
    "duration": 1306,
    "start_time": "2021-12-23T22:36:14.371Z"
   },
   {
    "duration": 346,
    "start_time": "2021-12-23T22:38:23.774Z"
   },
   {
    "duration": 431,
    "start_time": "2021-12-23T22:38:40.050Z"
   },
   {
    "duration": 651,
    "start_time": "2021-12-23T22:38:54.541Z"
   },
   {
    "duration": 499,
    "start_time": "2021-12-23T22:41:51.275Z"
   },
   {
    "duration": 491,
    "start_time": "2021-12-23T22:43:15.491Z"
   },
   {
    "duration": 500,
    "start_time": "2021-12-23T22:43:26.265Z"
   },
   {
    "duration": 474,
    "start_time": "2021-12-23T22:43:33.871Z"
   },
   {
    "duration": 470,
    "start_time": "2021-12-23T22:43:36.501Z"
   },
   {
    "duration": 626,
    "start_time": "2021-12-23T22:43:39.033Z"
   },
   {
    "duration": 597,
    "start_time": "2021-12-23T22:43:52.395Z"
   },
   {
    "duration": 590,
    "start_time": "2021-12-23T22:44:23.369Z"
   },
   {
    "duration": 566,
    "start_time": "2021-12-23T22:45:08.334Z"
   },
   {
    "duration": 588,
    "start_time": "2021-12-23T22:45:18.310Z"
   },
   {
    "duration": 590,
    "start_time": "2021-12-23T22:45:25.035Z"
   },
   {
    "duration": 599,
    "start_time": "2021-12-23T22:45:28.912Z"
   },
   {
    "duration": 701,
    "start_time": "2021-12-23T22:45:31.661Z"
   },
   {
    "duration": 1034,
    "start_time": "2021-12-23T22:46:01.254Z"
   },
   {
    "duration": 804,
    "start_time": "2021-12-23T22:46:25.269Z"
   },
   {
    "duration": 730,
    "start_time": "2021-12-23T22:47:43.111Z"
   },
   {
    "duration": 695,
    "start_time": "2021-12-23T22:54:31.080Z"
   },
   {
    "duration": 601,
    "start_time": "2021-12-23T22:54:41.675Z"
   },
   {
    "duration": 614,
    "start_time": "2021-12-23T23:04:20.520Z"
   },
   {
    "duration": 614,
    "start_time": "2021-12-23T23:05:18.055Z"
   },
   {
    "duration": 603,
    "start_time": "2021-12-23T23:05:26.887Z"
   },
   {
    "duration": 1024,
    "start_time": "2021-12-23T23:16:07.180Z"
   },
   {
    "duration": 338,
    "start_time": "2021-12-23T23:20:52.083Z"
   },
   {
    "duration": 334,
    "start_time": "2021-12-23T23:24:07.825Z"
   },
   {
    "duration": 346,
    "start_time": "2021-12-23T23:24:18.691Z"
   },
   {
    "duration": 252,
    "start_time": "2021-12-24T09:32:09.827Z"
   },
   {
    "duration": 3,
    "start_time": "2021-12-24T09:32:22.586Z"
   },
   {
    "duration": 11032,
    "start_time": "2021-12-24T09:32:29.761Z"
   },
   {
    "duration": 1153,
    "start_time": "2021-12-24T09:32:40.796Z"
   },
   {
    "duration": 676,
    "start_time": "2021-12-24T09:32:41.951Z"
   },
   {
    "duration": 4,
    "start_time": "2021-12-24T09:32:42.629Z"
   },
   {
    "duration": 32,
    "start_time": "2021-12-24T09:32:42.635Z"
   },
   {
    "duration": 20,
    "start_time": "2021-12-24T09:32:42.669Z"
   },
   {
    "duration": 19,
    "start_time": "2021-12-24T09:32:42.691Z"
   },
   {
    "duration": 461,
    "start_time": "2021-12-24T09:32:42.713Z"
   },
   {
    "duration": 12,
    "start_time": "2021-12-24T09:32:43.175Z"
   },
   {
    "duration": 21,
    "start_time": "2021-12-24T09:32:43.189Z"
   },
   {
    "duration": 943,
    "start_time": "2021-12-24T09:32:43.212Z"
   },
   {
    "duration": 26,
    "start_time": "2021-12-24T09:32:44.160Z"
   },
   {
    "duration": 167,
    "start_time": "2021-12-24T09:32:44.188Z"
   },
   {
    "duration": 6,
    "start_time": "2021-12-24T09:32:44.357Z"
   },
   {
    "duration": 16,
    "start_time": "2021-12-24T09:32:44.364Z"
   },
   {
    "duration": 7,
    "start_time": "2021-12-24T09:32:44.381Z"
   },
   {
    "duration": 23,
    "start_time": "2021-12-24T09:32:44.390Z"
   },
   {
    "duration": 263,
    "start_time": "2021-12-24T09:32:44.414Z"
   },
   {
    "duration": 505,
    "start_time": "2021-12-24T09:32:44.679Z"
   },
   {
    "duration": 384,
    "start_time": "2021-12-24T09:32:45.186Z"
   },
   {
    "duration": 77,
    "start_time": "2021-12-24T09:32:45.572Z"
   },
   {
    "duration": 6,
    "start_time": "2021-12-24T09:34:24.652Z"
   },
   {
    "duration": 6,
    "start_time": "2021-12-24T09:34:33.363Z"
   },
   {
    "duration": 576,
    "start_time": "2021-12-24T09:44:30.057Z"
   },
   {
    "duration": 223,
    "start_time": "2021-12-24T09:45:59.965Z"
   },
   {
    "duration": 346,
    "start_time": "2021-12-24T09:47:55.861Z"
   },
   {
    "duration": 358,
    "start_time": "2021-12-24T09:48:24.982Z"
   },
   {
    "duration": 642,
    "start_time": "2021-12-24T09:48:58.220Z"
   },
   {
    "duration": 558,
    "start_time": "2021-12-24T09:49:06.683Z"
   },
   {
    "duration": 370,
    "start_time": "2021-12-24T09:53:54.738Z"
   },
   {
    "duration": 623,
    "start_time": "2021-12-24T09:55:43.187Z"
   },
   {
    "duration": 217,
    "start_time": "2021-12-24T09:59:52.604Z"
   },
   {
    "duration": 890,
    "start_time": "2021-12-24T10:00:20.968Z"
   },
   {
    "duration": 223,
    "start_time": "2021-12-24T10:00:40.416Z"
   },
   {
    "duration": 782,
    "start_time": "2021-12-24T10:00:48.518Z"
   },
   {
    "duration": 793,
    "start_time": "2021-12-24T10:01:36.308Z"
   },
   {
    "duration": 665,
    "start_time": "2021-12-24T10:02:56.357Z"
   },
   {
    "duration": 756,
    "start_time": "2021-12-24T10:15:30.774Z"
   },
   {
    "duration": 425,
    "start_time": "2021-12-24T10:19:00.808Z"
   },
   {
    "duration": 406,
    "start_time": "2021-12-24T10:19:09.862Z"
   },
   {
    "duration": 403,
    "start_time": "2021-12-24T10:19:13.133Z"
   },
   {
    "duration": 428,
    "start_time": "2021-12-24T10:20:17.932Z"
   },
   {
    "duration": 651,
    "start_time": "2021-12-24T10:22:11.390Z"
   },
   {
    "duration": 653,
    "start_time": "2021-12-24T10:22:34.552Z"
   },
   {
    "duration": 4118,
    "start_time": "2021-12-24T10:24:57.423Z"
   },
   {
    "duration": 204,
    "start_time": "2021-12-24T10:25:20.795Z"
   },
   {
    "duration": 458,
    "start_time": "2021-12-24T10:25:47.674Z"
   },
   {
    "duration": 195676,
    "start_time": "2021-12-24T10:26:11.545Z"
   },
   {
    "duration": -56,
    "start_time": "2021-12-24T10:29:27.281Z"
   },
   {
    "duration": -58,
    "start_time": "2021-12-24T10:29:27.284Z"
   },
   {
    "duration": -60,
    "start_time": "2021-12-24T10:29:27.287Z"
   },
   {
    "duration": -62,
    "start_time": "2021-12-24T10:29:27.290Z"
   },
   {
    "duration": -63,
    "start_time": "2021-12-24T10:29:27.292Z"
   },
   {
    "duration": -64,
    "start_time": "2021-12-24T10:29:27.294Z"
   },
   {
    "duration": -66,
    "start_time": "2021-12-24T10:29:27.297Z"
   },
   {
    "duration": -67,
    "start_time": "2021-12-24T10:29:27.299Z"
   },
   {
    "duration": -68,
    "start_time": "2021-12-24T10:29:27.301Z"
   },
   {
    "duration": -71,
    "start_time": "2021-12-24T10:29:27.304Z"
   },
   {
    "duration": -72,
    "start_time": "2021-12-24T10:29:27.306Z"
   },
   {
    "duration": -74,
    "start_time": "2021-12-24T10:29:27.309Z"
   },
   {
    "duration": -75,
    "start_time": "2021-12-24T10:29:27.311Z"
   },
   {
    "duration": -76,
    "start_time": "2021-12-24T10:29:27.313Z"
   },
   {
    "duration": -78,
    "start_time": "2021-12-24T10:29:27.316Z"
   },
   {
    "duration": -79,
    "start_time": "2021-12-24T10:29:27.318Z"
   },
   {
    "duration": -81,
    "start_time": "2021-12-24T10:29:27.321Z"
   },
   {
    "duration": -82,
    "start_time": "2021-12-24T10:29:27.323Z"
   },
   {
    "duration": -84,
    "start_time": "2021-12-24T10:29:27.325Z"
   },
   {
    "duration": -86,
    "start_time": "2021-12-24T10:29:27.328Z"
   },
   {
    "duration": 4295,
    "start_time": "2021-12-24T10:29:42.570Z"
   },
   {
    "duration": 1171,
    "start_time": "2021-12-24T10:29:46.867Z"
   },
   {
    "duration": 721,
    "start_time": "2021-12-24T10:29:48.041Z"
   },
   {
    "duration": 5,
    "start_time": "2021-12-24T10:29:48.764Z"
   },
   {
    "duration": 23,
    "start_time": "2021-12-24T10:29:48.771Z"
   },
   {
    "duration": 19,
    "start_time": "2021-12-24T10:29:48.796Z"
   },
   {
    "duration": 18,
    "start_time": "2021-12-24T10:29:48.817Z"
   },
   {
    "duration": 448,
    "start_time": "2021-12-24T10:29:48.861Z"
   },
   {
    "duration": 11,
    "start_time": "2021-12-24T10:29:49.311Z"
   },
   {
    "duration": 19,
    "start_time": "2021-12-24T10:29:49.324Z"
   },
   {
    "duration": 844,
    "start_time": "2021-12-24T10:29:49.361Z"
   },
   {
    "duration": 26,
    "start_time": "2021-12-24T10:29:50.206Z"
   },
   {
    "duration": 196,
    "start_time": "2021-12-24T10:29:50.234Z"
   },
   {
    "duration": 9,
    "start_time": "2021-12-24T10:29:50.432Z"
   },
   {
    "duration": 105,
    "start_time": "2021-12-24T10:29:50.443Z"
   },
   {
    "duration": 99,
    "start_time": "2021-12-24T10:29:50.551Z"
   },
   {
    "duration": 12,
    "start_time": "2021-12-24T10:29:50.651Z"
   },
   {
    "duration": 358,
    "start_time": "2021-12-24T10:29:50.666Z"
   },
   {
    "duration": 512,
    "start_time": "2021-12-24T10:29:51.027Z"
   },
   {
    "duration": 399,
    "start_time": "2021-12-24T10:29:51.541Z"
   },
   {
    "duration": -47,
    "start_time": "2021-12-24T10:30:45.323Z"
   },
   {
    "duration": 97,
    "start_time": "2021-12-24T10:30:57.704Z"
   },
   {
    "duration": 304,
    "start_time": "2021-12-24T10:31:05.242Z"
   },
   {
    "duration": 329,
    "start_time": "2021-12-24T10:32:35.098Z"
   },
   {
    "duration": 231,
    "start_time": "2021-12-24T10:34:36.146Z"
   },
   {
    "duration": 226,
    "start_time": "2021-12-24T10:35:08.493Z"
   },
   {
    "duration": 231,
    "start_time": "2021-12-24T10:35:22.498Z"
   },
   {
    "duration": 201,
    "start_time": "2021-12-24T10:35:28.936Z"
   },
   {
    "duration": 205,
    "start_time": "2021-12-24T10:35:34.927Z"
   },
   {
    "duration": 6,
    "start_time": "2021-12-24T10:35:47.161Z"
   },
   {
    "duration": 6,
    "start_time": "2021-12-24T10:35:56.345Z"
   },
   {
    "duration": 8,
    "start_time": "2021-12-24T10:36:12.106Z"
   },
   {
    "duration": 6,
    "start_time": "2021-12-24T10:36:19.067Z"
   },
   {
    "duration": 7,
    "start_time": "2021-12-24T10:36:23.099Z"
   },
   {
    "duration": 6,
    "start_time": "2021-12-24T10:36:30.908Z"
   },
   {
    "duration": 6,
    "start_time": "2021-12-24T10:36:38.452Z"
   },
   {
    "duration": 6,
    "start_time": "2021-12-24T10:36:44.366Z"
   },
   {
    "duration": 6,
    "start_time": "2021-12-24T10:36:51.134Z"
   },
   {
    "duration": 345,
    "start_time": "2021-12-24T10:44:52.805Z"
   },
   {
    "duration": 251,
    "start_time": "2021-12-24T10:45:15.723Z"
   },
   {
    "duration": 327,
    "start_time": "2021-12-24T10:45:33.353Z"
   },
   {
    "duration": 244,
    "start_time": "2021-12-24T10:45:40.398Z"
   },
   {
    "duration": 331,
    "start_time": "2021-12-24T10:45:48.330Z"
   },
   {
    "duration": 274,
    "start_time": "2021-12-24T10:46:39.781Z"
   },
   {
    "duration": 4,
    "start_time": "2021-12-24T10:46:44.387Z"
   },
   {
    "duration": 242,
    "start_time": "2021-12-24T10:47:02.871Z"
   },
   {
    "duration": 258,
    "start_time": "2021-12-24T10:49:20.872Z"
   },
   {
    "duration": 250,
    "start_time": "2021-12-24T10:49:48.257Z"
   },
   {
    "duration": 212,
    "start_time": "2021-12-24T10:56:20.382Z"
   },
   {
    "duration": 304,
    "start_time": "2021-12-24T10:56:26.022Z"
   },
   {
    "duration": 340,
    "start_time": "2021-12-24T10:59:05.242Z"
   },
   {
    "duration": 1066,
    "start_time": "2021-12-24T10:59:45.312Z"
   },
   {
    "duration": 598,
    "start_time": "2021-12-24T11:00:45.850Z"
   },
   {
    "duration": -2,
    "start_time": "2021-12-24T11:02:27.868Z"
   },
   {
    "duration": 6750,
    "start_time": "2021-12-24T11:02:30.261Z"
   },
   {
    "duration": 4,
    "start_time": "2021-12-24T11:17:19.753Z"
   },
   {
    "duration": 18824,
    "start_time": "2021-12-24T11:17:36.694Z"
   },
   {
    "duration": 349,
    "start_time": "2021-12-24T11:18:38.473Z"
   },
   {
    "duration": 473,
    "start_time": "2021-12-24T11:19:10.746Z"
   },
   {
    "duration": 517,
    "start_time": "2021-12-24T11:52:02.346Z"
   },
   {
    "duration": 510,
    "start_time": "2021-12-24T11:52:27.309Z"
   },
   {
    "duration": 98,
    "start_time": "2021-12-24T11:55:12.525Z"
   },
   {
    "duration": 526,
    "start_time": "2021-12-24T11:55:17.048Z"
   },
   {
    "duration": 512,
    "start_time": "2021-12-24T11:55:30.511Z"
   },
   {
    "duration": 418,
    "start_time": "2021-12-24T12:00:33.356Z"
   },
   {
    "duration": 531,
    "start_time": "2021-12-24T12:00:37.299Z"
   },
   {
    "duration": 38,
    "start_time": "2021-12-24T13:32:52.149Z"
   },
   {
    "duration": 1256,
    "start_time": "2021-12-24T13:59:35.654Z"
   },
   {
    "duration": 863,
    "start_time": "2021-12-24T14:00:23.574Z"
   },
   {
    "duration": 136,
    "start_time": "2021-12-24T14:03:34.368Z"
   },
   {
    "duration": 496,
    "start_time": "2021-12-24T14:03:56.163Z"
   },
   {
    "duration": 159,
    "start_time": "2021-12-24T14:04:07.067Z"
   },
   {
    "duration": 652,
    "start_time": "2021-12-24T14:08:57.783Z"
   },
   {
    "duration": 69,
    "start_time": "2021-12-24T14:25:52.886Z"
   },
   {
    "duration": 877,
    "start_time": "2021-12-24T14:26:36.677Z"
   },
   {
    "duration": 10,
    "start_time": "2021-12-24T14:27:01.127Z"
   },
   {
    "duration": 151,
    "start_time": "2021-12-24T15:00:35.364Z"
   },
   {
    "duration": 170,
    "start_time": "2021-12-24T15:00:43.605Z"
   },
   {
    "duration": 146,
    "start_time": "2021-12-24T15:01:03.029Z"
   },
   {
    "duration": 194,
    "start_time": "2021-12-24T15:01:09.631Z"
   },
   {
    "duration": 4554,
    "start_time": "2021-12-24T15:03:20.886Z"
   },
   {
    "duration": 3,
    "start_time": "2021-12-24T15:03:25.443Z"
   },
   {
    "duration": 754,
    "start_time": "2021-12-24T15:03:25.448Z"
   },
   {
    "duration": 4,
    "start_time": "2021-12-24T15:03:26.204Z"
   },
   {
    "duration": 22,
    "start_time": "2021-12-24T15:03:26.209Z"
   },
   {
    "duration": 39,
    "start_time": "2021-12-24T15:03:26.232Z"
   },
   {
    "duration": 22,
    "start_time": "2021-12-24T15:03:26.273Z"
   },
   {
    "duration": 21,
    "start_time": "2021-12-24T15:03:26.296Z"
   },
   {
    "duration": 42,
    "start_time": "2021-12-24T15:03:26.320Z"
   },
   {
    "duration": 23,
    "start_time": "2021-12-24T15:03:26.363Z"
   },
   {
    "duration": 876,
    "start_time": "2021-12-24T15:03:26.388Z"
   },
   {
    "duration": 30,
    "start_time": "2021-12-24T15:03:27.266Z"
   },
   {
    "duration": 109,
    "start_time": "2021-12-24T15:03:27.298Z"
   },
   {
    "duration": 6,
    "start_time": "2021-12-24T15:03:27.409Z"
   },
   {
    "duration": 18,
    "start_time": "2021-12-24T15:03:27.417Z"
   },
   {
    "duration": 6,
    "start_time": "2021-12-24T15:03:27.437Z"
   },
   {
    "duration": 23,
    "start_time": "2021-12-24T15:03:27.445Z"
   },
   {
    "duration": 267,
    "start_time": "2021-12-24T15:03:27.470Z"
   },
   {
    "duration": 513,
    "start_time": "2021-12-24T15:03:27.739Z"
   },
   {
    "duration": 396,
    "start_time": "2021-12-24T15:03:28.255Z"
   },
   {
    "duration": 882,
    "start_time": "2021-12-24T15:03:28.653Z"
   },
   {
    "duration": 139,
    "start_time": "2021-12-24T15:03:42.837Z"
   },
   {
    "duration": 136,
    "start_time": "2021-12-24T15:03:48.753Z"
   },
   {
    "duration": 141,
    "start_time": "2021-12-24T15:03:54.713Z"
   },
   {
    "duration": 320,
    "start_time": "2021-12-24T15:07:17.894Z"
   },
   {
    "duration": 11,
    "start_time": "2021-12-24T15:08:07.845Z"
   },
   {
    "duration": 18,
    "start_time": "2021-12-24T15:10:31.860Z"
   },
   {
    "duration": 15,
    "start_time": "2021-12-24T15:12:11.046Z"
   },
   {
    "duration": 266,
    "start_time": "2021-12-24T16:45:57.218Z"
   },
   {
    "duration": 10552,
    "start_time": "2021-12-24T16:46:02.922Z"
   },
   {
    "duration": 1235,
    "start_time": "2021-12-24T16:46:13.476Z"
   },
   {
    "duration": 759,
    "start_time": "2021-12-24T16:46:14.714Z"
   },
   {
    "duration": 5,
    "start_time": "2021-12-24T16:46:15.475Z"
   },
   {
    "duration": 26,
    "start_time": "2021-12-24T16:46:15.482Z"
   },
   {
    "duration": 20,
    "start_time": "2021-12-24T16:46:15.509Z"
   },
   {
    "duration": 48,
    "start_time": "2021-12-24T16:46:15.531Z"
   },
   {
    "duration": 436,
    "start_time": "2021-12-24T16:46:15.581Z"
   },
   {
    "duration": 13,
    "start_time": "2021-12-24T16:46:16.020Z"
   },
   {
    "duration": 37,
    "start_time": "2021-12-24T16:46:16.035Z"
   },
   {
    "duration": 842,
    "start_time": "2021-12-24T16:46:16.074Z"
   },
   {
    "duration": 27,
    "start_time": "2021-12-24T16:46:16.917Z"
   },
   {
    "duration": 174,
    "start_time": "2021-12-24T16:46:16.946Z"
   },
   {
    "duration": 6,
    "start_time": "2021-12-24T16:46:17.122Z"
   },
   {
    "duration": 15,
    "start_time": "2021-12-24T16:46:17.130Z"
   },
   {
    "duration": 4,
    "start_time": "2021-12-24T16:46:17.159Z"
   },
   {
    "duration": 5,
    "start_time": "2021-12-24T16:46:17.165Z"
   },
   {
    "duration": 272,
    "start_time": "2021-12-24T16:46:17.172Z"
   },
   {
    "duration": 515,
    "start_time": "2021-12-24T16:46:17.445Z"
   },
   {
    "duration": 374,
    "start_time": "2021-12-24T16:46:17.962Z"
   },
   {
    "duration": 518,
    "start_time": "2021-12-24T16:46:18.337Z"
   },
   {
    "duration": 82,
    "start_time": "2021-12-24T16:46:18.856Z"
   },
   {
    "duration": 292,
    "start_time": "2021-12-24T16:46:23.454Z"
   },
   {
    "duration": 241,
    "start_time": "2021-12-24T16:46:50.958Z"
   },
   {
    "duration": 15,
    "start_time": "2021-12-24T16:47:05.405Z"
   },
   {
    "duration": 79,
    "start_time": "2021-12-24T16:48:58.938Z"
   },
   {
    "duration": 5,
    "start_time": "2021-12-24T16:49:03.339Z"
   },
   {
    "duration": 2991,
    "start_time": "2021-12-24T16:50:26.294Z"
   },
   {
    "duration": 2400,
    "start_time": "2021-12-24T16:53:20.329Z"
   },
   {
    "duration": 2726,
    "start_time": "2021-12-24T16:58:10.586Z"
   },
   {
    "duration": 64,
    "start_time": "2021-12-24T16:58:18.443Z"
   },
   {
    "duration": 2393,
    "start_time": "2021-12-24T16:58:21.384Z"
   },
   {
    "duration": 2429,
    "start_time": "2021-12-24T16:59:08.941Z"
   },
   {
    "duration": 10,
    "start_time": "2021-12-24T17:00:01.019Z"
   },
   {
    "duration": 433,
    "start_time": "2021-12-24T17:00:05.411Z"
   },
   {
    "duration": 4733,
    "start_time": "2021-12-24T17:00:14.536Z"
   },
   {
    "duration": 4,
    "start_time": "2021-12-24T17:00:19.271Z"
   },
   {
    "duration": 762,
    "start_time": "2021-12-24T17:00:19.277Z"
   },
   {
    "duration": 6,
    "start_time": "2021-12-24T17:00:20.041Z"
   },
   {
    "duration": 51,
    "start_time": "2021-12-24T17:00:20.048Z"
   },
   {
    "duration": 20,
    "start_time": "2021-12-24T17:00:20.101Z"
   },
   {
    "duration": 25,
    "start_time": "2021-12-24T17:00:20.122Z"
   },
   {
    "duration": 134,
    "start_time": "2021-12-24T17:00:20.149Z"
   },
   {
    "duration": 13,
    "start_time": "2021-12-24T17:00:20.286Z"
   },
   {
    "duration": 30,
    "start_time": "2021-12-24T17:00:20.301Z"
   },
   {
    "duration": 904,
    "start_time": "2021-12-24T17:00:20.333Z"
   },
   {
    "duration": 28,
    "start_time": "2021-12-24T17:00:21.239Z"
   },
   {
    "duration": 92,
    "start_time": "2021-12-24T17:00:21.269Z"
   },
   {
    "duration": 7,
    "start_time": "2021-12-24T17:00:21.363Z"
   },
   {
    "duration": 42,
    "start_time": "2021-12-24T17:00:21.371Z"
   },
   {
    "duration": 4,
    "start_time": "2021-12-24T17:00:21.414Z"
   },
   {
    "duration": 14,
    "start_time": "2021-12-24T17:00:21.419Z"
   },
   {
    "duration": 275,
    "start_time": "2021-12-24T17:00:21.435Z"
   },
   {
    "duration": 555,
    "start_time": "2021-12-24T17:00:21.712Z"
   },
   {
    "duration": 446,
    "start_time": "2021-12-24T17:00:22.270Z"
   },
   {
    "duration": 524,
    "start_time": "2021-12-24T17:00:22.718Z"
   },
   {
    "duration": 629,
    "start_time": "2021-12-24T17:00:34.452Z"
   },
   {
    "duration": 524,
    "start_time": "2021-12-24T17:00:38.954Z"
   },
   {
    "duration": 15,
    "start_time": "2021-12-24T17:00:48.556Z"
   },
   {
    "duration": 616,
    "start_time": "2021-12-24T17:00:51.809Z"
   },
   {
    "duration": 65,
    "start_time": "2021-12-24T17:01:39.489Z"
   },
   {
    "duration": 6,
    "start_time": "2021-12-24T17:01:43.833Z"
   },
   {
    "duration": 31,
    "start_time": "2021-12-24T17:01:53.073Z"
   },
   {
    "duration": 7,
    "start_time": "2021-12-24T17:06:07.087Z"
   },
   {
    "duration": 15,
    "start_time": "2021-12-24T17:06:50.472Z"
   },
   {
    "duration": 515,
    "start_time": "2021-12-24T17:06:54.440Z"
   },
   {
    "duration": 18,
    "start_time": "2021-12-24T17:09:48.027Z"
   },
   {
    "duration": 535,
    "start_time": "2021-12-24T17:10:02.536Z"
   },
   {
    "duration": 10,
    "start_time": "2021-12-24T17:10:48.209Z"
   },
   {
    "duration": 5,
    "start_time": "2021-12-24T17:21:18.658Z"
   },
   {
    "duration": 6,
    "start_time": "2021-12-24T17:21:23.122Z"
   },
   {
    "duration": 62,
    "start_time": "2021-12-24T17:21:25.620Z"
   },
   {
    "duration": 5,
    "start_time": "2021-12-24T17:21:31.685Z"
   },
   {
    "duration": 4,
    "start_time": "2021-12-24T17:23:46.334Z"
   },
   {
    "duration": 5,
    "start_time": "2021-12-24T17:23:51.121Z"
   },
   {
    "duration": 5,
    "start_time": "2021-12-24T17:23:57.141Z"
   },
   {
    "duration": 4,
    "start_time": "2021-12-24T17:24:04.117Z"
   },
   {
    "duration": 5,
    "start_time": "2021-12-24T17:24:11.561Z"
   },
   {
    "duration": 5,
    "start_time": "2021-12-24T17:24:26.761Z"
   },
   {
    "duration": 722,
    "start_time": "2021-12-24T17:25:16.869Z"
   },
   {
    "duration": 5,
    "start_time": "2021-12-24T17:25:20.159Z"
   },
   {
    "duration": 173,
    "start_time": "2021-12-27T13:35:39.639Z"
   },
   {
    "duration": 141868,
    "start_time": "2021-12-27T13:36:59.871Z"
   },
   {
    "duration": 729,
    "start_time": "2021-12-27T13:39:21.741Z"
   },
   {
    "duration": 1326,
    "start_time": "2021-12-27T13:39:21.148Z"
   },
   {
    "duration": 1325,
    "start_time": "2021-12-27T13:39:21.150Z"
   },
   {
    "duration": 1323,
    "start_time": "2021-12-27T13:39:21.153Z"
   },
   {
    "duration": 1322,
    "start_time": "2021-12-27T13:39:21.155Z"
   },
   {
    "duration": 1320,
    "start_time": "2021-12-27T13:39:21.157Z"
   },
   {
    "duration": 1319,
    "start_time": "2021-12-27T13:39:21.159Z"
   },
   {
    "duration": 1319,
    "start_time": "2021-12-27T13:39:21.161Z"
   },
   {
    "duration": 1317,
    "start_time": "2021-12-27T13:39:21.164Z"
   },
   {
    "duration": 1315,
    "start_time": "2021-12-27T13:39:21.166Z"
   },
   {
    "duration": 1314,
    "start_time": "2021-12-27T13:39:21.168Z"
   },
   {
    "duration": 1313,
    "start_time": "2021-12-27T13:39:21.170Z"
   },
   {
    "duration": 1311,
    "start_time": "2021-12-27T13:39:21.173Z"
   },
   {
    "duration": 1310,
    "start_time": "2021-12-27T13:39:21.175Z"
   },
   {
    "duration": 1309,
    "start_time": "2021-12-27T13:39:21.178Z"
   },
   {
    "duration": 1309,
    "start_time": "2021-12-27T13:39:21.179Z"
   },
   {
    "duration": 1307,
    "start_time": "2021-12-27T13:39:21.182Z"
   },
   {
    "duration": 1306,
    "start_time": "2021-12-27T13:39:21.184Z"
   },
   {
    "duration": 1305,
    "start_time": "2021-12-27T13:39:21.186Z"
   },
   {
    "duration": 1304,
    "start_time": "2021-12-27T13:39:21.188Z"
   },
   {
    "duration": 1303,
    "start_time": "2021-12-27T13:39:21.190Z"
   },
   {
    "duration": 1302,
    "start_time": "2021-12-27T13:39:21.192Z"
   },
   {
    "duration": 7016,
    "start_time": "2021-12-27T13:40:00.174Z"
   },
   {
    "duration": 28678,
    "start_time": "2021-12-27T13:40:12.201Z"
   },
   {
    "duration": 593,
    "start_time": "2021-12-27T13:42:11.896Z"
   },
   {
    "duration": 9204,
    "start_time": "2021-12-27T13:42:25.928Z"
   },
   {
    "duration": 3957,
    "start_time": "2021-12-27T13:42:37.227Z"
   },
   {
    "duration": 3789,
    "start_time": "2021-12-27T13:45:21.286Z"
   },
   {
    "duration": 3766,
    "start_time": "2021-12-27T13:45:41.391Z"
   },
   {
    "duration": 1206,
    "start_time": "2021-12-27T13:45:45.159Z"
   },
   {
    "duration": 747,
    "start_time": "2021-12-27T13:45:46.367Z"
   },
   {
    "duration": 3,
    "start_time": "2021-12-27T13:45:47.116Z"
   },
   {
    "duration": 36,
    "start_time": "2021-12-27T13:45:47.121Z"
   },
   {
    "duration": 26,
    "start_time": "2021-12-27T13:45:47.159Z"
   },
   {
    "duration": 34,
    "start_time": "2021-12-27T13:45:47.187Z"
   },
   {
    "duration": 262,
    "start_time": "2021-12-27T13:45:47.223Z"
   },
   {
    "duration": 11,
    "start_time": "2021-12-27T13:45:47.487Z"
   },
   {
    "duration": 20,
    "start_time": "2021-12-27T13:45:47.500Z"
   },
   {
    "duration": 837,
    "start_time": "2021-12-27T13:45:47.522Z"
   },
   {
    "duration": 35,
    "start_time": "2021-12-27T13:45:48.360Z"
   },
   {
    "duration": 156,
    "start_time": "2021-12-27T13:45:48.396Z"
   },
   {
    "duration": 7,
    "start_time": "2021-12-27T13:45:48.554Z"
   },
   {
    "duration": 28,
    "start_time": "2021-12-27T13:45:48.563Z"
   },
   {
    "duration": 9,
    "start_time": "2021-12-27T13:45:48.593Z"
   },
   {
    "duration": 20,
    "start_time": "2021-12-27T13:45:48.603Z"
   },
   {
    "duration": 295,
    "start_time": "2021-12-27T13:45:48.625Z"
   },
   {
    "duration": 553,
    "start_time": "2021-12-27T13:45:48.922Z"
   },
   {
    "duration": 424,
    "start_time": "2021-12-27T13:45:49.477Z"
   },
   {
    "duration": 240,
    "start_time": "2021-12-27T13:45:49.903Z"
   },
   {
    "duration": 1333,
    "start_time": "2021-12-27T13:45:48.812Z"
   },
   {
    "duration": 1330,
    "start_time": "2021-12-27T13:45:48.816Z"
   },
   {
    "duration": 544,
    "start_time": "2021-12-27T13:46:17.226Z"
   },
   {
    "duration": 148,
    "start_time": "2021-12-27T13:49:52.709Z"
   },
   {
    "duration": 9,
    "start_time": "2021-12-27T13:50:16.741Z"
   },
   {
    "duration": 16,
    "start_time": "2021-12-27T13:50:56.692Z"
   },
   {
    "duration": 48,
    "start_time": "2021-12-27T14:41:36.274Z"
   },
   {
    "duration": 155,
    "start_time": "2021-12-27T16:12:22.219Z"
   },
   {
    "duration": 3,
    "start_time": "2021-12-27T16:12:51.660Z"
   },
   {
    "duration": 220,
    "start_time": "2021-12-27T16:12:58.094Z"
   },
   {
    "duration": 142,
    "start_time": "2021-12-27T16:13:19.402Z"
   },
   {
    "duration": 12,
    "start_time": "2021-12-27T16:13:40.539Z"
   },
   {
    "duration": 145,
    "start_time": "2021-12-27T16:14:26.608Z"
   },
   {
    "duration": 145,
    "start_time": "2021-12-27T16:14:33.801Z"
   },
   {
    "duration": 168,
    "start_time": "2021-12-27T16:14:56.165Z"
   },
   {
    "duration": 146,
    "start_time": "2021-12-27T16:14:58.746Z"
   },
   {
    "duration": 216,
    "start_time": "2021-12-27T16:16:29.964Z"
   },
   {
    "duration": 26,
    "start_time": "2021-12-27T16:16:58.387Z"
   },
   {
    "duration": 132,
    "start_time": "2021-12-27T16:17:06.967Z"
   },
   {
    "duration": 5,
    "start_time": "2021-12-27T16:17:11.409Z"
   },
   {
    "duration": 324,
    "start_time": "2021-12-27T16:17:22.505Z"
   },
   {
    "duration": 167,
    "start_time": "2021-12-27T16:17:46.089Z"
   },
   {
    "duration": 216,
    "start_time": "2021-12-27T16:18:46.132Z"
   },
   {
    "duration": 5,
    "start_time": "2021-12-27T16:20:57.271Z"
   },
   {
    "duration": 6,
    "start_time": "2021-12-27T16:21:08.098Z"
   },
   {
    "duration": 157,
    "start_time": "2021-12-27T16:21:17.863Z"
   },
   {
    "duration": 187,
    "start_time": "2021-12-27T16:21:27.427Z"
   },
   {
    "duration": 47,
    "start_time": "2021-12-27T16:22:29.056Z"
   },
   {
    "duration": 48,
    "start_time": "2021-12-27T16:26:56.095Z"
   },
   {
    "duration": 47,
    "start_time": "2021-12-27T16:26:58.539Z"
   },
   {
    "duration": 45,
    "start_time": "2021-12-27T16:27:08.741Z"
   },
   {
    "duration": 47,
    "start_time": "2021-12-27T16:27:10.819Z"
   },
   {
    "duration": 58,
    "start_time": "2021-12-27T16:27:30.606Z"
   },
   {
    "duration": 47,
    "start_time": "2021-12-27T16:27:33.887Z"
   },
   {
    "duration": 48,
    "start_time": "2021-12-27T16:27:49.312Z"
   },
   {
    "duration": 46,
    "start_time": "2021-12-27T16:27:56.467Z"
   },
   {
    "duration": 140,
    "start_time": "2021-12-27T16:27:59.741Z"
   },
   {
    "duration": 162,
    "start_time": "2021-12-27T16:28:01.816Z"
   },
   {
    "duration": 45,
    "start_time": "2021-12-27T16:28:11.179Z"
   },
   {
    "duration": 48,
    "start_time": "2021-12-27T16:28:21.847Z"
   },
   {
    "duration": 47,
    "start_time": "2021-12-27T16:28:32.283Z"
   },
   {
    "duration": 170,
    "start_time": "2021-12-27T16:28:54.401Z"
   },
   {
    "duration": 54,
    "start_time": "2021-12-27T16:29:03.097Z"
   },
   {
    "duration": 47,
    "start_time": "2021-12-27T16:29:07.409Z"
   },
   {
    "duration": 46,
    "start_time": "2021-12-27T16:30:19.645Z"
   },
   {
    "duration": 48,
    "start_time": "2021-12-27T16:30:28.643Z"
   },
   {
    "duration": 25,
    "start_time": "2021-12-27T16:30:43.271Z"
   },
   {
    "duration": 48,
    "start_time": "2021-12-27T17:08:30.815Z"
   },
   {
    "duration": 50,
    "start_time": "2021-12-27T17:08:33.512Z"
   },
   {
    "duration": 624,
    "start_time": "2021-12-27T17:15:44.704Z"
   },
   {
    "duration": 3,
    "start_time": "2021-12-27T17:18:25.275Z"
   },
   {
    "duration": 143,
    "start_time": "2021-12-27T17:18:32.388Z"
   },
   {
    "duration": 226,
    "start_time": "2021-12-27T17:18:36.351Z"
   },
   {
    "duration": 214,
    "start_time": "2021-12-27T17:18:52.071Z"
   },
   {
    "duration": 45,
    "start_time": "2021-12-27T17:19:22.067Z"
   },
   {
    "duration": 3,
    "start_time": "2021-12-27T17:25:01.982Z"
   },
   {
    "duration": 5,
    "start_time": "2021-12-27T17:25:12.973Z"
   },
   {
    "duration": 4,
    "start_time": "2021-12-27T17:38:26.074Z"
   },
   {
    "duration": 4,
    "start_time": "2021-12-27T17:44:09.512Z"
   },
   {
    "duration": 44,
    "start_time": "2021-12-27T17:52:28.113Z"
   },
   {
    "duration": 213,
    "start_time": "2021-12-27T18:06:23.853Z"
   },
   {
    "duration": 136,
    "start_time": "2021-12-27T18:06:30.609Z"
   },
   {
    "duration": 147,
    "start_time": "2021-12-27T18:06:36.450Z"
   },
   {
    "duration": 153,
    "start_time": "2021-12-27T18:06:46.439Z"
   },
   {
    "duration": 6,
    "start_time": "2021-12-27T18:06:54.418Z"
   },
   {
    "duration": 21,
    "start_time": "2021-12-27T18:08:19.598Z"
   },
   {
    "duration": 24,
    "start_time": "2021-12-27T18:08:37.303Z"
   },
   {
    "duration": 21,
    "start_time": "2021-12-27T18:08:49.933Z"
   },
   {
    "duration": 137,
    "start_time": "2021-12-27T18:09:58.498Z"
   },
   {
    "duration": 5,
    "start_time": "2021-12-27T18:10:03.964Z"
   },
   {
    "duration": 143,
    "start_time": "2021-12-27T18:10:34.345Z"
   },
   {
    "duration": 9,
    "start_time": "2021-12-27T18:10:39.851Z"
   },
   {
    "duration": 9,
    "start_time": "2021-12-27T18:10:45.056Z"
   },
   {
    "duration": 47,
    "start_time": "2021-12-27T18:11:00.230Z"
   },
   {
    "duration": 8,
    "start_time": "2021-12-27T18:11:02.962Z"
   },
   {
    "duration": 151,
    "start_time": "2021-12-27T18:11:11.818Z"
   },
   {
    "duration": 9,
    "start_time": "2021-12-27T18:11:20.818Z"
   },
   {
    "duration": 856,
    "start_time": "2021-12-27T18:13:00.988Z"
   },
   {
    "duration": 14,
    "start_time": "2021-12-27T18:13:24.667Z"
   },
   {
    "duration": 14,
    "start_time": "2021-12-27T18:13:31.093Z"
   },
   {
    "duration": 10,
    "start_time": "2021-12-27T18:14:01.469Z"
   },
   {
    "duration": 10,
    "start_time": "2021-12-27T18:14:02.761Z"
   },
   {
    "duration": 9,
    "start_time": "2021-12-27T18:24:05.680Z"
   },
   {
    "duration": 1632,
    "start_time": "2021-12-27T18:32:54.782Z"
   },
   {
    "duration": 5,
    "start_time": "2021-12-27T18:33:03.138Z"
   },
   {
    "duration": 45,
    "start_time": "2021-12-27T18:34:07.972Z"
   },
   {
    "duration": 134,
    "start_time": "2021-12-27T18:59:58.380Z"
   },
   {
    "duration": 525,
    "start_time": "2021-12-27T19:00:01.881Z"
   },
   {
    "duration": 7,
    "start_time": "2021-12-27T19:00:33.640Z"
   },
   {
    "duration": 128,
    "start_time": "2021-12-27T19:00:47.296Z"
   },
   {
    "duration": 143,
    "start_time": "2021-12-27T19:00:55.314Z"
   },
   {
    "duration": 133,
    "start_time": "2021-12-27T19:01:23.117Z"
   },
   {
    "duration": 3,
    "start_time": "2021-12-27T19:04:16.892Z"
   },
   {
    "duration": 5,
    "start_time": "2021-12-27T19:04:20.478Z"
   },
   {
    "duration": 6,
    "start_time": "2021-12-27T19:04:34.253Z"
   },
   {
    "duration": 5,
    "start_time": "2021-12-27T19:04:38.476Z"
   },
   {
    "duration": 5,
    "start_time": "2021-12-27T19:04:56.648Z"
   },
   {
    "duration": 6,
    "start_time": "2021-12-27T19:05:11.192Z"
   },
   {
    "duration": 1674,
    "start_time": "2021-12-27T19:25:04.668Z"
   },
   {
    "duration": 2697,
    "start_time": "2021-12-27T19:25:25.196Z"
   },
   {
    "duration": 6,
    "start_time": "2021-12-27T19:27:05.412Z"
   },
   {
    "duration": 39,
    "start_time": "2021-12-27T19:27:10.690Z"
   },
   {
    "duration": 1494,
    "start_time": "2021-12-27T19:27:13.271Z"
   },
   {
    "duration": 7,
    "start_time": "2021-12-27T19:30:32.733Z"
   },
   {
    "duration": 17,
    "start_time": "2021-12-27T19:30:49.441Z"
   },
   {
    "duration": 49,
    "start_time": "2021-12-27T19:32:46.263Z"
   },
   {
    "duration": 12,
    "start_time": "2021-12-27T19:33:08.917Z"
   },
   {
    "duration": 23,
    "start_time": "2021-12-27T19:41:40.331Z"
   },
   {
    "duration": 131,
    "start_time": "2021-12-27T19:44:13.788Z"
   },
   {
    "duration": 123,
    "start_time": "2021-12-27T19:44:16.994Z"
   },
   {
    "duration": 6,
    "start_time": "2021-12-27T19:44:57.838Z"
   },
   {
    "duration": 1604,
    "start_time": "2021-12-27T19:45:02.266Z"
   },
   {
    "duration": 6,
    "start_time": "2021-12-27T19:45:07.486Z"
   },
   {
    "duration": 11,
    "start_time": "2021-12-27T19:47:38.759Z"
   },
   {
    "duration": 27,
    "start_time": "2021-12-27T19:47:47.251Z"
   },
   {
    "duration": 15,
    "start_time": "2021-12-27T19:47:53.489Z"
   },
   {
    "duration": 27,
    "start_time": "2021-12-27T19:47:54.297Z"
   },
   {
    "duration": 3752,
    "start_time": "2021-12-27T19:48:11.226Z"
   },
   {
    "duration": 1207,
    "start_time": "2021-12-27T19:48:14.981Z"
   },
   {
    "duration": 7710,
    "start_time": "2021-12-27T19:48:16.191Z"
   },
   {
    "duration": 4,
    "start_time": "2021-12-27T19:48:23.903Z"
   },
   {
    "duration": 28,
    "start_time": "2021-12-27T19:48:23.909Z"
   },
   {
    "duration": 19,
    "start_time": "2021-12-27T19:48:23.938Z"
   },
   {
    "duration": 20,
    "start_time": "2021-12-27T19:48:23.959Z"
   },
   {
    "duration": 268,
    "start_time": "2021-12-27T19:48:23.981Z"
   },
   {
    "duration": 12,
    "start_time": "2021-12-27T19:48:24.251Z"
   },
   {
    "duration": 35,
    "start_time": "2021-12-27T19:48:24.265Z"
   },
   {
    "duration": 848,
    "start_time": "2021-12-27T19:48:24.302Z"
   },
   {
    "duration": 28,
    "start_time": "2021-12-27T19:48:25.152Z"
   },
   {
    "duration": 162,
    "start_time": "2021-12-27T19:48:25.181Z"
   },
   {
    "duration": 6,
    "start_time": "2021-12-27T19:48:25.345Z"
   },
   {
    "duration": 14,
    "start_time": "2021-12-27T19:48:25.352Z"
   },
   {
    "duration": 3,
    "start_time": "2021-12-27T19:48:25.367Z"
   },
   {
    "duration": 28,
    "start_time": "2021-12-27T19:48:25.371Z"
   },
   {
    "duration": 12,
    "start_time": "2021-12-27T19:48:25.400Z"
   },
   {
    "duration": 25,
    "start_time": "2021-12-27T19:48:25.414Z"
   },
   {
    "duration": 28,
    "start_time": "2021-12-27T19:53:21.029Z"
   },
   {
    "duration": 3824,
    "start_time": "2021-12-27T19:53:28.676Z"
   },
   {
    "duration": 1182,
    "start_time": "2021-12-27T19:53:32.503Z"
   },
   {
    "duration": 755,
    "start_time": "2021-12-27T19:53:33.690Z"
   },
   {
    "duration": 3,
    "start_time": "2021-12-27T19:53:34.447Z"
   },
   {
    "duration": 26,
    "start_time": "2021-12-27T19:53:34.452Z"
   },
   {
    "duration": 30,
    "start_time": "2021-12-27T19:53:34.480Z"
   },
   {
    "duration": 20,
    "start_time": "2021-12-27T19:53:34.511Z"
   },
   {
    "duration": 280,
    "start_time": "2021-12-27T19:53:34.533Z"
   },
   {
    "duration": 12,
    "start_time": "2021-12-27T19:53:34.814Z"
   },
   {
    "duration": 20,
    "start_time": "2021-12-27T19:53:34.828Z"
   },
   {
    "duration": 873,
    "start_time": "2021-12-27T19:53:34.850Z"
   },
   {
    "duration": 27,
    "start_time": "2021-12-27T19:53:35.725Z"
   },
   {
    "duration": 170,
    "start_time": "2021-12-27T19:53:35.754Z"
   },
   {
    "duration": 6,
    "start_time": "2021-12-27T19:53:35.926Z"
   },
   {
    "duration": 14,
    "start_time": "2021-12-27T19:53:35.934Z"
   },
   {
    "duration": 3,
    "start_time": "2021-12-27T19:53:35.950Z"
   },
   {
    "duration": 10,
    "start_time": "2021-12-27T19:53:35.955Z"
   },
   {
    "duration": 33,
    "start_time": "2021-12-27T19:53:35.967Z"
   },
   {
    "duration": 25,
    "start_time": "2021-12-27T19:53:36.002Z"
   },
   {
    "duration": 4032,
    "start_time": "2021-12-27T19:53:56.678Z"
   },
   {
    "duration": 1279,
    "start_time": "2021-12-27T19:54:00.712Z"
   },
   {
    "duration": 782,
    "start_time": "2021-12-27T19:54:01.993Z"
   },
   {
    "duration": 4,
    "start_time": "2021-12-27T19:54:02.777Z"
   },
   {
    "duration": 31,
    "start_time": "2021-12-27T19:54:02.782Z"
   },
   {
    "duration": 20,
    "start_time": "2021-12-27T19:54:02.815Z"
   },
   {
    "duration": 21,
    "start_time": "2021-12-27T19:54:02.837Z"
   },
   {
    "duration": 301,
    "start_time": "2021-12-27T19:54:02.859Z"
   },
   {
    "duration": 12,
    "start_time": "2021-12-27T19:54:03.162Z"
   },
   {
    "duration": 30,
    "start_time": "2021-12-27T19:54:03.176Z"
   },
   {
    "duration": 854,
    "start_time": "2021-12-27T19:54:03.208Z"
   },
   {
    "duration": 34,
    "start_time": "2021-12-27T19:54:04.064Z"
   },
   {
    "duration": 163,
    "start_time": "2021-12-27T19:54:04.100Z"
   },
   {
    "duration": 7,
    "start_time": "2021-12-27T19:54:04.265Z"
   },
   {
    "duration": 38,
    "start_time": "2021-12-27T19:54:04.273Z"
   },
   {
    "duration": 16,
    "start_time": "2021-12-27T19:54:04.313Z"
   },
   {
    "duration": 41,
    "start_time": "2021-12-27T19:54:04.331Z"
   },
   {
    "duration": 23,
    "start_time": "2021-12-27T19:54:04.374Z"
   },
   {
    "duration": 56,
    "start_time": "2021-12-27T19:54:04.399Z"
   },
   {
    "duration": 11,
    "start_time": "2021-12-27T19:54:49.276Z"
   },
   {
    "duration": 28,
    "start_time": "2021-12-27T19:54:54.278Z"
   },
   {
    "duration": 246,
    "start_time": "2021-12-27T19:56:20.280Z"
   },
   {
    "duration": 28,
    "start_time": "2021-12-27T19:56:23.070Z"
   },
   {
    "duration": 3729,
    "start_time": "2021-12-27T19:56:56.640Z"
   },
   {
    "duration": 1721,
    "start_time": "2021-12-27T19:57:00.371Z"
   },
   {
    "duration": 782,
    "start_time": "2021-12-27T19:57:02.095Z"
   },
   {
    "duration": 4,
    "start_time": "2021-12-27T19:57:02.879Z"
   },
   {
    "duration": 33,
    "start_time": "2021-12-27T19:57:02.891Z"
   },
   {
    "duration": 26,
    "start_time": "2021-12-27T19:57:02.926Z"
   },
   {
    "duration": 19,
    "start_time": "2021-12-27T19:57:02.954Z"
   },
   {
    "duration": 291,
    "start_time": "2021-12-27T19:57:02.974Z"
   },
   {
    "duration": 13,
    "start_time": "2021-12-27T19:57:03.269Z"
   },
   {
    "duration": 37,
    "start_time": "2021-12-27T19:57:03.284Z"
   },
   {
    "duration": 826,
    "start_time": "2021-12-27T19:57:03.323Z"
   },
   {
    "duration": 27,
    "start_time": "2021-12-27T19:57:04.151Z"
   },
   {
    "duration": 168,
    "start_time": "2021-12-27T19:57:04.180Z"
   },
   {
    "duration": 7,
    "start_time": "2021-12-27T19:57:04.349Z"
   },
   {
    "duration": 31,
    "start_time": "2021-12-27T19:57:04.358Z"
   },
   {
    "duration": 14,
    "start_time": "2021-12-27T19:57:04.392Z"
   },
   {
    "duration": 57,
    "start_time": "2021-12-27T19:57:04.408Z"
   },
   {
    "duration": 231,
    "start_time": "2021-12-27T19:57:04.467Z"
   },
   {
    "duration": 65,
    "start_time": "2021-12-27T19:57:04.635Z"
   },
   {
    "duration": 137,
    "start_time": "2021-12-27T19:57:16.568Z"
   },
   {
    "duration": 12,
    "start_time": "2021-12-27T19:57:23.473Z"
   },
   {
    "duration": 27,
    "start_time": "2021-12-27T19:57:25.619Z"
   },
   {
    "duration": 15,
    "start_time": "2021-12-27T19:59:45.528Z"
   },
   {
    "duration": 31,
    "start_time": "2021-12-27T19:59:48.213Z"
   },
   {
    "duration": 3732,
    "start_time": "2021-12-27T20:00:12.772Z"
   },
   {
    "duration": 3,
    "start_time": "2021-12-27T20:00:16.507Z"
   },
   {
    "duration": 727,
    "start_time": "2021-12-27T20:00:16.513Z"
   },
   {
    "duration": 4,
    "start_time": "2021-12-27T20:00:17.242Z"
   },
   {
    "duration": 24,
    "start_time": "2021-12-27T20:00:17.247Z"
   },
   {
    "duration": 33,
    "start_time": "2021-12-27T20:00:17.272Z"
   },
   {
    "duration": 19,
    "start_time": "2021-12-27T20:00:17.307Z"
   },
   {
    "duration": 19,
    "start_time": "2021-12-27T20:00:17.328Z"
   },
   {
    "duration": 11,
    "start_time": "2021-12-27T20:00:17.349Z"
   },
   {
    "duration": 43,
    "start_time": "2021-12-27T20:00:17.362Z"
   },
   {
    "duration": 850,
    "start_time": "2021-12-27T20:00:17.407Z"
   },
   {
    "duration": 21,
    "start_time": "2021-12-27T20:00:18.259Z"
   },
   {
    "duration": 101,
    "start_time": "2021-12-27T20:00:18.292Z"
   },
   {
    "duration": 6,
    "start_time": "2021-12-27T20:00:18.395Z"
   },
   {
    "duration": 17,
    "start_time": "2021-12-27T20:00:18.402Z"
   },
   {
    "duration": 4,
    "start_time": "2021-12-27T20:00:18.421Z"
   },
   {
    "duration": 13,
    "start_time": "2021-12-27T20:00:18.426Z"
   },
   {
    "duration": 16,
    "start_time": "2021-12-27T20:00:18.441Z"
   },
   {
    "duration": 56,
    "start_time": "2021-12-27T20:00:18.459Z"
   },
   {
    "duration": 3892,
    "start_time": "2021-12-27T20:02:17.841Z"
   },
   {
    "duration": 4,
    "start_time": "2021-12-27T20:02:21.736Z"
   },
   {
    "duration": 692,
    "start_time": "2021-12-27T20:02:21.743Z"
   },
   {
    "duration": 5,
    "start_time": "2021-12-27T20:02:22.437Z"
   },
   {
    "duration": 22,
    "start_time": "2021-12-27T20:02:22.444Z"
   },
   {
    "duration": 39,
    "start_time": "2021-12-27T20:02:22.468Z"
   },
   {
    "duration": 21,
    "start_time": "2021-12-27T20:02:22.508Z"
   },
   {
    "duration": 22,
    "start_time": "2021-12-27T20:02:22.532Z"
   },
   {
    "duration": 11,
    "start_time": "2021-12-27T20:02:22.557Z"
   },
   {
    "duration": 40,
    "start_time": "2021-12-27T20:02:22.569Z"
   },
   {
    "duration": 841,
    "start_time": "2021-12-27T20:02:22.610Z"
   },
   {
    "duration": 20,
    "start_time": "2021-12-27T20:02:23.453Z"
   },
   {
    "duration": 93,
    "start_time": "2021-12-27T20:02:23.475Z"
   },
   {
    "duration": 6,
    "start_time": "2021-12-27T20:02:23.569Z"
   },
   {
    "duration": 23,
    "start_time": "2021-12-27T20:02:23.577Z"
   },
   {
    "duration": 5,
    "start_time": "2021-12-27T20:02:23.602Z"
   },
   {
    "duration": 28,
    "start_time": "2021-12-27T20:02:23.608Z"
   },
   {
    "duration": 21,
    "start_time": "2021-12-27T20:02:23.637Z"
   },
   {
    "duration": 27,
    "start_time": "2021-12-27T20:02:23.660Z"
   },
   {
    "duration": 3766,
    "start_time": "2021-12-27T20:03:01.125Z"
   },
   {
    "duration": 4,
    "start_time": "2021-12-27T20:03:04.893Z"
   },
   {
    "duration": 691,
    "start_time": "2021-12-27T20:03:04.899Z"
   },
   {
    "duration": 5,
    "start_time": "2021-12-27T20:03:05.592Z"
   },
   {
    "duration": 24,
    "start_time": "2021-12-27T20:03:05.598Z"
   },
   {
    "duration": 21,
    "start_time": "2021-12-27T20:03:05.624Z"
   },
   {
    "duration": 47,
    "start_time": "2021-12-27T20:03:05.646Z"
   },
   {
    "duration": 20,
    "start_time": "2021-12-27T20:03:05.695Z"
   },
   {
    "duration": 11,
    "start_time": "2021-12-27T20:03:05.718Z"
   },
   {
    "duration": 19,
    "start_time": "2021-12-27T20:03:05.731Z"
   },
   {
    "duration": 906,
    "start_time": "2021-12-27T20:03:05.752Z"
   },
   {
    "duration": 20,
    "start_time": "2021-12-27T20:03:06.660Z"
   },
   {
    "duration": 84,
    "start_time": "2021-12-27T20:03:06.691Z"
   },
   {
    "duration": 15,
    "start_time": "2021-12-27T20:03:06.777Z"
   },
   {
    "duration": 12,
    "start_time": "2021-12-27T20:03:06.793Z"
   },
   {
    "duration": 3,
    "start_time": "2021-12-27T20:03:06.807Z"
   },
   {
    "duration": 12,
    "start_time": "2021-12-27T20:03:06.812Z"
   },
   {
    "duration": 27,
    "start_time": "2021-12-27T20:03:11.715Z"
   },
   {
    "duration": 6,
    "start_time": "2021-12-27T20:03:43.226Z"
   },
   {
    "duration": 50,
    "start_time": "2021-12-27T20:03:52.804Z"
   },
   {
    "duration": 49,
    "start_time": "2021-12-27T20:04:58.398Z"
   },
   {
    "duration": 6,
    "start_time": "2021-12-27T20:05:01.584Z"
   },
   {
    "duration": 6,
    "start_time": "2021-12-27T20:05:14.728Z"
   },
   {
    "duration": 3,
    "start_time": "2021-12-27T20:09:25.039Z"
   },
   {
    "duration": 6,
    "start_time": "2021-12-27T20:12:26.794Z"
   },
   {
    "duration": 681,
    "start_time": "2021-12-27T20:22:21.588Z"
   },
   {
    "duration": 141,
    "start_time": "2021-12-27T20:22:22.271Z"
   },
   {
    "duration": 6,
    "start_time": "2021-12-27T20:22:29.672Z"
   },
   {
    "duration": 7,
    "start_time": "2021-12-27T20:29:03.486Z"
   },
   {
    "duration": 136,
    "start_time": "2021-12-27T20:31:14.865Z"
   },
   {
    "duration": 139,
    "start_time": "2021-12-27T20:31:34.734Z"
   },
   {
    "duration": 9,
    "start_time": "2021-12-27T20:32:02.137Z"
   },
   {
    "duration": 169,
    "start_time": "2021-12-27T20:32:02.686Z"
   },
   {
    "duration": 23,
    "start_time": "2021-12-27T20:32:16.872Z"
   },
   {
    "duration": 27,
    "start_time": "2021-12-27T20:32:27.555Z"
   },
   {
    "duration": 171,
    "start_time": "2021-12-27T20:32:53.176Z"
   },
   {
    "duration": 3,
    "start_time": "2021-12-27T21:01:26.333Z"
   },
   {
    "duration": 9,
    "start_time": "2021-12-27T21:02:29.080Z"
   },
   {
    "duration": 14,
    "start_time": "2021-12-27T21:02:36.291Z"
   },
   {
    "duration": 4,
    "start_time": "2021-12-27T21:02:46.023Z"
   },
   {
    "duration": 13,
    "start_time": "2021-12-27T21:02:52.827Z"
   },
   {
    "duration": 146,
    "start_time": "2021-12-27T21:03:25.952Z"
   },
   {
    "duration": 174,
    "start_time": "2021-12-27T21:04:04.032Z"
   },
   {
    "duration": 3771,
    "start_time": "2021-12-27T21:04:07.507Z"
   },
   {
    "duration": 4,
    "start_time": "2021-12-27T21:04:11.280Z"
   },
   {
    "duration": 681,
    "start_time": "2021-12-27T21:04:11.287Z"
   },
   {
    "duration": 5,
    "start_time": "2021-12-27T21:04:11.970Z"
   },
   {
    "duration": 41,
    "start_time": "2021-12-27T21:04:11.977Z"
   },
   {
    "duration": 20,
    "start_time": "2021-12-27T21:04:12.020Z"
   },
   {
    "duration": 20,
    "start_time": "2021-12-27T21:04:12.042Z"
   },
   {
    "duration": 46,
    "start_time": "2021-12-27T21:04:12.065Z"
   },
   {
    "duration": 13,
    "start_time": "2021-12-27T21:04:12.113Z"
   },
   {
    "duration": 22,
    "start_time": "2021-12-27T21:04:12.129Z"
   },
   {
    "duration": 898,
    "start_time": "2021-12-27T21:04:12.153Z"
   },
   {
    "duration": 23,
    "start_time": "2021-12-27T21:04:13.053Z"
   },
   {
    "duration": 97,
    "start_time": "2021-12-27T21:04:13.078Z"
   },
   {
    "duration": 18,
    "start_time": "2021-12-27T21:04:13.177Z"
   },
   {
    "duration": 12,
    "start_time": "2021-12-27T21:04:13.197Z"
   },
   {
    "duration": 4,
    "start_time": "2021-12-27T21:04:13.211Z"
   },
   {
    "duration": 754,
    "start_time": "2021-12-27T21:04:13.217Z"
   },
   {
    "duration": 152,
    "start_time": "2021-12-27T21:04:46.843Z"
   },
   {
    "duration": 144,
    "start_time": "2021-12-27T21:04:50.837Z"
   },
   {
    "duration": 5,
    "start_time": "2021-12-27T21:05:07.206Z"
   },
   {
    "duration": 4,
    "start_time": "2021-12-27T21:29:50.158Z"
   },
   {
    "duration": 4,
    "start_time": "2021-12-27T21:29:55.897Z"
   },
   {
    "duration": 3,
    "start_time": "2021-12-27T21:30:19.835Z"
   },
   {
    "duration": 5,
    "start_time": "2021-12-27T21:30:53.253Z"
   },
   {
    "duration": 7,
    "start_time": "2021-12-27T21:31:02.656Z"
   },
   {
    "duration": 6,
    "start_time": "2021-12-27T21:31:08.354Z"
   },
   {
    "duration": 4,
    "start_time": "2021-12-27T21:31:27.354Z"
   },
   {
    "duration": 4,
    "start_time": "2021-12-27T21:31:40.206Z"
   },
   {
    "duration": 5,
    "start_time": "2021-12-27T21:59:47.077Z"
   },
   {
    "duration": 4,
    "start_time": "2021-12-27T22:05:10.421Z"
   },
   {
    "duration": 5,
    "start_time": "2021-12-27T22:05:13.869Z"
   },
   {
    "duration": 5,
    "start_time": "2021-12-27T22:05:20.542Z"
   },
   {
    "duration": 5,
    "start_time": "2021-12-27T22:05:23.498Z"
   },
   {
    "duration": 3780,
    "start_time": "2021-12-27T22:05:31.633Z"
   },
   {
    "duration": 3,
    "start_time": "2021-12-27T22:05:35.416Z"
   },
   {
    "duration": 735,
    "start_time": "2021-12-27T22:05:35.421Z"
   },
   {
    "duration": 33,
    "start_time": "2021-12-27T22:05:36.158Z"
   },
   {
    "duration": 19,
    "start_time": "2021-12-27T22:05:36.193Z"
   },
   {
    "duration": 19,
    "start_time": "2021-12-27T22:05:36.214Z"
   },
   {
    "duration": 4,
    "start_time": "2021-12-27T22:05:36.235Z"
   },
   {
    "duration": 20,
    "start_time": "2021-12-27T22:05:36.242Z"
   },
   {
    "duration": 13,
    "start_time": "2021-12-27T22:05:36.291Z"
   },
   {
    "duration": 19,
    "start_time": "2021-12-27T22:05:36.306Z"
   },
   {
    "duration": 841,
    "start_time": "2021-12-27T22:05:36.327Z"
   },
   {
    "duration": 30,
    "start_time": "2021-12-27T22:05:37.170Z"
   },
   {
    "duration": 91,
    "start_time": "2021-12-27T22:05:37.201Z"
   },
   {
    "duration": 7,
    "start_time": "2021-12-27T22:05:37.294Z"
   },
   {
    "duration": 13,
    "start_time": "2021-12-27T22:05:37.302Z"
   },
   {
    "duration": 13,
    "start_time": "2021-12-27T22:05:42.871Z"
   },
   {
    "duration": 2,
    "start_time": "2021-12-27T22:05:45.850Z"
   },
   {
    "duration": 3,
    "start_time": "2021-12-27T22:05:48.173Z"
   },
   {
    "duration": 6,
    "start_time": "2021-12-27T22:05:51.814Z"
   },
   {
    "duration": 13,
    "start_time": "2021-12-27T22:06:05.921Z"
   },
   {
    "duration": 5,
    "start_time": "2021-12-27T22:06:25.963Z"
   },
   {
    "duration": 5,
    "start_time": "2021-12-27T22:06:28.969Z"
   },
   {
    "duration": 13,
    "start_time": "2021-12-27T22:06:38.700Z"
   },
   {
    "duration": 42,
    "start_time": "2021-12-27T22:09:01.992Z"
   },
   {
    "duration": 48,
    "start_time": "2021-12-27T22:09:15.844Z"
   },
   {
    "duration": 7,
    "start_time": "2021-12-27T22:09:38.875Z"
   },
   {
    "duration": 4,
    "start_time": "2021-12-27T22:10:04.795Z"
   },
   {
    "duration": 5,
    "start_time": "2021-12-27T22:10:18.662Z"
   },
   {
    "duration": 6,
    "start_time": "2021-12-27T22:10:47.384Z"
   },
   {
    "duration": 5,
    "start_time": "2021-12-27T22:11:07.728Z"
   },
   {
    "duration": 4,
    "start_time": "2021-12-27T22:11:39.196Z"
   },
   {
    "duration": 7,
    "start_time": "2021-12-27T22:13:47.016Z"
   },
   {
    "duration": 138,
    "start_time": "2021-12-27T22:14:40.069Z"
   },
   {
    "duration": 50,
    "start_time": "2021-12-27T22:14:47.884Z"
   },
   {
    "duration": 46,
    "start_time": "2021-12-27T22:14:51.129Z"
   },
   {
    "duration": 8,
    "start_time": "2021-12-27T22:14:55.223Z"
   },
   {
    "duration": 9,
    "start_time": "2021-12-27T22:15:02.206Z"
   },
   {
    "duration": 9,
    "start_time": "2021-12-27T22:15:09.121Z"
   },
   {
    "duration": 8,
    "start_time": "2021-12-27T22:15:14.809Z"
   },
   {
    "duration": 3,
    "start_time": "2021-12-27T22:22:15.664Z"
   },
   {
    "duration": 146,
    "start_time": "2021-12-27T22:24:25.730Z"
   },
   {
    "duration": 5,
    "start_time": "2021-12-27T22:24:34.517Z"
   },
   {
    "duration": 3707,
    "start_time": "2021-12-27T22:27:05.977Z"
   },
   {
    "duration": 1182,
    "start_time": "2021-12-27T22:27:09.686Z"
   },
   {
    "duration": 739,
    "start_time": "2021-12-27T22:27:10.871Z"
   },
   {
    "duration": 25,
    "start_time": "2021-12-27T22:27:11.612Z"
   },
   {
    "duration": 21,
    "start_time": "2021-12-27T22:27:11.638Z"
   },
   {
    "duration": 45,
    "start_time": "2021-12-27T22:27:11.661Z"
   },
   {
    "duration": 5,
    "start_time": "2021-12-27T22:27:11.708Z"
   },
   {
    "duration": 271,
    "start_time": "2021-12-27T22:27:11.715Z"
   },
   {
    "duration": 13,
    "start_time": "2021-12-27T22:27:11.989Z"
   },
   {
    "duration": 19,
    "start_time": "2021-12-27T22:27:12.005Z"
   },
   {
    "duration": 824,
    "start_time": "2021-12-27T22:27:12.026Z"
   },
   {
    "duration": 39,
    "start_time": "2021-12-27T22:27:12.852Z"
   },
   {
    "duration": 156,
    "start_time": "2021-12-27T22:27:12.893Z"
   },
   {
    "duration": 8,
    "start_time": "2021-12-27T22:27:13.051Z"
   },
   {
    "duration": 33,
    "start_time": "2021-12-27T22:27:13.061Z"
   },
   {
    "duration": 4,
    "start_time": "2021-12-27T22:27:13.096Z"
   },
   {
    "duration": 6,
    "start_time": "2021-12-27T22:27:13.102Z"
   },
   {
    "duration": 5,
    "start_time": "2021-12-27T22:27:13.110Z"
   },
   {
    "duration": 282,
    "start_time": "2021-12-27T22:27:13.117Z"
   },
   {
    "duration": 517,
    "start_time": "2021-12-27T22:27:13.401Z"
   },
   {
    "duration": 397,
    "start_time": "2021-12-27T22:27:13.920Z"
   },
   {
    "duration": 1673,
    "start_time": "2021-12-27T22:27:14.320Z"
   },
   {
    "duration": 97,
    "start_time": "2021-12-27T22:27:15.898Z"
   },
   {
    "duration": 94,
    "start_time": "2021-12-27T22:27:15.902Z"
   },
   {
    "duration": 91,
    "start_time": "2021-12-27T22:27:15.906Z"
   },
   {
    "duration": 1638,
    "start_time": "2021-12-27T22:28:16.237Z"
   },
   {
    "duration": 125,
    "start_time": "2021-12-27T22:29:17.188Z"
   },
   {
    "duration": 3857,
    "start_time": "2021-12-27T22:30:09.995Z"
   },
   {
    "duration": 3,
    "start_time": "2021-12-27T22:30:13.855Z"
   },
   {
    "duration": 772,
    "start_time": "2021-12-27T22:30:13.862Z"
   },
   {
    "duration": 24,
    "start_time": "2021-12-27T22:30:14.636Z"
   },
   {
    "duration": 50,
    "start_time": "2021-12-27T22:30:14.662Z"
   },
   {
    "duration": 20,
    "start_time": "2021-12-27T22:30:14.715Z"
   },
   {
    "duration": 6,
    "start_time": "2021-12-27T22:30:14.738Z"
   },
   {
    "duration": 51,
    "start_time": "2021-12-27T22:30:14.746Z"
   },
   {
    "duration": 15,
    "start_time": "2021-12-27T22:30:14.800Z"
   },
   {
    "duration": 54,
    "start_time": "2021-12-27T22:30:14.817Z"
   },
   {
    "duration": 995,
    "start_time": "2021-12-27T22:30:14.873Z"
   },
   {
    "duration": 31,
    "start_time": "2021-12-27T22:30:15.869Z"
   },
   {
    "duration": 92,
    "start_time": "2021-12-27T22:30:15.902Z"
   },
   {
    "duration": 8,
    "start_time": "2021-12-27T22:30:15.996Z"
   },
   {
    "duration": 18,
    "start_time": "2021-12-27T22:30:16.006Z"
   },
   {
    "duration": 4,
    "start_time": "2021-12-27T22:30:16.026Z"
   },
   {
    "duration": 14,
    "start_time": "2021-12-27T22:30:16.031Z"
   },
   {
    "duration": 286,
    "start_time": "2021-12-27T22:30:16.047Z"
   },
   {
    "duration": 560,
    "start_time": "2021-12-27T22:30:16.335Z"
   },
   {
    "duration": 516,
    "start_time": "2021-12-27T22:30:16.897Z"
   },
   {
    "duration": 553,
    "start_time": "2021-12-27T22:30:17.414Z"
   },
   {
    "duration": 22,
    "start_time": "2021-12-27T22:30:17.969Z"
   },
   {
    "duration": 5,
    "start_time": "2021-12-27T22:30:17.993Z"
   },
   {
    "duration": 5,
    "start_time": "2021-12-27T22:30:24.263Z"
   },
   {
    "duration": 177,
    "start_time": "2021-12-27T22:30:25.484Z"
   },
   {
    "duration": 143,
    "start_time": "2021-12-27T22:31:29.761Z"
   },
   {
    "duration": 3786,
    "start_time": "2021-12-27T22:31:36.713Z"
   },
   {
    "duration": 3,
    "start_time": "2021-12-27T22:31:40.504Z"
   },
   {
    "duration": 735,
    "start_time": "2021-12-27T22:31:40.509Z"
   },
   {
    "duration": 21,
    "start_time": "2021-12-27T22:31:41.246Z"
   },
   {
    "duration": 33,
    "start_time": "2021-12-27T22:31:41.269Z"
   },
   {
    "duration": 20,
    "start_time": "2021-12-27T22:31:41.304Z"
   },
   {
    "duration": 4,
    "start_time": "2021-12-27T22:31:41.326Z"
   },
   {
    "duration": 23,
    "start_time": "2021-12-27T22:31:41.333Z"
   },
   {
    "duration": 35,
    "start_time": "2021-12-27T22:31:41.358Z"
   },
   {
    "duration": 22,
    "start_time": "2021-12-27T22:31:41.395Z"
   },
   {
    "duration": 867,
    "start_time": "2021-12-27T22:31:41.419Z"
   },
   {
    "duration": 22,
    "start_time": "2021-12-27T22:31:42.291Z"
   },
   {
    "duration": 88,
    "start_time": "2021-12-27T22:31:42.315Z"
   },
   {
    "duration": 6,
    "start_time": "2021-12-27T22:31:42.405Z"
   },
   {
    "duration": 14,
    "start_time": "2021-12-27T22:31:42.413Z"
   },
   {
    "duration": 3,
    "start_time": "2021-12-27T22:31:42.429Z"
   },
   {
    "duration": 5,
    "start_time": "2021-12-27T22:31:42.433Z"
   },
   {
    "duration": 294,
    "start_time": "2021-12-27T22:31:42.439Z"
   },
   {
    "duration": 538,
    "start_time": "2021-12-27T22:31:42.735Z"
   },
   {
    "duration": 491,
    "start_time": "2021-12-27T22:31:43.275Z"
   },
   {
    "duration": 544,
    "start_time": "2021-12-27T22:31:43.768Z"
   },
   {
    "duration": 14,
    "start_time": "2021-12-27T22:31:44.314Z"
   },
   {
    "duration": 4,
    "start_time": "2021-12-27T22:31:44.331Z"
   },
   {
    "duration": 177,
    "start_time": "2021-12-27T22:31:44.337Z"
   },
   {
    "duration": 130,
    "start_time": "2021-12-27T22:31:59.789Z"
   },
   {
    "duration": 135,
    "start_time": "2021-12-27T22:32:56.257Z"
   },
   {
    "duration": 144,
    "start_time": "2021-12-27T22:33:04.582Z"
   },
   {
    "duration": 140,
    "start_time": "2021-12-27T22:33:16.974Z"
   },
   {
    "duration": 144,
    "start_time": "2021-12-27T22:33:22.905Z"
   },
   {
    "duration": 137,
    "start_time": "2021-12-27T22:34:27.607Z"
   },
   {
    "duration": 144,
    "start_time": "2021-12-27T22:34:36.310Z"
   },
   {
    "duration": 146,
    "start_time": "2021-12-27T22:35:01.890Z"
   },
   {
    "duration": 49,
    "start_time": "2021-12-27T22:35:18.050Z"
   },
   {
    "duration": 139,
    "start_time": "2021-12-27T22:35:21.469Z"
   },
   {
    "duration": 26,
    "start_time": "2021-12-27T22:35:28.258Z"
   },
   {
    "duration": 5,
    "start_time": "2021-12-27T22:36:06.104Z"
   },
   {
    "duration": 136,
    "start_time": "2021-12-27T22:36:16.893Z"
   },
   {
    "duration": 4,
    "start_time": "2021-12-27T22:36:23.520Z"
   },
   {
    "duration": 142,
    "start_time": "2021-12-27T22:36:26.656Z"
   },
   {
    "duration": 139,
    "start_time": "2021-12-27T22:37:18.825Z"
   },
   {
    "duration": 160,
    "start_time": "2021-12-27T22:38:35.296Z"
   },
   {
    "duration": 3919,
    "start_time": "2021-12-27T22:38:44.900Z"
   },
   {
    "duration": 3,
    "start_time": "2021-12-27T22:38:48.822Z"
   },
   {
    "duration": 734,
    "start_time": "2021-12-27T22:38:48.827Z"
   },
   {
    "duration": 30,
    "start_time": "2021-12-27T22:38:49.563Z"
   },
   {
    "duration": 20,
    "start_time": "2021-12-27T22:38:49.595Z"
   },
   {
    "duration": 21,
    "start_time": "2021-12-27T22:38:49.617Z"
   },
   {
    "duration": 5,
    "start_time": "2021-12-27T22:38:49.640Z"
   },
   {
    "duration": 51,
    "start_time": "2021-12-27T22:38:49.648Z"
   },
   {
    "duration": 13,
    "start_time": "2021-12-27T22:38:49.701Z"
   },
   {
    "duration": 22,
    "start_time": "2021-12-27T22:38:49.715Z"
   },
   {
    "duration": 979,
    "start_time": "2021-12-27T22:38:49.738Z"
   },
   {
    "duration": 25,
    "start_time": "2021-12-27T22:38:50.719Z"
   },
   {
    "duration": 103,
    "start_time": "2021-12-27T22:38:50.746Z"
   },
   {
    "duration": 8,
    "start_time": "2021-12-27T22:38:50.851Z"
   },
   {
    "duration": 34,
    "start_time": "2021-12-27T22:38:50.860Z"
   },
   {
    "duration": 4,
    "start_time": "2021-12-27T22:38:50.896Z"
   },
   {
    "duration": 6,
    "start_time": "2021-12-27T22:38:50.902Z"
   },
   {
    "duration": 308,
    "start_time": "2021-12-27T22:38:50.909Z"
   },
   {
    "duration": 596,
    "start_time": "2021-12-27T22:38:51.219Z"
   },
   {
    "duration": 541,
    "start_time": "2021-12-27T22:38:51.817Z"
   },
   {
    "duration": 567,
    "start_time": "2021-12-27T22:38:52.360Z"
   },
   {
    "duration": 14,
    "start_time": "2021-12-27T22:38:52.929Z"
   },
   {
    "duration": 4,
    "start_time": "2021-12-27T22:38:52.945Z"
   },
   {
    "duration": 148,
    "start_time": "2021-12-27T22:38:52.951Z"
   },
   {
    "duration": 1501,
    "start_time": "2021-12-27T22:39:06.173Z"
   },
   {
    "duration": 4010,
    "start_time": "2021-12-27T22:39:26.601Z"
   },
   {
    "duration": 4,
    "start_time": "2021-12-27T22:39:30.613Z"
   },
   {
    "duration": 691,
    "start_time": "2021-12-27T22:39:30.619Z"
   },
   {
    "duration": 23,
    "start_time": "2021-12-27T22:39:31.313Z"
   },
   {
    "duration": 26,
    "start_time": "2021-12-27T22:39:31.338Z"
   },
   {
    "duration": 44,
    "start_time": "2021-12-27T22:39:31.365Z"
   },
   {
    "duration": 4,
    "start_time": "2021-12-27T22:39:31.411Z"
   },
   {
    "duration": 32,
    "start_time": "2021-12-27T22:39:31.417Z"
   },
   {
    "duration": 12,
    "start_time": "2021-12-27T22:39:31.451Z"
   },
   {
    "duration": 44,
    "start_time": "2021-12-27T22:39:31.465Z"
   },
   {
    "duration": 869,
    "start_time": "2021-12-27T22:39:31.511Z"
   },
   {
    "duration": 28,
    "start_time": "2021-12-27T22:39:32.382Z"
   },
   {
    "duration": 96,
    "start_time": "2021-12-27T22:39:32.412Z"
   },
   {
    "duration": 8,
    "start_time": "2021-12-27T22:39:32.510Z"
   },
   {
    "duration": 14,
    "start_time": "2021-12-27T22:39:32.520Z"
   },
   {
    "duration": 3,
    "start_time": "2021-12-27T22:39:32.536Z"
   },
   {
    "duration": 6,
    "start_time": "2021-12-27T22:39:32.541Z"
   },
   {
    "duration": 290,
    "start_time": "2021-12-27T22:39:32.549Z"
   },
   {
    "duration": 537,
    "start_time": "2021-12-27T22:39:32.841Z"
   },
   {
    "duration": 504,
    "start_time": "2021-12-27T22:39:33.379Z"
   },
   {
    "duration": 558,
    "start_time": "2021-12-27T22:39:33.885Z"
   },
   {
    "duration": 13,
    "start_time": "2021-12-27T22:39:34.444Z"
   },
   {
    "duration": 3,
    "start_time": "2021-12-27T22:39:34.460Z"
   },
   {
    "duration": 1677,
    "start_time": "2021-12-27T22:39:34.465Z"
   },
   {
    "duration": 660,
    "start_time": "2021-12-27T22:41:28.764Z"
   },
   {
    "duration": 1681,
    "start_time": "2021-12-27T22:41:37.713Z"
   },
   {
    "duration": 144,
    "start_time": "2021-12-27T22:41:58.916Z"
   },
   {
    "duration": 21,
    "start_time": "2021-12-27T22:43:10.325Z"
   },
   {
    "duration": 20,
    "start_time": "2021-12-27T22:43:24.654Z"
   },
   {
    "duration": 42,
    "start_time": "2021-12-27T22:43:30.113Z"
   },
   {
    "duration": 45,
    "start_time": "2021-12-27T22:44:22.214Z"
   },
   {
    "duration": 46,
    "start_time": "2021-12-27T22:45:17.905Z"
   },
   {
    "duration": 37,
    "start_time": "2021-12-27T22:45:21.162Z"
   },
   {
    "duration": 36,
    "start_time": "2021-12-27T22:45:29.875Z"
   },
   {
    "duration": 17,
    "start_time": "2021-12-27T22:46:24.671Z"
   },
   {
    "duration": 31,
    "start_time": "2021-12-27T22:46:43.446Z"
   },
   {
    "duration": 28,
    "start_time": "2021-12-27T22:47:04.829Z"
   },
   {
    "duration": 11,
    "start_time": "2021-12-27T22:48:54.404Z"
   },
   {
    "duration": 28,
    "start_time": "2021-12-27T22:49:39.326Z"
   },
   {
    "duration": 6,
    "start_time": "2021-12-27T22:49:42.327Z"
   },
   {
    "duration": 125,
    "start_time": "2021-12-27T22:49:48.844Z"
   },
   {
    "duration": 10,
    "start_time": "2021-12-27T22:50:05.116Z"
   },
   {
    "duration": 143,
    "start_time": "2021-12-27T22:50:06.775Z"
   },
   {
    "duration": 175,
    "start_time": "2021-12-27T22:50:48.107Z"
   },
   {
    "duration": 3968,
    "start_time": "2021-12-27T22:50:58.739Z"
   },
   {
    "duration": 5,
    "start_time": "2021-12-27T22:51:02.709Z"
   },
   {
    "duration": 790,
    "start_time": "2021-12-27T22:51:02.716Z"
   },
   {
    "duration": 23,
    "start_time": "2021-12-27T22:51:03.508Z"
   },
   {
    "duration": 21,
    "start_time": "2021-12-27T22:51:03.533Z"
   },
   {
    "duration": 51,
    "start_time": "2021-12-27T22:51:03.556Z"
   },
   {
    "duration": 4,
    "start_time": "2021-12-27T22:51:03.609Z"
   },
   {
    "duration": 25,
    "start_time": "2021-12-27T22:51:03.616Z"
   },
   {
    "duration": 11,
    "start_time": "2021-12-27T22:51:03.644Z"
   },
   {
    "duration": 49,
    "start_time": "2021-12-27T22:51:03.656Z"
   },
   {
    "duration": 893,
    "start_time": "2021-12-27T22:51:03.706Z"
   },
   {
    "duration": 23,
    "start_time": "2021-12-27T22:51:04.602Z"
   },
   {
    "duration": 92,
    "start_time": "2021-12-27T22:51:04.627Z"
   },
   {
    "duration": 7,
    "start_time": "2021-12-27T22:51:04.722Z"
   },
   {
    "duration": 17,
    "start_time": "2021-12-27T22:51:04.731Z"
   },
   {
    "duration": 4,
    "start_time": "2021-12-27T22:51:04.750Z"
   },
   {
    "duration": 43,
    "start_time": "2021-12-27T22:51:04.756Z"
   },
   {
    "duration": 5,
    "start_time": "2021-12-27T22:51:04.801Z"
   },
   {
    "duration": 281,
    "start_time": "2021-12-27T22:51:04.808Z"
   },
   {
    "duration": 543,
    "start_time": "2021-12-27T22:51:05.090Z"
   },
   {
    "duration": 412,
    "start_time": "2021-12-27T22:51:05.635Z"
   },
   {
    "duration": 699,
    "start_time": "2021-12-27T22:51:06.049Z"
   },
   {
    "duration": 13,
    "start_time": "2021-12-27T22:51:06.752Z"
   },
   {
    "duration": 4,
    "start_time": "2021-12-27T22:51:06.767Z"
   },
   {
    "duration": 26,
    "start_time": "2021-12-27T22:51:06.773Z"
   },
   {
    "duration": 13,
    "start_time": "2021-12-27T22:51:06.801Z"
   },
   {
    "duration": 8,
    "start_time": "2021-12-27T22:51:50.593Z"
   },
   {
    "duration": 13,
    "start_time": "2021-12-27T22:51:53.721Z"
   },
   {
    "duration": 14,
    "start_time": "2021-12-27T22:54:06.323Z"
   },
   {
    "duration": 3,
    "start_time": "2021-12-27T22:56:15.104Z"
   },
   {
    "duration": 126,
    "start_time": "2021-12-27T22:59:58.547Z"
   },
   {
    "duration": 165,
    "start_time": "2021-12-27T23:00:21.704Z"
   },
   {
    "duration": 137,
    "start_time": "2021-12-27T23:00:34.343Z"
   },
   {
    "duration": 34438,
    "start_time": "2021-12-27T23:00:50.953Z"
   },
   {
    "duration": 1533,
    "start_time": "2021-12-27T23:01:25.393Z"
   },
   {
    "duration": 14963,
    "start_time": "2021-12-27T23:01:27.856Z"
   },
   {
    "duration": 142,
    "start_time": "2021-12-27T23:01:42.821Z"
   },
   {
    "duration": 134,
    "start_time": "2021-12-27T23:01:44.177Z"
   },
   {
    "duration": 131,
    "start_time": "2021-12-27T23:02:06.774Z"
   },
   {
    "duration": 269,
    "start_time": "2021-12-27T23:02:12.310Z"
   },
   {
    "duration": 9,
    "start_time": "2021-12-27T23:04:53.654Z"
   },
   {
    "duration": 146,
    "start_time": "2021-12-27T23:05:01.409Z"
   },
   {
    "duration": 18,
    "start_time": "2021-12-27T23:06:05.642Z"
   },
   {
    "duration": 139,
    "start_time": "2021-12-27T23:07:07.709Z"
   },
   {
    "duration": 144,
    "start_time": "2021-12-27T23:12:09.858Z"
   },
   {
    "duration": 131,
    "start_time": "2021-12-27T23:12:16.272Z"
   },
   {
    "duration": 140,
    "start_time": "2021-12-27T23:12:25.502Z"
   },
   {
    "duration": 1143,
    "start_time": "2021-12-27T23:12:40.149Z"
   },
   {
    "duration": 911,
    "start_time": "2021-12-27T23:13:01.989Z"
   },
   {
    "duration": 5,
    "start_time": "2021-12-27T23:14:26.157Z"
   },
   {
    "duration": 14,
    "start_time": "2021-12-27T23:16:02.938Z"
   },
   {
    "duration": 5,
    "start_time": "2021-12-27T23:16:04.726Z"
   },
   {
    "duration": 1257,
    "start_time": "2021-12-27T23:16:08.745Z"
   },
   {
    "duration": 312,
    "start_time": "2021-12-27T23:16:14.297Z"
   },
   {
    "duration": 138,
    "start_time": "2021-12-27T23:16:58.958Z"
   },
   {
    "duration": 144,
    "start_time": "2021-12-27T23:17:05.895Z"
   },
   {
    "duration": 236,
    "start_time": "2021-12-27T23:17:22.648Z"
   },
   {
    "duration": 153,
    "start_time": "2021-12-27T23:17:29.855Z"
   },
   {
    "duration": 142,
    "start_time": "2021-12-27T23:17:34.116Z"
   },
   {
    "duration": 142,
    "start_time": "2021-12-27T23:18:02.928Z"
   },
   {
    "duration": 150,
    "start_time": "2021-12-27T23:18:08.015Z"
   },
   {
    "duration": 16,
    "start_time": "2021-12-27T23:18:20.094Z"
   },
   {
    "duration": 24,
    "start_time": "2021-12-27T23:18:23.179Z"
   },
   {
    "duration": 24,
    "start_time": "2021-12-27T23:18:28.120Z"
   },
   {
    "duration": 15,
    "start_time": "2021-12-27T23:18:32.468Z"
   },
   {
    "duration": 24,
    "start_time": "2021-12-27T23:18:32.715Z"
   },
   {
    "duration": 3879,
    "start_time": "2021-12-27T23:18:37.979Z"
   },
   {
    "duration": 4,
    "start_time": "2021-12-27T23:18:41.860Z"
   },
   {
    "duration": 750,
    "start_time": "2021-12-27T23:18:41.866Z"
   },
   {
    "duration": 20,
    "start_time": "2021-12-27T23:18:42.618Z"
   },
   {
    "duration": 26,
    "start_time": "2021-12-27T23:18:42.639Z"
   },
   {
    "duration": 41,
    "start_time": "2021-12-27T23:18:42.666Z"
   },
   {
    "duration": 5,
    "start_time": "2021-12-27T23:18:42.709Z"
   },
   {
    "duration": 42,
    "start_time": "2021-12-27T23:18:42.716Z"
   },
   {
    "duration": 22,
    "start_time": "2021-12-27T23:18:42.760Z"
   },
   {
    "duration": 43,
    "start_time": "2021-12-27T23:18:42.784Z"
   },
   {
    "duration": 853,
    "start_time": "2021-12-27T23:18:42.829Z"
   },
   {
    "duration": 28,
    "start_time": "2021-12-27T23:18:43.684Z"
   },
   {
    "duration": 93,
    "start_time": "2021-12-27T23:18:43.713Z"
   },
   {
    "duration": 6,
    "start_time": "2021-12-27T23:18:43.808Z"
   },
   {
    "duration": 40,
    "start_time": "2021-12-27T23:18:43.816Z"
   },
   {
    "duration": 16,
    "start_time": "2021-12-27T23:18:43.857Z"
   },
   {
    "duration": 29,
    "start_time": "2021-12-27T23:18:43.875Z"
   },
   {
    "duration": 15,
    "start_time": "2021-12-27T23:18:43.906Z"
   },
   {
    "duration": 299,
    "start_time": "2021-12-27T23:18:43.923Z"
   },
   {
    "duration": 555,
    "start_time": "2021-12-27T23:18:44.223Z"
   },
   {
    "duration": 530,
    "start_time": "2021-12-27T23:18:44.780Z"
   },
   {
    "duration": 559,
    "start_time": "2021-12-27T23:18:45.312Z"
   },
   {
    "duration": 29,
    "start_time": "2021-12-27T23:18:45.874Z"
   },
   {
    "duration": 4,
    "start_time": "2021-12-27T23:18:45.905Z"
   },
   {
    "duration": 9,
    "start_time": "2021-12-27T23:18:45.911Z"
   },
   {
    "duration": 9,
    "start_time": "2021-12-27T23:18:45.921Z"
   },
   {
    "duration": 9,
    "start_time": "2021-12-27T23:18:45.931Z"
   },
   {
    "duration": 15,
    "start_time": "2021-12-27T23:18:45.942Z"
   },
   {
    "duration": 28,
    "start_time": "2021-12-27T23:18:49.080Z"
   },
   {
    "duration": 6,
    "start_time": "2021-12-27T23:19:19.873Z"
   },
   {
    "duration": 6,
    "start_time": "2021-12-27T23:19:20.176Z"
   },
   {
    "duration": 16,
    "start_time": "2021-12-27T23:19:21.456Z"
   },
   {
    "duration": 25,
    "start_time": "2021-12-27T23:19:22.515Z"
   },
   {
    "duration": 25,
    "start_time": "2021-12-27T23:19:27.156Z"
   },
   {
    "duration": 24,
    "start_time": "2021-12-27T23:19:30.350Z"
   },
   {
    "duration": 492,
    "start_time": "2021-12-27T23:19:33.705Z"
   },
   {
    "duration": 15,
    "start_time": "2021-12-27T23:19:58.200Z"
   },
   {
    "duration": 376,
    "start_time": "2021-12-27T23:19:59.422Z"
   },
   {
    "duration": 9,
    "start_time": "2021-12-27T23:20:21.164Z"
   },
   {
    "duration": 24,
    "start_time": "2021-12-27T23:20:25.634Z"
   },
   {
    "duration": 6,
    "start_time": "2021-12-27T23:21:09.755Z"
   },
   {
    "duration": 6,
    "start_time": "2021-12-27T23:21:10.491Z"
   },
   {
    "duration": 17,
    "start_time": "2021-12-27T23:21:11.495Z"
   },
   {
    "duration": 27,
    "start_time": "2021-12-27T23:21:12.580Z"
   },
   {
    "duration": 511,
    "start_time": "2021-12-27T23:21:14.088Z"
   },
   {
    "duration": 1709,
    "start_time": "2021-12-27T23:21:30.884Z"
   },
   {
    "duration": 139,
    "start_time": "2021-12-27T23:22:34.064Z"
   },
   {
    "duration": 1731,
    "start_time": "2021-12-27T23:22:38.063Z"
   },
   {
    "duration": 44,
    "start_time": "2021-12-27T23:24:49.458Z"
   },
   {
    "duration": 55,
    "start_time": "2021-12-27T23:24:56.063Z"
   },
   {
    "duration": 232,
    "start_time": "2021-12-27T23:25:07.028Z"
   },
   {
    "duration": 339,
    "start_time": "2021-12-27T23:25:22.262Z"
   },
   {
    "duration": 234,
    "start_time": "2021-12-27T23:25:34.913Z"
   },
   {
    "duration": 1316,
    "start_time": "2021-12-28T09:10:10.885Z"
   },
   {
    "duration": 16784,
    "start_time": "2021-12-28T09:10:16.012Z"
   },
   {
    "duration": 919,
    "start_time": "2021-12-28T09:10:32.799Z"
   },
   {
    "duration": 894,
    "start_time": "2021-12-28T09:10:33.723Z"
   },
   {
    "duration": 40,
    "start_time": "2021-12-28T09:10:34.621Z"
   },
   {
    "duration": 30,
    "start_time": "2021-12-28T09:10:34.663Z"
   },
   {
    "duration": 41,
    "start_time": "2021-12-28T09:10:34.716Z"
   },
   {
    "duration": 7,
    "start_time": "2021-12-28T09:10:34.759Z"
   },
   {
    "duration": 700,
    "start_time": "2021-12-28T09:10:34.768Z"
   },
   {
    "duration": 17,
    "start_time": "2021-12-28T09:10:35.472Z"
   },
   {
    "duration": 53,
    "start_time": "2021-12-28T09:10:35.493Z"
   },
   {
    "duration": 1325,
    "start_time": "2021-12-28T09:10:35.548Z"
   },
   {
    "duration": 49,
    "start_time": "2021-12-28T09:10:36.875Z"
   },
   {
    "duration": 242,
    "start_time": "2021-12-28T09:10:36.927Z"
   },
   {
    "duration": 8,
    "start_time": "2021-12-28T09:10:37.172Z"
   },
   {
    "duration": 42,
    "start_time": "2021-12-28T09:10:37.182Z"
   },
   {
    "duration": 5,
    "start_time": "2021-12-28T09:10:37.228Z"
   },
   {
    "duration": 21,
    "start_time": "2021-12-28T09:10:37.235Z"
   },
   {
    "duration": 5,
    "start_time": "2021-12-28T09:10:37.258Z"
   },
   {
    "duration": 491,
    "start_time": "2021-12-28T09:10:37.265Z"
   },
   {
    "duration": 854,
    "start_time": "2021-12-28T09:10:37.759Z"
   },
   {
    "duration": 624,
    "start_time": "2021-12-28T09:10:38.615Z"
   },
   {
    "duration": 886,
    "start_time": "2021-12-28T09:10:39.242Z"
   },
   {
    "duration": 26,
    "start_time": "2021-12-28T09:10:40.132Z"
   },
   {
    "duration": 7,
    "start_time": "2021-12-28T09:10:40.161Z"
   },
   {
    "duration": 46,
    "start_time": "2021-12-28T09:10:40.171Z"
   },
   {
    "duration": 8,
    "start_time": "2021-12-28T09:10:40.220Z"
   },
   {
    "duration": 8,
    "start_time": "2021-12-28T09:10:40.233Z"
   },
   {
    "duration": 27,
    "start_time": "2021-12-28T09:10:40.245Z"
   },
   {
    "duration": 72,
    "start_time": "2021-12-28T09:10:40.275Z"
   },
   {
    "duration": 396,
    "start_time": "2021-12-28T09:12:16.514Z"
   },
   {
    "duration": 23,
    "start_time": "2021-12-28T09:15:15.296Z"
   },
   {
    "duration": 411,
    "start_time": "2021-12-28T09:16:09.481Z"
   },
   {
    "duration": 473,
    "start_time": "2021-12-28T09:16:29.897Z"
   },
   {
    "duration": 701,
    "start_time": "2021-12-28T09:17:10.960Z"
   },
   {
    "duration": 813,
    "start_time": "2021-12-28T09:22:13.123Z"
   },
   {
    "duration": 1196,
    "start_time": "2021-12-28T09:22:32.223Z"
   },
   {
    "duration": 361,
    "start_time": "2021-12-28T09:35:33.056Z"
   },
   {
    "duration": 2332,
    "start_time": "2021-12-28T09:39:00.894Z"
   },
   {
    "duration": 2507,
    "start_time": "2021-12-28T09:40:02.318Z"
   },
   {
    "duration": 2601,
    "start_time": "2021-12-28T10:14:41.116Z"
   },
   {
    "duration": 2548,
    "start_time": "2021-12-28T10:15:01.472Z"
   },
   {
    "duration": 3362,
    "start_time": "2021-12-28T10:16:00.957Z"
   },
   {
    "duration": 313,
    "start_time": "2021-12-28T12:21:14.955Z"
   },
   {
    "duration": 391,
    "start_time": "2021-12-28T12:21:21.531Z"
   },
   {
    "duration": 303,
    "start_time": "2021-12-28T12:21:32.724Z"
   },
   {
    "duration": 302,
    "start_time": "2021-12-28T12:24:00.347Z"
   },
   {
    "duration": 319,
    "start_time": "2021-12-28T12:32:30.778Z"
   },
   {
    "duration": 51065,
    "start_time": "2021-12-28T12:33:09.454Z"
   },
   {
    "duration": -248,
    "start_time": "2021-12-28T12:34:33.289Z"
   },
   {
    "duration": 2208,
    "start_time": "2021-12-28T12:34:47.309Z"
   },
   {
    "duration": 54244,
    "start_time": "2021-12-28T12:35:59.675Z"
   },
   {
    "duration": 6203,
    "start_time": "2021-12-28T12:39:22.419Z"
   },
   {
    "duration": 91151,
    "start_time": "2021-12-28T12:39:53.367Z"
   },
   {
    "duration": 2497,
    "start_time": "2021-12-28T12:41:24.521Z"
   },
   {
    "duration": 745923,
    "start_time": "2021-12-28T12:41:43.894Z"
   },
   {
    "duration": 362,
    "start_time": "2021-12-28T13:11:30.664Z"
   },
   {
    "duration": 292,
    "start_time": "2021-12-28T13:11:33.359Z"
   },
   {
    "duration": 290,
    "start_time": "2021-12-28T13:11:43.932Z"
   },
   {
    "duration": 365,
    "start_time": "2021-12-28T13:11:47.125Z"
   },
   {
    "duration": 5,
    "start_time": "2021-12-28T13:11:59.365Z"
   },
   {
    "duration": 1418,
    "start_time": "2021-12-29T07:20:55.876Z"
   },
   {
    "duration": 1296,
    "start_time": "2021-12-29T07:20:57.526Z"
   },
   {
    "duration": 390591,
    "start_time": "2021-12-29T07:21:06.703Z"
   },
   {
    "duration": 1201,
    "start_time": "2021-12-29T07:30:52.653Z"
   },
   {
    "duration": 1429,
    "start_time": "2021-12-29T07:30:55.300Z"
   },
   {
    "duration": 63,
    "start_time": "2021-12-29T07:31:00.185Z"
   },
   {
    "duration": 51,
    "start_time": "2021-12-29T07:31:00.330Z"
   },
   {
    "duration": 33,
    "start_time": "2021-12-29T07:31:00.483Z"
   },
   {
    "duration": 7,
    "start_time": "2021-12-29T07:31:01.171Z"
   },
   {
    "duration": 102576,
    "start_time": "2021-12-29T07:31:02.125Z"
   },
   {
    "duration": 42,
    "start_time": "2021-12-29T07:32:44.705Z"
   },
   {
    "duration": 82,
    "start_time": "2021-12-29T07:32:44.752Z"
   },
   {
    "duration": 1761,
    "start_time": "2021-12-29T07:32:44.838Z"
   },
   {
    "duration": 45,
    "start_time": "2021-12-29T07:32:46.602Z"
   },
   {
    "duration": 449,
    "start_time": "2021-12-29T07:32:46.651Z"
   },
   {
    "duration": 10,
    "start_time": "2021-12-29T07:39:03.565Z"
   },
   {
    "duration": 18,
    "start_time": "2021-12-29T07:39:06.163Z"
   },
   {
    "duration": 6,
    "start_time": "2021-12-29T07:39:07.981Z"
   },
   {
    "duration": 15,
    "start_time": "2021-12-29T07:39:10.587Z"
   },
   {
    "duration": 6,
    "start_time": "2021-12-29T07:39:11.427Z"
   },
   {
    "duration": 409,
    "start_time": "2021-12-29T07:39:12.156Z"
   },
   {
    "duration": 856,
    "start_time": "2021-12-29T07:39:13.500Z"
   },
   {
    "duration": 612,
    "start_time": "2021-12-29T07:39:14.605Z"
   },
   {
    "duration": 1134,
    "start_time": "2021-12-29T07:39:15.302Z"
   },
   {
    "duration": 25,
    "start_time": "2021-12-29T07:39:17.099Z"
   },
   {
    "duration": 8,
    "start_time": "2021-12-29T07:39:18.636Z"
   },
   {
    "duration": 8,
    "start_time": "2021-12-29T07:39:19.340Z"
   },
   {
    "duration": 19,
    "start_time": "2021-12-29T07:39:19.500Z"
   },
   {
    "duration": 30,
    "start_time": "2021-12-29T07:39:20.795Z"
   },
   {
    "duration": 6163,
    "start_time": "2021-12-29T07:39:22.156Z"
   },
   {
    "duration": 5310505,
    "start_time": "2021-12-29T07:39:28.323Z"
   },
   {
    "duration": 6389,
    "start_time": "2021-12-29T09:07:58.835Z"
   },
   {
    "duration": 3790,
    "start_time": "2021-12-29T09:08:05.230Z"
   },
   {
    "duration": 868,
    "start_time": "2021-12-29T10:30:22.928Z"
   },
   {
    "duration": 15043,
    "start_time": "2021-12-29T10:30:33.169Z"
   },
   {
    "duration": 632,
    "start_time": "2021-12-29T10:30:48.214Z"
   },
   {
    "duration": 694,
    "start_time": "2021-12-29T10:30:48.848Z"
   },
   {
    "duration": 21,
    "start_time": "2021-12-29T10:30:49.543Z"
   },
   {
    "duration": 18,
    "start_time": "2021-12-29T10:30:49.566Z"
   },
   {
    "duration": 18,
    "start_time": "2021-12-29T10:30:49.586Z"
   },
   {
    "duration": 3,
    "start_time": "2021-12-29T10:30:49.606Z"
   },
   {
    "duration": 483,
    "start_time": "2021-12-29T10:30:49.611Z"
   },
   {
    "duration": 15,
    "start_time": "2021-12-29T10:30:50.097Z"
   },
   {
    "duration": 43,
    "start_time": "2021-12-29T10:30:50.114Z"
   },
   {
    "duration": 834,
    "start_time": "2021-12-29T10:30:50.159Z"
   },
   {
    "duration": 26,
    "start_time": "2021-12-29T10:30:50.994Z"
   },
   {
    "duration": 198,
    "start_time": "2021-12-29T10:30:51.022Z"
   },
   {
    "duration": 6,
    "start_time": "2021-12-29T10:30:51.222Z"
   },
   {
    "duration": 20,
    "start_time": "2021-12-29T10:30:51.229Z"
   },
   {
    "duration": 11,
    "start_time": "2021-12-29T10:30:51.251Z"
   },
   {
    "duration": 23,
    "start_time": "2021-12-29T10:30:51.264Z"
   },
   {
    "duration": 13,
    "start_time": "2021-12-29T10:30:51.289Z"
   },
   {
    "duration": 265,
    "start_time": "2021-12-29T10:30:51.303Z"
   },
   {
    "duration": 507,
    "start_time": "2021-12-29T10:30:51.570Z"
   },
   {
    "duration": 355,
    "start_time": "2021-12-29T10:30:52.080Z"
   },
   {
    "duration": 646,
    "start_time": "2021-12-29T10:30:52.437Z"
   },
   {
    "duration": 17,
    "start_time": "2021-12-29T10:30:53.085Z"
   },
   {
    "duration": 4,
    "start_time": "2021-12-29T10:30:53.104Z"
   },
   {
    "duration": 7,
    "start_time": "2021-12-29T10:30:53.110Z"
   },
   {
    "duration": 28,
    "start_time": "2021-12-29T10:30:53.119Z"
   },
   {
    "duration": 18,
    "start_time": "2021-12-29T10:30:53.151Z"
   },
   {
    "duration": 2573,
    "start_time": "2021-12-29T10:30:53.171Z"
   },
   {
    "duration": 8993,
    "start_time": "2021-12-29T10:30:55.746Z"
   },
   {
    "duration": -375,
    "start_time": "2021-12-29T10:31:05.116Z"
   },
   {
    "duration": -378,
    "start_time": "2021-12-29T10:31:05.120Z"
   },
   {
    "duration": -381,
    "start_time": "2021-12-29T10:31:05.124Z"
   },
   {
    "duration": 2,
    "start_time": "2021-12-29T10:31:07.778Z"
   },
   {
    "duration": 3196,
    "start_time": "2021-12-29T10:31:09.648Z"
   },
   {
    "duration": 199,
    "start_time": "2021-12-29T11:11:21.844Z"
   },
   {
    "duration": 5,
    "start_time": "2021-12-29T11:12:05.067Z"
   },
   {
    "duration": 290,
    "start_time": "2021-12-29T11:12:28.044Z"
   },
   {
    "duration": 198,
    "start_time": "2021-12-29T11:12:40.808Z"
   },
   {
    "duration": 199,
    "start_time": "2021-12-29T11:12:58.902Z"
   },
   {
    "duration": 8,
    "start_time": "2021-12-29T11:14:49.937Z"
   },
   {
    "duration": 8,
    "start_time": "2021-12-29T11:15:26.783Z"
   },
   {
    "duration": 7,
    "start_time": "2021-12-29T11:27:25.606Z"
   },
   {
    "duration": 337,
    "start_time": "2021-12-29T11:32:00.414Z"
   },
   {
    "duration": 2727,
    "start_time": "2021-12-29T11:36:50.215Z"
   },
   {
    "duration": 2851,
    "start_time": "2021-12-29T11:36:54.093Z"
   },
   {
    "duration": 2917,
    "start_time": "2021-12-29T11:37:02.328Z"
   },
   {
    "duration": 534,
    "start_time": "2021-12-29T13:04:34.417Z"
   },
   {
    "duration": 563,
    "start_time": "2021-12-29T13:08:31.682Z"
   },
   {
    "duration": 228,
    "start_time": "2021-12-29T13:08:36.019Z"
   },
   {
    "duration": 717,
    "start_time": "2021-12-29T13:08:37.124Z"
   },
   {
    "duration": 1059,
    "start_time": "2021-12-29T13:08:40.882Z"
   },
   {
    "duration": 288,
    "start_time": "2021-12-29T13:11:25.764Z"
   },
   {
    "duration": 300,
    "start_time": "2021-12-29T13:15:40.049Z"
   },
   {
    "duration": 2394,
    "start_time": "2021-12-29T13:27:10.950Z"
   },
   {
    "duration": 3856,
    "start_time": "2021-12-29T13:27:16.185Z"
   },
   {
    "duration": 479,
    "start_time": "2021-12-29T13:27:26.573Z"
   },
   {
    "duration": 4167,
    "start_time": "2021-12-29T13:28:26.187Z"
   },
   {
    "duration": 2445,
    "start_time": "2021-12-29T13:29:19.500Z"
   },
   {
    "duration": 21692,
    "start_time": "2021-12-29T13:36:23.230Z"
   },
   {
    "duration": 128108,
    "start_time": "2021-12-29T13:36:48.933Z"
   },
   {
    "duration": 2043,
    "start_time": "2021-12-29T14:42:36.399Z"
   },
   {
    "duration": 3675,
    "start_time": "2021-12-29T14:43:01.066Z"
   },
   {
    "duration": 84320,
    "start_time": "2021-12-29T14:55:54.728Z"
   },
   {
    "duration": 271,
    "start_time": "2021-12-29T14:58:13.228Z"
   },
   {
    "duration": 105071,
    "start_time": "2021-12-29T14:58:39.371Z"
   },
   {
    "duration": 102951,
    "start_time": "2021-12-29T15:00:59.590Z"
   },
   {
    "duration": 71,
    "start_time": "2021-12-29T15:03:22.955Z"
   },
   {
    "duration": 326077,
    "start_time": "2021-12-29T15:03:40.366Z"
   },
   {
    "duration": 2358,
    "start_time": "2021-12-29T15:10:19.082Z"
   },
   {
    "duration": 334656,
    "start_time": "2021-12-29T15:10:41.292Z"
   },
   {
    "duration": 7364,
    "start_time": "2021-12-29T15:22:08.343Z"
   },
   {
    "duration": 1653,
    "start_time": "2021-12-29T15:22:15.709Z"
   },
   {
    "duration": 4956,
    "start_time": "2021-12-29T15:22:17.365Z"
   },
   {
    "duration": 25,
    "start_time": "2021-12-29T15:22:22.323Z"
   },
   {
    "duration": 18,
    "start_time": "2021-12-29T15:22:22.350Z"
   },
   {
    "duration": 41,
    "start_time": "2021-12-29T15:22:22.370Z"
   },
   {
    "duration": 8,
    "start_time": "2021-12-29T15:22:22.413Z"
   },
   {
    "duration": 854,
    "start_time": "2021-12-29T15:22:22.423Z"
   },
   {
    "duration": 12,
    "start_time": "2021-12-29T15:22:23.280Z"
   },
   {
    "duration": 27,
    "start_time": "2021-12-29T15:22:23.294Z"
   },
   {
    "duration": 1026,
    "start_time": "2021-12-29T15:22:23.323Z"
   },
   {
    "duration": 29,
    "start_time": "2021-12-29T15:22:24.351Z"
   },
   {
    "duration": 121,
    "start_time": "2021-12-29T15:22:24.382Z"
   },
   {
    "duration": 7,
    "start_time": "2021-12-29T15:22:24.504Z"
   },
   {
    "duration": 31,
    "start_time": "2021-12-29T15:22:24.513Z"
   },
   {
    "duration": 3,
    "start_time": "2021-12-29T15:22:24.546Z"
   },
   {
    "duration": 11,
    "start_time": "2021-12-29T15:22:24.551Z"
   },
   {
    "duration": 5,
    "start_time": "2021-12-29T15:22:24.564Z"
   },
   {
    "duration": 266,
    "start_time": "2021-12-29T15:22:24.571Z"
   },
   {
    "duration": 492,
    "start_time": "2021-12-29T15:22:24.839Z"
   },
   {
    "duration": 349,
    "start_time": "2021-12-29T15:22:25.333Z"
   },
   {
    "duration": 488,
    "start_time": "2021-12-29T15:22:25.684Z"
   },
   {
    "duration": 18,
    "start_time": "2021-12-29T15:22:26.174Z"
   },
   {
    "duration": 23,
    "start_time": "2021-12-29T15:22:26.194Z"
   },
   {
    "duration": 36,
    "start_time": "2021-12-29T15:22:26.219Z"
   },
   {
    "duration": 19,
    "start_time": "2021-12-29T15:22:26.257Z"
   },
   {
    "duration": 37,
    "start_time": "2021-12-29T15:22:26.280Z"
   },
   {
    "duration": 392,
    "start_time": "2021-12-29T15:22:26.319Z"
   },
   {
    "duration": -200,
    "start_time": "2021-12-29T15:22:26.913Z"
   },
   {
    "duration": -202,
    "start_time": "2021-12-29T15:22:26.916Z"
   },
   {
    "duration": -203,
    "start_time": "2021-12-29T15:22:26.919Z"
   },
   {
    "duration": -222,
    "start_time": "2021-12-29T15:22:26.939Z"
   },
   {
    "duration": -223,
    "start_time": "2021-12-29T15:22:26.942Z"
   },
   {
    "duration": -225,
    "start_time": "2021-12-29T15:22:26.945Z"
   },
   {
    "duration": -226,
    "start_time": "2021-12-29T15:22:26.948Z"
   },
   {
    "duration": 2627,
    "start_time": "2021-12-29T15:26:09.414Z"
   },
   {
    "duration": 6502,
    "start_time": "2021-12-29T15:26:17.989Z"
   },
   {
    "duration": 1368,
    "start_time": "2021-12-29T15:26:24.493Z"
   },
   {
    "duration": 770,
    "start_time": "2021-12-29T15:26:25.864Z"
   },
   {
    "duration": 24,
    "start_time": "2021-12-29T15:26:26.636Z"
   },
   {
    "duration": 22,
    "start_time": "2021-12-29T15:26:26.662Z"
   },
   {
    "duration": 19,
    "start_time": "2021-12-29T15:26:26.686Z"
   },
   {
    "duration": 4,
    "start_time": "2021-12-29T15:26:26.708Z"
   },
   {
    "duration": 485,
    "start_time": "2021-12-29T15:26:26.743Z"
   },
   {
    "duration": 14,
    "start_time": "2021-12-29T15:26:27.231Z"
   },
   {
    "duration": 23,
    "start_time": "2021-12-29T15:26:27.247Z"
   },
   {
    "duration": 948,
    "start_time": "2021-12-29T15:26:27.272Z"
   },
   {
    "duration": 40,
    "start_time": "2021-12-29T15:26:28.221Z"
   },
   {
    "duration": 121,
    "start_time": "2021-12-29T15:26:28.263Z"
   },
   {
    "duration": 7,
    "start_time": "2021-12-29T15:26:28.386Z"
   },
   {
    "duration": 24,
    "start_time": "2021-12-29T15:26:28.395Z"
   },
   {
    "duration": 8,
    "start_time": "2021-12-29T15:26:28.421Z"
   },
   {
    "duration": 29,
    "start_time": "2021-12-29T15:26:28.431Z"
   },
   {
    "duration": 7,
    "start_time": "2021-12-29T15:26:28.462Z"
   },
   {
    "duration": 302,
    "start_time": "2021-12-29T15:26:28.471Z"
   },
   {
    "duration": 705,
    "start_time": "2021-12-29T15:26:28.775Z"
   },
   {
    "duration": 391,
    "start_time": "2021-12-29T15:26:29.483Z"
   },
   {
    "duration": 559,
    "start_time": "2021-12-29T15:26:29.876Z"
   },
   {
    "duration": 19,
    "start_time": "2021-12-29T15:26:30.438Z"
   },
   {
    "duration": 7,
    "start_time": "2021-12-29T15:26:30.459Z"
   },
   {
    "duration": 17,
    "start_time": "2021-12-29T15:26:30.468Z"
   },
   {
    "duration": 15,
    "start_time": "2021-12-29T15:26:30.487Z"
   },
   {
    "duration": 40,
    "start_time": "2021-12-29T15:26:30.504Z"
   },
   {
    "duration": 2697,
    "start_time": "2021-12-29T15:26:30.546Z"
   },
   {
    "duration": 4,
    "start_time": "2021-12-29T15:26:33.245Z"
   },
   {
    "duration": 2192,
    "start_time": "2021-12-29T15:26:33.251Z"
   },
   {
    "duration": 337,
    "start_time": "2021-12-29T15:26:35.446Z"
   },
   {
    "duration": -218,
    "start_time": "2021-12-29T15:26:36.003Z"
   },
   {
    "duration": -220,
    "start_time": "2021-12-29T15:26:36.006Z"
   },
   {
    "duration": -224,
    "start_time": "2021-12-29T15:26:36.010Z"
   },
   {
    "duration": -226,
    "start_time": "2021-12-29T15:26:36.013Z"
   }
  ],
  "kernelspec": {
   "display_name": "Python 3",
   "language": "python",
   "name": "python3"
  },
  "language_info": {
   "codemirror_mode": {
    "name": "ipython",
    "version": 3
   },
   "file_extension": ".py",
   "mimetype": "text/x-python",
   "name": "python",
   "nbconvert_exporter": "python",
   "pygments_lexer": "ipython3",
   "version": "3.10.1"
  },
  "toc": {
   "base_numbering": 1,
   "nav_menu": {},
   "number_sections": false,
   "sideBar": true,
   "skip_h1_title": false,
   "title_cell": "Содержание",
   "title_sidebar": "Contents",
   "toc_cell": false,
   "toc_position": {},
   "toc_section_display": true,
   "toc_window_display": false
  }
 },
 "nbformat": 4,
 "nbformat_minor": 2
}
