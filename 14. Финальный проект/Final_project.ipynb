{
 "cells": [
  {
   "cell_type": "markdown",
   "id": "9587ab96",
   "metadata": {},
   "source": [
    "# <span style=\"color:red\">Обработка стали</span>"
   ]
  },
  {
   "cell_type": "markdown",
   "id": "488d756d",
   "metadata": {},
   "source": [
    "---\n",
    "**<span style=\"color: crimson\">Заказчик</span>**: ООО «Так закаляем сталь»   \n",
    "**<span style=\"color: crimson\">Цель анализа</span>**  построить модель (регрессионную), которая предскажет температуру стали для уменьшения потребления электроэнергии на этапе обработки стали.      \n",
    "**<span style=\"color: crimson\">Целевой признак</span>**: последний замер партии в таблице data_temp (не последний известный, а именно последний).\n",
    "\n",
    "---"
   ]
  },
  {
   "cell_type": "markdown",
   "id": "a0a55b58",
   "metadata": {},
   "source": [
    "### <span style=\"color:red\">О</span>писание процесса:"
   ]
  },
  {
   "cell_type": "markdown",
   "id": "d0872df3",
   "metadata": {},
   "source": [
    "Сталь обрабатывают в металлическом ковше вместимостью около 100 тонн. Чтобы ковш выдерживал высокие температуры, изнутри его облицовывают огнеупорным кирпичом. Расплавленную сталь заливают в ковш и подогревают до нужной температуры графитовыми электродами. Они установлены в крышке ковша. "
   ]
  },
  {
   "cell_type": "markdown",
   "id": "fcec6d9e",
   "metadata": {},
   "source": [
    "### <span style=\"color:red\">П</span>роцесс обработки:"
   ]
  },
  {
   "cell_type": "markdown",
   "id": "34fff88f",
   "metadata": {},
   "source": [
    "<img src=\"https://i.ibb.co/6mJxtXc/diagram-3-removebg-preview.png\" width=300/>"
   ]
  },
  {
   "cell_type": "markdown",
   "id": "70e2a834",
   "metadata": {},
   "source": [
    "### <span style=\"color:red\">T</span>аблицы:"
   ]
  },
  {
   "cell_type": "markdown",
   "id": "3052049c",
   "metadata": {},
   "source": [
    "- `data_arc.csv` — данные об электродах, кол-во электроэнергии для плавления стали;\n",
    "- `data_bulk.csv` — данные о подаче сыпучих материалов (объём);\n",
    "- `data_bulk_time.csv` *—* данные о подаче сыпучих материалов (время);\n",
    "- `data_gas.csv` — данные о продувке сплава газом;\n",
    "- `data_temp.csv` — результаты измерения температуры;\n",
    "- `data_wire.csv` — данные о проволочных материалах (объём);\n",
    "- `data_wire_time.csv` — данные о проволочных материалах (время)."
   ]
  },
  {
   "cell_type": "markdown",
   "id": "df37438b",
   "metadata": {},
   "source": [
    "## Импорт библиотек:"
   ]
  },
  {
   "cell_type": "code",
   "execution_count": 1,
   "id": "75ee0112",
   "metadata": {},
   "outputs": [
    {
     "name": "stdout",
     "output_type": "stream",
     "text": [
      "Requirement already satisfied: sidetable in c:\\users\\владелец\\appdata\\local\\programs\\python\\python310\\lib\\site-packages (0.9.0)\n",
      "Requirement already satisfied: pandas>=1.0 in c:\\users\\владелец\\appdata\\local\\programs\\python\\python310\\lib\\site-packages (from sidetable) (1.4.1)\n",
      "Requirement already satisfied: pytz>=2020.1 in c:\\users\\владелец\\appdata\\local\\programs\\python\\python310\\lib\\site-packages (from pandas>=1.0->sidetable) (2021.3)\n",
      "Requirement already satisfied: python-dateutil>=2.8.1 in c:\\users\\владелец\\appdata\\local\\programs\\python\\python310\\lib\\site-packages (from pandas>=1.0->sidetable) (2.8.2)\n",
      "Requirement already satisfied: numpy>=1.21.0 in c:\\users\\владелец\\appdata\\local\\programs\\python\\python310\\lib\\site-packages (from pandas>=1.0->sidetable) (1.22.3)\n",
      "Requirement already satisfied: six>=1.5 in c:\\users\\владелец\\appdata\\local\\programs\\python\\python310\\lib\\site-packages (from python-dateutil>=2.8.1->pandas>=1.0->sidetable) (1.16.0)\n",
      "Requirement already satisfied: optuna in c:\\users\\владелец\\appdata\\local\\programs\\python\\python310\\lib\\site-packages (2.10.0)\n",
      "Requirement already satisfied: tqdm in c:\\users\\владелец\\appdata\\local\\programs\\python\\python310\\lib\\site-packages (from optuna) (4.62.3)\n",
      "Requirement already satisfied: cmaes>=0.8.2 in c:\\users\\владелец\\appdata\\local\\programs\\python\\python310\\lib\\site-packages (from optuna) (0.8.2)\n",
      "Requirement already satisfied: cliff in c:\\users\\владелец\\appdata\\local\\programs\\python\\python310\\lib\\site-packages (from optuna) (3.10.1)\n",
      "Requirement already satisfied: scipy!=1.4.0 in c:\\users\\владелец\\appdata\\local\\programs\\python\\python310\\lib\\site-packages (from optuna) (1.7.3)\n",
      "Requirement already satisfied: packaging>=20.0 in c:\\users\\владелец\\appdata\\local\\programs\\python\\python310\\lib\\site-packages (from optuna) (21.3)\n",
      "Requirement already satisfied: colorlog in c:\\users\\владелец\\appdata\\local\\programs\\python\\python310\\lib\\site-packages (from optuna) (6.6.0)\n",
      "Requirement already satisfied: alembic in c:\\users\\владелец\\appdata\\local\\programs\\python\\python310\\lib\\site-packages (from optuna) (1.7.7)\n",
      "Requirement already satisfied: numpy in c:\\users\\владелец\\appdata\\local\\programs\\python\\python310\\lib\\site-packages (from optuna) (1.22.3)\n",
      "Requirement already satisfied: PyYAML in c:\\users\\владелец\\appdata\\local\\programs\\python\\python310\\lib\\site-packages (from optuna) (6.0)\n",
      "Requirement already satisfied: sqlalchemy>=1.1.0 in c:\\users\\владелец\\appdata\\local\\programs\\python\\python310\\lib\\site-packages (from optuna) (1.4.32)\n",
      "Requirement already satisfied: pyparsing!=3.0.5,>=2.0.2 in c:\\users\\владелец\\appdata\\local\\programs\\python\\python310\\lib\\site-packages (from packaging>=20.0->optuna) (3.0.7)\n",
      "Requirement already satisfied: greenlet!=0.4.17 in c:\\users\\владелец\\appdata\\local\\programs\\python\\python310\\lib\\site-packages (from sqlalchemy>=1.1.0->optuna) (1.1.2)\n",
      "Requirement already satisfied: Mako in c:\\users\\владелец\\appdata\\local\\programs\\python\\python310\\lib\\site-packages (from alembic->optuna) (1.2.0)\n",
      "Requirement already satisfied: autopage>=0.4.0 in c:\\users\\владелец\\appdata\\local\\programs\\python\\python310\\lib\\site-packages (from cliff->optuna) (0.5.0)\n",
      "Requirement already satisfied: stevedore>=2.0.1 in c:\\users\\владелец\\appdata\\local\\programs\\python\\python310\\lib\\site-packages (from cliff->optuna) (3.5.0)\n",
      "Requirement already satisfied: PrettyTable>=0.7.2 in c:\\users\\владелец\\appdata\\local\\programs\\python\\python310\\lib\\site-packages (from cliff->optuna) (3.2.0)\n",
      "Requirement already satisfied: pbr!=2.1.0,>=2.0.0 in c:\\users\\владелец\\appdata\\local\\programs\\python\\python310\\lib\\site-packages (from cliff->optuna) (5.8.1)\n",
      "Requirement already satisfied: cmd2>=1.0.0 in c:\\users\\владелец\\appdata\\local\\programs\\python\\python310\\lib\\site-packages (from cliff->optuna) (2.4.0)\n",
      "Requirement already satisfied: colorama in c:\\users\\владелец\\appdata\\local\\programs\\python\\python310\\lib\\site-packages (from colorlog->optuna) (0.4.4)\n",
      "Requirement already satisfied: wcwidth>=0.1.7 in c:\\users\\владелец\\appdata\\local\\programs\\python\\python310\\lib\\site-packages (from cmd2>=1.0.0->cliff->optuna) (0.2.5)\n",
      "Requirement already satisfied: pyreadline3 in c:\\users\\владелец\\appdata\\local\\programs\\python\\python310\\lib\\site-packages (from cmd2>=1.0.0->cliff->optuna) (3.4.1)\n",
      "Requirement already satisfied: pyperclip>=1.6 in c:\\users\\владелец\\appdata\\local\\programs\\python\\python310\\lib\\site-packages (from cmd2>=1.0.0->cliff->optuna) (1.8.2)\n",
      "Requirement already satisfied: attrs>=16.3.0 in c:\\users\\владелец\\appdata\\local\\programs\\python\\python310\\lib\\site-packages (from cmd2>=1.0.0->cliff->optuna) (21.4.0)\n",
      "Requirement already satisfied: MarkupSafe>=0.9.2 in c:\\users\\владелец\\appdata\\local\\programs\\python\\python310\\lib\\site-packages (from Mako->alembic->optuna) (2.1.1)\n"
     ]
    }
   ],
   "source": [
    "!pip3 install sidetable\n",
    "!pip3 install optuna"
   ]
  },
  {
   "cell_type": "code",
   "execution_count": 2,
   "id": "bb5eb794",
   "metadata": {},
   "outputs": [],
   "source": [
    "import pandas as pd\n",
    "import sidetable as stb\n",
    "import matplotlib.pyplot as plt\n",
    "import matplotlib\n",
    "from sklearn.model_selection import train_test_split, cross_val_score, KFold\n",
    "from lightgbm import LGBMRegressor\n",
    "from math import sqrt \n",
    "from sklearn.metrics import make_scorer, confusion_matrix, mean_absolute_error\n",
    "from sklearn.utils import shuffle\n",
    "import optuna"
   ]
  },
  {
   "cell_type": "markdown",
   "id": "adf86466",
   "metadata": {},
   "source": [
    "## <span style=\"color: crimson\">Этап 1</span> Предобработка данных"
   ]
  },
  {
   "cell_type": "markdown",
   "id": "e01b18b5",
   "metadata": {},
   "source": [
    "<h3><span style=\"color: red\"><b>| </b></span> Чтение данных</h3>"
   ]
  },
  {
   "cell_type": "code",
   "execution_count": 3,
   "id": "24d83b73",
   "metadata": {},
   "outputs": [],
   "source": [
    "data_arc = pd.read_csv('./File/data_arc.csv')\n",
    "data_bulk = pd.read_csv('./File/data_bulk.csv')\n",
    "data_bulk_time = pd.read_csv('./File/data_bulk_time.csv')\n",
    "data_gas = pd.read_csv('./File/data_gas.csv')\n",
    "data_temp = pd.read_csv('./File/data_temp.csv')                       \n",
    "data_wire = pd.read_csv('./File/data_wire.csv')  \n",
    "data_wire_time = pd.read_csv('./File/data_wire_time.csv')                       "
   ]
  },
  {
   "cell_type": "markdown",
   "id": "c3d398d0",
   "metadata": {},
   "source": [
    "**Нам нужно подготовить данные для модели:**\n",
    "1. Оставить только первый и последний (целевой) замер температуры в data_temp (т.к у нас не будет всех циклов производства).\n",
    "2. Суммировать данные по циклам в партии (эти данные мы можем получить от сотрудников компании еще до отлива стали)."
   ]
  },
  {
   "cell_type": "markdown",
   "id": "4ab22a5d",
   "metadata": {},
   "source": [
    "Данные с датами не улучшают модель (при переводе в секунды и масштабировании (дата - минимальная дата))."
   ]
  },
  {
   "cell_type": "markdown",
   "id": "0c9dc456",
   "metadata": {},
   "source": [
    "---"
   ]
  },
  {
   "cell_type": "markdown",
   "id": "735c892f",
   "metadata": {},
   "source": [
    "<h3><span style=\"color: red\"><b>- </b></span> data_arc - данные об электродах;</h3> "
   ]
  },
  {
   "cell_type": "markdown",
   "id": "f0203647",
   "metadata": {},
   "source": [
    "Каждый объект это этап обработки партии, а каждый параметр использованное электричество для разогрева."
   ]
  },
  {
   "cell_type": "markdown",
   "id": "f00a2e7a",
   "metadata": {},
   "source": [
    "**ИЗУЧЕНИЕ АНОМАЛИЙ**"
   ]
  },
  {
   "cell_type": "code",
   "execution_count": 4,
   "id": "54eade73",
   "metadata": {},
   "outputs": [
    {
     "data": {
      "text/html": [
       "<div>\n",
       "<style scoped>\n",
       "    .dataframe tbody tr th:only-of-type {\n",
       "        vertical-align: middle;\n",
       "    }\n",
       "\n",
       "    .dataframe tbody tr th {\n",
       "        vertical-align: top;\n",
       "    }\n",
       "\n",
       "    .dataframe thead th {\n",
       "        text-align: right;\n",
       "    }\n",
       "</style>\n",
       "<table border=\"1\" class=\"dataframe\">\n",
       "  <thead>\n",
       "    <tr style=\"text-align: right;\">\n",
       "      <th></th>\n",
       "      <th>key</th>\n",
       "      <th>Начало нагрева дугой</th>\n",
       "      <th>Конец нагрева дугой</th>\n",
       "      <th>Активная мощность</th>\n",
       "      <th>Реактивная мощность</th>\n",
       "    </tr>\n",
       "  </thead>\n",
       "  <tbody>\n",
       "    <tr>\n",
       "      <th>0</th>\n",
       "      <td>1</td>\n",
       "      <td>2019-05-03 11:02:14</td>\n",
       "      <td>2019-05-03 11:06:02</td>\n",
       "      <td>0.976059</td>\n",
       "      <td>0.687084</td>\n",
       "    </tr>\n",
       "    <tr>\n",
       "      <th>1</th>\n",
       "      <td>1</td>\n",
       "      <td>2019-05-03 11:07:28</td>\n",
       "      <td>2019-05-03 11:10:33</td>\n",
       "      <td>0.805607</td>\n",
       "      <td>0.520285</td>\n",
       "    </tr>\n",
       "    <tr>\n",
       "      <th>2</th>\n",
       "      <td>1</td>\n",
       "      <td>2019-05-03 11:11:44</td>\n",
       "      <td>2019-05-03 11:14:36</td>\n",
       "      <td>0.744363</td>\n",
       "      <td>0.498805</td>\n",
       "    </tr>\n",
       "    <tr>\n",
       "      <th>3</th>\n",
       "      <td>1</td>\n",
       "      <td>2019-05-03 11:18:14</td>\n",
       "      <td>2019-05-03 11:24:19</td>\n",
       "      <td>1.659363</td>\n",
       "      <td>1.062669</td>\n",
       "    </tr>\n",
       "    <tr>\n",
       "      <th>4</th>\n",
       "      <td>1</td>\n",
       "      <td>2019-05-03 11:26:09</td>\n",
       "      <td>2019-05-03 11:28:37</td>\n",
       "      <td>0.692755</td>\n",
       "      <td>0.414397</td>\n",
       "    </tr>\n",
       "    <tr>\n",
       "      <th>...</th>\n",
       "      <td>...</td>\n",
       "      <td>...</td>\n",
       "      <td>...</td>\n",
       "      <td>...</td>\n",
       "      <td>...</td>\n",
       "    </tr>\n",
       "    <tr>\n",
       "      <th>14871</th>\n",
       "      <td>3241</td>\n",
       "      <td>2019-09-01 03:58:58</td>\n",
       "      <td>2019-09-01 04:01:35</td>\n",
       "      <td>0.533670</td>\n",
       "      <td>0.354439</td>\n",
       "    </tr>\n",
       "    <tr>\n",
       "      <th>14872</th>\n",
       "      <td>3241</td>\n",
       "      <td>2019-09-01 04:05:04</td>\n",
       "      <td>2019-09-01 04:08:04</td>\n",
       "      <td>0.676604</td>\n",
       "      <td>0.523631</td>\n",
       "    </tr>\n",
       "    <tr>\n",
       "      <th>14873</th>\n",
       "      <td>3241</td>\n",
       "      <td>2019-09-01 04:16:41</td>\n",
       "      <td>2019-09-01 04:19:45</td>\n",
       "      <td>0.733899</td>\n",
       "      <td>0.475654</td>\n",
       "    </tr>\n",
       "    <tr>\n",
       "      <th>14874</th>\n",
       "      <td>3241</td>\n",
       "      <td>2019-09-01 04:31:51</td>\n",
       "      <td>2019-09-01 04:32:48</td>\n",
       "      <td>0.220694</td>\n",
       "      <td>0.145768</td>\n",
       "    </tr>\n",
       "    <tr>\n",
       "      <th>14875</th>\n",
       "      <td>3241</td>\n",
       "      <td>2019-09-01 04:34:47</td>\n",
       "      <td>2019-09-01 04:36:08</td>\n",
       "      <td>0.306580</td>\n",
       "      <td>0.196708</td>\n",
       "    </tr>\n",
       "  </tbody>\n",
       "</table>\n",
       "<p>14876 rows × 5 columns</p>\n",
       "</div>"
      ],
      "text/plain": [
       "        key Начало нагрева дугой  Конец нагрева дугой  Активная мощность  \\\n",
       "0         1  2019-05-03 11:02:14  2019-05-03 11:06:02           0.976059   \n",
       "1         1  2019-05-03 11:07:28  2019-05-03 11:10:33           0.805607   \n",
       "2         1  2019-05-03 11:11:44  2019-05-03 11:14:36           0.744363   \n",
       "3         1  2019-05-03 11:18:14  2019-05-03 11:24:19           1.659363   \n",
       "4         1  2019-05-03 11:26:09  2019-05-03 11:28:37           0.692755   \n",
       "...     ...                  ...                  ...                ...   \n",
       "14871  3241  2019-09-01 03:58:58  2019-09-01 04:01:35           0.533670   \n",
       "14872  3241  2019-09-01 04:05:04  2019-09-01 04:08:04           0.676604   \n",
       "14873  3241  2019-09-01 04:16:41  2019-09-01 04:19:45           0.733899   \n",
       "14874  3241  2019-09-01 04:31:51  2019-09-01 04:32:48           0.220694   \n",
       "14875  3241  2019-09-01 04:34:47  2019-09-01 04:36:08           0.306580   \n",
       "\n",
       "       Реактивная мощность  \n",
       "0                 0.687084  \n",
       "1                 0.520285  \n",
       "2                 0.498805  \n",
       "3                 1.062669  \n",
       "4                 0.414397  \n",
       "...                    ...  \n",
       "14871             0.354439  \n",
       "14872             0.523631  \n",
       "14873             0.475654  \n",
       "14874             0.145768  \n",
       "14875             0.196708  \n",
       "\n",
       "[14876 rows x 5 columns]"
      ]
     },
     "execution_count": 4,
     "metadata": {},
     "output_type": "execute_result"
    }
   ],
   "source": [
    "data_arc"
   ]
  },
  {
   "cell_type": "markdown",
   "id": "3a98d25e",
   "metadata": {},
   "source": [
    "**<span style=\"color: crimson\">Изменить</span>:** названия столбцов (удалить пробелы)."
   ]
  },
  {
   "cell_type": "code",
   "execution_count": 5,
   "id": "2a29800c",
   "metadata": {},
   "outputs": [
    {
     "name": "stdout",
     "output_type": "stream",
     "text": [
      "<class 'pandas.core.frame.DataFrame'>\n",
      "RangeIndex: 14876 entries, 0 to 14875\n",
      "Data columns (total 5 columns):\n",
      " #   Column                Non-Null Count  Dtype  \n",
      "---  ------                --------------  -----  \n",
      " 0   key                   14876 non-null  int64  \n",
      " 1   Начало нагрева дугой  14876 non-null  object \n",
      " 2   Конец нагрева дугой   14876 non-null  object \n",
      " 3   Активная мощность     14876 non-null  float64\n",
      " 4   Реактивная мощность   14876 non-null  float64\n",
      "dtypes: float64(2), int64(1), object(2)\n",
      "memory usage: 581.2+ KB\n"
     ]
    }
   ],
   "source": [
    "data_arc.info()"
   ]
  },
  {
   "cell_type": "markdown",
   "id": "ac5d3dd9",
   "metadata": {},
   "source": [
    "**<span style=\"color: crimson\">Изменить</span>:** типы столбцов \"Начало нагрева дугой\" и \"Конец нагрева дугой\" на Datetime."
   ]
  },
  {
   "cell_type": "code",
   "execution_count": 6,
   "id": "52123a72",
   "metadata": {},
   "outputs": [
    {
     "data": {
      "text/html": [
       "<div>\n",
       "<style scoped>\n",
       "    .dataframe tbody tr th:only-of-type {\n",
       "        vertical-align: middle;\n",
       "    }\n",
       "\n",
       "    .dataframe tbody tr th {\n",
       "        vertical-align: top;\n",
       "    }\n",
       "\n",
       "    .dataframe thead th {\n",
       "        text-align: right;\n",
       "    }\n",
       "</style>\n",
       "<table border=\"1\" class=\"dataframe\">\n",
       "  <thead>\n",
       "    <tr style=\"text-align: right;\">\n",
       "      <th></th>\n",
       "      <th>key</th>\n",
       "      <th>Активная мощность</th>\n",
       "      <th>Реактивная мощность</th>\n",
       "    </tr>\n",
       "  </thead>\n",
       "  <tbody>\n",
       "    <tr>\n",
       "      <th>count</th>\n",
       "      <td>14876.000000</td>\n",
       "      <td>14876.000000</td>\n",
       "      <td>14876.000000</td>\n",
       "    </tr>\n",
       "    <tr>\n",
       "      <th>mean</th>\n",
       "      <td>1615.220422</td>\n",
       "      <td>0.670441</td>\n",
       "      <td>0.452592</td>\n",
       "    </tr>\n",
       "    <tr>\n",
       "      <th>std</th>\n",
       "      <td>934.571502</td>\n",
       "      <td>0.408159</td>\n",
       "      <td>5.878702</td>\n",
       "    </tr>\n",
       "    <tr>\n",
       "      <th>min</th>\n",
       "      <td>1.000000</td>\n",
       "      <td>0.030002</td>\n",
       "      <td>-715.504924</td>\n",
       "    </tr>\n",
       "    <tr>\n",
       "      <th>25%</th>\n",
       "      <td>806.000000</td>\n",
       "      <td>0.395297</td>\n",
       "      <td>0.290991</td>\n",
       "    </tr>\n",
       "    <tr>\n",
       "      <th>50%</th>\n",
       "      <td>1617.000000</td>\n",
       "      <td>0.555517</td>\n",
       "      <td>0.415962</td>\n",
       "    </tr>\n",
       "    <tr>\n",
       "      <th>75%</th>\n",
       "      <td>2429.000000</td>\n",
       "      <td>0.857034</td>\n",
       "      <td>0.637371</td>\n",
       "    </tr>\n",
       "    <tr>\n",
       "      <th>max</th>\n",
       "      <td>3241.000000</td>\n",
       "      <td>3.731596</td>\n",
       "      <td>2.676388</td>\n",
       "    </tr>\n",
       "  </tbody>\n",
       "</table>\n",
       "</div>"
      ],
      "text/plain": [
       "                key  Активная мощность  Реактивная мощность\n",
       "count  14876.000000       14876.000000         14876.000000\n",
       "mean    1615.220422           0.670441             0.452592\n",
       "std      934.571502           0.408159             5.878702\n",
       "min        1.000000           0.030002          -715.504924\n",
       "25%      806.000000           0.395297             0.290991\n",
       "50%     1617.000000           0.555517             0.415962\n",
       "75%     2429.000000           0.857034             0.637371\n",
       "max     3241.000000           3.731596             2.676388"
      ]
     },
     "execution_count": 6,
     "metadata": {},
     "output_type": "execute_result"
    }
   ],
   "source": [
    "data_arc.describe()"
   ]
  },
  {
   "cell_type": "markdown",
   "id": "b08e20f0",
   "metadata": {},
   "source": [
    "**<span style=\"color: crimson\">Удалить</span>:** значения с отрицательным столбцом \"Реактивная мощность\". "
   ]
  },
  {
   "cell_type": "markdown",
   "id": "e41fcf6b",
   "metadata": {},
   "source": [
    "**ИСПРАВЛЕНИЕ АНОМАЛИЙ**"
   ]
  },
  {
   "cell_type": "code",
   "execution_count": 7,
   "id": "6c827679",
   "metadata": {},
   "outputs": [],
   "source": [
    "data_arc = data_arc.rename(\n",
    "    columns={\n",
    "        \"Активная мощность\": \"Активная_мощность\",\n",
    "        \"Реактивная мощность\": \"Реактивная_мощность\",\n",
    "    }\n",
    ")"
   ]
  },
  {
   "cell_type": "code",
   "execution_count": 8,
   "id": "d05ed1bb",
   "metadata": {},
   "outputs": [],
   "source": [
    "data_arc = data_arc.query(\"Реактивная_мощность > 0\")"
   ]
  },
  {
   "cell_type": "markdown",
   "id": "3e52a96e",
   "metadata": {},
   "source": [
    "**ИЗУЧЕНИЕ ДАННЫХ**"
   ]
  },
  {
   "cell_type": "markdown",
   "id": "5d486187",
   "metadata": {},
   "source": [
    "Корреляция между активной_мощностью и реактивной_мощностью."
   ]
  },
  {
   "cell_type": "code",
   "execution_count": 9,
   "id": "23510e49",
   "metadata": {},
   "outputs": [
    {
     "data": {
      "image/png": "[encoded data removed]",
      "text/plain": [
       "<Figure size 720x720 with 1 Axes>"
      ]
     },
     "metadata": {
      "needs_background": "light"
     },
     "output_type": "display_data"
    }
   ],
   "source": [
    "plt.figure(figsize=(10, 10))\n",
    "\n",
    "plt.scatter(data_arc['Активная_мощность'], data_arc['Реактивная_мощность'])\n",
    "plt.xlabel(\"Активная мощность\")\n",
    "plt.ylabel(\"Реактивная мощность\")\n",
    "plt.show()"
   ]
  },
  {
   "cell_type": "markdown",
   "id": "31260578",
   "metadata": {},
   "source": [
    "**Как видно на графике у наших данных сильная корреляция, так что есть несколько вариантов, чтобы избавится от зависимых данных:**\n",
    "1. Удалить столбец Активная_мощность\n",
    "2. Удалить столбец Реактивная_мощность\n",
    "3. Использовать \"полную мощность\" $ \\sqrt{Активная\\_мощность^2 + {Реактивная\\_мощность}^2}$\n",
    "4. Использовать \"энергию\" ($Полная\\_мощность * Время\\_работы$) "
   ]
  },
  {
   "cell_type": "markdown",
   "id": "3cbe1d50",
   "metadata": {},
   "source": [
    "Наилучшее качество у **полной мощности** (выяснено экспериментально):"
   ]
  },
  {
   "cell_type": "code",
   "execution_count": 10,
   "id": "2518b19b",
   "metadata": {},
   "outputs": [],
   "source": [
    "data_arc['Полная_мощность'] = (data_arc['Активная_мощность']**2 + data_arc['Реактивная_мощность']**2).apply(lambda x:sqrt(x))"
   ]
  },
  {
   "cell_type": "code",
   "execution_count": 11,
   "id": "4d14dc0f",
   "metadata": {},
   "outputs": [],
   "source": [
    "data_arc = data_arc[['key','Полная_мощность']]"
   ]
  },
  {
   "cell_type": "code",
   "execution_count": 12,
   "id": "df1942d5",
   "metadata": {},
   "outputs": [],
   "source": [
    "data_arc = data_arc.groupby('key').sum()"
   ]
  },
  {
   "cell_type": "markdown",
   "id": "47b21c90",
   "metadata": {},
   "source": [
    "---"
   ]
  },
  {
   "cell_type": "markdown",
   "id": "8b985b77",
   "metadata": {},
   "source": [
    "<h3><span style=\"color: red\"><b>- </b></span> data_bulk - данные о подаче сыпучих материалов (объём);</h3> "
   ]
  },
  {
   "cell_type": "markdown",
   "id": "d03dc83a",
   "metadata": {},
   "source": [
    "Каждый объект это партия, а каждый параметр добавка (жаль неизвестно какие)."
   ]
  },
  {
   "cell_type": "markdown",
   "id": "b1a110a7",
   "metadata": {},
   "source": [
    "**ИЗУЧЕНИЕ АНОМАЛИЙ**"
   ]
  },
  {
   "cell_type": "code",
   "execution_count": 13,
   "id": "556faa55",
   "metadata": {},
   "outputs": [
    {
     "data": {
      "text/html": [
       "<div>\n",
       "<style scoped>\n",
       "    .dataframe tbody tr th:only-of-type {\n",
       "        vertical-align: middle;\n",
       "    }\n",
       "\n",
       "    .dataframe tbody tr th {\n",
       "        vertical-align: top;\n",
       "    }\n",
       "\n",
       "    .dataframe thead th {\n",
       "        text-align: right;\n",
       "    }\n",
       "</style>\n",
       "<table border=\"1\" class=\"dataframe\">\n",
       "  <thead>\n",
       "    <tr style=\"text-align: right;\">\n",
       "      <th></th>\n",
       "      <th>key</th>\n",
       "      <th>Bulk 1</th>\n",
       "      <th>Bulk 2</th>\n",
       "      <th>Bulk 3</th>\n",
       "      <th>Bulk 4</th>\n",
       "      <th>Bulk 5</th>\n",
       "      <th>Bulk 6</th>\n",
       "      <th>Bulk 7</th>\n",
       "      <th>Bulk 8</th>\n",
       "      <th>Bulk 9</th>\n",
       "      <th>Bulk 10</th>\n",
       "      <th>Bulk 11</th>\n",
       "      <th>Bulk 12</th>\n",
       "      <th>Bulk 13</th>\n",
       "      <th>Bulk 14</th>\n",
       "      <th>Bulk 15</th>\n",
       "    </tr>\n",
       "  </thead>\n",
       "  <tbody>\n",
       "    <tr>\n",
       "      <th>0</th>\n",
       "      <td>1</td>\n",
       "      <td>NaN</td>\n",
       "      <td>NaN</td>\n",
       "      <td>NaN</td>\n",
       "      <td>43.0</td>\n",
       "      <td>NaN</td>\n",
       "      <td>NaN</td>\n",
       "      <td>NaN</td>\n",
       "      <td>NaN</td>\n",
       "      <td>NaN</td>\n",
       "      <td>NaN</td>\n",
       "      <td>NaN</td>\n",
       "      <td>206.0</td>\n",
       "      <td>NaN</td>\n",
       "      <td>150.0</td>\n",
       "      <td>154.0</td>\n",
       "    </tr>\n",
       "    <tr>\n",
       "      <th>1</th>\n",
       "      <td>2</td>\n",
       "      <td>NaN</td>\n",
       "      <td>NaN</td>\n",
       "      <td>NaN</td>\n",
       "      <td>73.0</td>\n",
       "      <td>NaN</td>\n",
       "      <td>NaN</td>\n",
       "      <td>NaN</td>\n",
       "      <td>NaN</td>\n",
       "      <td>NaN</td>\n",
       "      <td>NaN</td>\n",
       "      <td>NaN</td>\n",
       "      <td>206.0</td>\n",
       "      <td>NaN</td>\n",
       "      <td>149.0</td>\n",
       "      <td>154.0</td>\n",
       "    </tr>\n",
       "    <tr>\n",
       "      <th>2</th>\n",
       "      <td>3</td>\n",
       "      <td>NaN</td>\n",
       "      <td>NaN</td>\n",
       "      <td>NaN</td>\n",
       "      <td>34.0</td>\n",
       "      <td>NaN</td>\n",
       "      <td>NaN</td>\n",
       "      <td>NaN</td>\n",
       "      <td>NaN</td>\n",
       "      <td>NaN</td>\n",
       "      <td>NaN</td>\n",
       "      <td>NaN</td>\n",
       "      <td>205.0</td>\n",
       "      <td>NaN</td>\n",
       "      <td>152.0</td>\n",
       "      <td>153.0</td>\n",
       "    </tr>\n",
       "    <tr>\n",
       "      <th>3</th>\n",
       "      <td>4</td>\n",
       "      <td>NaN</td>\n",
       "      <td>NaN</td>\n",
       "      <td>NaN</td>\n",
       "      <td>81.0</td>\n",
       "      <td>NaN</td>\n",
       "      <td>NaN</td>\n",
       "      <td>NaN</td>\n",
       "      <td>NaN</td>\n",
       "      <td>NaN</td>\n",
       "      <td>NaN</td>\n",
       "      <td>NaN</td>\n",
       "      <td>207.0</td>\n",
       "      <td>NaN</td>\n",
       "      <td>153.0</td>\n",
       "      <td>154.0</td>\n",
       "    </tr>\n",
       "    <tr>\n",
       "      <th>4</th>\n",
       "      <td>5</td>\n",
       "      <td>NaN</td>\n",
       "      <td>NaN</td>\n",
       "      <td>NaN</td>\n",
       "      <td>78.0</td>\n",
       "      <td>NaN</td>\n",
       "      <td>NaN</td>\n",
       "      <td>NaN</td>\n",
       "      <td>NaN</td>\n",
       "      <td>NaN</td>\n",
       "      <td>NaN</td>\n",
       "      <td>NaN</td>\n",
       "      <td>203.0</td>\n",
       "      <td>NaN</td>\n",
       "      <td>151.0</td>\n",
       "      <td>152.0</td>\n",
       "    </tr>\n",
       "  </tbody>\n",
       "</table>\n",
       "</div>"
      ],
      "text/plain": [
       "   key  Bulk 1  Bulk 2  Bulk 3  Bulk 4  Bulk 5  Bulk 6  Bulk 7  Bulk 8  \\\n",
       "0    1     NaN     NaN     NaN    43.0     NaN     NaN     NaN     NaN   \n",
       "1    2     NaN     NaN     NaN    73.0     NaN     NaN     NaN     NaN   \n",
       "2    3     NaN     NaN     NaN    34.0     NaN     NaN     NaN     NaN   \n",
       "3    4     NaN     NaN     NaN    81.0     NaN     NaN     NaN     NaN   \n",
       "4    5     NaN     NaN     NaN    78.0     NaN     NaN     NaN     NaN   \n",
       "\n",
       "   Bulk 9  Bulk 10  Bulk 11  Bulk 12  Bulk 13  Bulk 14  Bulk 15  \n",
       "0     NaN      NaN      NaN    206.0      NaN    150.0    154.0  \n",
       "1     NaN      NaN      NaN    206.0      NaN    149.0    154.0  \n",
       "2     NaN      NaN      NaN    205.0      NaN    152.0    153.0  \n",
       "3     NaN      NaN      NaN    207.0      NaN    153.0    154.0  \n",
       "4     NaN      NaN      NaN    203.0      NaN    151.0    152.0  "
      ]
     },
     "execution_count": 13,
     "metadata": {},
     "output_type": "execute_result"
    }
   ],
   "source": [
    "data_bulk.head()"
   ]
  },
  {
   "cell_type": "markdown",
   "id": "92ffe583",
   "metadata": {},
   "source": [
    "**<span style=\"color: crimson\">Изменить</span>:** названия столбцов (удалить пробелы)."
   ]
  },
  {
   "cell_type": "code",
   "execution_count": 14,
   "id": "24fa9562",
   "metadata": {},
   "outputs": [
    {
     "name": "stdout",
     "output_type": "stream",
     "text": [
      "<class 'pandas.core.frame.DataFrame'>\n",
      "RangeIndex: 3129 entries, 0 to 3128\n",
      "Data columns (total 16 columns):\n",
      " #   Column   Non-Null Count  Dtype  \n",
      "---  ------   --------------  -----  \n",
      " 0   key      3129 non-null   int64  \n",
      " 1   Bulk 1   252 non-null    float64\n",
      " 2   Bulk 2   22 non-null     float64\n",
      " 3   Bulk 3   1298 non-null   float64\n",
      " 4   Bulk 4   1014 non-null   float64\n",
      " 5   Bulk 5   77 non-null     float64\n",
      " 6   Bulk 6   576 non-null    float64\n",
      " 7   Bulk 7   25 non-null     float64\n",
      " 8   Bulk 8   1 non-null      float64\n",
      " 9   Bulk 9   19 non-null     float64\n",
      " 10  Bulk 10  176 non-null    float64\n",
      " 11  Bulk 11  177 non-null    float64\n",
      " 12  Bulk 12  2450 non-null   float64\n",
      " 13  Bulk 13  18 non-null     float64\n",
      " 14  Bulk 14  2806 non-null   float64\n",
      " 15  Bulk 15  2248 non-null   float64\n",
      "dtypes: float64(15), int64(1)\n",
      "memory usage: 391.2 KB\n"
     ]
    }
   ],
   "source": [
    "data_bulk.info()"
   ]
  },
  {
   "cell_type": "code",
   "execution_count": 15,
   "id": "922d5ff8",
   "metadata": {},
   "outputs": [
    {
     "data": {
      "text/html": [
       "<div>\n",
       "<style scoped>\n",
       "    .dataframe tbody tr th:only-of-type {\n",
       "        vertical-align: middle;\n",
       "    }\n",
       "\n",
       "    .dataframe tbody tr th {\n",
       "        vertical-align: top;\n",
       "    }\n",
       "\n",
       "    .dataframe thead th {\n",
       "        text-align: right;\n",
       "    }\n",
       "</style>\n",
       "<table border=\"1\" class=\"dataframe\">\n",
       "  <thead>\n",
       "    <tr style=\"text-align: right;\">\n",
       "      <th></th>\n",
       "      <th>key</th>\n",
       "      <th>Bulk 1</th>\n",
       "      <th>Bulk 2</th>\n",
       "      <th>Bulk 3</th>\n",
       "      <th>Bulk 4</th>\n",
       "      <th>Bulk 5</th>\n",
       "      <th>Bulk 6</th>\n",
       "      <th>Bulk 7</th>\n",
       "      <th>Bulk 8</th>\n",
       "      <th>Bulk 9</th>\n",
       "      <th>Bulk 10</th>\n",
       "      <th>Bulk 11</th>\n",
       "      <th>Bulk 12</th>\n",
       "      <th>Bulk 13</th>\n",
       "      <th>Bulk 14</th>\n",
       "      <th>Bulk 15</th>\n",
       "    </tr>\n",
       "  </thead>\n",
       "  <tbody>\n",
       "    <tr>\n",
       "      <th>count</th>\n",
       "      <td>3129.000000</td>\n",
       "      <td>252.000000</td>\n",
       "      <td>22.000000</td>\n",
       "      <td>1298.000000</td>\n",
       "      <td>1014.000000</td>\n",
       "      <td>77.000000</td>\n",
       "      <td>576.000000</td>\n",
       "      <td>25.000000</td>\n",
       "      <td>1.0</td>\n",
       "      <td>19.000000</td>\n",
       "      <td>176.000000</td>\n",
       "      <td>177.000000</td>\n",
       "      <td>2450.000000</td>\n",
       "      <td>18.000000</td>\n",
       "      <td>2806.000000</td>\n",
       "      <td>2248.000000</td>\n",
       "    </tr>\n",
       "    <tr>\n",
       "      <th>mean</th>\n",
       "      <td>1624.383509</td>\n",
       "      <td>39.242063</td>\n",
       "      <td>253.045455</td>\n",
       "      <td>113.879045</td>\n",
       "      <td>104.394477</td>\n",
       "      <td>107.025974</td>\n",
       "      <td>118.925347</td>\n",
       "      <td>305.600000</td>\n",
       "      <td>49.0</td>\n",
       "      <td>76.315789</td>\n",
       "      <td>83.284091</td>\n",
       "      <td>76.819209</td>\n",
       "      <td>260.471020</td>\n",
       "      <td>181.111111</td>\n",
       "      <td>170.284747</td>\n",
       "      <td>160.513345</td>\n",
       "    </tr>\n",
       "    <tr>\n",
       "      <th>std</th>\n",
       "      <td>933.337642</td>\n",
       "      <td>18.277654</td>\n",
       "      <td>21.180578</td>\n",
       "      <td>75.483494</td>\n",
       "      <td>48.184126</td>\n",
       "      <td>81.790646</td>\n",
       "      <td>72.057776</td>\n",
       "      <td>191.022904</td>\n",
       "      <td>NaN</td>\n",
       "      <td>21.720581</td>\n",
       "      <td>26.060347</td>\n",
       "      <td>59.655365</td>\n",
       "      <td>120.649269</td>\n",
       "      <td>46.088009</td>\n",
       "      <td>65.868652</td>\n",
       "      <td>51.765319</td>\n",
       "    </tr>\n",
       "    <tr>\n",
       "      <th>min</th>\n",
       "      <td>1.000000</td>\n",
       "      <td>10.000000</td>\n",
       "      <td>228.000000</td>\n",
       "      <td>6.000000</td>\n",
       "      <td>12.000000</td>\n",
       "      <td>11.000000</td>\n",
       "      <td>17.000000</td>\n",
       "      <td>47.000000</td>\n",
       "      <td>49.0</td>\n",
       "      <td>63.000000</td>\n",
       "      <td>24.000000</td>\n",
       "      <td>8.000000</td>\n",
       "      <td>53.000000</td>\n",
       "      <td>151.000000</td>\n",
       "      <td>16.000000</td>\n",
       "      <td>1.000000</td>\n",
       "    </tr>\n",
       "    <tr>\n",
       "      <th>25%</th>\n",
       "      <td>816.000000</td>\n",
       "      <td>27.000000</td>\n",
       "      <td>242.000000</td>\n",
       "      <td>58.000000</td>\n",
       "      <td>72.000000</td>\n",
       "      <td>70.000000</td>\n",
       "      <td>69.750000</td>\n",
       "      <td>155.000000</td>\n",
       "      <td>49.0</td>\n",
       "      <td>66.000000</td>\n",
       "      <td>64.000000</td>\n",
       "      <td>25.000000</td>\n",
       "      <td>204.000000</td>\n",
       "      <td>153.250000</td>\n",
       "      <td>119.000000</td>\n",
       "      <td>105.000000</td>\n",
       "    </tr>\n",
       "    <tr>\n",
       "      <th>50%</th>\n",
       "      <td>1622.000000</td>\n",
       "      <td>31.000000</td>\n",
       "      <td>251.500000</td>\n",
       "      <td>97.500000</td>\n",
       "      <td>102.000000</td>\n",
       "      <td>86.000000</td>\n",
       "      <td>100.000000</td>\n",
       "      <td>298.000000</td>\n",
       "      <td>49.0</td>\n",
       "      <td>68.000000</td>\n",
       "      <td>86.500000</td>\n",
       "      <td>64.000000</td>\n",
       "      <td>208.000000</td>\n",
       "      <td>155.500000</td>\n",
       "      <td>151.000000</td>\n",
       "      <td>160.000000</td>\n",
       "    </tr>\n",
       "    <tr>\n",
       "      <th>75%</th>\n",
       "      <td>2431.000000</td>\n",
       "      <td>46.000000</td>\n",
       "      <td>257.750000</td>\n",
       "      <td>152.000000</td>\n",
       "      <td>133.000000</td>\n",
       "      <td>132.000000</td>\n",
       "      <td>157.000000</td>\n",
       "      <td>406.000000</td>\n",
       "      <td>49.0</td>\n",
       "      <td>70.500000</td>\n",
       "      <td>102.000000</td>\n",
       "      <td>106.000000</td>\n",
       "      <td>316.000000</td>\n",
       "      <td>203.500000</td>\n",
       "      <td>205.750000</td>\n",
       "      <td>205.000000</td>\n",
       "    </tr>\n",
       "    <tr>\n",
       "      <th>max</th>\n",
       "      <td>3241.000000</td>\n",
       "      <td>185.000000</td>\n",
       "      <td>325.000000</td>\n",
       "      <td>454.000000</td>\n",
       "      <td>281.000000</td>\n",
       "      <td>603.000000</td>\n",
       "      <td>503.000000</td>\n",
       "      <td>772.000000</td>\n",
       "      <td>49.0</td>\n",
       "      <td>147.000000</td>\n",
       "      <td>159.000000</td>\n",
       "      <td>313.000000</td>\n",
       "      <td>1849.000000</td>\n",
       "      <td>305.000000</td>\n",
       "      <td>636.000000</td>\n",
       "      <td>405.000000</td>\n",
       "    </tr>\n",
       "  </tbody>\n",
       "</table>\n",
       "</div>"
      ],
      "text/plain": [
       "               key      Bulk 1      Bulk 2       Bulk 3       Bulk 4  \\\n",
       "count  3129.000000  252.000000   22.000000  1298.000000  1014.000000   \n",
       "mean   1624.383509   39.242063  253.045455   113.879045   104.394477   \n",
       "std     933.337642   18.277654   21.180578    75.483494    48.184126   \n",
       "min       1.000000   10.000000  228.000000     6.000000    12.000000   \n",
       "25%     816.000000   27.000000  242.000000    58.000000    72.000000   \n",
       "50%    1622.000000   31.000000  251.500000    97.500000   102.000000   \n",
       "75%    2431.000000   46.000000  257.750000   152.000000   133.000000   \n",
       "max    3241.000000  185.000000  325.000000   454.000000   281.000000   \n",
       "\n",
       "           Bulk 5      Bulk 6      Bulk 7  Bulk 8      Bulk 9     Bulk 10  \\\n",
       "count   77.000000  576.000000   25.000000     1.0   19.000000  176.000000   \n",
       "mean   107.025974  118.925347  305.600000    49.0   76.315789   83.284091   \n",
       "std     81.790646   72.057776  191.022904     NaN   21.720581   26.060347   \n",
       "min     11.000000   17.000000   47.000000    49.0   63.000000   24.000000   \n",
       "25%     70.000000   69.750000  155.000000    49.0   66.000000   64.000000   \n",
       "50%     86.000000  100.000000  298.000000    49.0   68.000000   86.500000   \n",
       "75%    132.000000  157.000000  406.000000    49.0   70.500000  102.000000   \n",
       "max    603.000000  503.000000  772.000000    49.0  147.000000  159.000000   \n",
       "\n",
       "          Bulk 11      Bulk 12     Bulk 13      Bulk 14      Bulk 15  \n",
       "count  177.000000  2450.000000   18.000000  2806.000000  2248.000000  \n",
       "mean    76.819209   260.471020  181.111111   170.284747   160.513345  \n",
       "std     59.655365   120.649269   46.088009    65.868652    51.765319  \n",
       "min      8.000000    53.000000  151.000000    16.000000     1.000000  \n",
       "25%     25.000000   204.000000  153.250000   119.000000   105.000000  \n",
       "50%     64.000000   208.000000  155.500000   151.000000   160.000000  \n",
       "75%    106.000000   316.000000  203.500000   205.750000   205.000000  \n",
       "max    313.000000  1849.000000  305.000000   636.000000   405.000000  "
      ]
     },
     "execution_count": 15,
     "metadata": {},
     "output_type": "execute_result"
    }
   ],
   "source": [
    "data_bulk.describe()"
   ]
  },
  {
   "cell_type": "code",
   "execution_count": 16,
   "id": "ec13dd40",
   "metadata": {},
   "outputs": [
    {
     "data": {
      "text/html": [
       "<style type=\"text/css\">\n",
       "</style>\n",
       "<table id=\"T_21d8c\">\n",
       "  <thead>\n",
       "    <tr>\n",
       "      <th class=\"blank level0\" >&nbsp;</th>\n",
       "      <th id=\"T_21d8c_level0_col0\" class=\"col_heading level0 col0\" >missing</th>\n",
       "      <th id=\"T_21d8c_level0_col1\" class=\"col_heading level0 col1\" >total</th>\n",
       "      <th id=\"T_21d8c_level0_col2\" class=\"col_heading level0 col2\" >percent</th>\n",
       "    </tr>\n",
       "  </thead>\n",
       "  <tbody>\n",
       "    <tr>\n",
       "      <th id=\"T_21d8c_level0_row0\" class=\"row_heading level0 row0\" >Bulk 8</th>\n",
       "      <td id=\"T_21d8c_row0_col0\" class=\"data row0 col0\" >3,128</td>\n",
       "      <td id=\"T_21d8c_row0_col1\" class=\"data row0 col1\" >3,129</td>\n",
       "      <td id=\"T_21d8c_row0_col2\" class=\"data row0 col2\" >99.97%</td>\n",
       "    </tr>\n",
       "    <tr>\n",
       "      <th id=\"T_21d8c_level0_row1\" class=\"row_heading level0 row1\" >Bulk 13</th>\n",
       "      <td id=\"T_21d8c_row1_col0\" class=\"data row1 col0\" >3,111</td>\n",
       "      <td id=\"T_21d8c_row1_col1\" class=\"data row1 col1\" >3,129</td>\n",
       "      <td id=\"T_21d8c_row1_col2\" class=\"data row1 col2\" >99.42%</td>\n",
       "    </tr>\n",
       "    <tr>\n",
       "      <th id=\"T_21d8c_level0_row2\" class=\"row_heading level0 row2\" >Bulk 9</th>\n",
       "      <td id=\"T_21d8c_row2_col0\" class=\"data row2 col0\" >3,110</td>\n",
       "      <td id=\"T_21d8c_row2_col1\" class=\"data row2 col1\" >3,129</td>\n",
       "      <td id=\"T_21d8c_row2_col2\" class=\"data row2 col2\" >99.39%</td>\n",
       "    </tr>\n",
       "    <tr>\n",
       "      <th id=\"T_21d8c_level0_row3\" class=\"row_heading level0 row3\" >Bulk 2</th>\n",
       "      <td id=\"T_21d8c_row3_col0\" class=\"data row3 col0\" >3,107</td>\n",
       "      <td id=\"T_21d8c_row3_col1\" class=\"data row3 col1\" >3,129</td>\n",
       "      <td id=\"T_21d8c_row3_col2\" class=\"data row3 col2\" >99.30%</td>\n",
       "    </tr>\n",
       "    <tr>\n",
       "      <th id=\"T_21d8c_level0_row4\" class=\"row_heading level0 row4\" >Bulk 7</th>\n",
       "      <td id=\"T_21d8c_row4_col0\" class=\"data row4 col0\" >3,104</td>\n",
       "      <td id=\"T_21d8c_row4_col1\" class=\"data row4 col1\" >3,129</td>\n",
       "      <td id=\"T_21d8c_row4_col2\" class=\"data row4 col2\" >99.20%</td>\n",
       "    </tr>\n",
       "    <tr>\n",
       "      <th id=\"T_21d8c_level0_row5\" class=\"row_heading level0 row5\" >Bulk 5</th>\n",
       "      <td id=\"T_21d8c_row5_col0\" class=\"data row5 col0\" >3,052</td>\n",
       "      <td id=\"T_21d8c_row5_col1\" class=\"data row5 col1\" >3,129</td>\n",
       "      <td id=\"T_21d8c_row5_col2\" class=\"data row5 col2\" >97.54%</td>\n",
       "    </tr>\n",
       "    <tr>\n",
       "      <th id=\"T_21d8c_level0_row6\" class=\"row_heading level0 row6\" >Bulk 10</th>\n",
       "      <td id=\"T_21d8c_row6_col0\" class=\"data row6 col0\" >2,953</td>\n",
       "      <td id=\"T_21d8c_row6_col1\" class=\"data row6 col1\" >3,129</td>\n",
       "      <td id=\"T_21d8c_row6_col2\" class=\"data row6 col2\" >94.38%</td>\n",
       "    </tr>\n",
       "    <tr>\n",
       "      <th id=\"T_21d8c_level0_row7\" class=\"row_heading level0 row7\" >Bulk 11</th>\n",
       "      <td id=\"T_21d8c_row7_col0\" class=\"data row7 col0\" >2,952</td>\n",
       "      <td id=\"T_21d8c_row7_col1\" class=\"data row7 col1\" >3,129</td>\n",
       "      <td id=\"T_21d8c_row7_col2\" class=\"data row7 col2\" >94.34%</td>\n",
       "    </tr>\n",
       "    <tr>\n",
       "      <th id=\"T_21d8c_level0_row8\" class=\"row_heading level0 row8\" >Bulk 1</th>\n",
       "      <td id=\"T_21d8c_row8_col0\" class=\"data row8 col0\" >2,877</td>\n",
       "      <td id=\"T_21d8c_row8_col1\" class=\"data row8 col1\" >3,129</td>\n",
       "      <td id=\"T_21d8c_row8_col2\" class=\"data row8 col2\" >91.95%</td>\n",
       "    </tr>\n",
       "    <tr>\n",
       "      <th id=\"T_21d8c_level0_row9\" class=\"row_heading level0 row9\" >Bulk 6</th>\n",
       "      <td id=\"T_21d8c_row9_col0\" class=\"data row9 col0\" >2,553</td>\n",
       "      <td id=\"T_21d8c_row9_col1\" class=\"data row9 col1\" >3,129</td>\n",
       "      <td id=\"T_21d8c_row9_col2\" class=\"data row9 col2\" >81.59%</td>\n",
       "    </tr>\n",
       "    <tr>\n",
       "      <th id=\"T_21d8c_level0_row10\" class=\"row_heading level0 row10\" >Bulk 4</th>\n",
       "      <td id=\"T_21d8c_row10_col0\" class=\"data row10 col0\" >2,115</td>\n",
       "      <td id=\"T_21d8c_row10_col1\" class=\"data row10 col1\" >3,129</td>\n",
       "      <td id=\"T_21d8c_row10_col2\" class=\"data row10 col2\" >67.59%</td>\n",
       "    </tr>\n",
       "    <tr>\n",
       "      <th id=\"T_21d8c_level0_row11\" class=\"row_heading level0 row11\" >Bulk 3</th>\n",
       "      <td id=\"T_21d8c_row11_col0\" class=\"data row11 col0\" >1,831</td>\n",
       "      <td id=\"T_21d8c_row11_col1\" class=\"data row11 col1\" >3,129</td>\n",
       "      <td id=\"T_21d8c_row11_col2\" class=\"data row11 col2\" >58.52%</td>\n",
       "    </tr>\n",
       "    <tr>\n",
       "      <th id=\"T_21d8c_level0_row12\" class=\"row_heading level0 row12\" >Bulk 15</th>\n",
       "      <td id=\"T_21d8c_row12_col0\" class=\"data row12 col0\" >881</td>\n",
       "      <td id=\"T_21d8c_row12_col1\" class=\"data row12 col1\" >3,129</td>\n",
       "      <td id=\"T_21d8c_row12_col2\" class=\"data row12 col2\" >28.16%</td>\n",
       "    </tr>\n",
       "    <tr>\n",
       "      <th id=\"T_21d8c_level0_row13\" class=\"row_heading level0 row13\" >Bulk 12</th>\n",
       "      <td id=\"T_21d8c_row13_col0\" class=\"data row13 col0\" >679</td>\n",
       "      <td id=\"T_21d8c_row13_col1\" class=\"data row13 col1\" >3,129</td>\n",
       "      <td id=\"T_21d8c_row13_col2\" class=\"data row13 col2\" >21.70%</td>\n",
       "    </tr>\n",
       "    <tr>\n",
       "      <th id=\"T_21d8c_level0_row14\" class=\"row_heading level0 row14\" >Bulk 14</th>\n",
       "      <td id=\"T_21d8c_row14_col0\" class=\"data row14 col0\" >323</td>\n",
       "      <td id=\"T_21d8c_row14_col1\" class=\"data row14 col1\" >3,129</td>\n",
       "      <td id=\"T_21d8c_row14_col2\" class=\"data row14 col2\" >10.32%</td>\n",
       "    </tr>\n",
       "  </tbody>\n",
       "</table>\n"
      ],
      "text/plain": [
       "<pandas.io.formats.style.Styler at 0x1699bdf4d90>"
      ]
     },
     "execution_count": 16,
     "metadata": {},
     "output_type": "execute_result"
    }
   ],
   "source": [
    "data_bulk.stb.missing(style=True, clip_0=True)"
   ]
  },
  {
   "cell_type": "markdown",
   "id": "360e9aed",
   "metadata": {},
   "source": [
    "**<span style=\"color: crimson\">Удалить</span>:** столбцы с кол-ом пропусков больше 80%."
   ]
  },
  {
   "cell_type": "markdown",
   "id": "48cb86bb",
   "metadata": {},
   "source": [
    "**ИСПРАВЛЕНИЕ АНОМАЛИЙ**"
   ]
  },
  {
   "cell_type": "markdown",
   "id": "e8d30604",
   "metadata": {},
   "source": [
    "После многочисленных экспериментов такой способ борьбы с пропусками показал наилучшее решение:"
   ]
  },
  {
   "cell_type": "code",
   "execution_count": 17,
   "id": "35699835",
   "metadata": {},
   "outputs": [],
   "source": [
    "data_bulk = data_bulk.dropna(thresh=int(len(data_bulk) * .02), axis=1)"
   ]
  },
  {
   "cell_type": "markdown",
   "id": "3e7d8035",
   "metadata": {},
   "source": [
    "Предположим, что на месте пропусков у нас 0, "
   ]
  },
  {
   "cell_type": "code",
   "execution_count": 18,
   "id": "147bd951",
   "metadata": {},
   "outputs": [],
   "source": [
    "data_bulk = data_bulk.fillna(0)"
   ]
  },
  {
   "cell_type": "code",
   "execution_count": 19,
   "id": "20124deb",
   "metadata": {},
   "outputs": [],
   "source": [
    "data_bulk = data_bulk.rename(\n",
    "    columns={\n",
    "        \"Bulk 1\": \"Bulk_1\",\n",
    "        \"Bulk 3\": \"Bulk_3\",\n",
    "        \"Bulk 4\": \"Bulk_4\",\n",
    "        \"Bulk 5\": \"Bulk_5\",\n",
    "        \"Bulk 6\": \"Bulk_6\",\n",
    "        \"Bulk 10\": \"Bulk_10\",\n",
    "        \"Bulk 11\": \"Bulk_11\",\n",
    "        \"Bulk 12\": \"Bulk_12\",\n",
    "        \"Bulk 14\": \"Bulk_14\",\n",
    "        \"Bulk 15\": \"Bulk_15\"\n",
    "    }\n",
    ")"
   ]
  },
  {
   "cell_type": "markdown",
   "id": "8e5153b9",
   "metadata": {},
   "source": [
    "**ИЗУЧЕНИЕ ДАННЫХ**"
   ]
  },
  {
   "cell_type": "code",
   "execution_count": 20,
   "id": "dc5fa156",
   "metadata": {},
   "outputs": [
    {
     "data": {
      "text/html": [
       "<style type=\"text/css\">\n",
       "#T_ae126_row0_col0, #T_ae126_row1_col1, #T_ae126_row2_col2, #T_ae126_row3_col3, #T_ae126_row4_col4, #T_ae126_row5_col5, #T_ae126_row6_col6, #T_ae126_row7_col7, #T_ae126_row8_col8, #T_ae126_row9_col9, #T_ae126_row10_col10 {\n",
       "  background-color: #b40426;\n",
       "  color: #f1f1f1;\n",
       "}\n",
       "#T_ae126_row0_col1, #T_ae126_row2_col3, #T_ae126_row2_col6, #T_ae126_row3_col2, #T_ae126_row3_col5, #T_ae126_row3_col7, #T_ae126_row3_col9, #T_ae126_row5_col6, #T_ae126_row5_col8, #T_ae126_row5_col10, #T_ae126_row8_col4, #T_ae126_row9_col0 {\n",
       "  background-color: #3b4cc0;\n",
       "  color: #f1f1f1;\n",
       "}\n",
       "#T_ae126_row0_col2, #T_ae126_row10_col2 {\n",
       "  background-color: #84a7fc;\n",
       "  color: #f1f1f1;\n",
       "}\n",
       "#T_ae126_row0_col3, #T_ae126_row1_col4 {\n",
       "  background-color: #6c8ff1;\n",
       "  color: #f1f1f1;\n",
       "}\n",
       "#T_ae126_row0_col4, #T_ae126_row3_col4 {\n",
       "  background-color: #5977e3;\n",
       "  color: #f1f1f1;\n",
       "}\n",
       "#T_ae126_row0_col5 {\n",
       "  background-color: #7597f6;\n",
       "  color: #f1f1f1;\n",
       "}\n",
       "#T_ae126_row0_col6, #T_ae126_row0_col8, #T_ae126_row2_col10, #T_ae126_row3_col1, #T_ae126_row10_col5 {\n",
       "  background-color: #5b7ae5;\n",
       "  color: #f1f1f1;\n",
       "}\n",
       "#T_ae126_row0_col7, #T_ae126_row2_col8 {\n",
       "  background-color: #6282ea;\n",
       "  color: #f1f1f1;\n",
       "}\n",
       "#T_ae126_row0_col9, #T_ae126_row9_col4, #T_ae126_row10_col4 {\n",
       "  background-color: #3c4ec2;\n",
       "  color: #f1f1f1;\n",
       "}\n",
       "#T_ae126_row0_col10, #T_ae126_row4_col8, #T_ae126_row6_col4 {\n",
       "  background-color: #4961d2;\n",
       "  color: #f1f1f1;\n",
       "}\n",
       "#T_ae126_row1_col0 {\n",
       "  background-color: #4055c8;\n",
       "  color: #f1f1f1;\n",
       "}\n",
       "#T_ae126_row1_col2, #T_ae126_row3_col8 {\n",
       "  background-color: #7da0f9;\n",
       "  color: #f1f1f1;\n",
       "}\n",
       "#T_ae126_row1_col3, #T_ae126_row1_col9 {\n",
       "  background-color: #8db0fe;\n",
       "  color: #000000;\n",
       "}\n",
       "#T_ae126_row1_col5 {\n",
       "  background-color: #7a9df8;\n",
       "  color: #f1f1f1;\n",
       "}\n",
       "#T_ae126_row1_col6, #T_ae126_row8_col7 {\n",
       "  background-color: #4c66d6;\n",
       "  color: #f1f1f1;\n",
       "}\n",
       "#T_ae126_row1_col7, #T_ae126_row10_col7 {\n",
       "  background-color: #4f69d9;\n",
       "  color: #f1f1f1;\n",
       "}\n",
       "#T_ae126_row1_col8 {\n",
       "  background-color: #b7cff9;\n",
       "  color: #000000;\n",
       "}\n",
       "#T_ae126_row1_col10, #T_ae126_row2_col7 {\n",
       "  background-color: #5673e0;\n",
       "  color: #f1f1f1;\n",
       "}\n",
       "#T_ae126_row2_col0 {\n",
       "  background-color: #5875e1;\n",
       "  color: #f1f1f1;\n",
       "}\n",
       "#T_ae126_row2_col1 {\n",
       "  background-color: #4a63d3;\n",
       "  color: #f1f1f1;\n",
       "}\n",
       "#T_ae126_row2_col4, #T_ae126_row5_col0, #T_ae126_row5_col1, #T_ae126_row5_col4 {\n",
       "  background-color: #506bda;\n",
       "  color: #f1f1f1;\n",
       "}\n",
       "#T_ae126_row2_col5 {\n",
       "  background-color: #8caffe;\n",
       "  color: #000000;\n",
       "}\n",
       "#T_ae126_row2_col9, #T_ae126_row4_col0, #T_ae126_row6_col0, #T_ae126_row7_col0 {\n",
       "  background-color: #5a78e4;\n",
       "  color: #f1f1f1;\n",
       "}\n",
       "#T_ae126_row3_col0 {\n",
       "  background-color: #3f53c6;\n",
       "  color: #f1f1f1;\n",
       "}\n",
       "#T_ae126_row3_col6, #T_ae126_row4_col9 {\n",
       "  background-color: #3e51c5;\n",
       "  color: #f1f1f1;\n",
       "}\n",
       "#T_ae126_row3_col10 {\n",
       "  background-color: #799cf8;\n",
       "  color: #f1f1f1;\n",
       "}\n",
       "#T_ae126_row4_col1, #T_ae126_row6_col2 {\n",
       "  background-color: #6788ee;\n",
       "  color: #f1f1f1;\n",
       "}\n",
       "#T_ae126_row4_col2 {\n",
       "  background-color: #7ea1fa;\n",
       "  color: #f1f1f1;\n",
       "}\n",
       "#T_ae126_row4_col3, #T_ae126_row9_col2 {\n",
       "  background-color: #85a8fc;\n",
       "  color: #f1f1f1;\n",
       "}\n",
       "#T_ae126_row4_col5 {\n",
       "  background-color: #7699f6;\n",
       "  color: #f1f1f1;\n",
       "}\n",
       "#T_ae126_row4_col6, #T_ae126_row7_col4, #T_ae126_row7_col10 {\n",
       "  background-color: #4b64d5;\n",
       "  color: #f1f1f1;\n",
       "}\n",
       "#T_ae126_row4_col7 {\n",
       "  background-color: #5572df;\n",
       "  color: #f1f1f1;\n",
       "}\n",
       "#T_ae126_row4_col10, #T_ae126_row5_col3, #T_ae126_row7_col1 {\n",
       "  background-color: #4257c9;\n",
       "  color: #f1f1f1;\n",
       "}\n",
       "#T_ae126_row5_col2, #T_ae126_row5_col9 {\n",
       "  background-color: #93b5fe;\n",
       "  color: #000000;\n",
       "}\n",
       "#T_ae126_row5_col7 {\n",
       "  background-color: #98b9ff;\n",
       "  color: #000000;\n",
       "}\n",
       "#T_ae126_row6_col1, #T_ae126_row9_col6 {\n",
       "  background-color: #455cce;\n",
       "  color: #f1f1f1;\n",
       "}\n",
       "#T_ae126_row6_col3, #T_ae126_row6_col8 {\n",
       "  background-color: #6a8bef;\n",
       "  color: #f1f1f1;\n",
       "}\n",
       "#T_ae126_row6_col5, #T_ae126_row8_col6 {\n",
       "  background-color: #5e7de7;\n",
       "  color: #f1f1f1;\n",
       "}\n",
       "#T_ae126_row6_col7, #T_ae126_row8_col0, #T_ae126_row10_col1 {\n",
       "  background-color: #4e68d8;\n",
       "  color: #f1f1f1;\n",
       "}\n",
       "#T_ae126_row6_col9 {\n",
       "  background-color: #465ecf;\n",
       "  color: #f1f1f1;\n",
       "}\n",
       "#T_ae126_row6_col10, #T_ae126_row7_col9 {\n",
       "  background-color: #688aef;\n",
       "  color: #f1f1f1;\n",
       "}\n",
       "#T_ae126_row7_col2 {\n",
       "  background-color: #7b9ff9;\n",
       "  color: #f1f1f1;\n",
       "}\n",
       "#T_ae126_row7_col3 {\n",
       "  background-color: #5f7fe8;\n",
       "  color: #f1f1f1;\n",
       "}\n",
       "#T_ae126_row7_col5, #T_ae126_row9_col5 {\n",
       "  background-color: #afcafc;\n",
       "  color: #000000;\n",
       "}\n",
       "#T_ae126_row7_col6 {\n",
       "  background-color: #485fd1;\n",
       "  color: #f1f1f1;\n",
       "}\n",
       "#T_ae126_row7_col8 {\n",
       "  background-color: #536edd;\n",
       "  color: #f1f1f1;\n",
       "}\n",
       "#T_ae126_row8_col1 {\n",
       "  background-color: #a9c6fd;\n",
       "  color: #000000;\n",
       "}\n",
       "#T_ae126_row8_col2 {\n",
       "  background-color: #81a4fb;\n",
       "  color: #f1f1f1;\n",
       "}\n",
       "#T_ae126_row8_col3, #T_ae126_row10_col9 {\n",
       "  background-color: #9abbff;\n",
       "  color: #000000;\n",
       "}\n",
       "#T_ae126_row8_col5 {\n",
       "  background-color: #516ddb;\n",
       "  color: #f1f1f1;\n",
       "}\n",
       "#T_ae126_row8_col9 {\n",
       "  background-color: #d5dbe5;\n",
       "  color: #000000;\n",
       "}\n",
       "#T_ae126_row8_col10 {\n",
       "  background-color: #f5c4ac;\n",
       "  color: #000000;\n",
       "}\n",
       "#T_ae126_row9_col1 {\n",
       "  background-color: #86a9fc;\n",
       "  color: #f1f1f1;\n",
       "}\n",
       "#T_ae126_row9_col3 {\n",
       "  background-color: #6485ec;\n",
       "  color: #f1f1f1;\n",
       "}\n",
       "#T_ae126_row9_col7 {\n",
       "  background-color: #6e90f2;\n",
       "  color: #f1f1f1;\n",
       "}\n",
       "#T_ae126_row9_col8 {\n",
       "  background-color: #dadce0;\n",
       "  color: #000000;\n",
       "}\n",
       "#T_ae126_row9_col10 {\n",
       "  background-color: #9bbcff;\n",
       "  color: #000000;\n",
       "}\n",
       "#T_ae126_row10_col0 {\n",
       "  background-color: #445acc;\n",
       "  color: #f1f1f1;\n",
       "}\n",
       "#T_ae126_row10_col3 {\n",
       "  background-color: #9ebeff;\n",
       "  color: #000000;\n",
       "}\n",
       "#T_ae126_row10_col6 {\n",
       "  background-color: #6687ed;\n",
       "  color: #f1f1f1;\n",
       "}\n",
       "#T_ae126_row10_col8 {\n",
       "  background-color: #f5c0a7;\n",
       "  color: #000000;\n",
       "}\n",
       "</style>\n",
       "<table id=\"T_ae126\">\n",
       "  <thead>\n",
       "    <tr>\n",
       "      <th class=\"blank level0\" >&nbsp;</th>\n",
       "      <th id=\"T_ae126_level0_col0\" class=\"col_heading level0 col0\" >key</th>\n",
       "      <th id=\"T_ae126_level0_col1\" class=\"col_heading level0 col1\" >Bulk_1</th>\n",
       "      <th id=\"T_ae126_level0_col2\" class=\"col_heading level0 col2\" >Bulk_3</th>\n",
       "      <th id=\"T_ae126_level0_col3\" class=\"col_heading level0 col3\" >Bulk_4</th>\n",
       "      <th id=\"T_ae126_level0_col4\" class=\"col_heading level0 col4\" >Bulk_5</th>\n",
       "      <th id=\"T_ae126_level0_col5\" class=\"col_heading level0 col5\" >Bulk_6</th>\n",
       "      <th id=\"T_ae126_level0_col6\" class=\"col_heading level0 col6\" >Bulk_10</th>\n",
       "      <th id=\"T_ae126_level0_col7\" class=\"col_heading level0 col7\" >Bulk_11</th>\n",
       "      <th id=\"T_ae126_level0_col8\" class=\"col_heading level0 col8\" >Bulk_12</th>\n",
       "      <th id=\"T_ae126_level0_col9\" class=\"col_heading level0 col9\" >Bulk_14</th>\n",
       "      <th id=\"T_ae126_level0_col10\" class=\"col_heading level0 col10\" >Bulk_15</th>\n",
       "    </tr>\n",
       "  </thead>\n",
       "  <tbody>\n",
       "    <tr>\n",
       "      <th id=\"T_ae126_level0_row0\" class=\"row_heading level0 row0\" >key</th>\n",
       "      <td id=\"T_ae126_row0_col0\" class=\"data row0 col0\" >1.00</td>\n",
       "      <td id=\"T_ae126_row0_col1\" class=\"data row0 col1\" >-0.06</td>\n",
       "      <td id=\"T_ae126_row0_col2\" class=\"data row0 col2\" >0.02</td>\n",
       "      <td id=\"T_ae126_row0_col3\" class=\"data row0 col3\" >-0.07</td>\n",
       "      <td id=\"T_ae126_row0_col4\" class=\"data row0 col4\" >0.02</td>\n",
       "      <td id=\"T_ae126_row0_col5\" class=\"data row0 col5\" >-0.01</td>\n",
       "      <td id=\"T_ae126_row0_col6\" class=\"data row0 col6\" >0.03</td>\n",
       "      <td id=\"T_ae126_row0_col7\" class=\"data row0 col7\" >0.03</td>\n",
       "      <td id=\"T_ae126_row0_col8\" class=\"data row0 col8\" >-0.02</td>\n",
       "      <td id=\"T_ae126_row0_col9\" class=\"data row0 col9\" >-0.09</td>\n",
       "      <td id=\"T_ae126_row0_col10\" class=\"data row0 col10\" >-0.05</td>\n",
       "    </tr>\n",
       "    <tr>\n",
       "      <th id=\"T_ae126_level0_row1\" class=\"row_heading level0 row1\" >Bulk_1</th>\n",
       "      <td id=\"T_ae126_row1_col0\" class=\"data row1 col0\" >-0.06</td>\n",
       "      <td id=\"T_ae126_row1_col1\" class=\"data row1 col1\" >1.00</td>\n",
       "      <td id=\"T_ae126_row1_col2\" class=\"data row1 col2\" >-0.01</td>\n",
       "      <td id=\"T_ae126_row1_col3\" class=\"data row1 col3\" >0.05</td>\n",
       "      <td id=\"T_ae126_row1_col4\" class=\"data row1 col4\" >0.09</td>\n",
       "      <td id=\"T_ae126_row1_col5\" class=\"data row1 col5\" >0.01</td>\n",
       "      <td id=\"T_ae126_row1_col6\" class=\"data row1 col6\" >-0.03</td>\n",
       "      <td id=\"T_ae126_row1_col7\" class=\"data row1 col7\" >-0.04</td>\n",
       "      <td id=\"T_ae126_row1_col8\" class=\"data row1 col8\" >0.29</td>\n",
       "      <td id=\"T_ae126_row1_col9\" class=\"data row1 col9\" >0.18</td>\n",
       "      <td id=\"T_ae126_row1_col10\" class=\"data row1 col10\" >0.00</td>\n",
       "    </tr>\n",
       "    <tr>\n",
       "      <th id=\"T_ae126_level0_row2\" class=\"row_heading level0 row2\" >Bulk_3</th>\n",
       "      <td id=\"T_ae126_row2_col0\" class=\"data row2 col0\" >0.02</td>\n",
       "      <td id=\"T_ae126_row2_col1\" class=\"data row2 col1\" >-0.01</td>\n",
       "      <td id=\"T_ae126_row2_col2\" class=\"data row2 col2\" >1.00</td>\n",
       "      <td id=\"T_ae126_row2_col3\" class=\"data row2 col3\" >-0.27</td>\n",
       "      <td id=\"T_ae126_row2_col4\" class=\"data row2 col4\" >-0.00</td>\n",
       "      <td id=\"T_ae126_row2_col5\" class=\"data row2 col5\" >0.07</td>\n",
       "      <td id=\"T_ae126_row2_col6\" class=\"data row2 col6\" >-0.09</td>\n",
       "      <td id=\"T_ae126_row2_col7\" class=\"data row2 col7\" >-0.01</td>\n",
       "      <td id=\"T_ae126_row2_col8\" class=\"data row2 col8\" >0.01</td>\n",
       "      <td id=\"T_ae126_row2_col9\" class=\"data row2 col9\" >0.02</td>\n",
       "      <td id=\"T_ae126_row2_col10\" class=\"data row2 col10\" >0.02</td>\n",
       "    </tr>\n",
       "    <tr>\n",
       "      <th id=\"T_ae126_level0_row3\" class=\"row_heading level0 row3\" >Bulk_4</th>\n",
       "      <td id=\"T_ae126_row3_col0\" class=\"data row3 col0\" >-0.07</td>\n",
       "      <td id=\"T_ae126_row3_col1\" class=\"data row3 col1\" >0.05</td>\n",
       "      <td id=\"T_ae126_row3_col2\" class=\"data row3 col2\" >-0.27</td>\n",
       "      <td id=\"T_ae126_row3_col3\" class=\"data row3 col3\" >1.00</td>\n",
       "      <td id=\"T_ae126_row3_col4\" class=\"data row3 col4\" >0.02</td>\n",
       "      <td id=\"T_ae126_row3_col5\" class=\"data row3 col5\" >-0.23</td>\n",
       "      <td id=\"T_ae126_row3_col6\" class=\"data row3 col6\" >-0.08</td>\n",
       "      <td id=\"T_ae126_row3_col7\" class=\"data row3 col7\" >-0.12</td>\n",
       "      <td id=\"T_ae126_row3_col8\" class=\"data row3 col8\" >0.10</td>\n",
       "      <td id=\"T_ae126_row3_col9\" class=\"data row3 col9\" >-0.09</td>\n",
       "      <td id=\"T_ae126_row3_col10\" class=\"data row3 col10\" >0.11</td>\n",
       "    </tr>\n",
       "    <tr>\n",
       "      <th id=\"T_ae126_level0_row4\" class=\"row_heading level0 row4\" >Bulk_5</th>\n",
       "      <td id=\"T_ae126_row4_col0\" class=\"data row4 col0\" >0.02</td>\n",
       "      <td id=\"T_ae126_row4_col1\" class=\"data row4 col1\" >0.09</td>\n",
       "      <td id=\"T_ae126_row4_col2\" class=\"data row4 col2\" >-0.00</td>\n",
       "      <td id=\"T_ae126_row4_col3\" class=\"data row4 col3\" >0.02</td>\n",
       "      <td id=\"T_ae126_row4_col4\" class=\"data row4 col4\" >1.00</td>\n",
       "      <td id=\"T_ae126_row4_col5\" class=\"data row4 col5\" >-0.00</td>\n",
       "      <td id=\"T_ae126_row4_col6\" class=\"data row4 col6\" >-0.03</td>\n",
       "      <td id=\"T_ae126_row4_col7\" class=\"data row4 col7\" >-0.02</td>\n",
       "      <td id=\"T_ae126_row4_col8\" class=\"data row4 col8\" >-0.08</td>\n",
       "      <td id=\"T_ae126_row4_col9\" class=\"data row4 col9\" >-0.08</td>\n",
       "      <td id=\"T_ae126_row4_col10\" class=\"data row4 col10\" >-0.07</td>\n",
       "    </tr>\n",
       "    <tr>\n",
       "      <th id=\"T_ae126_level0_row5\" class=\"row_heading level0 row5\" >Bulk_6</th>\n",
       "      <td id=\"T_ae126_row5_col0\" class=\"data row5 col0\" >-0.01</td>\n",
       "      <td id=\"T_ae126_row5_col1\" class=\"data row5 col1\" >0.01</td>\n",
       "      <td id=\"T_ae126_row5_col2\" class=\"data row5 col2\" >0.07</td>\n",
       "      <td id=\"T_ae126_row5_col3\" class=\"data row5 col3\" >-0.23</td>\n",
       "      <td id=\"T_ae126_row5_col4\" class=\"data row5 col4\" >-0.00</td>\n",
       "      <td id=\"T_ae126_row5_col5\" class=\"data row5 col5\" >1.00</td>\n",
       "      <td id=\"T_ae126_row5_col6\" class=\"data row5 col6\" >-0.09</td>\n",
       "      <td id=\"T_ae126_row5_col7\" class=\"data row5 col7\" >0.20</td>\n",
       "      <td id=\"T_ae126_row5_col8\" class=\"data row5 col8\" >-0.14</td>\n",
       "      <td id=\"T_ae126_row5_col9\" class=\"data row5 col9\" >0.20</td>\n",
       "      <td id=\"T_ae126_row5_col10\" class=\"data row5 col10\" >-0.10</td>\n",
       "    </tr>\n",
       "    <tr>\n",
       "      <th id=\"T_ae126_level0_row6\" class=\"row_heading level0 row6\" >Bulk_10</th>\n",
       "      <td id=\"T_ae126_row6_col0\" class=\"data row6 col0\" >0.03</td>\n",
       "      <td id=\"T_ae126_row6_col1\" class=\"data row6 col1\" >-0.03</td>\n",
       "      <td id=\"T_ae126_row6_col2\" class=\"data row6 col2\" >-0.09</td>\n",
       "      <td id=\"T_ae126_row6_col3\" class=\"data row6 col3\" >-0.08</td>\n",
       "      <td id=\"T_ae126_row6_col4\" class=\"data row6 col4\" >-0.03</td>\n",
       "      <td id=\"T_ae126_row6_col5\" class=\"data row6 col5\" >-0.09</td>\n",
       "      <td id=\"T_ae126_row6_col6\" class=\"data row6 col6\" >1.00</td>\n",
       "      <td id=\"T_ae126_row6_col7\" class=\"data row6 col7\" >-0.04</td>\n",
       "      <td id=\"T_ae126_row6_col8\" class=\"data row6 col8\" >0.03</td>\n",
       "      <td id=\"T_ae126_row6_col9\" class=\"data row6 col9\" >-0.05</td>\n",
       "      <td id=\"T_ae126_row6_col10\" class=\"data row6 col10\" >0.06</td>\n",
       "    </tr>\n",
       "    <tr>\n",
       "      <th id=\"T_ae126_level0_row7\" class=\"row_heading level0 row7\" >Bulk_11</th>\n",
       "      <td id=\"T_ae126_row7_col0\" class=\"data row7 col0\" >0.03</td>\n",
       "      <td id=\"T_ae126_row7_col1\" class=\"data row7 col1\" >-0.04</td>\n",
       "      <td id=\"T_ae126_row7_col2\" class=\"data row7 col2\" >-0.01</td>\n",
       "      <td id=\"T_ae126_row7_col3\" class=\"data row7 col3\" >-0.12</td>\n",
       "      <td id=\"T_ae126_row7_col4\" class=\"data row7 col4\" >-0.02</td>\n",
       "      <td id=\"T_ae126_row7_col5\" class=\"data row7 col5\" >0.20</td>\n",
       "      <td id=\"T_ae126_row7_col6\" class=\"data row7 col6\" >-0.04</td>\n",
       "      <td id=\"T_ae126_row7_col7\" class=\"data row7 col7\" >1.00</td>\n",
       "      <td id=\"T_ae126_row7_col8\" class=\"data row7 col8\" >-0.05</td>\n",
       "      <td id=\"T_ae126_row7_col9\" class=\"data row7 col9\" >0.07</td>\n",
       "      <td id=\"T_ae126_row7_col10\" class=\"data row7 col10\" >-0.04</td>\n",
       "    </tr>\n",
       "    <tr>\n",
       "      <th id=\"T_ae126_level0_row8\" class=\"row_heading level0 row8\" >Bulk_12</th>\n",
       "      <td id=\"T_ae126_row8_col0\" class=\"data row8 col0\" >-0.02</td>\n",
       "      <td id=\"T_ae126_row8_col1\" class=\"data row8 col1\" >0.29</td>\n",
       "      <td id=\"T_ae126_row8_col2\" class=\"data row8 col2\" >0.01</td>\n",
       "      <td id=\"T_ae126_row8_col3\" class=\"data row8 col3\" >0.10</td>\n",
       "      <td id=\"T_ae126_row8_col4\" class=\"data row8 col4\" >-0.08</td>\n",
       "      <td id=\"T_ae126_row8_col5\" class=\"data row8 col5\" >-0.14</td>\n",
       "      <td id=\"T_ae126_row8_col6\" class=\"data row8 col6\" >0.03</td>\n",
       "      <td id=\"T_ae126_row8_col7\" class=\"data row8 col7\" >-0.05</td>\n",
       "      <td id=\"T_ae126_row8_col8\" class=\"data row8 col8\" >1.00</td>\n",
       "      <td id=\"T_ae126_row8_col9\" class=\"data row8 col9\" >0.42</td>\n",
       "      <td id=\"T_ae126_row8_col10\" class=\"data row8 col10\" >0.59</td>\n",
       "    </tr>\n",
       "    <tr>\n",
       "      <th id=\"T_ae126_level0_row9\" class=\"row_heading level0 row9\" >Bulk_14</th>\n",
       "      <td id=\"T_ae126_row9_col0\" class=\"data row9 col0\" >-0.09</td>\n",
       "      <td id=\"T_ae126_row9_col1\" class=\"data row9 col1\" >0.18</td>\n",
       "      <td id=\"T_ae126_row9_col2\" class=\"data row9 col2\" >0.02</td>\n",
       "      <td id=\"T_ae126_row9_col3\" class=\"data row9 col3\" >-0.09</td>\n",
       "      <td id=\"T_ae126_row9_col4\" class=\"data row9 col4\" >-0.08</td>\n",
       "      <td id=\"T_ae126_row9_col5\" class=\"data row9 col5\" >0.20</td>\n",
       "      <td id=\"T_ae126_row9_col6\" class=\"data row9 col6\" >-0.05</td>\n",
       "      <td id=\"T_ae126_row9_col7\" class=\"data row9 col7\" >0.07</td>\n",
       "      <td id=\"T_ae126_row9_col8\" class=\"data row9 col8\" >0.42</td>\n",
       "      <td id=\"T_ae126_row9_col9\" class=\"data row9 col9\" >1.00</td>\n",
       "      <td id=\"T_ae126_row9_col10\" class=\"data row9 col10\" >0.22</td>\n",
       "    </tr>\n",
       "    <tr>\n",
       "      <th id=\"T_ae126_level0_row10\" class=\"row_heading level0 row10\" >Bulk_15</th>\n",
       "      <td id=\"T_ae126_row10_col0\" class=\"data row10 col0\" >-0.05</td>\n",
       "      <td id=\"T_ae126_row10_col1\" class=\"data row10 col1\" >0.00</td>\n",
       "      <td id=\"T_ae126_row10_col2\" class=\"data row10 col2\" >0.02</td>\n",
       "      <td id=\"T_ae126_row10_col3\" class=\"data row10 col3\" >0.11</td>\n",
       "      <td id=\"T_ae126_row10_col4\" class=\"data row10 col4\" >-0.07</td>\n",
       "      <td id=\"T_ae126_row10_col5\" class=\"data row10 col5\" >-0.10</td>\n",
       "      <td id=\"T_ae126_row10_col6\" class=\"data row10 col6\" >0.06</td>\n",
       "      <td id=\"T_ae126_row10_col7\" class=\"data row10 col7\" >-0.04</td>\n",
       "      <td id=\"T_ae126_row10_col8\" class=\"data row10 col8\" >0.59</td>\n",
       "      <td id=\"T_ae126_row10_col9\" class=\"data row10 col9\" >0.22</td>\n",
       "      <td id=\"T_ae126_row10_col10\" class=\"data row10 col10\" >1.00</td>\n",
       "    </tr>\n",
       "  </tbody>\n",
       "</table>\n"
      ],
      "text/plain": [
       "<pandas.io.formats.style.Styler at 0x1699bf9d4e0>"
      ]
     },
     "execution_count": 20,
     "metadata": {},
     "output_type": "execute_result"
    }
   ],
   "source": [
    "data_bulk.corr().style.background_gradient(cmap='coolwarm').format(precision=2)"
   ]
  },
  {
   "cell_type": "markdown",
   "id": "b34b3703",
   "metadata": {},
   "source": [
    "Попытка удалить любой параметр (включая те, у которых сильная корреляция) приводит к  уменьшению качества MAE."
   ]
  },
  {
   "cell_type": "markdown",
   "id": "70105405",
   "metadata": {},
   "source": [
    "---"
   ]
  },
  {
   "cell_type": "markdown",
   "id": "f546d397",
   "metadata": {},
   "source": [
    "<h3><span style=\"color: red\"><b>- </b></span> data_gas - данные о продувке сплава газом;</h3>"
   ]
  },
  {
   "cell_type": "markdown",
   "id": "69b93b98",
   "metadata": {},
   "source": [
    "**ИЗУЧЕНИЕ АНОМАЛИЙ**"
   ]
  },
  {
   "cell_type": "code",
   "execution_count": 21,
   "id": "3327683d",
   "metadata": {},
   "outputs": [
    {
     "data": {
      "text/html": [
       "<div>\n",
       "<style scoped>\n",
       "    .dataframe tbody tr th:only-of-type {\n",
       "        vertical-align: middle;\n",
       "    }\n",
       "\n",
       "    .dataframe tbody tr th {\n",
       "        vertical-align: top;\n",
       "    }\n",
       "\n",
       "    .dataframe thead th {\n",
       "        text-align: right;\n",
       "    }\n",
       "</style>\n",
       "<table border=\"1\" class=\"dataframe\">\n",
       "  <thead>\n",
       "    <tr style=\"text-align: right;\">\n",
       "      <th></th>\n",
       "      <th>key</th>\n",
       "      <th>Газ 1</th>\n",
       "    </tr>\n",
       "  </thead>\n",
       "  <tbody>\n",
       "    <tr>\n",
       "      <th>0</th>\n",
       "      <td>1</td>\n",
       "      <td>29.749986</td>\n",
       "    </tr>\n",
       "    <tr>\n",
       "      <th>1</th>\n",
       "      <td>2</td>\n",
       "      <td>12.555561</td>\n",
       "    </tr>\n",
       "    <tr>\n",
       "      <th>2</th>\n",
       "      <td>3</td>\n",
       "      <td>28.554793</td>\n",
       "    </tr>\n",
       "    <tr>\n",
       "      <th>3</th>\n",
       "      <td>4</td>\n",
       "      <td>18.841219</td>\n",
       "    </tr>\n",
       "    <tr>\n",
       "      <th>4</th>\n",
       "      <td>5</td>\n",
       "      <td>5.413692</td>\n",
       "    </tr>\n",
       "  </tbody>\n",
       "</table>\n",
       "</div>"
      ],
      "text/plain": [
       "   key      Газ 1\n",
       "0    1  29.749986\n",
       "1    2  12.555561\n",
       "2    3  28.554793\n",
       "3    4  18.841219\n",
       "4    5   5.413692"
      ]
     },
     "execution_count": 21,
     "metadata": {},
     "output_type": "execute_result"
    }
   ],
   "source": [
    "data_gas.head(5)"
   ]
  },
  {
   "cell_type": "markdown",
   "id": "29340934",
   "metadata": {},
   "source": [
    "**<span style=\"color: crimson\">Изменить</span>:** название названий столбцов (удалить пробелы)."
   ]
  },
  {
   "cell_type": "markdown",
   "id": "c8b84f19",
   "metadata": {},
   "source": [
    "**ИСПРАВЛЕНИЕ АНОМАЛИЙ**"
   ]
  },
  {
   "cell_type": "code",
   "execution_count": 22,
   "id": "ba54d6d9",
   "metadata": {},
   "outputs": [],
   "source": [
    "data_gas = data_gas.rename(columns={'Газ 1': 'Газ_1'})"
   ]
  },
  {
   "cell_type": "markdown",
   "id": "48b92fcc",
   "metadata": {},
   "source": [
    "---"
   ]
  },
  {
   "cell_type": "markdown",
   "id": "37cac17b",
   "metadata": {},
   "source": [
    "<h3><span style=\"color: red\"><b>- </b></span> data_temp - результаты измерения температуры;</h3> "
   ]
  },
  {
   "cell_type": "markdown",
   "id": "3cec302e",
   "metadata": {},
   "source": [
    "**ИЗУЧЕНИЕ АНОМАЛИЙ**"
   ]
  },
  {
   "cell_type": "code",
   "execution_count": 23,
   "id": "bf39d712",
   "metadata": {},
   "outputs": [
    {
     "data": {
      "text/html": [
       "<div>\n",
       "<style scoped>\n",
       "    .dataframe tbody tr th:only-of-type {\n",
       "        vertical-align: middle;\n",
       "    }\n",
       "\n",
       "    .dataframe tbody tr th {\n",
       "        vertical-align: top;\n",
       "    }\n",
       "\n",
       "    .dataframe thead th {\n",
       "        text-align: right;\n",
       "    }\n",
       "</style>\n",
       "<table border=\"1\" class=\"dataframe\">\n",
       "  <thead>\n",
       "    <tr style=\"text-align: right;\">\n",
       "      <th></th>\n",
       "      <th>key</th>\n",
       "      <th>Время замера</th>\n",
       "      <th>Температура</th>\n",
       "    </tr>\n",
       "  </thead>\n",
       "  <tbody>\n",
       "    <tr>\n",
       "      <th>0</th>\n",
       "      <td>1</td>\n",
       "      <td>2019-05-03 11:16:18</td>\n",
       "      <td>1571.0</td>\n",
       "    </tr>\n",
       "    <tr>\n",
       "      <th>1</th>\n",
       "      <td>1</td>\n",
       "      <td>2019-05-03 11:25:53</td>\n",
       "      <td>1604.0</td>\n",
       "    </tr>\n",
       "    <tr>\n",
       "      <th>2</th>\n",
       "      <td>1</td>\n",
       "      <td>2019-05-03 11:29:11</td>\n",
       "      <td>1618.0</td>\n",
       "    </tr>\n",
       "    <tr>\n",
       "      <th>3</th>\n",
       "      <td>1</td>\n",
       "      <td>2019-05-03 11:30:01</td>\n",
       "      <td>1601.0</td>\n",
       "    </tr>\n",
       "    <tr>\n",
       "      <th>4</th>\n",
       "      <td>1</td>\n",
       "      <td>2019-05-03 11:30:39</td>\n",
       "      <td>1613.0</td>\n",
       "    </tr>\n",
       "    <tr>\n",
       "      <th>5</th>\n",
       "      <td>2</td>\n",
       "      <td>2019-05-03 11:37:27</td>\n",
       "      <td>1581.0</td>\n",
       "    </tr>\n",
       "    <tr>\n",
       "      <th>6</th>\n",
       "      <td>2</td>\n",
       "      <td>2019-05-03 11:38:00</td>\n",
       "      <td>1577.0</td>\n",
       "    </tr>\n",
       "    <tr>\n",
       "      <th>7</th>\n",
       "      <td>2</td>\n",
       "      <td>2019-05-03 11:49:38</td>\n",
       "      <td>1589.0</td>\n",
       "    </tr>\n",
       "    <tr>\n",
       "      <th>8</th>\n",
       "      <td>2</td>\n",
       "      <td>2019-05-03 11:55:50</td>\n",
       "      <td>1604.0</td>\n",
       "    </tr>\n",
       "    <tr>\n",
       "      <th>9</th>\n",
       "      <td>2</td>\n",
       "      <td>2019-05-03 11:58:24</td>\n",
       "      <td>1608.0</td>\n",
       "    </tr>\n",
       "  </tbody>\n",
       "</table>\n",
       "</div>"
      ],
      "text/plain": [
       "   key         Время замера  Температура\n",
       "0    1  2019-05-03 11:16:18       1571.0\n",
       "1    1  2019-05-03 11:25:53       1604.0\n",
       "2    1  2019-05-03 11:29:11       1618.0\n",
       "3    1  2019-05-03 11:30:01       1601.0\n",
       "4    1  2019-05-03 11:30:39       1613.0\n",
       "5    2  2019-05-03 11:37:27       1581.0\n",
       "6    2  2019-05-03 11:38:00       1577.0\n",
       "7    2  2019-05-03 11:49:38       1589.0\n",
       "8    2  2019-05-03 11:55:50       1604.0\n",
       "9    2  2019-05-03 11:58:24       1608.0"
      ]
     },
     "execution_count": 23,
     "metadata": {},
     "output_type": "execute_result"
    }
   ],
   "source": [
    "data_temp.head(10)"
   ]
  },
  {
   "cell_type": "code",
   "execution_count": 24,
   "id": "44024af1",
   "metadata": {},
   "outputs": [
    {
     "name": "stdout",
     "output_type": "stream",
     "text": [
      "<class 'pandas.core.frame.DataFrame'>\n",
      "RangeIndex: 15907 entries, 0 to 15906\n",
      "Data columns (total 3 columns):\n",
      " #   Column        Non-Null Count  Dtype  \n",
      "---  ------        --------------  -----  \n",
      " 0   key           15907 non-null  int64  \n",
      " 1   Время замера  15907 non-null  object \n",
      " 2   Температура   13006 non-null  float64\n",
      "dtypes: float64(1), int64(1), object(1)\n",
      "memory usage: 372.9+ KB\n"
     ]
    }
   ],
   "source": [
    "data_temp.info()"
   ]
  },
  {
   "cell_type": "markdown",
   "id": "ef9dee8e",
   "metadata": {},
   "source": [
    "**<span style=\"color: crimson\">Удалить</span>:**  столбцец \"Время замера\" нам не нужен.  \n",
    "**<span style=\"color: crimson\">Удалить</span>:** партии где меньше двух замеров и/или нет целевой функции."
   ]
  },
  {
   "cell_type": "code",
   "execution_count": 25,
   "id": "8dbf429b",
   "metadata": {},
   "outputs": [
    {
     "data": {
      "text/html": [
       "<div>\n",
       "<style scoped>\n",
       "    .dataframe tbody tr th:only-of-type {\n",
       "        vertical-align: middle;\n",
       "    }\n",
       "\n",
       "    .dataframe tbody tr th {\n",
       "        vertical-align: top;\n",
       "    }\n",
       "\n",
       "    .dataframe thead th {\n",
       "        text-align: right;\n",
       "    }\n",
       "</style>\n",
       "<table border=\"1\" class=\"dataframe\">\n",
       "  <thead>\n",
       "    <tr style=\"text-align: right;\">\n",
       "      <th></th>\n",
       "      <th>key</th>\n",
       "      <th>Температура</th>\n",
       "    </tr>\n",
       "  </thead>\n",
       "  <tbody>\n",
       "    <tr>\n",
       "      <th>count</th>\n",
       "      <td>15907.000000</td>\n",
       "      <td>13006.000000</td>\n",
       "    </tr>\n",
       "    <tr>\n",
       "      <th>mean</th>\n",
       "      <td>1607.880870</td>\n",
       "      <td>1591.840920</td>\n",
       "    </tr>\n",
       "    <tr>\n",
       "      <th>std</th>\n",
       "      <td>942.212073</td>\n",
       "      <td>21.375851</td>\n",
       "    </tr>\n",
       "    <tr>\n",
       "      <th>min</th>\n",
       "      <td>1.000000</td>\n",
       "      <td>1191.000000</td>\n",
       "    </tr>\n",
       "    <tr>\n",
       "      <th>25%</th>\n",
       "      <td>790.000000</td>\n",
       "      <td>1581.000000</td>\n",
       "    </tr>\n",
       "    <tr>\n",
       "      <th>50%</th>\n",
       "      <td>1618.000000</td>\n",
       "      <td>1591.000000</td>\n",
       "    </tr>\n",
       "    <tr>\n",
       "      <th>75%</th>\n",
       "      <td>2427.000000</td>\n",
       "      <td>1601.000000</td>\n",
       "    </tr>\n",
       "    <tr>\n",
       "      <th>max</th>\n",
       "      <td>3241.000000</td>\n",
       "      <td>1705.000000</td>\n",
       "    </tr>\n",
       "  </tbody>\n",
       "</table>\n",
       "</div>"
      ],
      "text/plain": [
       "                key   Температура\n",
       "count  15907.000000  13006.000000\n",
       "mean    1607.880870   1591.840920\n",
       "std      942.212073     21.375851\n",
       "min        1.000000   1191.000000\n",
       "25%      790.000000   1581.000000\n",
       "50%     1618.000000   1591.000000\n",
       "75%     2427.000000   1601.000000\n",
       "max     3241.000000   1705.000000"
      ]
     },
     "execution_count": 25,
     "metadata": {},
     "output_type": "execute_result"
    }
   ],
   "source": [
    "data_temp.describe()"
   ]
  },
  {
   "cell_type": "markdown",
   "id": "3b1f5883",
   "metadata": {},
   "source": [
    "**ИСПРАВЛЕНИЕ АНОМАЛИЙ**"
   ]
  },
  {
   "cell_type": "code",
   "execution_count": 26,
   "id": "e54b5780",
   "metadata": {},
   "outputs": [],
   "source": [
    "data_temp = data_temp[['key', 'Температура']]"
   ]
  },
  {
   "cell_type": "markdown",
   "id": "af2ddb06",
   "metadata": {},
   "source": [
    "Оставим только первую и последнюю дату:"
   ]
  },
  {
   "cell_type": "code",
   "execution_count": 27,
   "id": "cdc6f0e7",
   "metadata": {},
   "outputs": [],
   "source": [
    "last_temp = data_temp.groupby('key').last()\n",
    "first_temp = data_temp.groupby('key').first()\n",
    "\n",
    "data_temp = (first_temp).merge(last_temp, on=\"key\", how=\"inner\", suffixes=('_first', '_last'))"
   ]
  },
  {
   "cell_type": "markdown",
   "id": "68d08a86",
   "metadata": {},
   "source": [
    "Первая и последняя температура не должны быть равны:"
   ]
  },
  {
   "cell_type": "code",
   "execution_count": 28,
   "id": "c260a63c",
   "metadata": {},
   "outputs": [],
   "source": [
    "data_temp = data_temp.query('Температура_first!=Температура_last')"
   ]
  },
  {
   "cell_type": "markdown",
   "id": "af6166e1",
   "metadata": {},
   "source": [
    "---"
   ]
  },
  {
   "cell_type": "markdown",
   "id": "3f5f0dff",
   "metadata": {},
   "source": [
    "<h3><span style=\"color: red\"><b>- </b></span> data_wire - данные о проволочных материалах (объём);</h3> "
   ]
  },
  {
   "cell_type": "markdown",
   "id": "b4e89d17",
   "metadata": {},
   "source": [
    "**ИЗУЧЕНИЕ АНОМАЛИЙ**"
   ]
  },
  {
   "cell_type": "code",
   "execution_count": 29,
   "id": "ec6d87ca",
   "metadata": {},
   "outputs": [
    {
     "data": {
      "text/html": [
       "<div>\n",
       "<style scoped>\n",
       "    .dataframe tbody tr th:only-of-type {\n",
       "        vertical-align: middle;\n",
       "    }\n",
       "\n",
       "    .dataframe tbody tr th {\n",
       "        vertical-align: top;\n",
       "    }\n",
       "\n",
       "    .dataframe thead th {\n",
       "        text-align: right;\n",
       "    }\n",
       "</style>\n",
       "<table border=\"1\" class=\"dataframe\">\n",
       "  <thead>\n",
       "    <tr style=\"text-align: right;\">\n",
       "      <th></th>\n",
       "      <th>key</th>\n",
       "      <th>Wire 1</th>\n",
       "      <th>Wire 2</th>\n",
       "      <th>Wire 3</th>\n",
       "      <th>Wire 4</th>\n",
       "      <th>Wire 5</th>\n",
       "      <th>Wire 6</th>\n",
       "      <th>Wire 7</th>\n",
       "      <th>Wire 8</th>\n",
       "      <th>Wire 9</th>\n",
       "    </tr>\n",
       "  </thead>\n",
       "  <tbody>\n",
       "    <tr>\n",
       "      <th>0</th>\n",
       "      <td>1</td>\n",
       "      <td>60.059998</td>\n",
       "      <td>NaN</td>\n",
       "      <td>NaN</td>\n",
       "      <td>NaN</td>\n",
       "      <td>NaN</td>\n",
       "      <td>NaN</td>\n",
       "      <td>NaN</td>\n",
       "      <td>NaN</td>\n",
       "      <td>NaN</td>\n",
       "    </tr>\n",
       "    <tr>\n",
       "      <th>1</th>\n",
       "      <td>2</td>\n",
       "      <td>96.052315</td>\n",
       "      <td>NaN</td>\n",
       "      <td>NaN</td>\n",
       "      <td>NaN</td>\n",
       "      <td>NaN</td>\n",
       "      <td>NaN</td>\n",
       "      <td>NaN</td>\n",
       "      <td>NaN</td>\n",
       "      <td>NaN</td>\n",
       "    </tr>\n",
       "    <tr>\n",
       "      <th>2</th>\n",
       "      <td>3</td>\n",
       "      <td>91.160157</td>\n",
       "      <td>NaN</td>\n",
       "      <td>NaN</td>\n",
       "      <td>NaN</td>\n",
       "      <td>NaN</td>\n",
       "      <td>NaN</td>\n",
       "      <td>NaN</td>\n",
       "      <td>NaN</td>\n",
       "      <td>NaN</td>\n",
       "    </tr>\n",
       "    <tr>\n",
       "      <th>3</th>\n",
       "      <td>4</td>\n",
       "      <td>89.063515</td>\n",
       "      <td>NaN</td>\n",
       "      <td>NaN</td>\n",
       "      <td>NaN</td>\n",
       "      <td>NaN</td>\n",
       "      <td>NaN</td>\n",
       "      <td>NaN</td>\n",
       "      <td>NaN</td>\n",
       "      <td>NaN</td>\n",
       "    </tr>\n",
       "    <tr>\n",
       "      <th>4</th>\n",
       "      <td>5</td>\n",
       "      <td>89.238236</td>\n",
       "      <td>9.11456</td>\n",
       "      <td>NaN</td>\n",
       "      <td>NaN</td>\n",
       "      <td>NaN</td>\n",
       "      <td>NaN</td>\n",
       "      <td>NaN</td>\n",
       "      <td>NaN</td>\n",
       "      <td>NaN</td>\n",
       "    </tr>\n",
       "  </tbody>\n",
       "</table>\n",
       "</div>"
      ],
      "text/plain": [
       "   key     Wire 1   Wire 2  Wire 3  Wire 4  Wire 5  Wire 6  Wire 7  Wire 8  \\\n",
       "0    1  60.059998      NaN     NaN     NaN     NaN     NaN     NaN     NaN   \n",
       "1    2  96.052315      NaN     NaN     NaN     NaN     NaN     NaN     NaN   \n",
       "2    3  91.160157      NaN     NaN     NaN     NaN     NaN     NaN     NaN   \n",
       "3    4  89.063515      NaN     NaN     NaN     NaN     NaN     NaN     NaN   \n",
       "4    5  89.238236  9.11456     NaN     NaN     NaN     NaN     NaN     NaN   \n",
       "\n",
       "   Wire 9  \n",
       "0     NaN  \n",
       "1     NaN  \n",
       "2     NaN  \n",
       "3     NaN  \n",
       "4     NaN  "
      ]
     },
     "execution_count": 29,
     "metadata": {},
     "output_type": "execute_result"
    }
   ],
   "source": [
    "data_wire.head()"
   ]
  },
  {
   "cell_type": "markdown",
   "id": "e86e7f2f",
   "metadata": {},
   "source": [
    "**<span style=\"color: crimson\">Изменить</span>:** названия столбцов (удалить пробелы)."
   ]
  },
  {
   "cell_type": "code",
   "execution_count": 30,
   "id": "cde91599",
   "metadata": {},
   "outputs": [
    {
     "name": "stdout",
     "output_type": "stream",
     "text": [
      "<class 'pandas.core.frame.DataFrame'>\n",
      "RangeIndex: 3081 entries, 0 to 3080\n",
      "Data columns (total 10 columns):\n",
      " #   Column  Non-Null Count  Dtype  \n",
      "---  ------  --------------  -----  \n",
      " 0   key     3081 non-null   int64  \n",
      " 1   Wire 1  3055 non-null   float64\n",
      " 2   Wire 2  1079 non-null   float64\n",
      " 3   Wire 3  63 non-null     float64\n",
      " 4   Wire 4  14 non-null     float64\n",
      " 5   Wire 5  1 non-null      float64\n",
      " 6   Wire 6  73 non-null     float64\n",
      " 7   Wire 7  11 non-null     float64\n",
      " 8   Wire 8  19 non-null     float64\n",
      " 9   Wire 9  29 non-null     float64\n",
      "dtypes: float64(9), int64(1)\n",
      "memory usage: 240.8 KB\n"
     ]
    }
   ],
   "source": [
    "data_wire.info()"
   ]
  },
  {
   "cell_type": "code",
   "execution_count": 31,
   "id": "9043c7a5",
   "metadata": {},
   "outputs": [
    {
     "data": {
      "text/html": [
       "<style type=\"text/css\">\n",
       "</style>\n",
       "<table id=\"T_71e59\">\n",
       "  <thead>\n",
       "    <tr>\n",
       "      <th class=\"blank level0\" >&nbsp;</th>\n",
       "      <th id=\"T_71e59_level0_col0\" class=\"col_heading level0 col0\" >missing</th>\n",
       "      <th id=\"T_71e59_level0_col1\" class=\"col_heading level0 col1\" >total</th>\n",
       "      <th id=\"T_71e59_level0_col2\" class=\"col_heading level0 col2\" >percent</th>\n",
       "    </tr>\n",
       "  </thead>\n",
       "  <tbody>\n",
       "    <tr>\n",
       "      <th id=\"T_71e59_level0_row0\" class=\"row_heading level0 row0\" >Wire 5</th>\n",
       "      <td id=\"T_71e59_row0_col0\" class=\"data row0 col0\" >3,080</td>\n",
       "      <td id=\"T_71e59_row0_col1\" class=\"data row0 col1\" >3,081</td>\n",
       "      <td id=\"T_71e59_row0_col2\" class=\"data row0 col2\" >99.97%</td>\n",
       "    </tr>\n",
       "    <tr>\n",
       "      <th id=\"T_71e59_level0_row1\" class=\"row_heading level0 row1\" >Wire 7</th>\n",
       "      <td id=\"T_71e59_row1_col0\" class=\"data row1 col0\" >3,070</td>\n",
       "      <td id=\"T_71e59_row1_col1\" class=\"data row1 col1\" >3,081</td>\n",
       "      <td id=\"T_71e59_row1_col2\" class=\"data row1 col2\" >99.64%</td>\n",
       "    </tr>\n",
       "    <tr>\n",
       "      <th id=\"T_71e59_level0_row2\" class=\"row_heading level0 row2\" >Wire 4</th>\n",
       "      <td id=\"T_71e59_row2_col0\" class=\"data row2 col0\" >3,067</td>\n",
       "      <td id=\"T_71e59_row2_col1\" class=\"data row2 col1\" >3,081</td>\n",
       "      <td id=\"T_71e59_row2_col2\" class=\"data row2 col2\" >99.55%</td>\n",
       "    </tr>\n",
       "    <tr>\n",
       "      <th id=\"T_71e59_level0_row3\" class=\"row_heading level0 row3\" >Wire 8</th>\n",
       "      <td id=\"T_71e59_row3_col0\" class=\"data row3 col0\" >3,062</td>\n",
       "      <td id=\"T_71e59_row3_col1\" class=\"data row3 col1\" >3,081</td>\n",
       "      <td id=\"T_71e59_row3_col2\" class=\"data row3 col2\" >99.38%</td>\n",
       "    </tr>\n",
       "    <tr>\n",
       "      <th id=\"T_71e59_level0_row4\" class=\"row_heading level0 row4\" >Wire 9</th>\n",
       "      <td id=\"T_71e59_row4_col0\" class=\"data row4 col0\" >3,052</td>\n",
       "      <td id=\"T_71e59_row4_col1\" class=\"data row4 col1\" >3,081</td>\n",
       "      <td id=\"T_71e59_row4_col2\" class=\"data row4 col2\" >99.06%</td>\n",
       "    </tr>\n",
       "    <tr>\n",
       "      <th id=\"T_71e59_level0_row5\" class=\"row_heading level0 row5\" >Wire 3</th>\n",
       "      <td id=\"T_71e59_row5_col0\" class=\"data row5 col0\" >3,018</td>\n",
       "      <td id=\"T_71e59_row5_col1\" class=\"data row5 col1\" >3,081</td>\n",
       "      <td id=\"T_71e59_row5_col2\" class=\"data row5 col2\" >97.96%</td>\n",
       "    </tr>\n",
       "    <tr>\n",
       "      <th id=\"T_71e59_level0_row6\" class=\"row_heading level0 row6\" >Wire 6</th>\n",
       "      <td id=\"T_71e59_row6_col0\" class=\"data row6 col0\" >3,008</td>\n",
       "      <td id=\"T_71e59_row6_col1\" class=\"data row6 col1\" >3,081</td>\n",
       "      <td id=\"T_71e59_row6_col2\" class=\"data row6 col2\" >97.63%</td>\n",
       "    </tr>\n",
       "    <tr>\n",
       "      <th id=\"T_71e59_level0_row7\" class=\"row_heading level0 row7\" >Wire 2</th>\n",
       "      <td id=\"T_71e59_row7_col0\" class=\"data row7 col0\" >2,002</td>\n",
       "      <td id=\"T_71e59_row7_col1\" class=\"data row7 col1\" >3,081</td>\n",
       "      <td id=\"T_71e59_row7_col2\" class=\"data row7 col2\" >64.98%</td>\n",
       "    </tr>\n",
       "    <tr>\n",
       "      <th id=\"T_71e59_level0_row8\" class=\"row_heading level0 row8\" >Wire 1</th>\n",
       "      <td id=\"T_71e59_row8_col0\" class=\"data row8 col0\" >26</td>\n",
       "      <td id=\"T_71e59_row8_col1\" class=\"data row8 col1\" >3,081</td>\n",
       "      <td id=\"T_71e59_row8_col2\" class=\"data row8 col2\" >0.84%</td>\n",
       "    </tr>\n",
       "  </tbody>\n",
       "</table>\n"
      ],
      "text/plain": [
       "<pandas.io.formats.style.Styler at 0x1699bf9f3d0>"
      ]
     },
     "execution_count": 31,
     "metadata": {},
     "output_type": "execute_result"
    }
   ],
   "source": [
    "data_wire.stb.missing(style=True, clip_0=True)"
   ]
  },
  {
   "cell_type": "markdown",
   "id": "d1890142",
   "metadata": {},
   "source": [
    "**<span style=\"color: crimson\">Удалить</span>:** столбцы с кол-ом пропусков больше 80%, а пропуски заменим 0."
   ]
  },
  {
   "cell_type": "markdown",
   "id": "820e41b9",
   "metadata": {},
   "source": [
    "**ИСПРАВЛЕНИЕ АНОМАЛИЙ**"
   ]
  },
  {
   "cell_type": "code",
   "execution_count": 32,
   "id": "3df6b021",
   "metadata": {},
   "outputs": [],
   "source": [
    "data_wire = data_wire.rename(columns={'Wire 1':'Wire_1', 'Wire 2':'Wire_2'})"
   ]
  },
  {
   "cell_type": "markdown",
   "id": "71961b7a",
   "metadata": {},
   "source": [
    "После многочисленных экспериментов такой способ борьбы с пропусками показал наилучшее решение:"
   ]
  },
  {
   "cell_type": "code",
   "execution_count": 33,
   "id": "6cd744fe",
   "metadata": {},
   "outputs": [],
   "source": [
    "data_wire = data_wire.dropna(thresh=int(len(data_wire) * .1), axis=1)"
   ]
  },
  {
   "cell_type": "code",
   "execution_count": 34,
   "id": "de2fe70e",
   "metadata": {},
   "outputs": [],
   "source": [
    "data_wire = data_wire.fillna(0)"
   ]
  },
  {
   "cell_type": "markdown",
   "id": "d1606976",
   "metadata": {},
   "source": [
    "---"
   ]
  },
  {
   "cell_type": "markdown",
   "id": "a00fa8ff",
   "metadata": {},
   "source": [
    "<h3><span style=\"color: red\"><b>| </b></span> Склеим датасет в один:</h3>"
   ]
  },
  {
   "cell_type": "code",
   "execution_count": 35,
   "id": "3d4e48d3",
   "metadata": {},
   "outputs": [],
   "source": [
    "df = (\n",
    "    data_arc.merge(data_bulk, on=\"key\", how=\"inner\")\n",
    "    .merge(data_gas, on=\"key\", how=\"inner\")\n",
    "    .merge(data_wire, on=\"key\", how=\"inner\")\n",
    "    .merge(data_temp, on=\"key\", how=\"inner\")\n",
    ")"
   ]
  },
  {
   "cell_type": "markdown",
   "id": "77bdbdf3",
   "metadata": {},
   "source": [
    "Удалим номера партии:"
   ]
  },
  {
   "cell_type": "code",
   "execution_count": 36,
   "id": "1cefd1aa",
   "metadata": {},
   "outputs": [],
   "source": [
    "df = df.drop(columns=['key'])"
   ]
  },
  {
   "cell_type": "markdown",
   "id": "66ad5d0c",
   "metadata": {},
   "source": [
    "---"
   ]
  },
  {
   "cell_type": "markdown",
   "id": "f9e4941f",
   "metadata": {},
   "source": [
    "## <span style=\"color: crimson\">Этап 2</span>  Создание и тестирование моделей "
   ]
  },
  {
   "cell_type": "markdown",
   "id": "26d47915",
   "metadata": {},
   "source": [
    "#### <span style=\"color: crimson\"> Разделение выборки:"
   ]
  },
  {
   "cell_type": "code",
   "execution_count": 37,
   "id": "1a944987",
   "metadata": {},
   "outputs": [],
   "source": [
    "train, valid = train_test_split(df, test_size=0.2, random_state=666)\n",
    "valid, test = train_test_split(valid, test_size=0.5, random_state=666)\n",
    "\n",
    "\n",
    "features_train = train.drop(['Температура_last'], axis=1)\n",
    "target_train = train['Температура_last']\n",
    "\n",
    "features_test = test.drop(['Температура_last'], axis=1)\n",
    "target_test = test['Температура_last']"
   ]
  },
  {
   "cell_type": "markdown",
   "id": "ff3fabb7",
   "metadata": {},
   "source": [
    "#### <span style=\"color: crimson\"> Настройка optuna:"
   ]
  },
  {
   "cell_type": "code",
   "execution_count": 38,
   "id": "6574c14d",
   "metadata": {},
   "outputs": [],
   "source": [
    "RANDOM_SEED = 666\n",
    "\n",
    "kfolds = KFold(n_splits=10, shuffle=True, random_state=RANDOM_SEED)\n",
    "\n",
    "def tune(objective):\n",
    "    study = optuna.create_study(direction=\"maximize\")\n",
    "    study.optimize(objective, n_trials=100)\n",
    "\n",
    "    params = study.best_params\n",
    "    best_score = study.best_value\n",
    "    print(f\"Best score: {best_score}\\n\")\n",
    "    print(f\"Optimized parameters: {params}\\n\")\n",
    "    return params"
   ]
  },
  {
   "cell_type": "markdown",
   "id": "9ea46713",
   "metadata": {},
   "source": [
    "#### <span style=\"color: crimson\"> Поиск гиперпараметров:"
   ]
  },
  {
   "cell_type": "code",
   "execution_count": 39,
   "id": "badc23b8",
   "metadata": {
    "scrolled": true
   },
   "outputs": [],
   "source": [
    "# %%time\n",
    "\n",
    "# def LGBM_objective(trial):\n",
    "#     param_grid = {\n",
    "#         \"num_leaves\": trial.suggest_int(\"num_leaves\", 1, 200),\n",
    "#         \"learning_rate\": trial.suggest_float(\"learning_rate\", 0.01, 1, step=0.01),\n",
    "#         \"max_depth\": trial.suggest_int(\"max_depth\", 1, 50),\n",
    "#         \"n_estimators\": trial.suggest_int(\"n_estimators\", 10, 500),\n",
    "#     }\n",
    "\n",
    "#     LGBM = LGBMRegressor(**param_grid, random_state=RANDOM_SEED)\n",
    "#     scores = cross_val_score(\n",
    "#         LGBM, features_train, target_train, cv=kfolds, scoring=\"neg_mean_absolute_error\"\n",
    "#     )\n",
    "#     return scores.mean()\n",
    "\n",
    "\n",
    "# LGBM_params = tune(LGBM_objective)\n",
    "# LGBM = LGBMRegressor(**LGBM_params, random_state=RANDOM_SEED)"
   ]
  },
  {
   "cell_type": "markdown",
   "id": "ce670fd0",
   "metadata": {},
   "source": [
    "**Тест модели:**"
   ]
  },
  {
   "cell_type": "code",
   "execution_count": 40,
   "id": "3a913e3e",
   "metadata": {},
   "outputs": [
    {
     "name": "stdout",
     "output_type": "stream",
     "text": [
      "CPU times: total: 531 ms\n",
      "Wall time: 63.9 ms\n"
     ]
    },
    {
     "data": {
      "text/plain": [
       "5.964166891055178"
      ]
     },
     "execution_count": 40,
     "metadata": {},
     "output_type": "execute_result"
    }
   ],
   "source": [
    "%%time\n",
    "\n",
    "LGBMR_model = LGBMRegressor(\n",
    "    num_leaves = 30, learning_rate = 0.2, max_depth = 4, n_estimators = 120).fit(features_train, target_train)\n",
    "LGBMR_RMSE = mean_absolute_error(target_test, LGBMR_model.predict(features_test))\n",
    "LGBMR_RMSE"
   ]
  },
  {
   "cell_type": "markdown",
   "id": "fe42baaa",
   "metadata": {},
   "source": [
    "CPU times: total: 672 ms  \n",
    "Wall time: 57.8 ms\n",
    "    \n",
    "5.964166891055178    "
   ]
  },
  {
   "cell_type": "markdown",
   "id": "9deaea66",
   "metadata": {},
   "source": [
    "---"
   ]
  },
  {
   "cell_type": "markdown",
   "id": "41f58483",
   "metadata": {},
   "source": [
    "## <span style=\"color: crimson\">Этап 3</span>  Общий вывод"
   ]
  },
  {
   "cell_type": "markdown",
   "id": "cf00ebc0",
   "metadata": {},
   "source": [
    "**График важности параметров:**"
   ]
  },
  {
   "cell_type": "code",
   "execution_count": 41,
   "id": "efe135c9",
   "metadata": {},
   "outputs": [
    {
     "data": {
      "image/png": "[encoded data removed]",
      "text/plain": [
       "<Figure size 1080x576 with 1 Axes>"
      ]
     },
     "metadata": {},
     "output_type": "display_data"
    }
   ],
   "source": [
    "# Стилизация графика\n",
    "matplotlib.style.use('fivethirtyeight') \n",
    "\n",
    "# Размер графика\n",
    "plt.figure(figsize=(15, 8))\n",
    "\n",
    "# Название осей и графика\n",
    "plt.title(\"Оценка уровня значимости у параметра\")\n",
    "plt.xlabel(\"Уровень значимости\")\n",
    "plt.ylabel(\"Параметр\")\n",
    "\n",
    "# Создание графика\n",
    "feat_importances = pd.Series(LGBMR_model.feature_importances_, index=df.drop(['Температура_last'], axis=1).columns)\n",
    "feat_importances.nlargest(20).plot(kind='barh');"
   ]
  },
  {
   "cell_type": "markdown",
   "id": "bb58e2de",
   "metadata": {},
   "source": [
    "Лучшее качество **RMAE = 5.9** показывает градиентный бустинг с параметрами:\n",
    "* num_leaves = 30\n",
    "* learning_rate = 0.2\n",
    "* max_depth = 4\n",
    "* n_estimators = 120"
   ]
  }
 ],
 "metadata": {
  "kernelspec": {
   "display_name": "Python 3 (ipykernel)",
   "language": "python",
   "name": "python3"
  },
  "language_info": {
   "codemirror_mode": {
    "name": "ipython",
    "version": 3
   },
   "file_extension": ".py",
   "mimetype": "text/x-python",
   "name": "python",
   "nbconvert_exporter": "python",
   "pygments_lexer": "ipython3",
   "version": "3.9.5"
  },
  "toc": {
   "base_numbering": 1,
   "nav_menu": {},
   "number_sections": false,
   "sideBar": true,
   "skip_h1_title": false,
   "title_cell": "Table of Contents",
   "title_sidebar": "Contents",
   "toc_cell": false,
   "toc_position": {},
   "toc_section_display": true,
   "toc_window_display": false
  }
 },
 "nbformat": 4,
 "nbformat_minor": 5
}
