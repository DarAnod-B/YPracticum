{
 "cells": [
  {
   "cell_type": "markdown",
   "metadata": {},
   "source": [
    "# <span style=\"color: crimson\">Определение стоимости автомобилей</span>\n",
    "---\n",
    "**<span style=\"color: crimson\">Заказчик</span>**: cервис по продаже автомобилей с пробегом «Не бит, не крашен».\n",
    "\n",
    "**<span style=\"color: crimson\">Цель анализа</span>**: построить модель по предсказанию стоимости машины по историческим данные: технические характеристики, комплектации и цены автомобилей.\n",
    "\n",
    "**<span style=\"color: crimson\">Датасет</span>**: технические характеристики, комплектации и цены автомобилей. \n",
    "\n",
    "**<span style=\"color: crimson\">Заказчику важны:</span>**:\n",
    "- качество предсказания   \n",
    "- скорость предсказания   \n",
    "- время обучения  \n",
    "---"
   ]
  },
  {
   "cell_type": "markdown",
   "metadata": {},
   "source": [
    "<h3>Описание данных:</h3>\n",
    "\n",
    "<h4>Признаки:</h4>\n",
    "\n",
    "* <span style=\"color: crimson\">DateCrawled</span> — дата скачивания анкеты из базы  \n",
    "* <span style=\"color: crimson\">VehicleType</span> — тип автомобильного кузова  \n",
    "* <span style=\"color: crimson\">RegistrationYear</span> — год регистрации автомобиля  \n",
    "* <span style=\"color: crimson\">Gearbox</span> — тип коробки передач  \n",
    "* <span style=\"color: crimson\">Power</span> — мощность (л. с.)  \n",
    "* <span style=\"color: crimson\">Model</span> — модель автомобиля  \n",
    "* <span style=\"color: crimson\">Kilometer</span> — пробег (км)  \n",
    "* <span style=\"color: crimson\">RegistrationMonth</span> — месяц регистрации автомобиля  \n",
    "* <span style=\"color: crimson\">FuelType</span> — тип топлива  \n",
    "* <span style=\"color: crimson\">Brand</span> — марка автомобиля  \n",
    "* <span style=\"color: crimson\">NotRepaired</span> — была машина в ремонте или нет  \n",
    "* <span style=\"color: crimson\">DateCreated</span> — дата создания анкеты  \n",
    "* <span style=\"color: crimson\">NumberOfPictures</span> — количество фотографий автомобиля  \n",
    "* <span style=\"color: crimson\">PostalCode</span> — почтовый индекс владельца анкеты (пользователя)  \n",
    "* <span style=\"color: crimson\">LastSeen</span> — дата последней активности пользователя\n",
    "\n",
    "<h4>Целевой признак:</h4>\n",
    "\n",
    "* <span style=\"color: crimson\">Price</span> — цена (евро)\n"
   ]
  },
  {
   "cell_type": "markdown",
   "metadata": {},
   "source": [
    "---"
   ]
  },
  {
   "cell_type": "markdown",
   "metadata": {},
   "source": [
    "## Импорт библиотек:"
   ]
  },
  {
   "cell_type": "code",
   "execution_count": 1,
   "metadata": {},
   "outputs": [
    {
     "name": "stdout",
     "output_type": "stream",
     "text": [
      "Defaulting to user installation because normal site-packages is not writeable\n",
      "Requirement already satisfied: lightgbm in /opt/conda/lib/python3.7/site-packages (2.3.1)\n",
      "Requirement already satisfied: scikit-learn in /opt/conda/lib/python3.7/site-packages (from lightgbm) (0.21.2)\n",
      "Requirement already satisfied: numpy in /opt/conda/lib/python3.7/site-packages (from lightgbm) (1.19.5)\n",
      "Requirement already satisfied: scipy in /opt/conda/lib/python3.7/site-packages (from lightgbm) (1.4.1)\n",
      "Requirement already satisfied: joblib>=0.11 in /opt/conda/lib/python3.7/site-packages (from scikit-learn->lightgbm) (1.0.1)\n",
      "Defaulting to user installation because normal site-packages is not writeable\n",
      "Requirement already satisfied: optuna in /home/jovyan/.local/lib/python3.7/site-packages (2.10.0)\n",
      "Requirement already satisfied: alembic in /opt/conda/lib/python3.7/site-packages (from optuna) (1.4.3)\n",
      "Requirement already satisfied: tqdm in /opt/conda/lib/python3.7/site-packages (from optuna) (4.51.0)\n",
      "Requirement already satisfied: PyYAML in /opt/conda/lib/python3.7/site-packages (from optuna) (5.4.1)\n",
      "Requirement already satisfied: scipy!=1.4.0 in /opt/conda/lib/python3.7/site-packages (from optuna) (1.4.1)\n",
      "Requirement already satisfied: cliff in /home/jovyan/.local/lib/python3.7/site-packages (from optuna) (3.10.0)\n",
      "Requirement already satisfied: numpy in /opt/conda/lib/python3.7/site-packages (from optuna) (1.19.5)\n",
      "Requirement already satisfied: packaging>=20.0 in /opt/conda/lib/python3.7/site-packages (from optuna) (20.4)\n",
      "Requirement already satisfied: sqlalchemy>=1.1.0 in /opt/conda/lib/python3.7/site-packages (from optuna) (1.3.11)\n",
      "Requirement already satisfied: colorlog in /home/jovyan/.local/lib/python3.7/site-packages (from optuna) (6.6.0)\n",
      "Requirement already satisfied: cmaes>=0.8.2 in /home/jovyan/.local/lib/python3.7/site-packages (from optuna) (0.8.2)\n",
      "Requirement already satisfied: python-editor>=0.3 in /opt/conda/lib/python3.7/site-packages (from alembic->optuna) (1.0.4)\n",
      "Requirement already satisfied: python-dateutil in /opt/conda/lib/python3.7/site-packages (from alembic->optuna) (2.8.1)\n",
      "Requirement already satisfied: Mako in /opt/conda/lib/python3.7/site-packages (from alembic->optuna) (1.1.3)\n",
      "Requirement already satisfied: pbr!=2.1.0,>=2.0.0 in /home/jovyan/.local/lib/python3.7/site-packages (from cliff->optuna) (5.8.0)\n",
      "Requirement already satisfied: cmd2>=1.0.0 in /home/jovyan/.local/lib/python3.7/site-packages (from cliff->optuna) (2.3.3)\n",
      "Requirement already satisfied: PrettyTable>=0.7.2 in /home/jovyan/.local/lib/python3.7/site-packages (from cliff->optuna) (3.0.0)\n",
      "Requirement already satisfied: pyparsing>=2.1.0 in /opt/conda/lib/python3.7/site-packages (from cliff->optuna) (2.4.7)\n",
      "Requirement already satisfied: stevedore>=2.0.1 in /home/jovyan/.local/lib/python3.7/site-packages (from cliff->optuna) (3.5.0)\n",
      "Requirement already satisfied: autopage>=0.4.0 in /home/jovyan/.local/lib/python3.7/site-packages (from cliff->optuna) (0.5.0)\n",
      "Requirement already satisfied: six in /opt/conda/lib/python3.7/site-packages (from packaging>=20.0->optuna) (1.15.0)\n",
      "Requirement already satisfied: MarkupSafe>=0.9.2 in /opt/conda/lib/python3.7/site-packages (from Mako->alembic->optuna) (2.0.1)\n",
      "Requirement already satisfied: pyperclip>=1.6 in /home/jovyan/.local/lib/python3.7/site-packages (from cmd2>=1.0.0->cliff->optuna) (1.8.2)\n",
      "Requirement already satisfied: attrs>=16.3.0 in /opt/conda/lib/python3.7/site-packages (from cmd2>=1.0.0->cliff->optuna) (19.1.0)\n",
      "Requirement already satisfied: wcwidth>=0.1.7 in /opt/conda/lib/python3.7/site-packages (from cmd2>=1.0.0->cliff->optuna) (0.2.5)\n",
      "Requirement already satisfied: typing-extensions; python_version < \"3.8\" in /home/jovyan/.local/lib/python3.7/site-packages (from cmd2>=1.0.0->cliff->optuna) (4.0.1)\n",
      "Requirement already satisfied: importlib-metadata>=1.6.0; python_version < \"3.8\" in /opt/conda/lib/python3.7/site-packages (from cmd2>=1.0.0->cliff->optuna) (2.0.0)\n",
      "Requirement already satisfied: zipp>=0.5 in /opt/conda/lib/python3.7/site-packages (from importlib-metadata>=1.6.0; python_version < \"3.8\"->cmd2>=1.0.0->cliff->optuna) (3.4.0)\n",
      "Defaulting to user installation because normal site-packages is not writeable\n",
      "Requirement already satisfied: sidetable in /home/jovyan/.local/lib/python3.7/site-packages (0.9.0)\n",
      "Requirement already satisfied: pandas>=1.0 in /home/jovyan/.local/lib/python3.7/site-packages (from sidetable) (1.3.5)\n",
      "Requirement already satisfied: python-dateutil>=2.7.3 in /opt/conda/lib/python3.7/site-packages (from pandas>=1.0->sidetable) (2.8.1)\n",
      "Requirement already satisfied: pytz>=2017.3 in /opt/conda/lib/python3.7/site-packages (from pandas>=1.0->sidetable) (2021.1)\n",
      "Requirement already satisfied: numpy>=1.17.3; platform_machine != \"aarch64\" and platform_machine != \"arm64\" and python_version < \"3.10\" in /opt/conda/lib/python3.7/site-packages (from pandas>=1.0->sidetable) (1.19.5)\n",
      "Requirement already satisfied: six>=1.5 in /opt/conda/lib/python3.7/site-packages (from python-dateutil>=2.7.3->pandas>=1.0->sidetable) (1.15.0)\n"
     ]
    }
   ],
   "source": [
    "!pip install lightgbm\n",
    "!pip install optuna\n",
    "!pip install sidetable"
   ]
  },
  {
   "cell_type": "code",
   "execution_count": 2,
   "metadata": {},
   "outputs": [],
   "source": [
    "import pandas as pd\n",
    "import sidetable as stb\n",
    "import optuna\n",
    "from lightgbm import LGBMRegressor\n",
    "from sklearn.model_selection import train_test_split\n",
    "from sklearn.linear_model import LinearRegression, Ridge, Lasso, ElasticNet\n",
    "from sklearn.metrics import mean_squared_error\n",
    "from sklearn.preprocessing import OrdinalEncoder, StandardScaler\n",
    "from sklearn.model_selection import KFold, cross_val_score\n",
    "from math import sqrt \n",
    "import pandas as pd\n",
    "pd.options.mode.chained_assignment = None"
   ]
  },
  {
   "cell_type": "code",
   "execution_count": 3,
   "metadata": {},
   "outputs": [],
   "source": [
    "def root_mean_squared_error(x,y):\n",
    "    return sqrt(mean_squared_error(x,y))"
   ]
  },
  {
   "cell_type": "markdown",
   "metadata": {},
   "source": [
    "## <span style=\"color: crimson\">Этап 1</span> Изучение данных"
   ]
  },
  {
   "cell_type": "markdown",
   "metadata": {},
   "source": [
    "<h3><span style=\"color: red\"><b>| </b></span> Чтение данных</h3>"
   ]
  },
  {
   "cell_type": "code",
   "execution_count": 4,
   "metadata": {},
   "outputs": [],
   "source": [
    "df = pd.read_csv('/datasets/autos.csv')"
   ]
  },
  {
   "cell_type": "markdown",
   "metadata": {},
   "source": [
    "---"
   ]
  },
  {
   "cell_type": "code",
   "execution_count": 5,
   "metadata": {},
   "outputs": [
    {
     "data": {
      "text/html": [
       "<div>\n",
       "<style scoped>\n",
       "    .dataframe tbody tr th:only-of-type {\n",
       "        vertical-align: middle;\n",
       "    }\n",
       "\n",
       "    .dataframe tbody tr th {\n",
       "        vertical-align: top;\n",
       "    }\n",
       "\n",
       "    .dataframe thead th {\n",
       "        text-align: right;\n",
       "    }\n",
       "</style>\n",
       "<table border=\"1\" class=\"dataframe\">\n",
       "  <thead>\n",
       "    <tr style=\"text-align: right;\">\n",
       "      <th></th>\n",
       "      <th>DateCrawled</th>\n",
       "      <th>Price</th>\n",
       "      <th>VehicleType</th>\n",
       "      <th>RegistrationYear</th>\n",
       "      <th>Gearbox</th>\n",
       "      <th>Power</th>\n",
       "      <th>Model</th>\n",
       "      <th>Kilometer</th>\n",
       "      <th>RegistrationMonth</th>\n",
       "      <th>FuelType</th>\n",
       "      <th>Brand</th>\n",
       "      <th>NotRepaired</th>\n",
       "      <th>DateCreated</th>\n",
       "      <th>NumberOfPictures</th>\n",
       "      <th>PostalCode</th>\n",
       "      <th>LastSeen</th>\n",
       "    </tr>\n",
       "  </thead>\n",
       "  <tbody>\n",
       "    <tr>\n",
       "      <th>0</th>\n",
       "      <td>2016-03-24 11:52:17</td>\n",
       "      <td>480</td>\n",
       "      <td>NaN</td>\n",
       "      <td>1993</td>\n",
       "      <td>manual</td>\n",
       "      <td>0</td>\n",
       "      <td>golf</td>\n",
       "      <td>150000</td>\n",
       "      <td>0</td>\n",
       "      <td>petrol</td>\n",
       "      <td>volkswagen</td>\n",
       "      <td>NaN</td>\n",
       "      <td>2016-03-24 00:00:00</td>\n",
       "      <td>0</td>\n",
       "      <td>70435</td>\n",
       "      <td>2016-04-07 03:16:57</td>\n",
       "    </tr>\n",
       "    <tr>\n",
       "      <th>1</th>\n",
       "      <td>2016-03-24 10:58:45</td>\n",
       "      <td>18300</td>\n",
       "      <td>coupe</td>\n",
       "      <td>2011</td>\n",
       "      <td>manual</td>\n",
       "      <td>190</td>\n",
       "      <td>NaN</td>\n",
       "      <td>125000</td>\n",
       "      <td>5</td>\n",
       "      <td>gasoline</td>\n",
       "      <td>audi</td>\n",
       "      <td>yes</td>\n",
       "      <td>2016-03-24 00:00:00</td>\n",
       "      <td>0</td>\n",
       "      <td>66954</td>\n",
       "      <td>2016-04-07 01:46:50</td>\n",
       "    </tr>\n",
       "    <tr>\n",
       "      <th>2</th>\n",
       "      <td>2016-03-14 12:52:21</td>\n",
       "      <td>9800</td>\n",
       "      <td>suv</td>\n",
       "      <td>2004</td>\n",
       "      <td>auto</td>\n",
       "      <td>163</td>\n",
       "      <td>grand</td>\n",
       "      <td>125000</td>\n",
       "      <td>8</td>\n",
       "      <td>gasoline</td>\n",
       "      <td>jeep</td>\n",
       "      <td>NaN</td>\n",
       "      <td>2016-03-14 00:00:00</td>\n",
       "      <td>0</td>\n",
       "      <td>90480</td>\n",
       "      <td>2016-04-05 12:47:46</td>\n",
       "    </tr>\n",
       "    <tr>\n",
       "      <th>3</th>\n",
       "      <td>2016-03-17 16:54:04</td>\n",
       "      <td>1500</td>\n",
       "      <td>small</td>\n",
       "      <td>2001</td>\n",
       "      <td>manual</td>\n",
       "      <td>75</td>\n",
       "      <td>golf</td>\n",
       "      <td>150000</td>\n",
       "      <td>6</td>\n",
       "      <td>petrol</td>\n",
       "      <td>volkswagen</td>\n",
       "      <td>no</td>\n",
       "      <td>2016-03-17 00:00:00</td>\n",
       "      <td>0</td>\n",
       "      <td>91074</td>\n",
       "      <td>2016-03-17 17:40:17</td>\n",
       "    </tr>\n",
       "    <tr>\n",
       "      <th>4</th>\n",
       "      <td>2016-03-31 17:25:20</td>\n",
       "      <td>3600</td>\n",
       "      <td>small</td>\n",
       "      <td>2008</td>\n",
       "      <td>manual</td>\n",
       "      <td>69</td>\n",
       "      <td>fabia</td>\n",
       "      <td>90000</td>\n",
       "      <td>7</td>\n",
       "      <td>gasoline</td>\n",
       "      <td>skoda</td>\n",
       "      <td>no</td>\n",
       "      <td>2016-03-31 00:00:00</td>\n",
       "      <td>0</td>\n",
       "      <td>60437</td>\n",
       "      <td>2016-04-06 10:17:21</td>\n",
       "    </tr>\n",
       "  </tbody>\n",
       "</table>\n",
       "</div>"
      ],
      "text/plain": [
       "           DateCrawled  Price VehicleType  RegistrationYear Gearbox  Power  \\\n",
       "0  2016-03-24 11:52:17    480         NaN              1993  manual      0   \n",
       "1  2016-03-24 10:58:45  18300       coupe              2011  manual    190   \n",
       "2  2016-03-14 12:52:21   9800         suv              2004    auto    163   \n",
       "3  2016-03-17 16:54:04   1500       small              2001  manual     75   \n",
       "4  2016-03-31 17:25:20   3600       small              2008  manual     69   \n",
       "\n",
       "   Model  Kilometer  RegistrationMonth  FuelType       Brand NotRepaired  \\\n",
       "0   golf     150000                  0    petrol  volkswagen         NaN   \n",
       "1    NaN     125000                  5  gasoline        audi         yes   \n",
       "2  grand     125000                  8  gasoline        jeep         NaN   \n",
       "3   golf     150000                  6    petrol  volkswagen          no   \n",
       "4  fabia      90000                  7  gasoline       skoda          no   \n",
       "\n",
       "           DateCreated  NumberOfPictures  PostalCode             LastSeen  \n",
       "0  2016-03-24 00:00:00                 0       70435  2016-04-07 03:16:57  \n",
       "1  2016-03-24 00:00:00                 0       66954  2016-04-07 01:46:50  \n",
       "2  2016-03-14 00:00:00                 0       90480  2016-04-05 12:47:46  \n",
       "3  2016-03-17 00:00:00                 0       91074  2016-03-17 17:40:17  \n",
       "4  2016-03-31 00:00:00                 0       60437  2016-04-06 10:17:21  "
      ]
     },
     "execution_count": 5,
     "metadata": {},
     "output_type": "execute_result"
    }
   ],
   "source": [
    "df.head(5)"
   ]
  },
  {
   "cell_type": "markdown",
   "metadata": {},
   "source": [
    "Кол-во фото везде равно 0, проверим."
   ]
  },
  {
   "cell_type": "code",
   "execution_count": 6,
   "metadata": {},
   "outputs": [
    {
     "data": {
      "text/plain": [
       "0"
      ]
     },
     "execution_count": 6,
     "metadata": {},
     "output_type": "execute_result"
    }
   ],
   "source": [
    "df[df['NumberOfPictures']>0].shape[0]"
   ]
  },
  {
   "cell_type": "markdown",
   "metadata": {},
   "source": [
    "---"
   ]
  },
  {
   "cell_type": "code",
   "execution_count": 7,
   "metadata": {
    "scrolled": false
   },
   "outputs": [
    {
     "name": "stdout",
     "output_type": "stream",
     "text": [
      "<class 'pandas.core.frame.DataFrame'>\n",
      "RangeIndex: 354369 entries, 0 to 354368\n",
      "Data columns (total 16 columns):\n",
      " #   Column             Non-Null Count   Dtype \n",
      "---  ------             --------------   ----- \n",
      " 0   DateCrawled        354369 non-null  object\n",
      " 1   Price              354369 non-null  int64 \n",
      " 2   VehicleType        316879 non-null  object\n",
      " 3   RegistrationYear   354369 non-null  int64 \n",
      " 4   Gearbox            334536 non-null  object\n",
      " 5   Power              354369 non-null  int64 \n",
      " 6   Model              334664 non-null  object\n",
      " 7   Kilometer          354369 non-null  int64 \n",
      " 8   RegistrationMonth  354369 non-null  int64 \n",
      " 9   FuelType           321474 non-null  object\n",
      " 10  Brand              354369 non-null  object\n",
      " 11  NotRepaired        283215 non-null  object\n",
      " 12  DateCreated        354369 non-null  object\n",
      " 13  NumberOfPictures   354369 non-null  int64 \n",
      " 14  PostalCode         354369 non-null  int64 \n",
      " 15  LastSeen           354369 non-null  object\n",
      "dtypes: int64(7), object(9)\n",
      "memory usage: 43.3+ MB\n"
     ]
    }
   ],
   "source": [
    "df.info()"
   ]
  },
  {
   "cell_type": "markdown",
   "metadata": {},
   "source": [
    "----"
   ]
  },
  {
   "cell_type": "code",
   "execution_count": 8,
   "metadata": {},
   "outputs": [
    {
     "data": {
      "text/html": [
       "<style type=\"text/css\">\n",
       "#T_1c520_row0_col0, #T_1c520_row0_col2 {\n",
       "  background-color: #b40426;\n",
       "  color: #f1f1f1;\n",
       "}\n",
       "#T_1c520_row0_col1, #T_1c520_row1_col1, #T_1c520_row2_col1, #T_1c520_row3_col0, #T_1c520_row3_col1, #T_1c520_row3_col2, #T_1c520_row4_col0, #T_1c520_row4_col1, #T_1c520_row4_col2 {\n",
       "  background-color: #3b4cc0;\n",
       "  color: #f1f1f1;\n",
       "}\n",
       "#T_1c520_row1_col0, #T_1c520_row1_col2 {\n",
       "  background-color: #aec9fc;\n",
       "  color: #000000;\n",
       "}\n",
       "#T_1c520_row2_col0, #T_1c520_row2_col2 {\n",
       "  background-color: #8fb1fe;\n",
       "  color: #000000;\n",
       "}\n",
       "</style>\n",
       "<table id=\"T_1c520_\">\n",
       "  <thead>\n",
       "    <tr>\n",
       "      <th class=\"blank level0\" >&nbsp;</th>\n",
       "      <th class=\"col_heading level0 col0\" >missing</th>\n",
       "      <th class=\"col_heading level0 col1\" >total</th>\n",
       "      <th class=\"col_heading level0 col2\" >percent</th>\n",
       "    </tr>\n",
       "  </thead>\n",
       "  <tbody>\n",
       "    <tr>\n",
       "      <th id=\"T_1c520_level0_row0\" class=\"row_heading level0 row0\" >NotRepaired</th>\n",
       "      <td id=\"T_1c520_row0_col0\" class=\"data row0 col0\" >71154</td>\n",
       "      <td id=\"T_1c520_row0_col1\" class=\"data row0 col1\" >354369</td>\n",
       "      <td id=\"T_1c520_row0_col2\" class=\"data row0 col2\" >20.079070</td>\n",
       "    </tr>\n",
       "    <tr>\n",
       "      <th id=\"T_1c520_level0_row1\" class=\"row_heading level0 row1\" >VehicleType</th>\n",
       "      <td id=\"T_1c520_row1_col0\" class=\"data row1 col0\" >37490</td>\n",
       "      <td id=\"T_1c520_row1_col1\" class=\"data row1 col1\" >354369</td>\n",
       "      <td id=\"T_1c520_row1_col2\" class=\"data row1 col2\" >10.579368</td>\n",
       "    </tr>\n",
       "    <tr>\n",
       "      <th id=\"T_1c520_level0_row2\" class=\"row_heading level0 row2\" >FuelType</th>\n",
       "      <td id=\"T_1c520_row2_col0\" class=\"data row2 col0\" >32895</td>\n",
       "      <td id=\"T_1c520_row2_col1\" class=\"data row2 col1\" >354369</td>\n",
       "      <td id=\"T_1c520_row2_col2\" class=\"data row2 col2\" >9.282697</td>\n",
       "    </tr>\n",
       "    <tr>\n",
       "      <th id=\"T_1c520_level0_row3\" class=\"row_heading level0 row3\" >Gearbox</th>\n",
       "      <td id=\"T_1c520_row3_col0\" class=\"data row3 col0\" >19833</td>\n",
       "      <td id=\"T_1c520_row3_col1\" class=\"data row3 col1\" >354369</td>\n",
       "      <td id=\"T_1c520_row3_col2\" class=\"data row3 col2\" >5.596709</td>\n",
       "    </tr>\n",
       "    <tr>\n",
       "      <th id=\"T_1c520_level0_row4\" class=\"row_heading level0 row4\" >Model</th>\n",
       "      <td id=\"T_1c520_row4_col0\" class=\"data row4 col0\" >19705</td>\n",
       "      <td id=\"T_1c520_row4_col1\" class=\"data row4 col1\" >354369</td>\n",
       "      <td id=\"T_1c520_row4_col2\" class=\"data row4 col2\" >5.560588</td>\n",
       "    </tr>\n",
       "  </tbody>\n",
       "</table>\n"
      ],
      "text/plain": [
       "<pandas.io.formats.style.Styler at 0x7fd551fed5d0>"
      ]
     },
     "execution_count": 8,
     "metadata": {},
     "output_type": "execute_result"
    }
   ],
   "source": [
    "df.stb.missing(clip_0=True)\\\n",
    "      .style.background_gradient('coolwarm')"
   ]
  },
  {
   "cell_type": "markdown",
   "metadata": {},
   "source": [
    "**Пропуски:**  \n",
    "Все пропуски удаляем. Несмотря на колоссальную потерю данных, во первых у нас останется около 200 тыс. объектов, а во вторых не по одну параметру мы не можем дать 100% зависимость для заполнения основываясь на иных параметрах."
   ]
  },
  {
   "cell_type": "markdown",
   "metadata": {},
   "source": [
    "---"
   ]
  },
  {
   "cell_type": "code",
   "execution_count": 9,
   "metadata": {},
   "outputs": [
    {
     "data": {
      "text/plain": [
       "4"
      ]
     },
     "execution_count": 9,
     "metadata": {},
     "output_type": "execute_result"
    }
   ],
   "source": [
    "df.duplicated().sum()"
   ]
  },
  {
   "cell_type": "markdown",
   "metadata": {},
   "source": [
    "**Дубликаты:**\n",
    "\n",
    "Кол-во дубликатов всего **4** просто удалить (хотя стоит предупредить компанию, а то  дубликаты штука подозрительная)."
   ]
  },
  {
   "cell_type": "markdown",
   "metadata": {},
   "source": [
    "---"
   ]
  },
  {
   "cell_type": "code",
   "execution_count": 10,
   "metadata": {
    "scrolled": true
   },
   "outputs": [
    {
     "data": {
      "text/html": [
       "<div>\n",
       "<style scoped>\n",
       "    .dataframe tbody tr th:only-of-type {\n",
       "        vertical-align: middle;\n",
       "    }\n",
       "\n",
       "    .dataframe tbody tr th {\n",
       "        vertical-align: top;\n",
       "    }\n",
       "\n",
       "    .dataframe thead th {\n",
       "        text-align: right;\n",
       "    }\n",
       "</style>\n",
       "<table border=\"1\" class=\"dataframe\">\n",
       "  <thead>\n",
       "    <tr style=\"text-align: right;\">\n",
       "      <th></th>\n",
       "      <th>Price</th>\n",
       "      <th>RegistrationYear</th>\n",
       "      <th>Power</th>\n",
       "      <th>Kilometer</th>\n",
       "      <th>RegistrationMonth</th>\n",
       "      <th>NumberOfPictures</th>\n",
       "      <th>PostalCode</th>\n",
       "    </tr>\n",
       "  </thead>\n",
       "  <tbody>\n",
       "    <tr>\n",
       "      <th>count</th>\n",
       "      <td>354369.000000</td>\n",
       "      <td>354369.000000</td>\n",
       "      <td>354369.000000</td>\n",
       "      <td>354369.000000</td>\n",
       "      <td>354369.000000</td>\n",
       "      <td>354369.0</td>\n",
       "      <td>354369.000000</td>\n",
       "    </tr>\n",
       "    <tr>\n",
       "      <th>mean</th>\n",
       "      <td>4416.656776</td>\n",
       "      <td>2004.234448</td>\n",
       "      <td>110.094337</td>\n",
       "      <td>128211.172535</td>\n",
       "      <td>5.714645</td>\n",
       "      <td>0.0</td>\n",
       "      <td>50508.689087</td>\n",
       "    </tr>\n",
       "    <tr>\n",
       "      <th>std</th>\n",
       "      <td>4514.158514</td>\n",
       "      <td>90.227958</td>\n",
       "      <td>189.850405</td>\n",
       "      <td>37905.341530</td>\n",
       "      <td>3.726421</td>\n",
       "      <td>0.0</td>\n",
       "      <td>25783.096248</td>\n",
       "    </tr>\n",
       "    <tr>\n",
       "      <th>min</th>\n",
       "      <td>0.000000</td>\n",
       "      <td>1000.000000</td>\n",
       "      <td>0.000000</td>\n",
       "      <td>5000.000000</td>\n",
       "      <td>0.000000</td>\n",
       "      <td>0.0</td>\n",
       "      <td>1067.000000</td>\n",
       "    </tr>\n",
       "    <tr>\n",
       "      <th>25%</th>\n",
       "      <td>1050.000000</td>\n",
       "      <td>1999.000000</td>\n",
       "      <td>69.000000</td>\n",
       "      <td>125000.000000</td>\n",
       "      <td>3.000000</td>\n",
       "      <td>0.0</td>\n",
       "      <td>30165.000000</td>\n",
       "    </tr>\n",
       "    <tr>\n",
       "      <th>50%</th>\n",
       "      <td>2700.000000</td>\n",
       "      <td>2003.000000</td>\n",
       "      <td>105.000000</td>\n",
       "      <td>150000.000000</td>\n",
       "      <td>6.000000</td>\n",
       "      <td>0.0</td>\n",
       "      <td>49413.000000</td>\n",
       "    </tr>\n",
       "    <tr>\n",
       "      <th>75%</th>\n",
       "      <td>6400.000000</td>\n",
       "      <td>2008.000000</td>\n",
       "      <td>143.000000</td>\n",
       "      <td>150000.000000</td>\n",
       "      <td>9.000000</td>\n",
       "      <td>0.0</td>\n",
       "      <td>71083.000000</td>\n",
       "    </tr>\n",
       "    <tr>\n",
       "      <th>max</th>\n",
       "      <td>20000.000000</td>\n",
       "      <td>9999.000000</td>\n",
       "      <td>20000.000000</td>\n",
       "      <td>150000.000000</td>\n",
       "      <td>12.000000</td>\n",
       "      <td>0.0</td>\n",
       "      <td>99998.000000</td>\n",
       "    </tr>\n",
       "  </tbody>\n",
       "</table>\n",
       "</div>"
      ],
      "text/plain": [
       "               Price  RegistrationYear          Power      Kilometer  \\\n",
       "count  354369.000000     354369.000000  354369.000000  354369.000000   \n",
       "mean     4416.656776       2004.234448     110.094337  128211.172535   \n",
       "std      4514.158514         90.227958     189.850405   37905.341530   \n",
       "min         0.000000       1000.000000       0.000000    5000.000000   \n",
       "25%      1050.000000       1999.000000      69.000000  125000.000000   \n",
       "50%      2700.000000       2003.000000     105.000000  150000.000000   \n",
       "75%      6400.000000       2008.000000     143.000000  150000.000000   \n",
       "max     20000.000000       9999.000000   20000.000000  150000.000000   \n",
       "\n",
       "       RegistrationMonth  NumberOfPictures     PostalCode  \n",
       "count      354369.000000          354369.0  354369.000000  \n",
       "mean            5.714645               0.0   50508.689087  \n",
       "std             3.726421               0.0   25783.096248  \n",
       "min             0.000000               0.0    1067.000000  \n",
       "25%             3.000000               0.0   30165.000000  \n",
       "50%             6.000000               0.0   49413.000000  \n",
       "75%             9.000000               0.0   71083.000000  \n",
       "max            12.000000               0.0   99998.000000  "
      ]
     },
     "execution_count": 10,
     "metadata": {},
     "output_type": "execute_result"
    }
   ],
   "source": [
    "df.describe()"
   ]
  },
  {
   "cell_type": "code",
   "execution_count": 11,
   "metadata": {},
   "outputs": [
    {
     "name": "stdout",
     "output_type": "stream",
     "text": [
      "Машин со стоимостью менее 5 евро 3.4%:\n"
     ]
    }
   ],
   "source": [
    "price_frames = df[(df[\"Price\"] < 5)].shape[0] / df.shape[0]\n",
    "\n",
    "print('Машин со стоимостью менее 5 евро {:.1%}:'.format(price_frames))"
   ]
  },
  {
   "cell_type": "code",
   "execution_count": 12,
   "metadata": {},
   "outputs": [
    {
     "name": "stdout",
     "output_type": "stream",
     "text": [
      "Машин выставленных с 1970 по 2020 0.4%:\n"
     ]
    }
   ],
   "source": [
    "year_frames = (\n",
    "    df[(df[\"RegistrationYear\"] < 1970) | (df[\"RegistrationYear\"] > 2020)].shape[0]\n",
    "    / df.shape[0]\n",
    ")\n",
    "\n",
    "print(\"Машин выставленных с 1970 по 2020 {:.1%}:\".format(year_frames))"
   ]
  },
  {
   "cell_type": "code",
   "execution_count": 13,
   "metadata": {},
   "outputs": [
    {
     "name": "stdout",
     "output_type": "stream",
     "text": [
      "Машин с кол-вом лошадиных сил более чем в болиде за 3 млн. евро 11.40%:\n"
     ]
    }
   ],
   "source": [
    "power_frames = df[(df[\"Power\"] < 1) | (df[\"Power\"] > 1650)].shape[0] / df.shape[0]\n",
    "\n",
    "print('Машин с кол-вом лошадиных сил более чем в болиде за 3 млн. евро {:.2%}:'.format(power_frames))"
   ]
  },
  {
   "cell_type": "markdown",
   "metadata": {},
   "source": [
    "**Колонки:**\n",
    "1. **<span style=\"color: crimson\">Price:</span>** минимум равен 0 (скорее всего машины бесплатно не раздают), стоит взять хотя бы от 5 евро - 4%.\n",
    "2. **<span style=\"color: crimson\">RegistrationYear:</span>** максимальный год регистрации равен 9999, а минимальный 1000, стоит поставить ограничения от 1970 до 2020. - менее 1%\n",
    "3. **<span style=\"color: crimson\">Power:</span>** мощность машины ровна 0 л.с может быть это металлолом, который как раз и отдают бесплатно, но для модели он не подходт, а максимальная немного (в 3 раза) не дотягивает до скорости ракеты. - 11%\n",
    "4. **<span style=\"color: crimson\">NumberOfPictures:</span>** кол-во фото везде равно 0"
   ]
  },
  {
   "cell_type": "markdown",
   "metadata": {},
   "source": [
    "----"
   ]
  },
  {
   "cell_type": "markdown",
   "metadata": {},
   "source": [
    "**Выводы:**\n",
    "1. К колонок \"DateCrawled\", \"DateCreated\", \"LastSeen\" неверный тип данных.\n",
    "2. В данных множество пропусков.\n",
    "3. В данных несколько дубликатов.\n",
    "4. Имеются аномалии в несколько колонках."
   ]
  },
  {
   "cell_type": "markdown",
   "metadata": {},
   "source": [
    "---"
   ]
  },
  {
   "cell_type": "markdown",
   "metadata": {},
   "source": [
    "## <span style=\"color: crimson\">Этап 2</span> Предобработка данных"
   ]
  },
  {
   "cell_type": "markdown",
   "metadata": {},
   "source": [
    "#### <span style=\"color: crimson\"> Изменение типа данных:"
   ]
  },
  {
   "cell_type": "code",
   "execution_count": 14,
   "metadata": {},
   "outputs": [],
   "source": [
    "categor_columns = ['VehicleType','Gearbox','Model','FuelType','Brand','NotRepaired']\n",
    "df[categor_columns] = df[categor_columns].astype('category')"
   ]
  },
  {
   "cell_type": "markdown",
   "metadata": {},
   "source": [
    "#### <span style=\"color: crimson\"> Удалим лишние колонки:"
   ]
  },
  {
   "cell_type": "markdown",
   "metadata": {},
   "source": [
    "Для модели в них не будит ни какого толка."
   ]
  },
  {
   "cell_type": "code",
   "execution_count": 15,
   "metadata": {},
   "outputs": [],
   "source": [
    "del_columns = [\n",
    "    \"DateCrawled\",\n",
    "    \"DateCreated\",\n",
    "    \"LastSeen\",\n",
    "    \"NumberOfPictures\",\n",
    "    \"PostalCode\",\n",
    "]\n",
    "\n",
    "df = df.drop(del_columns, axis=1)"
   ]
  },
  {
   "cell_type": "markdown",
   "metadata": {},
   "source": [
    "#### <span style=\"color: crimson\"> Удалим дубликаты:"
   ]
  },
  {
   "cell_type": "code",
   "execution_count": 16,
   "metadata": {},
   "outputs": [],
   "source": [
    "df = df.drop_duplicates()"
   ]
  },
  {
   "cell_type": "markdown",
   "metadata": {},
   "source": [
    "#### <span style=\"color: crimson\"> Исправим аномалии:"
   ]
  },
  {
   "cell_type": "code",
   "execution_count": 17,
   "metadata": {},
   "outputs": [],
   "source": [
    "df = df[\n",
    "    (df[\"Price\"] > 200)\n",
    "    & (df[\"RegistrationYear\"] > 1970)\n",
    "    & (df[\"RegistrationYear\"] < 2020)\n",
    "    & (df[\"Power\"] < 1650)\n",
    "    & (df[\"Power\"] > 1)\n",
    "]"
   ]
  },
  {
   "cell_type": "markdown",
   "metadata": {},
   "source": [
    "#### <span style=\"color: crimson\"> Удалим пропуски:"
   ]
  },
  {
   "cell_type": "code",
   "execution_count": 18,
   "metadata": {},
   "outputs": [
    {
     "name": "stdout",
     "output_type": "stream",
     "text": [
      "Удалено объектов:  67121\n"
     ]
    }
   ],
   "source": [
    "num_obj = df.shape[0]\n",
    "df = df.dropna()\n",
    "print('Удалено объектов: ',num_obj-df.shape[0])"
   ]
  },
  {
   "cell_type": "markdown",
   "metadata": {},
   "source": [
    "---"
   ]
  },
  {
   "cell_type": "markdown",
   "metadata": {},
   "source": [
    "## <span style=\"color: crimson\">Этап 3</span> Обучение моделей"
   ]
  },
  {
   "cell_type": "markdown",
   "metadata": {},
   "source": [
    "#### <span style=\"color: crimson\"> Разделение выборки:"
   ]
  },
  {
   "cell_type": "code",
   "execution_count": 19,
   "metadata": {},
   "outputs": [],
   "source": [
    "features = df.drop([\"Price\"], axis=1)\n",
    "target = df[\"Price\"]\n",
    "\n",
    "features_train, features_test, target_train, target_test = train_test_split(\n",
    "    features, target, test_size=0.40, random_state=0\n",
    ")"
   ]
  },
  {
   "cell_type": "markdown",
   "metadata": {},
   "source": [
    "##### Какие модели проверим? :\n",
    "1. Линейная регрессия\n",
    "2. Градиентный бустинг (LGBMRegressor)\n",
    "3. Гребневая (ридж) регрессия\n",
    "4. Регрессия по методу «лассо»\n",
    "5. Регрессия «эластичная сеть»"
   ]
  },
  {
   "cell_type": "markdown",
   "metadata": {},
   "source": [
    "**Настраиваем библиотеку optuna для поиска гиперпараметров**"
   ]
  },
  {
   "cell_type": "code",
   "execution_count": 20,
   "metadata": {},
   "outputs": [],
   "source": [
    "RANDOM_SEED = 666\n",
    "\n",
    "kfolds = KFold(n_splits=10, shuffle=True, random_state=RANDOM_SEED)\n",
    "\n",
    "def tune(objective):\n",
    "    study = optuna.create_study(direction=\"maximize\")\n",
    "    study.optimize(objective, n_trials=100)\n",
    "\n",
    "    params = study.best_params\n",
    "    best_score = study.best_value\n",
    "    print(f\"Best score: {best_score}\\n\")\n",
    "    print(f\"Optimized parameters: {params}\\n\")\n",
    "    return params"
   ]
  },
  {
   "cell_type": "markdown",
   "metadata": {},
   "source": [
    "**<span style=\"color: crimson\">|</span> Градиентный бустинг**"
   ]
  },
  {
   "cell_type": "code",
   "execution_count": 21,
   "metadata": {
    "scrolled": true
   },
   "outputs": [],
   "source": [
    "# %%time\n",
    "\n",
    "# def LGBM_objective(trial):\n",
    "#     param_grid = {\n",
    "#         \"num_leaves\": trial.suggest_int(\"num_leaves\", 1, 100),\n",
    "#         \"learning_rate\": trial.suggest_float(\"learning_rate\", 0.01, 1, step=0.01),\n",
    "#         \"max_depth\": trial.suggest_int(\"max_depth\", 1, 10),\n",
    "#         \"n_estimators\": trial.suggest_int(\"n_estimators\", 10, 500),\n",
    "#     }\n",
    "\n",
    "#     LGBM = LGBMRegressor(**param_grid, random_state=RANDOM_SEED)\n",
    "#     scores = cross_val_score(\n",
    "#         LGBM, features_train, target_train, cv=kfolds, scoring=\"neg_root_mean_squared_error\"\n",
    "#     )\n",
    "#     return scores.mean()\n",
    "\n",
    "\n",
    "# LGBM_params = tune(LGBM_objective)\n",
    "# LGBM = LGBMRegressor(**LGBM_params, random_state=RANDOM_SEED)"
   ]
  },
  {
   "cell_type": "markdown",
   "metadata": {},
   "source": [
    "Wall time: 38min 9s"
   ]
  },
  {
   "cell_type": "code",
   "execution_count": 32,
   "metadata": {},
   "outputs": [
    {
     "name": "stdout",
     "output_type": "stream",
     "text": [
      "CPU times: user 12.4 s, sys: 109 ms, total: 12.5 s\n",
      "Wall time: 12.6 s\n"
     ]
    },
    {
     "data": {
      "text/plain": [
       "1851.6991336282017"
      ]
     },
     "execution_count": 32,
     "metadata": {},
     "output_type": "execute_result"
    }
   ],
   "source": [
    "%%time\n",
    "\n",
    "LGBMR_model = LGBMRegressor(\n",
    "    num_leaves=99, learning_rate=0.9400000000000001, max_depth=10, n_estimators=134\n",
    ").fit(features_train, target_train)\n",
    "LGBMR_RMSE = root_mean_squared_error(target_test, LGBMR_model.predict(features_test))\n",
    "LGBMR_RMSE"
   ]
  },
  {
   "cell_type": "markdown",
   "metadata": {},
   "source": [
    "#### <span style=\"color: crimson\"> Кодирование:"
   ]
  },
  {
   "cell_type": "code",
   "execution_count": 23,
   "metadata": {},
   "outputs": [],
   "source": [
    "encoder = OrdinalEncoder()\n",
    "features_train[categor_columns] = encoder.fit_transform(features_train[categor_columns])\n",
    "features_test[categor_columns] = encoder.fit_transform(features_test[categor_columns])"
   ]
  },
  {
   "cell_type": "markdown",
   "metadata": {},
   "source": [
    "**<span style=\"color: crimson\">|</span> Линейная регрессия**"
   ]
  },
  {
   "cell_type": "code",
   "execution_count": 24,
   "metadata": {},
   "outputs": [
    {
     "name": "stdout",
     "output_type": "stream",
     "text": [
      "CPU times: user 67.7 ms, sys: 16.8 ms, total: 84.4 ms\n",
      "Wall time: 52.5 ms\n"
     ]
    },
    {
     "data": {
      "text/plain": [
       "2897.100166704473"
      ]
     },
     "execution_count": 24,
     "metadata": {},
     "output_type": "execute_result"
    }
   ],
   "source": [
    "%%time\n",
    "Linear_model = LinearRegression().fit(features_train, target_train)\n",
    "Linear_RMSE = root_mean_squared_error(target_test, Linear_model.predict(features_test))\n",
    "Linear_RMSE"
   ]
  },
  {
   "cell_type": "markdown",
   "metadata": {},
   "source": [
    "**<span style=\"color: crimson\">|</span> Гребневая (ридж) регрессия**"
   ]
  },
  {
   "cell_type": "code",
   "execution_count": 25,
   "metadata": {
    "scrolled": true
   },
   "outputs": [],
   "source": [
    "# %%time\n",
    "\n",
    "# def ridge_objective(trial):\n",
    "#     _alpha = trial.suggest_float(\"alpha\", 0.00000001, 1)\n",
    "#     ridge = Ridge(alpha=_alpha, random_state=RANDOM_SEED)\n",
    "#     scores = cross_val_score(\n",
    "#         ridge, features_train, target_train, cv=kfolds,\n",
    "#         scoring=\"neg_root_mean_squared_error\"\n",
    "#     )\n",
    "#     return scores.mean()\n",
    "\n",
    "# ridge_params = tune(ridge_objective)\n",
    "# ridge = Ridge(**ridge_params, random_state=RANDOM_SEED)"
   ]
  },
  {
   "cell_type": "markdown",
   "metadata": {},
   "source": [
    "Wall time: 24.4 s"
   ]
  },
  {
   "cell_type": "code",
   "execution_count": 26,
   "metadata": {},
   "outputs": [
    {
     "name": "stdout",
     "output_type": "stream",
     "text": [
      "CPU times: user 6.95 ms, sys: 32.2 ms, total: 39.2 ms\n",
      "Wall time: 18.4 ms\n"
     ]
    },
    {
     "data": {
      "text/plain": [
       "2897.0996061010947"
      ]
     },
     "execution_count": 26,
     "metadata": {},
     "output_type": "execute_result"
    }
   ],
   "source": [
    "%%time\n",
    "\n",
    "Ridge_model = Ridge(alpha=0.9998822938507691).fit(features_train, target_train)\n",
    "Ridge_RMSE = root_mean_squared_error(target_test, Ridge_model.predict(features_test))\n",
    "Ridge_RMSE"
   ]
  },
  {
   "cell_type": "markdown",
   "metadata": {},
   "source": [
    "**<span style=\"color: crimson\">|</span> Регрессия по методу «лассо»**"
   ]
  },
  {
   "cell_type": "code",
   "execution_count": 27,
   "metadata": {
    "scrolled": true
   },
   "outputs": [],
   "source": [
    "# %%time\n",
    "\n",
    "# def lasso_objective(trial):\n",
    "#     _alpha = trial.suggest_float(\"alpha\", 0.0000001, 1)\n",
    "#     lasso = Lasso(alpha=_alpha, random_state=RANDOM_SEED)\n",
    "#     scores = cross_val_score(\n",
    "#         lasso, features_train, target_train, cv=kfolds,\n",
    "#         scoring=\"neg_root_mean_squared_error\"\n",
    "#     )\n",
    "#     return scores.mean()\n",
    "\n",
    "# lasso_params = tune(lasso_objective)\n",
    "# lasso = Lasso(**lasso_params, random_state=RANDOM_SEED)"
   ]
  },
  {
   "cell_type": "markdown",
   "metadata": {},
   "source": [
    "Wall time: 48.1 s"
   ]
  },
  {
   "cell_type": "code",
   "execution_count": 28,
   "metadata": {},
   "outputs": [
    {
     "name": "stdout",
     "output_type": "stream",
     "text": [
      "CPU times: user 247 ms, sys: 120 ms, total: 368 ms\n",
      "Wall time: 394 ms\n"
     ]
    },
    {
     "data": {
      "text/plain": [
       "2897.0879762726413"
      ]
     },
     "execution_count": 28,
     "metadata": {},
     "output_type": "execute_result"
    }
   ],
   "source": [
    "%%time\n",
    "\n",
    "lasso_model = Lasso(random_state=0, alpha=0.15631666743004888).fit(features_train, target_train)\n",
    "lasso_RMSE = root_mean_squared_error(target_test, lasso_model.predict(features_test))\n",
    "lasso_RMSE"
   ]
  },
  {
   "cell_type": "markdown",
   "metadata": {},
   "source": [
    "**<span style=\"color: crimson\">|</span> Регрессия «эластичная сеть»** "
   ]
  },
  {
   "cell_type": "code",
   "execution_count": 29,
   "metadata": {
    "scrolled": true
   },
   "outputs": [],
   "source": [
    "# %%time\n",
    "\n",
    "# def ElasticNet_objective(trial):\n",
    "#     _alpha = trial.suggest_float(\"alpha\", 0.00000001, 1)\n",
    "#     ElNet = ElasticNet(alpha=_alpha, random_state=RANDOM_SEED)\n",
    "#     scores = cross_val_score(\n",
    "#         ElNet,\n",
    "#         features_train,\n",
    "#         target_train,\n",
    "#         cv=kfolds,\n",
    "#         scoring=\"neg_root_mean_squared_error\",\n",
    "#     )\n",
    "#     return scores.mean()\n",
    "\n",
    "\n",
    "# ElasticNet_params = tune(ElasticNet_objective)\n",
    "# ElNET = ElasticNet(**ElasticNet_params, random_state=RANDOM_SEED)"
   ]
  },
  {
   "cell_type": "markdown",
   "metadata": {},
   "source": [
    "Wall time: 42.7 s"
   ]
  },
  {
   "cell_type": "code",
   "execution_count": 30,
   "metadata": {},
   "outputs": [
    {
     "name": "stdout",
     "output_type": "stream",
     "text": [
      "CPU times: user 258 ms, sys: 129 ms, total: 387 ms\n",
      "Wall time: 385 ms\n"
     ]
    },
    {
     "data": {
      "text/plain": [
       "2897.095161039118"
      ]
     },
     "execution_count": 30,
     "metadata": {},
     "output_type": "execute_result"
    }
   ],
   "source": [
    "%%time\n",
    "\n",
    "ElNet_model = ElasticNet(random_state=0, alpha=0.00014232563970705304).fit(features_train, target_train)\n",
    "ElNet_RMSE = root_mean_squared_error(target_test, ElNet_model.predict(features_test))\n",
    "ElNet_RMSE"
   ]
  },
  {
   "cell_type": "markdown",
   "metadata": {},
   "source": [
    "## <span style=\"color: crimson\">Этап 4</span>  Общий вывод"
   ]
  },
  {
   "cell_type": "markdown",
   "metadata": {},
   "source": [
    "### Анализ моделей:"
   ]
  },
  {
   "cell_type": "code",
   "execution_count": 31,
   "metadata": {},
   "outputs": [
    {
     "data": {
      "text/html": [
       "<div>\n",
       "<style scoped>\n",
       "    .dataframe tbody tr th:only-of-type {\n",
       "        vertical-align: middle;\n",
       "    }\n",
       "\n",
       "    .dataframe tbody tr th {\n",
       "        vertical-align: top;\n",
       "    }\n",
       "\n",
       "    .dataframe thead th {\n",
       "        text-align: right;\n",
       "    }\n",
       "</style>\n",
       "<table border=\"1\" class=\"dataframe\">\n",
       "  <thead>\n",
       "    <tr style=\"text-align: right;\">\n",
       "      <th></th>\n",
       "      <th>Модель</th>\n",
       "      <th>RMSE</th>\n",
       "      <th>Время предсказание</th>\n",
       "      <th>Время поиска гиперпараметров</th>\n",
       "    </tr>\n",
       "  </thead>\n",
       "  <tbody>\n",
       "    <tr>\n",
       "      <th>0</th>\n",
       "      <td>Линейная регрессия</td>\n",
       "      <td>2897.100167</td>\n",
       "      <td>Wall time: 36.8 ms</td>\n",
       "      <td>0</td>\n",
       "    </tr>\n",
       "    <tr>\n",
       "      <th>1</th>\n",
       "      <td>Градиентный бустинг</td>\n",
       "      <td>1118.660337</td>\n",
       "      <td>Wall time: 38min 9s</td>\n",
       "      <td>Wall time: 3.17 s</td>\n",
       "    </tr>\n",
       "    <tr>\n",
       "      <th>2</th>\n",
       "      <td>Гребневая (ридж) регрессия</td>\n",
       "      <td>2897.099606</td>\n",
       "      <td>Wall time: 24.4 s</td>\n",
       "      <td>Wall time: 23.9 ms</td>\n",
       "    </tr>\n",
       "    <tr>\n",
       "      <th>3</th>\n",
       "      <td>Регрессия по методу «лассо»</td>\n",
       "      <td>2897.087976</td>\n",
       "      <td>Wall time: 48.1 s</td>\n",
       "      <td>Wall time: 45.9 ms</td>\n",
       "    </tr>\n",
       "    <tr>\n",
       "      <th>4</th>\n",
       "      <td>Регрессия «эластичная сеть»</td>\n",
       "      <td>2897.095161</td>\n",
       "      <td>Wall time: 42.7 s</td>\n",
       "      <td>Wall time: 54.9 ms</td>\n",
       "    </tr>\n",
       "  </tbody>\n",
       "</table>\n",
       "</div>"
      ],
      "text/plain": [
       "                        Модель         RMSE   Время предсказание  \\\n",
       "0           Линейная регрессия  2897.100167   Wall time: 36.8 ms   \n",
       "1          Градиентный бустинг  1118.660337  Wall time: 38min 9s   \n",
       "2   Гребневая (ридж) регрессия  2897.099606    Wall time: 24.4 s   \n",
       "3  Регрессия по методу «лассо»  2897.087976    Wall time: 48.1 s   \n",
       "4  Регрессия «эластичная сеть»  2897.095161    Wall time: 42.7 s   \n",
       "\n",
       "  Время поиска гиперпараметров  \n",
       "0                            0  \n",
       "1            Wall time: 3.17 s  \n",
       "2           Wall time: 23.9 ms  \n",
       "3           Wall time: 45.9 ms  \n",
       "4           Wall time: 54.9 ms  "
      ]
     },
     "execution_count": 31,
     "metadata": {},
     "output_type": "execute_result"
    }
   ],
   "source": [
    "pd.DataFrame(\n",
    "    [\n",
    "        [\"Линейная регрессия\", Linear_RMSE, \"Wall time: 36.8 ms\", \"0\"],\n",
    "        [\"Градиентный бустинг\", LGBMR_RMSE, \"Wall time: 38min 9s\", \"Wall time: 3.17 s\"],\n",
    "        [\n",
    "            \"Гребневая (ридж) регрессия\",\n",
    "            Ridge_RMSE,\n",
    "            \"Wall time: 24.4 s\",\n",
    "            \"Wall time: 23.9 ms\",\n",
    "        ],\n",
    "        [\n",
    "            \"Регрессия по методу «лассо»\",\n",
    "            lasso_RMSE,\n",
    "            \"Wall time: 48.1 s\",\n",
    "            \"Wall time: 45.9 ms\",\n",
    "        ],\n",
    "        [\n",
    "            \"Регрессия «эластичная сеть»\",\n",
    "            ElNet_RMSE,\n",
    "            \"Wall time: 42.7 s\",\n",
    "            \"Wall time: 54.9 ms\",\n",
    "        ],\n",
    "    ],\n",
    "    columns=(\"Модель\", \" RMSE\", \"Время предсказание\", \"Время поиска гиперпараметров\"),\n",
    ")"
   ]
  },
  {
   "cell_type": "markdown",
   "metadata": {},
   "source": [
    "Как очевидно из представленных результатов, лучшее качество у модели градиентного бустинга, хотя время поиска гиперпараметров и предсказания (по сравнению с остальными моделями) очень высоки."
   ]
  },
  {
   "cell_type": "markdown",
   "metadata": {},
   "source": [
    "### Советы:\n",
    "1. К каждой машине добавить vin код для того, чтобы можно было восстановить недостающие данные.\n",
    "2. Не допускать пропусков в параметрах, так как такие данные приходится удалять (особенно если отсутствует целевой признак).\n",
    "3. В признаке кол-во фото у всех машин стоит 0, возможна ошибка сбора данных."
   ]
  }
 ],
 "metadata": {
  "ExecuteTimeLog": [
   {
    "duration": 17309,
    "start_time": "2022-01-29T16:55:46.267Z"
   },
   {
    "duration": 1268,
    "start_time": "2022-01-29T16:56:03.579Z"
   },
   {
    "duration": -186,
    "start_time": "2022-01-29T16:56:05.036Z"
   },
   {
    "duration": -187,
    "start_time": "2022-01-29T16:56:05.039Z"
   },
   {
    "duration": -192,
    "start_time": "2022-01-29T16:56:05.046Z"
   },
   {
    "duration": -193,
    "start_time": "2022-01-29T16:56:05.048Z"
   },
   {
    "duration": -193,
    "start_time": "2022-01-29T16:56:05.050Z"
   },
   {
    "duration": -195,
    "start_time": "2022-01-29T16:56:05.054Z"
   },
   {
    "duration": -197,
    "start_time": "2022-01-29T16:56:05.058Z"
   },
   {
    "duration": -198,
    "start_time": "2022-01-29T16:56:05.060Z"
   },
   {
    "duration": -199,
    "start_time": "2022-01-29T16:56:05.063Z"
   },
   {
    "duration": -199,
    "start_time": "2022-01-29T16:56:05.064Z"
   },
   {
    "duration": -205,
    "start_time": "2022-01-29T16:56:05.072Z"
   },
   {
    "duration": -206,
    "start_time": "2022-01-29T16:56:05.074Z"
   },
   {
    "duration": -206,
    "start_time": "2022-01-29T16:56:05.076Z"
   },
   {
    "duration": -207,
    "start_time": "2022-01-29T16:56:05.078Z"
   },
   {
    "duration": -206,
    "start_time": "2022-01-29T16:56:05.079Z"
   },
   {
    "duration": 18940,
    "start_time": "2022-01-29T16:56:31.929Z"
   },
   {
    "duration": 10927,
    "start_time": "2022-01-29T16:59:24.898Z"
   },
   {
    "duration": 721,
    "start_time": "2022-01-29T16:59:35.827Z"
   },
   {
    "duration": 1126,
    "start_time": "2022-01-29T16:59:36.552Z"
   },
   {
    "duration": 30,
    "start_time": "2022-01-29T16:59:37.681Z"
   },
   {
    "duration": 9,
    "start_time": "2022-01-29T16:59:37.714Z"
   },
   {
    "duration": 192,
    "start_time": "2022-01-29T16:59:37.725Z"
   },
   {
    "duration": 1665,
    "start_time": "2022-01-29T16:59:37.920Z"
   },
   {
    "duration": 785,
    "start_time": "2022-01-29T16:59:39.590Z"
   },
   {
    "duration": 133,
    "start_time": "2022-01-29T16:59:40.382Z"
   },
   {
    "duration": 21,
    "start_time": "2022-01-29T16:59:40.518Z"
   },
   {
    "duration": 14,
    "start_time": "2022-01-29T16:59:40.560Z"
   },
   {
    "duration": 29,
    "start_time": "2022-01-29T16:59:40.591Z"
   },
   {
    "duration": 55,
    "start_time": "2022-01-29T16:59:40.623Z"
   },
   {
    "duration": 345,
    "start_time": "2022-01-29T16:59:40.681Z"
   },
   {
    "duration": 62,
    "start_time": "2022-01-29T16:59:41.029Z"
   },
   {
    "duration": 530,
    "start_time": "2022-01-29T17:00:06.906Z"
   },
   {
    "duration": 90,
    "start_time": "2022-01-29T17:00:50.076Z"
   },
   {
    "duration": 11352,
    "start_time": "2022-01-29T17:00:54.141Z"
   },
   {
    "duration": 6,
    "start_time": "2022-01-29T17:01:05.497Z"
   },
   {
    "duration": 1133,
    "start_time": "2022-01-29T17:01:05.507Z"
   },
   {
    "duration": 33,
    "start_time": "2022-01-29T17:01:06.643Z"
   },
   {
    "duration": 8,
    "start_time": "2022-01-29T17:01:06.678Z"
   },
   {
    "duration": 193,
    "start_time": "2022-01-29T17:01:06.689Z"
   },
   {
    "duration": 349,
    "start_time": "2022-01-29T17:01:06.884Z"
   },
   {
    "duration": 569,
    "start_time": "2022-01-29T17:01:07.237Z"
   },
   {
    "duration": 129,
    "start_time": "2022-01-29T17:01:07.808Z"
   },
   {
    "duration": 30,
    "start_time": "2022-01-29T17:01:07.939Z"
   },
   {
    "duration": 11,
    "start_time": "2022-01-29T17:01:07.972Z"
   },
   {
    "duration": 26,
    "start_time": "2022-01-29T17:01:07.986Z"
   },
   {
    "duration": 62,
    "start_time": "2022-01-29T17:01:08.014Z"
   },
   {
    "duration": 265,
    "start_time": "2022-01-29T17:01:08.078Z"
   },
   {
    "duration": 53,
    "start_time": "2022-01-29T17:01:08.346Z"
   },
   {
    "duration": 109,
    "start_time": "2022-01-29T17:01:23.086Z"
   },
   {
    "duration": 941,
    "start_time": "2022-01-29T17:02:24.285Z"
   },
   {
    "duration": 1467,
    "start_time": "2022-01-29T17:03:18.372Z"
   },
   {
    "duration": 509,
    "start_time": "2022-01-29T17:06:07.226Z"
   },
   {
    "duration": 32,
    "start_time": "2022-01-29T17:06:14.620Z"
   },
   {
    "duration": 45,
    "start_time": "2022-01-29T17:07:02.303Z"
   },
   {
    "duration": 12009,
    "start_time": "2022-01-29T17:07:22.073Z"
   },
   {
    "duration": 5,
    "start_time": "2022-01-29T17:07:34.085Z"
   },
   {
    "duration": 1105,
    "start_time": "2022-01-29T17:07:34.092Z"
   },
   {
    "duration": 21,
    "start_time": "2022-01-29T17:07:35.200Z"
   },
   {
    "duration": 10,
    "start_time": "2022-01-29T17:07:35.223Z"
   },
   {
    "duration": 201,
    "start_time": "2022-01-29T17:07:35.235Z"
   },
   {
    "duration": 377,
    "start_time": "2022-01-29T17:07:35.439Z"
   },
   {
    "duration": 584,
    "start_time": "2022-01-29T17:07:35.819Z"
   },
   {
    "duration": 128,
    "start_time": "2022-01-29T17:07:36.407Z"
   },
   {
    "duration": 22,
    "start_time": "2022-01-29T17:07:36.538Z"
   },
   {
    "duration": 12,
    "start_time": "2022-01-29T17:07:36.563Z"
   },
   {
    "duration": 23,
    "start_time": "2022-01-29T17:07:36.577Z"
   },
   {
    "duration": 64,
    "start_time": "2022-01-29T17:07:36.603Z"
   },
   {
    "duration": 365,
    "start_time": "2022-01-29T17:07:36.669Z"
   },
   {
    "duration": 55,
    "start_time": "2022-01-29T17:07:37.037Z"
   },
   {
    "duration": 122,
    "start_time": "2022-01-29T17:07:37.095Z"
   },
   {
    "duration": 142,
    "start_time": "2022-01-29T17:07:57.458Z"
   },
   {
    "duration": 35,
    "start_time": "2022-01-29T17:08:09.235Z"
   },
   {
    "duration": 516,
    "start_time": "2022-01-29T17:08:44.477Z"
   },
   {
    "duration": 31,
    "start_time": "2022-01-29T17:08:46.993Z"
   },
   {
    "duration": 11950,
    "start_time": "2022-01-29T17:08:58.281Z"
   },
   {
    "duration": 5,
    "start_time": "2022-01-29T17:09:10.235Z"
   },
   {
    "duration": 1224,
    "start_time": "2022-01-29T17:09:10.243Z"
   },
   {
    "duration": 24,
    "start_time": "2022-01-29T17:09:11.471Z"
   },
   {
    "duration": 12,
    "start_time": "2022-01-29T17:09:11.497Z"
   },
   {
    "duration": 205,
    "start_time": "2022-01-29T17:09:11.511Z"
   },
   {
    "duration": 378,
    "start_time": "2022-01-29T17:09:11.720Z"
   },
   {
    "duration": 611,
    "start_time": "2022-01-29T17:09:12.101Z"
   },
   {
    "duration": 139,
    "start_time": "2022-01-29T17:09:12.717Z"
   },
   {
    "duration": 22,
    "start_time": "2022-01-29T17:09:12.860Z"
   },
   {
    "duration": 15,
    "start_time": "2022-01-29T17:09:12.885Z"
   },
   {
    "duration": 62,
    "start_time": "2022-01-29T17:09:12.903Z"
   },
   {
    "duration": 33,
    "start_time": "2022-01-29T17:09:12.968Z"
   },
   {
    "duration": 295,
    "start_time": "2022-01-29T17:09:13.004Z"
   },
   {
    "duration": 67,
    "start_time": "2022-01-29T17:09:13.302Z"
   },
   {
    "duration": 135,
    "start_time": "2022-01-29T17:09:13.371Z"
   },
   {
    "duration": 57,
    "start_time": "2022-01-29T17:09:13.509Z"
   },
   {
    "duration": 529,
    "start_time": "2022-01-29T17:09:16.911Z"
   },
   {
    "duration": 36,
    "start_time": "2022-01-29T17:09:17.592Z"
   },
   {
    "duration": 13425,
    "start_time": "2022-01-29T17:15:42.386Z"
   },
   {
    "duration": 6,
    "start_time": "2022-01-29T17:15:55.815Z"
   },
   {
    "duration": 1136,
    "start_time": "2022-01-29T17:15:55.825Z"
   },
   {
    "duration": 23,
    "start_time": "2022-01-29T17:15:56.970Z"
   },
   {
    "duration": 9,
    "start_time": "2022-01-29T17:15:56.996Z"
   },
   {
    "duration": 217,
    "start_time": "2022-01-29T17:15:57.008Z"
   },
   {
    "duration": 395,
    "start_time": "2022-01-29T17:15:57.228Z"
   },
   {
    "duration": 645,
    "start_time": "2022-01-29T17:15:57.627Z"
   },
   {
    "duration": 128,
    "start_time": "2022-01-29T17:15:58.275Z"
   },
   {
    "duration": 19,
    "start_time": "2022-01-29T17:15:58.406Z"
   },
   {
    "duration": 44,
    "start_time": "2022-01-29T17:15:58.427Z"
   },
   {
    "duration": 24,
    "start_time": "2022-01-29T17:15:58.473Z"
   },
   {
    "duration": 27,
    "start_time": "2022-01-29T17:15:58.500Z"
   },
   {
    "duration": 283,
    "start_time": "2022-01-29T17:15:58.530Z"
   },
   {
    "duration": 49,
    "start_time": "2022-01-29T17:15:58.816Z"
   },
   {
    "duration": 120,
    "start_time": "2022-01-29T17:15:58.867Z"
   },
   {
    "duration": 28,
    "start_time": "2022-01-29T17:15:58.990Z"
   },
   {
    "duration": 21,
    "start_time": "2022-01-29T17:16:00.632Z"
   },
   {
    "duration": 841,
    "start_time": "2022-01-29T17:16:04.976Z"
   },
   {
    "duration": 487,
    "start_time": "2022-01-29T17:16:14.687Z"
   },
   {
    "duration": 32,
    "start_time": "2022-01-29T17:16:16.318Z"
   },
   {
    "duration": 12,
    "start_time": "2022-01-29T17:16:44.228Z"
   },
   {
    "duration": 352,
    "start_time": "2022-01-29T17:16:45.129Z"
   },
   {
    "duration": 28,
    "start_time": "2022-01-29T17:16:45.732Z"
   },
   {
    "duration": 46,
    "start_time": "2022-01-29T17:16:55.199Z"
   },
   {
    "duration": 434,
    "start_time": "2022-01-29T17:17:14.709Z"
   },
   {
    "duration": 331,
    "start_time": "2022-01-29T17:17:32.772Z"
   },
   {
    "duration": 950,
    "start_time": "2022-01-29T17:19:33.724Z"
   },
   {
    "duration": 13,
    "start_time": "2022-01-29T17:19:38.128Z"
   },
   {
    "duration": 1068,
    "start_time": "2022-01-29T17:19:38.367Z"
   },
   {
    "duration": 361,
    "start_time": "2022-01-29T17:19:54.522Z"
   },
   {
    "duration": 354,
    "start_time": "2022-01-29T17:20:27.752Z"
   },
   {
    "duration": 8923,
    "start_time": "2022-01-29T17:20:53.377Z"
   },
   {
    "duration": 174,
    "start_time": "2022-01-29T17:21:13.046Z"
   },
   {
    "duration": 33,
    "start_time": "2022-01-29T17:21:15.068Z"
   },
   {
    "duration": 12,
    "start_time": "2022-01-29T17:21:37.698Z"
   },
   {
    "duration": 39,
    "start_time": "2022-01-29T17:21:39.108Z"
   },
   {
    "duration": 171,
    "start_time": "2022-01-29T17:21:41.310Z"
   },
   {
    "duration": 30,
    "start_time": "2022-01-29T17:21:41.484Z"
   },
   {
    "duration": 359,
    "start_time": "2022-01-29T17:22:12.709Z"
   },
   {
    "duration": 350,
    "start_time": "2022-01-29T17:22:23.647Z"
   },
   {
    "duration": 11,
    "start_time": "2022-01-29T17:22:54.627Z"
   },
   {
    "duration": 12,
    "start_time": "2022-01-29T17:26:09.082Z"
   },
   {
    "duration": 312,
    "start_time": "2022-01-29T17:26:09.805Z"
   },
   {
    "duration": -161,
    "start_time": "2022-01-29T17:26:10.282Z"
   },
   {
    "duration": 29,
    "start_time": "2022-01-29T17:26:11.600Z"
   },
   {
    "duration": 98,
    "start_time": "2022-01-29T17:26:24.544Z"
   },
   {
    "duration": 30,
    "start_time": "2022-01-29T17:26:25.869Z"
   },
   {
    "duration": 188,
    "start_time": "2022-01-29T17:26:56.494Z"
   },
   {
    "duration": 34,
    "start_time": "2022-01-29T17:26:58.257Z"
   },
   {
    "duration": 24,
    "start_time": "2022-01-29T17:27:56.491Z"
   },
   {
    "duration": 8715,
    "start_time": "2022-01-29T17:27:56.880Z"
   },
   {
    "duration": -178,
    "start_time": "2022-01-29T17:28:05.777Z"
   },
   {
    "duration": 7875,
    "start_time": "2022-01-29T17:28:29.891Z"
   },
   {
    "duration": 868,
    "start_time": "2022-01-29T17:28:51.580Z"
   },
   {
    "duration": 32,
    "start_time": "2022-01-29T17:28:58.233Z"
   },
   {
    "duration": 703,
    "start_time": "2022-01-29T17:29:11.032Z"
   },
   {
    "duration": 31,
    "start_time": "2022-01-29T17:29:12.236Z"
   },
   {
    "duration": 13,
    "start_time": "2022-01-29T17:29:14.720Z"
   },
   {
    "duration": 844,
    "start_time": "2022-01-29T17:29:14.991Z"
   },
   {
    "duration": 42,
    "start_time": "2022-01-29T17:29:15.838Z"
   },
   {
    "duration": 247,
    "start_time": "2022-01-29T17:31:04.574Z"
   },
   {
    "duration": 11248,
    "start_time": "2022-01-29T17:31:10.879Z"
   },
   {
    "duration": 6,
    "start_time": "2022-01-29T17:31:22.131Z"
   },
   {
    "duration": 1193,
    "start_time": "2022-01-29T17:31:22.142Z"
   },
   {
    "duration": 27,
    "start_time": "2022-01-29T17:31:23.338Z"
   },
   {
    "duration": 16,
    "start_time": "2022-01-29T17:31:23.369Z"
   },
   {
    "duration": 191,
    "start_time": "2022-01-29T17:31:23.388Z"
   },
   {
    "duration": 359,
    "start_time": "2022-01-29T17:31:23.581Z"
   },
   {
    "duration": 821,
    "start_time": "2022-01-29T17:31:23.946Z"
   },
   {
    "duration": 127,
    "start_time": "2022-01-29T17:31:24.771Z"
   },
   {
    "duration": 19,
    "start_time": "2022-01-29T17:31:24.900Z"
   },
   {
    "duration": 11,
    "start_time": "2022-01-29T17:31:24.921Z"
   },
   {
    "duration": 27,
    "start_time": "2022-01-29T17:31:24.960Z"
   },
   {
    "duration": 34,
    "start_time": "2022-01-29T17:31:24.990Z"
   },
   {
    "duration": 456,
    "start_time": "2022-01-29T17:31:25.027Z"
   },
   {
    "duration": 58,
    "start_time": "2022-01-29T17:31:25.486Z"
   },
   {
    "duration": 195,
    "start_time": "2022-01-29T17:31:25.547Z"
   },
   {
    "duration": 1261,
    "start_time": "2022-01-29T17:31:25.746Z"
   },
   {
    "duration": 82,
    "start_time": "2022-01-29T17:31:27.010Z"
   },
   {
    "duration": 5,
    "start_time": "2022-01-29T17:31:27.095Z"
   },
   {
    "duration": 263,
    "start_time": "2022-01-29T17:31:27.102Z"
   },
   {
    "duration": 110,
    "start_time": "2022-01-29T17:32:43.944Z"
   },
   {
    "duration": 5,
    "start_time": "2022-01-29T17:32:50.016Z"
   },
   {
    "duration": 286,
    "start_time": "2022-01-29T17:34:43.604Z"
   },
   {
    "duration": 292,
    "start_time": "2022-01-29T17:34:53.978Z"
   },
   {
    "duration": 385,
    "start_time": "2022-01-29T17:36:55.618Z"
   },
   {
    "duration": 11868,
    "start_time": "2022-01-29T17:37:07.711Z"
   },
   {
    "duration": 1335,
    "start_time": "2022-01-29T17:37:19.583Z"
   },
   {
    "duration": 1054,
    "start_time": "2022-01-29T17:37:20.922Z"
   },
   {
    "duration": 34,
    "start_time": "2022-01-29T17:37:21.979Z"
   },
   {
    "duration": 11,
    "start_time": "2022-01-29T17:37:22.015Z"
   },
   {
    "duration": 280,
    "start_time": "2022-01-29T17:37:22.029Z"
   },
   {
    "duration": 1252,
    "start_time": "2022-01-29T17:37:22.312Z"
   },
   {
    "duration": 685,
    "start_time": "2022-01-29T17:37:23.567Z"
   },
   {
    "duration": 127,
    "start_time": "2022-01-29T17:37:24.260Z"
   },
   {
    "duration": 19,
    "start_time": "2022-01-29T17:37:24.390Z"
   },
   {
    "duration": 10,
    "start_time": "2022-01-29T17:37:24.412Z"
   },
   {
    "duration": 51,
    "start_time": "2022-01-29T17:37:24.424Z"
   },
   {
    "duration": 38,
    "start_time": "2022-01-29T17:37:24.477Z"
   },
   {
    "duration": 317,
    "start_time": "2022-01-29T17:37:24.518Z"
   },
   {
    "duration": 50,
    "start_time": "2022-01-29T17:37:24.837Z"
   },
   {
    "duration": 134,
    "start_time": "2022-01-29T17:37:24.889Z"
   },
   {
    "duration": 488,
    "start_time": "2022-01-29T17:37:25.025Z"
   },
   {
    "duration": 64,
    "start_time": "2022-01-29T17:37:25.515Z"
   },
   {
    "duration": 5,
    "start_time": "2022-01-29T17:37:25.581Z"
   },
   {
    "duration": 570,
    "start_time": "2022-01-29T17:37:25.590Z"
   },
   {
    "duration": 318,
    "start_time": "2022-01-29T17:38:36.611Z"
   },
   {
    "duration": 346,
    "start_time": "2022-01-29T17:39:01.672Z"
   },
   {
    "duration": 4,
    "start_time": "2022-01-29T17:39:21.998Z"
   },
   {
    "duration": 17029,
    "start_time": "2022-01-29T17:39:34.248Z"
   },
   {
    "duration": 6,
    "start_time": "2022-01-29T17:39:56.305Z"
   },
   {
    "duration": 5,
    "start_time": "2022-01-29T17:39:57.414Z"
   },
   {
    "duration": 11985,
    "start_time": "2022-01-29T17:40:55.543Z"
   },
   {
    "duration": 5,
    "start_time": "2022-01-29T17:41:24.847Z"
   },
   {
    "duration": 4,
    "start_time": "2022-01-29T17:41:25.477Z"
   },
   {
    "duration": 31536,
    "start_time": "2022-01-29T17:41:52.908Z"
   },
   {
    "duration": 5,
    "start_time": "2022-01-29T17:42:24.447Z"
   },
   {
    "duration": 9,
    "start_time": "2022-01-29T17:42:24.455Z"
   },
   {
    "duration": 3556,
    "start_time": "2022-01-29T17:42:31.373Z"
   },
   {
    "duration": 51210,
    "start_time": "2022-01-29T17:42:56.794Z"
   },
   {
    "duration": 9959,
    "start_time": "2022-01-29T17:43:49.295Z"
   },
   {
    "duration": 137,
    "start_time": "2022-01-29T17:44:12.871Z"
   },
   {
    "duration": 4617,
    "start_time": "2022-01-29T17:44:29.284Z"
   },
   {
    "duration": 4453,
    "start_time": "2022-01-29T17:44:49.647Z"
   },
   {
    "duration": 97,
    "start_time": "2022-01-29T17:44:55.733Z"
   },
   {
    "duration": 721,
    "start_time": "2022-01-29T17:45:05.503Z"
   },
   {
    "duration": 334,
    "start_time": "2022-01-29T17:45:31.572Z"
   },
   {
    "duration": 18564,
    "start_time": "2022-01-29T17:45:35.043Z"
   },
   {
    "duration": 677,
    "start_time": "2022-01-29T17:45:53.610Z"
   },
   {
    "duration": 4,
    "start_time": "2022-01-29T17:45:54.290Z"
   },
   {
    "duration": 1161,
    "start_time": "2022-01-29T17:45:54.298Z"
   },
   {
    "duration": 31,
    "start_time": "2022-01-29T17:45:55.462Z"
   },
   {
    "duration": 11,
    "start_time": "2022-01-29T17:45:55.495Z"
   },
   {
    "duration": 231,
    "start_time": "2022-01-29T17:45:55.509Z"
   },
   {
    "duration": 1604,
    "start_time": "2022-01-29T17:45:55.742Z"
   },
   {
    "duration": 751,
    "start_time": "2022-01-29T17:45:57.350Z"
   },
   {
    "duration": 149,
    "start_time": "2022-01-29T17:45:58.104Z"
   },
   {
    "duration": 22,
    "start_time": "2022-01-29T17:45:58.255Z"
   },
   {
    "duration": 10,
    "start_time": "2022-01-29T17:45:58.280Z"
   },
   {
    "duration": 24,
    "start_time": "2022-01-29T17:45:58.293Z"
   },
   {
    "duration": 77,
    "start_time": "2022-01-29T17:45:58.320Z"
   },
   {
    "duration": 321,
    "start_time": "2022-01-29T17:45:58.400Z"
   },
   {
    "duration": 53,
    "start_time": "2022-01-29T17:45:58.724Z"
   },
   {
    "duration": 128,
    "start_time": "2022-01-29T17:45:58.782Z"
   },
   {
    "duration": 563,
    "start_time": "2022-01-29T17:45:58.913Z"
   },
   {
    "duration": 54,
    "start_time": "2022-01-29T17:45:59.479Z"
   },
   {
    "duration": 28,
    "start_time": "2022-01-29T17:45:59.536Z"
   },
   {
    "duration": 292,
    "start_time": "2022-01-29T17:45:59.572Z"
   },
   {
    "duration": 3,
    "start_time": "2022-01-29T17:46:58.525Z"
   },
   {
    "duration": 732,
    "start_time": "2022-01-29T17:49:09.895Z"
   },
   {
    "duration": 320,
    "start_time": "2022-01-29T17:49:55.579Z"
   },
   {
    "duration": 961,
    "start_time": "2022-01-29T17:50:25.471Z"
   },
   {
    "duration": 64187,
    "start_time": "2022-01-29T17:50:40.175Z"
   },
   {
    "duration": 74544,
    "start_time": "2022-01-29T17:51:50.051Z"
   },
   {
    "duration": 6,
    "start_time": "2022-01-29T17:53:04.598Z"
   },
   {
    "duration": 103,
    "start_time": "2022-01-29T17:53:30.681Z"
   },
   {
    "duration": 116,
    "start_time": "2022-01-29T19:43:40.588Z"
   },
   {
    "duration": 27154,
    "start_time": "2022-01-30T13:04:30.352Z"
   },
   {
    "duration": 4,
    "start_time": "2022-01-30T13:04:57.509Z"
   },
   {
    "duration": 2717,
    "start_time": "2022-01-30T13:04:57.515Z"
   },
   {
    "duration": 1010,
    "start_time": "2022-01-30T13:05:00.235Z"
   },
   {
    "duration": 29,
    "start_time": "2022-01-30T13:05:01.248Z"
   },
   {
    "duration": 9,
    "start_time": "2022-01-30T13:05:01.280Z"
   },
   {
    "duration": 206,
    "start_time": "2022-01-30T13:05:01.292Z"
   },
   {
    "duration": 1294,
    "start_time": "2022-01-30T13:05:01.503Z"
   },
   {
    "duration": 626,
    "start_time": "2022-01-30T13:05:02.800Z"
   },
   {
    "duration": 131,
    "start_time": "2022-01-30T13:05:03.428Z"
   },
   {
    "duration": 17,
    "start_time": "2022-01-30T13:05:03.561Z"
   },
   {
    "duration": 9,
    "start_time": "2022-01-30T13:05:03.580Z"
   },
   {
    "duration": 22,
    "start_time": "2022-01-30T13:05:03.592Z"
   },
   {
    "duration": 468,
    "start_time": "2022-01-30T13:05:03.617Z"
   },
   {
    "duration": 8,
    "start_time": "2022-01-30T13:05:04.088Z"
   },
   {
    "duration": 140,
    "start_time": "2022-01-30T13:05:04.098Z"
   },
   {
    "duration": 29,
    "start_time": "2022-01-30T13:05:04.240Z"
   },
   {
    "duration": 23,
    "start_time": "2022-01-30T13:05:04.272Z"
   },
   {
    "duration": 38,
    "start_time": "2022-01-30T13:05:04.297Z"
   },
   {
    "duration": 5,
    "start_time": "2022-01-30T13:05:04.359Z"
   },
   {
    "duration": 5,
    "start_time": "2022-01-30T13:05:04.366Z"
   },
   {
    "duration": 12625,
    "start_time": "2022-01-30T13:05:04.373Z"
   },
   {
    "duration": 429,
    "start_time": "2022-01-30T13:05:17.005Z"
   },
   {
    "duration": 286,
    "start_time": "2022-01-30T13:05:17.437Z"
   },
   {
    "duration": 3,
    "start_time": "2022-01-30T13:05:17.726Z"
   },
   {
    "duration": 277,
    "start_time": "2022-01-30T13:05:17.731Z"
   },
   {
    "duration": 3,
    "start_time": "2022-01-30T13:05:18.011Z"
   },
   {
    "duration": 250,
    "start_time": "2022-01-30T13:05:18.016Z"
   },
   {
    "duration": 3,
    "start_time": "2022-01-30T13:05:18.269Z"
   },
   {
    "duration": 286,
    "start_time": "2022-01-30T13:05:18.275Z"
   },
   {
    "duration": 306,
    "start_time": "2022-01-30T13:05:18.563Z"
   },
   {
    "duration": 4045,
    "start_time": "2022-01-30T13:06:11.070Z"
   },
   {
    "duration": 255,
    "start_time": "2022-01-30T13:06:25.781Z"
   },
   {
    "duration": 11293,
    "start_time": "2022-01-30T13:07:20.685Z"
   },
   {
    "duration": 10330,
    "start_time": "2022-01-30T13:07:41.378Z"
   },
   {
    "duration": 5,
    "start_time": "2022-01-30T13:07:51.711Z"
   },
   {
    "duration": 2402,
    "start_time": "2022-01-30T13:07:51.720Z"
   },
   {
    "duration": 987,
    "start_time": "2022-01-30T13:07:54.125Z"
   },
   {
    "duration": 24,
    "start_time": "2022-01-30T13:07:55.115Z"
   },
   {
    "duration": 19,
    "start_time": "2022-01-30T13:07:55.142Z"
   },
   {
    "duration": 201,
    "start_time": "2022-01-30T13:07:55.164Z"
   },
   {
    "duration": 1247,
    "start_time": "2022-01-30T13:07:55.368Z"
   },
   {
    "duration": 628,
    "start_time": "2022-01-30T13:07:56.618Z"
   },
   {
    "duration": 125,
    "start_time": "2022-01-30T13:07:57.250Z"
   },
   {
    "duration": 19,
    "start_time": "2022-01-30T13:07:57.378Z"
   },
   {
    "duration": 10,
    "start_time": "2022-01-30T13:07:57.400Z"
   },
   {
    "duration": 63,
    "start_time": "2022-01-30T13:07:57.413Z"
   },
   {
    "duration": 408,
    "start_time": "2022-01-30T13:07:57.479Z"
   },
   {
    "duration": 9,
    "start_time": "2022-01-30T13:07:57.890Z"
   },
   {
    "duration": 145,
    "start_time": "2022-01-30T13:07:57.901Z"
   },
   {
    "duration": 30,
    "start_time": "2022-01-30T13:07:58.049Z"
   },
   {
    "duration": 24,
    "start_time": "2022-01-30T13:07:58.082Z"
   },
   {
    "duration": 65,
    "start_time": "2022-01-30T13:07:58.108Z"
   },
   {
    "duration": 5,
    "start_time": "2022-01-30T13:07:58.175Z"
   },
   {
    "duration": 5,
    "start_time": "2022-01-30T13:07:58.182Z"
   },
   {
    "duration": 11818,
    "start_time": "2022-01-30T13:07:58.190Z"
   },
   {
    "duration": 102,
    "start_time": "2022-01-30T13:08:38.969Z"
   },
   {
    "duration": 5,
    "start_time": "2022-01-30T13:08:53.268Z"
   },
   {
    "duration": 4,
    "start_time": "2022-01-30T13:10:06.277Z"
   },
   {
    "duration": 12560,
    "start_time": "2022-01-30T13:10:14.119Z"
   },
   {
    "duration": 172,
    "start_time": "2022-01-30T13:10:48.328Z"
   },
   {
    "duration": 5,
    "start_time": "2022-01-30T13:10:54.532Z"
   },
   {
    "duration": 12993,
    "start_time": "2022-01-30T13:10:56.267Z"
   },
   {
    "duration": 616,
    "start_time": "2022-01-30T13:11:39.207Z"
   },
   {
    "duration": 2329,
    "start_time": "2022-01-30T13:12:11.432Z"
   },
   {
    "duration": 3,
    "start_time": "2022-01-30T13:12:22.661Z"
   },
   {
    "duration": 2336,
    "start_time": "2022-01-30T13:12:23.043Z"
   },
   {
    "duration": 2949,
    "start_time": "2022-01-30T13:12:36.868Z"
   },
   {
    "duration": 4,
    "start_time": "2022-01-30T13:12:51.428Z"
   },
   {
    "duration": 2936,
    "start_time": "2022-01-30T13:12:51.860Z"
   },
   {
    "duration": 4,
    "start_time": "2022-01-30T13:13:21.674Z"
   },
   {
    "duration": 2997,
    "start_time": "2022-01-30T13:13:21.954Z"
   },
   {
    "duration": 250,
    "start_time": "2022-01-30T13:13:38.636Z"
   },
   {
    "duration": 11592,
    "start_time": "2022-01-30T13:53:47.505Z"
   },
   {
    "duration": 2870,
    "start_time": "2022-01-30T13:53:59.101Z"
   },
   {
    "duration": 4,
    "start_time": "2022-01-30T13:54:01.975Z"
   },
   {
    "duration": 1027,
    "start_time": "2022-01-30T13:54:01.982Z"
   },
   {
    "duration": 29,
    "start_time": "2022-01-30T13:54:03.012Z"
   },
   {
    "duration": 20,
    "start_time": "2022-01-30T13:54:03.044Z"
   },
   {
    "duration": 204,
    "start_time": "2022-01-30T13:54:03.067Z"
   },
   {
    "duration": 1014,
    "start_time": "2022-01-30T13:54:03.274Z"
   },
   {
    "duration": 655,
    "start_time": "2022-01-30T13:54:04.291Z"
   },
   {
    "duration": 127,
    "start_time": "2022-01-30T13:54:04.950Z"
   },
   {
    "duration": 18,
    "start_time": "2022-01-30T13:54:05.080Z"
   },
   {
    "duration": 9,
    "start_time": "2022-01-30T13:54:05.101Z"
   },
   {
    "duration": 57,
    "start_time": "2022-01-30T13:54:05.112Z"
   },
   {
    "duration": 437,
    "start_time": "2022-01-30T13:54:05.172Z"
   },
   {
    "duration": 8,
    "start_time": "2022-01-30T13:54:05.612Z"
   },
   {
    "duration": 148,
    "start_time": "2022-01-30T13:54:05.622Z"
   },
   {
    "duration": 24,
    "start_time": "2022-01-30T13:54:05.772Z"
   },
   {
    "duration": 27,
    "start_time": "2022-01-30T13:54:05.799Z"
   },
   {
    "duration": 69,
    "start_time": "2022-01-30T13:54:05.829Z"
   },
   {
    "duration": 6,
    "start_time": "2022-01-30T13:54:05.900Z"
   },
   {
    "duration": 5,
    "start_time": "2022-01-30T13:54:05.908Z"
   },
   {
    "duration": 17869,
    "start_time": "2022-01-30T13:54:05.916Z"
   },
   {
    "duration": 449,
    "start_time": "2022-01-30T13:54:23.787Z"
   },
   {
    "duration": 221,
    "start_time": "2022-01-30T13:54:24.239Z"
   },
   {
    "duration": 3,
    "start_time": "2022-01-30T13:54:24.463Z"
   },
   {
    "duration": 96,
    "start_time": "2022-01-30T13:54:24.468Z"
   },
   {
    "duration": 89,
    "start_time": "2022-01-30T13:54:24.571Z"
   },
   {
    "duration": 496,
    "start_time": "2022-01-30T13:54:24.663Z"
   },
   {
    "duration": 5,
    "start_time": "2022-01-30T13:54:25.162Z"
   },
   {
    "duration": 489,
    "start_time": "2022-01-30T13:54:25.170Z"
   },
   {
    "duration": 99,
    "start_time": "2022-01-30T13:54:25.663Z"
   },
   {
    "duration": 12569,
    "start_time": "2022-01-30T14:18:05.124Z"
   }
  ],
  "kernelspec": {
   "display_name": "Python 3",
   "language": "python",
   "name": "python3"
  },
  "language_info": {
   "codemirror_mode": {
    "name": "ipython",
    "version": 3
   },
   "file_extension": ".py",
   "mimetype": "text/x-python",
   "name": "python",
   "nbconvert_exporter": "python",
   "pygments_lexer": "ipython3",
   "version": "3.10.1"
  },
  "toc": {
   "base_numbering": 1,
   "nav_menu": {},
   "number_sections": false,
   "sideBar": true,
   "skip_h1_title": true,
   "title_cell": "Table of Contents",
   "title_sidebar": "Contents",
   "toc_cell": false,
   "toc_position": {},
   "toc_section_display": true,
   "toc_window_display": false
  }
 },
 "nbformat": 4,
 "nbformat_minor": 2
}
