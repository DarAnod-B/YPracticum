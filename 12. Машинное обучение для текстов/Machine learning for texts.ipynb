{
 "cells": [
  {
   "cell_type": "markdown",
   "metadata": {},
   "source": [
    "# <span style=\"color: crimson\">Проект для «Викишоп»</span>\n",
    "---\n",
    "**<span style=\"color: crimson\">Заказчик</span>**: интернет-магазин «Викишоп».\n",
    "\n",
    "**<span style=\"color: crimson\">Цель проекта</span>**: создать инструмент, который будет искать токсичные комментарии и отправлять их на модерацию. \n",
    "\n",
    "**<span style=\"color: crimson\">Датасет</span>**: набор данных с разметкой о токсичности правок."
   ]
  },
  {
   "cell_type": "markdown",
   "metadata": {},
   "source": [
    "Данные находятся в файле `toxic_comments.csv`. Столбец *text* в нём содержит текст комментария, а *toxic* — целевой признак.\n",
    "\n",
    "---"
   ]
  },
  {
   "cell_type": "markdown",
   "metadata": {},
   "source": [
    "## Импорт библиотек:"
   ]
  },
  {
   "cell_type": "code",
   "execution_count": 1,
   "metadata": {},
   "outputs": [
    {
     "name": "stdout",
     "output_type": "stream",
     "text": [
      "Requirement already satisfied: optuna in c:\\users\\владелец\\appdata\\local\\programs\\python\\python310\\lib\\site-packages (2.10.0)\n",
      "Requirement already satisfied: numpy in c:\\users\\владелец\\appdata\\local\\programs\\python\\python310\\lib\\site-packages (from optuna) (1.22.3)\n",
      "Requirement already satisfied: scipy!=1.4.0 in c:\\users\\владелец\\appdata\\local\\programs\\python\\python310\\lib\\site-packages (from optuna) (1.7.3)\n",
      "Requirement already satisfied: sqlalchemy>=1.1.0 in c:\\users\\владелец\\appdata\\local\\programs\\python\\python310\\lib\\site-packages (from optuna) (1.4.32)\n",
      "Requirement already satisfied: cliff in c:\\users\\владелец\\appdata\\local\\programs\\python\\python310\\lib\\site-packages (from optuna) (3.10.1)\n",
      "Requirement already satisfied: tqdm in c:\\users\\владелец\\appdata\\local\\programs\\python\\python310\\lib\\site-packages (from optuna) (4.62.3)\n",
      "Requirement already satisfied: packaging>=20.0 in c:\\users\\владелец\\appdata\\local\\programs\\python\\python310\\lib\\site-packages (from optuna) (21.3)\n",
      "Requirement already satisfied: alembic in c:\\users\\владелец\\appdata\\local\\programs\\python\\python310\\lib\\site-packages (from optuna) (1.7.7)\n",
      "Requirement already satisfied: cmaes>=0.8.2 in c:\\users\\владелец\\appdata\\local\\programs\\python\\python310\\lib\\site-packages (from optuna) (0.8.2)\n",
      "Requirement already satisfied: colorlog in c:\\users\\владелец\\appdata\\local\\programs\\python\\python310\\lib\\site-packages (from optuna) (6.6.0)\n",
      "Requirement already satisfied: PyYAML in c:\\users\\владелец\\appdata\\local\\programs\\python\\python310\\lib\\site-packages (from optuna) (6.0)\n",
      "Requirement already satisfied: pyparsing!=3.0.5,>=2.0.2 in c:\\users\\владелец\\appdata\\local\\programs\\python\\python310\\lib\\site-packages (from packaging>=20.0->optuna) (3.0.7)\n",
      "Requirement already satisfied: greenlet!=0.4.17 in c:\\users\\владелец\\appdata\\local\\programs\\python\\python310\\lib\\site-packages (from sqlalchemy>=1.1.0->optuna) (1.1.2)\n",
      "Requirement already satisfied: Mako in c:\\users\\владелец\\appdata\\local\\programs\\python\\python310\\lib\\site-packages (from alembic->optuna) (1.2.0)\n",
      "Requirement already satisfied: PrettyTable>=0.7.2 in c:\\users\\владелец\\appdata\\local\\programs\\python\\python310\\lib\\site-packages (from cliff->optuna) (3.2.0)\n",
      "Requirement already satisfied: cmd2>=1.0.0 in c:\\users\\владелец\\appdata\\local\\programs\\python\\python310\\lib\\site-packages (from cliff->optuna) (2.4.0)\n",
      "Requirement already satisfied: pbr!=2.1.0,>=2.0.0 in c:\\users\\владелец\\appdata\\local\\programs\\python\\python310\\lib\\site-packages (from cliff->optuna) (5.8.1)\n",
      "Requirement already satisfied: autopage>=0.4.0 in c:\\users\\владелец\\appdata\\local\\programs\\python\\python310\\lib\\site-packages (from cliff->optuna) (0.5.0)\n",
      "Requirement already satisfied: stevedore>=2.0.1 in c:\\users\\владелец\\appdata\\local\\programs\\python\\python310\\lib\\site-packages (from cliff->optuna) (3.5.0)\n",
      "Requirement already satisfied: colorama in c:\\users\\владелец\\appdata\\local\\programs\\python\\python310\\lib\\site-packages (from colorlog->optuna) (0.4.4)\n",
      "Requirement already satisfied: attrs>=16.3.0 in c:\\users\\владелец\\appdata\\local\\programs\\python\\python310\\lib\\site-packages (from cmd2>=1.0.0->cliff->optuna) (21.4.0)\n",
      "Requirement already satisfied: pyreadline3 in c:\\users\\владелец\\appdata\\local\\programs\\python\\python310\\lib\\site-packages (from cmd2>=1.0.0->cliff->optuna) (3.4.1)\n",
      "Requirement already satisfied: wcwidth>=0.1.7 in c:\\users\\владелец\\appdata\\local\\programs\\python\\python310\\lib\\site-packages (from cmd2>=1.0.0->cliff->optuna) (0.2.5)\n",
      "Requirement already satisfied: pyperclip>=1.6 in c:\\users\\владелец\\appdata\\local\\programs\\python\\python310\\lib\\site-packages (from cmd2>=1.0.0->cliff->optuna) (1.8.2)\n",
      "Requirement already satisfied: MarkupSafe>=0.9.2 in c:\\users\\владелец\\appdata\\local\\programs\\python\\python310\\lib\\site-packages (from Mako->alembic->optuna) (2.1.1)\n",
      "Requirement already satisfied: pymystem3 in c:\\users\\владелец\\appdata\\local\\programs\\python\\python310\\lib\\site-packages (0.2.0)\n",
      "Requirement already satisfied: requests in c:\\users\\владелец\\appdata\\local\\programs\\python\\python310\\lib\\site-packages (from pymystem3) (2.26.0)\n",
      "Requirement already satisfied: certifi>=2017.4.17 in c:\\users\\владелец\\appdata\\local\\programs\\python\\python310\\lib\\site-packages (from requests->pymystem3) (2021.10.8)\n",
      "Requirement already satisfied: urllib3<1.27,>=1.21.1 in c:\\users\\владелец\\appdata\\local\\programs\\python\\python310\\lib\\site-packages (from requests->pymystem3) (1.26.7)\n",
      "Requirement already satisfied: idna<4,>=2.5 in c:\\users\\владелец\\appdata\\local\\programs\\python\\python310\\lib\\site-packages (from requests->pymystem3) (3.3)\n",
      "Requirement already satisfied: charset-normalizer~=2.0.0 in c:\\users\\владелец\\appdata\\local\\programs\\python\\python310\\lib\\site-packages (from requests->pymystem3) (2.0.9)\n"
     ]
    }
   ],
   "source": [
    "!pip3 install optuna\n",
    "!pip3 install pymystem3"
   ]
  },
  {
   "cell_type": "code",
   "execution_count": 2,
   "metadata": {},
   "outputs": [],
   "source": [
    "import pandas as pd\n",
    "import re\n",
    "import matplotlib.pyplot as plt\n",
    "import seaborn as sns\n",
    "from pymystem3 import Mystem\n",
    "from sklearn.feature_extraction.text import TfidfVectorizer\n",
    "import nltk\n",
    "from nltk.corpus import stopwords\n",
    "import spacy\n",
    "nlp = spacy.load(\"en_core_web_sm\")\n",
    "from sklearn.model_selection import train_test_split, cross_val_score, KFold\n",
    "from sklearn.linear_model import LogisticRegression\n",
    "from sklearn.ensemble import GradientBoostingClassifier\n",
    "from sklearn.neighbors import KNeighborsClassifier\n",
    "from sklearn.metrics import make_scorer, f1_score, confusion_matrix\n",
    "from sklearn.pipeline import Pipeline\n",
    "\n",
    "import optuna"
   ]
  },
  {
   "cell_type": "code",
   "execution_count": 3,
   "metadata": {},
   "outputs": [],
   "source": [
    "def cf_plot(true, pred):\n",
    "    ax = plt.subplot()\n",
    "    sns.heatmap(confusion_matrix(true, pred), annot=True, fmt='g', ax=ax);\n",
    "\n",
    "    # labels, title and ticks\n",
    "    ax.set_xlabel('Actual');ax.set_ylabel('Predicted'); \n",
    "    ax.set_title('Confusion Matrix'); \n",
    "    ax.xaxis.set_ticklabels(['Positive', 'Negative']); \n",
    "    ax.yaxis.set_ticklabels(['Positive', 'Negative']);"
   ]
  },
  {
   "cell_type": "markdown",
   "metadata": {},
   "source": [
    "## <span style=\"color: crimson\">Этап 1</span> Предобработка данных"
   ]
  },
  {
   "cell_type": "code",
   "execution_count": 4,
   "metadata": {},
   "outputs": [],
   "source": [
    "df = pd.read_csv('./File/toxic_comments.csv')"
   ]
  },
  {
   "cell_type": "code",
   "execution_count": 5,
   "metadata": {},
   "outputs": [],
   "source": [
    "df.info()"
   ]
  },
  {
   "cell_type": "markdown",
   "metadata": {},
   "source": [
    "**<span style=\"color: red\">Изменим типы данных</span>**"
   ]
  },
  {
   "cell_type": "code",
   "execution_count": 6,
   "metadata": {},
   "outputs": [],
   "source": [
    "df[\"toxic\"] = df[\"toxic\"].astype('bool')\n",
    "df[\"text\"] = df[\"text\"].values.astype('U')"
   ]
  },
  {
   "cell_type": "markdown",
   "metadata": {},
   "source": [
    "**<span style=\"color: red\">Анализ на дисбаланс</span>**"
   ]
  },
  {
   "cell_type": "code",
   "execution_count": 7,
   "metadata": {},
   "outputs": [
    {
     "data": {
      "image/png": "[encoded data removed]"
     },
     "metadata": {
      "needs_background": "light"
     },
     "output_type": "display_data"
    }
   ],
   "source": [
    "plt.figure(figsize=(13,4))\n",
    "all_df = sns.countplot(x=df['toxic'])\n",
    "all_df.set_xticklabels(['Положительные','Негативные'])\n",
    "plt.show();\n",
    "\n",
    "print(\n",
    "    \"Соотношение положительных отзывов к отрицательным\",\n",
    "    df.query(\"toxic == False\").shape[0] / df.query(\"toxic == True\").shape[0],\n",
    ")"
   ]
  },
  {
   "cell_type": "markdown",
   "metadata": {},
   "source": [
    "Т.к. мы будим использовать метрику f1, то стоит провести балансировку, на тренировочной выборке."
   ]
  },
  {
   "cell_type": "markdown",
   "metadata": {},
   "source": [
    "**<span style=\"color: red\">Чистка текста</span>**"
   ]
  },
  {
   "cell_type": "markdown",
   "metadata": {},
   "source": [
    "В среднем проходит за 30 минут."
   ]
  },
  {
   "cell_type": "code",
   "execution_count": 7,
   "metadata": {},
   "outputs": [],
   "source": [
    "%%time\n",
    "\n",
    "nltk.download('stopwords')\n",
    "stopwords = set(stopwords.words('english'))\n",
    "\n",
    "def clear_text(sentence):\n",
    "    # Удаление знаков препинания    \n",
    "    sentence = re.sub(r\"[^a-zA-Z]\", ' ', sentence)\n",
    "    \n",
    "    # Лемматизация\n",
    "    nlp_sentence = nlp(sentence)\n",
    "    doc = [token.lemma_ for token in nlp_sentence]\n",
    "    \n",
    "    # Удаление стоп слов\n",
    "    doc = [w for w in doc if w not in stopwords]\n",
    "    \n",
    "    # Удаление пробелов\n",
    "    doc = \" \".join(doc).split() \n",
    "    \n",
    "    return \" \".join(doc)\n",
    "\n",
    "df['text'] = df['text'].apply(clear_text)"
   ]
  },
  {
   "cell_type": "markdown",
   "metadata": {},
   "source": [
    "Разбиваем данные на выборки."
   ]
  },
  {
   "cell_type": "code",
   "execution_count": 9,
   "metadata": {},
   "outputs": [],
   "source": [
    "train, test = train_test_split(df, \n",
    "                               test_size=0.3, \n",
    "                               random_state=666)\n",
    "X_train = train['text']\n",
    "y_train = train['toxic']\n",
    "\n",
    "X_test = test['text']\n",
    "y_test = test['toxic']"
   ]
  },
  {
   "cell_type": "markdown",
   "metadata": {},
   "source": [
    "**Балансировка методом Under-sampling**"
   ]
  },
  {
   "cell_type": "code",
   "execution_count": 10,
   "metadata": {},
   "outputs": [],
   "source": [
    "num_1 = df.query(\"toxic == True\").shape[0]\n",
    "df = pd.concat([df.query(\"toxic == False\").sample(num_1) , df.query(\"toxic == True\")])"
   ]
  },
  {
   "cell_type": "markdown",
   "metadata": {},
   "source": [
    "## <span style=\"color: crimson\">Этап 2</span> Обучение моделей"
   ]
  },
  {
   "cell_type": "markdown",
   "metadata": {},
   "source": [
    "### TF-IDF"
   ]
  },
  {
   "cell_type": "markdown",
   "metadata": {},
   "source": [
    "Векторизируем текст"
   ]
  },
  {
   "cell_type": "code",
   "execution_count": 11,
   "metadata": {},
   "outputs": [],
   "source": [
    "count_tf_idf = TfidfVectorizer()\n",
    "\n",
    "tf_idf_model = count_tf_idf.fit(X_train)\n",
    "train_tfidf = count_tf_idf.transform(X_train)\n",
    "test_tfidf = count_tf_idf.transform(X_test)"
   ]
  },
  {
   "cell_type": "markdown",
   "metadata": {},
   "source": [
    "**Настройка optuma**"
   ]
  },
  {
   "cell_type": "code",
   "execution_count": 12,
   "metadata": {},
   "outputs": [],
   "source": [
    "# RANDOM_SEED = 666\n",
    "\n",
    "# kfolds = KFold(n_splits=10, shuffle=True, random_state=RANDOM_SEED)\n",
    "\n",
    "# def tune(objective):\n",
    "#     study = optuna.create_study(direction=\"maximize\")\n",
    "#     study.optimize(objective, n_trials=100)\n",
    "\n",
    "#     params = study.best_params\n",
    "#     best_score = study.best_value\n",
    "#     print(f\"Best score: {best_score}\\n\")\n",
    "#     print(f\"Optimized parameters: {params}\\n\")\n",
    "#     return params"
   ]
  },
  {
   "cell_type": "markdown",
   "metadata": {},
   "source": [
    "### **Используемые модели:**\n",
    "* Логистическая регрессия\n",
    "* Градиентный бустинг классификации\n",
    "* KNN"
   ]
  },
  {
   "cell_type": "markdown",
   "metadata": {},
   "source": [
    "#### <u>|Логистическая регрессия</u>"
   ]
  },
  {
   "cell_type": "markdown",
   "metadata": {},
   "source": [
    "Поиск гиперпараметров (optuna)."
   ]
  },
  {
   "cell_type": "code",
   "execution_count": 13,
   "metadata": {
    "scrolled": true
   },
   "outputs": [],
   "source": [
    "# %%time\n",
    "\n",
    "# def objective(trial):\n",
    "#     param = {\n",
    "#         \"solver\": trial.suggest_categorical(\n",
    "#             \"solver\", [\"newton-cg\", \"lbfgs\", \"liblinear\", \"sag\", \"saga\"]\n",
    "#         ),\n",
    "#         \"C\": trial.suggest_float(\"C\", 0.1, 20),\n",
    "#         \"max_iter\": trial.suggest_int(\"max_iter\", 1000, 5000, 100),\n",
    "#     }\n",
    "#     model = Pipeline(\n",
    "#         [\n",
    "#             (\"tfidf\", TfidfVectorizer()),\n",
    "#             (\n",
    "#                 \"model\",\n",
    "#                 LogisticRegression(**param)\n",
    "#             ),\n",
    "#         ]\n",
    "#     )\n",
    "#     scores = cross_val_score(\n",
    "#         model,\n",
    "#         X_train,\n",
    "#         y_train,\n",
    "#         scoring='f1',\n",
    "#         cv=kfolds,\n",
    "#     ).mean()\n",
    "\n",
    "#     return scores\n",
    "\n",
    "\n",
    "# LR_params = tune(objective)\n",
    "# LR = LogisticRegression(**LR_params, random_state=RANDOM_SEED)"
   ]
  },
  {
   "cell_type": "code",
   "execution_count": 14,
   "metadata": {},
   "outputs": [],
   "source": [
    "%%time\n",
    "\n",
    "pipe_lr = Pipeline(\n",
    "    [\n",
    "        (\"tfidf\", TfidfVectorizer()),\n",
    "        (\"LR\", LogisticRegression(solver=\"sag\", C=15.775941134584459, max_iter=1800)),\n",
    "    ]\n",
    ")\n",
    "\n",
    "score_LG = cross_val_score(\n",
    "    pipe_lr, X_train, y_train, scoring=make_scorer(f1_score, average=\"binary\"), cv=3\n",
    ").mean()\n",
    "\n",
    "print(\"f1 - Градиентный бустинг классификации: \", score_LG)"
   ]
  },
  {
   "cell_type": "markdown",
   "metadata": {},
   "source": [
    "<u>|Градиентный бустинг классификации</u>"
   ]
  },
  {
   "cell_type": "markdown",
   "metadata": {},
   "source": [
    "Поиск гиперпараметров (optuna)."
   ]
  },
  {
   "cell_type": "code",
   "execution_count": 15,
   "metadata": {
    "scrolled": false
   },
   "outputs": [],
   "source": [
    "# %%time\n",
    "\n",
    "# def objective(trial):\n",
    "#     param = {\n",
    "#         \"learning_rate\": trial.suggest_float(\"learning_rate\", 0.01, 1),\n",
    "#         \"max_depth\": trial.suggest_int(\"max_depth\", 1, 9),\n",
    "#         \"min_samples_leaf\": trial.suggest_int(\"min_samples_leaf\", 3, 20),\n",
    "#         \"max_features\": trial.suggest_float(\"max_features\", 0.1, 1.0),\n",
    "#         \"n_estimators\": trial.suggest_int(\"n_estimators\", 1, 100),\n",
    "#     }\n",
    "\n",
    "#     model = Pipeline(\n",
    "#         [\n",
    "#             (\"tfidf\", TfidfVectorizer()),\n",
    "#             (\n",
    "#                 \"model\",\n",
    "#                 GradientBoostingClassifier(**param)\n",
    "#             ),\n",
    "#         ]\n",
    "#     )\n",
    "#     scores = cross_val_score(\n",
    "#         model,\n",
    "#         X_train,\n",
    "#         y_train,\n",
    "#         scoring='f1',\n",
    "#         cv=kfolds,\n",
    "#     ).mean()\n",
    "\n",
    "#     return scores\n",
    "\n",
    "\n",
    "# GBC_params = tune(objective)\n",
    "# GBC = GradientBoostingClassifier(**GBC_params, random_state=RANDOM_SEED)"
   ]
  },
  {
   "cell_type": "code",
   "execution_count": 16,
   "metadata": {},
   "outputs": [],
   "source": [
    "%%time\n",
    "\n",
    "pipe_lr = Pipeline(\n",
    "    [\n",
    "        (\"tfidf\", TfidfVectorizer()),\n",
    "        (\"model\", GradientBoostingClassifier(\n",
    "                learning_rate=0.2634035149091373,\n",
    "                max_depth=9,\n",
    "                min_samples_leaf=11,\n",
    "                max_features=0.9607692356561219,\n",
    "                n_estimators=72,\n",
    "            ),\n",
    "        ),\n",
    "    ]\n",
    ")\n",
    "\n",
    "score_GBC = cross_val_score(\n",
    "    pipe_lr, X_train, y_train, scoring=make_scorer(f1_score, average=\"binary\"), cv=3\n",
    ").mean()\n",
    "\n",
    "\n",
    "print(\"f1 - Градиентный бустинг классификации: \", score_GBC)"
   ]
  },
  {
   "cell_type": "markdown",
   "metadata": {},
   "source": [
    "<u>|KNN</u>"
   ]
  },
  {
   "cell_type": "code",
   "execution_count": 17,
   "metadata": {
    "scrolled": true
   },
   "outputs": [],
   "source": [
    "# %%time\n",
    "\n",
    "# def objective(trial):\n",
    "#     param = {\n",
    "#         \"n_neighbors\": trial.suggest_int(\"n_neighbors\", 1, 100),\n",
    "#         \"leaf_size\": trial.suggest_int(\"leaf_size\", 20, 40, 1),\n",
    "#     }\n",
    "\n",
    "#     model = Pipeline(\n",
    "#         [\n",
    "#             (\"tfidf\", TfidfVectorizer()),\n",
    "#             (\n",
    "#                 \"model\",\n",
    "#                 KNeighborsClassifier(**param),\n",
    "#             ),\n",
    "#         ]\n",
    "#     )\n",
    "\n",
    "#     scores = cross_val_score(\n",
    "#         model,\n",
    "#         X_train,\n",
    "#         y_train,\n",
    "#         scoring=\"f1\",\n",
    "#         cv=kfolds,\n",
    "#     ).mean()\n",
    "\n",
    "#     return scores\n",
    "\n",
    "\n",
    "# KNN_params = tune(objective)\n",
    "# KNN = KNeighborsClassifier(**KNN_params)"
   ]
  },
  {
   "cell_type": "code",
   "execution_count": 18,
   "metadata": {},
   "outputs": [],
   "source": [
    "%%time\n",
    "\n",
    "pipe_lr = Pipeline(\n",
    "    [\n",
    "        (\"tfidf\", TfidfVectorizer()),\n",
    "        (\n",
    "            \"model\",\n",
    "            KNeighborsClassifier(n_neighbors=99, leaf_size=40),\n",
    "        ),\n",
    "    ]\n",
    ")\n",
    "\n",
    "score_KNN = cross_val_score(\n",
    "    pipe_lr, X_train, y_train, scoring=make_scorer(f1_score, average=\"binary\"), cv=3\n",
    ").mean()\n",
    "\n",
    "\n",
    "print(\"f1 - KNN: \", score_KNN)"
   ]
  },
  {
   "cell_type": "markdown",
   "metadata": {},
   "source": [
    "**Логистическая регрессия**"
   ]
  },
  {
   "cell_type": "code",
   "execution_count": 19,
   "metadata": {},
   "outputs": [
    {
     "data": {},
     "execution_count": 19,
     "metadata": {},
     "output_type": "execute_result"
    }
   ],
   "source": [
    "%%time\n",
    "\n",
    "model_LR = LogisticRegression(solver=\"sag\", C=15.775941134584459, max_iter=1800)\n",
    "model_LR.fit(train_tfidf, y_train)\n",
    "predictions_LR = model_LR.predict(test_tfidf)\n",
    "Linear_F1 = f1_score(predictions_LR, y_test)\n",
    "Linear_F1"
   ]
  },
  {
   "cell_type": "code",
   "execution_count": 23,
   "metadata": {},
   "outputs": [
    {
     "data": {
      "image/png": "[encoded data removed]"
     },
     "metadata": {
      "needs_background": "light"
     },
     "output_type": "display_data"
    }
   ],
   "source": [
    "cf_plot(y_test, predictions_LR)"
   ]
  },
  {
   "cell_type": "markdown",
   "metadata": {},
   "source": [
    "**Градиентный бустинг классификации**"
   ]
  },
  {
   "cell_type": "code",
   "execution_count": 24,
   "metadata": {},
   "outputs": [
    {
     "data": {},
     "execution_count": 24,
     "metadata": {},
     "output_type": "execute_result"
    }
   ],
   "source": [
    "%%time\n",
    "\n",
    "GBC_model = GradientBoostingClassifier(\n",
    "    learning_rate=0.2634035149091373,\n",
    "    max_depth=9,\n",
    "    min_samples_leaf=11,\n",
    "    max_features=0.9607692356561219,\n",
    "    n_estimators=72,\n",
    ")\n",
    "GBC_model.fit(train_tfidf, y_train)\n",
    "predictions_GBC = GBC_model.predict(test_tfidf)\n",
    "GBC_F1 = f1_score(predictions_GBC, y_test)\n",
    "GBC_F1"
   ]
  },
  {
   "cell_type": "code",
   "execution_count": 25,
   "metadata": {},
   "outputs": [
    {
     "data": {
      "image/png": "[encoded data removed]"
     },
     "metadata": {
      "needs_background": "light"
     },
     "output_type": "display_data"
    }
   ],
   "source": [
    "cf_plot(y_test, predictions_GBC)"
   ]
  },
  {
   "cell_type": "markdown",
   "metadata": {},
   "source": [
    "**KNN**"
   ]
  },
  {
   "cell_type": "code",
   "execution_count": 26,
   "metadata": {},
   "outputs": [
    {
     "data": {},
     "execution_count": 26,
     "metadata": {},
     "output_type": "execute_result"
    }
   ],
   "source": [
    "%%time\n",
    "\n",
    "KNN_model = KNeighborsClassifier(n_neighbors=99, leaf_size=40)\n",
    "KNN_model.fit(train_tfidf, y_train)\n",
    "predictions_KNN = KNN_model.predict(test_tfidf)\n",
    "KNN_F1 = f1_score(predictions_KNN, y_test)\n",
    "KNN_F1"
   ]
  },
  {
   "cell_type": "code",
   "execution_count": 27,
   "metadata": {},
   "outputs": [
    {
     "data": {
      "image/png": "[encoded data removed]"
     },
     "metadata": {
      "needs_background": "light"
     },
     "output_type": "display_data"
    }
   ],
   "source": [
    "cf_plot(y_test, predictions_KNN)"
   ]
  },
  {
   "cell_type": "markdown",
   "metadata": {},
   "source": [
    "## <span style=\"color: crimson\">Этап 4</span>  Общий вывод"
   ]
  },
  {
   "cell_type": "markdown",
   "metadata": {},
   "source": [
    "### Анализ моделей:"
   ]
  },
  {
   "cell_type": "code",
   "execution_count": 28,
   "metadata": {},
   "outputs": [
    {
     "data": {},
     "execution_count": 28,
     "metadata": {},
     "output_type": "execute_result"
    }
   ],
   "source": [
    "pd.DataFrame(\n",
    "    [\n",
    "        [\n",
    "            \"Логистическая регрессия\",\n",
    "            Linear_F1,\n",
    "            \"3 sec\",\n",
    "            \"0\",\n",
    "        ],\n",
    "        [\n",
    "            \"Градиентный бустинг (GradientBoostingClassifier)\",\n",
    "            GBC_F1,\n",
    "            \"5 min\",\n",
    "            \"> 3h\",\n",
    "        ],\n",
    "        [\n",
    "            \"KNN\",\n",
    "            KNN_F1,\n",
    "            \"5 min\",\n",
    "            \"> 3h\",\n",
    "        ],\n",
    "    ],\n",
    "    columns=(\"Модель\", \"F1\", \"Время предсказание\", \"Время поиска гиперпараметров\"),\n",
    ")"
   ]
  },
  {
   "cell_type": "markdown",
   "metadata": {},
   "source": [
    "**Вывод:**  \n",
    "\n",
    "После шагов предобработки:\n",
    "* балансировка\n",
    "* токенизация\n",
    "* лемматизация\n",
    "* редактирование текста по шаблону\n",
    "* удаление стоп слов\n",
    "* векторизация\n",
    "\n",
    "Наилучшее качество метрики f1 = 0.77, получается при использовании логистической регрессии, со следующими параметрами solver=\"sag\", C=15, max_iter=1800. Однако, если важно получать наименьшее значение ложно-положительных результатов (False Positive), то лучше подойдет KNN, однако у него низкий уровень метрики f1 = 0.35"
   ]
  }
 ],
 "metadata": {
  "kernelspec": {
   "display_name": "Python 3",
   "language": "python",
   "name": "python3"
  },
  "language_info": {
   "codemirror_mode": {
    "name": "ipython",
    "version": 3
   },
   "file_extension": ".py",
   "mimetype": "text/x-python",
   "name": "python",
   "nbconvert_exporter": "python",
   "pygments_lexer": "ipython3",
   "version": "3.10.1"
  },
  "toc": {
   "base_numbering": 1,
   "nav_menu": {},
   "number_sections": true,
   "sideBar": true,
   "skip_h1_title": true,
   "title_cell": "Содержание",
   "title_sidebar": "Contents",
   "toc_cell": true,
   "toc_position": {
    "height": "calc(100% - 180px)",
    "left": "10px",
    "top": "150px",
    "width": "302.391px"
   },
   "toc_section_display": true,
   "toc_window_display": false
  }
 },
 "nbformat": 4,
 "nbformat_minor": 2
}
