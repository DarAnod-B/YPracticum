{
 "cells": [
  {
   "cell_type": "markdown",
   "metadata": {},
   "source": [
    "# <span style=\"color: crimson\">Исследование надёжности заёмщиков</span>\n",
    "\n",
    "---\n",
    "**<span style=\"color: crimson\">Заказчик</span>**: кредитный отдел банка.  \n",
    "**<span style=\"color: crimson\">Цель анализа</span>**: выявить факторы влияющие на факт погашения кредита в срок колонка  debt.   \n",
    "**<span style=\"color: crimson\">Датасет</span>**: входные данные от банка — статистика о платёжеспособности клиентов.\n",
    "\n",
    "---"
   ]
  },
  {
   "cell_type": "markdown",
   "metadata": {},
   "source": [
    "<b>Описание данных</b>\n",
    "\n",
    "* <span style=\"color: red\">children</span> — количество детей в семье \n",
    "* <span style=\"color: red\">days_employed</span> — общий трудовой стаж в днях\n",
    "* <span style=\"color: red\">dob_years</span> — возраст клиента в годах\n",
    "* <span style=\"color: red\">education</span> — уровень образования клиента\n",
    "* <span style=\"color: red\">education_id</span> — идентификатор уровня образования\n",
    "* <span style=\"color: red\">family_status</span> — семейное положение\n",
    "* <span style=\"color: red\">family_status_id</span> — идентификатор семейного положения\n",
    "* <span style=\"color: red\">gender</span> — пол клиента\n",
    "* <span style=\"color: red\">income_type</span> — тип занятости\n",
    "* <span style=\"color: red\">debt</span> — имел ли задолженность по возврату кредитов\n",
    "* <span style=\"color: red\">total_income</span> — ежемесячный доход\n",
    "* <span style=\"color: red\">purpose</span> — цель получения кредита"
   ]
  },
  {
   "cell_type": "markdown",
   "metadata": {},
   "source": [
    "## Импорт библиотек:"
   ]
  },
  {
   "cell_type": "code",
   "execution_count": 1,
   "metadata": {},
   "outputs": [
    {
     "name": "stdout",
     "output_type": "stream",
     "text": [
      "Requirement already satisfied: pandas in c:\\users\\владелец\\appdata\\local\\programs\\python\\python310\\lib\\site-packages (1.4.1)\n",
      "Requirement already satisfied: python-dateutil>=2.8.1 in c:\\users\\владелец\\appdata\\local\\programs\\python\\python310\\lib\\site-packages (from pandas) (2.8.2)\n",
      "Requirement already satisfied: numpy>=1.21.0 in c:\\users\\владелец\\appdata\\local\\programs\\python\\python310\\lib\\site-packages (from pandas) (1.22.3)\n",
      "Requirement already satisfied: pytz>=2020.1 in c:\\users\\владелец\\appdata\\local\\programs\\python\\python310\\lib\\site-packages (from pandas) (2021.3)\n",
      "Requirement already satisfied: six>=1.5 in c:\\users\\владелец\\appdata\\local\\programs\\python\\python310\\lib\\site-packages (from python-dateutil>=2.8.1->pandas) (1.16.0)\n",
      "Requirement already satisfied: nltk in c:\\users\\владелец\\appdata\\local\\programs\\python\\python310\\lib\\site-packages (3.7)\n",
      "Requirement already satisfied: regex>=2021.8.3 in c:\\users\\владелец\\appdata\\local\\programs\\python\\python310\\lib\\site-packages (from nltk) (2022.3.15)\n",
      "Requirement already satisfied: joblib in c:\\users\\владелец\\appdata\\local\\programs\\python\\python310\\lib\\site-packages (from nltk) (1.1.0)\n",
      "Requirement already satisfied: tqdm in c:\\users\\владелец\\appdata\\local\\programs\\python\\python310\\lib\\site-packages (from nltk) (4.62.3)\n",
      "Requirement already satisfied: click in c:\\users\\владелец\\appdata\\local\\programs\\python\\python310\\lib\\site-packages (from nltk) (8.0.3)\n",
      "Requirement already satisfied: colorama in c:\\users\\владелец\\appdata\\local\\programs\\python\\python310\\lib\\site-packages (from click->nltk) (0.4.4)\n",
      "Requirement already satisfied: spacy in c:\\users\\владелец\\appdata\\local\\programs\\python\\python310\\lib\\site-packages (3.1.5)\n",
      "Requirement already satisfied: pathy>=0.3.5 in c:\\users\\владелец\\appdata\\local\\programs\\python\\python310\\lib\\site-packages (from spacy) (0.6.1)\n",
      "Requirement already satisfied: setuptools in c:\\users\\владелец\\appdata\\local\\programs\\python\\python310\\lib\\site-packages (from spacy) (58.1.0)\n",
      "Requirement already satisfied: preshed<3.1.0,>=3.0.2 in c:\\users\\владелец\\appdata\\local\\programs\\python\\python310\\lib\\site-packages (from spacy) (3.0.6)\n",
      "Requirement already satisfied: packaging>=20.0 in c:\\users\\владелец\\appdata\\local\\programs\\python\\python310\\lib\\site-packages (from spacy) (21.3)\n",
      "Requirement already satisfied: typer<0.5.0,>=0.3.0 in c:\\users\\владелец\\appdata\\local\\programs\\python\\python310\\lib\\site-packages (from spacy) (0.4.0)\n",
      "Requirement already satisfied: cymem<2.1.0,>=2.0.2 in c:\\users\\владелец\\appdata\\local\\programs\\python\\python310\\lib\\site-packages (from spacy) (2.0.6)\n",
      "Requirement already satisfied: blis<0.8.0,>=0.4.0 in c:\\users\\владелец\\appdata\\local\\programs\\python\\python310\\lib\\site-packages (from spacy) (0.7.6)\n",
      "Requirement already satisfied: murmurhash<1.1.0,>=0.28.0 in c:\\users\\владелец\\appdata\\local\\programs\\python\\python310\\lib\\site-packages (from spacy) (1.0.6)\n",
      "Requirement already satisfied: requests<3.0.0,>=2.13.0 in c:\\users\\владелец\\appdata\\local\\programs\\python\\python310\\lib\\site-packages (from spacy) (2.26.0)\n",
      "Requirement already satisfied: srsly<3.0.0,>=2.4.1 in c:\\users\\владелец\\appdata\\local\\programs\\python\\python310\\lib\\site-packages (from spacy) (2.4.2)\n",
      "Requirement already satisfied: pydantic!=1.8,!=1.8.1,<1.9.0,>=1.7.4 in c:\\users\\владелец\\appdata\\local\\programs\\python\\python310\\lib\\site-packages (from spacy) (1.8.2)\n",
      "Requirement already satisfied: catalogue<2.1.0,>=2.0.6 in c:\\users\\владелец\\appdata\\local\\programs\\python\\python310\\lib\\site-packages (from spacy) (2.0.6)\n",
      "Requirement already satisfied: jinja2 in c:\\users\\владелец\\appdata\\local\\programs\\python\\python310\\lib\\site-packages (from spacy) (3.0.3)\n",
      "Requirement already satisfied: thinc<8.1.0,>=8.0.12 in c:\\users\\владелец\\appdata\\local\\programs\\python\\python310\\lib\\site-packages (from spacy) (8.0.15)\n",
      "Requirement already satisfied: numpy>=1.15.0 in c:\\users\\владелец\\appdata\\local\\programs\\python\\python310\\lib\\site-packages (from spacy) (1.22.3)\n",
      "Requirement already satisfied: wasabi<1.1.0,>=0.8.1 in c:\\users\\владелец\\appdata\\local\\programs\\python\\python310\\lib\\site-packages (from spacy) (0.9.0)\n",
      "Requirement already satisfied: tqdm<5.0.0,>=4.38.0 in c:\\users\\владелец\\appdata\\local\\programs\\python\\python310\\lib\\site-packages (from spacy) (4.62.3)\n",
      "Requirement already satisfied: spacy-legacy<3.1.0,>=3.0.8 in c:\\users\\владелец\\appdata\\local\\programs\\python\\python310\\lib\\site-packages (from spacy) (3.0.9)\n",
      "Requirement already satisfied: pyparsing!=3.0.5,>=2.0.2 in c:\\users\\владелец\\appdata\\local\\programs\\python\\python310\\lib\\site-packages (from packaging>=20.0->spacy) (3.0.7)\n",
      "Requirement already satisfied: smart-open<6.0.0,>=5.0.0 in c:\\users\\владелец\\appdata\\local\\programs\\python\\python310\\lib\\site-packages (from pathy>=0.3.5->spacy) (5.2.1)\n",
      "Requirement already satisfied: typing-extensions>=3.7.4.3 in c:\\users\\владелец\\appdata\\local\\programs\\python\\python310\\lib\\site-packages (from pydantic!=1.8,!=1.8.1,<1.9.0,>=1.7.4->spacy) (4.1.1)\n",
      "Requirement already satisfied: idna<4,>=2.5 in c:\\users\\владелец\\appdata\\local\\programs\\python\\python310\\lib\\site-packages (from requests<3.0.0,>=2.13.0->spacy) (3.3)\n",
      "Requirement already satisfied: urllib3<1.27,>=1.21.1 in c:\\users\\владелец\\appdata\\local\\programs\\python\\python310\\lib\\site-packages (from requests<3.0.0,>=2.13.0->spacy) (1.26.7)\n",
      "Requirement already satisfied: certifi>=2017.4.17 in c:\\users\\владелец\\appdata\\local\\programs\\python\\python310\\lib\\site-packages (from requests<3.0.0,>=2.13.0->spacy) (2021.10.8)\n",
      "Requirement already satisfied: charset-normalizer~=2.0.0 in c:\\users\\владелец\\appdata\\local\\programs\\python\\python310\\lib\\site-packages (from requests<3.0.0,>=2.13.0->spacy) (2.0.9)\n",
      "Requirement already satisfied: colorama in c:\\users\\владелец\\appdata\\local\\programs\\python\\python310\\lib\\site-packages (from tqdm<5.0.0,>=4.38.0->spacy) (0.4.4)\n",
      "Requirement already satisfied: click<9.0.0,>=7.1.1 in c:\\users\\владелец\\appdata\\local\\programs\\python\\python310\\lib\\site-packages (from typer<0.5.0,>=0.3.0->spacy) (8.0.3)\n",
      "Requirement already satisfied: MarkupSafe>=2.0 in c:\\users\\владелец\\appdata\\local\\programs\\python\\python310\\lib\\site-packages (from jinja2->spacy) (2.1.1)\n",
      "Collecting ru-core-news-md==3.1.0\n",
      "  Downloading https://github.com/explosion/spacy-models/releases/download/ru_core_news_md-3.1.0/ru_core_news_md-3.1.0-py3-none-any.whl (42.7 MB)\n",
      "     --------------------------------------- 42.7/42.7 MB 19.2 MB/s eta 0:00:00\n",
      "Requirement already satisfied: spacy<3.2.0,>=3.1.0 in c:\\users\\владелец\\appdata\\local\\programs\\python\\python310\\lib\\site-packages (from ru-core-news-md==3.1.0) (3.1.5)\n",
      "Requirement already satisfied: pymorphy2>=0.9 in c:\\users\\владелец\\appdata\\local\\programs\\python\\python310\\lib\\site-packages (from ru-core-news-md==3.1.0) (0.9.1)\n",
      "Requirement already satisfied: dawg-python>=0.7.1 in c:\\users\\владелец\\appdata\\local\\programs\\python\\python310\\lib\\site-packages (from pymorphy2>=0.9->ru-core-news-md==3.1.0) (0.7.2)\n",
      "Requirement already satisfied: docopt>=0.6 in c:\\users\\владелец\\appdata\\local\\programs\\python\\python310\\lib\\site-packages (from pymorphy2>=0.9->ru-core-news-md==3.1.0) (0.6.2)\n",
      "Requirement already satisfied: pymorphy2-dicts-ru<3.0,>=2.4 in c:\\users\\владелец\\appdata\\local\\programs\\python\\python310\\lib\\site-packages (from pymorphy2>=0.9->ru-core-news-md==3.1.0) (2.4.417127.4579844)\n",
      "Requirement already satisfied: pydantic!=1.8,!=1.8.1,<1.9.0,>=1.7.4 in c:\\users\\владелец\\appdata\\local\\programs\\python\\python310\\lib\\site-packages (from spacy<3.2.0,>=3.1.0->ru-core-news-md==3.1.0) (1.8.2)\n",
      "Requirement already satisfied: wasabi<1.1.0,>=0.8.1 in c:\\users\\владелец\\appdata\\local\\programs\\python\\python310\\lib\\site-packages (from spacy<3.2.0,>=3.1.0->ru-core-news-md==3.1.0) (0.9.0)\n",
      "Requirement already satisfied: numpy>=1.15.0 in c:\\users\\владелец\\appdata\\local\\programs\\python\\python310\\lib\\site-packages (from spacy<3.2.0,>=3.1.0->ru-core-news-md==3.1.0) (1.22.3)\n",
      "Requirement already satisfied: cymem<2.1.0,>=2.0.2 in c:\\users\\владелец\\appdata\\local\\programs\\python\\python310\\lib\\site-packages (from spacy<3.2.0,>=3.1.0->ru-core-news-md==3.1.0) (2.0.6)\n",
      "Requirement already satisfied: srsly<3.0.0,>=2.4.1 in c:\\users\\владелец\\appdata\\local\\programs\\python\\python310\\lib\\site-packages (from spacy<3.2.0,>=3.1.0->ru-core-news-md==3.1.0) (2.4.2)\n",
      "Requirement already satisfied: jinja2 in c:\\users\\владелец\\appdata\\local\\programs\\python\\python310\\lib\\site-packages (from spacy<3.2.0,>=3.1.0->ru-core-news-md==3.1.0) (3.0.3)\n",
      "Requirement already satisfied: requests<3.0.0,>=2.13.0 in c:\\users\\владелец\\appdata\\local\\programs\\python\\python310\\lib\\site-packages (from spacy<3.2.0,>=3.1.0->ru-core-news-md==3.1.0) (2.26.0)\n",
      "Requirement already satisfied: thinc<8.1.0,>=8.0.12 in c:\\users\\владелец\\appdata\\local\\programs\\python\\python310\\lib\\site-packages (from spacy<3.2.0,>=3.1.0->ru-core-news-md==3.1.0) (8.0.15)\n",
      "Requirement already satisfied: murmurhash<1.1.0,>=0.28.0 in c:\\users\\владелец\\appdata\\local\\programs\\python\\python310\\lib\\site-packages (from spacy<3.2.0,>=3.1.0->ru-core-news-md==3.1.0) (1.0.6)\n",
      "Requirement already satisfied: blis<0.8.0,>=0.4.0 in c:\\users\\владелец\\appdata\\local\\programs\\python\\python310\\lib\\site-packages (from spacy<3.2.0,>=3.1.0->ru-core-news-md==3.1.0) (0.7.6)\n",
      "Requirement already satisfied: pathy>=0.3.5 in c:\\users\\владелец\\appdata\\local\\programs\\python\\python310\\lib\\site-packages (from spacy<3.2.0,>=3.1.0->ru-core-news-md==3.1.0) (0.6.1)\n",
      "Requirement already satisfied: setuptools in c:\\users\\владелец\\appdata\\local\\programs\\python\\python310\\lib\\site-packages (from spacy<3.2.0,>=3.1.0->ru-core-news-md==3.1.0) (58.1.0)\n",
      "Requirement already satisfied: packaging>=20.0 in c:\\users\\владелец\\appdata\\local\\programs\\python\\python310\\lib\\site-packages (from spacy<3.2.0,>=3.1.0->ru-core-news-md==3.1.0) (21.3)\n",
      "Requirement already satisfied: preshed<3.1.0,>=3.0.2 in c:\\users\\владелец\\appdata\\local\\programs\\python\\python310\\lib\\site-packages (from spacy<3.2.0,>=3.1.0->ru-core-news-md==3.1.0) (3.0.6)\n",
      "Requirement already satisfied: spacy-legacy<3.1.0,>=3.0.8 in c:\\users\\владелец\\appdata\\local\\programs\\python\\python310\\lib\\site-packages (from spacy<3.2.0,>=3.1.0->ru-core-news-md==3.1.0) (3.0.9)\n",
      "Requirement already satisfied: catalogue<2.1.0,>=2.0.6 in c:\\users\\владелец\\appdata\\local\\programs\\python\\python310\\lib\\site-packages (from spacy<3.2.0,>=3.1.0->ru-core-news-md==3.1.0) (2.0.6)\n",
      "Requirement already satisfied: typer<0.5.0,>=0.3.0 in c:\\users\\владелец\\appdata\\local\\programs\\python\\python310\\lib\\site-packages (from spacy<3.2.0,>=3.1.0->ru-core-news-md==3.1.0) (0.4.0)\n",
      "Requirement already satisfied: tqdm<5.0.0,>=4.38.0 in c:\\users\\владелец\\appdata\\local\\programs\\python\\python310\\lib\\site-packages (from spacy<3.2.0,>=3.1.0->ru-core-news-md==3.1.0) (4.62.3)\n",
      "Requirement already satisfied: pyparsing!=3.0.5,>=2.0.2 in c:\\users\\владелец\\appdata\\local\\programs\\python\\python310\\lib\\site-packages (from packaging>=20.0->spacy<3.2.0,>=3.1.0->ru-core-news-md==3.1.0) (3.0.7)\n",
      "Requirement already satisfied: smart-open<6.0.0,>=5.0.0 in c:\\users\\владелец\\appdata\\local\\programs\\python\\python310\\lib\\site-packages (from pathy>=0.3.5->spacy<3.2.0,>=3.1.0->ru-core-news-md==3.1.0) (5.2.1)\n",
      "Requirement already satisfied: typing-extensions>=3.7.4.3 in c:\\users\\владелец\\appdata\\local\\programs\\python\\python310\\lib\\site-packages (from pydantic!=1.8,!=1.8.1,<1.9.0,>=1.7.4->spacy<3.2.0,>=3.1.0->ru-core-news-md==3.1.0) (4.1.1)\n",
      "Requirement already satisfied: certifi>=2017.4.17 in c:\\users\\владелец\\appdata\\local\\programs\\python\\python310\\lib\\site-packages (from requests<3.0.0,>=2.13.0->spacy<3.2.0,>=3.1.0->ru-core-news-md==3.1.0) (2021.10.8)\n",
      "Requirement already satisfied: urllib3<1.27,>=1.21.1 in c:\\users\\владелец\\appdata\\local\\programs\\python\\python310\\lib\\site-packages (from requests<3.0.0,>=2.13.0->spacy<3.2.0,>=3.1.0->ru-core-news-md==3.1.0) (1.26.7)\n",
      "Requirement already satisfied: charset-normalizer~=2.0.0 in c:\\users\\владелец\\appdata\\local\\programs\\python\\python310\\lib\\site-packages (from requests<3.0.0,>=2.13.0->spacy<3.2.0,>=3.1.0->ru-core-news-md==3.1.0) (2.0.9)\n",
      "Requirement already satisfied: idna<4,>=2.5 in c:\\users\\владелец\\appdata\\local\\programs\\python\\python310\\lib\\site-packages (from requests<3.0.0,>=2.13.0->spacy<3.2.0,>=3.1.0->ru-core-news-md==3.1.0) (3.3)\n",
      "Requirement already satisfied: colorama in c:\\users\\владелец\\appdata\\local\\programs\\python\\python310\\lib\\site-packages (from tqdm<5.0.0,>=4.38.0->spacy<3.2.0,>=3.1.0->ru-core-news-md==3.1.0) (0.4.4)\n",
      "Requirement already satisfied: click<9.0.0,>=7.1.1 in c:\\users\\владелец\\appdata\\local\\programs\\python\\python310\\lib\\site-packages (from typer<0.5.0,>=0.3.0->spacy<3.2.0,>=3.1.0->ru-core-news-md==3.1.0) (8.0.3)\n",
      "Requirement already satisfied: MarkupSafe>=2.0 in c:\\users\\владелец\\appdata\\local\\programs\\python\\python310\\lib\\site-packages (from jinja2->spacy<3.2.0,>=3.1.0->ru-core-news-md==3.1.0) (2.1.1)\n",
      "[+] Download and installation successful\n",
      "You can now load the package via spacy.load('ru_core_news_md')\n"
     ]
    }
   ],
   "source": [
    "!pip install pandas \n",
    "!pip install nltk\n",
    "!pip install spacy\n",
    "!python -m spacy download ru_core_news_md"
   ]
  },
  {
   "cell_type": "code",
   "execution_count": 2,
   "metadata": {},
   "outputs": [],
   "source": [
    "import pandas as pd\n",
    "import numpy as np\n",
    "from nltk.corpus import stopwords\n",
    "import re\n",
    "import spacy\n",
    "import ru_core_news_md"
   ]
  },
  {
   "cell_type": "markdown",
   "metadata": {},
   "source": [
    "<b>Импорт библиотек</b>"
   ]
  },
  {
   "cell_type": "markdown",
   "metadata": {},
   "source": [
    "## <span style=\"color: crimson\">Этап 1</span> Изучение данных"
   ]
  },
  {
   "cell_type": "code",
   "execution_count": 3,
   "metadata": {},
   "outputs": [],
   "source": [
    "df = pd.read_csv('./datasets/data.csv')"
   ]
  },
  {
   "cell_type": "code",
   "execution_count": 4,
   "metadata": {},
   "outputs": [
    {
     "data": {
      "text/html": [
       "<div>\n",
       "<style scoped>\n",
       "    .dataframe tbody tr th:only-of-type {\n",
       "        vertical-align: middle;\n",
       "    }\n",
       "\n",
       "    .dataframe tbody tr th {\n",
       "        vertical-align: top;\n",
       "    }\n",
       "\n",
       "    .dataframe thead th {\n",
       "        text-align: right;\n",
       "    }\n",
       "</style>\n",
       "<table border=\"1\" class=\"dataframe\">\n",
       "  <thead>\n",
       "    <tr style=\"text-align: right;\">\n",
       "      <th></th>\n",
       "      <th>children</th>\n",
       "      <th>days_employed</th>\n",
       "      <th>dob_years</th>\n",
       "      <th>education</th>\n",
       "      <th>education_id</th>\n",
       "      <th>family_status</th>\n",
       "      <th>family_status_id</th>\n",
       "      <th>gender</th>\n",
       "      <th>income_type</th>\n",
       "      <th>debt</th>\n",
       "      <th>total_income</th>\n",
       "      <th>purpose</th>\n",
       "    </tr>\n",
       "  </thead>\n",
       "  <tbody>\n",
       "    <tr>\n",
       "      <th>0</th>\n",
       "      <td>1</td>\n",
       "      <td>-8437.673028</td>\n",
       "      <td>42</td>\n",
       "      <td>высшее</td>\n",
       "      <td>0</td>\n",
       "      <td>женат / замужем</td>\n",
       "      <td>0</td>\n",
       "      <td>F</td>\n",
       "      <td>сотрудник</td>\n",
       "      <td>0</td>\n",
       "      <td>253875.639453</td>\n",
       "      <td>покупка жилья</td>\n",
       "    </tr>\n",
       "    <tr>\n",
       "      <th>1</th>\n",
       "      <td>1</td>\n",
       "      <td>-4024.803754</td>\n",
       "      <td>36</td>\n",
       "      <td>среднее</td>\n",
       "      <td>1</td>\n",
       "      <td>женат / замужем</td>\n",
       "      <td>0</td>\n",
       "      <td>F</td>\n",
       "      <td>сотрудник</td>\n",
       "      <td>0</td>\n",
       "      <td>112080.014102</td>\n",
       "      <td>приобретение автомобиля</td>\n",
       "    </tr>\n",
       "    <tr>\n",
       "      <th>2</th>\n",
       "      <td>0</td>\n",
       "      <td>-5623.422610</td>\n",
       "      <td>33</td>\n",
       "      <td>Среднее</td>\n",
       "      <td>1</td>\n",
       "      <td>женат / замужем</td>\n",
       "      <td>0</td>\n",
       "      <td>M</td>\n",
       "      <td>сотрудник</td>\n",
       "      <td>0</td>\n",
       "      <td>145885.952297</td>\n",
       "      <td>покупка жилья</td>\n",
       "    </tr>\n",
       "    <tr>\n",
       "      <th>3</th>\n",
       "      <td>3</td>\n",
       "      <td>-4124.747207</td>\n",
       "      <td>32</td>\n",
       "      <td>среднее</td>\n",
       "      <td>1</td>\n",
       "      <td>женат / замужем</td>\n",
       "      <td>0</td>\n",
       "      <td>M</td>\n",
       "      <td>сотрудник</td>\n",
       "      <td>0</td>\n",
       "      <td>267628.550329</td>\n",
       "      <td>дополнительное образование</td>\n",
       "    </tr>\n",
       "    <tr>\n",
       "      <th>4</th>\n",
       "      <td>0</td>\n",
       "      <td>340266.072047</td>\n",
       "      <td>53</td>\n",
       "      <td>среднее</td>\n",
       "      <td>1</td>\n",
       "      <td>гражданский брак</td>\n",
       "      <td>1</td>\n",
       "      <td>F</td>\n",
       "      <td>пенсионер</td>\n",
       "      <td>0</td>\n",
       "      <td>158616.077870</td>\n",
       "      <td>сыграть свадьбу</td>\n",
       "    </tr>\n",
       "  </tbody>\n",
       "</table>\n",
       "</div>"
      ],
      "text/plain": [
       "   children  days_employed  dob_years education  education_id  \\\n",
       "0         1   -8437.673028         42    высшее             0   \n",
       "1         1   -4024.803754         36   среднее             1   \n",
       "2         0   -5623.422610         33   Среднее             1   \n",
       "3         3   -4124.747207         32   среднее             1   \n",
       "4         0  340266.072047         53   среднее             1   \n",
       "\n",
       "      family_status  family_status_id gender income_type  debt   total_income  \\\n",
       "0   женат / замужем                 0      F   сотрудник     0  253875.639453   \n",
       "1   женат / замужем                 0      F   сотрудник     0  112080.014102   \n",
       "2   женат / замужем                 0      M   сотрудник     0  145885.952297   \n",
       "3   женат / замужем                 0      M   сотрудник     0  267628.550329   \n",
       "4  гражданский брак                 1      F   пенсионер     0  158616.077870   \n",
       "\n",
       "                      purpose  \n",
       "0               покупка жилья  \n",
       "1     приобретение автомобиля  \n",
       "2               покупка жилья  \n",
       "3  дополнительное образование  \n",
       "4             сыграть свадьбу  "
      ]
     },
     "execution_count": 4,
     "metadata": {},
     "output_type": "execute_result"
    }
   ],
   "source": [
    "df.head()"
   ]
  },
  {
   "cell_type": "code",
   "execution_count": 5,
   "metadata": {},
   "outputs": [
    {
     "data": {
      "text/html": [
       "<div>\n",
       "<style scoped>\n",
       "    .dataframe tbody tr th:only-of-type {\n",
       "        vertical-align: middle;\n",
       "    }\n",
       "\n",
       "    .dataframe tbody tr th {\n",
       "        vertical-align: top;\n",
       "    }\n",
       "\n",
       "    .dataframe thead th {\n",
       "        text-align: right;\n",
       "    }\n",
       "</style>\n",
       "<table border=\"1\" class=\"dataframe\">\n",
       "  <thead>\n",
       "    <tr style=\"text-align: right;\">\n",
       "      <th></th>\n",
       "      <th>children</th>\n",
       "      <th>days_employed</th>\n",
       "      <th>dob_years</th>\n",
       "      <th>education</th>\n",
       "      <th>education_id</th>\n",
       "      <th>family_status</th>\n",
       "      <th>family_status_id</th>\n",
       "      <th>gender</th>\n",
       "      <th>income_type</th>\n",
       "      <th>debt</th>\n",
       "      <th>total_income</th>\n",
       "      <th>purpose</th>\n",
       "    </tr>\n",
       "  </thead>\n",
       "  <tbody>\n",
       "    <tr>\n",
       "      <th>21520</th>\n",
       "      <td>1</td>\n",
       "      <td>-4529.316663</td>\n",
       "      <td>43</td>\n",
       "      <td>среднее</td>\n",
       "      <td>1</td>\n",
       "      <td>гражданский брак</td>\n",
       "      <td>1</td>\n",
       "      <td>F</td>\n",
       "      <td>компаньон</td>\n",
       "      <td>0</td>\n",
       "      <td>224791.862382</td>\n",
       "      <td>операции с жильем</td>\n",
       "    </tr>\n",
       "    <tr>\n",
       "      <th>21521</th>\n",
       "      <td>0</td>\n",
       "      <td>343937.404131</td>\n",
       "      <td>67</td>\n",
       "      <td>среднее</td>\n",
       "      <td>1</td>\n",
       "      <td>женат / замужем</td>\n",
       "      <td>0</td>\n",
       "      <td>F</td>\n",
       "      <td>пенсионер</td>\n",
       "      <td>0</td>\n",
       "      <td>155999.806512</td>\n",
       "      <td>сделка с автомобилем</td>\n",
       "    </tr>\n",
       "    <tr>\n",
       "      <th>21522</th>\n",
       "      <td>1</td>\n",
       "      <td>-2113.346888</td>\n",
       "      <td>38</td>\n",
       "      <td>среднее</td>\n",
       "      <td>1</td>\n",
       "      <td>гражданский брак</td>\n",
       "      <td>1</td>\n",
       "      <td>M</td>\n",
       "      <td>сотрудник</td>\n",
       "      <td>1</td>\n",
       "      <td>89672.561153</td>\n",
       "      <td>недвижимость</td>\n",
       "    </tr>\n",
       "    <tr>\n",
       "      <th>21523</th>\n",
       "      <td>3</td>\n",
       "      <td>-3112.481705</td>\n",
       "      <td>38</td>\n",
       "      <td>среднее</td>\n",
       "      <td>1</td>\n",
       "      <td>женат / замужем</td>\n",
       "      <td>0</td>\n",
       "      <td>M</td>\n",
       "      <td>сотрудник</td>\n",
       "      <td>1</td>\n",
       "      <td>244093.050500</td>\n",
       "      <td>на покупку своего автомобиля</td>\n",
       "    </tr>\n",
       "    <tr>\n",
       "      <th>21524</th>\n",
       "      <td>2</td>\n",
       "      <td>-1984.507589</td>\n",
       "      <td>40</td>\n",
       "      <td>среднее</td>\n",
       "      <td>1</td>\n",
       "      <td>женат / замужем</td>\n",
       "      <td>0</td>\n",
       "      <td>F</td>\n",
       "      <td>сотрудник</td>\n",
       "      <td>0</td>\n",
       "      <td>82047.418899</td>\n",
       "      <td>на покупку автомобиля</td>\n",
       "    </tr>\n",
       "  </tbody>\n",
       "</table>\n",
       "</div>"
      ],
      "text/plain": [
       "       children  days_employed  dob_years education  education_id  \\\n",
       "21520         1   -4529.316663         43   среднее             1   \n",
       "21521         0  343937.404131         67   среднее             1   \n",
       "21522         1   -2113.346888         38   среднее             1   \n",
       "21523         3   -3112.481705         38   среднее             1   \n",
       "21524         2   -1984.507589         40   среднее             1   \n",
       "\n",
       "          family_status  family_status_id gender income_type  debt  \\\n",
       "21520  гражданский брак                 1      F   компаньон     0   \n",
       "21521   женат / замужем                 0      F   пенсионер     0   \n",
       "21522  гражданский брак                 1      M   сотрудник     1   \n",
       "21523   женат / замужем                 0      M   сотрудник     1   \n",
       "21524   женат / замужем                 0      F   сотрудник     0   \n",
       "\n",
       "        total_income                       purpose  \n",
       "21520  224791.862382             операции с жильем  \n",
       "21521  155999.806512          сделка с автомобилем  \n",
       "21522   89672.561153                  недвижимость  \n",
       "21523  244093.050500  на покупку своего автомобиля  \n",
       "21524   82047.418899         на покупку автомобиля  "
      ]
     },
     "execution_count": 5,
     "metadata": {},
     "output_type": "execute_result"
    }
   ],
   "source": [
    "df.tail()"
   ]
  },
  {
   "cell_type": "code",
   "execution_count": 6,
   "metadata": {},
   "outputs": [
    {
     "name": "stdout",
     "output_type": "stream",
     "text": [
      "<class 'pandas.core.frame.DataFrame'>\n",
      "RangeIndex: 21525 entries, 0 to 21524\n",
      "Data columns (total 12 columns):\n",
      " #   Column            Non-Null Count  Dtype  \n",
      "---  ------            --------------  -----  \n",
      " 0   children          21525 non-null  int64  \n",
      " 1   days_employed     19351 non-null  float64\n",
      " 2   dob_years         21525 non-null  int64  \n",
      " 3   education         21525 non-null  object \n",
      " 4   education_id      21525 non-null  int64  \n",
      " 5   family_status     21525 non-null  object \n",
      " 6   family_status_id  21525 non-null  int64  \n",
      " 7   gender            21525 non-null  object \n",
      " 8   income_type       21525 non-null  object \n",
      " 9   debt              21525 non-null  int64  \n",
      " 10  total_income      19351 non-null  float64\n",
      " 11  purpose           21525 non-null  object \n",
      "dtypes: float64(2), int64(5), object(5)\n",
      "memory usage: 2.0+ MB\n"
     ]
    }
   ],
   "source": [
    "df.info()"
   ]
  },
  {
   "cell_type": "markdown",
   "metadata": {},
   "source": [
    "<span style=\"color: crimson\"><b>Аномалии:</b></span>\n",
    "\n",
    "Пропуски в столбцах  <span style=\"color: crimson\"><b>days_employed, days_employed, total_income</b></span>:      "
   ]
  },
  {
   "cell_type": "code",
   "execution_count": 7,
   "metadata": {},
   "outputs": [
    {
     "data": {
      "text/html": [
       "<div>\n",
       "<style scoped>\n",
       "    .dataframe tbody tr th:only-of-type {\n",
       "        vertical-align: middle;\n",
       "    }\n",
       "\n",
       "    .dataframe tbody tr th {\n",
       "        vertical-align: top;\n",
       "    }\n",
       "\n",
       "    .dataframe thead th {\n",
       "        text-align: right;\n",
       "    }\n",
       "</style>\n",
       "<table border=\"1\" class=\"dataframe\">\n",
       "  <thead>\n",
       "    <tr style=\"text-align: right;\">\n",
       "      <th></th>\n",
       "      <th>children</th>\n",
       "      <th>days_employed</th>\n",
       "      <th>dob_years</th>\n",
       "      <th>education_id</th>\n",
       "      <th>family_status_id</th>\n",
       "      <th>debt</th>\n",
       "      <th>total_income</th>\n",
       "    </tr>\n",
       "  </thead>\n",
       "  <tbody>\n",
       "    <tr>\n",
       "      <th>count</th>\n",
       "      <td>21525.000000</td>\n",
       "      <td>19351.000000</td>\n",
       "      <td>21525.000000</td>\n",
       "      <td>21525.000000</td>\n",
       "      <td>21525.000000</td>\n",
       "      <td>21525.000000</td>\n",
       "      <td>1.935100e+04</td>\n",
       "    </tr>\n",
       "    <tr>\n",
       "      <th>mean</th>\n",
       "      <td>0.538908</td>\n",
       "      <td>63046.497661</td>\n",
       "      <td>43.293380</td>\n",
       "      <td>0.817236</td>\n",
       "      <td>0.972544</td>\n",
       "      <td>0.080883</td>\n",
       "      <td>1.674223e+05</td>\n",
       "    </tr>\n",
       "    <tr>\n",
       "      <th>std</th>\n",
       "      <td>1.381587</td>\n",
       "      <td>140827.311974</td>\n",
       "      <td>12.574584</td>\n",
       "      <td>0.548138</td>\n",
       "      <td>1.420324</td>\n",
       "      <td>0.272661</td>\n",
       "      <td>1.029716e+05</td>\n",
       "    </tr>\n",
       "    <tr>\n",
       "      <th>min</th>\n",
       "      <td>-1.000000</td>\n",
       "      <td>-18388.949901</td>\n",
       "      <td>0.000000</td>\n",
       "      <td>0.000000</td>\n",
       "      <td>0.000000</td>\n",
       "      <td>0.000000</td>\n",
       "      <td>2.066726e+04</td>\n",
       "    </tr>\n",
       "    <tr>\n",
       "      <th>25%</th>\n",
       "      <td>0.000000</td>\n",
       "      <td>-2747.423625</td>\n",
       "      <td>33.000000</td>\n",
       "      <td>1.000000</td>\n",
       "      <td>0.000000</td>\n",
       "      <td>0.000000</td>\n",
       "      <td>1.030532e+05</td>\n",
       "    </tr>\n",
       "    <tr>\n",
       "      <th>50%</th>\n",
       "      <td>0.000000</td>\n",
       "      <td>-1203.369529</td>\n",
       "      <td>42.000000</td>\n",
       "      <td>1.000000</td>\n",
       "      <td>0.000000</td>\n",
       "      <td>0.000000</td>\n",
       "      <td>1.450179e+05</td>\n",
       "    </tr>\n",
       "    <tr>\n",
       "      <th>75%</th>\n",
       "      <td>1.000000</td>\n",
       "      <td>-291.095954</td>\n",
       "      <td>53.000000</td>\n",
       "      <td>1.000000</td>\n",
       "      <td>1.000000</td>\n",
       "      <td>0.000000</td>\n",
       "      <td>2.034351e+05</td>\n",
       "    </tr>\n",
       "    <tr>\n",
       "      <th>max</th>\n",
       "      <td>20.000000</td>\n",
       "      <td>401755.400475</td>\n",
       "      <td>75.000000</td>\n",
       "      <td>4.000000</td>\n",
       "      <td>4.000000</td>\n",
       "      <td>1.000000</td>\n",
       "      <td>2.265604e+06</td>\n",
       "    </tr>\n",
       "  </tbody>\n",
       "</table>\n",
       "</div>"
      ],
      "text/plain": [
       "           children  days_employed     dob_years  education_id  \\\n",
       "count  21525.000000   19351.000000  21525.000000  21525.000000   \n",
       "mean       0.538908   63046.497661     43.293380      0.817236   \n",
       "std        1.381587  140827.311974     12.574584      0.548138   \n",
       "min       -1.000000  -18388.949901      0.000000      0.000000   \n",
       "25%        0.000000   -2747.423625     33.000000      1.000000   \n",
       "50%        0.000000   -1203.369529     42.000000      1.000000   \n",
       "75%        1.000000    -291.095954     53.000000      1.000000   \n",
       "max       20.000000  401755.400475     75.000000      4.000000   \n",
       "\n",
       "       family_status_id          debt  total_income  \n",
       "count      21525.000000  21525.000000  1.935100e+04  \n",
       "mean           0.972544      0.080883  1.674223e+05  \n",
       "std            1.420324      0.272661  1.029716e+05  \n",
       "min            0.000000      0.000000  2.066726e+04  \n",
       "25%            0.000000      0.000000  1.030532e+05  \n",
       "50%            0.000000      0.000000  1.450179e+05  \n",
       "75%            1.000000      0.000000  2.034351e+05  \n",
       "max            4.000000      1.000000  2.265604e+06  "
      ]
     },
     "execution_count": 7,
     "metadata": {},
     "output_type": "execute_result"
    }
   ],
   "source": [
    "df.describe()"
   ]
  },
  {
   "cell_type": "markdown",
   "metadata": {},
   "source": [
    "<span style=\"color: crimson\"><b>Аномалии:</b></span>\n",
    "\n",
    "* В столбце <span style=\"color: crimson\"><b>days_employed</b></span> отрицательные значения.\n",
    "* В столбце <span style=\"color: crimson\"><b>children</b></span> минимальное значение равно -1, максимальное значение равно 20.\n",
    "* В столбце <span style=\"color: crimson\"><b>total_income</b></span> десятичные дроби.\n",
    "* В столбце <span style=\"color: crimson\"><b>dob_years</b></span> минимальное значение равно 0."
   ]
  },
  {
   "cell_type": "markdown",
   "metadata": {},
   "source": [
    "**Взглянем на количество дубликатов по каждому объекту**.\n",
    "\n",
    "Вдруг в одной из числовых столбцов попадется повторяющееся значение, тогда простым value_counts из за большого числа уникальных объектов, мы можем этого не заметить."
   ]
  },
  {
   "cell_type": "code",
   "execution_count": 8,
   "metadata": {},
   "outputs": [
    {
     "data": {
      "text/html": [
       "<div>\n",
       "<style scoped>\n",
       "    .dataframe tbody tr th:only-of-type {\n",
       "        vertical-align: middle;\n",
       "    }\n",
       "\n",
       "    .dataframe tbody tr th {\n",
       "        vertical-align: top;\n",
       "    }\n",
       "\n",
       "    .dataframe thead th {\n",
       "        text-align: right;\n",
       "    }\n",
       "</style>\n",
       "<table border=\"1\" class=\"dataframe\">\n",
       "  <thead>\n",
       "    <tr style=\"text-align: right;\">\n",
       "      <th></th>\n",
       "      <th>children</th>\n",
       "    </tr>\n",
       "  </thead>\n",
       "  <tbody>\n",
       "    <tr>\n",
       "      <th>0</th>\n",
       "      <td>14148</td>\n",
       "    </tr>\n",
       "    <tr>\n",
       "      <th>1</th>\n",
       "      <td>4817</td>\n",
       "    </tr>\n",
       "    <tr>\n",
       "      <th>2</th>\n",
       "      <td>2054</td>\n",
       "    </tr>\n",
       "    <tr>\n",
       "      <th>3</th>\n",
       "      <td>329</td>\n",
       "    </tr>\n",
       "    <tr>\n",
       "      <th>20</th>\n",
       "      <td>75</td>\n",
       "    </tr>\n",
       "    <tr>\n",
       "      <th>-1</th>\n",
       "      <td>46</td>\n",
       "    </tr>\n",
       "    <tr>\n",
       "      <th>4</th>\n",
       "      <td>40</td>\n",
       "    </tr>\n",
       "    <tr>\n",
       "      <th>5</th>\n",
       "      <td>8</td>\n",
       "    </tr>\n",
       "  </tbody>\n",
       "</table>\n",
       "</div>"
      ],
      "text/plain": [
       "     children\n",
       " 0      14148\n",
       " 1       4817\n",
       " 2       2054\n",
       " 3        329\n",
       " 20        75\n",
       "-1         46\n",
       " 4         40\n",
       " 5          8"
      ]
     },
     "metadata": {},
     "output_type": "display_data"
    },
    {
     "name": "stdout",
     "output_type": "stream",
     "text": [
      "--------------"
     ]
    },
    {
     "data": {
      "text/html": [
       "<div>\n",
       "<style scoped>\n",
       "    .dataframe tbody tr th:only-of-type {\n",
       "        vertical-align: middle;\n",
       "    }\n",
       "\n",
       "    .dataframe tbody tr th {\n",
       "        vertical-align: top;\n",
       "    }\n",
       "\n",
       "    .dataframe thead th {\n",
       "        text-align: right;\n",
       "    }\n",
       "</style>\n",
       "<table border=\"1\" class=\"dataframe\">\n",
       "  <thead>\n",
       "    <tr style=\"text-align: right;\">\n",
       "      <th></th>\n",
       "      <th>days_employed</th>\n",
       "    </tr>\n",
       "  </thead>\n",
       "  <tbody>\n",
       "    <tr>\n",
       "      <th>NaN</th>\n",
       "      <td>2173</td>\n",
       "    </tr>\n",
       "  </tbody>\n",
       "</table>\n",
       "</div>"
      ],
      "text/plain": [
       "     days_employed\n",
       "NaN           2173"
      ]
     },
     "metadata": {},
     "output_type": "display_data"
    },
    {
     "name": "stdout",
     "output_type": "stream",
     "text": [
      "--------------"
     ]
    },
    {
     "data": {
      "text/html": [
       "<div>\n",
       "<style scoped>\n",
       "    .dataframe tbody tr th:only-of-type {\n",
       "        vertical-align: middle;\n",
       "    }\n",
       "\n",
       "    .dataframe tbody tr th {\n",
       "        vertical-align: top;\n",
       "    }\n",
       "\n",
       "    .dataframe thead th {\n",
       "        text-align: right;\n",
       "    }\n",
       "</style>\n",
       "<table border=\"1\" class=\"dataframe\">\n",
       "  <thead>\n",
       "    <tr style=\"text-align: right;\">\n",
       "      <th></th>\n",
       "      <th>dob_years</th>\n",
       "    </tr>\n",
       "  </thead>\n",
       "  <tbody>\n",
       "    <tr>\n",
       "      <th>35</th>\n",
       "      <td>616</td>\n",
       "    </tr>\n",
       "    <tr>\n",
       "      <th>40</th>\n",
       "      <td>608</td>\n",
       "    </tr>\n",
       "    <tr>\n",
       "      <th>41</th>\n",
       "      <td>606</td>\n",
       "    </tr>\n",
       "    <tr>\n",
       "      <th>34</th>\n",
       "      <td>602</td>\n",
       "    </tr>\n",
       "    <tr>\n",
       "      <th>38</th>\n",
       "      <td>597</td>\n",
       "    </tr>\n",
       "    <tr>\n",
       "      <th>42</th>\n",
       "      <td>596</td>\n",
       "    </tr>\n",
       "    <tr>\n",
       "      <th>33</th>\n",
       "      <td>580</td>\n",
       "    </tr>\n",
       "    <tr>\n",
       "      <th>39</th>\n",
       "      <td>572</td>\n",
       "    </tr>\n",
       "    <tr>\n",
       "      <th>31</th>\n",
       "      <td>559</td>\n",
       "    </tr>\n",
       "    <tr>\n",
       "      <th>36</th>\n",
       "      <td>554</td>\n",
       "    </tr>\n",
       "    <tr>\n",
       "      <th>44</th>\n",
       "      <td>546</td>\n",
       "    </tr>\n",
       "    <tr>\n",
       "      <th>29</th>\n",
       "      <td>544</td>\n",
       "    </tr>\n",
       "    <tr>\n",
       "      <th>30</th>\n",
       "      <td>539</td>\n",
       "    </tr>\n",
       "    <tr>\n",
       "      <th>48</th>\n",
       "      <td>537</td>\n",
       "    </tr>\n",
       "    <tr>\n",
       "      <th>37</th>\n",
       "      <td>536</td>\n",
       "    </tr>\n",
       "    <tr>\n",
       "      <th>50</th>\n",
       "      <td>513</td>\n",
       "    </tr>\n",
       "    <tr>\n",
       "      <th>43</th>\n",
       "      <td>512</td>\n",
       "    </tr>\n",
       "    <tr>\n",
       "      <th>32</th>\n",
       "      <td>509</td>\n",
       "    </tr>\n",
       "    <tr>\n",
       "      <th>49</th>\n",
       "      <td>507</td>\n",
       "    </tr>\n",
       "    <tr>\n",
       "      <th>28</th>\n",
       "      <td>502</td>\n",
       "    </tr>\n",
       "    <tr>\n",
       "      <th>45</th>\n",
       "      <td>496</td>\n",
       "    </tr>\n",
       "    <tr>\n",
       "      <th>27</th>\n",
       "      <td>492</td>\n",
       "    </tr>\n",
       "    <tr>\n",
       "      <th>56</th>\n",
       "      <td>486</td>\n",
       "    </tr>\n",
       "    <tr>\n",
       "      <th>52</th>\n",
       "      <td>483</td>\n",
       "    </tr>\n",
       "    <tr>\n",
       "      <th>47</th>\n",
       "      <td>479</td>\n",
       "    </tr>\n",
       "    <tr>\n",
       "      <th>54</th>\n",
       "      <td>478</td>\n",
       "    </tr>\n",
       "    <tr>\n",
       "      <th>46</th>\n",
       "      <td>474</td>\n",
       "    </tr>\n",
       "    <tr>\n",
       "      <th>58</th>\n",
       "      <td>460</td>\n",
       "    </tr>\n",
       "    <tr>\n",
       "      <th>57</th>\n",
       "      <td>459</td>\n",
       "    </tr>\n",
       "    <tr>\n",
       "      <th>53</th>\n",
       "      <td>458</td>\n",
       "    </tr>\n",
       "    <tr>\n",
       "      <th>51</th>\n",
       "      <td>447</td>\n",
       "    </tr>\n",
       "    <tr>\n",
       "      <th>59</th>\n",
       "      <td>443</td>\n",
       "    </tr>\n",
       "    <tr>\n",
       "      <th>55</th>\n",
       "      <td>442</td>\n",
       "    </tr>\n",
       "    <tr>\n",
       "      <th>26</th>\n",
       "      <td>407</td>\n",
       "    </tr>\n",
       "    <tr>\n",
       "      <th>60</th>\n",
       "      <td>376</td>\n",
       "    </tr>\n",
       "    <tr>\n",
       "      <th>25</th>\n",
       "      <td>356</td>\n",
       "    </tr>\n",
       "    <tr>\n",
       "      <th>61</th>\n",
       "      <td>354</td>\n",
       "    </tr>\n",
       "    <tr>\n",
       "      <th>62</th>\n",
       "      <td>351</td>\n",
       "    </tr>\n",
       "    <tr>\n",
       "      <th>63</th>\n",
       "      <td>268</td>\n",
       "    </tr>\n",
       "    <tr>\n",
       "      <th>64</th>\n",
       "      <td>264</td>\n",
       "    </tr>\n",
       "    <tr>\n",
       "      <th>24</th>\n",
       "      <td>263</td>\n",
       "    </tr>\n",
       "    <tr>\n",
       "      <th>23</th>\n",
       "      <td>253</td>\n",
       "    </tr>\n",
       "    <tr>\n",
       "      <th>65</th>\n",
       "      <td>193</td>\n",
       "    </tr>\n",
       "    <tr>\n",
       "      <th>22</th>\n",
       "      <td>182</td>\n",
       "    </tr>\n",
       "    <tr>\n",
       "      <th>66</th>\n",
       "      <td>182</td>\n",
       "    </tr>\n",
       "    <tr>\n",
       "      <th>67</th>\n",
       "      <td>166</td>\n",
       "    </tr>\n",
       "    <tr>\n",
       "      <th>21</th>\n",
       "      <td>110</td>\n",
       "    </tr>\n",
       "    <tr>\n",
       "      <th>0</th>\n",
       "      <td>100</td>\n",
       "    </tr>\n",
       "    <tr>\n",
       "      <th>68</th>\n",
       "      <td>98</td>\n",
       "    </tr>\n",
       "    <tr>\n",
       "      <th>69</th>\n",
       "      <td>84</td>\n",
       "    </tr>\n",
       "    <tr>\n",
       "      <th>70</th>\n",
       "      <td>64</td>\n",
       "    </tr>\n",
       "    <tr>\n",
       "      <th>71</th>\n",
       "      <td>57</td>\n",
       "    </tr>\n",
       "    <tr>\n",
       "      <th>20</th>\n",
       "      <td>50</td>\n",
       "    </tr>\n",
       "    <tr>\n",
       "      <th>72</th>\n",
       "      <td>32</td>\n",
       "    </tr>\n",
       "    <tr>\n",
       "      <th>19</th>\n",
       "      <td>13</td>\n",
       "    </tr>\n",
       "    <tr>\n",
       "      <th>73</th>\n",
       "      <td>7</td>\n",
       "    </tr>\n",
       "    <tr>\n",
       "      <th>74</th>\n",
       "      <td>5</td>\n",
       "    </tr>\n",
       "  </tbody>\n",
       "</table>\n",
       "</div>"
      ],
      "text/plain": [
       "    dob_years\n",
       "35        616\n",
       "40        608\n",
       "41        606\n",
       "34        602\n",
       "38        597\n",
       "42        596\n",
       "33        580\n",
       "39        572\n",
       "31        559\n",
       "36        554\n",
       "44        546\n",
       "29        544\n",
       "30        539\n",
       "48        537\n",
       "37        536\n",
       "50        513\n",
       "43        512\n",
       "32        509\n",
       "49        507\n",
       "28        502\n",
       "45        496\n",
       "27        492\n",
       "56        486\n",
       "52        483\n",
       "47        479\n",
       "54        478\n",
       "46        474\n",
       "58        460\n",
       "57        459\n",
       "53        458\n",
       "51        447\n",
       "59        443\n",
       "55        442\n",
       "26        407\n",
       "60        376\n",
       "25        356\n",
       "61        354\n",
       "62        351\n",
       "63        268\n",
       "64        264\n",
       "24        263\n",
       "23        253\n",
       "65        193\n",
       "22        182\n",
       "66        182\n",
       "67        166\n",
       "21        110\n",
       "0         100\n",
       "68         98\n",
       "69         84\n",
       "70         64\n",
       "71         57\n",
       "20         50\n",
       "72         32\n",
       "19         13\n",
       "73          7\n",
       "74          5"
      ]
     },
     "metadata": {},
     "output_type": "display_data"
    },
    {
     "name": "stdout",
     "output_type": "stream",
     "text": [
      "--------------"
     ]
    },
    {
     "data": {
      "text/html": [
       "<div>\n",
       "<style scoped>\n",
       "    .dataframe tbody tr th:only-of-type {\n",
       "        vertical-align: middle;\n",
       "    }\n",
       "\n",
       "    .dataframe tbody tr th {\n",
       "        vertical-align: top;\n",
       "    }\n",
       "\n",
       "    .dataframe thead th {\n",
       "        text-align: right;\n",
       "    }\n",
       "</style>\n",
       "<table border=\"1\" class=\"dataframe\">\n",
       "  <thead>\n",
       "    <tr style=\"text-align: right;\">\n",
       "      <th></th>\n",
       "      <th>education</th>\n",
       "    </tr>\n",
       "  </thead>\n",
       "  <tbody>\n",
       "    <tr>\n",
       "      <th>среднее</th>\n",
       "      <td>13749</td>\n",
       "    </tr>\n",
       "    <tr>\n",
       "      <th>высшее</th>\n",
       "      <td>4717</td>\n",
       "    </tr>\n",
       "    <tr>\n",
       "      <th>СРЕДНЕЕ</th>\n",
       "      <td>771</td>\n",
       "    </tr>\n",
       "    <tr>\n",
       "      <th>Среднее</th>\n",
       "      <td>710</td>\n",
       "    </tr>\n",
       "    <tr>\n",
       "      <th>неоконченное высшее</th>\n",
       "      <td>667</td>\n",
       "    </tr>\n",
       "    <tr>\n",
       "      <th>ВЫСШЕЕ</th>\n",
       "      <td>273</td>\n",
       "    </tr>\n",
       "    <tr>\n",
       "      <th>Высшее</th>\n",
       "      <td>267</td>\n",
       "    </tr>\n",
       "    <tr>\n",
       "      <th>начальное</th>\n",
       "      <td>249</td>\n",
       "    </tr>\n",
       "    <tr>\n",
       "      <th>Неоконченное высшее</th>\n",
       "      <td>46</td>\n",
       "    </tr>\n",
       "    <tr>\n",
       "      <th>НЕОКОНЧЕННОЕ ВЫСШЕЕ</th>\n",
       "      <td>28</td>\n",
       "    </tr>\n",
       "    <tr>\n",
       "      <th>НАЧАЛЬНОЕ</th>\n",
       "      <td>16</td>\n",
       "    </tr>\n",
       "    <tr>\n",
       "      <th>Начальное</th>\n",
       "      <td>14</td>\n",
       "    </tr>\n",
       "    <tr>\n",
       "      <th>ученая степень</th>\n",
       "      <td>3</td>\n",
       "    </tr>\n",
       "  </tbody>\n",
       "</table>\n",
       "</div>"
      ],
      "text/plain": [
       "                     education\n",
       "среднее                  13749\n",
       "высшее                    4717\n",
       "СРЕДНЕЕ                    771\n",
       "Среднее                    710\n",
       "неоконченное высшее        667\n",
       "ВЫСШЕЕ                     273\n",
       "Высшее                     267\n",
       "начальное                  249\n",
       "Неоконченное высшее         46\n",
       "НЕОКОНЧЕННОЕ ВЫСШЕЕ         28\n",
       "НАЧАЛЬНОЕ                   16\n",
       "Начальное                   14\n",
       "ученая степень               3"
      ]
     },
     "metadata": {},
     "output_type": "display_data"
    },
    {
     "name": "stdout",
     "output_type": "stream",
     "text": [
      "--------------"
     ]
    },
    {
     "data": {
      "text/html": [
       "<div>\n",
       "<style scoped>\n",
       "    .dataframe tbody tr th:only-of-type {\n",
       "        vertical-align: middle;\n",
       "    }\n",
       "\n",
       "    .dataframe tbody tr th {\n",
       "        vertical-align: top;\n",
       "    }\n",
       "\n",
       "    .dataframe thead th {\n",
       "        text-align: right;\n",
       "    }\n",
       "</style>\n",
       "<table border=\"1\" class=\"dataframe\">\n",
       "  <thead>\n",
       "    <tr style=\"text-align: right;\">\n",
       "      <th></th>\n",
       "      <th>education_id</th>\n",
       "    </tr>\n",
       "  </thead>\n",
       "  <tbody>\n",
       "    <tr>\n",
       "      <th>1</th>\n",
       "      <td>15232</td>\n",
       "    </tr>\n",
       "    <tr>\n",
       "      <th>0</th>\n",
       "      <td>5259</td>\n",
       "    </tr>\n",
       "    <tr>\n",
       "      <th>2</th>\n",
       "      <td>743</td>\n",
       "    </tr>\n",
       "    <tr>\n",
       "      <th>3</th>\n",
       "      <td>281</td>\n",
       "    </tr>\n",
       "    <tr>\n",
       "      <th>4</th>\n",
       "      <td>5</td>\n",
       "    </tr>\n",
       "  </tbody>\n",
       "</table>\n",
       "</div>"
      ],
      "text/plain": [
       "   education_id\n",
       "1         15232\n",
       "0          5259\n",
       "2           743\n",
       "3           281\n",
       "4             5"
      ]
     },
     "metadata": {},
     "output_type": "display_data"
    },
    {
     "name": "stdout",
     "output_type": "stream",
     "text": [
      "--------------"
     ]
    },
    {
     "data": {
      "text/html": [
       "<div>\n",
       "<style scoped>\n",
       "    .dataframe tbody tr th:only-of-type {\n",
       "        vertical-align: middle;\n",
       "    }\n",
       "\n",
       "    .dataframe tbody tr th {\n",
       "        vertical-align: top;\n",
       "    }\n",
       "\n",
       "    .dataframe thead th {\n",
       "        text-align: right;\n",
       "    }\n",
       "</style>\n",
       "<table border=\"1\" class=\"dataframe\">\n",
       "  <thead>\n",
       "    <tr style=\"text-align: right;\">\n",
       "      <th></th>\n",
       "      <th>family_status</th>\n",
       "    </tr>\n",
       "  </thead>\n",
       "  <tbody>\n",
       "    <tr>\n",
       "      <th>женат / замужем</th>\n",
       "      <td>12379</td>\n",
       "    </tr>\n",
       "    <tr>\n",
       "      <th>гражданский брак</th>\n",
       "      <td>4176</td>\n",
       "    </tr>\n",
       "    <tr>\n",
       "      <th>Не женат / не замужем</th>\n",
       "      <td>2812</td>\n",
       "    </tr>\n",
       "    <tr>\n",
       "      <th>в разводе</th>\n",
       "      <td>1194</td>\n",
       "    </tr>\n",
       "    <tr>\n",
       "      <th>вдовец / вдова</th>\n",
       "      <td>959</td>\n",
       "    </tr>\n",
       "  </tbody>\n",
       "</table>\n",
       "</div>"
      ],
      "text/plain": [
       "                       family_status\n",
       "женат / замужем                12379\n",
       "гражданский брак                4176\n",
       "Не женат / не замужем           2812\n",
       "в разводе                       1194\n",
       "вдовец / вдова                   959"
      ]
     },
     "metadata": {},
     "output_type": "display_data"
    },
    {
     "name": "stdout",
     "output_type": "stream",
     "text": [
      "--------------"
     ]
    },
    {
     "data": {
      "text/html": [
       "<div>\n",
       "<style scoped>\n",
       "    .dataframe tbody tr th:only-of-type {\n",
       "        vertical-align: middle;\n",
       "    }\n",
       "\n",
       "    .dataframe tbody tr th {\n",
       "        vertical-align: top;\n",
       "    }\n",
       "\n",
       "    .dataframe thead th {\n",
       "        text-align: right;\n",
       "    }\n",
       "</style>\n",
       "<table border=\"1\" class=\"dataframe\">\n",
       "  <thead>\n",
       "    <tr style=\"text-align: right;\">\n",
       "      <th></th>\n",
       "      <th>family_status_id</th>\n",
       "    </tr>\n",
       "  </thead>\n",
       "  <tbody>\n",
       "    <tr>\n",
       "      <th>0</th>\n",
       "      <td>12379</td>\n",
       "    </tr>\n",
       "    <tr>\n",
       "      <th>1</th>\n",
       "      <td>4176</td>\n",
       "    </tr>\n",
       "    <tr>\n",
       "      <th>4</th>\n",
       "      <td>2812</td>\n",
       "    </tr>\n",
       "    <tr>\n",
       "      <th>3</th>\n",
       "      <td>1194</td>\n",
       "    </tr>\n",
       "    <tr>\n",
       "      <th>2</th>\n",
       "      <td>959</td>\n",
       "    </tr>\n",
       "  </tbody>\n",
       "</table>\n",
       "</div>"
      ],
      "text/plain": [
       "   family_status_id\n",
       "0             12379\n",
       "1              4176\n",
       "4              2812\n",
       "3              1194\n",
       "2               959"
      ]
     },
     "metadata": {},
     "output_type": "display_data"
    },
    {
     "name": "stdout",
     "output_type": "stream",
     "text": [
      "--------------"
     ]
    },
    {
     "data": {
      "text/html": [
       "<div>\n",
       "<style scoped>\n",
       "    .dataframe tbody tr th:only-of-type {\n",
       "        vertical-align: middle;\n",
       "    }\n",
       "\n",
       "    .dataframe tbody tr th {\n",
       "        vertical-align: top;\n",
       "    }\n",
       "\n",
       "    .dataframe thead th {\n",
       "        text-align: right;\n",
       "    }\n",
       "</style>\n",
       "<table border=\"1\" class=\"dataframe\">\n",
       "  <thead>\n",
       "    <tr style=\"text-align: right;\">\n",
       "      <th></th>\n",
       "      <th>gender</th>\n",
       "    </tr>\n",
       "  </thead>\n",
       "  <tbody>\n",
       "    <tr>\n",
       "      <th>F</th>\n",
       "      <td>14235</td>\n",
       "    </tr>\n",
       "    <tr>\n",
       "      <th>M</th>\n",
       "      <td>7287</td>\n",
       "    </tr>\n",
       "  </tbody>\n",
       "</table>\n",
       "</div>"
      ],
      "text/plain": [
       "   gender\n",
       "F   14235\n",
       "M    7287"
      ]
     },
     "metadata": {},
     "output_type": "display_data"
    },
    {
     "name": "stdout",
     "output_type": "stream",
     "text": [
      "--------------"
     ]
    },
    {
     "data": {
      "text/html": [
       "<div>\n",
       "<style scoped>\n",
       "    .dataframe tbody tr th:only-of-type {\n",
       "        vertical-align: middle;\n",
       "    }\n",
       "\n",
       "    .dataframe tbody tr th {\n",
       "        vertical-align: top;\n",
       "    }\n",
       "\n",
       "    .dataframe thead th {\n",
       "        text-align: right;\n",
       "    }\n",
       "</style>\n",
       "<table border=\"1\" class=\"dataframe\">\n",
       "  <thead>\n",
       "    <tr style=\"text-align: right;\">\n",
       "      <th></th>\n",
       "      <th>income_type</th>\n",
       "    </tr>\n",
       "  </thead>\n",
       "  <tbody>\n",
       "    <tr>\n",
       "      <th>сотрудник</th>\n",
       "      <td>11118</td>\n",
       "    </tr>\n",
       "    <tr>\n",
       "      <th>компаньон</th>\n",
       "      <td>5084</td>\n",
       "    </tr>\n",
       "    <tr>\n",
       "      <th>пенсионер</th>\n",
       "      <td>3855</td>\n",
       "    </tr>\n",
       "    <tr>\n",
       "      <th>госслужащий</th>\n",
       "      <td>1458</td>\n",
       "    </tr>\n",
       "    <tr>\n",
       "      <th>безработный</th>\n",
       "      <td>1</td>\n",
       "    </tr>\n",
       "    <tr>\n",
       "      <th>предприниматель</th>\n",
       "      <td>1</td>\n",
       "    </tr>\n",
       "  </tbody>\n",
       "</table>\n",
       "</div>"
      ],
      "text/plain": [
       "                 income_type\n",
       "сотрудник              11118\n",
       "компаньон               5084\n",
       "пенсионер               3855\n",
       "госслужащий             1458\n",
       "безработный                1\n",
       "предприниматель            1"
      ]
     },
     "metadata": {},
     "output_type": "display_data"
    },
    {
     "name": "stdout",
     "output_type": "stream",
     "text": [
      "--------------"
     ]
    },
    {
     "data": {
      "text/html": [
       "<div>\n",
       "<style scoped>\n",
       "    .dataframe tbody tr th:only-of-type {\n",
       "        vertical-align: middle;\n",
       "    }\n",
       "\n",
       "    .dataframe tbody tr th {\n",
       "        vertical-align: top;\n",
       "    }\n",
       "\n",
       "    .dataframe thead th {\n",
       "        text-align: right;\n",
       "    }\n",
       "</style>\n",
       "<table border=\"1\" class=\"dataframe\">\n",
       "  <thead>\n",
       "    <tr style=\"text-align: right;\">\n",
       "      <th></th>\n",
       "      <th>debt</th>\n",
       "    </tr>\n",
       "  </thead>\n",
       "  <tbody>\n",
       "    <tr>\n",
       "      <th>0</th>\n",
       "      <td>19783</td>\n",
       "    </tr>\n",
       "    <tr>\n",
       "      <th>1</th>\n",
       "      <td>1740</td>\n",
       "    </tr>\n",
       "  </tbody>\n",
       "</table>\n",
       "</div>"
      ],
      "text/plain": [
       "    debt\n",
       "0  19783\n",
       "1   1740"
      ]
     },
     "metadata": {},
     "output_type": "display_data"
    },
    {
     "name": "stdout",
     "output_type": "stream",
     "text": [
      "--------------"
     ]
    },
    {
     "data": {
      "text/html": [
       "<div>\n",
       "<style scoped>\n",
       "    .dataframe tbody tr th:only-of-type {\n",
       "        vertical-align: middle;\n",
       "    }\n",
       "\n",
       "    .dataframe tbody tr th {\n",
       "        vertical-align: top;\n",
       "    }\n",
       "\n",
       "    .dataframe thead th {\n",
       "        text-align: right;\n",
       "    }\n",
       "</style>\n",
       "<table border=\"1\" class=\"dataframe\">\n",
       "  <thead>\n",
       "    <tr style=\"text-align: right;\">\n",
       "      <th></th>\n",
       "      <th>total_income</th>\n",
       "    </tr>\n",
       "  </thead>\n",
       "  <tbody>\n",
       "    <tr>\n",
       "      <th>NaN</th>\n",
       "      <td>2173</td>\n",
       "    </tr>\n",
       "  </tbody>\n",
       "</table>\n",
       "</div>"
      ],
      "text/plain": [
       "     total_income\n",
       "NaN          2173"
      ]
     },
     "metadata": {},
     "output_type": "display_data"
    },
    {
     "name": "stdout",
     "output_type": "stream",
     "text": [
      "--------------"
     ]
    },
    {
     "data": {
      "text/html": [
       "<div>\n",
       "<style scoped>\n",
       "    .dataframe tbody tr th:only-of-type {\n",
       "        vertical-align: middle;\n",
       "    }\n",
       "\n",
       "    .dataframe tbody tr th {\n",
       "        vertical-align: top;\n",
       "    }\n",
       "\n",
       "    .dataframe thead th {\n",
       "        text-align: right;\n",
       "    }\n",
       "</style>\n",
       "<table border=\"1\" class=\"dataframe\">\n",
       "  <thead>\n",
       "    <tr style=\"text-align: right;\">\n",
       "      <th></th>\n",
       "      <th>purpose</th>\n",
       "    </tr>\n",
       "  </thead>\n",
       "  <tbody>\n",
       "    <tr>\n",
       "      <th>свадьба</th>\n",
       "      <td>796</td>\n",
       "    </tr>\n",
       "    <tr>\n",
       "      <th>на проведение свадьбы</th>\n",
       "      <td>776</td>\n",
       "    </tr>\n",
       "    <tr>\n",
       "      <th>сыграть свадьбу</th>\n",
       "      <td>773</td>\n",
       "    </tr>\n",
       "    <tr>\n",
       "      <th>операции с недвижимостью</th>\n",
       "      <td>675</td>\n",
       "    </tr>\n",
       "    <tr>\n",
       "      <th>покупка коммерческой недвижимости</th>\n",
       "      <td>663</td>\n",
       "    </tr>\n",
       "    <tr>\n",
       "      <th>операции с жильем</th>\n",
       "      <td>652</td>\n",
       "    </tr>\n",
       "    <tr>\n",
       "      <th>покупка жилья для сдачи</th>\n",
       "      <td>652</td>\n",
       "    </tr>\n",
       "    <tr>\n",
       "      <th>операции с коммерческой недвижимостью</th>\n",
       "      <td>650</td>\n",
       "    </tr>\n",
       "    <tr>\n",
       "      <th>покупка жилья</th>\n",
       "      <td>646</td>\n",
       "    </tr>\n",
       "    <tr>\n",
       "      <th>жилье</th>\n",
       "      <td>646</td>\n",
       "    </tr>\n",
       "    <tr>\n",
       "      <th>покупка жилья для семьи</th>\n",
       "      <td>640</td>\n",
       "    </tr>\n",
       "    <tr>\n",
       "      <th>строительство собственной недвижимости</th>\n",
       "      <td>634</td>\n",
       "    </tr>\n",
       "    <tr>\n",
       "      <th>недвижимость</th>\n",
       "      <td>633</td>\n",
       "    </tr>\n",
       "    <tr>\n",
       "      <th>операции со своей недвижимостью</th>\n",
       "      <td>629</td>\n",
       "    </tr>\n",
       "    <tr>\n",
       "      <th>строительство жилой недвижимости</th>\n",
       "      <td>625</td>\n",
       "    </tr>\n",
       "    <tr>\n",
       "      <th>покупка недвижимости</th>\n",
       "      <td>623</td>\n",
       "    </tr>\n",
       "    <tr>\n",
       "      <th>строительство недвижимости</th>\n",
       "      <td>619</td>\n",
       "    </tr>\n",
       "    <tr>\n",
       "      <th>покупка своего жилья</th>\n",
       "      <td>619</td>\n",
       "    </tr>\n",
       "    <tr>\n",
       "      <th>ремонт жилью</th>\n",
       "      <td>611</td>\n",
       "    </tr>\n",
       "    <tr>\n",
       "      <th>покупка жилой недвижимости</th>\n",
       "      <td>606</td>\n",
       "    </tr>\n",
       "    <tr>\n",
       "      <th>на покупку своего автомобиля</th>\n",
       "      <td>504</td>\n",
       "    </tr>\n",
       "    <tr>\n",
       "      <th>заняться высшим образованием</th>\n",
       "      <td>495</td>\n",
       "    </tr>\n",
       "    <tr>\n",
       "      <th>автомобиль</th>\n",
       "      <td>494</td>\n",
       "    </tr>\n",
       "    <tr>\n",
       "      <th>сделка с подержанным автомобилем</th>\n",
       "      <td>488</td>\n",
       "    </tr>\n",
       "    <tr>\n",
       "      <th>свой автомобиль</th>\n",
       "      <td>479</td>\n",
       "    </tr>\n",
       "    <tr>\n",
       "      <th>на покупку подержанного автомобиля</th>\n",
       "      <td>478</td>\n",
       "    </tr>\n",
       "    <tr>\n",
       "      <th>автомобили</th>\n",
       "      <td>477</td>\n",
       "    </tr>\n",
       "    <tr>\n",
       "      <th>на покупку автомобиля</th>\n",
       "      <td>471</td>\n",
       "    </tr>\n",
       "    <tr>\n",
       "      <th>дополнительное образование</th>\n",
       "      <td>461</td>\n",
       "    </tr>\n",
       "    <tr>\n",
       "      <th>приобретение автомобиля</th>\n",
       "      <td>461</td>\n",
       "    </tr>\n",
       "    <tr>\n",
       "      <th>сделка с автомобилем</th>\n",
       "      <td>454</td>\n",
       "    </tr>\n",
       "    <tr>\n",
       "      <th>высшее образование</th>\n",
       "      <td>452</td>\n",
       "    </tr>\n",
       "    <tr>\n",
       "      <th>образование</th>\n",
       "      <td>446</td>\n",
       "    </tr>\n",
       "    <tr>\n",
       "      <th>получение дополнительного образования</th>\n",
       "      <td>446</td>\n",
       "    </tr>\n",
       "    <tr>\n",
       "      <th>получение образования</th>\n",
       "      <td>442</td>\n",
       "    </tr>\n",
       "    <tr>\n",
       "      <th>профильное образование</th>\n",
       "      <td>435</td>\n",
       "    </tr>\n",
       "    <tr>\n",
       "      <th>получение высшего образования</th>\n",
       "      <td>425</td>\n",
       "    </tr>\n",
       "    <tr>\n",
       "      <th>заняться образованием</th>\n",
       "      <td>411</td>\n",
       "    </tr>\n",
       "  </tbody>\n",
       "</table>\n",
       "</div>"
      ],
      "text/plain": [
       "                                        purpose\n",
       "свадьба                                     796\n",
       "на проведение свадьбы                       776\n",
       "сыграть свадьбу                             773\n",
       "операции с недвижимостью                    675\n",
       "покупка коммерческой недвижимости           663\n",
       "операции с жильем                           652\n",
       "покупка жилья для сдачи                     652\n",
       "операции с коммерческой недвижимостью       650\n",
       "покупка жилья                               646\n",
       "жилье                                       646\n",
       "покупка жилья для семьи                     640\n",
       "строительство собственной недвижимости      634\n",
       "недвижимость                                633\n",
       "операции со своей недвижимостью             629\n",
       "строительство жилой недвижимости            625\n",
       "покупка недвижимости                        623\n",
       "строительство недвижимости                  619\n",
       "покупка своего жилья                        619\n",
       "ремонт жилью                                611\n",
       "покупка жилой недвижимости                  606\n",
       "на покупку своего автомобиля                504\n",
       "заняться высшим образованием                495\n",
       "автомобиль                                  494\n",
       "сделка с подержанным автомобилем            488\n",
       "свой автомобиль                             479\n",
       "на покупку подержанного автомобиля          478\n",
       "автомобили                                  477\n",
       "на покупку автомобиля                       471\n",
       "дополнительное образование                  461\n",
       "приобретение автомобиля                     461\n",
       "сделка с автомобилем                        454\n",
       "высшее образование                          452\n",
       "образование                                 446\n",
       "получение дополнительного образования       446\n",
       "получение образования                       442\n",
       "профильное образование                      435\n",
       "получение высшего образования               425\n",
       "заняться образованием                       411"
      ]
     },
     "metadata": {},
     "output_type": "display_data"
    },
    {
     "name": "stdout",
     "output_type": "stream",
     "text": [
      "--------------"
     ]
    }
   ],
   "source": [
    "for i in df.columns:\n",
    "    display(df[i][df[i].duplicated()].value_counts(dropna=False).to_frame())\n",
    "    print('--------------',end='')"
   ]
  },
  {
   "cell_type": "markdown",
   "metadata": {},
   "source": [
    "<span style=\"color: crimson\"><b>Аномалии:</b></span>\n",
    "\n",
    "* В столбце <span style=\"color: crimson\"><b>education</b></span> одинаковые названия написаны разным регистром.\n",
    "* В столбце <span style=\"color: crimson\"><b>purpose</b></span> множество одинаковых по смыслу, но разных по описанию целей кредита.\n",
    "* В столбце <span style=\"color: crimson\"><b>income_type</b></span> столбцы предприниматель и безработный представлены в двух  экземплярах (дубликат + оригинал)."
   ]
  },
  {
   "cell_type": "markdown",
   "metadata": {},
   "source": [
    "Мы выявили множество аномалий, однако они могут быть представлены в единственном числе, так что взглянем на уникальные значения:"
   ]
  },
  {
   "cell_type": "code",
   "execution_count": 9,
   "metadata": {},
   "outputs": [
    {
     "name": "stdout",
     "output_type": "stream",
     "text": [
      "--------------\n",
      "||CHILDREN||\n",
      "\n",
      "[ 1  0  3  2 -1  4 20  5]\n",
      "--------------\n",
      "--------------\n",
      "||DAYS_EMPLOYED||\n",
      "\n",
      "[-8437.67302776 -4024.80375385 -5623.42261023 ... -2113.3468877\n",
      " -3112.4817052  -1984.50758853]\n",
      "--------------\n",
      "--------------\n",
      "||DOB_YEARS||\n",
      "\n",
      "[42 36 33 32 53 27 43 50 35 41 40 65 54 56 26 48 24 21 57 67 28 63 62 47\n",
      " 34 68 25 31 30 20 49 37 45 61 64 44 52 46 23 38 39 51  0 59 29 60 55 58\n",
      " 71 22 73 66 69 19 72 70 74 75]\n",
      "--------------\n",
      "--------------\n",
      "||EDUCATION||\n",
      "\n",
      "['высшее' 'среднее' 'Среднее' 'СРЕДНЕЕ' 'ВЫСШЕЕ' 'неоконченное высшее'\n",
      " 'начальное' 'Высшее' 'НЕОКОНЧЕННОЕ ВЫСШЕЕ' 'Неоконченное высшее'\n",
      " 'НАЧАЛЬНОЕ' 'Начальное' 'Ученая степень' 'УЧЕНАЯ СТЕПЕНЬ'\n",
      " 'ученая степень']\n",
      "--------------\n",
      "--------------\n",
      "||EDUCATION_ID||\n",
      "\n",
      "[0 1 2 3 4]\n",
      "--------------\n",
      "--------------\n",
      "||FAMILY_STATUS||\n",
      "\n",
      "['женат / замужем' 'гражданский брак' 'вдовец / вдова' 'в разводе'\n",
      " 'Не женат / не замужем']\n",
      "--------------\n",
      "--------------\n",
      "||FAMILY_STATUS_ID||\n",
      "\n",
      "[0 1 2 3 4]\n",
      "--------------\n",
      "--------------\n",
      "||GENDER||\n",
      "\n",
      "['F' 'M' 'XNA']\n",
      "--------------\n",
      "--------------\n",
      "||INCOME_TYPE||\n",
      "\n",
      "['сотрудник' 'пенсионер' 'компаньон' 'госслужащий' 'безработный'\n",
      " 'предприниматель' 'студент' 'в декрете']\n",
      "--------------\n",
      "--------------\n",
      "||DEBT||\n",
      "\n",
      "[0 1]\n",
      "--------------\n",
      "--------------\n",
      "||TOTAL_INCOME||\n",
      "\n",
      "[253875.6394526  112080.01410244 145885.95229686 ...  89672.56115303\n",
      " 244093.05050043  82047.41889948]\n",
      "--------------\n",
      "--------------\n",
      "||PURPOSE||\n",
      "\n",
      "['покупка жилья' 'приобретение автомобиля' 'дополнительное образование'\n",
      " 'сыграть свадьбу' 'операции с жильем' 'образование'\n",
      " 'на проведение свадьбы' 'покупка жилья для семьи' 'покупка недвижимости'\n",
      " 'покупка коммерческой недвижимости' 'покупка жилой недвижимости'\n",
      " 'строительство собственной недвижимости' 'недвижимость'\n",
      " 'строительство недвижимости' 'на покупку подержанного автомобиля'\n",
      " 'на покупку своего автомобиля' 'операции с коммерческой недвижимостью'\n",
      " 'строительство жилой недвижимости' 'жилье'\n",
      " 'операции со своей недвижимостью' 'автомобили' 'заняться образованием'\n",
      " 'сделка с подержанным автомобилем' 'получение образования' 'автомобиль'\n",
      " 'свадьба' 'получение дополнительного образования' 'покупка своего жилья'\n",
      " 'операции с недвижимостью' 'получение высшего образования'\n",
      " 'свой автомобиль' 'сделка с автомобилем' 'профильное образование'\n",
      " 'высшее образование' 'покупка жилья для сдачи' 'на покупку автомобиля'\n",
      " 'ремонт жилью' 'заняться высшим образованием']\n",
      "--------------\n"
     ]
    }
   ],
   "source": [
    "# Уникальные значения, каждого параметра\n",
    "for i in df.columns:\n",
    "    print('--------------')\n",
    "    print('||'+i.upper()+'||')\n",
    "    print()\n",
    "    print(df[i].unique())\n",
    "    print('--------------')"
   ]
  },
  {
   "cell_type": "markdown",
   "metadata": {},
   "source": [
    "<span style=\"color: crimson\"><b>Аномалии:</b></span>\n",
    "\n",
    "* В столбце <span style=\"color: crimson\"><b>gender</b></span> значение равно XNA."
   ]
  },
  {
   "cell_type": "markdown",
   "metadata": {},
   "source": [
    "---"
   ]
  },
  {
   "cell_type": "markdown",
   "metadata": {},
   "source": [
    "### <center><span style=\"color: crimson\"><b>Вывод</b></span></center>\n",
    "\n",
    "<span style=\"color: crimson\"><b>Аномалии в параметрах</b></span>:\n",
    "* <span style=\"color: red\"><b>children</b></span> - количество детей в семье\n",
    "    1. Имеют отрицательный параметр -1.\n",
    "    2. Максимально значение слишком велико 20 (Во первых по беглому поиску в Google это самая большая семья в России, но их целых 75. Во вторых нет детей в диапазоне от 5 до 20).\n",
    "    <hr>\n",
    "* <span style=\"color: red\"><b>days_employed</b></span> -  общий трудовой стаж в днях\n",
    "    1. Имеются отрицательные значения.\n",
    "    2. Максимально значения слишком велико 401755 (1100 лет).\n",
    "    <hr>\n",
    "* <span style=\"color: red\"><b>dob_years</b></span> -  возраст клиента в годах\n",
    "    1. Наименьшее значение равно 0.    \n",
    "    <hr>\n",
    "* <span style=\"color: red\"><b>education</b></span> - уровень образования клиента\n",
    "    1. Одинаковые названия написаны разным регистром.\n",
    "    <hr>\n",
    "* <span style=\"color: red\"><b>purpose</b></span> - цель получения кредита\n",
    "    1. Разные формулировки одинаковой цели кредита.\n",
    "    <hr>\n",
    "* <span style=\"color: red\"><b>gender</b></span> - пол\n",
    "    1. Пола XNA не существует\n",
    "    <hr>"
   ]
  },
  {
   "cell_type": "markdown",
   "metadata": {},
   "source": [
    "## <span style=\"color: crimson\">Этап 2</span> Предобработка данных"
   ]
  },
  {
   "cell_type": "markdown",
   "metadata": {},
   "source": [
    "### 1. Обработка артефактов"
   ]
  },
  {
   "cell_type": "markdown",
   "metadata": {},
   "source": [
    "####  <span style=\"color: red\">children</span>: Максимально значение слишком велико 20|Имеют отрицательный парамент -1"
   ]
  },
  {
   "cell_type": "code",
   "execution_count": 10,
   "metadata": {},
   "outputs": [
    {
     "data": {
      "text/plain": [
       "123"
      ]
     },
     "execution_count": 10,
     "metadata": {},
     "output_type": "execute_result"
    }
   ],
   "source": [
    "df[(df['children']==-1) | (df['children']==20)]['children'].shape[0]"
   ]
  },
  {
   "cell_type": "markdown",
   "metadata": {},
   "source": [
    "Так как значений, где chidren = -1 или 20 всего 123 их можно просто удалить."
   ]
  },
  {
   "cell_type": "code",
   "execution_count": 11,
   "metadata": {},
   "outputs": [],
   "source": [
    "df.drop(df[df['children']==-1].index,inplace=True)\n",
    "df.drop(df[df['children']==20].index,inplace=True)"
   ]
  },
  {
   "cell_type": "markdown",
   "metadata": {},
   "source": [
    "#### <span style=\"color: red\">days_employed</span> Имеют отрицательные значения.|Максимально значения слишком велико 401755 (1100 лет)."
   ]
  },
  {
   "cell_type": "code",
   "execution_count": 12,
   "metadata": {},
   "outputs": [
    {
     "data": {
      "text/html": [
       "<div>\n",
       "<style scoped>\n",
       "    .dataframe tbody tr th:only-of-type {\n",
       "        vertical-align: middle;\n",
       "    }\n",
       "\n",
       "    .dataframe tbody tr th {\n",
       "        vertical-align: top;\n",
       "    }\n",
       "\n",
       "    .dataframe thead th {\n",
       "        text-align: right;\n",
       "    }\n",
       "</style>\n",
       "<table border=\"1\" class=\"dataframe\">\n",
       "  <thead>\n",
       "    <tr style=\"text-align: right;\">\n",
       "      <th></th>\n",
       "      <th>children</th>\n",
       "      <th>days_employed</th>\n",
       "      <th>dob_years</th>\n",
       "      <th>education_id</th>\n",
       "      <th>family_status_id</th>\n",
       "      <th>debt</th>\n",
       "      <th>total_income</th>\n",
       "    </tr>\n",
       "  </thead>\n",
       "  <tbody>\n",
       "    <tr>\n",
       "      <th>count</th>\n",
       "      <td>3431.000000</td>\n",
       "      <td>3431.000000</td>\n",
       "      <td>3431.000000</td>\n",
       "      <td>3431.000000</td>\n",
       "      <td>3431.000000</td>\n",
       "      <td>3431.000000</td>\n",
       "      <td>3431.000000</td>\n",
       "    </tr>\n",
       "    <tr>\n",
       "      <th>mean</th>\n",
       "      <td>0.090061</td>\n",
       "      <td>365025.901401</td>\n",
       "      <td>59.135238</td>\n",
       "      <td>0.914602</td>\n",
       "      <td>0.982512</td>\n",
       "      <td>0.053046</td>\n",
       "      <td>137195.052955</td>\n",
       "    </tr>\n",
       "    <tr>\n",
       "      <th>std</th>\n",
       "      <td>0.325393</td>\n",
       "      <td>21087.468233</td>\n",
       "      <td>7.565251</td>\n",
       "      <td>0.517895</td>\n",
       "      <td>1.315189</td>\n",
       "      <td>0.224157</td>\n",
       "      <td>80341.532004</td>\n",
       "    </tr>\n",
       "    <tr>\n",
       "      <th>min</th>\n",
       "      <td>0.000000</td>\n",
       "      <td>328728.720605</td>\n",
       "      <td>0.000000</td>\n",
       "      <td>0.000000</td>\n",
       "      <td>0.000000</td>\n",
       "      <td>0.000000</td>\n",
       "      <td>20667.263793</td>\n",
       "    </tr>\n",
       "    <tr>\n",
       "      <th>25%</th>\n",
       "      <td>0.000000</td>\n",
       "      <td>346649.346146</td>\n",
       "      <td>56.000000</td>\n",
       "      <td>1.000000</td>\n",
       "      <td>0.000000</td>\n",
       "      <td>0.000000</td>\n",
       "      <td>82881.443465</td>\n",
       "    </tr>\n",
       "    <tr>\n",
       "      <th>50%</th>\n",
       "      <td>0.000000</td>\n",
       "      <td>365286.622650</td>\n",
       "      <td>60.000000</td>\n",
       "      <td>1.000000</td>\n",
       "      <td>0.000000</td>\n",
       "      <td>0.000000</td>\n",
       "      <td>118480.837408</td>\n",
       "    </tr>\n",
       "    <tr>\n",
       "      <th>75%</th>\n",
       "      <td>0.000000</td>\n",
       "      <td>383292.791100</td>\n",
       "      <td>64.000000</td>\n",
       "      <td>1.000000</td>\n",
       "      <td>2.000000</td>\n",
       "      <td>0.000000</td>\n",
       "      <td>169758.741755</td>\n",
       "    </tr>\n",
       "    <tr>\n",
       "      <th>max</th>\n",
       "      <td>4.000000</td>\n",
       "      <td>401755.400475</td>\n",
       "      <td>74.000000</td>\n",
       "      <td>4.000000</td>\n",
       "      <td>4.000000</td>\n",
       "      <td>1.000000</td>\n",
       "      <td>735103.270167</td>\n",
       "    </tr>\n",
       "  </tbody>\n",
       "</table>\n",
       "</div>"
      ],
      "text/plain": [
       "          children  days_employed    dob_years  education_id  \\\n",
       "count  3431.000000    3431.000000  3431.000000   3431.000000   \n",
       "mean      0.090061  365025.901401    59.135238      0.914602   \n",
       "std       0.325393   21087.468233     7.565251      0.517895   \n",
       "min       0.000000  328728.720605     0.000000      0.000000   \n",
       "25%       0.000000  346649.346146    56.000000      1.000000   \n",
       "50%       0.000000  365286.622650    60.000000      1.000000   \n",
       "75%       0.000000  383292.791100    64.000000      1.000000   \n",
       "max       4.000000  401755.400475    74.000000      4.000000   \n",
       "\n",
       "       family_status_id         debt   total_income  \n",
       "count       3431.000000  3431.000000    3431.000000  \n",
       "mean           0.982512     0.053046  137195.052955  \n",
       "std            1.315189     0.224157   80341.532004  \n",
       "min            0.000000     0.000000   20667.263793  \n",
       "25%            0.000000     0.000000   82881.443465  \n",
       "50%            0.000000     0.000000  118480.837408  \n",
       "75%            2.000000     0.000000  169758.741755  \n",
       "max            4.000000     1.000000  735103.270167  "
      ]
     },
     "execution_count": 12,
     "metadata": {},
     "output_type": "execute_result"
    }
   ],
   "source": [
    "df[df['days_employed']>90*365].describe()"
   ]
  },
  {
   "cell_type": "code",
   "execution_count": 13,
   "metadata": {},
   "outputs": [],
   "source": [
    "df['days_employed']=df['days_employed'].abs()\n",
    "\n",
    "# Заменим значения которые больше 100 лет на nan\n",
    "df.loc[df['days_employed']>100*365, 'days_employed'] = np.nan"
   ]
  },
  {
   "cell_type": "markdown",
   "metadata": {},
   "source": [
    "#### <span style=\"color: red\">dob_years</span> Наименьшее значение равно 0.    "
   ]
  },
  {
   "cell_type": "code",
   "execution_count": 14,
   "metadata": {},
   "outputs": [],
   "source": [
    "df.loc[df['dob_years']==0, 'dob_years'] = np.nan"
   ]
  },
  {
   "cell_type": "markdown",
   "metadata": {},
   "source": [
    "#### <span style=\"color: red\">education</span>  Одинаковые названия написаны заглавными и прописными буквами."
   ]
  },
  {
   "cell_type": "code",
   "execution_count": 15,
   "metadata": {},
   "outputs": [],
   "source": [
    "df['education'] = df['education'].str.lower()"
   ]
  },
  {
   "cell_type": "markdown",
   "metadata": {},
   "source": [
    "#### <span style=\"color: red\">gender</span> Пола XNA не существует."
   ]
  },
  {
   "cell_type": "code",
   "execution_count": 16,
   "metadata": {},
   "outputs": [
    {
     "data": {
      "text/plain": [
       "1"
      ]
     },
     "execution_count": 16,
     "metadata": {},
     "output_type": "execute_result"
    }
   ],
   "source": [
    "df[df['gender']=='XNA'].shape[0]"
   ]
  },
  {
   "cell_type": "markdown",
   "metadata": {},
   "source": [
    "Так как значение, где gender = XNA единственное, то его можно просто удалить."
   ]
  },
  {
   "cell_type": "code",
   "execution_count": 17,
   "metadata": {},
   "outputs": [],
   "source": [
    "df.drop(df[df['gender']=='XNA'].index,inplace=True)"
   ]
  },
  {
   "cell_type": "markdown",
   "metadata": {},
   "source": [
    "### 2. Обработка дубликатов"
   ]
  },
  {
   "cell_type": "code",
   "execution_count": 18,
   "metadata": {},
   "outputs": [
    {
     "data": {
      "text/plain": [
       "0"
      ]
     },
     "execution_count": 18,
     "metadata": {},
     "output_type": "execute_result"
    }
   ],
   "source": [
    "df[df['total_income'].duplicated() & df['total_income'].notnull()].shape[0]"
   ]
  },
  {
   "cell_type": "code",
   "execution_count": 19,
   "metadata": {},
   "outputs": [
    {
     "data": {
      "text/plain": [
       "0"
      ]
     },
     "execution_count": 19,
     "metadata": {},
     "output_type": "execute_result"
    }
   ],
   "source": [
    "df[df['days_employed'].duplicated() & df['days_employed'].notnull()].shape[0]"
   ]
  },
  {
   "cell_type": "markdown",
   "metadata": {},
   "source": [
    "<center><span style=\"color: crimson\"><b>Вывод</b></span></center>\n",
    "\n",
    "<b>Дубликаты стоит искать по параметрам days_employed и total_incom, т.к. у нас нет идентификатора пользователя, а это весьма уникальные параметры:</b>  \n",
    "\n",
    "1. Если исключить строки где неизвестно чему равен total_income,    и искать дубликаты то параметру total_income, то в таблице нет дубликатов.  \n",
    "2. Если исключить строки где неизвестно чему равен days_employed, и искать дубликаты то параметру, то в таблице нет дубликатов.\n"
   ]
  },
  {
   "cell_type": "markdown",
   "metadata": {},
   "source": [
    "### 3. Обработка пропусков"
   ]
  },
  {
   "cell_type": "code",
   "execution_count": 20,
   "metadata": {
    "scrolled": true
   },
   "outputs": [
    {
     "data": {
      "text/html": [
       "<div>\n",
       "<style scoped>\n",
       "    .dataframe tbody tr th:only-of-type {\n",
       "        vertical-align: middle;\n",
       "    }\n",
       "\n",
       "    .dataframe tbody tr th {\n",
       "        vertical-align: top;\n",
       "    }\n",
       "\n",
       "    .dataframe thead th {\n",
       "        text-align: right;\n",
       "    }\n",
       "</style>\n",
       "<table border=\"1\" class=\"dataframe\">\n",
       "  <thead>\n",
       "    <tr style=\"text-align: right;\">\n",
       "      <th></th>\n",
       "      <th>0</th>\n",
       "    </tr>\n",
       "  </thead>\n",
       "  <tbody>\n",
       "    <tr>\n",
       "      <th>children</th>\n",
       "      <td>0</td>\n",
       "    </tr>\n",
       "    <tr>\n",
       "      <th>days_employed</th>\n",
       "      <td>5593</td>\n",
       "    </tr>\n",
       "    <tr>\n",
       "      <th>dob_years</th>\n",
       "      <td>100</td>\n",
       "    </tr>\n",
       "    <tr>\n",
       "      <th>education</th>\n",
       "      <td>0</td>\n",
       "    </tr>\n",
       "    <tr>\n",
       "      <th>education_id</th>\n",
       "      <td>0</td>\n",
       "    </tr>\n",
       "    <tr>\n",
       "      <th>family_status</th>\n",
       "      <td>0</td>\n",
       "    </tr>\n",
       "    <tr>\n",
       "      <th>family_status_id</th>\n",
       "      <td>0</td>\n",
       "    </tr>\n",
       "    <tr>\n",
       "      <th>gender</th>\n",
       "      <td>0</td>\n",
       "    </tr>\n",
       "    <tr>\n",
       "      <th>income_type</th>\n",
       "      <td>0</td>\n",
       "    </tr>\n",
       "    <tr>\n",
       "      <th>debt</th>\n",
       "      <td>0</td>\n",
       "    </tr>\n",
       "    <tr>\n",
       "      <th>total_income</th>\n",
       "      <td>2162</td>\n",
       "    </tr>\n",
       "    <tr>\n",
       "      <th>purpose</th>\n",
       "      <td>0</td>\n",
       "    </tr>\n",
       "  </tbody>\n",
       "</table>\n",
       "</div>"
      ],
      "text/plain": [
       "                     0\n",
       "children             0\n",
       "days_employed     5593\n",
       "dob_years          100\n",
       "education            0\n",
       "education_id         0\n",
       "family_status        0\n",
       "family_status_id     0\n",
       "gender               0\n",
       "income_type          0\n",
       "debt                 0\n",
       "total_income      2162\n",
       "purpose              0"
      ]
     },
     "execution_count": 20,
     "metadata": {},
     "output_type": "execute_result"
    }
   ],
   "source": [
    "missing_values_count = df.isnull().sum()\n",
    "missing_values_count.to_frame()"
   ]
  },
  {
   "cell_type": "code",
   "execution_count": 21,
   "metadata": {},
   "outputs": [
    {
     "name": "stdout",
     "output_type": "stream",
     "text": [
      "Процент пропусков: 3.1%\n"
     ]
    }
   ],
   "source": [
    "total_missing = missing_values_count.sum()\n",
    "total_cells = np.product(df.shape)\n",
    "\n",
    "\n",
    "missing = total_missing/total_cells\n",
    "print('Процент пропусков: {:.1%}'.format(missing))"
   ]
  },
  {
   "cell_type": "code",
   "execution_count": 22,
   "metadata": {},
   "outputs": [
    {
     "name": "stdout",
     "output_type": "stream",
     "text": [
      "Процент потери данных: 26.1%\n"
     ]
    }
   ],
   "source": [
    "print('Процент потери данных: {:.1%}'.format(missing_values_count.max()/df.shape[0]))"
   ]
  },
  {
   "cell_type": "markdown",
   "metadata": {},
   "source": [
    "Процент пропущенных значений равен **3%**,но при их удалении мы потеряем **26%** пользователей наша задача не требует удаление пропусков (везде, кроме целевого параметра), поэтому пропустим этот шаг. "
   ]
  },
  {
   "cell_type": "markdown",
   "metadata": {},
   "source": [
    "<center><span style=\"color: crimson\"><b>Вывод</b></span></center>\n",
    "Мы исправили аномалии в параметрах (некоторые были заменены на nan), как и с остальными переменными. И это уменьшило среднюю продолжительность трудового статуса на 61000 дней."
   ]
  },
  {
   "cell_type": "markdown",
   "metadata": {},
   "source": [
    "### 4. Замена типа данных"
   ]
  },
  {
   "cell_type": "code",
   "execution_count": 23,
   "metadata": {},
   "outputs": [
    {
     "data": {
      "text/plain": [
       "children              int64\n",
       "days_employed       float64\n",
       "dob_years           float64\n",
       "education            object\n",
       "education_id          int64\n",
       "family_status        object\n",
       "family_status_id      int64\n",
       "gender               object\n",
       "income_type          object\n",
       "debt                  int64\n",
       "total_income        float64\n",
       "purpose              object\n",
       "dtype: object"
      ]
     },
     "execution_count": 23,
     "metadata": {},
     "output_type": "execute_result"
    }
   ],
   "source": [
    "df.dtypes"
   ]
  },
  {
   "cell_type": "markdown",
   "metadata": {},
   "source": [
    "**Нужно поменять тип:**\n",
    "* **<span style=\"color: blue\">gender</span>** — category\n",
    "* **<span style=\"color: blue\">debt</span>** — bool"
   ]
  },
  {
   "cell_type": "code",
   "execution_count": 24,
   "metadata": {},
   "outputs": [
    {
     "data": {
      "text/plain": [
       "array(['F', 'M'], dtype=object)"
      ]
     },
     "execution_count": 24,
     "metadata": {},
     "output_type": "execute_result"
    }
   ],
   "source": [
    "df['gender'].unique()"
   ]
  },
  {
   "cell_type": "code",
   "execution_count": 25,
   "metadata": {},
   "outputs": [],
   "source": [
    "df['debt'] = df['debt'].astype('bool')\n",
    "df['gender'] = df['gender'].astype('category')"
   ]
  },
  {
   "cell_type": "code",
   "execution_count": 26,
   "metadata": {
    "scrolled": true
   },
   "outputs": [
    {
     "data": {
      "text/plain": [
       "children               int64\n",
       "days_employed        float64\n",
       "dob_years            float64\n",
       "education             object\n",
       "education_id           int64\n",
       "family_status         object\n",
       "family_status_id       int64\n",
       "gender              category\n",
       "income_type           object\n",
       "debt                    bool\n",
       "total_income         float64\n",
       "purpose               object\n",
       "dtype: object"
      ]
     },
     "execution_count": 26,
     "metadata": {},
     "output_type": "execute_result"
    }
   ],
   "source": [
    "df.dtypes"
   ]
  },
  {
   "cell_type": "markdown",
   "metadata": {},
   "source": [
    "<center><span style=\"color: crimson\"><b>Вывод</b></span></center>\n",
    "\n",
    "Параметры **debt** и **gender** присвоен тип bool(занимает меньше памяти и быстрее обрабатывается):\n",
    "<pre>\n",
    "<b><span style=\"color: blue\">dept</span></b> - bool: \n",
    "      0 - False\n",
    "      1 - True\n",
    "      \n",
    "<b><span style=\"color: blue\">gender</span></b> - category:\n",
    "</pre>"
   ]
  },
  {
   "cell_type": "markdown",
   "metadata": {},
   "source": [
    "### 5. Лемматизация"
   ]
  },
  {
   "cell_type": "markdown",
   "metadata": {},
   "source": [
    "<pre>\n",
    "Нужно исправить столбец  purpose,чтобы весь столбец имел одинаковые формулировки:\n",
    "    1. Лемматизировать столбец purpose.\n",
    "    2. Найти ключевые слова.\n",
    "    3. Присвоить слова ключи столбцу создать столбец purpose_id и присвоить целям id\n",
    "</pre>"
   ]
  },
  {
   "cell_type": "code",
   "execution_count": 27,
   "metadata": {},
   "outputs": [
    {
     "name": "stdout",
     "output_type": "stream",
     "text": [
      "CPU times: total: 1min 26s\n",
      "Wall time: 1min 26s\n"
     ]
    }
   ],
   "source": [
    "%%time\n",
    "\n",
    "# Стоп слова\n",
    "stop = stopwords.words('russian')\n",
    "stop.append('\\n')\n",
    "\n",
    "nlp = spacy.load(\"ru_core_news_md\")\n",
    "\n",
    "def clear_text(sentence):\n",
    "    # Удаление знаков препинания    \n",
    "    sentence = re.sub(r\"[^а-яА-Я]\", ' ', sentence)\n",
    "    \n",
    "    # Лемматизация\n",
    "    nlp_sentence = nlp(sentence)\n",
    "    doc = [token.lemma_ for token in nlp_sentence]\n",
    "    \n",
    "    # Удаление стоп слов\n",
    "    doc = [w for w in doc if w not in stop]\n",
    "    \n",
    "    # Удаление пробелов\n",
    "    doc = \" \".join(doc).split() \n",
    "    \n",
    "    return \" \".join(doc)\n",
    "\n",
    "df['purpose'] = df['purpose'].apply(clear_text)"
   ]
  },
  {
   "cell_type": "markdown",
   "metadata": {},
   "source": [
    "Слова приведены к своим леммам."
   ]
  },
  {
   "cell_type": "markdown",
   "metadata": {},
   "source": [
    "### 6. Категоризация данных"
   ]
  },
  {
   "cell_type": "code",
   "execution_count": 28,
   "metadata": {},
   "outputs": [
    {
     "name": "stdout",
     "output_type": "stream",
     "text": [
      "сдача\n",
      "высокий\n",
      "профильный\n",
      "ремонт\n",
      "недвижимость\n",
      "проведение\n",
      "покупка\n",
      "заняться\n",
      "образование\n",
      "строительство\n",
      "получение\n",
      "подержанного\n",
      "операция\n",
      "коммерческий\n",
      "жилой\n",
      "собственный\n",
      "сделка\n",
      "свадьба\n",
      "автомобиль\n",
      "подержанным\n",
      "жильё\n",
      "свой\n",
      "приобретение\n",
      "семья\n",
      "сыграть\n",
      "дополнительный\n"
     ]
    }
   ],
   "source": [
    "words = [row.split(' ')  for row in df['purpose']]\n",
    "alls = []\n",
    "\n",
    "for i in words:\n",
    "    alls+=i\n",
    "\n",
    "\n",
    "for i in set(alls):\n",
    "    print(i)"
   ]
  },
  {
   "cell_type": "markdown",
   "metadata": {},
   "source": [
    "**Ключевые слова для созданий категорий**: свадьба,образование, автомобиль, недвижимость + жилье."
   ]
  },
  {
   "cell_type": "code",
   "execution_count": 29,
   "metadata": {},
   "outputs": [],
   "source": [
    "def category(data):\n",
    "    if \"свадьба\" in data:\n",
    "        return \"подготовка к свадьбе\"\n",
    "    elif \"образование\" in data:\n",
    "        return \"получение образования\"\n",
    "    elif \"автомобиль\" in data:\n",
    "        return \"на автомобиль\"\n",
    "    elif (\"недвижимость\" in data) or (\"жильё\" in data):\n",
    "        return \"на недвижимость\"\n",
    "    else:\n",
    "        return \"нет категории\"\n",
    "\n",
    "\n",
    "df[\"purpose_category\"] = df[\"purpose\"].apply(category)"
   ]
  },
  {
   "cell_type": "code",
   "execution_count": 30,
   "metadata": {},
   "outputs": [
    {
     "data": {
      "text/plain": [
       "0"
      ]
     },
     "execution_count": 30,
     "metadata": {},
     "output_type": "execute_result"
    }
   ],
   "source": [
    "df[df['purpose_category']=='нет категории'].shape[0]"
   ]
  },
  {
   "cell_type": "markdown",
   "metadata": {},
   "source": [
    "К каждой строке добавлен purpose_category с целью кредита разбитой на категории."
   ]
  },
  {
   "cell_type": "markdown",
   "metadata": {},
   "source": [
    "## <span style=\"color: crimson\">Этап 3</span> Ответьте на вопросы"
   ]
  },
  {
   "cell_type": "markdown",
   "metadata": {},
   "source": [
    "### <span style=\"color: red\">Е</span>сть ли зависимость между наличием детей и возвратом кредита в срок?"
   ]
  },
  {
   "cell_type": "code",
   "execution_count": 31,
   "metadata": {},
   "outputs": [
    {
     "data": {
      "text/html": [
       "<div>\n",
       "<style scoped>\n",
       "    .dataframe tbody tr th:only-of-type {\n",
       "        vertical-align: middle;\n",
       "    }\n",
       "\n",
       "    .dataframe tbody tr th {\n",
       "        vertical-align: top;\n",
       "    }\n",
       "\n",
       "    .dataframe thead th {\n",
       "        text-align: right;\n",
       "    }\n",
       "</style>\n",
       "<table border=\"1\" class=\"dataframe\">\n",
       "  <thead>\n",
       "    <tr style=\"text-align: right;\">\n",
       "      <th>debt</th>\n",
       "      <th>False</th>\n",
       "      <th>True</th>\n",
       "      <th>Кол-во клиентов</th>\n",
       "    </tr>\n",
       "    <tr>\n",
       "      <th>children</th>\n",
       "      <th></th>\n",
       "      <th></th>\n",
       "      <th></th>\n",
       "    </tr>\n",
       "  </thead>\n",
       "  <tbody>\n",
       "    <tr>\n",
       "      <th>0</th>\n",
       "      <td>92.5%</td>\n",
       "      <td>7.5%</td>\n",
       "      <td>9555.0</td>\n",
       "    </tr>\n",
       "    <tr>\n",
       "      <th>1</th>\n",
       "      <td>90.8%</td>\n",
       "      <td>9.2%</td>\n",
       "      <td>4090.0</td>\n",
       "    </tr>\n",
       "    <tr>\n",
       "      <th>2</th>\n",
       "      <td>90.6%</td>\n",
       "      <td>9.4%</td>\n",
       "      <td>1834.0</td>\n",
       "    </tr>\n",
       "    <tr>\n",
       "      <th>3</th>\n",
       "      <td>91.8%</td>\n",
       "      <td>8.2%</td>\n",
       "      <td>288.0</td>\n",
       "    </tr>\n",
       "    <tr>\n",
       "      <th>4</th>\n",
       "      <td>90.2%</td>\n",
       "      <td>9.8%</td>\n",
       "      <td>33.0</td>\n",
       "    </tr>\n",
       "    <tr>\n",
       "      <th>5</th>\n",
       "      <td>100.0%</td>\n",
       "      <td>0.0%</td>\n",
       "      <td>8.0</td>\n",
       "    </tr>\n",
       "  </tbody>\n",
       "</table>\n",
       "</div>"
      ],
      "text/plain": [
       "debt       False  True  Кол-во клиентов\n",
       "children                               \n",
       "0          92.5%  7.5%           9555.0\n",
       "1          90.8%  9.2%           4090.0\n",
       "2          90.6%  9.4%           1834.0\n",
       "3          91.8%  8.2%            288.0\n",
       "4          90.2%  9.8%             33.0\n",
       "5         100.0%  0.0%              8.0"
      ]
     },
     "execution_count": 31,
     "metadata": {},
     "output_type": "execute_result"
    }
   ],
   "source": [
    "debt_family = (\n",
    "    pd.crosstab(\n",
    "        values=df.debt,\n",
    "        columns=df.children,\n",
    "        index=df.debt,\n",
    "        aggfunc=\"count\",\n",
    "        normalize=\"columns\",\n",
    "    )\n",
    "    .applymap(lambda x: \"{0:.1%}\".format(x))\n",
    "    .T\n",
    ")\n",
    "\n",
    "debt_family[\"Кол-во клиентов\"] = pd.pivot_table(\n",
    "    data=df, columns=df.children, index=df.debt, aggfunc=\"count\"\n",
    ")[\"days_employed\"].T.sum(axis=1)\n",
    "debt_family"
   ]
  },
  {
   "cell_type": "markdown",
   "metadata": {},
   "source": [
    "### <center><span style=\"color: crimson\"><b>Вывод</b></span></center>\n",
    "Кол-во детей не сильно влияет на задолженности (5 детей, всего лишь у 8 семей, так, что она не репрезентативна), а вот их отсутствие увеличивает шанс своевременного погашения кредита."
   ]
  },
  {
   "cell_type": "markdown",
   "metadata": {},
   "source": [
    "### <span style=\"color: red\">Е</span>сть ли зависимость между семейным положением и возвратом кредита в срок?"
   ]
  },
  {
   "cell_type": "code",
   "execution_count": 32,
   "metadata": {},
   "outputs": [
    {
     "data": {
      "text/html": [
       "<div>\n",
       "<style scoped>\n",
       "    .dataframe tbody tr th:only-of-type {\n",
       "        vertical-align: middle;\n",
       "    }\n",
       "\n",
       "    .dataframe tbody tr th {\n",
       "        vertical-align: top;\n",
       "    }\n",
       "\n",
       "    .dataframe thead th {\n",
       "        text-align: right;\n",
       "    }\n",
       "</style>\n",
       "<table border=\"1\" class=\"dataframe\">\n",
       "  <thead>\n",
       "    <tr style=\"text-align: right;\">\n",
       "      <th>debt</th>\n",
       "      <th>False</th>\n",
       "      <th>True</th>\n",
       "      <th>Кол-во клиентов</th>\n",
       "    </tr>\n",
       "    <tr>\n",
       "      <th>family_status</th>\n",
       "      <th></th>\n",
       "      <th></th>\n",
       "      <th></th>\n",
       "    </tr>\n",
       "  </thead>\n",
       "  <tbody>\n",
       "    <tr>\n",
       "      <th>Не женат / не замужем</th>\n",
       "      <td>90.2%</td>\n",
       "      <td>9.8%</td>\n",
       "      <td>2204</td>\n",
       "    </tr>\n",
       "    <tr>\n",
       "      <th>в разводе</th>\n",
       "      <td>92.9%</td>\n",
       "      <td>7.1%</td>\n",
       "      <td>881</td>\n",
       "    </tr>\n",
       "    <tr>\n",
       "      <th>вдовец / вдова</th>\n",
       "      <td>93.4%</td>\n",
       "      <td>6.6%</td>\n",
       "      <td>378</td>\n",
       "    </tr>\n",
       "    <tr>\n",
       "      <th>гражданский брак</th>\n",
       "      <td>90.7%</td>\n",
       "      <td>9.3%</td>\n",
       "      <td>3142</td>\n",
       "    </tr>\n",
       "    <tr>\n",
       "      <th>женат / замужем</th>\n",
       "      <td>92.5%</td>\n",
       "      <td>7.5%</td>\n",
       "      <td>9203</td>\n",
       "    </tr>\n",
       "  </tbody>\n",
       "</table>\n",
       "</div>"
      ],
      "text/plain": [
       "debt                   False  True  Кол-во клиентов\n",
       "family_status                                      \n",
       "Не женат / не замужем  90.2%  9.8%             2204\n",
       "в разводе              92.9%  7.1%              881\n",
       "вдовец / вдова         93.4%  6.6%              378\n",
       "гражданский брак       90.7%  9.3%             3142\n",
       "женат / замужем        92.5%  7.5%             9203"
      ]
     },
     "execution_count": 32,
     "metadata": {},
     "output_type": "execute_result"
    }
   ],
   "source": [
    "debt_family = (\n",
    "    pd.crosstab(\n",
    "        values=df.debt,\n",
    "        columns=df.family_status,\n",
    "        index=df.debt,\n",
    "        aggfunc=\"count\",\n",
    "        normalize=\"columns\",\n",
    "    )\n",
    "    .applymap(lambda x: \"{0:.1%}\".format(x))\n",
    "    .T\n",
    ")\n",
    "\n",
    "debt_family[\"Кол-во клиентов\"] = pd.pivot_table(\n",
    "    data=df, columns=df.family_status, index=df.debt, aggfunc=\"count\"\n",
    ")[\"days_employed\"].T.sum(axis=1)\n",
    "debt_family\n"
   ]
  },
  {
   "cell_type": "markdown",
   "metadata": {},
   "source": [
    "### <center><span style=\"color: crimson\"><b>Вывод</b></span></center>\n",
    "Если пренебречь погрешностью, вплоть до 2.5% (что очень плохая идея), т.к. у нас нет возможности получить доп. данные, то:  \n",
    "\n",
    "**Наименьшее**: число задолжностей имеют статусы: (вдовец / вдова) и (в разводе).  \n",
    "**Наибольшее**: число задолжностей имеют статусы: (Не женат / не замужем) и (гражданский брак)."
   ]
  },
  {
   "cell_type": "markdown",
   "metadata": {},
   "source": [
    "### <span style=\"color: red\">Е</span>сть ли зависимость между уровнем дохода и возвратом кредита в срок?"
   ]
  },
  {
   "cell_type": "code",
   "execution_count": 33,
   "metadata": {},
   "outputs": [
    {
     "data": {
      "text/html": [
       "<div>\n",
       "<style scoped>\n",
       "    .dataframe tbody tr th:only-of-type {\n",
       "        vertical-align: middle;\n",
       "    }\n",
       "\n",
       "    .dataframe tbody tr th {\n",
       "        vertical-align: top;\n",
       "    }\n",
       "\n",
       "    .dataframe thead th {\n",
       "        text-align: right;\n",
       "    }\n",
       "</style>\n",
       "<table border=\"1\" class=\"dataframe\">\n",
       "  <thead>\n",
       "    <tr style=\"text-align: right;\">\n",
       "      <th></th>\n",
       "      <th>debt</th>\n",
       "      <th>Кол-во клиентов</th>\n",
       "    </tr>\n",
       "    <tr>\n",
       "      <th>total_income</th>\n",
       "      <th></th>\n",
       "      <th></th>\n",
       "    </tr>\n",
       "  </thead>\n",
       "  <tbody>\n",
       "    <tr>\n",
       "      <th>(20667.263, 102999.996]</th>\n",
       "      <td>8.0%</td>\n",
       "      <td>4810</td>\n",
       "    </tr>\n",
       "    <tr>\n",
       "      <th>(102999.996, 145017.938]</th>\n",
       "      <td>8.7%</td>\n",
       "      <td>4810</td>\n",
       "    </tr>\n",
       "    <tr>\n",
       "      <th>(145017.938, 203435.068]</th>\n",
       "      <td>8.8%</td>\n",
       "      <td>4809</td>\n",
       "    </tr>\n",
       "    <tr>\n",
       "      <th>(203435.068, 2265604.029]</th>\n",
       "      <td>7.0%</td>\n",
       "      <td>4810</td>\n",
       "    </tr>\n",
       "  </tbody>\n",
       "</table>\n",
       "</div>"
      ],
      "text/plain": [
       "                           debt  Кол-во клиентов\n",
       "total_income                                    \n",
       "(20667.263, 102999.996]    8.0%             4810\n",
       "(102999.996, 145017.938]   8.7%             4810\n",
       "(145017.938, 203435.068]   8.8%             4809\n",
       "(203435.068, 2265604.029]  7.0%             4810"
      ]
     },
     "execution_count": 33,
     "metadata": {},
     "output_type": "execute_result"
    }
   ],
   "source": [
    "list_quart = df.groupby(pd.qcut(df[\"total_income\"], [0, 0.25, 0.5, 0.75, 1.0]))[\"debt\"]\n",
    "\n",
    "debt_income = list_quart.mean().to_frame().applymap(lambda x: \"{0:.1%}\".format(x))\n",
    "debt_income[\"Кол-во клиентов\"] = list_quart.count()\n",
    "debt_income"
   ]
  },
  {
   "cell_type": "markdown",
   "metadata": {},
   "source": [
    "### <center><span style=\"color: crimson\"><b>Вывод</b></span></center>\n",
    "\n",
    "Т.к мы имеем равное расправление по группам (разделение происходило по квартилям), у нас не маленькие выборки (к примеру в медицинской практике работают со значительно меньшими группами) и по формуле погрешность измерений при 95% доверительном интервале около 0.8, то можно предположить, что наилучшие клиенты те у кого уровнем дохода 203435-2265604 руб."
   ]
  },
  {
   "cell_type": "markdown",
   "metadata": {},
   "source": [
    "### <span style=\"color: red\">К</span>ак разные цели кредита влияют на его возврат в срок?"
   ]
  },
  {
   "cell_type": "code",
   "execution_count": 34,
   "metadata": {},
   "outputs": [
    {
     "data": {
      "text/html": [
       "<div>\n",
       "<style scoped>\n",
       "    .dataframe tbody tr th:only-of-type {\n",
       "        vertical-align: middle;\n",
       "    }\n",
       "\n",
       "    .dataframe tbody tr th {\n",
       "        vertical-align: top;\n",
       "    }\n",
       "\n",
       "    .dataframe thead th {\n",
       "        text-align: right;\n",
       "    }\n",
       "</style>\n",
       "<table border=\"1\" class=\"dataframe\">\n",
       "  <thead>\n",
       "    <tr style=\"text-align: right;\">\n",
       "      <th>purpose_category</th>\n",
       "      <th>на автомобиль</th>\n",
       "      <th>на недвижимость</th>\n",
       "      <th>подготовка к свадьбе</th>\n",
       "      <th>получение образования</th>\n",
       "    </tr>\n",
       "    <tr>\n",
       "      <th>debt</th>\n",
       "      <th></th>\n",
       "      <th></th>\n",
       "      <th></th>\n",
       "      <th></th>\n",
       "    </tr>\n",
       "  </thead>\n",
       "  <tbody>\n",
       "    <tr>\n",
       "      <th>False</th>\n",
       "      <td>90.7%</td>\n",
       "      <td>92.8%</td>\n",
       "      <td>92.2%</td>\n",
       "      <td>90.8%</td>\n",
       "    </tr>\n",
       "    <tr>\n",
       "      <th>True</th>\n",
       "      <td>9.3%</td>\n",
       "      <td>7.2%</td>\n",
       "      <td>7.8%</td>\n",
       "      <td>9.2%</td>\n",
       "    </tr>\n",
       "  </tbody>\n",
       "</table>\n",
       "</div>"
      ],
      "text/plain": [
       "purpose_category на автомобиль на недвижимость подготовка к свадьбе  \\\n",
       "debt                                                                  \n",
       "False                    90.7%           92.8%                92.2%   \n",
       "True                      9.3%            7.2%                 7.8%   \n",
       "\n",
       "purpose_category получение образования  \n",
       "debt                                    \n",
       "False                            90.8%  \n",
       "True                              9.2%  "
      ]
     },
     "execution_count": 34,
     "metadata": {},
     "output_type": "execute_result"
    }
   ],
   "source": [
    "pd.crosstab(\n",
    "    values=df.debt,\n",
    "    columns=df.purpose_category,\n",
    "    index=df.debt,\n",
    "    aggfunc=\"count\",\n",
    "    normalize=\"columns\",\n",
    ").applymap(lambda x: \"{0:.1%}\".format(x))"
   ]
  },
  {
   "cell_type": "markdown",
   "metadata": {},
   "source": [
    "### <center><span style=\"color: crimson\"><b>Вывод</b></span></center>\n",
    "\n",
    "Из представленных данных можно предположить, что наш идеальный клиент, тот кто берет кредит на недвижимость или свадьбу (но свадьба может быть косвенным признаком изменившегося семейного положения клиента)."
   ]
  },
  {
   "cell_type": "markdown",
   "metadata": {},
   "source": [
    "## <span style=\"color: crimson\">Этап 4</span> Результаты исследований"
   ]
  },
  {
   "cell_type": "markdown",
   "metadata": {},
   "source": [
    "### <span style=\"color: red\">Р</span>екомендации банку:\n",
    "1. Советую пересмотреть валидацию формы заполняемую на получение кредита:\n",
    "(Это поможет избавиться от пропусков и аномалий)\n",
    "2. Добавить пользователям уникальный идентификатор (это, даст нам уверенность в отсутствии дубликатов, кроме того при неоднократном получении кредита можно проверить, как на шанс погашения влияет сам человек).  \n",
    "3. Параметр цели кредита стоит разделить на категории, чтобы они не повторялись и не приходилось проводить лемматизацию.\n",
    "4. Стоит указывать сумму кредита, это поможет провести дополнительный анализ.\n",
    "5. Увеличить кол-во клиентов для анализа.\n",
    "\n",
    "\n",
    "### <span style=\"color: red\">Р</span>езультат исследования, на погашения кредита: \n",
    "Все параметры в той или иной мере влияют на результат, но велик шанс погрешности из-за маленькой выборки (для такого низкого процента различий между категориями.)  \n",
    "\n",
    "**Наилучший клиенты имеют следующие параметры:**\n",
    "1. Отсутствие детей.\n",
    "2. Семейный статус (вдовец / вдова) и (в разводе).\n",
    "3. Заработная плата находится в диапазоне 203435-2265604 руб.\n",
    "4. Цель кредита  (на недвижимость) и (подготовка к свадьбе)"
   ]
  }
 ],
 "metadata": {
  "ExecuteTimeLog": [
   {
    "duration": 1189,
    "start_time": "2021-09-16T19:05:57.920Z"
   },
   {
    "duration": 1369,
    "start_time": "2021-09-16T19:06:22.315Z"
   },
   {
    "duration": 130,
    "start_time": "2021-09-16T19:06:45.171Z"
   },
   {
    "duration": 4727,
    "start_time": "2021-09-16T19:06:49.840Z"
   },
   {
    "duration": 2933,
    "start_time": "2021-09-16T19:06:57.885Z"
   },
   {
    "duration": 3420,
    "start_time": "2021-09-16T19:07:20.029Z"
   },
   {
    "duration": 2641,
    "start_time": "2021-09-16T19:08:13.216Z"
   },
   {
    "duration": 3111,
    "start_time": "2021-09-16T19:08:18.510Z"
   },
   {
    "duration": 65,
    "start_time": "2021-09-16T19:08:44.833Z"
   },
   {
    "duration": 116,
    "start_time": "2021-09-16T19:14:29.307Z"
   },
   {
    "duration": 489,
    "start_time": "2021-09-16T19:15:04.810Z"
   },
   {
    "duration": 855,
    "start_time": "2021-09-16T19:17:59.684Z"
   },
   {
    "duration": 763,
    "start_time": "2021-09-16T19:18:03.612Z"
   },
   {
    "duration": 16,
    "start_time": "2021-09-16T19:18:08.367Z"
   },
   {
    "duration": 59,
    "start_time": "2021-09-16T19:18:09.007Z"
   },
   {
    "duration": 24,
    "start_time": "2021-09-16T19:18:14.855Z"
   },
   {
    "duration": 81,
    "start_time": "2021-09-16T19:18:57.677Z"
   },
   {
    "duration": 28,
    "start_time": "2021-09-16T19:21:02.693Z"
   },
   {
    "duration": 20,
    "start_time": "2021-09-16T19:21:42.311Z"
   },
   {
    "duration": 123,
    "start_time": "2021-09-16T19:22:07.466Z"
   },
   {
    "duration": 56,
    "start_time": "2021-09-16T19:33:03.630Z"
   },
   {
    "duration": 27,
    "start_time": "2021-09-16T19:33:30.166Z"
   },
   {
    "duration": 26,
    "start_time": "2021-09-16T19:33:41.095Z"
   },
   {
    "duration": 2233,
    "start_time": "2021-09-16T19:33:56.859Z"
   },
   {
    "duration": 23,
    "start_time": "2021-09-16T19:34:00.628Z"
   },
   {
    "duration": 29,
    "start_time": "2021-09-16T19:34:15.055Z"
   },
   {
    "duration": 24,
    "start_time": "2021-09-16T19:34:21.664Z"
   },
   {
    "duration": 27,
    "start_time": "2021-09-16T19:34:25.078Z"
   },
   {
    "duration": 33,
    "start_time": "2021-09-16T19:40:24.001Z"
   },
   {
    "duration": 169,
    "start_time": "2021-09-16T19:40:35.459Z"
   },
   {
    "duration": 26,
    "start_time": "2021-09-16T19:40:46.079Z"
   },
   {
    "duration": 34,
    "start_time": "2021-09-16T19:40:53.657Z"
   },
   {
    "duration": 32,
    "start_time": "2021-09-16T19:41:04.410Z"
   },
   {
    "duration": 26,
    "start_time": "2021-09-16T19:41:11.850Z"
   },
   {
    "duration": 401,
    "start_time": "2021-09-16T19:41:37.733Z"
   },
   {
    "duration": 41,
    "start_time": "2021-09-16T19:41:50.109Z"
   },
   {
    "duration": 13,
    "start_time": "2021-09-16T19:42:06.691Z"
   },
   {
    "duration": 106,
    "start_time": "2021-09-16T19:42:18.573Z"
   },
   {
    "duration": 25,
    "start_time": "2021-09-16T19:42:23.192Z"
   },
   {
    "duration": 12,
    "start_time": "2021-09-16T19:43:43.787Z"
   },
   {
    "duration": 38,
    "start_time": "2021-09-16T19:43:48.088Z"
   },
   {
    "duration": 24,
    "start_time": "2021-09-16T19:44:51.517Z"
   },
   {
    "duration": 26,
    "start_time": "2021-09-16T19:44:55.845Z"
   },
   {
    "duration": 34,
    "start_time": "2021-09-16T19:49:41.034Z"
   },
   {
    "duration": 57,
    "start_time": "2021-09-16T19:49:57.508Z"
   },
   {
    "duration": 630,
    "start_time": "2021-09-16T19:50:54.425Z"
   },
   {
    "duration": 350,
    "start_time": "2021-09-16T19:50:58.273Z"
   },
   {
    "duration": 432,
    "start_time": "2021-09-16T19:51:02.050Z"
   },
   {
    "duration": 374,
    "start_time": "2021-09-16T19:51:42.826Z"
   },
   {
    "duration": 55,
    "start_time": "2021-09-16T19:51:55.931Z"
   },
   {
    "duration": 32,
    "start_time": "2021-09-16T19:52:12.160Z"
   },
   {
    "duration": 5,
    "start_time": "2021-09-16T19:52:24.255Z"
   },
   {
    "duration": 33,
    "start_time": "2021-09-16T19:53:29.015Z"
   },
   {
    "duration": 58,
    "start_time": "2021-09-16T19:53:33.295Z"
   },
   {
    "duration": 70,
    "start_time": "2021-09-16T19:57:55.187Z"
   },
   {
    "duration": 45,
    "start_time": "2021-09-16T19:58:06.554Z"
   },
   {
    "duration": 95,
    "start_time": "2021-09-16T20:18:09.848Z"
   },
   {
    "duration": 30,
    "start_time": "2021-09-16T20:20:12.235Z"
   },
   {
    "duration": 46,
    "start_time": "2021-09-16T20:20:25.553Z"
   },
   {
    "duration": 15,
    "start_time": "2021-09-16T20:20:46.258Z"
   },
   {
    "duration": 52,
    "start_time": "2021-09-16T20:21:50.707Z"
   },
   {
    "duration": 320,
    "start_time": "2021-09-16T20:26:42.365Z"
   },
   {
    "duration": 37,
    "start_time": "2021-09-16T20:26:52.981Z"
   },
   {
    "duration": 35,
    "start_time": "2021-09-16T20:28:14.320Z"
   },
   {
    "duration": 9,
    "start_time": "2021-09-16T20:28:20.284Z"
   },
   {
    "duration": 10,
    "start_time": "2021-09-16T20:31:13.669Z"
   },
   {
    "duration": 37,
    "start_time": "2021-09-16T20:32:59.696Z"
   },
   {
    "duration": 36,
    "start_time": "2021-09-16T20:33:07.903Z"
   },
   {
    "duration": 36,
    "start_time": "2021-09-16T20:33:13.225Z"
   },
   {
    "duration": 47,
    "start_time": "2021-09-16T20:38:48.222Z"
   },
   {
    "duration": 359,
    "start_time": "2021-09-17T10:57:58.564Z"
   },
   {
    "duration": 791,
    "start_time": "2021-09-17T10:58:03.859Z"
   },
   {
    "duration": 18,
    "start_time": "2021-09-17T10:58:04.653Z"
   },
   {
    "duration": 51,
    "start_time": "2021-09-17T10:58:04.675Z"
   },
   {
    "duration": 47,
    "start_time": "2021-09-17T10:58:04.729Z"
   },
   {
    "duration": 50,
    "start_time": "2021-09-17T10:58:04.779Z"
   },
   {
    "duration": 9,
    "start_time": "2021-09-17T10:58:04.877Z"
   },
   {
    "duration": 81,
    "start_time": "2021-09-17T10:58:05.725Z"
   },
   {
    "duration": 29,
    "start_time": "2021-09-17T10:58:06.287Z"
   },
   {
    "duration": 79,
    "start_time": "2021-09-17T10:58:11.192Z"
   },
   {
    "duration": 43,
    "start_time": "2021-09-17T11:00:49.616Z"
   },
   {
    "duration": 7,
    "start_time": "2021-09-17T11:12:00.864Z"
   },
   {
    "duration": 115,
    "start_time": "2021-09-17T11:17:28.889Z"
   },
   {
    "duration": 1402,
    "start_time": "2021-09-17T11:26:30.294Z"
   },
   {
    "duration": 20,
    "start_time": "2021-09-17T11:26:35.410Z"
   },
   {
    "duration": 2126,
    "start_time": "2021-09-17T11:26:43.837Z"
   },
   {
    "duration": 313,
    "start_time": "2021-09-17T11:26:56.427Z"
   },
   {
    "duration": 7,
    "start_time": "2021-09-17T11:27:06.647Z"
   },
   {
    "duration": 103,
    "start_time": "2021-09-17T12:27:47.045Z"
   },
   {
    "duration": 96,
    "start_time": "2021-09-17T12:30:09.348Z"
   },
   {
    "duration": 25,
    "start_time": "2021-09-17T12:31:09.715Z"
   },
   {
    "duration": 20,
    "start_time": "2021-09-17T12:31:22.947Z"
   },
   {
    "duration": 6,
    "start_time": "2021-09-17T12:31:49.106Z"
   },
   {
    "duration": 7,
    "start_time": "2021-09-17T12:31:57.127Z"
   },
   {
    "duration": 21,
    "start_time": "2021-09-17T12:32:02.342Z"
   },
   {
    "duration": 7,
    "start_time": "2021-09-17T12:32:26.635Z"
   },
   {
    "duration": 25,
    "start_time": "2021-09-17T12:32:55.137Z"
   },
   {
    "duration": 6,
    "start_time": "2021-09-17T12:32:55.972Z"
   },
   {
    "duration": 23,
    "start_time": "2021-09-17T12:33:17.876Z"
   },
   {
    "duration": 7,
    "start_time": "2021-09-17T12:33:19.497Z"
   },
   {
    "duration": 23,
    "start_time": "2021-09-17T12:33:26.503Z"
   },
   {
    "duration": 7,
    "start_time": "2021-09-17T12:33:27.194Z"
   },
   {
    "duration": 361,
    "start_time": "2021-09-17T12:35:37.602Z"
   },
   {
    "duration": 3,
    "start_time": "2021-09-17T13:05:37.912Z"
   },
   {
    "duration": 21,
    "start_time": "2021-09-17T13:07:34.387Z"
   },
   {
    "duration": 124,
    "start_time": "2021-09-17T13:08:54.449Z"
   },
   {
    "duration": 3,
    "start_time": "2021-09-17T14:12:25.883Z"
   },
   {
    "duration": 36,
    "start_time": "2021-09-17T14:17:08.484Z"
   },
   {
    "duration": 295,
    "start_time": "2021-09-17T14:17:22.009Z"
   },
   {
    "duration": 8,
    "start_time": "2021-09-17T14:17:32.175Z"
   },
   {
    "duration": 7,
    "start_time": "2021-09-17T14:19:16.665Z"
   },
   {
    "duration": 7,
    "start_time": "2021-09-17T14:19:18.486Z"
   },
   {
    "duration": 7,
    "start_time": "2021-09-17T14:19:18.988Z"
   },
   {
    "duration": 7,
    "start_time": "2021-09-17T14:21:50.118Z"
   },
   {
    "duration": 7,
    "start_time": "2021-09-17T14:23:56.552Z"
   },
   {
    "duration": 8,
    "start_time": "2021-09-17T14:23:57.096Z"
   },
   {
    "duration": 307,
    "start_time": "2021-09-17T14:23:57.555Z"
   },
   {
    "duration": 9,
    "start_time": "2021-09-17T14:25:14.637Z"
   },
   {
    "duration": 8,
    "start_time": "2021-09-17T14:25:17.569Z"
   },
   {
    "duration": 8,
    "start_time": "2021-09-17T14:25:24.506Z"
   },
   {
    "duration": 9,
    "start_time": "2021-09-17T14:25:29.010Z"
   },
   {
    "duration": 9,
    "start_time": "2021-09-17T14:25:32.891Z"
   },
   {
    "duration": 12,
    "start_time": "2021-09-17T14:25:40.271Z"
   },
   {
    "duration": 63,
    "start_time": "2021-09-17T14:25:55.533Z"
   },
   {
    "duration": 16,
    "start_time": "2021-09-17T14:25:56.294Z"
   },
   {
    "duration": 19,
    "start_time": "2021-09-17T14:25:57.228Z"
   },
   {
    "duration": 48,
    "start_time": "2021-09-17T14:25:57.456Z"
   },
   {
    "duration": 79,
    "start_time": "2021-09-17T14:25:57.671Z"
   },
   {
    "duration": 26,
    "start_time": "2021-09-17T14:25:57.865Z"
   },
   {
    "duration": 8,
    "start_time": "2021-09-17T14:26:00.716Z"
   },
   {
    "duration": 8,
    "start_time": "2021-09-17T14:26:01.180Z"
   },
   {
    "duration": 9,
    "start_time": "2021-09-17T14:26:01.565Z"
   },
   {
    "duration": 8,
    "start_time": "2021-09-17T14:26:02.702Z"
   },
   {
    "duration": 19,
    "start_time": "2021-09-17T14:26:03.142Z"
   },
   {
    "duration": 9,
    "start_time": "2021-09-17T14:26:10.544Z"
   },
   {
    "duration": 27,
    "start_time": "2021-09-17T14:33:41.020Z"
   },
   {
    "duration": 54,
    "start_time": "2021-09-17T14:33:48.058Z"
   },
   {
    "duration": 23,
    "start_time": "2021-09-17T14:33:52.600Z"
   },
   {
    "duration": 418,
    "start_time": "2021-09-17T14:35:35.247Z"
   },
   {
    "duration": 16,
    "start_time": "2021-09-17T14:40:35.980Z"
   },
   {
    "duration": 26,
    "start_time": "2021-09-17T14:40:51.423Z"
   },
   {
    "duration": 9,
    "start_time": "2021-09-17T14:41:01.852Z"
   },
   {
    "duration": 294,
    "start_time": "2021-09-17T14:57:50.104Z"
   },
   {
    "duration": 14,
    "start_time": "2021-09-17T14:58:10.200Z"
   },
   {
    "duration": 13,
    "start_time": "2021-09-17T14:58:24.454Z"
   },
   {
    "duration": 11,
    "start_time": "2021-09-17T15:02:43.326Z"
   },
   {
    "duration": 65,
    "start_time": "2021-09-17T15:02:52.657Z"
   },
   {
    "duration": 15,
    "start_time": "2021-09-17T15:02:56.719Z"
   },
   {
    "duration": 13,
    "start_time": "2021-09-17T15:02:57.880Z"
   },
   {
    "duration": 16,
    "start_time": "2021-09-17T15:06:39.464Z"
   },
   {
    "duration": 15,
    "start_time": "2021-09-17T15:20:51.116Z"
   },
   {
    "duration": 3,
    "start_time": "2021-09-17T15:21:53.262Z"
   },
   {
    "duration": 8,
    "start_time": "2021-09-17T15:28:21.354Z"
   },
   {
    "duration": 18,
    "start_time": "2021-09-17T15:31:28.066Z"
   },
   {
    "duration": 15,
    "start_time": "2021-09-17T15:32:01.082Z"
   },
   {
    "duration": 66,
    "start_time": "2021-09-17T15:32:06.035Z"
   },
   {
    "duration": 18,
    "start_time": "2021-09-17T15:32:10.269Z"
   },
   {
    "duration": 11,
    "start_time": "2021-09-17T15:32:18.917Z"
   },
   {
    "duration": 8009,
    "start_time": "2021-09-17T15:33:44.120Z"
   },
   {
    "duration": -647,
    "start_time": "2021-09-17T15:34:07.252Z"
   },
   {
    "duration": 9933,
    "start_time": "2021-09-17T15:34:10.780Z"
   },
   {
    "duration": 12,
    "start_time": "2021-09-17T15:39:02.549Z"
   },
   {
    "duration": 2616,
    "start_time": "2021-09-17T15:42:08.917Z"
   },
   {
    "duration": 2079,
    "start_time": "2021-09-17T15:42:35.338Z"
   },
   {
    "duration": 2253,
    "start_time": "2021-09-17T15:42:54.510Z"
   },
   {
    "duration": 2060,
    "start_time": "2021-09-17T15:43:11.594Z"
   },
   {
    "duration": 333,
    "start_time": "2021-09-17T15:43:54.477Z"
   },
   {
    "duration": 377,
    "start_time": "2021-09-17T15:44:03.859Z"
   },
   {
    "duration": 338,
    "start_time": "2021-09-17T15:44:39.529Z"
   },
   {
    "duration": 64,
    "start_time": "2021-09-17T15:44:47.016Z"
   },
   {
    "duration": 17,
    "start_time": "2021-09-17T15:44:49.906Z"
   },
   {
    "duration": 11,
    "start_time": "2021-09-17T15:44:50.947Z"
   },
   {
    "duration": 12,
    "start_time": "2021-09-17T15:44:53.358Z"
   },
   {
    "duration": 363,
    "start_time": "2021-09-17T15:44:54.854Z"
   },
   {
    "duration": 312,
    "start_time": "2021-09-17T15:45:14.567Z"
   },
   {
    "duration": 14,
    "start_time": "2021-09-17T15:45:37.586Z"
   },
   {
    "duration": 19,
    "start_time": "2021-09-17T15:45:41.290Z"
   },
   {
    "duration": 11,
    "start_time": "2021-09-17T15:48:57.479Z"
   },
   {
    "duration": 12,
    "start_time": "2021-09-17T15:49:02.406Z"
   },
   {
    "duration": 13,
    "start_time": "2021-09-17T15:49:16.699Z"
   },
   {
    "duration": 64,
    "start_time": "2021-09-17T16:03:38.152Z"
   },
   {
    "duration": 19,
    "start_time": "2021-09-17T16:03:45.743Z"
   },
   {
    "duration": 12,
    "start_time": "2021-09-17T16:03:47.562Z"
   },
   {
    "duration": 12,
    "start_time": "2021-09-17T16:03:48.222Z"
   },
   {
    "duration": 11,
    "start_time": "2021-09-17T16:03:51.404Z"
   },
   {
    "duration": 31,
    "start_time": "2021-09-17T16:06:35.895Z"
   },
   {
    "duration": 23,
    "start_time": "2021-09-17T16:06:43.418Z"
   },
   {
    "duration": 9,
    "start_time": "2021-09-17T16:06:57.570Z"
   },
   {
    "duration": 23,
    "start_time": "2021-09-17T16:09:26.615Z"
   },
   {
    "duration": 7,
    "start_time": "2021-09-17T16:25:21.626Z"
   },
   {
    "duration": 23,
    "start_time": "2021-09-17T16:25:32.037Z"
   },
   {
    "duration": 55,
    "start_time": "2021-09-17T16:32:03.015Z"
   },
   {
    "duration": 14,
    "start_time": "2021-09-17T16:34:46.710Z"
   },
   {
    "duration": 907,
    "start_time": "2021-09-17T16:35:13.506Z"
   },
   {
    "duration": 16,
    "start_time": "2021-09-17T16:35:14.417Z"
   },
   {
    "duration": 29,
    "start_time": "2021-09-17T16:35:14.440Z"
   },
   {
    "duration": 85,
    "start_time": "2021-09-17T16:35:14.471Z"
   },
   {
    "duration": 116,
    "start_time": "2021-09-17T16:35:14.559Z"
   },
   {
    "duration": 52,
    "start_time": "2021-09-17T16:35:14.677Z"
   },
   {
    "duration": 17,
    "start_time": "2021-09-17T16:35:16.151Z"
   },
   {
    "duration": 12,
    "start_time": "2021-09-17T16:35:16.730Z"
   },
   {
    "duration": 13,
    "start_time": "2021-09-17T16:35:17.092Z"
   },
   {
    "duration": 16,
    "start_time": "2021-09-17T16:35:17.453Z"
   },
   {
    "duration": 11,
    "start_time": "2021-09-17T16:35:17.834Z"
   },
   {
    "duration": 22,
    "start_time": "2021-09-17T16:35:18.300Z"
   },
   {
    "duration": 6,
    "start_time": "2021-09-17T16:35:19.301Z"
   },
   {
    "duration": 48,
    "start_time": "2021-09-17T16:35:20.628Z"
   },
   {
    "duration": 7,
    "start_time": "2021-09-17T16:44:08.057Z"
   },
   {
    "duration": 13,
    "start_time": "2021-09-17T16:45:13.542Z"
   },
   {
    "duration": 16,
    "start_time": "2021-09-17T16:45:24.634Z"
   },
   {
    "duration": 382,
    "start_time": "2021-09-17T16:46:27.130Z"
   },
   {
    "duration": 12,
    "start_time": "2021-09-17T16:46:34.137Z"
   },
   {
    "duration": 816,
    "start_time": "2021-09-17T16:47:03.029Z"
   },
   {
    "duration": 15,
    "start_time": "2021-09-17T16:47:03.848Z"
   },
   {
    "duration": 32,
    "start_time": "2021-09-17T16:47:03.866Z"
   },
   {
    "duration": 50,
    "start_time": "2021-09-17T16:47:03.901Z"
   },
   {
    "duration": 84,
    "start_time": "2021-09-17T16:47:03.954Z"
   },
   {
    "duration": 26,
    "start_time": "2021-09-17T16:47:04.041Z"
   },
   {
    "duration": 9,
    "start_time": "2021-09-17T16:47:04.069Z"
   },
   {
    "duration": 13,
    "start_time": "2021-09-17T16:47:04.081Z"
   },
   {
    "duration": 12,
    "start_time": "2021-09-17T16:47:04.116Z"
   },
   {
    "duration": 16,
    "start_time": "2021-09-17T16:47:04.130Z"
   },
   {
    "duration": 14,
    "start_time": "2021-09-17T16:47:04.149Z"
   },
   {
    "duration": 24,
    "start_time": "2021-09-17T16:47:04.949Z"
   },
   {
    "duration": 371,
    "start_time": "2021-09-17T16:47:04.976Z"
   },
   {
    "duration": 48,
    "start_time": "2021-09-17T16:47:06.645Z"
   },
   {
    "duration": 9,
    "start_time": "2021-09-17T16:47:28.156Z"
   },
   {
    "duration": 9,
    "start_time": "2021-09-17T16:48:05.077Z"
   },
   {
    "duration": 18,
    "start_time": "2021-09-17T16:50:15.449Z"
   },
   {
    "duration": 13,
    "start_time": "2021-09-17T16:50:18.443Z"
   },
   {
    "duration": 12,
    "start_time": "2021-09-17T16:50:19.457Z"
   },
   {
    "duration": 13,
    "start_time": "2021-09-17T16:50:33.682Z"
   },
   {
    "duration": 17,
    "start_time": "2021-09-17T16:50:36.490Z"
   },
   {
    "duration": 111,
    "start_time": "2021-09-17T16:51:58.872Z"
   },
   {
    "duration": 8,
    "start_time": "2021-09-17T16:52:22.425Z"
   },
   {
    "duration": 172,
    "start_time": "2021-09-17T16:53:19.219Z"
   },
   {
    "duration": 8,
    "start_time": "2021-09-17T16:53:26.007Z"
   },
   {
    "duration": 49,
    "start_time": "2021-09-17T16:53:38.000Z"
   },
   {
    "duration": 8,
    "start_time": "2021-09-17T16:54:27.688Z"
   },
   {
    "duration": 14,
    "start_time": "2021-09-17T16:54:58.856Z"
   },
   {
    "duration": 7,
    "start_time": "2021-09-17T16:54:59.990Z"
   },
   {
    "duration": 13,
    "start_time": "2021-09-17T16:55:37.945Z"
   },
   {
    "duration": 13,
    "start_time": "2021-09-17T16:55:44.131Z"
   },
   {
    "duration": 831,
    "start_time": "2021-09-17T16:55:52.200Z"
   },
   {
    "duration": 20,
    "start_time": "2021-09-17T16:55:53.034Z"
   },
   {
    "duration": 60,
    "start_time": "2021-09-17T16:55:53.058Z"
   },
   {
    "duration": 51,
    "start_time": "2021-09-17T16:55:53.122Z"
   },
   {
    "duration": 141,
    "start_time": "2021-09-17T16:55:53.177Z"
   },
   {
    "duration": 27,
    "start_time": "2021-09-17T16:55:53.320Z"
   },
   {
    "duration": 10,
    "start_time": "2021-09-17T16:55:54.096Z"
   },
   {
    "duration": 23,
    "start_time": "2021-09-17T16:55:54.458Z"
   },
   {
    "duration": 13,
    "start_time": "2021-09-17T16:55:55.184Z"
   },
   {
    "duration": 13,
    "start_time": "2021-09-17T16:55:56.156Z"
   },
   {
    "duration": 13,
    "start_time": "2021-09-17T16:55:57.249Z"
   },
   {
    "duration": 13,
    "start_time": "2021-09-17T16:55:57.758Z"
   },
   {
    "duration": 64,
    "start_time": "2021-09-17T16:56:02.515Z"
   },
   {
    "duration": 15,
    "start_time": "2021-09-17T16:56:03.035Z"
   },
   {
    "duration": 26,
    "start_time": "2021-09-17T16:56:03.077Z"
   },
   {
    "duration": 46,
    "start_time": "2021-09-17T16:56:03.125Z"
   },
   {
    "duration": 98,
    "start_time": "2021-09-17T16:56:03.178Z"
   },
   {
    "duration": 51,
    "start_time": "2021-09-17T16:56:03.279Z"
   },
   {
    "duration": 9,
    "start_time": "2021-09-17T16:56:03.348Z"
   },
   {
    "duration": 15,
    "start_time": "2021-09-17T16:56:03.410Z"
   },
   {
    "duration": 12,
    "start_time": "2021-09-17T16:56:03.476Z"
   },
   {
    "duration": 12,
    "start_time": "2021-09-17T16:56:03.539Z"
   },
   {
    "duration": 15,
    "start_time": "2021-09-17T16:56:03.889Z"
   },
   {
    "duration": 11,
    "start_time": "2021-09-17T16:56:04.664Z"
   },
   {
    "duration": 11,
    "start_time": "2021-09-17T16:56:06.207Z"
   },
   {
    "duration": 23,
    "start_time": "2021-09-17T16:56:07.267Z"
   },
   {
    "duration": 7,
    "start_time": "2021-09-17T16:56:11.901Z"
   },
   {
    "duration": 49,
    "start_time": "2021-09-17T16:56:12.876Z"
   },
   {
    "duration": 7,
    "start_time": "2021-09-17T16:56:16.254Z"
   },
   {
    "duration": 13,
    "start_time": "2021-09-17T16:56:31.229Z"
   },
   {
    "duration": 7,
    "start_time": "2021-09-17T16:56:31.952Z"
   },
   {
    "duration": 20,
    "start_time": "2021-09-17T16:56:45.164Z"
   },
   {
    "duration": 7560,
    "start_time": "2021-09-17T16:57:04.886Z"
   },
   {
    "duration": 7,
    "start_time": "2021-09-17T16:57:37.782Z"
   },
   {
    "duration": 8586,
    "start_time": "2021-09-17T16:57:38.449Z"
   },
   {
    "duration": 818,
    "start_time": "2021-09-17T16:57:50.823Z"
   },
   {
    "duration": 15,
    "start_time": "2021-09-17T16:57:51.644Z"
   },
   {
    "duration": 56,
    "start_time": "2021-09-17T16:57:51.662Z"
   },
   {
    "duration": 54,
    "start_time": "2021-09-17T16:57:51.720Z"
   },
   {
    "duration": 79,
    "start_time": "2021-09-17T16:57:51.856Z"
   },
   {
    "duration": 28,
    "start_time": "2021-09-17T16:57:52.047Z"
   },
   {
    "duration": 10,
    "start_time": "2021-09-17T16:57:53.141Z"
   },
   {
    "duration": 18,
    "start_time": "2021-09-17T16:57:53.571Z"
   },
   {
    "duration": 13,
    "start_time": "2021-09-17T16:57:54.629Z"
   },
   {
    "duration": 14,
    "start_time": "2021-09-17T16:57:55.062Z"
   },
   {
    "duration": 17,
    "start_time": "2021-09-17T16:57:55.482Z"
   },
   {
    "duration": 9,
    "start_time": "2021-09-17T16:57:55.916Z"
   },
   {
    "duration": 8237,
    "start_time": "2021-09-17T16:58:01.309Z"
   },
   {
    "duration": 12,
    "start_time": "2021-09-17T16:58:22.845Z"
   },
   {
    "duration": 25,
    "start_time": "2021-09-17T16:58:23.242Z"
   },
   {
    "duration": 6,
    "start_time": "2021-09-17T16:58:23.604Z"
   },
   {
    "duration": 48,
    "start_time": "2021-09-17T16:58:24.007Z"
   },
   {
    "duration": 8,
    "start_time": "2021-09-17T16:58:25.050Z"
   },
   {
    "duration": 14,
    "start_time": "2021-09-17T16:58:25.712Z"
   },
   {
    "duration": 8,
    "start_time": "2021-09-17T16:58:26.253Z"
   },
   {
    "duration": 6,
    "start_time": "2021-09-17T16:58:26.799Z"
   },
   {
    "duration": 7,
    "start_time": "2021-09-17T16:59:04.650Z"
   },
   {
    "duration": 16,
    "start_time": "2021-09-17T17:00:41.212Z"
   },
   {
    "duration": 317,
    "start_time": "2021-09-17T17:04:12.026Z"
   },
   {
    "duration": 864,
    "start_time": "2021-09-17T17:04:23.274Z"
   },
   {
    "duration": 18,
    "start_time": "2021-09-17T17:04:24.141Z"
   },
   {
    "duration": 30,
    "start_time": "2021-09-17T17:04:24.162Z"
   },
   {
    "duration": 50,
    "start_time": "2021-09-17T17:04:24.218Z"
   },
   {
    "duration": 112,
    "start_time": "2021-09-17T17:04:24.270Z"
   },
   {
    "duration": 51,
    "start_time": "2021-09-17T17:04:24.385Z"
   },
   {
    "duration": 10,
    "start_time": "2021-09-17T17:04:25.022Z"
   },
   {
    "duration": 17,
    "start_time": "2021-09-17T17:04:27.345Z"
   },
   {
    "duration": 13,
    "start_time": "2021-09-17T17:04:27.708Z"
   },
   {
    "duration": 13,
    "start_time": "2021-09-17T17:04:28.044Z"
   },
   {
    "duration": 16,
    "start_time": "2021-09-17T17:04:28.378Z"
   },
   {
    "duration": 8,
    "start_time": "2021-09-17T17:04:28.721Z"
   },
   {
    "duration": 11,
    "start_time": "2021-09-17T17:04:29.064Z"
   },
   {
    "duration": 32,
    "start_time": "2021-09-17T17:04:29.613Z"
   },
   {
    "duration": 7,
    "start_time": "2021-09-17T17:04:32.722Z"
   },
   {
    "duration": 50,
    "start_time": "2021-09-17T17:04:33.316Z"
   },
   {
    "duration": 7,
    "start_time": "2021-09-17T17:04:34.995Z"
   },
   {
    "duration": 5,
    "start_time": "2021-09-17T17:04:48.668Z"
   },
   {
    "duration": 21,
    "start_time": "2021-09-17T17:04:57.673Z"
   },
   {
    "duration": 7,
    "start_time": "2021-09-17T17:04:59.129Z"
   },
   {
    "duration": 7,
    "start_time": "2021-09-17T17:05:02.509Z"
   },
   {
    "duration": 18,
    "start_time": "2021-09-17T17:05:04.622Z"
   },
   {
    "duration": 21,
    "start_time": "2021-09-17T17:05:09.679Z"
   },
   {
    "duration": 2597,
    "start_time": "2021-09-17T17:05:30.271Z"
   },
   {
    "duration": 15,
    "start_time": "2021-09-17T17:05:32.871Z"
   },
   {
    "duration": 47,
    "start_time": "2021-09-17T17:05:32.889Z"
   },
   {
    "duration": 45,
    "start_time": "2021-09-17T17:05:32.939Z"
   },
   {
    "duration": 99,
    "start_time": "2021-09-17T17:05:32.986Z"
   },
   {
    "duration": 51,
    "start_time": "2021-09-17T17:05:33.088Z"
   },
   {
    "duration": 9,
    "start_time": "2021-09-17T17:05:33.142Z"
   },
   {
    "duration": 16,
    "start_time": "2021-09-17T17:05:33.154Z"
   },
   {
    "duration": 13,
    "start_time": "2021-09-17T17:05:33.216Z"
   },
   {
    "duration": 12,
    "start_time": "2021-09-17T17:05:33.232Z"
   },
   {
    "duration": 16,
    "start_time": "2021-09-17T17:05:33.246Z"
   },
   {
    "duration": 52,
    "start_time": "2021-09-17T17:05:33.264Z"
   },
   {
    "duration": 10,
    "start_time": "2021-09-17T17:05:33.319Z"
   },
   {
    "duration": 24,
    "start_time": "2021-09-17T17:05:33.332Z"
   },
   {
    "duration": 7,
    "start_time": "2021-09-17T17:05:33.451Z"
   },
   {
    "duration": 46,
    "start_time": "2021-09-17T17:05:34.185Z"
   },
   {
    "duration": 7,
    "start_time": "2021-09-17T17:05:35.386Z"
   },
   {
    "duration": 25,
    "start_time": "2021-09-17T17:06:16.439Z"
   },
   {
    "duration": 26,
    "start_time": "2021-09-17T17:06:26.085Z"
   },
   {
    "duration": 25,
    "start_time": "2021-09-17T17:06:30.161Z"
   },
   {
    "duration": 31,
    "start_time": "2021-09-17T17:06:47.446Z"
   },
   {
    "duration": 399,
    "start_time": "2021-09-17T17:07:08.041Z"
   },
   {
    "duration": 7,
    "start_time": "2021-09-17T17:07:08.481Z"
   },
   {
    "duration": 7,
    "start_time": "2021-09-17T17:07:09.571Z"
   },
   {
    "duration": 22,
    "start_time": "2021-09-17T17:07:10.158Z"
   },
   {
    "duration": 64,
    "start_time": "2021-09-17T17:33:08.273Z"
   },
   {
    "duration": 9,
    "start_time": "2021-09-17T17:33:14.252Z"
   },
   {
    "duration": 16,
    "start_time": "2021-09-17T17:33:15.103Z"
   },
   {
    "duration": 12,
    "start_time": "2021-09-17T17:33:15.771Z"
   },
   {
    "duration": 12,
    "start_time": "2021-09-17T17:33:16.470Z"
   },
   {
    "duration": 15,
    "start_time": "2021-09-17T17:33:17.459Z"
   },
   {
    "duration": 11,
    "start_time": "2021-09-17T17:33:19.062Z"
   },
   {
    "duration": 25,
    "start_time": "2021-09-17T17:33:21.333Z"
   },
   {
    "duration": 8,
    "start_time": "2021-09-17T17:33:22.798Z"
   },
   {
    "duration": 47,
    "start_time": "2021-09-17T17:33:25.204Z"
   },
   {
    "duration": 7,
    "start_time": "2021-09-17T17:33:27.480Z"
   },
   {
    "duration": 22,
    "start_time": "2021-09-17T17:33:30.635Z"
   },
   {
    "duration": 7,
    "start_time": "2021-09-17T17:33:31.782Z"
   },
   {
    "duration": 301,
    "start_time": "2021-09-17T17:37:13.995Z"
   },
   {
    "duration": 7,
    "start_time": "2021-09-17T17:37:14.469Z"
   },
   {
    "duration": 302,
    "start_time": "2021-09-17T19:07:09.183Z"
   },
   {
    "duration": 399,
    "start_time": "2021-09-17T19:07:35.006Z"
   },
   {
    "duration": 408,
    "start_time": "2021-09-17T19:08:34.656Z"
   },
   {
    "duration": 324,
    "start_time": "2021-09-17T19:09:28.048Z"
   },
   {
    "duration": 17,
    "start_time": "2021-09-17T19:09:52.665Z"
   },
   {
    "duration": 821,
    "start_time": "2021-09-17T19:10:20.889Z"
   },
   {
    "duration": 14,
    "start_time": "2021-09-17T19:15:29.075Z"
   },
   {
    "duration": 111,
    "start_time": "2021-09-17T19:16:10.689Z"
   },
   {
    "duration": 62,
    "start_time": "2021-09-17T19:16:15.528Z"
   },
   {
    "duration": 19,
    "start_time": "2021-09-17T19:19:58.453Z"
   },
   {
    "duration": 65,
    "start_time": "2021-09-17T19:20:02.947Z"
   },
   {
    "duration": 22,
    "start_time": "2021-09-17T19:20:43.561Z"
   },
   {
    "duration": 22,
    "start_time": "2021-09-17T19:20:46.711Z"
   },
   {
    "duration": 11,
    "start_time": "2021-09-17T19:20:56.721Z"
   },
   {
    "duration": 23,
    "start_time": "2021-09-17T19:21:02.927Z"
   },
   {
    "duration": 22,
    "start_time": "2021-09-17T19:21:22.721Z"
   },
   {
    "duration": 21,
    "start_time": "2021-09-17T19:21:33.207Z"
   },
   {
    "duration": 96,
    "start_time": "2021-09-17T19:21:36.637Z"
   },
   {
    "duration": 21,
    "start_time": "2021-09-17T19:21:39.918Z"
   },
   {
    "duration": 107,
    "start_time": "2021-09-17T19:28:26.173Z"
   },
   {
    "duration": 122,
    "start_time": "2021-09-17T19:28:33.813Z"
   },
   {
    "duration": 63,
    "start_time": "2021-09-17T19:29:20.781Z"
   },
   {
    "duration": 8,
    "start_time": "2021-09-17T19:53:47.876Z"
   },
   {
    "duration": 3404,
    "start_time": "2021-09-17T20:06:45.788Z"
   },
   {
    "duration": 64,
    "start_time": "2021-09-17T20:16:10.884Z"
   },
   {
    "duration": 14,
    "start_time": "2021-09-17T20:16:10.951Z"
   },
   {
    "duration": 19,
    "start_time": "2021-09-17T20:16:11.118Z"
   },
   {
    "duration": 49,
    "start_time": "2021-09-17T20:16:11.664Z"
   },
   {
    "duration": 82,
    "start_time": "2021-09-17T20:16:11.843Z"
   },
   {
    "duration": 27,
    "start_time": "2021-09-17T20:16:11.994Z"
   },
   {
    "duration": 9,
    "start_time": "2021-09-17T20:16:12.976Z"
   },
   {
    "duration": 17,
    "start_time": "2021-09-17T20:16:14.018Z"
   },
   {
    "duration": 8,
    "start_time": "2021-09-17T20:16:15.216Z"
   },
   {
    "duration": 8,
    "start_time": "2021-09-17T20:16:16.043Z"
   },
   {
    "duration": 15,
    "start_time": "2021-09-17T20:16:16.410Z"
   },
   {
    "duration": 10,
    "start_time": "2021-09-17T20:16:16.690Z"
   },
   {
    "duration": 11,
    "start_time": "2021-09-17T20:16:16.978Z"
   },
   {
    "duration": 25,
    "start_time": "2021-09-17T20:16:17.891Z"
   },
   {
    "duration": 11177,
    "start_time": "2021-09-17T20:16:18.878Z"
   },
   {
    "duration": 60,
    "start_time": "2021-09-17T20:16:30.058Z"
   },
   {
    "duration": 7,
    "start_time": "2021-09-17T20:16:30.122Z"
   },
   {
    "duration": 445,
    "start_time": "2021-09-17T20:16:30.131Z"
   },
   {
    "duration": -509,
    "start_time": "2021-09-17T20:16:31.088Z"
   },
   {
    "duration": 21,
    "start_time": "2021-09-17T20:17:28.154Z"
   },
   {
    "duration": 11043,
    "start_time": "2021-09-17T20:17:35.864Z"
   },
   {
    "duration": 22,
    "start_time": "2021-09-17T20:17:49.176Z"
   },
   {
    "duration": 12577,
    "start_time": "2021-09-17T20:30:48.515Z"
   },
   {
    "duration": 34836,
    "start_time": "2021-09-17T20:32:17.273Z"
   },
   {
    "duration": 25054,
    "start_time": "2021-09-17T20:33:12.237Z"
   },
   {
    "duration": 65,
    "start_time": "2021-09-17T20:33:37.294Z"
   },
   {
    "duration": 16,
    "start_time": "2021-09-17T20:33:37.363Z"
   },
   {
    "duration": 9,
    "start_time": "2021-09-17T20:33:37.382Z"
   },
   {
    "duration": 17,
    "start_time": "2021-09-17T20:33:38.989Z"
   },
   {
    "duration": 9,
    "start_time": "2021-09-17T20:33:41.484Z"
   },
   {
    "duration": 8,
    "start_time": "2021-09-17T20:33:43.076Z"
   },
   {
    "duration": 14,
    "start_time": "2021-09-17T20:33:44.145Z"
   },
   {
    "duration": 8,
    "start_time": "2021-09-17T20:33:45.144Z"
   },
   {
    "duration": 11,
    "start_time": "2021-09-17T20:33:48.793Z"
   },
   {
    "duration": 25,
    "start_time": "2021-09-17T20:34:10.564Z"
   },
   {
    "duration": 23,
    "start_time": "2021-09-17T20:34:13.680Z"
   },
   {
    "duration": 22540,
    "start_time": "2021-09-17T20:34:18.788Z"
   },
   {
    "duration": 22,
    "start_time": "2021-09-17T20:34:41.331Z"
   },
   {
    "duration": 7,
    "start_time": "2021-09-17T20:35:38.191Z"
   },
   {
    "duration": 34,
    "start_time": "2021-09-17T20:35:45.794Z"
   },
   {
    "duration": 11,
    "start_time": "2021-09-17T20:40:15.550Z"
   },
   {
    "duration": 23,
    "start_time": "2021-09-17T20:40:18.315Z"
   },
   {
    "duration": 5,
    "start_time": "2021-09-17T20:44:29.225Z"
   },
   {
    "duration": 22,
    "start_time": "2021-09-17T20:44:32.764Z"
   },
   {
    "duration": 7,
    "start_time": "2021-09-17T20:44:56.442Z"
   },
   {
    "duration": 23,
    "start_time": "2021-09-17T20:44:57.552Z"
   },
   {
    "duration": 342,
    "start_time": "2021-09-17T20:50:27.650Z"
   },
   {
    "duration": 341,
    "start_time": "2021-09-17T20:50:39.300Z"
   },
   {
    "duration": 518,
    "start_time": "2021-09-17T20:58:24.693Z"
   },
   {
    "duration": 20,
    "start_time": "2021-09-17T20:58:41.369Z"
   },
   {
    "duration": 21963,
    "start_time": "2021-09-17T20:58:42.336Z"
   },
   {
    "duration": 25,
    "start_time": "2021-09-17T20:59:04.302Z"
   },
   {
    "duration": 7,
    "start_time": "2021-09-17T20:59:16.324Z"
   },
   {
    "duration": 347,
    "start_time": "2021-09-17T20:59:18.467Z"
   },
   {
    "duration": 13,
    "start_time": "2021-09-17T21:00:40.672Z"
   },
   {
    "duration": 7,
    "start_time": "2021-09-17T21:00:59.466Z"
   },
   {
    "duration": 64,
    "start_time": "2021-09-17T21:01:12.508Z"
   },
   {
    "duration": 9,
    "start_time": "2021-09-17T21:01:20.107Z"
   },
   {
    "duration": 16,
    "start_time": "2021-09-17T21:01:24.160Z"
   },
   {
    "duration": 9,
    "start_time": "2021-09-17T21:01:26.959Z"
   },
   {
    "duration": 8,
    "start_time": "2021-09-17T21:01:28.162Z"
   },
   {
    "duration": 15,
    "start_time": "2021-09-17T21:01:28.976Z"
   },
   {
    "duration": 10,
    "start_time": "2021-09-17T21:01:29.812Z"
   },
   {
    "duration": 11,
    "start_time": "2021-09-17T21:01:31.221Z"
   },
   {
    "duration": 26,
    "start_time": "2021-09-17T21:01:33.007Z"
   },
   {
    "duration": 21921,
    "start_time": "2021-09-17T21:01:35.143Z"
   },
   {
    "duration": 24,
    "start_time": "2021-09-17T21:01:57.067Z"
   },
   {
    "duration": 24,
    "start_time": "2021-09-17T21:01:57.094Z"
   },
   {
    "duration": 315,
    "start_time": "2021-09-17T21:01:57.121Z"
   },
   {
    "duration": -479,
    "start_time": "2021-09-17T21:01:57.917Z"
   },
   {
    "duration": 6,
    "start_time": "2021-09-17T21:02:08.606Z"
   },
   {
    "duration": 319,
    "start_time": "2021-09-17T21:05:20.511Z"
   },
   {
    "duration": 65,
    "start_time": "2021-09-17T21:06:15.752Z"
   },
   {
    "duration": 15,
    "start_time": "2021-09-17T21:06:15.882Z"
   },
   {
    "duration": 12,
    "start_time": "2021-09-17T21:06:25.041Z"
   },
   {
    "duration": 16,
    "start_time": "2021-09-17T21:06:27.689Z"
   },
   {
    "duration": 10,
    "start_time": "2021-09-17T21:06:28.985Z"
   },
   {
    "duration": 8,
    "start_time": "2021-09-17T21:06:30.033Z"
   },
   {
    "duration": 16,
    "start_time": "2021-09-17T21:06:31.944Z"
   },
   {
    "duration": 10,
    "start_time": "2021-09-17T21:06:33.173Z"
   },
   {
    "duration": 10,
    "start_time": "2021-09-17T21:06:34.398Z"
   },
   {
    "duration": 24,
    "start_time": "2021-09-17T21:06:35.954Z"
   },
   {
    "duration": 22082,
    "start_time": "2021-09-17T21:06:38.795Z"
   },
   {
    "duration": 40,
    "start_time": "2021-09-17T21:07:00.880Z"
   },
   {
    "duration": 7,
    "start_time": "2021-09-17T21:07:18.366Z"
   },
   {
    "duration": 19,
    "start_time": "2021-09-17T21:07:19.094Z"
   },
   {
    "duration": 7,
    "start_time": "2021-09-17T21:07:21.141Z"
   },
   {
    "duration": 334,
    "start_time": "2021-09-17T21:07:41.266Z"
   },
   {
    "duration": 308,
    "start_time": "2021-09-17T21:07:47.669Z"
   },
   {
    "duration": 336,
    "start_time": "2021-09-17T21:09:38.273Z"
   },
   {
    "duration": 66,
    "start_time": "2021-09-17T21:14:23.478Z"
   },
   {
    "duration": 9,
    "start_time": "2021-09-17T21:14:35.553Z"
   },
   {
    "duration": 16,
    "start_time": "2021-09-17T21:14:36.878Z"
   },
   {
    "duration": 9,
    "start_time": "2021-09-17T21:14:38.329Z"
   },
   {
    "duration": 8,
    "start_time": "2021-09-17T21:14:40.571Z"
   },
   {
    "duration": 16,
    "start_time": "2021-09-17T21:14:41.521Z"
   },
   {
    "duration": 8,
    "start_time": "2021-09-17T21:14:42.378Z"
   },
   {
    "duration": 10,
    "start_time": "2021-09-17T21:14:43.474Z"
   },
   {
    "duration": 23,
    "start_time": "2021-09-17T21:14:44.979Z"
   },
   {
    "duration": 21642,
    "start_time": "2021-09-17T21:14:46.747Z"
   },
   {
    "duration": 32,
    "start_time": "2021-09-17T21:15:08.392Z"
   },
   {
    "duration": 17,
    "start_time": "2021-09-17T21:15:08.426Z"
   },
   {
    "duration": 17,
    "start_time": "2021-09-17T21:15:08.446Z"
   },
   {
    "duration": 6,
    "start_time": "2021-09-17T21:15:15.671Z"
   },
   {
    "duration": 411,
    "start_time": "2021-09-17T21:15:21.103Z"
   },
   {
    "duration": 22,
    "start_time": "2021-09-17T21:15:30.852Z"
   },
   {
    "duration": 7,
    "start_time": "2021-09-17T21:15:47.540Z"
   },
   {
    "duration": 22,
    "start_time": "2021-09-17T21:15:49.000Z"
   },
   {
    "duration": 8,
    "start_time": "2021-09-17T21:15:52.002Z"
   },
   {
    "duration": 23,
    "start_time": "2021-09-17T21:15:54.532Z"
   },
   {
    "duration": 308,
    "start_time": "2021-09-17T21:15:57.613Z"
   },
   {
    "duration": 22,
    "start_time": "2021-09-17T21:16:01.522Z"
   },
   {
    "duration": 637,
    "start_time": "2021-09-18T06:00:55.534Z"
   },
   {
    "duration": 12,
    "start_time": "2021-09-18T06:01:03.630Z"
   },
   {
    "duration": 10,
    "start_time": "2021-09-18T06:01:04.815Z"
   },
   {
    "duration": 6,
    "start_time": "2021-09-18T06:01:09.011Z"
   },
   {
    "duration": 6,
    "start_time": "2021-09-18T06:01:14.763Z"
   },
   {
    "duration": 11,
    "start_time": "2021-09-18T06:01:18.718Z"
   },
   {
    "duration": 8,
    "start_time": "2021-09-18T06:01:19.699Z"
   },
   {
    "duration": 7,
    "start_time": "2021-09-18T06:01:22.691Z"
   },
   {
    "duration": 15,
    "start_time": "2021-09-18T06:01:23.954Z"
   },
   {
    "duration": 12044,
    "start_time": "2021-09-18T06:01:25.093Z"
   },
   {
    "duration": 7,
    "start_time": "2021-09-18T06:01:37.139Z"
   },
   {
    "duration": 34,
    "start_time": "2021-09-18T06:01:37.148Z"
   },
   {
    "duration": 44,
    "start_time": "2021-09-18T06:01:37.183Z"
   },
   {
    "duration": 4,
    "start_time": "2021-09-18T06:01:37.228Z"
   },
   {
    "duration": 35,
    "start_time": "2021-09-18T06:01:37.234Z"
   },
   {
    "duration": 340,
    "start_time": "2021-09-18T06:01:37.270Z"
   },
   {
    "duration": 15,
    "start_time": "2021-09-18T06:01:51.581Z"
   },
   {
    "duration": 605,
    "start_time": "2021-09-18T06:09:16.067Z"
   },
   {
    "duration": 11,
    "start_time": "2021-09-18T06:09:20.769Z"
   },
   {
    "duration": 7,
    "start_time": "2021-09-18T06:09:22.614Z"
   },
   {
    "duration": 6,
    "start_time": "2021-09-18T06:09:23.745Z"
   },
   {
    "duration": 11,
    "start_time": "2021-09-18T06:09:24.643Z"
   },
   {
    "duration": 11,
    "start_time": "2021-09-18T06:09:25.924Z"
   },
   {
    "duration": 8,
    "start_time": "2021-09-18T06:09:26.977Z"
   },
   {
    "duration": 17,
    "start_time": "2021-09-18T06:09:29.086Z"
   },
   {
    "duration": 5,
    "start_time": "2021-09-18T06:09:31.362Z"
   },
   {
    "duration": 16,
    "start_time": "2021-09-18T06:09:32.650Z"
   },
   {
    "duration": 33,
    "start_time": "2021-09-18T06:09:34.446Z"
   },
   {
    "duration": 358,
    "start_time": "2021-09-18T06:09:38.219Z"
   },
   {
    "duration": 16,
    "start_time": "2021-09-18T06:09:45.492Z"
   },
   {
    "duration": 16,
    "start_time": "2021-09-18T06:09:50.016Z"
   },
   {
    "duration": 5,
    "start_time": "2021-09-18T06:09:51.056Z"
   },
   {
    "duration": 16,
    "start_time": "2021-09-18T06:09:51.844Z"
   },
   {
    "duration": 15,
    "start_time": "2021-09-18T06:09:53.684Z"
   },
   {
    "duration": 34,
    "start_time": "2021-09-18T06:09:55.717Z"
   },
   {
    "duration": 18,
    "start_time": "2021-09-18T06:09:57.555Z"
   },
   {
    "duration": 114,
    "start_time": "2021-09-18T06:10:41.649Z"
   },
   {
    "duration": 7,
    "start_time": "2021-09-18T06:10:43.440Z"
   },
   {
    "duration": 21,
    "start_time": "2021-09-18T06:10:44.387Z"
   },
   {
    "duration": 14,
    "start_time": "2021-09-18T06:10:49.316Z"
   },
   {
    "duration": 8,
    "start_time": "2021-09-18T06:10:50.717Z"
   },
   {
    "duration": 17,
    "start_time": "2021-09-18T06:10:51.624Z"
   },
   {
    "duration": 103,
    "start_time": "2021-09-18T06:12:03.872Z"
   },
   {
    "duration": 6,
    "start_time": "2021-09-18T06:12:15.432Z"
   },
   {
    "duration": 15,
    "start_time": "2021-09-18T06:12:16.887Z"
   },
   {
    "duration": 58,
    "start_time": "2021-09-18T06:12:20.458Z"
   },
   {
    "duration": 27,
    "start_time": "2021-09-18T06:12:22.351Z"
   },
   {
    "duration": 291,
    "start_time": "2021-09-18T06:12:26.264Z"
   },
   {
    "duration": 26,
    "start_time": "2021-09-18T06:12:33.306Z"
   },
   {
    "duration": 72,
    "start_time": "2021-09-18T06:12:38.155Z"
   },
   {
    "duration": 17,
    "start_time": "2021-09-18T06:12:38.495Z"
   },
   {
    "duration": 13,
    "start_time": "2021-09-18T06:12:39.615Z"
   },
   {
    "duration": 28,
    "start_time": "2021-09-18T06:12:39.829Z"
   },
   {
    "duration": 56,
    "start_time": "2021-09-18T06:12:40.034Z"
   },
   {
    "duration": 20,
    "start_time": "2021-09-18T06:12:40.269Z"
   },
   {
    "duration": 7,
    "start_time": "2021-09-18T06:12:41.349Z"
   },
   {
    "duration": 11,
    "start_time": "2021-09-18T06:12:41.863Z"
   },
   {
    "duration": 7,
    "start_time": "2021-09-18T06:12:43.043Z"
   },
   {
    "duration": 6,
    "start_time": "2021-09-18T06:12:44.751Z"
   },
   {
    "duration": 11,
    "start_time": "2021-09-18T06:12:45.150Z"
   },
   {
    "duration": 10,
    "start_time": "2021-09-18T06:12:45.571Z"
   },
   {
    "duration": 8,
    "start_time": "2021-09-18T06:12:46.840Z"
   },
   {
    "duration": 25,
    "start_time": "2021-09-18T06:12:49.252Z"
   },
   {
    "duration": 8,
    "start_time": "2021-09-18T06:12:52.159Z"
   },
   {
    "duration": 22,
    "start_time": "2021-09-18T06:12:52.619Z"
   },
   {
    "duration": 46,
    "start_time": "2021-09-18T06:12:54.168Z"
   },
   {
    "duration": 7,
    "start_time": "2021-09-18T06:12:57.075Z"
   },
   {
    "duration": 4,
    "start_time": "2021-09-18T06:12:59.720Z"
   },
   {
    "duration": 339,
    "start_time": "2021-09-18T06:13:01.267Z"
   },
   {
    "duration": 5,
    "start_time": "2021-09-18T06:13:02.494Z"
   },
   {
    "duration": 15,
    "start_time": "2021-09-18T06:13:13.045Z"
   },
   {
    "duration": 6,
    "start_time": "2021-09-18T06:13:14.867Z"
   },
   {
    "duration": 15,
    "start_time": "2021-09-18T06:13:15.656Z"
   },
   {
    "duration": 32,
    "start_time": "2021-09-18T06:13:18.257Z"
   },
   {
    "duration": 26,
    "start_time": "2021-09-18T06:13:20.163Z"
   },
   {
    "duration": 8,
    "start_time": "2021-09-18T06:14:44.898Z"
   },
   {
    "duration": 15,
    "start_time": "2021-09-18T06:14:45.408Z"
   },
   {
    "duration": 270,
    "start_time": "2021-09-18T06:14:52.932Z"
   },
   {
    "duration": 5,
    "start_time": "2021-09-18T06:15:00.256Z"
   },
   {
    "duration": 49,
    "start_time": "2021-09-18T06:15:05.753Z"
   },
   {
    "duration": 7,
    "start_time": "2021-09-18T06:15:14.287Z"
   },
   {
    "duration": 11,
    "start_time": "2021-09-18T06:15:15.299Z"
   },
   {
    "duration": 6,
    "start_time": "2021-09-18T06:15:16.594Z"
   },
   {
    "duration": 6,
    "start_time": "2021-09-18T06:15:18.010Z"
   },
   {
    "duration": 12,
    "start_time": "2021-09-18T06:15:18.894Z"
   },
   {
    "duration": 8,
    "start_time": "2021-09-18T06:15:19.725Z"
   },
   {
    "duration": 8,
    "start_time": "2021-09-18T06:15:21.757Z"
   },
   {
    "duration": 18,
    "start_time": "2021-09-18T06:15:23.968Z"
   },
   {
    "duration": 6,
    "start_time": "2021-09-18T06:15:27.487Z"
   },
   {
    "duration": 16,
    "start_time": "2021-09-18T06:15:28.004Z"
   },
   {
    "duration": 306,
    "start_time": "2021-09-18T06:15:31.674Z"
   },
   {
    "duration": 16,
    "start_time": "2021-09-18T06:15:40.585Z"
   },
   {
    "duration": 6,
    "start_time": "2021-09-18T06:17:21.633Z"
   },
   {
    "duration": 7,
    "start_time": "2021-09-18T06:17:27.950Z"
   },
   {
    "duration": 13,
    "start_time": "2021-09-18T06:17:31.708Z"
   },
   {
    "duration": 7,
    "start_time": "2021-09-18T06:17:35.052Z"
   },
   {
    "duration": 15,
    "start_time": "2021-09-18T06:17:35.589Z"
   },
   {
    "duration": 28,
    "start_time": "2021-09-18T06:17:37.256Z"
   },
   {
    "duration": 17,
    "start_time": "2021-09-18T06:17:38.596Z"
   },
   {
    "duration": 8,
    "start_time": "2021-09-18T06:17:40.315Z"
   },
   {
    "duration": 15,
    "start_time": "2021-09-18T06:17:40.891Z"
   },
   {
    "duration": 8,
    "start_time": "2021-09-18T06:17:42.128Z"
   },
   {
    "duration": 17,
    "start_time": "2021-09-18T06:17:42.502Z"
   },
   {
    "duration": 5,
    "start_time": "2021-09-18T06:17:45.825Z"
   },
   {
    "duration": 14,
    "start_time": "2021-09-18T06:17:46.192Z"
   },
   {
    "duration": 27,
    "start_time": "2021-09-18T06:17:48.074Z"
   },
   {
    "duration": 6,
    "start_time": "2021-09-18T06:17:50.832Z"
   },
   {
    "duration": 16,
    "start_time": "2021-09-18T06:17:51.259Z"
   },
   {
    "duration": 5,
    "start_time": "2021-09-18T06:17:52.573Z"
   },
   {
    "duration": 14,
    "start_time": "2021-09-18T06:17:52.909Z"
   },
   {
    "duration": 27,
    "start_time": "2021-09-18T06:17:54.876Z"
   },
   {
    "duration": 6,
    "start_time": "2021-09-18T06:17:56.363Z"
   },
   {
    "duration": 14,
    "start_time": "2021-09-18T06:17:56.675Z"
   },
   {
    "duration": 270,
    "start_time": "2021-09-18T06:18:10.358Z"
   },
   {
    "duration": 15,
    "start_time": "2021-09-18T06:18:16.593Z"
   },
   {
    "duration": 5,
    "start_time": "2021-09-18T06:18:21.666Z"
   },
   {
    "duration": 15,
    "start_time": "2021-09-18T06:18:22.743Z"
   },
   {
    "duration": 29,
    "start_time": "2021-09-18T06:18:26.880Z"
   },
   {
    "duration": 6,
    "start_time": "2021-09-18T06:18:30.031Z"
   },
   {
    "duration": 5,
    "start_time": "2021-09-18T06:18:32.748Z"
   },
   {
    "duration": 270,
    "start_time": "2021-09-18T06:18:32.993Z"
   },
   {
    "duration": 437,
    "start_time": "2021-09-18T06:18:35.473Z"
   },
   {
    "duration": 14,
    "start_time": "2021-09-18T06:18:49.366Z"
   },
   {
    "duration": 15,
    "start_time": "2021-09-18T06:18:57.750Z"
   },
   {
    "duration": 11867,
    "start_time": "2021-09-18T06:32:38.461Z"
   },
   {
    "duration": 14,
    "start_time": "2021-09-18T06:32:50.330Z"
   },
   {
    "duration": 14,
    "start_time": "2021-09-18T06:32:50.346Z"
   },
   {
    "duration": 6,
    "start_time": "2021-09-18T06:37:02.422Z"
   },
   {
    "duration": 14,
    "start_time": "2021-09-18T06:37:03.207Z"
   },
   {
    "duration": 27,
    "start_time": "2021-09-18T06:37:05.006Z"
   },
   {
    "duration": 15,
    "start_time": "2021-09-18T06:37:06.500Z"
   },
   {
    "duration": 353,
    "start_time": "2021-09-18T06:37:12.638Z"
   },
   {
    "duration": 15,
    "start_time": "2021-09-18T06:37:22.697Z"
   },
   {
    "duration": 5,
    "start_time": "2021-09-18T06:37:24.157Z"
   },
   {
    "duration": 15,
    "start_time": "2021-09-18T06:37:24.532Z"
   },
   {
    "duration": 27,
    "start_time": "2021-09-18T06:37:27.006Z"
   },
   {
    "duration": 14,
    "start_time": "2021-09-18T06:37:28.315Z"
   },
   {
    "duration": 13,
    "start_time": "2021-09-18T06:37:29.252Z"
   },
   {
    "duration": 5,
    "start_time": "2021-09-18T06:37:32.647Z"
   },
   {
    "duration": 17,
    "start_time": "2021-09-18T06:37:35.071Z"
   },
   {
    "duration": 352,
    "start_time": "2021-09-18T06:37:40.164Z"
   },
   {
    "duration": 385,
    "start_time": "2021-09-18T06:37:45.623Z"
   },
   {
    "duration": 1322,
    "start_time": "2021-09-18T06:37:48.413Z"
   },
   {
    "duration": 482,
    "start_time": "2021-09-18T06:37:56.032Z"
   },
   {
    "duration": 5,
    "start_time": "2021-09-18T06:37:58.751Z"
   },
   {
    "duration": 4,
    "start_time": "2021-09-18T06:38:27.235Z"
   },
   {
    "duration": 509,
    "start_time": "2021-09-18T06:38:28.154Z"
   },
   {
    "duration": 345,
    "start_time": "2021-09-18T06:38:31.003Z"
   },
   {
    "duration": 19,
    "start_time": "2021-09-18T06:38:56.501Z"
   },
   {
    "duration": 8,
    "start_time": "2021-09-18T06:39:09.771Z"
   },
   {
    "duration": 25,
    "start_time": "2021-09-18T06:39:11.160Z"
   },
   {
    "duration": 362,
    "start_time": "2021-09-18T06:39:43.430Z"
   },
   {
    "duration": 6,
    "start_time": "2021-09-18T06:39:52.483Z"
   },
   {
    "duration": 7,
    "start_time": "2021-09-18T06:39:58.282Z"
   },
   {
    "duration": 478,
    "start_time": "2021-09-18T06:40:06.898Z"
   },
   {
    "duration": 259,
    "start_time": "2021-09-18T06:40:17.560Z"
   },
   {
    "duration": 15,
    "start_time": "2021-09-18T06:40:36.792Z"
   },
   {
    "duration": 5,
    "start_time": "2021-09-18T06:40:50.103Z"
   },
   {
    "duration": 6,
    "start_time": "2021-09-18T06:41:00.077Z"
   },
   {
    "duration": 5,
    "start_time": "2021-09-18T06:41:04.174Z"
   },
   {
    "duration": 15,
    "start_time": "2021-09-18T06:41:09.899Z"
   },
   {
    "duration": 5,
    "start_time": "2021-09-18T06:41:28.615Z"
   },
   {
    "duration": 581,
    "start_time": "2021-09-18T06:41:29.171Z"
   },
   {
    "duration": 13,
    "start_time": "2021-09-18T06:41:45.544Z"
   },
   {
    "duration": 5,
    "start_time": "2021-09-18T06:41:48.746Z"
   },
   {
    "duration": 14,
    "start_time": "2021-09-18T06:41:49.014Z"
   },
   {
    "duration": 6,
    "start_time": "2021-09-18T06:42:09.446Z"
   },
   {
    "duration": 1565,
    "start_time": "2021-09-18T06:44:05.537Z"
   },
   {
    "duration": 16,
    "start_time": "2021-09-18T06:44:08.458Z"
   },
   {
    "duration": 20,
    "start_time": "2021-09-18T06:44:09.396Z"
   },
   {
    "duration": 24,
    "start_time": "2021-09-18T06:44:10.219Z"
   },
   {
    "duration": 7,
    "start_time": "2021-09-18T06:44:17.666Z"
   },
   {
    "duration": 26,
    "start_time": "2021-09-18T06:44:23.633Z"
   },
   {
    "duration": 5,
    "start_time": "2021-09-18T06:44:28.080Z"
   },
   {
    "duration": 5,
    "start_time": "2021-09-18T06:44:33.033Z"
   },
   {
    "duration": 14,
    "start_time": "2021-09-18T06:44:33.545Z"
   },
   {
    "duration": 5,
    "start_time": "2021-09-18T06:44:34.005Z"
   },
   {
    "duration": 5,
    "start_time": "2021-09-18T06:44:47.745Z"
   },
   {
    "duration": 240,
    "start_time": "2021-09-18T06:44:54.262Z"
   },
   {
    "duration": 4,
    "start_time": "2021-09-18T06:44:59.433Z"
   },
   {
    "duration": 5,
    "start_time": "2021-09-18T06:45:07.817Z"
   },
   {
    "duration": 240,
    "start_time": "2021-09-18T06:45:23.605Z"
   },
   {
    "duration": 308,
    "start_time": "2021-09-18T06:45:27.604Z"
   },
   {
    "duration": 251,
    "start_time": "2021-09-18T06:45:36.326Z"
   },
   {
    "duration": 70,
    "start_time": "2021-09-18T06:50:25.217Z"
   },
   {
    "duration": 18,
    "start_time": "2021-09-18T06:50:30.348Z"
   },
   {
    "duration": 15,
    "start_time": "2021-09-18T06:50:34.896Z"
   },
   {
    "duration": 5,
    "start_time": "2021-09-18T06:50:35.867Z"
   },
   {
    "duration": 16,
    "start_time": "2021-09-18T06:50:36.078Z"
   },
   {
    "duration": 7,
    "start_time": "2021-09-18T06:50:43.449Z"
   },
   {
    "duration": 478,
    "start_time": "2021-09-18T06:50:44.651Z"
   },
   {
    "duration": 24,
    "start_time": "2021-09-18T06:50:51.899Z"
   },
   {
    "duration": 5,
    "start_time": "2021-09-18T06:50:53.821Z"
   },
   {
    "duration": 24,
    "start_time": "2021-09-18T06:50:54.180Z"
   },
   {
    "duration": 7,
    "start_time": "2021-09-18T06:51:00.781Z"
   },
   {
    "duration": 257,
    "start_time": "2021-09-18T06:51:03.814Z"
   },
   {
    "duration": 16,
    "start_time": "2021-09-18T06:51:17.028Z"
   },
   {
    "duration": 293,
    "start_time": "2021-09-18T06:51:38.707Z"
   },
   {
    "duration": 4,
    "start_time": "2021-09-18T06:51:40.327Z"
   },
   {
    "duration": 5,
    "start_time": "2021-09-18T06:51:49.360Z"
   },
   {
    "duration": 9043,
    "start_time": "2021-09-18T07:59:59.449Z"
   },
   {
    "duration": 15,
    "start_time": "2021-09-18T08:00:21.537Z"
   },
   {
    "duration": 10162,
    "start_time": "2021-09-18T08:00:27.382Z"
   },
   {
    "duration": 15,
    "start_time": "2021-09-18T08:00:39.893Z"
   },
   {
    "duration": 10477,
    "start_time": "2021-09-18T08:00:43.567Z"
   },
   {
    "duration": 14,
    "start_time": "2021-09-18T08:00:54.046Z"
   },
   {
    "duration": 14,
    "start_time": "2021-09-18T08:36:13.523Z"
   },
   {
    "duration": 6,
    "start_time": "2021-09-18T08:36:17.249Z"
   },
   {
    "duration": 15,
    "start_time": "2021-09-18T08:36:17.977Z"
   },
   {
    "duration": 306,
    "start_time": "2021-09-18T09:36:27.142Z"
   },
   {
    "duration": 14,
    "start_time": "2021-09-18T09:36:32.328Z"
   },
   {
    "duration": 259,
    "start_time": "2021-09-18T09:38:42.172Z"
   },
   {
    "duration": 49,
    "start_time": "2021-09-18T09:48:24.685Z"
   },
   {
    "duration": 11,
    "start_time": "2021-09-18T09:48:25.087Z"
   },
   {
    "duration": 12,
    "start_time": "2021-09-18T09:48:26.108Z"
   },
   {
    "duration": 43,
    "start_time": "2021-09-18T09:48:26.121Z"
   },
   {
    "duration": 47,
    "start_time": "2021-09-18T09:48:26.166Z"
   },
   {
    "duration": 30,
    "start_time": "2021-09-18T09:48:26.215Z"
   },
   {
    "duration": 6,
    "start_time": "2021-09-18T09:48:26.415Z"
   },
   {
    "duration": 11,
    "start_time": "2021-09-18T09:48:26.671Z"
   },
   {
    "duration": 6,
    "start_time": "2021-09-18T09:48:27.257Z"
   },
   {
    "duration": 5,
    "start_time": "2021-09-18T09:48:27.547Z"
   },
   {
    "duration": 10,
    "start_time": "2021-09-18T09:48:28.126Z"
   },
   {
    "duration": 17,
    "start_time": "2021-09-18T09:48:28.138Z"
   },
   {
    "duration": 7,
    "start_time": "2021-09-18T09:48:28.576Z"
   },
   {
    "duration": 15,
    "start_time": "2021-09-18T09:48:29.158Z"
   },
   {
    "duration": 12716,
    "start_time": "2021-09-18T09:48:30.280Z"
   },
   {
    "duration": 5,
    "start_time": "2021-09-18T09:48:42.997Z"
   },
   {
    "duration": 16,
    "start_time": "2021-09-18T09:48:43.004Z"
   },
   {
    "duration": 31,
    "start_time": "2021-09-18T09:48:46.005Z"
   },
   {
    "duration": 4,
    "start_time": "2021-09-18T09:48:52.538Z"
   },
   {
    "duration": 4,
    "start_time": "2021-09-18T09:48:54.319Z"
   },
   {
    "duration": 9,
    "start_time": "2021-09-18T09:48:56.399Z"
   },
   {
    "duration": 5,
    "start_time": "2021-09-18T09:48:59.285Z"
   },
   {
    "duration": 272,
    "start_time": "2021-09-18T09:49:00.885Z"
   },
   {
    "duration": 5,
    "start_time": "2021-09-18T09:49:57.004Z"
   },
   {
    "duration": 48,
    "start_time": "2021-09-18T09:55:14.164Z"
   },
   {
    "duration": 11,
    "start_time": "2021-09-18T09:55:14.336Z"
   },
   {
    "duration": 12,
    "start_time": "2021-09-18T09:55:14.528Z"
   },
   {
    "duration": 33,
    "start_time": "2021-09-18T09:55:14.993Z"
   },
   {
    "duration": 49,
    "start_time": "2021-09-18T09:55:15.028Z"
   },
   {
    "duration": 17,
    "start_time": "2021-09-18T09:55:15.079Z"
   },
   {
    "duration": 6,
    "start_time": "2021-09-18T09:55:16.069Z"
   },
   {
    "duration": 10,
    "start_time": "2021-09-18T09:55:16.675Z"
   },
   {
    "duration": 6,
    "start_time": "2021-09-18T09:55:17.906Z"
   },
   {
    "duration": 5,
    "start_time": "2021-09-18T09:55:19.389Z"
   },
   {
    "duration": 9,
    "start_time": "2021-09-18T09:55:20.111Z"
   },
   {
    "duration": 7,
    "start_time": "2021-09-18T09:55:21.310Z"
   },
   {
    "duration": 7,
    "start_time": "2021-09-18T09:55:21.686Z"
   },
   {
    "duration": 15,
    "start_time": "2021-09-18T09:55:22.024Z"
   },
   {
    "duration": 13041,
    "start_time": "2021-09-18T09:55:23.999Z"
   },
   {
    "duration": 15,
    "start_time": "2021-09-18T09:56:50.127Z"
   },
   {
    "duration": 15,
    "start_time": "2021-09-18T09:56:54.562Z"
   },
   {
    "duration": 6,
    "start_time": "2021-09-18T09:56:55.503Z"
   },
   {
    "duration": 14,
    "start_time": "2021-09-18T09:56:55.904Z"
   },
   {
    "duration": 30,
    "start_time": "2021-09-18T09:57:00.449Z"
   },
   {
    "duration": 4,
    "start_time": "2021-09-18T09:57:06.773Z"
   },
   {
    "duration": 10,
    "start_time": "2021-09-18T09:57:07.371Z"
   },
   {
    "duration": 4,
    "start_time": "2021-09-18T09:57:08.588Z"
   },
   {
    "duration": 6,
    "start_time": "2021-09-18T09:57:10.477Z"
   },
   {
    "duration": 5,
    "start_time": "2021-09-18T09:57:12.012Z"
   },
   {
    "duration": 5,
    "start_time": "2021-09-18T09:57:13.843Z"
   },
   {
    "duration": 6,
    "start_time": "2021-09-18T10:01:21.106Z"
   },
   {
    "duration": 16,
    "start_time": "2021-09-18T10:01:22.512Z"
   },
   {
    "duration": 6,
    "start_time": "2021-09-18T10:01:24.282Z"
   },
   {
    "duration": 15,
    "start_time": "2021-09-18T10:01:24.647Z"
   },
   {
    "duration": 5,
    "start_time": "2021-09-18T10:01:35.831Z"
   },
   {
    "duration": 14,
    "start_time": "2021-09-18T10:01:36.786Z"
   },
   {
    "duration": 26,
    "start_time": "2021-09-18T10:01:39.427Z"
   },
   {
    "duration": 4,
    "start_time": "2021-09-18T10:01:41.827Z"
   },
   {
    "duration": 4,
    "start_time": "2021-09-18T10:01:44.071Z"
   },
   {
    "duration": 257,
    "start_time": "2021-09-18T10:01:45.706Z"
   },
   {
    "duration": 5,
    "start_time": "2021-09-18T10:01:47.542Z"
   },
   {
    "duration": 4,
    "start_time": "2021-09-18T10:01:48.626Z"
   },
   {
    "duration": 5,
    "start_time": "2021-09-18T10:01:49.973Z"
   },
   {
    "duration": 14,
    "start_time": "2021-09-18T10:01:58.798Z"
   },
   {
    "duration": 19,
    "start_time": "2021-09-18T10:02:16.642Z"
   },
   {
    "duration": 50,
    "start_time": "2021-09-18T10:06:41.914Z"
   },
   {
    "duration": 12,
    "start_time": "2021-09-18T10:06:42.996Z"
   },
   {
    "duration": 12,
    "start_time": "2021-09-18T10:06:46.584Z"
   },
   {
    "duration": 8,
    "start_time": "2021-09-18T10:06:52.093Z"
   },
   {
    "duration": 10,
    "start_time": "2021-09-18T10:06:52.490Z"
   },
   {
    "duration": 6,
    "start_time": "2021-09-18T10:06:52.852Z"
   },
   {
    "duration": 6,
    "start_time": "2021-09-18T10:06:53.268Z"
   },
   {
    "duration": 10,
    "start_time": "2021-09-18T10:06:55.507Z"
   },
   {
    "duration": 6,
    "start_time": "2021-09-18T10:06:56.222Z"
   },
   {
    "duration": 7,
    "start_time": "2021-09-18T10:06:57.270Z"
   },
   {
    "duration": 15,
    "start_time": "2021-09-18T10:07:02.469Z"
   },
   {
    "duration": 15,
    "start_time": "2021-09-18T10:07:05.712Z"
   },
   {
    "duration": 13148,
    "start_time": "2021-09-18T10:07:07.900Z"
   },
   {
    "duration": 17,
    "start_time": "2021-09-18T10:07:25.444Z"
   },
   {
    "duration": 6,
    "start_time": "2021-09-18T10:07:27.669Z"
   },
   {
    "duration": 16,
    "start_time": "2021-09-18T10:07:28.077Z"
   },
   {
    "duration": 7,
    "start_time": "2021-09-18T10:19:16.649Z"
   },
   {
    "duration": 17,
    "start_time": "2021-09-18T10:19:18.117Z"
   },
   {
    "duration": 12,
    "start_time": "2021-09-18T10:19:20.523Z"
   },
   {
    "duration": 48,
    "start_time": "2021-09-18T10:19:25.841Z"
   },
   {
    "duration": 12,
    "start_time": "2021-09-18T10:19:26.862Z"
   },
   {
    "duration": 12,
    "start_time": "2021-09-18T10:19:28.028Z"
   },
   {
    "duration": 29,
    "start_time": "2021-09-18T10:19:28.324Z"
   },
   {
    "duration": 50,
    "start_time": "2021-09-18T10:19:29.281Z"
   },
   {
    "duration": 17,
    "start_time": "2021-09-18T10:19:29.552Z"
   },
   {
    "duration": 6,
    "start_time": "2021-09-18T10:19:30.876Z"
   },
   {
    "duration": 10,
    "start_time": "2021-09-18T10:19:32.530Z"
   },
   {
    "duration": 6,
    "start_time": "2021-09-18T10:19:32.903Z"
   },
   {
    "duration": 6,
    "start_time": "2021-09-18T10:19:33.272Z"
   },
   {
    "duration": 10,
    "start_time": "2021-09-18T10:19:34.965Z"
   },
   {
    "duration": 6,
    "start_time": "2021-09-18T10:19:36.344Z"
   },
   {
    "duration": 7,
    "start_time": "2021-09-18T10:19:37.460Z"
   },
   {
    "duration": 15,
    "start_time": "2021-09-18T10:19:38.859Z"
   },
   {
    "duration": 12824,
    "start_time": "2021-09-18T10:19:39.520Z"
   },
   {
    "duration": 7,
    "start_time": "2021-09-18T10:19:52.346Z"
   },
   {
    "duration": 30,
    "start_time": "2021-09-18T10:19:52.354Z"
   },
   {
    "duration": 13,
    "start_time": "2021-09-18T10:19:52.386Z"
   },
   {
    "duration": 28,
    "start_time": "2021-09-18T10:19:56.089Z"
   },
   {
    "duration": 5,
    "start_time": "2021-09-18T10:19:58.777Z"
   },
   {
    "duration": 4,
    "start_time": "2021-09-18T10:20:00.421Z"
   },
   {
    "duration": 10,
    "start_time": "2021-09-18T10:20:01.072Z"
   },
   {
    "duration": 5,
    "start_time": "2021-09-18T10:20:02.374Z"
   },
   {
    "duration": 5,
    "start_time": "2021-09-18T10:20:02.871Z"
   },
   {
    "duration": 5,
    "start_time": "2021-09-18T10:20:04.285Z"
   },
   {
    "duration": 15,
    "start_time": "2021-09-18T10:20:15.343Z"
   },
   {
    "duration": 5,
    "start_time": "2021-09-18T10:21:25.219Z"
   },
   {
    "duration": 5,
    "start_time": "2021-09-18T10:21:26.479Z"
   },
   {
    "duration": 16,
    "start_time": "2021-09-18T10:21:33.357Z"
   },
   {
    "duration": 15,
    "start_time": "2021-09-18T10:21:35.630Z"
   },
   {
    "duration": 5,
    "start_time": "2021-09-18T10:23:41.186Z"
   },
   {
    "duration": 5,
    "start_time": "2021-09-18T10:23:41.621Z"
   },
   {
    "duration": 269,
    "start_time": "2021-09-18T10:57:15.650Z"
   },
   {
    "duration": 263,
    "start_time": "2021-09-18T10:57:31.547Z"
   },
   {
    "duration": 633,
    "start_time": "2021-09-18T10:58:13.671Z"
   },
   {
    "duration": 653,
    "start_time": "2021-09-18T10:58:44.660Z"
   },
   {
    "duration": 3452,
    "start_time": "2021-09-18T11:08:26.134Z"
   },
   {
    "duration": 3940,
    "start_time": "2021-09-18T11:23:08.225Z"
   },
   {
    "duration": 85,
    "start_time": "2021-09-18T11:27:04.976Z"
   },
   {
    "duration": 4100,
    "start_time": "2021-09-18T11:28:01.415Z"
   },
   {
    "duration": 77,
    "start_time": "2021-09-18T11:28:22.611Z"
   },
   {
    "duration": 3089,
    "start_time": "2021-09-18T11:28:57.608Z"
   },
   {
    "duration": 5,
    "start_time": "2021-09-18T11:30:03.857Z"
   },
   {
    "duration": 3211,
    "start_time": "2021-09-18T11:31:24.323Z"
   },
   {
    "duration": 74,
    "start_time": "2021-09-18T11:31:27.546Z"
   },
   {
    "duration": 290,
    "start_time": "2021-09-18T11:41:19.773Z"
   },
   {
    "duration": 261,
    "start_time": "2021-09-18T11:42:57.216Z"
   },
   {
    "duration": 16,
    "start_time": "2021-09-18T11:46:23.397Z"
   },
   {
    "duration": 88,
    "start_time": "2021-09-18T11:50:20.914Z"
   },
   {
    "duration": 3751,
    "start_time": "2021-09-18T11:50:30.224Z"
   },
   {
    "duration": 262,
    "start_time": "2021-09-18T12:03:25.875Z"
   },
   {
    "duration": 3,
    "start_time": "2021-09-18T12:03:31.182Z"
   },
   {
    "duration": -928,
    "start_time": "2021-09-18T12:06:15.495Z"
   },
   {
    "duration": 185079,
    "start_time": "2021-09-18T12:06:16.675Z"
   },
   {
    "duration": 3562,
    "start_time": "2021-09-18T12:13:03.953Z"
   },
   {
    "duration": 3484,
    "start_time": "2021-09-18T13:42:30.966Z"
   },
   {
    "duration": 253,
    "start_time": "2021-09-18T13:42:45.848Z"
   },
   {
    "duration": 495,
    "start_time": "2021-09-18T13:53:28.460Z"
   },
   {
    "duration": 931,
    "start_time": "2021-09-18T13:56:21.942Z"
   },
   {
    "duration": 8,
    "start_time": "2021-09-18T13:56:53.974Z"
   },
   {
    "duration": 322,
    "start_time": "2021-09-18T13:58:30.372Z"
   },
   {
    "duration": 257,
    "start_time": "2021-09-18T13:59:48.859Z"
   },
   {
    "duration": 259,
    "start_time": "2021-09-18T14:00:05.778Z"
   },
   {
    "duration": 257,
    "start_time": "2021-09-18T14:00:15.833Z"
   },
   {
    "duration": 73,
    "start_time": "2021-09-18T14:01:07.770Z"
   },
   {
    "duration": 51,
    "start_time": "2021-09-18T15:05:25.629Z"
   },
   {
    "duration": 319,
    "start_time": "2021-09-18T15:06:01.213Z"
   },
   {
    "duration": 369,
    "start_time": "2021-09-18T15:06:27.501Z"
   },
   {
    "duration": 250,
    "start_time": "2021-09-18T15:06:41.594Z"
   },
   {
    "duration": 49,
    "start_time": "2021-09-18T15:06:54.745Z"
   },
   {
    "duration": 109,
    "start_time": "2021-09-18T15:07:02.687Z"
   },
   {
    "duration": 13,
    "start_time": "2021-09-18T15:07:18.586Z"
   },
   {
    "duration": 15,
    "start_time": "2021-09-18T15:07:37.516Z"
   },
   {
    "duration": 15,
    "start_time": "2021-09-18T15:08:35.353Z"
   },
   {
    "duration": 15,
    "start_time": "2021-09-18T15:08:51.246Z"
   },
   {
    "duration": 14,
    "start_time": "2021-09-18T15:09:04.631Z"
   },
   {
    "duration": 15,
    "start_time": "2021-09-18T15:09:07.209Z"
   },
   {
    "duration": 3297,
    "start_time": "2021-09-18T15:09:33.365Z"
   },
   {
    "duration": 16,
    "start_time": "2021-09-18T15:09:36.664Z"
   },
   {
    "duration": 11,
    "start_time": "2021-09-18T15:09:47.670Z"
   },
   {
    "duration": 11,
    "start_time": "2021-09-18T15:09:53.199Z"
   },
   {
    "duration": 11,
    "start_time": "2021-09-18T15:10:00.322Z"
   },
   {
    "duration": 11,
    "start_time": "2021-09-18T15:10:03.095Z"
   },
   {
    "duration": 12,
    "start_time": "2021-09-18T15:10:07.134Z"
   },
   {
    "duration": 98,
    "start_time": "2021-09-18T15:10:09.918Z"
   },
   {
    "duration": 271,
    "start_time": "2021-09-18T15:10:13.519Z"
   },
   {
    "duration": 283,
    "start_time": "2021-09-18T15:10:17.225Z"
   },
   {
    "duration": 11,
    "start_time": "2021-09-18T15:10:19.886Z"
   },
   {
    "duration": 12,
    "start_time": "2021-09-18T15:10:25.747Z"
   },
   {
    "duration": 16,
    "start_time": "2021-09-18T15:10:38.172Z"
   },
   {
    "duration": 16,
    "start_time": "2021-09-18T15:10:44.537Z"
   },
   {
    "duration": 15,
    "start_time": "2021-09-18T15:10:59.294Z"
   },
   {
    "duration": 11,
    "start_time": "2021-09-18T15:11:31.443Z"
   },
   {
    "duration": 254,
    "start_time": "2021-09-18T15:11:53.699Z"
   },
   {
    "duration": 27,
    "start_time": "2021-09-18T15:12:01.930Z"
   },
   {
    "duration": 10,
    "start_time": "2021-09-18T15:12:36.521Z"
   },
   {
    "duration": 14,
    "start_time": "2021-09-18T15:12:46.893Z"
   },
   {
    "duration": 87,
    "start_time": "2021-09-18T15:16:28.008Z"
   },
   {
    "duration": 93,
    "start_time": "2021-09-18T15:16:36.927Z"
   },
   {
    "duration": 36,
    "start_time": "2021-09-18T15:18:15.874Z"
   },
   {
    "duration": 37,
    "start_time": "2021-09-18T15:18:33.864Z"
   },
   {
    "duration": 10,
    "start_time": "2021-09-18T15:20:31.976Z"
   },
   {
    "duration": 24,
    "start_time": "2021-09-18T15:20:55.531Z"
   },
   {
    "duration": 14,
    "start_time": "2021-09-18T15:21:17.544Z"
   },
   {
    "duration": 13,
    "start_time": "2021-09-18T15:21:22.064Z"
   },
   {
    "duration": 144,
    "start_time": "2021-09-18T15:21:48.481Z"
   },
   {
    "duration": 3,
    "start_time": "2021-09-18T15:25:51.023Z"
   },
   {
    "duration": 4,
    "start_time": "2021-09-18T15:25:57.009Z"
   },
   {
    "duration": 3,
    "start_time": "2021-09-18T15:26:21.346Z"
   },
   {
    "duration": 3,
    "start_time": "2021-09-18T15:26:24.239Z"
   },
   {
    "duration": 7,
    "start_time": "2021-09-18T15:27:21.773Z"
   },
   {
    "duration": 6,
    "start_time": "2021-09-18T15:27:53.689Z"
   },
   {
    "duration": 4,
    "start_time": "2021-09-18T15:28:03.535Z"
   },
   {
    "duration": 31,
    "start_time": "2021-09-18T15:32:32.379Z"
   },
   {
    "duration": 419,
    "start_time": "2021-09-18T15:37:43.377Z"
   },
   {
    "duration": 441,
    "start_time": "2021-09-18T15:38:12.202Z"
   },
   {
    "duration": 33,
    "start_time": "2021-09-18T15:38:30.500Z"
   },
   {
    "duration": 151,
    "start_time": "2021-09-18T15:38:56.275Z"
   },
   {
    "duration": 155,
    "start_time": "2021-09-18T16:37:00.402Z"
   },
   {
    "duration": 484,
    "start_time": "2021-09-18T16:40:19.059Z"
   },
   {
    "duration": 7,
    "start_time": "2021-09-18T16:40:27.017Z"
   },
   {
    "duration": 9,
    "start_time": "2021-09-18T16:40:41.998Z"
   },
   {
    "duration": 9,
    "start_time": "2021-09-18T16:48:27.802Z"
   },
   {
    "duration": 308,
    "start_time": "2021-09-18T16:48:34.817Z"
   },
   {
    "duration": 313,
    "start_time": "2021-09-18T16:49:44.413Z"
   },
   {
    "duration": 26,
    "start_time": "2021-09-18T17:02:37.388Z"
   },
   {
    "duration": 96,
    "start_time": "2021-09-18T17:02:53.632Z"
   },
   {
    "duration": 95,
    "start_time": "2021-09-18T17:03:09.911Z"
   },
   {
    "duration": 28,
    "start_time": "2021-09-18T17:03:19.893Z"
   },
   {
    "duration": 4,
    "start_time": "2021-09-18T17:51:56.362Z"
   },
   {
    "duration": 1831,
    "start_time": "2021-09-18T17:53:36.367Z"
   },
   {
    "duration": 253,
    "start_time": "2021-09-18T17:54:34.766Z"
   },
   {
    "duration": 1200,
    "start_time": "2021-09-18T17:55:01.651Z"
   },
   {
    "duration": 1713,
    "start_time": "2021-09-18T17:55:29.938Z"
   },
   {
    "duration": 1441,
    "start_time": "2021-09-18T17:56:38.448Z"
   },
   {
    "duration": 23,
    "start_time": "2021-09-18T17:58:25.410Z"
   },
   {
    "duration": 26,
    "start_time": "2021-09-18T17:59:12.264Z"
   },
   {
    "duration": 3676,
    "start_time": "2021-09-18T18:00:10.694Z"
   },
   {
    "duration": 281,
    "start_time": "2021-09-18T18:00:18.075Z"
   },
   {
    "duration": 35,
    "start_time": "2021-09-18T18:00:18.358Z"
   },
   {
    "duration": 1642,
    "start_time": "2021-09-18T18:00:54.585Z"
   },
   {
    "duration": 32,
    "start_time": "2021-09-18T18:01:23.799Z"
   },
   {
    "duration": 1198,
    "start_time": "2021-09-18T18:08:07.062Z"
   },
   {
    "duration": 1240,
    "start_time": "2021-09-18T18:08:20.161Z"
   },
   {
    "duration": 25,
    "start_time": "2021-09-18T18:09:29.562Z"
   },
   {
    "duration": 174,
    "start_time": "2021-09-18T18:10:19.237Z"
   },
   {
    "duration": 31,
    "start_time": "2021-09-18T18:10:21.010Z"
   },
   {
    "duration": 1557,
    "start_time": "2021-09-18T18:10:53.148Z"
   },
   {
    "duration": 1208,
    "start_time": "2021-09-18T18:12:08.478Z"
   },
   {
    "duration": 445,
    "start_time": "2021-09-18T18:43:34.130Z"
   },
   {
    "duration": 603,
    "start_time": "2021-09-18T18:44:45.747Z"
   },
   {
    "duration": 416,
    "start_time": "2021-09-18T18:44:50.501Z"
   },
   {
    "duration": 1656,
    "start_time": "2021-09-18T18:46:54.445Z"
   },
   {
    "duration": 2159,
    "start_time": "2021-09-18T19:21:42.058Z"
   },
   {
    "duration": 413,
    "start_time": "2021-09-18T19:21:59.670Z"
   },
   {
    "duration": 48,
    "start_time": "2021-09-18T19:22:04.193Z"
   },
   {
    "duration": 10,
    "start_time": "2021-09-18T19:22:04.585Z"
   },
   {
    "duration": 6,
    "start_time": "2021-09-18T19:22:09.017Z"
   },
   {
    "duration": 12,
    "start_time": "2021-09-18T19:22:09.381Z"
   },
   {
    "duration": 7,
    "start_time": "2021-09-18T19:22:09.721Z"
   },
   {
    "duration": 6,
    "start_time": "2021-09-18T19:22:10.070Z"
   },
   {
    "duration": 10,
    "start_time": "2021-09-18T19:22:10.421Z"
   },
   {
    "duration": 7,
    "start_time": "2021-09-18T19:22:10.762Z"
   },
   {
    "duration": 7,
    "start_time": "2021-09-18T19:22:11.112Z"
   },
   {
    "duration": 15,
    "start_time": "2021-09-18T19:22:11.475Z"
   },
   {
    "duration": 12957,
    "start_time": "2021-09-18T19:22:12.833Z"
   },
   {
    "duration": 7,
    "start_time": "2021-09-18T19:22:25.792Z"
   },
   {
    "duration": 15,
    "start_time": "2021-09-18T19:22:25.801Z"
   },
   {
    "duration": 7,
    "start_time": "2021-09-18T19:22:25.818Z"
   },
   {
    "duration": 28,
    "start_time": "2021-09-18T19:22:25.845Z"
   },
   {
    "duration": 4,
    "start_time": "2021-09-18T19:22:25.875Z"
   },
   {
    "duration": 11,
    "start_time": "2021-09-18T19:22:25.880Z"
   },
   {
    "duration": 5,
    "start_time": "2021-09-18T19:22:25.893Z"
   },
   {
    "duration": 5,
    "start_time": "2021-09-18T19:22:25.899Z"
   },
   {
    "duration": 5,
    "start_time": "2021-09-18T19:22:25.905Z"
   },
   {
    "duration": 647,
    "start_time": "2021-09-18T19:22:25.912Z"
   },
   {
    "duration": 3292,
    "start_time": "2021-09-18T19:22:37.324Z"
   },
   {
    "duration": 8,
    "start_time": "2021-09-18T19:26:32.847Z"
   },
   {
    "duration": 422,
    "start_time": "2021-09-18T19:26:47.843Z"
   },
   {
    "duration": 87,
    "start_time": "2021-09-18T19:27:53.775Z"
   },
   {
    "duration": 80,
    "start_time": "2021-09-18T19:27:57.825Z"
   },
   {
    "duration": 91,
    "start_time": "2021-09-18T19:28:03.316Z"
   },
   {
    "duration": 236,
    "start_time": "2021-09-18T19:28:10.640Z"
   },
   {
    "duration": 486,
    "start_time": "2021-09-18T19:28:53.030Z"
   },
   {
    "duration": 413,
    "start_time": "2021-09-18T19:29:56.074Z"
   },
   {
    "duration": 443,
    "start_time": "2021-09-18T19:30:19.207Z"
   },
   {
    "duration": 1192,
    "start_time": "2021-09-18T19:30:23.654Z"
   },
   {
    "duration": 398,
    "start_time": "2021-09-18T19:32:42.034Z"
   },
   {
    "duration": 1208,
    "start_time": "2021-09-18T19:32:47.562Z"
   },
   {
    "duration": 394,
    "start_time": "2021-09-18T19:32:57.190Z"
   },
   {
    "duration": 447,
    "start_time": "2021-09-18T19:33:13.681Z"
   },
   {
    "duration": 1075,
    "start_time": "2021-09-18T19:33:15.557Z"
   },
   {
    "duration": 51,
    "start_time": "2021-09-18T19:33:20.954Z"
   },
   {
    "duration": 6,
    "start_time": "2021-09-18T19:33:28.364Z"
   },
   {
    "duration": 12,
    "start_time": "2021-09-18T19:33:29.151Z"
   },
   {
    "duration": 6,
    "start_time": "2021-09-18T19:33:30.251Z"
   },
   {
    "duration": 5,
    "start_time": "2021-09-18T19:33:31.538Z"
   },
   {
    "duration": 11,
    "start_time": "2021-09-18T19:33:32.278Z"
   },
   {
    "duration": 6,
    "start_time": "2021-09-18T19:33:33.044Z"
   },
   {
    "duration": 7,
    "start_time": "2021-09-18T19:33:34.326Z"
   },
   {
    "duration": 15,
    "start_time": "2021-09-18T19:33:35.621Z"
   },
   {
    "duration": 12568,
    "start_time": "2021-09-18T19:33:36.808Z"
   },
   {
    "duration": 8,
    "start_time": "2021-09-18T19:33:49.379Z"
   },
   {
    "duration": 25,
    "start_time": "2021-09-18T19:33:49.390Z"
   },
   {
    "duration": 9,
    "start_time": "2021-09-18T19:33:49.417Z"
   },
   {
    "duration": 52,
    "start_time": "2021-09-18T19:33:49.427Z"
   },
   {
    "duration": 5,
    "start_time": "2021-09-18T19:33:49.480Z"
   },
   {
    "duration": 19,
    "start_time": "2021-09-18T19:33:49.487Z"
   },
   {
    "duration": 30,
    "start_time": "2021-09-18T19:33:49.508Z"
   },
   {
    "duration": 17,
    "start_time": "2021-09-18T19:33:49.539Z"
   },
   {
    "duration": 14,
    "start_time": "2021-09-18T19:33:49.557Z"
   },
   {
    "duration": 18,
    "start_time": "2021-09-18T19:33:49.573Z"
   },
   {
    "duration": 3162,
    "start_time": "2021-09-18T19:33:49.593Z"
   },
   {
    "duration": 1207,
    "start_time": "2021-09-18T19:34:09.658Z"
   },
   {
    "duration": 2338,
    "start_time": "2021-09-18T19:34:27.563Z"
   },
   {
    "duration": 244,
    "start_time": "2021-09-18T19:47:39.234Z"
   },
   {
    "duration": 2612,
    "start_time": "2021-09-18T19:47:57.164Z"
   },
   {
    "duration": 2375,
    "start_time": "2021-09-18T19:48:40.299Z"
   },
   {
    "duration": 242,
    "start_time": "2021-09-18T19:48:48.472Z"
   },
   {
    "duration": 268,
    "start_time": "2021-09-18T19:48:59.876Z"
   },
   {
    "duration": 259,
    "start_time": "2021-09-18T19:52:22.202Z"
   },
   {
    "duration": 435,
    "start_time": "2021-09-18T19:53:25.865Z"
   },
   {
    "duration": 399,
    "start_time": "2021-09-18T19:53:28.354Z"
   },
   {
    "duration": 1097,
    "start_time": "2021-09-18T19:54:13.405Z"
   },
   {
    "duration": 49,
    "start_time": "2021-09-18T19:54:28.643Z"
   },
   {
    "duration": 10,
    "start_time": "2021-09-18T19:54:29.031Z"
   },
   {
    "duration": 12,
    "start_time": "2021-09-18T19:54:29.282Z"
   },
   {
    "duration": 29,
    "start_time": "2021-09-18T19:54:29.445Z"
   },
   {
    "duration": 49,
    "start_time": "2021-09-18T19:54:29.607Z"
   },
   {
    "duration": 16,
    "start_time": "2021-09-18T19:54:29.813Z"
   },
   {
    "duration": 6,
    "start_time": "2021-09-18T19:54:30.472Z"
   },
   {
    "duration": 10,
    "start_time": "2021-09-18T19:54:30.540Z"
   },
   {
    "duration": 6,
    "start_time": "2021-09-18T19:54:31.044Z"
   },
   {
    "duration": 5,
    "start_time": "2021-09-18T19:54:31.492Z"
   },
   {
    "duration": 10,
    "start_time": "2021-09-18T19:54:31.901Z"
   },
   {
    "duration": 6,
    "start_time": "2021-09-18T19:54:32.325Z"
   },
   {
    "duration": 7,
    "start_time": "2021-09-18T19:54:32.984Z"
   },
   {
    "duration": 14,
    "start_time": "2021-09-18T19:54:33.548Z"
   },
   {
    "duration": 12724,
    "start_time": "2021-09-18T19:54:33.623Z"
   },
   {
    "duration": 7,
    "start_time": "2021-09-18T19:54:46.349Z"
   },
   {
    "duration": 23,
    "start_time": "2021-09-18T19:54:46.357Z"
   },
   {
    "duration": 6,
    "start_time": "2021-09-18T19:54:46.382Z"
   },
   {
    "duration": 32,
    "start_time": "2021-09-18T19:54:46.390Z"
   },
   {
    "duration": 3,
    "start_time": "2021-09-18T19:54:46.424Z"
   },
   {
    "duration": 4,
    "start_time": "2021-09-18T19:54:46.444Z"
   },
   {
    "duration": 9,
    "start_time": "2021-09-18T19:54:46.450Z"
   },
   {
    "duration": 6,
    "start_time": "2021-09-18T19:54:46.460Z"
   },
   {
    "duration": 8,
    "start_time": "2021-09-18T19:54:46.467Z"
   },
   {
    "duration": 8,
    "start_time": "2021-09-18T19:54:46.476Z"
   },
   {
    "duration": 3312,
    "start_time": "2021-09-18T19:54:46.486Z"
   },
   {
    "duration": 160,
    "start_time": "2021-09-18T19:54:49.800Z"
   },
   {
    "duration": 1286,
    "start_time": "2021-09-18T19:54:53.430Z"
   },
   {
    "duration": 922,
    "start_time": "2021-09-18T19:55:39.079Z"
   },
   {
    "duration": 3955,
    "start_time": "2021-09-18T19:55:59.440Z"
   },
   {
    "duration": 3112,
    "start_time": "2021-09-18T19:56:27.054Z"
   },
   {
    "duration": 3127,
    "start_time": "2021-09-18T19:57:04.684Z"
   },
   {
    "duration": 3061,
    "start_time": "2021-09-18T19:57:37.822Z"
   },
   {
    "duration": 20,
    "start_time": "2021-09-18T19:58:28.984Z"
   },
   {
    "duration": 3057,
    "start_time": "2021-09-18T19:58:36.062Z"
   },
   {
    "duration": 9,
    "start_time": "2021-09-18T19:58:42.951Z"
   },
   {
    "duration": 6,
    "start_time": "2021-09-18T19:58:54.150Z"
   },
   {
    "duration": 2873,
    "start_time": "2021-09-18T19:59:03.221Z"
   },
   {
    "duration": 8,
    "start_time": "2021-09-18T19:59:17.455Z"
   },
   {
    "duration": 44,
    "start_time": "2021-09-18T20:01:59.940Z"
   },
   {
    "duration": 40,
    "start_time": "2021-09-18T20:05:32.884Z"
   },
   {
    "duration": 48,
    "start_time": "2021-09-18T20:06:56.617Z"
   },
   {
    "duration": 9,
    "start_time": "2021-09-18T20:06:56.666Z"
   },
   {
    "duration": 12,
    "start_time": "2021-09-18T20:06:56.677Z"
   },
   {
    "duration": 28,
    "start_time": "2021-09-18T20:06:56.691Z"
   },
   {
    "duration": 64,
    "start_time": "2021-09-18T20:06:56.721Z"
   },
   {
    "duration": 16,
    "start_time": "2021-09-18T20:06:56.787Z"
   },
   {
    "duration": 6,
    "start_time": "2021-09-18T20:06:56.805Z"
   },
   {
    "duration": 34,
    "start_time": "2021-09-18T20:06:56.812Z"
   },
   {
    "duration": 5,
    "start_time": "2021-09-18T20:06:56.849Z"
   },
   {
    "duration": 10,
    "start_time": "2021-09-18T20:06:56.856Z"
   },
   {
    "duration": 11,
    "start_time": "2021-09-18T20:06:56.867Z"
   },
   {
    "duration": 8,
    "start_time": "2021-09-18T20:06:56.879Z"
   },
   {
    "duration": 6,
    "start_time": "2021-09-18T20:06:56.888Z"
   },
   {
    "duration": 27,
    "start_time": "2021-09-18T20:06:56.896Z"
   },
   {
    "duration": 17,
    "start_time": "2021-09-18T20:11:07.628Z"
   },
   {
    "duration": 15,
    "start_time": "2021-09-18T20:13:27.690Z"
   },
   {
    "duration": 240,
    "start_time": "2021-09-18T20:15:07.737Z"
   },
   {
    "duration": 242,
    "start_time": "2021-09-18T20:15:41.132Z"
   },
   {
    "duration": 24,
    "start_time": "2021-09-18T20:15:46.598Z"
   },
   {
    "duration": 239,
    "start_time": "2021-09-18T20:16:35.782Z"
   },
   {
    "duration": 34,
    "start_time": "2021-09-18T20:16:40.036Z"
   },
   {
    "duration": 34,
    "start_time": "2021-09-18T20:17:39.145Z"
   },
   {
    "duration": 33,
    "start_time": "2021-09-18T20:17:47.997Z"
   },
   {
    "duration": 12,
    "start_time": "2021-09-18T20:18:12.477Z"
   },
   {
    "duration": 11,
    "start_time": "2021-09-18T20:18:54.300Z"
   },
   {
    "duration": 11,
    "start_time": "2021-09-18T20:19:13.332Z"
   },
   {
    "duration": 12,
    "start_time": "2021-09-18T20:19:27.170Z"
   },
   {
    "duration": 21,
    "start_time": "2021-09-18T20:20:06.283Z"
   },
   {
    "duration": 12,
    "start_time": "2021-09-18T20:20:42.857Z"
   },
   {
    "duration": 12,
    "start_time": "2021-09-18T20:20:46.138Z"
   },
   {
    "duration": 385,
    "start_time": "2021-09-18T20:21:03.556Z"
   },
   {
    "duration": 47,
    "start_time": "2021-09-18T20:21:11.449Z"
   },
   {
    "duration": 10,
    "start_time": "2021-09-18T20:21:12.026Z"
   },
   {
    "duration": 11,
    "start_time": "2021-09-18T20:21:12.725Z"
   },
   {
    "duration": 28,
    "start_time": "2021-09-18T20:21:12.959Z"
   },
   {
    "duration": 48,
    "start_time": "2021-09-18T20:21:13.132Z"
   },
   {
    "duration": 17,
    "start_time": "2021-09-18T20:21:13.292Z"
   },
   {
    "duration": 6,
    "start_time": "2021-09-18T20:21:14.198Z"
   },
   {
    "duration": 9,
    "start_time": "2021-09-18T20:21:14.413Z"
   },
   {
    "duration": 6,
    "start_time": "2021-09-18T20:21:14.887Z"
   },
   {
    "duration": 13,
    "start_time": "2021-09-18T20:21:14.894Z"
   },
   {
    "duration": 11,
    "start_time": "2021-09-18T20:21:15.076Z"
   },
   {
    "duration": 7,
    "start_time": "2021-09-18T20:21:15.303Z"
   },
   {
    "duration": 7,
    "start_time": "2021-09-18T20:21:15.542Z"
   },
   {
    "duration": 15,
    "start_time": "2021-09-18T20:21:15.773Z"
   },
   {
    "duration": 16,
    "start_time": "2021-09-18T20:21:16.133Z"
   },
   {
    "duration": 12830,
    "start_time": "2021-09-18T20:21:16.390Z"
   },
   {
    "duration": 7,
    "start_time": "2021-09-18T20:21:29.222Z"
   },
   {
    "duration": 25,
    "start_time": "2021-09-18T20:21:29.231Z"
   },
   {
    "duration": 7,
    "start_time": "2021-09-18T20:21:29.257Z"
   },
   {
    "duration": 40,
    "start_time": "2021-09-18T20:21:29.266Z"
   },
   {
    "duration": 4,
    "start_time": "2021-09-18T20:21:29.308Z"
   },
   {
    "duration": 10,
    "start_time": "2021-09-18T20:21:29.313Z"
   },
   {
    "duration": 21,
    "start_time": "2021-09-18T20:21:29.325Z"
   },
   {
    "duration": 5,
    "start_time": "2021-09-18T20:21:29.347Z"
   },
   {
    "duration": 9,
    "start_time": "2021-09-18T20:21:29.354Z"
   },
   {
    "duration": 15,
    "start_time": "2021-09-18T20:21:29.364Z"
   },
   {
    "duration": 3429,
    "start_time": "2021-09-18T20:21:29.380Z"
   },
   {
    "duration": 160,
    "start_time": "2021-09-18T20:21:32.811Z"
   },
   {
    "duration": 3203,
    "start_time": "2021-09-18T20:21:32.973Z"
   },
   {
    "duration": 9,
    "start_time": "2021-09-18T20:21:36.178Z"
   },
   {
    "duration": 13,
    "start_time": "2021-09-18T20:21:36.189Z"
   },
   {
    "duration": 10,
    "start_time": "2021-09-18T20:21:36.203Z"
   },
   {
    "duration": 42,
    "start_time": "2021-09-18T20:21:36.214Z"
   },
   {
    "duration": 12,
    "start_time": "2021-09-18T20:21:36.257Z"
   },
   {
    "duration": 31,
    "start_time": "2021-09-18T20:22:10.302Z"
   },
   {
    "duration": 371,
    "start_time": "2021-09-19T09:31:08.912Z"
   },
   {
    "duration": 800,
    "start_time": "2021-09-19T09:31:21.063Z"
   },
   {
    "duration": 14,
    "start_time": "2021-09-19T09:31:21.865Z"
   },
   {
    "duration": 27,
    "start_time": "2021-09-19T09:31:21.960Z"
   },
   {
    "duration": 50,
    "start_time": "2021-09-19T09:31:22.100Z"
   },
   {
    "duration": 79,
    "start_time": "2021-09-19T09:31:22.502Z"
   },
   {
    "duration": 25,
    "start_time": "2021-09-19T09:31:22.584Z"
   },
   {
    "duration": 9,
    "start_time": "2021-09-19T09:31:24.067Z"
   },
   {
    "duration": 18,
    "start_time": "2021-09-19T09:31:25.045Z"
   },
   {
    "duration": 9,
    "start_time": "2021-09-19T09:31:25.236Z"
   },
   {
    "duration": 8,
    "start_time": "2021-09-19T09:31:25.996Z"
   },
   {
    "duration": 15,
    "start_time": "2021-09-19T09:31:26.076Z"
   },
   {
    "duration": 10,
    "start_time": "2021-09-19T09:31:26.142Z"
   },
   {
    "duration": 11,
    "start_time": "2021-09-19T09:31:26.208Z"
   },
   {
    "duration": 21,
    "start_time": "2021-09-19T09:31:26.269Z"
   },
   {
    "duration": 24,
    "start_time": "2021-09-19T09:31:26.367Z"
   },
   {
    "duration": 24960,
    "start_time": "2021-09-19T09:31:26.448Z"
   },
   {
    "duration": 11,
    "start_time": "2021-09-19T09:31:51.411Z"
   },
   {
    "duration": 44,
    "start_time": "2021-09-19T09:31:51.425Z"
   },
   {
    "duration": 12,
    "start_time": "2021-09-19T09:31:51.471Z"
   },
   {
    "duration": 70,
    "start_time": "2021-09-19T09:31:51.486Z"
   },
   {
    "duration": 6,
    "start_time": "2021-09-19T09:31:51.558Z"
   },
   {
    "duration": 9,
    "start_time": "2021-09-19T09:31:51.567Z"
   },
   {
    "duration": 14,
    "start_time": "2021-09-19T09:31:51.580Z"
   },
   {
    "duration": 12,
    "start_time": "2021-09-19T09:31:51.596Z"
   },
   {
    "duration": 6,
    "start_time": "2021-09-19T09:31:51.611Z"
   },
   {
    "duration": 41,
    "start_time": "2021-09-19T09:31:51.620Z"
   },
   {
    "duration": 5254,
    "start_time": "2021-09-19T09:31:51.664Z"
   },
   {
    "duration": 297,
    "start_time": "2021-09-19T09:31:56.921Z"
   },
   {
    "duration": 4680,
    "start_time": "2021-09-19T09:31:57.221Z"
   },
   {
    "duration": 19,
    "start_time": "2021-09-19T09:32:01.903Z"
   },
   {
    "duration": 47,
    "start_time": "2021-09-19T09:32:01.925Z"
   },
   {
    "duration": 19,
    "start_time": "2021-09-19T09:32:01.975Z"
   },
   {
    "duration": 61,
    "start_time": "2021-09-19T09:32:01.996Z"
   },
   {
    "duration": 393,
    "start_time": "2021-09-19T09:32:02.059Z"
   },
   {
    "duration": 18,
    "start_time": "2021-09-19T09:32:36.737Z"
   },
   {
    "duration": 28,
    "start_time": "2021-09-19T09:32:50.552Z"
   },
   {
    "duration": 32,
    "start_time": "2021-09-19T09:32:59.935Z"
   },
   {
    "duration": 1808,
    "start_time": "2021-09-19T09:33:02.985Z"
   },
   {
    "duration": 60,
    "start_time": "2021-09-19T09:33:18.207Z"
   },
   {
    "duration": 983,
    "start_time": "2021-09-19T09:33:25.988Z"
   },
   {
    "duration": 46,
    "start_time": "2021-09-19T09:34:30.292Z"
   },
   {
    "duration": 32,
    "start_time": "2021-09-19T09:34:40.313Z"
   },
   {
    "duration": 29,
    "start_time": "2021-09-19T09:34:46.508Z"
   },
   {
    "duration": 27,
    "start_time": "2021-09-19T09:34:57.782Z"
   },
   {
    "duration": 33,
    "start_time": "2021-09-19T09:35:01.343Z"
   },
   {
    "duration": 28,
    "start_time": "2021-09-19T09:35:12.511Z"
   },
   {
    "duration": 33,
    "start_time": "2021-09-19T09:35:15.479Z"
   },
   {
    "duration": 27,
    "start_time": "2021-09-19T09:35:18.216Z"
   },
   {
    "duration": 31,
    "start_time": "2021-09-19T09:36:21.726Z"
   },
   {
    "duration": 32,
    "start_time": "2021-09-19T09:36:26.368Z"
   },
   {
    "duration": 6,
    "start_time": "2021-09-19T09:36:59.400Z"
   },
   {
    "duration": 6,
    "start_time": "2021-09-19T09:37:23.187Z"
   },
   {
    "duration": 30,
    "start_time": "2021-09-19T09:37:35.167Z"
   },
   {
    "duration": 89,
    "start_time": "2021-09-19T09:37:53.111Z"
   },
   {
    "duration": 15,
    "start_time": "2021-09-19T09:38:00.956Z"
   },
   {
    "duration": 14,
    "start_time": "2021-09-19T09:38:09.657Z"
   },
   {
    "duration": 31,
    "start_time": "2021-09-19T09:38:14.194Z"
   },
   {
    "duration": 35,
    "start_time": "2021-09-19T09:38:33.217Z"
   },
   {
    "duration": 37,
    "start_time": "2021-09-19T09:38:47.670Z"
   },
   {
    "duration": 31,
    "start_time": "2021-09-19T09:39:03.998Z"
   },
   {
    "duration": 32,
    "start_time": "2021-09-19T09:39:08.136Z"
   },
   {
    "duration": 288,
    "start_time": "2021-09-19T09:39:16.688Z"
   },
   {
    "duration": 33,
    "start_time": "2021-09-19T09:39:28.200Z"
   },
   {
    "duration": 6,
    "start_time": "2021-09-19T09:42:15.746Z"
   },
   {
    "duration": 28,
    "start_time": "2021-09-19T09:42:23.519Z"
   },
   {
    "duration": 6,
    "start_time": "2021-09-19T09:42:32.396Z"
   },
   {
    "duration": 86,
    "start_time": "2021-09-19T09:42:42.004Z"
   },
   {
    "duration": 6,
    "start_time": "2021-09-19T09:42:47.436Z"
   },
   {
    "duration": 50,
    "start_time": "2021-09-19T09:42:57.197Z"
   },
   {
    "duration": 27,
    "start_time": "2021-09-19T09:43:13.078Z"
   },
   {
    "duration": 29,
    "start_time": "2021-09-19T09:43:22.266Z"
   },
   {
    "duration": 6,
    "start_time": "2021-09-19T09:44:15.001Z"
   },
   {
    "duration": 6,
    "start_time": "2021-09-19T09:44:19.997Z"
   },
   {
    "duration": 23,
    "start_time": "2021-09-19T09:45:05.300Z"
   },
   {
    "duration": 22,
    "start_time": "2021-09-19T09:45:16.075Z"
   },
   {
    "duration": 324,
    "start_time": "2021-09-19T09:45:49.805Z"
   },
   {
    "duration": 380,
    "start_time": "2021-09-19T09:47:38.857Z"
   },
   {
    "duration": 258,
    "start_time": "2021-09-19T09:47:46.177Z"
   },
   {
    "duration": 314,
    "start_time": "2021-09-19T09:47:54.940Z"
   },
   {
    "duration": 266,
    "start_time": "2021-09-19T09:48:23.952Z"
   },
   {
    "duration": 44,
    "start_time": "2021-09-19T09:50:18.022Z"
   },
   {
    "duration": 37,
    "start_time": "2021-09-19T09:50:40.101Z"
   },
   {
    "duration": 304,
    "start_time": "2021-09-19T09:50:44.242Z"
   },
   {
    "duration": 267,
    "start_time": "2021-09-19T09:50:50.344Z"
   },
   {
    "duration": 32,
    "start_time": "2021-09-19T09:50:58.132Z"
   },
   {
    "duration": 39,
    "start_time": "2021-09-19T09:52:07.364Z"
   },
   {
    "duration": 22,
    "start_time": "2021-09-19T09:52:42.563Z"
   },
   {
    "duration": 32,
    "start_time": "2021-09-19T09:52:50.042Z"
   },
   {
    "duration": 55,
    "start_time": "2021-09-19T09:53:12.212Z"
   },
   {
    "duration": 37,
    "start_time": "2021-09-19T09:53:15.935Z"
   },
   {
    "duration": 31,
    "start_time": "2021-09-19T09:53:29.494Z"
   },
   {
    "duration": 1866,
    "start_time": "2021-09-19T09:55:29.667Z"
   },
   {
    "duration": 38,
    "start_time": "2021-09-19T09:55:33.445Z"
   },
   {
    "duration": 277,
    "start_time": "2021-09-19T09:57:12.032Z"
   },
   {
    "duration": 281,
    "start_time": "2021-09-19T09:57:18.692Z"
   },
   {
    "duration": 274,
    "start_time": "2021-09-19T09:58:09.668Z"
   },
   {
    "duration": 349,
    "start_time": "2021-09-19T09:58:13.957Z"
   },
   {
    "duration": 273,
    "start_time": "2021-09-19T09:58:17.873Z"
   },
   {
    "duration": 282,
    "start_time": "2021-09-19T09:58:27.263Z"
   },
   {
    "duration": 277,
    "start_time": "2021-09-19T09:58:34.110Z"
   },
   {
    "duration": 266,
    "start_time": "2021-09-19T09:58:42.335Z"
   },
   {
    "duration": 44,
    "start_time": "2021-09-19T09:58:53.282Z"
   },
   {
    "duration": 33,
    "start_time": "2021-09-19T09:59:05.165Z"
   },
   {
    "duration": 35,
    "start_time": "2021-09-19T09:59:17.268Z"
   },
   {
    "duration": 290,
    "start_time": "2021-09-19T09:59:29.399Z"
   },
   {
    "duration": 105,
    "start_time": "2021-09-19T09:59:43.060Z"
   },
   {
    "duration": 1535,
    "start_time": "2021-09-19T09:59:46.655Z"
   },
   {
    "duration": 267,
    "start_time": "2021-09-19T09:59:56.413Z"
   },
   {
    "duration": 275,
    "start_time": "2021-09-19T10:00:10.194Z"
   },
   {
    "duration": 277,
    "start_time": "2021-09-19T10:00:18.624Z"
   },
   {
    "duration": 468,
    "start_time": "2021-09-19T10:00:23.260Z"
   },
   {
    "duration": 282,
    "start_time": "2021-09-19T10:00:28.792Z"
   },
   {
    "duration": 70,
    "start_time": "2021-09-19T10:00:39.477Z"
   },
   {
    "duration": 310,
    "start_time": "2021-09-19T10:02:56.297Z"
   },
   {
    "duration": 296,
    "start_time": "2021-09-19T10:03:01.829Z"
   },
   {
    "duration": 103,
    "start_time": "2021-09-19T10:03:04.905Z"
   },
   {
    "duration": 93,
    "start_time": "2021-09-19T10:03:17.747Z"
   },
   {
    "duration": 274,
    "start_time": "2021-09-19T10:03:34.660Z"
   },
   {
    "duration": 72,
    "start_time": "2021-09-19T10:03:53.239Z"
   },
   {
    "duration": 302,
    "start_time": "2021-09-19T10:04:09.727Z"
   },
   {
    "duration": 280,
    "start_time": "2021-09-19T10:04:13.034Z"
   },
   {
    "duration": 69,
    "start_time": "2021-09-19T10:04:28.080Z"
   },
   {
    "duration": 47,
    "start_time": "2021-09-19T10:04:35.070Z"
   },
   {
    "duration": 43,
    "start_time": "2021-09-19T10:04:39.339Z"
   },
   {
    "duration": 57,
    "start_time": "2021-09-19T10:06:16.776Z"
   },
   {
    "duration": 48,
    "start_time": "2021-09-19T10:06:23.976Z"
   },
   {
    "duration": 43,
    "start_time": "2021-09-19T10:06:28.238Z"
   },
   {
    "duration": 21,
    "start_time": "2021-09-19T10:07:39.320Z"
   },
   {
    "duration": 317,
    "start_time": "2021-09-19T10:07:59.715Z"
   },
   {
    "duration": 36,
    "start_time": "2021-09-19T10:08:18.847Z"
   },
   {
    "duration": 36,
    "start_time": "2021-09-19T10:09:29.839Z"
   },
   {
    "duration": 20,
    "start_time": "2021-09-19T10:09:35.988Z"
   },
   {
    "duration": 27,
    "start_time": "2021-09-19T10:10:12.133Z"
   },
   {
    "duration": 21,
    "start_time": "2021-09-19T10:10:19.911Z"
   },
   {
    "duration": 18,
    "start_time": "2021-09-19T10:10:32.303Z"
   },
   {
    "duration": 19,
    "start_time": "2021-09-19T10:10:45.364Z"
   },
   {
    "duration": 45,
    "start_time": "2021-09-19T10:12:21.034Z"
   },
   {
    "duration": 26,
    "start_time": "2021-09-19T10:15:46.291Z"
   },
   {
    "duration": 296,
    "start_time": "2021-09-19T10:16:42.267Z"
   },
   {
    "duration": 27,
    "start_time": "2021-09-19T10:45:15.374Z"
   },
   {
    "duration": 27,
    "start_time": "2021-09-19T10:45:23.891Z"
   },
   {
    "duration": 32,
    "start_time": "2021-09-19T10:45:37.629Z"
   },
   {
    "duration": 29,
    "start_time": "2021-09-19T10:45:48.134Z"
   },
   {
    "duration": 47,
    "start_time": "2021-09-19T10:46:26.097Z"
   },
   {
    "duration": 112,
    "start_time": "2021-09-19T10:46:32.686Z"
   },
   {
    "duration": 85,
    "start_time": "2021-09-19T10:46:46.923Z"
   },
   {
    "duration": 46,
    "start_time": "2021-09-19T10:46:54.840Z"
   },
   {
    "duration": 53,
    "start_time": "2021-09-19T10:47:21.430Z"
   },
   {
    "duration": 114,
    "start_time": "2021-09-19T10:47:58.124Z"
   },
   {
    "duration": 48,
    "start_time": "2021-09-19T10:48:03.736Z"
   },
   {
    "duration": 101,
    "start_time": "2021-09-19T10:48:08.143Z"
   },
   {
    "duration": 89,
    "start_time": "2021-09-19T10:48:14.892Z"
   },
   {
    "duration": 315,
    "start_time": "2021-09-19T10:48:20.207Z"
   },
   {
    "duration": 339,
    "start_time": "2021-09-19T10:48:39.418Z"
   },
   {
    "duration": 50,
    "start_time": "2021-09-19T10:48:43.536Z"
   },
   {
    "duration": 47,
    "start_time": "2021-09-19T10:48:49.135Z"
   },
   {
    "duration": 100,
    "start_time": "2021-09-19T10:48:58.112Z"
   },
   {
    "duration": 1803,
    "start_time": "2021-09-19T10:49:01.632Z"
   },
   {
    "duration": 49,
    "start_time": "2021-09-19T10:49:09.334Z"
   },
   {
    "duration": 50,
    "start_time": "2021-09-19T10:49:29.248Z"
   },
   {
    "duration": 28,
    "start_time": "2021-09-19T10:50:59.003Z"
   },
   {
    "duration": 37,
    "start_time": "2021-09-19T10:54:19.373Z"
   },
   {
    "duration": 124,
    "start_time": "2021-09-19T10:58:57.533Z"
   },
   {
    "duration": 39,
    "start_time": "2021-09-19T10:58:59.944Z"
   },
   {
    "duration": 16,
    "start_time": "2021-09-19T11:03:20.194Z"
   },
   {
    "duration": 21,
    "start_time": "2021-09-19T11:03:30.144Z"
   },
   {
    "duration": 22,
    "start_time": "2021-09-19T11:03:31.456Z"
   },
   {
    "duration": 21,
    "start_time": "2021-09-19T11:03:35.118Z"
   },
   {
    "duration": 63,
    "start_time": "2021-09-19T11:04:58.239Z"
   },
   {
    "duration": 14,
    "start_time": "2021-09-19T11:04:58.510Z"
   },
   {
    "duration": 19,
    "start_time": "2021-09-19T11:04:58.713Z"
   },
   {
    "duration": 47,
    "start_time": "2021-09-19T11:04:58.911Z"
   },
   {
    "duration": 76,
    "start_time": "2021-09-19T11:04:59.103Z"
   },
   {
    "duration": 25,
    "start_time": "2021-09-19T11:04:59.300Z"
   },
   {
    "duration": 9,
    "start_time": "2021-09-19T11:05:01.249Z"
   },
   {
    "duration": 24,
    "start_time": "2021-09-19T11:05:01.619Z"
   },
   {
    "duration": 8,
    "start_time": "2021-09-19T11:05:02.029Z"
   },
   {
    "duration": 8,
    "start_time": "2021-09-19T11:05:02.382Z"
   },
   {
    "duration": 16,
    "start_time": "2021-09-19T11:05:03.020Z"
   },
   {
    "duration": 9,
    "start_time": "2021-09-19T11:05:03.367Z"
   },
   {
    "duration": 11,
    "start_time": "2021-09-19T11:05:03.735Z"
   },
   {
    "duration": 17,
    "start_time": "2021-09-19T11:05:04.123Z"
   },
   {
    "duration": 19,
    "start_time": "2021-09-19T11:05:04.360Z"
   },
   {
    "duration": 85,
    "start_time": "2021-09-20T08:33:57.950Z"
   },
   {
    "duration": 88,
    "start_time": "2021-09-20T08:38:07.073Z"
   },
   {
    "duration": 1282,
    "start_time": "2021-09-21T04:19:00.017Z"
   },
   {
    "duration": 4366,
    "start_time": "2021-09-21T04:19:17.612Z"
   },
   {
    "duration": 72,
    "start_time": "2021-09-21T04:19:26.316Z"
   },
   {
    "duration": 177,
    "start_time": "2021-09-21T04:19:46.032Z"
   },
   {
    "duration": 228,
    "start_time": "2021-09-21T04:19:57.786Z"
   },
   {
    "duration": 55,
    "start_time": "2021-09-21T04:20:24.869Z"
   },
   {
    "duration": 29,
    "start_time": "2021-09-21T04:20:43.390Z"
   },
   {
    "duration": 10,
    "start_time": "2021-09-21T04:23:14.439Z"
   },
   {
    "duration": 16,
    "start_time": "2021-09-21T04:23:15.542Z"
   },
   {
    "duration": 10,
    "start_time": "2021-09-21T04:23:27.029Z"
   },
   {
    "duration": 2444,
    "start_time": "2021-09-21T04:23:32.497Z"
   },
   {
    "duration": 36,
    "start_time": "2021-09-21T04:23:43.464Z"
   },
   {
    "duration": 9,
    "start_time": "2021-09-21T04:24:16.011Z"
   },
   {
    "duration": 10,
    "start_time": "2021-09-21T04:24:43.596Z"
   },
   {
    "duration": 42,
    "start_time": "2021-09-21T04:27:31.228Z"
   },
   {
    "duration": 410,
    "start_time": "2021-09-21T04:28:13.456Z"
   },
   {
    "duration": 3964,
    "start_time": "2021-09-21T04:28:25.833Z"
   },
   {
    "duration": 365,
    "start_time": "2021-09-21T04:29:06.869Z"
   },
   {
    "duration": 1201,
    "start_time": "2021-09-21T04:29:37.662Z"
   },
   {
    "duration": 379,
    "start_time": "2021-09-21T04:29:43.931Z"
   },
   {
    "duration": 50,
    "start_time": "2021-09-21T04:29:52.742Z"
   },
   {
    "duration": 114,
    "start_time": "2021-09-21T04:37:31.938Z"
   },
   {
    "duration": 149,
    "start_time": "2021-09-21T04:38:15.061Z"
   },
   {
    "duration": 121,
    "start_time": "2021-09-21T04:38:56.314Z"
   },
   {
    "duration": 104,
    "start_time": "2021-09-21T04:39:06.634Z"
   },
   {
    "duration": 104,
    "start_time": "2021-09-21T04:39:31.684Z"
   },
   {
    "duration": 83,
    "start_time": "2021-09-21T04:39:35.836Z"
   },
   {
    "duration": 106,
    "start_time": "2021-09-21T04:39:38.451Z"
   },
   {
    "duration": 149,
    "start_time": "2021-09-21T04:39:46.342Z"
   },
   {
    "duration": 168,
    "start_time": "2021-09-21T04:40:23.056Z"
   },
   {
    "duration": 369,
    "start_time": "2021-09-21T04:41:39.019Z"
   },
   {
    "duration": 110,
    "start_time": "2021-09-21T04:41:54.916Z"
   },
   {
    "duration": 555,
    "start_time": "2021-09-21T04:41:58.737Z"
   },
   {
    "duration": 376,
    "start_time": "2021-09-21T04:42:04.573Z"
   },
   {
    "duration": 101,
    "start_time": "2021-09-21T04:42:12.490Z"
   },
   {
    "duration": 28,
    "start_time": "2021-09-21T04:42:18.260Z"
   },
   {
    "duration": 123,
    "start_time": "2021-09-21T04:42:54.700Z"
   },
   {
    "duration": 421,
    "start_time": "2021-09-21T04:44:24.765Z"
   },
   {
    "duration": 430,
    "start_time": "2021-09-21T04:44:36.532Z"
   },
   {
    "duration": 28,
    "start_time": "2021-09-21T04:44:40.030Z"
   },
   {
    "duration": 41,
    "start_time": "2021-09-21T04:48:15.729Z"
   },
   {
    "duration": 356,
    "start_time": "2021-09-21T04:48:22.116Z"
   },
   {
    "duration": 41,
    "start_time": "2021-09-21T04:49:53.762Z"
   },
   {
    "duration": 57,
    "start_time": "2021-09-21T04:50:09.681Z"
   },
   {
    "duration": 398,
    "start_time": "2021-09-21T04:52:26.028Z"
   },
   {
    "duration": 14,
    "start_time": "2021-09-21T04:52:44.320Z"
   },
   {
    "duration": 340,
    "start_time": "2021-09-21T04:52:50.174Z"
   },
   {
    "duration": 15,
    "start_time": "2021-09-21T04:52:56.173Z"
   },
   {
    "duration": 16,
    "start_time": "2021-09-21T04:53:05.446Z"
   },
   {
    "duration": 481,
    "start_time": "2021-09-21T04:53:19.347Z"
   },
   {
    "duration": 46,
    "start_time": "2021-09-21T04:53:26.770Z"
   },
   {
    "duration": 9,
    "start_time": "2021-09-21T04:55:49.771Z"
   },
   {
    "duration": 128,
    "start_time": "2021-09-21T05:01:59.850Z"
   },
   {
    "duration": 123,
    "start_time": "2021-09-21T05:13:16.507Z"
   },
   {
    "duration": 378,
    "start_time": "2021-09-21T05:17:39.258Z"
   },
   {
    "duration": 387,
    "start_time": "2021-09-21T05:17:51.552Z"
   },
   {
    "duration": 408,
    "start_time": "2021-09-21T05:18:12.560Z"
   },
   {
    "duration": 23040,
    "start_time": "2021-09-21T05:18:34.006Z"
   },
   {
    "duration": 10,
    "start_time": "2021-09-21T05:18:57.049Z"
   },
   {
    "duration": 40,
    "start_time": "2021-09-21T05:18:57.062Z"
   },
   {
    "duration": 11,
    "start_time": "2021-09-21T05:18:57.105Z"
   },
   {
    "duration": 70,
    "start_time": "2021-09-21T05:18:57.119Z"
   },
   {
    "duration": 7,
    "start_time": "2021-09-21T05:18:57.191Z"
   },
   {
    "duration": 7,
    "start_time": "2021-09-21T05:19:03.604Z"
   },
   {
    "duration": 15,
    "start_time": "2021-09-21T05:19:03.866Z"
   },
   {
    "duration": 11,
    "start_time": "2021-09-21T05:19:04.167Z"
   },
   {
    "duration": 11,
    "start_time": "2021-09-21T05:19:16.144Z"
   },
   {
    "duration": 18,
    "start_time": "2021-09-21T05:19:18.803Z"
   },
   {
    "duration": 36,
    "start_time": "2021-09-21T05:19:19.232Z"
   },
   {
    "duration": 40,
    "start_time": "2021-09-21T05:19:19.420Z"
   },
   {
    "duration": 9,
    "start_time": "2021-09-21T05:19:19.599Z"
   },
   {
    "duration": 10,
    "start_time": "2021-09-21T05:19:20.335Z"
   },
   {
    "duration": 15,
    "start_time": "2021-09-21T05:19:21.510Z"
   },
   {
    "duration": 11,
    "start_time": "2021-09-21T05:19:21.911Z"
   },
   {
    "duration": 11,
    "start_time": "2021-09-21T05:19:22.257Z"
   },
   {
    "duration": 16,
    "start_time": "2021-09-21T05:19:23.076Z"
   },
   {
    "duration": 16,
    "start_time": "2021-09-21T05:19:23.288Z"
   },
   {
    "duration": 22,
    "start_time": "2021-09-21T05:19:24.610Z"
   },
   {
    "duration": 25476,
    "start_time": "2021-09-21T05:19:25.034Z"
   },
   {
    "duration": 11,
    "start_time": "2021-09-21T05:19:50.513Z"
   },
   {
    "duration": 28,
    "start_time": "2021-09-21T05:19:50.528Z"
   },
   {
    "duration": 34,
    "start_time": "2021-09-21T05:19:50.559Z"
   },
   {
    "duration": 52,
    "start_time": "2021-09-21T05:19:50.595Z"
   },
   {
    "duration": 7,
    "start_time": "2021-09-21T05:19:50.650Z"
   },
   {
    "duration": 7,
    "start_time": "2021-09-21T05:19:50.682Z"
   },
   {
    "duration": 1032,
    "start_time": "2021-09-21T05:19:50.692Z"
   },
   {
    "duration": -579,
    "start_time": "2021-09-21T05:19:52.305Z"
   },
   {
    "duration": 389,
    "start_time": "2021-09-21T05:19:58.951Z"
   },
   {
    "duration": 7,
    "start_time": "2021-09-21T05:20:01.017Z"
   },
   {
    "duration": 385,
    "start_time": "2021-09-21T05:20:01.416Z"
   },
   {
    "duration": 6,
    "start_time": "2021-09-21T05:20:07.855Z"
   },
   {
    "duration": 40,
    "start_time": "2021-09-21T05:20:09.149Z"
   },
   {
    "duration": 7,
    "start_time": "2021-09-21T05:20:16.015Z"
   },
   {
    "duration": 123,
    "start_time": "2021-09-21T05:22:42.153Z"
   },
   {
    "duration": 47,
    "start_time": "2021-09-21T05:26:54.251Z"
   },
   {
    "duration": 40391,
    "start_time": "2021-09-21T08:14:59.080Z"
   },
   {
    "duration": 175,
    "start_time": "2021-09-21T08:16:08.458Z"
   },
   {
    "duration": 34694,
    "start_time": "2021-09-21T08:16:25.006Z"
   },
   {
    "duration": 55920,
    "start_time": "2021-09-21T08:20:09.981Z"
   },
   {
    "duration": 40,
    "start_time": "2021-09-21T08:33:51.877Z"
   },
   {
    "duration": 33337,
    "start_time": "2021-09-21T08:37:52.177Z"
   },
   {
    "duration": 3406,
    "start_time": "2021-09-21T08:39:13.772Z"
   },
   {
    "duration": 69,
    "start_time": "2021-09-21T08:39:17.182Z"
   },
   {
    "duration": 29,
    "start_time": "2021-09-21T08:39:17.255Z"
   },
   {
    "duration": 24,
    "start_time": "2021-09-21T08:39:17.287Z"
   },
   {
    "duration": 75,
    "start_time": "2021-09-21T08:39:17.314Z"
   },
   {
    "duration": 155,
    "start_time": "2021-09-21T08:39:17.392Z"
   },
   {
    "duration": 30,
    "start_time": "2021-09-21T08:39:17.583Z"
   },
   {
    "duration": 9,
    "start_time": "2021-09-21T08:39:17.616Z"
   },
   {
    "duration": 55,
    "start_time": "2021-09-21T08:39:17.628Z"
   },
   {
    "duration": 68,
    "start_time": "2021-09-21T08:39:17.686Z"
   },
   {
    "duration": 49,
    "start_time": "2021-09-21T08:39:17.785Z"
   },
   {
    "duration": 8,
    "start_time": "2021-09-21T08:39:17.837Z"
   },
   {
    "duration": 35,
    "start_time": "2021-09-21T08:39:17.848Z"
   },
   {
    "duration": 21,
    "start_time": "2021-09-21T08:39:17.886Z"
   },
   {
    "duration": 14,
    "start_time": "2021-09-21T08:39:17.910Z"
   },
   {
    "duration": 11,
    "start_time": "2021-09-21T08:39:18.050Z"
   },
   {
    "duration": 23,
    "start_time": "2021-09-21T08:39:18.286Z"
   },
   {
    "duration": 14,
    "start_time": "2021-09-21T08:39:18.423Z"
   },
   {
    "duration": 27,
    "start_time": "2021-09-21T08:39:19.089Z"
   },
   {
    "duration": 36042,
    "start_time": "2021-09-21T08:39:24.128Z"
   },
   {
    "duration": 3908,
    "start_time": "2021-09-21T08:40:00.174Z"
   },
   {
    "duration": 73,
    "start_time": "2021-09-21T08:40:04.087Z"
   },
   {
    "duration": 28,
    "start_time": "2021-09-21T08:40:04.163Z"
   },
   {
    "duration": 24,
    "start_time": "2021-09-21T08:40:04.194Z"
   },
   {
    "duration": 78,
    "start_time": "2021-09-21T08:40:04.222Z"
   },
   {
    "duration": 207,
    "start_time": "2021-09-21T08:40:04.304Z"
   },
   {
    "duration": 72,
    "start_time": "2021-09-21T08:40:04.515Z"
   },
   {
    "duration": 9,
    "start_time": "2021-09-21T08:40:04.610Z"
   },
   {
    "duration": 21,
    "start_time": "2021-09-21T08:40:04.621Z"
   },
   {
    "duration": 89,
    "start_time": "2021-09-21T08:40:04.644Z"
   },
   {
    "duration": 89,
    "start_time": "2021-09-21T08:40:04.736Z"
   },
   {
    "duration": 9,
    "start_time": "2021-09-21T08:40:04.827Z"
   },
   {
    "duration": 23,
    "start_time": "2021-09-21T08:40:04.838Z"
   },
   {
    "duration": 34,
    "start_time": "2021-09-21T08:40:04.864Z"
   },
   {
    "duration": 11,
    "start_time": "2021-09-21T08:40:04.901Z"
   },
   {
    "duration": 14,
    "start_time": "2021-09-21T08:40:04.915Z"
   },
   {
    "duration": 17,
    "start_time": "2021-09-21T08:40:04.932Z"
   },
   {
    "duration": 19,
    "start_time": "2021-09-21T08:40:04.984Z"
   },
   {
    "duration": 25,
    "start_time": "2021-09-21T08:40:05.615Z"
   },
   {
    "duration": 27499,
    "start_time": "2021-09-21T08:40:25.166Z"
   },
   {
    "duration": 3502,
    "start_time": "2021-09-21T08:58:49.202Z"
   },
   {
    "duration": 78,
    "start_time": "2021-09-21T08:58:52.708Z"
   },
   {
    "duration": 25,
    "start_time": "2021-09-21T08:58:52.790Z"
   },
   {
    "duration": 25,
    "start_time": "2021-09-21T08:58:52.819Z"
   },
   {
    "duration": 88,
    "start_time": "2021-09-21T08:58:52.847Z"
   },
   {
    "duration": 200,
    "start_time": "2021-09-21T08:58:52.939Z"
   },
   {
    "duration": 75,
    "start_time": "2021-09-21T08:58:53.142Z"
   },
   {
    "duration": 9,
    "start_time": "2021-09-21T08:58:53.220Z"
   },
   {
    "duration": 20,
    "start_time": "2021-09-21T08:58:53.232Z"
   },
   {
    "duration": 64,
    "start_time": "2021-09-21T08:58:53.292Z"
   },
   {
    "duration": 76,
    "start_time": "2021-09-21T08:58:53.359Z"
   },
   {
    "duration": 11,
    "start_time": "2021-09-21T08:58:53.438Z"
   },
   {
    "duration": 8,
    "start_time": "2021-09-21T08:58:53.571Z"
   },
   {
    "duration": 20,
    "start_time": "2021-09-21T08:58:53.902Z"
   },
   {
    "duration": 10,
    "start_time": "2021-09-21T08:58:54.173Z"
   },
   {
    "duration": 11,
    "start_time": "2021-09-21T08:58:54.468Z"
   },
   {
    "duration": 17,
    "start_time": "2021-09-21T08:58:54.769Z"
   },
   {
    "duration": 15,
    "start_time": "2021-09-21T08:58:54.920Z"
   },
   {
    "duration": 24,
    "start_time": "2021-09-21T08:58:56.199Z"
   },
   {
    "duration": 4,
    "start_time": "2021-09-21T08:58:56.641Z"
   },
   {
    "duration": 36342,
    "start_time": "2021-09-21T08:58:56.812Z"
   },
   {
    "duration": 29498,
    "start_time": "2021-09-21T08:59:33.157Z"
   },
   {
    "duration": 35341,
    "start_time": "2021-09-21T09:00:02.658Z"
   },
   {
    "duration": 5777,
    "start_time": "2021-09-21T09:34:02.989Z"
   },
   {
    "duration": 315,
    "start_time": "2021-09-21T09:34:12.219Z"
   },
   {
    "duration": 4940,
    "start_time": "2021-09-21T09:34:16.815Z"
   },
   {
    "duration": 139,
    "start_time": "2021-09-21T09:34:27.436Z"
   },
   {
    "duration": 17,
    "start_time": "2021-09-21T09:34:38.363Z"
   },
   {
    "duration": 8,
    "start_time": "2021-09-21T09:34:56.715Z"
   },
   {
    "duration": 1659,
    "start_time": "2021-09-21T09:35:10.255Z"
   },
   {
    "duration": 5063,
    "start_time": "2021-09-21T09:35:26.542Z"
   },
   {
    "duration": 379,
    "start_time": "2021-09-21T09:36:04.263Z"
   },
   {
    "duration": 6,
    "start_time": "2021-09-21T09:36:20.632Z"
   },
   {
    "duration": 351,
    "start_time": "2021-09-21T09:36:33.416Z"
   },
   {
    "duration": 4940,
    "start_time": "2021-09-21T09:36:44.946Z"
   },
   {
    "duration": 8,
    "start_time": "2021-09-21T09:37:04.827Z"
   },
   {
    "duration": 20,
    "start_time": "2021-09-21T09:37:41.558Z"
   },
   {
    "duration": 5072,
    "start_time": "2021-09-21T09:37:44.766Z"
   },
   {
    "duration": 19,
    "start_time": "2021-09-21T09:37:52.022Z"
   },
   {
    "duration": 5186,
    "start_time": "2021-09-21T09:39:02.719Z"
   },
   {
    "duration": 5192,
    "start_time": "2021-09-21T09:39:18.531Z"
   },
   {
    "duration": 11,
    "start_time": "2021-09-21T09:39:25.626Z"
   },
   {
    "duration": 23,
    "start_time": "2021-09-21T09:39:43.977Z"
   },
   {
    "duration": 8,
    "start_time": "2021-09-21T09:39:49.844Z"
   },
   {
    "duration": 10,
    "start_time": "2021-09-21T09:40:01.241Z"
   },
   {
    "duration": 5130,
    "start_time": "2021-09-21T09:40:04.332Z"
   },
   {
    "duration": 15,
    "start_time": "2021-09-21T09:40:14.177Z"
   },
   {
    "duration": 6,
    "start_time": "2021-09-21T09:40:55.785Z"
   },
   {
    "duration": 1131,
    "start_time": "2021-09-21T09:40:57.600Z"
   },
   {
    "duration": 6,
    "start_time": "2021-09-21T09:41:01.100Z"
   },
   {
    "duration": 10,
    "start_time": "2021-09-21T09:41:45.227Z"
   },
   {
    "duration": 1209,
    "start_time": "2021-09-21T09:42:16.785Z"
   },
   {
    "duration": 30,
    "start_time": "2021-09-21T09:42:20.525Z"
   },
   {
    "duration": 1065,
    "start_time": "2021-09-21T09:42:34.901Z"
   },
   {
    "duration": 77,
    "start_time": "2021-09-21T09:42:36.391Z"
   },
   {
    "duration": 16,
    "start_time": "2021-09-21T09:45:37.746Z"
   },
   {
    "duration": 17,
    "start_time": "2021-09-21T09:45:45.972Z"
   },
   {
    "duration": 6033,
    "start_time": "2021-09-21T09:45:58.475Z"
   },
   {
    "duration": 16,
    "start_time": "2021-09-21T09:54:21.498Z"
   },
   {
    "duration": 581,
    "start_time": "2021-09-21T09:54:34.877Z"
   },
   {
    "duration": 17,
    "start_time": "2021-09-21T09:54:38.827Z"
   },
   {
    "duration": 16,
    "start_time": "2021-09-21T10:13:05.377Z"
   },
   {
    "duration": 51,
    "start_time": "2021-09-21T10:16:34.758Z"
   },
   {
    "duration": 44,
    "start_time": "2021-09-21T10:16:43.416Z"
   },
   {
    "duration": 382,
    "start_time": "2021-09-21T10:19:53.081Z"
   },
   {
    "duration": 6,
    "start_time": "2021-09-21T10:19:57.988Z"
   },
   {
    "duration": 43,
    "start_time": "2021-09-21T10:20:20.258Z"
   },
   {
    "duration": 40,
    "start_time": "2021-09-21T10:20:38.997Z"
   },
   {
    "duration": 43,
    "start_time": "2021-09-21T10:20:55.495Z"
   },
   {
    "duration": 27,
    "start_time": "2021-09-21T10:23:05.025Z"
   },
   {
    "duration": 45,
    "start_time": "2021-09-21T10:23:11.508Z"
   },
   {
    "duration": 298,
    "start_time": "2021-09-21T10:26:48.199Z"
   },
   {
    "duration": 154,
    "start_time": "2021-09-21T10:27:13.939Z"
   },
   {
    "duration": 126,
    "start_time": "2021-09-21T10:27:34.215Z"
   },
   {
    "duration": 1021,
    "start_time": "2021-09-21T10:27:44.758Z"
   },
   {
    "duration": 47,
    "start_time": "2021-09-21T10:37:21.918Z"
   },
   {
    "duration": 145,
    "start_time": "2021-09-21T10:40:05.000Z"
   },
   {
    "duration": 7681,
    "start_time": "2021-09-21T10:40:13.973Z"
   },
   {
    "duration": 3320,
    "start_time": "2021-09-21T10:40:47.915Z"
   },
   {
    "duration": 70,
    "start_time": "2021-09-21T10:40:51.238Z"
   },
   {
    "duration": 17,
    "start_time": "2021-09-21T10:40:51.311Z"
   },
   {
    "duration": 20,
    "start_time": "2021-09-21T10:40:51.331Z"
   },
   {
    "duration": 76,
    "start_time": "2021-09-21T10:40:51.354Z"
   },
   {
    "duration": 179,
    "start_time": "2021-09-21T10:40:51.433Z"
   },
   {
    "duration": 26,
    "start_time": "2021-09-21T10:40:51.615Z"
   },
   {
    "duration": 43,
    "start_time": "2021-09-21T10:40:51.645Z"
   },
   {
    "duration": 19,
    "start_time": "2021-09-21T10:40:51.691Z"
   },
   {
    "duration": 93,
    "start_time": "2021-09-21T10:40:51.712Z"
   },
   {
    "duration": 46,
    "start_time": "2021-09-21T10:40:51.807Z"
   },
   {
    "duration": 9,
    "start_time": "2021-09-21T10:40:51.883Z"
   },
   {
    "duration": 10,
    "start_time": "2021-09-21T10:40:51.895Z"
   },
   {
    "duration": 20,
    "start_time": "2021-09-21T10:40:51.907Z"
   },
   {
    "duration": 14,
    "start_time": "2021-09-21T10:40:51.930Z"
   },
   {
    "duration": 40,
    "start_time": "2021-09-21T10:40:51.947Z"
   },
   {
    "duration": 18,
    "start_time": "2021-09-21T10:40:51.990Z"
   },
   {
    "duration": 16,
    "start_time": "2021-09-21T10:40:52.011Z"
   },
   {
    "duration": 57,
    "start_time": "2021-09-21T10:40:52.030Z"
   },
   {
    "duration": 26153,
    "start_time": "2021-09-21T10:40:52.089Z"
   },
   {
    "duration": 11,
    "start_time": "2021-09-21T10:41:18.245Z"
   },
   {
    "duration": 42,
    "start_time": "2021-09-21T10:41:18.259Z"
   },
   {
    "duration": 13,
    "start_time": "2021-09-21T10:41:18.307Z"
   },
   {
    "duration": 72,
    "start_time": "2021-09-21T10:41:18.323Z"
   },
   {
    "duration": 9,
    "start_time": "2021-09-21T10:41:18.398Z"
   },
   {
    "duration": 10,
    "start_time": "2021-09-21T10:41:18.410Z"
   },
   {
    "duration": 18,
    "start_time": "2021-09-21T10:41:18.422Z"
   },
   {
    "duration": 8,
    "start_time": "2021-09-21T10:41:18.442Z"
   },
   {
    "duration": 41,
    "start_time": "2021-09-21T10:41:18.483Z"
   },
   {
    "duration": 6,
    "start_time": "2021-09-21T10:41:18.527Z"
   },
   {
    "duration": 990,
    "start_time": "2021-09-21T10:41:18.536Z"
   },
   {
    "duration": 11,
    "start_time": "2021-09-21T10:41:19.529Z"
   },
   {
    "duration": 4912,
    "start_time": "2021-09-21T10:41:19.542Z"
   },
   {
    "duration": 32,
    "start_time": "2021-09-21T10:41:24.456Z"
   },
   {
    "duration": 41,
    "start_time": "2021-09-21T10:41:24.491Z"
   },
   {
    "duration": 74,
    "start_time": "2021-09-21T10:41:24.534Z"
   },
   {
    "duration": 40,
    "start_time": "2021-09-21T10:41:24.611Z"
   },
   {
    "duration": 67,
    "start_time": "2021-09-21T10:41:24.654Z"
   },
   {
    "duration": 120,
    "start_time": "2021-09-21T10:41:24.724Z"
   },
   {
    "duration": -402,
    "start_time": "2021-09-21T10:41:25.249Z"
   },
   {
    "duration": -406,
    "start_time": "2021-09-21T10:41:25.255Z"
   },
   {
    "duration": -418,
    "start_time": "2021-09-21T10:41:25.269Z"
   },
   {
    "duration": -427,
    "start_time": "2021-09-21T10:41:25.281Z"
   },
   {
    "duration": 572,
    "start_time": "2021-09-21T10:42:03.485Z"
   },
   {
    "duration": 11,
    "start_time": "2021-09-21T10:42:14.392Z"
   },
   {
    "duration": 437,
    "start_time": "2021-09-21T10:42:47.105Z"
   },
   {
    "duration": 665,
    "start_time": "2021-09-21T10:44:22.283Z"
   },
   {
    "duration": 394,
    "start_time": "2021-09-21T10:44:29.914Z"
   },
   {
    "duration": 378,
    "start_time": "2021-09-21T10:47:27.346Z"
   },
   {
    "duration": 130,
    "start_time": "2021-09-21T10:47:37.834Z"
   },
   {
    "duration": 10,
    "start_time": "2021-09-21T10:47:39.183Z"
   },
   {
    "duration": 114,
    "start_time": "2021-09-21T10:48:04.227Z"
   },
   {
    "duration": 10,
    "start_time": "2021-09-21T10:48:07.458Z"
   },
   {
    "duration": 360,
    "start_time": "2021-09-21T10:48:27.879Z"
   },
   {
    "duration": 387,
    "start_time": "2021-09-21T10:49:03.661Z"
   },
   {
    "duration": 10,
    "start_time": "2021-09-21T10:49:42.080Z"
   },
   {
    "duration": 10,
    "start_time": "2021-09-21T10:51:17.740Z"
   },
   {
    "duration": 5,
    "start_time": "2021-09-21T10:51:37.386Z"
   },
   {
    "duration": 5,
    "start_time": "2021-09-21T10:51:57.537Z"
   },
   {
    "duration": 9,
    "start_time": "2021-09-21T10:55:38.768Z"
   },
   {
    "duration": 399,
    "start_time": "2021-09-21T10:58:51.111Z"
   },
   {
    "duration": 10,
    "start_time": "2021-09-21T10:58:56.664Z"
   },
   {
    "duration": 121,
    "start_time": "2021-09-21T11:00:34.223Z"
   },
   {
    "duration": 44,
    "start_time": "2021-09-21T11:00:34.630Z"
   },
   {
    "duration": 8159,
    "start_time": "2021-09-21T11:00:44.787Z"
   },
   {
    "duration": 21,
    "start_time": "2021-09-21T11:01:08.476Z"
   },
   {
    "duration": 207,
    "start_time": "2021-09-21T11:02:05.204Z"
   },
   {
    "duration": 176,
    "start_time": "2021-09-21T11:02:25.162Z"
   },
   {
    "duration": 43,
    "start_time": "2021-09-21T11:02:52.569Z"
   },
   {
    "duration": 25,
    "start_time": "2021-09-21T11:02:59.566Z"
   },
   {
    "duration": 163,
    "start_time": "2021-09-21T11:03:10.997Z"
   },
   {
    "duration": 13234,
    "start_time": "2021-09-21T11:03:30.032Z"
   },
   {
    "duration": 248,
    "start_time": "2021-09-21T11:03:59.272Z"
   },
   {
    "duration": 162,
    "start_time": "2021-09-21T11:04:44.505Z"
   },
   {
    "duration": 44,
    "start_time": "2021-09-21T11:04:54.861Z"
   },
   {
    "duration": 7435,
    "start_time": "2021-09-21T11:06:12.212Z"
   },
   {
    "duration": 18,
    "start_time": "2021-09-21T11:06:56.715Z"
   },
   {
    "duration": 149,
    "start_time": "2021-09-21T11:07:24.923Z"
   },
   {
    "duration": 20,
    "start_time": "2021-09-21T11:07:27.151Z"
   },
   {
    "duration": 43,
    "start_time": "2021-09-21T11:07:34.912Z"
   },
   {
    "duration": 7042,
    "start_time": "2021-09-21T11:07:56.419Z"
   },
   {
    "duration": 12384,
    "start_time": "2021-09-21T11:08:14.433Z"
   },
   {
    "duration": 166,
    "start_time": "2021-09-21T11:09:11.465Z"
   },
   {
    "duration": 637,
    "start_time": "2021-09-21T11:09:15.366Z"
   },
   {
    "duration": 8493,
    "start_time": "2021-09-21T11:09:23.309Z"
   },
   {
    "duration": -430,
    "start_time": "2021-09-21T11:09:32.234Z"
   },
   {
    "duration": 44,
    "start_time": "2021-09-21T11:09:35.271Z"
   },
   {
    "duration": 46,
    "start_time": "2021-09-21T11:10:05.566Z"
   },
   {
    "duration": 38,
    "start_time": "2021-09-21T11:10:30.652Z"
   },
   {
    "duration": 924,
    "start_time": "2021-09-21T11:10:45.128Z"
   },
   {
    "duration": 132,
    "start_time": "2021-09-21T11:10:54.410Z"
   },
   {
    "duration": 123,
    "start_time": "2021-09-21T11:11:33.618Z"
   },
   {
    "duration": 39,
    "start_time": "2021-09-21T11:11:57.015Z"
   },
   {
    "duration": 40,
    "start_time": "2021-09-21T11:12:29.904Z"
   },
   {
    "duration": 126,
    "start_time": "2021-09-21T11:13:28.488Z"
   },
   {
    "duration": 274,
    "start_time": "2021-09-22T08:50:02.456Z"
   },
   {
    "duration": 3392,
    "start_time": "2021-09-22T08:50:09.224Z"
   },
   {
    "duration": 672,
    "start_time": "2021-09-22T08:50:12.618Z"
   },
   {
    "duration": 10,
    "start_time": "2021-09-22T08:50:13.292Z"
   },
   {
    "duration": 17,
    "start_time": "2021-09-22T08:50:13.305Z"
   },
   {
    "duration": 43,
    "start_time": "2021-09-22T08:50:13.324Z"
   },
   {
    "duration": 106,
    "start_time": "2021-09-22T08:50:13.369Z"
   },
   {
    "duration": 18,
    "start_time": "2021-09-22T08:50:13.477Z"
   },
   {
    "duration": 6,
    "start_time": "2021-09-22T08:50:13.498Z"
   },
   {
    "duration": 51,
    "start_time": "2021-09-22T08:50:13.506Z"
   },
   {
    "duration": 327,
    "start_time": "2021-09-22T08:50:13.558Z"
   },
   {
    "duration": -532,
    "start_time": "2021-09-22T08:50:14.419Z"
   },
   {
    "duration": -535,
    "start_time": "2021-09-22T08:50:14.423Z"
   },
   {
    "duration": -539,
    "start_time": "2021-09-22T08:50:14.428Z"
   },
   {
    "duration": -543,
    "start_time": "2021-09-22T08:50:14.433Z"
   },
   {
    "duration": -546,
    "start_time": "2021-09-22T08:50:14.437Z"
   },
   {
    "duration": -549,
    "start_time": "2021-09-22T08:50:14.441Z"
   },
   {
    "duration": -552,
    "start_time": "2021-09-22T08:50:14.445Z"
   },
   {
    "duration": -555,
    "start_time": "2021-09-22T08:50:14.449Z"
   },
   {
    "duration": -558,
    "start_time": "2021-09-22T08:50:14.453Z"
   },
   {
    "duration": -561,
    "start_time": "2021-09-22T08:50:14.457Z"
   },
   {
    "duration": -564,
    "start_time": "2021-09-22T08:50:14.461Z"
   },
   {
    "duration": -567,
    "start_time": "2021-09-22T08:50:14.465Z"
   },
   {
    "duration": -571,
    "start_time": "2021-09-22T08:50:14.470Z"
   },
   {
    "duration": -584,
    "start_time": "2021-09-22T08:50:14.484Z"
   },
   {
    "duration": -587,
    "start_time": "2021-09-22T08:50:14.488Z"
   },
   {
    "duration": -590,
    "start_time": "2021-09-22T08:50:14.492Z"
   },
   {
    "duration": -593,
    "start_time": "2021-09-22T08:50:14.496Z"
   },
   {
    "duration": -596,
    "start_time": "2021-09-22T08:50:14.500Z"
   },
   {
    "duration": -599,
    "start_time": "2021-09-22T08:50:14.504Z"
   },
   {
    "duration": -602,
    "start_time": "2021-09-22T08:50:14.508Z"
   },
   {
    "duration": -604,
    "start_time": "2021-09-22T08:50:14.511Z"
   },
   {
    "duration": -608,
    "start_time": "2021-09-22T08:50:14.516Z"
   },
   {
    "duration": 10,
    "start_time": "2021-09-22T08:50:42.023Z"
   },
   {
    "duration": 16,
    "start_time": "2021-09-22T08:50:45.073Z"
   },
   {
    "duration": 11,
    "start_time": "2021-09-22T08:51:02.388Z"
   },
   {
    "duration": 32,
    "start_time": "2021-09-22T08:53:00.277Z"
   },
   {
    "duration": 4,
    "start_time": "2021-09-22T08:54:26.444Z"
   },
   {
    "duration": 36,
    "start_time": "2021-09-22T08:59:27.793Z"
   },
   {
    "duration": 15,
    "start_time": "2021-09-22T08:59:34.071Z"
   },
   {
    "duration": 16,
    "start_time": "2021-09-22T08:59:45.042Z"
   },
   {
    "duration": 14,
    "start_time": "2021-09-22T08:59:53.245Z"
   },
   {
    "duration": 14,
    "start_time": "2021-09-22T09:00:01.397Z"
   },
   {
    "duration": 15,
    "start_time": "2021-09-22T09:08:59.327Z"
   },
   {
    "duration": 10,
    "start_time": "2021-09-22T09:09:14.513Z"
   },
   {
    "duration": 17,
    "start_time": "2021-09-22T09:09:21.739Z"
   },
   {
    "duration": 10,
    "start_time": "2021-09-22T09:09:22.768Z"
   },
   {
    "duration": 17,
    "start_time": "2021-09-22T09:09:25.764Z"
   },
   {
    "duration": 9,
    "start_time": "2021-09-22T09:09:26.991Z"
   },
   {
    "duration": 9,
    "start_time": "2021-09-22T09:10:37.515Z"
   },
   {
    "duration": 2763,
    "start_time": "2021-09-22T10:25:16.517Z"
   },
   {
    "duration": 8,
    "start_time": "2021-09-22T10:26:05.340Z"
   },
   {
    "duration": 272,
    "start_time": "2021-09-22T10:26:05.804Z"
   },
   {
    "duration": 3,
    "start_time": "2021-09-22T10:26:16.611Z"
   },
   {
    "duration": 5,
    "start_time": "2021-09-22T10:26:29.690Z"
   },
   {
    "duration": 4,
    "start_time": "2021-09-22T10:26:30.424Z"
   },
   {
    "duration": 7,
    "start_time": "2021-09-22T10:26:34.796Z"
   },
   {
    "duration": 4,
    "start_time": "2021-09-22T10:26:47.920Z"
   },
   {
    "duration": 4,
    "start_time": "2021-09-22T10:58:57.839Z"
   },
   {
    "duration": 4,
    "start_time": "2021-09-22T10:59:24.331Z"
   },
   {
    "duration": 4,
    "start_time": "2021-09-22T10:59:30.185Z"
   },
   {
    "duration": 4,
    "start_time": "2021-09-22T10:59:42.325Z"
   },
   {
    "duration": 4,
    "start_time": "2021-09-22T11:00:07.318Z"
   },
   {
    "duration": 49,
    "start_time": "2021-09-22T11:00:15.949Z"
   },
   {
    "duration": 11,
    "start_time": "2021-09-22T11:00:16.894Z"
   },
   {
    "duration": 14,
    "start_time": "2021-09-22T11:00:17.102Z"
   },
   {
    "duration": 30,
    "start_time": "2021-09-22T11:00:17.288Z"
   },
   {
    "duration": 94,
    "start_time": "2021-09-22T11:00:17.465Z"
   },
   {
    "duration": 21,
    "start_time": "2021-09-22T11:00:17.990Z"
   },
   {
    "duration": 7,
    "start_time": "2021-09-22T11:00:19.316Z"
   },
   {
    "duration": 10,
    "start_time": "2021-09-22T11:00:19.609Z"
   },
   {
    "duration": 47,
    "start_time": "2021-09-22T11:00:20.588Z"
   },
   {
    "duration": 26,
    "start_time": "2021-09-22T11:00:20.759Z"
   },
   {
    "duration": 6,
    "start_time": "2021-09-22T11:00:20.922Z"
   },
   {
    "duration": 6,
    "start_time": "2021-09-22T11:00:21.597Z"
   },
   {
    "duration": 12,
    "start_time": "2021-09-22T11:00:22.191Z"
   },
   {
    "duration": 7,
    "start_time": "2021-09-22T11:00:22.793Z"
   },
   {
    "duration": 9,
    "start_time": "2021-09-22T11:00:23.111Z"
   },
   {
    "duration": 10,
    "start_time": "2021-09-22T11:00:23.466Z"
   },
   {
    "duration": 11,
    "start_time": "2021-09-22T11:00:23.631Z"
   },
   {
    "duration": 18,
    "start_time": "2021-09-22T11:00:24.436Z"
   },
   {
    "duration": 10,
    "start_time": "2021-09-22T11:00:24.614Z"
   },
   {
    "duration": 3,
    "start_time": "2021-09-22T11:00:24.786Z"
   },
   {
    "duration": 5,
    "start_time": "2021-09-22T11:00:25.243Z"
   },
   {
    "duration": 13513,
    "start_time": "2021-09-22T11:00:31.129Z"
   },
   {
    "duration": 4,
    "start_time": "2021-09-22T11:00:47.548Z"
   },
   {
    "duration": 4,
    "start_time": "2021-09-22T11:00:49.643Z"
   },
   {
    "duration": 5,
    "start_time": "2021-09-22T11:00:50.149Z"
   },
   {
    "duration": 17,
    "start_time": "2021-09-22T11:01:00.707Z"
   },
   {
    "duration": 4,
    "start_time": "2021-09-22T11:01:06.255Z"
   },
   {
    "duration": 5,
    "start_time": "2021-09-22T11:01:06.724Z"
   },
   {
    "duration": 10,
    "start_time": "2021-09-22T11:02:13.626Z"
   },
   {
    "duration": 5,
    "start_time": "2021-09-22T11:02:14.040Z"
   },
   {
    "duration": 15,
    "start_time": "2021-09-22T11:02:32.890Z"
   },
   {
    "duration": 15,
    "start_time": "2021-09-22T11:02:43.473Z"
   },
   {
    "duration": 16,
    "start_time": "2021-09-22T11:02:46.533Z"
   },
   {
    "duration": 4,
    "start_time": "2021-09-22T11:03:07.980Z"
   },
   {
    "duration": 7,
    "start_time": "2021-09-22T11:03:11.236Z"
   },
   {
    "duration": 11,
    "start_time": "2021-09-22T11:03:32.470Z"
   },
   {
    "duration": 13,
    "start_time": "2021-09-22T11:03:45.712Z"
   },
   {
    "duration": 5,
    "start_time": "2021-09-22T11:03:46.716Z"
   },
   {
    "duration": 4,
    "start_time": "2021-09-22T11:03:50.930Z"
   },
   {
    "duration": 9,
    "start_time": "2021-09-22T12:28:53.333Z"
   },
   {
    "duration": 10,
    "start_time": "2021-09-22T12:29:08.193Z"
   },
   {
    "duration": 5,
    "start_time": "2021-09-22T12:29:26.154Z"
   },
   {
    "duration": 5,
    "start_time": "2021-09-22T12:29:34.682Z"
   },
   {
    "duration": 8,
    "start_time": "2021-09-22T12:29:39.973Z"
   },
   {
    "duration": 4,
    "start_time": "2021-09-22T12:29:43.421Z"
   },
   {
    "duration": 12,
    "start_time": "2021-09-22T12:29:46.866Z"
   },
   {
    "duration": 5,
    "start_time": "2021-09-22T12:29:48.787Z"
   },
   {
    "duration": 5,
    "start_time": "2021-09-22T13:26:48.849Z"
   },
   {
    "duration": 2637,
    "start_time": "2021-09-22T13:26:54.757Z"
   },
   {
    "duration": 54,
    "start_time": "2021-09-22T13:26:57.396Z"
   },
   {
    "duration": 10,
    "start_time": "2021-09-22T13:26:57.452Z"
   },
   {
    "duration": 11,
    "start_time": "2021-09-22T13:26:57.465Z"
   },
   {
    "duration": 32,
    "start_time": "2021-09-22T13:26:57.478Z"
   },
   {
    "duration": 96,
    "start_time": "2021-09-22T13:26:57.512Z"
   },
   {
    "duration": 18,
    "start_time": "2021-09-22T13:26:57.650Z"
   },
   {
    "duration": 6,
    "start_time": "2021-09-22T13:26:57.670Z"
   },
   {
    "duration": 15,
    "start_time": "2021-09-22T13:26:57.677Z"
   },
   {
    "duration": 37,
    "start_time": "2021-09-22T13:26:59.067Z"
   },
   {
    "duration": 28,
    "start_time": "2021-09-22T13:26:59.328Z"
   },
   {
    "duration": 8,
    "start_time": "2021-09-22T13:26:59.526Z"
   },
   {
    "duration": 6,
    "start_time": "2021-09-22T13:27:00.116Z"
   },
   {
    "duration": 11,
    "start_time": "2021-09-22T13:27:00.396Z"
   },
   {
    "duration": 7,
    "start_time": "2021-09-22T13:27:00.961Z"
   },
   {
    "duration": 8,
    "start_time": "2021-09-22T13:27:01.196Z"
   },
   {
    "duration": 11,
    "start_time": "2021-09-22T13:27:01.426Z"
   },
   {
    "duration": 12,
    "start_time": "2021-09-22T13:27:01.568Z"
   },
   {
    "duration": 12,
    "start_time": "2021-09-22T13:27:04.152Z"
   },
   {
    "duration": 5,
    "start_time": "2021-09-22T13:27:05.077Z"
   },
   {
    "duration": 6,
    "start_time": "2021-09-22T13:27:09.203Z"
   },
   {
    "duration": 5,
    "start_time": "2021-09-22T13:27:16.474Z"
   },
   {
    "duration": 4,
    "start_time": "2021-09-22T13:27:20.338Z"
   },
   {
    "duration": 5,
    "start_time": "2021-09-22T13:27:26.876Z"
   },
   {
    "duration": 4,
    "start_time": "2021-09-22T13:29:11.804Z"
   },
   {
    "duration": 5,
    "start_time": "2021-09-22T13:29:18.837Z"
   },
   {
    "duration": 5,
    "start_time": "2021-09-22T13:29:24.855Z"
   },
   {
    "duration": 5,
    "start_time": "2021-09-22T13:29:33.949Z"
   },
   {
    "duration": 6,
    "start_time": "2021-09-22T13:29:40.187Z"
   },
   {
    "duration": 332,
    "start_time": "2021-10-02T11:24:55.675Z"
   },
   {
    "duration": 1136,
    "start_time": "2021-12-15T08:25:40.224Z"
   },
   {
    "duration": 92,
    "start_time": "2021-12-15T08:25:41.270Z"
   },
   {
    "duration": 4202,
    "start_time": "2021-12-15T08:25:45.362Z"
   },
   {
    "duration": 7,
    "start_time": "2021-12-15T08:25:49.567Z"
   },
   {
    "duration": 80,
    "start_time": "2021-12-15T08:25:49.576Z"
   },
   {
    "duration": 30,
    "start_time": "2021-12-15T08:25:52.479Z"
   },
   {
    "duration": 15,
    "start_time": "2021-12-15T08:25:52.966Z"
   },
   {
    "duration": 52,
    "start_time": "2021-12-15T08:25:53.519Z"
   },
   {
    "duration": 113,
    "start_time": "2021-12-15T08:25:56.567Z"
   },
   {
    "duration": 806,
    "start_time": "2021-12-15T08:29:59.570Z"
   },
   {
    "duration": 81,
    "start_time": "2021-12-15T08:33:44.161Z"
   },
   {
    "duration": 115,
    "start_time": "2021-12-15T08:37:03.647Z"
   },
   {
    "duration": 276,
    "start_time": "2021-12-15T08:40:13.710Z"
   },
   {
    "duration": 274,
    "start_time": "2021-12-15T08:40:17.297Z"
   },
   {
    "duration": 278,
    "start_time": "2021-12-15T08:41:57.473Z"
   },
   {
    "duration": 244,
    "start_time": "2021-12-15T08:42:04.449Z"
   },
   {
    "duration": 247,
    "start_time": "2021-12-15T08:42:14.967Z"
   },
   {
    "duration": 334,
    "start_time": "2021-12-15T08:42:39.576Z"
   },
   {
    "duration": 276,
    "start_time": "2021-12-15T08:45:08.887Z"
   },
   {
    "duration": 336,
    "start_time": "2021-12-15T08:46:42.284Z"
   },
   {
    "duration": 260,
    "start_time": "2021-12-15T08:46:46.729Z"
   },
   {
    "duration": 7901,
    "start_time": "2021-12-15T08:46:50.697Z"
   },
   {
    "duration": 265,
    "start_time": "2021-12-15T08:47:07.964Z"
   },
   {
    "duration": 73,
    "start_time": "2021-12-15T09:05:34.257Z"
   },
   {
    "duration": 3156,
    "start_time": "2021-12-15T09:05:37.411Z"
   },
   {
    "duration": 3,
    "start_time": "2021-12-15T09:05:40.570Z"
   },
   {
    "duration": 64,
    "start_time": "2021-12-15T09:05:40.576Z"
   },
   {
    "duration": 17,
    "start_time": "2021-12-15T09:05:40.643Z"
   },
   {
    "duration": 16,
    "start_time": "2021-12-15T09:05:40.663Z"
   },
   {
    "duration": 68,
    "start_time": "2021-12-15T09:05:40.682Z"
   },
   {
    "duration": 187,
    "start_time": "2021-12-15T09:05:40.753Z"
   },
   {
    "duration": 25,
    "start_time": "2021-12-15T09:05:40.944Z"
   },
   {
    "duration": 50,
    "start_time": "2021-12-15T09:05:40.972Z"
   },
   {
    "duration": 18,
    "start_time": "2021-12-15T09:05:41.025Z"
   },
   {
    "duration": 72,
    "start_time": "2021-12-15T09:05:41.046Z"
   },
   {
    "duration": 8,
    "start_time": "2021-12-15T09:05:41.122Z"
   },
   {
    "duration": 7,
    "start_time": "2021-12-15T09:05:41.133Z"
   },
   {
    "duration": 18,
    "start_time": "2021-12-15T09:05:41.142Z"
   },
   {
    "duration": 10,
    "start_time": "2021-12-15T09:05:41.162Z"
   },
   {
    "duration": 11,
    "start_time": "2021-12-15T09:05:41.217Z"
   },
   {
    "duration": 6,
    "start_time": "2021-12-15T09:05:43.361Z"
   },
   {
    "duration": 22,
    "start_time": "2021-12-15T09:28:18.806Z"
   },
   {
    "duration": 27,
    "start_time": "2021-12-15T09:28:29.014Z"
   },
   {
    "duration": 17,
    "start_time": "2021-12-15T09:28:40.521Z"
   },
   {
    "duration": 9,
    "start_time": "2021-12-15T09:38:14.054Z"
   },
   {
    "duration": 9,
    "start_time": "2021-12-15T09:38:57.455Z"
   },
   {
    "duration": 34,
    "start_time": "2021-12-15T09:41:03.824Z"
   },
   {
    "duration": 52,
    "start_time": "2021-12-15T09:41:40.996Z"
   },
   {
    "duration": 24,
    "start_time": "2021-12-15T09:41:59.079Z"
   },
   {
    "duration": 8,
    "start_time": "2021-12-15T09:43:06.547Z"
   },
   {
    "duration": 19,
    "start_time": "2021-12-15T10:54:18.061Z"
   },
   {
    "duration": 238,
    "start_time": "2021-12-15T10:55:19.948Z"
   },
   {
    "duration": 5,
    "start_time": "2021-12-15T10:55:22.726Z"
   },
   {
    "duration": 7,
    "start_time": "2021-12-15T10:55:34.848Z"
   },
   {
    "duration": 7,
    "start_time": "2021-12-15T10:55:45.074Z"
   },
   {
    "duration": 29,
    "start_time": "2021-12-15T10:56:04.432Z"
   },
   {
    "duration": 29,
    "start_time": "2021-12-15T10:56:51.572Z"
   },
   {
    "duration": 27,
    "start_time": "2021-12-15T11:00:21.212Z"
   },
   {
    "duration": 26,
    "start_time": "2021-12-15T11:00:33.977Z"
   },
   {
    "duration": 29,
    "start_time": "2021-12-15T11:00:39.817Z"
   },
   {
    "duration": 26,
    "start_time": "2021-12-15T11:00:42.277Z"
   },
   {
    "duration": 52,
    "start_time": "2021-12-15T11:01:36.788Z"
   },
   {
    "duration": 55,
    "start_time": "2021-12-15T11:02:00.969Z"
   },
   {
    "duration": 53,
    "start_time": "2021-12-15T11:14:35.589Z"
   },
   {
    "duration": 54,
    "start_time": "2021-12-15T11:14:52.302Z"
   },
   {
    "duration": 15,
    "start_time": "2021-12-15T11:15:37.465Z"
   },
   {
    "duration": 15,
    "start_time": "2021-12-15T11:16:25.350Z"
   },
   {
    "duration": 9,
    "start_time": "2021-12-15T11:17:17.620Z"
   },
   {
    "duration": 9,
    "start_time": "2021-12-15T11:17:26.323Z"
   },
   {
    "duration": 35,
    "start_time": "2021-12-15T11:17:33.673Z"
   },
   {
    "duration": 12,
    "start_time": "2021-12-15T11:30:13.598Z"
   },
   {
    "duration": 8,
    "start_time": "2021-12-15T11:30:23.699Z"
   },
   {
    "duration": 8,
    "start_time": "2021-12-15T11:41:43.828Z"
   },
   {
    "duration": 34,
    "start_time": "2021-12-15T11:45:08.678Z"
   },
   {
    "duration": 88,
    "start_time": "2021-12-15T11:45:21.998Z"
   },
   {
    "duration": 37,
    "start_time": "2021-12-15T11:45:27.622Z"
   },
   {
    "duration": 10,
    "start_time": "2021-12-15T11:48:18.150Z"
   },
   {
    "duration": 10,
    "start_time": "2021-12-15T11:48:29.418Z"
   },
   {
    "duration": 16,
    "start_time": "2021-12-15T11:56:09.111Z"
   },
   {
    "duration": 9,
    "start_time": "2021-12-15T11:56:14.281Z"
   },
   {
    "duration": 6,
    "start_time": "2021-12-15T11:56:24.898Z"
   },
   {
    "duration": 5,
    "start_time": "2021-12-15T11:56:35.246Z"
   },
   {
    "duration": 9,
    "start_time": "2021-12-15T11:56:40.819Z"
   },
   {
    "duration": 9,
    "start_time": "2021-12-15T11:56:41.560Z"
   },
   {
    "duration": 11,
    "start_time": "2021-12-15T11:57:08.249Z"
   },
   {
    "duration": 9,
    "start_time": "2021-12-15T12:14:32.183Z"
   },
   {
    "duration": 5,
    "start_time": "2021-12-15T12:25:27.687Z"
   },
   {
    "duration": 6,
    "start_time": "2021-12-15T12:25:30.908Z"
   },
   {
    "duration": 238,
    "start_time": "2021-12-15T12:48:44.593Z"
   },
   {
    "duration": 5650,
    "start_time": "2021-12-15T12:49:25.489Z"
   },
   {
    "duration": 161,
    "start_time": "2021-12-15T13:08:09.751Z"
   },
   {
    "duration": 465,
    "start_time": "2021-12-15T13:08:23.866Z"
   },
   {
    "duration": 246,
    "start_time": "2021-12-15T13:09:53.494Z"
   },
   {
    "duration": 3155,
    "start_time": "2021-12-15T13:10:01.899Z"
   },
   {
    "duration": 4,
    "start_time": "2021-12-15T13:10:05.058Z"
   },
   {
    "duration": 73,
    "start_time": "2021-12-15T13:10:05.065Z"
   },
   {
    "duration": 18,
    "start_time": "2021-12-15T13:10:05.141Z"
   },
   {
    "duration": 15,
    "start_time": "2021-12-15T13:10:05.161Z"
   },
   {
    "duration": 70,
    "start_time": "2021-12-15T13:10:05.179Z"
   },
   {
    "duration": 189,
    "start_time": "2021-12-15T13:10:05.251Z"
   },
   {
    "duration": 29,
    "start_time": "2021-12-15T13:10:05.446Z"
   },
   {
    "duration": 10,
    "start_time": "2021-12-15T13:10:05.519Z"
   },
   {
    "duration": 24,
    "start_time": "2021-12-15T13:10:05.532Z"
   },
   {
    "duration": 79,
    "start_time": "2021-12-15T13:10:05.558Z"
   },
   {
    "duration": 9,
    "start_time": "2021-12-15T13:10:05.640Z"
   },
   {
    "duration": 8,
    "start_time": "2021-12-15T13:10:05.652Z"
   },
   {
    "duration": 16,
    "start_time": "2021-12-15T13:10:05.662Z"
   },
   {
    "duration": 40,
    "start_time": "2021-12-15T13:10:05.680Z"
   },
   {
    "duration": 11,
    "start_time": "2021-12-15T13:10:05.723Z"
   },
   {
    "duration": 8,
    "start_time": "2021-12-15T13:10:05.737Z"
   },
   {
    "duration": 9,
    "start_time": "2021-12-15T13:10:05.747Z"
   },
   {
    "duration": 60,
    "start_time": "2021-12-15T13:10:05.758Z"
   },
   {
    "duration": 6,
    "start_time": "2021-12-15T13:10:05.820Z"
   },
   {
    "duration": 5,
    "start_time": "2021-12-15T13:10:19.324Z"
   },
   {
    "duration": 228,
    "start_time": "2021-12-15T13:10:24.705Z"
   },
   {
    "duration": 6,
    "start_time": "2021-12-15T13:11:06.509Z"
   },
   {
    "duration": 5,
    "start_time": "2021-12-15T13:11:14.872Z"
   },
   {
    "duration": 5,
    "start_time": "2021-12-15T13:12:04.422Z"
   },
   {
    "duration": 6,
    "start_time": "2021-12-15T13:16:29.482Z"
   },
   {
    "duration": 4195,
    "start_time": "2021-12-15T13:19:49.346Z"
   },
   {
    "duration": 6,
    "start_time": "2021-12-15T13:19:53.545Z"
   },
   {
    "duration": 106,
    "start_time": "2021-12-15T13:19:53.555Z"
   },
   {
    "duration": 30,
    "start_time": "2021-12-15T13:19:53.665Z"
   },
   {
    "duration": 39,
    "start_time": "2021-12-15T13:19:53.698Z"
   },
   {
    "duration": 94,
    "start_time": "2021-12-15T13:19:53.740Z"
   },
   {
    "duration": 237,
    "start_time": "2021-12-15T13:19:53.838Z"
   },
   {
    "duration": 66,
    "start_time": "2021-12-15T13:19:54.078Z"
   },
   {
    "duration": 24,
    "start_time": "2021-12-15T13:19:54.149Z"
   },
   {
    "duration": 48,
    "start_time": "2021-12-15T13:19:54.177Z"
   },
   {
    "duration": 47,
    "start_time": "2021-12-15T13:19:54.228Z"
   },
   {
    "duration": 9,
    "start_time": "2021-12-15T13:19:54.278Z"
   },
   {
    "duration": 8,
    "start_time": "2021-12-15T13:19:54.318Z"
   },
   {
    "duration": 18,
    "start_time": "2021-12-15T13:19:54.329Z"
   },
   {
    "duration": 10,
    "start_time": "2021-12-15T13:19:54.349Z"
   },
   {
    "duration": 12,
    "start_time": "2021-12-15T13:19:54.362Z"
   },
   {
    "duration": 46,
    "start_time": "2021-12-15T13:19:54.377Z"
   },
   {
    "duration": 9,
    "start_time": "2021-12-15T13:19:54.426Z"
   },
   {
    "duration": 14,
    "start_time": "2021-12-15T13:19:54.438Z"
   },
   {
    "duration": 6,
    "start_time": "2021-12-15T13:19:56.766Z"
   },
   {
    "duration": 6,
    "start_time": "2021-12-15T13:20:01.387Z"
   },
   {
    "duration": 6,
    "start_time": "2021-12-15T13:24:44.936Z"
   },
   {
    "duration": 5,
    "start_time": "2021-12-15T13:35:55.449Z"
   },
   {
    "duration": 6,
    "start_time": "2021-12-15T13:36:33.847Z"
   },
   {
    "duration": 3595,
    "start_time": "2021-12-15T14:10:09.308Z"
   },
   {
    "duration": 4,
    "start_time": "2021-12-15T14:10:12.906Z"
   },
   {
    "duration": 68,
    "start_time": "2021-12-15T14:10:12.913Z"
   },
   {
    "duration": 18,
    "start_time": "2021-12-15T14:10:12.985Z"
   },
   {
    "duration": 21,
    "start_time": "2021-12-15T14:10:13.005Z"
   },
   {
    "duration": 49,
    "start_time": "2021-12-15T14:10:13.028Z"
   },
   {
    "duration": 176,
    "start_time": "2021-12-15T14:10:13.079Z"
   },
   {
    "duration": 60,
    "start_time": "2021-12-15T14:10:13.258Z"
   },
   {
    "duration": 8,
    "start_time": "2021-12-15T14:10:13.321Z"
   },
   {
    "duration": 31,
    "start_time": "2021-12-15T14:10:13.331Z"
   },
   {
    "duration": 67,
    "start_time": "2021-12-15T14:10:13.364Z"
   },
   {
    "duration": 8,
    "start_time": "2021-12-15T14:10:13.433Z"
   },
   {
    "duration": 9,
    "start_time": "2021-12-15T14:10:13.444Z"
   },
   {
    "duration": 21,
    "start_time": "2021-12-15T14:10:13.456Z"
   },
   {
    "duration": 38,
    "start_time": "2021-12-15T14:10:13.479Z"
   },
   {
    "duration": 11,
    "start_time": "2021-12-15T14:10:13.519Z"
   },
   {
    "duration": 9,
    "start_time": "2021-12-15T14:10:13.533Z"
   },
   {
    "duration": 8,
    "start_time": "2021-12-15T14:10:13.545Z"
   },
   {
    "duration": 16,
    "start_time": "2021-12-15T14:10:13.555Z"
   },
   {
    "duration": 47,
    "start_time": "2021-12-15T14:10:13.573Z"
   },
   {
    "duration": 7,
    "start_time": "2021-12-15T14:10:13.623Z"
   },
   {
    "duration": 24578,
    "start_time": "2021-12-15T14:10:13.632Z"
   },
   {
    "duration": 16,
    "start_time": "2021-12-15T14:10:52.916Z"
   },
   {
    "duration": 12,
    "start_time": "2021-12-15T14:11:00.351Z"
   },
   {
    "duration": 11,
    "start_time": "2021-12-15T14:21:31.914Z"
   },
   {
    "duration": 47,
    "start_time": "2021-12-15T14:21:32.822Z"
   },
   {
    "duration": 8,
    "start_time": "2021-12-15T14:21:35.363Z"
   },
   {
    "duration": 3100,
    "start_time": "2021-12-15T14:41:45.363Z"
   },
   {
    "duration": 4,
    "start_time": "2021-12-15T14:41:48.467Z"
   },
   {
    "duration": 84,
    "start_time": "2021-12-15T14:41:48.474Z"
   },
   {
    "duration": 18,
    "start_time": "2021-12-15T14:41:48.562Z"
   },
   {
    "duration": 38,
    "start_time": "2021-12-15T14:41:48.583Z"
   },
   {
    "duration": 57,
    "start_time": "2021-12-15T14:41:48.624Z"
   },
   {
    "duration": 189,
    "start_time": "2021-12-15T14:41:48.683Z"
   },
   {
    "duration": 62,
    "start_time": "2021-12-15T14:41:48.876Z"
   },
   {
    "duration": 10,
    "start_time": "2021-12-15T14:41:48.942Z"
   },
   {
    "duration": 17,
    "start_time": "2021-12-15T14:41:48.954Z"
   },
   {
    "duration": 93,
    "start_time": "2021-12-15T14:41:48.974Z"
   },
   {
    "duration": 9,
    "start_time": "2021-12-15T14:41:49.069Z"
   },
   {
    "duration": 8,
    "start_time": "2021-12-15T14:41:49.081Z"
   },
   {
    "duration": 18,
    "start_time": "2021-12-15T14:41:49.117Z"
   },
   {
    "duration": 10,
    "start_time": "2021-12-15T14:41:49.138Z"
   },
   {
    "duration": 10,
    "start_time": "2021-12-15T14:41:49.150Z"
   },
   {
    "duration": 7,
    "start_time": "2021-12-15T14:41:49.163Z"
   },
   {
    "duration": 47,
    "start_time": "2021-12-15T14:41:49.172Z"
   },
   {
    "duration": 29,
    "start_time": "2021-12-15T14:41:49.222Z"
   },
   {
    "duration": 5,
    "start_time": "2021-12-15T14:41:49.253Z"
   },
   {
    "duration": 8,
    "start_time": "2021-12-15T14:41:49.260Z"
   },
   {
    "duration": 22949,
    "start_time": "2021-12-15T14:41:53.745Z"
   },
   {
    "duration": 23,
    "start_time": "2021-12-15T14:42:16.697Z"
   },
   {
    "duration": 3165,
    "start_time": "2021-12-15T16:06:49.766Z"
   },
   {
    "duration": 4,
    "start_time": "2021-12-15T16:06:52.935Z"
   },
   {
    "duration": 69,
    "start_time": "2021-12-15T16:06:52.942Z"
   },
   {
    "duration": 18,
    "start_time": "2021-12-15T16:06:53.014Z"
   },
   {
    "duration": 16,
    "start_time": "2021-12-15T16:06:53.034Z"
   },
   {
    "duration": 68,
    "start_time": "2021-12-15T16:06:53.053Z"
   },
   {
    "duration": 151,
    "start_time": "2021-12-15T16:06:53.123Z"
   },
   {
    "duration": 66,
    "start_time": "2021-12-15T16:06:53.278Z"
   },
   {
    "duration": 11,
    "start_time": "2021-12-15T16:06:53.347Z"
   },
   {
    "duration": 64,
    "start_time": "2021-12-15T16:06:53.361Z"
   },
   {
    "duration": 45,
    "start_time": "2021-12-15T16:06:53.428Z"
   },
   {
    "duration": 9,
    "start_time": "2021-12-15T16:06:53.475Z"
   },
   {
    "duration": 35,
    "start_time": "2021-12-15T16:06:53.486Z"
   },
   {
    "duration": 17,
    "start_time": "2021-12-15T16:06:53.524Z"
   },
   {
    "duration": 13,
    "start_time": "2021-12-15T16:06:53.543Z"
   },
   {
    "duration": 12,
    "start_time": "2021-12-15T16:06:53.558Z"
   },
   {
    "duration": 8,
    "start_time": "2021-12-15T16:06:53.572Z"
   },
   {
    "duration": 41,
    "start_time": "2021-12-15T16:06:53.583Z"
   },
   {
    "duration": 16,
    "start_time": "2021-12-15T16:06:53.626Z"
   },
   {
    "duration": 6,
    "start_time": "2021-12-15T16:06:53.644Z"
   },
   {
    "duration": 7,
    "start_time": "2021-12-15T16:06:53.653Z"
   },
   {
    "duration": 22649,
    "start_time": "2021-12-15T16:06:53.663Z"
   },
   {
    "duration": 11,
    "start_time": "2021-12-15T16:07:16.319Z"
   },
   {
    "duration": 59,
    "start_time": "2021-12-15T16:07:16.332Z"
   },
   {
    "duration": 6,
    "start_time": "2021-12-15T16:07:16.394Z"
   },
   {
    "duration": 24,
    "start_time": "2021-12-15T16:07:16.402Z"
   },
   {
    "duration": 21,
    "start_time": "2021-12-15T16:07:16.429Z"
   },
   {
    "duration": 18,
    "start_time": "2021-12-15T16:07:16.452Z"
   },
   {
    "duration": 45,
    "start_time": "2021-12-15T16:07:16.473Z"
   },
   {
    "duration": 6,
    "start_time": "2021-12-15T16:07:16.521Z"
   },
   {
    "duration": 1209,
    "start_time": "2021-12-15T16:07:16.530Z"
   },
   {
    "duration": 8,
    "start_time": "2021-12-15T16:07:17.742Z"
   },
   {
    "duration": 3445,
    "start_time": "2021-12-15T16:07:17.753Z"
   },
   {
    "duration": 31,
    "start_time": "2021-12-15T16:07:21.201Z"
   },
   {
    "duration": 44,
    "start_time": "2021-12-15T16:07:21.234Z"
   },
   {
    "duration": 63,
    "start_time": "2021-12-15T16:07:21.280Z"
   },
   {
    "duration": 36,
    "start_time": "2021-12-15T16:07:21.346Z"
   },
   {
    "duration": 58,
    "start_time": "2021-12-15T16:07:21.385Z"
   },
   {
    "duration": 42,
    "start_time": "2021-12-15T16:07:21.445Z"
   },
   {
    "duration": 63,
    "start_time": "2021-12-15T16:07:21.489Z"
   },
   {
    "duration": 22,
    "start_time": "2021-12-15T16:07:21.554Z"
   },
   {
    "duration": 62,
    "start_time": "2021-12-15T16:07:21.578Z"
   },
   {
    "duration": 97,
    "start_time": "2021-12-15T16:08:46.931Z"
   },
   {
    "duration": 35,
    "start_time": "2021-12-15T16:09:31.101Z"
   },
   {
    "duration": 19,
    "start_time": "2021-12-15T16:21:43.699Z"
   },
   {
    "duration": 3123,
    "start_time": "2021-12-15T16:21:53.528Z"
   },
   {
    "duration": 4,
    "start_time": "2021-12-15T16:21:56.654Z"
   },
   {
    "duration": 88,
    "start_time": "2021-12-15T16:21:56.661Z"
   },
   {
    "duration": 18,
    "start_time": "2021-12-15T16:21:56.752Z"
   },
   {
    "duration": 32,
    "start_time": "2021-12-15T16:21:56.773Z"
   },
   {
    "duration": 65,
    "start_time": "2021-12-15T16:21:56.809Z"
   },
   {
    "duration": 165,
    "start_time": "2021-12-15T16:21:56.877Z"
   },
   {
    "duration": 26,
    "start_time": "2021-12-15T16:21:57.045Z"
   },
   {
    "duration": 48,
    "start_time": "2021-12-15T16:21:57.075Z"
   },
   {
    "duration": 41,
    "start_time": "2021-12-15T16:21:57.125Z"
   },
   {
    "duration": 49,
    "start_time": "2021-12-15T16:21:57.169Z"
   },
   {
    "duration": 9,
    "start_time": "2021-12-15T16:21:57.220Z"
   },
   {
    "duration": 39,
    "start_time": "2021-12-15T16:21:57.231Z"
   },
   {
    "duration": 43,
    "start_time": "2021-12-15T16:21:57.272Z"
   },
   {
    "duration": 29,
    "start_time": "2021-12-15T16:21:57.318Z"
   },
   {
    "duration": 43,
    "start_time": "2021-12-15T16:21:57.349Z"
   },
   {
    "duration": 22,
    "start_time": "2021-12-15T16:21:57.395Z"
   },
   {
    "duration": 35,
    "start_time": "2021-12-15T16:21:57.419Z"
   },
   {
    "duration": 33,
    "start_time": "2021-12-15T16:21:57.456Z"
   },
   {
    "duration": 26,
    "start_time": "2021-12-15T16:21:57.491Z"
   },
   {
    "duration": 16,
    "start_time": "2021-12-15T16:22:03.492Z"
   },
   {
    "duration": 23089,
    "start_time": "2021-12-15T16:26:20.628Z"
   },
   {
    "duration": 16,
    "start_time": "2021-12-15T16:26:47.194Z"
   },
   {
    "duration": 20,
    "start_time": "2021-12-15T16:27:56.402Z"
   },
   {
    "duration": 23389,
    "start_time": "2021-12-15T16:28:45.695Z"
   },
   {
    "duration": 15,
    "start_time": "2021-12-15T16:29:09.087Z"
   },
   {
    "duration": 29155,
    "start_time": "2021-12-15T16:29:57.738Z"
   },
   {
    "duration": 16,
    "start_time": "2021-12-15T16:39:00.118Z"
   },
   {
    "duration": 6,
    "start_time": "2021-12-15T17:55:58.550Z"
   },
   {
    "duration": 8,
    "start_time": "2021-12-15T17:56:00.556Z"
   },
   {
    "duration": 310,
    "start_time": "2021-12-15T17:56:03.301Z"
   },
   {
    "duration": 957,
    "start_time": "2021-12-15T17:57:43.429Z"
   },
   {
    "duration": 7,
    "start_time": "2021-12-15T17:58:02.915Z"
   },
   {
    "duration": 41,
    "start_time": "2021-12-15T18:04:42.774Z"
   },
   {
    "duration": 36,
    "start_time": "2021-12-15T18:06:50.283Z"
   },
   {
    "duration": 42,
    "start_time": "2021-12-15T18:16:33.501Z"
   },
   {
    "duration": 51,
    "start_time": "2021-12-15T18:21:24.312Z"
   },
   {
    "duration": 51,
    "start_time": "2021-12-15T18:21:40.961Z"
   },
   {
    "duration": 103,
    "start_time": "2021-12-15T18:22:11.866Z"
   },
   {
    "duration": 52,
    "start_time": "2021-12-15T18:22:17.093Z"
   },
   {
    "duration": 3034,
    "start_time": "2021-12-15T18:24:34.146Z"
   },
   {
    "duration": 5,
    "start_time": "2021-12-15T18:24:37.184Z"
   },
   {
    "duration": 70,
    "start_time": "2021-12-15T18:24:37.193Z"
   },
   {
    "duration": 20,
    "start_time": "2021-12-15T18:24:37.266Z"
   },
   {
    "duration": 37,
    "start_time": "2021-12-15T18:24:37.290Z"
   },
   {
    "duration": 48,
    "start_time": "2021-12-15T18:24:37.330Z"
   },
   {
    "duration": 174,
    "start_time": "2021-12-15T18:24:37.381Z"
   },
   {
    "duration": 64,
    "start_time": "2021-12-15T18:24:37.558Z"
   },
   {
    "duration": 9,
    "start_time": "2021-12-15T18:24:37.627Z"
   },
   {
    "duration": 16,
    "start_time": "2021-12-15T18:24:37.639Z"
   },
   {
    "duration": 80,
    "start_time": "2021-12-15T18:24:37.657Z"
   },
   {
    "duration": 8,
    "start_time": "2021-12-15T18:24:37.740Z"
   },
   {
    "duration": 8,
    "start_time": "2021-12-15T18:24:37.750Z"
   },
   {
    "duration": 16,
    "start_time": "2021-12-15T18:24:37.760Z"
   },
   {
    "duration": 8,
    "start_time": "2021-12-15T18:24:37.779Z"
   },
   {
    "duration": 11,
    "start_time": "2021-12-15T18:24:37.818Z"
   },
   {
    "duration": 10,
    "start_time": "2021-12-15T18:24:37.831Z"
   },
   {
    "duration": 8,
    "start_time": "2021-12-15T18:24:37.844Z"
   },
   {
    "duration": 16,
    "start_time": "2021-12-15T18:24:37.854Z"
   },
   {
    "duration": 47,
    "start_time": "2021-12-15T18:24:37.872Z"
   },
   {
    "duration": 5,
    "start_time": "2021-12-15T18:24:37.921Z"
   },
   {
    "duration": 7,
    "start_time": "2021-12-15T18:24:37.929Z"
   },
   {
    "duration": 8,
    "start_time": "2021-12-15T18:24:37.938Z"
   },
   {
    "duration": 9,
    "start_time": "2021-12-15T18:24:37.948Z"
   },
   {
    "duration": 6,
    "start_time": "2021-12-15T18:24:37.960Z"
   },
   {
    "duration": 1010,
    "start_time": "2021-12-15T18:24:37.968Z"
   },
   {
    "duration": 10,
    "start_time": "2021-12-15T18:24:38.983Z"
   },
   {
    "duration": 9460,
    "start_time": "2021-12-15T18:24:38.997Z"
   },
   {
    "duration": 18,
    "start_time": "2021-12-15T18:24:48.460Z"
   },
   {
    "duration": 72,
    "start_time": "2021-12-15T18:24:48.481Z"
   },
   {
    "duration": 62,
    "start_time": "2021-12-15T18:24:48.556Z"
   },
   {
    "duration": 36,
    "start_time": "2021-12-15T18:24:48.621Z"
   },
   {
    "duration": 75,
    "start_time": "2021-12-15T18:24:48.660Z"
   },
   {
    "duration": 44,
    "start_time": "2021-12-15T18:24:48.738Z"
   },
   {
    "duration": 63,
    "start_time": "2021-12-15T18:24:48.784Z"
   },
   {
    "duration": 23,
    "start_time": "2021-12-15T18:24:48.849Z"
   },
   {
    "duration": 58,
    "start_time": "2021-12-15T18:24:48.875Z"
   },
   {
    "duration": 82,
    "start_time": "2021-12-16T14:52:56.712Z"
   },
   {
    "duration": 287,
    "start_time": "2021-12-16T14:53:06.729Z"
   },
   {
    "duration": 3312,
    "start_time": "2021-12-16T14:53:22.713Z"
   },
   {
    "duration": 599,
    "start_time": "2021-12-16T14:53:26.027Z"
   },
   {
    "duration": 51,
    "start_time": "2021-12-16T14:53:26.628Z"
   },
   {
    "duration": 17,
    "start_time": "2021-12-16T14:53:26.680Z"
   },
   {
    "duration": 13,
    "start_time": "2021-12-16T14:53:26.698Z"
   },
   {
    "duration": 30,
    "start_time": "2021-12-16T14:53:26.712Z"
   },
   {
    "duration": 78,
    "start_time": "2021-12-16T14:53:26.744Z"
   },
   {
    "duration": 19,
    "start_time": "2021-12-16T14:53:26.824Z"
   },
   {
    "duration": 23,
    "start_time": "2021-12-16T14:53:26.845Z"
   },
   {
    "duration": 16,
    "start_time": "2021-12-16T14:53:26.870Z"
   },
   {
    "duration": 28,
    "start_time": "2021-12-16T14:53:26.888Z"
   },
   {
    "duration": 7,
    "start_time": "2021-12-16T14:53:26.918Z"
   },
   {
    "duration": 12,
    "start_time": "2021-12-16T14:53:26.927Z"
   },
   {
    "duration": 13,
    "start_time": "2021-12-16T14:53:26.941Z"
   },
   {
    "duration": 10,
    "start_time": "2021-12-16T14:53:26.956Z"
   },
   {
    "duration": 12,
    "start_time": "2021-12-16T14:53:26.967Z"
   },
   {
    "duration": 10,
    "start_time": "2021-12-16T14:53:26.981Z"
   },
   {
    "duration": 21,
    "start_time": "2021-12-16T14:53:26.992Z"
   },
   {
    "duration": 19,
    "start_time": "2021-12-16T14:53:27.015Z"
   },
   {
    "duration": 9,
    "start_time": "2021-12-16T14:53:27.036Z"
   },
   {
    "duration": 15,
    "start_time": "2021-12-16T14:53:27.047Z"
   },
   {
    "duration": 18,
    "start_time": "2021-12-16T14:53:27.063Z"
   },
   {
    "duration": 9,
    "start_time": "2021-12-16T14:53:27.083Z"
   },
   {
    "duration": 13,
    "start_time": "2021-12-16T14:53:27.094Z"
   },
   {
    "duration": 15,
    "start_time": "2021-12-16T14:53:27.109Z"
   },
   {
    "duration": 1470,
    "start_time": "2021-12-16T14:53:27.125Z"
   },
   {
    "duration": 8,
    "start_time": "2021-12-16T14:53:28.597Z"
   },
   {
    "duration": 6050,
    "start_time": "2021-12-16T14:53:34.946Z"
   },
   {
    "duration": 7,
    "start_time": "2021-12-16T14:53:40.997Z"
   },
   {
    "duration": 389,
    "start_time": "2021-12-17T08:11:07.858Z"
   },
   {
    "duration": 4515,
    "start_time": "2021-12-17T08:11:12.441Z"
   },
   {
    "duration": 787,
    "start_time": "2021-12-17T08:11:16.959Z"
   },
   {
    "duration": 63,
    "start_time": "2021-12-17T08:11:17.749Z"
   },
   {
    "duration": 33,
    "start_time": "2021-12-17T08:11:17.818Z"
   },
   {
    "duration": 15,
    "start_time": "2021-12-17T08:11:17.853Z"
   },
   {
    "duration": 84,
    "start_time": "2021-12-17T08:11:17.870Z"
   },
   {
    "duration": 190,
    "start_time": "2021-12-17T08:11:17.956Z"
   },
   {
    "duration": 31,
    "start_time": "2021-12-17T08:11:18.149Z"
   },
   {
    "duration": 10,
    "start_time": "2021-12-17T08:11:18.220Z"
   },
   {
    "duration": 20,
    "start_time": "2021-12-17T08:11:18.236Z"
   },
   {
    "duration": 92,
    "start_time": "2021-12-17T08:11:18.258Z"
   },
   {
    "duration": 9,
    "start_time": "2021-12-17T08:11:18.352Z"
   },
   {
    "duration": 10,
    "start_time": "2021-12-17T08:11:18.364Z"
   },
   {
    "duration": 56,
    "start_time": "2021-12-17T08:11:18.376Z"
   },
   {
    "duration": 9,
    "start_time": "2021-12-17T08:11:18.436Z"
   },
   {
    "duration": 16,
    "start_time": "2021-12-17T08:11:18.447Z"
   },
   {
    "duration": 8,
    "start_time": "2021-12-17T08:11:18.466Z"
   },
   {
    "duration": 40,
    "start_time": "2021-12-17T08:11:18.477Z"
   },
   {
    "duration": 20,
    "start_time": "2021-12-17T08:11:18.519Z"
   },
   {
    "duration": 8,
    "start_time": "2021-12-17T08:11:18.542Z"
   },
   {
    "duration": 4,
    "start_time": "2021-12-17T08:11:18.553Z"
   },
   {
    "duration": 8,
    "start_time": "2021-12-17T08:11:18.560Z"
   },
   {
    "duration": 54,
    "start_time": "2021-12-17T08:11:18.570Z"
   },
   {
    "duration": 13,
    "start_time": "2021-12-17T08:11:18.627Z"
   },
   {
    "duration": 8,
    "start_time": "2021-12-17T08:11:18.643Z"
   },
   {
    "duration": 1945,
    "start_time": "2021-12-17T08:11:18.654Z"
   },
   {
    "duration": 17,
    "start_time": "2021-12-17T08:11:20.604Z"
   },
   {
    "duration": 10848,
    "start_time": "2021-12-17T08:11:20.627Z"
   },
   {
    "duration": 13,
    "start_time": "2021-12-17T08:11:31.477Z"
   },
   {
    "duration": 110,
    "start_time": "2021-12-17T08:11:31.492Z"
   },
   {
    "duration": 87,
    "start_time": "2021-12-17T08:12:15.266Z"
   },
   {
    "duration": 84,
    "start_time": "2021-12-17T08:12:58.283Z"
   },
   {
    "duration": 52,
    "start_time": "2021-12-17T08:13:19.999Z"
   },
   {
    "duration": 43,
    "start_time": "2021-12-17T08:13:34.464Z"
   },
   {
    "duration": 105,
    "start_time": "2021-12-17T08:15:02.166Z"
   },
   {
    "duration": 96,
    "start_time": "2021-12-17T08:15:12.096Z"
   },
   {
    "duration": 139,
    "start_time": "2021-12-17T08:16:22.710Z"
   },
   {
    "duration": 53,
    "start_time": "2021-12-17T08:16:28.003Z"
   },
   {
    "duration": 118,
    "start_time": "2021-12-17T08:17:23.373Z"
   },
   {
    "duration": 5824,
    "start_time": "2021-12-17T08:17:25.542Z"
   },
   {
    "duration": 5513,
    "start_time": "2021-12-17T08:17:39.295Z"
   },
   {
    "duration": 15,
    "start_time": "2021-12-17T08:18:05.184Z"
   },
   {
    "duration": 18,
    "start_time": "2021-12-17T08:18:28.743Z"
   },
   {
    "duration": 35,
    "start_time": "2021-12-17T08:20:35.995Z"
   },
   {
    "duration": 34,
    "start_time": "2021-12-17T08:23:27.210Z"
   },
   {
    "duration": 28,
    "start_time": "2021-12-17T08:23:32.388Z"
   },
   {
    "duration": 132,
    "start_time": "2021-12-17T08:27:45.339Z"
   },
   {
    "duration": 31,
    "start_time": "2021-12-17T08:27:52.397Z"
   },
   {
    "duration": 37,
    "start_time": "2021-12-17T08:28:00.093Z"
   },
   {
    "duration": 32,
    "start_time": "2021-12-17T08:28:13.781Z"
   },
   {
    "duration": 288,
    "start_time": "2021-12-17T08:28:56.690Z"
   },
   {
    "duration": 35,
    "start_time": "2021-12-17T08:29:03.506Z"
   },
   {
    "duration": 24,
    "start_time": "2021-12-17T08:33:12.060Z"
   },
   {
    "duration": 30,
    "start_time": "2021-12-17T08:33:16.061Z"
   },
   {
    "duration": 5435,
    "start_time": "2021-12-17T08:35:25.533Z"
   },
   {
    "duration": 30,
    "start_time": "2021-12-17T08:35:37.654Z"
   },
   {
    "duration": 110,
    "start_time": "2021-12-17T08:38:08.751Z"
   },
   {
    "duration": 79,
    "start_time": "2021-12-17T08:38:15.599Z"
   },
   {
    "duration": 63,
    "start_time": "2021-12-17T08:38:23.592Z"
   },
   {
    "duration": 31,
    "start_time": "2021-12-17T08:38:29.479Z"
   },
   {
    "duration": 30,
    "start_time": "2021-12-17T08:38:37.387Z"
   },
   {
    "duration": 1111,
    "start_time": "2021-12-17T08:39:24.978Z"
   },
   {
    "duration": 677,
    "start_time": "2021-12-17T08:39:32.685Z"
   },
   {
    "duration": 4129,
    "start_time": "2021-12-17T08:40:03.577Z"
   },
   {
    "duration": 217,
    "start_time": "2021-12-17T08:40:15.470Z"
   },
   {
    "duration": 33,
    "start_time": "2021-12-17T08:40:24.628Z"
   },
   {
    "duration": 35,
    "start_time": "2021-12-17T08:41:26.500Z"
   },
   {
    "duration": 30,
    "start_time": "2021-12-17T08:41:30.978Z"
   },
   {
    "duration": 38,
    "start_time": "2021-12-17T08:42:26.935Z"
   },
   {
    "duration": 1307,
    "start_time": "2021-12-17T08:42:37.380Z"
   },
   {
    "duration": 2444,
    "start_time": "2021-12-17T08:42:43.481Z"
   },
   {
    "duration": 31,
    "start_time": "2021-12-17T08:42:48.135Z"
   },
   {
    "duration": 26,
    "start_time": "2021-12-17T08:43:28.872Z"
   },
   {
    "duration": 53,
    "start_time": "2021-12-17T08:43:39.118Z"
   },
   {
    "duration": 42,
    "start_time": "2021-12-17T08:43:50.796Z"
   },
   {
    "duration": 20,
    "start_time": "2021-12-17T08:45:18.663Z"
   },
   {
    "duration": 31,
    "start_time": "2021-12-17T08:45:28.910Z"
   },
   {
    "duration": 36,
    "start_time": "2021-12-17T08:46:20.624Z"
   },
   {
    "duration": 39,
    "start_time": "2021-12-17T08:47:12.087Z"
   },
   {
    "duration": 44,
    "start_time": "2021-12-17T08:47:18.905Z"
   },
   {
    "duration": 39,
    "start_time": "2021-12-17T08:47:45.603Z"
   },
   {
    "duration": 43,
    "start_time": "2021-12-17T08:48:07.844Z"
   },
   {
    "duration": 85,
    "start_time": "2021-12-17T08:49:49.411Z"
   },
   {
    "duration": 376,
    "start_time": "2021-12-17T08:51:24.459Z"
   },
   {
    "duration": 306,
    "start_time": "2021-12-17T15:00:36.774Z"
   },
   {
    "duration": 294,
    "start_time": "2021-12-17T15:00:51.613Z"
   },
   {
    "duration": 22,
    "start_time": "2021-12-17T15:02:41.445Z"
   },
   {
    "duration": 21,
    "start_time": "2021-12-17T15:02:52.495Z"
   },
   {
    "duration": 20,
    "start_time": "2021-12-17T15:02:56.489Z"
   },
   {
    "duration": 21,
    "start_time": "2021-12-17T15:02:56.646Z"
   },
   {
    "duration": 4355,
    "start_time": "2021-12-18T11:55:11.663Z"
   },
   {
    "duration": 738,
    "start_time": "2021-12-18T11:55:16.021Z"
   },
   {
    "duration": 82,
    "start_time": "2021-12-18T11:55:16.762Z"
   },
   {
    "duration": 32,
    "start_time": "2021-12-18T11:55:16.847Z"
   },
   {
    "duration": 18,
    "start_time": "2021-12-18T11:55:16.882Z"
   },
   {
    "duration": 57,
    "start_time": "2021-12-18T11:55:16.903Z"
   },
   {
    "duration": 43,
    "start_time": "2021-12-18T11:55:16.966Z"
   },
   {
    "duration": 170,
    "start_time": "2021-12-18T11:55:17.012Z"
   },
   {
    "duration": 76,
    "start_time": "2021-12-18T11:55:17.185Z"
   },
   {
    "duration": 10,
    "start_time": "2021-12-18T11:55:17.264Z"
   },
   {
    "duration": 16,
    "start_time": "2021-12-18T11:55:17.276Z"
   },
   {
    "duration": 76,
    "start_time": "2021-12-18T11:55:17.294Z"
   },
   {
    "duration": 7,
    "start_time": "2021-12-18T11:55:17.373Z"
   },
   {
    "duration": 6,
    "start_time": "2021-12-18T11:55:17.383Z"
   },
   {
    "duration": 14,
    "start_time": "2021-12-18T11:55:17.391Z"
   },
   {
    "duration": 8,
    "start_time": "2021-12-18T11:55:17.408Z"
   },
   {
    "duration": 15,
    "start_time": "2021-12-18T11:55:17.459Z"
   },
   {
    "duration": 8,
    "start_time": "2021-12-18T11:55:17.477Z"
   },
   {
    "duration": 17,
    "start_time": "2021-12-18T11:55:17.487Z"
   },
   {
    "duration": 15,
    "start_time": "2021-12-18T11:55:17.507Z"
   },
   {
    "duration": 34,
    "start_time": "2021-12-18T11:55:17.525Z"
   },
   {
    "duration": 8,
    "start_time": "2021-12-18T11:55:17.562Z"
   },
   {
    "duration": 9,
    "start_time": "2021-12-18T11:55:17.573Z"
   },
   {
    "duration": 8,
    "start_time": "2021-12-18T11:55:17.584Z"
   },
   {
    "duration": 9,
    "start_time": "2021-12-18T11:55:17.597Z"
   },
   {
    "duration": 56,
    "start_time": "2021-12-18T11:55:17.609Z"
   },
   {
    "duration": 1750,
    "start_time": "2021-12-18T11:55:17.669Z"
   },
   {
    "duration": 8,
    "start_time": "2021-12-18T11:55:19.422Z"
   },
   {
    "duration": 5563,
    "start_time": "2021-12-18T11:55:19.432Z"
   },
   {
    "duration": 12,
    "start_time": "2021-12-18T11:55:24.997Z"
   },
   {
    "duration": 101,
    "start_time": "2021-12-18T11:55:25.012Z"
   },
   {
    "duration": 85,
    "start_time": "2021-12-18T11:55:25.116Z"
   },
   {
    "duration": 25,
    "start_time": "2021-12-18T11:55:25.204Z"
   },
   {
    "duration": 56,
    "start_time": "2021-12-18T11:55:25.232Z"
   }
  ],
  "kernelspec": {
   "display_name": "Python 3",
   "language": "python",
   "name": "python3"
  },
  "language_info": {
   "codemirror_mode": {
    "name": "ipython",
    "version": 3
   },
   "file_extension": ".py",
   "mimetype": "text/x-python",
   "name": "python",
   "nbconvert_exporter": "python",
   "pygments_lexer": "ipython3",
   "version": "3.10.1"
  },
  "toc": {
   "base_numbering": 1,
   "nav_menu": {},
   "number_sections": false,
   "sideBar": true,
   "skip_h1_title": true,
   "title_cell": "Table of Contents",
   "title_sidebar": "Contents",
   "toc_cell": false,
   "toc_position": {},
   "toc_section_display": true,
   "toc_window_display": false
  }
 },
 "nbformat": 4,
 "nbformat_minor": 2
}
