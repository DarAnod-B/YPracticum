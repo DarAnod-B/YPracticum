{
 "cells": [
  {
   "cell_type": "markdown",
   "metadata": {},
   "source": [
    "# <span style=\"color: crimson\">Выбор локации для скважины</span>\n",
    "\n",
    "---  \n",
    "**<span style=\"color: crimson\">Заказчик</span>:** компания «ГлавРосГосНефть».  \n",
    "\n",
    "**<span style=\"color: crimson\">Задача</span>:** определить наиболее прибыльный район по добыче нефти. Построить модель машинного обучения, которая поможет определить регион, где добыча принесёт наибольшую прибыль.  \n",
    "\n",
    "**<span style=\"color: crimson\">Датасет</span>:** пробы нефти в трёх регионах. Пробы нефти в трёх регионах: в каждом 10 000 месторождений, где измерили качество нефти и объём её запасов.\n",
    "\n",
    "**<span style=\"color: crimson\">Условия задачи</span>:** \n",
    "* При разведке региона исследуют 500 точек, из которых с помощью машинного обучения выбирают 200 лучших для разработки.\n",
    "* Бюджет на разработку скважин в регионе — 10 млрд рублей.\n",
    "* При нынешних ценах один баррель сырья приносит 450 рублей дохода. Доход с каждой единицы продукта составляет 450 тыс. рублей, поскольку объём указан в тысячах баррелей.\n",
    "* После оценки рисков нужно оставить лишь те регионы, в которых вероятность убытков меньше 2.5%. Среди них выбирают регион с наибольшей средней прибылью.\n",
    "\n",
    "**<span style=\"color: crimson\">Шаги для выбора локации</span>:** \n",
    "\n",
    "* В избранном регионе ищут месторождения, для каждого определяют значения признаков;\n",
    "* Строят модель и оценивают объём запасов;\n",
    "* Выбирают месторождения с самым высокими оценками значений. Количество месторождений зависит от бюджета компании и стоимости разработки одной скважины;\n",
    "* Прибыль равна суммарной прибыли отобранных месторождений.\n",
    "\n",
    "\n",
    "---"
   ]
  },
  {
   "cell_type": "markdown",
   "metadata": {},
   "source": [
    "<h3>Описание данных:</h3>  \n",
    "<h4 style=\"color:crimson\"> Признаки </h4>\n",
    "\n",
    "* **<span style=\"color: red\">id</span>** — уникальный идентификатор скважины.\n",
    "* **<span style=\"color: red\">f0, f1, f2</span>** — три признака точек. (без описания)\n",
    "\n",
    "<h4 style=\"color:crimson\"> Целевой признак </h4>\n",
    "\n",
    "* **<span style=\"color: red\">product</span>** — объём запасов в скважине (тыс. баррелей)."
   ]
  },
  {
   "cell_type": "markdown",
   "metadata": {},
   "source": [
    "---"
   ]
  },
  {
   "cell_type": "markdown",
   "metadata": {},
   "source": [
    "<h2> Импорт библиотек: </h2>"
   ]
  },
  {
   "cell_type": "code",
   "execution_count": 38,
   "metadata": {},
   "outputs": [
    {
     "name": "stdout",
     "output_type": "stream",
     "text": [
      "Requirement already satisfied: optuna in c:\\users\\владелец\\appdata\\local\\programs\\python\\python310\\lib\\site-packages (2.10.0)\n",
      "Requirement already satisfied: sqlalchemy>=1.1.0 in c:\\users\\владелец\\appdata\\local\\programs\\python\\python310\\lib\\site-packages (from optuna) (1.4.32)\n",
      "Requirement already satisfied: alembic in c:\\users\\владелец\\appdata\\local\\programs\\python\\python310\\lib\\site-packages (from optuna) (1.7.7)\n",
      "Requirement already satisfied: cliff in c:\\users\\владелец\\appdata\\local\\programs\\python\\python310\\lib\\site-packages (from optuna) (3.10.1)\n",
      "Requirement already satisfied: PyYAML in c:\\users\\владелец\\appdata\\local\\programs\\python\\python310\\lib\\site-packages (from optuna) (6.0)\n",
      "Requirement already satisfied: tqdm in c:\\users\\владелец\\appdata\\local\\programs\\python\\python310\\lib\\site-packages (from optuna) (4.62.3)\n",
      "Requirement already satisfied: scipy!=1.4.0 in c:\\users\\владелец\\appdata\\local\\programs\\python\\python310\\lib\\site-packages (from optuna) (1.7.3)\n",
      "Requirement already satisfied: colorlog in c:\\users\\владелец\\appdata\\local\\programs\\python\\python310\\lib\\site-packages (from optuna) (6.6.0)\n",
      "Requirement already satisfied: numpy in c:\\users\\владелец\\appdata\\local\\programs\\python\\python310\\lib\\site-packages (from optuna) (1.22.3)\n",
      "Requirement already satisfied: packaging>=20.0 in c:\\users\\владелец\\appdata\\local\\programs\\python\\python310\\lib\\site-packages (from optuna) (21.3)\n",
      "Requirement already satisfied: cmaes>=0.8.2 in c:\\users\\владелец\\appdata\\local\\programs\\python\\python310\\lib\\site-packages (from optuna) (0.8.2)\n",
      "Requirement already satisfied: pyparsing!=3.0.5,>=2.0.2 in c:\\users\\владелец\\appdata\\local\\programs\\python\\python310\\lib\\site-packages (from packaging>=20.0->optuna) (3.0.7)\n",
      "Requirement already satisfied: greenlet!=0.4.17 in c:\\users\\владелец\\appdata\\local\\programs\\python\\python310\\lib\\site-packages (from sqlalchemy>=1.1.0->optuna) (1.1.2)\n",
      "Requirement already satisfied: Mako in c:\\users\\владелец\\appdata\\local\\programs\\python\\python310\\lib\\site-packages (from alembic->optuna) (1.2.0)\n",
      "Requirement already satisfied: PrettyTable>=0.7.2 in c:\\users\\владелец\\appdata\\local\\programs\\python\\python310\\lib\\site-packages (from cliff->optuna) (3.2.0)\n",
      "Requirement already satisfied: pbr!=2.1.0,>=2.0.0 in c:\\users\\владелец\\appdata\\local\\programs\\python\\python310\\lib\\site-packages (from cliff->optuna) (5.8.1)\n",
      "Requirement already satisfied: cmd2>=1.0.0 in c:\\users\\владелец\\appdata\\local\\programs\\python\\python310\\lib\\site-packages (from cliff->optuna) (2.4.0)\n",
      "Requirement already satisfied: stevedore>=2.0.1 in c:\\users\\владелец\\appdata\\local\\programs\\python\\python310\\lib\\site-packages (from cliff->optuna) (3.5.0)\n",
      "Requirement already satisfied: autopage>=0.4.0 in c:\\users\\владелец\\appdata\\local\\programs\\python\\python310\\lib\\site-packages (from cliff->optuna) (0.5.0)\n",
      "Requirement already satisfied: colorama in c:\\users\\владелец\\appdata\\local\\programs\\python\\python310\\lib\\site-packages (from colorlog->optuna) (0.4.4)\n",
      "Requirement already satisfied: wcwidth>=0.1.7 in c:\\users\\владелец\\appdata\\local\\programs\\python\\python310\\lib\\site-packages (from cmd2>=1.0.0->cliff->optuna) (0.2.5)\n",
      "Requirement already satisfied: pyperclip>=1.6 in c:\\users\\владелец\\appdata\\local\\programs\\python\\python310\\lib\\site-packages (from cmd2>=1.0.0->cliff->optuna) (1.8.2)\n",
      "Requirement already satisfied: attrs>=16.3.0 in c:\\users\\владелец\\appdata\\local\\programs\\python\\python310\\lib\\site-packages (from cmd2>=1.0.0->cliff->optuna) (21.4.0)\n",
      "Requirement already satisfied: pyreadline3 in c:\\users\\владелец\\appdata\\local\\programs\\python\\python310\\lib\\site-packages (from cmd2>=1.0.0->cliff->optuna) (3.4.1)\n",
      "Requirement already satisfied: MarkupSafe>=0.9.2 in c:\\users\\владелец\\appdata\\local\\programs\\python\\python310\\lib\\site-packages (from Mako->alembic->optuna) (2.1.1)\n"
     ]
    }
   ],
   "source": [
    "!pip3 install optuna"
   ]
  },
  {
   "cell_type": "code",
   "execution_count": 60,
   "metadata": {},
   "outputs": [],
   "source": [
    "import pandas as pd\n",
    "\n",
    "from sklearn.model_selection import train_test_split, cross_val_score, KFold\n",
    "from sklearn.linear_model import LinearRegression\n",
    "from sklearn.ensemble import GradientBoostingRegressor\n",
    "from sklearn.metrics import mean_squared_error\n",
    "\n",
    "\n",
    "import numpy as np\n",
    "from scipy import stats as st\n",
    "import optuna"
   ]
  },
  {
   "cell_type": "markdown",
   "metadata": {},
   "source": [
    "## <span style=\"color: crimson\">Этап 1</span> Изучение данных"
   ]
  },
  {
   "cell_type": "code",
   "execution_count": 40,
   "metadata": {},
   "outputs": [],
   "source": [
    "geo_data_0 = pd.read_csv('./geo_data_0.csv')\n",
    "geo_data_1 = pd.read_csv('./geo_data_1.csv')\n",
    "geo_data_2 = pd.read_csv('./geo_data_2.csv')"
   ]
  },
  {
   "cell_type": "code",
   "execution_count": 41,
   "metadata": {},
   "outputs": [],
   "source": [
    "# Для анализа соеденим данные в один датасет, ну а после разделим.\n",
    "geo_data_0['region'] = 0\n",
    "geo_data_1['region'] = 1\n",
    "geo_data_2['region'] = 2\n",
    "\n",
    "df = pd.concat([geo_data_0, geo_data_1, geo_data_2])"
   ]
  },
  {
   "cell_type": "code",
   "execution_count": 42,
   "metadata": {},
   "outputs": [
    {
     "data": {
      "text/html": [
       "<div>\n",
       "<style scoped>\n",
       "    .dataframe tbody tr th:only-of-type {\n",
       "        vertical-align: middle;\n",
       "    }\n",
       "\n",
       "    .dataframe tbody tr th {\n",
       "        vertical-align: top;\n",
       "    }\n",
       "\n",
       "    .dataframe thead th {\n",
       "        text-align: right;\n",
       "    }\n",
       "</style>\n",
       "<table border=\"1\" class=\"dataframe\">\n",
       "  <thead>\n",
       "    <tr style=\"text-align: right;\">\n",
       "      <th></th>\n",
       "      <th>id</th>\n",
       "      <th>f0</th>\n",
       "      <th>f1</th>\n",
       "      <th>f2</th>\n",
       "      <th>product</th>\n",
       "      <th>region</th>\n",
       "    </tr>\n",
       "  </thead>\n",
       "  <tbody>\n",
       "    <tr>\n",
       "      <th>32837</th>\n",
       "      <td>GvCP9</td>\n",
       "      <td>1.130154</td>\n",
       "      <td>0.688341</td>\n",
       "      <td>9.077288</td>\n",
       "      <td>125.669331</td>\n",
       "      <td>2</td>\n",
       "    </tr>\n",
       "    <tr>\n",
       "      <th>34056</th>\n",
       "      <td>3OuMD</td>\n",
       "      <td>10.575691</td>\n",
       "      <td>-0.023305</td>\n",
       "      <td>3.997154</td>\n",
       "      <td>107.813044</td>\n",
       "      <td>1</td>\n",
       "    </tr>\n",
       "    <tr>\n",
       "      <th>28380</th>\n",
       "      <td>3MJne</td>\n",
       "      <td>5.648997</td>\n",
       "      <td>-3.546743</td>\n",
       "      <td>2.999349</td>\n",
       "      <td>80.859783</td>\n",
       "      <td>1</td>\n",
       "    </tr>\n",
       "    <tr>\n",
       "      <th>24099</th>\n",
       "      <td>QyyLm</td>\n",
       "      <td>-6.332702</td>\n",
       "      <td>-0.112894</td>\n",
       "      <td>9.827302</td>\n",
       "      <td>172.809442</td>\n",
       "      <td>2</td>\n",
       "    </tr>\n",
       "    <tr>\n",
       "      <th>98527</th>\n",
       "      <td>WTRVc</td>\n",
       "      <td>-9.449929</td>\n",
       "      <td>-9.065061</td>\n",
       "      <td>0.000972</td>\n",
       "      <td>3.179103</td>\n",
       "      <td>1</td>\n",
       "    </tr>\n",
       "  </tbody>\n",
       "</table>\n",
       "</div>"
      ],
      "text/plain": [
       "          id         f0        f1        f2     product  region\n",
       "32837  GvCP9   1.130154  0.688341  9.077288  125.669331       2\n",
       "34056  3OuMD  10.575691 -0.023305  3.997154  107.813044       1\n",
       "28380  3MJne   5.648997 -3.546743  2.999349   80.859783       1\n",
       "24099  QyyLm  -6.332702 -0.112894  9.827302  172.809442       2\n",
       "98527  WTRVc  -9.449929 -9.065061  0.000972    3.179103       1"
      ]
     },
     "execution_count": 42,
     "metadata": {},
     "output_type": "execute_result"
    }
   ],
   "source": [
    "df.sample(5)"
   ]
  },
  {
   "cell_type": "markdown",
   "metadata": {},
   "source": [
    "<h4 style=\"color:crimson\">Общая информация:"
   ]
  },
  {
   "cell_type": "code",
   "execution_count": 43,
   "metadata": {},
   "outputs": [
    {
     "name": "stdout",
     "output_type": "stream",
     "text": [
      "<class 'pandas.core.frame.DataFrame'>\n",
      "Int64Index: 300000 entries, 0 to 99999\n",
      "Data columns (total 6 columns):\n",
      " #   Column   Non-Null Count   Dtype  \n",
      "---  ------   --------------   -----  \n",
      " 0   id       300000 non-null  object \n",
      " 1   f0       300000 non-null  float64\n",
      " 2   f1       300000 non-null  float64\n",
      " 3   f2       300000 non-null  float64\n",
      " 4   product  300000 non-null  float64\n",
      " 5   region   300000 non-null  int64  \n",
      "dtypes: float64(4), int64(1), object(1)\n",
      "memory usage: 16.0+ MB\n"
     ]
    }
   ],
   "source": [
    "df.info()"
   ]
  },
  {
   "cell_type": "code",
   "execution_count": 44,
   "metadata": {},
   "outputs": [
    {
     "data": {
      "text/html": [
       "<div>\n",
       "<style scoped>\n",
       "    .dataframe tbody tr th:only-of-type {\n",
       "        vertical-align: middle;\n",
       "    }\n",
       "\n",
       "    .dataframe tbody tr th {\n",
       "        vertical-align: top;\n",
       "    }\n",
       "\n",
       "    .dataframe thead th {\n",
       "        text-align: right;\n",
       "    }\n",
       "</style>\n",
       "<table border=\"1\" class=\"dataframe\">\n",
       "  <thead>\n",
       "    <tr style=\"text-align: right;\">\n",
       "      <th></th>\n",
       "      <th>f0</th>\n",
       "      <th>f1</th>\n",
       "      <th>f2</th>\n",
       "      <th>product</th>\n",
       "      <th>region</th>\n",
       "    </tr>\n",
       "  </thead>\n",
       "  <tbody>\n",
       "    <tr>\n",
       "      <th>count</th>\n",
       "      <td>300000.000000</td>\n",
       "      <td>300000.000000</td>\n",
       "      <td>300000.000000</td>\n",
       "      <td>300000.000000</td>\n",
       "      <td>300000.000000</td>\n",
       "    </tr>\n",
       "    <tr>\n",
       "      <th>mean</th>\n",
       "      <td>0.547913</td>\n",
       "      <td>-1.516172</td>\n",
       "      <td>2.497439</td>\n",
       "      <td>85.441667</td>\n",
       "      <td>1.000000</td>\n",
       "    </tr>\n",
       "    <tr>\n",
       "      <th>std</th>\n",
       "      <td>5.316634</td>\n",
       "      <td>3.900220</td>\n",
       "      <td>2.916502</td>\n",
       "      <td>46.519494</td>\n",
       "      <td>0.816498</td>\n",
       "    </tr>\n",
       "    <tr>\n",
       "      <th>min</th>\n",
       "      <td>-31.609576</td>\n",
       "      <td>-26.358598</td>\n",
       "      <td>-12.088328</td>\n",
       "      <td>0.000000</td>\n",
       "      <td>0.000000</td>\n",
       "    </tr>\n",
       "    <tr>\n",
       "      <th>25%</th>\n",
       "      <td>-1.003037</td>\n",
       "      <td>-2.478939</td>\n",
       "      <td>0.648213</td>\n",
       "      <td>52.666629</td>\n",
       "      <td>0.000000</td>\n",
       "    </tr>\n",
       "    <tr>\n",
       "      <th>50%</th>\n",
       "      <td>0.347934</td>\n",
       "      <td>-0.229632</td>\n",
       "      <td>2.491215</td>\n",
       "      <td>84.038886</td>\n",
       "      <td>1.000000</td>\n",
       "    </tr>\n",
       "    <tr>\n",
       "      <th>75%</th>\n",
       "      <td>1.755365</td>\n",
       "      <td>0.678562</td>\n",
       "      <td>4.344943</td>\n",
       "      <td>124.174086</td>\n",
       "      <td>2.000000</td>\n",
       "    </tr>\n",
       "    <tr>\n",
       "      <th>max</th>\n",
       "      <td>29.421755</td>\n",
       "      <td>18.734063</td>\n",
       "      <td>16.739402</td>\n",
       "      <td>190.029838</td>\n",
       "      <td>2.000000</td>\n",
       "    </tr>\n",
       "  </tbody>\n",
       "</table>\n",
       "</div>"
      ],
      "text/plain": [
       "                  f0             f1             f2        product  \\\n",
       "count  300000.000000  300000.000000  300000.000000  300000.000000   \n",
       "mean        0.547913      -1.516172       2.497439      85.441667   \n",
       "std         5.316634       3.900220       2.916502      46.519494   \n",
       "min       -31.609576     -26.358598     -12.088328       0.000000   \n",
       "25%        -1.003037      -2.478939       0.648213      52.666629   \n",
       "50%         0.347934      -0.229632       2.491215      84.038886   \n",
       "75%         1.755365       0.678562       4.344943     124.174086   \n",
       "max        29.421755      18.734063      16.739402     190.029838   \n",
       "\n",
       "              region  \n",
       "count  300000.000000  \n",
       "mean        1.000000  \n",
       "std         0.816498  \n",
       "min         0.000000  \n",
       "25%         0.000000  \n",
       "50%         1.000000  \n",
       "75%         2.000000  \n",
       "max         2.000000  "
      ]
     },
     "execution_count": 44,
     "metadata": {},
     "output_type": "execute_result"
    }
   ],
   "source": [
    "df.describe()"
   ]
  },
  {
   "cell_type": "markdown",
   "metadata": {},
   "source": [
    "**Вывод:** \n",
    "1. Стоит сменить типы данных на более корректные, т.к. у нас не настолько большой разброс значений.\n",
    "2. В данных отсутствуют пропуски."
   ]
  },
  {
   "cell_type": "markdown",
   "metadata": {},
   "source": [
    "<h4 style=\"color:crimson\"> Дубликаты: "
   ]
  },
  {
   "cell_type": "code",
   "execution_count": 45,
   "metadata": {},
   "outputs": [
    {
     "data": {
      "text/plain": [
       "49"
      ]
     },
     "execution_count": 45,
     "metadata": {},
     "output_type": "execute_result"
    }
   ],
   "source": [
    "df['id'].duplicated().sum()"
   ]
  },
  {
   "cell_type": "markdown",
   "metadata": {},
   "source": [
    "Всего у нас **49** дубликатов (не полных) при наборе в 1 млн объектов, их можно просто удалить."
   ]
  },
  {
   "cell_type": "markdown",
   "metadata": {},
   "source": [
    "### <center><span style=\"color: crimson\"><b>Вывод</b></span></center>\n",
    "**Нужно:**\n",
    "1. Удалить дубликаты.\n",
    "2. Удалить столбец  **id**.\n",
    "3. Изменить тип данных."
   ]
  },
  {
   "cell_type": "markdown",
   "metadata": {},
   "source": [
    "---"
   ]
  },
  {
   "cell_type": "markdown",
   "metadata": {},
   "source": [
    "## <span style=\"color: crimson\">Этап 2</span> Предобработка данных"
   ]
  },
  {
   "cell_type": "markdown",
   "metadata": {},
   "source": [
    "**Удаление <span style=\"color: crimson\">дубликатов</span>:**"
   ]
  },
  {
   "cell_type": "code",
   "execution_count": 46,
   "metadata": {},
   "outputs": [],
   "source": [
    "df = df.drop_duplicates(subset=['id'])"
   ]
  },
  {
   "cell_type": "markdown",
   "metadata": {},
   "source": [
    "**Удаление  <span style=\"color: crimson\">столбцов</span>:**"
   ]
  },
  {
   "cell_type": "markdown",
   "metadata": {},
   "source": [
    "После удаления дубликатов столбец **id** можно удалить."
   ]
  },
  {
   "cell_type": "code",
   "execution_count": 47,
   "metadata": {},
   "outputs": [],
   "source": [
    "df = df.drop(['id'], axis=1)"
   ]
  },
  {
   "cell_type": "markdown",
   "metadata": {},
   "source": [
    "**<span style=\"color:crimson\">Изменение типов данных</span>:**"
   ]
  },
  {
   "cell_type": "code",
   "execution_count": 48,
   "metadata": {},
   "outputs": [],
   "source": [
    "df[\"f0\"] = df[\"f0\"].astype(\"float16\")\n",
    "df[\"f1\"] = df[\"f1\"].astype(\"float16\")\n",
    "df[\"f2\"] = df[\"f2\"].astype(\"float16\")\n",
    "df[\"region\"] = df[\"region\"].astype(\"int8\")"
   ]
  },
  {
   "cell_type": "markdown",
   "metadata": {},
   "source": [
    "<h4><span style=\"color: crimson\">Разделение df</span> по регионам:</h4>"
   ]
  },
  {
   "cell_type": "code",
   "execution_count": 49,
   "metadata": {},
   "outputs": [],
   "source": [
    "geo_data_0 = df.query('region == 0').drop(['region'], axis=1)\n",
    "geo_data_1 = df.query('region == 1').drop(['region'], axis=1)\n",
    "geo_data_2 = df.query('region == 2').drop(['region'], axis=1)"
   ]
  },
  {
   "cell_type": "markdown",
   "metadata": {},
   "source": [
    "---"
   ]
  },
  {
   "cell_type": "markdown",
   "metadata": {},
   "source": [
    "## <span style=\"color: crimson\">Этап 3</span> Создание и тестирование моделей "
   ]
  },
  {
   "cell_type": "markdown",
   "metadata": {},
   "source": [
    "Разделение данных проведем прямо во время тестирования, так проще и удобнее."
   ]
  },
  {
   "cell_type": "markdown",
   "metadata": {},
   "source": [
    "### **Используемые модели:**\n",
    "* Градиентный бустин.\n",
    "* Elastic Net."
   ]
  },
  {
   "cell_type": "markdown",
   "metadata": {},
   "source": [
    "**Настройка optuma**"
   ]
  },
  {
   "cell_type": "code",
   "execution_count": 50,
   "metadata": {},
   "outputs": [],
   "source": [
    "RANDOM_SEED = 666\n",
    "\n",
    "kfolds = KFold(n_splits=10, shuffle=True, random_state=RANDOM_SEED)\n",
    "\n",
    "def tune(objective):\n",
    "    study = optuna.create_study(direction=\"maximize\")\n",
    "    study.optimize(objective, n_trials=100)\n",
    "\n",
    "    params = study.best_params\n",
    "    best_score = study.best_value\n",
    "    print(f\"Best score: {best_score}\\n\")\n",
    "    print(f\"Optimized parameters: {params}\\n\")\n",
    "    return params"
   ]
  },
  {
   "cell_type": "markdown",
   "metadata": {},
   "source": [
    "### <span style=\"color: crimson\">1.</span> Градиентный бустинг "
   ]
  },
  {
   "cell_type": "code",
   "execution_count": null,
   "metadata": {},
   "outputs": [],
   "source": [
    "%%time\n",
    "\n",
    "def test_model_GBC(date):\n",
    "    def objective(trial):\n",
    "        param = {\n",
    "            \"learning_rate\": trial.suggest_float(\"learning_rate\", 0.01, 1.0),\n",
    "            \"max_depth\": trial.suggest_int(\"max_depth\", 1, 15),\n",
    "            \"subsample\": trial.suggest_float(\"subsample\", .5, 1.),\n",
    "            \"n_estimators\": trial.suggest_int(\"n_estimators\", 1, 500),\n",
    "        }\n",
    "        model = GradientBoostingRegressor(**param, random_state=RANDOM_SEED)\n",
    "        scores = cross_val_score(\n",
    "            model,\n",
    "            features, \n",
    "            target,\n",
    "            scoring='neg_root_mean_squared_error',\n",
    "            cv=kfolds,\n",
    "        ).mean()\n",
    "\n",
    "        model.fit(features, target) \n",
    "        scores = f1_score(target_valid, model.predict(features_valid))  \n",
    "\n",
    "    features = date.drop(['product'], axis=1)\n",
    "    target = date['product']\n",
    "    \n",
    "    GBC_params = tune(objective)\n",
    "    GBC = GradientBoostingRegressor(**GBC_params, random_state=RANDOM_SEED)\n",
    "    model_GBC.fit(features, target) \n",
    "\n",
    "    A_GBC = model_GBC.score(features_test, target_test) \n",
    "    F_GBC = f1_score(target_test, model_GBC.predict(features_test))  \n",
    "    \n",
    "    print(\"F1_score модели {}\".format(F_GBC))\n"
   ]
  },
  {
   "cell_type": "code",
   "execution_count": 87,
   "metadata": {},
   "outputs": [
    {
     "name": "stdout",
     "output_type": "stream",
     "text": [
      "CPU times: total: 0 ns\n",
      "Wall time: 0 ns\n"
     ]
    }
   ],
   "source": [
    "%%time\n",
    "\n",
    "def test_model_GBC(date):\n",
    "    def objective(trial):\n",
    "        param = {\n",
    "            \"learning_rate\": trial.suggest_float(\"learning_rate\", 0.01, 1.0),\n",
    "            \"max_depth\": trial.suggest_int(\"max_depth\", 1, 15),\n",
    "            \"subsample\": trial.suggest_float(\"subsample\", .5, 1.),\n",
    "            \"n_estimators\": trial.suggest_int(\"n_estimators\", 1, 500),\n",
    "        }\n",
    "\n",
    "        model = GradientBoostingRegressor(**param, random_state=RANDOM_SEED)\n",
    "        scores = cross_val_score(\n",
    "            model,\n",
    "            features, \n",
    "            target,\n",
    "            scoring='neg_root_mean_squared_error',\n",
    "            cv=kfolds,\n",
    "        ).mean()\n",
    "\n",
    "        return scores\n",
    "\n",
    "    features = date.drop(['product'], axis=1)\n",
    "    target = date['product']\n",
    "    \n",
    "    GBC_params = tune(objective)\n",
    "    GBC = GradientBoostingRegressor(**GBC_params, random_state=RANDOM_SEED)\n",
    "    \n",
    "    "
   ]
  },
  {
   "cell_type": "code",
   "execution_count": null,
   "metadata": {},
   "outputs": [
    {
     "name": "stderr",
     "output_type": "stream",
     "text": [
      "\u001b[32m[I 2022-03-23 22:01:18,603]\u001b[0m A new study created in memory with name: no-name-75069bf3-901d-400e-a94b-0a76db45336f\u001b[0m\n",
      "\u001b[32m[I 2022-03-23 22:06:29,739]\u001b[0m Trial 0 finished with value: -40.02964700455683 and parameters: {'learning_rate': 0.3131542768072353, 'max_depth': 10, 'subsample': 0.8310734993921944, 'n_estimators': 168}. Best is trial 0 with value: -40.02964700455683.\u001b[0m\n",
      "\u001b[32m[I 2022-03-23 22:07:07,269]\u001b[0m Trial 1 finished with value: -37.191154114361 and parameters: {'learning_rate': 0.24267513759361625, 'max_depth': 3, 'subsample': 0.5542149446177009, 'n_estimators': 87}. Best is trial 1 with value: -37.191154114361.\u001b[0m\n",
      "\u001b[32m[I 2022-03-23 22:07:29,720]\u001b[0m Trial 2 finished with value: -37.33246399929406 and parameters: {'learning_rate': 0.40315455089945246, 'max_depth': 1, 'subsample': 0.664664062514256, 'n_estimators': 108}. Best is trial 1 with value: -37.191154114361.\u001b[0m\n",
      "\u001b[32m[I 2022-03-23 22:10:01,429]\u001b[0m Trial 3 finished with value: -47.28205681656816 and parameters: {'learning_rate': 0.5318485629212111, 'max_depth': 12, 'subsample': 0.5915388430897695, 'n_estimators': 97}. Best is trial 1 with value: -37.191154114361.\u001b[0m\n",
      "\u001b[32m[I 2022-03-23 22:17:49,670]\u001b[0m Trial 4 finished with value: -42.16184489840204 and parameters: {'learning_rate': 0.3491482800372874, 'max_depth': 14, 'subsample': 0.894605009300997, 'n_estimators': 165}. Best is trial 1 with value: -37.191154114361.\u001b[0m\n",
      "\u001b[32m[I 2022-03-23 22:21:55,693]\u001b[0m Trial 5 finished with value: -37.40811755721152 and parameters: {'learning_rate': 0.17328263835674093, 'max_depth': 6, 'subsample': 0.9837425581401954, 'n_estimators': 199}. Best is trial 1 with value: -37.191154114361.\u001b[0m\n",
      "\u001b[32m[I 2022-03-23 22:22:30,414]\u001b[0m Trial 6 finished with value: -38.370118290456624 and parameters: {'learning_rate': 0.846342106157471, 'max_depth': 7, 'subsample': 0.9410849401247623, 'n_estimators': 25}. Best is trial 1 with value: -37.191154114361.\u001b[0m\n",
      "\u001b[32m[I 2022-03-23 22:24:13,120]\u001b[0m Trial 7 finished with value: -37.293310251616255 and parameters: {'learning_rate': 0.8860182384424874, 'max_depth': 1, 'subsample': 0.7198931207556625, 'n_estimators': 470}. Best is trial 1 with value: -37.191154114361.\u001b[0m\n",
      "\u001b[32m[I 2022-03-23 22:25:25,020]\u001b[0m Trial 8 finished with value: -37.27895858431285 and parameters: {'learning_rate': 0.09733184630086178, 'max_depth': 1, 'subsample': 0.8580174030089609, 'n_estimators': 314}. Best is trial 1 with value: -37.191154114361.\u001b[0m\n",
      "\u001b[32m[I 2022-03-23 22:26:34,959]\u001b[0m Trial 9 finished with value: -37.2797258139695 and parameters: {'learning_rate': 0.43141790946365627, 'max_depth': 1, 'subsample': 0.8800841220620905, 'n_estimators': 309}. Best is trial 1 with value: -37.191154114361.\u001b[0m\n",
      "\u001b[32m[I 2022-03-23 22:26:44,274]\u001b[0m Trial 10 finished with value: -37.467626555403086 and parameters: {'learning_rate': 0.6568305830780313, 'max_depth': 5, 'subsample': 0.5167711449836614, 'n_estimators': 15}. Best is trial 1 with value: -37.191154114361.\u001b[0m\n",
      "\u001b[32m[I 2022-03-23 22:30:27,581]\u001b[0m Trial 11 finished with value: -37.152905324539944 and parameters: {'learning_rate': 0.017815911789643965, 'max_depth': 4, 'subsample': 0.8017291894226624, 'n_estimators': 312}. Best is trial 11 with value: -37.152905324539944.\u001b[0m\n",
      "\u001b[32m[I 2022-03-23 22:34:49,248]\u001b[0m Trial 12 finished with value: -37.12205001089967 and parameters: {'learning_rate': 0.026913942071609943, 'max_depth': 4, 'subsample': 0.7603965393051934, 'n_estimators': 381}. Best is trial 12 with value: -37.12205001089967.\u001b[0m\n",
      "\u001b[32m[I 2022-03-23 22:41:05,092]\u001b[0m Trial 13 finished with value: -37.1357273640301 and parameters: {'learning_rate': 0.011905153287990633, 'max_depth': 5, 'subsample': 0.7820313743535056, 'n_estimators': 432}. Best is trial 12 with value: -37.12205001089967.\u001b[0m\n"
     ]
    }
   ],
   "source": [
    "test_model_GBC(geo_data_0)"
   ]
  },
  {
   "cell_type": "markdown",
   "metadata": {},
   "source": [
    "### <span style=\"color: crimson\">2.</span> Линейная регрессия"
   ]
  },
  {
   "cell_type": "code",
   "execution_count": 15,
   "metadata": {},
   "outputs": [],
   "source": [
    "model = LinearRegression()"
   ]
  },
  {
   "cell_type": "code",
   "execution_count": 16,
   "metadata": {},
   "outputs": [],
   "source": [
    "def prediction_target(data):\n",
    "    features = data.drop([\"product\"], axis=1)\n",
    "    target = data[\"product\"]\n",
    "\n",
    "    features_train, features_valid, target_train, target_valid = train_test_split(\n",
    "        features, target, test_size=0.25, random_state=0\n",
    "    )\n",
    "    model.fit(features_train, target_train)\n",
    "\n",
    "    return pd.Series(model.predict(features_valid)), target_valid"
   ]
  },
  {
   "cell_type": "code",
   "execution_count": 17,
   "metadata": {
    "scrolled": false
   },
   "outputs": [],
   "source": [
    "predicted_0, target_0 = prediction_target(geo_data_0)\n",
    "predicted_1, target_1 = prediction_target(geo_data_1)\n",
    "predicted_2, target_2 = prediction_target(geo_data_2)"
   ]
  },
  {
   "cell_type": "markdown",
   "metadata": {},
   "source": [
    "<h4 style=\"color:crimson\"> Cредний запас предсказанного сырья и RMSE модели."
   ]
  },
  {
   "cell_type": "code",
   "execution_count": 18,
   "metadata": {},
   "outputs": [],
   "source": [
    "def mean_product_and_rmse (answers, predictions):\n",
    "    mse = mean_squared_error(answers, predictions)\n",
    "    print('Среднее кол-во нефти:', predictions.mean(), 'тыс.')\n",
    "    print('RMSE:', mse ** 0.5)"
   ]
  },
  {
   "cell_type": "code",
   "execution_count": 19,
   "metadata": {
    "scrolled": true
   },
   "outputs": [
    {
     "name": "stdout",
     "output_type": "stream",
     "text": [
      "Регион №0\n",
      "\n",
      "Среднее кол-во нефти: 92.72644 тыс.\n",
      "RMSE: 37.72623571423873\n"
     ]
    }
   ],
   "source": [
    "print('Регион №0')\n",
    "print()\n",
    "mean_product_and_rmse(target_0, predicted_0)"
   ]
  },
  {
   "cell_type": "code",
   "execution_count": 20,
   "metadata": {},
   "outputs": [
    {
     "name": "stdout",
     "output_type": "stream",
     "text": [
      "Регион №1\n",
      "\n",
      "Среднее кол-во нефти: 69.066505 тыс.\n",
      "RMSE: 0.8847939188930067\n"
     ]
    }
   ],
   "source": [
    "print('Регион №1')\n",
    "print()\n",
    "mean_product_and_rmse(target_1, predicted_1)"
   ]
  },
  {
   "cell_type": "code",
   "execution_count": 21,
   "metadata": {},
   "outputs": [
    {
     "name": "stdout",
     "output_type": "stream",
     "text": [
      "Регион №2\n",
      "\n",
      "Среднее кол-во нефти: 95.11724 тыс.\n",
      "RMSE: 39.9913735369623\n"
     ]
    }
   ],
   "source": [
    "print('Регион №2')\n",
    "print()\n",
    "mean_product_and_rmse(target_2, predicted_2)"
   ]
  },
  {
   "cell_type": "markdown",
   "metadata": {},
   "source": [
    "<h4 style=\"color:crimson\"> Анализ результатов"
   ]
  },
  {
   "cell_type": "markdown",
   "metadata": {},
   "source": [
    "Кроме 1го региона наша модель дает серьезные отклонения, примерно на 1/3, от результата."
   ]
  },
  {
   "cell_type": "markdown",
   "metadata": {},
   "source": [
    "---"
   ]
  },
  {
   "cell_type": "markdown",
   "metadata": {},
   "source": [
    "## Шаг 3.Подготовка к расчёту прибыли"
   ]
  },
  {
   "cell_type": "markdown",
   "metadata": {},
   "source": [
    " <h4 style=\"color:crimson\"> Сохранение ключевых значений для расчётов в отдельных переменных"
   ]
  },
  {
   "cell_type": "code",
   "execution_count": 22,
   "metadata": {},
   "outputs": [],
   "source": [
    "# Бюджет на разработку скважин в регионе \n",
    "BUDGET = 10000000000\n",
    "\n",
    "# Количество скважин, которые мы можем выбрать для разработки\n",
    "OIL_WELLS_COUNT = 200\n",
    "\n",
    "# Доход с каждой единицы продукта \n",
    "INCOME = 450000"
   ]
  },
  {
   "cell_type": "markdown",
   "metadata": {},
   "source": [
    "<h4 style=\"color:crimson\"> Расчёт достаточный объём сырья для безубыточной разработки новой скважины"
   ]
  },
  {
   "cell_type": "code",
   "execution_count": 23,
   "metadata": {},
   "outputs": [
    {
     "data": {
      "text/plain": [
       "111.11111111111111"
      ]
     },
     "execution_count": 23,
     "metadata": {},
     "output_type": "execute_result"
    }
   ],
   "source": [
    "(BUDGET / OIL_WELLS_COUNT) / INCOME"
   ]
  },
  {
   "cell_type": "markdown",
   "metadata": {},
   "source": [
    "<h4 style=\"color:crimson\"> Сравнение полученный объём сырья со средним запасом в каждом регионе."
   ]
  },
  {
   "cell_type": "code",
   "execution_count": 24,
   "metadata": {},
   "outputs": [
    {
     "name": "stdout",
     "output_type": "stream",
     "text": [
      "Регион 0: 92.7579632180877\n"
     ]
    }
   ],
   "source": [
    "print('Регион 0:', target_0.mean())"
   ]
  },
  {
   "cell_type": "code",
   "execution_count": 25,
   "metadata": {},
   "outputs": [
    {
     "name": "stdout",
     "output_type": "stream",
     "text": [
      "Регион 1: 69.07554774031735\n"
     ]
    }
   ],
   "source": [
    "print('Регион 1:', target_1.mean())"
   ]
  },
  {
   "cell_type": "code",
   "execution_count": 26,
   "metadata": {},
   "outputs": [
    {
     "name": "stdout",
     "output_type": "stream",
     "text": [
      "Регион 2: 94.83605915571196\n"
     ]
    }
   ],
   "source": [
    "print('Регион 2:', target_2.mean())"
   ]
  },
  {
   "cell_type": "markdown",
   "metadata": {},
   "source": [
    "Если разрабатывать весь регион, то мы везде будем в убытке."
   ]
  },
  {
   "cell_type": "markdown",
   "metadata": {},
   "source": [
    "<h4 style=\"color:crimson\"> Выбор скважины с максимальными значениями предсказаний,  суммирование целевого значение объёма сырья, а затем рассчитайте прибыль для полученного объёма сырья."
   ]
  },
  {
   "cell_type": "markdown",
   "metadata": {},
   "source": [
    "Найдем по предсказаням самые прибыльные вышки и посмотрим фактическую от них прибль."
   ]
  },
  {
   "cell_type": "code",
   "execution_count": 27,
   "metadata": {},
   "outputs": [],
   "source": [
    "def profit(predicted, target):\n",
    "    predicted = pd.Series(predicted).reset_index(drop=True)\n",
    "    target = pd.Series(target).reset_index(drop=True)\n",
    "\n",
    "    predicted_sort = predicted.sort_values(ascending=False)\n",
    "    fuel_quantity = target[predicted_sort.index][:OIL_WELLS_COUNT].sum()\n",
    "    \n",
    "    operational_profit = ((fuel_quantity*INCOME) - BUDGET) / 1000000000\n",
    "    \n",
    "    return operational_profit"
   ]
  },
  {
   "cell_type": "markdown",
   "metadata": {},
   "source": [
    "| Регион 0"
   ]
  },
  {
   "cell_type": "code",
   "execution_count": 28,
   "metadata": {},
   "outputs": [
    {
     "name": "stdout",
     "output_type": "stream",
     "text": [
      "Предсказанная оперативная прибыль: 3.3 млрд\n"
     ]
    }
   ],
   "source": [
    "print('Предсказанная оперативная прибыль: {} млрд'.format(profit(predicted_0, target_0).round(1)))"
   ]
  },
  {
   "cell_type": "markdown",
   "metadata": {},
   "source": [
    "| Регион 1"
   ]
  },
  {
   "cell_type": "code",
   "execution_count": 29,
   "metadata": {},
   "outputs": [
    {
     "name": "stdout",
     "output_type": "stream",
     "text": [
      "Предсказанная оперативная прибыль: 2.4 млрд\n"
     ]
    }
   ],
   "source": [
    "print('Предсказанная оперативная прибыль: {} млрд'.format(profit(predicted_1, target_1).round(1)))"
   ]
  },
  {
   "cell_type": "markdown",
   "metadata": {},
   "source": [
    "| Регион 2"
   ]
  },
  {
   "cell_type": "code",
   "execution_count": 30,
   "metadata": {},
   "outputs": [
    {
     "name": "stdout",
     "output_type": "stream",
     "text": [
      "Предсказанная оперативная прибыль: 2.5 млрд\n"
     ]
    }
   ],
   "source": [
    "print('Предсказанная оперативная прибыль: {} млрд'.format(profit(predicted_2, target_2).round(1)))"
   ]
  },
  {
   "cell_type": "markdown",
   "metadata": {},
   "source": [
    "<h4 style=\"color:crimson\"> Анализ результатов:"
   ]
  },
  {
   "cell_type": "markdown",
   "metadata": {},
   "source": [
    "По полученным результатам, наиболее оптимальные районы это 0 и 2, т.к. они принесут наибольшую прибль."
   ]
  },
  {
   "cell_type": "markdown",
   "metadata": {},
   "source": [
    "## Шаг 4. Расчёт прибыли и рисков "
   ]
  },
  {
   "cell_type": "markdown",
   "metadata": {},
   "source": [
    "<h4 style=\"color:crimson\"> Применение техники Bootstrap с 1000 выборок, чтобы найти распределение прибыли."
   ]
  },
  {
   "cell_type": "code",
   "execution_count": 31,
   "metadata": {},
   "outputs": [],
   "source": [
    "state = np.random.RandomState(0)"
   ]
  },
  {
   "cell_type": "code",
   "execution_count": 32,
   "metadata": {},
   "outputs": [],
   "source": [
    "def bootstrap(predicted, target):\n",
    "    target = target.reset_index(drop=True)\n",
    "    values = []\n",
    "    \n",
    "    for i in range(1000):\n",
    "        target_subsample = target.sample(n=500, replace=True, random_state=state)\n",
    "        predicted_subsample = predicted[target_subsample.index]\n",
    "        \n",
    "        profit_ = profit(predicted_subsample,target_subsample)\n",
    "        values.append(profit_)\n",
    "        \n",
    "    return pd.Series(values)"
   ]
  },
  {
   "cell_type": "markdown",
   "metadata": {},
   "source": [
    "<h4 style=\"color:crimson\"> Поиск среднюю прибыль, 95%-й доверительный интервал и риск убытков. Убыток — это отрицательная прибыль."
   ]
  },
  {
   "cell_type": "code",
   "execution_count": 33,
   "metadata": {},
   "outputs": [],
   "source": [
    "def analysis(predicted, target):\n",
    "    values = bootstrap(predicted, target)\n",
    "    \n",
    "    mean = values.mean()\n",
    "    confidence_interval = [values.quantile(0.025), values.quantile(0.975)]\n",
    "    confidence_interval_t = st.t.interval(0.95, len(values)-1, mean, values.sem())\n",
    "\n",
    "\n",
    "    print(\"Средняя выручка:\", mean)\n",
    "    print(\"Доверительный интервал:\", confidence_interval)\n",
    "    print(\"Доверительный интервал среднего:\", confidence_interval_t)\n",
    "    print(\"Риски убытка:\", (values < 0).mean())"
   ]
  },
  {
   "cell_type": "code",
   "execution_count": 34,
   "metadata": {},
   "outputs": [
    {
     "name": "stdout",
     "output_type": "stream",
     "text": [
      "Средняя выручка: 0.44448772216163585\n",
      "Доверительный интервал: [-0.08778495948548436, 0.9319994431379525]\n",
      "Доверительный интервал среднего: (0.42819010783833983, 0.46078533648493186)\n",
      "Риски убытка: 0.05\n"
     ]
    }
   ],
   "source": [
    "analysis(predicted_0, target_0)"
   ]
  },
  {
   "cell_type": "code",
   "execution_count": 35,
   "metadata": {},
   "outputs": [
    {
     "name": "stdout",
     "output_type": "stream",
     "text": [
      "Средняя выручка: 0.47034410102978064\n",
      "Доверительный интервал: [0.06957608348509284, 0.8744496994214478]\n",
      "Доверительный интервал среднего: (0.45789102487502287, 0.4827971771845384)\n",
      "Риски убытка: 0.012\n"
     ]
    }
   ],
   "source": [
    "analysis(predicted_1, target_1)"
   ]
  },
  {
   "cell_type": "code",
   "execution_count": 36,
   "metadata": {},
   "outputs": [
    {
     "name": "stdout",
     "output_type": "stream",
     "text": [
      "Средняя выручка: 0.3576659526854113\n",
      "Доверительный интервал: [-0.16760750026770782, 0.8708221554682299]\n",
      "Доверительный интервал среднего: (0.34096826466421803, 0.37436364070660455)\n",
      "Риски убытка: 0.091\n"
     ]
    }
   ],
   "source": [
    "analysis(predicted_2, target_2)"
   ]
  },
  {
   "cell_type": "markdown",
   "metadata": {},
   "source": [
    "<h4 style=\"color:crimson\"> Анализ результатов"
   ]
  },
  {
   "cell_type": "markdown",
   "metadata": {},
   "source": [
    "Первый регион наиболее прибыльный и имеет наименьший риск убытка (1.2%)."
   ]
  }
 ],
 "metadata": {
  "ExecuteTimeLog": [
   {
    "duration": 808,
    "start_time": "2021-12-12T09:28:29.098Z"
   },
   {
    "duration": 206,
    "start_time": "2021-12-12T09:38:26.717Z"
   },
   {
    "duration": 459,
    "start_time": "2021-12-12T09:38:46.025Z"
   },
   {
    "duration": 23,
    "start_time": "2021-12-12T09:38:51.863Z"
   },
   {
    "duration": 12,
    "start_time": "2021-12-12T09:39:04.959Z"
   },
   {
    "duration": 13,
    "start_time": "2021-12-12T09:39:06.857Z"
   },
   {
    "duration": 6,
    "start_time": "2021-12-12T11:38:09.666Z"
   },
   {
    "duration": 8,
    "start_time": "2021-12-12T11:38:32.138Z"
   },
   {
    "duration": 20,
    "start_time": "2021-12-12T11:45:06.785Z"
   },
   {
    "duration": 19,
    "start_time": "2021-12-12T11:45:11.894Z"
   },
   {
    "duration": 36,
    "start_time": "2021-12-12T11:49:37.336Z"
   },
   {
    "duration": 24,
    "start_time": "2021-12-12T11:49:42.172Z"
   },
   {
    "duration": 23,
    "start_time": "2021-12-12T11:49:47.150Z"
   },
   {
    "duration": 23,
    "start_time": "2021-12-12T11:49:53.408Z"
   },
   {
    "duration": 24,
    "start_time": "2021-12-12T11:49:59.869Z"
   },
   {
    "duration": 505,
    "start_time": "2021-12-12T11:50:05.006Z"
   },
   {
    "duration": 26,
    "start_time": "2021-12-12T11:50:12.233Z"
   },
   {
    "duration": 26,
    "start_time": "2021-12-12T11:50:20.012Z"
   },
   {
    "duration": 29,
    "start_time": "2021-12-12T11:51:19.389Z"
   },
   {
    "duration": 22,
    "start_time": "2021-12-12T11:51:25.018Z"
   },
   {
    "duration": 118,
    "start_time": "2021-12-12T11:51:43.467Z"
   },
   {
    "duration": 167,
    "start_time": "2021-12-12T11:52:07.623Z"
   },
   {
    "duration": 23,
    "start_time": "2021-12-12T11:52:12.344Z"
   },
   {
    "duration": 26,
    "start_time": "2021-12-12T11:53:06.851Z"
   },
   {
    "duration": 40,
    "start_time": "2021-12-12T12:30:17.029Z"
   },
   {
    "duration": 19,
    "start_time": "2021-12-12T12:30:30.869Z"
   },
   {
    "duration": 465,
    "start_time": "2021-12-12T12:30:41.531Z"
   },
   {
    "duration": 27,
    "start_time": "2021-12-12T12:30:45.075Z"
   },
   {
    "duration": 549,
    "start_time": "2021-12-12T12:31:05.272Z"
   },
   {
    "duration": 14,
    "start_time": "2021-12-12T12:31:15.896Z"
   },
   {
    "duration": 25,
    "start_time": "2021-12-12T12:31:16.299Z"
   },
   {
    "duration": 77,
    "start_time": "2021-12-12T12:56:59.547Z"
   },
   {
    "duration": 65,
    "start_time": "2021-12-12T12:57:07.186Z"
   },
   {
    "duration": 70,
    "start_time": "2021-12-12T12:57:21.874Z"
   },
   {
    "duration": 63,
    "start_time": "2021-12-12T12:57:29.633Z"
   },
   {
    "duration": 348,
    "start_time": "2021-12-12T12:57:40.332Z"
   },
   {
    "duration": 56,
    "start_time": "2021-12-12T12:58:42.225Z"
   },
   {
    "duration": 771,
    "start_time": "2021-12-12T13:12:33.885Z"
   },
   {
    "duration": 70,
    "start_time": "2021-12-12T13:12:49.759Z"
   },
   {
    "duration": 4,
    "start_time": "2021-12-12T13:48:31.970Z"
   },
   {
    "duration": 127,
    "start_time": "2021-12-12T13:48:48.739Z"
   },
   {
    "duration": 5,
    "start_time": "2021-12-12T13:48:53.549Z"
   },
   {
    "duration": 540,
    "start_time": "2021-12-12T17:01:47.818Z"
   },
   {
    "duration": 3,
    "start_time": "2021-12-12T17:02:14.852Z"
   },
   {
    "duration": 452,
    "start_time": "2021-12-12T17:02:21.042Z"
   },
   {
    "duration": 456,
    "start_time": "2021-12-12T17:02:38.609Z"
   },
   {
    "duration": 705,
    "start_time": "2021-12-12T17:02:57.096Z"
   },
   {
    "duration": 384,
    "start_time": "2021-12-12T17:03:12.090Z"
   },
   {
    "duration": 4,
    "start_time": "2021-12-12T17:03:20.090Z"
   },
   {
    "duration": 503,
    "start_time": "2021-12-12T17:03:20.298Z"
   },
   {
    "duration": 7,
    "start_time": "2021-12-12T17:03:21.372Z"
   },
   {
    "duration": 21,
    "start_time": "2021-12-12T17:03:21.592Z"
   },
   {
    "duration": 13,
    "start_time": "2021-12-12T17:03:22.006Z"
   },
   {
    "duration": 27,
    "start_time": "2021-12-12T17:03:22.474Z"
   },
   {
    "duration": 24,
    "start_time": "2021-12-12T17:03:23.115Z"
   },
   {
    "duration": 415,
    "start_time": "2021-12-12T17:03:23.586Z"
   },
   {
    "duration": 84,
    "start_time": "2021-12-12T17:03:24.005Z"
   },
   {
    "duration": 380,
    "start_time": "2021-12-12T17:03:25.866Z"
   },
   {
    "duration": 513,
    "start_time": "2021-12-12T17:03:30.330Z"
   },
   {
    "duration": 65,
    "start_time": "2021-12-12T17:03:34.177Z"
   },
   {
    "duration": 490,
    "start_time": "2021-12-12T17:03:42.040Z"
   },
   {
    "duration": 471,
    "start_time": "2021-12-12T17:03:50.117Z"
   },
   {
    "duration": 86,
    "start_time": "2021-12-12T17:04:16.311Z"
   },
   {
    "duration": 3,
    "start_time": "2021-12-12T17:04:22.695Z"
   },
   {
    "duration": 384,
    "start_time": "2021-12-12T17:04:23.233Z"
   },
   {
    "duration": 726,
    "start_time": "2021-12-12T17:04:59.140Z"
   },
   {
    "duration": 551,
    "start_time": "2021-12-12T17:05:58.656Z"
   },
   {
    "duration": 11,
    "start_time": "2021-12-12T17:08:16.699Z"
   },
   {
    "duration": 54,
    "start_time": "2021-12-12T17:08:21.422Z"
   },
   {
    "duration": 3,
    "start_time": "2021-12-12T17:08:22.137Z"
   },
   {
    "duration": 911,
    "start_time": "2021-12-12T17:08:22.555Z"
   },
   {
    "duration": 927,
    "start_time": "2021-12-12T17:10:42.833Z"
   },
   {
    "duration": 1585,
    "start_time": "2021-12-12T17:10:46.475Z"
   },
   {
    "duration": 383,
    "start_time": "2021-12-12T17:10:52.123Z"
   },
   {
    "duration": 171439,
    "start_time": "2021-12-12T17:10:59.544Z"
   },
   {
    "duration": 926,
    "start_time": "2021-12-12T17:14:12.534Z"
   },
   {
    "duration": 4,
    "start_time": "2021-12-12T17:14:19.609Z"
   },
   {
    "duration": 1168,
    "start_time": "2021-12-12T17:14:19.793Z"
   },
   {
    "duration": 4,
    "start_time": "2021-12-12T17:14:24.741Z"
   },
   {
    "duration": 1230,
    "start_time": "2021-12-12T17:14:24.932Z"
   },
   {
    "duration": 4,
    "start_time": "2021-12-12T17:14:30.705Z"
   },
   {
    "duration": 1028,
    "start_time": "2021-12-12T17:14:30.942Z"
   },
   {
    "duration": 4,
    "start_time": "2021-12-12T17:14:39.355Z"
   },
   {
    "duration": 868,
    "start_time": "2021-12-12T17:14:39.693Z"
   },
   {
    "duration": 135,
    "start_time": "2021-12-12T17:14:46.291Z"
   },
   {
    "duration": 896,
    "start_time": "2021-12-12T17:14:46.665Z"
   },
   {
    "duration": 4,
    "start_time": "2021-12-12T17:14:50.576Z"
   },
   {
    "duration": 934,
    "start_time": "2021-12-12T17:14:51.131Z"
   },
   {
    "duration": 8,
    "start_time": "2021-12-12T17:14:57.948Z"
   },
   {
    "duration": 774,
    "start_time": "2021-12-12T17:14:58.287Z"
   },
   {
    "duration": 5,
    "start_time": "2021-12-12T17:15:05.405Z"
   },
   {
    "duration": 1957,
    "start_time": "2021-12-12T17:15:06.003Z"
   },
   {
    "duration": 3,
    "start_time": "2021-12-12T17:15:11.467Z"
   },
   {
    "duration": 799,
    "start_time": "2021-12-12T17:15:11.861Z"
   },
   {
    "duration": 3,
    "start_time": "2021-12-12T17:15:18.718Z"
   },
   {
    "duration": 966,
    "start_time": "2021-12-12T17:15:19.095Z"
   },
   {
    "duration": 3,
    "start_time": "2021-12-12T17:16:21.051Z"
   },
   {
    "duration": 815,
    "start_time": "2021-12-12T17:16:21.351Z"
   },
   {
    "duration": 37,
    "start_time": "2021-12-12T17:18:27.931Z"
   },
   {
    "duration": 411,
    "start_time": "2021-12-12T17:18:29.164Z"
   },
   {
    "duration": 572,
    "start_time": "2021-12-12T17:18:59.168Z"
   },
   {
    "duration": 4,
    "start_time": "2021-12-12T17:23:26.426Z"
   },
   {
    "duration": 454,
    "start_time": "2021-12-12T17:23:27.486Z"
   },
   {
    "duration": 4,
    "start_time": "2021-12-12T17:29:59.805Z"
   },
   {
    "duration": 434,
    "start_time": "2021-12-12T17:30:00.307Z"
   },
   {
    "duration": 413,
    "start_time": "2021-12-12T17:30:50.911Z"
   },
   {
    "duration": 413,
    "start_time": "2021-12-12T17:30:51.625Z"
   },
   {
    "duration": 4,
    "start_time": "2021-12-12T17:31:00.393Z"
   },
   {
    "duration": 385,
    "start_time": "2021-12-12T17:31:02.279Z"
   },
   {
    "duration": 3,
    "start_time": "2021-12-12T17:31:08.358Z"
   },
   {
    "duration": 251,
    "start_time": "2021-12-12T17:31:08.723Z"
   },
   {
    "duration": 4,
    "start_time": "2021-12-12T17:31:18.183Z"
   },
   {
    "duration": 845,
    "start_time": "2021-12-12T17:31:18.535Z"
   },
   {
    "duration": 5,
    "start_time": "2021-12-12T17:32:06.477Z"
   },
   {
    "duration": 967,
    "start_time": "2021-12-12T17:32:07.903Z"
   },
   {
    "duration": 3,
    "start_time": "2021-12-12T17:32:12.954Z"
   },
   {
    "duration": 753,
    "start_time": "2021-12-12T17:32:14.750Z"
   },
   {
    "duration": 3,
    "start_time": "2021-12-12T17:32:22.939Z"
   },
   {
    "duration": 897,
    "start_time": "2021-12-12T17:32:23.163Z"
   },
   {
    "duration": 462,
    "start_time": "2021-12-12T17:32:36.517Z"
   },
   {
    "duration": 380,
    "start_time": "2021-12-12T17:32:36.602Z"
   },
   {
    "duration": 547,
    "start_time": "2021-12-12T17:32:43.579Z"
   },
   {
    "duration": 369,
    "start_time": "2021-12-12T17:32:43.761Z"
   },
   {
    "duration": 3,
    "start_time": "2021-12-12T17:32:51.655Z"
   },
   {
    "duration": 835,
    "start_time": "2021-12-12T17:32:53.935Z"
   },
   {
    "duration": 4,
    "start_time": "2021-12-12T17:32:57.732Z"
   },
   {
    "duration": 760,
    "start_time": "2021-12-12T17:32:57.920Z"
   },
   {
    "duration": 4,
    "start_time": "2021-12-12T17:33:05.508Z"
   },
   {
    "duration": 693,
    "start_time": "2021-12-12T17:33:05.768Z"
   },
   {
    "duration": 4,
    "start_time": "2021-12-12T17:33:11.574Z"
   },
   {
    "duration": 1106,
    "start_time": "2021-12-12T17:33:12.358Z"
   },
   {
    "duration": 4,
    "start_time": "2021-12-12T17:33:17.469Z"
   },
   {
    "duration": 838,
    "start_time": "2021-12-12T17:33:18.723Z"
   },
   {
    "duration": 42,
    "start_time": "2021-12-12T17:35:55.998Z"
   },
   {
    "duration": 39,
    "start_time": "2021-12-12T17:36:03.099Z"
   },
   {
    "duration": 4,
    "start_time": "2021-12-12T17:36:04.204Z"
   },
   {
    "duration": 808,
    "start_time": "2021-12-12T17:36:04.552Z"
   },
   {
    "duration": 388,
    "start_time": "2021-12-12T17:36:26.450Z"
   },
   {
    "duration": 4,
    "start_time": "2021-12-12T17:36:26.864Z"
   },
   {
    "duration": 926,
    "start_time": "2021-12-12T17:36:27.248Z"
   },
   {
    "duration": 647,
    "start_time": "2021-12-12T17:37:24.074Z"
   },
   {
    "duration": 1414,
    "start_time": "2021-12-12T17:38:00.736Z"
   },
   {
    "duration": 462,
    "start_time": "2021-12-12T17:38:02.153Z"
   },
   {
    "duration": 9,
    "start_time": "2021-12-12T17:38:02.619Z"
   },
   {
    "duration": 42,
    "start_time": "2021-12-12T17:38:02.631Z"
   },
   {
    "duration": 25,
    "start_time": "2021-12-12T17:38:02.675Z"
   },
   {
    "duration": 67,
    "start_time": "2021-12-12T17:38:02.703Z"
   },
   {
    "duration": 40,
    "start_time": "2021-12-12T17:38:02.773Z"
   },
   {
    "duration": 391,
    "start_time": "2021-12-12T17:38:02.818Z"
   },
   {
    "duration": 91,
    "start_time": "2021-12-12T17:38:03.212Z"
   },
   {
    "duration": 14,
    "start_time": "2021-12-12T17:38:03.306Z"
   },
   {
    "duration": 72,
    "start_time": "2021-12-12T17:38:03.324Z"
   },
   {
    "duration": 60,
    "start_time": "2021-12-12T17:38:04.565Z"
   },
   {
    "duration": 22,
    "start_time": "2021-12-12T17:38:07.219Z"
   },
   {
    "duration": 929,
    "start_time": "2021-12-12T17:38:07.432Z"
   },
   {
    "duration": 4,
    "start_time": "2021-12-12T17:38:13.257Z"
   },
   {
    "duration": 756,
    "start_time": "2021-12-12T17:38:13.432Z"
   },
   {
    "duration": 171,
    "start_time": "2021-12-13T15:33:45.500Z"
   },
   {
    "duration": 459,
    "start_time": "2021-12-13T15:33:50.849Z"
   },
   {
    "duration": 666,
    "start_time": "2021-12-13T15:33:55.601Z"
   },
   {
    "duration": 173,
    "start_time": "2021-12-13T15:33:56.097Z"
   },
   {
    "duration": 1455,
    "start_time": "2021-12-13T15:33:59.833Z"
   },
   {
    "duration": 549,
    "start_time": "2021-12-13T15:34:01.291Z"
   },
   {
    "duration": 32,
    "start_time": "2021-12-13T15:34:01.842Z"
   },
   {
    "duration": 65,
    "start_time": "2021-12-13T15:34:47.449Z"
   },
   {
    "duration": 61,
    "start_time": "2021-12-13T15:35:19.002Z"
   },
   {
    "duration": 63,
    "start_time": "2021-12-13T15:35:19.272Z"
   },
   {
    "duration": 22,
    "start_time": "2021-12-13T15:36:02.486Z"
   },
   {
    "duration": 29,
    "start_time": "2021-12-13T15:36:02.917Z"
   },
   {
    "duration": 23,
    "start_time": "2021-12-13T15:36:03.375Z"
   },
   {
    "duration": 20,
    "start_time": "2021-12-13T15:46:07.268Z"
   },
   {
    "duration": 24,
    "start_time": "2021-12-13T15:46:23.984Z"
   },
   {
    "duration": 120,
    "start_time": "2021-12-13T15:47:50.237Z"
   },
   {
    "duration": 62,
    "start_time": "2021-12-13T15:47:59.119Z"
   },
   {
    "duration": 461,
    "start_time": "2021-12-13T15:50:40.014Z"
   },
   {
    "duration": 27,
    "start_time": "2021-12-13T15:50:42.309Z"
   },
   {
    "duration": 546,
    "start_time": "2021-12-13T15:50:48.903Z"
   },
   {
    "duration": 25,
    "start_time": "2021-12-13T15:50:52.761Z"
   },
   {
    "duration": 63,
    "start_time": "2021-12-13T15:50:53.509Z"
   },
   {
    "duration": 135,
    "start_time": "2021-12-13T15:51:09.318Z"
   },
   {
    "duration": 128,
    "start_time": "2021-12-13T15:51:17.005Z"
   },
   {
    "duration": 119,
    "start_time": "2021-12-13T15:51:29.555Z"
   },
   {
    "duration": 53,
    "start_time": "2021-12-13T15:51:31.661Z"
   },
   {
    "duration": 439,
    "start_time": "2021-12-13T15:58:06.248Z"
   },
   {
    "duration": 479,
    "start_time": "2021-12-13T15:58:14.458Z"
   },
   {
    "duration": 22,
    "start_time": "2021-12-13T15:58:15.025Z"
   },
   {
    "duration": 66,
    "start_time": "2021-12-13T15:58:18.041Z"
   },
   {
    "duration": 134,
    "start_time": "2021-12-13T15:58:19.229Z"
   },
   {
    "duration": 373,
    "start_time": "2021-12-13T15:58:19.985Z"
   },
   {
    "duration": 18,
    "start_time": "2021-12-13T15:58:26.610Z"
   },
   {
    "duration": 931,
    "start_time": "2021-12-13T15:59:31.367Z"
   },
   {
    "duration": 400,
    "start_time": "2021-12-13T15:59:44.001Z"
   },
   {
    "duration": 29,
    "start_time": "2021-12-13T15:59:54.677Z"
   },
   {
    "duration": 407,
    "start_time": "2021-12-13T16:01:14.915Z"
   },
   {
    "duration": 414,
    "start_time": "2021-12-13T16:01:26.153Z"
   },
   {
    "duration": 38,
    "start_time": "2021-12-13T16:01:39.712Z"
   },
   {
    "duration": 381,
    "start_time": "2021-12-13T16:18:51.472Z"
   },
   {
    "duration": 4,
    "start_time": "2021-12-13T16:18:54.439Z"
   },
   {
    "duration": 743,
    "start_time": "2021-12-13T16:18:54.449Z"
   },
   {
    "duration": 4,
    "start_time": "2021-12-13T16:19:18.432Z"
   },
   {
    "duration": 34,
    "start_time": "2021-12-13T16:19:18.683Z"
   },
   {
    "duration": 363,
    "start_time": "2021-12-13T16:40:16.588Z"
   },
   {
    "duration": 28,
    "start_time": "2021-12-13T16:40:38.889Z"
   },
   {
    "duration": 3,
    "start_time": "2021-12-13T16:40:42.047Z"
   },
   {
    "duration": 116,
    "start_time": "2021-12-13T16:40:42.483Z"
   },
   {
    "duration": 5,
    "start_time": "2021-12-13T16:41:44.630Z"
   },
   {
    "duration": 5,
    "start_time": "2021-12-13T16:58:09.156Z"
   },
   {
    "duration": 801,
    "start_time": "2021-12-13T16:58:10.537Z"
   },
   {
    "duration": 1070,
    "start_time": "2021-12-13T16:59:32.657Z"
   },
   {
    "duration": 5,
    "start_time": "2021-12-13T16:59:34.514Z"
   },
   {
    "duration": 754,
    "start_time": "2021-12-13T16:59:34.752Z"
   },
   {
    "duration": 5,
    "start_time": "2021-12-13T16:59:47.124Z"
   },
   {
    "duration": 39,
    "start_time": "2021-12-13T16:59:47.545Z"
   },
   {
    "duration": 953,
    "start_time": "2021-12-14T10:40:15.154Z"
   },
   {
    "duration": 391,
    "start_time": "2021-12-14T10:40:16.109Z"
   },
   {
    "duration": 28,
    "start_time": "2021-12-14T10:40:16.503Z"
   },
   {
    "duration": 63,
    "start_time": "2021-12-14T10:40:16.532Z"
   },
   {
    "duration": 112,
    "start_time": "2021-12-14T10:40:16.597Z"
   },
   {
    "duration": 37,
    "start_time": "2021-12-14T10:40:19.113Z"
   },
   {
    "duration": 13,
    "start_time": "2021-12-14T10:40:27.055Z"
   },
   {
    "duration": 4,
    "start_time": "2021-12-14T10:52:29.564Z"
   },
   {
    "duration": 41,
    "start_time": "2021-12-14T10:52:30.006Z"
   },
   {
    "duration": 358,
    "start_time": "2021-12-14T10:57:14.369Z"
   },
   {
    "duration": 20,
    "start_time": "2021-12-14T10:57:14.709Z"
   },
   {
    "duration": 186,
    "start_time": "2021-12-14T10:57:14.948Z"
   },
   {
    "duration": 162,
    "start_time": "2021-12-14T11:02:50.579Z"
   },
   {
    "duration": 15,
    "start_time": "2021-12-14T11:03:13.873Z"
   },
   {
    "duration": 5,
    "start_time": "2021-12-14T11:05:07.213Z"
   },
   {
    "duration": 186,
    "start_time": "2021-12-14T11:06:42.228Z"
   },
   {
    "duration": 3,
    "start_time": "2021-12-14T11:06:44.317Z"
   },
   {
    "duration": 25,
    "start_time": "2021-12-14T11:06:44.515Z"
   },
   {
    "duration": 27,
    "start_time": "2021-12-14T11:07:28.015Z"
   },
   {
    "duration": 350,
    "start_time": "2021-12-14T11:08:21.889Z"
   },
   {
    "duration": 4,
    "start_time": "2021-12-14T11:08:25.153Z"
   },
   {
    "duration": 433,
    "start_time": "2021-12-14T11:08:25.372Z"
   },
   {
    "duration": 3,
    "start_time": "2021-12-14T11:08:32.738Z"
   },
   {
    "duration": 20,
    "start_time": "2021-12-14T11:08:35.520Z"
   },
   {
    "duration": 3,
    "start_time": "2021-12-14T12:20:27.781Z"
   },
   {
    "duration": 108,
    "start_time": "2021-12-14T12:20:29.088Z"
   },
   {
    "duration": 3,
    "start_time": "2021-12-14T14:42:03.540Z"
   },
   {
    "duration": 3,
    "start_time": "2021-12-14T14:42:03.856Z"
   },
   {
    "duration": 395,
    "start_time": "2021-12-14T14:42:09.206Z"
   },
   {
    "duration": 3,
    "start_time": "2021-12-14T14:42:27.988Z"
   },
   {
    "duration": 3,
    "start_time": "2021-12-14T14:42:28.248Z"
   },
   {
    "duration": 462,
    "start_time": "2021-12-14T14:42:28.859Z"
   },
   {
    "duration": 3,
    "start_time": "2021-12-14T14:42:30.619Z"
   },
   {
    "duration": 3,
    "start_time": "2021-12-14T14:42:31.537Z"
   },
   {
    "duration": 54,
    "start_time": "2021-12-14T14:42:31.541Z"
   },
   {
    "duration": 282,
    "start_time": "2021-12-14T16:13:38.002Z"
   },
   {
    "duration": 964,
    "start_time": "2021-12-14T16:13:41.713Z"
   },
   {
    "duration": 378,
    "start_time": "2021-12-14T16:13:42.679Z"
   },
   {
    "duration": 27,
    "start_time": "2021-12-14T16:13:43.060Z"
   },
   {
    "duration": 79,
    "start_time": "2021-12-14T16:13:43.089Z"
   },
   {
    "duration": 106,
    "start_time": "2021-12-14T16:13:43.170Z"
   },
   {
    "duration": 45,
    "start_time": "2021-12-14T16:13:43.278Z"
   },
   {
    "duration": 39,
    "start_time": "2021-12-14T16:13:43.324Z"
   },
   {
    "duration": 15,
    "start_time": "2021-12-14T16:13:43.365Z"
   },
   {
    "duration": 2,
    "start_time": "2021-12-14T16:13:43.383Z"
   },
   {
    "duration": 5,
    "start_time": "2021-12-14T16:13:43.387Z"
   },
   {
    "duration": 35,
    "start_time": "2021-12-14T16:13:46.897Z"
   },
   {
    "duration": 3,
    "start_time": "2021-12-14T16:26:57.754Z"
   },
   {
    "duration": 3,
    "start_time": "2021-12-14T16:26:57.981Z"
   },
   {
    "duration": 376,
    "start_time": "2021-12-14T16:26:58.201Z"
   },
   {
    "duration": 3,
    "start_time": "2021-12-14T16:27:00.973Z"
   },
   {
    "duration": 3,
    "start_time": "2021-12-14T16:27:01.810Z"
   },
   {
    "duration": 133,
    "start_time": "2021-12-14T16:27:02.131Z"
   },
   {
    "duration": 3,
    "start_time": "2021-12-14T16:28:41.821Z"
   },
   {
    "duration": 3,
    "start_time": "2021-12-14T16:28:43.923Z"
   },
   {
    "duration": 115,
    "start_time": "2021-12-14T16:28:46.049Z"
   },
   {
    "duration": 74,
    "start_time": "2021-12-14T16:33:53.071Z"
   },
   {
    "duration": 27,
    "start_time": "2021-12-14T16:33:57.448Z"
   },
   {
    "duration": 3,
    "start_time": "2021-12-14T16:33:58.646Z"
   },
   {
    "duration": 5,
    "start_time": "2021-12-14T16:33:59.374Z"
   },
   {
    "duration": 224,
    "start_time": "2021-12-14T16:33:59.955Z"
   },
   {
    "duration": 2,
    "start_time": "2021-12-14T16:34:14.933Z"
   },
   {
    "duration": 403,
    "start_time": "2021-12-14T16:34:14.937Z"
   },
   {
    "duration": 23,
    "start_time": "2021-12-14T16:34:15.343Z"
   },
   {
    "duration": 65,
    "start_time": "2021-12-14T16:34:15.369Z"
   },
   {
    "duration": 106,
    "start_time": "2021-12-14T16:34:15.435Z"
   },
   {
    "duration": 43,
    "start_time": "2021-12-14T16:34:15.542Z"
   },
   {
    "duration": 64,
    "start_time": "2021-12-14T16:34:15.587Z"
   },
   {
    "duration": 34,
    "start_time": "2021-12-14T16:34:15.653Z"
   },
   {
    "duration": 2,
    "start_time": "2021-12-14T16:34:15.689Z"
   },
   {
    "duration": 11,
    "start_time": "2021-12-14T16:34:15.693Z"
   },
   {
    "duration": 63,
    "start_time": "2021-12-14T16:34:17.406Z"
   },
   {
    "duration": 49,
    "start_time": "2021-12-14T16:34:34.917Z"
   },
   {
    "duration": 290,
    "start_time": "2021-12-14T16:34:35.075Z"
   },
   {
    "duration": 31,
    "start_time": "2021-12-14T16:35:02.365Z"
   },
   {
    "duration": 59,
    "start_time": "2021-12-14T16:35:02.641Z"
   },
   {
    "duration": 21,
    "start_time": "2021-12-14T16:35:03.376Z"
   },
   {
    "duration": 3,
    "start_time": "2021-12-14T16:35:04.860Z"
   },
   {
    "duration": 3,
    "start_time": "2021-12-14T16:35:05.089Z"
   },
   {
    "duration": 100,
    "start_time": "2021-12-14T16:35:05.467Z"
   },
   {
    "duration": 171,
    "start_time": "2021-12-14T16:35:06.093Z"
   },
   {
    "duration": 102,
    "start_time": "2021-12-14T16:35:06.364Z"
   },
   {
    "duration": 4,
    "start_time": "2021-12-14T16:35:29.236Z"
   },
   {
    "duration": 524,
    "start_time": "2021-12-14T16:35:29.242Z"
   },
   {
    "duration": 28,
    "start_time": "2021-12-14T16:35:29.769Z"
   },
   {
    "duration": 95,
    "start_time": "2021-12-14T16:35:29.800Z"
   },
   {
    "duration": 131,
    "start_time": "2021-12-14T16:35:29.898Z"
   },
   {
    "duration": 131,
    "start_time": "2021-12-14T16:35:31.881Z"
   },
   {
    "duration": 41,
    "start_time": "2021-12-14T16:35:32.222Z"
   },
   {
    "duration": 39,
    "start_time": "2021-12-14T16:35:32.758Z"
   },
   {
    "duration": 3,
    "start_time": "2021-12-14T16:35:33.488Z"
   },
   {
    "duration": 3,
    "start_time": "2021-12-14T16:35:33.830Z"
   },
   {
    "duration": 92,
    "start_time": "2021-12-14T16:35:33.979Z"
   },
   {
    "duration": 115,
    "start_time": "2021-12-14T16:35:34.650Z"
   },
   {
    "duration": 100,
    "start_time": "2021-12-14T16:35:35.068Z"
   },
   {
    "duration": 3,
    "start_time": "2021-12-14T16:35:55.669Z"
   },
   {
    "duration": 379,
    "start_time": "2021-12-14T16:35:55.676Z"
   },
   {
    "duration": 22,
    "start_time": "2021-12-14T16:35:56.057Z"
   },
   {
    "duration": 55,
    "start_time": "2021-12-14T16:35:56.081Z"
   },
   {
    "duration": 95,
    "start_time": "2021-12-14T16:35:56.138Z"
   },
   {
    "duration": 47,
    "start_time": "2021-12-14T16:35:56.235Z"
   },
   {
    "duration": 27,
    "start_time": "2021-12-14T16:35:56.284Z"
   },
   {
    "duration": 2,
    "start_time": "2021-12-14T16:35:56.313Z"
   },
   {
    "duration": 6,
    "start_time": "2021-12-14T16:35:56.317Z"
   },
   {
    "duration": 143,
    "start_time": "2021-12-14T16:35:56.325Z"
   },
   {
    "duration": 197,
    "start_time": "2021-12-14T16:35:56.471Z"
   },
   {
    "duration": 293,
    "start_time": "2021-12-14T16:35:56.670Z"
   },
   {
    "duration": 3,
    "start_time": "2021-12-14T16:36:06.615Z"
   },
   {
    "duration": 390,
    "start_time": "2021-12-14T16:36:06.620Z"
   },
   {
    "duration": 19,
    "start_time": "2021-12-14T16:36:07.012Z"
   },
   {
    "duration": 86,
    "start_time": "2021-12-14T16:36:07.034Z"
   },
   {
    "duration": 124,
    "start_time": "2021-12-14T16:36:07.122Z"
   },
   {
    "duration": 146,
    "start_time": "2021-12-14T16:36:07.248Z"
   },
   {
    "duration": 40,
    "start_time": "2021-12-14T16:36:07.396Z"
   },
   {
    "duration": 53,
    "start_time": "2021-12-14T16:36:07.438Z"
   },
   {
    "duration": 3,
    "start_time": "2021-12-14T16:36:07.494Z"
   },
   {
    "duration": 6,
    "start_time": "2021-12-14T16:36:07.499Z"
   },
   {
    "duration": 165,
    "start_time": "2021-12-14T16:36:07.506Z"
   },
   {
    "duration": 295,
    "start_time": "2021-12-14T16:36:07.673Z"
   },
   {
    "duration": 297,
    "start_time": "2021-12-14T16:36:07.970Z"
   },
   {
    "duration": 3,
    "start_time": "2021-12-14T16:36:15.136Z"
   },
   {
    "duration": 370,
    "start_time": "2021-12-14T16:36:15.141Z"
   },
   {
    "duration": 17,
    "start_time": "2021-12-14T16:36:15.513Z"
   },
   {
    "duration": 69,
    "start_time": "2021-12-14T16:36:15.532Z"
   },
   {
    "duration": 88,
    "start_time": "2021-12-14T16:36:15.603Z"
   },
   {
    "duration": 110,
    "start_time": "2021-12-14T16:36:15.693Z"
   },
   {
    "duration": 30,
    "start_time": "2021-12-14T16:36:15.805Z"
   },
   {
    "duration": 39,
    "start_time": "2021-12-14T16:36:15.837Z"
   },
   {
    "duration": 3,
    "start_time": "2021-12-14T16:36:15.878Z"
   },
   {
    "duration": 8,
    "start_time": "2021-12-14T16:36:15.882Z"
   },
   {
    "duration": 180,
    "start_time": "2021-12-14T16:36:15.891Z"
   },
   {
    "duration": 298,
    "start_time": "2021-12-14T16:36:16.074Z"
   },
   {
    "duration": 291,
    "start_time": "2021-12-14T16:36:16.375Z"
   },
   {
    "duration": 3,
    "start_time": "2021-12-14T16:36:23.944Z"
   },
   {
    "duration": 362,
    "start_time": "2021-12-14T16:36:23.949Z"
   },
   {
    "duration": 17,
    "start_time": "2021-12-14T16:36:24.313Z"
   },
   {
    "duration": 60,
    "start_time": "2021-12-14T16:36:24.333Z"
   },
   {
    "duration": 94,
    "start_time": "2021-12-14T16:36:24.394Z"
   },
   {
    "duration": 32,
    "start_time": "2021-12-14T16:36:24.490Z"
   },
   {
    "duration": 27,
    "start_time": "2021-12-14T16:36:24.524Z"
   },
   {
    "duration": 3,
    "start_time": "2021-12-14T16:36:24.563Z"
   },
   {
    "duration": 7,
    "start_time": "2021-12-14T16:36:24.568Z"
   },
   {
    "duration": 105,
    "start_time": "2021-12-14T16:36:24.577Z"
   },
   {
    "duration": 195,
    "start_time": "2021-12-14T16:36:24.767Z"
   },
   {
    "duration": 121,
    "start_time": "2021-12-14T16:36:24.969Z"
   },
   {
    "duration": 65,
    "start_time": "2021-12-14T16:37:03.332Z"
   },
   {
    "duration": 32,
    "start_time": "2021-12-14T16:37:03.696Z"
   },
   {
    "duration": 27,
    "start_time": "2021-12-14T16:37:04.114Z"
   },
   {
    "duration": 2,
    "start_time": "2021-12-14T16:37:06.414Z"
   },
   {
    "duration": 4,
    "start_time": "2021-12-14T16:37:06.648Z"
   },
   {
    "duration": 93,
    "start_time": "2021-12-14T16:37:06.978Z"
   },
   {
    "duration": 74,
    "start_time": "2021-12-14T16:37:07.794Z"
   },
   {
    "duration": 26,
    "start_time": "2021-12-14T16:37:08.546Z"
   },
   {
    "duration": 1009,
    "start_time": "2021-12-14T16:37:29.419Z"
   },
   {
    "duration": 386,
    "start_time": "2021-12-14T16:37:30.431Z"
   },
   {
    "duration": 24,
    "start_time": "2021-12-14T16:37:30.820Z"
   },
   {
    "duration": 52,
    "start_time": "2021-12-14T16:37:30.846Z"
   },
   {
    "duration": 104,
    "start_time": "2021-12-14T16:37:30.900Z"
   },
   {
    "duration": 115,
    "start_time": "2021-12-14T16:37:31.006Z"
   },
   {
    "duration": 33,
    "start_time": "2021-12-14T16:37:31.123Z"
   },
   {
    "duration": 28,
    "start_time": "2021-12-14T16:37:31.163Z"
   },
   {
    "duration": 3,
    "start_time": "2021-12-14T16:37:31.193Z"
   },
   {
    "duration": 29,
    "start_time": "2021-12-14T16:37:31.198Z"
   },
   {
    "duration": 136,
    "start_time": "2021-12-14T16:37:31.229Z"
   },
   {
    "duration": 295,
    "start_time": "2021-12-14T16:37:31.367Z"
   },
   {
    "duration": 202,
    "start_time": "2021-12-14T16:37:33.262Z"
   },
   {
    "duration": 65,
    "start_time": "2021-12-14T16:37:34.002Z"
   },
   {
    "duration": 110,
    "start_time": "2021-12-14T16:39:00.215Z"
   },
   {
    "duration": 412,
    "start_time": "2021-12-14T16:39:10.809Z"
   },
   {
    "duration": 95,
    "start_time": "2021-12-14T16:39:13.923Z"
   },
   {
    "duration": 99,
    "start_time": "2021-12-14T16:39:16.653Z"
   },
   {
    "duration": 98,
    "start_time": "2021-12-14T16:39:32.996Z"
   },
   {
    "duration": 102,
    "start_time": "2021-12-14T16:39:41.292Z"
   },
   {
    "duration": 97,
    "start_time": "2021-12-14T16:39:47.623Z"
   },
   {
    "duration": 98,
    "start_time": "2021-12-14T16:39:50.676Z"
   },
   {
    "duration": 95,
    "start_time": "2021-12-14T16:40:18.934Z"
   },
   {
    "duration": 104,
    "start_time": "2021-12-14T16:40:30.375Z"
   },
   {
    "duration": 22,
    "start_time": "2021-12-14T16:40:30.852Z"
   },
   {
    "duration": 397,
    "start_time": "2021-12-14T16:40:31.539Z"
   },
   {
    "duration": 238,
    "start_time": "2021-12-14T16:40:35.442Z"
   },
   {
    "duration": 20,
    "start_time": "2021-12-14T16:40:37.383Z"
   },
   {
    "duration": 225,
    "start_time": "2021-12-14T16:40:38.850Z"
   },
   {
    "duration": 30,
    "start_time": "2021-12-14T16:40:47.845Z"
   },
   {
    "duration": 20,
    "start_time": "2021-12-14T16:40:48.332Z"
   },
   {
    "duration": 231,
    "start_time": "2021-12-14T16:40:48.946Z"
   },
   {
    "duration": 3,
    "start_time": "2021-12-14T16:40:55.745Z"
   },
   {
    "duration": 393,
    "start_time": "2021-12-14T16:40:55.750Z"
   },
   {
    "duration": 19,
    "start_time": "2021-12-14T16:40:56.145Z"
   },
   {
    "duration": 53,
    "start_time": "2021-12-14T16:40:56.166Z"
   },
   {
    "duration": 111,
    "start_time": "2021-12-14T16:40:56.221Z"
   },
   {
    "duration": 91,
    "start_time": "2021-12-14T16:40:57.037Z"
   },
   {
    "duration": 27,
    "start_time": "2021-12-14T16:40:57.564Z"
   },
   {
    "duration": 249,
    "start_time": "2021-12-14T16:40:58.390Z"
   },
   {
    "duration": 3,
    "start_time": "2021-12-14T16:41:23.848Z"
   },
   {
    "duration": 360,
    "start_time": "2021-12-14T16:41:23.853Z"
   },
   {
    "duration": 17,
    "start_time": "2021-12-14T16:41:24.215Z"
   },
   {
    "duration": 57,
    "start_time": "2021-12-14T16:41:24.233Z"
   },
   {
    "duration": 89,
    "start_time": "2021-12-14T16:41:24.292Z"
   },
   {
    "duration": 78,
    "start_time": "2021-12-14T16:41:24.772Z"
   },
   {
    "duration": 90,
    "start_time": "2021-12-14T16:41:25.024Z"
   },
   {
    "duration": 27,
    "start_time": "2021-12-14T16:41:25.601Z"
   },
   {
    "duration": 232,
    "start_time": "2021-12-14T16:41:27.491Z"
   },
   {
    "duration": 37,
    "start_time": "2021-12-14T16:42:15.012Z"
   },
   {
    "duration": 252,
    "start_time": "2021-12-14T16:42:44.594Z"
   },
   {
    "duration": 2,
    "start_time": "2021-12-14T16:43:00.338Z"
   },
   {
    "duration": 253,
    "start_time": "2021-12-14T16:43:00.837Z"
   },
   {
    "duration": 43,
    "start_time": "2021-12-14T16:43:56.162Z"
   },
   {
    "duration": 18,
    "start_time": "2021-12-14T16:43:57.319Z"
   },
   {
    "duration": 260,
    "start_time": "2021-12-14T16:43:58.113Z"
   },
   {
    "duration": 44,
    "start_time": "2021-12-14T16:44:04.762Z"
   },
   {
    "duration": 21,
    "start_time": "2021-12-14T16:44:06.551Z"
   },
   {
    "duration": 243,
    "start_time": "2021-12-14T16:44:07.298Z"
   },
   {
    "duration": 3,
    "start_time": "2021-12-14T16:44:12.605Z"
   },
   {
    "duration": 403,
    "start_time": "2021-12-14T16:44:12.609Z"
   },
   {
    "duration": 19,
    "start_time": "2021-12-14T16:44:13.014Z"
   },
   {
    "duration": 57,
    "start_time": "2021-12-14T16:44:13.035Z"
   },
   {
    "duration": 93,
    "start_time": "2021-12-14T16:44:13.094Z"
   },
   {
    "duration": 109,
    "start_time": "2021-12-14T16:44:14.418Z"
   },
   {
    "duration": 12,
    "start_time": "2021-12-14T16:44:18.631Z"
   },
   {
    "duration": 52,
    "start_time": "2021-12-14T16:44:26.324Z"
   },
   {
    "duration": 2,
    "start_time": "2021-12-14T16:44:28.170Z"
   },
   {
    "duration": 3,
    "start_time": "2021-12-14T16:44:28.524Z"
   },
   {
    "duration": 485,
    "start_time": "2021-12-14T16:44:28.896Z"
   },
   {
    "duration": 12,
    "start_time": "2021-12-14T16:44:49.907Z"
   },
   {
    "duration": 103,
    "start_time": "2021-12-14T16:44:52.771Z"
   },
   {
    "duration": 33,
    "start_time": "2021-12-14T16:44:53.204Z"
   },
   {
    "duration": 10,
    "start_time": "2021-12-14T16:44:53.674Z"
   },
   {
    "duration": 32,
    "start_time": "2021-12-14T16:44:55.523Z"
   },
   {
    "duration": 3,
    "start_time": "2021-12-14T16:44:55.919Z"
   },
   {
    "duration": 3,
    "start_time": "2021-12-14T16:44:56.289Z"
   },
   {
    "duration": 536,
    "start_time": "2021-12-14T16:44:56.770Z"
   },
   {
    "duration": 3,
    "start_time": "2021-12-14T16:45:12.744Z"
   },
   {
    "duration": 381,
    "start_time": "2021-12-14T16:45:12.749Z"
   },
   {
    "duration": 17,
    "start_time": "2021-12-14T16:45:13.132Z"
   },
   {
    "duration": 53,
    "start_time": "2021-12-14T16:45:13.151Z"
   },
   {
    "duration": 95,
    "start_time": "2021-12-14T16:45:13.206Z"
   },
   {
    "duration": 116,
    "start_time": "2021-12-14T16:45:13.303Z"
   },
   {
    "duration": 42,
    "start_time": "2021-12-14T16:45:13.421Z"
   },
   {
    "duration": 10,
    "start_time": "2021-12-14T16:45:13.465Z"
   },
   {
    "duration": 28,
    "start_time": "2021-12-14T16:45:16.103Z"
   },
   {
    "duration": 3,
    "start_time": "2021-12-14T16:45:16.772Z"
   },
   {
    "duration": 3,
    "start_time": "2021-12-14T16:45:17.074Z"
   },
   {
    "duration": 497,
    "start_time": "2021-12-14T16:45:17.452Z"
   },
   {
    "duration": 486,
    "start_time": "2021-12-14T16:46:01.324Z"
   },
   {
    "duration": 498,
    "start_time": "2021-12-14T16:46:01.905Z"
   },
   {
    "duration": 506,
    "start_time": "2021-12-14T16:46:02.769Z"
   },
   {
    "duration": 100,
    "start_time": "2021-12-14T16:46:22.223Z"
   },
   {
    "duration": 51468,
    "start_time": "2021-12-14T16:47:16.122Z"
   },
   {
    "duration": 7416,
    "start_time": "2021-12-14T16:49:15.933Z"
   },
   {
    "duration": 12,
    "start_time": "2021-12-14T16:49:35.639Z"
   },
   {
    "duration": 74,
    "start_time": "2021-12-14T16:49:38.623Z"
   },
   {
    "duration": 17,
    "start_time": "2021-12-14T16:49:39.886Z"
   },
   {
    "duration": 241,
    "start_time": "2021-12-14T16:49:46.757Z"
   },
   {
    "duration": 3,
    "start_time": "2021-12-14T16:50:27.012Z"
   },
   {
    "duration": 363,
    "start_time": "2021-12-14T16:50:27.017Z"
   },
   {
    "duration": 17,
    "start_time": "2021-12-14T16:50:27.383Z"
   },
   {
    "duration": 75,
    "start_time": "2021-12-14T16:50:27.402Z"
   },
   {
    "duration": 88,
    "start_time": "2021-12-14T16:50:27.478Z"
   },
   {
    "duration": 12,
    "start_time": "2021-12-14T16:50:28.487Z"
   },
   {
    "duration": 200,
    "start_time": "2021-12-14T16:51:51.272Z"
   },
   {
    "duration": 40,
    "start_time": "2021-12-14T16:51:53.152Z"
   },
   {
    "duration": 33,
    "start_time": "2021-12-14T16:52:01.325Z"
   },
   {
    "duration": 28,
    "start_time": "2021-12-14T16:52:18.672Z"
   },
   {
    "duration": 27,
    "start_time": "2021-12-14T16:52:22.739Z"
   },
   {
    "duration": 28,
    "start_time": "2021-12-14T16:52:32.672Z"
   },
   {
    "duration": 16,
    "start_time": "2021-12-14T16:52:46.962Z"
   },
   {
    "duration": 35,
    "start_time": "2021-12-14T16:52:47.020Z"
   },
   {
    "duration": 26,
    "start_time": "2021-12-14T16:52:49.415Z"
   },
   {
    "duration": 3,
    "start_time": "2021-12-14T16:52:50.035Z"
   },
   {
    "duration": 4,
    "start_time": "2021-12-14T16:52:50.377Z"
   },
   {
    "duration": 152,
    "start_time": "2021-12-14T16:52:50.612Z"
   },
   {
    "duration": 87,
    "start_time": "2021-12-14T16:52:51.782Z"
   },
   {
    "duration": 287,
    "start_time": "2021-12-14T16:52:52.279Z"
   },
   {
    "duration": 94,
    "start_time": "2021-12-14T16:53:10.549Z"
   },
   {
    "duration": 37,
    "start_time": "2021-12-14T16:53:11.169Z"
   },
   {
    "duration": 25,
    "start_time": "2021-12-14T16:53:14.281Z"
   },
   {
    "duration": 3,
    "start_time": "2021-12-14T16:53:17.039Z"
   },
   {
    "duration": 3,
    "start_time": "2021-12-14T16:53:17.330Z"
   },
   {
    "duration": 68,
    "start_time": "2021-12-14T16:53:17.599Z"
   },
   {
    "duration": 55,
    "start_time": "2021-12-14T16:53:20.711Z"
   },
   {
    "duration": 78,
    "start_time": "2021-12-14T16:53:21.189Z"
   },
   {
    "duration": 97,
    "start_time": "2021-12-14T16:53:23.171Z"
   },
   {
    "duration": 3,
    "start_time": "2021-12-14T16:53:51.807Z"
   },
   {
    "duration": 360,
    "start_time": "2021-12-14T16:53:51.811Z"
   },
   {
    "duration": 18,
    "start_time": "2021-12-14T16:53:52.173Z"
   },
   {
    "duration": 55,
    "start_time": "2021-12-14T16:53:52.193Z"
   },
   {
    "duration": 82,
    "start_time": "2021-12-14T16:53:52.250Z"
   },
   {
    "duration": 40,
    "start_time": "2021-12-14T16:53:52.334Z"
   },
   {
    "duration": 31,
    "start_time": "2021-12-14T16:53:52.376Z"
   },
   {
    "duration": 25,
    "start_time": "2021-12-14T16:53:52.409Z"
   },
   {
    "duration": 3,
    "start_time": "2021-12-14T16:53:52.436Z"
   },
   {
    "duration": 3,
    "start_time": "2021-12-14T16:53:53.716Z"
   },
   {
    "duration": 56,
    "start_time": "2021-12-14T16:53:54.211Z"
   },
   {
    "duration": 37,
    "start_time": "2021-12-14T16:53:55.434Z"
   },
   {
    "duration": 96,
    "start_time": "2021-12-14T16:53:56.572Z"
   },
   {
    "duration": 29,
    "start_time": "2021-12-14T16:55:11.072Z"
   },
   {
    "duration": 50,
    "start_time": "2021-12-14T16:55:11.464Z"
   },
   {
    "duration": 35,
    "start_time": "2021-12-14T16:55:12.103Z"
   },
   {
    "duration": 26,
    "start_time": "2021-12-14T16:55:13.855Z"
   },
   {
    "duration": 3,
    "start_time": "2021-12-14T16:55:14.684Z"
   },
   {
    "duration": 3,
    "start_time": "2021-12-14T16:55:15.173Z"
   },
   {
    "duration": 2,
    "start_time": "2021-12-14T16:55:24.155Z"
   },
   {
    "duration": 393,
    "start_time": "2021-12-14T16:55:24.159Z"
   },
   {
    "duration": 19,
    "start_time": "2021-12-14T16:55:24.554Z"
   },
   {
    "duration": 61,
    "start_time": "2021-12-14T16:55:24.575Z"
   },
   {
    "duration": 106,
    "start_time": "2021-12-14T16:55:24.638Z"
   },
   {
    "duration": 31,
    "start_time": "2021-12-14T16:55:27.541Z"
   },
   {
    "duration": 56,
    "start_time": "2021-12-14T16:55:28.062Z"
   },
   {
    "duration": 38,
    "start_time": "2021-12-14T16:55:28.290Z"
   },
   {
    "duration": 29,
    "start_time": "2021-12-14T16:55:28.876Z"
   },
   {
    "duration": 2,
    "start_time": "2021-12-14T16:55:30.553Z"
   },
   {
    "duration": 3,
    "start_time": "2021-12-14T16:55:30.911Z"
   },
   {
    "duration": 105,
    "start_time": "2021-12-14T16:55:31.762Z"
   },
   {
    "duration": 94,
    "start_time": "2021-12-14T16:55:34.276Z"
   },
   {
    "duration": 96,
    "start_time": "2021-12-14T16:55:35.972Z"
   },
   {
    "duration": 3,
    "start_time": "2021-12-14T16:58:21.074Z"
   },
   {
    "duration": 238,
    "start_time": "2021-12-14T16:58:21.278Z"
   },
   {
    "duration": 537,
    "start_time": "2021-12-14T16:59:26.012Z"
   },
   {
    "duration": 3,
    "start_time": "2021-12-14T17:03:43.781Z"
   },
   {
    "duration": 28,
    "start_time": "2021-12-14T17:03:46.658Z"
   },
   {
    "duration": 3,
    "start_time": "2021-12-14T17:05:23.146Z"
   },
   {
    "duration": 27,
    "start_time": "2021-12-14T17:05:24.591Z"
   },
   {
    "duration": 4,
    "start_time": "2021-12-14T17:06:11.462Z"
   },
   {
    "duration": 4,
    "start_time": "2021-12-14T17:08:18.832Z"
   },
   {
    "duration": 240,
    "start_time": "2021-12-14T17:08:19.834Z"
   },
   {
    "duration": 386,
    "start_time": "2021-12-14T17:09:24.478Z"
   },
   {
    "duration": 4,
    "start_time": "2021-12-14T17:10:09.187Z"
   },
   {
    "duration": 411,
    "start_time": "2021-12-14T17:10:09.353Z"
   },
   {
    "duration": 4,
    "start_time": "2021-12-14T17:10:17.871Z"
   },
   {
    "duration": 4,
    "start_time": "2021-12-14T17:10:32.125Z"
   },
   {
    "duration": 375,
    "start_time": "2021-12-14T17:10:32.794Z"
   },
   {
    "duration": 92,
    "start_time": "2021-12-14T17:10:33.172Z"
   },
   {
    "duration": 3,
    "start_time": "2021-12-14T17:11:07.379Z"
   },
   {
    "duration": 368,
    "start_time": "2021-12-14T17:11:07.649Z"
   },
   {
    "duration": 360,
    "start_time": "2021-12-14T17:11:41.404Z"
   },
   {
    "duration": 3,
    "start_time": "2021-12-14T17:11:41.950Z"
   },
   {
    "duration": 518,
    "start_time": "2021-12-14T17:11:42.326Z"
   },
   {
    "duration": 3,
    "start_time": "2021-12-14T17:12:10.894Z"
   },
   {
    "duration": 5,
    "start_time": "2021-12-14T17:12:12.165Z"
   },
   {
    "duration": 6,
    "start_time": "2021-12-14T17:12:32.321Z"
   },
   {
    "duration": 52,
    "start_time": "2021-12-14T17:12:38.238Z"
   },
   {
    "duration": 33,
    "start_time": "2021-12-14T17:12:38.780Z"
   },
   {
    "duration": 4,
    "start_time": "2021-12-14T17:12:39.757Z"
   },
   {
    "duration": 309,
    "start_time": "2021-12-14T17:12:39.763Z"
   },
   {
    "duration": 4,
    "start_time": "2021-12-14T17:12:40.074Z"
   },
   {
    "duration": 91,
    "start_time": "2021-12-14T17:12:40.080Z"
   },
   {
    "duration": 9,
    "start_time": "2021-12-14T17:12:40.263Z"
   },
   {
    "duration": 1130,
    "start_time": "2021-12-14T17:12:51.175Z"
   },
   {
    "duration": 406,
    "start_time": "2021-12-14T17:12:52.307Z"
   },
   {
    "duration": 25,
    "start_time": "2021-12-14T17:12:52.715Z"
   },
   {
    "duration": 63,
    "start_time": "2021-12-14T17:12:52.742Z"
   },
   {
    "duration": 113,
    "start_time": "2021-12-14T17:12:52.807Z"
   },
   {
    "duration": 42,
    "start_time": "2021-12-14T17:12:52.922Z"
   },
   {
    "duration": 56,
    "start_time": "2021-12-14T17:12:52.966Z"
   },
   {
    "duration": 46,
    "start_time": "2021-12-14T17:12:53.024Z"
   },
   {
    "duration": 3,
    "start_time": "2021-12-14T17:12:53.072Z"
   },
   {
    "duration": 570,
    "start_time": "2021-12-14T17:12:53.077Z"
   },
   {
    "duration": 205,
    "start_time": "2021-12-14T17:12:53.444Z"
   },
   {
    "duration": 193,
    "start_time": "2021-12-14T17:12:53.457Z"
   },
   {
    "duration": 191,
    "start_time": "2021-12-14T17:12:53.460Z"
   },
   {
    "duration": 3,
    "start_time": "2021-12-14T17:13:21.255Z"
   },
   {
    "duration": 4,
    "start_time": "2021-12-14T17:13:21.616Z"
   },
   {
    "duration": 427,
    "start_time": "2021-12-14T17:13:21.841Z"
   },
   {
    "duration": 3,
    "start_time": "2021-12-14T17:13:22.270Z"
   },
   {
    "duration": 3,
    "start_time": "2021-12-14T17:13:22.464Z"
   },
   {
    "duration": 6,
    "start_time": "2021-12-14T17:13:22.648Z"
   },
   {
    "duration": 2,
    "start_time": "2021-12-14T17:13:23.309Z"
   },
   {
    "duration": 3,
    "start_time": "2021-12-14T17:13:23.720Z"
   },
   {
    "duration": 227,
    "start_time": "2021-12-14T17:13:24.003Z"
   },
   {
    "duration": 180,
    "start_time": "2021-12-14T17:13:24.052Z"
   },
   {
    "duration": 272,
    "start_time": "2021-12-14T17:13:24.268Z"
   },
   {
    "duration": 3,
    "start_time": "2021-12-14T17:13:25.031Z"
   },
   {
    "duration": 230,
    "start_time": "2021-12-14T17:13:25.340Z"
   },
   {
    "duration": 4,
    "start_time": "2021-12-14T17:14:12.863Z"
   },
   {
    "duration": 374,
    "start_time": "2021-12-14T17:14:13.194Z"
   },
   {
    "duration": 3,
    "start_time": "2021-12-14T17:14:13.570Z"
   },
   {
    "duration": 4,
    "start_time": "2021-12-14T17:14:13.664Z"
   },
   {
    "duration": 5,
    "start_time": "2021-12-14T17:14:14.068Z"
   },
   {
    "duration": 4,
    "start_time": "2021-12-14T17:14:14.329Z"
   },
   {
    "duration": 381,
    "start_time": "2021-12-14T17:14:17.684Z"
   },
   {
    "duration": 32,
    "start_time": "2021-12-14T17:14:44.839Z"
   },
   {
    "duration": 53,
    "start_time": "2021-12-14T17:14:45.522Z"
   },
   {
    "duration": 30,
    "start_time": "2021-12-14T17:14:45.776Z"
   },
   {
    "duration": 3,
    "start_time": "2021-12-14T17:14:46.343Z"
   },
   {
    "duration": 4,
    "start_time": "2021-12-14T17:14:46.875Z"
   },
   {
    "duration": 243,
    "start_time": "2021-12-14T17:14:47.033Z"
   },
   {
    "duration": 3,
    "start_time": "2021-12-14T17:14:47.769Z"
   },
   {
    "duration": 3,
    "start_time": "2021-12-14T17:14:47.999Z"
   },
   {
    "duration": 5,
    "start_time": "2021-12-14T17:14:48.200Z"
   },
   {
    "duration": 2,
    "start_time": "2021-12-14T17:15:05.718Z"
   },
   {
    "duration": 430,
    "start_time": "2021-12-14T17:15:05.722Z"
   },
   {
    "duration": 23,
    "start_time": "2021-12-14T17:15:06.154Z"
   },
   {
    "duration": 58,
    "start_time": "2021-12-14T17:15:06.179Z"
   },
   {
    "duration": 99,
    "start_time": "2021-12-14T17:15:06.239Z"
   },
   {
    "duration": 40,
    "start_time": "2021-12-14T17:15:06.339Z"
   },
   {
    "duration": 2,
    "start_time": "2021-12-14T17:15:06.381Z"
   },
   {
    "duration": 4,
    "start_time": "2021-12-14T17:15:06.386Z"
   },
   {
    "duration": 376,
    "start_time": "2021-12-14T17:15:06.392Z"
   },
   {
    "duration": 3,
    "start_time": "2021-12-14T17:15:06.770Z"
   },
   {
    "duration": 92,
    "start_time": "2021-12-14T17:15:06.776Z"
   },
   {
    "duration": 6,
    "start_time": "2021-12-14T17:15:07.125Z"
   },
   {
    "duration": 3,
    "start_time": "2021-12-14T17:20:17.016Z"
   },
   {
    "duration": 2,
    "start_time": "2021-12-14T17:21:12.332Z"
   },
   {
    "duration": 3,
    "start_time": "2021-12-14T17:21:12.667Z"
   },
   {
    "duration": 333,
    "start_time": "2021-12-14T17:21:13.043Z"
   },
   {
    "duration": 6,
    "start_time": "2021-12-14T17:22:15.095Z"
   },
   {
    "duration": 3,
    "start_time": "2021-12-14T17:23:08.392Z"
   },
   {
    "duration": 5,
    "start_time": "2021-12-14T17:23:08.598Z"
   },
   {
    "duration": 6,
    "start_time": "2021-12-14T17:23:09.275Z"
   },
   {
    "duration": 83,
    "start_time": "2021-12-14T17:23:09.473Z"
   },
   {
    "duration": 86,
    "start_time": "2021-12-14T17:23:15.306Z"
   },
   {
    "duration": 6,
    "start_time": "2021-12-14T17:23:16.297Z"
   },
   {
    "duration": 240,
    "start_time": "2021-12-14T17:23:21.028Z"
   },
   {
    "duration": 6,
    "start_time": "2021-12-14T17:23:23.917Z"
   },
   {
    "duration": 4,
    "start_time": "2021-12-14T17:25:21.523Z"
   },
   {
    "duration": 5,
    "start_time": "2021-12-14T17:25:22.055Z"
   },
   {
    "duration": 6,
    "start_time": "2021-12-14T17:25:22.508Z"
   },
   {
    "duration": 3,
    "start_time": "2021-12-14T17:25:28.976Z"
   },
   {
    "duration": 5,
    "start_time": "2021-12-14T17:25:30.250Z"
   },
   {
    "duration": 5,
    "start_time": "2021-12-14T17:25:30.467Z"
   },
   {
    "duration": 6,
    "start_time": "2021-12-14T17:25:30.990Z"
   },
   {
    "duration": 2,
    "start_time": "2021-12-14T17:34:17.536Z"
   },
   {
    "duration": 240,
    "start_time": "2021-12-14T17:34:22.324Z"
   },
   {
    "duration": 3,
    "start_time": "2021-12-14T17:34:24.115Z"
   },
   {
    "duration": 237,
    "start_time": "2021-12-14T17:34:24.963Z"
   },
   {
    "duration": 4,
    "start_time": "2021-12-14T17:34:36.688Z"
   },
   {
    "duration": 4,
    "start_time": "2021-12-14T17:35:48.979Z"
   },
   {
    "duration": 4,
    "start_time": "2021-12-14T17:36:55.969Z"
   },
   {
    "duration": 4,
    "start_time": "2021-12-14T17:37:13.582Z"
   },
   {
    "duration": 4,
    "start_time": "2021-12-14T17:37:13.958Z"
   },
   {
    "duration": 4,
    "start_time": "2021-12-14T17:37:14.376Z"
   },
   {
    "duration": 4,
    "start_time": "2021-12-14T17:37:21.661Z"
   },
   {
    "duration": 4,
    "start_time": "2021-12-14T17:37:23.576Z"
   },
   {
    "duration": 78,
    "start_time": "2021-12-14T17:38:20.863Z"
   },
   {
    "duration": 4,
    "start_time": "2021-12-14T17:39:47.140Z"
   },
   {
    "duration": 482,
    "start_time": "2021-12-14T17:39:47.414Z"
   },
   {
    "duration": 3,
    "start_time": "2021-12-14T17:39:48.211Z"
   },
   {
    "duration": 6,
    "start_time": "2021-12-14T17:39:48.243Z"
   },
   {
    "duration": 6,
    "start_time": "2021-12-14T17:39:48.278Z"
   },
   {
    "duration": 5,
    "start_time": "2021-12-14T17:39:48.310Z"
   },
   {
    "duration": 4,
    "start_time": "2021-12-14T17:40:01.440Z"
   },
   {
    "duration": 487,
    "start_time": "2021-12-14T17:40:01.712Z"
   },
   {
    "duration": 3,
    "start_time": "2021-12-14T17:40:02.356Z"
   },
   {
    "duration": 6,
    "start_time": "2021-12-14T17:40:02.575Z"
   },
   {
    "duration": 3,
    "start_time": "2021-12-14T17:40:30.203Z"
   },
   {
    "duration": 398,
    "start_time": "2021-12-14T17:40:30.208Z"
   },
   {
    "duration": 19,
    "start_time": "2021-12-14T17:40:30.608Z"
   },
   {
    "duration": 76,
    "start_time": "2021-12-14T17:40:30.628Z"
   },
   {
    "duration": 95,
    "start_time": "2021-12-14T17:40:30.705Z"
   },
   {
    "duration": 41,
    "start_time": "2021-12-14T17:40:30.802Z"
   },
   {
    "duration": 2,
    "start_time": "2021-12-14T17:40:30.845Z"
   },
   {
    "duration": 4,
    "start_time": "2021-12-14T17:40:30.864Z"
   },
   {
    "duration": 399,
    "start_time": "2021-12-14T17:40:30.870Z"
   },
   {
    "duration": 93,
    "start_time": "2021-12-14T17:40:31.272Z"
   },
   {
    "duration": 94,
    "start_time": "2021-12-14T17:40:31.371Z"
   },
   {
    "duration": 15,
    "start_time": "2021-12-14T17:40:31.467Z"
   },
   {
    "duration": 10,
    "start_time": "2021-12-14T17:40:31.484Z"
   },
   {
    "duration": 8,
    "start_time": "2021-12-14T17:40:31.496Z"
   },
   {
    "duration": 7,
    "start_time": "2021-12-14T17:40:31.506Z"
   },
   {
    "duration": 20,
    "start_time": "2021-12-14T17:40:31.515Z"
   },
   {
    "duration": 16,
    "start_time": "2021-12-14T17:40:31.537Z"
   },
   {
    "duration": 4,
    "start_time": "2021-12-14T17:40:34.357Z"
   },
   {
    "duration": 4,
    "start_time": "2021-12-14T17:40:34.691Z"
   },
   {
    "duration": 7,
    "start_time": "2021-12-14T17:40:43.828Z"
   },
   {
    "duration": 290,
    "start_time": "2021-12-14T17:42:15.721Z"
   },
   {
    "duration": 242,
    "start_time": "2021-12-14T17:42:21.881Z"
   },
   {
    "duration": 9,
    "start_time": "2021-12-14T17:42:25.185Z"
   },
   {
    "duration": 9,
    "start_time": "2021-12-14T17:42:48.883Z"
   },
   {
    "duration": 9,
    "start_time": "2021-12-14T17:42:53.398Z"
   },
   {
    "duration": 9,
    "start_time": "2021-12-14T17:43:01.173Z"
   },
   {
    "duration": 7,
    "start_time": "2021-12-14T17:43:09.340Z"
   },
   {
    "duration": 9,
    "start_time": "2021-12-14T17:52:41.730Z"
   },
   {
    "duration": 8,
    "start_time": "2021-12-14T17:53:23.927Z"
   },
   {
    "duration": 7,
    "start_time": "2021-12-14T17:53:44.968Z"
   },
   {
    "duration": 9,
    "start_time": "2021-12-14T17:53:46.238Z"
   },
   {
    "duration": 9,
    "start_time": "2021-12-14T17:54:44.863Z"
   },
   {
    "duration": 7,
    "start_time": "2021-12-14T17:54:55.013Z"
   },
   {
    "duration": 8,
    "start_time": "2021-12-14T17:54:55.499Z"
   },
   {
    "duration": 84,
    "start_time": "2021-12-14T17:56:51.348Z"
   },
   {
    "duration": 6,
    "start_time": "2021-12-14T17:56:53.392Z"
   },
   {
    "duration": 5,
    "start_time": "2021-12-14T17:57:00.878Z"
   },
   {
    "duration": 2,
    "start_time": "2021-12-14T17:57:08.040Z"
   },
   {
    "duration": 369,
    "start_time": "2021-12-14T17:57:08.044Z"
   },
   {
    "duration": 18,
    "start_time": "2021-12-14T17:57:08.415Z"
   },
   {
    "duration": 67,
    "start_time": "2021-12-14T17:57:08.435Z"
   },
   {
    "duration": 111,
    "start_time": "2021-12-14T17:57:08.504Z"
   },
   {
    "duration": 40,
    "start_time": "2021-12-14T17:57:08.616Z"
   },
   {
    "duration": 2,
    "start_time": "2021-12-14T17:57:08.663Z"
   },
   {
    "duration": 6,
    "start_time": "2021-12-14T17:57:08.667Z"
   },
   {
    "duration": 394,
    "start_time": "2021-12-14T17:57:08.674Z"
   },
   {
    "duration": 4,
    "start_time": "2021-12-14T17:57:09.071Z"
   },
   {
    "duration": 187,
    "start_time": "2021-12-14T17:57:09.077Z"
   },
   {
    "duration": 5,
    "start_time": "2021-12-14T17:57:09.266Z"
   },
   {
    "duration": 5,
    "start_time": "2021-12-14T17:57:09.273Z"
   },
   {
    "duration": 4,
    "start_time": "2021-12-14T17:57:09.280Z"
   },
   {
    "duration": 6,
    "start_time": "2021-12-14T17:57:09.286Z"
   },
   {
    "duration": 4,
    "start_time": "2021-12-14T17:57:09.294Z"
   },
   {
    "duration": 4,
    "start_time": "2021-12-14T17:57:09.300Z"
   },
   {
    "duration": 4,
    "start_time": "2021-12-14T17:57:10.672Z"
   },
   {
    "duration": 4,
    "start_time": "2021-12-14T17:57:10.909Z"
   },
   {
    "duration": 5,
    "start_time": "2021-12-14T17:57:11.595Z"
   },
   {
    "duration": 9,
    "start_time": "2021-12-14T17:58:15.413Z"
   },
   {
    "duration": 9,
    "start_time": "2021-12-14T17:58:23.643Z"
   },
   {
    "duration": 9,
    "start_time": "2021-12-14T17:58:28.456Z"
   },
   {
    "duration": 9,
    "start_time": "2021-12-14T17:58:39.239Z"
   },
   {
    "duration": 9,
    "start_time": "2021-12-14T17:58:50.920Z"
   },
   {
    "duration": 9,
    "start_time": "2021-12-14T18:00:02.997Z"
   },
   {
    "duration": 7,
    "start_time": "2021-12-14T18:00:04.761Z"
   },
   {
    "duration": 7,
    "start_time": "2021-12-14T18:01:35.119Z"
   },
   {
    "duration": 7,
    "start_time": "2021-12-14T18:01:35.592Z"
   },
   {
    "duration": 8,
    "start_time": "2021-12-14T18:01:36.047Z"
   },
   {
    "duration": 226,
    "start_time": "2021-12-14T18:02:36.116Z"
   },
   {
    "duration": 8,
    "start_time": "2021-12-14T18:03:00.287Z"
   },
   {
    "duration": 8,
    "start_time": "2021-12-14T18:03:07.414Z"
   },
   {
    "duration": 8,
    "start_time": "2021-12-14T19:00:29.771Z"
   },
   {
    "duration": 9,
    "start_time": "2021-12-14T19:00:34.328Z"
   },
   {
    "duration": 4,
    "start_time": "2021-12-14T19:06:40.911Z"
   },
   {
    "duration": 516,
    "start_time": "2021-12-14T19:06:53.908Z"
   },
   {
    "duration": 3,
    "start_time": "2021-12-14T19:06:56.601Z"
   },
   {
    "duration": 597,
    "start_time": "2021-12-14T19:06:57.221Z"
   },
   {
    "duration": 3,
    "start_time": "2021-12-14T19:07:18.960Z"
   },
   {
    "duration": 540,
    "start_time": "2021-12-14T19:07:19.346Z"
   },
   {
    "duration": 4,
    "start_time": "2021-12-14T19:07:24.912Z"
   },
   {
    "duration": 505,
    "start_time": "2021-12-14T19:07:24.919Z"
   },
   {
    "duration": 3,
    "start_time": "2021-12-14T19:07:31.827Z"
   },
   {
    "duration": 8,
    "start_time": "2021-12-14T19:07:32.028Z"
   },
   {
    "duration": 4,
    "start_time": "2021-12-14T19:07:52.720Z"
   },
   {
    "duration": 488,
    "start_time": "2021-12-14T19:07:53.143Z"
   },
   {
    "duration": 3,
    "start_time": "2021-12-14T19:08:13.653Z"
   },
   {
    "duration": 9,
    "start_time": "2021-12-14T19:08:14.735Z"
   },
   {
    "duration": 4,
    "start_time": "2021-12-14T19:10:08.627Z"
   },
   {
    "duration": 8,
    "start_time": "2021-12-14T19:10:09.414Z"
   },
   {
    "duration": 7,
    "start_time": "2021-12-14T19:10:10.687Z"
   },
   {
    "duration": 9,
    "start_time": "2021-12-14T19:10:11.189Z"
   },
   {
    "duration": 7,
    "start_time": "2021-12-14T19:10:30.482Z"
   },
   {
    "duration": 8,
    "start_time": "2021-12-14T19:10:35.023Z"
   },
   {
    "duration": 7,
    "start_time": "2021-12-14T19:15:44.558Z"
   },
   {
    "duration": 7,
    "start_time": "2021-12-14T19:18:28.243Z"
   },
   {
    "duration": 6,
    "start_time": "2021-12-14T19:18:34.828Z"
   },
   {
    "duration": 3,
    "start_time": "2021-12-14T19:29:19.151Z"
   },
   {
    "duration": 365,
    "start_time": "2021-12-14T19:29:19.156Z"
   },
   {
    "duration": 18,
    "start_time": "2021-12-14T19:29:19.523Z"
   },
   {
    "duration": 72,
    "start_time": "2021-12-14T19:29:19.543Z"
   },
   {
    "duration": 103,
    "start_time": "2021-12-14T19:29:19.617Z"
   },
   {
    "duration": 51,
    "start_time": "2021-12-14T19:29:19.721Z"
   },
   {
    "duration": 2,
    "start_time": "2021-12-14T19:29:19.774Z"
   },
   {
    "duration": 3,
    "start_time": "2021-12-14T19:29:19.952Z"
   },
   {
    "duration": 117,
    "start_time": "2021-12-14T19:29:20.263Z"
   },
   {
    "duration": 3,
    "start_time": "2021-12-14T19:29:53.663Z"
   },
   {
    "duration": 4,
    "start_time": "2021-12-14T19:31:13.128Z"
   },
   {
    "duration": 5,
    "start_time": "2021-12-14T19:31:18.563Z"
   },
   {
    "duration": 6633,
    "start_time": "2021-12-14T19:31:19.075Z"
   },
   {
    "duration": 3,
    "start_time": "2021-12-14T19:31:36.292Z"
   },
   {
    "duration": 385,
    "start_time": "2021-12-14T19:31:36.296Z"
   },
   {
    "duration": 19,
    "start_time": "2021-12-14T19:31:36.683Z"
   },
   {
    "duration": 67,
    "start_time": "2021-12-14T19:31:36.703Z"
   },
   {
    "duration": 99,
    "start_time": "2021-12-14T19:31:36.772Z"
   },
   {
    "duration": 41,
    "start_time": "2021-12-14T19:31:36.873Z"
   },
   {
    "duration": 3,
    "start_time": "2021-12-14T19:31:36.915Z"
   },
   {
    "duration": 3,
    "start_time": "2021-12-14T19:31:37.238Z"
   },
   {
    "duration": 4,
    "start_time": "2021-12-14T19:31:37.459Z"
   },
   {
    "duration": 7051,
    "start_time": "2021-12-14T19:31:37.644Z"
   },
   {
    "duration": 5,
    "start_time": "2021-12-14T19:31:59.314Z"
   },
   {
    "duration": 542,
    "start_time": "2021-12-14T19:32:00.391Z"
   },
   {
    "duration": 4,
    "start_time": "2021-12-14T19:32:19.075Z"
   },
   {
    "duration": 606,
    "start_time": "2021-12-14T19:32:19.606Z"
   },
   {
    "duration": 3,
    "start_time": "2021-12-14T19:35:16.844Z"
   },
   {
    "duration": 535,
    "start_time": "2021-12-14T19:35:17.094Z"
   },
   {
    "duration": 18,
    "start_time": "2021-12-14T19:35:46.771Z"
   },
   {
    "duration": 526,
    "start_time": "2021-12-14T19:35:47.230Z"
   },
   {
    "duration": 3,
    "start_time": "2021-12-14T19:35:52.506Z"
   },
   {
    "duration": 394,
    "start_time": "2021-12-14T19:35:52.777Z"
   },
   {
    "duration": 4,
    "start_time": "2021-12-14T19:36:35.089Z"
   },
   {
    "duration": 241,
    "start_time": "2021-12-14T19:36:38.682Z"
   },
   {
    "duration": 4,
    "start_time": "2021-12-14T19:36:45.627Z"
   },
   {
    "duration": 246,
    "start_time": "2021-12-14T19:37:01.023Z"
   },
   {
    "duration": 10,
    "start_time": "2021-12-14T19:37:06.433Z"
   },
   {
    "duration": 5,
    "start_time": "2021-12-14T19:37:28.564Z"
   },
   {
    "duration": 78,
    "start_time": "2021-12-14T19:39:09.511Z"
   },
   {
    "duration": 4,
    "start_time": "2021-12-14T19:40:09.461Z"
   },
   {
    "duration": 247,
    "start_time": "2021-12-14T19:40:15.862Z"
   },
   {
    "duration": 8,
    "start_time": "2021-12-14T19:40:26.846Z"
   },
   {
    "duration": 8,
    "start_time": "2021-12-14T19:40:35.097Z"
   },
   {
    "duration": 9,
    "start_time": "2021-12-14T19:40:41.620Z"
   },
   {
    "duration": 4,
    "start_time": "2021-12-14T19:44:15.300Z"
   },
   {
    "duration": 8,
    "start_time": "2021-12-14T19:44:16.224Z"
   },
   {
    "duration": 12,
    "start_time": "2021-12-14T19:44:20.955Z"
   },
   {
    "duration": 9,
    "start_time": "2021-12-14T19:44:21.473Z"
   },
   {
    "duration": 4,
    "start_time": "2021-12-14T19:44:26.660Z"
   },
   {
    "duration": 7,
    "start_time": "2021-12-14T19:44:27.218Z"
   },
   {
    "duration": 11,
    "start_time": "2021-12-14T19:44:30.193Z"
   },
   {
    "duration": 9,
    "start_time": "2021-12-14T19:44:31.420Z"
   },
   {
    "duration": 4,
    "start_time": "2021-12-14T19:44:59.053Z"
   },
   {
    "duration": 4,
    "start_time": "2021-12-14T19:49:48.538Z"
   },
   {
    "duration": 530,
    "start_time": "2021-12-14T19:49:49.963Z"
   },
   {
    "duration": 5,
    "start_time": "2021-12-14T19:50:47.820Z"
   },
   {
    "duration": 484,
    "start_time": "2021-12-14T19:50:48.432Z"
   },
   {
    "duration": 4,
    "start_time": "2021-12-14T19:50:57.213Z"
   },
   {
    "duration": 9,
    "start_time": "2021-12-14T19:50:58.345Z"
   },
   {
    "duration": 10,
    "start_time": "2021-12-14T19:51:01.149Z"
   },
   {
    "duration": 9,
    "start_time": "2021-12-14T19:51:02.253Z"
   },
   {
    "duration": 89,
    "start_time": "2021-12-14T19:52:29.852Z"
   },
   {
    "duration": 4,
    "start_time": "2021-12-14T19:52:32.754Z"
   },
   {
    "duration": 9,
    "start_time": "2021-12-14T19:52:35.512Z"
   },
   {
    "duration": 4,
    "start_time": "2021-12-14T19:57:28.300Z"
   },
   {
    "duration": 490,
    "start_time": "2021-12-14T19:57:29.195Z"
   },
   {
    "duration": 6,
    "start_time": "2021-12-14T19:57:43.699Z"
   },
   {
    "duration": 487,
    "start_time": "2021-12-14T19:57:44.970Z"
   },
   {
    "duration": 4,
    "start_time": "2021-12-14T19:57:55.663Z"
   },
   {
    "duration": 10,
    "start_time": "2021-12-14T19:57:56.325Z"
   },
   {
    "duration": 9,
    "start_time": "2021-12-14T19:57:59.534Z"
   },
   {
    "duration": 10,
    "start_time": "2021-12-14T19:58:00.852Z"
   },
   {
    "duration": 4,
    "start_time": "2021-12-14T19:59:17.597Z"
   },
   {
    "duration": 13,
    "start_time": "2021-12-14T19:59:18.227Z"
   },
   {
    "duration": 11,
    "start_time": "2021-12-14T19:59:21.140Z"
   },
   {
    "duration": 14,
    "start_time": "2021-12-14T19:59:22.861Z"
   },
   {
    "duration": 4,
    "start_time": "2021-12-14T20:03:00.101Z"
   },
   {
    "duration": 14,
    "start_time": "2021-12-14T20:03:00.955Z"
   },
   {
    "duration": 4,
    "start_time": "2021-12-14T20:04:27.133Z"
   },
   {
    "duration": 12,
    "start_time": "2021-12-14T20:04:28.070Z"
   },
   {
    "duration": 4,
    "start_time": "2021-12-14T20:10:31.629Z"
   },
   {
    "duration": 14,
    "start_time": "2021-12-14T20:10:32.215Z"
   },
   {
    "duration": 4,
    "start_time": "2021-12-14T20:10:35.226Z"
   },
   {
    "duration": 13,
    "start_time": "2021-12-14T20:10:35.870Z"
   },
   {
    "duration": 5,
    "start_time": "2021-12-14T20:19:17.028Z"
   },
   {
    "duration": 3,
    "start_time": "2021-12-14T20:23:34.044Z"
   },
   {
    "duration": 3,
    "start_time": "2021-12-14T20:23:38.998Z"
   },
   {
    "duration": 4,
    "start_time": "2021-12-14T20:23:47.224Z"
   },
   {
    "duration": 248,
    "start_time": "2021-12-14T20:23:56.060Z"
   },
   {
    "duration": 575,
    "start_time": "2021-12-14T20:24:17.256Z"
   },
   {
    "duration": 5,
    "start_time": "2021-12-14T20:25:26.566Z"
   },
   {
    "duration": 15,
    "start_time": "2021-12-14T20:25:27.744Z"
   },
   {
    "duration": 4,
    "start_time": "2021-12-14T20:25:46.044Z"
   },
   {
    "duration": 479,
    "start_time": "2021-12-14T20:25:47.609Z"
   },
   {
    "duration": 4,
    "start_time": "2021-12-14T20:25:55.210Z"
   },
   {
    "duration": 4783,
    "start_time": "2021-12-14T20:25:55.639Z"
   },
   {
    "duration": 4676,
    "start_time": "2021-12-14T20:26:11.987Z"
   },
   {
    "duration": 251,
    "start_time": "2021-12-14T20:26:16.415Z"
   },
   {
    "duration": 4874,
    "start_time": "2021-12-14T20:26:17.923Z"
   },
   {
    "duration": 4,
    "start_time": "2021-12-14T20:26:25.264Z"
   },
   {
    "duration": 3890,
    "start_time": "2021-12-14T20:26:27.465Z"
   },
   {
    "duration": 4,
    "start_time": "2021-12-14T20:26:32.999Z"
   },
   {
    "duration": 4016,
    "start_time": "2021-12-14T20:26:33.191Z"
   },
   {
    "duration": 3516,
    "start_time": "2021-12-14T20:26:38.497Z"
   },
   {
    "duration": 3754,
    "start_time": "2021-12-14T20:26:54.860Z"
   },
   {
    "duration": 4,
    "start_time": "2021-12-14T20:27:07.217Z"
   },
   {
    "duration": 36260,
    "start_time": "2021-12-14T20:27:08.555Z"
   },
   {
    "duration": 4,
    "start_time": "2021-12-14T20:29:17.810Z"
   },
   {
    "duration": 9,
    "start_time": "2021-12-14T20:29:18.813Z"
   },
   {
    "duration": 9,
    "start_time": "2021-12-14T20:29:21.364Z"
   },
   {
    "duration": 10,
    "start_time": "2021-12-14T20:29:22.005Z"
   },
   {
    "duration": 4,
    "start_time": "2021-12-14T20:29:27.858Z"
   },
   {
    "duration": 4105,
    "start_time": "2021-12-14T20:29:27.864Z"
   },
   {
    "duration": 3749,
    "start_time": "2021-12-14T20:29:49.046Z"
   },
   {
    "duration": 4,
    "start_time": "2021-12-14T20:29:57.062Z"
   },
   {
    "duration": 10,
    "start_time": "2021-12-14T20:29:58.406Z"
   },
   {
    "duration": 15,
    "start_time": "2021-12-14T20:29:58.774Z"
   },
   {
    "duration": 10,
    "start_time": "2021-12-14T20:29:59.360Z"
   },
   {
    "duration": 3,
    "start_time": "2021-12-14T20:30:00.949Z"
   },
   {
    "duration": 4,
    "start_time": "2021-12-14T20:30:01.178Z"
   },
   {
    "duration": 3701,
    "start_time": "2021-12-14T20:30:01.922Z"
   },
   {
    "duration": 3088,
    "start_time": "2021-12-14T20:30:14.625Z"
   },
   {
    "duration": 5,
    "start_time": "2021-12-14T20:30:20.497Z"
   },
   {
    "duration": 4,
    "start_time": "2021-12-14T20:30:22.813Z"
   },
   {
    "duration": 3483,
    "start_time": "2021-12-14T20:30:23.483Z"
   },
   {
    "duration": 3,
    "start_time": "2021-12-14T20:30:27.243Z"
   },
   {
    "duration": 4,
    "start_time": "2021-12-14T20:30:27.503Z"
   },
   {
    "duration": 5410,
    "start_time": "2021-12-14T20:30:27.902Z"
   },
   {
    "duration": 90,
    "start_time": "2021-12-14T20:31:29.967Z"
   },
   {
    "duration": 77,
    "start_time": "2021-12-14T20:31:31.178Z"
   },
   {
    "duration": 4,
    "start_time": "2021-12-14T20:31:43.095Z"
   },
   {
    "duration": 94,
    "start_time": "2021-12-14T20:31:44.028Z"
   },
   {
    "duration": 9,
    "start_time": "2021-12-14T20:31:55.288Z"
   },
   {
    "duration": 10,
    "start_time": "2021-12-14T20:31:58.132Z"
   },
   {
    "duration": 9,
    "start_time": "2021-12-14T20:32:08.305Z"
   },
   {
    "duration": 5,
    "start_time": "2021-12-14T20:32:13.969Z"
   },
   {
    "duration": 3076,
    "start_time": "2021-12-14T20:32:14.501Z"
   },
   {
    "duration": 3989,
    "start_time": "2021-12-14T20:32:21.363Z"
   },
   {
    "duration": 252,
    "start_time": "2021-12-14T20:36:00.642Z"
   },
   {
    "duration": 90,
    "start_time": "2021-12-14T20:36:03.758Z"
   },
   {
    "duration": 4,
    "start_time": "2021-12-14T20:36:09.347Z"
   },
   {
    "duration": 3745,
    "start_time": "2021-12-14T20:36:09.582Z"
   },
   {
    "duration": 4,
    "start_time": "2021-12-14T20:36:40.716Z"
   },
   {
    "duration": 4,
    "start_time": "2021-12-14T20:36:41.696Z"
   },
   {
    "duration": 3879,
    "start_time": "2021-12-14T20:36:41.885Z"
   },
   {
    "duration": 4,
    "start_time": "2021-12-14T20:37:31.282Z"
   },
   {
    "duration": 3066,
    "start_time": "2021-12-14T20:37:36.985Z"
   },
   {
    "duration": 3077,
    "start_time": "2021-12-14T20:38:38.669Z"
   },
   {
    "duration": 3101,
    "start_time": "2021-12-14T20:38:41.748Z"
   },
   {
    "duration": 6,
    "start_time": "2021-12-14T20:40:34.170Z"
   },
   {
    "duration": 2979,
    "start_time": "2021-12-14T20:40:39.728Z"
   },
   {
    "duration": 3,
    "start_time": "2021-12-14T20:41:15.629Z"
   },
   {
    "duration": 4,
    "start_time": "2021-12-14T20:41:16.117Z"
   },
   {
    "duration": 4,
    "start_time": "2021-12-14T20:41:16.662Z"
   },
   {
    "duration": 2998,
    "start_time": "2021-12-14T20:41:17.091Z"
   },
   {
    "duration": 3,
    "start_time": "2021-12-14T20:41:48.670Z"
   },
   {
    "duration": 401,
    "start_time": "2021-12-14T20:41:48.675Z"
   },
   {
    "duration": 18,
    "start_time": "2021-12-14T20:41:49.079Z"
   },
   {
    "duration": 81,
    "start_time": "2021-12-14T20:41:49.100Z"
   },
   {
    "duration": 91,
    "start_time": "2021-12-14T20:41:49.183Z"
   },
   {
    "duration": 42,
    "start_time": "2021-12-14T20:41:49.276Z"
   },
   {
    "duration": 2,
    "start_time": "2021-12-14T20:41:49.320Z"
   },
   {
    "duration": 7,
    "start_time": "2021-12-14T20:41:49.325Z"
   },
   {
    "duration": 431,
    "start_time": "2021-12-14T20:41:49.334Z"
   },
   {
    "duration": 4,
    "start_time": "2021-12-14T20:41:49.767Z"
   },
   {
    "duration": 191,
    "start_time": "2021-12-14T20:41:49.773Z"
   },
   {
    "duration": 6,
    "start_time": "2021-12-14T20:41:49.966Z"
   },
   {
    "duration": 7,
    "start_time": "2021-12-14T20:41:49.974Z"
   },
   {
    "duration": 4,
    "start_time": "2021-12-14T20:41:49.983Z"
   },
   {
    "duration": 9,
    "start_time": "2021-12-14T20:41:49.989Z"
   },
   {
    "duration": 12,
    "start_time": "2021-12-14T20:41:50.000Z"
   },
   {
    "duration": 8,
    "start_time": "2021-12-14T20:41:50.014Z"
   },
   {
    "duration": 17,
    "start_time": "2021-12-14T20:41:50.024Z"
   },
   {
    "duration": 20,
    "start_time": "2021-12-14T20:41:50.043Z"
   },
   {
    "duration": 4,
    "start_time": "2021-12-14T20:41:50.065Z"
   },
   {
    "duration": 20,
    "start_time": "2021-12-14T20:41:50.070Z"
   },
   {
    "duration": 10,
    "start_time": "2021-12-14T20:41:50.092Z"
   },
   {
    "duration": 9,
    "start_time": "2021-12-14T20:41:50.104Z"
   },
   {
    "duration": 3,
    "start_time": "2021-12-14T20:41:50.114Z"
   },
   {
    "duration": 8,
    "start_time": "2021-12-14T20:41:50.119Z"
   },
   {
    "duration": 10,
    "start_time": "2021-12-14T20:41:50.129Z"
   },
   {
    "duration": 4,
    "start_time": "2021-12-14T20:41:50.977Z"
   },
   {
    "duration": 2939,
    "start_time": "2021-12-14T20:41:51.434Z"
   },
   {
    "duration": 2944,
    "start_time": "2021-12-14T20:42:16.564Z"
   },
   {
    "duration": 3,
    "start_time": "2021-12-14T20:42:58.619Z"
   },
   {
    "duration": 10,
    "start_time": "2021-12-14T20:42:59.706Z"
   },
   {
    "duration": 10,
    "start_time": "2021-12-14T20:43:00.653Z"
   },
   {
    "duration": 9,
    "start_time": "2021-12-14T20:43:01.376Z"
   },
   {
    "duration": 4,
    "start_time": "2021-12-14T20:43:14.625Z"
   },
   {
    "duration": 10,
    "start_time": "2021-12-14T20:43:15.288Z"
   },
   {
    "duration": 10,
    "start_time": "2021-12-14T20:43:18.853Z"
   },
   {
    "duration": 11,
    "start_time": "2021-12-14T20:43:22.454Z"
   },
   {
    "duration": 11,
    "start_time": "2021-12-14T20:43:23.206Z"
   },
   {
    "duration": 4,
    "start_time": "2021-12-14T20:43:24.775Z"
   },
   {
    "duration": 6,
    "start_time": "2021-12-14T20:43:25.915Z"
   },
   {
    "duration": 3188,
    "start_time": "2021-12-14T20:43:27.893Z"
   },
   {
    "duration": 5,
    "start_time": "2021-12-14T20:46:25.275Z"
   },
   {
    "duration": 1032,
    "start_time": "2021-12-14T20:46:29.803Z"
   },
   {
    "duration": 5,
    "start_time": "2021-12-14T20:46:38.283Z"
   },
   {
    "duration": 486,
    "start_time": "2021-12-14T20:46:39.121Z"
   },
   {
    "duration": 5,
    "start_time": "2021-12-14T20:46:51.904Z"
   },
   {
    "duration": 3549,
    "start_time": "2021-12-14T20:46:52.328Z"
   },
   {
    "duration": 5,
    "start_time": "2021-12-14T20:47:01.905Z"
   },
   {
    "duration": 3071,
    "start_time": "2021-12-14T20:47:02.698Z"
   },
   {
    "duration": 1101,
    "start_time": "2021-12-14T20:48:43.909Z"
   },
   {
    "duration": 429,
    "start_time": "2021-12-14T20:48:45.013Z"
   },
   {
    "duration": 27,
    "start_time": "2021-12-14T20:48:45.445Z"
   },
   {
    "duration": 105,
    "start_time": "2021-12-14T20:48:45.474Z"
   },
   {
    "duration": 124,
    "start_time": "2021-12-14T20:48:45.581Z"
   },
   {
    "duration": 47,
    "start_time": "2021-12-14T20:48:45.707Z"
   },
   {
    "duration": 3,
    "start_time": "2021-12-14T20:48:45.764Z"
   },
   {
    "duration": 7,
    "start_time": "2021-12-14T20:48:45.769Z"
   },
   {
    "duration": 389,
    "start_time": "2021-12-14T20:48:45.779Z"
   },
   {
    "duration": 3,
    "start_time": "2021-12-14T20:48:46.172Z"
   },
   {
    "duration": 115,
    "start_time": "2021-12-14T20:48:46.263Z"
   },
   {
    "duration": 12,
    "start_time": "2021-12-14T20:48:46.380Z"
   },
   {
    "duration": 8,
    "start_time": "2021-12-14T20:48:46.394Z"
   },
   {
    "duration": 3,
    "start_time": "2021-12-14T20:48:46.404Z"
   },
   {
    "duration": 8,
    "start_time": "2021-12-14T20:48:46.409Z"
   },
   {
    "duration": 9,
    "start_time": "2021-12-14T20:48:46.419Z"
   },
   {
    "duration": 9,
    "start_time": "2021-12-14T20:48:46.430Z"
   },
   {
    "duration": 25,
    "start_time": "2021-12-14T20:48:46.441Z"
   },
   {
    "duration": 4,
    "start_time": "2021-12-14T20:48:46.469Z"
   },
   {
    "duration": 13,
    "start_time": "2021-12-14T20:48:46.475Z"
   },
   {
    "duration": 14,
    "start_time": "2021-12-14T20:48:46.490Z"
   },
   {
    "duration": 9,
    "start_time": "2021-12-14T20:48:46.507Z"
   },
   {
    "duration": 10,
    "start_time": "2021-12-14T20:48:46.518Z"
   },
   {
    "duration": 10,
    "start_time": "2021-12-14T20:48:46.529Z"
   },
   {
    "duration": 23,
    "start_time": "2021-12-14T20:48:46.542Z"
   },
   {
    "duration": 14,
    "start_time": "2021-12-14T20:48:46.567Z"
   },
   {
    "duration": 3394,
    "start_time": "2021-12-14T20:48:46.586Z"
   },
   {
    "duration": 2866,
    "start_time": "2021-12-14T20:48:49.982Z"
   },
   {
    "duration": 2899,
    "start_time": "2021-12-14T20:49:01.164Z"
   },
   {
    "duration": 4,
    "start_time": "2021-12-14T20:50:26.554Z"
   },
   {
    "duration": 2907,
    "start_time": "2021-12-14T20:50:26.870Z"
   },
   {
    "duration": 2862,
    "start_time": "2021-12-14T20:50:29.778Z"
   },
   {
    "duration": 2884,
    "start_time": "2021-12-14T20:50:32.642Z"
   },
   {
    "duration": 4,
    "start_time": "2021-12-14T21:01:23.942Z"
   },
   {
    "duration": 4,
    "start_time": "2021-12-14T21:01:24.320Z"
   },
   {
    "duration": 2861,
    "start_time": "2021-12-14T21:01:24.660Z"
   },
   {
    "duration": 4,
    "start_time": "2021-12-14T21:01:30.777Z"
   },
   {
    "duration": 4,
    "start_time": "2021-12-14T21:01:31.220Z"
   },
   {
    "duration": 3154,
    "start_time": "2021-12-14T21:01:31.619Z"
   },
   {
    "duration": 4,
    "start_time": "2021-12-14T21:02:42.914Z"
   },
   {
    "duration": 4,
    "start_time": "2021-12-14T21:02:43.641Z"
   },
   {
    "duration": 2714,
    "start_time": "2021-12-14T21:02:44.274Z"
   },
   {
    "duration": 2738,
    "start_time": "2021-12-14T21:04:04.695Z"
   },
   {
    "duration": 3,
    "start_time": "2021-12-14T21:05:00.590Z"
   },
   {
    "duration": 1202,
    "start_time": "2021-12-14T21:05:00.800Z"
   },
   {
    "duration": 4,
    "start_time": "2021-12-14T21:05:04.992Z"
   },
   {
    "duration": 1210,
    "start_time": "2021-12-14T21:05:05.055Z"
   },
   {
    "duration": 1084,
    "start_time": "2021-12-14T21:05:23.792Z"
   },
   {
    "duration": 3,
    "start_time": "2021-12-14T21:05:28.378Z"
   },
   {
    "duration": 1409,
    "start_time": "2021-12-14T21:05:29.028Z"
   },
   {
    "duration": 1816,
    "start_time": "2021-12-14T21:05:34.708Z"
   },
   {
    "duration": 4,
    "start_time": "2021-12-14T21:05:53.866Z"
   },
   {
    "duration": 1221,
    "start_time": "2021-12-14T21:05:54.108Z"
   },
   {
    "duration": 4,
    "start_time": "2021-12-14T21:06:14.517Z"
   },
   {
    "duration": 2786,
    "start_time": "2021-12-14T21:06:14.541Z"
   },
   {
    "duration": 2703,
    "start_time": "2021-12-14T21:06:18.602Z"
   },
   {
    "duration": 3,
    "start_time": "2021-12-14T21:09:13.918Z"
   },
   {
    "duration": 10,
    "start_time": "2021-12-14T21:09:15.252Z"
   },
   {
    "duration": 4,
    "start_time": "2021-12-14T21:09:23.454Z"
   },
   {
    "duration": 2922,
    "start_time": "2021-12-14T21:09:23.841Z"
   },
   {
    "duration": 5,
    "start_time": "2021-12-14T21:09:33.568Z"
   },
   {
    "duration": 3202,
    "start_time": "2021-12-14T21:09:34.674Z"
   },
   {
    "duration": 1084,
    "start_time": "2021-12-14T21:29:13.496Z"
   },
   {
    "duration": 386,
    "start_time": "2021-12-14T21:29:14.582Z"
   },
   {
    "duration": 24,
    "start_time": "2021-12-14T21:29:14.970Z"
   },
   {
    "duration": 62,
    "start_time": "2021-12-14T21:29:14.996Z"
   },
   {
    "duration": 124,
    "start_time": "2021-12-14T21:29:15.059Z"
   },
   {
    "duration": 45,
    "start_time": "2021-12-14T21:29:15.185Z"
   },
   {
    "duration": 2,
    "start_time": "2021-12-14T21:29:15.232Z"
   },
   {
    "duration": 46,
    "start_time": "2021-12-14T21:29:15.235Z"
   },
   {
    "duration": 384,
    "start_time": "2021-12-14T21:29:15.283Z"
   },
   {
    "duration": 93,
    "start_time": "2021-12-14T21:29:15.671Z"
   },
   {
    "duration": 5,
    "start_time": "2021-12-14T21:29:15.864Z"
   },
   {
    "duration": 27,
    "start_time": "2021-12-14T21:29:15.870Z"
   },
   {
    "duration": 37,
    "start_time": "2021-12-14T21:29:15.898Z"
   },
   {
    "duration": 24,
    "start_time": "2021-12-14T21:29:15.937Z"
   },
   {
    "duration": 29,
    "start_time": "2021-12-14T21:29:15.962Z"
   },
   {
    "duration": 23,
    "start_time": "2021-12-14T21:29:15.992Z"
   },
   {
    "duration": 41,
    "start_time": "2021-12-14T21:29:16.017Z"
   },
   {
    "duration": 22,
    "start_time": "2021-12-14T21:29:16.060Z"
   },
   {
    "duration": 27,
    "start_time": "2021-12-14T21:29:16.085Z"
   },
   {
    "duration": 8,
    "start_time": "2021-12-14T21:29:16.114Z"
   },
   {
    "duration": 13,
    "start_time": "2021-12-14T21:29:16.124Z"
   },
   {
    "duration": 8,
    "start_time": "2021-12-14T21:29:16.139Z"
   },
   {
    "duration": 11,
    "start_time": "2021-12-14T21:29:16.149Z"
   },
   {
    "duration": 3,
    "start_time": "2021-12-14T21:29:16.162Z"
   },
   {
    "duration": 8,
    "start_time": "2021-12-14T21:29:16.168Z"
   },
   {
    "duration": 16,
    "start_time": "2021-12-14T21:29:16.177Z"
   },
   {
    "duration": 2969,
    "start_time": "2021-12-14T21:29:16.195Z"
   },
   {
    "duration": 2702,
    "start_time": "2021-12-14T21:29:19.165Z"
   },
   {
    "duration": 2699,
    "start_time": "2021-12-14T21:29:21.869Z"
   },
   {
    "duration": 3,
    "start_time": "2021-12-14T21:31:48.093Z"
   },
   {
    "duration": 2722,
    "start_time": "2021-12-14T21:31:48.209Z"
   },
   {
    "duration": 4,
    "start_time": "2021-12-14T21:32:01.630Z"
   },
   {
    "duration": 2733,
    "start_time": "2021-12-14T21:32:01.926Z"
   },
   {
    "duration": 4,
    "start_time": "2021-12-14T21:34:00.489Z"
   },
   {
    "duration": 4,
    "start_time": "2021-12-14T21:34:01.130Z"
   },
   {
    "duration": 2848,
    "start_time": "2021-12-14T21:34:01.790Z"
   },
   {
    "duration": 5,
    "start_time": "2021-12-14T21:34:07.619Z"
   },
   {
    "duration": 4,
    "start_time": "2021-12-14T21:34:08.115Z"
   },
   {
    "duration": 2668,
    "start_time": "2021-12-14T21:34:08.361Z"
   },
   {
    "duration": 1332,
    "start_time": "2021-12-15T18:30:09.586Z"
   },
   {
    "duration": 469,
    "start_time": "2021-12-15T18:30:10.921Z"
   },
   {
    "duration": 37,
    "start_time": "2021-12-15T18:30:11.393Z"
   },
   {
    "duration": 71,
    "start_time": "2021-12-15T18:30:11.433Z"
   },
   {
    "duration": 153,
    "start_time": "2021-12-15T18:30:11.518Z"
   },
   {
    "duration": 57,
    "start_time": "2021-12-15T18:30:11.673Z"
   },
   {
    "duration": 3,
    "start_time": "2021-12-15T18:30:11.732Z"
   },
   {
    "duration": 5,
    "start_time": "2021-12-15T18:30:11.739Z"
   },
   {
    "duration": 379,
    "start_time": "2021-12-15T18:30:11.747Z"
   },
   {
    "duration": 88,
    "start_time": "2021-12-15T18:30:12.130Z"
   },
   {
    "duration": 99,
    "start_time": "2021-12-15T18:30:12.223Z"
   },
   {
    "duration": 16,
    "start_time": "2021-12-15T18:30:12.325Z"
   },
   {
    "duration": 15,
    "start_time": "2021-12-15T18:30:12.343Z"
   },
   {
    "duration": 8,
    "start_time": "2021-12-15T18:30:12.360Z"
   },
   {
    "duration": 19,
    "start_time": "2021-12-15T18:30:12.370Z"
   },
   {
    "duration": 26,
    "start_time": "2021-12-15T18:30:12.392Z"
   },
   {
    "duration": 6,
    "start_time": "2021-12-15T18:30:12.421Z"
   },
   {
    "duration": 6,
    "start_time": "2021-12-15T18:30:12.431Z"
   },
   {
    "duration": 10,
    "start_time": "2021-12-15T18:30:12.439Z"
   },
   {
    "duration": 21,
    "start_time": "2021-12-15T18:30:12.451Z"
   },
   {
    "duration": 49,
    "start_time": "2021-12-15T18:30:12.474Z"
   },
   {
    "duration": 12,
    "start_time": "2021-12-15T18:30:12.525Z"
   },
   {
    "duration": 4,
    "start_time": "2021-12-15T18:30:12.541Z"
   },
   {
    "duration": 7,
    "start_time": "2021-12-15T18:30:12.547Z"
   },
   {
    "duration": 12,
    "start_time": "2021-12-15T18:30:12.556Z"
   },
   {
    "duration": 4843,
    "start_time": "2021-12-15T18:30:12.570Z"
   },
   {
    "duration": 4804,
    "start_time": "2021-12-15T18:30:17.417Z"
   },
   {
    "duration": 5002,
    "start_time": "2021-12-15T18:30:22.224Z"
   },
   {
    "duration": 4,
    "start_time": "2021-12-15T18:31:39.083Z"
   },
   {
    "duration": 513,
    "start_time": "2021-12-15T18:31:39.090Z"
   },
   {
    "duration": 22,
    "start_time": "2021-12-15T18:31:39.606Z"
   },
   {
    "duration": 89,
    "start_time": "2021-12-15T18:31:39.631Z"
   },
   {
    "duration": 143,
    "start_time": "2021-12-15T18:31:39.723Z"
   },
   {
    "duration": 53,
    "start_time": "2021-12-15T18:31:39.869Z"
   },
   {
    "duration": 3,
    "start_time": "2021-12-15T18:31:39.924Z"
   },
   {
    "duration": 8,
    "start_time": "2021-12-15T18:31:39.929Z"
   },
   {
    "duration": 380,
    "start_time": "2021-12-15T18:31:39.943Z"
   },
   {
    "duration": 90,
    "start_time": "2021-12-15T18:31:40.328Z"
   },
   {
    "duration": 98,
    "start_time": "2021-12-15T18:31:40.421Z"
   },
   {
    "duration": 7,
    "start_time": "2021-12-15T18:31:40.521Z"
   },
   {
    "duration": 8,
    "start_time": "2021-12-15T18:31:40.530Z"
   },
   {
    "duration": 4,
    "start_time": "2021-12-15T18:31:40.540Z"
   },
   {
    "duration": 7,
    "start_time": "2021-12-15T18:31:40.546Z"
   },
   {
    "duration": 6,
    "start_time": "2021-12-15T18:31:40.555Z"
   },
   {
    "duration": 53,
    "start_time": "2021-12-15T18:31:40.563Z"
   },
   {
    "duration": 5,
    "start_time": "2021-12-15T18:31:40.618Z"
   },
   {
    "duration": 7,
    "start_time": "2021-12-15T18:31:40.625Z"
   },
   {
    "duration": 20,
    "start_time": "2021-12-15T18:31:40.634Z"
   },
   {
    "duration": 12,
    "start_time": "2021-12-15T18:31:40.656Z"
   },
   {
    "duration": 50,
    "start_time": "2021-12-15T18:31:40.670Z"
   },
   {
    "duration": 4,
    "start_time": "2021-12-15T18:31:40.722Z"
   },
   {
    "duration": 6,
    "start_time": "2021-12-15T18:31:40.728Z"
   },
   {
    "duration": 6,
    "start_time": "2021-12-15T18:31:40.737Z"
   },
   {
    "duration": 5138,
    "start_time": "2021-12-15T18:31:40.745Z"
   },
   {
    "duration": 4814,
    "start_time": "2021-12-15T18:31:45.887Z"
   },
   {
    "duration": 5442,
    "start_time": "2021-12-15T18:31:50.704Z"
   },
   {
    "duration": 1531,
    "start_time": "2021-12-15T19:18:03.690Z"
   },
   {
    "duration": 495,
    "start_time": "2021-12-15T19:18:05.223Z"
   },
   {
    "duration": 40,
    "start_time": "2021-12-15T19:18:05.721Z"
   },
   {
    "duration": 96,
    "start_time": "2021-12-15T19:18:05.764Z"
   },
   {
    "duration": 160,
    "start_time": "2021-12-15T19:18:05.863Z"
   },
   {
    "duration": 113,
    "start_time": "2021-12-15T19:18:06.025Z"
   },
   {
    "duration": 4,
    "start_time": "2021-12-15T19:18:06.141Z"
   },
   {
    "duration": 7,
    "start_time": "2021-12-15T19:18:06.149Z"
   },
   {
    "duration": 356,
    "start_time": "2021-12-15T19:18:06.162Z"
   },
   {
    "duration": 9,
    "start_time": "2021-12-15T19:18:06.523Z"
   },
   {
    "duration": 95,
    "start_time": "2021-12-15T19:18:06.541Z"
   },
   {
    "duration": 9,
    "start_time": "2021-12-15T19:18:06.639Z"
   },
   {
    "duration": 9,
    "start_time": "2021-12-15T19:18:06.650Z"
   },
   {
    "duration": 4,
    "start_time": "2021-12-15T19:18:06.661Z"
   },
   {
    "duration": 52,
    "start_time": "2021-12-15T19:18:06.668Z"
   },
   {
    "duration": 10,
    "start_time": "2021-12-15T19:18:06.723Z"
   },
   {
    "duration": 9,
    "start_time": "2021-12-15T19:18:06.737Z"
   },
   {
    "duration": 13,
    "start_time": "2021-12-15T19:18:06.752Z"
   },
   {
    "duration": 9,
    "start_time": "2021-12-15T19:18:06.772Z"
   },
   {
    "duration": 22,
    "start_time": "2021-12-15T19:18:06.816Z"
   },
   {
    "duration": 18,
    "start_time": "2021-12-15T19:18:06.841Z"
   },
   {
    "duration": 36,
    "start_time": "2021-12-15T19:18:06.861Z"
   },
   {
    "duration": 23,
    "start_time": "2021-12-15T19:18:06.899Z"
   },
   {
    "duration": 12,
    "start_time": "2021-12-15T19:18:06.925Z"
   },
   {
    "duration": 10,
    "start_time": "2021-12-15T19:18:06.940Z"
   },
   {
    "duration": 5872,
    "start_time": "2021-12-15T19:18:06.952Z"
   },
   {
    "duration": 5305,
    "start_time": "2021-12-15T19:18:12.830Z"
   },
   {
    "duration": 5381,
    "start_time": "2021-12-15T19:18:18.137Z"
   },
   {
    "duration": 5,
    "start_time": "2021-12-15T19:25:45.592Z"
   },
   {
    "duration": 6,
    "start_time": "2021-12-15T19:25:48.227Z"
   },
   {
    "duration": 5312,
    "start_time": "2021-12-15T19:25:49.112Z"
   },
   {
    "duration": 5116,
    "start_time": "2021-12-15T19:31:47.381Z"
   },
   {
    "duration": 14,
    "start_time": "2021-12-15T19:38:16.274Z"
   },
   {
    "duration": 21,
    "start_time": "2021-12-15T19:38:32.759Z"
   },
   {
    "duration": 34,
    "start_time": "2021-12-15T19:38:36.335Z"
   },
   {
    "duration": 6,
    "start_time": "2021-12-15T20:37:04.153Z"
   },
   {
    "duration": 5580,
    "start_time": "2021-12-15T20:37:06.073Z"
   },
   {
    "duration": 5,
    "start_time": "2021-12-15T20:42:25.391Z"
   },
   {
    "duration": 4850,
    "start_time": "2021-12-15T20:42:26.197Z"
   },
   {
    "duration": 6,
    "start_time": "2021-12-15T20:52:36.566Z"
   },
   {
    "duration": 4964,
    "start_time": "2021-12-15T20:52:37.345Z"
   },
   {
    "duration": 4818,
    "start_time": "2021-12-15T20:52:54.987Z"
   },
   {
    "duration": 4917,
    "start_time": "2021-12-15T20:52:59.807Z"
   },
   {
    "duration": 8,
    "start_time": "2021-12-16T08:47:25.816Z"
   },
   {
    "duration": 1518,
    "start_time": "2021-12-16T08:47:31.507Z"
   },
   {
    "duration": 496,
    "start_time": "2021-12-16T08:47:33.028Z"
   },
   {
    "duration": 34,
    "start_time": "2021-12-16T08:47:33.529Z"
   },
   {
    "duration": 27,
    "start_time": "2021-12-16T08:47:33.566Z"
   },
   {
    "duration": 87,
    "start_time": "2021-12-16T08:47:33.596Z"
   },
   {
    "duration": 142,
    "start_time": "2021-12-16T08:47:33.685Z"
   },
   {
    "duration": 70,
    "start_time": "2021-12-16T08:47:33.830Z"
   },
   {
    "duration": 3,
    "start_time": "2021-12-16T08:47:33.902Z"
   },
   {
    "duration": 14,
    "start_time": "2021-12-16T08:47:33.909Z"
   },
   {
    "duration": 409,
    "start_time": "2021-12-16T08:47:33.925Z"
   },
   {
    "duration": 6,
    "start_time": "2021-12-16T08:47:34.337Z"
   },
   {
    "duration": 125,
    "start_time": "2021-12-16T08:47:34.425Z"
   },
   {
    "duration": 13,
    "start_time": "2021-12-16T08:47:34.553Z"
   },
   {
    "duration": 9,
    "start_time": "2021-12-16T08:47:34.569Z"
   },
   {
    "duration": 12,
    "start_time": "2021-12-16T08:47:34.580Z"
   },
   {
    "duration": 10,
    "start_time": "2021-12-16T08:47:34.594Z"
   },
   {
    "duration": 8,
    "start_time": "2021-12-16T08:47:34.606Z"
   },
   {
    "duration": 22,
    "start_time": "2021-12-16T08:47:34.624Z"
   },
   {
    "duration": 11,
    "start_time": "2021-12-16T08:47:34.648Z"
   },
   {
    "duration": 10,
    "start_time": "2021-12-16T08:47:34.661Z"
   },
   {
    "duration": 23,
    "start_time": "2021-12-16T08:47:34.674Z"
   },
   {
    "duration": 23,
    "start_time": "2021-12-16T08:47:34.700Z"
   },
   {
    "duration": 14,
    "start_time": "2021-12-16T08:47:34.726Z"
   },
   {
    "duration": 4,
    "start_time": "2021-12-16T08:47:34.743Z"
   },
   {
    "duration": 7,
    "start_time": "2021-12-16T08:47:34.750Z"
   },
   {
    "duration": 4,
    "start_time": "2021-12-16T08:47:39.359Z"
   },
   {
    "duration": 485,
    "start_time": "2021-12-16T08:47:39.366Z"
   },
   {
    "duration": 23,
    "start_time": "2021-12-16T08:47:39.853Z"
   },
   {
    "duration": 45,
    "start_time": "2021-12-16T08:47:39.878Z"
   },
   {
    "duration": 59,
    "start_time": "2021-12-16T08:47:39.925Z"
   },
   {
    "duration": 141,
    "start_time": "2021-12-16T08:47:39.987Z"
   },
   {
    "duration": 44,
    "start_time": "2021-12-16T08:47:40.130Z"
   },
   {
    "duration": 3,
    "start_time": "2021-12-16T08:47:40.178Z"
   },
   {
    "duration": 18,
    "start_time": "2021-12-16T08:47:40.184Z"
   },
   {
    "duration": 427,
    "start_time": "2021-12-16T08:47:40.204Z"
   },
   {
    "duration": 5,
    "start_time": "2021-12-16T08:47:40.635Z"
   },
   {
    "duration": 110,
    "start_time": "2021-12-16T08:47:40.725Z"
   },
   {
    "duration": 20,
    "start_time": "2021-12-16T08:47:40.837Z"
   },
   {
    "duration": 18,
    "start_time": "2021-12-16T08:47:40.859Z"
   },
   {
    "duration": 9,
    "start_time": "2021-12-16T08:47:40.879Z"
   },
   {
    "duration": 11,
    "start_time": "2021-12-16T08:47:40.890Z"
   },
   {
    "duration": 7,
    "start_time": "2021-12-16T08:47:40.903Z"
   },
   {
    "duration": 15,
    "start_time": "2021-12-16T08:47:40.911Z"
   },
   {
    "duration": 12,
    "start_time": "2021-12-16T08:47:40.928Z"
   },
   {
    "duration": 7,
    "start_time": "2021-12-16T08:47:40.942Z"
   },
   {
    "duration": 16,
    "start_time": "2021-12-16T08:47:40.951Z"
   },
   {
    "duration": 10,
    "start_time": "2021-12-16T08:47:40.969Z"
   },
   {
    "duration": 43,
    "start_time": "2021-12-16T08:47:40.984Z"
   },
   {
    "duration": 4,
    "start_time": "2021-12-16T08:47:41.030Z"
   },
   {
    "duration": 7,
    "start_time": "2021-12-16T08:47:41.036Z"
   },
   {
    "duration": 6,
    "start_time": "2021-12-16T08:47:41.046Z"
   },
   {
    "duration": 976,
    "start_time": "2021-12-16T08:47:42.645Z"
   },
   {
    "duration": 5,
    "start_time": "2021-12-16T08:50:52.616Z"
   },
   {
    "duration": 943,
    "start_time": "2021-12-16T08:50:55.403Z"
   },
   {
    "duration": 6,
    "start_time": "2021-12-16T08:51:00.137Z"
   },
   {
    "duration": 6,
    "start_time": "2021-12-16T08:51:02.415Z"
   },
   {
    "duration": 815,
    "start_time": "2021-12-16T08:51:05.320Z"
   },
   {
    "duration": 8,
    "start_time": "2021-12-16T08:51:10.037Z"
   },
   {
    "duration": 1074,
    "start_time": "2021-12-16T08:51:11.343Z"
   },
   {
    "duration": 4,
    "start_time": "2021-12-16T08:51:59.815Z"
   },
   {
    "duration": 470,
    "start_time": "2021-12-16T08:51:59.822Z"
   },
   {
    "duration": 32,
    "start_time": "2021-12-16T08:52:00.295Z"
   },
   {
    "duration": 47,
    "start_time": "2021-12-16T08:52:00.330Z"
   },
   {
    "duration": 68,
    "start_time": "2021-12-16T08:52:00.380Z"
   },
   {
    "duration": 136,
    "start_time": "2021-12-16T08:52:00.451Z"
   },
   {
    "duration": 44,
    "start_time": "2021-12-16T08:52:00.590Z"
   },
   {
    "duration": 3,
    "start_time": "2021-12-16T08:52:00.637Z"
   },
   {
    "duration": 13,
    "start_time": "2021-12-16T08:52:00.643Z"
   },
   {
    "duration": 378,
    "start_time": "2021-12-16T08:52:00.658Z"
   },
   {
    "duration": 86,
    "start_time": "2021-12-16T08:52:01.039Z"
   },
   {
    "duration": 125,
    "start_time": "2021-12-16T08:52:01.129Z"
   },
   {
    "duration": 20,
    "start_time": "2021-12-16T08:52:01.256Z"
   },
   {
    "duration": 21,
    "start_time": "2021-12-16T08:52:01.278Z"
   },
   {
    "duration": 18,
    "start_time": "2021-12-16T08:52:01.301Z"
   },
   {
    "duration": 21,
    "start_time": "2021-12-16T08:52:01.321Z"
   },
   {
    "duration": 39,
    "start_time": "2021-12-16T08:52:01.344Z"
   },
   {
    "duration": 41,
    "start_time": "2021-12-16T08:52:01.385Z"
   },
   {
    "duration": 14,
    "start_time": "2021-12-16T08:52:01.430Z"
   },
   {
    "duration": 9,
    "start_time": "2021-12-16T08:52:01.447Z"
   },
   {
    "duration": 30,
    "start_time": "2021-12-16T08:52:01.458Z"
   },
   {
    "duration": 16,
    "start_time": "2021-12-16T08:52:01.490Z"
   },
   {
    "duration": 15,
    "start_time": "2021-12-16T08:52:01.508Z"
   },
   {
    "duration": 3,
    "start_time": "2021-12-16T08:52:01.525Z"
   },
   {
    "duration": 5,
    "start_time": "2021-12-16T08:52:02.906Z"
   },
   {
    "duration": 5,
    "start_time": "2021-12-16T08:52:04.162Z"
   },
   {
    "duration": 877,
    "start_time": "2021-12-16T08:52:05.448Z"
   },
   {
    "duration": 6,
    "start_time": "2021-12-16T08:52:13.486Z"
   },
   {
    "duration": 1329,
    "start_time": "2021-12-16T08:52:14.589Z"
   },
   {
    "duration": 5,
    "start_time": "2021-12-16T08:53:11.492Z"
   },
   {
    "duration": 6,
    "start_time": "2021-12-16T08:53:12.821Z"
   },
   {
    "duration": 5190,
    "start_time": "2021-12-16T08:53:14.446Z"
   },
   {
    "duration": 6,
    "start_time": "2021-12-16T08:53:30.650Z"
   },
   {
    "duration": 5285,
    "start_time": "2021-12-16T08:53:30.658Z"
   },
   {
    "duration": 4905,
    "start_time": "2021-12-16T08:53:43.792Z"
   },
   {
    "duration": 5,
    "start_time": "2021-12-16T08:53:53.235Z"
   },
   {
    "duration": 5056,
    "start_time": "2021-12-16T08:53:56.825Z"
   },
   {
    "duration": 5,
    "start_time": "2021-12-16T08:54:38.643Z"
   },
   {
    "duration": 5,
    "start_time": "2021-12-16T08:54:39.890Z"
   },
   {
    "duration": 4589,
    "start_time": "2021-12-16T08:54:42.011Z"
   },
   {
    "duration": 5,
    "start_time": "2021-12-16T08:55:06.533Z"
   },
   {
    "duration": 5,
    "start_time": "2021-12-16T08:55:09.474Z"
   },
   {
    "duration": 4605,
    "start_time": "2021-12-16T08:55:11.089Z"
   },
   {
    "duration": 8,
    "start_time": "2021-12-16T08:55:44.908Z"
   },
   {
    "duration": 8,
    "start_time": "2021-12-16T08:55:51.083Z"
   },
   {
    "duration": 6,
    "start_time": "2021-12-16T08:55:52.337Z"
   },
   {
    "duration": 4650,
    "start_time": "2021-12-16T08:55:53.687Z"
   },
   {
    "duration": 4986,
    "start_time": "2021-12-16T08:56:45.937Z"
   },
   {
    "duration": 4630,
    "start_time": "2021-12-16T08:56:50.926Z"
   },
   {
    "duration": 5571,
    "start_time": "2021-12-16T09:01:36.815Z"
   },
   {
    "duration": 6,
    "start_time": "2021-12-16T09:02:17.715Z"
   },
   {
    "duration": 5288,
    "start_time": "2021-12-16T09:02:20.573Z"
   },
   {
    "duration": 5047,
    "start_time": "2021-12-16T09:02:29.133Z"
   },
   {
    "duration": 5,
    "start_time": "2021-12-16T09:03:07.872Z"
   },
   {
    "duration": 5059,
    "start_time": "2021-12-16T09:03:09.098Z"
   },
   {
    "duration": 94,
    "start_time": "2021-12-16T09:05:45.561Z"
   },
   {
    "duration": 4673,
    "start_time": "2021-12-16T09:05:50.731Z"
   },
   {
    "duration": 4735,
    "start_time": "2021-12-16T09:05:55.406Z"
   },
   {
    "duration": 4652,
    "start_time": "2021-12-16T09:06:00.143Z"
   },
   {
    "duration": 6,
    "start_time": "2021-12-16T09:07:07.534Z"
   },
   {
    "duration": 4852,
    "start_time": "2021-12-16T09:07:09.307Z"
   },
   {
    "duration": 5,
    "start_time": "2021-12-16T09:09:24.274Z"
   },
   {
    "duration": 4997,
    "start_time": "2021-12-16T09:09:28.768Z"
   },
   {
    "duration": 6,
    "start_time": "2021-12-16T09:21:29.617Z"
   },
   {
    "duration": 5,
    "start_time": "2021-12-16T09:21:42.889Z"
   },
   {
    "duration": 478,
    "start_time": "2021-12-16T09:21:42.897Z"
   },
   {
    "duration": 22,
    "start_time": "2021-12-16T09:21:43.378Z"
   },
   {
    "duration": 37,
    "start_time": "2021-12-16T09:21:43.403Z"
   },
   {
    "duration": 56,
    "start_time": "2021-12-16T09:21:43.442Z"
   },
   {
    "duration": 116,
    "start_time": "2021-12-16T09:21:43.501Z"
   },
   {
    "duration": 47,
    "start_time": "2021-12-16T09:21:43.624Z"
   },
   {
    "duration": 4,
    "start_time": "2021-12-16T09:21:43.676Z"
   },
   {
    "duration": 14,
    "start_time": "2021-12-16T09:21:43.684Z"
   },
   {
    "duration": 424,
    "start_time": "2021-12-16T09:21:43.701Z"
   },
   {
    "duration": 5,
    "start_time": "2021-12-16T09:21:44.129Z"
   },
   {
    "duration": 96,
    "start_time": "2021-12-16T09:21:44.137Z"
   },
   {
    "duration": 8,
    "start_time": "2021-12-16T09:21:44.323Z"
   },
   {
    "duration": 19,
    "start_time": "2021-12-16T09:21:44.334Z"
   },
   {
    "duration": 11,
    "start_time": "2021-12-16T09:21:44.356Z"
   },
   {
    "duration": 17,
    "start_time": "2021-12-16T09:21:44.369Z"
   },
   {
    "duration": 16,
    "start_time": "2021-12-16T09:21:44.388Z"
   },
   {
    "duration": 17,
    "start_time": "2021-12-16T09:21:44.407Z"
   },
   {
    "duration": 14,
    "start_time": "2021-12-16T09:21:44.427Z"
   },
   {
    "duration": 21,
    "start_time": "2021-12-16T09:21:44.444Z"
   },
   {
    "duration": 23,
    "start_time": "2021-12-16T09:21:44.467Z"
   },
   {
    "duration": 15,
    "start_time": "2021-12-16T09:21:44.493Z"
   },
   {
    "duration": 15,
    "start_time": "2021-12-16T09:21:44.513Z"
   },
   {
    "duration": 4,
    "start_time": "2021-12-16T09:21:44.530Z"
   },
   {
    "duration": 6,
    "start_time": "2021-12-16T09:21:44.536Z"
   },
   {
    "duration": 7,
    "start_time": "2021-12-16T09:21:44.545Z"
   },
   {
    "duration": 4780,
    "start_time": "2021-12-16T09:21:44.554Z"
   },
   {
    "duration": 4742,
    "start_time": "2021-12-16T09:21:49.336Z"
   },
   {
    "duration": 4684,
    "start_time": "2021-12-16T09:21:54.080Z"
   },
   {
    "duration": 5,
    "start_time": "2021-12-16T09:26:55.823Z"
   },
   {
    "duration": 4597,
    "start_time": "2021-12-16T09:27:00.188Z"
   },
   {
    "duration": 4645,
    "start_time": "2021-12-16T09:37:42.813Z"
   },
   {
    "duration": 1304,
    "start_time": "2021-12-16T09:37:53.609Z"
   },
   {
    "duration": 439,
    "start_time": "2021-12-16T09:37:54.915Z"
   },
   {
    "duration": 31,
    "start_time": "2021-12-16T09:37:55.357Z"
   },
   {
    "duration": 43,
    "start_time": "2021-12-16T09:37:55.391Z"
   },
   {
    "duration": 57,
    "start_time": "2021-12-16T09:37:55.436Z"
   },
   {
    "duration": 140,
    "start_time": "2021-12-16T09:37:55.495Z"
   },
   {
    "duration": 51,
    "start_time": "2021-12-16T09:37:55.638Z"
   },
   {
    "duration": 3,
    "start_time": "2021-12-16T09:37:55.692Z"
   },
   {
    "duration": 24,
    "start_time": "2021-12-16T09:37:55.699Z"
   },
   {
    "duration": 404,
    "start_time": "2021-12-16T09:37:55.726Z"
   },
   {
    "duration": 6,
    "start_time": "2021-12-16T09:37:56.133Z"
   },
   {
    "duration": 104,
    "start_time": "2021-12-16T09:37:56.225Z"
   },
   {
    "duration": 7,
    "start_time": "2021-12-16T09:37:56.332Z"
   },
   {
    "duration": 8,
    "start_time": "2021-12-16T09:37:56.342Z"
   },
   {
    "duration": 6,
    "start_time": "2021-12-16T09:37:56.352Z"
   },
   {
    "duration": 11,
    "start_time": "2021-12-16T09:37:56.360Z"
   },
   {
    "duration": 8,
    "start_time": "2021-12-16T09:37:56.373Z"
   },
   {
    "duration": 5,
    "start_time": "2021-12-16T09:37:56.424Z"
   },
   {
    "duration": 6,
    "start_time": "2021-12-16T09:37:56.431Z"
   },
   {
    "duration": 6,
    "start_time": "2021-12-16T09:37:56.439Z"
   },
   {
    "duration": 17,
    "start_time": "2021-12-16T09:37:56.447Z"
   },
   {
    "duration": 10,
    "start_time": "2021-12-16T09:37:56.467Z"
   },
   {
    "duration": 11,
    "start_time": "2021-12-16T09:37:56.524Z"
   },
   {
    "duration": 4,
    "start_time": "2021-12-16T09:37:56.538Z"
   },
   {
    "duration": 17,
    "start_time": "2021-12-16T09:37:56.544Z"
   },
   {
    "duration": 12,
    "start_time": "2021-12-16T09:37:56.564Z"
   },
   {
    "duration": 4746,
    "start_time": "2021-12-16T09:37:56.580Z"
   },
   {
    "duration": 4764,
    "start_time": "2021-12-16T09:38:01.329Z"
   },
   {
    "duration": 4787,
    "start_time": "2021-12-16T09:38:07.605Z"
   },
   {
    "duration": 1196,
    "start_time": "2021-12-18T11:47:50.825Z"
   },
   {
    "duration": 539,
    "start_time": "2021-12-18T11:47:52.025Z"
   },
   {
    "duration": 46,
    "start_time": "2021-12-18T11:47:52.568Z"
   },
   {
    "duration": 55,
    "start_time": "2021-12-18T11:47:52.617Z"
   },
   {
    "duration": 65,
    "start_time": "2021-12-18T11:47:52.675Z"
   },
   {
    "duration": 154,
    "start_time": "2021-12-18T11:47:52.759Z"
   },
   {
    "duration": 59,
    "start_time": "2021-12-18T11:47:52.915Z"
   },
   {
    "duration": 3,
    "start_time": "2021-12-18T11:47:52.978Z"
   },
   {
    "duration": 6,
    "start_time": "2021-12-18T11:47:52.984Z"
   },
   {
    "duration": 390,
    "start_time": "2021-12-18T11:47:52.993Z"
   },
   {
    "duration": 9,
    "start_time": "2021-12-18T11:47:53.461Z"
   },
   {
    "duration": 97,
    "start_time": "2021-12-18T11:47:53.473Z"
   },
   {
    "duration": 8,
    "start_time": "2021-12-18T11:47:53.572Z"
   },
   {
    "duration": 8,
    "start_time": "2021-12-18T11:47:53.582Z"
   },
   {
    "duration": 6,
    "start_time": "2021-12-18T11:47:53.592Z"
   },
   {
    "duration": 6,
    "start_time": "2021-12-18T11:47:53.600Z"
   },
   {
    "duration": 51,
    "start_time": "2021-12-18T11:47:53.608Z"
   },
   {
    "duration": 6,
    "start_time": "2021-12-18T11:47:53.662Z"
   },
   {
    "duration": 8,
    "start_time": "2021-12-18T11:47:53.671Z"
   },
   {
    "duration": 5,
    "start_time": "2021-12-18T11:47:53.682Z"
   },
   {
    "duration": 12,
    "start_time": "2021-12-18T11:47:53.690Z"
   },
   {
    "duration": 57,
    "start_time": "2021-12-18T11:47:53.704Z"
   },
   {
    "duration": 11,
    "start_time": "2021-12-18T11:47:53.768Z"
   },
   {
    "duration": 4,
    "start_time": "2021-12-18T11:47:53.783Z"
   },
   {
    "duration": 7,
    "start_time": "2021-12-18T11:47:53.790Z"
   },
   {
    "duration": 8,
    "start_time": "2021-12-18T11:47:53.800Z"
   },
   {
    "duration": 1902,
    "start_time": "2021-12-18T11:47:53.810Z"
   },
   {
    "duration": 2332,
    "start_time": "2021-12-18T11:47:55.715Z"
   },
   {
    "duration": 2345,
    "start_time": "2021-12-18T11:47:58.050Z"
   }
  ],
  "kernelspec": {
   "display_name": "Python 3",
   "language": "python",
   "name": "python3"
  },
  "language_info": {
   "codemirror_mode": {
    "name": "ipython",
    "version": 3
   },
   "file_extension": ".py",
   "mimetype": "text/x-python",
   "name": "python",
   "nbconvert_exporter": "python",
   "pygments_lexer": "ipython3",
   "version": "3.10.1"
  },
  "toc": {
   "base_numbering": 1,
   "nav_menu": {},
   "number_sections": false,
   "sideBar": true,
   "skip_h1_title": true,
   "title_cell": "Table of Contents",
   "title_sidebar": "Contents",
   "toc_cell": false,
   "toc_position": {
    "height": "calc(100% - 180px)",
    "left": "10px",
    "top": "150px",
    "width": "165px"
   },
   "toc_section_display": false,
   "toc_window_display": false
  }
 },
 "nbformat": 4,
 "nbformat_minor": 2
}
