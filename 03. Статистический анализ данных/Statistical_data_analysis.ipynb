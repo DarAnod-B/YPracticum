{
 "cells": [
  {
   "cell_type": "markdown",
   "metadata": {},
   "source": [
    "# <span style=\"color: crimson\">Статистический анализ данных</span>\n",
    "---\n",
    "**<span style=\"color: crimson\">Заказчик</span>**: компания «Мегалайн».  \n",
    "**<span style=\"color: crimson\">Цель анализа</span>**: определить самый выгодный для компании тариф.  \n",
    "**<span style=\"color: crimson\">Датасет</span>**: небольшая выборка клиентов.\n",
    "\n",
    "---"
   ]
  },
  {
   "cell_type": "markdown",
   "metadata": {},
   "source": [
    "<h3>Описание тарифов:</h3>\n",
    "\n",
    "<b>|Тариф «Смарт»</b>\n",
    "\n",
    "* Ежемесячная плата: 550 рублей\n",
    "\n",
    "* Включено 500 минут разговора, 50 сообщений и 15 Гб интернет-трафика\n",
    "\n",
    "* Стоимость услуг сверх тарифного пакета:\n",
    "    1. минута разговора: 3 рубля\n",
    "    2. сообщение: 3 рубля \n",
    "    3. 1 Гб интернет-трафика: 200 рублей.\n",
    "\n",
    "<b>|Тариф «Ультра»</b>\n",
    "\n",
    "* Ежемесячная плата: 1950 рублей\n",
    "* Включено 3000 минут разговора, 1000 сообщений и 30 Гб интернет-трафика\n",
    "* Стоимость услуг сверх тарифного пакета:\n",
    "1. минута разговора: 1 рубль\n",
    "2. сообщение: 1 рубль\n",
    "3. Гб интернет-трафика: 150 рублей.\n",
    "\n",
    "||| Примечание:\n",
    "\n",
    "«Мегалайн» всегда округляет секунды до минут, а мегабайты — до гигабайт."
   ]
  },
  {
   "cell_type": "markdown",
   "metadata": {},
   "source": [
    "<hr>"
   ]
  },
  {
   "cell_type": "markdown",
   "metadata": {},
   "source": [
    "### **Описание данных**  \n",
    "<hr>\n",
    "Таблица <span style=\"color: red\"><b>users </b></span>(информация о пользователях):\n",
    "\n",
    "* <span style=\"color: red\"><b>user_id</b></span>— уникальный идентификатор пользователя\n",
    "* <span style=\"color: red\"><b>first_name </b></span>— имя пользователя\n",
    "* <span style=\"color: red\"><b>last_name </b></span>— фамилия пользователя\n",
    "* <span style=\"color: red\"><b>age </b></span>— возраст пользователя (годы)\n",
    "* <span style=\"color: red\"><b>reg_date </b></span>— дата подключения тарифа (день, месяц, год)\n",
    "* <span style=\"color: red\"><b>churn_date </b></span>— дата прекращения пользования тарифом (если значение пропущено, то тариф ещё действовал на момент выгрузки данных)\n",
    "* <span style=\"color: red\"><b>city </b></span>— город проживания пользователя\n",
    "* <span style=\"color: red\"><b>tarif </b></span>— название тарифного плана\n",
    "<hr>\n",
    "\n",
    "Таблица <span style=\"color: red\"><b>calls </b></span>(информация о звонках):\n",
    "    \n",
    "* <span style=\"color: red\"><b>id</b></span>— уникальный номер звонка\n",
    "* <span style=\"color: red\"><b>call_date </b></span>— дата звонка\n",
    "* <span style=\"color: red\"><b>duration </b></span>— длительность звонка в минутах\n",
    "* <span style=\"color: red\"><b>user_id</b></span>— идентификатор пользователя, сделавшего звонок\n",
    "<hr>\n",
    "\n",
    "Таблица <span style=\"color: red\"><b>messages </b></span>(информация о сообщениях):\n",
    "\n",
    "* <span style=\"color: red\"><b>id</b></span> — уникальный номер сообщения\n",
    "\n",
    "* <span style=\"color: red\"><b>message_date </b></span>— дата сообщения\n",
    "\n",
    "* <span style=\"color: red\"><b>user_id</b></span>— идентификатор пользователя, отправившего сообщение\n",
    "<hr>\n",
    "\n",
    "\n",
    "Таблица <span style=\"color: red\"><b>internet </b></span>(информация об интернет-сессиях):\n",
    "\n",
    "* <span style=\"color: red\"><b>id</b></span> — уникальный номер сессии\n",
    "\n",
    "* <span style=\"color: red\"><b>mb_used </b></span>— объём потраченного за сессию интернет-трафика (в мегабайтах)\n",
    "\n",
    "* <span style=\"color: red\"><b>session_date </b></span>— дата интернет-сессии\n",
    "\n",
    "* <span style=\"color: red\"><b>user_id</b></span> — идентификатор пользователя\n",
    "<hr>\n",
    "\n",
    "\n",
    "Таблица <span style=\"color: red\"><b>tariffs </b></span>(информация о тарифах):\n",
    "\n",
    "* <span style=\"color: red\"><b>tariff_name </b></span>— название тарифа\n",
    "\n",
    "* <span style=\"color: red\"><b>rub_monthly_fee </b></span>— ежемесячная абонентская плата в рублях\n",
    "\n",
    "* <span style=\"color: red\"><b>minutes_included </b></span>— количество минут разговора в месяц, включённых в абонентскую плату\n",
    "\n",
    "* <span style=\"color: red\"><b>messages_included </b></span>— количество сообщений в месяц, включённых в абонентскую плату\n",
    "\n",
    "* <span style=\"color: red\"><b>mb_per_month_included </b></span>— объём интернет-трафика, включённого в абонентскую плату (в мегабайтах)\n",
    "\n",
    "* <span style=\"color: red\"><b>rub_per_minute </b></span>— стоимость минуты разговора сверх тарифного пакета (например, если в тарифе 100 минут разговора в месяц, то со 101 минуты будет взиматься плата)\n",
    "\n",
    "* <span style=\"color: red\"><b>rub_per_message</b></span>— стоимость отправки сообщения сверх тарифного пакета\n",
    "\n",
    "* <span style=\"color: red\"><b>rub_per_gb </b></span>— стоимость дополнительного гигабайта интернет-трафика сверх тарифного пакета (1 гигабайт = 1024 мегабайта)\n"
   ]
  },
  {
   "cell_type": "markdown",
   "metadata": {},
   "source": [
    "## Импорт библиотек:"
   ]
  },
  {
   "cell_type": "code",
   "execution_count": 1,
   "metadata": {
    "scrolled": false
   },
   "outputs": [
    {
     "name": "stdout",
     "output_type": "stream",
     "text": [
      "Requirement already satisfied: sidetable in c:\\users\\владелец\\appdata\\local\\programs\\python\\python310\\lib\\site-packages (0.9.0)\n",
      "Requirement already satisfied: pandas>=1.0 in c:\\users\\владелец\\appdata\\local\\programs\\python\\python310\\lib\\site-packages (from sidetable) (1.4.1)\n",
      "Requirement already satisfied: pytz>=2020.1 in c:\\users\\владелец\\appdata\\local\\programs\\python\\python310\\lib\\site-packages (from pandas>=1.0->sidetable) (2021.3)\n",
      "Requirement already satisfied: python-dateutil>=2.8.1 in c:\\users\\владелец\\appdata\\local\\programs\\python\\python310\\lib\\site-packages (from pandas>=1.0->sidetable) (2.8.2)\n",
      "Requirement already satisfied: numpy>=1.21.0 in c:\\users\\владелец\\appdata\\local\\programs\\python\\python310\\lib\\site-packages (from pandas>=1.0->sidetable) (1.22.3)\n",
      "Requirement already satisfied: six>=1.5 in c:\\users\\владелец\\appdata\\local\\programs\\python\\python310\\lib\\site-packages (from python-dateutil>=2.8.1->pandas>=1.0->sidetable) (1.16.0)\n"
     ]
    }
   ],
   "source": [
    "!pip install sidetable"
   ]
  },
  {
   "cell_type": "code",
   "execution_count": 2,
   "metadata": {},
   "outputs": [],
   "source": [
    "import pandas as pd\n",
    "import sidetable as stb\n",
    "import scipy.stats as stats\n",
    "import math\n",
    "import matplotlib.pyplot as plt\n",
    "from scipy import stats as st\n",
    "import numpy as np"
   ]
  },
  {
   "cell_type": "code",
   "execution_count": 3,
   "metadata": {},
   "outputs": [],
   "source": [
    "# Отключаем обрезание колонок.\n",
    "pd.set_option('display.max_columns', None)\n",
    "# Округление чисел до 2 знаков после запятой. \n",
    "pd.set_option('display.float_format', '{:.2f}'.format)"
   ]
  },
  {
   "cell_type": "markdown",
   "metadata": {},
   "source": [
    "## <span style=\"color: crimson\">Этап 1</span> Изучение данных"
   ]
  },
  {
   "cell_type": "markdown",
   "metadata": {},
   "source": [
    "Импортируем таблицы."
   ]
  },
  {
   "cell_type": "code",
   "execution_count": 4,
   "metadata": {},
   "outputs": [],
   "source": [
    "users = pd.read_csv(\"./users.csv\", parse_dates=[\"churn_date\", \"reg_date\"])\n",
    "calls = pd.read_csv(\"./calls.csv\", parse_dates=[\"call_date\"])\n",
    "messages = pd.read_csv(\"./messages.csv\", parse_dates=[\"message_date\"])\n",
    "internet = pd.read_csv(\"./internet.csv\", parse_dates=[\"session_date\"], index_col=0)\n",
    "tariffs = pd.read_csv(\"./tariffs.csv\")\n"
   ]
  },
  {
   "cell_type": "markdown",
   "metadata": {},
   "source": [
    "<hr>"
   ]
  },
  {
   "cell_type": "markdown",
   "metadata": {},
   "source": [
    "<h3><b>Таблица: <span style=\"color: red\">users</span> (информация о пользователях):<a class=\"tocSkip\"></a>\n",
    "</b></h4>"
   ]
  },
  {
   "cell_type": "markdown",
   "metadata": {},
   "source": [
    "<span style=\"color: red\">|</span> Осмотрим набор данных"
   ]
  },
  {
   "cell_type": "code",
   "execution_count": 5,
   "metadata": {
    "scrolled": true
   },
   "outputs": [
    {
     "data": {
      "text/html": [
       "<div>\n",
       "<style scoped>\n",
       "    .dataframe tbody tr th:only-of-type {\n",
       "        vertical-align: middle;\n",
       "    }\n",
       "\n",
       "    .dataframe tbody tr th {\n",
       "        vertical-align: top;\n",
       "    }\n",
       "\n",
       "    .dataframe thead th {\n",
       "        text-align: right;\n",
       "    }\n",
       "</style>\n",
       "<table border=\"1\" class=\"dataframe\">\n",
       "  <thead>\n",
       "    <tr style=\"text-align: right;\">\n",
       "      <th></th>\n",
       "      <th>user_id</th>\n",
       "      <th>age</th>\n",
       "      <th>churn_date</th>\n",
       "      <th>city</th>\n",
       "      <th>first_name</th>\n",
       "      <th>last_name</th>\n",
       "      <th>reg_date</th>\n",
       "      <th>tariff</th>\n",
       "    </tr>\n",
       "  </thead>\n",
       "  <tbody>\n",
       "    <tr>\n",
       "      <th>0</th>\n",
       "      <td>1000</td>\n",
       "      <td>52</td>\n",
       "      <td>NaT</td>\n",
       "      <td>Краснодар</td>\n",
       "      <td>Рафаил</td>\n",
       "      <td>Верещагин</td>\n",
       "      <td>2018-05-25</td>\n",
       "      <td>ultra</td>\n",
       "    </tr>\n",
       "    <tr>\n",
       "      <th>1</th>\n",
       "      <td>1001</td>\n",
       "      <td>41</td>\n",
       "      <td>NaT</td>\n",
       "      <td>Москва</td>\n",
       "      <td>Иван</td>\n",
       "      <td>Ежов</td>\n",
       "      <td>2018-11-01</td>\n",
       "      <td>smart</td>\n",
       "    </tr>\n",
       "    <tr>\n",
       "      <th>2</th>\n",
       "      <td>1002</td>\n",
       "      <td>59</td>\n",
       "      <td>NaT</td>\n",
       "      <td>Стерлитамак</td>\n",
       "      <td>Евгений</td>\n",
       "      <td>Абрамович</td>\n",
       "      <td>2018-06-17</td>\n",
       "      <td>smart</td>\n",
       "    </tr>\n",
       "    <tr>\n",
       "      <th>3</th>\n",
       "      <td>1003</td>\n",
       "      <td>23</td>\n",
       "      <td>NaT</td>\n",
       "      <td>Москва</td>\n",
       "      <td>Белла</td>\n",
       "      <td>Белякова</td>\n",
       "      <td>2018-08-17</td>\n",
       "      <td>ultra</td>\n",
       "    </tr>\n",
       "    <tr>\n",
       "      <th>4</th>\n",
       "      <td>1004</td>\n",
       "      <td>68</td>\n",
       "      <td>NaT</td>\n",
       "      <td>Новокузнецк</td>\n",
       "      <td>Татьяна</td>\n",
       "      <td>Авдеенко</td>\n",
       "      <td>2018-05-14</td>\n",
       "      <td>ultra</td>\n",
       "    </tr>\n",
       "    <tr>\n",
       "      <th>5</th>\n",
       "      <td>1005</td>\n",
       "      <td>67</td>\n",
       "      <td>NaT</td>\n",
       "      <td>Набережные Челны</td>\n",
       "      <td>Афанасий</td>\n",
       "      <td>Горлов</td>\n",
       "      <td>2018-01-25</td>\n",
       "      <td>smart</td>\n",
       "    </tr>\n",
       "    <tr>\n",
       "      <th>6</th>\n",
       "      <td>1006</td>\n",
       "      <td>21</td>\n",
       "      <td>NaT</td>\n",
       "      <td>Ульяновск</td>\n",
       "      <td>Леонид</td>\n",
       "      <td>Ермолаев</td>\n",
       "      <td>2018-02-26</td>\n",
       "      <td>smart</td>\n",
       "    </tr>\n",
       "    <tr>\n",
       "      <th>7</th>\n",
       "      <td>1007</td>\n",
       "      <td>65</td>\n",
       "      <td>NaT</td>\n",
       "      <td>Москва</td>\n",
       "      <td>Юна</td>\n",
       "      <td>Березина</td>\n",
       "      <td>2018-04-19</td>\n",
       "      <td>smart</td>\n",
       "    </tr>\n",
       "    <tr>\n",
       "      <th>8</th>\n",
       "      <td>1008</td>\n",
       "      <td>63</td>\n",
       "      <td>NaT</td>\n",
       "      <td>Челябинск</td>\n",
       "      <td>Рустэм</td>\n",
       "      <td>Пономарёв</td>\n",
       "      <td>2018-12-19</td>\n",
       "      <td>smart</td>\n",
       "    </tr>\n",
       "    <tr>\n",
       "      <th>9</th>\n",
       "      <td>1009</td>\n",
       "      <td>24</td>\n",
       "      <td>NaT</td>\n",
       "      <td>Пермь</td>\n",
       "      <td>Василиса</td>\n",
       "      <td>Блинова</td>\n",
       "      <td>2018-03-22</td>\n",
       "      <td>smart</td>\n",
       "    </tr>\n",
       "  </tbody>\n",
       "</table>\n",
       "</div>"
      ],
      "text/plain": [
       "   user_id  age churn_date              city first_name  last_name   reg_date  \\\n",
       "0     1000   52        NaT         Краснодар     Рафаил  Верещагин 2018-05-25   \n",
       "1     1001   41        NaT            Москва       Иван       Ежов 2018-11-01   \n",
       "2     1002   59        NaT       Стерлитамак    Евгений  Абрамович 2018-06-17   \n",
       "3     1003   23        NaT            Москва      Белла   Белякова 2018-08-17   \n",
       "4     1004   68        NaT       Новокузнецк    Татьяна   Авдеенко 2018-05-14   \n",
       "5     1005   67        NaT  Набережные Челны   Афанасий     Горлов 2018-01-25   \n",
       "6     1006   21        NaT         Ульяновск     Леонид   Ермолаев 2018-02-26   \n",
       "7     1007   65        NaT            Москва        Юна   Березина 2018-04-19   \n",
       "8     1008   63        NaT         Челябинск     Рустэм  Пономарёв 2018-12-19   \n",
       "9     1009   24        NaT             Пермь   Василиса    Блинова 2018-03-22   \n",
       "\n",
       "  tariff  \n",
       "0  ultra  \n",
       "1  smart  \n",
       "2  smart  \n",
       "3  ultra  \n",
       "4  ultra  \n",
       "5  smart  \n",
       "6  smart  \n",
       "7  smart  \n",
       "8  smart  \n",
       "9  smart  "
      ]
     },
     "execution_count": 5,
     "metadata": {},
     "output_type": "execute_result"
    }
   ],
   "source": [
    "users.head(10)"
   ]
  },
  {
   "cell_type": "code",
   "execution_count": 6,
   "metadata": {},
   "outputs": [
    {
     "name": "stdout",
     "output_type": "stream",
     "text": [
      "<class 'pandas.core.frame.DataFrame'>\n",
      "RangeIndex: 500 entries, 0 to 499\n",
      "Data columns (total 8 columns):\n",
      " #   Column      Non-Null Count  Dtype         \n",
      "---  ------      --------------  -----         \n",
      " 0   user_id     500 non-null    int64         \n",
      " 1   age         500 non-null    int64         \n",
      " 2   churn_date  38 non-null     datetime64[ns]\n",
      " 3   city        500 non-null    object        \n",
      " 4   first_name  500 non-null    object        \n",
      " 5   last_name   500 non-null    object        \n",
      " 6   reg_date    500 non-null    datetime64[ns]\n",
      " 7   tariff      500 non-null    object        \n",
      "dtypes: datetime64[ns](2), int64(2), object(4)\n",
      "memory usage: 31.4+ KB\n"
     ]
    }
   ],
   "source": [
    "users.info()"
   ]
  },
  {
   "cell_type": "markdown",
   "metadata": {},
   "source": [
    "**Нужно исправить:**\n",
    "1. Заменить названия столбцов на более понятные.\n",
    "2. Изменить порядок столбцов для лучшей читаемости."
   ]
  },
  {
   "cell_type": "code",
   "execution_count": 7,
   "metadata": {},
   "outputs": [],
   "source": [
    "# Переименовываем столбцы и меняем их расположение.\n",
    "new_columns = {'reg_date'    : 'data_start',\n",
    "               'churn_date'  : 'data_end'}\n",
    "\n",
    "users.rename(columns=new_columns, \n",
    "             inplace=True)\n",
    "\n",
    "users = users[['user_id',\n",
    "               'first_name',\n",
    "               'last_name',\n",
    "               'age',\n",
    "               'city',\n",
    "               'data_start',\n",
    "               'data_end',\n",
    "               'tariff']]"
   ]
  },
  {
   "cell_type": "markdown",
   "metadata": {},
   "source": [
    "---"
   ]
  },
  {
   "cell_type": "code",
   "execution_count": 8,
   "metadata": {
    "scrolled": true
   },
   "outputs": [
    {
     "name": "stdout",
     "output_type": "stream",
     "text": [
      "<class 'pandas.core.frame.DataFrame'>\n",
      "RangeIndex: 500 entries, 0 to 499\n",
      "Data columns (total 8 columns):\n",
      " #   Column      Non-Null Count  Dtype         \n",
      "---  ------      --------------  -----         \n",
      " 0   user_id     500 non-null    int64         \n",
      " 1   first_name  500 non-null    object        \n",
      " 2   last_name   500 non-null    object        \n",
      " 3   age         500 non-null    int64         \n",
      " 4   city        500 non-null    object        \n",
      " 5   data_start  500 non-null    datetime64[ns]\n",
      " 6   data_end    38 non-null     datetime64[ns]\n",
      " 7   tariff      500 non-null    object        \n",
      "dtypes: datetime64[ns](2), int64(2), object(4)\n",
      "memory usage: 31.4+ KB\n"
     ]
    }
   ],
   "source": [
    "users.info()"
   ]
  },
  {
   "cell_type": "markdown",
   "metadata": {},
   "source": [
    "<b>Поменяет тип данных:</b>\n",
    "   *  <pre><b>age</b>        - uint8</pre>"
   ]
  },
  {
   "cell_type": "markdown",
   "metadata": {},
   "source": [
    "<span style=\"color: red\">|</span> Заменить некорректные типы данных"
   ]
  },
  {
   "cell_type": "code",
   "execution_count": 9,
   "metadata": {},
   "outputs": [],
   "source": [
    "users['age'] = users['age'].astype('uint8')"
   ]
  },
  {
   "cell_type": "markdown",
   "metadata": {},
   "source": [
    "<span style=\"color: red\">|</span> Найти и обработать пропуски"
   ]
  },
  {
   "cell_type": "code",
   "execution_count": 10,
   "metadata": {},
   "outputs": [
    {
     "data": {
      "text/html": [
       "<style type=\"text/css\">\n",
       "</style>\n",
       "<table id=\"T_4c63c\">\n",
       "  <thead>\n",
       "    <tr>\n",
       "      <th class=\"blank level0\" >&nbsp;</th>\n",
       "      <th id=\"T_4c63c_level0_col0\" class=\"col_heading level0 col0\" >missing</th>\n",
       "      <th id=\"T_4c63c_level0_col1\" class=\"col_heading level0 col1\" >total</th>\n",
       "      <th id=\"T_4c63c_level0_col2\" class=\"col_heading level0 col2\" >percent</th>\n",
       "    </tr>\n",
       "  </thead>\n",
       "  <tbody>\n",
       "    <tr>\n",
       "      <th id=\"T_4c63c_level0_row0\" class=\"row_heading level0 row0\" >data_end</th>\n",
       "      <td id=\"T_4c63c_row0_col0\" class=\"data row0 col0\" >462</td>\n",
       "      <td id=\"T_4c63c_row0_col1\" class=\"data row0 col1\" >500</td>\n",
       "      <td id=\"T_4c63c_row0_col2\" class=\"data row0 col2\" >92.40%</td>\n",
       "    </tr>\n",
       "  </tbody>\n",
       "</table>\n"
      ],
      "text/plain": [
       "<pandas.io.formats.style.Styler at 0x185bb6818a0>"
      ]
     },
     "execution_count": 10,
     "metadata": {},
     "output_type": "execute_result"
    }
   ],
   "source": [
    "users.stb.missing(style=True, clip_0=True)"
   ]
  },
  {
   "cell_type": "markdown",
   "metadata": {},
   "source": [
    "Пропуски в data_end означают, что тарифом до сих пор пользуются, так что пропуски остаются на своем месте."
   ]
  },
  {
   "cell_type": "markdown",
   "metadata": {},
   "source": [
    "<span style=\"color: red\">|</span> Поиск и удаление дубликатов."
   ]
  },
  {
   "cell_type": "code",
   "execution_count": 11,
   "metadata": {},
   "outputs": [
    {
     "data": {
      "text/plain": [
       "0"
      ]
     },
     "execution_count": 11,
     "metadata": {},
     "output_type": "execute_result"
    }
   ],
   "source": [
    "users.duplicated().sum()"
   ]
  },
  {
   "cell_type": "markdown",
   "metadata": {},
   "source": [
    "<span style=\"color: red\">|</span>  Иследование данных"
   ]
  },
  {
   "cell_type": "code",
   "execution_count": 12,
   "metadata": {},
   "outputs": [
    {
     "data": {
      "text/plain": [
       "datetime.date(2018, 1, 1)"
      ]
     },
     "metadata": {},
     "output_type": "display_data"
    },
    {
     "data": {
      "text/plain": [
       "datetime.date(2018, 12, 31)"
      ]
     },
     "metadata": {},
     "output_type": "display_data"
    }
   ],
   "source": [
    "display(users['data_start'].dt.date.min())\n",
    "display(users['data_start'].dt.date.max())"
   ]
  },
  {
   "cell_type": "markdown",
   "metadata": {},
   "source": [
    "Взглянем на распределение тарифов по возрастам абонентов."
   ]
  },
  {
   "cell_type": "code",
   "execution_count": 13,
   "metadata": {},
   "outputs": [
    {
     "data": {
      "text/html": [
       "<div>\n",
       "<style scoped>\n",
       "    .dataframe tbody tr th:only-of-type {\n",
       "        vertical-align: middle;\n",
       "    }\n",
       "\n",
       "    .dataframe tbody tr th {\n",
       "        vertical-align: top;\n",
       "    }\n",
       "\n",
       "    .dataframe thead th {\n",
       "        text-align: right;\n",
       "    }\n",
       "</style>\n",
       "<table border=\"1\" class=\"dataframe\">\n",
       "  <thead>\n",
       "    <tr style=\"text-align: right;\">\n",
       "      <th></th>\n",
       "      <th>count</th>\n",
       "      <th>mean</th>\n",
       "      <th>std</th>\n",
       "      <th>min</th>\n",
       "      <th>25%</th>\n",
       "      <th>50%</th>\n",
       "      <th>75%</th>\n",
       "      <th>max</th>\n",
       "    </tr>\n",
       "    <tr>\n",
       "      <th>tariff</th>\n",
       "      <th></th>\n",
       "      <th></th>\n",
       "      <th></th>\n",
       "      <th></th>\n",
       "      <th></th>\n",
       "      <th></th>\n",
       "      <th></th>\n",
       "      <th></th>\n",
       "    </tr>\n",
       "  </thead>\n",
       "  <tbody>\n",
       "    <tr>\n",
       "      <th>smart</th>\n",
       "      <td>351.00</td>\n",
       "      <td>46.46</td>\n",
       "      <td>16.58</td>\n",
       "      <td>18.00</td>\n",
       "      <td>32.00</td>\n",
       "      <td>47.00</td>\n",
       "      <td>62.00</td>\n",
       "      <td>75.00</td>\n",
       "    </tr>\n",
       "    <tr>\n",
       "      <th>ultra</th>\n",
       "      <td>149.00</td>\n",
       "      <td>46.90</td>\n",
       "      <td>16.92</td>\n",
       "      <td>18.00</td>\n",
       "      <td>31.00</td>\n",
       "      <td>46.00</td>\n",
       "      <td>63.00</td>\n",
       "      <td>75.00</td>\n",
       "    </tr>\n",
       "  </tbody>\n",
       "</table>\n",
       "</div>"
      ],
      "text/plain": [
       "        count  mean   std   min   25%   50%   75%   max\n",
       "tariff                                                 \n",
       "smart  351.00 46.46 16.58 18.00 32.00 47.00 62.00 75.00\n",
       "ultra  149.00 46.90 16.92 18.00 31.00 46.00 63.00 75.00"
      ]
     },
     "execution_count": 13,
     "metadata": {},
     "output_type": "execute_result"
    }
   ],
   "source": [
    "users.groupby('tariff')['age'].describe()"
   ]
  },
  {
   "cell_type": "markdown",
   "metadata": {},
   "source": [
    "**Вывод:**\n",
    "\n",
    "Оба тарифа распределены равномерно и не иммеют ярко выраженных особенностей, время за которое собраны данные 1 год (2018)."
   ]
  },
  {
   "cell_type": "markdown",
   "metadata": {},
   "source": [
    "<hr>"
   ]
  },
  {
   "cell_type": "markdown",
   "metadata": {},
   "source": [
    "<h3><b>| Таблица: <span style=\"color: red\">calls</span> (информация о звонках):\n",
    "</b><a class=\"tocSkip\"></a></h2>"
   ]
  },
  {
   "cell_type": "markdown",
   "metadata": {},
   "source": [
    "<span style=\"color: red\">|</span> Осмотрим набор данных"
   ]
  },
  {
   "cell_type": "code",
   "execution_count": 14,
   "metadata": {},
   "outputs": [
    {
     "data": {
      "text/html": [
       "<div>\n",
       "<style scoped>\n",
       "    .dataframe tbody tr th:only-of-type {\n",
       "        vertical-align: middle;\n",
       "    }\n",
       "\n",
       "    .dataframe tbody tr th {\n",
       "        vertical-align: top;\n",
       "    }\n",
       "\n",
       "    .dataframe thead th {\n",
       "        text-align: right;\n",
       "    }\n",
       "</style>\n",
       "<table border=\"1\" class=\"dataframe\">\n",
       "  <thead>\n",
       "    <tr style=\"text-align: right;\">\n",
       "      <th></th>\n",
       "      <th>id</th>\n",
       "      <th>call_date</th>\n",
       "      <th>duration</th>\n",
       "      <th>user_id</th>\n",
       "    </tr>\n",
       "  </thead>\n",
       "  <tbody>\n",
       "    <tr>\n",
       "      <th>0</th>\n",
       "      <td>1000_0</td>\n",
       "      <td>2018-07-25</td>\n",
       "      <td>0.00</td>\n",
       "      <td>1000</td>\n",
       "    </tr>\n",
       "    <tr>\n",
       "      <th>1</th>\n",
       "      <td>1000_1</td>\n",
       "      <td>2018-08-17</td>\n",
       "      <td>0.00</td>\n",
       "      <td>1000</td>\n",
       "    </tr>\n",
       "    <tr>\n",
       "      <th>2</th>\n",
       "      <td>1000_2</td>\n",
       "      <td>2018-06-11</td>\n",
       "      <td>2.85</td>\n",
       "      <td>1000</td>\n",
       "    </tr>\n",
       "    <tr>\n",
       "      <th>3</th>\n",
       "      <td>1000_3</td>\n",
       "      <td>2018-09-21</td>\n",
       "      <td>13.80</td>\n",
       "      <td>1000</td>\n",
       "    </tr>\n",
       "    <tr>\n",
       "      <th>4</th>\n",
       "      <td>1000_4</td>\n",
       "      <td>2018-12-15</td>\n",
       "      <td>5.18</td>\n",
       "      <td>1000</td>\n",
       "    </tr>\n",
       "    <tr>\n",
       "      <th>5</th>\n",
       "      <td>1000_5</td>\n",
       "      <td>2018-11-02</td>\n",
       "      <td>0.00</td>\n",
       "      <td>1000</td>\n",
       "    </tr>\n",
       "    <tr>\n",
       "      <th>6</th>\n",
       "      <td>1000_6</td>\n",
       "      <td>2018-10-18</td>\n",
       "      <td>0.00</td>\n",
       "      <td>1000</td>\n",
       "    </tr>\n",
       "    <tr>\n",
       "      <th>7</th>\n",
       "      <td>1000_7</td>\n",
       "      <td>2018-08-22</td>\n",
       "      <td>18.31</td>\n",
       "      <td>1000</td>\n",
       "    </tr>\n",
       "    <tr>\n",
       "      <th>8</th>\n",
       "      <td>1000_8</td>\n",
       "      <td>2018-09-15</td>\n",
       "      <td>18.44</td>\n",
       "      <td>1000</td>\n",
       "    </tr>\n",
       "    <tr>\n",
       "      <th>9</th>\n",
       "      <td>1000_9</td>\n",
       "      <td>2018-08-15</td>\n",
       "      <td>0.00</td>\n",
       "      <td>1000</td>\n",
       "    </tr>\n",
       "  </tbody>\n",
       "</table>\n",
       "</div>"
      ],
      "text/plain": [
       "       id  call_date  duration  user_id\n",
       "0  1000_0 2018-07-25      0.00     1000\n",
       "1  1000_1 2018-08-17      0.00     1000\n",
       "2  1000_2 2018-06-11      2.85     1000\n",
       "3  1000_3 2018-09-21     13.80     1000\n",
       "4  1000_4 2018-12-15      5.18     1000\n",
       "5  1000_5 2018-11-02      0.00     1000\n",
       "6  1000_6 2018-10-18      0.00     1000\n",
       "7  1000_7 2018-08-22     18.31     1000\n",
       "8  1000_8 2018-09-15     18.44     1000\n",
       "9  1000_9 2018-08-15      0.00     1000"
      ]
     },
     "execution_count": 14,
     "metadata": {},
     "output_type": "execute_result"
    }
   ],
   "source": [
    "calls.head(10)"
   ]
  },
  {
   "cell_type": "markdown",
   "metadata": {},
   "source": [
    "**Нужно исправить:**\n",
    "1. Длительность звонка нужно округлить в большую сторону.\n",
    "2. Заменить  id (уникальный идентификатор звонка)  на call_id"
   ]
  },
  {
   "cell_type": "code",
   "execution_count": 15,
   "metadata": {},
   "outputs": [],
   "source": [
    "calls['duration'] = calls['duration'].apply(math.ceil)"
   ]
  },
  {
   "cell_type": "code",
   "execution_count": 16,
   "metadata": {},
   "outputs": [],
   "source": [
    "# Переименовываем столбцы и меняем их расположение.\n",
    "new_columns = {'id'      : 'call_id',\n",
    "               'duration': 'call_duration'}\n",
    "calls.rename(columns=new_columns, inplace=True)"
   ]
  },
  {
   "cell_type": "markdown",
   "metadata": {},
   "source": [
    "---"
   ]
  },
  {
   "cell_type": "code",
   "execution_count": 17,
   "metadata": {
    "scrolled": false
   },
   "outputs": [
    {
     "name": "stdout",
     "output_type": "stream",
     "text": [
      "<class 'pandas.core.frame.DataFrame'>\n",
      "RangeIndex: 202607 entries, 0 to 202606\n",
      "Data columns (total 4 columns):\n",
      " #   Column         Non-Null Count   Dtype         \n",
      "---  ------         --------------   -----         \n",
      " 0   call_id        202607 non-null  object        \n",
      " 1   call_date      202607 non-null  datetime64[ns]\n",
      " 2   call_duration  202607 non-null  int64         \n",
      " 3   user_id        202607 non-null  int64         \n",
      "dtypes: datetime64[ns](1), int64(2), object(1)\n",
      "memory usage: 6.2+ MB\n"
     ]
    }
   ],
   "source": [
    "calls.info()"
   ]
  },
  {
   "cell_type": "markdown",
   "metadata": {},
   "source": [
    "<b>Поменяет тип данных:</b>\n",
    "   *  <pre><b>call_date</b> - datetime</pre>\n",
    "   *  <pre><b>duration</b>  - uint32</pre>"
   ]
  },
  {
   "cell_type": "markdown",
   "metadata": {},
   "source": [
    "<span style=\"color: red\">|</span> Заменить некорректные типы данных"
   ]
  },
  {
   "cell_type": "code",
   "execution_count": 18,
   "metadata": {},
   "outputs": [],
   "source": [
    "calls['call_duration']  = calls['call_duration'].astype('uint32')"
   ]
  },
  {
   "cell_type": "markdown",
   "metadata": {},
   "source": [
    "<span style=\"color: red\">|</span> Найти и обработать пропуски"
   ]
  },
  {
   "cell_type": "code",
   "execution_count": 19,
   "metadata": {},
   "outputs": [
    {
     "data": {
      "text/html": [
       "<style type=\"text/css\">\n",
       "</style>\n",
       "<table id=\"T_a54a9\">\n",
       "  <thead>\n",
       "    <tr>\n",
       "      <th class=\"blank level0\" >&nbsp;</th>\n",
       "      <th id=\"T_a54a9_level0_col0\" class=\"col_heading level0 col0\" >missing</th>\n",
       "      <th id=\"T_a54a9_level0_col1\" class=\"col_heading level0 col1\" >total</th>\n",
       "      <th id=\"T_a54a9_level0_col2\" class=\"col_heading level0 col2\" >percent</th>\n",
       "    </tr>\n",
       "  </thead>\n",
       "  <tbody>\n",
       "  </tbody>\n",
       "</table>\n"
      ],
      "text/plain": [
       "<pandas.io.formats.style.Styler at 0x185bc091960>"
      ]
     },
     "execution_count": 19,
     "metadata": {},
     "output_type": "execute_result"
    }
   ],
   "source": [
    "calls.stb.missing(style=True, clip_0=True)"
   ]
  },
  {
   "cell_type": "markdown",
   "metadata": {},
   "source": [
    "<span style=\"color: red\">|</span> Найти и обработать дубликаты."
   ]
  },
  {
   "cell_type": "code",
   "execution_count": 20,
   "metadata": {},
   "outputs": [
    {
     "data": {
      "text/plain": [
       "0"
      ]
     },
     "execution_count": 20,
     "metadata": {},
     "output_type": "execute_result"
    }
   ],
   "source": [
    "calls.duplicated().sum()"
   ]
  },
  {
   "cell_type": "markdown",
   "metadata": {},
   "source": [
    "<span style=\"color: red\">|</span>  Иследование данных"
   ]
  },
  {
   "cell_type": "code",
   "execution_count": 21,
   "metadata": {},
   "outputs": [
    {
     "data": {
      "text/html": [
       "<div>\n",
       "<style scoped>\n",
       "    .dataframe tbody tr th:only-of-type {\n",
       "        vertical-align: middle;\n",
       "    }\n",
       "\n",
       "    .dataframe tbody tr th {\n",
       "        vertical-align: top;\n",
       "    }\n",
       "\n",
       "    .dataframe thead th {\n",
       "        text-align: right;\n",
       "    }\n",
       "</style>\n",
       "<table border=\"1\" class=\"dataframe\">\n",
       "  <thead>\n",
       "    <tr style=\"text-align: right;\">\n",
       "      <th></th>\n",
       "      <th>call_duration</th>\n",
       "      <th>user_id</th>\n",
       "    </tr>\n",
       "  </thead>\n",
       "  <tbody>\n",
       "    <tr>\n",
       "      <th>count</th>\n",
       "      <td>202607.00</td>\n",
       "      <td>202607.00</td>\n",
       "    </tr>\n",
       "    <tr>\n",
       "      <th>mean</th>\n",
       "      <td>7.16</td>\n",
       "      <td>1253.94</td>\n",
       "    </tr>\n",
       "    <tr>\n",
       "      <th>std</th>\n",
       "      <td>5.96</td>\n",
       "      <td>144.72</td>\n",
       "    </tr>\n",
       "    <tr>\n",
       "      <th>min</th>\n",
       "      <td>0.00</td>\n",
       "      <td>1000.00</td>\n",
       "    </tr>\n",
       "    <tr>\n",
       "      <th>25%</th>\n",
       "      <td>2.00</td>\n",
       "      <td>1126.00</td>\n",
       "    </tr>\n",
       "    <tr>\n",
       "      <th>50%</th>\n",
       "      <td>6.00</td>\n",
       "      <td>1260.00</td>\n",
       "    </tr>\n",
       "    <tr>\n",
       "      <th>75%</th>\n",
       "      <td>11.00</td>\n",
       "      <td>1379.00</td>\n",
       "    </tr>\n",
       "    <tr>\n",
       "      <th>max</th>\n",
       "      <td>38.00</td>\n",
       "      <td>1499.00</td>\n",
       "    </tr>\n",
       "  </tbody>\n",
       "</table>\n",
       "</div>"
      ],
      "text/plain": [
       "       call_duration   user_id\n",
       "count      202607.00 202607.00\n",
       "mean            7.16   1253.94\n",
       "std             5.96    144.72\n",
       "min             0.00   1000.00\n",
       "25%             2.00   1126.00\n",
       "50%             6.00   1260.00\n",
       "75%            11.00   1379.00\n",
       "max            38.00   1499.00"
      ]
     },
     "execution_count": 21,
     "metadata": {},
     "output_type": "execute_result"
    }
   ],
   "source": [
    "calls.describe()"
   ]
  },
  {
   "cell_type": "markdown",
   "metadata": {},
   "source": [
    "Минимальная продолжительность звонка равна 0, взглянем поближе:"
   ]
  },
  {
   "cell_type": "code",
   "execution_count": 22,
   "metadata": {},
   "outputs": [
    {
     "data": {
      "text/html": [
       "<div>\n",
       "<style scoped>\n",
       "    .dataframe tbody tr th:only-of-type {\n",
       "        vertical-align: middle;\n",
       "    }\n",
       "\n",
       "    .dataframe tbody tr th {\n",
       "        vertical-align: top;\n",
       "    }\n",
       "\n",
       "    .dataframe thead th {\n",
       "        text-align: right;\n",
       "    }\n",
       "</style>\n",
       "<table border=\"1\" class=\"dataframe\">\n",
       "  <thead>\n",
       "    <tr style=\"text-align: right;\">\n",
       "      <th></th>\n",
       "      <th>call_id</th>\n",
       "      <th>call_date</th>\n",
       "      <th>call_duration</th>\n",
       "      <th>user_id</th>\n",
       "    </tr>\n",
       "  </thead>\n",
       "  <tbody>\n",
       "    <tr>\n",
       "      <th>38</th>\n",
       "      <td>1000_38</td>\n",
       "      <td>2018-05-25</td>\n",
       "      <td>0</td>\n",
       "      <td>1000</td>\n",
       "    </tr>\n",
       "    <tr>\n",
       "      <th>78</th>\n",
       "      <td>1000_78</td>\n",
       "      <td>2018-05-26</td>\n",
       "      <td>11</td>\n",
       "      <td>1000</td>\n",
       "    </tr>\n",
       "    <tr>\n",
       "      <th>113</th>\n",
       "      <td>1000_113</td>\n",
       "      <td>2018-05-26</td>\n",
       "      <td>7</td>\n",
       "      <td>1000</td>\n",
       "    </tr>\n",
       "    <tr>\n",
       "      <th>133</th>\n",
       "      <td>1000_133</td>\n",
       "      <td>2018-05-26</td>\n",
       "      <td>5</td>\n",
       "      <td>1000</td>\n",
       "    </tr>\n",
       "    <tr>\n",
       "      <th>194</th>\n",
       "      <td>1000_194</td>\n",
       "      <td>2018-05-26</td>\n",
       "      <td>14</td>\n",
       "      <td>1000</td>\n",
       "    </tr>\n",
       "    <tr>\n",
       "      <th>335</th>\n",
       "      <td>1000_335</td>\n",
       "      <td>2018-05-26</td>\n",
       "      <td>2</td>\n",
       "      <td>1000</td>\n",
       "    </tr>\n",
       "    <tr>\n",
       "      <th>338</th>\n",
       "      <td>1000_338</td>\n",
       "      <td>2018-05-26</td>\n",
       "      <td>11</td>\n",
       "      <td>1000</td>\n",
       "    </tr>\n",
       "    <tr>\n",
       "      <th>274</th>\n",
       "      <td>1000_274</td>\n",
       "      <td>2018-05-27</td>\n",
       "      <td>4</td>\n",
       "      <td>1000</td>\n",
       "    </tr>\n",
       "    <tr>\n",
       "      <th>11</th>\n",
       "      <td>1000_11</td>\n",
       "      <td>2018-05-28</td>\n",
       "      <td>19</td>\n",
       "      <td>1000</td>\n",
       "    </tr>\n",
       "    <tr>\n",
       "      <th>124</th>\n",
       "      <td>1000_124</td>\n",
       "      <td>2018-05-28</td>\n",
       "      <td>0</td>\n",
       "      <td>1000</td>\n",
       "    </tr>\n",
       "    <tr>\n",
       "      <th>241</th>\n",
       "      <td>1000_241</td>\n",
       "      <td>2018-05-28</td>\n",
       "      <td>0</td>\n",
       "      <td>1000</td>\n",
       "    </tr>\n",
       "    <tr>\n",
       "      <th>340</th>\n",
       "      <td>1000_340</td>\n",
       "      <td>2018-05-28</td>\n",
       "      <td>9</td>\n",
       "      <td>1000</td>\n",
       "    </tr>\n",
       "    <tr>\n",
       "      <th>284</th>\n",
       "      <td>1000_284</td>\n",
       "      <td>2018-05-29</td>\n",
       "      <td>5</td>\n",
       "      <td>1000</td>\n",
       "    </tr>\n",
       "    <tr>\n",
       "      <th>359</th>\n",
       "      <td>1000_359</td>\n",
       "      <td>2018-05-29</td>\n",
       "      <td>8</td>\n",
       "      <td>1000</td>\n",
       "    </tr>\n",
       "    <tr>\n",
       "      <th>56</th>\n",
       "      <td>1000_56</td>\n",
       "      <td>2018-05-30</td>\n",
       "      <td>9</td>\n",
       "      <td>1000</td>\n",
       "    </tr>\n",
       "    <tr>\n",
       "      <th>361</th>\n",
       "      <td>1000_361</td>\n",
       "      <td>2018-05-30</td>\n",
       "      <td>1</td>\n",
       "      <td>1000</td>\n",
       "    </tr>\n",
       "    <tr>\n",
       "      <th>186</th>\n",
       "      <td>1000_186</td>\n",
       "      <td>2018-05-31</td>\n",
       "      <td>17</td>\n",
       "      <td>1000</td>\n",
       "    </tr>\n",
       "    <tr>\n",
       "      <th>191</th>\n",
       "      <td>1000_191</td>\n",
       "      <td>2018-05-31</td>\n",
       "      <td>0</td>\n",
       "      <td>1000</td>\n",
       "    </tr>\n",
       "    <tr>\n",
       "      <th>205</th>\n",
       "      <td>1000_205</td>\n",
       "      <td>2018-05-31</td>\n",
       "      <td>0</td>\n",
       "      <td>1000</td>\n",
       "    </tr>\n",
       "    <tr>\n",
       "      <th>236</th>\n",
       "      <td>1000_236</td>\n",
       "      <td>2018-05-31</td>\n",
       "      <td>9</td>\n",
       "      <td>1000</td>\n",
       "    </tr>\n",
       "  </tbody>\n",
       "</table>\n",
       "</div>"
      ],
      "text/plain": [
       "      call_id  call_date  call_duration  user_id\n",
       "38    1000_38 2018-05-25              0     1000\n",
       "78    1000_78 2018-05-26             11     1000\n",
       "113  1000_113 2018-05-26              7     1000\n",
       "133  1000_133 2018-05-26              5     1000\n",
       "194  1000_194 2018-05-26             14     1000\n",
       "335  1000_335 2018-05-26              2     1000\n",
       "338  1000_338 2018-05-26             11     1000\n",
       "274  1000_274 2018-05-27              4     1000\n",
       "11    1000_11 2018-05-28             19     1000\n",
       "124  1000_124 2018-05-28              0     1000\n",
       "241  1000_241 2018-05-28              0     1000\n",
       "340  1000_340 2018-05-28              9     1000\n",
       "284  1000_284 2018-05-29              5     1000\n",
       "359  1000_359 2018-05-29              8     1000\n",
       "56    1000_56 2018-05-30              9     1000\n",
       "361  1000_361 2018-05-30              1     1000\n",
       "186  1000_186 2018-05-31             17     1000\n",
       "191  1000_191 2018-05-31              0     1000\n",
       "205  1000_205 2018-05-31              0     1000\n",
       "236  1000_236 2018-05-31              9     1000"
      ]
     },
     "execution_count": 22,
     "metadata": {},
     "output_type": "execute_result"
    }
   ],
   "source": [
    "calls.sort_values(by=['user_id','call_date'], ascending=True).head(20)"
   ]
  },
  {
   "cell_type": "markdown",
   "metadata": {},
   "source": [
    "Не видно явной корреляции, между duration = 0 и другими параметрами."
   ]
  },
  {
   "cell_type": "markdown",
   "metadata": {},
   "source": [
    "**Сгруппируем данные по пользователям и посмотрим на статистику времени использования сотовой связи.**"
   ]
  },
  {
   "cell_type": "code",
   "execution_count": 23,
   "metadata": {
    "scrolled": false
   },
   "outputs": [
    {
     "data": {
      "text/html": [
       "<div>\n",
       "<style scoped>\n",
       "    .dataframe tbody tr th:only-of-type {\n",
       "        vertical-align: middle;\n",
       "    }\n",
       "\n",
       "    .dataframe tbody tr th {\n",
       "        vertical-align: top;\n",
       "    }\n",
       "\n",
       "    .dataframe thead th {\n",
       "        text-align: right;\n",
       "    }\n",
       "</style>\n",
       "<table border=\"1\" class=\"dataframe\">\n",
       "  <thead>\n",
       "    <tr style=\"text-align: right;\">\n",
       "      <th></th>\n",
       "      <th>call_duration</th>\n",
       "    </tr>\n",
       "  </thead>\n",
       "  <tbody>\n",
       "    <tr>\n",
       "      <th>count</th>\n",
       "      <td>492.00</td>\n",
       "    </tr>\n",
       "    <tr>\n",
       "      <th>mean</th>\n",
       "      <td>2947.77</td>\n",
       "    </tr>\n",
       "    <tr>\n",
       "      <th>std</th>\n",
       "      <td>2091.00</td>\n",
       "    </tr>\n",
       "    <tr>\n",
       "      <th>min</th>\n",
       "      <td>66.00</td>\n",
       "    </tr>\n",
       "    <tr>\n",
       "      <th>25%</th>\n",
       "      <td>1291.50</td>\n",
       "    </tr>\n",
       "    <tr>\n",
       "      <th>50%</th>\n",
       "      <td>2478.00</td>\n",
       "    </tr>\n",
       "    <tr>\n",
       "      <th>75%</th>\n",
       "      <td>4227.00</td>\n",
       "    </tr>\n",
       "    <tr>\n",
       "      <th>max</th>\n",
       "      <td>12973.00</td>\n",
       "    </tr>\n",
       "  </tbody>\n",
       "</table>\n",
       "</div>"
      ],
      "text/plain": [
       "       call_duration\n",
       "count         492.00\n",
       "mean         2947.77\n",
       "std          2091.00\n",
       "min            66.00\n",
       "25%          1291.50\n",
       "50%          2478.00\n",
       "75%          4227.00\n",
       "max         12973.00"
      ]
     },
     "execution_count": 23,
     "metadata": {},
     "output_type": "execute_result"
    }
   ],
   "source": [
    "calls.groupby([\"user_id\"]).sum()[\"call_duration\"].describe().to_frame()"
   ]
  },
  {
   "cell_type": "code",
   "execution_count": 24,
   "metadata": {},
   "outputs": [
    {
     "data": {
      "image/png": "[encoded data removed]",
      "text/plain": [
       "<Figure size 432x288 with 1 Axes>"
      ]
     },
     "metadata": {
      "needs_background": "light"
     },
     "output_type": "display_data"
    }
   ],
   "source": [
    "calls.groupby([calls.call_date.dt.month])['call_duration'].agg('sum').plot();"
   ]
  },
  {
   "cell_type": "markdown",
   "metadata": {},
   "source": [
    "**Выводы:**\n",
    "* 8 пользователей не использует мобильную связь.\n",
    "* Потребление трафика увеличивается с каждым месяцем.\n",
    "* Продолжительность звонков равная 0, могла возникнуть из-за того, что звонок сбросили до того, как его подняли."
   ]
  },
  {
   "cell_type": "markdown",
   "metadata": {},
   "source": [
    "<h3><b>Таблица: <span style=\"color: red\">messages</span> (информация о сообщениях):\n",
    "</b><a class=\"tocSkip\"></a></h2>"
   ]
  },
  {
   "cell_type": "markdown",
   "metadata": {},
   "source": [
    "<span style=\"color: red\">|</span> Осмотрим набор данных"
   ]
  },
  {
   "cell_type": "code",
   "execution_count": 25,
   "metadata": {},
   "outputs": [
    {
     "data": {
      "text/html": [
       "<div>\n",
       "<style scoped>\n",
       "    .dataframe tbody tr th:only-of-type {\n",
       "        vertical-align: middle;\n",
       "    }\n",
       "\n",
       "    .dataframe tbody tr th {\n",
       "        vertical-align: top;\n",
       "    }\n",
       "\n",
       "    .dataframe thead th {\n",
       "        text-align: right;\n",
       "    }\n",
       "</style>\n",
       "<table border=\"1\" class=\"dataframe\">\n",
       "  <thead>\n",
       "    <tr style=\"text-align: right;\">\n",
       "      <th></th>\n",
       "      <th>id</th>\n",
       "      <th>message_date</th>\n",
       "      <th>user_id</th>\n",
       "    </tr>\n",
       "  </thead>\n",
       "  <tbody>\n",
       "    <tr>\n",
       "      <th>0</th>\n",
       "      <td>1000_0</td>\n",
       "      <td>2018-06-27</td>\n",
       "      <td>1000</td>\n",
       "    </tr>\n",
       "    <tr>\n",
       "      <th>1</th>\n",
       "      <td>1000_1</td>\n",
       "      <td>2018-10-08</td>\n",
       "      <td>1000</td>\n",
       "    </tr>\n",
       "    <tr>\n",
       "      <th>2</th>\n",
       "      <td>1000_2</td>\n",
       "      <td>2018-08-04</td>\n",
       "      <td>1000</td>\n",
       "    </tr>\n",
       "    <tr>\n",
       "      <th>3</th>\n",
       "      <td>1000_3</td>\n",
       "      <td>2018-06-16</td>\n",
       "      <td>1000</td>\n",
       "    </tr>\n",
       "    <tr>\n",
       "      <th>4</th>\n",
       "      <td>1000_4</td>\n",
       "      <td>2018-12-05</td>\n",
       "      <td>1000</td>\n",
       "    </tr>\n",
       "    <tr>\n",
       "      <th>5</th>\n",
       "      <td>1000_5</td>\n",
       "      <td>2018-06-20</td>\n",
       "      <td>1000</td>\n",
       "    </tr>\n",
       "    <tr>\n",
       "      <th>6</th>\n",
       "      <td>1000_6</td>\n",
       "      <td>2018-11-19</td>\n",
       "      <td>1000</td>\n",
       "    </tr>\n",
       "    <tr>\n",
       "      <th>7</th>\n",
       "      <td>1000_7</td>\n",
       "      <td>2018-10-29</td>\n",
       "      <td>1000</td>\n",
       "    </tr>\n",
       "    <tr>\n",
       "      <th>8</th>\n",
       "      <td>1000_8</td>\n",
       "      <td>2018-06-25</td>\n",
       "      <td>1000</td>\n",
       "    </tr>\n",
       "    <tr>\n",
       "      <th>9</th>\n",
       "      <td>1000_9</td>\n",
       "      <td>2018-12-18</td>\n",
       "      <td>1000</td>\n",
       "    </tr>\n",
       "  </tbody>\n",
       "</table>\n",
       "</div>"
      ],
      "text/plain": [
       "       id message_date  user_id\n",
       "0  1000_0   2018-06-27     1000\n",
       "1  1000_1   2018-10-08     1000\n",
       "2  1000_2   2018-08-04     1000\n",
       "3  1000_3   2018-06-16     1000\n",
       "4  1000_4   2018-12-05     1000\n",
       "5  1000_5   2018-06-20     1000\n",
       "6  1000_6   2018-11-19     1000\n",
       "7  1000_7   2018-10-29     1000\n",
       "8  1000_8   2018-06-25     1000\n",
       "9  1000_9   2018-12-18     1000"
      ]
     },
     "execution_count": 25,
     "metadata": {},
     "output_type": "execute_result"
    }
   ],
   "source": [
    "messages.head(10)"
   ]
  },
  {
   "cell_type": "markdown",
   "metadata": {},
   "source": [
    "**Нужно исправить:**\n",
    "1. Заменить id (уникальный идентификатор сообщения)  на message_id"
   ]
  },
  {
   "cell_type": "code",
   "execution_count": 26,
   "metadata": {},
   "outputs": [],
   "source": [
    "# Переименовываем столбцы и меняем их расположение.\n",
    "new_columns = {'id' : 'message_id'}\n",
    "messages.rename(columns=new_columns, inplace=True)"
   ]
  },
  {
   "cell_type": "code",
   "execution_count": 27,
   "metadata": {
    "scrolled": false
   },
   "outputs": [
    {
     "name": "stdout",
     "output_type": "stream",
     "text": [
      "<class 'pandas.core.frame.DataFrame'>\n",
      "RangeIndex: 123036 entries, 0 to 123035\n",
      "Data columns (total 3 columns):\n",
      " #   Column        Non-Null Count   Dtype         \n",
      "---  ------        --------------   -----         \n",
      " 0   message_id    123036 non-null  object        \n",
      " 1   message_date  123036 non-null  datetime64[ns]\n",
      " 2   user_id       123036 non-null  int64         \n",
      "dtypes: datetime64[ns](1), int64(1), object(1)\n",
      "memory usage: 2.8+ MB\n"
     ]
    }
   ],
   "source": [
    "messages.info()"
   ]
  },
  {
   "cell_type": "markdown",
   "metadata": {},
   "source": [
    "<b>Поменяет тип данных:</b>\n",
    "   *  <pre><b>message_date</b> - datetime</pre>\n",
    "   *  <pre><b>user_id</b>  - uint32</pre>"
   ]
  },
  {
   "cell_type": "markdown",
   "metadata": {},
   "source": [
    "<span style=\"color: red\">|</span> Заменить некорректные типы данных"
   ]
  },
  {
   "cell_type": "code",
   "execution_count": 28,
   "metadata": {},
   "outputs": [],
   "source": [
    "messages['user_id'] = messages['user_id'].astype('uint32')"
   ]
  },
  {
   "cell_type": "markdown",
   "metadata": {},
   "source": [
    "<span style=\"color: red\">|</span> Найти и обработать пропуски"
   ]
  },
  {
   "cell_type": "code",
   "execution_count": 29,
   "metadata": {},
   "outputs": [
    {
     "data": {
      "text/html": [
       "<style type=\"text/css\">\n",
       "</style>\n",
       "<table id=\"T_04dae\">\n",
       "  <thead>\n",
       "    <tr>\n",
       "      <th class=\"blank level0\" >&nbsp;</th>\n",
       "      <th id=\"T_04dae_level0_col0\" class=\"col_heading level0 col0\" >missing</th>\n",
       "      <th id=\"T_04dae_level0_col1\" class=\"col_heading level0 col1\" >total</th>\n",
       "      <th id=\"T_04dae_level0_col2\" class=\"col_heading level0 col2\" >percent</th>\n",
       "    </tr>\n",
       "  </thead>\n",
       "  <tbody>\n",
       "  </tbody>\n",
       "</table>\n"
      ],
      "text/plain": [
       "<pandas.io.formats.style.Styler at 0x185bd166f80>"
      ]
     },
     "execution_count": 29,
     "metadata": {},
     "output_type": "execute_result"
    }
   ],
   "source": [
    "messages.stb.missing(style=True, clip_0=True)"
   ]
  },
  {
   "cell_type": "markdown",
   "metadata": {},
   "source": [
    "<span style=\"color: red\">|</span> Найти и обработать дубликаты."
   ]
  },
  {
   "cell_type": "code",
   "execution_count": 30,
   "metadata": {},
   "outputs": [
    {
     "data": {
      "text/plain": [
       "0"
      ]
     },
     "execution_count": 30,
     "metadata": {},
     "output_type": "execute_result"
    }
   ],
   "source": [
    "messages.duplicated().sum()"
   ]
  },
  {
   "cell_type": "markdown",
   "metadata": {},
   "source": [
    "<span style=\"color: red\">|</span>  Иследование данных"
   ]
  },
  {
   "cell_type": "code",
   "execution_count": 31,
   "metadata": {},
   "outputs": [
    {
     "data": {
      "text/plain": [
       "datetime.date(2018, 1, 2)"
      ]
     },
     "metadata": {},
     "output_type": "display_data"
    },
    {
     "data": {
      "text/plain": [
       "datetime.date(2018, 12, 31)"
      ]
     },
     "metadata": {},
     "output_type": "display_data"
    }
   ],
   "source": [
    "display(messages['message_date'].dt.date.min())\n",
    "display(messages['message_date'].dt.date.max())"
   ]
  },
  {
   "cell_type": "markdown",
   "metadata": {},
   "source": [
    "**Сгруппируем данные по пользователям и посмотрим на статистику по к-ву сооющений.**"
   ]
  },
  {
   "cell_type": "code",
   "execution_count": 32,
   "metadata": {},
   "outputs": [
    {
     "data": {
      "text/html": [
       "<div>\n",
       "<style scoped>\n",
       "    .dataframe tbody tr th:only-of-type {\n",
       "        vertical-align: middle;\n",
       "    }\n",
       "\n",
       "    .dataframe tbody tr th {\n",
       "        vertical-align: top;\n",
       "    }\n",
       "\n",
       "    .dataframe thead th {\n",
       "        text-align: right;\n",
       "    }\n",
       "</style>\n",
       "<table border=\"1\" class=\"dataframe\">\n",
       "  <thead>\n",
       "    <tr style=\"text-align: right;\">\n",
       "      <th></th>\n",
       "      <th>message_id</th>\n",
       "    </tr>\n",
       "  </thead>\n",
       "  <tbody>\n",
       "    <tr>\n",
       "      <th>count</th>\n",
       "      <td>426.00</td>\n",
       "    </tr>\n",
       "    <tr>\n",
       "      <th>mean</th>\n",
       "      <td>288.82</td>\n",
       "    </tr>\n",
       "    <tr>\n",
       "      <th>std</th>\n",
       "      <td>267.61</td>\n",
       "    </tr>\n",
       "    <tr>\n",
       "      <th>min</th>\n",
       "      <td>1.00</td>\n",
       "    </tr>\n",
       "    <tr>\n",
       "      <th>25%</th>\n",
       "      <td>85.75</td>\n",
       "    </tr>\n",
       "    <tr>\n",
       "      <th>50%</th>\n",
       "      <td>215.50</td>\n",
       "    </tr>\n",
       "    <tr>\n",
       "      <th>75%</th>\n",
       "      <td>414.00</td>\n",
       "    </tr>\n",
       "    <tr>\n",
       "      <th>max</th>\n",
       "      <td>1463.00</td>\n",
       "    </tr>\n",
       "  </tbody>\n",
       "</table>\n",
       "</div>"
      ],
      "text/plain": [
       "       message_id\n",
       "count      426.00\n",
       "mean       288.82\n",
       "std        267.61\n",
       "min          1.00\n",
       "25%         85.75\n",
       "50%        215.50\n",
       "75%        414.00\n",
       "max       1463.00"
      ]
     },
     "execution_count": 32,
     "metadata": {},
     "output_type": "execute_result"
    }
   ],
   "source": [
    "messages.groupby(['user_id']).count()['message_id'].describe().to_frame()"
   ]
  },
  {
   "cell_type": "code",
   "execution_count": 33,
   "metadata": {},
   "outputs": [
    {
     "data": {
      "image/png": "[encoded data removed]",
      "text/plain": [
       "<Figure size 432x288 with 1 Axes>"
      ]
     },
     "metadata": {
      "needs_background": "light"
     },
     "output_type": "display_data"
    }
   ],
   "source": [
    "messages.groupby([messages.message_date.dt.month])['message_id'].agg('count').plot();"
   ]
  },
  {
   "cell_type": "markdown",
   "metadata": {},
   "source": [
    "**Вывод:**\n",
    "\n",
    "* С учетом, что данные собраны за год, то среднее значение в 215 оправдано (хотя я не разу не испольщовал смс).\n",
    "* Количество смс также растет."
   ]
  },
  {
   "cell_type": "markdown",
   "metadata": {},
   "source": [
    "<h3><b>Таблица: <span style=\"color: red\">internet</span> (информация об интернет-сессиях):\n",
    "</b></b><a class=\"tocSkip\"></a></h2>"
   ]
  },
  {
   "cell_type": "markdown",
   "metadata": {},
   "source": [
    "<span style=\"color: red\">|</span> Осмотрим набор данных"
   ]
  },
  {
   "cell_type": "code",
   "execution_count": 34,
   "metadata": {},
   "outputs": [
    {
     "data": {
      "text/html": [
       "<div>\n",
       "<style scoped>\n",
       "    .dataframe tbody tr th:only-of-type {\n",
       "        vertical-align: middle;\n",
       "    }\n",
       "\n",
       "    .dataframe tbody tr th {\n",
       "        vertical-align: top;\n",
       "    }\n",
       "\n",
       "    .dataframe thead th {\n",
       "        text-align: right;\n",
       "    }\n",
       "</style>\n",
       "<table border=\"1\" class=\"dataframe\">\n",
       "  <thead>\n",
       "    <tr style=\"text-align: right;\">\n",
       "      <th></th>\n",
       "      <th>id</th>\n",
       "      <th>mb_used</th>\n",
       "      <th>session_date</th>\n",
       "      <th>user_id</th>\n",
       "    </tr>\n",
       "  </thead>\n",
       "  <tbody>\n",
       "    <tr>\n",
       "      <th>0</th>\n",
       "      <td>1000_0</td>\n",
       "      <td>112.95</td>\n",
       "      <td>2018-11-25</td>\n",
       "      <td>1000</td>\n",
       "    </tr>\n",
       "    <tr>\n",
       "      <th>1</th>\n",
       "      <td>1000_1</td>\n",
       "      <td>1052.81</td>\n",
       "      <td>2018-09-07</td>\n",
       "      <td>1000</td>\n",
       "    </tr>\n",
       "    <tr>\n",
       "      <th>2</th>\n",
       "      <td>1000_2</td>\n",
       "      <td>1197.26</td>\n",
       "      <td>2018-06-25</td>\n",
       "      <td>1000</td>\n",
       "    </tr>\n",
       "    <tr>\n",
       "      <th>3</th>\n",
       "      <td>1000_3</td>\n",
       "      <td>550.27</td>\n",
       "      <td>2018-08-22</td>\n",
       "      <td>1000</td>\n",
       "    </tr>\n",
       "    <tr>\n",
       "      <th>4</th>\n",
       "      <td>1000_4</td>\n",
       "      <td>302.56</td>\n",
       "      <td>2018-09-24</td>\n",
       "      <td>1000</td>\n",
       "    </tr>\n",
       "    <tr>\n",
       "      <th>5</th>\n",
       "      <td>1000_5</td>\n",
       "      <td>399.97</td>\n",
       "      <td>2018-10-02</td>\n",
       "      <td>1000</td>\n",
       "    </tr>\n",
       "    <tr>\n",
       "      <th>6</th>\n",
       "      <td>1000_6</td>\n",
       "      <td>540.08</td>\n",
       "      <td>2018-09-07</td>\n",
       "      <td>1000</td>\n",
       "    </tr>\n",
       "    <tr>\n",
       "      <th>7</th>\n",
       "      <td>1000_7</td>\n",
       "      <td>415.70</td>\n",
       "      <td>2018-07-11</td>\n",
       "      <td>1000</td>\n",
       "    </tr>\n",
       "    <tr>\n",
       "      <th>8</th>\n",
       "      <td>1000_8</td>\n",
       "      <td>505.40</td>\n",
       "      <td>2018-10-08</td>\n",
       "      <td>1000</td>\n",
       "    </tr>\n",
       "    <tr>\n",
       "      <th>9</th>\n",
       "      <td>1000_9</td>\n",
       "      <td>345.54</td>\n",
       "      <td>2018-09-03</td>\n",
       "      <td>1000</td>\n",
       "    </tr>\n",
       "  </tbody>\n",
       "</table>\n",
       "</div>"
      ],
      "text/plain": [
       "       id  mb_used session_date  user_id\n",
       "0  1000_0   112.95   2018-11-25     1000\n",
       "1  1000_1  1052.81   2018-09-07     1000\n",
       "2  1000_2  1197.26   2018-06-25     1000\n",
       "3  1000_3   550.27   2018-08-22     1000\n",
       "4  1000_4   302.56   2018-09-24     1000\n",
       "5  1000_5   399.97   2018-10-02     1000\n",
       "6  1000_6   540.08   2018-09-07     1000\n",
       "7  1000_7   415.70   2018-07-11     1000\n",
       "8  1000_8   505.40   2018-10-08     1000\n",
       "9  1000_9   345.54   2018-09-03     1000"
      ]
     },
     "execution_count": 34,
     "metadata": {},
     "output_type": "execute_result"
    }
   ],
   "source": [
    "internet.head(10)"
   ]
  },
  {
   "cell_type": "markdown",
   "metadata": {},
   "source": [
    "**Нужно исправить:**\n",
    "1. mb_used (объём потраченного за сессию интернет-трафика (в мегабайтах)) перевести в гб на internet_gb_used\n",
    "2. Заменить:\n",
    "   * id (уникальный идентификатор звонка)  на internet_id\n",
    "   * session_date на internet_session_date"
   ]
  },
  {
   "cell_type": "code",
   "execution_count": 35,
   "metadata": {},
   "outputs": [],
   "source": [
    "# Переименовываем столбцы и меняем их расположение.\n",
    "new_columns = {\n",
    "               'id'           : 'internet_id',\n",
    "               'mb_used'      : 'internet_mb_used',\n",
    "               'session_date' : 'internet_date'\n",
    "              }\n",
    "internet.rename(columns=new_columns, inplace=True)\n",
    "\n",
    "internet = internet[['user_id','internet_id','internet_date','internet_mb_used']]"
   ]
  },
  {
   "cell_type": "markdown",
   "metadata": {},
   "source": [
    "---"
   ]
  },
  {
   "cell_type": "code",
   "execution_count": 36,
   "metadata": {
    "scrolled": false
   },
   "outputs": [
    {
     "name": "stdout",
     "output_type": "stream",
     "text": [
      "<class 'pandas.core.frame.DataFrame'>\n",
      "Int64Index: 149396 entries, 0 to 149395\n",
      "Data columns (total 4 columns):\n",
      " #   Column            Non-Null Count   Dtype         \n",
      "---  ------            --------------   -----         \n",
      " 0   user_id           149396 non-null  int64         \n",
      " 1   internet_id       149396 non-null  object        \n",
      " 2   internet_date     149396 non-null  datetime64[ns]\n",
      " 3   internet_mb_used  149396 non-null  float64       \n",
      "dtypes: datetime64[ns](1), float64(1), int64(1), object(1)\n",
      "memory usage: 5.7+ MB\n"
     ]
    }
   ],
   "source": [
    "internet.info()"
   ]
  },
  {
   "cell_type": "code",
   "execution_count": 37,
   "metadata": {},
   "outputs": [
    {
     "data": {
      "text/html": [
       "<div>\n",
       "<style scoped>\n",
       "    .dataframe tbody tr th:only-of-type {\n",
       "        vertical-align: middle;\n",
       "    }\n",
       "\n",
       "    .dataframe tbody tr th {\n",
       "        vertical-align: top;\n",
       "    }\n",
       "\n",
       "    .dataframe thead th {\n",
       "        text-align: right;\n",
       "    }\n",
       "</style>\n",
       "<table border=\"1\" class=\"dataframe\">\n",
       "  <thead>\n",
       "    <tr style=\"text-align: right;\">\n",
       "      <th></th>\n",
       "      <th>user_id</th>\n",
       "      <th>internet_mb_used</th>\n",
       "    </tr>\n",
       "  </thead>\n",
       "  <tbody>\n",
       "    <tr>\n",
       "      <th>count</th>\n",
       "      <td>149396.00</td>\n",
       "      <td>149396.00</td>\n",
       "    </tr>\n",
       "    <tr>\n",
       "      <th>mean</th>\n",
       "      <td>1252.10</td>\n",
       "      <td>370.19</td>\n",
       "    </tr>\n",
       "    <tr>\n",
       "      <th>std</th>\n",
       "      <td>144.05</td>\n",
       "      <td>278.30</td>\n",
       "    </tr>\n",
       "    <tr>\n",
       "      <th>min</th>\n",
       "      <td>1000.00</td>\n",
       "      <td>0.00</td>\n",
       "    </tr>\n",
       "    <tr>\n",
       "      <th>25%</th>\n",
       "      <td>1130.00</td>\n",
       "      <td>138.19</td>\n",
       "    </tr>\n",
       "    <tr>\n",
       "      <th>50%</th>\n",
       "      <td>1251.00</td>\n",
       "      <td>348.01</td>\n",
       "    </tr>\n",
       "    <tr>\n",
       "      <th>75%</th>\n",
       "      <td>1380.00</td>\n",
       "      <td>559.55</td>\n",
       "    </tr>\n",
       "    <tr>\n",
       "      <th>max</th>\n",
       "      <td>1499.00</td>\n",
       "      <td>1724.83</td>\n",
       "    </tr>\n",
       "  </tbody>\n",
       "</table>\n",
       "</div>"
      ],
      "text/plain": [
       "        user_id  internet_mb_used\n",
       "count 149396.00         149396.00\n",
       "mean    1252.10            370.19\n",
       "std      144.05            278.30\n",
       "min     1000.00              0.00\n",
       "25%     1130.00            138.19\n",
       "50%     1251.00            348.01\n",
       "75%     1380.00            559.55\n",
       "max     1499.00           1724.83"
      ]
     },
     "execution_count": 37,
     "metadata": {},
     "output_type": "execute_result"
    }
   ],
   "source": [
    "internet.describe()"
   ]
  },
  {
   "cell_type": "markdown",
   "metadata": {},
   "source": [
    "<span style=\"color: red\">|</span> Заменить некорректные типы данных"
   ]
  },
  {
   "cell_type": "code",
   "execution_count": 38,
   "metadata": {},
   "outputs": [],
   "source": [
    "internet['user_id'] = internet['user_id'].astype('uint32')"
   ]
  },
  {
   "cell_type": "markdown",
   "metadata": {},
   "source": [
    "<span style=\"color: red\">|</span> Найти и обработать пропуски"
   ]
  },
  {
   "cell_type": "code",
   "execution_count": 39,
   "metadata": {},
   "outputs": [
    {
     "data": {
      "text/html": [
       "<style type=\"text/css\">\n",
       "</style>\n",
       "<table id=\"T_d45da\">\n",
       "  <thead>\n",
       "    <tr>\n",
       "      <th class=\"blank level0\" >&nbsp;</th>\n",
       "      <th id=\"T_d45da_level0_col0\" class=\"col_heading level0 col0\" >missing</th>\n",
       "      <th id=\"T_d45da_level0_col1\" class=\"col_heading level0 col1\" >total</th>\n",
       "      <th id=\"T_d45da_level0_col2\" class=\"col_heading level0 col2\" >percent</th>\n",
       "    </tr>\n",
       "  </thead>\n",
       "  <tbody>\n",
       "    <tr>\n",
       "      <th id=\"T_d45da_level0_row0\" class=\"row_heading level0 row0\" >user_id</th>\n",
       "      <td id=\"T_d45da_row0_col0\" class=\"data row0 col0\" >0</td>\n",
       "      <td id=\"T_d45da_row0_col1\" class=\"data row0 col1\" >149,396</td>\n",
       "      <td id=\"T_d45da_row0_col2\" class=\"data row0 col2\" >0.00%</td>\n",
       "    </tr>\n",
       "    <tr>\n",
       "      <th id=\"T_d45da_level0_row1\" class=\"row_heading level0 row1\" >internet_id</th>\n",
       "      <td id=\"T_d45da_row1_col0\" class=\"data row1 col0\" >0</td>\n",
       "      <td id=\"T_d45da_row1_col1\" class=\"data row1 col1\" >149,396</td>\n",
       "      <td id=\"T_d45da_row1_col2\" class=\"data row1 col2\" >0.00%</td>\n",
       "    </tr>\n",
       "    <tr>\n",
       "      <th id=\"T_d45da_level0_row2\" class=\"row_heading level0 row2\" >internet_date</th>\n",
       "      <td id=\"T_d45da_row2_col0\" class=\"data row2 col0\" >0</td>\n",
       "      <td id=\"T_d45da_row2_col1\" class=\"data row2 col1\" >149,396</td>\n",
       "      <td id=\"T_d45da_row2_col2\" class=\"data row2 col2\" >0.00%</td>\n",
       "    </tr>\n",
       "    <tr>\n",
       "      <th id=\"T_d45da_level0_row3\" class=\"row_heading level0 row3\" >internet_mb_used</th>\n",
       "      <td id=\"T_d45da_row3_col0\" class=\"data row3 col0\" >0</td>\n",
       "      <td id=\"T_d45da_row3_col1\" class=\"data row3 col1\" >149,396</td>\n",
       "      <td id=\"T_d45da_row3_col2\" class=\"data row3 col2\" >0.00%</td>\n",
       "    </tr>\n",
       "  </tbody>\n",
       "</table>\n"
      ],
      "text/plain": [
       "<pandas.io.formats.style.Styler at 0x185bcfe6560>"
      ]
     },
     "execution_count": 39,
     "metadata": {},
     "output_type": "execute_result"
    }
   ],
   "source": [
    "internet.stb.missing(style=True)"
   ]
  },
  {
   "cell_type": "markdown",
   "metadata": {},
   "source": [
    "<span style=\"color: red\">|</span> Удалить дубликаты."
   ]
  },
  {
   "cell_type": "code",
   "execution_count": 40,
   "metadata": {},
   "outputs": [
    {
     "data": {
      "text/plain": [
       "0"
      ]
     },
     "execution_count": 40,
     "metadata": {},
     "output_type": "execute_result"
    }
   ],
   "source": [
    "internet.duplicated().sum()"
   ]
  },
  {
   "cell_type": "markdown",
   "metadata": {},
   "source": [
    "<span style=\"color: red\">|</span>  Иследование данных"
   ]
  },
  {
   "cell_type": "code",
   "execution_count": 41,
   "metadata": {},
   "outputs": [
    {
     "data": {
      "text/plain": [
       "497"
      ]
     },
     "execution_count": 41,
     "metadata": {},
     "output_type": "execute_result"
    }
   ],
   "source": [
    "internet.groupby(['user_id']).sum()['internet_mb_used'].count()"
   ]
  },
  {
   "cell_type": "markdown",
   "metadata": {},
   "source": [
    "**Сгруппируем данные по пользователям и посмотрим на статистику использования интернета.**"
   ]
  },
  {
   "cell_type": "code",
   "execution_count": 42,
   "metadata": {
    "scrolled": false
   },
   "outputs": [
    {
     "data": {
      "text/html": [
       "<div>\n",
       "<style scoped>\n",
       "    .dataframe tbody tr th:only-of-type {\n",
       "        vertical-align: middle;\n",
       "    }\n",
       "\n",
       "    .dataframe tbody tr th {\n",
       "        vertical-align: top;\n",
       "    }\n",
       "\n",
       "    .dataframe thead th {\n",
       "        text-align: right;\n",
       "    }\n",
       "</style>\n",
       "<table border=\"1\" class=\"dataframe\">\n",
       "  <thead>\n",
       "    <tr style=\"text-align: right;\">\n",
       "      <th></th>\n",
       "      <th>internet_mb_used</th>\n",
       "    </tr>\n",
       "    <tr>\n",
       "      <th>user_id</th>\n",
       "      <th></th>\n",
       "    </tr>\n",
       "  </thead>\n",
       "  <tbody>\n",
       "    <tr>\n",
       "      <th>1385</th>\n",
       "      <td>367.58</td>\n",
       "    </tr>\n",
       "    <tr>\n",
       "      <th>1240</th>\n",
       "      <td>367.42</td>\n",
       "    </tr>\n",
       "    <tr>\n",
       "      <th>1180</th>\n",
       "      <td>340.05</td>\n",
       "    </tr>\n",
       "    <tr>\n",
       "      <th>1185</th>\n",
       "      <td>335.48</td>\n",
       "    </tr>\n",
       "    <tr>\n",
       "      <th>1330</th>\n",
       "      <td>328.49</td>\n",
       "    </tr>\n",
       "    <tr>\n",
       "      <th>...</th>\n",
       "      <td>...</td>\n",
       "    </tr>\n",
       "    <tr>\n",
       "      <th>1406</th>\n",
       "      <td>11.16</td>\n",
       "    </tr>\n",
       "    <tr>\n",
       "      <th>1069</th>\n",
       "      <td>11.08</td>\n",
       "    </tr>\n",
       "    <tr>\n",
       "      <th>1062</th>\n",
       "      <td>10.81</td>\n",
       "    </tr>\n",
       "    <tr>\n",
       "      <th>1192</th>\n",
       "      <td>8.82</td>\n",
       "    </tr>\n",
       "    <tr>\n",
       "      <th>1399</th>\n",
       "      <td>4.50</td>\n",
       "    </tr>\n",
       "  </tbody>\n",
       "</table>\n",
       "<p>497 rows × 1 columns</p>\n",
       "</div>"
      ],
      "text/plain": [
       "         internet_mb_used\n",
       "user_id                  \n",
       "1385               367.58\n",
       "1240               367.42\n",
       "1180               340.05\n",
       "1185               335.48\n",
       "1330               328.49\n",
       "...                   ...\n",
       "1406                11.16\n",
       "1069                11.08\n",
       "1062                10.81\n",
       "1192                 8.82\n",
       "1399                 4.50\n",
       "\n",
       "[497 rows x 1 columns]"
      ]
     },
     "execution_count": 42,
     "metadata": {},
     "output_type": "execute_result"
    }
   ],
   "source": [
    "internet.groupby([\"user_id\"]).sum()[\"internet_mb_used\"].apply(\n",
    "    lambda x: x / 1024\n",
    ").sort_values(ascending=False).to_frame()"
   ]
  },
  {
   "cell_type": "code",
   "execution_count": 43,
   "metadata": {},
   "outputs": [
    {
     "data": {
      "image/png": "[encoded data removed]",
      "text/plain": [
       "<Figure size 432x288 with 1 Axes>"
      ]
     },
     "metadata": {
      "needs_background": "light"
     },
     "output_type": "display_data"
    }
   ],
   "source": [
    "internet.groupby([internet.internet_date.dt.month])['internet_mb_used'].agg('count').plot();"
   ]
  },
  {
   "cell_type": "markdown",
   "metadata": {},
   "source": [
    "**Вывод:**\n",
    "\n",
    "* Из 500 пользователей, только 3 не пользуются интернетом, все остальные используют от 4 до 367 гб.\n",
    "* internet_mb_used (объём потраченного за сессию интернет-трафика (в мегабайтах)) с каждым месяцем увеличивается.\n",
    "* Значение internet_mb_used равное 0 могло возникнуть из-за того, что человек включил мобильный интернет, но не использовал его."
   ]
  },
  {
   "cell_type": "markdown",
   "metadata": {},
   "source": [
    "<h3><b>Таблица: <span style=\"color: red\">tariffs</span> (информация о тарифах):\n",
    "</b></b><a class=\"tocSkip\"></a></h2>"
   ]
  },
  {
   "cell_type": "markdown",
   "metadata": {},
   "source": [
    "<span style=\"color: red\">|</span> Осмотрим набор данных"
   ]
  },
  {
   "cell_type": "code",
   "execution_count": 44,
   "metadata": {},
   "outputs": [
    {
     "data": {
      "text/html": [
       "<div>\n",
       "<style scoped>\n",
       "    .dataframe tbody tr th:only-of-type {\n",
       "        vertical-align: middle;\n",
       "    }\n",
       "\n",
       "    .dataframe tbody tr th {\n",
       "        vertical-align: top;\n",
       "    }\n",
       "\n",
       "    .dataframe thead th {\n",
       "        text-align: right;\n",
       "    }\n",
       "</style>\n",
       "<table border=\"1\" class=\"dataframe\">\n",
       "  <thead>\n",
       "    <tr style=\"text-align: right;\">\n",
       "      <th></th>\n",
       "      <th>messages_included</th>\n",
       "      <th>mb_per_month_included</th>\n",
       "      <th>minutes_included</th>\n",
       "      <th>rub_monthly_fee</th>\n",
       "      <th>rub_per_gb</th>\n",
       "      <th>rub_per_message</th>\n",
       "      <th>rub_per_minute</th>\n",
       "      <th>tariff_name</th>\n",
       "    </tr>\n",
       "  </thead>\n",
       "  <tbody>\n",
       "    <tr>\n",
       "      <th>0</th>\n",
       "      <td>50</td>\n",
       "      <td>15360</td>\n",
       "      <td>500</td>\n",
       "      <td>550</td>\n",
       "      <td>200</td>\n",
       "      <td>3</td>\n",
       "      <td>3</td>\n",
       "      <td>smart</td>\n",
       "    </tr>\n",
       "    <tr>\n",
       "      <th>1</th>\n",
       "      <td>1000</td>\n",
       "      <td>30720</td>\n",
       "      <td>3000</td>\n",
       "      <td>1950</td>\n",
       "      <td>150</td>\n",
       "      <td>1</td>\n",
       "      <td>1</td>\n",
       "      <td>ultra</td>\n",
       "    </tr>\n",
       "  </tbody>\n",
       "</table>\n",
       "</div>"
      ],
      "text/plain": [
       "   messages_included  mb_per_month_included  minutes_included  \\\n",
       "0                 50                  15360               500   \n",
       "1               1000                  30720              3000   \n",
       "\n",
       "   rub_monthly_fee  rub_per_gb  rub_per_message  rub_per_minute tariff_name  \n",
       "0              550         200                3               3       smart  \n",
       "1             1950         150                1               1       ultra  "
      ]
     },
     "execution_count": 44,
     "metadata": {},
     "output_type": "execute_result"
    }
   ],
   "source": [
    "tariffs"
   ]
  },
  {
   "cell_type": "code",
   "execution_count": 45,
   "metadata": {},
   "outputs": [],
   "source": [
    "# Переименовываем столбцы и меняем их расположение.\n",
    "new_columns = {\n",
    "               'mb_per_month_included': 'internet_mb_included',\n",
    "               'rub_monthly_fee'      : 'monthly_price',\n",
    "               'rub_per_gb'           : 'rub_add_gb',\n",
    "               'rub_per_message'      : 'rub_add_message',\n",
    "               'rub_per_minute'       : 'rub_add_minute',\n",
    "               'tariff_name'          : 'tariff'\n",
    "               }\n",
    "tariffs.rename(columns=new_columns, inplace=True)\n",
    "\n",
    "tariffs = tariffs[['messages_included','internet_mb_included',\n",
    "                   'minutes_included' ,'monthly_price',\n",
    "                   'rub_add_gb'       ,'rub_add_message',\n",
    "                   'rub_add_minute'   ,'tariff']]"
   ]
  },
  {
   "cell_type": "code",
   "execution_count": 46,
   "metadata": {},
   "outputs": [
    {
     "name": "stdout",
     "output_type": "stream",
     "text": [
      "<class 'pandas.core.frame.DataFrame'>\n",
      "RangeIndex: 2 entries, 0 to 1\n",
      "Data columns (total 8 columns):\n",
      " #   Column                Non-Null Count  Dtype \n",
      "---  ------                --------------  ----- \n",
      " 0   messages_included     2 non-null      int64 \n",
      " 1   internet_mb_included  2 non-null      int64 \n",
      " 2   minutes_included      2 non-null      int64 \n",
      " 3   monthly_price         2 non-null      int64 \n",
      " 4   rub_add_gb            2 non-null      int64 \n",
      " 5   rub_add_message       2 non-null      int64 \n",
      " 6   rub_add_minute        2 non-null      int64 \n",
      " 7   tariff                2 non-null      object\n",
      "dtypes: int64(7), object(1)\n",
      "memory usage: 256.0+ bytes\n"
     ]
    }
   ],
   "source": [
    "tariffs.info()"
   ]
  },
  {
   "cell_type": "markdown",
   "metadata": {},
   "source": [
    "Проблемы с типами данных могли возникнуть из-за того, что ячейки были изначально неверного типа, но т.к. все они имеют одинаковый формат(это выяснится ниже), то скорее всего проблема в способе выгрузки данных."
   ]
  },
  {
   "cell_type": "markdown",
   "metadata": {},
   "source": [
    "Пропуски  в таблицах с интернет трафиком, продолжительностью звонков и кол-вом сообщениями, вероятнее всего возникли, потому что пользователи не использовали эти услуг."
   ]
  },
  {
   "cell_type": "markdown",
   "metadata": {},
   "source": [
    "### <center><span style=\"color: crimson\"><b>Вывод</b></span></center>\n",
    "* Оба тарифа распределены равномерно и не иммеют ярко выраженных особенностей, время за которое собраны данные 1 год (2018).\n",
    "* 8 пользователей не использует мобильную связь.\n",
    "* Потребление трафика увеличивается с каждым месяцем.\n",
    "* Продолжительность звонков равная 0, могла возникнуть из-за того, что звонок сбросили до того, как его подняли.\n",
    "* Из 500 пользователей, только 3 не пользуются интернетом, все остальные используют от 4 до 367 гб.\n",
    "* internet_mb_used (объём потраченного за сессию интернет-трафика (в мегабайтах)) с каждым месяцем увеличивается.\n",
    "* Значение internet_mb_used равное 0 могло возникнуть из-за того, что человек включил мобильный интернет, но не использовал его.\n",
    "\n",
    "\n",
    "\n",
    "**Нужно исправить:**\n",
    "\n",
    "1. Длительность звонка нужно округлить в большую сторону.\n",
    "2. Заменить id (уникальный идентификатор звонка) на call_id\n",
    "1. Заменить названия столбцов на более понятные.\n",
    "2. Изменить порядок столбцов для лучшей читаемости.\n",
    "1. Заменить id (уникальный идентификатор сообщения) на message_id \n",
    "1. mb_used (объём потраченного за сессию интернет-трафика (в мегабайтах)) перевести в гб на internet_gb_used\n",
    "2. Заменить:\n",
    "\n",
    "   * id (уникальный идентификатор звонка)  на internet_id\n",
    "\n",
    "   * session_date на internet_session_date\n",
    "\n"
   ]
  },
  {
   "cell_type": "markdown",
   "metadata": {},
   "source": [
    "## <span style=\"color: crimson\">Этап 2</span> Предобработка данных"
   ]
  },
  {
   "cell_type": "markdown",
   "metadata": {},
   "source": [
    "<h3><b>Расчёт для каждого пользователя:</b><a class=\"tocSkip\"></a></h3>"
   ]
  },
  {
   "cell_type": "markdown",
   "metadata": {},
   "source": [
    "<b>1. <span style=\"color: red\">К</span>оличество сделанных звонков и израсходованных минут разговора по месяцам</b>"
   ]
  },
  {
   "cell_type": "code",
   "execution_count": 47,
   "metadata": {},
   "outputs": [],
   "source": [
    "user_calls = (\n",
    "    calls.groupby([calls.user_id, calls.call_date.dt.month_name()])\n",
    "    .agg({\"call_id\": \"count\", \"call_duration\": \"sum\"})\n",
    "    .reset_index()\n",
    "    .rename(\n",
    "        columns={\n",
    "            \"call_date\": \"month\",\n",
    "            \"call_duration\": \"month_calls_duration\",\n",
    "            \"call_id\": \"calls_total_in_month\",\n",
    "        }\n",
    "    )\n",
    ")"
   ]
  },
  {
   "cell_type": "code",
   "execution_count": 48,
   "metadata": {},
   "outputs": [
    {
     "data": {
      "text/html": [
       "<div>\n",
       "<style scoped>\n",
       "    .dataframe tbody tr th:only-of-type {\n",
       "        vertical-align: middle;\n",
       "    }\n",
       "\n",
       "    .dataframe tbody tr th {\n",
       "        vertical-align: top;\n",
       "    }\n",
       "\n",
       "    .dataframe thead th {\n",
       "        text-align: right;\n",
       "    }\n",
       "</style>\n",
       "<table border=\"1\" class=\"dataframe\">\n",
       "  <thead>\n",
       "    <tr style=\"text-align: right;\">\n",
       "      <th></th>\n",
       "      <th>user_id</th>\n",
       "      <th>month</th>\n",
       "      <th>calls_total_in_month</th>\n",
       "      <th>month_calls_duration</th>\n",
       "    </tr>\n",
       "  </thead>\n",
       "  <tbody>\n",
       "    <tr>\n",
       "      <th>0</th>\n",
       "      <td>1000</td>\n",
       "      <td>August</td>\n",
       "      <td>52</td>\n",
       "      <td>408</td>\n",
       "    </tr>\n",
       "    <tr>\n",
       "      <th>1</th>\n",
       "      <td>1000</td>\n",
       "      <td>December</td>\n",
       "      <td>46</td>\n",
       "      <td>333</td>\n",
       "    </tr>\n",
       "    <tr>\n",
       "      <th>2</th>\n",
       "      <td>1000</td>\n",
       "      <td>July</td>\n",
       "      <td>47</td>\n",
       "      <td>340</td>\n",
       "    </tr>\n",
       "    <tr>\n",
       "      <th>3</th>\n",
       "      <td>1000</td>\n",
       "      <td>June</td>\n",
       "      <td>43</td>\n",
       "      <td>172</td>\n",
       "    </tr>\n",
       "    <tr>\n",
       "      <th>4</th>\n",
       "      <td>1000</td>\n",
       "      <td>May</td>\n",
       "      <td>22</td>\n",
       "      <td>159</td>\n",
       "    </tr>\n",
       "    <tr>\n",
       "      <th>5</th>\n",
       "      <td>1000</td>\n",
       "      <td>November</td>\n",
       "      <td>43</td>\n",
       "      <td>338</td>\n",
       "    </tr>\n",
       "    <tr>\n",
       "      <th>6</th>\n",
       "      <td>1000</td>\n",
       "      <td>October</td>\n",
       "      <td>57</td>\n",
       "      <td>350</td>\n",
       "    </tr>\n",
       "    <tr>\n",
       "      <th>7</th>\n",
       "      <td>1000</td>\n",
       "      <td>September</td>\n",
       "      <td>58</td>\n",
       "      <td>466</td>\n",
       "    </tr>\n",
       "    <tr>\n",
       "      <th>8</th>\n",
       "      <td>1001</td>\n",
       "      <td>December</td>\n",
       "      <td>63</td>\n",
       "      <td>414</td>\n",
       "    </tr>\n",
       "    <tr>\n",
       "      <th>9</th>\n",
       "      <td>1001</td>\n",
       "      <td>November</td>\n",
       "      <td>59</td>\n",
       "      <td>430</td>\n",
       "    </tr>\n",
       "  </tbody>\n",
       "</table>\n",
       "</div>"
      ],
      "text/plain": [
       "   user_id      month  calls_total_in_month  month_calls_duration\n",
       "0     1000     August                    52                   408\n",
       "1     1000   December                    46                   333\n",
       "2     1000       July                    47                   340\n",
       "3     1000       June                    43                   172\n",
       "4     1000        May                    22                   159\n",
       "5     1000   November                    43                   338\n",
       "6     1000    October                    57                   350\n",
       "7     1000  September                    58                   466\n",
       "8     1001   December                    63                   414\n",
       "9     1001   November                    59                   430"
      ]
     },
     "execution_count": 48,
     "metadata": {},
     "output_type": "execute_result"
    }
   ],
   "source": [
    "user_calls.head(10)"
   ]
  },
  {
   "cell_type": "markdown",
   "metadata": {},
   "source": [
    "Пропуски в таблицах с интернет трафиком, продолжительностью звонков и кол-вом сообщениями, вероятнее всего возникли, потому что пользователи не использовали эти услуги."
   ]
  },
  {
   "cell_type": "markdown",
   "metadata": {},
   "source": [
    "<b>2. <span style=\"color: red\">К</span>оличество отправленных сообщений по месяцам;</b>  "
   ]
  },
  {
   "cell_type": "code",
   "execution_count": 49,
   "metadata": {},
   "outputs": [],
   "source": [
    "user_messange = messages.groupby([messages.user_id, messages.message_date.dt.month_name()])\\\n",
    "                .agg({'message_id':'count'})\\\n",
    "                .reset_index()\\\n",
    "                .rename(columns={'message_date':'month','message_id':'message_count'})"
   ]
  },
  {
   "cell_type": "code",
   "execution_count": 50,
   "metadata": {},
   "outputs": [
    {
     "data": {
      "text/html": [
       "<div>\n",
       "<style scoped>\n",
       "    .dataframe tbody tr th:only-of-type {\n",
       "        vertical-align: middle;\n",
       "    }\n",
       "\n",
       "    .dataframe tbody tr th {\n",
       "        vertical-align: top;\n",
       "    }\n",
       "\n",
       "    .dataframe thead th {\n",
       "        text-align: right;\n",
       "    }\n",
       "</style>\n",
       "<table border=\"1\" class=\"dataframe\">\n",
       "  <thead>\n",
       "    <tr style=\"text-align: right;\">\n",
       "      <th></th>\n",
       "      <th>user_id</th>\n",
       "      <th>month</th>\n",
       "      <th>message_count</th>\n",
       "    </tr>\n",
       "  </thead>\n",
       "  <tbody>\n",
       "    <tr>\n",
       "      <th>0</th>\n",
       "      <td>1000</td>\n",
       "      <td>August</td>\n",
       "      <td>81</td>\n",
       "    </tr>\n",
       "    <tr>\n",
       "      <th>1</th>\n",
       "      <td>1000</td>\n",
       "      <td>December</td>\n",
       "      <td>70</td>\n",
       "    </tr>\n",
       "    <tr>\n",
       "      <th>2</th>\n",
       "      <td>1000</td>\n",
       "      <td>July</td>\n",
       "      <td>75</td>\n",
       "    </tr>\n",
       "    <tr>\n",
       "      <th>3</th>\n",
       "      <td>1000</td>\n",
       "      <td>June</td>\n",
       "      <td>60</td>\n",
       "    </tr>\n",
       "    <tr>\n",
       "      <th>4</th>\n",
       "      <td>1000</td>\n",
       "      <td>May</td>\n",
       "      <td>22</td>\n",
       "    </tr>\n",
       "    <tr>\n",
       "      <th>5</th>\n",
       "      <td>1000</td>\n",
       "      <td>November</td>\n",
       "      <td>58</td>\n",
       "    </tr>\n",
       "    <tr>\n",
       "      <th>6</th>\n",
       "      <td>1000</td>\n",
       "      <td>October</td>\n",
       "      <td>73</td>\n",
       "    </tr>\n",
       "    <tr>\n",
       "      <th>7</th>\n",
       "      <td>1000</td>\n",
       "      <td>September</td>\n",
       "      <td>57</td>\n",
       "    </tr>\n",
       "    <tr>\n",
       "      <th>8</th>\n",
       "      <td>1002</td>\n",
       "      <td>August</td>\n",
       "      <td>13</td>\n",
       "    </tr>\n",
       "    <tr>\n",
       "      <th>9</th>\n",
       "      <td>1002</td>\n",
       "      <td>December</td>\n",
       "      <td>12</td>\n",
       "    </tr>\n",
       "  </tbody>\n",
       "</table>\n",
       "</div>"
      ],
      "text/plain": [
       "   user_id      month  message_count\n",
       "0     1000     August             81\n",
       "1     1000   December             70\n",
       "2     1000       July             75\n",
       "3     1000       June             60\n",
       "4     1000        May             22\n",
       "5     1000   November             58\n",
       "6     1000    October             73\n",
       "7     1000  September             57\n",
       "8     1002     August             13\n",
       "9     1002   December             12"
      ]
     },
     "execution_count": 50,
     "metadata": {},
     "output_type": "execute_result"
    }
   ],
   "source": [
    "user_messange.head(10)"
   ]
  },
  {
   "cell_type": "markdown",
   "metadata": {},
   "source": [
    "<b>3. <span style=\"color: red\">О</span>бъем израсходованного интернет-трафика по месяцам</b> "
   ]
  },
  {
   "cell_type": "code",
   "execution_count": 51,
   "metadata": {},
   "outputs": [],
   "source": [
    "user_internet = internet.groupby([internet.user_id, internet.internet_date.dt.month_name()])\\\n",
    "                .agg({'internet_mb_used':'sum'})\\\n",
    "                .reset_index()\\\n",
    "                .rename(columns={'internet_date':'month','internet_mb_used':'total_mb_used_internet'})"
   ]
  },
  {
   "cell_type": "code",
   "execution_count": 52,
   "metadata": {},
   "outputs": [
    {
     "data": {
      "text/html": [
       "<div>\n",
       "<style scoped>\n",
       "    .dataframe tbody tr th:only-of-type {\n",
       "        vertical-align: middle;\n",
       "    }\n",
       "\n",
       "    .dataframe tbody tr th {\n",
       "        vertical-align: top;\n",
       "    }\n",
       "\n",
       "    .dataframe thead th {\n",
       "        text-align: right;\n",
       "    }\n",
       "</style>\n",
       "<table border=\"1\" class=\"dataframe\">\n",
       "  <thead>\n",
       "    <tr style=\"text-align: right;\">\n",
       "      <th></th>\n",
       "      <th>user_id</th>\n",
       "      <th>month</th>\n",
       "      <th>total_mb_used_internet</th>\n",
       "    </tr>\n",
       "  </thead>\n",
       "  <tbody>\n",
       "    <tr>\n",
       "      <th>0</th>\n",
       "      <td>1000</td>\n",
       "      <td>August</td>\n",
       "      <td>14055.93</td>\n",
       "    </tr>\n",
       "    <tr>\n",
       "      <th>1</th>\n",
       "      <td>1000</td>\n",
       "      <td>December</td>\n",
       "      <td>9817.61</td>\n",
       "    </tr>\n",
       "    <tr>\n",
       "      <th>2</th>\n",
       "      <td>1000</td>\n",
       "      <td>July</td>\n",
       "      <td>14003.64</td>\n",
       "    </tr>\n",
       "    <tr>\n",
       "      <th>3</th>\n",
       "      <td>1000</td>\n",
       "      <td>June</td>\n",
       "      <td>23233.77</td>\n",
       "    </tr>\n",
       "    <tr>\n",
       "      <th>4</th>\n",
       "      <td>1000</td>\n",
       "      <td>May</td>\n",
       "      <td>2253.49</td>\n",
       "    </tr>\n",
       "    <tr>\n",
       "      <th>5</th>\n",
       "      <td>1000</td>\n",
       "      <td>November</td>\n",
       "      <td>14756.47</td>\n",
       "    </tr>\n",
       "    <tr>\n",
       "      <th>6</th>\n",
       "      <td>1000</td>\n",
       "      <td>October</td>\n",
       "      <td>14702.49</td>\n",
       "    </tr>\n",
       "    <tr>\n",
       "      <th>7</th>\n",
       "      <td>1000</td>\n",
       "      <td>September</td>\n",
       "      <td>14568.91</td>\n",
       "    </tr>\n",
       "    <tr>\n",
       "      <th>8</th>\n",
       "      <td>1001</td>\n",
       "      <td>December</td>\n",
       "      <td>14036.66</td>\n",
       "    </tr>\n",
       "    <tr>\n",
       "      <th>9</th>\n",
       "      <td>1001</td>\n",
       "      <td>November</td>\n",
       "      <td>18429.34</td>\n",
       "    </tr>\n",
       "  </tbody>\n",
       "</table>\n",
       "</div>"
      ],
      "text/plain": [
       "   user_id      month  total_mb_used_internet\n",
       "0     1000     August                14055.93\n",
       "1     1000   December                 9817.61\n",
       "2     1000       July                14003.64\n",
       "3     1000       June                23233.77\n",
       "4     1000        May                 2253.49\n",
       "5     1000   November                14756.47\n",
       "6     1000    October                14702.49\n",
       "7     1000  September                14568.91\n",
       "8     1001   December                14036.66\n",
       "9     1001   November                18429.34"
      ]
     },
     "execution_count": 52,
     "metadata": {},
     "output_type": "execute_result"
    }
   ],
   "source": [
    "user_internet.head(10)"
   ]
  },
  {
   "cell_type": "markdown",
   "metadata": {},
   "source": [
    "<b>4. <span style=\"color: red\">П</span>омесячную выручку с каждого пользователя:</b>\n",
    "* вычтите бесплатный лимит из суммарного количества звонков, сообщений и интернет-трафика;\n",
    "* остаток умножьте на значение из тарифного плана; \n",
    "* прибавьте абонентскую плату, соответствующую тарифному плану."
   ]
  },
  {
   "cell_type": "code",
   "execution_count": 53,
   "metadata": {},
   "outputs": [],
   "source": [
    "total_table = user_internet.merge(user_messange, on=['user_id','month'], how='outer')\\\n",
    "                             .merge(user_calls, on=['user_id','month'], how='outer')\\\n",
    "                             .merge(users[['user_id','tariff','city']], on='user_id', how='outer')\\\n",
    "                             .merge(tariffs, on='tariff', how='outer')"
   ]
  },
  {
   "cell_type": "code",
   "execution_count": 54,
   "metadata": {},
   "outputs": [
    {
     "data": {
      "text/html": [
       "<div>\n",
       "<style scoped>\n",
       "    .dataframe tbody tr th:only-of-type {\n",
       "        vertical-align: middle;\n",
       "    }\n",
       "\n",
       "    .dataframe tbody tr th {\n",
       "        vertical-align: top;\n",
       "    }\n",
       "\n",
       "    .dataframe thead th {\n",
       "        text-align: right;\n",
       "    }\n",
       "</style>\n",
       "<table border=\"1\" class=\"dataframe\">\n",
       "  <thead>\n",
       "    <tr style=\"text-align: right;\">\n",
       "      <th></th>\n",
       "      <th>user_id</th>\n",
       "      <th>month</th>\n",
       "      <th>total_mb_used_internet</th>\n",
       "      <th>message_count</th>\n",
       "      <th>calls_total_in_month</th>\n",
       "      <th>month_calls_duration</th>\n",
       "      <th>tariff</th>\n",
       "      <th>city</th>\n",
       "      <th>messages_included</th>\n",
       "      <th>internet_mb_included</th>\n",
       "      <th>minutes_included</th>\n",
       "      <th>monthly_price</th>\n",
       "      <th>rub_add_gb</th>\n",
       "      <th>rub_add_message</th>\n",
       "      <th>rub_add_minute</th>\n",
       "    </tr>\n",
       "  </thead>\n",
       "  <tbody>\n",
       "    <tr>\n",
       "      <th>0</th>\n",
       "      <td>1000.00</td>\n",
       "      <td>August</td>\n",
       "      <td>14055.93</td>\n",
       "      <td>81.00</td>\n",
       "      <td>52.00</td>\n",
       "      <td>408.00</td>\n",
       "      <td>ultra</td>\n",
       "      <td>Краснодар</td>\n",
       "      <td>1000</td>\n",
       "      <td>30720</td>\n",
       "      <td>3000</td>\n",
       "      <td>1950</td>\n",
       "      <td>150</td>\n",
       "      <td>1</td>\n",
       "      <td>1</td>\n",
       "    </tr>\n",
       "    <tr>\n",
       "      <th>1</th>\n",
       "      <td>1000.00</td>\n",
       "      <td>December</td>\n",
       "      <td>9817.61</td>\n",
       "      <td>70.00</td>\n",
       "      <td>46.00</td>\n",
       "      <td>333.00</td>\n",
       "      <td>ultra</td>\n",
       "      <td>Краснодар</td>\n",
       "      <td>1000</td>\n",
       "      <td>30720</td>\n",
       "      <td>3000</td>\n",
       "      <td>1950</td>\n",
       "      <td>150</td>\n",
       "      <td>1</td>\n",
       "      <td>1</td>\n",
       "    </tr>\n",
       "    <tr>\n",
       "      <th>2</th>\n",
       "      <td>1000.00</td>\n",
       "      <td>July</td>\n",
       "      <td>14003.64</td>\n",
       "      <td>75.00</td>\n",
       "      <td>47.00</td>\n",
       "      <td>340.00</td>\n",
       "      <td>ultra</td>\n",
       "      <td>Краснодар</td>\n",
       "      <td>1000</td>\n",
       "      <td>30720</td>\n",
       "      <td>3000</td>\n",
       "      <td>1950</td>\n",
       "      <td>150</td>\n",
       "      <td>1</td>\n",
       "      <td>1</td>\n",
       "    </tr>\n",
       "    <tr>\n",
       "      <th>3</th>\n",
       "      <td>1000.00</td>\n",
       "      <td>June</td>\n",
       "      <td>23233.77</td>\n",
       "      <td>60.00</td>\n",
       "      <td>43.00</td>\n",
       "      <td>172.00</td>\n",
       "      <td>ultra</td>\n",
       "      <td>Краснодар</td>\n",
       "      <td>1000</td>\n",
       "      <td>30720</td>\n",
       "      <td>3000</td>\n",
       "      <td>1950</td>\n",
       "      <td>150</td>\n",
       "      <td>1</td>\n",
       "      <td>1</td>\n",
       "    </tr>\n",
       "    <tr>\n",
       "      <th>4</th>\n",
       "      <td>1000.00</td>\n",
       "      <td>May</td>\n",
       "      <td>2253.49</td>\n",
       "      <td>22.00</td>\n",
       "      <td>22.00</td>\n",
       "      <td>159.00</td>\n",
       "      <td>ultra</td>\n",
       "      <td>Краснодар</td>\n",
       "      <td>1000</td>\n",
       "      <td>30720</td>\n",
       "      <td>3000</td>\n",
       "      <td>1950</td>\n",
       "      <td>150</td>\n",
       "      <td>1</td>\n",
       "      <td>1</td>\n",
       "    </tr>\n",
       "    <tr>\n",
       "      <th>5</th>\n",
       "      <td>1000.00</td>\n",
       "      <td>November</td>\n",
       "      <td>14756.47</td>\n",
       "      <td>58.00</td>\n",
       "      <td>43.00</td>\n",
       "      <td>338.00</td>\n",
       "      <td>ultra</td>\n",
       "      <td>Краснодар</td>\n",
       "      <td>1000</td>\n",
       "      <td>30720</td>\n",
       "      <td>3000</td>\n",
       "      <td>1950</td>\n",
       "      <td>150</td>\n",
       "      <td>1</td>\n",
       "      <td>1</td>\n",
       "    </tr>\n",
       "    <tr>\n",
       "      <th>6</th>\n",
       "      <td>1000.00</td>\n",
       "      <td>October</td>\n",
       "      <td>14702.49</td>\n",
       "      <td>73.00</td>\n",
       "      <td>57.00</td>\n",
       "      <td>350.00</td>\n",
       "      <td>ultra</td>\n",
       "      <td>Краснодар</td>\n",
       "      <td>1000</td>\n",
       "      <td>30720</td>\n",
       "      <td>3000</td>\n",
       "      <td>1950</td>\n",
       "      <td>150</td>\n",
       "      <td>1</td>\n",
       "      <td>1</td>\n",
       "    </tr>\n",
       "    <tr>\n",
       "      <th>7</th>\n",
       "      <td>1000.00</td>\n",
       "      <td>September</td>\n",
       "      <td>14568.91</td>\n",
       "      <td>57.00</td>\n",
       "      <td>58.00</td>\n",
       "      <td>466.00</td>\n",
       "      <td>ultra</td>\n",
       "      <td>Краснодар</td>\n",
       "      <td>1000</td>\n",
       "      <td>30720</td>\n",
       "      <td>3000</td>\n",
       "      <td>1950</td>\n",
       "      <td>150</td>\n",
       "      <td>1</td>\n",
       "      <td>1</td>\n",
       "    </tr>\n",
       "    <tr>\n",
       "      <th>8</th>\n",
       "      <td>1003.00</td>\n",
       "      <td>August</td>\n",
       "      <td>8565.21</td>\n",
       "      <td>37.00</td>\n",
       "      <td>55.00</td>\n",
       "      <td>380.00</td>\n",
       "      <td>ultra</td>\n",
       "      <td>Москва</td>\n",
       "      <td>1000</td>\n",
       "      <td>30720</td>\n",
       "      <td>3000</td>\n",
       "      <td>1950</td>\n",
       "      <td>150</td>\n",
       "      <td>1</td>\n",
       "      <td>1</td>\n",
       "    </tr>\n",
       "    <tr>\n",
       "      <th>9</th>\n",
       "      <td>1003.00</td>\n",
       "      <td>December</td>\n",
       "      <td>10121.53</td>\n",
       "      <td>75.00</td>\n",
       "      <td>108.00</td>\n",
       "      <td>802.00</td>\n",
       "      <td>ultra</td>\n",
       "      <td>Москва</td>\n",
       "      <td>1000</td>\n",
       "      <td>30720</td>\n",
       "      <td>3000</td>\n",
       "      <td>1950</td>\n",
       "      <td>150</td>\n",
       "      <td>1</td>\n",
       "      <td>1</td>\n",
       "    </tr>\n",
       "  </tbody>\n",
       "</table>\n",
       "</div>"
      ],
      "text/plain": [
       "   user_id      month  total_mb_used_internet  message_count  \\\n",
       "0  1000.00     August                14055.93          81.00   \n",
       "1  1000.00   December                 9817.61          70.00   \n",
       "2  1000.00       July                14003.64          75.00   \n",
       "3  1000.00       June                23233.77          60.00   \n",
       "4  1000.00        May                 2253.49          22.00   \n",
       "5  1000.00   November                14756.47          58.00   \n",
       "6  1000.00    October                14702.49          73.00   \n",
       "7  1000.00  September                14568.91          57.00   \n",
       "8  1003.00     August                 8565.21          37.00   \n",
       "9  1003.00   December                10121.53          75.00   \n",
       "\n",
       "   calls_total_in_month  month_calls_duration tariff       city  \\\n",
       "0                 52.00                408.00  ultra  Краснодар   \n",
       "1                 46.00                333.00  ultra  Краснодар   \n",
       "2                 47.00                340.00  ultra  Краснодар   \n",
       "3                 43.00                172.00  ultra  Краснодар   \n",
       "4                 22.00                159.00  ultra  Краснодар   \n",
       "5                 43.00                338.00  ultra  Краснодар   \n",
       "6                 57.00                350.00  ultra  Краснодар   \n",
       "7                 58.00                466.00  ultra  Краснодар   \n",
       "8                 55.00                380.00  ultra     Москва   \n",
       "9                108.00                802.00  ultra     Москва   \n",
       "\n",
       "   messages_included  internet_mb_included  minutes_included  monthly_price  \\\n",
       "0               1000                 30720              3000           1950   \n",
       "1               1000                 30720              3000           1950   \n",
       "2               1000                 30720              3000           1950   \n",
       "3               1000                 30720              3000           1950   \n",
       "4               1000                 30720              3000           1950   \n",
       "5               1000                 30720              3000           1950   \n",
       "6               1000                 30720              3000           1950   \n",
       "7               1000                 30720              3000           1950   \n",
       "8               1000                 30720              3000           1950   \n",
       "9               1000                 30720              3000           1950   \n",
       "\n",
       "   rub_add_gb  rub_add_message  rub_add_minute  \n",
       "0         150                1               1  \n",
       "1         150                1               1  \n",
       "2         150                1               1  \n",
       "3         150                1               1  \n",
       "4         150                1               1  \n",
       "5         150                1               1  \n",
       "6         150                1               1  \n",
       "7         150                1               1  \n",
       "8         150                1               1  \n",
       "9         150                1               1  "
      ]
     },
     "execution_count": 54,
     "metadata": {},
     "output_type": "execute_result"
    }
   ],
   "source": [
    "total_table.head(10)"
   ]
  },
  {
   "cell_type": "code",
   "execution_count": 55,
   "metadata": {},
   "outputs": [],
   "source": [
    "total_table[\"price_add_gb\"] = (\n",
    "    total_table[\"total_mb_used_internet\"] - total_table[\"internet_mb_included\"]\n",
    ").apply(lambda x: math.ceil(x / 1024) if x >= 0 else 0) * total_table[\"rub_add_gb\"]\n",
    "\n",
    "total_table[\"price_add_message\"] = (\n",
    "    total_table[\"message_count\"] - total_table[\"messages_included\"]\n",
    ").apply(lambda x: x if x >= 0 else 0) * total_table[\"rub_add_message\"]\n",
    "\n",
    "total_table[\"price_add_minute\"] = (\n",
    "    total_table[\"month_calls_duration\"] - total_table[\"minutes_included\"]\n",
    ").apply(lambda x: x if x >= 0 else 0) * total_table[\"rub_add_minute\"]\n",
    "\n",
    "total_table[\"total_price\"] = (\n",
    "    total_table[\"monthly_price\"]\n",
    "    + total_table[\"price_add_gb\"]\n",
    "    + total_table[\"price_add_message\"]\n",
    "    + total_table[\"price_add_minute\"]\n",
    ")"
   ]
  },
  {
   "cell_type": "code",
   "execution_count": 56,
   "metadata": {
    "scrolled": true
   },
   "outputs": [
    {
     "data": {
      "text/html": [
       "<style type=\"text/css\">\n",
       "</style>\n",
       "<table id=\"T_e5955\">\n",
       "  <thead>\n",
       "    <tr>\n",
       "      <th class=\"blank level0\" >&nbsp;</th>\n",
       "      <th id=\"T_e5955_level0_col0\" class=\"col_heading level0 col0\" >missing</th>\n",
       "      <th id=\"T_e5955_level0_col1\" class=\"col_heading level0 col1\" >total</th>\n",
       "      <th id=\"T_e5955_level0_col2\" class=\"col_heading level0 col2\" >percent</th>\n",
       "    </tr>\n",
       "  </thead>\n",
       "  <tbody>\n",
       "    <tr>\n",
       "      <th id=\"T_e5955_level0_row0\" class=\"row_heading level0 row0\" >message_count</th>\n",
       "      <td id=\"T_e5955_row0_col0\" class=\"data row0 col0\" >499</td>\n",
       "      <td id=\"T_e5955_row0_col1\" class=\"data row0 col1\" >3,216</td>\n",
       "      <td id=\"T_e5955_row0_col2\" class=\"data row0 col2\" >15.52%</td>\n",
       "    </tr>\n",
       "    <tr>\n",
       "      <th id=\"T_e5955_level0_row1\" class=\"row_heading level0 row1\" >calls_total_in_month</th>\n",
       "      <td id=\"T_e5955_row1_col0\" class=\"data row1 col0\" >42</td>\n",
       "      <td id=\"T_e5955_row1_col1\" class=\"data row1 col1\" >3,216</td>\n",
       "      <td id=\"T_e5955_row1_col2\" class=\"data row1 col2\" >1.31%</td>\n",
       "    </tr>\n",
       "    <tr>\n",
       "      <th id=\"T_e5955_level0_row2\" class=\"row_heading level0 row2\" >month_calls_duration</th>\n",
       "      <td id=\"T_e5955_row2_col0\" class=\"data row2 col0\" >42</td>\n",
       "      <td id=\"T_e5955_row2_col1\" class=\"data row2 col1\" >3,216</td>\n",
       "      <td id=\"T_e5955_row2_col2\" class=\"data row2 col2\" >1.31%</td>\n",
       "    </tr>\n",
       "    <tr>\n",
       "      <th id=\"T_e5955_level0_row3\" class=\"row_heading level0 row3\" >total_mb_used_internet</th>\n",
       "      <td id=\"T_e5955_row3_col0\" class=\"data row3 col0\" >13</td>\n",
       "      <td id=\"T_e5955_row3_col1\" class=\"data row3 col1\" >3,216</td>\n",
       "      <td id=\"T_e5955_row3_col2\" class=\"data row3 col2\" >0.40%</td>\n",
       "    </tr>\n",
       "    <tr>\n",
       "      <th id=\"T_e5955_level0_row4\" class=\"row_heading level0 row4\" >month</th>\n",
       "      <td id=\"T_e5955_row4_col0\" class=\"data row4 col0\" >2</td>\n",
       "      <td id=\"T_e5955_row4_col1\" class=\"data row4 col1\" >3,216</td>\n",
       "      <td id=\"T_e5955_row4_col2\" class=\"data row4 col2\" >0.06%</td>\n",
       "    </tr>\n",
       "  </tbody>\n",
       "</table>\n"
      ],
      "text/plain": [
       "<pandas.io.formats.style.Styler at 0x185bd083100>"
      ]
     },
     "execution_count": 56,
     "metadata": {},
     "output_type": "execute_result"
    }
   ],
   "source": [
    "total_table.stb.missing(style=True, clip_0=True)"
   ]
  },
  {
   "cell_type": "markdown",
   "metadata": {},
   "source": [
    "Пропуски заполним нулями, примим их, за отсутствие использования связи, интернета и сообщений."
   ]
  },
  {
   "cell_type": "code",
   "execution_count": 57,
   "metadata": {},
   "outputs": [],
   "source": [
    "total_table[\"message_count\"] = total_table[\"message_count\"].fillna(0)\n",
    "total_table[\"calls_total_in_month\"] = total_table[\"calls_total_in_month\"].fillna(0)\n",
    "total_table[\"month_calls_duration\"] = total_table[\"month_calls_duration\"].fillna(0)\n",
    "total_table[\"total_mb_used_internet\"] = total_table[\"total_mb_used_internet\"].fillna(0)"
   ]
  },
  {
   "cell_type": "markdown",
   "metadata": {},
   "source": [
    "## <span style=\"color: crimson\">Этап 3</span>  Анализ"
   ]
  },
  {
   "cell_type": "markdown",
   "metadata": {},
   "source": [
    "<b>1. <span style=\"color: red\">С</span>колько минут разговора требуется пользователям каждого тарифа в месяц?</b>"
   ]
  },
  {
   "cell_type": "code",
   "execution_count": 58,
   "metadata": {},
   "outputs": [
    {
     "data": {
      "text/html": [
       "<div>\n",
       "<style scoped>\n",
       "    .dataframe tbody tr th:only-of-type {\n",
       "        vertical-align: middle;\n",
       "    }\n",
       "\n",
       "    .dataframe tbody tr th {\n",
       "        vertical-align: top;\n",
       "    }\n",
       "\n",
       "    .dataframe thead th {\n",
       "        text-align: right;\n",
       "    }\n",
       "</style>\n",
       "<table border=\"1\" class=\"dataframe\">\n",
       "  <thead>\n",
       "    <tr style=\"text-align: right;\">\n",
       "      <th></th>\n",
       "      <th>median</th>\n",
       "      <th>mean</th>\n",
       "      <th>var</th>\n",
       "      <th>std</th>\n",
       "      <th>count</th>\n",
       "    </tr>\n",
       "    <tr>\n",
       "      <th>tariff</th>\n",
       "      <th></th>\n",
       "      <th></th>\n",
       "      <th></th>\n",
       "      <th></th>\n",
       "      <th></th>\n",
       "    </tr>\n",
       "  </thead>\n",
       "  <tbody>\n",
       "    <tr>\n",
       "      <th>smart</th>\n",
       "      <td>421.50</td>\n",
       "      <td>417.75</td>\n",
       "      <td>36281.39</td>\n",
       "      <td>190.48</td>\n",
       "      <td>2230</td>\n",
       "    </tr>\n",
       "    <tr>\n",
       "      <th>ultra</th>\n",
       "      <td>518.00</td>\n",
       "      <td>526.09</td>\n",
       "      <td>101052.49</td>\n",
       "      <td>317.89</td>\n",
       "      <td>986</td>\n",
       "    </tr>\n",
       "  </tbody>\n",
       "</table>\n",
       "</div>"
      ],
      "text/plain": [
       "        median   mean       var    std  count\n",
       "tariff                                       \n",
       "smart   421.50 417.75  36281.39 190.48   2230\n",
       "ultra   518.00 526.09 101052.49 317.89    986"
      ]
     },
     "execution_count": 58,
     "metadata": {},
     "output_type": "execute_result"
    }
   ],
   "source": [
    "total_table.groupby(['tariff'])['month_calls_duration']\\\n",
    "           .agg(['median','mean','var','std','count'])"
   ]
  },
  {
   "cell_type": "code",
   "execution_count": 59,
   "metadata": {},
   "outputs": [
    {
     "data": {
      "text/plain": [
       "Text(0.5, 1.0, 'smart - Время разговоров по телефону.')"
      ]
     },
     "execution_count": 59,
     "metadata": {},
     "output_type": "execute_result"
    },
    {
     "data": {
      "image/png": "[encoded data removed]",
      "text/plain": [
       "<Figure size 432x288 with 1 Axes>"
      ]
     },
     "metadata": {
      "needs_background": "light"
     },
     "output_type": "display_data"
    }
   ],
   "source": [
    "total_table.loc[total_table[\"tariff\"] == \"smart\"][\"month_calls_duration\"].hist()\n",
    "plt.title(\n",
    "    \"smart - Время разговоров по телефону.\", fontdict={\"size\": 20, \"color\": \"green\"}\n",
    ")"
   ]
  },
  {
   "cell_type": "code",
   "execution_count": 60,
   "metadata": {},
   "outputs": [
    {
     "data": {
      "text/plain": [
       "Text(0.5, 1.0, 'ultra - Время разговоров по телефону.')"
      ]
     },
     "execution_count": 60,
     "metadata": {},
     "output_type": "execute_result"
    },
    {
     "data": {
      "image/png": "[encoded data removed]",
      "text/plain": [
       "<Figure size 432x288 with 1 Axes>"
      ]
     },
     "metadata": {
      "needs_background": "light"
     },
     "output_type": "display_data"
    }
   ],
   "source": [
    "total_table.loc[total_table[\"tariff\"] == \"ultra\"][\"month_calls_duration\"].hist()\n",
    "plt.title(\n",
    "    \"ultra - Время разговоров по телефону.\", fontdict={\"size\": 20, \"color\": \"crimson\"}\n",
    ")"
   ]
  },
  {
   "cell_type": "markdown",
   "metadata": {},
   "source": [
    "**Выводы**:\n",
    "* Пользователи тарифа **smart** используют около <u>410 минут</u> в месяц.\n",
    "* Пользователи тарифа **ultra** используют около <u>520 минут</u> в месяц."
   ]
  },
  {
   "cell_type": "markdown",
   "metadata": {},
   "source": [
    "<b>2. <span style=\"color: red\">С</span>колько сообщений требуется пользователям каждого тарифа в месяц?</b> "
   ]
  },
  {
   "cell_type": "code",
   "execution_count": 61,
   "metadata": {},
   "outputs": [
    {
     "data": {
      "text/html": [
       "<div>\n",
       "<style scoped>\n",
       "    .dataframe tbody tr th:only-of-type {\n",
       "        vertical-align: middle;\n",
       "    }\n",
       "\n",
       "    .dataframe tbody tr th {\n",
       "        vertical-align: top;\n",
       "    }\n",
       "\n",
       "    .dataframe thead th {\n",
       "        text-align: right;\n",
       "    }\n",
       "</style>\n",
       "<table border=\"1\" class=\"dataframe\">\n",
       "  <thead>\n",
       "    <tr style=\"text-align: right;\">\n",
       "      <th></th>\n",
       "      <th>median</th>\n",
       "      <th>mean</th>\n",
       "      <th>var</th>\n",
       "      <th>std</th>\n",
       "      <th>count</th>\n",
       "    </tr>\n",
       "    <tr>\n",
       "      <th>tariff</th>\n",
       "      <th></th>\n",
       "      <th></th>\n",
       "      <th></th>\n",
       "      <th></th>\n",
       "      <th></th>\n",
       "    </tr>\n",
       "  </thead>\n",
       "  <tbody>\n",
       "    <tr>\n",
       "      <th>smart</th>\n",
       "      <td>28.00</td>\n",
       "      <td>33.37</td>\n",
       "      <td>796.96</td>\n",
       "      <td>28.23</td>\n",
       "      <td>2230</td>\n",
       "    </tr>\n",
       "    <tr>\n",
       "      <th>ultra</th>\n",
       "      <td>38.00</td>\n",
       "      <td>49.31</td>\n",
       "      <td>2285.42</td>\n",
       "      <td>47.81</td>\n",
       "      <td>986</td>\n",
       "    </tr>\n",
       "  </tbody>\n",
       "</table>\n",
       "</div>"
      ],
      "text/plain": [
       "        median  mean     var   std  count\n",
       "tariff                                   \n",
       "smart    28.00 33.37  796.96 28.23   2230\n",
       "ultra    38.00 49.31 2285.42 47.81    986"
      ]
     },
     "execution_count": 61,
     "metadata": {},
     "output_type": "execute_result"
    }
   ],
   "source": [
    "total_table.groupby(['tariff'])['message_count']\\\n",
    "           .agg(['median','mean','var','std','count'])"
   ]
  },
  {
   "cell_type": "code",
   "execution_count": 62,
   "metadata": {},
   "outputs": [
    {
     "data": {
      "text/plain": [
       "Text(0.5, 1.0, 'smart - Кол-во сообщений.')"
      ]
     },
     "execution_count": 62,
     "metadata": {},
     "output_type": "execute_result"
    },
    {
     "data": {
      "image/png": "[encoded data removed]",
      "text/plain": [
       "<Figure size 432x288 with 1 Axes>"
      ]
     },
     "metadata": {
      "needs_background": "light"
     },
     "output_type": "display_data"
    }
   ],
   "source": [
    "total_table.loc[total_table[\"tariff\"] == \"smart\"][\"message_count\"].hist()\n",
    "plt.title(\"smart - Кол-во сообщений.\", fontdict={\"size\": 20, \"color\": \"green\"})"
   ]
  },
  {
   "cell_type": "code",
   "execution_count": 63,
   "metadata": {},
   "outputs": [
    {
     "data": {
      "text/plain": [
       "Text(0.5, 1.0, 'ultra  - Кол-во сообщений.')"
      ]
     },
     "execution_count": 63,
     "metadata": {},
     "output_type": "execute_result"
    },
    {
     "data": {
      "image/png": "[encoded data removed]",
      "text/plain": [
       "<Figure size 432x288 with 1 Axes>"
      ]
     },
     "metadata": {
      "needs_background": "light"
     },
     "output_type": "display_data"
    }
   ],
   "source": [
    "total_table.loc[total_table[\"tariff\"] == \"ultra\"][\"message_count\"].hist()\n",
    "plt.title(\"ultra  - Кол-во сообщений.\", fontdict={\"size\": 20, \"color\": \"crimson\"})"
   ]
  },
  {
   "cell_type": "markdown",
   "metadata": {},
   "source": [
    "**Выводы**:\n",
    "* Пользователи тарифа **smart** используют около <u>30 сообщений</u> в месяц.\n",
    "* Пользователи тарифа **ultra** используют около <u>45 сообщений</u> в месяц."
   ]
  },
  {
   "cell_type": "markdown",
   "metadata": {},
   "source": [
    "<b>3. <span style=\"color: red\">К</span>акой объём интернет-трафика требуется пользователям каждого тарифа в месяц? </b> "
   ]
  },
  {
   "cell_type": "code",
   "execution_count": 64,
   "metadata": {},
   "outputs": [
    {
     "data": {
      "text/html": [
       "<div>\n",
       "<style scoped>\n",
       "    .dataframe tbody tr th:only-of-type {\n",
       "        vertical-align: middle;\n",
       "    }\n",
       "\n",
       "    .dataframe tbody tr th {\n",
       "        vertical-align: top;\n",
       "    }\n",
       "\n",
       "    .dataframe thead th {\n",
       "        text-align: right;\n",
       "    }\n",
       "</style>\n",
       "<table border=\"1\" class=\"dataframe\">\n",
       "  <thead>\n",
       "    <tr style=\"text-align: right;\">\n",
       "      <th></th>\n",
       "      <th>median</th>\n",
       "      <th>mean</th>\n",
       "      <th>var</th>\n",
       "      <th>std</th>\n",
       "      <th>count</th>\n",
       "    </tr>\n",
       "    <tr>\n",
       "      <th>tariff</th>\n",
       "      <th></th>\n",
       "      <th></th>\n",
       "      <th></th>\n",
       "      <th></th>\n",
       "      <th></th>\n",
       "    </tr>\n",
       "  </thead>\n",
       "  <tbody>\n",
       "    <tr>\n",
       "      <th>smart</th>\n",
       "      <td>16505.47</td>\n",
       "      <td>16201.12</td>\n",
       "      <td>34564843.48</td>\n",
       "      <td>5879.19</td>\n",
       "      <td>2230</td>\n",
       "    </tr>\n",
       "    <tr>\n",
       "      <th>ultra</th>\n",
       "      <td>19304.02</td>\n",
       "      <td>19449.06</td>\n",
       "      <td>102032129.46</td>\n",
       "      <td>10101.10</td>\n",
       "      <td>986</td>\n",
       "    </tr>\n",
       "  </tbody>\n",
       "</table>\n",
       "</div>"
      ],
      "text/plain": [
       "         median     mean          var      std  count\n",
       "tariff                                               \n",
       "smart  16505.47 16201.12  34564843.48  5879.19   2230\n",
       "ultra  19304.02 19449.06 102032129.46 10101.10    986"
      ]
     },
     "execution_count": 64,
     "metadata": {},
     "output_type": "execute_result"
    }
   ],
   "source": [
    "total_table.groupby(['tariff'])['total_mb_used_internet']\\\n",
    "           .agg(['median','mean','var','std','count'])"
   ]
  },
  {
   "cell_type": "code",
   "execution_count": 65,
   "metadata": {},
   "outputs": [
    {
     "data": {
      "text/plain": [
       "Text(0.5, 1.0, 'smart  - Расход интернета в мб.')"
      ]
     },
     "execution_count": 65,
     "metadata": {},
     "output_type": "execute_result"
    },
    {
     "data": {
      "image/png": "[encoded data removed]",
      "text/plain": [
       "<Figure size 432x288 with 1 Axes>"
      ]
     },
     "metadata": {
      "needs_background": "light"
     },
     "output_type": "display_data"
    }
   ],
   "source": [
    "total_table[total_table[\"tariff\"] == \"smart\"][\"total_mb_used_internet\"].hist()\n",
    "plt.title(\"smart  - Расход интернета в мб.\", fontdict={\"size\": 20, \"color\": \"green\"})"
   ]
  },
  {
   "cell_type": "code",
   "execution_count": 66,
   "metadata": {},
   "outputs": [
    {
     "data": {
      "text/plain": [
       "Text(0.5, 1.0, 'ultra  - Расход интернета в мб.')"
      ]
     },
     "execution_count": 66,
     "metadata": {},
     "output_type": "execute_result"
    },
    {
     "data": {
      "image/png": "[encoded data removed]",
      "text/plain": [
       "<Figure size 432x288 with 1 Axes>"
      ]
     },
     "metadata": {
      "needs_background": "light"
     },
     "output_type": "display_data"
    }
   ],
   "source": [
    "total_table[total_table[\"tariff\"] == \"ultra\"][\"total_mb_used_internet\"].hist()\n",
    "plt.title(\"ultra  - Расход интернета в мб.\", fontdict={\"size\": 20, \"color\": \"crimson\"})"
   ]
  },
  {
   "cell_type": "markdown",
   "metadata": {},
   "source": [
    "**Выводы**:\n",
    "* Пользователи тарифа **smart** используют около <u>16 гб</u> в месяц.\n",
    "* Пользователи тарифа **ultra** используют около <u>19 гб</u> в месяц."
   ]
  },
  {
   "cell_type": "markdown",
   "metadata": {},
   "source": [
    "<b>4. <span style=\"color: red\">К</span>акую выручку приносит объём пользователь каждого тарифа в месяц?</b> "
   ]
  },
  {
   "cell_type": "code",
   "execution_count": 67,
   "metadata": {},
   "outputs": [
    {
     "data": {
      "text/html": [
       "<div>\n",
       "<style scoped>\n",
       "    .dataframe tbody tr th:only-of-type {\n",
       "        vertical-align: middle;\n",
       "    }\n",
       "\n",
       "    .dataframe tbody tr th {\n",
       "        vertical-align: top;\n",
       "    }\n",
       "\n",
       "    .dataframe thead th {\n",
       "        text-align: right;\n",
       "    }\n",
       "</style>\n",
       "<table border=\"1\" class=\"dataframe\">\n",
       "  <thead>\n",
       "    <tr style=\"text-align: right;\">\n",
       "      <th></th>\n",
       "      <th>median</th>\n",
       "      <th>mean</th>\n",
       "      <th>var</th>\n",
       "      <th>std</th>\n",
       "      <th>count</th>\n",
       "    </tr>\n",
       "    <tr>\n",
       "      <th>tariff</th>\n",
       "      <th></th>\n",
       "      <th></th>\n",
       "      <th></th>\n",
       "      <th></th>\n",
       "      <th></th>\n",
       "    </tr>\n",
       "  </thead>\n",
       "  <tbody>\n",
       "    <tr>\n",
       "      <th>smart</th>\n",
       "      <td>1021.00</td>\n",
       "      <td>1289.64</td>\n",
       "      <td>669730.76</td>\n",
       "      <td>818.37</td>\n",
       "      <td>2230</td>\n",
       "    </tr>\n",
       "    <tr>\n",
       "      <th>ultra</th>\n",
       "      <td>1950.00</td>\n",
       "      <td>2070.03</td>\n",
       "      <td>141387.71</td>\n",
       "      <td>376.02</td>\n",
       "      <td>986</td>\n",
       "    </tr>\n",
       "  </tbody>\n",
       "</table>\n",
       "</div>"
      ],
      "text/plain": [
       "        median    mean       var    std  count\n",
       "tariff                                        \n",
       "smart  1021.00 1289.64 669730.76 818.37   2230\n",
       "ultra  1950.00 2070.03 141387.71 376.02    986"
      ]
     },
     "execution_count": 67,
     "metadata": {},
     "output_type": "execute_result"
    }
   ],
   "source": [
    "total_table.groupby(['tariff'])['total_price']\\\n",
    "           .agg(['median','mean','var','std','count'])"
   ]
  },
  {
   "cell_type": "markdown",
   "metadata": {},
   "source": [
    "**Выводы**:\n",
    "* Пользователи тарифа **smart** тратят около <u>1100</u> в месяц.\n",
    "* Пользователи тарифа **ultra** тратят около <u>1950</u> в месяц."
   ]
  },
  {
   "cell_type": "markdown",
   "metadata": {},
   "source": [
    "## <span style=\"color: crimson\">Этап 4</span> Проверка гипотез"
   ]
  },
  {
   "cell_type": "markdown",
   "metadata": {},
   "source": [
    "**Средняя выручка <u>от</u> пользователей тарифов «Ультра» и «Смарт» различаются.**  \n",
    "**H0**: Среднее значение выпучки от пользователей ultra **<span style=\"color: red\">==</span>** Среднему значению выпучки от пользователей smart   \n",
    "**H1**: Среднее значение выпучки от пользователей ultra **<span style=\"color: red\">!=</span>** Среднему значению выпучки от пользователей smart  "
   ]
  },
  {
   "cell_type": "markdown",
   "metadata": {},
   "source": [
    "Воспользуемся T-тестом, т.к: \n",
    "1. Так как проверка на различие, то используем двусторонний тест.\n",
    "2. Мы сравниваем среднее двух независимых выборок."
   ]
  },
  {
   "cell_type": "code",
   "execution_count": 68,
   "metadata": {},
   "outputs": [
    {
     "name": "stdout",
     "output_type": "stream",
     "text": [
      "p-значение: 0.00000\n",
      "Отвергаем нулевую гипотезу\n"
     ]
    }
   ],
   "source": [
    "smart_total_price = total_table[total_table['tariff'] == 'smart']['total_price']\n",
    "ultra_total_price = total_table[total_table['tariff'] == 'ultra']['total_price']\n",
    "\n",
    "\n",
    "alpha = 0.05  # Ошибка первого рода не приведет к проблемам, поэтому можно взять 5% (10% слишком уж жирно)\n",
    "\n",
    "results = st.ttest_ind(smart_total_price, ultra_total_price, equal_var = False)\n",
    "\n",
    "print('p-значение: {:.5f}'.format(results.pvalue))\n",
    "\n",
    "if results.pvalue < alpha:\n",
    "    print(\"Отвергаем нулевую гипотезу\")\n",
    "else:\n",
    "    print(\"Не получилось отвергнуть нулевую гипотезу\") "
   ]
  },
  {
   "cell_type": "markdown",
   "metadata": {},
   "source": [
    "**Вывод:**  \n",
    "Выручка от пользователей разных тарифов точно отличается."
   ]
  },
  {
   "cell_type": "markdown",
   "metadata": {},
   "source": [
    "<hr>"
   ]
  },
  {
   "cell_type": "markdown",
   "metadata": {},
   "source": [
    "**Средняя выручка от пользователей тарифов из Москвы и пользователей из других регионов различаются.**  \n",
    "**H0**: Среднее значение выпучки от пользователей из Москвы **<span style=\"color: red\">==</span>** Среднему значению выпучки от пользователей из других регионов.   \n",
    "**H1**: Среднее значение выпучки от пользователей из Москвы **<span style=\"color: red\">!=</span>** Среднему значению выпучки от пользователей из других регионов.   "
   ]
  },
  {
   "cell_type": "code",
   "execution_count": 69,
   "metadata": {},
   "outputs": [
    {
     "name": "stdout",
     "output_type": "stream",
     "text": [
      "p-значение: 0.52170\n",
      "Не получилось отвергнуть нулевую гипотезу\n"
     ]
    }
   ],
   "source": [
    "moscow_total_price    = total_table[total_table['city'] == 'Москва']['total_price']\n",
    "no_moscow_total_price = total_table[total_table['city'] != 'Москва']['total_price']\n",
    "\n",
    "alpha = 0.05  # Ошибка первого рода не приведет к проблемам, поэтому можно взять 5% (10% слишком уж жирно)\n",
    "\n",
    "results = st.ttest_ind(moscow_total_price, no_moscow_total_price, equal_var = False)\n",
    "\n",
    "print('p-значение: {:.5f}'.format(results.pvalue))\n",
    "\n",
    "if results.pvalue < alpha:\n",
    "    print(\"Отвергаем нулевую гипотезу\")\n",
    "else:\n",
    "    print(\"Не получилось отвергнуть нулевую гипотезу\") "
   ]
  },
  {
   "cell_type": "markdown",
   "metadata": {},
   "source": [
    "**Вывод:**  \n",
    "Выручка от пользователей в Москве и за её пределами одинакова."
   ]
  },
  {
   "cell_type": "markdown",
   "metadata": {},
   "source": [
    "## <span style=\"color: crimson\">Этап 5</span> Результаты исследований"
   ]
  },
  {
   "cell_type": "markdown",
   "metadata": {},
   "source": [
    "**Наблюдений:**\n",
    "* На обоих тарифах мало кто использует СМС.\n",
    "* Пользователи тарифа smart переплачивают, стоит это поправить т.к. пользователь у которого оплата значительно превышает  стоимость за тариф, может быть недоволен и перейти на другого оператора.\n",
    "* Кол-во денег от клиента зависит от тарифа и не зависит от того живет пользователь в столице или за её пределами, значит на выручку не сильно влияет уровень дохода клиента.\n",
    "* Если продолжительность звонка и объем интернет сессии равны 0, то их не стоит записывать. (оставить значение NaN) \n",
    "\n",
    "**Среднее использование трафика на разных трафиках:**\n",
    "* Пользователи тарифа **smart** используют около <u>16 гб</u>, 410 минут, 30 сообщения, тратят около 1100 руб в месяц.\n",
    "* Пользователи тарифа **ultra**   используют около <u>19 гб</u>, 520 минут, 45 сообщений, тратят около 1950 руб в месяц.\n",
    "\n",
    "**Ответ на основной вопрос:**\n",
    "* Для оператора тариф ultra выгоднее т.к. средняя прибыль на 800 руб. выше, хотя пользователей тарифа smart больше. \n",
    "* От тарифа ultra прибыль 1922700 руб, а smart прибыль 1226500 руб."
   ]
  }
 ],
 "metadata": {
  "ExecuteTimeLog": [
   {
    "duration": 10,
    "start_time": "2021-10-20T15:16:34.836Z"
   },
   {
    "duration": 94,
    "start_time": "2021-10-20T15:29:29.394Z"
   },
   {
    "duration": 105,
    "start_time": "2021-10-20T15:38:09.462Z"
   },
   {
    "duration": 769,
    "start_time": "2021-10-20T15:38:39.609Z"
   },
   {
    "duration": 222,
    "start_time": "2021-10-20T15:39:15.371Z"
   },
   {
    "duration": 382,
    "start_time": "2021-10-20T15:41:47.957Z"
   },
   {
    "duration": 705,
    "start_time": "2021-10-20T15:41:50.939Z"
   },
   {
    "duration": 532,
    "start_time": "2021-10-20T15:41:57.225Z"
   },
   {
    "duration": 11,
    "start_time": "2021-10-20T15:41:57.914Z"
   },
   {
    "duration": 12,
    "start_time": "2021-10-20T15:42:03.590Z"
   },
   {
    "duration": 972,
    "start_time": "2021-10-20T15:43:38.982Z"
   },
   {
    "duration": 369,
    "start_time": "2021-10-20T15:44:14.369Z"
   },
   {
    "duration": 802,
    "start_time": "2021-10-20T15:44:17.738Z"
   },
   {
    "duration": 762,
    "start_time": "2021-10-20T15:44:18.543Z"
   },
   {
    "duration": 80,
    "start_time": "2021-10-20T15:45:33.744Z"
   },
   {
    "duration": 741,
    "start_time": "2021-10-20T15:45:36.841Z"
   },
   {
    "duration": 711,
    "start_time": "2021-10-20T15:45:47.746Z"
   },
   {
    "duration": 471,
    "start_time": "2021-10-20T15:46:15.285Z"
   },
   {
    "duration": 480,
    "start_time": "2021-10-20T15:46:46.169Z"
   },
   {
    "duration": 12,
    "start_time": "2021-10-20T16:20:48.195Z"
   },
   {
    "duration": 13,
    "start_time": "2021-10-20T16:20:54.398Z"
   },
   {
    "duration": 354,
    "start_time": "2021-10-20T16:24:49.504Z"
   },
   {
    "duration": 12,
    "start_time": "2021-10-20T16:24:52.604Z"
   },
   {
    "duration": 13,
    "start_time": "2021-10-20T16:24:53.113Z"
   },
   {
    "duration": 13,
    "start_time": "2021-10-20T16:29:17.249Z"
   },
   {
    "duration": 21,
    "start_time": "2021-10-20T16:29:42.242Z"
   },
   {
    "duration": 347,
    "start_time": "2021-10-20T16:30:58.786Z"
   },
   {
    "duration": 563,
    "start_time": "2021-10-20T16:31:08.497Z"
   },
   {
    "duration": 49,
    "start_time": "2021-10-20T16:31:09.062Z"
   },
   {
    "duration": 12,
    "start_time": "2021-10-20T16:39:10.792Z"
   },
   {
    "duration": 3,
    "start_time": "2021-10-20T16:49:16.662Z"
   },
   {
    "duration": 103,
    "start_time": "2021-10-20T17:20:40.800Z"
   },
   {
    "duration": 305,
    "start_time": "2021-10-20T17:26:02.942Z"
   },
   {
    "duration": 507,
    "start_time": "2021-10-20T17:26:05.903Z"
   },
   {
    "duration": 15,
    "start_time": "2021-10-20T17:26:07.323Z"
   },
   {
    "duration": 13,
    "start_time": "2021-10-20T17:26:20.663Z"
   },
   {
    "duration": 14,
    "start_time": "2021-10-20T17:26:28.711Z"
   },
   {
    "duration": 15,
    "start_time": "2021-10-20T17:26:32.382Z"
   },
   {
    "duration": 15,
    "start_time": "2021-10-20T17:26:36.143Z"
   },
   {
    "duration": 16,
    "start_time": "2021-10-20T17:26:39.840Z"
   },
   {
    "duration": 15,
    "start_time": "2021-10-20T17:31:08.875Z"
   },
   {
    "duration": 30,
    "start_time": "2021-10-20T17:31:12.399Z"
   },
   {
    "duration": 15,
    "start_time": "2021-10-20T17:31:17.553Z"
   },
   {
    "duration": 22,
    "start_time": "2021-10-20T17:31:38.957Z"
   },
   {
    "duration": 15,
    "start_time": "2021-10-20T17:35:24.275Z"
   },
   {
    "duration": 310,
    "start_time": "2021-10-20T17:36:28.339Z"
   },
   {
    "duration": 10,
    "start_time": "2021-10-20T17:36:36.025Z"
   },
   {
    "duration": 4,
    "start_time": "2021-10-20T17:37:30.551Z"
   },
   {
    "duration": 15,
    "start_time": "2021-10-20T17:37:30.972Z"
   },
   {
    "duration": 4,
    "start_time": "2021-10-20T17:37:43.273Z"
   },
   {
    "duration": 15,
    "start_time": "2021-10-20T17:37:43.661Z"
   },
   {
    "duration": 303,
    "start_time": "2021-10-20T17:39:36.907Z"
   },
   {
    "duration": 15,
    "start_time": "2021-10-20T17:39:37.351Z"
   },
   {
    "duration": 314,
    "start_time": "2021-10-20T17:40:22.396Z"
   },
   {
    "duration": 1315,
    "start_time": "2021-10-20T17:40:26.097Z"
   },
   {
    "duration": 4,
    "start_time": "2021-10-20T17:40:29.492Z"
   },
   {
    "duration": 4,
    "start_time": "2021-10-20T17:41:43.869Z"
   },
   {
    "duration": 141,
    "start_time": "2021-10-20T17:41:52.999Z"
   },
   {
    "duration": 4,
    "start_time": "2021-10-20T17:42:00.498Z"
   },
   {
    "duration": 19,
    "start_time": "2021-10-20T17:42:03.909Z"
   },
   {
    "duration": 4,
    "start_time": "2021-10-20T17:42:17.379Z"
   },
   {
    "duration": 18,
    "start_time": "2021-10-20T17:42:19.531Z"
   },
   {
    "duration": 4,
    "start_time": "2021-10-20T17:42:24.349Z"
   },
   {
    "duration": 19,
    "start_time": "2021-10-20T17:42:25.471Z"
   },
   {
    "duration": 4,
    "start_time": "2021-10-20T17:47:37.175Z"
   },
   {
    "duration": 23,
    "start_time": "2021-10-20T17:47:41.312Z"
   },
   {
    "duration": 19,
    "start_time": "2021-10-20T17:47:47.712Z"
   },
   {
    "duration": 21,
    "start_time": "2021-10-20T17:47:54.854Z"
   },
   {
    "duration": 517,
    "start_time": "2021-10-20T17:54:14.036Z"
   },
   {
    "duration": 290,
    "start_time": "2021-10-20T17:54:21.095Z"
   },
   {
    "duration": 321,
    "start_time": "2021-10-20T17:55:18.556Z"
   },
   {
    "duration": 370,
    "start_time": "2021-10-20T17:55:21.489Z"
   },
   {
    "duration": 11560,
    "start_time": "2021-10-20T17:55:31.157Z"
   },
   {
    "duration": 5,
    "start_time": "2021-10-20T17:55:42.720Z"
   },
   {
    "duration": 844,
    "start_time": "2021-10-20T17:55:42.728Z"
   },
   {
    "duration": 311,
    "start_time": "2021-10-20T18:03:31.651Z"
   },
   {
    "duration": 10,
    "start_time": "2021-10-20T18:03:35.473Z"
   },
   {
    "duration": 98,
    "start_time": "2021-10-20T18:03:37.755Z"
   },
   {
    "duration": 9,
    "start_time": "2021-10-20T18:03:40.332Z"
   },
   {
    "duration": 278,
    "start_time": "2021-10-20T18:03:43.950Z"
   },
   {
    "duration": 692,
    "start_time": "2021-10-20T18:03:46.558Z"
   },
   {
    "duration": 9,
    "start_time": "2021-10-20T18:03:49.879Z"
   },
   {
    "duration": 5,
    "start_time": "2021-10-20T18:12:58.615Z"
   },
   {
    "duration": 9,
    "start_time": "2021-10-20T18:13:01.532Z"
   },
   {
    "duration": 22,
    "start_time": "2021-10-20T18:13:04.160Z"
   },
   {
    "duration": 118,
    "start_time": "2021-10-20T18:14:28.348Z"
   },
   {
    "duration": 3,
    "start_time": "2021-10-20T18:15:55.597Z"
   },
   {
    "duration": 6,
    "start_time": "2021-10-20T18:15:57.086Z"
   },
   {
    "duration": 20,
    "start_time": "2021-10-20T18:16:00.380Z"
   },
   {
    "duration": 307,
    "start_time": "2021-10-20T18:16:17.577Z"
   },
   {
    "duration": 299,
    "start_time": "2021-10-20T18:16:29.073Z"
   },
   {
    "duration": 7,
    "start_time": "2021-10-20T18:17:04.781Z"
   },
   {
    "duration": 19,
    "start_time": "2021-10-20T18:17:07.850Z"
   },
   {
    "duration": 7,
    "start_time": "2021-10-20T18:17:48.680Z"
   },
   {
    "duration": 22,
    "start_time": "2021-10-20T18:17:49.852Z"
   },
   {
    "duration": 8,
    "start_time": "2021-10-20T19:04:15.359Z"
   },
   {
    "duration": 97,
    "start_time": "2021-10-20T19:04:16.551Z"
   },
   {
    "duration": 10,
    "start_time": "2021-10-20T19:04:18.033Z"
   },
   {
    "duration": 6,
    "start_time": "2021-10-20T19:28:28.505Z"
   },
   {
    "duration": 9,
    "start_time": "2021-10-20T19:28:40.046Z"
   },
   {
    "duration": 10,
    "start_time": "2021-10-20T19:28:46.915Z"
   },
   {
    "duration": 422,
    "start_time": "2021-10-20T19:29:47.641Z"
   },
   {
    "duration": 310,
    "start_time": "2021-10-20T19:31:08.797Z"
   },
   {
    "duration": 11,
    "start_time": "2021-10-20T19:31:30.336Z"
   },
   {
    "duration": 14,
    "start_time": "2021-10-20T19:31:48.426Z"
   },
   {
    "duration": 10,
    "start_time": "2021-10-20T19:31:52.741Z"
   },
   {
    "duration": 10,
    "start_time": "2021-10-20T19:32:02.283Z"
   },
   {
    "duration": 17,
    "start_time": "2021-10-20T19:32:07.861Z"
   },
   {
    "duration": 10,
    "start_time": "2021-10-20T19:37:29.148Z"
   },
   {
    "duration": 95,
    "start_time": "2021-10-20T19:37:35.209Z"
   },
   {
    "duration": 7,
    "start_time": "2021-10-20T19:37:42.729Z"
   },
   {
    "duration": 20,
    "start_time": "2021-10-20T19:37:46.194Z"
   },
   {
    "duration": 10,
    "start_time": "2021-10-20T19:37:50.519Z"
   },
   {
    "duration": 3252,
    "start_time": "2021-10-20T19:40:53.023Z"
   },
   {
    "duration": 770,
    "start_time": "2021-10-20T19:40:55.510Z"
   },
   {
    "duration": 576,
    "start_time": "2021-10-20T19:41:01.131Z"
   },
   {
    "duration": 4,
    "start_time": "2021-10-20T19:41:01.710Z"
   },
   {
    "duration": 19,
    "start_time": "2021-10-20T19:41:03.547Z"
   },
   {
    "duration": 8,
    "start_time": "2021-10-20T19:41:03.743Z"
   },
   {
    "duration": 21,
    "start_time": "2021-10-20T19:41:03.947Z"
   },
   {
    "duration": 9,
    "start_time": "2021-10-20T19:41:04.844Z"
   },
   {
    "duration": 11,
    "start_time": "2021-10-20T19:41:05.662Z"
   },
   {
    "duration": 20,
    "start_time": "2021-10-20T19:41:07.910Z"
   },
   {
    "duration": 15,
    "start_time": "2021-10-20T20:47:09.486Z"
   },
   {
    "duration": 30,
    "start_time": "2021-10-20T20:49:43.435Z"
   },
   {
    "duration": 36,
    "start_time": "2021-10-20T20:49:57.836Z"
   },
   {
    "duration": 323,
    "start_time": "2021-10-20T20:54:39.602Z"
   },
   {
    "duration": 328,
    "start_time": "2021-10-20T20:55:41.789Z"
   },
   {
    "duration": 322,
    "start_time": "2021-10-20T20:55:49.401Z"
   },
   {
    "duration": 20,
    "start_time": "2021-10-20T20:55:56.654Z"
   },
   {
    "duration": 27,
    "start_time": "2021-10-20T20:55:56.734Z"
   },
   {
    "duration": 27,
    "start_time": "2021-10-20T20:56:00.203Z"
   },
   {
    "duration": 34,
    "start_time": "2021-10-20T20:56:16.233Z"
   },
   {
    "duration": 34,
    "start_time": "2021-10-20T20:56:33.889Z"
   },
   {
    "duration": 299,
    "start_time": "2021-10-21T10:48:23.994Z"
   },
   {
    "duration": 951,
    "start_time": "2021-10-21T10:48:30.836Z"
   },
   {
    "duration": 8078,
    "start_time": "2021-10-21T10:48:32.448Z"
   },
   {
    "duration": 4,
    "start_time": "2021-10-21T10:48:40.528Z"
   },
   {
    "duration": 462,
    "start_time": "2021-10-21T10:48:40.534Z"
   },
   {
    "duration": 3,
    "start_time": "2021-10-21T10:48:40.998Z"
   },
   {
    "duration": 23,
    "start_time": "2021-10-21T10:48:41.003Z"
   },
   {
    "duration": 6,
    "start_time": "2021-10-21T10:48:41.028Z"
   },
   {
    "duration": 16,
    "start_time": "2021-10-21T10:48:41.036Z"
   },
   {
    "duration": 12,
    "start_time": "2021-10-21T10:48:41.055Z"
   },
   {
    "duration": 10,
    "start_time": "2021-10-21T10:48:41.068Z"
   },
   {
    "duration": 534,
    "start_time": "2021-10-21T10:48:41.080Z"
   },
   {
    "duration": 8,
    "start_time": "2021-10-21T10:48:41.616Z"
   },
   {
    "duration": 18,
    "start_time": "2021-10-21T10:57:03.973Z"
   },
   {
    "duration": 7,
    "start_time": "2021-10-21T10:57:06.270Z"
   },
   {
    "duration": 19,
    "start_time": "2021-10-21T10:57:13.090Z"
   },
   {
    "duration": 15,
    "start_time": "2021-10-21T10:58:08.971Z"
   },
   {
    "duration": 7,
    "start_time": "2021-10-21T10:58:09.947Z"
   },
   {
    "duration": 16,
    "start_time": "2021-10-21T10:58:11.656Z"
   },
   {
    "duration": 7,
    "start_time": "2021-10-21T10:58:30.120Z"
   },
   {
    "duration": 19,
    "start_time": "2021-10-21T10:58:31.910Z"
   },
   {
    "duration": 98,
    "start_time": "2021-10-21T11:01:31.457Z"
   },
   {
    "duration": 257,
    "start_time": "2021-10-21T11:01:36.955Z"
   },
   {
    "duration": 9,
    "start_time": "2021-10-21T11:01:53.215Z"
   },
   {
    "duration": 230,
    "start_time": "2021-10-21T11:03:06.428Z"
   },
   {
    "duration": 17,
    "start_time": "2021-10-21T11:03:13.038Z"
   },
   {
    "duration": 243,
    "start_time": "2021-10-21T11:09:29.094Z"
   },
   {
    "duration": 15,
    "start_time": "2021-10-21T11:09:35.031Z"
   },
   {
    "duration": 8,
    "start_time": "2021-10-21T11:09:49.833Z"
   },
   {
    "duration": 3,
    "start_time": "2021-10-21T11:10:02.613Z"
   },
   {
    "duration": 17,
    "start_time": "2021-10-21T11:10:04.259Z"
   },
   {
    "duration": 3,
    "start_time": "2021-10-21T11:10:06.691Z"
   },
   {
    "duration": 18,
    "start_time": "2021-10-21T11:10:07.419Z"
   },
   {
    "duration": 7,
    "start_time": "2021-10-21T11:10:09.937Z"
   },
   {
    "duration": 5,
    "start_time": "2021-10-21T11:10:18.567Z"
   },
   {
    "duration": 19,
    "start_time": "2021-10-21T11:10:19.483Z"
   },
   {
    "duration": 4,
    "start_time": "2021-10-21T11:10:22.911Z"
   },
   {
    "duration": 18,
    "start_time": "2021-10-21T11:10:23.440Z"
   },
   {
    "duration": 4,
    "start_time": "2021-10-21T11:10:31.895Z"
   },
   {
    "duration": 88,
    "start_time": "2021-10-21T11:10:32.723Z"
   },
   {
    "duration": 4,
    "start_time": "2021-10-21T11:10:42.136Z"
   },
   {
    "duration": 19,
    "start_time": "2021-10-21T11:10:42.816Z"
   },
   {
    "duration": 3,
    "start_time": "2021-10-21T11:10:48.765Z"
   },
   {
    "duration": 17,
    "start_time": "2021-10-21T11:10:49.236Z"
   },
   {
    "duration": 6,
    "start_time": "2021-10-21T11:10:58.720Z"
   },
   {
    "duration": 8,
    "start_time": "2021-10-21T11:11:45.364Z"
   },
   {
    "duration": 7,
    "start_time": "2021-10-21T11:11:50.491Z"
   },
   {
    "duration": 8,
    "start_time": "2021-10-21T11:11:53.807Z"
   },
   {
    "duration": 7,
    "start_time": "2021-10-21T11:12:08.396Z"
   },
   {
    "duration": 11,
    "start_time": "2021-10-21T11:12:22.622Z"
   },
   {
    "duration": 11,
    "start_time": "2021-10-21T11:12:33.034Z"
   },
   {
    "duration": 12,
    "start_time": "2021-10-21T11:12:48.365Z"
   },
   {
    "duration": 473,
    "start_time": "2021-10-21T11:13:21.529Z"
   },
   {
    "duration": 15,
    "start_time": "2021-10-21T11:13:23.203Z"
   },
   {
    "duration": 467,
    "start_time": "2021-10-21T11:13:25.132Z"
   },
   {
    "duration": 4,
    "start_time": "2021-10-21T11:13:26.110Z"
   },
   {
    "duration": 15,
    "start_time": "2021-10-21T11:13:27.435Z"
   },
   {
    "duration": 453,
    "start_time": "2021-10-21T11:13:28.970Z"
   },
   {
    "duration": 3,
    "start_time": "2021-10-21T11:13:32.067Z"
   },
   {
    "duration": 15,
    "start_time": "2021-10-21T11:13:33.292Z"
   },
   {
    "duration": 3,
    "start_time": "2021-10-21T11:13:40.274Z"
   },
   {
    "duration": 448,
    "start_time": "2021-10-21T11:13:41.117Z"
   },
   {
    "duration": 13,
    "start_time": "2021-10-21T11:13:42.634Z"
   },
   {
    "duration": 3,
    "start_time": "2021-10-21T11:13:47.606Z"
   },
   {
    "duration": 463,
    "start_time": "2021-10-21T11:13:48.823Z"
   },
   {
    "duration": 19,
    "start_time": "2021-10-21T11:13:50.233Z"
   },
   {
    "duration": 3,
    "start_time": "2021-10-21T11:13:54.725Z"
   },
   {
    "duration": 440,
    "start_time": "2021-10-21T11:13:56.423Z"
   },
   {
    "duration": 91,
    "start_time": "2021-10-21T11:13:57.740Z"
   },
   {
    "duration": 3,
    "start_time": "2021-10-21T11:14:02.208Z"
   },
   {
    "duration": 440,
    "start_time": "2021-10-21T11:14:03.031Z"
   },
   {
    "duration": 13,
    "start_time": "2021-10-21T11:14:04.423Z"
   },
   {
    "duration": 451,
    "start_time": "2021-10-21T11:14:15.451Z"
   },
   {
    "duration": 2,
    "start_time": "2021-10-21T11:14:15.905Z"
   },
   {
    "duration": 14,
    "start_time": "2021-10-21T11:14:17.149Z"
   },
   {
    "duration": 6,
    "start_time": "2021-10-21T11:14:19.601Z"
   },
   {
    "duration": 250,
    "start_time": "2021-10-21T11:14:20.212Z"
   },
   {
    "duration": 14,
    "start_time": "2021-10-21T11:14:21.152Z"
   },
   {
    "duration": 11,
    "start_time": "2021-10-21T11:15:09.895Z"
   },
   {
    "duration": 16,
    "start_time": "2021-10-21T11:15:13.930Z"
   },
   {
    "duration": 11,
    "start_time": "2021-10-21T11:15:21.077Z"
   },
   {
    "duration": 13,
    "start_time": "2021-10-21T11:16:09.006Z"
   },
   {
    "duration": 14,
    "start_time": "2021-10-21T11:17:50.333Z"
   },
   {
    "duration": 16,
    "start_time": "2021-10-21T11:18:05.927Z"
   },
   {
    "duration": 4,
    "start_time": "2021-10-21T11:18:21.710Z"
   },
   {
    "duration": 16,
    "start_time": "2021-10-21T11:18:22.750Z"
   },
   {
    "duration": 444,
    "start_time": "2021-10-21T11:18:25.720Z"
   },
   {
    "duration": 4,
    "start_time": "2021-10-21T11:18:26.166Z"
   },
   {
    "duration": 14,
    "start_time": "2021-10-21T11:18:27.066Z"
   },
   {
    "duration": 4,
    "start_time": "2021-10-21T11:18:30.991Z"
   },
   {
    "duration": 672,
    "start_time": "2021-10-21T11:18:32.945Z"
   },
   {
    "duration": 14,
    "start_time": "2021-10-21T11:18:35.703Z"
   },
   {
    "duration": 4,
    "start_time": "2021-10-21T11:18:45.870Z"
   },
   {
    "duration": 93,
    "start_time": "2021-10-21T11:18:47.411Z"
   },
   {
    "duration": 12,
    "start_time": "2021-10-21T11:18:57.273Z"
   },
   {
    "duration": 11,
    "start_time": "2021-10-21T11:19:09.344Z"
   },
   {
    "duration": 21,
    "start_time": "2021-10-21T11:19:33.696Z"
   },
   {
    "duration": 7,
    "start_time": "2021-10-21T11:22:04.723Z"
   },
   {
    "duration": 12,
    "start_time": "2021-10-21T11:31:51.365Z"
   },
   {
    "duration": 14,
    "start_time": "2021-10-21T11:37:48.268Z"
   },
   {
    "duration": 8,
    "start_time": "2021-10-21T11:38:59.391Z"
   },
   {
    "duration": 21,
    "start_time": "2021-10-21T11:40:04.807Z"
   },
   {
    "duration": 21,
    "start_time": "2021-10-21T11:43:57.524Z"
   },
   {
    "duration": 17,
    "start_time": "2021-10-21T11:43:58.987Z"
   },
   {
    "duration": 12,
    "start_time": "2021-10-21T11:44:14.117Z"
   },
   {
    "duration": 18,
    "start_time": "2021-10-21T11:44:17.234Z"
   },
   {
    "duration": 257,
    "start_time": "2021-10-21T11:46:40.472Z"
   },
   {
    "duration": 19,
    "start_time": "2021-10-21T11:46:48.208Z"
   },
   {
    "duration": 21,
    "start_time": "2021-10-21T11:46:58.092Z"
   },
   {
    "duration": 5,
    "start_time": "2021-10-21T11:47:37.986Z"
   },
   {
    "duration": 13,
    "start_time": "2021-10-21T11:48:01.987Z"
   },
   {
    "duration": 19,
    "start_time": "2021-10-21T11:48:15.611Z"
   },
   {
    "duration": 18,
    "start_time": "2021-10-21T11:48:45.504Z"
   },
   {
    "duration": 18,
    "start_time": "2021-10-21T11:49:14.811Z"
   },
   {
    "duration": 17,
    "start_time": "2021-10-21T11:49:27.210Z"
   },
   {
    "duration": 237,
    "start_time": "2021-10-21T12:20:05.157Z"
   },
   {
    "duration": 292,
    "start_time": "2021-10-21T12:20:11.153Z"
   },
   {
    "duration": 233,
    "start_time": "2021-10-21T12:20:21.997Z"
   },
   {
    "duration": 239,
    "start_time": "2021-10-21T12:20:31.430Z"
   },
   {
    "duration": 19,
    "start_time": "2021-10-21T12:20:44.077Z"
   },
   {
    "duration": 327,
    "start_time": "2021-10-21T12:44:50.490Z"
   },
   {
    "duration": 20,
    "start_time": "2021-10-21T12:45:02.510Z"
   },
   {
    "duration": 24,
    "start_time": "2021-10-21T12:46:02.053Z"
   },
   {
    "duration": 96,
    "start_time": "2021-10-21T12:46:25.107Z"
   },
   {
    "duration": 243,
    "start_time": "2021-10-21T12:46:33.732Z"
   },
   {
    "duration": 93,
    "start_time": "2021-10-21T12:46:39.640Z"
   },
   {
    "duration": 237,
    "start_time": "2021-10-21T12:47:05.694Z"
   },
   {
    "duration": 245,
    "start_time": "2021-10-21T12:47:09.886Z"
   },
   {
    "duration": 305,
    "start_time": "2021-10-21T12:47:14.480Z"
   },
   {
    "duration": 241,
    "start_time": "2021-10-21T12:47:17.576Z"
   },
   {
    "duration": 362,
    "start_time": "2021-10-21T15:11:36.868Z"
   },
   {
    "duration": 10517,
    "start_time": "2021-10-21T15:11:40.041Z"
   },
   {
    "duration": 666,
    "start_time": "2021-10-21T15:11:50.561Z"
   },
   {
    "duration": 512,
    "start_time": "2021-10-21T15:11:51.230Z"
   },
   {
    "duration": 4,
    "start_time": "2021-10-21T15:11:51.744Z"
   },
   {
    "duration": 25,
    "start_time": "2021-10-21T15:11:51.751Z"
   },
   {
    "duration": 6,
    "start_time": "2021-10-21T15:11:51.783Z"
   },
   {
    "duration": 15,
    "start_time": "2021-10-21T15:11:51.791Z"
   },
   {
    "duration": 10,
    "start_time": "2021-10-21T15:11:51.810Z"
   },
   {
    "duration": 948,
    "start_time": "2021-10-21T15:11:52.609Z"
   },
   {
    "duration": 9,
    "start_time": "2021-10-21T15:11:56.407Z"
   },
   {
    "duration": 66,
    "start_time": "2021-10-21T15:11:58.156Z"
   },
   {
    "duration": 22,
    "start_time": "2021-10-21T15:13:33.240Z"
   },
   {
    "duration": 115,
    "start_time": "2021-10-21T15:13:55.838Z"
   },
   {
    "duration": 28,
    "start_time": "2021-10-21T15:14:01.936Z"
   },
   {
    "duration": 24,
    "start_time": "2021-10-21T15:14:12.590Z"
   },
   {
    "duration": 21,
    "start_time": "2021-10-21T15:14:18.163Z"
   },
   {
    "duration": 23,
    "start_time": "2021-10-21T15:14:55.857Z"
   },
   {
    "duration": 304,
    "start_time": "2021-10-21T15:15:55.481Z"
   },
   {
    "duration": 11,
    "start_time": "2021-10-21T15:17:47.124Z"
   },
   {
    "duration": 129,
    "start_time": "2021-10-21T15:28:52.740Z"
   },
   {
    "duration": 15,
    "start_time": "2021-10-21T15:29:47.738Z"
   },
   {
    "duration": 24,
    "start_time": "2021-10-21T15:31:33.670Z"
   },
   {
    "duration": 120,
    "start_time": "2021-10-21T15:31:41.033Z"
   },
   {
    "duration": 12,
    "start_time": "2021-10-21T15:31:54.843Z"
   },
   {
    "duration": 7,
    "start_time": "2021-10-21T15:35:26.562Z"
   },
   {
    "duration": 4,
    "start_time": "2021-10-21T15:38:27.910Z"
   },
   {
    "duration": 6,
    "start_time": "2021-10-21T15:42:33.397Z"
   },
   {
    "duration": 378,
    "start_time": "2021-10-21T15:43:58.893Z"
   },
   {
    "duration": 3,
    "start_time": "2021-10-21T15:44:10.510Z"
   },
   {
    "duration": 278,
    "start_time": "2021-10-21T15:44:10.700Z"
   },
   {
    "duration": 101,
    "start_time": "2021-10-21T15:44:15.191Z"
   },
   {
    "duration": 1737,
    "start_time": "2021-10-21T15:44:17.576Z"
   },
   {
    "duration": 86,
    "start_time": "2021-10-21T15:47:53.896Z"
   },
   {
    "duration": 33,
    "start_time": "2021-10-21T15:48:08.157Z"
   },
   {
    "duration": 303,
    "start_time": "2021-10-21T15:51:50.089Z"
   },
   {
    "duration": 33,
    "start_time": "2021-10-21T15:52:00.042Z"
   },
   {
    "duration": 3936,
    "start_time": "2021-10-21T16:11:02.695Z"
   },
   {
    "duration": 42,
    "start_time": "2021-10-21T16:12:49.921Z"
   },
   {
    "duration": 25,
    "start_time": "2021-10-21T16:23:40.413Z"
   },
   {
    "duration": 20,
    "start_time": "2021-10-21T16:23:59.795Z"
   },
   {
    "duration": 9,
    "start_time": "2021-10-21T16:24:04.154Z"
   },
   {
    "duration": 38,
    "start_time": "2021-10-21T16:24:33.988Z"
   },
   {
    "duration": 70,
    "start_time": "2021-10-21T16:24:41.101Z"
   },
   {
    "duration": 31,
    "start_time": "2021-10-21T16:30:05.067Z"
   },
   {
    "duration": 11,
    "start_time": "2021-10-21T16:38:50.042Z"
   },
   {
    "duration": 11,
    "start_time": "2021-10-21T16:38:53.443Z"
   },
   {
    "duration": 13,
    "start_time": "2021-10-21T16:44:31.917Z"
   },
   {
    "duration": 27,
    "start_time": "2021-10-21T16:47:38.815Z"
   },
   {
    "duration": 16,
    "start_time": "2021-10-21T17:20:31.714Z"
   },
   {
    "duration": 5,
    "start_time": "2021-10-21T17:33:50.476Z"
   },
   {
    "duration": 26,
    "start_time": "2021-10-21T17:33:52.583Z"
   },
   {
    "duration": 4,
    "start_time": "2021-10-21T17:36:05.042Z"
   },
   {
    "duration": 25,
    "start_time": "2021-10-21T17:36:05.690Z"
   },
   {
    "duration": 26,
    "start_time": "2021-10-21T18:02:42.088Z"
   },
   {
    "duration": 29,
    "start_time": "2021-10-21T18:05:06.459Z"
   },
   {
    "duration": 69,
    "start_time": "2021-10-21T18:06:31.648Z"
   },
   {
    "duration": 40,
    "start_time": "2021-10-21T18:06:35.743Z"
   },
   {
    "duration": 22,
    "start_time": "2021-10-21T18:06:44.558Z"
   },
   {
    "duration": 15,
    "start_time": "2021-10-21T18:15:09.690Z"
   },
   {
    "duration": 3753,
    "start_time": "2021-10-21T18:15:25.004Z"
   },
   {
    "duration": 4,
    "start_time": "2021-10-21T18:15:28.760Z"
   },
   {
    "duration": 488,
    "start_time": "2021-10-21T18:15:28.766Z"
   },
   {
    "duration": 13,
    "start_time": "2021-10-21T18:15:35.778Z"
   },
   {
    "duration": 10,
    "start_time": "2021-10-21T18:33:25.068Z"
   },
   {
    "duration": 11,
    "start_time": "2021-10-21T18:33:30.156Z"
   },
   {
    "duration": 299,
    "start_time": "2021-10-21T18:35:02.176Z"
   },
   {
    "duration": 268,
    "start_time": "2021-10-21T18:35:05.432Z"
   },
   {
    "duration": 263,
    "start_time": "2021-10-21T18:35:55.813Z"
   },
   {
    "duration": 12,
    "start_time": "2021-10-21T18:36:53.801Z"
   },
   {
    "duration": 182,
    "start_time": "2021-10-21T18:37:05.069Z"
   },
   {
    "duration": 12,
    "start_time": "2021-10-21T18:37:14.388Z"
   },
   {
    "duration": 11,
    "start_time": "2021-10-21T18:37:16.397Z"
   },
   {
    "duration": 5,
    "start_time": "2021-10-21T19:12:59.334Z"
   },
   {
    "duration": 14,
    "start_time": "2021-10-21T19:13:06.051Z"
   },
   {
    "duration": 5,
    "start_time": "2021-10-21T19:13:17.950Z"
   },
   {
    "duration": 5,
    "start_time": "2021-10-21T19:13:30.954Z"
   },
   {
    "duration": 12,
    "start_time": "2021-10-21T19:13:48.942Z"
   },
   {
    "duration": 28,
    "start_time": "2021-10-21T19:15:52.373Z"
   },
   {
    "duration": 5,
    "start_time": "2021-10-21T19:21:02.659Z"
   },
   {
    "duration": 28,
    "start_time": "2021-10-21T19:21:03.000Z"
   },
   {
    "duration": 5,
    "start_time": "2021-10-21T19:21:13.924Z"
   },
   {
    "duration": 4,
    "start_time": "2021-10-21T19:21:20.613Z"
   },
   {
    "duration": 30,
    "start_time": "2021-10-21T19:21:20.754Z"
   },
   {
    "duration": 37,
    "start_time": "2021-10-21T19:26:20.389Z"
   },
   {
    "duration": 23,
    "start_time": "2021-10-21T19:26:21.253Z"
   },
   {
    "duration": 318,
    "start_time": "2021-10-21T19:26:28.546Z"
   },
   {
    "duration": 35,
    "start_time": "2021-10-21T19:27:29.639Z"
   },
   {
    "duration": 86,
    "start_time": "2021-10-21T19:27:30.407Z"
   },
   {
    "duration": 5,
    "start_time": "2021-10-21T20:36:41.364Z"
   },
   {
    "duration": 5,
    "start_time": "2021-10-21T20:38:16.491Z"
   },
   {
    "duration": 5,
    "start_time": "2021-10-21T20:38:31.258Z"
   },
   {
    "duration": 6,
    "start_time": "2021-10-21T20:38:36.821Z"
   },
   {
    "duration": 6,
    "start_time": "2021-10-21T20:38:40.775Z"
   },
   {
    "duration": 5,
    "start_time": "2021-10-21T20:38:45.509Z"
   },
   {
    "duration": 6,
    "start_time": "2021-10-21T20:38:51.219Z"
   },
   {
    "duration": 6,
    "start_time": "2021-10-21T20:38:55.507Z"
   },
   {
    "duration": 3680,
    "start_time": "2021-10-21T20:39:42.991Z"
   },
   {
    "duration": 473,
    "start_time": "2021-10-21T20:39:49.987Z"
   },
   {
    "duration": 4,
    "start_time": "2021-10-21T20:39:50.575Z"
   },
   {
    "duration": 16,
    "start_time": "2021-10-21T20:39:51.617Z"
   },
   {
    "duration": 6,
    "start_time": "2021-10-21T20:39:52.178Z"
   },
   {
    "duration": 14,
    "start_time": "2021-10-21T20:39:52.217Z"
   },
   {
    "duration": 10,
    "start_time": "2021-10-21T20:39:52.319Z"
   },
   {
    "duration": 17,
    "start_time": "2021-10-21T20:39:52.389Z"
   },
   {
    "duration": 9,
    "start_time": "2021-10-21T20:39:52.486Z"
   },
   {
    "duration": 24,
    "start_time": "2021-10-21T20:39:52.562Z"
   },
   {
    "duration": 26,
    "start_time": "2021-10-21T20:39:52.603Z"
   },
   {
    "duration": 12,
    "start_time": "2021-10-21T20:39:54.056Z"
   },
   {
    "duration": 83,
    "start_time": "2021-10-21T20:39:54.507Z"
   },
   {
    "duration": 5,
    "start_time": "2021-10-21T20:39:54.754Z"
   },
   {
    "duration": 34,
    "start_time": "2021-10-21T20:39:55.034Z"
   },
   {
    "duration": 38,
    "start_time": "2021-10-21T20:39:55.795Z"
   },
   {
    "duration": 35,
    "start_time": "2021-10-21T20:39:56.351Z"
   },
   {
    "duration": 64,
    "start_time": "2021-10-21T20:39:57.430Z"
   },
   {
    "duration": 28,
    "start_time": "2021-10-21T20:39:58.188Z"
   },
   {
    "duration": 11,
    "start_time": "2021-10-21T20:39:59.366Z"
   },
   {
    "duration": 5,
    "start_time": "2021-10-21T20:40:00.083Z"
   },
   {
    "duration": 23,
    "start_time": "2021-10-21T20:40:00.591Z"
   },
   {
    "duration": 27,
    "start_time": "2021-10-21T20:40:02.728Z"
   },
   {
    "duration": 27,
    "start_time": "2021-10-21T20:40:03.194Z"
   },
   {
    "duration": 40,
    "start_time": "2021-10-21T20:40:04.044Z"
   },
   {
    "duration": 12,
    "start_time": "2021-10-21T20:40:07.550Z"
   },
   {
    "duration": 101,
    "start_time": "2021-10-21T20:40:08.692Z"
   },
   {
    "duration": 11,
    "start_time": "2021-10-21T20:40:10.547Z"
   },
   {
    "duration": 5,
    "start_time": "2021-10-21T20:40:10.805Z"
   },
   {
    "duration": 29,
    "start_time": "2021-10-21T20:40:11.014Z"
   },
   {
    "duration": 38,
    "start_time": "2021-10-21T20:40:11.978Z"
   },
   {
    "duration": 33,
    "start_time": "2021-10-21T20:40:18.791Z"
   },
   {
    "duration": 65,
    "start_time": "2021-10-21T20:40:31.042Z"
   },
   {
    "duration": 13,
    "start_time": "2021-10-21T20:40:52.773Z"
   },
   {
    "duration": 5,
    "start_time": "2021-10-21T20:45:27.397Z"
   },
   {
    "duration": 22,
    "start_time": "2021-10-21T20:53:16.449Z"
   },
   {
    "duration": 13,
    "start_time": "2021-10-21T20:54:35.715Z"
   },
   {
    "duration": 4187,
    "start_time": "2021-10-21T20:54:37.921Z"
   },
   {
    "duration": 486,
    "start_time": "2021-10-21T20:54:41.625Z"
   },
   {
    "duration": 483,
    "start_time": "2021-10-21T20:54:41.629Z"
   },
   {
    "duration": 482,
    "start_time": "2021-10-21T20:54:41.632Z"
   },
   {
    "duration": 306,
    "start_time": "2021-10-21T20:54:48.659Z"
   },
   {
    "duration": 5,
    "start_time": "2021-10-21T20:54:50.313Z"
   },
   {
    "duration": 13,
    "start_time": "2021-10-21T20:54:59.287Z"
   },
   {
    "duration": 448,
    "start_time": "2021-10-21T20:55:15.317Z"
   },
   {
    "duration": 5,
    "start_time": "2021-10-21T20:55:15.878Z"
   },
   {
    "duration": 18,
    "start_time": "2021-10-21T20:55:16.010Z"
   },
   {
    "duration": 6,
    "start_time": "2021-10-21T20:55:16.100Z"
   },
   {
    "duration": 14,
    "start_time": "2021-10-21T20:55:16.143Z"
   },
   {
    "duration": 10,
    "start_time": "2021-10-21T20:55:16.248Z"
   },
   {
    "duration": 17,
    "start_time": "2021-10-21T20:55:16.321Z"
   },
   {
    "duration": 8,
    "start_time": "2021-10-21T20:55:16.424Z"
   },
   {
    "duration": 23,
    "start_time": "2021-10-21T20:55:16.501Z"
   },
   {
    "duration": 23,
    "start_time": "2021-10-21T20:55:16.552Z"
   },
   {
    "duration": 11,
    "start_time": "2021-10-21T20:55:21.946Z"
   },
   {
    "duration": 84,
    "start_time": "2021-10-21T20:55:23.404Z"
   },
   {
    "duration": 5,
    "start_time": "2021-10-21T20:55:23.619Z"
   },
   {
    "duration": 31,
    "start_time": "2021-10-21T20:55:23.823Z"
   },
   {
    "duration": 37,
    "start_time": "2021-10-21T20:55:25.360Z"
   },
   {
    "duration": 37,
    "start_time": "2021-10-21T20:55:25.715Z"
   },
   {
    "duration": 63,
    "start_time": "2021-10-21T20:55:26.047Z"
   },
   {
    "duration": 28,
    "start_time": "2021-10-21T20:55:26.410Z"
   },
   {
    "duration": 11,
    "start_time": "2021-10-21T20:55:28.217Z"
   },
   {
    "duration": 5,
    "start_time": "2021-10-21T20:55:29.692Z"
   },
   {
    "duration": 24,
    "start_time": "2021-10-21T20:55:29.939Z"
   },
   {
    "duration": 27,
    "start_time": "2021-10-21T20:55:31.432Z"
   },
   {
    "duration": 29,
    "start_time": "2021-10-21T20:55:33.044Z"
   },
   {
    "duration": 37,
    "start_time": "2021-10-21T20:55:34.250Z"
   },
   {
    "duration": 12,
    "start_time": "2021-10-21T20:55:37.311Z"
   },
   {
    "duration": 105,
    "start_time": "2021-10-21T20:55:40.909Z"
   },
   {
    "duration": 11,
    "start_time": "2021-10-21T20:55:51.682Z"
   },
   {
    "duration": 15,
    "start_time": "2021-10-21T20:55:53.820Z"
   },
   {
    "duration": 5,
    "start_time": "2021-10-21T20:56:02.508Z"
   },
   {
    "duration": 11,
    "start_time": "2021-10-21T20:56:04.100Z"
   },
   {
    "duration": 28,
    "start_time": "2021-10-21T20:57:31.672Z"
   },
   {
    "duration": 22,
    "start_time": "2021-10-21T20:57:32.434Z"
   },
   {
    "duration": 11,
    "start_time": "2021-10-21T20:57:42.637Z"
   },
   {
    "duration": 11,
    "start_time": "2021-10-21T20:59:51.887Z"
   },
   {
    "duration": 25,
    "start_time": "2021-10-21T20:59:53.446Z"
   },
   {
    "duration": 13,
    "start_time": "2021-10-21T20:59:57.514Z"
   },
   {
    "duration": 23,
    "start_time": "2021-10-21T21:00:06.638Z"
   },
   {
    "duration": 31,
    "start_time": "2021-10-21T21:00:25.239Z"
   },
   {
    "duration": 48,
    "start_time": "2021-10-21T21:00:26.154Z"
   },
   {
    "duration": 7,
    "start_time": "2021-10-21T21:02:53.137Z"
   },
   {
    "duration": 24,
    "start_time": "2021-10-21T21:03:07.546Z"
   },
   {
    "duration": 24,
    "start_time": "2021-10-21T21:03:25.143Z"
   },
   {
    "duration": 23,
    "start_time": "2021-10-21T21:07:07.192Z"
   },
   {
    "duration": 17,
    "start_time": "2021-10-21T21:07:51.872Z"
   },
   {
    "duration": 33,
    "start_time": "2021-10-21T21:10:12.745Z"
   },
   {
    "duration": 25,
    "start_time": "2021-10-21T21:10:37.538Z"
   },
   {
    "duration": 24,
    "start_time": "2021-10-21T21:11:26.564Z"
   },
   {
    "duration": 22,
    "start_time": "2021-10-21T21:11:30.939Z"
   },
   {
    "duration": 17,
    "start_time": "2021-10-21T21:13:18.696Z"
   },
   {
    "duration": 11,
    "start_time": "2021-10-21T21:13:25.586Z"
   },
   {
    "duration": 400,
    "start_time": "2021-10-21T21:16:26.965Z"
   },
   {
    "duration": 116,
    "start_time": "2021-10-21T21:16:31.539Z"
   },
   {
    "duration": 19,
    "start_time": "2021-10-21T21:16:36.991Z"
   },
   {
    "duration": 318,
    "start_time": "2021-10-21T21:24:39.830Z"
   },
   {
    "duration": 20,
    "start_time": "2021-10-21T21:24:54.579Z"
   },
   {
    "duration": 23,
    "start_time": "2021-10-21T21:24:58.364Z"
   },
   {
    "duration": 24,
    "start_time": "2021-10-21T21:27:05.943Z"
   },
   {
    "duration": 30,
    "start_time": "2021-10-21T21:27:06.638Z"
   },
   {
    "duration": 312,
    "start_time": "2021-10-21T21:28:00.819Z"
   },
   {
    "duration": 24,
    "start_time": "2021-10-21T21:28:14.331Z"
   },
   {
    "duration": 24,
    "start_time": "2021-10-21T21:29:43.146Z"
   },
   {
    "duration": 93,
    "start_time": "2021-10-21T21:41:00.892Z"
   },
   {
    "duration": 50,
    "start_time": "2021-10-21T21:51:07.367Z"
   },
   {
    "duration": 672,
    "start_time": "2021-10-21T21:51:15.299Z"
   },
   {
    "duration": 49,
    "start_time": "2021-10-21T21:51:25.789Z"
   },
   {
    "duration": 670,
    "start_time": "2021-10-21T21:51:34.857Z"
   },
   {
    "duration": 21,
    "start_time": "2021-10-21T21:53:14.827Z"
   },
   {
    "duration": 660,
    "start_time": "2021-10-21T21:53:26.165Z"
   },
   {
    "duration": 2761,
    "start_time": "2021-10-21T21:53:40.700Z"
   },
   {
    "duration": 12,
    "start_time": "2021-10-21T21:54:54.751Z"
   },
   {
    "duration": 12,
    "start_time": "2021-10-21T21:55:01.651Z"
   },
   {
    "duration": 13,
    "start_time": "2021-10-21T21:55:20.467Z"
   },
   {
    "duration": 127,
    "start_time": "2021-10-21T21:57:38.464Z"
   },
   {
    "duration": 3542,
    "start_time": "2021-10-21T22:10:03.347Z"
   },
   {
    "duration": 103,
    "start_time": "2021-10-21T22:31:13.925Z"
   },
   {
    "duration": 109,
    "start_time": "2021-10-21T22:31:34.355Z"
   },
   {
    "duration": 96,
    "start_time": "2021-10-21T22:31:37.396Z"
   },
   {
    "duration": 6,
    "start_time": "2021-10-21T22:31:44.424Z"
   },
   {
    "duration": 13,
    "start_time": "2021-10-21T22:31:46.270Z"
   },
   {
    "duration": 117,
    "start_time": "2021-10-21T22:33:02.682Z"
   },
   {
    "duration": 6,
    "start_time": "2021-10-21T22:33:20.908Z"
   },
   {
    "duration": 11,
    "start_time": "2021-10-21T22:33:24.065Z"
   },
   {
    "duration": 14,
    "start_time": "2021-10-21T22:34:10.021Z"
   },
   {
    "duration": 3070,
    "start_time": "2021-10-21T22:35:54.989Z"
   },
   {
    "duration": 3342,
    "start_time": "2021-10-21T22:36:02.657Z"
   },
   {
    "duration": 4,
    "start_time": "2021-10-21T22:36:06.002Z"
   },
   {
    "duration": 520,
    "start_time": "2021-10-21T22:36:06.009Z"
   },
   {
    "duration": 4,
    "start_time": "2021-10-21T22:36:06.532Z"
   },
   {
    "duration": 25,
    "start_time": "2021-10-21T22:36:06.538Z"
   },
   {
    "duration": 6,
    "start_time": "2021-10-21T22:36:06.859Z"
   },
   {
    "duration": 16,
    "start_time": "2021-10-21T22:36:07.218Z"
   },
   {
    "duration": 11,
    "start_time": "2021-10-21T22:36:09.611Z"
   },
   {
    "duration": 19,
    "start_time": "2021-10-21T22:36:10.284Z"
   },
   {
    "duration": 11,
    "start_time": "2021-10-21T22:36:11.137Z"
   },
   {
    "duration": 23,
    "start_time": "2021-10-21T22:36:11.402Z"
   },
   {
    "duration": 22,
    "start_time": "2021-10-21T22:36:11.574Z"
   },
   {
    "duration": 12,
    "start_time": "2021-10-21T22:36:12.650Z"
   },
   {
    "duration": 88,
    "start_time": "2021-10-21T22:36:13.276Z"
   },
   {
    "duration": 5,
    "start_time": "2021-10-21T22:36:13.453Z"
   },
   {
    "duration": 32,
    "start_time": "2021-10-21T22:36:14.177Z"
   },
   {
    "duration": 43,
    "start_time": "2021-10-21T22:36:15.018Z"
   },
   {
    "duration": 38,
    "start_time": "2021-10-21T22:36:15.494Z"
   },
   {
    "duration": 69,
    "start_time": "2021-10-21T22:36:16.854Z"
   },
   {
    "duration": 30,
    "start_time": "2021-10-21T22:36:17.210Z"
   },
   {
    "duration": 23,
    "start_time": "2021-10-21T22:36:18.328Z"
   },
   {
    "duration": 25,
    "start_time": "2021-10-21T22:36:18.520Z"
   },
   {
    "duration": 11,
    "start_time": "2021-10-21T22:36:19.950Z"
   },
   {
    "duration": 5,
    "start_time": "2021-10-21T22:36:20.791Z"
   },
   {
    "duration": 25,
    "start_time": "2021-10-21T22:36:21.329Z"
   },
   {
    "duration": 26,
    "start_time": "2021-10-21T22:36:23.003Z"
   },
   {
    "duration": 28,
    "start_time": "2021-10-21T22:36:23.827Z"
   },
   {
    "duration": 39,
    "start_time": "2021-10-21T22:36:24.452Z"
   },
   {
    "duration": 673,
    "start_time": "2021-10-21T22:36:25.489Z"
   },
   {
    "duration": 11,
    "start_time": "2021-10-21T22:36:26.445Z"
   },
   {
    "duration": 8,
    "start_time": "2021-10-21T22:36:27.562Z"
   },
   {
    "duration": 281,
    "start_time": "2021-10-21T22:36:27.741Z"
   },
   {
    "duration": 528,
    "start_time": "2021-10-21T22:36:27.497Z"
   },
   {
    "duration": 19,
    "start_time": "2021-10-21T22:36:28.095Z"
   },
   {
    "duration": 32,
    "start_time": "2021-10-21T22:36:29.064Z"
   },
   {
    "duration": 29,
    "start_time": "2021-10-21T22:36:30.211Z"
   },
   {
    "duration": 49,
    "start_time": "2021-10-21T22:36:30.947Z"
   },
   {
    "duration": 12891,
    "start_time": "2021-10-21T22:36:32.136Z"
   },
   {
    "duration": 3970,
    "start_time": "2021-10-21T22:36:51.701Z"
   },
   {
    "duration": 255,
    "start_time": "2021-10-21T22:38:51.379Z"
   },
   {
    "duration": 281,
    "start_time": "2021-10-21T22:39:26.766Z"
   },
   {
    "duration": 11,
    "start_time": "2021-10-21T22:40:17.251Z"
   },
   {
    "duration": 461,
    "start_time": "2021-10-21T22:40:28.425Z"
   },
   {
    "duration": 4,
    "start_time": "2021-10-21T22:40:29.113Z"
   },
   {
    "duration": 19,
    "start_time": "2021-10-21T22:40:29.278Z"
   },
   {
    "duration": 6,
    "start_time": "2021-10-21T22:40:29.387Z"
   },
   {
    "duration": 14,
    "start_time": "2021-10-21T22:40:29.429Z"
   },
   {
    "duration": 10,
    "start_time": "2021-10-21T22:40:29.538Z"
   },
   {
    "duration": 17,
    "start_time": "2021-10-21T22:40:29.607Z"
   },
   {
    "duration": 9,
    "start_time": "2021-10-21T22:40:29.709Z"
   },
   {
    "duration": 24,
    "start_time": "2021-10-21T22:40:29.781Z"
   },
   {
    "duration": 21,
    "start_time": "2021-10-21T22:40:29.848Z"
   },
   {
    "duration": 11,
    "start_time": "2021-10-21T22:40:30.018Z"
   },
   {
    "duration": 91,
    "start_time": "2021-10-21T22:40:30.437Z"
   },
   {
    "duration": 5,
    "start_time": "2021-10-21T22:40:31.087Z"
   },
   {
    "duration": 31,
    "start_time": "2021-10-21T22:40:31.278Z"
   },
   {
    "duration": 39,
    "start_time": "2021-10-21T22:40:31.826Z"
   },
   {
    "duration": 55,
    "start_time": "2021-10-21T22:40:32.781Z"
   },
   {
    "duration": 71,
    "start_time": "2021-10-21T22:40:33.146Z"
   },
   {
    "duration": 30,
    "start_time": "2021-10-21T22:40:33.445Z"
   },
   {
    "duration": 22,
    "start_time": "2021-10-21T22:40:33.711Z"
   },
   {
    "duration": 24,
    "start_time": "2021-10-21T22:40:33.975Z"
   },
   {
    "duration": 11,
    "start_time": "2021-10-21T22:40:35.111Z"
   },
   {
    "duration": 5,
    "start_time": "2021-10-21T22:40:35.211Z"
   },
   {
    "duration": 24,
    "start_time": "2021-10-21T22:40:35.252Z"
   },
   {
    "duration": 28,
    "start_time": "2021-10-21T22:40:35.770Z"
   },
   {
    "duration": 46,
    "start_time": "2021-10-21T22:40:36.071Z"
   },
   {
    "duration": 42,
    "start_time": "2021-10-21T22:40:36.323Z"
   },
   {
    "duration": 688,
    "start_time": "2021-10-21T22:40:36.626Z"
   },
   {
    "duration": 12,
    "start_time": "2021-10-21T22:40:37.558Z"
   },
   {
    "duration": 12,
    "start_time": "2021-10-21T22:41:49.310Z"
   },
   {
    "duration": 12,
    "start_time": "2021-10-21T22:41:51.735Z"
   },
   {
    "duration": 12,
    "start_time": "2021-10-21T22:43:00.896Z"
   },
   {
    "duration": 12,
    "start_time": "2021-10-21T22:43:48.503Z"
   },
   {
    "duration": 9,
    "start_time": "2021-10-21T22:43:54.227Z"
   },
   {
    "duration": 11,
    "start_time": "2021-10-21T22:43:58.342Z"
   },
   {
    "duration": 12,
    "start_time": "2021-10-21T22:44:01.234Z"
   },
   {
    "duration": 30,
    "start_time": "2021-10-21T22:44:02.668Z"
   },
   {
    "duration": 29,
    "start_time": "2021-10-21T22:44:02.830Z"
   },
   {
    "duration": 34,
    "start_time": "2021-10-21T22:44:03.336Z"
   },
   {
    "duration": 33,
    "start_time": "2021-10-21T22:44:04.198Z"
   },
   {
    "duration": 64,
    "start_time": "2021-10-21T22:44:04.639Z"
   },
   {
    "duration": 18,
    "start_time": "2021-10-21T22:44:05.252Z"
   },
   {
    "duration": 25,
    "start_time": "2021-10-21T22:44:08.781Z"
   },
   {
    "duration": 7,
    "start_time": "2021-10-21T22:47:26.752Z"
   },
   {
    "duration": 7,
    "start_time": "2021-10-21T22:47:57.988Z"
   },
   {
    "duration": 14,
    "start_time": "2021-10-21T22:47:58.183Z"
   },
   {
    "duration": 105,
    "start_time": "2021-10-21T22:50:31.352Z"
   },
   {
    "duration": 5,
    "start_time": "2021-10-21T22:50:39.647Z"
   },
   {
    "duration": 24,
    "start_time": "2021-10-21T22:50:44.475Z"
   },
   {
    "duration": 377,
    "start_time": "2021-10-22T06:43:20.051Z"
   },
   {
    "duration": 282,
    "start_time": "2021-10-22T06:43:20.577Z"
   },
   {
    "duration": 10827,
    "start_time": "2021-10-22T06:43:23.936Z"
   },
   {
    "duration": 626,
    "start_time": "2021-10-22T06:43:34.766Z"
   },
   {
    "duration": 505,
    "start_time": "2021-10-22T06:43:35.396Z"
   },
   {
    "duration": 4,
    "start_time": "2021-10-22T06:43:35.904Z"
   },
   {
    "duration": 35,
    "start_time": "2021-10-22T06:43:35.911Z"
   },
   {
    "duration": 6,
    "start_time": "2021-10-22T06:43:35.948Z"
   },
   {
    "duration": 16,
    "start_time": "2021-10-22T06:43:35.957Z"
   },
   {
    "duration": 12,
    "start_time": "2021-10-22T06:43:35.976Z"
   },
   {
    "duration": 903,
    "start_time": "2021-10-22T06:43:35.991Z"
   },
   {
    "duration": 26,
    "start_time": "2021-10-22T06:43:36.897Z"
   },
   {
    "duration": 70,
    "start_time": "2021-10-22T06:43:36.925Z"
   },
   {
    "duration": 40,
    "start_time": "2021-10-22T06:43:36.998Z"
   },
   {
    "duration": 11,
    "start_time": "2021-10-22T06:43:37.040Z"
   },
   {
    "duration": 128,
    "start_time": "2021-10-22T06:43:37.054Z"
   },
   {
    "duration": 4,
    "start_time": "2021-10-22T06:43:37.184Z"
   },
   {
    "duration": 50,
    "start_time": "2021-10-22T06:43:37.190Z"
   },
   {
    "duration": 3632,
    "start_time": "2021-10-22T06:43:37.243Z"
   },
   {
    "duration": -551,
    "start_time": "2021-10-22T06:43:41.431Z"
   },
   {
    "duration": -553,
    "start_time": "2021-10-22T06:43:41.435Z"
   },
   {
    "duration": -556,
    "start_time": "2021-10-22T06:43:41.440Z"
   },
   {
    "duration": -557,
    "start_time": "2021-10-22T06:43:41.443Z"
   },
   {
    "duration": -559,
    "start_time": "2021-10-22T06:43:41.447Z"
   },
   {
    "duration": -561,
    "start_time": "2021-10-22T06:43:41.451Z"
   },
   {
    "duration": -564,
    "start_time": "2021-10-22T06:43:41.456Z"
   },
   {
    "duration": -565,
    "start_time": "2021-10-22T06:43:41.459Z"
   },
   {
    "duration": 32,
    "start_time": "2021-10-22T06:43:40.996Z"
   },
   {
    "duration": 27,
    "start_time": "2021-10-22T06:43:41.556Z"
   },
   {
    "duration": 42,
    "start_time": "2021-10-22T06:43:42.075Z"
   },
   {
    "duration": 436,
    "start_time": "2021-10-22T06:43:42.620Z"
   },
   {
    "duration": 13,
    "start_time": "2021-10-22T06:43:43.525Z"
   },
   {
    "duration": 23924,
    "start_time": "2021-10-22T06:45:35.410Z"
   },
   {
    "duration": 27,
    "start_time": "2021-10-22T06:46:04.801Z"
   },
   {
    "duration": 3132,
    "start_time": "2021-10-22T06:46:53.834Z"
   },
   {
    "duration": 4,
    "start_time": "2021-10-22T06:46:56.970Z"
   },
   {
    "duration": 594,
    "start_time": "2021-10-22T06:46:56.978Z"
   },
   {
    "duration": 4,
    "start_time": "2021-10-22T06:46:57.575Z"
   },
   {
    "duration": 26,
    "start_time": "2021-10-22T06:46:57.581Z"
   },
   {
    "duration": 17,
    "start_time": "2021-10-22T06:46:57.609Z"
   },
   {
    "duration": 25,
    "start_time": "2021-10-22T06:46:57.628Z"
   },
   {
    "duration": 21,
    "start_time": "2021-10-22T06:46:57.656Z"
   },
   {
    "duration": 27,
    "start_time": "2021-10-22T06:46:57.680Z"
   },
   {
    "duration": 13,
    "start_time": "2021-10-22T06:46:57.710Z"
   },
   {
    "duration": 21,
    "start_time": "2021-10-22T06:46:57.726Z"
   },
   {
    "duration": 23,
    "start_time": "2021-10-22T06:46:57.750Z"
   },
   {
    "duration": 12,
    "start_time": "2021-10-22T06:46:57.825Z"
   },
   {
    "duration": 90,
    "start_time": "2021-10-22T06:46:57.897Z"
   },
   {
    "duration": 8652,
    "start_time": "2021-10-22T06:46:57.989Z"
   },
   {
    "duration": -663,
    "start_time": "2021-10-22T06:47:07.307Z"
   },
   {
    "duration": -665,
    "start_time": "2021-10-22T06:47:07.313Z"
   },
   {
    "duration": -669,
    "start_time": "2021-10-22T06:47:07.319Z"
   },
   {
    "duration": 5,
    "start_time": "2021-10-22T06:47:09.574Z"
   },
   {
    "duration": 34,
    "start_time": "2021-10-22T06:47:09.833Z"
   },
   {
    "duration": 47,
    "start_time": "2021-10-22T06:47:10.949Z"
   },
   {
    "duration": 38,
    "start_time": "2021-10-22T06:47:11.956Z"
   },
   {
    "duration": 68,
    "start_time": "2021-10-22T06:47:13.064Z"
   },
   {
    "duration": 31,
    "start_time": "2021-10-22T06:47:13.833Z"
   },
   {
    "duration": 3247,
    "start_time": "2021-10-22T06:47:15.868Z"
   },
   {
    "duration": -575,
    "start_time": "2021-10-22T06:47:19.692Z"
   },
   {
    "duration": 24,
    "start_time": "2021-10-22T06:47:29.888Z"
   },
   {
    "duration": 27,
    "start_time": "2021-10-22T06:47:32.287Z"
   },
   {
    "duration": 462,
    "start_time": "2021-10-22T06:47:56.580Z"
   },
   {
    "duration": 6,
    "start_time": "2021-10-22T07:25:40.077Z"
   },
   {
    "duration": 300,
    "start_time": "2021-10-22T07:25:59.786Z"
   },
   {
    "duration": 300,
    "start_time": "2021-10-22T07:26:05.507Z"
   },
   {
    "duration": 10,
    "start_time": "2021-10-22T07:26:25.183Z"
   },
   {
    "duration": 9,
    "start_time": "2021-10-22T07:26:34.224Z"
   },
   {
    "duration": 273,
    "start_time": "2021-10-22T07:29:24.398Z"
   },
   {
    "duration": 279,
    "start_time": "2021-10-22T07:29:32.984Z"
   },
   {
    "duration": 33,
    "start_time": "2021-10-22T07:29:36.596Z"
   },
   {
    "duration": 107,
    "start_time": "2021-10-22T07:29:52.496Z"
   },
   {
    "duration": 213,
    "start_time": "2021-10-22T07:33:33.804Z"
   },
   {
    "duration": 239,
    "start_time": "2021-10-22T07:33:42.633Z"
   },
   {
    "duration": 213,
    "start_time": "2021-10-22T07:33:47.679Z"
   },
   {
    "duration": 346,
    "start_time": "2021-10-22T07:34:03.741Z"
   },
   {
    "duration": 206,
    "start_time": "2021-10-22T07:34:11.821Z"
   },
   {
    "duration": 475,
    "start_time": "2021-10-22T07:35:45.618Z"
   },
   {
    "duration": 213,
    "start_time": "2021-10-22T07:36:34.657Z"
   },
   {
    "duration": 271,
    "start_time": "2021-10-22T07:37:17.344Z"
   },
   {
    "duration": 3203,
    "start_time": "2021-10-22T07:37:33.345Z"
   },
   {
    "duration": 3,
    "start_time": "2021-10-22T07:38:01.297Z"
   },
   {
    "duration": 514,
    "start_time": "2021-10-22T07:38:02.019Z"
   },
   {
    "duration": 4,
    "start_time": "2021-10-22T07:38:02.535Z"
   },
   {
    "duration": 16,
    "start_time": "2021-10-22T07:38:03.815Z"
   },
   {
    "duration": 7,
    "start_time": "2021-10-22T07:38:04.179Z"
   },
   {
    "duration": 15,
    "start_time": "2021-10-22T07:38:04.366Z"
   },
   {
    "duration": 10,
    "start_time": "2021-10-22T07:38:04.949Z"
   },
   {
    "duration": 18,
    "start_time": "2021-10-22T07:38:05.340Z"
   },
   {
    "duration": 10,
    "start_time": "2021-10-22T07:38:06.161Z"
   },
   {
    "duration": 24,
    "start_time": "2021-10-22T07:38:06.773Z"
   },
   {
    "duration": 25,
    "start_time": "2021-10-22T07:38:07.045Z"
   },
   {
    "duration": 17,
    "start_time": "2021-10-22T07:39:41.710Z"
   },
   {
    "duration": 7,
    "start_time": "2021-10-22T07:39:42.173Z"
   },
   {
    "duration": 14,
    "start_time": "2021-10-22T07:39:42.813Z"
   },
   {
    "duration": 9,
    "start_time": "2021-10-22T07:39:45.036Z"
   },
   {
    "duration": 21,
    "start_time": "2021-10-22T07:39:50.066Z"
   },
   {
    "duration": 11,
    "start_time": "2021-10-22T07:39:53.383Z"
   },
   {
    "duration": 18,
    "start_time": "2021-10-22T07:39:54.218Z"
   },
   {
    "duration": 10,
    "start_time": "2021-10-22T07:39:56.920Z"
   },
   {
    "duration": 4177,
    "start_time": "2021-10-22T07:39:57.950Z"
   },
   {
    "duration": 274,
    "start_time": "2021-10-22T07:40:11.994Z"
   },
   {
    "duration": 87,
    "start_time": "2021-10-22T07:40:20.123Z"
   },
   {
    "duration": 9,
    "start_time": "2021-10-22T07:40:22.948Z"
   },
   {
    "duration": 287,
    "start_time": "2021-10-22T07:40:33.350Z"
   },
   {
    "duration": 14,
    "start_time": "2021-10-22T07:40:48.574Z"
   },
   {
    "duration": 278,
    "start_time": "2021-10-22T07:41:02.183Z"
   },
   {
    "duration": 275,
    "start_time": "2021-10-22T07:45:29.896Z"
   },
   {
    "duration": 42,
    "start_time": "2021-10-22T07:45:51.931Z"
   },
   {
    "duration": 35,
    "start_time": "2021-10-22T07:46:02.364Z"
   },
   {
    "duration": 3364,
    "start_time": "2021-10-22T07:46:09.422Z"
   },
   {
    "duration": -536,
    "start_time": "2021-10-22T07:46:13.325Z"
   },
   {
    "duration": 3485,
    "start_time": "2021-10-22T07:47:39.057Z"
   },
   {
    "duration": 3141,
    "start_time": "2021-10-22T07:47:54.809Z"
   },
   {
    "duration": 5,
    "start_time": "2021-10-22T07:49:24.534Z"
   },
   {
    "duration": 3093,
    "start_time": "2021-10-22T07:49:32.547Z"
   },
   {
    "duration": 4,
    "start_time": "2021-10-22T07:49:35.643Z"
   },
   {
    "duration": 519,
    "start_time": "2021-10-22T07:49:35.650Z"
   },
   {
    "duration": 4,
    "start_time": "2021-10-22T07:49:36.172Z"
   },
   {
    "duration": 25,
    "start_time": "2021-10-22T07:49:36.178Z"
   },
   {
    "duration": 17,
    "start_time": "2021-10-22T07:49:36.206Z"
   },
   {
    "duration": 19,
    "start_time": "2021-10-22T07:49:36.225Z"
   },
   {
    "duration": 10,
    "start_time": "2021-10-22T07:49:36.248Z"
   },
   {
    "duration": 17,
    "start_time": "2021-10-22T07:49:36.416Z"
   },
   {
    "duration": 9,
    "start_time": "2021-10-22T07:49:37.050Z"
   },
   {
    "duration": 9,
    "start_time": "2021-10-22T07:49:37.499Z"
   },
   {
    "duration": 39,
    "start_time": "2021-10-22T07:49:37.874Z"
   },
   {
    "duration": 23,
    "start_time": "2021-10-22T07:49:38.150Z"
   },
   {
    "duration": 12,
    "start_time": "2021-10-22T07:49:39.433Z"
   },
   {
    "duration": 91,
    "start_time": "2021-10-22T07:49:40.137Z"
   },
   {
    "duration": 5,
    "start_time": "2021-10-22T07:49:40.406Z"
   },
   {
    "duration": 40,
    "start_time": "2021-10-22T07:49:40.948Z"
   },
   {
    "duration": 40,
    "start_time": "2021-10-22T07:49:42.117Z"
   },
   {
    "duration": 24,
    "start_time": "2021-10-22T07:49:46.503Z"
   },
   {
    "duration": 41,
    "start_time": "2021-10-22T07:49:48.826Z"
   },
   {
    "duration": 74,
    "start_time": "2021-10-22T07:49:49.210Z"
   },
   {
    "duration": 31,
    "start_time": "2021-10-22T07:49:50.152Z"
   },
   {
    "duration": 9,
    "start_time": "2021-10-22T07:49:51.126Z"
   },
   {
    "duration": 217,
    "start_time": "2021-10-22T07:49:55.409Z"
   },
   {
    "duration": 3139,
    "start_time": "2021-10-22T07:51:28.879Z"
   },
   {
    "duration": 10,
    "start_time": "2021-10-22T07:51:32.701Z"
   },
   {
    "duration": 5,
    "start_time": "2021-10-22T07:51:33.028Z"
   },
   {
    "duration": 24,
    "start_time": "2021-10-22T07:51:33.202Z"
   },
   {
    "duration": 26,
    "start_time": "2021-10-22T07:51:33.774Z"
   },
   {
    "duration": 30,
    "start_time": "2021-10-22T07:51:35.817Z"
   },
   {
    "duration": 40,
    "start_time": "2021-10-22T07:51:36.571Z"
   },
   {
    "duration": 5044,
    "start_time": "2021-10-22T07:51:37.123Z"
   },
   {
    "duration": -544,
    "start_time": "2021-10-22T07:51:42.714Z"
   },
   {
    "duration": 20,
    "start_time": "2021-10-22T07:51:53.454Z"
   },
   {
    "duration": 131,
    "start_time": "2021-10-22T07:52:03.704Z"
   },
   {
    "duration": 693,
    "start_time": "2021-10-22T07:52:18.882Z"
   },
   {
    "duration": 2817,
    "start_time": "2021-10-22T07:52:35.886Z"
   },
   {
    "duration": 88,
    "start_time": "2021-10-22T07:52:49.039Z"
   },
   {
    "duration": 25,
    "start_time": "2021-10-22T07:52:52.604Z"
   },
   {
    "duration": 27,
    "start_time": "2021-10-22T07:53:07.179Z"
   },
   {
    "duration": 26,
    "start_time": "2021-10-22T07:53:23.897Z"
   },
   {
    "duration": 27,
    "start_time": "2021-10-22T07:53:29.118Z"
   },
   {
    "duration": 27,
    "start_time": "2021-10-22T07:53:52.119Z"
   },
   {
    "duration": 11,
    "start_time": "2021-10-22T07:59:59.666Z"
   },
   {
    "duration": 7,
    "start_time": "2021-10-22T08:00:01.142Z"
   },
   {
    "duration": 13,
    "start_time": "2021-10-22T08:00:07.578Z"
   },
   {
    "duration": 21931,
    "start_time": "2021-10-22T09:05:23.040Z"
   },
   {
    "duration": 13,
    "start_time": "2021-10-22T09:08:04.097Z"
   },
   {
    "duration": 6,
    "start_time": "2021-10-22T09:08:13.658Z"
   },
   {
    "duration": 15,
    "start_time": "2021-10-22T09:08:44.902Z"
   },
   {
    "duration": 56,
    "start_time": "2021-10-22T09:09:19.126Z"
   },
   {
    "duration": 52,
    "start_time": "2021-10-22T09:10:02.386Z"
   },
   {
    "duration": 205,
    "start_time": "2021-10-22T09:10:15.213Z"
   },
   {
    "duration": 173,
    "start_time": "2021-10-22T09:12:04.398Z"
   },
   {
    "duration": 94,
    "start_time": "2021-10-22T09:30:39.239Z"
   },
   {
    "duration": 86,
    "start_time": "2021-10-22T09:30:44.224Z"
   },
   {
    "duration": 268,
    "start_time": "2021-10-22T09:30:46.412Z"
   },
   {
    "duration": 278,
    "start_time": "2021-10-22T09:31:55.410Z"
   },
   {
    "duration": 284,
    "start_time": "2021-10-22T09:32:05.148Z"
   },
   {
    "duration": 275,
    "start_time": "2021-10-22T09:32:07.577Z"
   },
   {
    "duration": 722,
    "start_time": "2021-10-22T09:33:18.329Z"
   },
   {
    "duration": -487,
    "start_time": "2021-10-22T09:34:17.140Z"
   },
   {
    "duration": 270,
    "start_time": "2021-10-22T09:34:18.190Z"
   },
   {
    "duration": 273,
    "start_time": "2021-10-22T09:34:31.716Z"
   },
   {
    "duration": 270,
    "start_time": "2021-10-22T09:34:38.190Z"
   },
   {
    "duration": 78894,
    "start_time": "2021-10-22T09:34:42.153Z"
   },
   {
    "duration": 386,
    "start_time": "2021-10-22T09:37:31.323Z"
   },
   {
    "duration": 574,
    "start_time": "2021-10-22T09:37:54.024Z"
   },
   {
    "duration": 1873,
    "start_time": "2021-10-22T09:38:04.626Z"
   },
   {
    "duration": 401,
    "start_time": "2021-10-22T09:38:40.024Z"
   },
   {
    "duration": 11123,
    "start_time": "2021-10-22T09:40:31.799Z"
   },
   {
    "duration": 76,
    "start_time": "2021-10-22T09:54:52.274Z"
   },
   {
    "duration": 286,
    "start_time": "2021-10-22T09:54:58.790Z"
   },
   {
    "duration": 310,
    "start_time": "2021-10-22T10:38:29.338Z"
   },
   {
    "duration": 128,
    "start_time": "2021-10-22T10:40:12.252Z"
   },
   {
    "duration": 92,
    "start_time": "2021-10-22T10:43:07.186Z"
   },
   {
    "duration": 308,
    "start_time": "2021-10-22T10:52:48.477Z"
   },
   {
    "duration": 288,
    "start_time": "2021-10-22T10:53:04.533Z"
   },
   {
    "duration": 2335,
    "start_time": "2021-10-22T10:53:15.607Z"
   },
   {
    "duration": 2114,
    "start_time": "2021-10-22T10:53:24.384Z"
   },
   {
    "duration": 304,
    "start_time": "2021-10-22T10:56:53.483Z"
   },
   {
    "duration": 301,
    "start_time": "2021-10-22T10:57:30.150Z"
   },
   {
    "duration": 333,
    "start_time": "2021-10-22T10:57:39.211Z"
   },
   {
    "duration": 48,
    "start_time": "2021-10-22T10:58:26.730Z"
   },
   {
    "duration": 49,
    "start_time": "2021-10-22T10:59:35.303Z"
   },
   {
    "duration": 267,
    "start_time": "2021-10-22T10:59:45.224Z"
   },
   {
    "duration": 287,
    "start_time": "2021-10-22T11:17:00.532Z"
   },
   {
    "duration": 95,
    "start_time": "2021-10-22T11:17:13.590Z"
   },
   {
    "duration": 297,
    "start_time": "2021-10-22T11:17:17.572Z"
   },
   {
    "duration": 103,
    "start_time": "2021-10-22T11:17:20.479Z"
   },
   {
    "duration": 334,
    "start_time": "2021-10-22T11:17:24.043Z"
   },
   {
    "duration": 12,
    "start_time": "2021-10-22T11:17:31.812Z"
   },
   {
    "duration": 110,
    "start_time": "2021-10-22T11:20:04.189Z"
   },
   {
    "duration": 327,
    "start_time": "2021-10-22T11:20:16.923Z"
   },
   {
    "duration": 284,
    "start_time": "2021-10-22T11:21:19.604Z"
   },
   {
    "duration": 364,
    "start_time": "2021-10-22T11:22:20.289Z"
   },
   {
    "duration": 13,
    "start_time": "2021-10-22T11:23:18.267Z"
   },
   {
    "duration": 7570,
    "start_time": "2021-10-22T11:23:18.703Z"
   },
   {
    "duration": 272,
    "start_time": "2021-10-22T11:34:00.962Z"
   },
   {
    "duration": 1190,
    "start_time": "2021-10-22T11:34:19.207Z"
   },
   {
    "duration": 1916,
    "start_time": "2021-10-22T11:38:44.203Z"
   },
   {
    "duration": 90,
    "start_time": "2021-10-22T11:38:53.133Z"
   },
   {
    "duration": 2589,
    "start_time": "2021-10-22T11:38:56.978Z"
   },
   {
    "duration": 2754,
    "start_time": "2021-10-22T11:39:09.004Z"
   },
   {
    "duration": 1631,
    "start_time": "2021-10-22T11:39:43.769Z"
   },
   {
    "duration": 1953,
    "start_time": "2021-10-22T11:39:47.612Z"
   },
   {
    "duration": 1728,
    "start_time": "2021-10-22T11:40:02.249Z"
   },
   {
    "duration": 95,
    "start_time": "2021-10-22T11:42:44.100Z"
   },
   {
    "duration": 2217,
    "start_time": "2021-10-22T11:43:03.181Z"
   },
   {
    "duration": 2083,
    "start_time": "2021-10-22T11:44:48.539Z"
   },
   {
    "duration": 99,
    "start_time": "2021-10-22T11:45:19.036Z"
   },
   {
    "duration": 2107,
    "start_time": "2021-10-22T11:45:37.568Z"
   },
   {
    "duration": 5268,
    "start_time": "2021-10-22T11:46:08.882Z"
   },
   {
    "duration": 2222,
    "start_time": "2021-10-22T11:48:03.593Z"
   },
   {
    "duration": 2155,
    "start_time": "2021-10-22T11:48:15.860Z"
   },
   {
    "duration": 2046,
    "start_time": "2021-10-22T11:48:21.436Z"
   },
   {
    "duration": 2102,
    "start_time": "2021-10-22T11:54:35.749Z"
   },
   {
    "duration": 1860,
    "start_time": "2021-10-22T11:55:30.613Z"
   },
   {
    "duration": 11,
    "start_time": "2021-10-22T11:55:39.762Z"
   },
   {
    "duration": 295,
    "start_time": "2021-10-22T12:00:11.924Z"
   },
   {
    "duration": 2120,
    "start_time": "2021-10-22T12:00:57.535Z"
   },
   {
    "duration": 2029,
    "start_time": "2021-10-22T12:01:03.802Z"
   },
   {
    "duration": 1136,
    "start_time": "2021-10-22T12:02:08.468Z"
   },
   {
    "duration": 314,
    "start_time": "2021-10-22T12:04:40.961Z"
   },
   {
    "duration": 1126,
    "start_time": "2021-10-22T12:04:44.371Z"
   },
   {
    "duration": 903,
    "start_time": "2021-10-22T12:04:49.238Z"
   },
   {
    "duration": 1007,
    "start_time": "2021-10-22T12:05:15.996Z"
   },
   {
    "duration": 1127,
    "start_time": "2021-10-22T12:05:28.370Z"
   },
   {
    "duration": 9748,
    "start_time": "2021-10-22T12:05:53.394Z"
   },
   {
    "duration": 11,
    "start_time": "2021-10-22T12:06:06.162Z"
   },
   {
    "duration": 344,
    "start_time": "2021-10-22T12:07:14.811Z"
   },
   {
    "duration": 259,
    "start_time": "2021-10-22T12:08:13.359Z"
   },
   {
    "duration": 392,
    "start_time": "2021-10-22T12:08:38.003Z"
   },
   {
    "duration": 35,
    "start_time": "2021-10-22T12:08:49.615Z"
   },
   {
    "duration": 891,
    "start_time": "2021-10-22T12:08:58.418Z"
   },
   {
    "duration": 905,
    "start_time": "2021-10-22T12:09:02.617Z"
   },
   {
    "duration": 1222,
    "start_time": "2021-10-22T12:09:13.352Z"
   },
   {
    "duration": 924,
    "start_time": "2021-10-22T12:11:13.572Z"
   },
   {
    "duration": 922,
    "start_time": "2021-10-22T12:13:06.526Z"
   },
   {
    "duration": 798,
    "start_time": "2021-10-22T12:16:08.308Z"
   },
   {
    "duration": 573,
    "start_time": "2021-10-22T12:16:17.187Z"
   },
   {
    "duration": 833,
    "start_time": "2021-10-22T12:16:25.554Z"
   },
   {
    "duration": 878,
    "start_time": "2021-10-22T12:16:31.668Z"
   },
   {
    "duration": 841,
    "start_time": "2021-10-22T12:16:35.460Z"
   },
   {
    "duration": 542,
    "start_time": "2021-10-22T12:16:51.483Z"
   },
   {
    "duration": 563,
    "start_time": "2021-10-22T12:17:45.776Z"
   },
   {
    "duration": 834,
    "start_time": "2021-10-22T12:23:22.233Z"
   },
   {
    "duration": 808,
    "start_time": "2021-10-22T12:23:41.748Z"
   },
   {
    "duration": 24,
    "start_time": "2021-10-22T12:25:49.818Z"
   },
   {
    "duration": 25,
    "start_time": "2021-10-22T12:30:43.320Z"
   },
   {
    "duration": 812,
    "start_time": "2021-10-22T12:36:36.610Z"
   },
   {
    "duration": 331,
    "start_time": "2021-10-22T12:36:53.973Z"
   },
   {
    "duration": 961,
    "start_time": "2021-10-22T12:37:32.777Z"
   },
   {
    "duration": 251,
    "start_time": "2021-10-22T12:48:18.343Z"
   },
   {
    "duration": 257,
    "start_time": "2021-10-22T12:48:22.348Z"
   },
   {
    "duration": 11,
    "start_time": "2021-10-22T12:48:35.866Z"
   },
   {
    "duration": 265,
    "start_time": "2021-10-22T12:49:37.431Z"
   },
   {
    "duration": 309,
    "start_time": "2021-10-22T12:49:48.493Z"
   },
   {
    "duration": 266,
    "start_time": "2021-10-22T12:49:55.543Z"
   },
   {
    "duration": 259,
    "start_time": "2021-10-22T12:50:27.511Z"
   },
   {
    "duration": 286,
    "start_time": "2021-10-22T12:52:16.719Z"
   },
   {
    "duration": 1106,
    "start_time": "2021-10-22T12:52:29.875Z"
   },
   {
    "duration": 1460,
    "start_time": "2021-10-22T12:52:38.274Z"
   },
   {
    "duration": 1335,
    "start_time": "2021-10-22T12:53:34.222Z"
   },
   {
    "duration": 1115,
    "start_time": "2021-10-22T12:54:12.191Z"
   },
   {
    "duration": 1314,
    "start_time": "2021-10-22T12:54:18.385Z"
   },
   {
    "duration": 1246,
    "start_time": "2021-10-22T12:54:35.914Z"
   },
   {
    "duration": 11,
    "start_time": "2021-10-22T12:54:52.855Z"
   },
   {
    "duration": 1332,
    "start_time": "2021-10-22T12:55:14.263Z"
   },
   {
    "duration": 86,
    "start_time": "2021-10-22T12:58:51.486Z"
   },
   {
    "duration": 1392,
    "start_time": "2021-10-22T13:00:58.057Z"
   },
   {
    "duration": 1347,
    "start_time": "2021-10-22T13:01:43.955Z"
   },
   {
    "duration": 1651,
    "start_time": "2021-10-22T13:01:51.720Z"
   },
   {
    "duration": 1861,
    "start_time": "2021-10-22T13:02:04.508Z"
   },
   {
    "duration": 11,
    "start_time": "2021-10-22T13:02:08.242Z"
   },
   {
    "duration": 1260,
    "start_time": "2021-10-22T13:02:31.535Z"
   },
   {
    "duration": 14,
    "start_time": "2021-10-22T13:02:32.798Z"
   },
   {
    "duration": 9272,
    "start_time": "2021-10-22T13:03:42.248Z"
   },
   {
    "duration": 12,
    "start_time": "2021-10-22T13:03:55.736Z"
   },
   {
    "duration": 25,
    "start_time": "2021-10-22T13:04:29.781Z"
   },
   {
    "duration": 1130,
    "start_time": "2021-10-22T13:04:34.909Z"
   },
   {
    "duration": 10,
    "start_time": "2021-10-22T13:04:36.468Z"
   },
   {
    "duration": 11,
    "start_time": "2021-10-22T13:04:42.181Z"
   },
   {
    "duration": 1093,
    "start_time": "2021-10-22T13:04:43.643Z"
   },
   {
    "duration": 11,
    "start_time": "2021-10-22T13:07:22.945Z"
   },
   {
    "duration": 256,
    "start_time": "2021-10-22T13:07:53.511Z"
   },
   {
    "duration": 85,
    "start_time": "2021-10-22T13:07:56.051Z"
   },
   {
    "duration": 252,
    "start_time": "2021-10-22T13:07:58.134Z"
   },
   {
    "duration": 11,
    "start_time": "2021-10-22T13:08:06.169Z"
   },
   {
    "duration": 10,
    "start_time": "2021-10-22T13:08:20.959Z"
   },
   {
    "duration": 23,
    "start_time": "2021-10-22T13:08:21.415Z"
   },
   {
    "duration": 266,
    "start_time": "2021-10-22T13:08:31.053Z"
   },
   {
    "duration": 265,
    "start_time": "2021-10-22T13:08:45.940Z"
   },
   {
    "duration": 423,
    "start_time": "2021-10-22T13:08:57.093Z"
   },
   {
    "duration": 10,
    "start_time": "2021-10-22T13:09:11.348Z"
   },
   {
    "duration": 22,
    "start_time": "2021-10-22T13:09:12.979Z"
   },
   {
    "duration": 1455,
    "start_time": "2021-10-22T13:09:16.517Z"
   },
   {
    "duration": 265,
    "start_time": "2021-10-22T13:09:30.991Z"
   },
   {
    "duration": 11,
    "start_time": "2021-10-22T13:18:08.269Z"
   },
   {
    "duration": 263,
    "start_time": "2021-10-22T13:18:41.611Z"
   },
   {
    "duration": 11,
    "start_time": "2021-10-22T13:18:57.347Z"
   },
   {
    "duration": 124,
    "start_time": "2021-10-22T13:59:21.321Z"
   },
   {
    "duration": 14,
    "start_time": "2021-10-22T13:59:24.813Z"
   },
   {
    "duration": 17,
    "start_time": "2021-10-22T14:00:08.970Z"
   },
   {
    "duration": 16,
    "start_time": "2021-10-22T14:00:17.901Z"
   },
   {
    "duration": 38,
    "start_time": "2021-10-22T14:00:20.875Z"
   },
   {
    "duration": 270,
    "start_time": "2021-10-22T14:01:10.161Z"
   },
   {
    "duration": 267,
    "start_time": "2021-10-22T14:01:16.888Z"
   },
   {
    "duration": 11,
    "start_time": "2021-10-22T14:02:08.472Z"
   },
   {
    "duration": 32,
    "start_time": "2021-10-22T14:02:16.206Z"
   },
   {
    "duration": 11,
    "start_time": "2021-10-22T14:02:45.155Z"
   },
   {
    "duration": 41,
    "start_time": "2021-10-22T14:03:21.714Z"
   },
   {
    "duration": 10,
    "start_time": "2021-10-22T14:03:33.251Z"
   },
   {
    "duration": 11,
    "start_time": "2021-10-22T14:03:43.383Z"
   },
   {
    "duration": 10,
    "start_time": "2021-10-22T14:03:51.699Z"
   },
   {
    "duration": 48,
    "start_time": "2021-10-22T14:04:41.219Z"
   },
   {
    "duration": 61,
    "start_time": "2021-10-22T14:05:05.020Z"
   },
   {
    "duration": 20,
    "start_time": "2021-10-22T14:09:16.181Z"
   },
   {
    "duration": 54,
    "start_time": "2021-10-22T14:09:21.761Z"
   },
   {
    "duration": 10,
    "start_time": "2021-10-22T14:11:05.138Z"
   },
   {
    "duration": 16,
    "start_time": "2021-10-22T14:11:25.538Z"
   },
   {
    "duration": 12,
    "start_time": "2021-10-22T14:11:26.022Z"
   },
   {
    "duration": 16,
    "start_time": "2021-10-22T14:11:37.312Z"
   },
   {
    "duration": 8,
    "start_time": "2021-10-22T14:11:38.459Z"
   },
   {
    "duration": 29,
    "start_time": "2021-10-22T14:11:50.954Z"
   },
   {
    "duration": 13,
    "start_time": "2021-10-22T14:11:51.417Z"
   },
   {
    "duration": 270,
    "start_time": "2021-10-22T14:11:58.331Z"
   },
   {
    "duration": 5,
    "start_time": "2021-10-22T14:12:00.962Z"
   },
   {
    "duration": 25,
    "start_time": "2021-10-22T14:12:13.641Z"
   },
   {
    "duration": 5,
    "start_time": "2021-10-22T14:12:13.994Z"
   },
   {
    "duration": 16,
    "start_time": "2021-10-22T14:12:18.696Z"
   },
   {
    "duration": 5,
    "start_time": "2021-10-22T14:12:20.080Z"
   },
   {
    "duration": 27,
    "start_time": "2021-10-22T14:12:24.713Z"
   },
   {
    "duration": 5,
    "start_time": "2021-10-22T14:12:25.566Z"
   },
   {
    "duration": 24,
    "start_time": "2021-10-22T14:12:41.745Z"
   },
   {
    "duration": 5,
    "start_time": "2021-10-22T14:12:42.526Z"
   },
   {
    "duration": 21,
    "start_time": "2021-10-22T14:12:51.420Z"
   },
   {
    "duration": 5,
    "start_time": "2021-10-22T14:12:51.757Z"
   },
   {
    "duration": 33,
    "start_time": "2021-10-22T14:12:59.828Z"
   },
   {
    "duration": 5,
    "start_time": "2021-10-22T14:13:00.613Z"
   },
   {
    "duration": 20,
    "start_time": "2021-10-22T14:13:05.194Z"
   },
   {
    "duration": 6,
    "start_time": "2021-10-22T14:13:05.579Z"
   },
   {
    "duration": 22,
    "start_time": "2021-10-22T14:14:21.113Z"
   },
   {
    "duration": 6,
    "start_time": "2021-10-22T14:14:22.204Z"
   },
   {
    "duration": 11,
    "start_time": "2021-10-22T14:14:39.929Z"
   },
   {
    "duration": 11,
    "start_time": "2021-10-22T14:14:54.056Z"
   },
   {
    "duration": 14,
    "start_time": "2021-10-22T14:16:11.460Z"
   },
   {
    "duration": 12,
    "start_time": "2021-10-22T14:16:19.477Z"
   },
   {
    "duration": 9,
    "start_time": "2021-10-22T14:16:27.872Z"
   },
   {
    "duration": 3257,
    "start_time": "2021-10-22T14:16:51.055Z"
   },
   {
    "duration": 3263,
    "start_time": "2021-10-22T14:17:04.370Z"
   },
   {
    "duration": 9,
    "start_time": "2021-10-22T14:17:11.210Z"
   },
   {
    "duration": 13,
    "start_time": "2021-10-22T14:17:15.401Z"
   },
   {
    "duration": 9,
    "start_time": "2021-10-22T14:17:19.740Z"
   },
   {
    "duration": 55,
    "start_time": "2021-10-22T14:19:22.078Z"
   },
   {
    "duration": 3,
    "start_time": "2021-10-22T14:19:59.341Z"
   },
   {
    "duration": 12,
    "start_time": "2021-10-22T14:20:06.595Z"
   },
   {
    "duration": 15,
    "start_time": "2021-10-22T14:20:15.802Z"
   },
   {
    "duration": 3277,
    "start_time": "2021-10-22T14:21:19.906Z"
   },
   {
    "duration": 13,
    "start_time": "2021-10-22T14:21:33.671Z"
   },
   {
    "duration": 95,
    "start_time": "2021-10-22T14:22:22.241Z"
   },
   {
    "duration": 11,
    "start_time": "2021-10-22T14:22:29.262Z"
   },
   {
    "duration": 19,
    "start_time": "2021-10-22T14:23:01.276Z"
   },
   {
    "duration": 123,
    "start_time": "2021-10-22T14:23:17.078Z"
   },
   {
    "duration": 16,
    "start_time": "2021-10-22T14:23:26.127Z"
   },
   {
    "duration": 12,
    "start_time": "2021-10-22T14:24:15.962Z"
   },
   {
    "duration": 16,
    "start_time": "2021-10-22T14:24:33.998Z"
   },
   {
    "duration": 21,
    "start_time": "2021-10-22T14:26:16.680Z"
   },
   {
    "duration": 68,
    "start_time": "2021-10-22T14:26:17.628Z"
   },
   {
    "duration": 17,
    "start_time": "2021-10-22T14:29:02.695Z"
   },
   {
    "duration": 306,
    "start_time": "2021-10-22T14:31:56.890Z"
   },
   {
    "duration": 29,
    "start_time": "2021-10-22T14:32:30.943Z"
   },
   {
    "duration": 20,
    "start_time": "2021-10-22T14:32:42.160Z"
   },
   {
    "duration": 21,
    "start_time": "2021-10-22T14:32:53.952Z"
   },
   {
    "duration": 11,
    "start_time": "2021-10-22T14:32:54.225Z"
   },
   {
    "duration": 27,
    "start_time": "2021-10-22T14:33:53.855Z"
   },
   {
    "duration": 19,
    "start_time": "2021-10-22T14:33:54.286Z"
   },
   {
    "duration": 321,
    "start_time": "2021-10-22T14:34:18.942Z"
   },
   {
    "duration": 19,
    "start_time": "2021-10-22T14:34:19.517Z"
   },
   {
    "duration": 22,
    "start_time": "2021-10-22T14:34:35.884Z"
   },
   {
    "duration": 11,
    "start_time": "2021-10-22T14:34:36.404Z"
   },
   {
    "duration": 24,
    "start_time": "2021-10-22T14:37:07.147Z"
   },
   {
    "duration": 12,
    "start_time": "2021-10-22T14:37:08.582Z"
   },
   {
    "duration": 24,
    "start_time": "2021-10-22T14:37:24.041Z"
   },
   {
    "duration": 9,
    "start_time": "2021-10-22T14:37:24.999Z"
   },
   {
    "duration": 22,
    "start_time": "2021-10-22T14:37:29.579Z"
   },
   {
    "duration": 25,
    "start_time": "2021-10-22T14:37:41.771Z"
   },
   {
    "duration": 13,
    "start_time": "2021-10-22T14:37:43.247Z"
   },
   {
    "duration": 22,
    "start_time": "2021-10-22T14:37:57.611Z"
   },
   {
    "duration": 11,
    "start_time": "2021-10-22T14:37:57.972Z"
   },
   {
    "duration": 17,
    "start_time": "2021-10-22T14:38:01.887Z"
   },
   {
    "duration": 85,
    "start_time": "2021-10-22T14:39:17.243Z"
   },
   {
    "duration": 29,
    "start_time": "2021-10-22T14:39:21.432Z"
   },
   {
    "duration": 67,
    "start_time": "2021-10-22T14:39:22.054Z"
   },
   {
    "duration": 38,
    "start_time": "2021-10-22T14:44:33.149Z"
   },
   {
    "duration": 18,
    "start_time": "2021-10-22T14:44:34.926Z"
   },
   {
    "duration": 300,
    "start_time": "2021-10-22T14:45:42.510Z"
   },
   {
    "duration": 406,
    "start_time": "2021-10-22T14:45:51.953Z"
   },
   {
    "duration": 293,
    "start_time": "2021-10-22T14:45:55.528Z"
   },
   {
    "duration": 296,
    "start_time": "2021-10-22T14:49:43.257Z"
   },
   {
    "duration": 277,
    "start_time": "2021-10-22T14:49:48.218Z"
   },
   {
    "duration": 303,
    "start_time": "2021-10-22T14:49:59.371Z"
   },
   {
    "duration": 30,
    "start_time": "2021-10-22T14:50:36.275Z"
   },
   {
    "duration": 19,
    "start_time": "2021-10-22T14:50:37.784Z"
   },
   {
    "duration": 293,
    "start_time": "2021-10-22T14:50:49.477Z"
   },
   {
    "duration": 42,
    "start_time": "2021-10-22T14:54:53.805Z"
   },
   {
    "duration": 14,
    "start_time": "2021-10-22T14:54:55.049Z"
   },
   {
    "duration": 29,
    "start_time": "2021-10-22T14:55:03.819Z"
   },
   {
    "duration": 27,
    "start_time": "2021-10-22T14:55:07.328Z"
   },
   {
    "duration": 15,
    "start_time": "2021-10-22T14:55:07.763Z"
   },
   {
    "duration": 34,
    "start_time": "2021-10-22T14:57:13.060Z"
   },
   {
    "duration": 12,
    "start_time": "2021-10-22T14:57:13.391Z"
   },
   {
    "duration": 12,
    "start_time": "2021-10-22T14:58:41.596Z"
   },
   {
    "duration": 627,
    "start_time": "2021-10-22T15:04:44.163Z"
   },
   {
    "duration": 502,
    "start_time": "2021-10-22T15:04:46.640Z"
   },
   {
    "duration": 296,
    "start_time": "2021-10-22T15:06:01.939Z"
   },
   {
    "duration": 296,
    "start_time": "2021-10-22T15:06:13.815Z"
   },
   {
    "duration": 20,
    "start_time": "2021-10-22T15:06:28.804Z"
   },
   {
    "duration": 12,
    "start_time": "2021-10-22T15:06:31.875Z"
   },
   {
    "duration": 13,
    "start_time": "2021-10-22T15:06:32.605Z"
   },
   {
    "duration": 20,
    "start_time": "2021-10-22T15:06:51.938Z"
   },
   {
    "duration": 12,
    "start_time": "2021-10-22T15:06:52.403Z"
   },
   {
    "duration": 12,
    "start_time": "2021-10-22T15:06:53.002Z"
   },
   {
    "duration": 20,
    "start_time": "2021-10-22T15:08:15.998Z"
   },
   {
    "duration": 12,
    "start_time": "2021-10-22T15:08:16.241Z"
   },
   {
    "duration": 12,
    "start_time": "2021-10-22T15:08:16.582Z"
   },
   {
    "duration": 13,
    "start_time": "2021-10-22T15:09:33.718Z"
   },
   {
    "duration": 21,
    "start_time": "2021-10-22T15:09:38.830Z"
   },
   {
    "duration": 13,
    "start_time": "2021-10-22T15:09:42.095Z"
   },
   {
    "duration": 277,
    "start_time": "2021-10-22T15:10:06.427Z"
   },
   {
    "duration": 21,
    "start_time": "2021-10-22T15:10:10.239Z"
   },
   {
    "duration": 20,
    "start_time": "2021-10-22T15:10:12.972Z"
   },
   {
    "duration": 22,
    "start_time": "2021-10-22T15:10:41.153Z"
   },
   {
    "duration": 13,
    "start_time": "2021-10-22T15:10:43.926Z"
   },
   {
    "duration": 12,
    "start_time": "2021-10-22T15:10:44.650Z"
   },
   {
    "duration": 37,
    "start_time": "2021-10-22T15:10:49.820Z"
   },
   {
    "duration": 17,
    "start_time": "2021-10-22T15:10:50.836Z"
   },
   {
    "duration": 12,
    "start_time": "2021-10-22T15:11:00.502Z"
   },
   {
    "duration": 131,
    "start_time": "2021-10-22T15:14:41.773Z"
   },
   {
    "duration": 284,
    "start_time": "2021-10-22T15:15:03.472Z"
   },
   {
    "duration": 261,
    "start_time": "2021-10-22T15:16:09.264Z"
   },
   {
    "duration": 7,
    "start_time": "2021-10-22T15:16:28.735Z"
   },
   {
    "duration": 267,
    "start_time": "2021-10-22T15:16:35.648Z"
   },
   {
    "duration": 112,
    "start_time": "2021-10-22T15:18:48.480Z"
   },
   {
    "duration": 297,
    "start_time": "2021-10-22T15:20:13.525Z"
   },
   {
    "duration": 111,
    "start_time": "2021-10-22T15:20:23.775Z"
   },
   {
    "duration": 13,
    "start_time": "2021-10-22T15:20:33.250Z"
   },
   {
    "duration": 258,
    "start_time": "2021-10-22T15:20:42.410Z"
   },
   {
    "duration": 194,
    "start_time": "2021-10-22T15:20:47.507Z"
   },
   {
    "duration": 284,
    "start_time": "2021-10-22T15:25:05.275Z"
   },
   {
    "duration": 10,
    "start_time": "2021-10-22T15:29:06.255Z"
   },
   {
    "duration": 11,
    "start_time": "2021-10-22T15:29:43.637Z"
   },
   {
    "duration": 3006,
    "start_time": "2021-10-22T15:29:54.584Z"
   },
   {
    "duration": 292,
    "start_time": "2021-10-22T15:31:41.109Z"
   },
   {
    "duration": 425,
    "start_time": "2021-10-22T15:32:14.967Z"
   },
   {
    "duration": 336,
    "start_time": "2021-10-22T15:32:22.387Z"
   },
   {
    "duration": 10,
    "start_time": "2021-10-22T15:32:42.898Z"
   },
   {
    "duration": 10,
    "start_time": "2021-10-22T15:32:48.059Z"
   },
   {
    "duration": 10,
    "start_time": "2021-10-22T15:32:54.532Z"
   },
   {
    "duration": 1359,
    "start_time": "2021-10-22T15:33:09.393Z"
   },
   {
    "duration": 11,
    "start_time": "2021-10-22T15:33:10.755Z"
   },
   {
    "duration": 107,
    "start_time": "2021-10-22T15:33:14.738Z"
   },
   {
    "duration": 13,
    "start_time": "2021-10-22T15:33:15.601Z"
   },
   {
    "duration": 858,
    "start_time": "2021-10-22T15:33:16.939Z"
   },
   {
    "duration": 274,
    "start_time": "2021-10-22T15:33:22.037Z"
   },
   {
    "duration": 282,
    "start_time": "2021-10-22T15:33:25.210Z"
   },
   {
    "duration": 118,
    "start_time": "2021-10-22T15:34:17.094Z"
   },
   {
    "duration": 382,
    "start_time": "2021-10-22T15:34:23.214Z"
   },
   {
    "duration": 269,
    "start_time": "2021-10-22T15:35:56.448Z"
   },
   {
    "duration": 14,
    "start_time": "2021-10-22T15:36:08.125Z"
   },
   {
    "duration": 384,
    "start_time": "2021-10-22T15:38:23.179Z"
   },
   {
    "duration": 17,
    "start_time": "2021-10-22T15:40:38.094Z"
   },
   {
    "duration": 336,
    "start_time": "2021-10-22T15:41:20.352Z"
   },
   {
    "duration": 312,
    "start_time": "2021-10-22T15:42:00.656Z"
   },
   {
    "duration": 119,
    "start_time": "2021-10-22T15:42:47.726Z"
   },
   {
    "duration": 553,
    "start_time": "2021-10-22T15:42:58.708Z"
   },
   {
    "duration": 4188,
    "start_time": "2021-10-22T15:43:23.112Z"
   },
   {
    "duration": 658,
    "start_time": "2021-10-22T15:43:47.476Z"
   },
   {
    "duration": 1257,
    "start_time": "2021-10-22T15:44:42.197Z"
   },
   {
    "duration": 30,
    "start_time": "2021-10-22T15:46:05.785Z"
   },
   {
    "duration": 1206,
    "start_time": "2021-10-22T15:46:32.235Z"
   },
   {
    "duration": 54,
    "start_time": "2021-10-22T15:49:59.274Z"
   },
   {
    "duration": 839,
    "start_time": "2021-10-22T15:50:04.622Z"
   },
   {
    "duration": 37,
    "start_time": "2021-10-22T15:50:17.190Z"
   },
   {
    "duration": 107,
    "start_time": "2021-10-22T15:52:59.855Z"
   },
   {
    "duration": 118,
    "start_time": "2021-10-22T15:53:03.677Z"
   },
   {
    "duration": 278,
    "start_time": "2021-10-22T15:53:06.914Z"
   },
   {
    "duration": 6,
    "start_time": "2021-10-22T15:54:05.164Z"
   },
   {
    "duration": 6,
    "start_time": "2021-10-22T15:54:11.222Z"
   },
   {
    "duration": 5,
    "start_time": "2021-10-22T15:54:20.630Z"
   },
   {
    "duration": 6,
    "start_time": "2021-10-22T15:54:24.181Z"
   },
   {
    "duration": 5,
    "start_time": "2021-10-22T15:54:45.558Z"
   },
   {
    "duration": 6,
    "start_time": "2021-10-22T15:55:04.920Z"
   },
   {
    "duration": 6,
    "start_time": "2021-10-22T15:55:07.552Z"
   },
   {
    "duration": 7,
    "start_time": "2021-10-22T15:55:12.671Z"
   },
   {
    "duration": 5,
    "start_time": "2021-10-22T15:55:15.748Z"
   },
   {
    "duration": 5,
    "start_time": "2021-10-22T15:55:21.056Z"
   },
   {
    "duration": 261,
    "start_time": "2021-10-22T15:55:46.201Z"
   },
   {
    "duration": 268,
    "start_time": "2021-10-22T15:56:19.504Z"
   },
   {
    "duration": 261,
    "start_time": "2021-10-22T15:56:24.452Z"
   },
   {
    "duration": 6,
    "start_time": "2021-10-22T15:57:21.559Z"
   },
   {
    "duration": 7,
    "start_time": "2021-10-22T15:57:39.952Z"
   },
   {
    "duration": 41,
    "start_time": "2021-10-22T15:58:19.939Z"
   },
   {
    "duration": 39,
    "start_time": "2021-10-22T15:58:30.626Z"
   },
   {
    "duration": 42,
    "start_time": "2021-10-22T15:58:37.836Z"
   },
   {
    "duration": 43,
    "start_time": "2021-10-22T16:01:02.407Z"
   },
   {
    "duration": 16,
    "start_time": "2021-10-22T16:01:34.498Z"
   },
   {
    "duration": 36,
    "start_time": "2021-10-22T16:01:47.867Z"
   },
   {
    "duration": 18,
    "start_time": "2021-10-22T16:01:56.479Z"
   },
   {
    "duration": 17,
    "start_time": "2021-10-22T16:02:02.781Z"
   },
   {
    "duration": 25,
    "start_time": "2021-10-22T16:04:08.300Z"
   },
   {
    "duration": 1832,
    "start_time": "2021-10-22T16:04:12.200Z"
   },
   {
    "duration": 259,
    "start_time": "2021-10-22T16:05:16.963Z"
   },
   {
    "duration": 4173,
    "start_time": "2021-10-22T16:05:27.000Z"
   },
   {
    "duration": 3178,
    "start_time": "2021-10-22T16:05:37.896Z"
   },
   {
    "duration": 5,
    "start_time": "2021-10-22T16:05:41.077Z"
   },
   {
    "duration": 558,
    "start_time": "2021-10-22T16:05:41.085Z"
   },
   {
    "duration": 4,
    "start_time": "2021-10-22T16:05:41.646Z"
   },
   {
    "duration": 24,
    "start_time": "2021-10-22T16:05:41.652Z"
   },
   {
    "duration": 11,
    "start_time": "2021-10-22T16:05:41.678Z"
   },
   {
    "duration": 20,
    "start_time": "2021-10-22T16:05:41.691Z"
   },
   {
    "duration": 11,
    "start_time": "2021-10-22T16:05:41.716Z"
   },
   {
    "duration": 19,
    "start_time": "2021-10-22T16:05:41.730Z"
   },
   {
    "duration": 18,
    "start_time": "2021-10-22T16:05:41.752Z"
   },
   {
    "duration": 10,
    "start_time": "2021-10-22T16:05:41.773Z"
   },
   {
    "duration": 30,
    "start_time": "2021-10-22T16:05:41.786Z"
   },
   {
    "duration": 30,
    "start_time": "2021-10-22T16:05:41.819Z"
   },
   {
    "duration": 15,
    "start_time": "2021-10-22T16:05:41.852Z"
   },
   {
    "duration": 167,
    "start_time": "2021-10-22T16:05:41.869Z"
   },
   {
    "duration": 6,
    "start_time": "2021-10-22T16:05:42.039Z"
   },
   {
    "duration": 58,
    "start_time": "2021-10-22T16:05:42.048Z"
   },
   {
    "duration": 40,
    "start_time": "2021-10-22T16:05:42.109Z"
   },
   {
    "duration": 48,
    "start_time": "2021-10-22T16:05:42.152Z"
   },
   {
    "duration": 133,
    "start_time": "2021-10-22T16:05:42.202Z"
   },
   {
    "duration": 85,
    "start_time": "2021-10-22T16:05:42.338Z"
   },
   {
    "duration": 27,
    "start_time": "2021-10-22T16:05:42.426Z"
   },
   {
    "duration": 29,
    "start_time": "2021-10-22T16:05:42.457Z"
   },
   {
    "duration": 11,
    "start_time": "2021-10-22T16:05:42.489Z"
   },
   {
    "duration": 1522,
    "start_time": "2021-10-22T16:05:42.503Z"
   },
   {
    "duration": 11,
    "start_time": "2021-10-22T16:05:44.027Z"
   },
   {
    "duration": 11,
    "start_time": "2021-10-22T16:05:44.041Z"
   },
   {
    "duration": 28,
    "start_time": "2021-10-22T16:05:44.055Z"
   },
   {
    "duration": 57,
    "start_time": "2021-10-22T16:05:44.085Z"
   },
   {
    "duration": 31,
    "start_time": "2021-10-22T16:05:44.145Z"
   },
   {
    "duration": 71,
    "start_time": "2021-10-22T16:05:44.180Z"
   },
   {
    "duration": 143,
    "start_time": "2021-10-22T16:05:44.253Z"
   },
   {
    "duration": 37,
    "start_time": "2021-10-22T16:05:44.399Z"
   },
   {
    "duration": 852,
    "start_time": "2021-10-22T16:05:44.438Z"
   },
   {
    "duration": 12,
    "start_time": "2021-10-22T16:05:45.292Z"
   },
   {
    "duration": 23,
    "start_time": "2021-10-22T16:05:45.306Z"
   },
   {
    "duration": 27,
    "start_time": "2021-10-22T16:05:45.332Z"
   },
   {
    "duration": 33,
    "start_time": "2021-10-22T16:05:45.362Z"
   },
   {
    "duration": 44,
    "start_time": "2021-10-22T16:05:45.397Z"
   },
   {
    "duration": 3273,
    "start_time": "2021-10-22T16:05:45.443Z"
   },
   {
    "duration": -357,
    "start_time": "2021-10-22T16:05:49.076Z"
   },
   {
    "duration": -372,
    "start_time": "2021-10-22T16:05:49.092Z"
   },
   {
    "duration": -376,
    "start_time": "2021-10-22T16:05:49.098Z"
   },
   {
    "duration": -385,
    "start_time": "2021-10-22T16:05:49.109Z"
   },
   {
    "duration": 3589,
    "start_time": "2021-10-22T16:05:50.728Z"
   },
   {
    "duration": 43,
    "start_time": "2021-10-22T16:06:12.833Z"
   },
   {
    "duration": 45,
    "start_time": "2021-10-22T16:06:14.191Z"
   },
   {
    "duration": 75,
    "start_time": "2021-10-22T16:06:14.276Z"
   },
   {
    "duration": 21,
    "start_time": "2021-10-22T16:06:14.360Z"
   },
   {
    "duration": 33,
    "start_time": "2021-10-22T16:06:14.801Z"
   },
   {
    "duration": 577,
    "start_time": "2021-10-22T16:06:15.025Z"
   },
   {
    "duration": 11,
    "start_time": "2021-10-22T16:06:15.889Z"
   },
   {
    "duration": 7,
    "start_time": "2021-10-22T16:06:16.097Z"
   },
   {
    "duration": 15,
    "start_time": "2021-10-22T16:06:16.323Z"
   },
   {
    "duration": 2075,
    "start_time": "2021-10-22T16:06:17.227Z"
   },
   {
    "duration": 10,
    "start_time": "2021-10-22T16:06:19.305Z"
   },
   {
    "duration": 1241,
    "start_time": "2021-10-22T16:06:19.318Z"
   },
   {
    "duration": 10,
    "start_time": "2021-10-22T16:06:20.561Z"
   },
   {
    "duration": 1449,
    "start_time": "2021-10-22T16:06:20.573Z"
   },
   {
    "duration": 15,
    "start_time": "2021-10-22T16:06:22.026Z"
   },
   {
    "duration": 37,
    "start_time": "2021-10-22T16:06:22.044Z"
   },
   {
    "duration": 15,
    "start_time": "2021-10-22T16:06:22.084Z"
   },
   {
    "duration": 1073,
    "start_time": "2021-10-22T16:06:22.123Z"
   },
   {
    "duration": 3788,
    "start_time": "2021-10-22T16:07:06.962Z"
   },
   {
    "duration": 42,
    "start_time": "2021-10-22T16:07:25.294Z"
   },
   {
    "duration": 36,
    "start_time": "2021-10-22T16:07:48.182Z"
   },
   {
    "duration": 1075,
    "start_time": "2021-10-22T16:08:27.437Z"
   },
   {
    "duration": 93,
    "start_time": "2021-10-22T16:09:53.482Z"
   },
   {
    "duration": 92,
    "start_time": "2021-10-22T16:13:04.313Z"
   },
   {
    "duration": 128,
    "start_time": "2021-10-22T16:13:28.634Z"
   },
   {
    "duration": 91,
    "start_time": "2021-10-22T16:13:38.823Z"
   },
   {
    "duration": 102,
    "start_time": "2021-10-22T16:14:29.179Z"
   },
   {
    "duration": 766,
    "start_time": "2021-10-22T16:20:50.611Z"
   },
   {
    "duration": 761,
    "start_time": "2021-10-22T16:21:13.541Z"
   },
   {
    "duration": 28,
    "start_time": "2021-10-22T16:23:00.958Z"
   },
   {
    "duration": 867,
    "start_time": "2021-10-22T16:23:01.209Z"
   },
   {
    "duration": 10,
    "start_time": "2021-10-22T16:23:43.310Z"
   },
   {
    "duration": 282,
    "start_time": "2021-10-22T16:23:47.887Z"
   },
   {
    "duration": 16,
    "start_time": "2021-10-22T16:24:12.828Z"
   },
   {
    "duration": 376,
    "start_time": "2021-10-22T16:24:13.312Z"
   },
   {
    "duration": 19,
    "start_time": "2021-10-22T16:24:52.207Z"
   },
   {
    "duration": 545,
    "start_time": "2021-10-22T16:24:52.570Z"
   },
   {
    "duration": 25,
    "start_time": "2021-10-22T16:25:11.600Z"
   },
   {
    "duration": 1098,
    "start_time": "2021-10-22T16:25:13.880Z"
   },
   {
    "duration": 347,
    "start_time": "2021-10-22T16:25:43.763Z"
   },
   {
    "duration": 288,
    "start_time": "2021-10-22T16:25:52.642Z"
   },
   {
    "duration": 275,
    "start_time": "2021-10-22T16:25:55.023Z"
   },
   {
    "duration": 11,
    "start_time": "2021-10-22T16:25:56.997Z"
   },
   {
    "duration": 24,
    "start_time": "2021-10-22T16:26:38.111Z"
   },
   {
    "duration": 11,
    "start_time": "2021-10-22T16:26:38.508Z"
   },
   {
    "duration": 585,
    "start_time": "2021-10-22T16:26:39.401Z"
   },
   {
    "duration": 30,
    "start_time": "2021-10-22T16:26:51.207Z"
   },
   {
    "duration": 805,
    "start_time": "2021-10-22T16:26:52.209Z"
   },
   {
    "duration": 25,
    "start_time": "2021-10-22T16:28:14.193Z"
   },
   {
    "duration": 11,
    "start_time": "2021-10-22T16:28:14.673Z"
   },
   {
    "duration": 759,
    "start_time": "2021-10-22T16:28:15.377Z"
   },
   {
    "duration": 25,
    "start_time": "2021-10-22T16:29:52.187Z"
   },
   {
    "duration": 38,
    "start_time": "2021-10-22T16:34:30.531Z"
   },
   {
    "duration": 1072,
    "start_time": "2021-10-22T16:34:36.715Z"
   },
   {
    "duration": 37,
    "start_time": "2021-10-22T16:34:43.877Z"
   },
   {
    "duration": 36,
    "start_time": "2021-10-22T16:36:39.967Z"
   },
   {
    "duration": 55,
    "start_time": "2021-10-22T16:36:52.820Z"
   },
   {
    "duration": 1142,
    "start_time": "2021-10-22T16:37:02.310Z"
   },
   {
    "duration": 285,
    "start_time": "2021-10-22T16:37:20.468Z"
   },
   {
    "duration": 6,
    "start_time": "2021-10-22T16:38:02.770Z"
   },
   {
    "duration": 24,
    "start_time": "2021-10-22T16:38:44.327Z"
   },
   {
    "duration": 5,
    "start_time": "2021-10-22T16:38:46.891Z"
   },
   {
    "duration": 993,
    "start_time": "2021-10-22T16:38:47.557Z"
   },
   {
    "duration": 835,
    "start_time": "2021-10-22T16:39:08.299Z"
   },
   {
    "duration": 3212,
    "start_time": "2021-10-22T16:39:59.893Z"
   },
   {
    "duration": 4,
    "start_time": "2021-10-22T16:40:03.108Z"
   },
   {
    "duration": 509,
    "start_time": "2021-10-22T16:40:03.117Z"
   },
   {
    "duration": 4,
    "start_time": "2021-10-22T16:40:03.629Z"
   },
   {
    "duration": 26,
    "start_time": "2021-10-22T16:40:03.635Z"
   },
   {
    "duration": 11,
    "start_time": "2021-10-22T16:40:03.663Z"
   },
   {
    "duration": 19,
    "start_time": "2021-10-22T16:40:03.676Z"
   },
   {
    "duration": 33,
    "start_time": "2021-10-22T16:40:03.699Z"
   },
   {
    "duration": 28,
    "start_time": "2021-10-22T16:40:03.735Z"
   },
   {
    "duration": 14,
    "start_time": "2021-10-22T16:40:03.766Z"
   },
   {
    "duration": 16,
    "start_time": "2021-10-22T16:40:03.782Z"
   },
   {
    "duration": 24,
    "start_time": "2021-10-22T16:40:03.823Z"
   },
   {
    "duration": 25,
    "start_time": "2021-10-22T16:40:03.849Z"
   },
   {
    "duration": 12,
    "start_time": "2021-10-22T16:40:03.877Z"
   },
   {
    "duration": 102,
    "start_time": "2021-10-22T16:40:03.923Z"
   },
   {
    "duration": 5,
    "start_time": "2021-10-22T16:40:04.028Z"
   },
   {
    "duration": 37,
    "start_time": "2021-10-22T16:40:04.037Z"
   },
   {
    "duration": 66,
    "start_time": "2021-10-22T16:40:04.077Z"
   },
   {
    "duration": 40,
    "start_time": "2021-10-22T16:40:04.146Z"
   },
   {
    "duration": 91,
    "start_time": "2021-10-22T16:40:04.189Z"
   },
   {
    "duration": 54,
    "start_time": "2021-10-22T16:40:04.282Z"
   },
   {
    "duration": 22,
    "start_time": "2021-10-22T16:40:04.339Z"
   },
   {
    "duration": 25,
    "start_time": "2021-10-22T16:40:04.366Z"
   },
   {
    "duration": 37,
    "start_time": "2021-10-22T16:40:04.394Z"
   },
   {
    "duration": 1291,
    "start_time": "2021-10-22T16:40:04.433Z"
   },
   {
    "duration": 11,
    "start_time": "2021-10-22T16:40:05.727Z"
   },
   {
    "duration": 6,
    "start_time": "2021-10-22T16:40:05.740Z"
   },
   {
    "duration": 29,
    "start_time": "2021-10-22T16:40:05.748Z"
   },
   {
    "duration": 54,
    "start_time": "2021-10-22T16:40:05.779Z"
   },
   {
    "duration": 30,
    "start_time": "2021-10-22T16:40:05.835Z"
   },
   {
    "duration": 66,
    "start_time": "2021-10-22T16:40:05.867Z"
   },
   {
    "duration": 136,
    "start_time": "2021-10-22T16:40:05.935Z"
   },
   {
    "duration": 25,
    "start_time": "2021-10-22T16:40:06.073Z"
   },
   {
    "duration": 841,
    "start_time": "2021-10-22T16:40:06.100Z"
   },
   {
    "duration": 13,
    "start_time": "2021-10-22T16:40:06.943Z"
   },
   {
    "duration": 9,
    "start_time": "2021-10-22T16:40:06.958Z"
   },
   {
    "duration": 11,
    "start_time": "2021-10-22T16:40:06.970Z"
   },
   {
    "duration": 61,
    "start_time": "2021-10-22T16:40:06.983Z"
   },
   {
    "duration": 27,
    "start_time": "2021-10-22T16:40:07.046Z"
   },
   {
    "duration": 56,
    "start_time": "2021-10-22T16:40:07.076Z"
   },
   {
    "duration": 32,
    "start_time": "2021-10-22T16:40:07.134Z"
   },
   {
    "duration": 74,
    "start_time": "2021-10-22T16:40:07.168Z"
   },
   {
    "duration": 18,
    "start_time": "2021-10-22T16:40:07.244Z"
   },
   {
    "duration": 26,
    "start_time": "2021-10-22T16:40:07.264Z"
   },
   {
    "duration": 279,
    "start_time": "2021-10-22T16:40:07.292Z"
   },
   {
    "duration": -366,
    "start_time": "2021-10-22T16:40:07.940Z"
   },
   {
    "duration": -369,
    "start_time": "2021-10-22T16:40:07.944Z"
   },
   {
    "duration": -373,
    "start_time": "2021-10-22T16:40:07.949Z"
   },
   {
    "duration": -376,
    "start_time": "2021-10-22T16:40:07.954Z"
   },
   {
    "duration": -379,
    "start_time": "2021-10-22T16:40:07.958Z"
   },
   {
    "duration": -381,
    "start_time": "2021-10-22T16:40:07.961Z"
   },
   {
    "duration": -384,
    "start_time": "2021-10-22T16:40:07.966Z"
   },
   {
    "duration": -387,
    "start_time": "2021-10-22T16:40:07.970Z"
   },
   {
    "duration": -390,
    "start_time": "2021-10-22T16:40:07.974Z"
   },
   {
    "duration": -393,
    "start_time": "2021-10-22T16:40:07.979Z"
   },
   {
    "duration": -397,
    "start_time": "2021-10-22T16:40:07.984Z"
   },
   {
    "duration": -400,
    "start_time": "2021-10-22T16:40:07.988Z"
   },
   {
    "duration": -402,
    "start_time": "2021-10-22T16:40:07.992Z"
   },
   {
    "duration": 274,
    "start_time": "2021-10-22T16:40:19.077Z"
   },
   {
    "duration": 1023,
    "start_time": "2021-10-22T16:40:32.205Z"
   },
   {
    "duration": 15,
    "start_time": "2021-10-22T16:40:34.789Z"
   },
   {
    "duration": 8,
    "start_time": "2021-10-22T16:40:35.145Z"
   },
   {
    "duration": 14,
    "start_time": "2021-10-22T16:40:36.641Z"
   },
   {
    "duration": 2030,
    "start_time": "2021-10-22T16:40:40.942Z"
   },
   {
    "duration": 11,
    "start_time": "2021-10-22T16:40:42.974Z"
   },
   {
    "duration": 1122,
    "start_time": "2021-10-22T16:40:48.004Z"
   },
   {
    "duration": 10,
    "start_time": "2021-10-22T16:40:49.128Z"
   },
   {
    "duration": 1366,
    "start_time": "2021-10-22T16:40:49.141Z"
   },
   {
    "duration": 17,
    "start_time": "2021-10-22T16:40:50.510Z"
   },
   {
    "duration": 27,
    "start_time": "2021-10-22T16:40:50.530Z"
   },
   {
    "duration": 779,
    "start_time": "2021-10-22T16:40:50.560Z"
   },
   {
    "duration": 724,
    "start_time": "2021-10-22T16:48:20.034Z"
   },
   {
    "duration": 18,
    "start_time": "2021-10-22T16:48:41.483Z"
   },
   {
    "duration": 19,
    "start_time": "2021-10-22T16:49:35.959Z"
   },
   {
    "duration": 14,
    "start_time": "2021-10-22T16:49:36.252Z"
   },
   {
    "duration": 261,
    "start_time": "2021-10-22T16:49:55.913Z"
   },
   {
    "duration": 12,
    "start_time": "2021-10-22T16:50:10.073Z"
   },
   {
    "duration": 24,
    "start_time": "2021-10-22T16:52:16.205Z"
   },
   {
    "duration": 17,
    "start_time": "2021-10-22T16:52:17.099Z"
   },
   {
    "duration": 7,
    "start_time": "2021-10-22T16:52:55.923Z"
   },
   {
    "duration": 13,
    "start_time": "2021-10-22T16:52:56.932Z"
   },
   {
    "duration": 9,
    "start_time": "2021-10-22T16:53:00.112Z"
   },
   {
    "duration": 15,
    "start_time": "2021-10-22T16:53:00.510Z"
   },
   {
    "duration": 15,
    "start_time": "2021-10-22T16:55:04.284Z"
   },
   {
    "duration": 3039,
    "start_time": "2021-10-22T16:55:14.347Z"
   },
   {
    "duration": 3,
    "start_time": "2021-10-22T16:55:17.390Z"
   },
   {
    "duration": 603,
    "start_time": "2021-10-22T16:55:17.396Z"
   },
   {
    "duration": 3,
    "start_time": "2021-10-22T16:55:18.002Z"
   },
   {
    "duration": 21,
    "start_time": "2021-10-22T16:55:18.008Z"
   },
   {
    "duration": 7,
    "start_time": "2021-10-22T16:55:18.032Z"
   },
   {
    "duration": 16,
    "start_time": "2021-10-22T16:55:18.041Z"
   },
   {
    "duration": 11,
    "start_time": "2021-10-22T16:55:18.892Z"
   },
   {
    "duration": 20,
    "start_time": "2021-10-22T16:55:19.600Z"
   },
   {
    "duration": 10,
    "start_time": "2021-10-22T16:55:21.000Z"
   },
   {
    "duration": 10,
    "start_time": "2021-10-22T16:55:21.571Z"
   },
   {
    "duration": 24,
    "start_time": "2021-10-22T16:55:21.775Z"
   },
   {
    "duration": 23,
    "start_time": "2021-10-22T16:55:21.991Z"
   },
   {
    "duration": 12,
    "start_time": "2021-10-22T16:55:25.410Z"
   },
   {
    "duration": 92,
    "start_time": "2021-10-22T16:55:25.750Z"
   },
   {
    "duration": 5,
    "start_time": "2021-10-22T16:55:28.040Z"
   },
   {
    "duration": 34,
    "start_time": "2021-10-22T16:55:28.382Z"
   },
   {
    "duration": 39,
    "start_time": "2021-10-22T16:55:33.576Z"
   },
   {
    "duration": 39,
    "start_time": "2021-10-22T16:55:34.228Z"
   },
   {
    "duration": 72,
    "start_time": "2021-10-22T16:55:34.700Z"
   },
   {
    "duration": 30,
    "start_time": "2021-10-22T16:55:35.266Z"
   },
   {
    "duration": 23,
    "start_time": "2021-10-22T16:55:35.371Z"
   },
   {
    "duration": 26,
    "start_time": "2021-10-22T16:55:35.422Z"
   },
   {
    "duration": 12,
    "start_time": "2021-10-22T16:55:35.472Z"
   },
   {
    "duration": 1156,
    "start_time": "2021-10-22T16:55:35.541Z"
   },
   {
    "duration": 11,
    "start_time": "2021-10-22T16:55:37.558Z"
   },
   {
    "duration": 4,
    "start_time": "2021-10-22T16:55:38.281Z"
   },
   {
    "duration": 26,
    "start_time": "2021-10-22T16:55:38.567Z"
   },
   {
    "duration": 27,
    "start_time": "2021-10-22T16:55:39.289Z"
   },
   {
    "duration": 29,
    "start_time": "2021-10-22T16:55:39.817Z"
   },
   {
    "duration": 40,
    "start_time": "2021-10-22T16:55:40.067Z"
   },
   {
    "duration": 126,
    "start_time": "2021-10-22T16:55:40.342Z"
   },
   {
    "duration": 26,
    "start_time": "2021-10-22T16:55:40.516Z"
   },
   {
    "duration": 935,
    "start_time": "2021-10-22T16:55:40.621Z"
   },
   {
    "duration": 13,
    "start_time": "2021-10-22T16:55:42.334Z"
   },
   {
    "duration": 14,
    "start_time": "2021-10-22T16:55:42.349Z"
   },
   {
    "duration": 12,
    "start_time": "2021-10-22T16:55:42.722Z"
   },
   {
    "duration": 29,
    "start_time": "2021-10-22T16:55:42.903Z"
   },
   {
    "duration": 29,
    "start_time": "2021-10-22T16:55:43.346Z"
   },
   {
    "duration": 31,
    "start_time": "2021-10-22T16:55:43.746Z"
   },
   {
    "duration": 32,
    "start_time": "2021-10-22T16:55:44.168Z"
   },
   {
    "duration": 56,
    "start_time": "2021-10-22T16:55:44.503Z"
   },
   {
    "duration": 18,
    "start_time": "2021-10-22T16:55:44.827Z"
   },
   {
    "duration": 25,
    "start_time": "2021-10-22T16:55:45.768Z"
   },
   {
    "duration": 910,
    "start_time": "2021-10-22T16:55:45.992Z"
   },
   {
    "duration": 12,
    "start_time": "2021-10-22T16:55:48.409Z"
   },
   {
    "duration": 5,
    "start_time": "2021-10-22T16:56:32.932Z"
   },
   {
    "duration": 11,
    "start_time": "2021-10-22T16:56:37.114Z"
   },
   {
    "duration": 7,
    "start_time": "2021-10-22T16:58:06.649Z"
   },
   {
    "duration": 12,
    "start_time": "2021-10-22T16:58:09.597Z"
   },
   {
    "duration": 15,
    "start_time": "2021-10-22T16:58:18.887Z"
   },
   {
    "duration": 1923,
    "start_time": "2021-10-22T16:58:21.646Z"
   },
   {
    "duration": 11,
    "start_time": "2021-10-22T16:58:23.572Z"
   },
   {
    "duration": 1115,
    "start_time": "2021-10-22T16:58:23.586Z"
   },
   {
    "duration": 19,
    "start_time": "2021-10-22T16:58:24.704Z"
   },
   {
    "duration": 1368,
    "start_time": "2021-10-22T16:58:24.845Z"
   },
   {
    "duration": 15,
    "start_time": "2021-10-22T16:58:26.216Z"
   },
   {
    "duration": 13,
    "start_time": "2021-10-22T16:58:26.234Z"
   },
   {
    "duration": 25,
    "start_time": "2021-10-22T16:58:31.419Z"
   },
   {
    "duration": 17,
    "start_time": "2021-10-22T16:58:33.004Z"
   },
   {
    "duration": 37,
    "start_time": "2021-10-22T16:59:28.824Z"
   },
   {
    "duration": 84,
    "start_time": "2021-10-22T17:00:27.412Z"
   },
   {
    "duration": 84,
    "start_time": "2021-10-22T17:03:42.447Z"
   },
   {
    "duration": 102,
    "start_time": "2021-10-22T17:04:44.270Z"
   },
   {
    "duration": 38,
    "start_time": "2021-10-22T17:04:58.108Z"
   },
   {
    "duration": 37,
    "start_time": "2021-10-22T17:09:59.730Z"
   },
   {
    "duration": 110,
    "start_time": "2021-10-22T17:14:58.608Z"
   },
   {
    "duration": 87,
    "start_time": "2021-10-22T17:15:07.445Z"
   },
   {
    "duration": 88,
    "start_time": "2021-10-22T17:15:18.302Z"
   },
   {
    "duration": 90,
    "start_time": "2021-10-22T17:15:25.483Z"
   },
   {
    "duration": 1250,
    "start_time": "2021-10-22T17:15:32.046Z"
   },
   {
    "duration": 42,
    "start_time": "2021-10-22T17:15:42.361Z"
   },
   {
    "duration": 13,
    "start_time": "2021-10-22T17:18:13.124Z"
   },
   {
    "duration": 27,
    "start_time": "2021-10-22T17:18:17.080Z"
   },
   {
    "duration": 782,
    "start_time": "2021-10-22T17:20:10.740Z"
   },
   {
    "duration": 3158,
    "start_time": "2021-10-22T17:22:13.661Z"
   },
   {
    "duration": 4042,
    "start_time": "2021-10-22T17:22:22.785Z"
   },
   {
    "duration": 3878,
    "start_time": "2021-10-22T17:22:29.326Z"
   },
   {
    "duration": 35,
    "start_time": "2021-10-22T17:22:51.591Z"
   },
   {
    "duration": 34,
    "start_time": "2021-10-22T17:23:14.823Z"
   },
   {
    "duration": 3600,
    "start_time": "2021-10-22T18:23:55.719Z"
   },
   {
    "duration": 3293,
    "start_time": "2021-10-22T18:24:04.394Z"
   },
   {
    "duration": 17,
    "start_time": "2021-10-22T18:34:46.003Z"
   },
   {
    "duration": 16,
    "start_time": "2021-10-22T18:44:42.050Z"
   },
   {
    "duration": 18,
    "start_time": "2021-10-22T18:44:48.239Z"
   },
   {
    "duration": 19,
    "start_time": "2021-10-22T18:49:16.005Z"
   },
   {
    "duration": 21,
    "start_time": "2021-10-22T18:49:29.248Z"
   },
   {
    "duration": 52,
    "start_time": "2021-10-22T18:49:41.907Z"
   },
   {
    "duration": 365,
    "start_time": "2021-10-22T18:50:01.391Z"
   },
   {
    "duration": 5,
    "start_time": "2021-10-22T18:50:36.283Z"
   },
   {
    "duration": 41,
    "start_time": "2021-10-22T18:50:51.655Z"
   },
   {
    "duration": 36,
    "start_time": "2021-10-22T18:51:08.409Z"
   },
   {
    "duration": 15,
    "start_time": "2021-10-22T18:51:34.504Z"
   },
   {
    "duration": 35,
    "start_time": "2021-10-22T18:51:38.086Z"
   },
   {
    "duration": 36,
    "start_time": "2021-10-22T18:51:44.683Z"
   },
   {
    "duration": 46,
    "start_time": "2021-10-22T18:51:59.048Z"
   },
   {
    "duration": 53,
    "start_time": "2021-10-22T18:52:05.022Z"
   },
   {
    "duration": 35,
    "start_time": "2021-10-22T18:52:08.700Z"
   },
   {
    "duration": 33,
    "start_time": "2021-10-22T18:52:17.136Z"
   },
   {
    "duration": 34,
    "start_time": "2021-10-22T18:52:25.181Z"
   },
   {
    "duration": 57,
    "start_time": "2021-10-22T18:52:32.772Z"
   },
   {
    "duration": 208,
    "start_time": "2021-10-22T18:52:41.269Z"
   },
   {
    "duration": 21,
    "start_time": "2021-10-22T18:55:21.662Z"
   },
   {
    "duration": 41,
    "start_time": "2021-10-22T18:55:23.508Z"
   },
   {
    "duration": 20,
    "start_time": "2021-10-22T18:55:43.295Z"
   },
   {
    "duration": 15,
    "start_time": "2021-10-22T18:57:35.875Z"
   },
   {
    "duration": 21,
    "start_time": "2021-10-22T18:57:36.482Z"
   },
   {
    "duration": 17,
    "start_time": "2021-10-22T19:00:11.597Z"
   },
   {
    "duration": 22,
    "start_time": "2021-10-22T19:00:14.387Z"
   },
   {
    "duration": 3173,
    "start_time": "2021-10-22T19:00:26.003Z"
   },
   {
    "duration": 4,
    "start_time": "2021-10-22T19:00:29.179Z"
   },
   {
    "duration": 499,
    "start_time": "2021-10-22T19:00:29.186Z"
   },
   {
    "duration": 4,
    "start_time": "2021-10-22T19:00:29.688Z"
   },
   {
    "duration": 26,
    "start_time": "2021-10-22T19:00:29.694Z"
   },
   {
    "duration": 10,
    "start_time": "2021-10-22T19:00:29.723Z"
   },
   {
    "duration": 15,
    "start_time": "2021-10-22T19:00:29.736Z"
   },
   {
    "duration": 10,
    "start_time": "2021-10-22T19:00:29.754Z"
   },
   {
    "duration": 20,
    "start_time": "2021-10-22T19:00:29.767Z"
   },
   {
    "duration": 9,
    "start_time": "2021-10-22T19:00:29.919Z"
   },
   {
    "duration": 10,
    "start_time": "2021-10-22T19:00:30.630Z"
   },
   {
    "duration": 26,
    "start_time": "2021-10-22T19:00:30.920Z"
   },
   {
    "duration": 24,
    "start_time": "2021-10-22T19:00:31.178Z"
   },
   {
    "duration": 22,
    "start_time": "2021-10-22T19:00:32.355Z"
   },
   {
    "duration": 91,
    "start_time": "2021-10-22T19:00:32.812Z"
   },
   {
    "duration": 5,
    "start_time": "2021-10-22T19:00:32.941Z"
   },
   {
    "duration": 39,
    "start_time": "2021-10-22T19:00:33.074Z"
   },
   {
    "duration": 41,
    "start_time": "2021-10-22T19:00:33.782Z"
   },
   {
    "duration": 41,
    "start_time": "2021-10-22T19:00:34.054Z"
   },
   {
    "duration": 74,
    "start_time": "2021-10-22T19:00:34.623Z"
   },
   {
    "duration": 32,
    "start_time": "2021-10-22T19:00:35.143Z"
   },
   {
    "duration": 24,
    "start_time": "2021-10-22T19:00:35.451Z"
   },
   {
    "duration": 26,
    "start_time": "2021-10-22T19:00:35.565Z"
   },
   {
    "duration": 12,
    "start_time": "2021-10-22T19:00:35.771Z"
   },
   {
    "duration": 1161,
    "start_time": "2021-10-22T19:00:36.096Z"
   },
   {
    "duration": 14,
    "start_time": "2021-10-22T19:00:37.658Z"
   },
   {
    "duration": 6,
    "start_time": "2021-10-22T19:00:38.498Z"
   },
   {
    "duration": 37,
    "start_time": "2021-10-22T19:00:38.707Z"
   },
   {
    "duration": 34,
    "start_time": "2021-10-22T19:00:39.339Z"
   },
   {
    "duration": 38,
    "start_time": "2021-10-22T19:00:39.696Z"
   },
   {
    "duration": 51,
    "start_time": "2021-10-22T19:00:39.996Z"
   },
   {
    "duration": 195,
    "start_time": "2021-10-22T19:00:40.279Z"
   },
   {
    "duration": 52,
    "start_time": "2021-10-22T19:00:40.477Z"
   },
   {
    "duration": 1179,
    "start_time": "2021-10-22T19:00:41.073Z"
   },
   {
    "duration": 17,
    "start_time": "2021-10-22T19:00:42.256Z"
   },
   {
    "duration": 10,
    "start_time": "2021-10-22T19:00:43.064Z"
   },
   {
    "duration": 15,
    "start_time": "2021-10-22T19:00:43.605Z"
   },
   {
    "duration": 40,
    "start_time": "2021-10-22T19:00:44.175Z"
   },
   {
    "duration": 37,
    "start_time": "2021-10-22T19:00:44.796Z"
   },
   {
    "duration": 42,
    "start_time": "2021-10-22T19:00:45.859Z"
   },
   {
    "duration": 46,
    "start_time": "2021-10-22T19:00:46.345Z"
   },
   {
    "duration": 76,
    "start_time": "2021-10-22T19:00:48.438Z"
   },
   {
    "duration": 23,
    "start_time": "2021-10-22T19:00:49.726Z"
   },
   {
    "duration": 24,
    "start_time": "2021-10-22T19:00:50.087Z"
   },
   {
    "duration": 923,
    "start_time": "2021-10-22T19:00:50.708Z"
   },
   {
    "duration": 12,
    "start_time": "2021-10-22T19:00:54.482Z"
   },
   {
    "duration": 7,
    "start_time": "2021-10-22T19:00:57.525Z"
   },
   {
    "duration": 15,
    "start_time": "2021-10-22T19:00:58.089Z"
   },
   {
    "duration": 2045,
    "start_time": "2021-10-22T19:00:59.078Z"
   },
   {
    "duration": 12,
    "start_time": "2021-10-22T19:01:01.126Z"
   },
   {
    "duration": 1136,
    "start_time": "2021-10-22T19:01:01.141Z"
   },
   {
    "duration": 10,
    "start_time": "2021-10-22T19:01:02.280Z"
   },
   {
    "duration": 1392,
    "start_time": "2021-10-22T19:01:02.292Z"
   },
   {
    "duration": 10,
    "start_time": "2021-10-22T19:01:03.687Z"
   },
   {
    "duration": 41,
    "start_time": "2021-10-22T19:01:03.700Z"
   },
   {
    "duration": 17,
    "start_time": "2021-10-22T19:01:03.743Z"
   },
   {
    "duration": 22,
    "start_time": "2021-10-22T19:01:03.763Z"
   },
   {
    "duration": 20,
    "start_time": "2021-10-22T19:01:13.143Z"
   },
   {
    "duration": 24,
    "start_time": "2021-10-22T19:02:15.895Z"
   },
   {
    "duration": 22,
    "start_time": "2021-10-22T19:02:16.302Z"
   },
   {
    "duration": 18,
    "start_time": "2021-10-22T19:02:17.399Z"
   },
   {
    "duration": 21,
    "start_time": "2021-10-22T19:02:19.307Z"
   },
   {
    "duration": 18,
    "start_time": "2021-10-22T19:05:17.118Z"
   },
   {
    "duration": 18,
    "start_time": "2021-10-22T19:05:44.952Z"
   },
   {
    "duration": 22,
    "start_time": "2021-10-22T19:05:48.924Z"
   },
   {
    "duration": 17,
    "start_time": "2021-10-22T19:05:49.174Z"
   },
   {
    "duration": 18,
    "start_time": "2021-10-22T19:05:49.386Z"
   },
   {
    "duration": 16,
    "start_time": "2021-10-22T19:06:11.456Z"
   },
   {
    "duration": 21,
    "start_time": "2021-10-22T19:06:13.320Z"
   },
   {
    "duration": 7,
    "start_time": "2021-10-22T19:28:14.573Z"
   },
   {
    "duration": 13,
    "start_time": "2021-10-22T19:28:35.771Z"
   },
   {
    "duration": 16,
    "start_time": "2021-10-22T19:28:45.876Z"
   },
   {
    "duration": 17,
    "start_time": "2021-10-22T19:29:13.789Z"
   },
   {
    "duration": 21,
    "start_time": "2021-10-22T19:39:51.927Z"
   },
   {
    "duration": 13,
    "start_time": "2021-10-22T20:01:30.022Z"
   },
   {
    "duration": 10,
    "start_time": "2021-10-22T20:02:21.018Z"
   },
   {
    "duration": 12,
    "start_time": "2021-10-22T20:02:48.509Z"
   },
   {
    "duration": 14,
    "start_time": "2021-10-22T20:03:15.225Z"
   },
   {
    "duration": 13,
    "start_time": "2021-10-22T20:03:26.794Z"
   },
   {
    "duration": 17,
    "start_time": "2021-10-22T20:03:29.330Z"
   },
   {
    "duration": 277,
    "start_time": "2021-10-22T20:04:05.553Z"
   },
   {
    "duration": 17,
    "start_time": "2021-10-22T20:04:15.285Z"
   },
   {
    "duration": 226,
    "start_time": "2021-10-22T20:04:27.884Z"
   },
   {
    "duration": 261,
    "start_time": "2021-10-22T20:04:54.270Z"
   },
   {
    "duration": 14,
    "start_time": "2021-10-22T20:06:22.411Z"
   },
   {
    "duration": 19,
    "start_time": "2021-10-22T20:06:32.167Z"
   },
   {
    "duration": 472,
    "start_time": "2021-10-22T20:07:00.874Z"
   },
   {
    "duration": 34,
    "start_time": "2021-10-22T20:07:05.817Z"
   },
   {
    "duration": 21,
    "start_time": "2021-10-22T20:07:15.890Z"
   },
   {
    "duration": 292,
    "start_time": "2021-10-22T20:07:51.245Z"
   },
   {
    "duration": 308,
    "start_time": "2021-10-22T20:08:00.588Z"
   },
   {
    "duration": 21,
    "start_time": "2021-10-22T20:08:10.540Z"
   },
   {
    "duration": 288,
    "start_time": "2021-10-22T20:08:36.046Z"
   },
   {
    "duration": 316,
    "start_time": "2021-10-22T20:08:49.884Z"
   },
   {
    "duration": 20,
    "start_time": "2021-10-22T20:08:54.533Z"
   },
   {
    "duration": 751,
    "start_time": "2021-10-22T20:10:21.704Z"
   },
   {
    "duration": 494,
    "start_time": "2021-10-22T20:10:31.578Z"
   },
   {
    "duration": 297,
    "start_time": "2021-10-22T20:13:42.648Z"
   },
   {
    "duration": 21,
    "start_time": "2021-10-22T20:13:57.257Z"
   },
   {
    "duration": 326,
    "start_time": "2021-10-22T20:14:09.850Z"
   },
   {
    "duration": 297,
    "start_time": "2021-10-22T20:14:14.867Z"
   },
   {
    "duration": 334,
    "start_time": "2021-10-22T20:14:31.544Z"
   },
   {
    "duration": 14,
    "start_time": "2021-10-22T20:15:55.702Z"
   },
   {
    "duration": 895,
    "start_time": "2021-10-22T20:16:11.623Z"
   },
   {
    "duration": 13,
    "start_time": "2021-10-22T20:16:24.318Z"
   },
   {
    "duration": 22,
    "start_time": "2021-10-22T20:19:10.585Z"
   },
   {
    "duration": 301,
    "start_time": "2021-10-22T20:19:34.395Z"
   },
   {
    "duration": 21,
    "start_time": "2021-10-22T20:20:42.315Z"
   },
   {
    "duration": 578,
    "start_time": "2021-10-22T20:21:56.850Z"
   },
   {
    "duration": 298,
    "start_time": "2021-10-22T20:29:05.271Z"
   },
   {
    "duration": 352,
    "start_time": "2021-10-22T20:29:15.247Z"
   },
   {
    "duration": 85,
    "start_time": "2021-10-22T20:29:25.453Z"
   },
   {
    "duration": 263,
    "start_time": "2021-10-22T20:29:28.153Z"
   },
   {
    "duration": 12,
    "start_time": "2021-10-22T20:29:33.119Z"
   },
   {
    "duration": 15,
    "start_time": "2021-10-22T20:29:45.518Z"
   },
   {
    "duration": 363,
    "start_time": "2021-10-22T20:30:07.942Z"
   },
   {
    "duration": 567,
    "start_time": "2021-10-22T20:31:19.650Z"
   },
   {
    "duration": 364,
    "start_time": "2021-10-22T20:34:09.951Z"
   },
   {
    "duration": 534,
    "start_time": "2021-10-22T20:34:21.825Z"
   },
   {
    "duration": 301,
    "start_time": "2021-10-22T20:34:46.913Z"
   },
   {
    "duration": 13,
    "start_time": "2021-10-22T20:35:04.246Z"
   },
   {
    "duration": 612,
    "start_time": "2021-10-22T20:35:37.218Z"
   },
   {
    "duration": 551,
    "start_time": "2021-10-22T20:36:56.880Z"
   },
   {
    "duration": 558,
    "start_time": "2021-10-22T20:38:55.235Z"
   },
   {
    "duration": 548,
    "start_time": "2021-10-22T20:38:58.430Z"
   },
   {
    "duration": 511,
    "start_time": "2021-10-22T20:39:14.163Z"
   },
   {
    "duration": 488,
    "start_time": "2021-10-22T20:40:08.647Z"
   },
   {
    "duration": 528,
    "start_time": "2021-10-22T20:40:21.007Z"
   },
   {
    "duration": 489,
    "start_time": "2021-10-22T20:41:20.226Z"
   },
   {
    "duration": 483,
    "start_time": "2021-10-22T20:41:38.798Z"
   },
   {
    "duration": 12,
    "start_time": "2021-10-22T20:41:42.240Z"
   },
   {
    "duration": 5,
    "start_time": "2021-10-22T20:42:24.859Z"
   },
   {
    "duration": 14,
    "start_time": "2021-10-22T20:42:30.114Z"
   },
   {
    "duration": 16,
    "start_time": "2021-10-22T20:42:45.858Z"
   },
   {
    "duration": 15,
    "start_time": "2021-10-22T20:43:03.647Z"
   },
   {
    "duration": 15,
    "start_time": "2021-10-22T20:43:14.289Z"
   },
   {
    "duration": 16,
    "start_time": "2021-10-22T20:43:23.399Z"
   },
   {
    "duration": 8316,
    "start_time": "2021-10-23T08:39:54.128Z"
   },
   {
    "duration": 438,
    "start_time": "2021-10-23T08:40:02.446Z"
   },
   {
    "duration": 429,
    "start_time": "2021-10-23T08:40:02.886Z"
   },
   {
    "duration": 3,
    "start_time": "2021-10-23T08:40:03.317Z"
   },
   {
    "duration": 22,
    "start_time": "2021-10-23T08:40:03.321Z"
   },
   {
    "duration": 5,
    "start_time": "2021-10-23T08:40:03.344Z"
   },
   {
    "duration": 12,
    "start_time": "2021-10-23T08:40:03.351Z"
   },
   {
    "duration": 8,
    "start_time": "2021-10-23T08:40:03.365Z"
   },
   {
    "duration": 466,
    "start_time": "2021-10-23T08:40:03.375Z"
   },
   {
    "duration": 6,
    "start_time": "2021-10-23T08:40:03.843Z"
   },
   {
    "duration": 66,
    "start_time": "2021-10-23T08:40:03.851Z"
   },
   {
    "duration": 12,
    "start_time": "2021-10-23T08:40:03.919Z"
   },
   {
    "duration": 17,
    "start_time": "2021-10-23T08:40:03.932Z"
   },
   {
    "duration": 6,
    "start_time": "2021-10-23T08:40:03.951Z"
   },
   {
    "duration": 90,
    "start_time": "2021-10-23T08:40:03.959Z"
   },
   {
    "duration": 3,
    "start_time": "2021-10-23T08:40:04.050Z"
   },
   {
    "duration": 26,
    "start_time": "2021-10-23T08:40:04.055Z"
   },
   {
    "duration": 30,
    "start_time": "2021-10-23T08:40:04.091Z"
   },
   {
    "duration": 25,
    "start_time": "2021-10-23T08:40:04.122Z"
   },
   {
    "duration": 73,
    "start_time": "2021-10-23T08:40:04.148Z"
   },
   {
    "duration": 23,
    "start_time": "2021-10-23T08:40:04.222Z"
   },
   {
    "duration": 18,
    "start_time": "2021-10-23T08:40:04.246Z"
   },
   {
    "duration": 41,
    "start_time": "2021-10-23T08:40:04.268Z"
   },
   {
    "duration": 7,
    "start_time": "2021-10-23T08:40:04.310Z"
   },
   {
    "duration": 193,
    "start_time": "2021-10-23T08:40:04.319Z"
   },
   {
    "duration": 7,
    "start_time": "2021-10-23T08:40:04.514Z"
   },
   {
    "duration": 5,
    "start_time": "2021-10-23T08:40:04.523Z"
   },
   {
    "duration": 21,
    "start_time": "2021-10-23T08:40:04.530Z"
   },
   {
    "duration": 38,
    "start_time": "2021-10-23T08:40:04.553Z"
   },
   {
    "duration": 20,
    "start_time": "2021-10-23T08:40:04.593Z"
   },
   {
    "duration": 26,
    "start_time": "2021-10-23T08:40:04.615Z"
   },
   {
    "duration": 98,
    "start_time": "2021-10-23T08:40:04.642Z"
   },
   {
    "duration": 17,
    "start_time": "2021-10-23T08:40:04.742Z"
   },
   {
    "duration": 203,
    "start_time": "2021-10-23T08:40:04.760Z"
   },
   {
    "duration": 8,
    "start_time": "2021-10-23T08:40:04.964Z"
   },
   {
    "duration": 18,
    "start_time": "2021-10-23T08:40:04.974Z"
   },
   {
    "duration": 24,
    "start_time": "2021-10-23T08:40:04.993Z"
   },
   {
    "duration": 24,
    "start_time": "2021-10-23T08:40:05.018Z"
   },
   {
    "duration": 31,
    "start_time": "2021-10-23T08:40:05.044Z"
   },
   {
    "duration": 32,
    "start_time": "2021-10-23T08:40:05.077Z"
   },
   {
    "duration": 31,
    "start_time": "2021-10-23T08:40:05.111Z"
   },
   {
    "duration": 48,
    "start_time": "2021-10-23T08:40:05.144Z"
   },
   {
    "duration": 12,
    "start_time": "2021-10-23T08:40:05.194Z"
   },
   {
    "duration": 13,
    "start_time": "2021-10-23T08:40:05.208Z"
   },
   {
    "duration": 185,
    "start_time": "2021-10-23T08:40:05.223Z"
   },
   {
    "duration": 8,
    "start_time": "2021-10-23T08:40:05.409Z"
   },
   {
    "duration": 7,
    "start_time": "2021-10-23T08:40:05.420Z"
   },
   {
    "duration": 20,
    "start_time": "2021-10-23T08:40:05.428Z"
   },
   {
    "duration": 108,
    "start_time": "2021-10-23T08:40:05.450Z"
   },
   {
    "duration": 7,
    "start_time": "2021-10-23T08:40:05.559Z"
   },
   {
    "duration": 62,
    "start_time": "2021-10-23T08:40:05.568Z"
   },
   {
    "duration": 7,
    "start_time": "2021-10-23T08:40:05.632Z"
   },
   {
    "duration": 69,
    "start_time": "2021-10-23T08:40:05.641Z"
   },
   {
    "duration": 6,
    "start_time": "2021-10-23T08:40:05.712Z"
   },
   {
    "duration": 17,
    "start_time": "2021-10-23T08:40:05.720Z"
   },
   {
    "duration": 10,
    "start_time": "2021-10-23T08:40:05.738Z"
   },
   {
    "duration": 15,
    "start_time": "2021-10-23T08:40:05.749Z"
   },
   {
    "duration": 30,
    "start_time": "2021-10-23T08:40:05.765Z"
   },
   {
    "duration": 308,
    "start_time": "2021-10-23T08:40:05.796Z"
   },
   {
    "duration": 10,
    "start_time": "2021-10-23T08:40:06.105Z"
   },
   {
    "duration": 11,
    "start_time": "2021-10-23T08:41:04.510Z"
   },
   {
    "duration": 10,
    "start_time": "2021-10-23T08:41:09.602Z"
   },
   {
    "duration": 5,
    "start_time": "2021-10-23T08:41:19.641Z"
   },
   {
    "duration": 56,
    "start_time": "2021-10-23T08:42:01.685Z"
   },
   {
    "duration": 59,
    "start_time": "2021-10-23T08:42:05.664Z"
   },
   {
    "duration": 11,
    "start_time": "2021-10-23T08:42:08.285Z"
   },
   {
    "duration": 5,
    "start_time": "2021-10-23T08:42:15.237Z"
   },
   {
    "duration": 10,
    "start_time": "2021-10-23T08:44:17.018Z"
   },
   {
    "duration": 11,
    "start_time": "2021-10-23T08:44:22.626Z"
   },
   {
    "duration": 65,
    "start_time": "2021-10-23T08:45:57.169Z"
   },
   {
    "duration": 14,
    "start_time": "2021-10-23T08:46:00.690Z"
   },
   {
    "duration": 28,
    "start_time": "2021-10-23T08:46:22.853Z"
   },
   {
    "duration": 26,
    "start_time": "2021-10-23T08:46:39.441Z"
   },
   {
    "duration": 31,
    "start_time": "2021-10-23T08:46:50.947Z"
   },
   {
    "duration": 43,
    "start_time": "2021-10-23T08:47:09.914Z"
   },
   {
    "duration": 2129,
    "start_time": "2021-10-23T08:51:35.370Z"
   },
   {
    "duration": 2404,
    "start_time": "2021-10-23T08:52:00.070Z"
   },
   {
    "duration": 41,
    "start_time": "2021-10-23T08:52:17.207Z"
   },
   {
    "duration": 2065,
    "start_time": "2021-10-23T08:52:25.904Z"
   },
   {
    "duration": 405,
    "start_time": "2021-10-23T08:52:43.861Z"
   },
   {
    "duration": 429,
    "start_time": "2021-10-23T08:53:27.783Z"
   },
   {
    "duration": 2373,
    "start_time": "2021-10-23T08:53:56.671Z"
   },
   {
    "duration": 2703,
    "start_time": "2021-10-23T08:54:02.316Z"
   },
   {
    "duration": 202,
    "start_time": "2021-10-23T08:54:06.232Z"
   },
   {
    "duration": 413,
    "start_time": "2021-10-23T08:54:24.903Z"
   },
   {
    "duration": 369,
    "start_time": "2021-10-23T08:54:35.364Z"
   },
   {
    "duration": 336,
    "start_time": "2021-10-23T08:54:47.834Z"
   },
   {
    "duration": 2475,
    "start_time": "2021-10-23T08:55:51.228Z"
   },
   {
    "duration": 349,
    "start_time": "2021-10-23T08:56:02.117Z"
   },
   {
    "duration": 202,
    "start_time": "2021-10-23T08:56:17.481Z"
   },
   {
    "duration": 2104,
    "start_time": "2021-10-23T08:56:26.670Z"
   },
   {
    "duration": 62,
    "start_time": "2021-10-23T08:56:37.138Z"
   },
   {
    "duration": 204,
    "start_time": "2021-10-23T08:56:39.946Z"
   },
   {
    "duration": 332,
    "start_time": "2021-10-23T08:56:46.460Z"
   },
   {
    "duration": 343,
    "start_time": "2021-10-23T08:57:04.467Z"
   },
   {
    "duration": 100,
    "start_time": "2021-10-23T08:58:01.008Z"
   },
   {
    "duration": 2111,
    "start_time": "2021-10-23T09:00:56.365Z"
   },
   {
    "duration": 173,
    "start_time": "2021-10-23T09:01:05.497Z"
   },
   {
    "duration": 28,
    "start_time": "2021-10-23T09:01:09.166Z"
   },
   {
    "duration": 166,
    "start_time": "2021-10-23T09:01:09.590Z"
   },
   {
    "duration": 59,
    "start_time": "2021-10-23T09:02:27.753Z"
   },
   {
    "duration": 2155,
    "start_time": "2021-10-23T09:02:40.738Z"
   },
   {
    "duration": 158,
    "start_time": "2021-10-23T09:02:55.516Z"
   },
   {
    "duration": 10,
    "start_time": "2021-10-23T09:03:07.317Z"
   },
   {
    "duration": 432,
    "start_time": "2021-10-23T09:05:12.923Z"
   },
   {
    "duration": 316,
    "start_time": "2021-10-23T09:05:17.704Z"
   },
   {
    "duration": 328,
    "start_time": "2021-10-23T09:05:25.347Z"
   },
   {
    "duration": 330,
    "start_time": "2021-10-23T09:05:35.010Z"
   },
   {
    "duration": 6,
    "start_time": "2021-10-23T09:20:30.919Z"
   },
   {
    "duration": 34,
    "start_time": "2021-10-23T09:26:42.042Z"
   },
   {
    "duration": 331,
    "start_time": "2021-10-23T09:26:54.048Z"
   },
   {
    "duration": 315,
    "start_time": "2021-10-23T09:27:04.452Z"
   },
   {
    "duration": 5,
    "start_time": "2021-10-23T09:27:33.710Z"
   },
   {
    "duration": 5,
    "start_time": "2021-10-23T09:27:49.158Z"
   },
   {
    "duration": 6,
    "start_time": "2021-10-23T09:28:23.520Z"
   },
   {
    "duration": 2191,
    "start_time": "2021-10-23T09:28:38.652Z"
   },
   {
    "duration": 6,
    "start_time": "2021-10-23T09:28:41.172Z"
   },
   {
    "duration": 6,
    "start_time": "2021-10-23T09:28:45.783Z"
   },
   {
    "duration": 8,
    "start_time": "2021-10-23T09:29:17.554Z"
   },
   {
    "duration": 3,
    "start_time": "2021-10-23T09:33:56.824Z"
   },
   {
    "duration": 63,
    "start_time": "2021-10-23T09:34:02.435Z"
   },
   {
    "duration": 59,
    "start_time": "2021-10-23T09:43:18.692Z"
   },
   {
    "duration": 10,
    "start_time": "2021-10-23T09:43:22.665Z"
   },
   {
    "duration": 8,
    "start_time": "2021-10-23T09:44:10.321Z"
   },
   {
    "duration": 10,
    "start_time": "2021-10-23T09:44:19.783Z"
   },
   {
    "duration": 71,
    "start_time": "2021-10-23T09:45:17.656Z"
   },
   {
    "duration": 60,
    "start_time": "2021-10-23T09:45:26.779Z"
   },
   {
    "duration": 4,
    "start_time": "2021-10-23T09:45:29.644Z"
   },
   {
    "duration": 11,
    "start_time": "2021-10-23T09:45:34.868Z"
   },
   {
    "duration": 10,
    "start_time": "2021-10-23T09:45:41.934Z"
   },
   {
    "duration": 10,
    "start_time": "2021-10-23T09:45:51.176Z"
   },
   {
    "duration": 30,
    "start_time": "2021-10-23T09:46:37.310Z"
   },
   {
    "duration": 9,
    "start_time": "2021-10-23T09:46:43.307Z"
   },
   {
    "duration": 1089,
    "start_time": "2021-10-23T09:46:44.256Z"
   },
   {
    "duration": 10,
    "start_time": "2021-10-23T09:46:51.640Z"
   },
   {
    "duration": 204,
    "start_time": "2021-10-23T09:52:21.453Z"
   },
   {
    "duration": 59,
    "start_time": "2021-10-23T09:52:31.024Z"
   },
   {
    "duration": 55,
    "start_time": "2021-10-23T09:52:36.066Z"
   },
   {
    "duration": 215,
    "start_time": "2021-10-23T09:52:51.392Z"
   },
   {
    "duration": 330,
    "start_time": "2021-10-23T09:53:02.647Z"
   },
   {
    "duration": 204,
    "start_time": "2021-10-23T09:53:12.387Z"
   },
   {
    "duration": 123,
    "start_time": "2021-10-23T10:07:20.692Z"
   },
   {
    "duration": 231,
    "start_time": "2021-10-23T10:07:21.717Z"
   },
   {
    "duration": 232,
    "start_time": "2021-10-23T10:07:22.714Z"
   },
   {
    "duration": 10,
    "start_time": "2021-10-23T10:07:23.539Z"
   },
   {
    "duration": 11,
    "start_time": "2021-10-23T10:07:40.684Z"
   },
   {
    "duration": 27,
    "start_time": "2021-10-23T10:28:58.897Z"
   },
   {
    "duration": 2520,
    "start_time": "2021-10-23T10:29:00.649Z"
   },
   {
    "duration": 30,
    "start_time": "2021-10-23T10:29:40.671Z"
   },
   {
    "duration": 29,
    "start_time": "2021-10-23T10:29:53.794Z"
   },
   {
    "duration": 30,
    "start_time": "2021-10-23T10:30:48.333Z"
   },
   {
    "duration": 64,
    "start_time": "2021-10-23T10:32:05.769Z"
   },
   {
    "duration": 29,
    "start_time": "2021-10-23T10:33:46.681Z"
   },
   {
    "duration": 55,
    "start_time": "2021-10-23T10:34:04.446Z"
   },
   {
    "duration": 171,
    "start_time": "2021-10-23T10:34:07.194Z"
   },
   {
    "duration": 28,
    "start_time": "2021-10-23T10:34:12.649Z"
   },
   {
    "duration": 30,
    "start_time": "2021-10-23T10:35:55.673Z"
   },
   {
    "duration": 30,
    "start_time": "2021-10-23T10:36:52.900Z"
   },
   {
    "duration": 54,
    "start_time": "2021-10-23T10:37:25.216Z"
   },
   {
    "duration": 55,
    "start_time": "2021-10-23T10:37:28.999Z"
   },
   {
    "duration": 30,
    "start_time": "2021-10-23T12:04:01.210Z"
   },
   {
    "duration": 8,
    "start_time": "2021-10-23T12:04:03.648Z"
   },
   {
    "duration": 202,
    "start_time": "2021-10-23T12:04:20.644Z"
   },
   {
    "duration": 62,
    "start_time": "2021-10-23T12:11:32.337Z"
   },
   {
    "duration": 29,
    "start_time": "2021-10-23T12:13:22.357Z"
   },
   {
    "duration": 29,
    "start_time": "2021-10-23T12:13:29.322Z"
   },
   {
    "duration": 209,
    "start_time": "2021-10-23T12:13:30.884Z"
   },
   {
    "duration": 209,
    "start_time": "2021-10-23T12:13:32.065Z"
   },
   {
    "duration": 9,
    "start_time": "2021-10-23T12:13:32.542Z"
   },
   {
    "duration": 10,
    "start_time": "2021-10-23T12:13:33.120Z"
   },
   {
    "duration": 39,
    "start_time": "2021-10-23T12:14:43.003Z"
   },
   {
    "duration": 9,
    "start_time": "2021-10-23T12:14:50.773Z"
   },
   {
    "duration": 219,
    "start_time": "2021-10-23T12:15:10.123Z"
   },
   {
    "duration": 222,
    "start_time": "2021-10-23T12:15:13.734Z"
   },
   {
    "duration": 31,
    "start_time": "2021-10-23T12:16:02.363Z"
   },
   {
    "duration": 206,
    "start_time": "2021-10-23T12:16:02.681Z"
   },
   {
    "duration": 213,
    "start_time": "2021-10-23T12:16:03.517Z"
   },
   {
    "duration": 29,
    "start_time": "2021-10-23T12:16:32.006Z"
   },
   {
    "duration": 223,
    "start_time": "2021-10-23T12:16:32.349Z"
   },
   {
    "duration": 283,
    "start_time": "2021-10-23T12:16:33.746Z"
   },
   {
    "duration": 31,
    "start_time": "2021-10-23T12:17:04.625Z"
   },
   {
    "duration": 207,
    "start_time": "2021-10-23T12:17:05.265Z"
   },
   {
    "duration": 204,
    "start_time": "2021-10-23T12:17:05.723Z"
   },
   {
    "duration": 9,
    "start_time": "2021-10-23T12:17:12.301Z"
   },
   {
    "duration": 9,
    "start_time": "2021-10-23T12:17:37.521Z"
   },
   {
    "duration": 200,
    "start_time": "2021-10-23T12:18:31.723Z"
   },
   {
    "duration": 213,
    "start_time": "2021-10-23T12:18:39.703Z"
   },
   {
    "duration": 198,
    "start_time": "2021-10-23T12:18:54.569Z"
   },
   {
    "duration": 228,
    "start_time": "2021-10-23T12:19:17.288Z"
   },
   {
    "duration": 218,
    "start_time": "2021-10-23T12:19:28.700Z"
   },
   {
    "duration": 217,
    "start_time": "2021-10-23T12:19:35.670Z"
   },
   {
    "duration": 217,
    "start_time": "2021-10-23T12:19:39.416Z"
   },
   {
    "duration": 10,
    "start_time": "2021-10-23T12:21:38.218Z"
   },
   {
    "duration": 11,
    "start_time": "2021-10-23T12:22:32.686Z"
   },
   {
    "duration": 11,
    "start_time": "2021-10-23T12:23:10.982Z"
   },
   {
    "duration": 8,
    "start_time": "2021-10-23T12:31:53.155Z"
   },
   {
    "duration": 18,
    "start_time": "2021-10-23T12:31:57.989Z"
   },
   {
    "duration": 7,
    "start_time": "2021-10-23T12:31:58.274Z"
   },
   {
    "duration": 18,
    "start_time": "2021-10-23T12:33:50.123Z"
   },
   {
    "duration": 21,
    "start_time": "2021-10-23T12:33:52.187Z"
   },
   {
    "duration": 12,
    "start_time": "2021-10-23T12:33:53.064Z"
   },
   {
    "duration": 13,
    "start_time": "2021-10-23T12:33:53.873Z"
   },
   {
    "duration": 23,
    "start_time": "2021-10-23T12:34:14.680Z"
   },
   {
    "duration": 12,
    "start_time": "2021-10-23T12:34:14.969Z"
   },
   {
    "duration": 12,
    "start_time": "2021-10-23T12:34:15.232Z"
   },
   {
    "duration": 8,
    "start_time": "2021-10-23T12:34:15.528Z"
   },
   {
    "duration": 1910,
    "start_time": "2021-10-23T12:34:21.436Z"
   },
   {
    "duration": 3,
    "start_time": "2021-10-23T12:34:23.349Z"
   },
   {
    "duration": 449,
    "start_time": "2021-10-23T12:34:23.353Z"
   },
   {
    "duration": 3,
    "start_time": "2021-10-23T12:34:23.804Z"
   },
   {
    "duration": 70,
    "start_time": "2021-10-23T12:34:23.809Z"
   },
   {
    "duration": 18,
    "start_time": "2021-10-23T12:34:23.880Z"
   },
   {
    "duration": 5,
    "start_time": "2021-10-23T12:34:24.317Z"
   },
   {
    "duration": 11,
    "start_time": "2021-10-23T12:34:24.469Z"
   },
   {
    "duration": 7,
    "start_time": "2021-10-23T12:34:24.617Z"
   },
   {
    "duration": 13,
    "start_time": "2021-10-23T12:34:24.715Z"
   },
   {
    "duration": 8,
    "start_time": "2021-10-23T12:34:24.865Z"
   },
   {
    "duration": 6,
    "start_time": "2021-10-23T12:34:25.383Z"
   },
   {
    "duration": 14,
    "start_time": "2021-10-23T12:34:25.440Z"
   },
   {
    "duration": 15,
    "start_time": "2021-10-23T12:34:25.632Z"
   },
   {
    "duration": 9,
    "start_time": "2021-10-23T12:34:26.706Z"
   },
   {
    "duration": 61,
    "start_time": "2021-10-23T12:34:27.151Z"
   },
   {
    "duration": 4,
    "start_time": "2021-10-23T12:34:27.894Z"
   },
   {
    "duration": 24,
    "start_time": "2021-10-23T12:34:27.955Z"
   },
   {
    "duration": 37,
    "start_time": "2021-10-23T12:34:28.103Z"
   },
   {
    "duration": 27,
    "start_time": "2021-10-23T12:34:28.204Z"
   },
   {
    "duration": 49,
    "start_time": "2021-10-23T12:34:28.991Z"
   },
   {
    "duration": 26,
    "start_time": "2021-10-23T12:34:29.427Z"
   },
   {
    "duration": 17,
    "start_time": "2021-10-23T12:34:29.717Z"
   },
   {
    "duration": 20,
    "start_time": "2021-10-23T12:34:29.855Z"
   },
   {
    "duration": 8,
    "start_time": "2021-10-23T12:34:30.051Z"
   },
   {
    "duration": 733,
    "start_time": "2021-10-23T12:34:30.160Z"
   },
   {
    "duration": 8,
    "start_time": "2021-10-23T12:34:33.330Z"
   },
   {
    "duration": 4,
    "start_time": "2021-10-23T12:34:34.062Z"
   },
   {
    "duration": 18,
    "start_time": "2021-10-23T12:34:34.122Z"
   },
   {
    "duration": 18,
    "start_time": "2021-10-23T12:34:34.264Z"
   },
   {
    "duration": 21,
    "start_time": "2021-10-23T12:34:34.365Z"
   },
   {
    "duration": 36,
    "start_time": "2021-10-23T12:34:34.471Z"
   },
   {
    "duration": 91,
    "start_time": "2021-10-23T12:34:34.573Z"
   },
   {
    "duration": 31,
    "start_time": "2021-10-23T12:34:34.665Z"
   },
   {
    "duration": 622,
    "start_time": "2021-10-23T12:34:34.699Z"
   },
   {
    "duration": 8,
    "start_time": "2021-10-23T12:34:35.323Z"
   },
   {
    "duration": 9,
    "start_time": "2021-10-23T12:34:35.333Z"
   },
   {
    "duration": 8,
    "start_time": "2021-10-23T12:34:35.344Z"
   },
   {
    "duration": 27,
    "start_time": "2021-10-23T12:34:35.497Z"
   },
   {
    "duration": 21,
    "start_time": "2021-10-23T12:34:36.308Z"
   },
   {
    "duration": 21,
    "start_time": "2021-10-23T12:34:36.650Z"
   },
   {
    "duration": 22,
    "start_time": "2021-10-23T12:34:36.963Z"
   },
   {
    "duration": 36,
    "start_time": "2021-10-23T12:34:37.431Z"
   },
   {
    "duration": 22,
    "start_time": "2021-10-23T12:34:38.786Z"
   },
   {
    "duration": 17,
    "start_time": "2021-10-23T12:34:39.356Z"
   },
   {
    "duration": 552,
    "start_time": "2021-10-23T12:34:39.552Z"
   },
   {
    "duration": 8,
    "start_time": "2021-10-23T12:34:40.161Z"
   },
   {
    "duration": 5,
    "start_time": "2021-10-23T12:34:40.478Z"
   },
   {
    "duration": 9,
    "start_time": "2021-10-23T12:34:40.644Z"
   },
   {
    "duration": 1058,
    "start_time": "2021-10-23T12:34:41.819Z"
   },
   {
    "duration": 7,
    "start_time": "2021-10-23T12:34:42.878Z"
   },
   {
    "duration": 653,
    "start_time": "2021-10-23T12:34:44.150Z"
   },
   {
    "duration": 7,
    "start_time": "2021-10-23T12:34:44.805Z"
   },
   {
    "duration": 835,
    "start_time": "2021-10-23T12:34:45.576Z"
   },
   {
    "duration": 6,
    "start_time": "2021-10-23T12:34:46.413Z"
   },
   {
    "duration": 16,
    "start_time": "2021-10-23T12:34:47.545Z"
   },
   {
    "duration": 11,
    "start_time": "2021-10-23T12:34:47.716Z"
   },
   {
    "duration": 13,
    "start_time": "2021-10-23T12:34:50.437Z"
   },
   {
    "duration": 8,
    "start_time": "2021-10-23T12:34:50.904Z"
   },
   {
    "duration": 186,
    "start_time": "2021-10-23T12:35:19.175Z"
   },
   {
    "duration": 225,
    "start_time": "2021-10-23T12:35:28.613Z"
   },
   {
    "duration": 20,
    "start_time": "2021-10-23T12:38:20.684Z"
   },
   {
    "duration": 18,
    "start_time": "2021-10-23T12:39:05.843Z"
   },
   {
    "duration": 12,
    "start_time": "2021-10-23T12:39:06.235Z"
   },
   {
    "duration": 12,
    "start_time": "2021-10-23T12:39:06.970Z"
   },
   {
    "duration": 8,
    "start_time": "2021-10-23T12:39:07.580Z"
   },
   {
    "duration": 5,
    "start_time": "2021-10-23T12:42:05.333Z"
   },
   {
    "duration": 7,
    "start_time": "2021-10-23T12:42:07.502Z"
   },
   {
    "duration": 15,
    "start_time": "2021-10-23T12:42:58.738Z"
   },
   {
    "duration": 5,
    "start_time": "2021-10-23T12:43:04.430Z"
   },
   {
    "duration": 36,
    "start_time": "2021-10-23T12:50:52.968Z"
   },
   {
    "duration": 7,
    "start_time": "2021-10-23T12:50:53.733Z"
   },
   {
    "duration": 33,
    "start_time": "2021-10-23T12:51:56.429Z"
   },
   {
    "duration": 8,
    "start_time": "2021-10-23T12:51:57.796Z"
   },
   {
    "duration": 36,
    "start_time": "2021-10-23T12:53:28.310Z"
   },
   {
    "duration": 178,
    "start_time": "2021-10-23T12:54:21.660Z"
   },
   {
    "duration": 164,
    "start_time": "2021-10-23T12:54:26.271Z"
   },
   {
    "duration": 411,
    "start_time": "2021-10-23T12:54:32.945Z"
   },
   {
    "duration": 19,
    "start_time": "2021-10-23T12:56:10.502Z"
   },
   {
    "duration": 183,
    "start_time": "2021-10-23T12:56:16.607Z"
   },
   {
    "duration": 174,
    "start_time": "2021-10-23T12:56:22.770Z"
   },
   {
    "duration": 179,
    "start_time": "2021-10-23T12:56:54.807Z"
   },
   {
    "duration": 180,
    "start_time": "2021-10-23T12:57:03.845Z"
   },
   {
    "duration": 173,
    "start_time": "2021-10-23T12:57:10.052Z"
   },
   {
    "duration": 172,
    "start_time": "2021-10-23T12:57:14.830Z"
   },
   {
    "duration": 183,
    "start_time": "2021-10-23T12:57:18.269Z"
   },
   {
    "duration": 153,
    "start_time": "2021-10-23T12:57:21.367Z"
   },
   {
    "duration": 5387,
    "start_time": "2021-10-23T12:57:24.578Z"
   },
   {
    "duration": 173,
    "start_time": "2021-10-23T12:57:32.249Z"
   },
   {
    "duration": 176,
    "start_time": "2021-10-23T12:57:37.798Z"
   },
   {
    "duration": 191,
    "start_time": "2021-10-23T12:58:29.352Z"
   },
   {
    "duration": 433,
    "start_time": "2021-10-23T12:58:32.444Z"
   },
   {
    "duration": 177,
    "start_time": "2021-10-23T12:59:55.026Z"
   },
   {
    "duration": 192,
    "start_time": "2021-10-23T13:00:00.078Z"
   },
   {
    "duration": 179,
    "start_time": "2021-10-23T13:00:11.677Z"
   },
   {
    "duration": 61,
    "start_time": "2021-10-23T13:01:03.273Z"
   },
   {
    "duration": 366,
    "start_time": "2021-10-23T13:01:07.796Z"
   },
   {
    "duration": 183,
    "start_time": "2021-10-23T13:01:56.245Z"
   },
   {
    "duration": 182,
    "start_time": "2021-10-23T13:01:59.741Z"
   },
   {
    "duration": 187,
    "start_time": "2021-10-23T13:02:07.041Z"
   },
   {
    "duration": 193,
    "start_time": "2021-10-23T13:02:15.487Z"
   },
   {
    "duration": 212,
    "start_time": "2021-10-23T13:02:20.048Z"
   },
   {
    "duration": 190,
    "start_time": "2021-10-23T13:02:28.275Z"
   },
   {
    "duration": 271,
    "start_time": "2021-10-23T13:02:32.962Z"
   },
   {
    "duration": 190,
    "start_time": "2021-10-23T13:02:50.452Z"
   },
   {
    "duration": 186,
    "start_time": "2021-10-23T13:03:05.777Z"
   },
   {
    "duration": 189,
    "start_time": "2021-10-23T13:03:17.189Z"
   },
   {
    "duration": 192,
    "start_time": "2021-10-23T13:03:18.234Z"
   },
   {
    "duration": 190,
    "start_time": "2021-10-23T13:03:53.565Z"
   },
   {
    "duration": 194,
    "start_time": "2021-10-23T13:03:56.411Z"
   },
   {
    "duration": 191,
    "start_time": "2021-10-23T13:04:00.065Z"
   },
   {
    "duration": 35,
    "start_time": "2021-10-23T13:05:04.627Z"
   },
   {
    "duration": 193,
    "start_time": "2021-10-23T13:05:58.233Z"
   },
   {
    "duration": 189,
    "start_time": "2021-10-23T13:06:02.377Z"
   },
   {
    "duration": 174,
    "start_time": "2021-10-23T13:06:07.445Z"
   },
   {
    "duration": 269,
    "start_time": "2021-10-23T13:06:41.051Z"
   },
   {
    "duration": 181,
    "start_time": "2021-10-23T13:06:54.791Z"
   },
   {
    "duration": 176,
    "start_time": "2021-10-23T13:07:10.329Z"
   },
   {
    "duration": 34,
    "start_time": "2021-10-23T13:07:35.304Z"
   },
   {
    "duration": 176,
    "start_time": "2021-10-23T13:08:21.535Z"
   },
   {
    "duration": 183,
    "start_time": "2021-10-23T13:08:32.756Z"
   },
   {
    "duration": 184,
    "start_time": "2021-10-23T13:08:47.495Z"
   },
   {
    "duration": 185,
    "start_time": "2021-10-23T13:08:48.089Z"
   },
   {
    "duration": 377,
    "start_time": "2021-10-23T13:13:31.018Z"
   },
   {
    "duration": 56,
    "start_time": "2021-10-23T13:14:05.735Z"
   },
   {
    "duration": 53,
    "start_time": "2021-10-23T13:14:10.588Z"
   },
   {
    "duration": 8,
    "start_time": "2021-10-23T13:14:13.802Z"
   },
   {
    "duration": 7,
    "start_time": "2021-10-23T13:14:39.482Z"
   },
   {
    "duration": 209,
    "start_time": "2021-10-23T13:15:01.200Z"
   },
   {
    "duration": 171,
    "start_time": "2021-10-23T13:15:04.355Z"
   },
   {
    "duration": 178,
    "start_time": "2021-10-23T13:18:10.071Z"
   },
   {
    "duration": 177,
    "start_time": "2021-10-23T13:18:33.121Z"
   },
   {
    "duration": 190,
    "start_time": "2021-10-23T13:19:40.175Z"
   },
   {
    "duration": 177,
    "start_time": "2021-10-23T13:21:07.881Z"
   },
   {
    "duration": 174,
    "start_time": "2021-10-23T13:21:11.823Z"
   },
   {
    "duration": 179,
    "start_time": "2021-10-23T13:22:02.901Z"
   },
   {
    "duration": 213,
    "start_time": "2021-10-23T13:22:10.769Z"
   },
   {
    "duration": 187,
    "start_time": "2021-10-23T13:22:18.020Z"
   },
   {
    "duration": 181,
    "start_time": "2021-10-23T13:22:20.665Z"
   },
   {
    "duration": 176,
    "start_time": "2021-10-23T13:23:39.797Z"
   },
   {
    "duration": 178,
    "start_time": "2021-10-23T13:26:17.779Z"
   },
   {
    "duration": 319,
    "start_time": "2021-10-23T13:27:54.643Z"
   },
   {
    "duration": 104,
    "start_time": "2021-10-23T13:28:04.620Z"
   },
   {
    "duration": 186,
    "start_time": "2021-10-23T13:28:07.579Z"
   },
   {
    "duration": 174,
    "start_time": "2021-10-23T13:29:23.674Z"
   },
   {
    "duration": 182,
    "start_time": "2021-10-23T13:32:24.944Z"
   },
   {
    "duration": 177,
    "start_time": "2021-10-23T13:32:27.592Z"
   },
   {
    "duration": 172,
    "start_time": "2021-10-23T13:32:29.824Z"
   },
   {
    "duration": 171,
    "start_time": "2021-10-23T13:33:38.027Z"
   },
   {
    "duration": 274,
    "start_time": "2021-10-23T13:35:02.011Z"
   },
   {
    "duration": 261,
    "start_time": "2021-10-23T13:35:18.937Z"
   },
   {
    "duration": 164,
    "start_time": "2021-10-23T13:37:52.372Z"
   },
   {
    "duration": 408,
    "start_time": "2021-10-24T14:33:28.382Z"
   },
   {
    "duration": 13089,
    "start_time": "2021-10-24T14:33:40.866Z"
   },
   {
    "duration": 1172,
    "start_time": "2021-10-24T14:33:53.958Z"
   },
   {
    "duration": 563,
    "start_time": "2021-10-24T14:33:55.133Z"
   },
   {
    "duration": 4,
    "start_time": "2021-10-24T14:33:55.699Z"
   },
   {
    "duration": 34,
    "start_time": "2021-10-24T14:33:55.705Z"
   },
   {
    "duration": 15,
    "start_time": "2021-10-24T14:33:55.741Z"
   },
   {
    "duration": 10,
    "start_time": "2021-10-24T14:33:55.759Z"
   },
   {
    "duration": 36,
    "start_time": "2021-10-24T14:33:55.773Z"
   },
   {
    "duration": 10,
    "start_time": "2021-10-24T14:33:55.812Z"
   },
   {
    "duration": 1123,
    "start_time": "2021-10-24T14:33:55.825Z"
   },
   {
    "duration": 10,
    "start_time": "2021-10-24T14:33:56.950Z"
   },
   {
    "duration": 9,
    "start_time": "2021-10-24T14:33:56.962Z"
   },
   {
    "duration": 19,
    "start_time": "2021-10-24T14:33:57.001Z"
   },
   {
    "duration": 23,
    "start_time": "2021-10-24T14:33:57.023Z"
   },
   {
    "duration": 11,
    "start_time": "2021-10-24T14:33:57.048Z"
   },
   {
    "duration": 128,
    "start_time": "2021-10-24T14:33:57.061Z"
   },
   {
    "duration": 5,
    "start_time": "2021-10-24T14:33:57.199Z"
   },
   {
    "duration": 36,
    "start_time": "2021-10-24T14:33:57.206Z"
   },
   {
    "duration": 65,
    "start_time": "2021-10-24T14:33:57.245Z"
   },
   {
    "duration": 40,
    "start_time": "2021-10-24T14:33:57.313Z"
   },
   {
    "duration": 97,
    "start_time": "2021-10-24T14:33:57.355Z"
   },
   {
    "duration": 30,
    "start_time": "2021-10-24T14:33:57.454Z"
   },
   {
    "duration": 26,
    "start_time": "2021-10-24T14:33:57.505Z"
   },
   {
    "duration": 29,
    "start_time": "2021-10-24T14:33:57.535Z"
   },
   {
    "duration": 36,
    "start_time": "2021-10-24T14:33:57.567Z"
   },
   {
    "duration": 320,
    "start_time": "2021-10-24T14:33:57.605Z"
   },
   {
    "duration": 10,
    "start_time": "2021-10-24T14:33:57.928Z"
   },
   {
    "duration": 4,
    "start_time": "2021-10-24T14:33:57.941Z"
   },
   {
    "duration": 30,
    "start_time": "2021-10-24T14:33:57.948Z"
   },
   {
    "duration": 28,
    "start_time": "2021-10-24T14:33:58.001Z"
   },
   {
    "duration": 30,
    "start_time": "2021-10-24T14:33:58.032Z"
   },
   {
    "duration": 70,
    "start_time": "2021-10-24T14:33:58.065Z"
   },
   {
    "duration": 163,
    "start_time": "2021-10-24T14:33:58.138Z"
   },
   {
    "duration": 26,
    "start_time": "2021-10-24T14:33:58.304Z"
   },
   {
    "duration": 320,
    "start_time": "2021-10-24T14:33:58.334Z"
   },
   {
    "duration": 14,
    "start_time": "2021-10-24T14:33:58.657Z"
   },
   {
    "duration": 34,
    "start_time": "2021-10-24T14:33:58.674Z"
   },
   {
    "duration": 17,
    "start_time": "2021-10-24T14:33:58.711Z"
   },
   {
    "duration": 31,
    "start_time": "2021-10-24T14:33:58.731Z"
   },
   {
    "duration": 59,
    "start_time": "2021-10-24T14:33:58.765Z"
   },
   {
    "duration": 35,
    "start_time": "2021-10-24T14:33:58.827Z"
   },
   {
    "duration": 60,
    "start_time": "2021-10-24T14:33:58.864Z"
   },
   {
    "duration": 94,
    "start_time": "2021-10-24T14:33:58.928Z"
   },
   {
    "duration": 19,
    "start_time": "2021-10-24T14:33:59.025Z"
   },
   {
    "duration": 19,
    "start_time": "2021-10-24T14:33:59.046Z"
   },
   {
    "duration": 309,
    "start_time": "2021-10-24T14:33:59.068Z"
   },
   {
    "duration": 21,
    "start_time": "2021-10-24T14:33:59.379Z"
   },
   {
    "duration": 7,
    "start_time": "2021-10-24T14:33:59.402Z"
   },
   {
    "duration": 15,
    "start_time": "2021-10-24T14:33:59.411Z"
   },
   {
    "duration": 172,
    "start_time": "2021-10-24T14:33:59.428Z"
   },
   {
    "duration": 11,
    "start_time": "2021-10-24T14:33:59.603Z"
   },
   {
    "duration": 104,
    "start_time": "2021-10-24T14:33:59.616Z"
   },
   {
    "duration": 10,
    "start_time": "2021-10-24T14:33:59.722Z"
   },
   {
    "duration": 104,
    "start_time": "2021-10-24T14:33:59.734Z"
   },
   {
    "duration": 10,
    "start_time": "2021-10-24T14:33:59.840Z"
   },
   {
    "duration": 48,
    "start_time": "2021-10-24T14:33:59.853Z"
   },
   {
    "duration": 18,
    "start_time": "2021-10-24T14:33:59.903Z"
   },
   {
    "duration": 567,
    "start_time": "2021-10-24T14:33:59.923Z"
   },
   {
    "duration": -386,
    "start_time": "2021-10-24T14:34:00.878Z"
   },
   {
    "duration": -390,
    "start_time": "2021-10-24T14:34:00.884Z"
   },
   {
    "duration": -393,
    "start_time": "2021-10-24T14:34:00.888Z"
   },
   {
    "duration": -395,
    "start_time": "2021-10-24T14:34:00.892Z"
   },
   {
    "duration": -399,
    "start_time": "2021-10-24T14:34:00.897Z"
   },
   {
    "duration": -402,
    "start_time": "2021-10-24T14:34:00.901Z"
   },
   {
    "duration": -405,
    "start_time": "2021-10-24T14:34:00.905Z"
   },
   {
    "duration": -408,
    "start_time": "2021-10-24T14:34:00.909Z"
   },
   {
    "duration": -410,
    "start_time": "2021-10-24T14:34:00.913Z"
   },
   {
    "duration": -413,
    "start_time": "2021-10-24T14:34:00.917Z"
   },
   {
    "duration": -416,
    "start_time": "2021-10-24T14:34:00.921Z"
   },
   {
    "duration": -420,
    "start_time": "2021-10-24T14:34:00.926Z"
   },
   {
    "duration": -424,
    "start_time": "2021-10-24T14:34:00.932Z"
   },
   {
    "duration": 19,
    "start_time": "2021-10-24T14:34:21.547Z"
   },
   {
    "duration": 24,
    "start_time": "2021-10-24T14:34:22.023Z"
   },
   {
    "duration": 8,
    "start_time": "2021-10-24T14:34:24.218Z"
   },
   {
    "duration": 7,
    "start_time": "2021-10-24T14:34:24.228Z"
   },
   {
    "duration": 62,
    "start_time": "2021-10-24T14:34:24.238Z"
   },
   {
    "duration": 659,
    "start_time": "2021-10-24T14:34:24.303Z"
   },
   {
    "duration": -477,
    "start_time": "2021-10-24T14:34:25.441Z"
   },
   {
    "duration": -480,
    "start_time": "2021-10-24T14:34:25.446Z"
   },
   {
    "duration": -485,
    "start_time": "2021-10-24T14:34:25.452Z"
   },
   {
    "duration": -488,
    "start_time": "2021-10-24T14:34:25.456Z"
   },
   {
    "duration": -492,
    "start_time": "2021-10-24T14:34:25.461Z"
   },
   {
    "duration": -495,
    "start_time": "2021-10-24T14:34:25.466Z"
   },
   {
    "duration": -499,
    "start_time": "2021-10-24T14:34:25.471Z"
   },
   {
    "duration": -503,
    "start_time": "2021-10-24T14:34:25.476Z"
   },
   {
    "duration": 4,
    "start_time": "2021-10-24T14:35:26.259Z"
   },
   {
    "duration": 151,
    "start_time": "2021-10-24T14:35:38.623Z"
   },
   {
    "duration": 314,
    "start_time": "2021-10-24T14:35:38.921Z"
   },
   {
    "duration": 318,
    "start_time": "2021-10-24T14:35:39.864Z"
   },
   {
    "duration": 55,
    "start_time": "2021-10-24T14:35:41.180Z"
   },
   {
    "duration": 412,
    "start_time": "2021-10-24T14:35:41.806Z"
   },
   {
    "duration": 297,
    "start_time": "2021-10-24T14:35:42.331Z"
   },
   {
    "duration": 58,
    "start_time": "2021-10-24T14:35:43.482Z"
   },
   {
    "duration": 339,
    "start_time": "2021-10-24T14:35:43.768Z"
   },
   {
    "duration": 298,
    "start_time": "2021-10-24T14:35:44.170Z"
   },
   {
    "duration": 885,
    "start_time": "2021-10-24T14:35:46.159Z"
   },
   {
    "duration": 578,
    "start_time": "2021-10-24T14:35:58.921Z"
   },
   {
    "duration": 2215,
    "start_time": "2021-10-24T14:39:30.416Z"
   },
   {
    "duration": 11,
    "start_time": "2021-10-24T14:39:46.007Z"
   },
   {
    "duration": 9,
    "start_time": "2021-10-24T14:40:01.495Z"
   },
   {
    "duration": 7,
    "start_time": "2021-10-24T14:40:10.916Z"
   },
   {
    "duration": 12,
    "start_time": "2021-10-24T14:42:33.768Z"
   },
   {
    "duration": 12,
    "start_time": "2021-10-24T14:43:34.137Z"
   },
   {
    "duration": 5,
    "start_time": "2021-10-24T14:46:59.168Z"
   },
   {
    "duration": 359,
    "start_time": "2021-10-24T14:47:10.704Z"
   },
   {
    "duration": 337,
    "start_time": "2021-10-24T14:47:18.321Z"
   },
   {
    "duration": 114,
    "start_time": "2021-10-24T14:48:01.298Z"
   },
   {
    "duration": 6,
    "start_time": "2021-10-24T14:49:11.716Z"
   },
   {
    "duration": 5,
    "start_time": "2021-10-24T14:49:16.469Z"
   },
   {
    "duration": 5,
    "start_time": "2021-10-24T14:49:20.360Z"
   },
   {
    "duration": 4,
    "start_time": "2021-10-24T14:49:41.723Z"
   },
   {
    "duration": 22,
    "start_time": "2021-10-24T14:49:41.991Z"
   },
   {
    "duration": 17,
    "start_time": "2021-10-24T14:49:44.197Z"
   },
   {
    "duration": 8,
    "start_time": "2021-10-24T14:49:45.062Z"
   },
   {
    "duration": 15,
    "start_time": "2021-10-24T14:49:45.579Z"
   },
   {
    "duration": 10,
    "start_time": "2021-10-24T14:49:45.714Z"
   },
   {
    "duration": 17,
    "start_time": "2021-10-24T14:49:45.812Z"
   },
   {
    "duration": 10,
    "start_time": "2021-10-24T14:49:45.952Z"
   },
   {
    "duration": 9,
    "start_time": "2021-10-24T14:49:46.047Z"
   },
   {
    "duration": 19,
    "start_time": "2021-10-24T14:49:46.104Z"
   },
   {
    "duration": 23,
    "start_time": "2021-10-24T14:49:46.179Z"
   },
   {
    "duration": 13,
    "start_time": "2021-10-24T14:49:46.394Z"
   },
   {
    "duration": 4634,
    "start_time": "2021-10-24T14:49:46.499Z"
   },
   {
    "duration": -415,
    "start_time": "2021-10-24T14:49:51.553Z"
   },
   {
    "duration": -420,
    "start_time": "2021-10-24T14:49:51.559Z"
   },
   {
    "duration": -424,
    "start_time": "2021-10-24T14:49:51.565Z"
   },
   {
    "duration": -427,
    "start_time": "2021-10-24T14:49:51.569Z"
   },
   {
    "duration": -431,
    "start_time": "2021-10-24T14:49:51.574Z"
   },
   {
    "duration": -435,
    "start_time": "2021-10-24T14:49:51.579Z"
   },
   {
    "duration": -438,
    "start_time": "2021-10-24T14:49:51.584Z"
   },
   {
    "duration": -441,
    "start_time": "2021-10-24T14:49:51.588Z"
   },
   {
    "duration": -445,
    "start_time": "2021-10-24T14:49:51.593Z"
   },
   {
    "duration": -448,
    "start_time": "2021-10-24T14:49:51.597Z"
   },
   {
    "duration": -452,
    "start_time": "2021-10-24T14:49:51.602Z"
   },
   {
    "duration": -454,
    "start_time": "2021-10-24T14:49:51.606Z"
   },
   {
    "duration": -457,
    "start_time": "2021-10-24T14:49:51.610Z"
   },
   {
    "duration": -460,
    "start_time": "2021-10-24T14:49:51.614Z"
   },
   {
    "duration": -463,
    "start_time": "2021-10-24T14:49:51.618Z"
   },
   {
    "duration": -465,
    "start_time": "2021-10-24T14:49:51.622Z"
   },
   {
    "duration": -468,
    "start_time": "2021-10-24T14:49:51.626Z"
   },
   {
    "duration": -471,
    "start_time": "2021-10-24T14:49:51.630Z"
   },
   {
    "duration": -475,
    "start_time": "2021-10-24T14:49:51.635Z"
   },
   {
    "duration": -477,
    "start_time": "2021-10-24T14:49:51.639Z"
   },
   {
    "duration": -480,
    "start_time": "2021-10-24T14:49:51.643Z"
   },
   {
    "duration": -483,
    "start_time": "2021-10-24T14:49:51.647Z"
   },
   {
    "duration": -499,
    "start_time": "2021-10-24T14:49:51.665Z"
   },
   {
    "duration": -503,
    "start_time": "2021-10-24T14:49:51.670Z"
   },
   {
    "duration": -505,
    "start_time": "2021-10-24T14:49:51.674Z"
   },
   {
    "duration": -508,
    "start_time": "2021-10-24T14:49:51.678Z"
   },
   {
    "duration": -512,
    "start_time": "2021-10-24T14:49:51.683Z"
   },
   {
    "duration": -514,
    "start_time": "2021-10-24T14:49:51.687Z"
   },
   {
    "duration": -518,
    "start_time": "2021-10-24T14:49:51.692Z"
   },
   {
    "duration": -520,
    "start_time": "2021-10-24T14:49:51.696Z"
   },
   {
    "duration": -500,
    "start_time": "2021-10-24T14:49:51.700Z"
   },
   {
    "duration": -502,
    "start_time": "2021-10-24T14:49:51.704Z"
   },
   {
    "duration": -507,
    "start_time": "2021-10-24T14:49:51.710Z"
   },
   {
    "duration": -510,
    "start_time": "2021-10-24T14:49:51.714Z"
   },
   {
    "duration": -513,
    "start_time": "2021-10-24T14:49:51.719Z"
   },
   {
    "duration": -516,
    "start_time": "2021-10-24T14:49:51.723Z"
   },
   {
    "duration": -519,
    "start_time": "2021-10-24T14:49:51.728Z"
   },
   {
    "duration": -522,
    "start_time": "2021-10-24T14:49:51.732Z"
   },
   {
    "duration": -525,
    "start_time": "2021-10-24T14:49:51.736Z"
   },
   {
    "duration": 4558,
    "start_time": "2021-10-24T14:50:02.190Z"
   },
   {
    "duration": 4,
    "start_time": "2021-10-24T14:50:23.883Z"
   },
   {
    "duration": 560,
    "start_time": "2021-10-24T14:50:24.067Z"
   },
   {
    "duration": 4,
    "start_time": "2021-10-24T14:50:24.683Z"
   },
   {
    "duration": 19,
    "start_time": "2021-10-24T14:50:24.738Z"
   },
   {
    "duration": 17,
    "start_time": "2021-10-24T14:50:24.921Z"
   },
   {
    "duration": 6,
    "start_time": "2021-10-24T14:50:25.026Z"
   },
   {
    "duration": 14,
    "start_time": "2021-10-24T14:50:25.080Z"
   },
   {
    "duration": 11,
    "start_time": "2021-10-24T14:50:25.211Z"
   },
   {
    "duration": 18,
    "start_time": "2021-10-24T14:50:25.306Z"
   },
   {
    "duration": 10,
    "start_time": "2021-10-24T14:50:25.437Z"
   },
   {
    "duration": 10,
    "start_time": "2021-10-24T14:50:25.529Z"
   },
   {
    "duration": 21,
    "start_time": "2021-10-24T14:50:25.584Z"
   },
   {
    "duration": 24,
    "start_time": "2021-10-24T14:50:25.649Z"
   },
   {
    "duration": 12,
    "start_time": "2021-10-24T14:50:25.858Z"
   },
   {
    "duration": 103,
    "start_time": "2021-10-24T14:50:25.956Z"
   },
   {
    "duration": 4,
    "start_time": "2021-10-24T14:50:26.062Z"
   },
   {
    "duration": 55,
    "start_time": "2021-10-24T14:50:26.069Z"
   },
   {
    "duration": 44,
    "start_time": "2021-10-24T14:50:26.195Z"
   },
   {
    "duration": 40,
    "start_time": "2021-10-24T14:50:26.287Z"
   },
   {
    "duration": 85,
    "start_time": "2021-10-24T14:50:26.378Z"
   },
   {
    "duration": 45,
    "start_time": "2021-10-24T14:50:26.470Z"
   },
   {
    "duration": 31,
    "start_time": "2021-10-24T14:50:26.560Z"
   },
   {
    "duration": 32,
    "start_time": "2021-10-24T14:50:26.613Z"
   },
   {
    "duration": 12,
    "start_time": "2021-10-24T14:50:26.670Z"
   },
   {
    "duration": 303,
    "start_time": "2021-10-24T14:50:26.754Z"
   },
   {
    "duration": 11,
    "start_time": "2021-10-24T14:50:27.060Z"
   },
   {
    "duration": 26,
    "start_time": "2021-10-24T14:50:27.074Z"
   },
   {
    "duration": 26,
    "start_time": "2021-10-24T14:50:27.103Z"
   },
   {
    "duration": 28,
    "start_time": "2021-10-24T14:50:27.187Z"
   },
   {
    "duration": 29,
    "start_time": "2021-10-24T14:50:27.277Z"
   },
   {
    "duration": 44,
    "start_time": "2021-10-24T14:50:27.365Z"
   },
   {
    "duration": 145,
    "start_time": "2021-10-24T14:50:27.455Z"
   },
   {
    "duration": 26,
    "start_time": "2021-10-24T14:50:27.604Z"
   },
   {
    "duration": 330,
    "start_time": "2021-10-24T14:50:27.633Z"
   },
   {
    "duration": 12,
    "start_time": "2021-10-24T14:50:27.966Z"
   },
   {
    "duration": 11,
    "start_time": "2021-10-24T14:50:28.001Z"
   },
   {
    "duration": 17,
    "start_time": "2021-10-24T14:50:28.014Z"
   },
   {
    "duration": 32,
    "start_time": "2021-10-24T14:50:28.034Z"
   },
   {
    "duration": 32,
    "start_time": "2021-10-24T14:50:28.102Z"
   },
   {
    "duration": 63,
    "start_time": "2021-10-24T14:50:28.138Z"
   },
   {
    "duration": 34,
    "start_time": "2021-10-24T14:50:28.204Z"
   },
   {
    "duration": 82,
    "start_time": "2021-10-24T14:50:28.250Z"
   },
   {
    "duration": 22,
    "start_time": "2021-10-24T14:50:28.340Z"
   },
   {
    "duration": 22,
    "start_time": "2021-10-24T14:50:28.394Z"
   },
   {
    "duration": 278,
    "start_time": "2021-10-24T14:50:28.448Z"
   },
   {
    "duration": 11,
    "start_time": "2021-10-24T14:50:28.729Z"
   },
   {
    "duration": 8,
    "start_time": "2021-10-24T14:50:28.743Z"
   },
   {
    "duration": 24,
    "start_time": "2021-10-24T14:50:28.753Z"
   },
   {
    "duration": 155,
    "start_time": "2021-10-24T14:50:28.889Z"
   },
   {
    "duration": 11,
    "start_time": "2021-10-24T14:50:29.047Z"
   },
   {
    "duration": 106,
    "start_time": "2021-10-24T14:50:29.060Z"
   },
   {
    "duration": 10,
    "start_time": "2021-10-24T14:50:29.169Z"
   },
   {
    "duration": 115,
    "start_time": "2021-10-24T14:50:29.185Z"
   },
   {
    "duration": 11,
    "start_time": "2021-10-24T14:50:29.303Z"
   },
   {
    "duration": 29,
    "start_time": "2021-10-24T14:50:29.333Z"
   },
   {
    "duration": 20,
    "start_time": "2021-10-24T14:50:29.387Z"
   },
   {
    "duration": 19,
    "start_time": "2021-10-24T14:50:29.458Z"
   },
   {
    "duration": 25,
    "start_time": "2021-10-24T14:50:29.511Z"
   },
   {
    "duration": 8,
    "start_time": "2021-10-24T14:50:29.610Z"
   },
   {
    "duration": 3,
    "start_time": "2021-10-24T14:50:29.699Z"
   },
   {
    "duration": 59,
    "start_time": "2021-10-24T14:50:29.791Z"
   },
   {
    "duration": 338,
    "start_time": "2021-10-24T14:50:29.865Z"
   },
   {
    "duration": 344,
    "start_time": "2021-10-24T14:50:30.206Z"
   },
   {
    "duration": 65,
    "start_time": "2021-10-24T14:50:30.553Z"
   },
   {
    "duration": 327,
    "start_time": "2021-10-24T14:50:30.621Z"
   },
   {
    "duration": 308,
    "start_time": "2021-10-24T14:50:30.951Z"
   },
   {
    "duration": 68,
    "start_time": "2021-10-24T14:50:31.262Z"
   },
   {
    "duration": 339,
    "start_time": "2021-10-24T14:50:31.333Z"
   },
   {
    "duration": 468,
    "start_time": "2021-10-24T14:50:31.675Z"
   },
   {
    "duration": 13,
    "start_time": "2021-10-24T14:50:32.145Z"
   },
   {
    "duration": 10,
    "start_time": "2021-10-24T14:50:32.161Z"
   },
   {
    "duration": 11,
    "start_time": "2021-10-24T14:50:41.234Z"
   },
   {
    "duration": 4,
    "start_time": "2021-10-24T14:50:57.541Z"
   },
   {
    "duration": 12,
    "start_time": "2021-10-24T14:51:07.022Z"
   },
   {
    "duration": 18,
    "start_time": "2021-10-24T14:51:35.011Z"
   },
   {
    "duration": 4,
    "start_time": "2021-10-24T14:51:55.165Z"
   },
   {
    "duration": 10,
    "start_time": "2021-10-24T14:52:08.140Z"
   },
   {
    "duration": 11,
    "start_time": "2021-10-24T14:52:30.699Z"
   },
   {
    "duration": 11,
    "start_time": "2021-10-24T14:52:44.676Z"
   },
   {
    "duration": 11,
    "start_time": "2021-10-24T14:52:50.705Z"
   },
   {
    "duration": 7,
    "start_time": "2021-10-24T14:53:43.083Z"
   },
   {
    "duration": 12,
    "start_time": "2021-10-24T14:54:38.682Z"
   },
   {
    "duration": 15,
    "start_time": "2021-10-24T14:56:17.768Z"
   },
   {
    "duration": 12,
    "start_time": "2021-10-24T14:56:19.388Z"
   },
   {
    "duration": 12,
    "start_time": "2021-10-24T14:56:21.668Z"
   },
   {
    "duration": 10,
    "start_time": "2021-10-24T14:56:24.053Z"
   },
   {
    "duration": 11,
    "start_time": "2021-10-24T14:56:25.108Z"
   },
   {
    "duration": 11,
    "start_time": "2021-10-24T14:56:25.672Z"
   },
   {
    "duration": 12,
    "start_time": "2021-10-24T14:56:26.188Z"
   },
   {
    "duration": 10,
    "start_time": "2021-10-24T14:56:26.941Z"
   },
   {
    "duration": 12,
    "start_time": "2021-10-24T14:56:27.471Z"
   },
   {
    "duration": 12,
    "start_time": "2021-10-24T14:56:27.988Z"
   },
   {
    "duration": 13,
    "start_time": "2021-10-24T14:56:28.825Z"
   },
   {
    "duration": 13,
    "start_time": "2021-10-24T14:56:29.507Z"
   },
   {
    "duration": 12,
    "start_time": "2021-10-24T14:56:29.996Z"
   },
   {
    "duration": 12,
    "start_time": "2021-10-24T14:56:30.401Z"
   },
   {
    "duration": 11,
    "start_time": "2021-10-24T14:56:30.840Z"
   },
   {
    "duration": 14,
    "start_time": "2021-10-24T14:56:31.225Z"
   },
   {
    "duration": 14,
    "start_time": "2021-10-24T14:56:31.642Z"
   },
   {
    "duration": 14,
    "start_time": "2021-10-24T14:56:32.028Z"
   },
   {
    "duration": 13,
    "start_time": "2021-10-24T14:56:32.367Z"
   },
   {
    "duration": 12,
    "start_time": "2021-10-24T14:56:32.649Z"
   },
   {
    "duration": 14,
    "start_time": "2021-10-24T14:56:32.873Z"
   },
   {
    "duration": 11,
    "start_time": "2021-10-24T14:56:34.252Z"
   },
   {
    "duration": 8,
    "start_time": "2021-10-24T14:56:34.397Z"
   },
   {
    "duration": 12,
    "start_time": "2021-10-24T14:56:34.823Z"
   },
   {
    "duration": 12,
    "start_time": "2021-10-24T15:03:38.852Z"
   },
   {
    "duration": 19,
    "start_time": "2021-10-24T15:26:07.140Z"
   },
   {
    "duration": 17,
    "start_time": "2021-10-24T15:26:44.950Z"
   },
   {
    "duration": 28,
    "start_time": "2021-10-24T15:26:57.718Z"
   },
   {
    "duration": 20,
    "start_time": "2021-10-24T15:26:58.767Z"
   },
   {
    "duration": 20,
    "start_time": "2021-10-24T15:27:00.191Z"
   },
   {
    "duration": 31,
    "start_time": "2021-10-24T15:27:01.169Z"
   },
   {
    "duration": 9,
    "start_time": "2021-10-24T15:27:02.399Z"
   },
   {
    "duration": 19,
    "start_time": "2021-10-24T15:27:10.955Z"
   },
   {
    "duration": 9,
    "start_time": "2021-10-24T15:27:52.050Z"
   },
   {
    "duration": 8,
    "start_time": "2021-10-24T15:27:56.170Z"
   },
   {
    "duration": 7,
    "start_time": "2021-10-24T15:28:04.817Z"
   },
   {
    "duration": 11,
    "start_time": "2021-10-24T15:30:53.860Z"
   },
   {
    "duration": 11,
    "start_time": "2021-10-24T15:31:07.071Z"
   },
   {
    "duration": 9,
    "start_time": "2021-10-24T15:34:18.066Z"
   },
   {
    "duration": 8,
    "start_time": "2021-10-24T15:34:47.358Z"
   },
   {
    "duration": 9,
    "start_time": "2021-10-24T15:34:53.578Z"
   },
   {
    "duration": 6,
    "start_time": "2021-10-24T15:35:11.648Z"
   },
   {
    "duration": 6,
    "start_time": "2021-10-24T15:35:19.422Z"
   },
   {
    "duration": 12,
    "start_time": "2021-10-24T15:36:25.956Z"
   },
   {
    "duration": 11,
    "start_time": "2021-10-24T15:36:32.296Z"
   },
   {
    "duration": 12,
    "start_time": "2021-10-24T15:36:33.159Z"
   },
   {
    "duration": 8,
    "start_time": "2021-10-24T15:37:31.886Z"
   },
   {
    "duration": 20,
    "start_time": "2021-10-24T15:39:24.072Z"
   },
   {
    "duration": 613,
    "start_time": "2021-10-24T15:39:33.911Z"
   },
   {
    "duration": 615,
    "start_time": "2021-10-24T15:39:51.734Z"
   },
   {
    "duration": 621,
    "start_time": "2021-10-24T15:39:54.870Z"
   },
   {
    "duration": 5021,
    "start_time": "2021-10-24T15:40:52.921Z"
   },
   {
    "duration": 19,
    "start_time": "2021-10-24T15:41:08.589Z"
   },
   {
    "duration": 20,
    "start_time": "2021-10-24T15:41:20.285Z"
   },
   {
    "duration": 13,
    "start_time": "2021-10-24T15:41:54.322Z"
   },
   {
    "duration": 13,
    "start_time": "2021-10-24T15:41:59.277Z"
   },
   {
    "duration": 13,
    "start_time": "2021-10-24T15:42:04.514Z"
   },
   {
    "duration": 14,
    "start_time": "2021-10-24T15:42:10.232Z"
   },
   {
    "duration": 15,
    "start_time": "2021-10-24T15:42:17.906Z"
   },
   {
    "duration": 11,
    "start_time": "2021-10-24T15:43:33.207Z"
   },
   {
    "duration": 31,
    "start_time": "2021-10-24T15:55:38.470Z"
   },
   {
    "duration": 6,
    "start_time": "2021-10-24T15:56:09.474Z"
   },
   {
    "duration": 27,
    "start_time": "2021-10-24T15:56:17.142Z"
   },
   {
    "duration": 476,
    "start_time": "2021-10-24T15:56:32.463Z"
   },
   {
    "duration": 16,
    "start_time": "2021-10-24T15:56:40.913Z"
   },
   {
    "duration": 30,
    "start_time": "2021-10-24T15:57:08.094Z"
   },
   {
    "duration": 21,
    "start_time": "2021-10-24T15:57:31.863Z"
   },
   {
    "duration": 21,
    "start_time": "2021-10-24T15:57:37.709Z"
   },
   {
    "duration": 22,
    "start_time": "2021-10-24T16:01:30.182Z"
   },
   {
    "duration": 21,
    "start_time": "2021-10-24T16:03:58.368Z"
   },
   {
    "duration": 383,
    "start_time": "2021-10-24T16:07:23.049Z"
   },
   {
    "duration": 117,
    "start_time": "2021-10-24T16:07:30.422Z"
   },
   {
    "duration": 6,
    "start_time": "2021-10-24T16:07:34.251Z"
   },
   {
    "duration": 6,
    "start_time": "2021-10-24T16:07:38.893Z"
   },
   {
    "duration": 21,
    "start_time": "2021-10-24T16:08:15.992Z"
   },
   {
    "duration": 22,
    "start_time": "2021-10-24T16:08:31.810Z"
   },
   {
    "duration": 374,
    "start_time": "2021-10-24T16:11:44.935Z"
   },
   {
    "duration": 350,
    "start_time": "2021-10-24T16:11:54.417Z"
   },
   {
    "duration": 25,
    "start_time": "2021-10-24T16:12:00.414Z"
   },
   {
    "duration": 24,
    "start_time": "2021-10-24T16:12:07.879Z"
   },
   {
    "duration": 350,
    "start_time": "2021-10-24T16:13:53.840Z"
   },
   {
    "duration": 16,
    "start_time": "2021-10-24T16:15:39.796Z"
   },
   {
    "duration": 17,
    "start_time": "2021-10-24T16:16:09.589Z"
   },
   {
    "duration": 15,
    "start_time": "2021-10-24T16:16:17.423Z"
   },
   {
    "duration": 16,
    "start_time": "2021-10-24T16:16:22.070Z"
   },
   {
    "duration": 139,
    "start_time": "2021-10-24T16:16:30.013Z"
   },
   {
    "duration": 15,
    "start_time": "2021-10-24T16:16:33.894Z"
   },
   {
    "duration": 17,
    "start_time": "2021-10-24T16:16:43.304Z"
   },
   {
    "duration": 25,
    "start_time": "2021-10-24T16:17:02.306Z"
   },
   {
    "duration": 27,
    "start_time": "2021-10-24T16:18:28.670Z"
   },
   {
    "duration": 32,
    "start_time": "2021-10-24T16:18:35.806Z"
   },
   {
    "duration": 30,
    "start_time": "2021-10-24T16:18:40.634Z"
   },
   {
    "duration": 29,
    "start_time": "2021-10-24T16:18:57.480Z"
   },
   {
    "duration": 6,
    "start_time": "2021-10-24T16:19:01.157Z"
   },
   {
    "duration": 29,
    "start_time": "2021-10-24T16:19:02.023Z"
   },
   {
    "duration": 24,
    "start_time": "2021-10-24T16:19:11.207Z"
   },
   {
    "duration": 21,
    "start_time": "2021-10-24T16:22:10.132Z"
   },
   {
    "duration": 356,
    "start_time": "2021-10-24T16:22:28.107Z"
   },
   {
    "duration": 354,
    "start_time": "2021-10-24T16:22:32.200Z"
   },
   {
    "duration": 7,
    "start_time": "2021-10-24T16:22:38.742Z"
   },
   {
    "duration": 24,
    "start_time": "2021-10-24T16:22:48.933Z"
   },
   {
    "duration": 20,
    "start_time": "2021-10-24T16:23:09.286Z"
   },
   {
    "duration": 305,
    "start_time": "2021-10-24T21:02:06.737Z"
   },
   {
    "duration": 12369,
    "start_time": "2021-10-24T21:02:11.060Z"
   },
   {
    "duration": 3340,
    "start_time": "2021-10-24T21:02:29.112Z"
   },
   {
    "duration": 4,
    "start_time": "2021-10-24T21:02:32.455Z"
   },
   {
    "duration": 552,
    "start_time": "2021-10-24T21:02:32.462Z"
   },
   {
    "duration": 3,
    "start_time": "2021-10-24T21:02:33.017Z"
   },
   {
    "duration": 27,
    "start_time": "2021-10-24T21:02:33.023Z"
   },
   {
    "duration": 29,
    "start_time": "2021-10-24T21:02:33.052Z"
   },
   {
    "duration": 20,
    "start_time": "2021-10-24T21:02:33.083Z"
   },
   {
    "duration": 31,
    "start_time": "2021-10-24T21:02:33.105Z"
   },
   {
    "duration": 13,
    "start_time": "2021-10-24T21:02:33.138Z"
   },
   {
    "duration": 24,
    "start_time": "2021-10-24T21:02:33.154Z"
   },
   {
    "duration": 10,
    "start_time": "2021-10-24T21:02:33.181Z"
   },
   {
    "duration": 9,
    "start_time": "2021-10-24T21:02:33.194Z"
   },
   {
    "duration": 19,
    "start_time": "2021-10-24T21:02:33.206Z"
   },
   {
    "duration": 25,
    "start_time": "2021-10-24T21:02:33.268Z"
   },
   {
    "duration": 12,
    "start_time": "2021-10-24T21:02:33.295Z"
   },
   {
    "duration": 137,
    "start_time": "2021-10-24T21:02:33.309Z"
   },
   {
    "duration": 5,
    "start_time": "2021-10-24T21:02:33.448Z"
   },
   {
    "duration": 54,
    "start_time": "2021-10-24T21:02:33.456Z"
   },
   {
    "duration": 59,
    "start_time": "2021-10-24T21:02:33.521Z"
   },
   {
    "duration": 40,
    "start_time": "2021-10-24T21:02:33.584Z"
   },
   {
    "duration": 106,
    "start_time": "2021-10-24T21:02:33.627Z"
   },
   {
    "duration": 40,
    "start_time": "2021-10-24T21:02:33.736Z"
   },
   {
    "duration": 24,
    "start_time": "2021-10-24T21:02:33.779Z"
   },
   {
    "duration": 29,
    "start_time": "2021-10-24T21:02:33.806Z"
   },
   {
    "duration": 12,
    "start_time": "2021-10-24T21:02:33.866Z"
   },
   {
    "duration": 322,
    "start_time": "2021-10-24T21:02:33.881Z"
   },
   {
    "duration": 11,
    "start_time": "2021-10-24T21:02:34.206Z"
   },
   {
    "duration": 8,
    "start_time": "2021-10-24T21:02:34.220Z"
   },
   {
    "duration": 47,
    "start_time": "2021-10-24T21:02:34.230Z"
   },
   {
    "duration": 26,
    "start_time": "2021-10-24T21:02:34.280Z"
   },
   {
    "duration": 31,
    "start_time": "2021-10-24T21:02:34.308Z"
   },
   {
    "duration": 68,
    "start_time": "2021-10-24T21:02:34.341Z"
   },
   {
    "duration": 164,
    "start_time": "2021-10-24T21:02:34.412Z"
   },
   {
    "duration": 28,
    "start_time": "2021-10-24T21:02:34.579Z"
   },
   {
    "duration": 429,
    "start_time": "2021-10-24T21:02:34.609Z"
   },
   {
    "duration": 12,
    "start_time": "2021-10-24T21:02:35.041Z"
   },
   {
    "duration": 11,
    "start_time": "2021-10-24T21:02:35.069Z"
   },
   {
    "duration": 17,
    "start_time": "2021-10-24T21:02:35.084Z"
   },
   {
    "duration": 35,
    "start_time": "2021-10-24T21:02:35.104Z"
   },
   {
    "duration": 34,
    "start_time": "2021-10-24T21:02:35.166Z"
   },
   {
    "duration": 32,
    "start_time": "2021-10-24T21:02:35.202Z"
   },
   {
    "duration": 57,
    "start_time": "2021-10-24T21:02:35.236Z"
   },
   {
    "duration": 75,
    "start_time": "2021-10-24T21:02:35.296Z"
   },
   {
    "duration": 22,
    "start_time": "2021-10-24T21:02:35.374Z"
   },
   {
    "duration": 24,
    "start_time": "2021-10-24T21:02:35.400Z"
   },
   {
    "duration": 322,
    "start_time": "2021-10-24T21:02:35.427Z"
   },
   {
    "duration": 24,
    "start_time": "2021-10-24T21:02:35.753Z"
   },
   {
    "duration": 38,
    "start_time": "2021-10-24T21:02:35.779Z"
   },
   {
    "duration": 26,
    "start_time": "2021-10-24T21:02:35.820Z"
   },
   {
    "duration": 158,
    "start_time": "2021-10-24T21:02:35.848Z"
   },
   {
    "duration": 12,
    "start_time": "2021-10-24T21:02:36.009Z"
   },
   {
    "duration": 103,
    "start_time": "2021-10-24T21:02:36.023Z"
   },
   {
    "duration": 11,
    "start_time": "2021-10-24T21:02:36.129Z"
   },
   {
    "duration": 118,
    "start_time": "2021-10-24T21:02:36.142Z"
   },
   {
    "duration": 12,
    "start_time": "2021-10-24T21:02:36.263Z"
   },
   {
    "duration": 29,
    "start_time": "2021-10-24T21:02:36.278Z"
   },
   {
    "duration": 20,
    "start_time": "2021-10-24T21:02:36.309Z"
   },
   {
    "duration": 23,
    "start_time": "2021-10-24T21:02:36.367Z"
   },
   {
    "duration": 21,
    "start_time": "2021-10-24T21:02:36.393Z"
   },
   {
    "duration": 7,
    "start_time": "2021-10-24T21:02:36.417Z"
   },
   {
    "duration": 44,
    "start_time": "2021-10-24T21:02:36.426Z"
   },
   {
    "duration": 65,
    "start_time": "2021-10-24T21:02:36.473Z"
   },
   {
    "duration": 342,
    "start_time": "2021-10-24T21:02:36.540Z"
   },
   {
    "duration": 354,
    "start_time": "2021-10-24T21:02:36.885Z"
   },
   {
    "duration": 71,
    "start_time": "2021-10-24T21:02:37.241Z"
   },
   {
    "duration": 355,
    "start_time": "2021-10-24T21:02:37.315Z"
   },
   {
    "duration": 323,
    "start_time": "2021-10-24T21:02:37.673Z"
   },
   {
    "duration": 73,
    "start_time": "2021-10-24T21:02:37.998Z"
   },
   {
    "duration": 360,
    "start_time": "2021-10-24T21:02:38.073Z"
   },
   {
    "duration": 93,
    "start_time": "2021-10-24T21:02:38.436Z"
   },
   {
    "duration": -602,
    "start_time": "2021-10-24T21:02:39.134Z"
   },
   {
    "duration": -607,
    "start_time": "2021-10-24T21:02:39.141Z"
   },
   {
    "duration": -611,
    "start_time": "2021-10-24T21:02:39.146Z"
   },
   {
    "duration": -622,
    "start_time": "2021-10-24T21:02:39.159Z"
   },
   {
    "duration": 308,
    "start_time": "2021-10-24T21:03:11.091Z"
   },
   {
    "duration": 18,
    "start_time": "2021-10-24T21:03:13.596Z"
   },
   {
    "duration": 16,
    "start_time": "2021-10-24T21:03:13.875Z"
   },
   {
    "duration": 16,
    "start_time": "2021-10-24T21:03:14.253Z"
   },
   {
    "duration": 21,
    "start_time": "2021-10-24T21:03:14.922Z"
   },
   {
    "duration": 15,
    "start_time": "2021-10-24T21:03:28.529Z"
   },
   {
    "duration": 19,
    "start_time": "2021-10-24T21:03:48.728Z"
   },
   {
    "duration": 28,
    "start_time": "2021-10-24T21:03:55.993Z"
   },
   {
    "duration": 32,
    "start_time": "2021-10-24T21:04:04.857Z"
   },
   {
    "duration": 13,
    "start_time": "2021-10-24T21:04:14.417Z"
   },
   {
    "duration": 18,
    "start_time": "2021-10-24T21:04:42.016Z"
   },
   {
    "duration": 217489,
    "start_time": "2021-10-25T13:10:20.779Z"
   },
   {
    "duration": 1440,
    "start_time": "2021-10-25T13:13:58.271Z"
   },
   {
    "duration": 599,
    "start_time": "2021-10-25T13:13:59.714Z"
   },
   {
    "duration": 3,
    "start_time": "2021-10-25T13:14:00.316Z"
   },
   {
    "duration": 23,
    "start_time": "2021-10-25T13:14:00.321Z"
   },
   {
    "duration": 11,
    "start_time": "2021-10-25T13:14:00.347Z"
   },
   {
    "duration": 7,
    "start_time": "2021-10-25T13:14:00.364Z"
   },
   {
    "duration": 15,
    "start_time": "2021-10-25T13:14:00.374Z"
   },
   {
    "duration": 13,
    "start_time": "2021-10-25T13:14:00.392Z"
   },
   {
    "duration": 196396,
    "start_time": "2021-10-25T13:14:00.406Z"
   },
   {
    "duration": 5,
    "start_time": "2021-10-25T13:17:16.804Z"
   },
   {
    "duration": 8,
    "start_time": "2021-10-25T13:17:16.811Z"
   },
   {
    "duration": 15,
    "start_time": "2021-10-25T13:17:16.821Z"
   },
   {
    "duration": 34,
    "start_time": "2021-10-25T13:17:16.837Z"
   },
   {
    "duration": 7,
    "start_time": "2021-10-25T13:17:16.873Z"
   },
   {
    "duration": 66,
    "start_time": "2021-10-25T13:17:16.881Z"
   },
   {
    "duration": 16,
    "start_time": "2021-10-25T13:17:16.949Z"
   },
   {
    "duration": 35,
    "start_time": "2021-10-25T13:17:16.966Z"
   },
   {
    "duration": 27,
    "start_time": "2021-10-25T13:17:17.003Z"
   },
   {
    "duration": 36,
    "start_time": "2021-10-25T13:17:17.032Z"
   },
   {
    "duration": 57,
    "start_time": "2021-10-25T13:17:17.070Z"
   },
   {
    "duration": 44,
    "start_time": "2021-10-25T13:17:17.129Z"
   },
   {
    "duration": 22,
    "start_time": "2021-10-25T13:17:17.177Z"
   },
   {
    "duration": 22,
    "start_time": "2021-10-25T13:17:17.201Z"
   },
   {
    "duration": 7,
    "start_time": "2021-10-25T13:17:17.225Z"
   },
   {
    "duration": 215,
    "start_time": "2021-10-25T13:17:17.233Z"
   },
   {
    "duration": 13,
    "start_time": "2021-10-25T13:17:17.450Z"
   },
   {
    "duration": 4,
    "start_time": "2021-10-25T13:17:17.465Z"
   },
   {
    "duration": 19,
    "start_time": "2021-10-25T13:17:17.471Z"
   },
   {
    "duration": 20,
    "start_time": "2021-10-25T13:17:17.492Z"
   },
   {
    "duration": 51,
    "start_time": "2021-10-25T13:17:17.514Z"
   },
   {
    "duration": 29,
    "start_time": "2021-10-25T13:17:17.567Z"
   },
   {
    "duration": 103,
    "start_time": "2021-10-25T13:17:17.598Z"
   },
   {
    "duration": 20,
    "start_time": "2021-10-25T13:17:17.703Z"
   },
   {
    "duration": 190,
    "start_time": "2021-10-25T13:17:17.725Z"
   },
   {
    "duration": 8,
    "start_time": "2021-10-25T13:17:17.917Z"
   },
   {
    "duration": 15,
    "start_time": "2021-10-25T13:17:17.927Z"
   },
   {
    "duration": 22,
    "start_time": "2021-10-25T13:17:17.944Z"
   },
   {
    "duration": 21,
    "start_time": "2021-10-25T13:17:17.968Z"
   },
   {
    "duration": 21,
    "start_time": "2021-10-25T13:17:17.990Z"
   },
   {
    "duration": 23,
    "start_time": "2021-10-25T13:17:18.012Z"
   },
   {
    "duration": 44,
    "start_time": "2021-10-25T13:17:18.037Z"
   },
   {
    "duration": 44,
    "start_time": "2021-10-25T13:17:18.083Z"
   },
   {
    "duration": 35,
    "start_time": "2021-10-25T13:17:18.129Z"
   },
   {
    "duration": 23,
    "start_time": "2021-10-25T13:17:18.166Z"
   },
   {
    "duration": 187,
    "start_time": "2021-10-25T13:17:18.191Z"
   },
   {
    "duration": 8,
    "start_time": "2021-10-25T13:17:18.379Z"
   },
   {
    "duration": 19,
    "start_time": "2021-10-25T13:17:18.389Z"
   },
   {
    "duration": 18,
    "start_time": "2021-10-25T13:17:18.410Z"
   },
   {
    "duration": 112,
    "start_time": "2021-10-25T13:17:18.430Z"
   },
   {
    "duration": 9,
    "start_time": "2021-10-25T13:17:18.544Z"
   },
   {
    "duration": 76,
    "start_time": "2021-10-25T13:17:18.555Z"
   },
   {
    "duration": 7,
    "start_time": "2021-10-25T13:17:18.633Z"
   },
   {
    "duration": 75,
    "start_time": "2021-10-25T13:17:18.642Z"
   },
   {
    "duration": 8,
    "start_time": "2021-10-25T13:17:18.719Z"
   },
   {
    "duration": 21,
    "start_time": "2021-10-25T13:17:18.728Z"
   },
   {
    "duration": 23,
    "start_time": "2021-10-25T13:17:18.751Z"
   },
   {
    "duration": 15,
    "start_time": "2021-10-25T13:17:18.775Z"
   },
   {
    "duration": 15,
    "start_time": "2021-10-25T13:17:18.792Z"
   },
   {
    "duration": 5,
    "start_time": "2021-10-25T13:17:18.809Z"
   },
   {
    "duration": 8,
    "start_time": "2021-10-25T13:17:18.816Z"
   },
   {
    "duration": 67,
    "start_time": "2021-10-25T13:17:18.826Z"
   },
   {
    "duration": 206,
    "start_time": "2021-10-25T13:17:18.895Z"
   },
   {
    "duration": 279,
    "start_time": "2021-10-25T13:17:19.103Z"
   },
   {
    "duration": 38,
    "start_time": "2021-10-25T13:17:19.384Z"
   },
   {
    "duration": 199,
    "start_time": "2021-10-25T13:17:19.424Z"
   },
   {
    "duration": 184,
    "start_time": "2021-10-25T13:17:19.625Z"
   },
   {
    "duration": 49,
    "start_time": "2021-10-25T13:17:19.814Z"
   },
   {
    "duration": 201,
    "start_time": "2021-10-25T13:17:19.866Z"
   },
   {
    "duration": 197,
    "start_time": "2021-10-25T13:17:20.069Z"
   },
   {
    "duration": 12,
    "start_time": "2021-10-25T13:17:20.268Z"
   },
   {
    "duration": 24,
    "start_time": "2021-10-25T13:17:20.282Z"
   },
   {
    "duration": 16,
    "start_time": "2021-10-25T13:17:20.308Z"
   },
   {
    "duration": 19,
    "start_time": "2021-10-25T13:26:25.813Z"
   },
   {
    "duration": 8716,
    "start_time": "2021-10-25T18:53:43.861Z"
   },
   {
    "duration": 1159,
    "start_time": "2021-10-25T18:53:52.579Z"
   },
   {
    "duration": 422,
    "start_time": "2021-10-25T18:53:53.740Z"
   },
   {
    "duration": 3,
    "start_time": "2021-10-25T18:53:54.164Z"
   },
   {
    "duration": 18,
    "start_time": "2021-10-25T18:53:54.168Z"
   },
   {
    "duration": 10,
    "start_time": "2021-10-25T18:53:54.188Z"
   },
   {
    "duration": 6,
    "start_time": "2021-10-25T18:53:54.200Z"
   },
   {
    "duration": 10,
    "start_time": "2021-10-25T18:53:54.208Z"
   },
   {
    "duration": 7,
    "start_time": "2021-10-25T18:53:54.220Z"
   },
   {
    "duration": 846,
    "start_time": "2021-10-25T18:53:54.245Z"
   },
   {
    "duration": 6,
    "start_time": "2021-10-25T18:53:55.093Z"
   },
   {
    "duration": 6,
    "start_time": "2021-10-25T18:53:55.101Z"
   },
   {
    "duration": 12,
    "start_time": "2021-10-25T18:53:55.108Z"
   },
   {
    "duration": 34,
    "start_time": "2021-10-25T18:53:55.122Z"
   },
   {
    "duration": 7,
    "start_time": "2021-10-25T18:53:55.158Z"
   },
   {
    "duration": 79,
    "start_time": "2021-10-25T18:53:55.167Z"
   },
   {
    "duration": 3,
    "start_time": "2021-10-25T18:53:55.248Z"
   },
   {
    "duration": 31,
    "start_time": "2021-10-25T18:53:55.253Z"
   },
   {
    "duration": 26,
    "start_time": "2021-10-25T18:53:55.286Z"
   },
   {
    "duration": 27,
    "start_time": "2021-10-25T18:53:55.437Z"
   },
   {
    "duration": 52,
    "start_time": "2021-10-25T18:53:56.328Z"
   },
   {
    "duration": 24,
    "start_time": "2021-10-25T18:53:56.691Z"
   },
   {
    "duration": 21,
    "start_time": "2021-10-25T18:53:57.452Z"
   },
   {
    "duration": 22,
    "start_time": "2021-10-25T18:53:57.589Z"
   },
   {
    "duration": 8,
    "start_time": "2021-10-25T18:53:57.914Z"
   },
   {
    "duration": 179,
    "start_time": "2021-10-25T18:53:58.105Z"
   },
   {
    "duration": 8,
    "start_time": "2021-10-25T18:53:58.972Z"
   },
   {
    "duration": 4,
    "start_time": "2021-10-25T18:53:59.343Z"
   },
   {
    "duration": 20,
    "start_time": "2021-10-25T18:54:00.181Z"
   },
   {
    "duration": 20,
    "start_time": "2021-10-25T18:54:01.278Z"
   },
   {
    "duration": 21,
    "start_time": "2021-10-25T18:54:02.587Z"
   },
   {
    "duration": 28,
    "start_time": "2021-10-25T18:54:03.050Z"
   },
   {
    "duration": 88,
    "start_time": "2021-10-25T18:54:03.970Z"
   },
   {
    "duration": 18,
    "start_time": "2021-10-25T18:54:04.125Z"
   },
   {
    "duration": 177,
    "start_time": "2021-10-25T18:54:04.269Z"
   },
   {
    "duration": 354,
    "start_time": "2021-10-25T18:54:05.520Z"
   },
   {
    "duration": 285,
    "start_time": "2021-10-25T18:54:55.085Z"
   },
   {
    "duration": 403,
    "start_time": "2021-10-25T18:55:32.513Z"
   },
   {
    "duration": 2,
    "start_time": "2021-10-25T18:55:34.217Z"
   },
   {
    "duration": 12,
    "start_time": "2021-10-25T18:55:34.413Z"
   },
   {
    "duration": 12,
    "start_time": "2021-10-25T18:55:35.450Z"
   },
   {
    "duration": 5,
    "start_time": "2021-10-25T18:55:35.615Z"
   },
   {
    "duration": 11,
    "start_time": "2021-10-25T18:55:35.688Z"
   },
   {
    "duration": 7,
    "start_time": "2021-10-25T18:55:36.051Z"
   },
   {
    "duration": 13,
    "start_time": "2021-10-25T18:55:36.455Z"
   },
   {
    "duration": 8,
    "start_time": "2021-10-25T18:55:37.100Z"
   },
   {
    "duration": 9,
    "start_time": "2021-10-25T18:55:37.751Z"
   },
   {
    "duration": 17,
    "start_time": "2021-10-25T18:55:37.938Z"
   },
   {
    "duration": 16,
    "start_time": "2021-10-25T18:55:38.141Z"
   },
   {
    "duration": 9,
    "start_time": "2021-10-25T18:55:39.212Z"
   },
   {
    "duration": 73,
    "start_time": "2021-10-25T18:55:39.662Z"
   },
   {
    "duration": 4,
    "start_time": "2021-10-25T18:55:40.277Z"
   },
   {
    "duration": 28,
    "start_time": "2021-10-25T18:55:40.499Z"
   },
   {
    "duration": 28,
    "start_time": "2021-10-25T18:55:42.114Z"
   },
   {
    "duration": 26,
    "start_time": "2021-10-25T18:55:42.988Z"
   },
   {
    "duration": 65,
    "start_time": "2021-10-25T18:55:44.482Z"
   },
   {
    "duration": 32,
    "start_time": "2021-10-25T18:55:44.855Z"
   },
   {
    "duration": 24,
    "start_time": "2021-10-25T18:55:45.202Z"
   },
   {
    "duration": 27,
    "start_time": "2021-10-25T18:55:45.424Z"
   },
   {
    "duration": 11,
    "start_time": "2021-10-25T18:55:45.654Z"
   },
   {
    "duration": 256,
    "start_time": "2021-10-25T18:55:46.172Z"
   },
   {
    "duration": 15,
    "start_time": "2021-10-25T18:55:46.430Z"
   },
   {
    "duration": 4,
    "start_time": "2021-10-25T18:55:47.809Z"
   },
   {
    "duration": 19,
    "start_time": "2021-10-25T18:55:48.029Z"
   },
   {
    "duration": 19,
    "start_time": "2021-10-25T18:55:52.165Z"
   },
   {
    "duration": 19,
    "start_time": "2021-10-25T18:55:52.599Z"
   },
   {
    "duration": 24,
    "start_time": "2021-10-25T18:55:54.158Z"
   },
   {
    "duration": 88,
    "start_time": "2021-10-25T18:55:54.546Z"
   },
   {
    "duration": 17,
    "start_time": "2021-10-25T18:55:54.715Z"
   },
   {
    "duration": 175,
    "start_time": "2021-10-25T18:55:55.208Z"
   },
   {
    "duration": 9,
    "start_time": "2021-10-25T18:55:57.731Z"
   },
   {
    "duration": 292,
    "start_time": "2021-10-25T18:56:00.253Z"
   },
   {
    "duration": 8,
    "start_time": "2021-10-25T18:56:13.095Z"
   },
   {
    "duration": 22,
    "start_time": "2021-10-25T18:56:13.293Z"
   },
   {
    "duration": 21,
    "start_time": "2021-10-25T18:56:13.479Z"
   },
   {
    "duration": 22,
    "start_time": "2021-10-25T18:56:13.982Z"
   },
   {
    "duration": 23,
    "start_time": "2021-10-25T18:56:14.574Z"
   },
   {
    "duration": 37,
    "start_time": "2021-10-25T18:56:14.700Z"
   },
   {
    "duration": 79,
    "start_time": "2021-10-25T18:56:15.038Z"
   },
   {
    "duration": 15,
    "start_time": "2021-10-25T18:56:15.233Z"
   },
   {
    "duration": 165,
    "start_time": "2021-10-25T18:56:15.400Z"
   },
   {
    "duration": 9,
    "start_time": "2021-10-25T18:56:16.074Z"
   },
   {
    "duration": 5,
    "start_time": "2021-10-25T18:56:16.417Z"
   },
   {
    "duration": 9,
    "start_time": "2021-10-25T18:56:17.034Z"
   },
   {
    "duration": 8,
    "start_time": "2021-10-25T18:58:03.075Z"
   },
   {
    "duration": 414,
    "start_time": "2021-10-25T19:00:18.645Z"
   },
   {
    "duration": 10,
    "start_time": "2021-10-25T19:00:28.388Z"
   },
   {
    "duration": 8,
    "start_time": "2021-10-25T19:01:10.507Z"
   },
   {
    "duration": 10,
    "start_time": "2021-10-25T19:01:16.734Z"
   },
   {
    "duration": 10,
    "start_time": "2021-10-25T19:01:24.219Z"
   },
   {
    "duration": 461,
    "start_time": "2021-10-25T19:02:00.326Z"
   },
   {
    "duration": 3,
    "start_time": "2021-10-25T19:02:05.806Z"
   },
   {
    "duration": 13,
    "start_time": "2021-10-25T19:02:06.593Z"
   },
   {
    "duration": 11,
    "start_time": "2021-10-25T19:02:08.851Z"
   },
   {
    "duration": 5,
    "start_time": "2021-10-25T19:02:09.434Z"
   },
   {
    "duration": 11,
    "start_time": "2021-10-25T19:02:10.011Z"
   },
   {
    "duration": 7,
    "start_time": "2021-10-25T19:02:12.003Z"
   },
   {
    "duration": 13,
    "start_time": "2021-10-25T19:02:13.296Z"
   },
   {
    "duration": 7,
    "start_time": "2021-10-25T19:02:36.688Z"
   },
   {
    "duration": 11,
    "start_time": "2021-10-25T19:02:37.218Z"
   },
   {
    "duration": 7,
    "start_time": "2021-10-25T19:02:38.490Z"
   },
   {
    "duration": 7,
    "start_time": "2021-10-25T19:02:40.227Z"
   },
   {
    "duration": 11,
    "start_time": "2021-10-25T19:02:40.236Z"
   },
   {
    "duration": 16,
    "start_time": "2021-10-25T19:02:41.711Z"
   },
   {
    "duration": 9,
    "start_time": "2021-10-25T19:02:45.187Z"
   },
   {
    "duration": 61,
    "start_time": "2021-10-25T19:02:46.704Z"
   },
   {
    "duration": 4,
    "start_time": "2021-10-25T19:02:48.004Z"
   },
   {
    "duration": 18,
    "start_time": "2021-10-25T19:02:48.469Z"
   },
   {
    "duration": 3,
    "start_time": "2021-10-25T19:02:59.815Z"
   },
   {
    "duration": 18,
    "start_time": "2021-10-25T19:03:00.212Z"
   },
   {
    "duration": 2256,
    "start_time": "2021-10-25T19:05:56.304Z"
   },
   {
    "duration": 3,
    "start_time": "2021-10-25T19:05:58.562Z"
   },
   {
    "duration": 505,
    "start_time": "2021-10-25T19:06:02.067Z"
   },
   {
    "duration": 3,
    "start_time": "2021-10-25T19:06:02.596Z"
   },
   {
    "duration": 20,
    "start_time": "2021-10-25T19:06:02.930Z"
   },
   {
    "duration": 11,
    "start_time": "2021-10-25T19:06:04.072Z"
   },
   {
    "duration": 5,
    "start_time": "2021-10-25T19:06:04.647Z"
   },
   {
    "duration": 11,
    "start_time": "2021-10-25T19:06:04.997Z"
   },
   {
    "duration": 4,
    "start_time": "2021-10-25T19:06:05.996Z"
   },
   {
    "duration": 13,
    "start_time": "2021-10-25T19:06:06.245Z"
   },
   {
    "duration": 8,
    "start_time": "2021-10-25T19:06:07.233Z"
   },
   {
    "duration": 279,
    "start_time": "2021-10-25T19:06:07.537Z"
   },
   {
    "duration": -1110,
    "start_time": "2021-10-25T19:06:08.928Z"
   },
   {
    "duration": 16,
    "start_time": "2021-10-25T19:06:07.827Z"
   },
   {
    "duration": 308,
    "start_time": "2021-10-25T19:06:44.117Z"
   },
   {
    "duration": 2,
    "start_time": "2021-10-25T19:06:44.992Z"
   },
   {
    "duration": 374,
    "start_time": "2021-10-25T19:07:01.979Z"
   },
   {
    "duration": 323,
    "start_time": "2021-10-25T19:07:05.287Z"
   },
   {
    "duration": 536,
    "start_time": "2021-10-25T19:07:10.879Z"
   },
   {
    "duration": 3,
    "start_time": "2021-10-25T19:07:15.329Z"
   },
   {
    "duration": 17,
    "start_time": "2021-10-25T19:07:15.505Z"
   },
   {
    "duration": 10,
    "start_time": "2021-10-25T19:07:16.138Z"
   },
   {
    "duration": 4,
    "start_time": "2021-10-25T19:07:16.488Z"
   },
   {
    "duration": 10,
    "start_time": "2021-10-25T19:07:18.045Z"
   },
   {
    "duration": 4,
    "start_time": "2021-10-25T19:07:19.922Z"
   },
   {
    "duration": 13,
    "start_time": "2021-10-25T19:07:21.213Z"
   },
   {
    "duration": 7,
    "start_time": "2021-10-25T19:07:22.707Z"
   },
   {
    "duration": 6,
    "start_time": "2021-10-25T19:07:24.412Z"
   },
   {
    "duration": 7,
    "start_time": "2021-10-25T19:07:28.483Z"
   },
   {
    "duration": 12,
    "start_time": "2021-10-25T19:07:28.681Z"
   },
   {
    "duration": 15,
    "start_time": "2021-10-25T19:07:28.984Z"
   },
   {
    "duration": 9,
    "start_time": "2021-10-25T19:07:30.054Z"
   },
   {
    "duration": 64,
    "start_time": "2021-10-25T19:07:30.831Z"
   },
   {
    "duration": 3,
    "start_time": "2021-10-25T19:07:31.352Z"
   },
   {
    "duration": 18,
    "start_time": "2021-10-25T19:07:31.587Z"
   },
   {
    "duration": 4,
    "start_time": "2021-10-25T19:07:32.012Z"
   },
   {
    "duration": 27,
    "start_time": "2021-10-25T19:07:32.264Z"
   },
   {
    "duration": 44,
    "start_time": "2021-10-25T19:07:33.203Z"
   },
   {
    "duration": 24,
    "start_time": "2021-10-25T19:07:33.324Z"
   },
   {
    "duration": 16,
    "start_time": "2021-10-25T19:07:33.465Z"
   },
   {
    "duration": 17,
    "start_time": "2021-10-25T19:07:33.538Z"
   },
   {
    "duration": 9,
    "start_time": "2021-10-25T19:07:33.608Z"
   },
   {
    "duration": 178,
    "start_time": "2021-10-25T19:07:33.775Z"
   },
   {
    "duration": 9,
    "start_time": "2021-10-25T19:07:35.175Z"
   },
   {
    "duration": 4,
    "start_time": "2021-10-25T19:07:35.651Z"
   },
   {
    "duration": 15,
    "start_time": "2021-10-25T19:07:36.060Z"
   },
   {
    "duration": 4,
    "start_time": "2021-10-25T19:07:36.903Z"
   },
   {
    "duration": 20,
    "start_time": "2021-10-25T19:07:37.475Z"
   },
   {
    "duration": 29,
    "start_time": "2021-10-25T19:07:37.952Z"
   },
   {
    "duration": 87,
    "start_time": "2021-10-25T19:07:38.761Z"
   },
   {
    "duration": 18,
    "start_time": "2021-10-25T19:07:39.043Z"
   },
   {
    "duration": 182,
    "start_time": "2021-10-25T19:07:39.303Z"
   },
   {
    "duration": 9,
    "start_time": "2021-10-25T19:07:40.953Z"
   },
   {
    "duration": 8,
    "start_time": "2021-10-25T19:07:42.686Z"
   },
   {
    "duration": 16,
    "start_time": "2021-10-25T19:07:43.181Z"
   },
   {
    "duration": 21,
    "start_time": "2021-10-25T19:07:43.633Z"
   },
   {
    "duration": 4,
    "start_time": "2021-10-25T19:07:44.710Z"
   },
   {
    "duration": 27,
    "start_time": "2021-10-25T19:07:47.147Z"
   },
   {
    "duration": 35,
    "start_time": "2021-10-25T19:07:56.341Z"
   },
   {
    "duration": 14,
    "start_time": "2021-10-25T19:07:56.986Z"
   },
   {
    "duration": 17,
    "start_time": "2021-10-25T19:07:57.137Z"
   },
   {
    "duration": 175,
    "start_time": "2021-10-25T19:07:57.430Z"
   },
   {
    "duration": 9,
    "start_time": "2021-10-25T19:08:01.156Z"
   },
   {
    "duration": 5,
    "start_time": "2021-10-25T19:08:01.393Z"
   },
   {
    "duration": 11,
    "start_time": "2021-10-25T19:08:01.626Z"
   },
   {
    "duration": 87,
    "start_time": "2021-10-25T19:12:16.523Z"
   },
   {
    "duration": 102,
    "start_time": "2021-10-25T19:20:53.809Z"
   },
   {
    "duration": 9,
    "start_time": "2021-10-25T19:20:54.393Z"
   },
   {
    "duration": 56,
    "start_time": "2021-10-25T19:20:55.105Z"
   },
   {
    "duration": 7,
    "start_time": "2021-10-25T19:20:55.288Z"
   },
   {
    "duration": 67,
    "start_time": "2021-10-25T19:20:56.084Z"
   },
   {
    "duration": 8,
    "start_time": "2021-10-25T19:20:56.231Z"
   },
   {
    "duration": 19,
    "start_time": "2021-10-25T19:20:58.585Z"
   },
   {
    "duration": 16,
    "start_time": "2021-10-25T19:20:59.003Z"
   },
   {
    "duration": 13,
    "start_time": "2021-10-25T19:20:59.402Z"
   },
   {
    "duration": 15,
    "start_time": "2021-10-25T19:20:59.566Z"
   },
   {
    "duration": 6,
    "start_time": "2021-10-25T19:20:59.877Z"
   },
   {
    "duration": 19,
    "start_time": "2021-10-25T19:21:00.328Z"
   },
   {
    "duration": 4,
    "start_time": "2021-10-25T19:25:00.596Z"
   },
   {
    "duration": 450,
    "start_time": "2021-10-25T19:25:16.123Z"
   },
   {
    "duration": 7,
    "start_time": "2021-10-25T19:25:27.591Z"
   },
   {
    "duration": 486,
    "start_time": "2021-10-25T19:25:34.901Z"
   },
   {
    "duration": 264,
    "start_time": "2021-10-25T19:25:50.843Z"
   },
   {
    "duration": 6,
    "start_time": "2021-10-25T19:25:55.472Z"
   },
   {
    "duration": 7,
    "start_time": "2021-10-25T19:26:17.596Z"
   },
   {
    "duration": 11,
    "start_time": "2021-10-25T19:29:50.758Z"
   },
   {
    "duration": 14,
    "start_time": "2021-10-25T19:29:51.521Z"
   },
   {
    "duration": 4,
    "start_time": "2021-10-25T19:29:52.386Z"
   },
   {
    "duration": 16,
    "start_time": "2021-10-25T19:29:53.414Z"
   },
   {
    "duration": 49,
    "start_time": "2021-10-25T19:35:34.363Z"
   },
   {
    "duration": 36,
    "start_time": "2021-10-25T19:37:43.068Z"
   },
   {
    "duration": 8,
    "start_time": "2021-10-25T19:43:55.231Z"
   },
   {
    "duration": 16,
    "start_time": "2021-10-25T19:44:25.686Z"
   },
   {
    "duration": 14,
    "start_time": "2021-10-25T19:44:37.737Z"
   },
   {
    "duration": 9,
    "start_time": "2021-10-25T19:44:44.670Z"
   },
   {
    "duration": 8,
    "start_time": "2021-10-25T19:45:32.683Z"
   },
   {
    "duration": 2396,
    "start_time": "2021-10-25T19:56:45.780Z"
   },
   {
    "duration": 1039,
    "start_time": "2021-10-25T19:56:48.178Z"
   },
   {
    "duration": 470,
    "start_time": "2021-10-25T19:56:49.219Z"
   },
   {
    "duration": 11,
    "start_time": "2021-10-25T19:56:49.691Z"
   },
   {
    "duration": 16,
    "start_time": "2021-10-25T19:56:49.703Z"
   },
   {
    "duration": 34,
    "start_time": "2021-10-25T19:56:49.720Z"
   },
   {
    "duration": 12,
    "start_time": "2021-10-25T19:56:49.755Z"
   },
   {
    "duration": 17,
    "start_time": "2021-10-25T19:56:49.770Z"
   },
   {
    "duration": 24,
    "start_time": "2021-10-25T19:56:49.789Z"
   },
   {
    "duration": 19,
    "start_time": "2021-10-25T19:56:49.815Z"
   },
   {
    "duration": 508,
    "start_time": "2021-10-25T19:56:49.836Z"
   },
   {
    "duration": 6,
    "start_time": "2021-10-25T19:56:50.346Z"
   },
   {
    "duration": 10,
    "start_time": "2021-10-25T19:56:50.354Z"
   },
   {
    "duration": 21,
    "start_time": "2021-10-25T19:56:50.366Z"
   },
   {
    "duration": 19,
    "start_time": "2021-10-25T19:56:50.389Z"
   },
   {
    "duration": 14,
    "start_time": "2021-10-25T19:56:50.410Z"
   },
   {
    "duration": 80,
    "start_time": "2021-10-25T19:56:50.425Z"
   },
   {
    "duration": 3,
    "start_time": "2021-10-25T19:56:50.507Z"
   },
   {
    "duration": 27,
    "start_time": "2021-10-25T19:56:50.512Z"
   },
   {
    "duration": 6,
    "start_time": "2021-10-25T19:56:50.541Z"
   },
   {
    "duration": 34,
    "start_time": "2021-10-25T19:56:50.548Z"
   },
   {
    "duration": 54,
    "start_time": "2021-10-25T19:56:50.583Z"
   },
   {
    "duration": 23,
    "start_time": "2021-10-25T19:56:50.641Z"
   },
   {
    "duration": 18,
    "start_time": "2021-10-25T19:56:50.666Z"
   },
   {
    "duration": 20,
    "start_time": "2021-10-25T19:56:50.686Z"
   },
   {
    "duration": 7,
    "start_time": "2021-10-25T19:56:50.708Z"
   },
   {
    "duration": 201,
    "start_time": "2021-10-25T19:56:50.716Z"
   },
   {
    "duration": 8,
    "start_time": "2021-10-25T19:56:50.919Z"
   },
   {
    "duration": 19,
    "start_time": "2021-10-25T19:56:50.928Z"
   },
   {
    "duration": 21,
    "start_time": "2021-10-25T19:56:50.949Z"
   },
   {
    "duration": 13,
    "start_time": "2021-10-25T19:56:50.972Z"
   },
   {
    "duration": 30,
    "start_time": "2021-10-25T19:56:50.986Z"
   },
   {
    "duration": 25,
    "start_time": "2021-10-25T19:56:51.018Z"
   },
   {
    "duration": 100,
    "start_time": "2021-10-25T19:56:51.045Z"
   },
   {
    "duration": 18,
    "start_time": "2021-10-25T19:56:51.147Z"
   },
   {
    "duration": 184,
    "start_time": "2021-10-25T19:56:51.167Z"
   },
   {
    "duration": 9,
    "start_time": "2021-10-25T19:56:51.352Z"
   },
   {
    "duration": 17,
    "start_time": "2021-10-25T19:56:51.362Z"
   },
   {
    "duration": 41,
    "start_time": "2021-10-25T19:56:51.380Z"
   },
   {
    "duration": 20,
    "start_time": "2021-10-25T19:56:51.422Z"
   },
   {
    "duration": 3,
    "start_time": "2021-10-25T19:56:51.444Z"
   },
   {
    "duration": 35,
    "start_time": "2021-10-25T19:56:51.448Z"
   },
   {
    "duration": 41,
    "start_time": "2021-10-25T19:56:51.484Z"
   },
   {
    "duration": 20,
    "start_time": "2021-10-25T19:56:51.527Z"
   },
   {
    "duration": 18,
    "start_time": "2021-10-25T19:56:51.548Z"
   },
   {
    "duration": 179,
    "start_time": "2021-10-25T19:56:51.567Z"
   },
   {
    "duration": 8,
    "start_time": "2021-10-25T19:56:51.747Z"
   },
   {
    "duration": 6,
    "start_time": "2021-10-25T19:56:51.756Z"
   },
   {
    "duration": 26,
    "start_time": "2021-10-25T19:56:51.764Z"
   },
   {
    "duration": 106,
    "start_time": "2021-10-25T19:56:51.792Z"
   },
   {
    "duration": 6,
    "start_time": "2021-10-25T19:56:51.900Z"
   },
   {
    "duration": 70,
    "start_time": "2021-10-25T19:56:51.908Z"
   },
   {
    "duration": 7,
    "start_time": "2021-10-25T19:56:51.980Z"
   },
   {
    "duration": 81,
    "start_time": "2021-10-25T19:56:51.988Z"
   },
   {
    "duration": 7,
    "start_time": "2021-10-25T19:56:52.070Z"
   },
   {
    "duration": 21,
    "start_time": "2021-10-25T19:56:52.079Z"
   },
   {
    "duration": 11,
    "start_time": "2021-10-25T19:56:52.101Z"
   },
   {
    "duration": 32,
    "start_time": "2021-10-25T19:56:52.114Z"
   },
   {
    "duration": 15,
    "start_time": "2021-10-25T19:56:52.148Z"
   },
   {
    "duration": 5,
    "start_time": "2021-10-25T19:56:52.164Z"
   },
   {
    "duration": 21,
    "start_time": "2021-10-25T19:56:52.171Z"
   },
   {
    "duration": 3,
    "start_time": "2021-10-25T19:56:52.193Z"
   },
   {
    "duration": 54,
    "start_time": "2021-10-25T19:56:52.197Z"
   },
   {
    "duration": 186,
    "start_time": "2021-10-25T19:56:52.253Z"
   },
   {
    "duration": 242,
    "start_time": "2021-10-25T19:56:52.444Z"
   },
   {
    "duration": 34,
    "start_time": "2021-10-25T19:56:52.688Z"
   },
   {
    "duration": 191,
    "start_time": "2021-10-25T19:56:52.723Z"
   },
   {
    "duration": 167,
    "start_time": "2021-10-25T19:56:52.918Z"
   },
   {
    "duration": 32,
    "start_time": "2021-10-25T19:56:53.086Z"
   },
   {
    "duration": 187,
    "start_time": "2021-10-25T19:56:53.120Z"
   },
   {
    "duration": 179,
    "start_time": "2021-10-25T19:56:53.309Z"
   },
   {
    "duration": 34,
    "start_time": "2021-10-25T19:56:53.490Z"
   },
   {
    "duration": 20,
    "start_time": "2021-10-25T19:56:53.525Z"
   },
   {
    "duration": 8,
    "start_time": "2021-10-25T19:56:53.547Z"
   },
   {
    "duration": 8,
    "start_time": "2021-10-25T19:56:53.557Z"
   },
   {
    "duration": 4,
    "start_time": "2021-10-25T20:09:23.726Z"
   },
   {
    "duration": 2408,
    "start_time": "2021-10-25T20:13:54.279Z"
   },
   {
    "duration": 3,
    "start_time": "2021-10-25T20:13:56.690Z"
   },
   {
    "duration": 491,
    "start_time": "2021-10-25T20:13:56.695Z"
   },
   {
    "duration": 8,
    "start_time": "2021-10-25T20:13:57.187Z"
   },
   {
    "duration": 15,
    "start_time": "2021-10-25T20:13:57.197Z"
   },
   {
    "duration": 33,
    "start_time": "2021-10-25T20:13:57.214Z"
   },
   {
    "duration": 17,
    "start_time": "2021-10-25T20:13:57.249Z"
   },
   {
    "duration": 15,
    "start_time": "2021-10-25T20:13:57.268Z"
   },
   {
    "duration": 27,
    "start_time": "2021-10-25T20:13:57.285Z"
   },
   {
    "duration": 19,
    "start_time": "2021-10-25T20:13:57.314Z"
   },
   {
    "duration": 5,
    "start_time": "2021-10-25T20:13:57.335Z"
   },
   {
    "duration": 19,
    "start_time": "2021-10-25T20:13:57.341Z"
   },
   {
    "duration": 19,
    "start_time": "2021-10-25T20:13:57.362Z"
   },
   {
    "duration": 17,
    "start_time": "2021-10-25T20:13:57.383Z"
   },
   {
    "duration": 19,
    "start_time": "2021-10-25T20:13:57.402Z"
   },
   {
    "duration": 38,
    "start_time": "2021-10-25T20:13:57.422Z"
   },
   {
    "duration": 7,
    "start_time": "2021-10-25T20:13:57.462Z"
   },
   {
    "duration": 65,
    "start_time": "2021-10-25T20:13:57.471Z"
   },
   {
    "duration": 4,
    "start_time": "2021-10-25T20:13:57.544Z"
   },
   {
    "duration": 23,
    "start_time": "2021-10-25T20:13:57.549Z"
   },
   {
    "duration": 3,
    "start_time": "2021-10-25T20:13:57.574Z"
   },
   {
    "duration": 30,
    "start_time": "2021-10-25T20:13:57.578Z"
   },
   {
    "duration": 73,
    "start_time": "2021-10-25T20:13:57.612Z"
   },
   {
    "duration": 23,
    "start_time": "2021-10-25T20:13:57.687Z"
   },
   {
    "duration": 34,
    "start_time": "2021-10-25T20:13:57.711Z"
   },
   {
    "duration": 21,
    "start_time": "2021-10-25T20:13:57.747Z"
   },
   {
    "duration": 8,
    "start_time": "2021-10-25T20:13:57.769Z"
   },
   {
    "duration": 194,
    "start_time": "2021-10-25T20:13:57.779Z"
   },
   {
    "duration": 7,
    "start_time": "2021-10-25T20:13:57.975Z"
   },
   {
    "duration": 5,
    "start_time": "2021-10-25T20:13:57.984Z"
   },
   {
    "duration": 40,
    "start_time": "2021-10-25T20:13:57.990Z"
   },
   {
    "duration": 14,
    "start_time": "2021-10-25T20:13:58.031Z"
   },
   {
    "duration": 46,
    "start_time": "2021-10-25T20:13:58.047Z"
   },
   {
    "duration": 29,
    "start_time": "2021-10-25T20:13:58.094Z"
   },
   {
    "duration": 96,
    "start_time": "2021-10-25T20:13:58.125Z"
   },
   {
    "duration": 23,
    "start_time": "2021-10-25T20:13:58.222Z"
   },
   {
    "duration": 191,
    "start_time": "2021-10-25T20:13:58.247Z"
   },
   {
    "duration": 9,
    "start_time": "2021-10-25T20:13:58.440Z"
   },
   {
    "duration": 22,
    "start_time": "2021-10-25T20:13:58.451Z"
   },
   {
    "duration": 26,
    "start_time": "2021-10-25T20:13:58.475Z"
   },
   {
    "duration": 27,
    "start_time": "2021-10-25T20:13:58.504Z"
   },
   {
    "duration": 16,
    "start_time": "2021-10-25T20:13:58.533Z"
   },
   {
    "duration": 43,
    "start_time": "2021-10-25T20:13:58.550Z"
   },
   {
    "duration": 38,
    "start_time": "2021-10-25T20:13:58.595Z"
   },
   {
    "duration": 15,
    "start_time": "2021-10-25T20:13:58.635Z"
   },
   {
    "duration": 17,
    "start_time": "2021-10-25T20:13:58.652Z"
   },
   {
    "duration": 177,
    "start_time": "2021-10-25T20:13:58.670Z"
   },
   {
    "duration": 8,
    "start_time": "2021-10-25T20:13:58.849Z"
   },
   {
    "duration": 27,
    "start_time": "2021-10-25T20:13:58.859Z"
   },
   {
    "duration": 63,
    "start_time": "2021-10-25T20:13:58.887Z"
   },
   {
    "duration": 125,
    "start_time": "2021-10-25T20:13:58.952Z"
   },
   {
    "duration": 8,
    "start_time": "2021-10-25T20:13:59.079Z"
   },
   {
    "duration": 111,
    "start_time": "2021-10-25T20:13:59.088Z"
   },
   {
    "duration": 12,
    "start_time": "2021-10-25T20:13:59.202Z"
   },
   {
    "duration": 92,
    "start_time": "2021-10-25T20:13:59.215Z"
   },
   {
    "duration": 21,
    "start_time": "2021-10-25T20:13:59.309Z"
   },
   {
    "duration": 49,
    "start_time": "2021-10-25T20:13:59.332Z"
   },
   {
    "duration": 33,
    "start_time": "2021-10-25T20:13:59.382Z"
   },
   {
    "duration": 37,
    "start_time": "2021-10-25T20:13:59.417Z"
   },
   {
    "duration": 65,
    "start_time": "2021-10-25T20:13:59.456Z"
   },
   {
    "duration": 29,
    "start_time": "2021-10-25T20:13:59.523Z"
   },
   {
    "duration": 80,
    "start_time": "2021-10-25T20:13:59.554Z"
   },
   {
    "duration": 46,
    "start_time": "2021-10-25T20:13:59.636Z"
   },
   {
    "duration": 182,
    "start_time": "2021-10-25T20:13:59.684Z"
   },
   {
    "duration": 237,
    "start_time": "2021-10-25T20:13:59.868Z"
   },
   {
    "duration": 46,
    "start_time": "2021-10-25T20:14:00.106Z"
   },
   {
    "duration": 199,
    "start_time": "2021-10-25T20:14:00.156Z"
   },
   {
    "duration": 284,
    "start_time": "2021-10-25T20:14:00.360Z"
   },
   {
    "duration": 39,
    "start_time": "2021-10-25T20:14:00.646Z"
   },
   {
    "duration": 215,
    "start_time": "2021-10-25T20:14:00.687Z"
   },
   {
    "duration": 192,
    "start_time": "2021-10-25T20:14:00.904Z"
   },
   {
    "duration": 47,
    "start_time": "2021-10-25T20:14:01.098Z"
   },
   {
    "duration": 14,
    "start_time": "2021-10-25T20:14:01.148Z"
   },
   {
    "duration": 36,
    "start_time": "2021-10-25T20:14:01.164Z"
   },
   {
    "duration": 27,
    "start_time": "2021-10-25T20:14:01.202Z"
   },
   {
    "duration": 9530,
    "start_time": "2021-10-26T07:12:01.895Z"
   },
   {
    "duration": 1030,
    "start_time": "2021-10-26T07:12:11.427Z"
   },
   {
    "duration": 513,
    "start_time": "2021-10-26T07:12:12.459Z"
   },
   {
    "duration": 10,
    "start_time": "2021-10-26T07:12:12.973Z"
   },
   {
    "duration": 3,
    "start_time": "2021-10-26T07:12:12.984Z"
   },
   {
    "duration": 16,
    "start_time": "2021-10-26T07:12:12.989Z"
   },
   {
    "duration": 9,
    "start_time": "2021-10-26T07:12:13.007Z"
   },
   {
    "duration": 8,
    "start_time": "2021-10-26T07:12:13.017Z"
   },
   {
    "duration": 11,
    "start_time": "2021-10-26T07:12:13.028Z"
   },
   {
    "duration": 252,
    "start_time": "2021-10-26T07:12:13.041Z"
   },
   {
    "duration": -22,
    "start_time": "2021-10-26T07:12:13.318Z"
   },
   {
    "duration": -27,
    "start_time": "2021-10-26T07:12:13.323Z"
   },
   {
    "duration": -30,
    "start_time": "2021-10-26T07:12:13.327Z"
   },
   {
    "duration": -36,
    "start_time": "2021-10-26T07:12:13.334Z"
   },
   {
    "duration": -39,
    "start_time": "2021-10-26T07:12:13.338Z"
   },
   {
    "duration": -42,
    "start_time": "2021-10-26T07:12:13.342Z"
   },
   {
    "duration": -46,
    "start_time": "2021-10-26T07:12:13.346Z"
   },
   {
    "duration": -49,
    "start_time": "2021-10-26T07:12:13.350Z"
   },
   {
    "duration": -52,
    "start_time": "2021-10-26T07:12:13.354Z"
   },
   {
    "duration": -55,
    "start_time": "2021-10-26T07:12:13.358Z"
   },
   {
    "duration": -58,
    "start_time": "2021-10-26T07:12:13.362Z"
   },
   {
    "duration": -61,
    "start_time": "2021-10-26T07:12:13.366Z"
   },
   {
    "duration": -66,
    "start_time": "2021-10-26T07:12:13.371Z"
   },
   {
    "duration": -69,
    "start_time": "2021-10-26T07:12:13.375Z"
   },
   {
    "duration": -72,
    "start_time": "2021-10-26T07:12:13.379Z"
   },
   {
    "duration": -76,
    "start_time": "2021-10-26T07:12:13.384Z"
   },
   {
    "duration": -80,
    "start_time": "2021-10-26T07:12:13.388Z"
   },
   {
    "duration": -84,
    "start_time": "2021-10-26T07:12:13.393Z"
   },
   {
    "duration": -87,
    "start_time": "2021-10-26T07:12:13.397Z"
   },
   {
    "duration": -90,
    "start_time": "2021-10-26T07:12:13.401Z"
   },
   {
    "duration": -92,
    "start_time": "2021-10-26T07:12:13.404Z"
   },
   {
    "duration": -96,
    "start_time": "2021-10-26T07:12:13.409Z"
   },
   {
    "duration": -100,
    "start_time": "2021-10-26T07:12:13.413Z"
   },
   {
    "duration": -105,
    "start_time": "2021-10-26T07:12:13.419Z"
   },
   {
    "duration": -108,
    "start_time": "2021-10-26T07:12:13.423Z"
   },
   {
    "duration": -111,
    "start_time": "2021-10-26T07:12:13.427Z"
   },
   {
    "duration": -114,
    "start_time": "2021-10-26T07:12:13.431Z"
   },
   {
    "duration": -117,
    "start_time": "2021-10-26T07:12:13.435Z"
   },
   {
    "duration": -119,
    "start_time": "2021-10-26T07:12:13.438Z"
   },
   {
    "duration": -124,
    "start_time": "2021-10-26T07:12:13.443Z"
   },
   {
    "duration": -128,
    "start_time": "2021-10-26T07:12:13.448Z"
   },
   {
    "duration": -131,
    "start_time": "2021-10-26T07:12:13.452Z"
   },
   {
    "duration": -134,
    "start_time": "2021-10-26T07:12:13.455Z"
   },
   {
    "duration": -137,
    "start_time": "2021-10-26T07:12:13.459Z"
   },
   {
    "duration": -140,
    "start_time": "2021-10-26T07:12:13.463Z"
   },
   {
    "duration": -144,
    "start_time": "2021-10-26T07:12:13.468Z"
   },
   {
    "duration": -148,
    "start_time": "2021-10-26T07:12:13.472Z"
   },
   {
    "duration": -151,
    "start_time": "2021-10-26T07:12:13.476Z"
   },
   {
    "duration": -154,
    "start_time": "2021-10-26T07:12:13.480Z"
   },
   {
    "duration": -157,
    "start_time": "2021-10-26T07:12:13.484Z"
   },
   {
    "duration": -160,
    "start_time": "2021-10-26T07:12:13.488Z"
   },
   {
    "duration": -164,
    "start_time": "2021-10-26T07:12:13.492Z"
   },
   {
    "duration": -167,
    "start_time": "2021-10-26T07:12:13.496Z"
   },
   {
    "duration": -170,
    "start_time": "2021-10-26T07:12:13.500Z"
   },
   {
    "duration": -174,
    "start_time": "2021-10-26T07:12:13.504Z"
   },
   {
    "duration": -177,
    "start_time": "2021-10-26T07:12:13.508Z"
   },
   {
    "duration": -179,
    "start_time": "2021-10-26T07:12:13.511Z"
   },
   {
    "duration": -182,
    "start_time": "2021-10-26T07:12:13.515Z"
   },
   {
    "duration": -187,
    "start_time": "2021-10-26T07:12:13.520Z"
   },
   {
    "duration": -191,
    "start_time": "2021-10-26T07:12:13.525Z"
   },
   {
    "duration": -193,
    "start_time": "2021-10-26T07:12:13.528Z"
   },
   {
    "duration": -197,
    "start_time": "2021-10-26T07:12:13.533Z"
   },
   {
    "duration": -142,
    "start_time": "2021-10-26T07:12:13.536Z"
   },
   {
    "duration": -144,
    "start_time": "2021-10-26T07:12:13.540Z"
   },
   {
    "duration": -148,
    "start_time": "2021-10-26T07:12:13.544Z"
   },
   {
    "duration": -151,
    "start_time": "2021-10-26T07:12:13.548Z"
   },
   {
    "duration": -153,
    "start_time": "2021-10-26T07:12:13.551Z"
   },
   {
    "duration": -156,
    "start_time": "2021-10-26T07:12:13.555Z"
   },
   {
    "duration": -159,
    "start_time": "2021-10-26T07:12:13.559Z"
   },
   {
    "duration": -162,
    "start_time": "2021-10-26T07:12:13.562Z"
   },
   {
    "duration": -166,
    "start_time": "2021-10-26T07:12:13.567Z"
   },
   {
    "duration": -168,
    "start_time": "2021-10-26T07:12:13.570Z"
   },
   {
    "duration": -171,
    "start_time": "2021-10-26T07:12:13.574Z"
   },
   {
    "duration": -175,
    "start_time": "2021-10-26T07:12:13.578Z"
   },
   {
    "duration": -178,
    "start_time": "2021-10-26T07:12:13.582Z"
   },
   {
    "duration": 12149,
    "start_time": "2021-10-26T08:57:32.633Z"
   },
   {
    "duration": 1541,
    "start_time": "2021-10-26T08:57:44.786Z"
   },
   {
    "duration": 612,
    "start_time": "2021-10-26T08:57:46.330Z"
   },
   {
    "duration": 17,
    "start_time": "2021-10-26T08:57:46.944Z"
   },
   {
    "duration": 4,
    "start_time": "2021-10-26T08:57:46.964Z"
   },
   {
    "duration": 25,
    "start_time": "2021-10-26T08:57:46.983Z"
   },
   {
    "duration": 23,
    "start_time": "2021-10-26T08:57:47.011Z"
   },
   {
    "duration": 6,
    "start_time": "2021-10-26T08:57:47.040Z"
   },
   {
    "duration": 48,
    "start_time": "2021-10-26T08:57:47.049Z"
   },
   {
    "duration": 8,
    "start_time": "2021-10-26T08:57:47.099Z"
   },
   {
    "duration": 706,
    "start_time": "2021-10-26T08:57:47.109Z"
   },
   {
    "duration": 9,
    "start_time": "2021-10-26T08:57:47.818Z"
   },
   {
    "duration": 8,
    "start_time": "2021-10-26T08:57:47.830Z"
   },
   {
    "duration": 51,
    "start_time": "2021-10-26T08:57:47.840Z"
   },
   {
    "duration": 22,
    "start_time": "2021-10-26T08:57:47.893Z"
   },
   {
    "duration": 10,
    "start_time": "2021-10-26T08:57:47.917Z"
   },
   {
    "duration": 131,
    "start_time": "2021-10-26T08:57:47.929Z"
   },
   {
    "duration": 5,
    "start_time": "2021-10-26T08:57:48.062Z"
   },
   {
    "duration": 36,
    "start_time": "2021-10-26T08:57:48.069Z"
   },
   {
    "duration": 4,
    "start_time": "2021-10-26T08:57:48.108Z"
   },
   {
    "duration": 42,
    "start_time": "2021-10-26T08:57:48.114Z"
   },
   {
    "duration": 97,
    "start_time": "2021-10-26T08:57:48.158Z"
   },
   {
    "duration": 41,
    "start_time": "2021-10-26T08:57:48.262Z"
   },
   {
    "duration": 25,
    "start_time": "2021-10-26T08:57:48.307Z"
   },
   {
    "duration": 57,
    "start_time": "2021-10-26T08:57:48.335Z"
   },
   {
    "duration": 11,
    "start_time": "2021-10-26T08:57:48.394Z"
   },
   {
    "duration": 311,
    "start_time": "2021-10-26T08:57:48.408Z"
   },
   {
    "duration": 12,
    "start_time": "2021-10-26T08:57:48.722Z"
   },
   {
    "duration": 6,
    "start_time": "2021-10-26T08:57:48.737Z"
   },
   {
    "duration": 50,
    "start_time": "2021-10-26T08:57:48.746Z"
   },
   {
    "duration": 6,
    "start_time": "2021-10-26T08:57:48.799Z"
   },
   {
    "duration": 38,
    "start_time": "2021-10-26T08:57:48.808Z"
   },
   {
    "duration": 68,
    "start_time": "2021-10-26T08:57:48.849Z"
   },
   {
    "duration": 150,
    "start_time": "2021-10-26T08:57:48.920Z"
   },
   {
    "duration": 26,
    "start_time": "2021-10-26T08:57:49.082Z"
   },
   {
    "duration": 312,
    "start_time": "2021-10-26T08:57:49.110Z"
   },
   {
    "duration": 13,
    "start_time": "2021-10-26T08:57:49.425Z"
   },
   {
    "duration": 14,
    "start_time": "2021-10-26T08:57:49.441Z"
   },
   {
    "duration": 47,
    "start_time": "2021-10-26T08:57:49.457Z"
   },
   {
    "duration": 33,
    "start_time": "2021-10-26T08:57:49.506Z"
   },
   {
    "duration": 4,
    "start_time": "2021-10-26T08:57:49.541Z"
   },
   {
    "duration": 64,
    "start_time": "2021-10-26T08:57:49.547Z"
   },
   {
    "duration": 77,
    "start_time": "2021-10-26T08:57:49.614Z"
   },
   {
    "duration": 22,
    "start_time": "2021-10-26T08:57:49.695Z"
   },
   {
    "duration": 25,
    "start_time": "2021-10-26T08:57:49.720Z"
   },
   {
    "duration": 310,
    "start_time": "2021-10-26T08:57:49.748Z"
   },
   {
    "duration": 22,
    "start_time": "2021-10-26T08:57:50.061Z"
   },
   {
    "duration": 8,
    "start_time": "2021-10-26T08:57:50.086Z"
   },
   {
    "duration": 32,
    "start_time": "2021-10-26T08:57:50.096Z"
   },
   {
    "duration": 162,
    "start_time": "2021-10-26T08:57:50.131Z"
   },
   {
    "duration": 11,
    "start_time": "2021-10-26T08:57:50.296Z"
   },
   {
    "duration": 112,
    "start_time": "2021-10-26T08:57:50.310Z"
   },
   {
    "duration": 11,
    "start_time": "2021-10-26T08:57:50.425Z"
   },
   {
    "duration": 119,
    "start_time": "2021-10-26T08:57:50.439Z"
   },
   {
    "duration": 13,
    "start_time": "2021-10-26T08:57:50.560Z"
   },
   {
    "duration": 34,
    "start_time": "2021-10-26T08:57:50.583Z"
   },
   {
    "duration": 21,
    "start_time": "2021-10-26T08:57:50.619Z"
   },
   {
    "duration": 49,
    "start_time": "2021-10-26T08:57:50.643Z"
   },
   {
    "duration": 32,
    "start_time": "2021-10-26T08:57:50.694Z"
   },
   {
    "duration": 9,
    "start_time": "2021-10-26T08:57:50.729Z"
   },
   {
    "duration": 49,
    "start_time": "2021-10-26T08:57:50.740Z"
   },
   {
    "duration": 55,
    "start_time": "2021-10-26T08:57:50.791Z"
   },
   {
    "duration": 322,
    "start_time": "2021-10-26T08:57:50.848Z"
   },
   {
    "duration": 331,
    "start_time": "2021-10-26T08:57:51.173Z"
   },
   {
    "duration": 143,
    "start_time": "2021-10-26T08:57:51.506Z"
   },
   {
    "duration": 338,
    "start_time": "2021-10-26T08:57:51.651Z"
   },
   {
    "duration": 298,
    "start_time": "2021-10-26T08:57:51.991Z"
   },
   {
    "duration": 55,
    "start_time": "2021-10-26T08:57:52.296Z"
   },
   {
    "duration": 331,
    "start_time": "2021-10-26T08:57:52.354Z"
   },
   {
    "duration": 313,
    "start_time": "2021-10-26T08:57:52.687Z"
   },
   {
    "duration": 55,
    "start_time": "2021-10-26T08:57:53.003Z"
   },
   {
    "duration": 33,
    "start_time": "2021-10-26T08:57:53.060Z"
   },
   {
    "duration": 11,
    "start_time": "2021-10-26T08:57:53.095Z"
   },
   {
    "duration": 10,
    "start_time": "2021-10-26T08:57:53.109Z"
   },
   {
    "duration": 455,
    "start_time": "2021-10-26T17:13:54.932Z"
   },
   {
    "duration": 12861,
    "start_time": "2021-10-26T17:14:07.090Z"
   },
   {
    "duration": 1763,
    "start_time": "2021-10-26T17:14:19.953Z"
   },
   {
    "duration": 671,
    "start_time": "2021-10-26T17:14:21.719Z"
   },
   {
    "duration": 15,
    "start_time": "2021-10-26T17:14:22.392Z"
   },
   {
    "duration": 4,
    "start_time": "2021-10-26T17:14:22.410Z"
   },
   {
    "duration": 42,
    "start_time": "2021-10-26T17:14:22.418Z"
   },
   {
    "duration": 20,
    "start_time": "2021-10-26T17:14:22.465Z"
   },
   {
    "duration": 9,
    "start_time": "2021-10-26T17:14:22.489Z"
   },
   {
    "duration": 15,
    "start_time": "2021-10-26T17:14:22.504Z"
   },
   {
    "duration": 6,
    "start_time": "2021-10-26T17:14:22.558Z"
   },
   {
    "duration": 754,
    "start_time": "2021-10-26T17:14:22.566Z"
   },
   {
    "duration": 9,
    "start_time": "2021-10-26T17:14:23.322Z"
   },
   {
    "duration": 33,
    "start_time": "2021-10-26T17:14:23.333Z"
   },
   {
    "duration": 34,
    "start_time": "2021-10-26T17:14:23.369Z"
   },
   {
    "duration": 33,
    "start_time": "2021-10-26T17:14:23.406Z"
   },
   {
    "duration": 20,
    "start_time": "2021-10-26T17:14:23.459Z"
   },
   {
    "duration": 113,
    "start_time": "2021-10-26T17:14:23.481Z"
   },
   {
    "duration": 5,
    "start_time": "2021-10-26T17:14:23.596Z"
   },
   {
    "duration": 28,
    "start_time": "2021-10-26T17:14:23.604Z"
   },
   {
    "duration": 28,
    "start_time": "2021-10-26T17:14:23.635Z"
   },
   {
    "duration": 63,
    "start_time": "2021-10-26T17:14:23.670Z"
   },
   {
    "duration": 101,
    "start_time": "2021-10-26T17:14:23.735Z"
   },
   {
    "duration": 51,
    "start_time": "2021-10-26T17:14:23.839Z"
   },
   {
    "duration": 26,
    "start_time": "2021-10-26T17:14:23.893Z"
   },
   {
    "duration": 64,
    "start_time": "2021-10-26T17:14:23.921Z"
   },
   {
    "duration": 10,
    "start_time": "2021-10-26T17:14:23.988Z"
   },
   {
    "duration": 492,
    "start_time": "2021-10-26T17:14:24.005Z"
   },
   {
    "duration": 12,
    "start_time": "2021-10-26T17:14:24.502Z"
   },
   {
    "duration": 7,
    "start_time": "2021-10-26T17:14:24.517Z"
   },
   {
    "duration": 55,
    "start_time": "2021-10-26T17:14:24.527Z"
   },
   {
    "duration": 5,
    "start_time": "2021-10-26T17:14:24.585Z"
   },
   {
    "duration": 33,
    "start_time": "2021-10-26T17:14:24.592Z"
   },
   {
    "duration": 72,
    "start_time": "2021-10-26T17:14:24.627Z"
   },
   {
    "duration": 173,
    "start_time": "2021-10-26T17:14:24.702Z"
   },
   {
    "duration": 26,
    "start_time": "2021-10-26T17:14:24.878Z"
   },
   {
    "duration": 325,
    "start_time": "2021-10-26T17:14:24.906Z"
   },
   {
    "duration": 12,
    "start_time": "2021-10-26T17:14:25.233Z"
   },
   {
    "duration": 15,
    "start_time": "2021-10-26T17:14:25.263Z"
   },
   {
    "duration": 31,
    "start_time": "2021-10-26T17:14:25.280Z"
   },
   {
    "duration": 58,
    "start_time": "2021-10-26T17:14:25.313Z"
   },
   {
    "duration": 5,
    "start_time": "2021-10-26T17:14:25.374Z"
   },
   {
    "duration": 60,
    "start_time": "2021-10-26T17:14:25.382Z"
   },
   {
    "duration": 81,
    "start_time": "2021-10-26T17:14:25.445Z"
   },
   {
    "duration": 34,
    "start_time": "2021-10-26T17:14:25.529Z"
   },
   {
    "duration": 26,
    "start_time": "2021-10-26T17:14:25.567Z"
   },
   {
    "duration": 303,
    "start_time": "2021-10-26T17:14:25.595Z"
   },
   {
    "duration": 11,
    "start_time": "2021-10-26T17:14:25.900Z"
   },
   {
    "duration": 9,
    "start_time": "2021-10-26T17:14:25.913Z"
   },
   {
    "duration": 49,
    "start_time": "2021-10-26T17:14:25.926Z"
   },
   {
    "duration": 155,
    "start_time": "2021-10-26T17:14:25.979Z"
   },
   {
    "duration": 20,
    "start_time": "2021-10-26T17:14:26.137Z"
   },
   {
    "duration": 26,
    "start_time": "2021-10-26T17:14:26.163Z"
   },
   {
    "duration": 112,
    "start_time": "2021-10-26T17:14:26.192Z"
   },
   {
    "duration": 14,
    "start_time": "2021-10-26T17:14:26.307Z"
   },
   {
    "duration": 137,
    "start_time": "2021-10-26T17:14:26.323Z"
   },
   {
    "duration": 13,
    "start_time": "2021-10-26T17:14:26.463Z"
   },
   {
    "duration": 34,
    "start_time": "2021-10-26T17:14:26.478Z"
   },
   {
    "duration": 47,
    "start_time": "2021-10-26T17:14:26.515Z"
   },
   {
    "duration": 22,
    "start_time": "2021-10-26T17:14:26.564Z"
   },
   {
    "duration": 25,
    "start_time": "2021-10-26T17:14:26.589Z"
   },
   {
    "duration": 44,
    "start_time": "2021-10-26T17:14:26.617Z"
   },
   {
    "duration": 31,
    "start_time": "2021-10-26T17:14:26.664Z"
   },
   {
    "duration": 84,
    "start_time": "2021-10-26T17:14:26.698Z"
   },
   {
    "duration": 397,
    "start_time": "2021-10-26T17:14:26.784Z"
   },
   {
    "duration": 381,
    "start_time": "2021-10-26T17:14:27.183Z"
   },
   {
    "duration": 146,
    "start_time": "2021-10-26T17:14:27.567Z"
   },
   {
    "duration": 384,
    "start_time": "2021-10-26T17:14:27.716Z"
   },
   {
    "duration": 327,
    "start_time": "2021-10-26T17:14:28.102Z"
   },
   {
    "duration": 67,
    "start_time": "2021-10-26T17:14:28.432Z"
   },
   {
    "duration": 573,
    "start_time": "2021-10-26T17:14:28.502Z"
   },
   {
    "duration": 418,
    "start_time": "2021-10-26T17:14:29.077Z"
   },
   {
    "duration": 120,
    "start_time": "2021-10-26T17:14:29.497Z"
   },
   {
    "duration": 18,
    "start_time": "2021-10-26T17:14:29.619Z"
   },
   {
    "duration": 17,
    "start_time": "2021-10-26T17:14:29.658Z"
   },
   {
    "duration": 18,
    "start_time": "2021-10-26T17:14:29.678Z"
   },
   {
    "duration": 32,
    "start_time": "2021-10-26T17:17:36.266Z"
   },
   {
    "duration": 4489,
    "start_time": "2021-10-26T17:22:28.586Z"
   },
   {
    "duration": 13,
    "start_time": "2021-10-26T17:22:46.123Z"
   },
   {
    "duration": 20,
    "start_time": "2021-10-26T17:22:57.940Z"
   },
   {
    "duration": 5,
    "start_time": "2021-10-26T17:31:50.188Z"
   },
   {
    "duration": 3382,
    "start_time": "2021-10-26T17:37:09.436Z"
   },
   {
    "duration": 1480,
    "start_time": "2021-10-26T17:37:12.820Z"
   },
   {
    "duration": 638,
    "start_time": "2021-10-26T17:37:14.303Z"
   },
   {
    "duration": 18,
    "start_time": "2021-10-26T17:37:14.943Z"
   },
   {
    "duration": 17,
    "start_time": "2021-10-26T17:37:14.964Z"
   },
   {
    "duration": 37,
    "start_time": "2021-10-26T17:37:14.984Z"
   },
   {
    "duration": 33,
    "start_time": "2021-10-26T17:37:15.025Z"
   },
   {
    "duration": 22,
    "start_time": "2021-10-26T17:37:15.063Z"
   },
   {
    "duration": 35,
    "start_time": "2021-10-26T17:37:15.088Z"
   },
   {
    "duration": 12,
    "start_time": "2021-10-26T17:37:15.126Z"
   },
   {
    "duration": 708,
    "start_time": "2021-10-26T17:37:15.141Z"
   },
   {
    "duration": 10,
    "start_time": "2021-10-26T17:37:15.851Z"
   },
   {
    "duration": 17,
    "start_time": "2021-10-26T17:37:15.864Z"
   },
   {
    "duration": 33,
    "start_time": "2021-10-26T17:37:15.883Z"
   },
   {
    "duration": 19,
    "start_time": "2021-10-26T17:37:15.918Z"
   },
   {
    "duration": 17,
    "start_time": "2021-10-26T17:37:15.959Z"
   },
   {
    "duration": 119,
    "start_time": "2021-10-26T17:37:15.978Z"
   },
   {
    "duration": 4,
    "start_time": "2021-10-26T17:37:16.100Z"
   },
   {
    "duration": 46,
    "start_time": "2021-10-26T17:37:16.107Z"
   },
   {
    "duration": 6,
    "start_time": "2021-10-26T17:37:16.155Z"
   },
   {
    "duration": 59,
    "start_time": "2021-10-26T17:37:16.164Z"
   },
   {
    "duration": 99,
    "start_time": "2021-10-26T17:37:16.226Z"
   },
   {
    "duration": 53,
    "start_time": "2021-10-26T17:37:16.333Z"
   },
   {
    "duration": 27,
    "start_time": "2021-10-26T17:37:16.392Z"
   },
   {
    "duration": 64,
    "start_time": "2021-10-26T17:37:16.422Z"
   },
   {
    "duration": 11,
    "start_time": "2021-10-26T17:37:16.488Z"
   },
   {
    "duration": 335,
    "start_time": "2021-10-26T17:37:16.501Z"
   },
   {
    "duration": 24,
    "start_time": "2021-10-26T17:37:16.839Z"
   },
   {
    "duration": 13,
    "start_time": "2021-10-26T17:37:16.865Z"
   },
   {
    "duration": 39,
    "start_time": "2021-10-26T17:37:16.880Z"
   },
   {
    "duration": 6,
    "start_time": "2021-10-26T17:37:16.922Z"
   },
   {
    "duration": 54,
    "start_time": "2021-10-26T17:37:16.931Z"
   },
   {
    "duration": 40,
    "start_time": "2021-10-26T17:37:16.988Z"
   },
   {
    "duration": 172,
    "start_time": "2021-10-26T17:37:17.031Z"
   },
   {
    "duration": 22,
    "start_time": "2021-10-26T17:37:17.206Z"
   },
   {
    "duration": 320,
    "start_time": "2021-10-26T17:37:17.231Z"
   },
   {
    "duration": 17,
    "start_time": "2021-10-26T17:37:17.557Z"
   },
   {
    "duration": 22,
    "start_time": "2021-10-26T17:37:17.578Z"
   },
   {
    "duration": 39,
    "start_time": "2021-10-26T17:37:17.602Z"
   },
   {
    "duration": 44,
    "start_time": "2021-10-26T17:37:17.644Z"
   },
   {
    "duration": 6,
    "start_time": "2021-10-26T17:37:17.691Z"
   },
   {
    "duration": 63,
    "start_time": "2021-10-26T17:37:17.700Z"
   },
   {
    "duration": 63,
    "start_time": "2021-10-26T17:37:17.766Z"
   },
   {
    "duration": 42,
    "start_time": "2021-10-26T17:37:17.832Z"
   },
   {
    "duration": 24,
    "start_time": "2021-10-26T17:37:17.877Z"
   },
   {
    "duration": 325,
    "start_time": "2021-10-26T17:37:17.903Z"
   },
   {
    "duration": 12,
    "start_time": "2021-10-26T17:37:18.230Z"
   },
   {
    "duration": 9,
    "start_time": "2021-10-26T17:37:18.259Z"
   },
   {
    "duration": 16,
    "start_time": "2021-10-26T17:37:18.274Z"
   },
   {
    "duration": 177,
    "start_time": "2021-10-26T17:37:18.292Z"
   },
   {
    "duration": 124,
    "start_time": "2021-10-26T17:37:18.472Z"
   },
   {
    "duration": -685,
    "start_time": "2021-10-26T17:37:19.284Z"
   },
   {
    "duration": -690,
    "start_time": "2021-10-26T17:37:19.291Z"
   },
   {
    "duration": -695,
    "start_time": "2021-10-26T17:37:19.297Z"
   },
   {
    "duration": -700,
    "start_time": "2021-10-26T17:37:19.304Z"
   },
   {
    "duration": -704,
    "start_time": "2021-10-26T17:37:19.309Z"
   },
   {
    "duration": -709,
    "start_time": "2021-10-26T17:37:19.315Z"
   },
   {
    "duration": -713,
    "start_time": "2021-10-26T17:37:19.321Z"
   },
   {
    "duration": -718,
    "start_time": "2021-10-26T17:37:19.327Z"
   },
   {
    "duration": -722,
    "start_time": "2021-10-26T17:37:19.333Z"
   },
   {
    "duration": -735,
    "start_time": "2021-10-26T17:37:19.347Z"
   },
   {
    "duration": -740,
    "start_time": "2021-10-26T17:37:19.354Z"
   },
   {
    "duration": -745,
    "start_time": "2021-10-26T17:37:19.360Z"
   },
   {
    "duration": -749,
    "start_time": "2021-10-26T17:37:19.365Z"
   },
   {
    "duration": -753,
    "start_time": "2021-10-26T17:37:19.371Z"
   },
   {
    "duration": -758,
    "start_time": "2021-10-26T17:37:19.377Z"
   },
   {
    "duration": -761,
    "start_time": "2021-10-26T17:37:19.382Z"
   },
   {
    "duration": -766,
    "start_time": "2021-10-26T17:37:19.388Z"
   },
   {
    "duration": -770,
    "start_time": "2021-10-26T17:37:19.393Z"
   },
   {
    "duration": -774,
    "start_time": "2021-10-26T17:37:19.399Z"
   },
   {
    "duration": -778,
    "start_time": "2021-10-26T17:37:19.404Z"
   },
   {
    "duration": -783,
    "start_time": "2021-10-26T17:37:19.410Z"
   },
   {
    "duration": -786,
    "start_time": "2021-10-26T17:37:19.415Z"
   },
   {
    "duration": -791,
    "start_time": "2021-10-26T17:37:19.421Z"
   },
   {
    "duration": 11,
    "start_time": "2021-10-26T17:37:42.740Z"
   },
   {
    "duration": 92,
    "start_time": "2021-10-26T17:37:44.481Z"
   },
   {
    "duration": 15,
    "start_time": "2021-10-26T17:37:44.655Z"
   },
   {
    "duration": 102,
    "start_time": "2021-10-26T17:37:45.428Z"
   },
   {
    "duration": 11,
    "start_time": "2021-10-26T17:37:45.629Z"
   },
   {
    "duration": 28,
    "start_time": "2021-10-26T17:37:46.200Z"
   },
   {
    "duration": 20,
    "start_time": "2021-10-26T17:37:46.609Z"
   },
   {
    "duration": 19,
    "start_time": "2021-10-26T17:37:47.324Z"
   },
   {
    "duration": 21,
    "start_time": "2021-10-26T17:37:47.506Z"
   },
   {
    "duration": 8,
    "start_time": "2021-10-26T17:37:47.838Z"
   },
   {
    "duration": 27,
    "start_time": "2021-10-26T17:37:48.113Z"
   },
   {
    "duration": 57,
    "start_time": "2021-10-26T17:37:50.681Z"
   },
   {
    "duration": 337,
    "start_time": "2021-10-26T17:37:50.841Z"
   },
   {
    "duration": 356,
    "start_time": "2021-10-26T17:37:51.181Z"
   },
   {
    "duration": 144,
    "start_time": "2021-10-26T17:37:51.545Z"
   },
   {
    "duration": 330,
    "start_time": "2021-10-26T17:37:51.959Z"
   },
   {
    "duration": 312,
    "start_time": "2021-10-26T17:37:52.292Z"
   },
   {
    "duration": 72,
    "start_time": "2021-10-26T17:37:52.607Z"
   },
   {
    "duration": 321,
    "start_time": "2021-10-26T17:37:53.023Z"
   },
   {
    "duration": 321,
    "start_time": "2021-10-26T17:37:53.348Z"
   },
   {
    "duration": 55,
    "start_time": "2021-10-26T17:37:53.674Z"
   },
   {
    "duration": 18,
    "start_time": "2021-10-26T17:37:53.804Z"
   },
   {
    "duration": 12,
    "start_time": "2021-10-26T17:37:53.998Z"
   },
   {
    "duration": 12,
    "start_time": "2021-10-26T17:37:54.801Z"
   },
   {
    "duration": 452,
    "start_time": "2021-12-18T09:18:36.186Z"
   },
   {
    "duration": 17268,
    "start_time": "2021-12-18T09:20:00.841Z"
   },
   {
    "duration": 2050,
    "start_time": "2021-12-18T09:20:18.112Z"
   },
   {
    "duration": 4,
    "start_time": "2021-12-18T09:20:20.165Z"
   },
   {
    "duration": 648,
    "start_time": "2021-12-18T09:20:20.172Z"
   },
   {
    "duration": 17,
    "start_time": "2021-12-18T09:20:20.823Z"
   },
   {
    "duration": 36,
    "start_time": "2021-12-18T09:20:20.842Z"
   },
   {
    "duration": 16,
    "start_time": "2021-12-18T09:20:20.880Z"
   },
   {
    "duration": 17,
    "start_time": "2021-12-18T09:20:20.899Z"
   },
   {
    "duration": 10,
    "start_time": "2021-12-18T09:20:20.919Z"
   },
   {
    "duration": 788,
    "start_time": "2021-12-18T09:20:20.932Z"
   },
   {
    "duration": 324,
    "start_time": "2021-12-18T09:20:26.738Z"
   },
   {
    "duration": 341,
    "start_time": "2021-12-18T09:20:32.996Z"
   },
   {
    "duration": 14,
    "start_time": "2021-12-18T09:21:05.725Z"
   },
   {
    "duration": 728,
    "start_time": "2021-12-18T09:22:48.004Z"
   },
   {
    "duration": 118,
    "start_time": "2021-12-18T09:25:20.445Z"
   },
   {
    "duration": 38,
    "start_time": "2021-12-18T09:30:52.124Z"
   },
   {
    "duration": 29,
    "start_time": "2021-12-18T09:35:41.473Z"
   },
   {
    "duration": 17,
    "start_time": "2021-12-18T09:35:56.062Z"
   },
   {
    "duration": 6555,
    "start_time": "2021-12-18T09:36:22.071Z"
   },
   {
    "duration": 3256,
    "start_time": "2021-12-18T09:36:33.415Z"
   },
   {
    "duration": 5,
    "start_time": "2021-12-18T09:36:36.674Z"
   },
   {
    "duration": 7,
    "start_time": "2021-12-18T09:36:36.681Z"
   },
   {
    "duration": 617,
    "start_time": "2021-12-18T09:36:36.690Z"
   },
   {
    "duration": 13,
    "start_time": "2021-12-18T09:36:37.310Z"
   },
   {
    "duration": 34,
    "start_time": "2021-12-18T09:36:37.325Z"
   },
   {
    "duration": 16,
    "start_time": "2021-12-18T09:36:37.361Z"
   },
   {
    "duration": 26,
    "start_time": "2021-12-18T09:36:37.381Z"
   },
   {
    "duration": 7,
    "start_time": "2021-12-18T09:36:37.411Z"
   },
   {
    "duration": 40,
    "start_time": "2021-12-18T09:36:37.421Z"
   },
   {
    "duration": 9,
    "start_time": "2021-12-18T09:36:37.463Z"
   },
   {
    "duration": 23,
    "start_time": "2021-12-18T09:36:37.474Z"
   },
   {
    "duration": 11,
    "start_time": "2021-12-18T09:36:37.500Z"
   },
   {
    "duration": 48,
    "start_time": "2021-12-18T09:36:37.514Z"
   },
   {
    "duration": 21,
    "start_time": "2021-12-18T09:36:37.565Z"
   },
   {
    "duration": 11,
    "start_time": "2021-12-18T09:36:37.588Z"
   },
   {
    "duration": 120,
    "start_time": "2021-12-18T09:36:37.601Z"
   },
   {
    "duration": 4,
    "start_time": "2021-12-18T09:36:37.724Z"
   },
   {
    "duration": 43,
    "start_time": "2021-12-18T09:36:37.730Z"
   },
   {
    "duration": 4,
    "start_time": "2021-12-18T09:36:37.775Z"
   },
   {
    "duration": 38,
    "start_time": "2021-12-18T09:36:37.782Z"
   },
   {
    "duration": 114,
    "start_time": "2021-12-18T09:36:37.823Z"
   },
   {
    "duration": 42,
    "start_time": "2021-12-18T09:36:37.959Z"
   },
   {
    "duration": 28,
    "start_time": "2021-12-18T09:36:54.737Z"
   },
   {
    "duration": 28,
    "start_time": "2021-12-18T09:36:59.633Z"
   },
   {
    "duration": 28,
    "start_time": "2021-12-18T09:37:33.843Z"
   },
   {
    "duration": 30,
    "start_time": "2021-12-18T09:37:36.400Z"
   },
   {
    "duration": 31,
    "start_time": "2021-12-18T09:37:52.801Z"
   },
   {
    "duration": 601,
    "start_time": "2021-12-18T09:40:39.932Z"
   },
   {
    "duration": 12,
    "start_time": "2021-12-18T09:40:44.545Z"
   },
   {
    "duration": 418,
    "start_time": "2021-12-18T09:41:33.362Z"
   },
   {
    "duration": 14,
    "start_time": "2021-12-18T09:42:06.328Z"
   },
   {
    "duration": 15,
    "start_time": "2021-12-18T09:42:18.169Z"
   },
   {
    "duration": 20,
    "start_time": "2021-12-18T09:42:50.854Z"
   },
   {
    "duration": 14,
    "start_time": "2021-12-18T09:42:58.097Z"
   },
   {
    "duration": 14,
    "start_time": "2021-12-18T09:43:06.452Z"
   },
   {
    "duration": 15,
    "start_time": "2021-12-18T09:43:10.801Z"
   },
   {
    "duration": 30,
    "start_time": "2021-12-18T09:44:12.991Z"
   },
   {
    "duration": 4159,
    "start_time": "2021-12-18T09:44:17.527Z"
   },
   {
    "duration": 4,
    "start_time": "2021-12-18T09:44:21.689Z"
   },
   {
    "duration": 9,
    "start_time": "2021-12-18T09:44:21.698Z"
   },
   {
    "duration": 685,
    "start_time": "2021-12-18T09:44:21.710Z"
   },
   {
    "duration": 12,
    "start_time": "2021-12-18T09:44:22.399Z"
   },
   {
    "duration": 28,
    "start_time": "2021-12-18T09:44:22.414Z"
   },
   {
    "duration": 16,
    "start_time": "2021-12-18T09:44:22.460Z"
   },
   {
    "duration": 15,
    "start_time": "2021-12-18T09:44:22.479Z"
   },
   {
    "duration": 6,
    "start_time": "2021-12-18T09:44:22.497Z"
   },
   {
    "duration": 62,
    "start_time": "2021-12-18T09:44:22.506Z"
   },
   {
    "duration": 9,
    "start_time": "2021-12-18T09:44:22.570Z"
   },
   {
    "duration": 22,
    "start_time": "2021-12-18T09:44:22.581Z"
   },
   {
    "duration": 11,
    "start_time": "2021-12-18T09:44:22.606Z"
   },
   {
    "duration": 12,
    "start_time": "2021-12-18T09:44:22.658Z"
   },
   {
    "duration": 34,
    "start_time": "2021-12-18T09:44:22.673Z"
   },
   {
    "duration": 46,
    "start_time": "2021-12-18T09:44:22.728Z"
   },
   {
    "duration": 32,
    "start_time": "2021-12-18T09:44:22.776Z"
   },
   {
    "duration": 60,
    "start_time": "2021-12-18T09:46:17.189Z"
   },
   {
    "duration": 483,
    "start_time": "2021-12-18T09:46:56.199Z"
   },
   {
    "duration": 82,
    "start_time": "2021-12-18T09:46:59.489Z"
   },
   {
    "duration": 117,
    "start_time": "2021-12-18T09:47:14.666Z"
   },
   {
    "duration": 69,
    "start_time": "2021-12-18T09:49:16.188Z"
   },
   {
    "duration": 66,
    "start_time": "2021-12-18T09:53:25.591Z"
   },
   {
    "duration": 66,
    "start_time": "2021-12-18T09:53:33.057Z"
   },
   {
    "duration": 70,
    "start_time": "2021-12-18T09:54:20.472Z"
   },
   {
    "duration": 72,
    "start_time": "2021-12-18T09:54:45.882Z"
   },
   {
    "duration": 317,
    "start_time": "2021-12-18T09:58:25.649Z"
   },
   {
    "duration": 29,
    "start_time": "2021-12-18T09:58:47.960Z"
   },
   {
    "duration": 6203,
    "start_time": "2021-12-18T10:00:22.517Z"
   },
   {
    "duration": 3550,
    "start_time": "2021-12-18T10:01:09.685Z"
   },
   {
    "duration": 4,
    "start_time": "2021-12-18T10:01:13.239Z"
   },
   {
    "duration": 17,
    "start_time": "2021-12-18T10:01:13.247Z"
   },
   {
    "duration": 757,
    "start_time": "2021-12-18T10:01:13.267Z"
   },
   {
    "duration": 12,
    "start_time": "2021-12-18T10:01:14.026Z"
   },
   {
    "duration": 31,
    "start_time": "2021-12-18T10:01:14.041Z"
   },
   {
    "duration": 19,
    "start_time": "2021-12-18T10:01:14.075Z"
   },
   {
    "duration": 15,
    "start_time": "2021-12-18T10:01:14.099Z"
   },
   {
    "duration": 6,
    "start_time": "2021-12-18T10:01:14.117Z"
   },
   {
    "duration": 46,
    "start_time": "2021-12-18T10:01:14.126Z"
   },
   {
    "duration": 5,
    "start_time": "2021-12-18T10:01:14.174Z"
   },
   {
    "duration": 18,
    "start_time": "2021-12-18T10:01:14.182Z"
   },
   {
    "duration": 58,
    "start_time": "2021-12-18T10:01:14.203Z"
   },
   {
    "duration": 9,
    "start_time": "2021-12-18T10:01:14.264Z"
   },
   {
    "duration": 22,
    "start_time": "2021-12-18T10:01:14.276Z"
   },
   {
    "duration": 14,
    "start_time": "2021-12-18T10:01:14.300Z"
   },
   {
    "duration": 128,
    "start_time": "2021-12-18T10:01:14.317Z"
   },
   {
    "duration": 13,
    "start_time": "2021-12-18T10:01:14.448Z"
   },
   {
    "duration": 28,
    "start_time": "2021-12-18T10:01:14.465Z"
   },
   {
    "duration": 5,
    "start_time": "2021-12-18T10:01:14.497Z"
   },
   {
    "duration": 77,
    "start_time": "2021-12-18T10:01:14.505Z"
   },
   {
    "duration": 85,
    "start_time": "2021-12-18T10:01:14.585Z"
   },
   {
    "duration": 31,
    "start_time": "2021-12-18T10:01:14.678Z"
   },
   {
    "duration": 89,
    "start_time": "2021-12-18T10:01:14.714Z"
   },
   {
    "duration": 35,
    "start_time": "2021-12-18T10:01:14.806Z"
   },
   {
    "duration": 325,
    "start_time": "2021-12-18T10:01:14.860Z"
   },
   {
    "duration": 11,
    "start_time": "2021-12-18T10:01:15.187Z"
   },
   {
    "duration": 4,
    "start_time": "2021-12-18T10:01:15.201Z"
   },
   {
    "duration": 53,
    "start_time": "2021-12-18T10:01:15.207Z"
   },
   {
    "duration": 5,
    "start_time": "2021-12-18T10:01:15.263Z"
   },
   {
    "duration": 46,
    "start_time": "2021-12-18T10:01:15.271Z"
   },
   {
    "duration": 82,
    "start_time": "2021-12-18T10:01:15.320Z"
   },
   {
    "duration": 239,
    "start_time": "2021-12-18T10:01:15.405Z"
   },
   {
    "duration": 46,
    "start_time": "2021-12-18T10:01:15.646Z"
   },
   {
    "duration": 438,
    "start_time": "2021-12-18T10:01:15.695Z"
   },
   {
    "duration": 25,
    "start_time": "2021-12-18T10:01:16.136Z"
   },
   {
    "duration": 13,
    "start_time": "2021-12-18T10:01:16.164Z"
   },
   {
    "duration": 32,
    "start_time": "2021-12-18T10:01:16.180Z"
   },
   {
    "duration": 68,
    "start_time": "2021-12-18T10:01:16.215Z"
   },
   {
    "duration": 5,
    "start_time": "2021-12-18T10:01:16.285Z"
   },
   {
    "duration": 34,
    "start_time": "2021-12-18T10:01:16.293Z"
   },
   {
    "duration": 90,
    "start_time": "2021-12-18T10:01:16.330Z"
   },
   {
    "duration": 39,
    "start_time": "2021-12-18T10:01:16.422Z"
   },
   {
    "duration": 20,
    "start_time": "2021-12-18T10:01:16.464Z"
   },
   {
    "duration": 299,
    "start_time": "2021-12-18T10:01:16.487Z"
   },
   {
    "duration": 11,
    "start_time": "2021-12-18T10:01:16.789Z"
   },
   {
    "duration": 7,
    "start_time": "2021-12-18T10:01:16.803Z"
   },
   {
    "duration": 15,
    "start_time": "2021-12-18T10:01:16.812Z"
   },
   {
    "duration": 147,
    "start_time": "2021-12-18T10:01:16.858Z"
   },
   {
    "duration": 11,
    "start_time": "2021-12-18T10:01:17.007Z"
   },
   {
    "duration": 104,
    "start_time": "2021-12-18T10:01:17.021Z"
   },
   {
    "duration": 11,
    "start_time": "2021-12-18T10:01:17.127Z"
   },
   {
    "duration": 100,
    "start_time": "2021-12-18T10:01:17.141Z"
   },
   {
    "duration": 17,
    "start_time": "2021-12-18T10:01:17.244Z"
   },
   {
    "duration": 28,
    "start_time": "2021-12-18T10:01:17.264Z"
   },
   {
    "duration": 21,
    "start_time": "2021-12-18T10:01:17.295Z"
   },
   {
    "duration": 56,
    "start_time": "2021-12-18T10:01:17.319Z"
   },
   {
    "duration": 23,
    "start_time": "2021-12-18T10:01:17.378Z"
   },
   {
    "duration": 7,
    "start_time": "2021-12-18T10:01:17.404Z"
   },
   {
    "duration": 61,
    "start_time": "2021-12-18T10:01:17.414Z"
   },
   {
    "duration": 56,
    "start_time": "2021-12-18T10:01:17.477Z"
   },
   {
    "duration": 331,
    "start_time": "2021-12-18T10:01:17.536Z"
   },
   {
    "duration": 570,
    "start_time": "2021-12-18T10:01:17.870Z"
   },
   {
    "duration": 88,
    "start_time": "2021-12-18T10:01:18.443Z"
   },
   {
    "duration": 408,
    "start_time": "2021-12-18T10:01:18.534Z"
   },
   {
    "duration": 301,
    "start_time": "2021-12-18T10:01:18.944Z"
   },
   {
    "duration": 65,
    "start_time": "2021-12-18T10:01:19.247Z"
   },
   {
    "duration": 317,
    "start_time": "2021-12-18T10:01:19.319Z"
   },
   {
    "duration": 308,
    "start_time": "2021-12-18T10:01:19.641Z"
   },
   {
    "duration": 82,
    "start_time": "2021-12-18T10:01:19.951Z"
   },
   {
    "duration": 36,
    "start_time": "2021-12-18T10:01:20.036Z"
   },
   {
    "duration": 12,
    "start_time": "2021-12-18T10:01:20.074Z"
   },
   {
    "duration": 11,
    "start_time": "2021-12-18T10:01:20.088Z"
   },
   {
    "duration": 32,
    "start_time": "2021-12-18T10:01:49.038Z"
   },
   {
    "duration": 24,
    "start_time": "2021-12-18T10:02:08.749Z"
   },
   {
    "duration": 21,
    "start_time": "2021-12-18T10:04:00.979Z"
   },
   {
    "duration": 22,
    "start_time": "2021-12-18T10:04:13.320Z"
   },
   {
    "duration": 3479,
    "start_time": "2021-12-18T10:04:24.498Z"
   },
   {
    "duration": 5,
    "start_time": "2021-12-18T10:04:27.980Z"
   },
   {
    "duration": 8,
    "start_time": "2021-12-18T10:04:27.988Z"
   },
   {
    "duration": 671,
    "start_time": "2021-12-18T10:04:27.999Z"
   },
   {
    "duration": 17,
    "start_time": "2021-12-18T10:04:28.672Z"
   },
   {
    "duration": 38,
    "start_time": "2021-12-18T10:04:28.691Z"
   },
   {
    "duration": 38,
    "start_time": "2021-12-18T10:04:28.732Z"
   },
   {
    "duration": 22,
    "start_time": "2021-12-18T10:04:28.775Z"
   },
   {
    "duration": 13,
    "start_time": "2021-12-18T10:04:28.801Z"
   },
   {
    "duration": 50,
    "start_time": "2021-12-18T10:04:28.817Z"
   },
   {
    "duration": 7,
    "start_time": "2021-12-18T10:04:28.870Z"
   },
   {
    "duration": 21,
    "start_time": "2021-12-18T10:04:28.880Z"
   },
   {
    "duration": 11,
    "start_time": "2021-12-18T10:04:28.904Z"
   },
   {
    "duration": 47,
    "start_time": "2021-12-18T10:04:28.918Z"
   },
   {
    "duration": 24,
    "start_time": "2021-12-18T10:04:28.968Z"
   },
   {
    "duration": 15,
    "start_time": "2021-12-18T10:04:28.995Z"
   },
   {
    "duration": 154,
    "start_time": "2021-12-18T10:04:29.013Z"
   },
   {
    "duration": 5,
    "start_time": "2021-12-18T10:04:29.170Z"
   },
   {
    "duration": 29,
    "start_time": "2021-12-18T10:04:29.178Z"
   },
   {
    "duration": 6,
    "start_time": "2021-12-18T10:04:29.209Z"
   },
   {
    "duration": 70,
    "start_time": "2021-12-18T10:04:29.217Z"
   },
   {
    "duration": 95,
    "start_time": "2021-12-18T10:04:29.290Z"
   },
   {
    "duration": 39,
    "start_time": "2021-12-18T10:04:29.394Z"
   },
   {
    "duration": 96,
    "start_time": "2021-12-18T10:04:29.437Z"
   },
   {
    "duration": 51,
    "start_time": "2021-12-18T10:04:29.535Z"
   },
   {
    "duration": 375,
    "start_time": "2021-12-18T10:04:29.589Z"
   },
   {
    "duration": 11,
    "start_time": "2021-12-18T10:04:29.966Z"
   },
   {
    "duration": 16,
    "start_time": "2021-12-18T10:04:29.981Z"
   },
   {
    "duration": 26,
    "start_time": "2021-12-18T10:04:30.000Z"
   },
   {
    "duration": 5,
    "start_time": "2021-12-18T10:04:30.029Z"
   },
   {
    "duration": 34,
    "start_time": "2021-12-18T10:04:30.059Z"
   },
   {
    "duration": 73,
    "start_time": "2021-12-18T10:04:30.096Z"
   },
   {
    "duration": 151,
    "start_time": "2021-12-18T10:04:30.172Z"
   },
   {
    "duration": 56,
    "start_time": "2021-12-18T10:04:30.326Z"
   },
   {
    "duration": 369,
    "start_time": "2021-12-18T10:04:30.385Z"
   },
   {
    "duration": 14,
    "start_time": "2021-12-18T10:04:30.760Z"
   },
   {
    "duration": 15,
    "start_time": "2021-12-18T10:04:30.777Z"
   },
   {
    "duration": 27,
    "start_time": "2021-12-18T10:04:30.795Z"
   },
   {
    "duration": 65,
    "start_time": "2021-12-18T10:04:30.826Z"
   },
   {
    "duration": 5,
    "start_time": "2021-12-18T10:04:30.893Z"
   },
   {
    "duration": 60,
    "start_time": "2021-12-18T10:04:30.900Z"
   },
   {
    "duration": 96,
    "start_time": "2021-12-18T10:04:30.963Z"
   },
   {
    "duration": 23,
    "start_time": "2021-12-18T10:04:31.062Z"
   },
   {
    "duration": 33,
    "start_time": "2021-12-18T10:04:31.089Z"
   },
   {
    "duration": 357,
    "start_time": "2021-12-18T10:04:31.125Z"
   },
   {
    "duration": 15,
    "start_time": "2021-12-18T10:04:31.485Z"
   },
   {
    "duration": 12,
    "start_time": "2021-12-18T10:04:31.503Z"
   },
   {
    "duration": 41,
    "start_time": "2021-12-18T10:04:31.518Z"
   },
   {
    "duration": 183,
    "start_time": "2021-12-18T10:04:31.562Z"
   },
   {
    "duration": 38,
    "start_time": "2021-12-18T10:04:31.747Z"
   },
   {
    "duration": 112,
    "start_time": "2021-12-18T10:04:31.787Z"
   },
   {
    "duration": 11,
    "start_time": "2021-12-18T10:04:31.902Z"
   },
   {
    "duration": 138,
    "start_time": "2021-12-18T10:04:31.916Z"
   },
   {
    "duration": 11,
    "start_time": "2021-12-18T10:04:32.056Z"
   },
   {
    "duration": 35,
    "start_time": "2021-12-18T10:04:32.070Z"
   },
   {
    "duration": 54,
    "start_time": "2021-12-18T10:04:32.108Z"
   },
   {
    "duration": 18,
    "start_time": "2021-12-18T10:04:32.165Z"
   },
   {
    "duration": 21,
    "start_time": "2021-12-18T10:04:32.185Z"
   },
   {
    "duration": 320,
    "start_time": "2021-12-18T10:05:45.506Z"
   },
   {
    "duration": 3606,
    "start_time": "2021-12-18T12:00:50.051Z"
   },
   {
    "duration": 1500,
    "start_time": "2021-12-18T12:00:53.660Z"
   },
   {
    "duration": 4,
    "start_time": "2021-12-18T12:00:55.163Z"
   },
   {
    "duration": 664,
    "start_time": "2021-12-18T12:00:55.170Z"
   },
   {
    "duration": 15,
    "start_time": "2021-12-18T12:00:55.837Z"
   },
   {
    "duration": 24,
    "start_time": "2021-12-18T12:00:55.854Z"
   },
   {
    "duration": 15,
    "start_time": "2021-12-18T12:00:55.881Z"
   },
   {
    "duration": 15,
    "start_time": "2021-12-18T12:00:55.899Z"
   },
   {
    "duration": 35,
    "start_time": "2021-12-18T12:00:55.929Z"
   },
   {
    "duration": 20,
    "start_time": "2021-12-18T12:00:55.969Z"
   },
   {
    "duration": 9,
    "start_time": "2021-12-18T12:00:55.992Z"
   },
   {
    "duration": 740,
    "start_time": "2021-12-18T12:00:56.004Z"
   },
   {
    "duration": 16,
    "start_time": "2021-12-18T12:00:56.747Z"
   },
   {
    "duration": 13,
    "start_time": "2021-12-18T12:00:56.766Z"
   },
   {
    "duration": 27,
    "start_time": "2021-12-18T12:00:56.781Z"
   },
   {
    "duration": 10,
    "start_time": "2021-12-18T12:00:56.811Z"
   },
   {
    "duration": 130,
    "start_time": "2021-12-18T12:00:56.824Z"
   },
   {
    "duration": 5,
    "start_time": "2021-12-18T12:00:56.956Z"
   },
   {
    "duration": 29,
    "start_time": "2021-12-18T12:00:56.963Z"
   },
   {
    "duration": 5,
    "start_time": "2021-12-18T12:00:56.994Z"
   },
   {
    "duration": 73,
    "start_time": "2021-12-18T12:00:57.002Z"
   },
   {
    "duration": 98,
    "start_time": "2021-12-18T12:00:57.078Z"
   },
   {
    "duration": 33,
    "start_time": "2021-12-18T12:00:57.179Z"
   },
   {
    "duration": 88,
    "start_time": "2021-12-18T12:00:57.214Z"
   },
   {
    "duration": 35,
    "start_time": "2021-12-18T12:00:57.304Z"
   },
   {
    "duration": 321,
    "start_time": "2021-12-18T12:00:57.341Z"
   },
   {
    "duration": 13,
    "start_time": "2021-12-18T12:00:57.668Z"
   },
   {
    "duration": 5,
    "start_time": "2021-12-18T12:00:57.684Z"
   },
   {
    "duration": 22,
    "start_time": "2021-12-18T12:00:57.691Z"
   },
   {
    "duration": 48,
    "start_time": "2021-12-18T12:00:57.716Z"
   },
   {
    "duration": 32,
    "start_time": "2021-12-18T12:00:57.767Z"
   },
   {
    "duration": 67,
    "start_time": "2021-12-18T12:00:57.802Z"
   },
   {
    "duration": 147,
    "start_time": "2021-12-18T12:00:57.871Z"
   },
   {
    "duration": 44,
    "start_time": "2021-12-18T12:00:58.020Z"
   },
   {
    "duration": 308,
    "start_time": "2021-12-18T12:00:58.067Z"
   },
   {
    "duration": 12,
    "start_time": "2021-12-18T12:00:58.378Z"
   },
   {
    "duration": 10,
    "start_time": "2021-12-18T12:00:58.392Z"
   },
   {
    "duration": 56,
    "start_time": "2021-12-18T12:00:58.405Z"
   },
   {
    "duration": 29,
    "start_time": "2021-12-18T12:00:58.463Z"
   },
   {
    "duration": 5,
    "start_time": "2021-12-18T12:00:58.494Z"
   },
   {
    "duration": 60,
    "start_time": "2021-12-18T12:00:58.501Z"
   },
   {
    "duration": 81,
    "start_time": "2021-12-18T12:00:58.564Z"
   },
   {
    "duration": 27,
    "start_time": "2021-12-18T12:00:58.660Z"
   },
   {
    "duration": 36,
    "start_time": "2021-12-18T12:00:58.690Z"
   },
   {
    "duration": 392,
    "start_time": "2021-12-18T12:00:58.729Z"
   },
   {
    "duration": 11,
    "start_time": "2021-12-18T12:00:59.124Z"
   },
   {
    "duration": 22,
    "start_time": "2021-12-18T12:00:59.138Z"
   },
   {
    "duration": 18,
    "start_time": "2021-12-18T12:00:59.163Z"
   },
   {
    "duration": 169,
    "start_time": "2021-12-18T12:00:59.183Z"
   },
   {
    "duration": 10,
    "start_time": "2021-12-18T12:00:59.359Z"
   },
   {
    "duration": 114,
    "start_time": "2021-12-18T12:00:59.372Z"
   },
   {
    "duration": 10,
    "start_time": "2021-12-18T12:00:59.488Z"
   },
   {
    "duration": 116,
    "start_time": "2021-12-18T12:00:59.500Z"
   },
   {
    "duration": 10,
    "start_time": "2021-12-18T12:00:59.618Z"
   },
   {
    "duration": 43,
    "start_time": "2021-12-18T12:00:59.630Z"
   },
   {
    "duration": 18,
    "start_time": "2021-12-18T12:00:59.676Z"
   },
   {
    "duration": 18,
    "start_time": "2021-12-18T12:00:59.697Z"
   },
   {
    "duration": 57,
    "start_time": "2021-12-18T12:00:59.717Z"
   },
   {
    "duration": 7,
    "start_time": "2021-12-18T12:00:59.776Z"
   },
   {
    "duration": 81,
    "start_time": "2021-12-18T12:00:59.785Z"
   },
   {
    "duration": 342,
    "start_time": "2021-12-18T12:00:59.869Z"
   },
   {
    "duration": 348,
    "start_time": "2021-12-18T12:01:00.214Z"
   },
   {
    "duration": 147,
    "start_time": "2021-12-18T12:01:00.564Z"
   },
   {
    "duration": 434,
    "start_time": "2021-12-18T12:01:00.714Z"
   },
   {
    "duration": 330,
    "start_time": "2021-12-18T12:01:01.151Z"
   },
   {
    "duration": 60,
    "start_time": "2021-12-18T12:01:01.485Z"
   },
   {
    "duration": 338,
    "start_time": "2021-12-18T12:01:01.561Z"
   },
   {
    "duration": 317,
    "start_time": "2021-12-18T12:01:01.902Z"
   },
   {
    "duration": 67,
    "start_time": "2021-12-18T12:01:02.222Z"
   },
   {
    "duration": 17,
    "start_time": "2021-12-18T12:01:02.292Z"
   },
   {
    "duration": 13,
    "start_time": "2021-12-18T12:01:02.312Z"
   },
   {
    "duration": 42,
    "start_time": "2021-12-18T12:01:02.328Z"
   }
  ],
  "kernelspec": {
   "display_name": "Python 3",
   "language": "python",
   "name": "python3"
  },
  "language_info": {
   "codemirror_mode": {
    "name": "ipython",
    "version": 3
   },
   "file_extension": ".py",
   "mimetype": "text/x-python",
   "name": "python",
   "nbconvert_exporter": "python",
   "pygments_lexer": "ipython3",
   "version": "3.10.1"
  },
  "toc": {
   "base_numbering": 1,
   "nav_menu": {},
   "number_sections": true,
   "sideBar": true,
   "skip_h1_title": true,
   "title_cell": "Table of Contents",
   "title_sidebar": "Contents",
   "toc_cell": false,
   "toc_position": {},
   "toc_section_display": true,
   "toc_window_display": false
  }
 },
 "nbformat": 4,
 "nbformat_minor": 2
}
