{
 "cells": [
  {
   "cell_type": "markdown",
   "metadata": {},
   "source": [
    "# <span style=\"color: crimson\">Рекомендация тарифов</span>\n",
    "---\n",
    "**<span style=\"color: crimson\">Заказчик</span>**: оператор мобильной связи «Мегалайн».  \n",
    "**<span style=\"color: crimson\">Цель анализа</span>**: нужно построить модель для задачи классификации, которая выберет подходящий тариф.  \n",
    "**<span style=\"color: crimson\">Датасет</span>**: данные о поведении клиентов, которые уже перешли на один из тарифов. Каждый объект в наборе данных — это информация о поведении одного пользователя за месяц.\n",
    "\n",
    "\n",
    "---"
   ]
  },
  {
   "cell_type": "markdown",
   "metadata": {},
   "source": [
    "<b>Описание данных:</b>  \n",
    "* <span style=\"color: red\"><b>сalls </b></span> — количество звонков\n",
    "* <span style=\"color: red\"><b>minutes </b></span> — суммарная длительность звонков в минутах,\n",
    "* <span style=\"color: red\"><b>messages </b></span> — количество sms-сообщений,\n",
    "* <span style=\"color: red\"><b>mb_used </b></span> — израсходованный интернет-трафик в Мб,\n",
    "* <span style=\"color: red\"><b>is_ultra </b></span> — каким тарифом пользовался в течение месяца («Ультра» — 1, «Смарт» — 0)."
   ]
  },
  {
   "cell_type": "markdown",
   "metadata": {},
   "source": [
    "## Импорт библиотек:"
   ]
  },
  {
   "cell_type": "code",
   "execution_count": 1,
   "metadata": {},
   "outputs": [
    {
     "name": "stdout",
     "output_type": "stream",
     "text": [
      "Requirement already satisfied: sklearn in c:\\users\\владелец\\appdata\\local\\programs\\python\\python310\\lib\\site-packages (0.0)\n",
      "Requirement already satisfied: scikit-learn in c:\\users\\владелец\\appdata\\local\\programs\\python\\python310\\lib\\site-packages (from sklearn) (1.0.2)\n",
      "Requirement already satisfied: joblib>=0.11 in c:\\users\\владелец\\appdata\\local\\programs\\python\\python310\\lib\\site-packages (from scikit-learn->sklearn) (1.1.0)\n",
      "Requirement already satisfied: threadpoolctl>=2.0.0 in c:\\users\\владелец\\appdata\\local\\programs\\python\\python310\\lib\\site-packages (from scikit-learn->sklearn) (3.1.0)\n",
      "Requirement already satisfied: numpy>=1.14.6 in c:\\users\\владелец\\appdata\\local\\programs\\python\\python310\\lib\\site-packages (from scikit-learn->sklearn) (1.22.3)\n",
      "Requirement already satisfied: scipy>=1.1.0 in c:\\users\\владелец\\appdata\\local\\programs\\python\\python310\\lib\\site-packages (from scikit-learn->sklearn) (1.7.3)\n",
      "Requirement already satisfied: optuna in c:\\users\\владелец\\appdata\\local\\programs\\python\\python310\\lib\\site-packages (2.10.0)\n",
      "Requirement already satisfied: alembic in c:\\users\\владелец\\appdata\\local\\programs\\python\\python310\\lib\\site-packages (from optuna) (1.7.7)\n",
      "Requirement already satisfied: sqlalchemy>=1.1.0 in c:\\users\\владелец\\appdata\\local\\programs\\python\\python310\\lib\\site-packages (from optuna) (1.4.32)\n",
      "Requirement already satisfied: cmaes>=0.8.2 in c:\\users\\владелец\\appdata\\local\\programs\\python\\python310\\lib\\site-packages (from optuna) (0.8.2)\n",
      "Requirement already satisfied: tqdm in c:\\users\\владелец\\appdata\\local\\programs\\python\\python310\\lib\\site-packages (from optuna) (4.62.3)\n",
      "Requirement already satisfied: PyYAML in c:\\users\\владелец\\appdata\\local\\programs\\python\\python310\\lib\\site-packages (from optuna) (6.0)\n",
      "Requirement already satisfied: packaging>=20.0 in c:\\users\\владелец\\appdata\\local\\programs\\python\\python310\\lib\\site-packages (from optuna) (21.3)\n",
      "Requirement already satisfied: cliff in c:\\users\\владелец\\appdata\\local\\programs\\python\\python310\\lib\\site-packages (from optuna) (3.10.1)\n",
      "Requirement already satisfied: numpy in c:\\users\\владелец\\appdata\\local\\programs\\python\\python310\\lib\\site-packages (from optuna) (1.22.3)\n",
      "Requirement already satisfied: colorlog in c:\\users\\владелец\\appdata\\local\\programs\\python\\python310\\lib\\site-packages (from optuna) (6.6.0)\n",
      "Requirement already satisfied: scipy!=1.4.0 in c:\\users\\владелец\\appdata\\local\\programs\\python\\python310\\lib\\site-packages (from optuna) (1.7.3)\n",
      "Requirement already satisfied: pyparsing!=3.0.5,>=2.0.2 in c:\\users\\владелец\\appdata\\local\\programs\\python\\python310\\lib\\site-packages (from packaging>=20.0->optuna) (3.0.7)\n",
      "Requirement already satisfied: greenlet!=0.4.17 in c:\\users\\владелец\\appdata\\local\\programs\\python\\python310\\lib\\site-packages (from sqlalchemy>=1.1.0->optuna) (1.1.2)\n",
      "Requirement already satisfied: Mako in c:\\users\\владелец\\appdata\\local\\programs\\python\\python310\\lib\\site-packages (from alembic->optuna) (1.2.0)\n",
      "Requirement already satisfied: pbr!=2.1.0,>=2.0.0 in c:\\users\\владелец\\appdata\\local\\programs\\python\\python310\\lib\\site-packages (from cliff->optuna) (5.8.1)\n",
      "Requirement already satisfied: stevedore>=2.0.1 in c:\\users\\владелец\\appdata\\local\\programs\\python\\python310\\lib\\site-packages (from cliff->optuna) (3.5.0)\n",
      "Requirement already satisfied: PrettyTable>=0.7.2 in c:\\users\\владелец\\appdata\\local\\programs\\python\\python310\\lib\\site-packages (from cliff->optuna) (3.2.0)\n",
      "Requirement already satisfied: autopage>=0.4.0 in c:\\users\\владелец\\appdata\\local\\programs\\python\\python310\\lib\\site-packages (from cliff->optuna) (0.5.0)\n",
      "Requirement already satisfied: cmd2>=1.0.0 in c:\\users\\владелец\\appdata\\local\\programs\\python\\python310\\lib\\site-packages (from cliff->optuna) (2.4.0)\n",
      "Requirement already satisfied: colorama in c:\\users\\владелец\\appdata\\local\\programs\\python\\python310\\lib\\site-packages (from colorlog->optuna) (0.4.4)\n",
      "Requirement already satisfied: pyreadline3 in c:\\users\\владелец\\appdata\\local\\programs\\python\\python310\\lib\\site-packages (from cmd2>=1.0.0->cliff->optuna) (3.4.1)\n",
      "Requirement already satisfied: pyperclip>=1.6 in c:\\users\\владелец\\appdata\\local\\programs\\python\\python310\\lib\\site-packages (from cmd2>=1.0.0->cliff->optuna) (1.8.2)\n",
      "Requirement already satisfied: wcwidth>=0.1.7 in c:\\users\\владелец\\appdata\\local\\programs\\python\\python310\\lib\\site-packages (from cmd2>=1.0.0->cliff->optuna) (0.2.5)\n",
      "Requirement already satisfied: attrs>=16.3.0 in c:\\users\\владелец\\appdata\\local\\programs\\python\\python310\\lib\\site-packages (from cmd2>=1.0.0->cliff->optuna) (21.4.0)\n",
      "Requirement already satisfied: MarkupSafe>=0.9.2 in c:\\users\\владелец\\appdata\\local\\programs\\python\\python310\\lib\\site-packages (from Mako->alembic->optuna) (2.1.1)\n"
     ]
    }
   ],
   "source": [
    "!pip3 install sklearn\n",
    "!pip3 install optuna"
   ]
  },
  {
   "cell_type": "code",
   "execution_count": 2,
   "metadata": {},
   "outputs": [],
   "source": [
    "import pandas as pd\n",
    "from sklearn.model_selection import train_test_split, cross_val_score, KFold\n",
    "from sklearn.tree import DecisionTreeClassifier\n",
    "from sklearn.ensemble import RandomForestClassifier, GradientBoostingClassifier\n",
    "from sklearn.linear_model import LogisticRegression\n",
    "from sklearn.metrics import accuracy_score, f1_score \n",
    "from sklearn.dummy import DummyClassifier\n",
    "import optuna\n",
    "from sklearn.metrics import make_scorer, f1_score"
   ]
  },
  {
   "cell_type": "markdown",
   "metadata": {},
   "source": [
    "## <span style=\"color: crimson\">Этап 1</span> Изучение данных"
   ]
  },
  {
   "cell_type": "code",
   "execution_count": 3,
   "metadata": {},
   "outputs": [],
   "source": [
    "df = pd.read_csv('./users_behavior.csv')"
   ]
  },
  {
   "cell_type": "code",
   "execution_count": 4,
   "metadata": {},
   "outputs": [
    {
     "data": {
      "text/html": [
       "<div>\n",
       "<style scoped>\n",
       "    .dataframe tbody tr th:only-of-type {\n",
       "        vertical-align: middle;\n",
       "    }\n",
       "\n",
       "    .dataframe tbody tr th {\n",
       "        vertical-align: top;\n",
       "    }\n",
       "\n",
       "    .dataframe thead th {\n",
       "        text-align: right;\n",
       "    }\n",
       "</style>\n",
       "<table border=\"1\" class=\"dataframe\">\n",
       "  <thead>\n",
       "    <tr style=\"text-align: right;\">\n",
       "      <th></th>\n",
       "      <th>calls</th>\n",
       "      <th>minutes</th>\n",
       "      <th>messages</th>\n",
       "      <th>mb_used</th>\n",
       "      <th>is_ultra</th>\n",
       "    </tr>\n",
       "  </thead>\n",
       "  <tbody>\n",
       "    <tr>\n",
       "      <th>0</th>\n",
       "      <td>40.0</td>\n",
       "      <td>311.90</td>\n",
       "      <td>83.0</td>\n",
       "      <td>19915.42</td>\n",
       "      <td>0</td>\n",
       "    </tr>\n",
       "    <tr>\n",
       "      <th>1</th>\n",
       "      <td>85.0</td>\n",
       "      <td>516.75</td>\n",
       "      <td>56.0</td>\n",
       "      <td>22696.96</td>\n",
       "      <td>0</td>\n",
       "    </tr>\n",
       "    <tr>\n",
       "      <th>2</th>\n",
       "      <td>77.0</td>\n",
       "      <td>467.66</td>\n",
       "      <td>86.0</td>\n",
       "      <td>21060.45</td>\n",
       "      <td>0</td>\n",
       "    </tr>\n",
       "    <tr>\n",
       "      <th>3</th>\n",
       "      <td>106.0</td>\n",
       "      <td>745.53</td>\n",
       "      <td>81.0</td>\n",
       "      <td>8437.39</td>\n",
       "      <td>1</td>\n",
       "    </tr>\n",
       "    <tr>\n",
       "      <th>4</th>\n",
       "      <td>66.0</td>\n",
       "      <td>418.74</td>\n",
       "      <td>1.0</td>\n",
       "      <td>14502.75</td>\n",
       "      <td>0</td>\n",
       "    </tr>\n",
       "  </tbody>\n",
       "</table>\n",
       "</div>"
      ],
      "text/plain": [
       "   calls  minutes  messages   mb_used  is_ultra\n",
       "0   40.0   311.90      83.0  19915.42         0\n",
       "1   85.0   516.75      56.0  22696.96         0\n",
       "2   77.0   467.66      86.0  21060.45         0\n",
       "3  106.0   745.53      81.0   8437.39         1\n",
       "4   66.0   418.74       1.0  14502.75         0"
      ]
     },
     "execution_count": 4,
     "metadata": {},
     "output_type": "execute_result"
    }
   ],
   "source": [
    "df.head()"
   ]
  },
  {
   "cell_type": "code",
   "execution_count": 5,
   "metadata": {},
   "outputs": [
    {
     "name": "stdout",
     "output_type": "stream",
     "text": [
      "<class 'pandas.core.frame.DataFrame'>\n",
      "RangeIndex: 3214 entries, 0 to 3213\n",
      "Data columns (total 5 columns):\n",
      " #   Column    Non-Null Count  Dtype  \n",
      "---  ------    --------------  -----  \n",
      " 0   calls     3214 non-null   float64\n",
      " 1   minutes   3214 non-null   float64\n",
      " 2   messages  3214 non-null   float64\n",
      " 3   mb_used   3214 non-null   float64\n",
      " 4   is_ultra  3214 non-null   int64  \n",
      "dtypes: float64(4), int64(1)\n",
      "memory usage: 125.7 KB\n"
     ]
    }
   ],
   "source": [
    "df.info()"
   ]
  },
  {
   "cell_type": "code",
   "execution_count": 6,
   "metadata": {},
   "outputs": [
    {
     "data": {
      "text/html": [
       "<div>\n",
       "<style scoped>\n",
       "    .dataframe tbody tr th:only-of-type {\n",
       "        vertical-align: middle;\n",
       "    }\n",
       "\n",
       "    .dataframe tbody tr th {\n",
       "        vertical-align: top;\n",
       "    }\n",
       "\n",
       "    .dataframe thead th {\n",
       "        text-align: right;\n",
       "    }\n",
       "</style>\n",
       "<table border=\"1\" class=\"dataframe\">\n",
       "  <thead>\n",
       "    <tr style=\"text-align: right;\">\n",
       "      <th></th>\n",
       "      <th>calls</th>\n",
       "      <th>minutes</th>\n",
       "      <th>messages</th>\n",
       "      <th>mb_used</th>\n",
       "      <th>is_ultra</th>\n",
       "    </tr>\n",
       "  </thead>\n",
       "  <tbody>\n",
       "    <tr>\n",
       "      <th>count</th>\n",
       "      <td>3214.000000</td>\n",
       "      <td>3214.000000</td>\n",
       "      <td>3214.000000</td>\n",
       "      <td>3214.000000</td>\n",
       "      <td>3214.000000</td>\n",
       "    </tr>\n",
       "    <tr>\n",
       "      <th>mean</th>\n",
       "      <td>63.038892</td>\n",
       "      <td>438.208787</td>\n",
       "      <td>38.281269</td>\n",
       "      <td>17207.673836</td>\n",
       "      <td>0.306472</td>\n",
       "    </tr>\n",
       "    <tr>\n",
       "      <th>std</th>\n",
       "      <td>33.236368</td>\n",
       "      <td>234.569872</td>\n",
       "      <td>36.148326</td>\n",
       "      <td>7570.968246</td>\n",
       "      <td>0.461100</td>\n",
       "    </tr>\n",
       "    <tr>\n",
       "      <th>min</th>\n",
       "      <td>0.000000</td>\n",
       "      <td>0.000000</td>\n",
       "      <td>0.000000</td>\n",
       "      <td>0.000000</td>\n",
       "      <td>0.000000</td>\n",
       "    </tr>\n",
       "    <tr>\n",
       "      <th>25%</th>\n",
       "      <td>40.000000</td>\n",
       "      <td>274.575000</td>\n",
       "      <td>9.000000</td>\n",
       "      <td>12491.902500</td>\n",
       "      <td>0.000000</td>\n",
       "    </tr>\n",
       "    <tr>\n",
       "      <th>50%</th>\n",
       "      <td>62.000000</td>\n",
       "      <td>430.600000</td>\n",
       "      <td>30.000000</td>\n",
       "      <td>16943.235000</td>\n",
       "      <td>0.000000</td>\n",
       "    </tr>\n",
       "    <tr>\n",
       "      <th>75%</th>\n",
       "      <td>82.000000</td>\n",
       "      <td>571.927500</td>\n",
       "      <td>57.000000</td>\n",
       "      <td>21424.700000</td>\n",
       "      <td>1.000000</td>\n",
       "    </tr>\n",
       "    <tr>\n",
       "      <th>max</th>\n",
       "      <td>244.000000</td>\n",
       "      <td>1632.060000</td>\n",
       "      <td>224.000000</td>\n",
       "      <td>49745.730000</td>\n",
       "      <td>1.000000</td>\n",
       "    </tr>\n",
       "  </tbody>\n",
       "</table>\n",
       "</div>"
      ],
      "text/plain": [
       "             calls      minutes     messages       mb_used     is_ultra\n",
       "count  3214.000000  3214.000000  3214.000000   3214.000000  3214.000000\n",
       "mean     63.038892   438.208787    38.281269  17207.673836     0.306472\n",
       "std      33.236368   234.569872    36.148326   7570.968246     0.461100\n",
       "min       0.000000     0.000000     0.000000      0.000000     0.000000\n",
       "25%      40.000000   274.575000     9.000000  12491.902500     0.000000\n",
       "50%      62.000000   430.600000    30.000000  16943.235000     0.000000\n",
       "75%      82.000000   571.927500    57.000000  21424.700000     1.000000\n",
       "max     244.000000  1632.060000   224.000000  49745.730000     1.000000"
      ]
     },
     "execution_count": 6,
     "metadata": {},
     "output_type": "execute_result"
    }
   ],
   "source": [
    "df.describe()"
   ]
  },
  {
   "cell_type": "markdown",
   "metadata": {},
   "source": [
    "### <center><span style=\"color: crimson\"><b>Вывод</b></span></center>\n",
    "В данных:  \n",
    "1. Нет пропусков.\n",
    "2. Почти нет выбросов (среднее близко к медиане).\n",
    "3. Количество пользователей с тарифом Смарт в два раза больше чем пользователей тарифа Ультра.\n",
    "4. В столбцах calls и messages тип float, можно его не исправлять."
   ]
  },
  {
   "cell_type": "markdown",
   "metadata": {},
   "source": [
    "## <span style=\"color: crimson\">Этап 2</span> Разбиение данных на выборки"
   ]
  },
  {
   "cell_type": "code",
   "execution_count": 7,
   "metadata": {},
   "outputs": [],
   "source": [
    "df_train, df_test = train_test_split(df, test_size=0.2, random_state=12345)"
   ]
  },
  {
   "cell_type": "markdown",
   "metadata": {},
   "source": [
    "Разбиение произошло корректно."
   ]
  },
  {
   "cell_type": "markdown",
   "metadata": {},
   "source": [
    "----"
   ]
  },
  {
   "cell_type": "code",
   "execution_count": 8,
   "metadata": {},
   "outputs": [],
   "source": [
    "features_train = df_train.drop(['is_ultra'], axis=1) # создаем признаки для обучающей выборки\n",
    "target_train = df_train['is_ultra'] # создаем целевой признак для обучающей выборки"
   ]
  },
  {
   "cell_type": "code",
   "execution_count": 9,
   "metadata": {},
   "outputs": [
    {
     "name": "stdout",
     "output_type": "stream",
     "text": [
      "(2571, 4)\n",
      "(2571,)\n"
     ]
    }
   ],
   "source": [
    "print(features_train.shape)\n",
    "print(target_train.shape)"
   ]
  },
  {
   "cell_type": "markdown",
   "metadata": {},
   "source": [
    "В обучающей выборке целевой и остальные признаки разделены корректно."
   ]
  },
  {
   "cell_type": "code",
   "execution_count": 10,
   "metadata": {},
   "outputs": [],
   "source": [
    "features_test = df_test.drop(['is_ultra'], axis=1) # создаем признаки для тестовой выборки\n",
    "target_test = df_test['is_ultra'] # создаем целевой признак для тестовой выборки"
   ]
  },
  {
   "cell_type": "code",
   "execution_count": 11,
   "metadata": {},
   "outputs": [
    {
     "name": "stdout",
     "output_type": "stream",
     "text": [
      "(643, 4)\n",
      "(643,)\n"
     ]
    }
   ],
   "source": [
    "print(features_test.shape)\n",
    "print(target_test.shape)"
   ]
  },
  {
   "cell_type": "markdown",
   "metadata": {},
   "source": [
    "В тестовой выборке целевой и остальные признаки разделены корректно."
   ]
  },
  {
   "cell_type": "markdown",
   "metadata": {},
   "source": [
    "## <span style=\"color: crimson\">Этап 3</span> Настройка моделей"
   ]
  },
  {
   "cell_type": "markdown",
   "metadata": {},
   "source": [
    "### **Используемые модели:**\n",
    "* Градиентный бустинг классификации\n",
    "* Случайный лес\n",
    "* Логистическая регрессия"
   ]
  },
  {
   "cell_type": "markdown",
   "metadata": {},
   "source": [
    "**Настройка optuma**"
   ]
  },
  {
   "cell_type": "code",
   "execution_count": 12,
   "metadata": {},
   "outputs": [],
   "source": [
    "# RANDOM_SEED = 666\n",
    "\n",
    "# kfolds = KFold(n_splits=10, shuffle=True, random_state=RANDOM_SEED)\n",
    "\n",
    "# def tune(objective):\n",
    "#     study = optuna.create_study(direction=\"maximize\")\n",
    "#     study.optimize(objective, n_trials=100)\n",
    "\n",
    "#     params = study.best_params\n",
    "#     best_score = study.best_value\n",
    "#     print(f\"Best score: {best_score}\\n\")\n",
    "#     print(f\"Optimized parameters: {params}\\n\")\n",
    "#     return params"
   ]
  },
  {
   "cell_type": "markdown",
   "metadata": {},
   "source": [
    "---"
   ]
  },
  {
   "cell_type": "markdown",
   "metadata": {},
   "source": [
    "<h3>Градиентный бустинг классификации</h3>"
   ]
  },
  {
   "cell_type": "markdown",
   "metadata": {},
   "source": [
    "|Поиск гиперпараметров (optuna)."
   ]
  },
  {
   "cell_type": "code",
   "execution_count": 13,
   "metadata": {
    "scrolled": true
   },
   "outputs": [],
   "source": [
    "# %%time\n",
    "\n",
    "# def objective(trial):\n",
    "#     param = {\n",
    "#         \"learning_rate\": trial.suggest_float(\"learning_rate\", 0.01, 1.0),\n",
    "#         \"max_depth\": trial.suggest_int(\"max_depth\", 1, 15),\n",
    "#         \"min_samples_leaf\": trial.suggest_int(\"min_samples_leaf\", 3, 20),\n",
    "#         \"max_features\": trial.suggest_float(\"max_features\", 0.1, 1.0),\n",
    "#         \"n_estimators\": trial.suggest_int(\"n_estimators\", 1, 500),\n",
    "#     }\n",
    "\n",
    "#     model = GradientBoostingClassifier(**param)\n",
    "#     scores = cross_val_score(\n",
    "#         model,\n",
    "#         features_train, \n",
    "#         target_train,\n",
    "#         scoring='f1',\n",
    "#         cv=kfolds,\n",
    "#     ).mean()\n",
    "\n",
    "#     return scores\n",
    "\n",
    "\n",
    "# GBC_params = tune(objective)\n",
    "# GBC = GradientBoostingClassifier(**GBC_params, random_state=RANDOM_SEED)"
   ]
  },
  {
   "cell_type": "code",
   "execution_count": 14,
   "metadata": {},
   "outputs": [
    {
     "name": "stdout",
     "output_type": "stream",
     "text": [
      "f1 - Градиентный бустинг классификации:  0.6465256207388307\n",
      "CPU times: total: 578 ms\n",
      "Wall time: 570 ms\n"
     ]
    }
   ],
   "source": [
    "%%time\n",
    "\n",
    "model_GBC = GradientBoostingClassifier(\n",
    "    learning_rate=0.07851376072999307,\n",
    "    max_depth=2,\n",
    "    min_samples_leaf=16,\n",
    "    max_features=0.618365770345268,\n",
    "    n_estimators=234,\n",
    ")\n",
    "score_GBC = cross_val_score(\n",
    "    model_GBC,\n",
    "    features_train,\n",
    "    target_train,\n",
    "    scoring=make_scorer(f1_score, average=\"binary\"),\n",
    "    cv=3,\n",
    ").mean()\n",
    "\n",
    "\n",
    "print(\"f1 - Градиентный бустинг классификации: \", score_GBC)"
   ]
  },
  {
   "cell_type": "markdown",
   "metadata": {},
   "source": [
    "---"
   ]
  },
  {
   "cell_type": "markdown",
   "metadata": {},
   "source": [
    "<h3>Случайный лес</h3>"
   ]
  },
  {
   "cell_type": "markdown",
   "metadata": {},
   "source": [
    "|Поиск гиперпараметров (optuna)."
   ]
  },
  {
   "cell_type": "code",
   "execution_count": 15,
   "metadata": {
    "scrolled": true
   },
   "outputs": [],
   "source": [
    "# %%time\n",
    "\n",
    "# def objective(trial):\n",
    "#     param = {\n",
    "#         \"max_depth\": trial.suggest_int(\"max_depth\", 1, 100),\n",
    "#         'n_estimators': trial.suggest_int(\"n_estimators\", 1, 100),\n",
    "#         'min_samples_leaf': trial.suggest_int(\"min_samples_leaf\", 1, 10),\n",
    "#         'max_leaf_nodes': trial.suggest_int(\"max_leaf_nodes\", 10, 100)\n",
    "# }\n",
    "\n",
    "#     model_RF = RandomForestClassifier(**param)\n",
    "#     scores = cross_val_score(\n",
    "#         model_RF,\n",
    "#         features_train, \n",
    "#         target_train,\n",
    "#         scoring='f1',\n",
    "#         cv=kfolds,\n",
    "#     ).mean()\n",
    "\n",
    "#     return scores\n",
    "\n",
    "\n",
    "# RF_params = tune(objective)\n",
    "# RF = RandomForestClassifier(**RF_params, random_state=RANDOM_SEED)"
   ]
  },
  {
   "cell_type": "code",
   "execution_count": 16,
   "metadata": {},
   "outputs": [
    {
     "name": "stdout",
     "output_type": "stream",
     "text": [
      "f1 - Градиентный бустинг классификации:  0.6381103685318347\n",
      "CPU times: total: 359 ms\n",
      "Wall time: 366 ms\n"
     ]
    }
   ],
   "source": [
    "%%time\n",
    "\n",
    "model_RFC = RandomForestClassifier(\n",
    "    max_depth=14,\n",
    "    n_estimators=53,\n",
    "    min_samples_leaf=5, \n",
    "    max_leaf_nodes=62\n",
    ")\n",
    "score_RFC = cross_val_score(\n",
    "    model_RFC,\n",
    "    features_train,\n",
    "    target_train,\n",
    "    scoring=make_scorer(f1_score, average=\"binary\"),\n",
    "    cv=3,\n",
    ").mean()\n",
    "\n",
    "\n",
    "print(\"f1 - Градиентный бустинг классификации: \", score_RFC)"
   ]
  },
  {
   "cell_type": "markdown",
   "metadata": {},
   "source": [
    "----"
   ]
  },
  {
   "cell_type": "markdown",
   "metadata": {},
   "source": [
    "Наилучшее качество показывает **случайный лес** 0.81 , но при этом модель обучается дольше всех (2.7 сек).   \n",
    "Нам важнее качество модели, так что мы выбирает случайный лес."
   ]
  },
  {
   "cell_type": "markdown",
   "metadata": {},
   "source": [
    "## <span style=\"color: crimson\">Этап 4</span> Тестирование моделей"
   ]
  },
  {
   "cell_type": "markdown",
   "metadata": {},
   "source": [
    "<h3>Случайный лес</h3>"
   ]
  },
  {
   "cell_type": "code",
   "execution_count": 17,
   "metadata": {},
   "outputs": [
    {
     "name": "stdout",
     "output_type": "stream",
     "text": [
      "Accuracy модели 0.7931570762052877\n",
      "F1_score модели 0.6053412462908012\n",
      "\n"
     ]
    }
   ],
   "source": [
    "model_RFC = RandomForestClassifier(\n",
    "    max_depth=14,\n",
    "    n_estimators=53,\n",
    "    min_samples_leaf=5, \n",
    "    max_leaf_nodes=62\n",
    ")\n",
    "model_RFC.fit(features_train, target_train) \n",
    "\n",
    "A_RFC = model_RFC.score(features_test, target_test) \n",
    "F_RFC = f1_score(target_test, model_RFC.predict(features_test))  \n",
    "\n",
    "print(\"Accuracy модели {}\".format(A_RFC))\n",
    "print(\"F1_score модели {}\".format(F_RFC))\n",
    "print()"
   ]
  },
  {
   "cell_type": "markdown",
   "metadata": {},
   "source": [
    "<h3>Градиентный бустинг классификации</h3>"
   ]
  },
  {
   "cell_type": "code",
   "execution_count": 18,
   "metadata": {},
   "outputs": [
    {
     "name": "stdout",
     "output_type": "stream",
     "text": [
      "Accuracy модели 0.7962674961119751\n",
      "F1_score модели 0.6112759643916914\n",
      "\n",
      "CPU times: total: 250 ms\n",
      "Wall time: 249 ms\n"
     ]
    }
   ],
   "source": [
    "%%time\n",
    "\n",
    "model_GBC = GradientBoostingClassifier(\n",
    "    learning_rate=0.07851376072999307,\n",
    "    max_depth=2,\n",
    "    min_samples_leaf=16,\n",
    "    max_features=0.618365770345268,\n",
    "    n_estimators=234,\n",
    ")\n",
    "model_GBC.fit(features_train, target_train) \n",
    "\n",
    "A_GBC = model_GBC.score(features_test, target_test) \n",
    "F_GBC = f1_score(target_test, model_GBC.predict(features_test))  \n",
    "\n",
    "print(\"Accuracy модели {}\".format(A_GBC))\n",
    "print(\"F1_score модели {}\".format(F_GBC))\n",
    "print()"
   ]
  },
  {
   "cell_type": "markdown",
   "metadata": {},
   "source": [
    "<h3>Логистическая регрессия</h3>"
   ]
  },
  {
   "cell_type": "code",
   "execution_count": 19,
   "metadata": {},
   "outputs": [
    {
     "name": "stdout",
     "output_type": "stream",
     "text": [
      "Accuracy модели 0.7573872472783826\n",
      "F1_score модели 0.37096774193548393\n",
      "\n",
      "CPU times: total: 62.5 ms\n",
      "Wall time: 62.1 ms\n"
     ]
    }
   ],
   "source": [
    "%%time\n",
    "\n",
    "model_LR = LogisticRegression(random_state=12345, solver='lbfgs') \n",
    "model_LR.fit(features_train, target_train) \n",
    "\n",
    "A_LR = model_LR.score(features_test, target_test) \n",
    "F_LR = f1_score(target_test, model_LR.predict(features_test)) \n",
    "\n",
    "print(\"Accuracy модели {}\".format(A_LR))\n",
    "print(\"F1_score модели {}\".format(F_LR))\n",
    "print()"
   ]
  },
  {
   "cell_type": "markdown",
   "metadata": {},
   "source": [
    "<h3>Случайная модель</h3>"
   ]
  },
  {
   "cell_type": "code",
   "execution_count": 20,
   "metadata": {},
   "outputs": [
    {
     "name": "stdout",
     "output_type": "stream",
     "text": [
      "Accuracy модели 0.6951788491446346\n",
      "F1_score модели 0.0\n",
      "\n"
     ]
    }
   ],
   "source": [
    "model_DC = DummyClassifier(strategy=\"most_frequent\")\n",
    "model_DC.fit(features_train, target_train)\n",
    "\n",
    "A_DC = model_DC.score(features_test, target_test) \n",
    "F_DC = f1_score(target_test, model_DC.predict(features_test))  \n",
    "\n",
    "print(\"Accuracy модели {}\".format(A_DC))\n",
    "print(\"F1_score модели {}\".format(F_DC))\n",
    "print()"
   ]
  },
  {
   "cell_type": "markdown",
   "metadata": {},
   "source": [
    "Если взять случайную величину, то мы получим вероятность в .7 (в среднем), так что наш алгоритм с вероятностью 0.78 выше по качеству."
   ]
  },
  {
   "cell_type": "markdown",
   "metadata": {},
   "source": [
    "## <span style=\"color: crimson\">Этап 4</span> Результаты исследований"
   ]
  },
  {
   "cell_type": "code",
   "execution_count": 22,
   "metadata": {},
   "outputs": [
    {
     "data": {
      "text/html": [
       "<div>\n",
       "<style scoped>\n",
       "    .dataframe tbody tr th:only-of-type {\n",
       "        vertical-align: middle;\n",
       "    }\n",
       "\n",
       "    .dataframe tbody tr th {\n",
       "        vertical-align: top;\n",
       "    }\n",
       "\n",
       "    .dataframe thead th {\n",
       "        text-align: right;\n",
       "    }\n",
       "</style>\n",
       "<table border=\"1\" class=\"dataframe\">\n",
       "  <thead>\n",
       "    <tr style=\"text-align: right;\">\n",
       "      <th></th>\n",
       "      <th>Модель</th>\n",
       "      <th>F1</th>\n",
       "      <th>Accuracy</th>\n",
       "    </tr>\n",
       "  </thead>\n",
       "  <tbody>\n",
       "    <tr>\n",
       "      <th>0</th>\n",
       "      <td>Случайный лес</td>\n",
       "      <td>0.605341</td>\n",
       "      <td>0.793157</td>\n",
       "    </tr>\n",
       "    <tr>\n",
       "      <th>1</th>\n",
       "      <td>Градиентный бустинг (GradientBoostingClassifier)</td>\n",
       "      <td>0.611276</td>\n",
       "      <td>0.796267</td>\n",
       "    </tr>\n",
       "    <tr>\n",
       "      <th>2</th>\n",
       "      <td>Логистическая регрессия</td>\n",
       "      <td>0.370968</td>\n",
       "      <td>0.757387</td>\n",
       "    </tr>\n",
       "    <tr>\n",
       "      <th>3</th>\n",
       "      <td>Случайная модель</td>\n",
       "      <td>0.000000</td>\n",
       "      <td>0.695179</td>\n",
       "    </tr>\n",
       "  </tbody>\n",
       "</table>\n",
       "</div>"
      ],
      "text/plain": [
       "                                             Модель        F1  Accuracy\n",
       "0                                     Случайный лес  0.605341  0.793157\n",
       "1  Градиентный бустинг (GradientBoostingClassifier)  0.611276  0.796267\n",
       "2                           Логистическая регрессия  0.370968  0.757387\n",
       "3                                  Случайная модель  0.000000  0.695179"
      ]
     },
     "execution_count": 22,
     "metadata": {},
     "output_type": "execute_result"
    }
   ],
   "source": [
    "pd.DataFrame(\n",
    "    [\n",
    "        [\n",
    "            \"Случайный лес\",\n",
    "            F_RFC,\n",
    "            A_RFC\n",
    "        ],\n",
    "        [\n",
    "            \"Градиентный бустинг (GradientBoostingClassifier)\",\n",
    "            F_GBC,\n",
    "            A_GBC\n",
    "        ],\n",
    "        [\n",
    "            \"Логистическая регрессия\",\n",
    "            F_LR,\n",
    "            A_LR\n",
    "        ],\n",
    "        [\n",
    "            \"Случайная модель\",\n",
    "            F_DC,\n",
    "            A_DC\n",
    "        ],\n",
    "    ],\n",
    "    columns=(\"Модель\", \"F1\", \"Accuracy\"),\n",
    ")"
   ]
  },
  {
   "cell_type": "markdown",
   "metadata": {},
   "source": [
    "## <span style=\"color: crimson\">Этап 5</span>  Общий вывод"
   ]
  },
  {
   "cell_type": "markdown",
   "metadata": {},
   "source": [
    "Наилучшее качество показал **GradientBoostingClassifier** с параметрами:\n",
    "* learning_rate=0.0785\n",
    "* max_depth=2\n",
    "* min_samples_leaf=16\n",
    "* max_features=0.618\n",
    "* n_estimators=234"
   ]
  }
 ],
 "metadata": {
  "ExecuteTimeLog": [
   {
    "duration": 588,
    "start_time": "2021-11-17T08:34:38.469Z"
   },
   {
    "duration": 20,
    "start_time": "2021-11-17T08:35:07.205Z"
   },
   {
    "duration": 16,
    "start_time": "2021-11-17T08:35:16.172Z"
   },
   {
    "duration": 319,
    "start_time": "2021-11-17T08:37:00.772Z"
   },
   {
    "duration": 600,
    "start_time": "2021-11-17T08:37:08.154Z"
   },
   {
    "duration": 18,
    "start_time": "2021-11-17T08:37:08.756Z"
   },
   {
    "duration": 8,
    "start_time": "2021-11-17T08:37:08.776Z"
   },
   {
    "duration": 5,
    "start_time": "2021-11-17T08:37:10.211Z"
   },
   {
    "duration": 34,
    "start_time": "2021-11-17T08:45:07.301Z"
   },
   {
    "duration": 7,
    "start_time": "2021-11-17T09:21:28.862Z"
   },
   {
    "duration": 9,
    "start_time": "2021-11-17T09:21:58.095Z"
   },
   {
    "duration": 22,
    "start_time": "2021-11-17T09:22:54.235Z"
   },
   {
    "duration": 291,
    "start_time": "2021-11-17T09:24:34.912Z"
   },
   {
    "duration": 85,
    "start_time": "2021-11-17T09:24:52.768Z"
   },
   {
    "duration": 7,
    "start_time": "2021-11-17T09:24:55.229Z"
   },
   {
    "duration": 7,
    "start_time": "2021-11-17T09:42:06.632Z"
   },
   {
    "duration": 300,
    "start_time": "2021-11-17T09:42:07.523Z"
   },
   {
    "duration": 36,
    "start_time": "2021-11-17T09:43:13.380Z"
   },
   {
    "duration": 244,
    "start_time": "2021-11-17T09:43:17.469Z"
   },
   {
    "duration": 7,
    "start_time": "2021-11-17T09:43:20.895Z"
   },
   {
    "duration": 180,
    "start_time": "2021-11-17T09:43:21.698Z"
   },
   {
    "duration": 5,
    "start_time": "2021-11-17T09:51:14.570Z"
   },
   {
    "duration": 6,
    "start_time": "2021-11-17T09:51:15.223Z"
   },
   {
    "duration": 251,
    "start_time": "2021-11-17T09:51:16.607Z"
   },
   {
    "duration": 55,
    "start_time": "2021-11-17T09:52:44.740Z"
   },
   {
    "duration": 54,
    "start_time": "2021-11-17T09:53:09.481Z"
   },
   {
    "duration": 52,
    "start_time": "2021-11-17T09:53:12.270Z"
   },
   {
    "duration": 51,
    "start_time": "2021-11-17T09:53:15.486Z"
   },
   {
    "duration": 54,
    "start_time": "2021-11-17T09:53:18.297Z"
   },
   {
    "duration": 54,
    "start_time": "2021-11-17T09:53:19.015Z"
   },
   {
    "duration": 52,
    "start_time": "2021-11-17T09:53:19.669Z"
   },
   {
    "duration": 51,
    "start_time": "2021-11-17T09:53:20.257Z"
   },
   {
    "duration": 54,
    "start_time": "2021-11-17T09:53:20.899Z"
   },
   {
    "duration": 54,
    "start_time": "2021-11-17T09:53:21.453Z"
   },
   {
    "duration": 57,
    "start_time": "2021-11-17T09:53:21.916Z"
   },
   {
    "duration": 53,
    "start_time": "2021-11-17T09:53:22.367Z"
   },
   {
    "duration": 54,
    "start_time": "2021-11-17T09:53:22.875Z"
   },
   {
    "duration": 52,
    "start_time": "2021-11-17T09:53:23.356Z"
   },
   {
    "duration": 53,
    "start_time": "2021-11-17T09:53:23.796Z"
   },
   {
    "duration": 64,
    "start_time": "2021-11-17T09:53:24.350Z"
   },
   {
    "duration": 6,
    "start_time": "2021-11-17T09:54:40.157Z"
   },
   {
    "duration": 6,
    "start_time": "2021-11-17T09:54:45.511Z"
   },
   {
    "duration": 56,
    "start_time": "2021-11-17T09:54:52.350Z"
   },
   {
    "duration": 3,
    "start_time": "2021-11-17T09:54:57.576Z"
   },
   {
    "duration": 54,
    "start_time": "2021-11-17T09:55:06.854Z"
   },
   {
    "duration": 53,
    "start_time": "2021-11-17T09:55:20.354Z"
   },
   {
    "duration": 503,
    "start_time": "2021-11-17T09:56:25.436Z"
   },
   {
    "duration": 52,
    "start_time": "2021-11-17T09:56:32.259Z"
   },
   {
    "duration": 2866,
    "start_time": "2021-11-17T10:05:39.712Z"
   },
   {
    "duration": 277,
    "start_time": "2021-11-17T10:09:04.152Z"
   },
   {
    "duration": 2890,
    "start_time": "2021-11-17T10:09:26.031Z"
   },
   {
    "duration": 1066,
    "start_time": "2021-11-17T10:12:52.914Z"
   },
   {
    "duration": 19,
    "start_time": "2021-11-17T10:12:53.982Z"
   },
   {
    "duration": 20,
    "start_time": "2021-11-17T10:12:54.003Z"
   },
   {
    "duration": 9,
    "start_time": "2021-11-17T10:12:54.025Z"
   },
   {
    "duration": 30,
    "start_time": "2021-11-17T10:12:54.035Z"
   },
   {
    "duration": 5,
    "start_time": "2021-11-17T10:12:54.067Z"
   },
   {
    "duration": 5,
    "start_time": "2021-11-17T10:12:54.690Z"
   },
   {
    "duration": 6,
    "start_time": "2021-11-17T10:12:54.990Z"
   },
   {
    "duration": 62,
    "start_time": "2021-11-17T10:12:55.744Z"
   },
   {
    "duration": 3189,
    "start_time": "2021-11-17T10:12:56.523Z"
   },
   {
    "duration": 2952,
    "start_time": "2021-11-17T10:13:37.985Z"
   },
   {
    "duration": 2787,
    "start_time": "2021-11-17T10:15:59.785Z"
   },
   {
    "duration": 2796,
    "start_time": "2021-11-17T10:16:07.222Z"
   },
   {
    "duration": 2947,
    "start_time": "2021-11-17T10:16:17.943Z"
   },
   {
    "duration": 2798,
    "start_time": "2021-11-17T10:16:24.728Z"
   },
   {
    "duration": 2732,
    "start_time": "2021-11-17T10:17:06.177Z"
   },
   {
    "duration": 2836,
    "start_time": "2021-11-17T10:17:15.591Z"
   },
   {
    "duration": 184,
    "start_time": "2021-11-17T10:18:39.053Z"
   },
   {
    "duration": 18,
    "start_time": "2021-11-17T10:19:18.273Z"
   },
   {
    "duration": 132,
    "start_time": "2021-11-17T10:22:09.615Z"
   },
   {
    "duration": 37,
    "start_time": "2021-11-17T10:22:39.520Z"
   },
   {
    "duration": 77,
    "start_time": "2021-11-17T10:25:32.977Z"
   },
   {
    "duration": 7,
    "start_time": "2021-11-17T10:34:46.729Z"
   },
   {
    "duration": 5,
    "start_time": "2021-11-17T10:34:47.060Z"
   },
   {
    "duration": 48,
    "start_time": "2021-11-17T10:34:48.634Z"
   },
   {
    "duration": 1031,
    "start_time": "2021-11-17T10:34:59.754Z"
   },
   {
    "duration": 20,
    "start_time": "2021-11-17T10:35:00.786Z"
   },
   {
    "duration": 16,
    "start_time": "2021-11-17T10:35:00.808Z"
   },
   {
    "duration": 14,
    "start_time": "2021-11-17T10:35:00.826Z"
   },
   {
    "duration": 37,
    "start_time": "2021-11-17T10:35:00.842Z"
   },
   {
    "duration": 5,
    "start_time": "2021-11-17T10:35:00.881Z"
   },
   {
    "duration": 9,
    "start_time": "2021-11-17T10:35:00.888Z"
   },
   {
    "duration": 14,
    "start_time": "2021-11-17T10:35:00.899Z"
   },
   {
    "duration": 76,
    "start_time": "2021-11-17T10:35:00.915Z"
   },
   {
    "duration": 2559,
    "start_time": "2021-11-17T10:35:00.993Z"
   },
   {
    "duration": 21,
    "start_time": "2021-11-17T10:35:03.554Z"
   },
   {
    "duration": 25,
    "start_time": "2021-11-17T10:35:03.577Z"
   },
   {
    "duration": 27,
    "start_time": "2021-11-17T10:35:49.200Z"
   },
   {
    "duration": 33,
    "start_time": "2021-11-17T10:36:09.138Z"
   },
   {
    "duration": 36,
    "start_time": "2021-11-17T10:36:11.311Z"
   },
   {
    "duration": 37,
    "start_time": "2021-11-17T10:36:16.528Z"
   },
   {
    "duration": 36,
    "start_time": "2021-11-17T10:36:33.786Z"
   },
   {
    "duration": 37,
    "start_time": "2021-11-17T10:36:35.596Z"
   },
   {
    "duration": 2436,
    "start_time": "2021-11-17T10:36:41.685Z"
   },
   {
    "duration": 1219,
    "start_time": "2021-11-17T10:36:51.359Z"
   },
   {
    "duration": 20,
    "start_time": "2021-11-17T10:36:52.580Z"
   },
   {
    "duration": 24,
    "start_time": "2021-11-17T10:36:52.602Z"
   },
   {
    "duration": 23,
    "start_time": "2021-11-17T10:36:52.628Z"
   },
   {
    "duration": 35,
    "start_time": "2021-11-17T10:36:52.653Z"
   },
   {
    "duration": 5,
    "start_time": "2021-11-17T10:36:52.690Z"
   },
   {
    "duration": 20,
    "start_time": "2021-11-17T10:36:52.697Z"
   },
   {
    "duration": 9,
    "start_time": "2021-11-17T10:36:52.719Z"
   },
   {
    "duration": 57,
    "start_time": "2021-11-17T10:36:52.730Z"
   },
   {
    "duration": 2450,
    "start_time": "2021-11-17T10:36:52.789Z"
   },
   {
    "duration": 21,
    "start_time": "2021-11-17T10:36:55.241Z"
   },
   {
    "duration": 38,
    "start_time": "2021-11-17T10:36:55.264Z"
   },
   {
    "duration": 348,
    "start_time": "2021-11-17T10:39:36.940Z"
   },
   {
    "duration": 256,
    "start_time": "2021-11-17T10:41:08.781Z"
   },
   {
    "duration": 5,
    "start_time": "2021-11-17T10:41:49.917Z"
   },
   {
    "duration": 388,
    "start_time": "2021-11-17T10:41:54.711Z"
   },
   {
    "duration": 259,
    "start_time": "2021-11-17T10:42:14.285Z"
   },
   {
    "duration": 254,
    "start_time": "2021-11-17T10:42:42.459Z"
   },
   {
    "duration": 24,
    "start_time": "2021-11-17T10:42:52.653Z"
   },
   {
    "duration": 275,
    "start_time": "2021-11-17T10:43:08.708Z"
   },
   {
    "duration": 36,
    "start_time": "2021-11-17T10:43:32.653Z"
   },
   {
    "duration": 266,
    "start_time": "2021-11-17T10:44:32.277Z"
   },
   {
    "duration": 280,
    "start_time": "2021-11-17T10:45:11.297Z"
   },
   {
    "duration": 9,
    "start_time": "2021-11-17T10:45:31.430Z"
   },
   {
    "duration": 10,
    "start_time": "2021-11-17T10:45:39.820Z"
   },
   {
    "duration": 36,
    "start_time": "2021-11-17T10:48:53.579Z"
   },
   {
    "duration": 1015,
    "start_time": "2021-11-17T10:48:59.576Z"
   },
   {
    "duration": 19,
    "start_time": "2021-11-17T10:49:00.592Z"
   },
   {
    "duration": 15,
    "start_time": "2021-11-17T10:49:00.613Z"
   },
   {
    "duration": 22,
    "start_time": "2021-11-17T10:49:00.630Z"
   },
   {
    "duration": 34,
    "start_time": "2021-11-17T10:49:00.654Z"
   },
   {
    "duration": 5,
    "start_time": "2021-11-17T10:49:00.690Z"
   },
   {
    "duration": 18,
    "start_time": "2021-11-17T10:49:00.697Z"
   },
   {
    "duration": 14,
    "start_time": "2021-11-17T10:49:00.718Z"
   },
   {
    "duration": 16,
    "start_time": "2021-11-17T10:49:00.734Z"
   },
   {
    "duration": 58,
    "start_time": "2021-11-17T10:49:00.752Z"
   },
   {
    "duration": 2413,
    "start_time": "2021-11-17T10:49:00.812Z"
   },
   {
    "duration": 24,
    "start_time": "2021-11-17T10:49:03.227Z"
   },
   {
    "duration": 35,
    "start_time": "2021-11-17T10:49:03.253Z"
   },
   {
    "duration": 35,
    "start_time": "2021-11-17T10:50:45.833Z"
   },
   {
    "duration": 38,
    "start_time": "2021-11-17T10:50:51.951Z"
   },
   {
    "duration": 39,
    "start_time": "2021-11-17T10:50:56.861Z"
   },
   {
    "duration": 264,
    "start_time": "2021-11-18T07:55:03.554Z"
   },
   {
    "duration": 985,
    "start_time": "2021-11-18T07:55:11.749Z"
   },
   {
    "duration": 17,
    "start_time": "2021-11-18T07:55:12.736Z"
   },
   {
    "duration": 14,
    "start_time": "2021-11-18T07:55:12.754Z"
   },
   {
    "duration": 6,
    "start_time": "2021-11-18T07:55:12.974Z"
   },
   {
    "duration": 20,
    "start_time": "2021-11-18T07:55:13.358Z"
   },
   {
    "duration": 6,
    "start_time": "2021-11-18T07:55:14.025Z"
   },
   {
    "duration": 6,
    "start_time": "2021-11-18T07:55:15.180Z"
   },
   {
    "duration": 277,
    "start_time": "2021-11-18T07:55:16.059Z"
   },
   {
    "duration": 234,
    "start_time": "2021-11-18T07:55:42.827Z"
   },
   {
    "duration": 4,
    "start_time": "2021-11-18T07:56:12.893Z"
   },
   {
    "duration": 4,
    "start_time": "2021-11-18T07:56:22.608Z"
   },
   {
    "duration": 3,
    "start_time": "2021-11-18T07:56:29.079Z"
   },
   {
    "duration": 243,
    "start_time": "2021-11-18T07:56:39.241Z"
   },
   {
    "duration": 4,
    "start_time": "2021-11-18T07:57:08.027Z"
   },
   {
    "duration": 4,
    "start_time": "2021-11-18T07:57:31.578Z"
   },
   {
    "duration": 6,
    "start_time": "2021-11-18T07:59:09.470Z"
   },
   {
    "duration": 3,
    "start_time": "2021-11-18T07:59:09.771Z"
   },
   {
    "duration": 4,
    "start_time": "2021-11-18T08:00:27.680Z"
   },
   {
    "duration": 3,
    "start_time": "2021-11-18T08:00:41.935Z"
   },
   {
    "duration": 4,
    "start_time": "2021-11-18T08:01:36.277Z"
   },
   {
    "duration": 4,
    "start_time": "2021-11-18T08:02:10.365Z"
   },
   {
    "duration": 4,
    "start_time": "2021-11-18T08:02:10.718Z"
   },
   {
    "duration": 4,
    "start_time": "2021-11-18T08:03:26.022Z"
   },
   {
    "duration": 4,
    "start_time": "2021-11-18T08:03:51.684Z"
   },
   {
    "duration": 3,
    "start_time": "2021-11-18T08:03:52.038Z"
   },
   {
    "duration": 4,
    "start_time": "2021-11-18T08:03:52.641Z"
   },
   {
    "duration": 4,
    "start_time": "2021-11-18T08:03:53.239Z"
   },
   {
    "duration": 87,
    "start_time": "2021-11-18T08:04:36.782Z"
   },
   {
    "duration": 8,
    "start_time": "2021-11-18T08:12:54.669Z"
   },
   {
    "duration": 33,
    "start_time": "2021-11-18T08:12:57.286Z"
   },
   {
    "duration": 18,
    "start_time": "2021-11-18T08:13:30.090Z"
   },
   {
    "duration": 158,
    "start_time": "2021-11-18T08:13:31.992Z"
   },
   {
    "duration": 159,
    "start_time": "2021-11-18T08:13:35.285Z"
   },
   {
    "duration": 17,
    "start_time": "2021-11-18T08:15:17.682Z"
   },
   {
    "duration": 13,
    "start_time": "2021-11-18T08:16:20.456Z"
   },
   {
    "duration": 8,
    "start_time": "2021-11-18T08:16:24.905Z"
   },
   {
    "duration": 1074,
    "start_time": "2021-11-18T08:16:31.673Z"
   },
   {
    "duration": 34,
    "start_time": "2021-11-18T08:16:36.761Z"
   },
   {
    "duration": 276,
    "start_time": "2021-11-18T08:19:38.309Z"
   },
   {
    "duration": 264,
    "start_time": "2021-11-18T08:19:49.463Z"
   },
   {
    "duration": 240,
    "start_time": "2021-11-18T08:19:56.872Z"
   },
   {
    "duration": 230,
    "start_time": "2021-11-18T08:24:58.858Z"
   },
   {
    "duration": 237,
    "start_time": "2021-11-18T08:28:00.914Z"
   },
   {
    "duration": 1567,
    "start_time": "2021-11-18T08:28:07.710Z"
   },
   {
    "duration": 3,
    "start_time": "2021-11-18T08:28:38.578Z"
   },
   {
    "duration": 2,
    "start_time": "2021-11-18T08:28:47.164Z"
   },
   {
    "duration": 3,
    "start_time": "2021-11-18T08:29:01.289Z"
   },
   {
    "duration": 7,
    "start_time": "2021-11-18T08:29:36.499Z"
   },
   {
    "duration": 17,
    "start_time": "2021-11-18T08:29:39.695Z"
   },
   {
    "duration": 18,
    "start_time": "2021-11-18T08:29:47.346Z"
   },
   {
    "duration": 4,
    "start_time": "2021-11-18T08:32:44.594Z"
   },
   {
    "duration": 11,
    "start_time": "2021-11-18T08:32:55.475Z"
   },
   {
    "duration": 8,
    "start_time": "2021-11-18T08:34:19.298Z"
   },
   {
    "duration": 231,
    "start_time": "2021-11-18T08:34:27.755Z"
   },
   {
    "duration": 8,
    "start_time": "2021-11-18T08:34:35.232Z"
   },
   {
    "duration": 9,
    "start_time": "2021-11-18T08:34:53.080Z"
   },
   {
    "duration": 8,
    "start_time": "2021-11-18T08:35:12.018Z"
   },
   {
    "duration": 8,
    "start_time": "2021-11-18T08:35:13.606Z"
   },
   {
    "duration": 5,
    "start_time": "2021-11-18T08:36:38.291Z"
   },
   {
    "duration": 5,
    "start_time": "2021-11-18T08:36:46.543Z"
   },
   {
    "duration": 5,
    "start_time": "2021-11-18T08:36:48.730Z"
   },
   {
    "duration": 6,
    "start_time": "2021-11-18T08:37:02.064Z"
   },
   {
    "duration": 5,
    "start_time": "2021-11-18T08:37:12.078Z"
   },
   {
    "duration": 5,
    "start_time": "2021-11-18T08:37:19.633Z"
   },
   {
    "duration": 7,
    "start_time": "2021-11-18T08:38:40.905Z"
   },
   {
    "duration": 116,
    "start_time": "2021-11-18T08:38:48.483Z"
   },
   {
    "duration": 7,
    "start_time": "2021-11-18T08:38:50.472Z"
   },
   {
    "duration": 6,
    "start_time": "2021-11-18T08:39:32.283Z"
   },
   {
    "duration": 5,
    "start_time": "2021-11-18T08:39:34.565Z"
   },
   {
    "duration": 13,
    "start_time": "2021-11-18T08:39:35.943Z"
   },
   {
    "duration": 13,
    "start_time": "2021-11-18T08:39:39.101Z"
   },
   {
    "duration": 389,
    "start_time": "2021-11-18T08:40:35.468Z"
   },
   {
    "duration": 79,
    "start_time": "2021-11-18T08:40:46.820Z"
   },
   {
    "duration": 108,
    "start_time": "2021-11-18T08:40:57.255Z"
   },
   {
    "duration": 80,
    "start_time": "2021-11-18T08:41:02.196Z"
   },
   {
    "duration": 55,
    "start_time": "2021-11-18T08:41:09.241Z"
   },
   {
    "duration": 84,
    "start_time": "2021-11-18T08:41:20.334Z"
   },
   {
    "duration": 33,
    "start_time": "2021-11-18T08:41:30.720Z"
   },
   {
    "duration": 33,
    "start_time": "2021-11-18T08:41:55.125Z"
   },
   {
    "duration": 32,
    "start_time": "2021-11-18T08:41:56.692Z"
   },
   {
    "duration": 28,
    "start_time": "2021-11-18T08:42:22.614Z"
   },
   {
    "duration": 46,
    "start_time": "2021-11-18T08:43:52.870Z"
   },
   {
    "duration": 34,
    "start_time": "2021-11-18T08:44:05.648Z"
   },
   {
    "duration": 245,
    "start_time": "2021-11-18T08:45:01.444Z"
   },
   {
    "duration": 264,
    "start_time": "2021-11-18T08:45:11.228Z"
   },
   {
    "duration": 6,
    "start_time": "2021-11-18T08:45:55.372Z"
   },
   {
    "duration": 74,
    "start_time": "2021-11-18T08:45:58.001Z"
   },
   {
    "duration": 8,
    "start_time": "2021-11-18T08:46:00.198Z"
   },
   {
    "duration": 251,
    "start_time": "2021-11-18T08:46:03.574Z"
   },
   {
    "duration": 12,
    "start_time": "2021-11-18T08:46:15.319Z"
   },
   {
    "duration": 6,
    "start_time": "2021-11-18T08:46:22.123Z"
   },
   {
    "duration": 13,
    "start_time": "2021-11-18T08:46:25.962Z"
   },
   {
    "duration": 7,
    "start_time": "2021-11-18T08:46:42.204Z"
   },
   {
    "duration": 6,
    "start_time": "2021-11-18T08:47:31.844Z"
   },
   {
    "duration": 8,
    "start_time": "2021-11-18T08:47:34.928Z"
   },
   {
    "duration": 7,
    "start_time": "2021-11-18T08:47:37.209Z"
   },
   {
    "duration": 7,
    "start_time": "2021-11-18T08:47:38.484Z"
   },
   {
    "duration": 7,
    "start_time": "2021-11-18T08:47:39.724Z"
   },
   {
    "duration": 8,
    "start_time": "2021-11-18T08:47:40.976Z"
   },
   {
    "duration": 1084,
    "start_time": "2021-12-18T11:27:54.932Z"
   },
   {
    "duration": 989,
    "start_time": "2021-12-18T11:27:57.398Z"
   },
   {
    "duration": 23,
    "start_time": "2021-12-18T11:27:58.391Z"
   },
   {
    "duration": 38,
    "start_time": "2021-12-18T11:27:58.424Z"
   },
   {
    "duration": 45,
    "start_time": "2021-12-18T11:27:58.466Z"
   },
   {
    "duration": 186,
    "start_time": "2021-12-18T11:27:58.520Z"
   },
   {
    "duration": 53,
    "start_time": "2021-12-18T11:27:58.709Z"
   },
   {
    "duration": 170,
    "start_time": "2021-12-18T11:27:58.772Z"
   },
   {
    "duration": 151,
    "start_time": "2021-12-18T11:27:58.948Z"
   },
   {
    "duration": 10,
    "start_time": "2021-12-18T11:27:59.109Z"
   },
   {
    "duration": 7,
    "start_time": "2021-12-18T11:27:59.122Z"
   },
   {
    "duration": 15,
    "start_time": "2021-12-18T11:27:59.132Z"
   },
   {
    "duration": 6,
    "start_time": "2021-12-18T11:27:59.150Z"
   },
   {
    "duration": 12,
    "start_time": "2021-12-18T11:27:59.158Z"
   },
   {
    "duration": 93,
    "start_time": "2021-12-18T11:27:59.173Z"
   },
   {
    "duration": 4093,
    "start_time": "2021-12-18T11:27:59.269Z"
   },
   {
    "duration": 33,
    "start_time": "2021-12-18T11:28:03.365Z"
   },
   {
    "duration": 14,
    "start_time": "2021-12-18T11:28:03.401Z"
   },
   {
    "duration": 103,
    "start_time": "2021-12-18T11:28:03.418Z"
   },
   {
    "duration": 427,
    "start_time": "2021-12-18T11:28:03.525Z"
   },
   {
    "duration": 550,
    "start_time": "2021-12-18T11:28:22.752Z"
   },
   {
    "duration": 4,
    "start_time": "2021-12-18T11:29:51.636Z"
   },
   {
    "duration": 12,
    "start_time": "2021-12-18T11:29:57.388Z"
   },
   {
    "duration": 11,
    "start_time": "2021-12-18T11:30:06.596Z"
   },
   {
    "duration": 4070,
    "start_time": "2021-12-18T11:32:20.511Z"
   },
   {
    "duration": 1202,
    "start_time": "2021-12-18T12:09:03.762Z"
   },
   {
    "duration": 23,
    "start_time": "2021-12-18T12:09:04.967Z"
   },
   {
    "duration": 22,
    "start_time": "2021-12-18T12:09:04.993Z"
   },
   {
    "duration": 14,
    "start_time": "2021-12-18T12:09:05.018Z"
   },
   {
    "duration": 50,
    "start_time": "2021-12-18T12:09:05.034Z"
   },
   {
    "duration": 6,
    "start_time": "2021-12-18T12:09:05.087Z"
   },
   {
    "duration": 11,
    "start_time": "2021-12-18T12:09:05.095Z"
   },
   {
    "duration": 5,
    "start_time": "2021-12-18T12:09:05.110Z"
   },
   {
    "duration": 42,
    "start_time": "2021-12-18T12:09:05.117Z"
   },
   {
    "duration": 5,
    "start_time": "2021-12-18T12:09:05.162Z"
   },
   {
    "duration": 6,
    "start_time": "2021-12-18T12:09:05.170Z"
   },
   {
    "duration": 6,
    "start_time": "2021-12-18T12:09:05.178Z"
   },
   {
    "duration": 7,
    "start_time": "2021-12-18T12:09:05.186Z"
   },
   {
    "duration": 106,
    "start_time": "2021-12-18T12:09:05.196Z"
   },
   {
    "duration": 4399,
    "start_time": "2021-12-18T12:09:05.304Z"
   },
   {
    "duration": 30,
    "start_time": "2021-12-18T12:09:09.705Z"
   },
   {
    "duration": 28,
    "start_time": "2021-12-18T12:09:09.737Z"
   },
   {
    "duration": 57,
    "start_time": "2021-12-18T12:09:09.768Z"
   },
   {
    "duration": 37,
    "start_time": "2021-12-18T12:09:09.828Z"
   }
  ],
  "kernelspec": {
   "display_name": "Python 3",
   "language": "python",
   "name": "python3"
  },
  "language_info": {
   "codemirror_mode": {
    "name": "ipython",
    "version": 3
   },
   "file_extension": ".py",
   "mimetype": "text/x-python",
   "name": "python",
   "nbconvert_exporter": "python",
   "pygments_lexer": "ipython3",
   "version": "3.10.1"
  },
  "toc": {
   "base_numbering": "0",
   "nav_menu": {},
   "number_sections": false,
   "sideBar": true,
   "skip_h1_title": false,
   "title_cell": "Table of Contents",
   "title_sidebar": "Contents",
   "toc_cell": false,
   "toc_position": {},
   "toc_section_display": true,
   "toc_window_display": false
  }
 },
 "nbformat": 4,
 "nbformat_minor": 2
}
