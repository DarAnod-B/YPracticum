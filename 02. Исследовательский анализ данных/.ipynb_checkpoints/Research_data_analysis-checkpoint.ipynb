{
 "cells": [
  {
   "cell_type": "markdown",
   "metadata": {},
   "source": [
    "# <span style=\"color: red\">Исследование объявлений о продаже квартир</span>\n",
    "---\n",
    "**<span style=\"color: crimson\">Датасет</span>**: данные сервиса Яндекс Недвижимость — архив объявлений о продаже квартир в Санкт-Петербурге и соседних населённых пунктах за несколько лет.   \n",
    "**<span style=\"color: crimson\">Цель анализа</span>**: подготовить датасет для создания модели и выполните следующие задания:\n",
    "\n",
    "* Изучите следующие параметры: площадь, цена, число комнат, высота потолков, время продажи квартиры.\n",
    "    \n",
    "* Какие факторы больше всего влияют на стоимость квартиры? \n",
    "    \n",
    "* Изучите 10 населённых пунктов с наибольшим числом объявлений.\n",
    "    \n",
    "* Изучите предложения квартир: для каждой квартиры есть информация о расстоянии до центра. Выделите квартиры в Санкт-Петербурге . Ваша задача — выяснить, какая область входит в центр. Создайте столбец с расстоянием до центра в километрах: округлите до целых значений. После этого посчитайте среднюю цену для каждого километра. Постройте график: он должен показывать, как цена зависит от удалённости от центра. Определите границу, где график сильно меняется — это и будет центральная зона.\n",
    "    \n",
    "* Выделите сегмент квартир в центре. Проанализируйте эту территорию и изучите следующие параметры: площадь, цена, число комнат, высота потолков. Также выделите факторы, которые влияют на стоимость квартир.\n",
    "---"
   ]
  },
  {
   "cell_type": "markdown",
   "metadata": {},
   "source": [
    "<b>Описание данных:</b>\n",
    "\n",
    "* <span style=\"color: red\"><b>airports_nearest </b></span>— расстояние до ближайшего аэропорта в метрах (м)\n",
    "* <span style=\"color: red\"><b>balcony </b></span>— число балконов\n",
    "* <span style=\"color: red\"><b>ceiling_height </b></span>— высота потолков (м)\n",
    "* <span style=\"color: red\"><b>cityCenters_nearest </b></span>— расстояние до центра города (м)\n",
    "* <span style=\"color: red\"><b>days_exposition </b></span>— сколько дней было размещено объявление (от публикации до снятия)\n",
    "* <span style=\"color: red\"><b>first_day_exposition </b></span>— дата публикации\n",
    "* <span style=\"color: red\"><b>floor </b></span>— этаж\n",
    "* <span style=\"color: red\"><b>floors_total </b></span>— всего этажей в доме\n",
    "* <span style=\"color: red\"><b>is_apartment </b></span>— апартаменты (булев тип)\n",
    "* <span style=\"color: red\"><b>kitchen_area </b></span>— площадь кухни в квадратных метрах (м²)\n",
    "* <span style=\"color: red\"><b>last_price </b></span>— цена на момент снятия с публикации\n",
    "* <span style=\"color: red\"><b>living_area </b></span>— жилая площадь в квадратных метрах(м²)\n",
    "* <span style=\"color: red\"><b>locality_name </b></span>— название населённого пункта\n",
    "* <span style=\"color: red\"><b>open_plan </b></span>— свободная планировка (булев тип)\n",
    "* <span style=\"color: red\"><b>parks_around3000 </b></span>— число парков в радиусе 3 км\n",
    "* <span style=\"color: red\"><b>parks_nearest </b></span>— расстояние до ближайшего парка (м)\n",
    "* <span style=\"color: red\"><b>ponds_around3000 </b></span>— число водоёмов в радиусе 3 км\n",
    "* <span style=\"color: red\"><b>ponds_nearest </b></span>— расстояние до ближайшего водоёма (м)\n",
    "* <span style=\"color: red\"><b>rooms </b></span>— число комнат\n",
    "* <span style=\"color: red\"><b>studio </b></span>— квартира-студия (булев тип)\n",
    "* <span style=\"color: red\"><b>total_area </b></span>— площадь квартиры в квадратных метрах (м²)\n",
    "* <span style=\"color: red\"><b>total_images </b></span>— число фотографий квартиры в объявлении"
   ]
  },
  {
   "cell_type": "markdown",
   "metadata": {},
   "source": [
    "## Импорт библиотек:"
   ]
  },
  {
   "cell_type": "code",
   "execution_count": 1,
   "metadata": {},
   "outputs": [
    {
     "name": "stdout",
     "output_type": "stream",
     "text": [
      "Requirement already satisfied: sidetable in c:\\users\\владелец\\appdata\\local\\programs\\python\\python310\\lib\\site-packages (0.9.0)\n",
      "Requirement already satisfied: pandas>=1.0 in c:\\users\\владелец\\appdata\\local\\programs\\python\\python310\\lib\\site-packages (from sidetable) (1.4.1)\n",
      "Requirement already satisfied: numpy>=1.21.0 in c:\\users\\владелец\\appdata\\local\\programs\\python\\python310\\lib\\site-packages (from pandas>=1.0->sidetable) (1.22.3)\n",
      "Requirement already satisfied: python-dateutil>=2.8.1 in c:\\users\\владелец\\appdata\\local\\programs\\python\\python310\\lib\\site-packages (from pandas>=1.0->sidetable) (2.8.2)\n",
      "Requirement already satisfied: pytz>=2020.1 in c:\\users\\владелец\\appdata\\local\\programs\\python\\python310\\lib\\site-packages (from pandas>=1.0->sidetable) (2021.3)\n",
      "Requirement already satisfied: six>=1.5 in c:\\users\\владелец\\appdata\\local\\programs\\python\\python310\\lib\\site-packages (from python-dateutil>=2.8.1->pandas>=1.0->sidetable) (1.16.0)\n",
      "Requirement already satisfied: matplotlib in c:\\users\\владелец\\appdata\\local\\programs\\python\\python310\\lib\\site-packages (3.5.1)\n",
      "Requirement already satisfied: python-dateutil>=2.7 in c:\\users\\владелец\\appdata\\local\\programs\\python\\python310\\lib\\site-packages (from matplotlib) (2.8.2)\n",
      "Requirement already satisfied: pyparsing>=2.2.1 in c:\\users\\владелец\\appdata\\local\\programs\\python\\python310\\lib\\site-packages (from matplotlib) (3.0.7)\n",
      "Requirement already satisfied: numpy>=1.17 in c:\\users\\владелец\\appdata\\local\\programs\\python\\python310\\lib\\site-packages (from matplotlib) (1.22.3)\n",
      "Requirement already satisfied: packaging>=20.0 in c:\\users\\владелец\\appdata\\local\\programs\\python\\python310\\lib\\site-packages (from matplotlib) (21.3)\n",
      "Requirement already satisfied: kiwisolver>=1.0.1 in c:\\users\\владелец\\appdata\\local\\programs\\python\\python310\\lib\\site-packages (from matplotlib) (1.4.0)\n",
      "Requirement already satisfied: cycler>=0.10 in c:\\users\\владелец\\appdata\\local\\programs\\python\\python310\\lib\\site-packages (from matplotlib) (0.11.0)\n",
      "Requirement already satisfied: pillow>=6.2.0 in c:\\users\\владелец\\appdata\\local\\programs\\python\\python310\\lib\\site-packages (from matplotlib) (8.4.0)\n",
      "Requirement already satisfied: fonttools>=4.22.0 in c:\\users\\владелец\\appdata\\local\\programs\\python\\python310\\lib\\site-packages (from matplotlib) (4.31.1)\n",
      "Requirement already satisfied: six>=1.5 in c:\\users\\владелец\\appdata\\local\\programs\\python\\python310\\lib\\site-packages (from python-dateutil>=2.7->matplotlib) (1.16.0)\n",
      "Requirement already satisfied: seaborn in c:\\users\\владелец\\appdata\\local\\programs\\python\\python310\\lib\\site-packages (0.11.2)\n",
      "Requirement already satisfied: numpy>=1.15 in c:\\users\\владелец\\appdata\\local\\programs\\python\\python310\\lib\\site-packages (from seaborn) (1.22.3)\n",
      "Requirement already satisfied: pandas>=0.23 in c:\\users\\владелец\\appdata\\local\\programs\\python\\python310\\lib\\site-packages (from seaborn) (1.4.1)\n",
      "Requirement already satisfied: matplotlib>=2.2 in c:\\users\\владелец\\appdata\\local\\programs\\python\\python310\\lib\\site-packages (from seaborn) (3.5.1)\n",
      "Requirement already satisfied: scipy>=1.0 in c:\\users\\владелец\\appdata\\local\\programs\\python\\python310\\lib\\site-packages (from seaborn) (1.7.3)\n",
      "Requirement already satisfied: fonttools>=4.22.0 in c:\\users\\владелец\\appdata\\local\\programs\\python\\python310\\lib\\site-packages (from matplotlib>=2.2->seaborn) (4.31.1)\n",
      "Requirement already satisfied: packaging>=20.0 in c:\\users\\владелец\\appdata\\local\\programs\\python\\python310\\lib\\site-packages (from matplotlib>=2.2->seaborn) (21.3)\n",
      "Requirement already satisfied: kiwisolver>=1.0.1 in c:\\users\\владелец\\appdata\\local\\programs\\python\\python310\\lib\\site-packages (from matplotlib>=2.2->seaborn) (1.4.0)\n",
      "Requirement already satisfied: cycler>=0.10 in c:\\users\\владелец\\appdata\\local\\programs\\python\\python310\\lib\\site-packages (from matplotlib>=2.2->seaborn) (0.11.0)\n",
      "Requirement already satisfied: pillow>=6.2.0 in c:\\users\\владелец\\appdata\\local\\programs\\python\\python310\\lib\\site-packages (from matplotlib>=2.2->seaborn) (8.4.0)\n",
      "Requirement already satisfied: pyparsing>=2.2.1 in c:\\users\\владелец\\appdata\\local\\programs\\python\\python310\\lib\\site-packages (from matplotlib>=2.2->seaborn) (3.0.7)\n",
      "Requirement already satisfied: python-dateutil>=2.7 in c:\\users\\владелец\\appdata\\local\\programs\\python\\python310\\lib\\site-packages (from matplotlib>=2.2->seaborn) (2.8.2)\n",
      "Requirement already satisfied: pytz>=2020.1 in c:\\users\\владелец\\appdata\\local\\programs\\python\\python310\\lib\\site-packages (from pandas>=0.23->seaborn) (2021.3)\n",
      "Requirement already satisfied: six>=1.5 in c:\\users\\владелец\\appdata\\local\\programs\\python\\python310\\lib\\site-packages (from python-dateutil>=2.7->matplotlib>=2.2->seaborn) (1.16.0)\n"
     ]
    }
   ],
   "source": [
    "!pip install sidetable\n",
    "!pip install matplotlib\n",
    "!pip install seaborn"
   ]
  },
  {
   "cell_type": "code",
   "execution_count": 2,
   "metadata": {},
   "outputs": [],
   "source": [
    "import pandas as pd \n",
    "import sidetable as stb\n",
    "from statistics import median\n",
    "import numpy as np\n",
    "import matplotlib.pyplot as plt\n",
    "import seaborn as sns"
   ]
  },
  {
   "cell_type": "markdown",
   "metadata": {},
   "source": [
    "Отключим предупреждение о VisibleDeprecationWarning."
   ]
  },
  {
   "cell_type": "code",
   "execution_count": 3,
   "metadata": {},
   "outputs": [],
   "source": [
    "np.warnings.filterwarnings('ignore', category=np.VisibleDeprecationWarning)                 "
   ]
  },
  {
   "cell_type": "markdown",
   "metadata": {},
   "source": [
    "Убираем лимит на вывод колонок."
   ]
  },
  {
   "cell_type": "code",
   "execution_count": 4,
   "metadata": {},
   "outputs": [],
   "source": [
    "pd.set_option('display.max_columns', None)"
   ]
  },
  {
   "cell_type": "markdown",
   "metadata": {},
   "source": [
    "## <span style=\"color: crimson\">Этап 1</span> Изучение данных"
   ]
  },
  {
   "cell_type": "markdown",
   "metadata": {},
   "source": [
    "<h3><span style=\"color: red\"><b>| </b></span> Чтение данных</h3>"
   ]
  },
  {
   "cell_type": "code",
   "execution_count": 5,
   "metadata": {},
   "outputs": [],
   "source": [
    "df = pd.read_csv('./real_estate_data.csv', sep='\\t')"
   ]
  },
  {
   "cell_type": "code",
   "execution_count": 6,
   "metadata": {
    "scrolled": true
   },
   "outputs": [
    {
     "data": {
      "text/html": [
       "<div>\n",
       "<style scoped>\n",
       "    .dataframe tbody tr th:only-of-type {\n",
       "        vertical-align: middle;\n",
       "    }\n",
       "\n",
       "    .dataframe tbody tr th {\n",
       "        vertical-align: top;\n",
       "    }\n",
       "\n",
       "    .dataframe thead th {\n",
       "        text-align: right;\n",
       "    }\n",
       "</style>\n",
       "<table border=\"1\" class=\"dataframe\">\n",
       "  <thead>\n",
       "    <tr style=\"text-align: right;\">\n",
       "      <th></th>\n",
       "      <th>total_images</th>\n",
       "      <th>last_price</th>\n",
       "      <th>total_area</th>\n",
       "      <th>first_day_exposition</th>\n",
       "      <th>rooms</th>\n",
       "      <th>ceiling_height</th>\n",
       "      <th>floors_total</th>\n",
       "      <th>living_area</th>\n",
       "      <th>floor</th>\n",
       "      <th>is_apartment</th>\n",
       "      <th>studio</th>\n",
       "      <th>open_plan</th>\n",
       "      <th>kitchen_area</th>\n",
       "      <th>balcony</th>\n",
       "      <th>locality_name</th>\n",
       "      <th>airports_nearest</th>\n",
       "      <th>cityCenters_nearest</th>\n",
       "      <th>parks_around3000</th>\n",
       "      <th>parks_nearest</th>\n",
       "      <th>ponds_around3000</th>\n",
       "      <th>ponds_nearest</th>\n",
       "      <th>days_exposition</th>\n",
       "    </tr>\n",
       "  </thead>\n",
       "  <tbody>\n",
       "    <tr>\n",
       "      <th>0</th>\n",
       "      <td>20</td>\n",
       "      <td>13000000.0</td>\n",
       "      <td>108.0</td>\n",
       "      <td>2019-03-07T00:00:00</td>\n",
       "      <td>3</td>\n",
       "      <td>2.70</td>\n",
       "      <td>16.0</td>\n",
       "      <td>51.0</td>\n",
       "      <td>8</td>\n",
       "      <td>NaN</td>\n",
       "      <td>False</td>\n",
       "      <td>False</td>\n",
       "      <td>25.0</td>\n",
       "      <td>NaN</td>\n",
       "      <td>Санкт-Петербург</td>\n",
       "      <td>18863.0</td>\n",
       "      <td>16028.0</td>\n",
       "      <td>1.0</td>\n",
       "      <td>482.0</td>\n",
       "      <td>2.0</td>\n",
       "      <td>755.0</td>\n",
       "      <td>NaN</td>\n",
       "    </tr>\n",
       "    <tr>\n",
       "      <th>1</th>\n",
       "      <td>7</td>\n",
       "      <td>3350000.0</td>\n",
       "      <td>40.4</td>\n",
       "      <td>2018-12-04T00:00:00</td>\n",
       "      <td>1</td>\n",
       "      <td>NaN</td>\n",
       "      <td>11.0</td>\n",
       "      <td>18.6</td>\n",
       "      <td>1</td>\n",
       "      <td>NaN</td>\n",
       "      <td>False</td>\n",
       "      <td>False</td>\n",
       "      <td>11.0</td>\n",
       "      <td>2.0</td>\n",
       "      <td>посёлок Шушары</td>\n",
       "      <td>12817.0</td>\n",
       "      <td>18603.0</td>\n",
       "      <td>0.0</td>\n",
       "      <td>NaN</td>\n",
       "      <td>0.0</td>\n",
       "      <td>NaN</td>\n",
       "      <td>81.0</td>\n",
       "    </tr>\n",
       "    <tr>\n",
       "      <th>2</th>\n",
       "      <td>10</td>\n",
       "      <td>5196000.0</td>\n",
       "      <td>56.0</td>\n",
       "      <td>2015-08-20T00:00:00</td>\n",
       "      <td>2</td>\n",
       "      <td>NaN</td>\n",
       "      <td>5.0</td>\n",
       "      <td>34.3</td>\n",
       "      <td>4</td>\n",
       "      <td>NaN</td>\n",
       "      <td>False</td>\n",
       "      <td>False</td>\n",
       "      <td>8.3</td>\n",
       "      <td>0.0</td>\n",
       "      <td>Санкт-Петербург</td>\n",
       "      <td>21741.0</td>\n",
       "      <td>13933.0</td>\n",
       "      <td>1.0</td>\n",
       "      <td>90.0</td>\n",
       "      <td>2.0</td>\n",
       "      <td>574.0</td>\n",
       "      <td>558.0</td>\n",
       "    </tr>\n",
       "    <tr>\n",
       "      <th>3</th>\n",
       "      <td>0</td>\n",
       "      <td>64900000.0</td>\n",
       "      <td>159.0</td>\n",
       "      <td>2015-07-24T00:00:00</td>\n",
       "      <td>3</td>\n",
       "      <td>NaN</td>\n",
       "      <td>14.0</td>\n",
       "      <td>NaN</td>\n",
       "      <td>9</td>\n",
       "      <td>NaN</td>\n",
       "      <td>False</td>\n",
       "      <td>False</td>\n",
       "      <td>NaN</td>\n",
       "      <td>0.0</td>\n",
       "      <td>Санкт-Петербург</td>\n",
       "      <td>28098.0</td>\n",
       "      <td>6800.0</td>\n",
       "      <td>2.0</td>\n",
       "      <td>84.0</td>\n",
       "      <td>3.0</td>\n",
       "      <td>234.0</td>\n",
       "      <td>424.0</td>\n",
       "    </tr>\n",
       "    <tr>\n",
       "      <th>4</th>\n",
       "      <td>2</td>\n",
       "      <td>10000000.0</td>\n",
       "      <td>100.0</td>\n",
       "      <td>2018-06-19T00:00:00</td>\n",
       "      <td>2</td>\n",
       "      <td>3.03</td>\n",
       "      <td>14.0</td>\n",
       "      <td>32.0</td>\n",
       "      <td>13</td>\n",
       "      <td>NaN</td>\n",
       "      <td>False</td>\n",
       "      <td>False</td>\n",
       "      <td>41.0</td>\n",
       "      <td>NaN</td>\n",
       "      <td>Санкт-Петербург</td>\n",
       "      <td>31856.0</td>\n",
       "      <td>8098.0</td>\n",
       "      <td>2.0</td>\n",
       "      <td>112.0</td>\n",
       "      <td>1.0</td>\n",
       "      <td>48.0</td>\n",
       "      <td>121.0</td>\n",
       "    </tr>\n",
       "  </tbody>\n",
       "</table>\n",
       "</div>"
      ],
      "text/plain": [
       "   total_images  last_price  total_area first_day_exposition  rooms  \\\n",
       "0            20  13000000.0       108.0  2019-03-07T00:00:00      3   \n",
       "1             7   3350000.0        40.4  2018-12-04T00:00:00      1   \n",
       "2            10   5196000.0        56.0  2015-08-20T00:00:00      2   \n",
       "3             0  64900000.0       159.0  2015-07-24T00:00:00      3   \n",
       "4             2  10000000.0       100.0  2018-06-19T00:00:00      2   \n",
       "\n",
       "   ceiling_height  floors_total  living_area  floor is_apartment  studio  \\\n",
       "0            2.70          16.0         51.0      8          NaN   False   \n",
       "1             NaN          11.0         18.6      1          NaN   False   \n",
       "2             NaN           5.0         34.3      4          NaN   False   \n",
       "3             NaN          14.0          NaN      9          NaN   False   \n",
       "4            3.03          14.0         32.0     13          NaN   False   \n",
       "\n",
       "   open_plan  kitchen_area  balcony    locality_name  airports_nearest  \\\n",
       "0      False          25.0      NaN  Санкт-Петербург           18863.0   \n",
       "1      False          11.0      2.0   посёлок Шушары           12817.0   \n",
       "2      False           8.3      0.0  Санкт-Петербург           21741.0   \n",
       "3      False           NaN      0.0  Санкт-Петербург           28098.0   \n",
       "4      False          41.0      NaN  Санкт-Петербург           31856.0   \n",
       "\n",
       "   cityCenters_nearest  parks_around3000  parks_nearest  ponds_around3000  \\\n",
       "0              16028.0               1.0          482.0               2.0   \n",
       "1              18603.0               0.0            NaN               0.0   \n",
       "2              13933.0               1.0           90.0               2.0   \n",
       "3               6800.0               2.0           84.0               3.0   \n",
       "4               8098.0               2.0          112.0               1.0   \n",
       "\n",
       "   ponds_nearest  days_exposition  \n",
       "0          755.0              NaN  \n",
       "1            NaN             81.0  \n",
       "2          574.0            558.0  \n",
       "3          234.0            424.0  \n",
       "4           48.0            121.0  "
      ]
     },
     "execution_count": 6,
     "metadata": {},
     "output_type": "execute_result"
    }
   ],
   "source": [
    "df.head(5)"
   ]
  },
  {
   "cell_type": "code",
   "execution_count": 7,
   "metadata": {},
   "outputs": [
    {
     "data": {
      "text/html": [
       "<div>\n",
       "<style scoped>\n",
       "    .dataframe tbody tr th:only-of-type {\n",
       "        vertical-align: middle;\n",
       "    }\n",
       "\n",
       "    .dataframe tbody tr th {\n",
       "        vertical-align: top;\n",
       "    }\n",
       "\n",
       "    .dataframe thead th {\n",
       "        text-align: right;\n",
       "    }\n",
       "</style>\n",
       "<table border=\"1\" class=\"dataframe\">\n",
       "  <thead>\n",
       "    <tr style=\"text-align: right;\">\n",
       "      <th></th>\n",
       "      <th>total_images</th>\n",
       "      <th>last_price</th>\n",
       "      <th>total_area</th>\n",
       "      <th>first_day_exposition</th>\n",
       "      <th>rooms</th>\n",
       "      <th>ceiling_height</th>\n",
       "      <th>floors_total</th>\n",
       "      <th>living_area</th>\n",
       "      <th>floor</th>\n",
       "      <th>is_apartment</th>\n",
       "      <th>studio</th>\n",
       "      <th>open_plan</th>\n",
       "      <th>kitchen_area</th>\n",
       "      <th>balcony</th>\n",
       "      <th>locality_name</th>\n",
       "      <th>airports_nearest</th>\n",
       "      <th>cityCenters_nearest</th>\n",
       "      <th>parks_around3000</th>\n",
       "      <th>parks_nearest</th>\n",
       "      <th>ponds_around3000</th>\n",
       "      <th>ponds_nearest</th>\n",
       "      <th>days_exposition</th>\n",
       "    </tr>\n",
       "  </thead>\n",
       "  <tbody>\n",
       "    <tr>\n",
       "      <th>23694</th>\n",
       "      <td>9</td>\n",
       "      <td>9700000.0</td>\n",
       "      <td>133.81</td>\n",
       "      <td>2017-03-21T00:00:00</td>\n",
       "      <td>3</td>\n",
       "      <td>3.7</td>\n",
       "      <td>5.0</td>\n",
       "      <td>73.3</td>\n",
       "      <td>3</td>\n",
       "      <td>NaN</td>\n",
       "      <td>False</td>\n",
       "      <td>False</td>\n",
       "      <td>13.83</td>\n",
       "      <td>NaN</td>\n",
       "      <td>Санкт-Петербург</td>\n",
       "      <td>24665.0</td>\n",
       "      <td>4232.0</td>\n",
       "      <td>1.0</td>\n",
       "      <td>796.0</td>\n",
       "      <td>3.0</td>\n",
       "      <td>381.0</td>\n",
       "      <td>NaN</td>\n",
       "    </tr>\n",
       "    <tr>\n",
       "      <th>23695</th>\n",
       "      <td>14</td>\n",
       "      <td>3100000.0</td>\n",
       "      <td>59.00</td>\n",
       "      <td>2018-01-15T00:00:00</td>\n",
       "      <td>3</td>\n",
       "      <td>NaN</td>\n",
       "      <td>5.0</td>\n",
       "      <td>38.0</td>\n",
       "      <td>4</td>\n",
       "      <td>NaN</td>\n",
       "      <td>False</td>\n",
       "      <td>False</td>\n",
       "      <td>8.50</td>\n",
       "      <td>NaN</td>\n",
       "      <td>Тосно</td>\n",
       "      <td>NaN</td>\n",
       "      <td>NaN</td>\n",
       "      <td>NaN</td>\n",
       "      <td>NaN</td>\n",
       "      <td>NaN</td>\n",
       "      <td>NaN</td>\n",
       "      <td>45.0</td>\n",
       "    </tr>\n",
       "    <tr>\n",
       "      <th>23696</th>\n",
       "      <td>18</td>\n",
       "      <td>2500000.0</td>\n",
       "      <td>56.70</td>\n",
       "      <td>2018-02-11T00:00:00</td>\n",
       "      <td>2</td>\n",
       "      <td>NaN</td>\n",
       "      <td>3.0</td>\n",
       "      <td>29.7</td>\n",
       "      <td>1</td>\n",
       "      <td>NaN</td>\n",
       "      <td>False</td>\n",
       "      <td>False</td>\n",
       "      <td>NaN</td>\n",
       "      <td>NaN</td>\n",
       "      <td>село Рождествено</td>\n",
       "      <td>NaN</td>\n",
       "      <td>NaN</td>\n",
       "      <td>NaN</td>\n",
       "      <td>NaN</td>\n",
       "      <td>NaN</td>\n",
       "      <td>NaN</td>\n",
       "      <td>NaN</td>\n",
       "    </tr>\n",
       "    <tr>\n",
       "      <th>23697</th>\n",
       "      <td>13</td>\n",
       "      <td>11475000.0</td>\n",
       "      <td>76.75</td>\n",
       "      <td>2017-03-28T00:00:00</td>\n",
       "      <td>2</td>\n",
       "      <td>3.0</td>\n",
       "      <td>17.0</td>\n",
       "      <td>NaN</td>\n",
       "      <td>12</td>\n",
       "      <td>NaN</td>\n",
       "      <td>False</td>\n",
       "      <td>False</td>\n",
       "      <td>23.30</td>\n",
       "      <td>2.0</td>\n",
       "      <td>Санкт-Петербург</td>\n",
       "      <td>39140.0</td>\n",
       "      <td>10364.0</td>\n",
       "      <td>2.0</td>\n",
       "      <td>173.0</td>\n",
       "      <td>3.0</td>\n",
       "      <td>196.0</td>\n",
       "      <td>602.0</td>\n",
       "    </tr>\n",
       "    <tr>\n",
       "      <th>23698</th>\n",
       "      <td>4</td>\n",
       "      <td>1350000.0</td>\n",
       "      <td>32.30</td>\n",
       "      <td>2017-07-21T00:00:00</td>\n",
       "      <td>1</td>\n",
       "      <td>2.5</td>\n",
       "      <td>5.0</td>\n",
       "      <td>12.3</td>\n",
       "      <td>1</td>\n",
       "      <td>NaN</td>\n",
       "      <td>False</td>\n",
       "      <td>False</td>\n",
       "      <td>9.00</td>\n",
       "      <td>NaN</td>\n",
       "      <td>поселок Новый Учхоз</td>\n",
       "      <td>NaN</td>\n",
       "      <td>NaN</td>\n",
       "      <td>NaN</td>\n",
       "      <td>NaN</td>\n",
       "      <td>NaN</td>\n",
       "      <td>NaN</td>\n",
       "      <td>NaN</td>\n",
       "    </tr>\n",
       "  </tbody>\n",
       "</table>\n",
       "</div>"
      ],
      "text/plain": [
       "       total_images  last_price  total_area first_day_exposition  rooms  \\\n",
       "23694             9   9700000.0      133.81  2017-03-21T00:00:00      3   \n",
       "23695            14   3100000.0       59.00  2018-01-15T00:00:00      3   \n",
       "23696            18   2500000.0       56.70  2018-02-11T00:00:00      2   \n",
       "23697            13  11475000.0       76.75  2017-03-28T00:00:00      2   \n",
       "23698             4   1350000.0       32.30  2017-07-21T00:00:00      1   \n",
       "\n",
       "       ceiling_height  floors_total  living_area  floor is_apartment  studio  \\\n",
       "23694             3.7           5.0         73.3      3          NaN   False   \n",
       "23695             NaN           5.0         38.0      4          NaN   False   \n",
       "23696             NaN           3.0         29.7      1          NaN   False   \n",
       "23697             3.0          17.0          NaN     12          NaN   False   \n",
       "23698             2.5           5.0         12.3      1          NaN   False   \n",
       "\n",
       "       open_plan  kitchen_area  balcony        locality_name  \\\n",
       "23694      False         13.83      NaN      Санкт-Петербург   \n",
       "23695      False          8.50      NaN                Тосно   \n",
       "23696      False           NaN      NaN     село Рождествено   \n",
       "23697      False         23.30      2.0      Санкт-Петербург   \n",
       "23698      False          9.00      NaN  поселок Новый Учхоз   \n",
       "\n",
       "       airports_nearest  cityCenters_nearest  parks_around3000  parks_nearest  \\\n",
       "23694           24665.0               4232.0               1.0          796.0   \n",
       "23695               NaN                  NaN               NaN            NaN   \n",
       "23696               NaN                  NaN               NaN            NaN   \n",
       "23697           39140.0              10364.0               2.0          173.0   \n",
       "23698               NaN                  NaN               NaN            NaN   \n",
       "\n",
       "       ponds_around3000  ponds_nearest  days_exposition  \n",
       "23694               3.0          381.0              NaN  \n",
       "23695               NaN            NaN             45.0  \n",
       "23696               NaN            NaN              NaN  \n",
       "23697               3.0          196.0            602.0  \n",
       "23698               NaN            NaN              NaN  "
      ]
     },
     "execution_count": 7,
     "metadata": {},
     "output_type": "execute_result"
    }
   ],
   "source": [
    "df.tail(5)"
   ]
  },
  {
   "cell_type": "markdown",
   "metadata": {},
   "source": [
    "<span style=\"color: crimson\"><b>Аномалии:</b></span>\n",
    "\n",
    "1. Заменить названия столбцов на более понятные.\n",
    "2. Изменить порядок столбцов для лучшей читаемости.\n",
    "3. В столбце <span style=\"color: crimson\"><b>**locality_name**</b></span>:\n",
    "* Замененить поселок на посёлок. \n",
    "* Привести все названия к нижнему регистру.\n",
    "4. Можно добаить новый столбец с типом населенного пункта."
   ]
  },
  {
   "cell_type": "markdown",
   "metadata": {},
   "source": [
    "<h3><span style=\"color: red\"><b>| </b></span> Изучаем краткое описание датафрейма.</h3>"
   ]
  },
  {
   "cell_type": "code",
   "execution_count": 8,
   "metadata": {},
   "outputs": [
    {
     "name": "stdout",
     "output_type": "stream",
     "text": [
      "<class 'pandas.core.frame.DataFrame'>\n",
      "RangeIndex: 23699 entries, 0 to 23698\n",
      "Data columns (total 22 columns):\n",
      " #   Column                Non-Null Count  Dtype  \n",
      "---  ------                --------------  -----  \n",
      " 0   total_images          23699 non-null  int64  \n",
      " 1   last_price            23699 non-null  float64\n",
      " 2   total_area            23699 non-null  float64\n",
      " 3   first_day_exposition  23699 non-null  object \n",
      " 4   rooms                 23699 non-null  int64  \n",
      " 5   ceiling_height        14504 non-null  float64\n",
      " 6   floors_total          23613 non-null  float64\n",
      " 7   living_area           21796 non-null  float64\n",
      " 8   floor                 23699 non-null  int64  \n",
      " 9   is_apartment          2775 non-null   object \n",
      " 10  studio                23699 non-null  bool   \n",
      " 11  open_plan             23699 non-null  bool   \n",
      " 12  kitchen_area          21421 non-null  float64\n",
      " 13  balcony               12180 non-null  float64\n",
      " 14  locality_name         23650 non-null  object \n",
      " 15  airports_nearest      18157 non-null  float64\n",
      " 16  cityCenters_nearest   18180 non-null  float64\n",
      " 17  parks_around3000      18181 non-null  float64\n",
      " 18  parks_nearest         8079 non-null   float64\n",
      " 19  ponds_around3000      18181 non-null  float64\n",
      " 20  ponds_nearest         9110 non-null   float64\n",
      " 21  days_exposition       20518 non-null  float64\n",
      "dtypes: bool(2), float64(14), int64(3), object(3)\n",
      "memory usage: 3.7+ MB\n"
     ]
    }
   ],
   "source": [
    "df.info()"
   ]
  },
  {
   "cell_type": "code",
   "execution_count": 9,
   "metadata": {},
   "outputs": [
    {
     "data": {
      "text/html": [
       "<div>\n",
       "<style scoped>\n",
       "    .dataframe tbody tr th:only-of-type {\n",
       "        vertical-align: middle;\n",
       "    }\n",
       "\n",
       "    .dataframe tbody tr th {\n",
       "        vertical-align: top;\n",
       "    }\n",
       "\n",
       "    .dataframe thead th {\n",
       "        text-align: right;\n",
       "    }\n",
       "</style>\n",
       "<table border=\"1\" class=\"dataframe\">\n",
       "  <thead>\n",
       "    <tr style=\"text-align: right;\">\n",
       "      <th></th>\n",
       "      <th>total_images</th>\n",
       "      <th>last_price</th>\n",
       "      <th>total_area</th>\n",
       "      <th>rooms</th>\n",
       "      <th>ceiling_height</th>\n",
       "      <th>floors_total</th>\n",
       "      <th>living_area</th>\n",
       "      <th>floor</th>\n",
       "      <th>kitchen_area</th>\n",
       "      <th>balcony</th>\n",
       "      <th>airports_nearest</th>\n",
       "      <th>cityCenters_nearest</th>\n",
       "      <th>parks_around3000</th>\n",
       "      <th>parks_nearest</th>\n",
       "      <th>ponds_around3000</th>\n",
       "      <th>ponds_nearest</th>\n",
       "      <th>days_exposition</th>\n",
       "    </tr>\n",
       "  </thead>\n",
       "  <tbody>\n",
       "    <tr>\n",
       "      <th>count</th>\n",
       "      <td>23699.000000</td>\n",
       "      <td>2.369900e+04</td>\n",
       "      <td>23699.000000</td>\n",
       "      <td>23699.000000</td>\n",
       "      <td>14504.000000</td>\n",
       "      <td>23613.000000</td>\n",
       "      <td>21796.000000</td>\n",
       "      <td>23699.000000</td>\n",
       "      <td>21421.000000</td>\n",
       "      <td>12180.000000</td>\n",
       "      <td>18157.000000</td>\n",
       "      <td>18180.000000</td>\n",
       "      <td>18181.000000</td>\n",
       "      <td>8079.000000</td>\n",
       "      <td>18181.000000</td>\n",
       "      <td>9110.000000</td>\n",
       "      <td>20518.000000</td>\n",
       "    </tr>\n",
       "    <tr>\n",
       "      <th>mean</th>\n",
       "      <td>9.858475</td>\n",
       "      <td>6.541549e+06</td>\n",
       "      <td>60.348651</td>\n",
       "      <td>2.070636</td>\n",
       "      <td>2.771499</td>\n",
       "      <td>10.673824</td>\n",
       "      <td>34.457852</td>\n",
       "      <td>5.892358</td>\n",
       "      <td>10.569807</td>\n",
       "      <td>1.150082</td>\n",
       "      <td>28793.672193</td>\n",
       "      <td>14191.277833</td>\n",
       "      <td>0.611408</td>\n",
       "      <td>490.804555</td>\n",
       "      <td>0.770255</td>\n",
       "      <td>517.980900</td>\n",
       "      <td>180.888634</td>\n",
       "    </tr>\n",
       "    <tr>\n",
       "      <th>std</th>\n",
       "      <td>5.682529</td>\n",
       "      <td>1.088701e+07</td>\n",
       "      <td>35.654083</td>\n",
       "      <td>1.078405</td>\n",
       "      <td>1.261056</td>\n",
       "      <td>6.597173</td>\n",
       "      <td>22.030445</td>\n",
       "      <td>4.885249</td>\n",
       "      <td>5.905438</td>\n",
       "      <td>1.071300</td>\n",
       "      <td>12630.880622</td>\n",
       "      <td>8608.386210</td>\n",
       "      <td>0.802074</td>\n",
       "      <td>342.317995</td>\n",
       "      <td>0.938346</td>\n",
       "      <td>277.720643</td>\n",
       "      <td>219.727988</td>\n",
       "    </tr>\n",
       "    <tr>\n",
       "      <th>min</th>\n",
       "      <td>0.000000</td>\n",
       "      <td>1.219000e+04</td>\n",
       "      <td>12.000000</td>\n",
       "      <td>0.000000</td>\n",
       "      <td>1.000000</td>\n",
       "      <td>1.000000</td>\n",
       "      <td>2.000000</td>\n",
       "      <td>1.000000</td>\n",
       "      <td>1.300000</td>\n",
       "      <td>0.000000</td>\n",
       "      <td>0.000000</td>\n",
       "      <td>181.000000</td>\n",
       "      <td>0.000000</td>\n",
       "      <td>1.000000</td>\n",
       "      <td>0.000000</td>\n",
       "      <td>13.000000</td>\n",
       "      <td>1.000000</td>\n",
       "    </tr>\n",
       "    <tr>\n",
       "      <th>25%</th>\n",
       "      <td>6.000000</td>\n",
       "      <td>3.400000e+06</td>\n",
       "      <td>40.000000</td>\n",
       "      <td>1.000000</td>\n",
       "      <td>2.520000</td>\n",
       "      <td>5.000000</td>\n",
       "      <td>18.600000</td>\n",
       "      <td>2.000000</td>\n",
       "      <td>7.000000</td>\n",
       "      <td>0.000000</td>\n",
       "      <td>18585.000000</td>\n",
       "      <td>9238.000000</td>\n",
       "      <td>0.000000</td>\n",
       "      <td>288.000000</td>\n",
       "      <td>0.000000</td>\n",
       "      <td>294.000000</td>\n",
       "      <td>45.000000</td>\n",
       "    </tr>\n",
       "    <tr>\n",
       "      <th>50%</th>\n",
       "      <td>9.000000</td>\n",
       "      <td>4.650000e+06</td>\n",
       "      <td>52.000000</td>\n",
       "      <td>2.000000</td>\n",
       "      <td>2.650000</td>\n",
       "      <td>9.000000</td>\n",
       "      <td>30.000000</td>\n",
       "      <td>4.000000</td>\n",
       "      <td>9.100000</td>\n",
       "      <td>1.000000</td>\n",
       "      <td>26726.000000</td>\n",
       "      <td>13098.500000</td>\n",
       "      <td>0.000000</td>\n",
       "      <td>455.000000</td>\n",
       "      <td>1.000000</td>\n",
       "      <td>502.000000</td>\n",
       "      <td>95.000000</td>\n",
       "    </tr>\n",
       "    <tr>\n",
       "      <th>75%</th>\n",
       "      <td>14.000000</td>\n",
       "      <td>6.800000e+06</td>\n",
       "      <td>69.900000</td>\n",
       "      <td>3.000000</td>\n",
       "      <td>2.800000</td>\n",
       "      <td>16.000000</td>\n",
       "      <td>42.300000</td>\n",
       "      <td>8.000000</td>\n",
       "      <td>12.000000</td>\n",
       "      <td>2.000000</td>\n",
       "      <td>37273.000000</td>\n",
       "      <td>16293.000000</td>\n",
       "      <td>1.000000</td>\n",
       "      <td>612.000000</td>\n",
       "      <td>1.000000</td>\n",
       "      <td>729.000000</td>\n",
       "      <td>232.000000</td>\n",
       "    </tr>\n",
       "    <tr>\n",
       "      <th>max</th>\n",
       "      <td>50.000000</td>\n",
       "      <td>7.630000e+08</td>\n",
       "      <td>900.000000</td>\n",
       "      <td>19.000000</td>\n",
       "      <td>100.000000</td>\n",
       "      <td>60.000000</td>\n",
       "      <td>409.700000</td>\n",
       "      <td>33.000000</td>\n",
       "      <td>112.000000</td>\n",
       "      <td>5.000000</td>\n",
       "      <td>84869.000000</td>\n",
       "      <td>65968.000000</td>\n",
       "      <td>3.000000</td>\n",
       "      <td>3190.000000</td>\n",
       "      <td>3.000000</td>\n",
       "      <td>1344.000000</td>\n",
       "      <td>1580.000000</td>\n",
       "    </tr>\n",
       "  </tbody>\n",
       "</table>\n",
       "</div>"
      ],
      "text/plain": [
       "       total_images    last_price    total_area         rooms  ceiling_height  \\\n",
       "count  23699.000000  2.369900e+04  23699.000000  23699.000000    14504.000000   \n",
       "mean       9.858475  6.541549e+06     60.348651      2.070636        2.771499   \n",
       "std        5.682529  1.088701e+07     35.654083      1.078405        1.261056   \n",
       "min        0.000000  1.219000e+04     12.000000      0.000000        1.000000   \n",
       "25%        6.000000  3.400000e+06     40.000000      1.000000        2.520000   \n",
       "50%        9.000000  4.650000e+06     52.000000      2.000000        2.650000   \n",
       "75%       14.000000  6.800000e+06     69.900000      3.000000        2.800000   \n",
       "max       50.000000  7.630000e+08    900.000000     19.000000      100.000000   \n",
       "\n",
       "       floors_total   living_area         floor  kitchen_area       balcony  \\\n",
       "count  23613.000000  21796.000000  23699.000000  21421.000000  12180.000000   \n",
       "mean      10.673824     34.457852      5.892358     10.569807      1.150082   \n",
       "std        6.597173     22.030445      4.885249      5.905438      1.071300   \n",
       "min        1.000000      2.000000      1.000000      1.300000      0.000000   \n",
       "25%        5.000000     18.600000      2.000000      7.000000      0.000000   \n",
       "50%        9.000000     30.000000      4.000000      9.100000      1.000000   \n",
       "75%       16.000000     42.300000      8.000000     12.000000      2.000000   \n",
       "max       60.000000    409.700000     33.000000    112.000000      5.000000   \n",
       "\n",
       "       airports_nearest  cityCenters_nearest  parks_around3000  parks_nearest  \\\n",
       "count      18157.000000         18180.000000      18181.000000    8079.000000   \n",
       "mean       28793.672193         14191.277833          0.611408     490.804555   \n",
       "std        12630.880622          8608.386210          0.802074     342.317995   \n",
       "min            0.000000           181.000000          0.000000       1.000000   \n",
       "25%        18585.000000          9238.000000          0.000000     288.000000   \n",
       "50%        26726.000000         13098.500000          0.000000     455.000000   \n",
       "75%        37273.000000         16293.000000          1.000000     612.000000   \n",
       "max        84869.000000         65968.000000          3.000000    3190.000000   \n",
       "\n",
       "       ponds_around3000  ponds_nearest  days_exposition  \n",
       "count      18181.000000    9110.000000     20518.000000  \n",
       "mean           0.770255     517.980900       180.888634  \n",
       "std            0.938346     277.720643       219.727988  \n",
       "min            0.000000      13.000000         1.000000  \n",
       "25%            0.000000     294.000000        45.000000  \n",
       "50%            1.000000     502.000000        95.000000  \n",
       "75%            1.000000     729.000000       232.000000  \n",
       "max            3.000000    1344.000000      1580.000000  "
      ]
     },
     "execution_count": 9,
     "metadata": {},
     "output_type": "execute_result"
    }
   ],
   "source": [
    "df.describe()"
   ]
  },
  {
   "cell_type": "markdown",
   "metadata": {},
   "source": [
    "<span style=\"color: crimson\"><b>Аномалии:</b></span>\n",
    "\n",
    "* <span style=\"color: crimson\"><b>ceiling_height</b></span> - высота потолка в 100 метров слишком большая. высота потолка в 1 метр слишком маленькая.\n",
    "* <span style=\"color: crimson\"><b>rooms</b></span> - минимальное количество комнат равно 0,  при этом есть балконы."
   ]
  },
  {
   "cell_type": "markdown",
   "metadata": {},
   "source": [
    "### <center><span style=\"color: crimson\"><b>Вывод</b></span></center>\n",
    "\n",
    "<span style=\"color: crimson\"><b>Пункты по обработке данных</b></span>:\n",
    "1. Заменить **названия столбцов** на более понятные. + Изменить **порядок столбцов** для лучшей читаемости.\n",
    "2. Разобраться с **пропусками**.\n",
    "3. Изменить некорректные **типы данных**.\n",
    "\n",
    "<span style=\"color: crimson\"><b>Аномалии в параметрах</b></span>:\n",
    "1. В столбце <span style=\"color: crimson\"><b>**locality_name**</b></span>:\n",
    "* Замененить поселок на посёлок. \n",
    "* Привести все названия к нижнему регистру.\n",
    "2. Можно добаить новый столбец с типом населенного пункта.\n",
    "3. <span style=\"color: crimson\"><b>ceiling_height</b></span> - высота потолка в 100 метров слишком большая. высота потолка в 1 метр слишком маленькая.\n",
    "4. <span style=\"color: crimson\"><b>rooms</b></span> - минимальное количество комнат равно 0,  при этом есть балконы."
   ]
  },
  {
   "cell_type": "markdown",
   "metadata": {},
   "source": [
    "## <span style=\"color: crimson\">Этап 2</span> Предобработка данных"
   ]
  },
  {
   "cell_type": "markdown",
   "metadata": {},
   "source": [
    "<b>1. <big><span style=\"color: red\">З</span>аменить названия столбцов + <span style=\"color: red\">И</span>зменить порядок столбцов \n",
    "</big>:</b>"
   ]
  },
  {
   "cell_type": "code",
   "execution_count": 10,
   "metadata": {},
   "outputs": [],
   "source": [
    "new_columns = {'last_price'         : 'price',\n",
    "               'total_area'         : 'total_area_m2',\n",
    "               'living_area'        : 'living_area_m2',\n",
    "               'rooms'              : 'number_of_rooms',\n",
    "               'ceiling_height'     : 'ceiling_height_m',\n",
    "               'floors_total'       : 'floors_in_house',\n",
    "               'studio'             : 'is_studio',\n",
    "               'open_plan'          : 'is_open_plan',\n",
    "               'kitchen_area'       : 'kitchen_area_m2',\n",
    "               'balcony'            : 'number_of_balcony',\n",
    "               'airports_nearest'   : 'airports_nearest_m',\n",
    "               'cityCenters_nearest': 'city_centers_nearest_m',\n",
    "               'parks_around3000'   : 'parks_around_3km',\n",
    "               'parks_nearest'      : 'parks_nearest_m',\n",
    "               'ponds_around3000'   : 'ponds_around_3km',\n",
    "               'ponds_nearest'      : 'ponds_nearest_m'}"
   ]
  },
  {
   "cell_type": "code",
   "execution_count": 11,
   "metadata": {},
   "outputs": [],
   "source": [
    "df.rename(columns=new_columns,\n",
    "          inplace=True)"
   ]
  },
  {
   "cell_type": "code",
   "execution_count": 12,
   "metadata": {},
   "outputs": [],
   "source": [
    "df = df[['locality_name',\n",
    "         'price',\n",
    "         'total_area_m2',\n",
    "         'living_area_m2',\n",
    "         'kitchen_area_m2',\n",
    "         'number_of_rooms',\n",
    "         'first_day_exposition', \n",
    "         'floor',\n",
    "         'floors_in_house',\n",
    "         'number_of_balcony',\n",
    "         'is_apartment',\n",
    "         'is_studio',\n",
    "         'is_open_plan',\n",
    "         'total_images',\n",
    "         'ceiling_height_m',\n",
    "         'airports_nearest_m',\n",
    "         'city_centers_nearest_m',\n",
    "         'parks_around_3km',\n",
    "         'parks_nearest_m',\n",
    "         'ponds_around_3km',\n",
    "         'ponds_nearest_m',\n",
    "         'days_exposition']] "
   ]
  },
  {
   "cell_type": "markdown",
   "metadata": {},
   "source": [
    "<b>2. <big><span style=\"color: red\">О</span>бработка пропусков</big>:</b>"
   ]
  },
  {
   "cell_type": "code",
   "execution_count": 13,
   "metadata": {},
   "outputs": [
    {
     "data": {
      "text/html": [
       "<style type=\"text/css\">\n",
       "#T_d89d7_row0_col0, #T_d89d7_row0_col2 {\n",
       "  background-color: #b40426;\n",
       "  color: #f1f1f1;\n",
       "}\n",
       "#T_d89d7_row0_col1, #T_d89d7_row1_col1, #T_d89d7_row2_col1, #T_d89d7_row3_col1, #T_d89d7_row4_col1, #T_d89d7_row5_col1, #T_d89d7_row6_col1, #T_d89d7_row7_col1, #T_d89d7_row8_col1, #T_d89d7_row9_col1, #T_d89d7_row10_col1, #T_d89d7_row11_col1, #T_d89d7_row12_col1, #T_d89d7_row13_col0, #T_d89d7_row13_col1, #T_d89d7_row13_col2, #T_d89d7_row14_col0, #T_d89d7_row14_col1, #T_d89d7_row14_col2, #T_d89d7_row15_col0, #T_d89d7_row15_col1, #T_d89d7_row15_col2, #T_d89d7_row16_col0, #T_d89d7_row16_col1, #T_d89d7_row16_col2, #T_d89d7_row17_col0, #T_d89d7_row17_col1, #T_d89d7_row17_col2, #T_d89d7_row18_col0, #T_d89d7_row18_col1, #T_d89d7_row18_col2, #T_d89d7_row19_col0, #T_d89d7_row19_col1, #T_d89d7_row19_col2, #T_d89d7_row20_col0, #T_d89d7_row20_col1, #T_d89d7_row20_col2, #T_d89d7_row21_col0, #T_d89d7_row21_col1, #T_d89d7_row21_col2 {\n",
       "  background-color: #3b4cc0;\n",
       "  color: #f1f1f1;\n",
       "}\n",
       "#T_d89d7_row1_col0, #T_d89d7_row1_col2 {\n",
       "  background-color: #f49a7b;\n",
       "  color: #000000;\n",
       "}\n",
       "#T_d89d7_row2_col0, #T_d89d7_row2_col2 {\n",
       "  background-color: #f7ad90;\n",
       "  color: #000000;\n",
       "}\n",
       "#T_d89d7_row3_col0, #T_d89d7_row3_col2 {\n",
       "  background-color: #e9d5cb;\n",
       "  color: #000000;\n",
       "}\n",
       "#T_d89d7_row4_col0, #T_d89d7_row4_col2 {\n",
       "  background-color: #ccd9ed;\n",
       "  color: #000000;\n",
       "}\n",
       "#T_d89d7_row5_col0, #T_d89d7_row5_col2, #T_d89d7_row6_col0, #T_d89d7_row6_col2, #T_d89d7_row7_col0, #T_d89d7_row7_col2, #T_d89d7_row8_col0, #T_d89d7_row8_col2 {\n",
       "  background-color: #92b4fe;\n",
       "  color: #000000;\n",
       "}\n",
       "#T_d89d7_row9_col0, #T_d89d7_row9_col2 {\n",
       "  background-color: #6a8bef;\n",
       "  color: #f1f1f1;\n",
       "}\n",
       "#T_d89d7_row10_col0, #T_d89d7_row10_col2 {\n",
       "  background-color: #5b7ae5;\n",
       "  color: #f1f1f1;\n",
       "}\n",
       "#T_d89d7_row11_col0, #T_d89d7_row11_col2 {\n",
       "  background-color: #5673e0;\n",
       "  color: #f1f1f1;\n",
       "}\n",
       "#T_d89d7_row12_col0, #T_d89d7_row12_col2 {\n",
       "  background-color: #3c4ec2;\n",
       "  color: #f1f1f1;\n",
       "}\n",
       "</style>\n",
       "<table id=\"T_d89d7\">\n",
       "  <thead>\n",
       "    <tr>\n",
       "      <th class=\"blank level0\" >&nbsp;</th>\n",
       "      <th id=\"T_d89d7_level0_col0\" class=\"col_heading level0 col0\" >missing</th>\n",
       "      <th id=\"T_d89d7_level0_col1\" class=\"col_heading level0 col1\" >total</th>\n",
       "      <th id=\"T_d89d7_level0_col2\" class=\"col_heading level0 col2\" >percent</th>\n",
       "    </tr>\n",
       "  </thead>\n",
       "  <tbody>\n",
       "    <tr>\n",
       "      <th id=\"T_d89d7_level0_row0\" class=\"row_heading level0 row0\" >is_apartment</th>\n",
       "      <td id=\"T_d89d7_row0_col0\" class=\"data row0 col0\" >20924</td>\n",
       "      <td id=\"T_d89d7_row0_col1\" class=\"data row0 col1\" >23699</td>\n",
       "      <td id=\"T_d89d7_row0_col2\" class=\"data row0 col2\" >88.290645</td>\n",
       "    </tr>\n",
       "    <tr>\n",
       "      <th id=\"T_d89d7_level0_row1\" class=\"row_heading level0 row1\" >parks_nearest_m</th>\n",
       "      <td id=\"T_d89d7_row1_col0\" class=\"data row1 col0\" >15620</td>\n",
       "      <td id=\"T_d89d7_row1_col1\" class=\"data row1 col1\" >23699</td>\n",
       "      <td id=\"T_d89d7_row1_col2\" class=\"data row1 col2\" >65.909954</td>\n",
       "    </tr>\n",
       "    <tr>\n",
       "      <th id=\"T_d89d7_level0_row2\" class=\"row_heading level0 row2\" >ponds_nearest_m</th>\n",
       "      <td id=\"T_d89d7_row2_col0\" class=\"data row2 col0\" >14589</td>\n",
       "      <td id=\"T_d89d7_row2_col1\" class=\"data row2 col1\" >23699</td>\n",
       "      <td id=\"T_d89d7_row2_col2\" class=\"data row2 col2\" >61.559559</td>\n",
       "    </tr>\n",
       "    <tr>\n",
       "      <th id=\"T_d89d7_level0_row3\" class=\"row_heading level0 row3\" >number_of_balcony</th>\n",
       "      <td id=\"T_d89d7_row3_col0\" class=\"data row3 col0\" >11519</td>\n",
       "      <td id=\"T_d89d7_row3_col1\" class=\"data row3 col1\" >23699</td>\n",
       "      <td id=\"T_d89d7_row3_col2\" class=\"data row3 col2\" >48.605426</td>\n",
       "    </tr>\n",
       "    <tr>\n",
       "      <th id=\"T_d89d7_level0_row4\" class=\"row_heading level0 row4\" >ceiling_height_m</th>\n",
       "      <td id=\"T_d89d7_row4_col0\" class=\"data row4 col0\" >9195</td>\n",
       "      <td id=\"T_d89d7_row4_col1\" class=\"data row4 col1\" >23699</td>\n",
       "      <td id=\"T_d89d7_row4_col2\" class=\"data row4 col2\" >38.799105</td>\n",
       "    </tr>\n",
       "    <tr>\n",
       "      <th id=\"T_d89d7_level0_row5\" class=\"row_heading level0 row5\" >airports_nearest_m</th>\n",
       "      <td id=\"T_d89d7_row5_col0\" class=\"data row5 col0\" >5542</td>\n",
       "      <td id=\"T_d89d7_row5_col1\" class=\"data row5 col1\" >23699</td>\n",
       "      <td id=\"T_d89d7_row5_col2\" class=\"data row5 col2\" >23.384953</td>\n",
       "    </tr>\n",
       "    <tr>\n",
       "      <th id=\"T_d89d7_level0_row6\" class=\"row_heading level0 row6\" >city_centers_nearest_m</th>\n",
       "      <td id=\"T_d89d7_row6_col0\" class=\"data row6 col0\" >5519</td>\n",
       "      <td id=\"T_d89d7_row6_col1\" class=\"data row6 col1\" >23699</td>\n",
       "      <td id=\"T_d89d7_row6_col2\" class=\"data row6 col2\" >23.287902</td>\n",
       "    </tr>\n",
       "    <tr>\n",
       "      <th id=\"T_d89d7_level0_row7\" class=\"row_heading level0 row7\" >ponds_around_3km</th>\n",
       "      <td id=\"T_d89d7_row7_col0\" class=\"data row7 col0\" >5518</td>\n",
       "      <td id=\"T_d89d7_row7_col1\" class=\"data row7 col1\" >23699</td>\n",
       "      <td id=\"T_d89d7_row7_col2\" class=\"data row7 col2\" >23.283683</td>\n",
       "    </tr>\n",
       "    <tr>\n",
       "      <th id=\"T_d89d7_level0_row8\" class=\"row_heading level0 row8\" >parks_around_3km</th>\n",
       "      <td id=\"T_d89d7_row8_col0\" class=\"data row8 col0\" >5518</td>\n",
       "      <td id=\"T_d89d7_row8_col1\" class=\"data row8 col1\" >23699</td>\n",
       "      <td id=\"T_d89d7_row8_col2\" class=\"data row8 col2\" >23.283683</td>\n",
       "    </tr>\n",
       "    <tr>\n",
       "      <th id=\"T_d89d7_level0_row9\" class=\"row_heading level0 row9\" >days_exposition</th>\n",
       "      <td id=\"T_d89d7_row9_col0\" class=\"data row9 col0\" >3181</td>\n",
       "      <td id=\"T_d89d7_row9_col1\" class=\"data row9 col1\" >23699</td>\n",
       "      <td id=\"T_d89d7_row9_col2\" class=\"data row9 col2\" >13.422507</td>\n",
       "    </tr>\n",
       "    <tr>\n",
       "      <th id=\"T_d89d7_level0_row10\" class=\"row_heading level0 row10\" >kitchen_area_m2</th>\n",
       "      <td id=\"T_d89d7_row10_col0\" class=\"data row10 col0\" >2278</td>\n",
       "      <td id=\"T_d89d7_row10_col1\" class=\"data row10 col1\" >23699</td>\n",
       "      <td id=\"T_d89d7_row10_col2\" class=\"data row10 col2\" >9.612220</td>\n",
       "    </tr>\n",
       "    <tr>\n",
       "      <th id=\"T_d89d7_level0_row11\" class=\"row_heading level0 row11\" >living_area_m2</th>\n",
       "      <td id=\"T_d89d7_row11_col0\" class=\"data row11 col0\" >1903</td>\n",
       "      <td id=\"T_d89d7_row11_col1\" class=\"data row11 col1\" >23699</td>\n",
       "      <td id=\"T_d89d7_row11_col2\" class=\"data row11 col2\" >8.029875</td>\n",
       "    </tr>\n",
       "    <tr>\n",
       "      <th id=\"T_d89d7_level0_row12\" class=\"row_heading level0 row12\" >floors_in_house</th>\n",
       "      <td id=\"T_d89d7_row12_col0\" class=\"data row12 col0\" >86</td>\n",
       "      <td id=\"T_d89d7_row12_col1\" class=\"data row12 col1\" >23699</td>\n",
       "      <td id=\"T_d89d7_row12_col2\" class=\"data row12 col2\" >0.362885</td>\n",
       "    </tr>\n",
       "    <tr>\n",
       "      <th id=\"T_d89d7_level0_row13\" class=\"row_heading level0 row13\" >locality_name</th>\n",
       "      <td id=\"T_d89d7_row13_col0\" class=\"data row13 col0\" >49</td>\n",
       "      <td id=\"T_d89d7_row13_col1\" class=\"data row13 col1\" >23699</td>\n",
       "      <td id=\"T_d89d7_row13_col2\" class=\"data row13 col2\" >0.206760</td>\n",
       "    </tr>\n",
       "    <tr>\n",
       "      <th id=\"T_d89d7_level0_row14\" class=\"row_heading level0 row14\" >total_images</th>\n",
       "      <td id=\"T_d89d7_row14_col0\" class=\"data row14 col0\" >0</td>\n",
       "      <td id=\"T_d89d7_row14_col1\" class=\"data row14 col1\" >23699</td>\n",
       "      <td id=\"T_d89d7_row14_col2\" class=\"data row14 col2\" >0.000000</td>\n",
       "    </tr>\n",
       "    <tr>\n",
       "      <th id=\"T_d89d7_level0_row15\" class=\"row_heading level0 row15\" >is_open_plan</th>\n",
       "      <td id=\"T_d89d7_row15_col0\" class=\"data row15 col0\" >0</td>\n",
       "      <td id=\"T_d89d7_row15_col1\" class=\"data row15 col1\" >23699</td>\n",
       "      <td id=\"T_d89d7_row15_col2\" class=\"data row15 col2\" >0.000000</td>\n",
       "    </tr>\n",
       "    <tr>\n",
       "      <th id=\"T_d89d7_level0_row16\" class=\"row_heading level0 row16\" >price</th>\n",
       "      <td id=\"T_d89d7_row16_col0\" class=\"data row16 col0\" >0</td>\n",
       "      <td id=\"T_d89d7_row16_col1\" class=\"data row16 col1\" >23699</td>\n",
       "      <td id=\"T_d89d7_row16_col2\" class=\"data row16 col2\" >0.000000</td>\n",
       "    </tr>\n",
       "    <tr>\n",
       "      <th id=\"T_d89d7_level0_row17\" class=\"row_heading level0 row17\" >floor</th>\n",
       "      <td id=\"T_d89d7_row17_col0\" class=\"data row17 col0\" >0</td>\n",
       "      <td id=\"T_d89d7_row17_col1\" class=\"data row17 col1\" >23699</td>\n",
       "      <td id=\"T_d89d7_row17_col2\" class=\"data row17 col2\" >0.000000</td>\n",
       "    </tr>\n",
       "    <tr>\n",
       "      <th id=\"T_d89d7_level0_row18\" class=\"row_heading level0 row18\" >first_day_exposition</th>\n",
       "      <td id=\"T_d89d7_row18_col0\" class=\"data row18 col0\" >0</td>\n",
       "      <td id=\"T_d89d7_row18_col1\" class=\"data row18 col1\" >23699</td>\n",
       "      <td id=\"T_d89d7_row18_col2\" class=\"data row18 col2\" >0.000000</td>\n",
       "    </tr>\n",
       "    <tr>\n",
       "      <th id=\"T_d89d7_level0_row19\" class=\"row_heading level0 row19\" >number_of_rooms</th>\n",
       "      <td id=\"T_d89d7_row19_col0\" class=\"data row19 col0\" >0</td>\n",
       "      <td id=\"T_d89d7_row19_col1\" class=\"data row19 col1\" >23699</td>\n",
       "      <td id=\"T_d89d7_row19_col2\" class=\"data row19 col2\" >0.000000</td>\n",
       "    </tr>\n",
       "    <tr>\n",
       "      <th id=\"T_d89d7_level0_row20\" class=\"row_heading level0 row20\" >total_area_m2</th>\n",
       "      <td id=\"T_d89d7_row20_col0\" class=\"data row20 col0\" >0</td>\n",
       "      <td id=\"T_d89d7_row20_col1\" class=\"data row20 col1\" >23699</td>\n",
       "      <td id=\"T_d89d7_row20_col2\" class=\"data row20 col2\" >0.000000</td>\n",
       "    </tr>\n",
       "    <tr>\n",
       "      <th id=\"T_d89d7_level0_row21\" class=\"row_heading level0 row21\" >is_studio</th>\n",
       "      <td id=\"T_d89d7_row21_col0\" class=\"data row21 col0\" >0</td>\n",
       "      <td id=\"T_d89d7_row21_col1\" class=\"data row21 col1\" >23699</td>\n",
       "      <td id=\"T_d89d7_row21_col2\" class=\"data row21 col2\" >0.000000</td>\n",
       "    </tr>\n",
       "  </tbody>\n",
       "</table>\n"
      ],
      "text/plain": [
       "<pandas.io.formats.style.Styler at 0x247eca26aa0>"
      ]
     },
     "execution_count": 13,
     "metadata": {},
     "output_type": "execute_result"
    }
   ],
   "source": [
    "df.stb.missing().style.background_gradient('coolwarm')"
   ]
  },
  {
   "cell_type": "markdown",
   "metadata": {},
   "source": [
    "В важных параметрах, кроме locality_name, пропусков нет, данные о расстоянии люди могли просто полениться заполнять."
   ]
  },
  {
   "cell_type": "code",
   "execution_count": 14,
   "metadata": {},
   "outputs": [],
   "source": [
    "# is_apartment  - заменить на False.\n",
    "df['is_apartment'] = df['is_apartment'].fillna(False)\n",
    "\n",
    "# balcony  - заменить на 0 (отсутствие балкона).\n",
    "df['number_of_balcony'] = df['number_of_balcony'].fillna(0)"
   ]
  },
  {
   "cell_type": "markdown",
   "metadata": {},
   "source": [
    "Пропуски стоит оставить т.к. есть модели, что умеют с ними работать."
   ]
  },
  {
   "cell_type": "markdown",
   "metadata": {},
   "source": [
    "3.<b> <big><span style=\"color: red\">И</span>зменение типов данных</b></big>"
   ]
  },
  {
   "cell_type": "code",
   "execution_count": 15,
   "metadata": {},
   "outputs": [
    {
     "data": {
      "text/plain": [
       "locality_name              object\n",
       "price                     float64\n",
       "total_area_m2             float64\n",
       "living_area_m2            float64\n",
       "kitchen_area_m2           float64\n",
       "number_of_rooms             int64\n",
       "first_day_exposition       object\n",
       "floor                       int64\n",
       "floors_in_house           float64\n",
       "number_of_balcony         float64\n",
       "is_apartment                 bool\n",
       "is_studio                    bool\n",
       "is_open_plan                 bool\n",
       "total_images                int64\n",
       "ceiling_height_m          float64\n",
       "airports_nearest_m        float64\n",
       "city_centers_nearest_m    float64\n",
       "parks_around_3km          float64\n",
       "parks_nearest_m           float64\n",
       "ponds_around_3km          float64\n",
       "ponds_nearest_m           float64\n",
       "days_exposition           float64\n",
       "dtype: object"
      ]
     },
     "execution_count": 15,
     "metadata": {},
     "output_type": "execute_result"
    }
   ],
   "source": [
    "df.dtypes"
   ]
  },
  {
   "cell_type": "code",
   "execution_count": 16,
   "metadata": {},
   "outputs": [],
   "source": [
    "to_int = [\"total_area_m2\",\"number_of_rooms\"]\n",
    "\n",
    "df[to_int] = df[to_int].astype('int64')\n",
    "\n",
    "df['is_apartment'] = df['is_apartment'].astype('bool')\n",
    "df['first_day_exposition'] = pd.to_datetime(df['first_day_exposition'], format='%Y-%m-%d')"
   ]
  },
  {
   "cell_type": "markdown",
   "metadata": {},
   "source": [
    "**4. <big><span style=\"color: red\"><b>П</span>оиск дубликатов</b></big><b>:</b>**"
   ]
  },
  {
   "cell_type": "markdown",
   "metadata": {},
   "source": [
    "Нет не одного уникального параметра, поэтому будим искать полные дубликаты."
   ]
  },
  {
   "cell_type": "code",
   "execution_count": 17,
   "metadata": {},
   "outputs": [
    {
     "data": {
      "text/plain": [
       "0"
      ]
     },
     "execution_count": 17,
     "metadata": {},
     "output_type": "execute_result"
    }
   ],
   "source": [
    "df.duplicated().sum()"
   ]
  },
  {
   "cell_type": "markdown",
   "metadata": {},
   "source": [
    "## <span style=\"color: crimson\">Этап 3</span> Расчёты и добавление результатов в таблицу"
   ]
  },
  {
   "cell_type": "markdown",
   "metadata": {},
   "source": [
    "### | Цена квадратного метра"
   ]
  },
  {
   "cell_type": "code",
   "execution_count": 18,
   "metadata": {},
   "outputs": [],
   "source": [
    "df['price_square_meter'] = df['price']//df['total_area_m2']"
   ]
  },
  {
   "cell_type": "markdown",
   "metadata": {},
   "source": [
    "### | День недели, месяц и год публикации объявления"
   ]
  },
  {
   "cell_type": "code",
   "execution_count": 19,
   "metadata": {},
   "outputs": [],
   "source": [
    "df['days_of_week_first_day_exposition'] = df['first_day_exposition'].dt.day_name()\n",
    "df['month_first_day_exposition']        = df['first_day_exposition'].dt.month_name()\n",
    "df['year_first_day_exposition']         = df['first_day_exposition'].dt.year"
   ]
  },
  {
   "cell_type": "markdown",
   "metadata": {},
   "source": [
    "### | Этаж квартиры: варианты — первый, последний, другой"
   ]
  },
  {
   "cell_type": "code",
   "execution_count": 20,
   "metadata": {},
   "outputs": [],
   "source": [
    "def we_need_more_floor(row):\n",
    "    if row['floor'] == row['floors_in_house']:\n",
    "        return 'последний'\n",
    "    elif row['floor'] == 1:\n",
    "        return 'первый'\n",
    "    else:\n",
    "        return 'другое'\n",
    "\n",
    "df['floor_level'] = df.apply(we_need_more_floor, axis=1).copy()"
   ]
  },
  {
   "cell_type": "markdown",
   "metadata": {},
   "source": [
    "### | Соотношение жилой и общей площади, а также отношение площади кухни к общей"
   ]
  },
  {
   "cell_type": "code",
   "execution_count": 21,
   "metadata": {},
   "outputs": [],
   "source": [
    "df['live_area/total_area']    = df['living_area_m2']/df['total_area_m2']\n",
    "df['kitchen_area/total_area'] = df['kitchen_area_m2']/df['total_area_m2']"
   ]
  },
  {
   "cell_type": "code",
   "execution_count": 22,
   "metadata": {},
   "outputs": [],
   "source": [
    "def not_name(row):\n",
    "    # Некоторые названия состоят из нескольки слов, мы пройдемся циклом и склеим все слова с маленьким регистром.\n",
    "    type_t = []\n",
    "    words = row.split()\n",
    "    \n",
    "    for word in words:\n",
    "        # Проверка регистра.\n",
    "        if word.lower() == word:\n",
    "            type_t.append(word)\n",
    "    # Если все слова в строке пишут с большой буквы (type_t будет пустым), то сорее всего это название города.\n",
    "    if type_t == []:\n",
    "        return 'город'\n",
    "    return ' '.join(type_t)\n",
    "\n",
    "df['locality_name']      = df['locality_name'].astype('str').replace('ё','е').copy()\n",
    "df['locality_name_type'] = df['locality_name'].apply(not_name).copy()\n",
    "df['locality_name']      = df['locality_name'].str.lower().copy()"
   ]
  },
  {
   "cell_type": "markdown",
   "metadata": {},
   "source": [
    "Упорядочем параметры:"
   ]
  },
  {
   "cell_type": "code",
   "execution_count": 24,
   "metadata": {},
   "outputs": [],
   "source": [
    "df = df[['locality_name',\n",
    "         'locality_name_type',\n",
    "         'price',\n",
    "         'price_square_meter',\n",
    "         'total_area_m2',\n",
    "         'living_area_m2',\n",
    "         'kitchen_area_m2',\n",
    "         'number_of_rooms',\n",
    "         'first_day_exposition',\n",
    "         'floor',\n",
    "         'floors_in_house',\n",
    "         'floor_level',\n",
    "         'number_of_balcony',\n",
    "         'is_apartment',\n",
    "         'is_studio',\n",
    "         'is_open_plan',\n",
    "         'total_images',\n",
    "         'ceiling_height_m',\n",
    "         'airports_nearest_m',\n",
    "         'city_centers_nearest_m',\n",
    "         'parks_around_3km',\n",
    "         'parks_nearest_m',\n",
    "         'ponds_around_3km',\n",
    "         'ponds_nearest_m',\n",
    "         'days_exposition',\n",
    "         'days_of_week_first_day_exposition',\n",
    "         'month_first_day_exposition',\n",
    "         'year_first_day_exposition',\n",
    "         'live_area/total_area',\n",
    "         'kitchen_area/total_area']]"
   ]
  },
  {
   "cell_type": "markdown",
   "metadata": {},
   "source": [
    "### 1. <span style=\"color: crimson\"><b>Изучите</b></span> следующие параметры: площадь, цена, число комнат, высота потолков, время продажи квартиры. "
   ]
  },
  {
   "cell_type": "markdown",
   "metadata": {},
   "source": [
    "### <center><b>Площадь квартиры</b></center>\n"
   ]
  },
  {
   "cell_type": "code",
   "execution_count": 25,
   "metadata": {
    "scrolled": false
   },
   "outputs": [
    {
     "data": {
      "image/png": "[encoded data removed]",
      "text/plain": [
       "<Figure size 1440x360 with 1 Axes>"
      ]
     },
     "metadata": {
      "needs_background": "light"
     },
     "output_type": "display_data"
    }
   ],
   "source": [
    "plt.figure(figsize = (20,5))\n",
    "\n",
    "plt.hist(df['total_area_m2'],bins=50, range=(0, 400))\n",
    "\n",
    "plt.title(\"Соотношение кол-ва квартир и их площади\",\n",
    "           fontdict = {'size':19, 'color':'crimson'})\n",
    "plt.xlabel(\"Площадь квартиры (м2)\")\n",
    "plt.ylabel(\"Кол-во квартир\")\n",
    "\n",
    "plt.show()"
   ]
  },
  {
   "cell_type": "code",
   "execution_count": 26,
   "metadata": {},
   "outputs": [
    {
     "data": {
      "text/html": [
       "<div>\n",
       "<style scoped>\n",
       "    .dataframe tbody tr th:only-of-type {\n",
       "        vertical-align: middle;\n",
       "    }\n",
       "\n",
       "    .dataframe tbody tr th {\n",
       "        vertical-align: top;\n",
       "    }\n",
       "\n",
       "    .dataframe thead th {\n",
       "        text-align: right;\n",
       "    }\n",
       "</style>\n",
       "<table border=\"1\" class=\"dataframe\">\n",
       "  <thead>\n",
       "    <tr style=\"text-align: right;\">\n",
       "      <th></th>\n",
       "      <th>total_area_m2</th>\n",
       "    </tr>\n",
       "  </thead>\n",
       "  <tbody>\n",
       "    <tr>\n",
       "      <th>count</th>\n",
       "      <td>23699.000000</td>\n",
       "    </tr>\n",
       "    <tr>\n",
       "      <th>mean</th>\n",
       "      <td>60.120511</td>\n",
       "    </tr>\n",
       "    <tr>\n",
       "      <th>std</th>\n",
       "      <td>35.665822</td>\n",
       "    </tr>\n",
       "    <tr>\n",
       "      <th>min</th>\n",
       "      <td>12.000000</td>\n",
       "    </tr>\n",
       "    <tr>\n",
       "      <th>25%</th>\n",
       "      <td>40.000000</td>\n",
       "    </tr>\n",
       "    <tr>\n",
       "      <th>50%</th>\n",
       "      <td>52.000000</td>\n",
       "    </tr>\n",
       "    <tr>\n",
       "      <th>75%</th>\n",
       "      <td>69.000000</td>\n",
       "    </tr>\n",
       "    <tr>\n",
       "      <th>max</th>\n",
       "      <td>900.000000</td>\n",
       "    </tr>\n",
       "  </tbody>\n",
       "</table>\n",
       "</div>"
      ],
      "text/plain": [
       "       total_area_m2\n",
       "count   23699.000000\n",
       "mean       60.120511\n",
       "std        35.665822\n",
       "min        12.000000\n",
       "25%        40.000000\n",
       "50%        52.000000\n",
       "75%        69.000000\n",
       "max       900.000000"
      ]
     },
     "execution_count": 26,
     "metadata": {},
     "output_type": "execute_result"
    }
   ],
   "source": [
    "df['total_area_m2'].describe().to_frame()"
   ]
  },
  {
   "cell_type": "markdown",
   "metadata": {},
   "source": [
    "### <center><span style=\"color: crimson\"><b>Вывод</b></span></center>\n",
    "1. Параметр общая площадь имеет большой разброс.\n",
    "    * От **12 до 900 м2** с квартилем 50% (медианой) в 52 и квартилем 75% в 69.\n",
    "    * Высокое **стандартное отклонение** 35 (данные имеют высокий разброс).\n",
    "\n",
    "2. Гистограмма является **распределением с правым хвостом**. \n",
    "3. **Больше всего квартир** с площадью с **40-69 м2** (IQR).\n",
    "4. Квартиры с **12 м2**, как и дома с **900 м2** можно найти на сайтах, как авито."
   ]
  },
  {
   "cell_type": "markdown",
   "metadata": {},
   "source": [
    "---"
   ]
  },
  {
   "cell_type": "markdown",
   "metadata": {},
   "source": [
    "### <center><b>Стоимость квартиры </b></center>\n"
   ]
  },
  {
   "cell_type": "markdown",
   "metadata": {},
   "source": [
    "Создадим таблицу с измененными единицами измерения в столбце price на миллионы для более понятного отображения на графике."
   ]
  },
  {
   "cell_type": "code",
   "execution_count": 27,
   "metadata": {},
   "outputs": [],
   "source": [
    "df_price = df.copy()\n",
    "df_price['price'] = df_price['price']/1000000"
   ]
  },
  {
   "cell_type": "code",
   "execution_count": 28,
   "metadata": {
    "scrolled": false
   },
   "outputs": [
    {
     "data": {
      "image/png": "[encoded data removed]",
      "text/plain": [
       "<Figure size 1440x360 with 1 Axes>"
      ]
     },
     "metadata": {
      "needs_background": "light"
     },
     "output_type": "display_data"
    }
   ],
   "source": [
    "plt.figure(figsize = (20,5))\n",
    "\n",
    "plt.hist(df_price['price'], bins=1000)\n",
    "\n",
    "plt.xlim([0,100])\n",
    "plt.title(\"Соотношение кол-ва квартир и их стоимости\",\n",
    "           fontdict = {'size':19, 'color':'crimson'})\n",
    "plt.xlabel(\"Стоимость квартиры (в млн)\")\n",
    "plt.ylabel(\"Кол-во квартир\")\n",
    "\n",
    "\n",
    "plt.show()"
   ]
  },
  {
   "cell_type": "code",
   "execution_count": 29,
   "metadata": {},
   "outputs": [
    {
     "data": {
      "text/html": [
       "<div>\n",
       "<style scoped>\n",
       "    .dataframe tbody tr th:only-of-type {\n",
       "        vertical-align: middle;\n",
       "    }\n",
       "\n",
       "    .dataframe tbody tr th {\n",
       "        vertical-align: top;\n",
       "    }\n",
       "\n",
       "    .dataframe thead th {\n",
       "        text-align: right;\n",
       "    }\n",
       "</style>\n",
       "<table border=\"1\" class=\"dataframe\">\n",
       "  <thead>\n",
       "    <tr style=\"text-align: right;\">\n",
       "      <th></th>\n",
       "      <th>price</th>\n",
       "    </tr>\n",
       "  </thead>\n",
       "  <tbody>\n",
       "    <tr>\n",
       "      <th>count</th>\n",
       "      <td>23699.00000</td>\n",
       "    </tr>\n",
       "    <tr>\n",
       "      <th>mean</th>\n",
       "      <td>6541548.77155</td>\n",
       "    </tr>\n",
       "    <tr>\n",
       "      <th>std</th>\n",
       "      <td>10887013.26754</td>\n",
       "    </tr>\n",
       "    <tr>\n",
       "      <th>min</th>\n",
       "      <td>12190.00000</td>\n",
       "    </tr>\n",
       "    <tr>\n",
       "      <th>25%</th>\n",
       "      <td>3400000.00000</td>\n",
       "    </tr>\n",
       "    <tr>\n",
       "      <th>50%</th>\n",
       "      <td>4650000.00000</td>\n",
       "    </tr>\n",
       "    <tr>\n",
       "      <th>75%</th>\n",
       "      <td>6800000.00000</td>\n",
       "    </tr>\n",
       "    <tr>\n",
       "      <th>max</th>\n",
       "      <td>763000000.00000</td>\n",
       "    </tr>\n",
       "  </tbody>\n",
       "</table>\n",
       "</div>"
      ],
      "text/plain": [
       "                 price\n",
       "count      23699.00000\n",
       "mean     6541548.77155\n",
       "std     10887013.26754\n",
       "min        12190.00000\n",
       "25%      3400000.00000\n",
       "50%      4650000.00000\n",
       "75%      6800000.00000\n",
       "max    763000000.00000"
      ]
     },
     "execution_count": 29,
     "metadata": {},
     "output_type": "execute_result"
    }
   ],
   "source": [
    "df['price'].describe()\\\n",
    "           .apply(lambda x: '%.5f' % x)\\\n",
    "           .to_frame()"
   ]
  },
  {
   "cell_type": "code",
   "execution_count": 30,
   "metadata": {},
   "outputs": [
    {
     "data": {
      "text/plain": [
       "1"
      ]
     },
     "execution_count": 30,
     "metadata": {},
     "output_type": "execute_result"
    }
   ],
   "source": [
    "df.query('(price < 400000) or (price > 800000000)')['price'].count()"
   ]
  },
  {
   "cell_type": "markdown",
   "metadata": {},
   "source": [
    "### <center><span style=\"color: crimson\"><b>Вывод</b></span></center>\n",
    "\n",
    "1. Параметр стоимость имеет большой разброс.\n",
    "* От 12 до 900 м2 с квартилем 50% (медианой) в 52 и квартилем 75% в 69.\n",
    "* Очень высокое стандартное отклонение 10887211 (данные имеют высокий разброс).\n",
    "2. Гистограмма является нормальным распределением с ассиметрией.\n",
    "3. **Большинство квартир со стоимостью** со строимостью от 3.400 млн. - 6.800 млн. (IQR).\n",
    "4. Квартир со стоимостью **ниже 400 тыс.** или **выше 800 млн.** - 1 (границы смотрел на авито: от полуразрушенных домов до 19 комнатных квартир в центре Москвы за 35 тыс$ в мес.)"
   ]
  },
  {
   "cell_type": "markdown",
   "metadata": {},
   "source": [
    "---"
   ]
  },
  {
   "cell_type": "markdown",
   "metadata": {},
   "source": [
    "### <center><b>Число комнат </b></center>\n"
   ]
  },
  {
   "cell_type": "code",
   "execution_count": 31,
   "metadata": {},
   "outputs": [
    {
     "data": {
      "image/png": "[encoded data removed]",
      "text/plain": [
       "<Figure size 1080x360 with 1 Axes>"
      ]
     },
     "metadata": {
      "needs_background": "light"
     },
     "output_type": "display_data"
    }
   ],
   "source": [
    "rooms = range(0, max(df['number_of_rooms']))\n",
    "\n",
    "plt.figure(figsize = (15,5))\n",
    "plt.hist(df['number_of_rooms'],  bins=rooms)\n",
    "\n",
    "plt.title('Соотношение кол-ва квартир и кол-ва комнат',\n",
    "           fontdict = {'size':19, 'color':'crimson'})\n",
    "plt.xlabel(\"Кол-во комнат\")\n",
    "plt.ylabel(\"Кол-во квартир\")\n",
    "\n",
    "plt.xticks(rooms)\n",
    "plt.show()"
   ]
  },
  {
   "cell_type": "code",
   "execution_count": 32,
   "metadata": {},
   "outputs": [
    {
     "data": {
      "text/html": [
       "<div>\n",
       "<style scoped>\n",
       "    .dataframe tbody tr th:only-of-type {\n",
       "        vertical-align: middle;\n",
       "    }\n",
       "\n",
       "    .dataframe tbody tr th {\n",
       "        vertical-align: top;\n",
       "    }\n",
       "\n",
       "    .dataframe thead th {\n",
       "        text-align: right;\n",
       "    }\n",
       "</style>\n",
       "<table border=\"1\" class=\"dataframe\">\n",
       "  <thead>\n",
       "    <tr style=\"text-align: right;\">\n",
       "      <th></th>\n",
       "      <th>number_of_rooms</th>\n",
       "    </tr>\n",
       "  </thead>\n",
       "  <tbody>\n",
       "    <tr>\n",
       "      <th>count</th>\n",
       "      <td>23699.000000</td>\n",
       "    </tr>\n",
       "    <tr>\n",
       "      <th>mean</th>\n",
       "      <td>2.070636</td>\n",
       "    </tr>\n",
       "    <tr>\n",
       "      <th>std</th>\n",
       "      <td>1.078405</td>\n",
       "    </tr>\n",
       "    <tr>\n",
       "      <th>min</th>\n",
       "      <td>0.000000</td>\n",
       "    </tr>\n",
       "    <tr>\n",
       "      <th>25%</th>\n",
       "      <td>1.000000</td>\n",
       "    </tr>\n",
       "    <tr>\n",
       "      <th>50%</th>\n",
       "      <td>2.000000</td>\n",
       "    </tr>\n",
       "    <tr>\n",
       "      <th>75%</th>\n",
       "      <td>3.000000</td>\n",
       "    </tr>\n",
       "    <tr>\n",
       "      <th>max</th>\n",
       "      <td>19.000000</td>\n",
       "    </tr>\n",
       "  </tbody>\n",
       "</table>\n",
       "</div>"
      ],
      "text/plain": [
       "       number_of_rooms\n",
       "count     23699.000000\n",
       "mean          2.070636\n",
       "std           1.078405\n",
       "min           0.000000\n",
       "25%           1.000000\n",
       "50%           2.000000\n",
       "75%           3.000000\n",
       "max          19.000000"
      ]
     },
     "execution_count": 32,
     "metadata": {},
     "output_type": "execute_result"
    }
   ],
   "source": [
    "df['number_of_rooms'].describe().to_frame()"
   ]
  },
  {
   "cell_type": "code",
   "execution_count": 33,
   "metadata": {},
   "outputs": [
    {
     "data": {
      "text/plain": [
       "197"
      ]
     },
     "execution_count": 33,
     "metadata": {},
     "output_type": "execute_result"
    }
   ],
   "source": [
    "df.query('number_of_rooms == 0')['number_of_rooms'].count() "
   ]
  },
  {
   "cell_type": "markdown",
   "metadata": {},
   "source": [
    "### <center><span style=\"color: crimson\"><b>Вывод</b></span></center>\n",
    "1. Большинство кол-во комнат от 1 до 3.(IQR).\n",
    "2. Кол-во квартир с 0 комнат равно 197.\n",
    "3. Дома с 19 комнатами легко можно найти."
   ]
  },
  {
   "cell_type": "markdown",
   "metadata": {},
   "source": [
    "---"
   ]
  },
  {
   "cell_type": "markdown",
   "metadata": {},
   "source": [
    "### <center><b>Высота потолка </b></center>"
   ]
  },
  {
   "cell_type": "code",
   "execution_count": 34,
   "metadata": {
    "scrolled": false
   },
   "outputs": [
    {
     "data": {
      "image/png": "[encoded data removed]",
      "text/plain": [
       "<Figure size 360x504 with 1 Axes>"
      ]
     },
     "metadata": {
      "needs_background": "light"
     },
     "output_type": "display_data"
    }
   ],
   "source": [
    "plt.figure(figsize=(5,7))\n",
    "\n",
    "sns.boxplot(data = df['ceiling_height_m'])\n",
    "\n",
    "plt.title('Соотношение кол-ва квартир и высоты потолка',\n",
    "           fontdict = {'size':19, 'color':'crimson'})\n",
    "plt.xlabel(\"Высота потолка\")\n",
    "plt.ylabel(\"Кол-во квартир\")\n",
    "plt.ylim([2,5])\n",
    "\n",
    "plt.show()"
   ]
  },
  {
   "cell_type": "code",
   "execution_count": 35,
   "metadata": {},
   "outputs": [
    {
     "data": {
      "text/html": [
       "<div>\n",
       "<style scoped>\n",
       "    .dataframe tbody tr th:only-of-type {\n",
       "        vertical-align: middle;\n",
       "    }\n",
       "\n",
       "    .dataframe tbody tr th {\n",
       "        vertical-align: top;\n",
       "    }\n",
       "\n",
       "    .dataframe thead th {\n",
       "        text-align: right;\n",
       "    }\n",
       "</style>\n",
       "<table border=\"1\" class=\"dataframe\">\n",
       "  <thead>\n",
       "    <tr style=\"text-align: right;\">\n",
       "      <th></th>\n",
       "      <th>ceiling_height_m</th>\n",
       "    </tr>\n",
       "  </thead>\n",
       "  <tbody>\n",
       "    <tr>\n",
       "      <th>count</th>\n",
       "      <td>14504.000000</td>\n",
       "    </tr>\n",
       "    <tr>\n",
       "      <th>mean</th>\n",
       "      <td>2.771499</td>\n",
       "    </tr>\n",
       "    <tr>\n",
       "      <th>std</th>\n",
       "      <td>1.261056</td>\n",
       "    </tr>\n",
       "    <tr>\n",
       "      <th>min</th>\n",
       "      <td>1.000000</td>\n",
       "    </tr>\n",
       "    <tr>\n",
       "      <th>25%</th>\n",
       "      <td>2.520000</td>\n",
       "    </tr>\n",
       "    <tr>\n",
       "      <th>50%</th>\n",
       "      <td>2.650000</td>\n",
       "    </tr>\n",
       "    <tr>\n",
       "      <th>75%</th>\n",
       "      <td>2.800000</td>\n",
       "    </tr>\n",
       "    <tr>\n",
       "      <th>max</th>\n",
       "      <td>100.000000</td>\n",
       "    </tr>\n",
       "  </tbody>\n",
       "</table>\n",
       "</div>"
      ],
      "text/plain": [
       "       ceiling_height_m\n",
       "count      14504.000000\n",
       "mean           2.771499\n",
       "std            1.261056\n",
       "min            1.000000\n",
       "25%            2.520000\n",
       "50%            2.650000\n",
       "75%            2.800000\n",
       "max          100.000000"
      ]
     },
     "execution_count": 35,
     "metadata": {},
     "output_type": "execute_result"
    }
   ],
   "source": [
    "df['ceiling_height_m'].describe().to_frame()"
   ]
  },
  {
   "cell_type": "code",
   "execution_count": 36,
   "metadata": {},
   "outputs": [
    {
     "data": {
      "text/plain": [
       "57"
      ]
     },
     "execution_count": 36,
     "metadata": {},
     "output_type": "execute_result"
    }
   ],
   "source": [
    "df.query('ceiling_height_m < 2.4 or ceiling_height_m > 5')['ceiling_height_m'].count() "
   ]
  },
  {
   "cell_type": "markdown",
   "metadata": {},
   "source": [
    "### <center><span style=\"color: crimson\"><b>Вывод</b></span></center>\n",
    "\n",
    "1. **Чаще всего комнаты с высотой потолка** от 2.5 до 2.8(IQR).\n",
    "2. Высота потолка в квартирах начинается с 2.4 м. , в домах максимальная высота 5 м., недвижимость вне этих границ можно назвать выбросами. - 57"
   ]
  },
  {
   "cell_type": "markdown",
   "metadata": {},
   "source": [
    "<hr>"
   ]
  },
  {
   "cell_type": "markdown",
   "metadata": {},
   "source": [
    "### <center><b>Время продажи квартиры </b></center>\n"
   ]
  },
  {
   "cell_type": "code",
   "execution_count": 37,
   "metadata": {},
   "outputs": [
    {
     "data": {
      "image/png": "[encoded data removed]",
      "text/plain": [
       "<Figure size 1440x360 with 1 Axes>"
      ]
     },
     "metadata": {
      "needs_background": "light"
     },
     "output_type": "display_data"
    }
   ],
   "source": [
    "plt.figure(figsize = (20,5))\n",
    "\n",
    "plt.hist(df['days_exposition'], bins=30)\n",
    "\n",
    "plt.title(\"Соотношение кол-ва квартир и кол-ва дней в продаже\",\n",
    "           fontdict={'size':19,'color':'crimson'})\n",
    "plt.xlabel(\"Дней в продаже\")\n",
    "plt.ylabel(\"Кол-во квартир\")\n",
    "\n",
    "plt.show()"
   ]
  },
  {
   "cell_type": "code",
   "execution_count": 38,
   "metadata": {},
   "outputs": [
    {
     "data": {
      "text/plain": [
       "840.0725988208801"
      ]
     },
     "execution_count": 38,
     "metadata": {},
     "output_type": "execute_result"
    }
   ],
   "source": [
    "df['days_exposition'].mean() + 3 * df['days_exposition'].std()"
   ]
  },
  {
   "cell_type": "markdown",
   "metadata": {},
   "source": [
    "|| Критериии скорости продажи квартиры:\n",
    "* **Быстро**: продаже прошла до 1 квартиля (<45 дней)\n",
    "* **Медленно**: продаже прошла после 3 квартиля (>232 дней)\n",
    "* **Очень медленно**: продажа после 3 сигмы (>840 дней)"
   ]
  },
  {
   "cell_type": "markdown",
   "metadata": {},
   "source": [
    "<hr>"
   ]
  },
  {
   "cell_type": "markdown",
   "metadata": {},
   "source": [
    "###  | Поработаем с выбросами"
   ]
  },
  {
   "cell_type": "markdown",
   "metadata": {},
   "source": [
    "**Уберем аномалии** найденные на **шаге 5.6** и **шаге 5.7** при исследовании. \n",
    "\n",
    "Важно помнить, что мы говорим про недвижимость, а она включает в себе дома (большая площадь, много комнат, высокая цена)."
   ]
  },
  {
   "cell_type": "markdown",
   "metadata": {},
   "source": [
    "**Удаленно значений**:"
   ]
  },
  {
   "cell_type": "markdown",
   "metadata": {},
   "source": [
    "Данные отчищены от выбросов, максимальные значения стали более реалистичными."
   ]
  },
  {
   "cell_type": "code",
   "execution_count": 39,
   "metadata": {},
   "outputs": [],
   "source": [
    "df = df.query('(ceiling_height_m >= 2.4 and ceiling_height_m <= 5) or ceiling_height_m!=ceiling_height_m')\n",
    "df = df.query('number_of_rooms > 0 or number_of_rooms!=number_of_rooms')\n",
    "df = df.query('((price > 400000) and (price < 800000000)) or price!=price')\n",
    "df = df.query('((days_exposition >= 20) and (days_exposition <= 3000)) or days_exposition!=days_exposition')"
   ]
  },
  {
   "cell_type": "code",
   "execution_count": 40,
   "metadata": {},
   "outputs": [
    {
     "data": {
      "text/html": [
       "<div>\n",
       "<style scoped>\n",
       "    .dataframe tbody tr th:only-of-type {\n",
       "        vertical-align: middle;\n",
       "    }\n",
       "\n",
       "    .dataframe tbody tr th {\n",
       "        vertical-align: top;\n",
       "    }\n",
       "\n",
       "    .dataframe thead th {\n",
       "        text-align: right;\n",
       "    }\n",
       "</style>\n",
       "<table border=\"1\" class=\"dataframe\">\n",
       "  <thead>\n",
       "    <tr style=\"text-align: right;\">\n",
       "      <th></th>\n",
       "      <th>price</th>\n",
       "      <th>price_square_meter</th>\n",
       "      <th>total_area_m2</th>\n",
       "      <th>living_area_m2</th>\n",
       "      <th>kitchen_area_m2</th>\n",
       "      <th>number_of_rooms</th>\n",
       "      <th>floor</th>\n",
       "      <th>floors_in_house</th>\n",
       "      <th>number_of_balcony</th>\n",
       "      <th>total_images</th>\n",
       "      <th>ceiling_height_m</th>\n",
       "      <th>airports_nearest_m</th>\n",
       "      <th>city_centers_nearest_m</th>\n",
       "      <th>parks_around_3km</th>\n",
       "      <th>parks_nearest_m</th>\n",
       "      <th>ponds_around_3km</th>\n",
       "      <th>ponds_nearest_m</th>\n",
       "      <th>days_exposition</th>\n",
       "      <th>year_first_day_exposition</th>\n",
       "      <th>live_area/total_area</th>\n",
       "      <th>kitchen_area/total_area</th>\n",
       "    </tr>\n",
       "  </thead>\n",
       "  <tbody>\n",
       "    <tr>\n",
       "      <th>count</th>\n",
       "      <td>2.112000e+04</td>\n",
       "      <td>2.112000e+04</td>\n",
       "      <td>21120.000000</td>\n",
       "      <td>19383.000000</td>\n",
       "      <td>19196.000000</td>\n",
       "      <td>21120.000000</td>\n",
       "      <td>21120.000000</td>\n",
       "      <td>21041.000000</td>\n",
       "      <td>21120.000000</td>\n",
       "      <td>21120.000000</td>\n",
       "      <td>13001.000000</td>\n",
       "      <td>16086.000000</td>\n",
       "      <td>16106.000000</td>\n",
       "      <td>16107.000000</td>\n",
       "      <td>7244.000000</td>\n",
       "      <td>16107.000000</td>\n",
       "      <td>8154.000000</td>\n",
       "      <td>17964.000000</td>\n",
       "      <td>21120.000000</td>\n",
       "      <td>19383.000000</td>\n",
       "      <td>19196.000000</td>\n",
       "    </tr>\n",
       "    <tr>\n",
       "      <th>mean</th>\n",
       "      <td>6.658281e+06</td>\n",
       "      <td>9.965697e+04</td>\n",
       "      <td>61.084943</td>\n",
       "      <td>35.043484</td>\n",
       "      <td>10.650897</td>\n",
       "      <td>2.110511</td>\n",
       "      <td>5.841051</td>\n",
       "      <td>10.554299</td>\n",
       "      <td>0.580492</td>\n",
       "      <td>9.906866</td>\n",
       "      <td>2.729534</td>\n",
       "      <td>28888.783911</td>\n",
       "      <td>14208.674593</td>\n",
       "      <td>0.620165</td>\n",
       "      <td>491.804804</td>\n",
       "      <td>0.782206</td>\n",
       "      <td>515.439171</td>\n",
       "      <td>203.727511</td>\n",
       "      <td>2017.314583</td>\n",
       "      <td>0.566766</td>\n",
       "      <td>0.187558</td>\n",
       "    </tr>\n",
       "    <tr>\n",
       "      <th>std</th>\n",
       "      <td>1.121974e+07</td>\n",
       "      <td>5.130532e+04</td>\n",
       "      <td>35.884830</td>\n",
       "      <td>22.205530</td>\n",
       "      <td>5.955001</td>\n",
       "      <td>1.072849</td>\n",
       "      <td>4.876084</td>\n",
       "      <td>6.572136</td>\n",
       "      <td>0.959010</td>\n",
       "      <td>5.646054</td>\n",
       "      <td>0.272954</td>\n",
       "      <td>12615.180347</td>\n",
       "      <td>8770.284544</td>\n",
       "      <td>0.806429</td>\n",
       "      <td>346.109729</td>\n",
       "      <td>0.944373</td>\n",
       "      <td>277.513364</td>\n",
       "      <td>224.653810</td>\n",
       "      <td>1.055985</td>\n",
       "      <td>0.105013</td>\n",
       "      <td>0.073660</td>\n",
       "    </tr>\n",
       "    <tr>\n",
       "      <th>min</th>\n",
       "      <td>4.300000e+05</td>\n",
       "      <td>7.962000e+03</td>\n",
       "      <td>12.000000</td>\n",
       "      <td>2.000000</td>\n",
       "      <td>1.300000</td>\n",
       "      <td>1.000000</td>\n",
       "      <td>1.000000</td>\n",
       "      <td>1.000000</td>\n",
       "      <td>0.000000</td>\n",
       "      <td>0.000000</td>\n",
       "      <td>2.400000</td>\n",
       "      <td>0.000000</td>\n",
       "      <td>181.000000</td>\n",
       "      <td>0.000000</td>\n",
       "      <td>1.000000</td>\n",
       "      <td>0.000000</td>\n",
       "      <td>13.000000</td>\n",
       "      <td>20.000000</td>\n",
       "      <td>2014.000000</td>\n",
       "      <td>0.021583</td>\n",
       "      <td>0.025381</td>\n",
       "    </tr>\n",
       "    <tr>\n",
       "      <th>25%</th>\n",
       "      <td>3.450000e+06</td>\n",
       "      <td>7.625900e+04</td>\n",
       "      <td>40.000000</td>\n",
       "      <td>19.000000</td>\n",
       "      <td>7.000000</td>\n",
       "      <td>1.000000</td>\n",
       "      <td>2.000000</td>\n",
       "      <td>5.000000</td>\n",
       "      <td>0.000000</td>\n",
       "      <td>6.000000</td>\n",
       "      <td>2.520000</td>\n",
       "      <td>18732.000000</td>\n",
       "      <td>9014.000000</td>\n",
       "      <td>0.000000</td>\n",
       "      <td>287.000000</td>\n",
       "      <td>0.000000</td>\n",
       "      <td>290.000000</td>\n",
       "      <td>58.000000</td>\n",
       "      <td>2017.000000</td>\n",
       "      <td>0.500000</td>\n",
       "      <td>0.133333</td>\n",
       "    </tr>\n",
       "    <tr>\n",
       "      <th>50%</th>\n",
       "      <td>4.700000e+06</td>\n",
       "      <td>9.516100e+04</td>\n",
       "      <td>53.000000</td>\n",
       "      <td>30.400000</td>\n",
       "      <td>9.200000</td>\n",
       "      <td>2.000000</td>\n",
       "      <td>4.000000</td>\n",
       "      <td>9.000000</td>\n",
       "      <td>0.000000</td>\n",
       "      <td>9.000000</td>\n",
       "      <td>2.650000</td>\n",
       "      <td>26763.500000</td>\n",
       "      <td>13058.000000</td>\n",
       "      <td>0.000000</td>\n",
       "      <td>454.000000</td>\n",
       "      <td>1.000000</td>\n",
       "      <td>497.500000</td>\n",
       "      <td>117.000000</td>\n",
       "      <td>2017.000000</td>\n",
       "      <td>0.571154</td>\n",
       "      <td>0.171875</td>\n",
       "    </tr>\n",
       "    <tr>\n",
       "      <th>75%</th>\n",
       "      <td>6.900000e+06</td>\n",
       "      <td>1.148640e+05</td>\n",
       "      <td>70.000000</td>\n",
       "      <td>43.000000</td>\n",
       "      <td>12.000000</td>\n",
       "      <td>3.000000</td>\n",
       "      <td>8.000000</td>\n",
       "      <td>15.000000</td>\n",
       "      <td>1.000000</td>\n",
       "      <td>14.000000</td>\n",
       "      <td>2.800000</td>\n",
       "      <td>37344.750000</td>\n",
       "      <td>16355.250000</td>\n",
       "      <td>1.000000</td>\n",
       "      <td>613.250000</td>\n",
       "      <td>1.000000</td>\n",
       "      <td>726.000000</td>\n",
       "      <td>264.000000</td>\n",
       "      <td>2018.000000</td>\n",
       "      <td>0.640323</td>\n",
       "      <td>0.232558</td>\n",
       "    </tr>\n",
       "    <tr>\n",
       "      <th>max</th>\n",
       "      <td>7.630000e+08</td>\n",
       "      <td>1.907500e+06</td>\n",
       "      <td>900.000000</td>\n",
       "      <td>409.700000</td>\n",
       "      <td>112.000000</td>\n",
       "      <td>19.000000</td>\n",
       "      <td>32.000000</td>\n",
       "      <td>60.000000</td>\n",
       "      <td>5.000000</td>\n",
       "      <td>50.000000</td>\n",
       "      <td>4.900000</td>\n",
       "      <td>84869.000000</td>\n",
       "      <td>65968.000000</td>\n",
       "      <td>3.000000</td>\n",
       "      <td>3190.000000</td>\n",
       "      <td>3.000000</td>\n",
       "      <td>1344.000000</td>\n",
       "      <td>1580.000000</td>\n",
       "      <td>2019.000000</td>\n",
       "      <td>1.000000</td>\n",
       "      <td>0.787879</td>\n",
       "    </tr>\n",
       "  </tbody>\n",
       "</table>\n",
       "</div>"
      ],
      "text/plain": [
       "              price  price_square_meter  total_area_m2  living_area_m2  \\\n",
       "count  2.112000e+04        2.112000e+04   21120.000000    19383.000000   \n",
       "mean   6.658281e+06        9.965697e+04      61.084943       35.043484   \n",
       "std    1.121974e+07        5.130532e+04      35.884830       22.205530   \n",
       "min    4.300000e+05        7.962000e+03      12.000000        2.000000   \n",
       "25%    3.450000e+06        7.625900e+04      40.000000       19.000000   \n",
       "50%    4.700000e+06        9.516100e+04      53.000000       30.400000   \n",
       "75%    6.900000e+06        1.148640e+05      70.000000       43.000000   \n",
       "max    7.630000e+08        1.907500e+06     900.000000      409.700000   \n",
       "\n",
       "       kitchen_area_m2  number_of_rooms         floor  floors_in_house  \\\n",
       "count     19196.000000     21120.000000  21120.000000     21041.000000   \n",
       "mean         10.650897         2.110511      5.841051        10.554299   \n",
       "std           5.955001         1.072849      4.876084         6.572136   \n",
       "min           1.300000         1.000000      1.000000         1.000000   \n",
       "25%           7.000000         1.000000      2.000000         5.000000   \n",
       "50%           9.200000         2.000000      4.000000         9.000000   \n",
       "75%          12.000000         3.000000      8.000000        15.000000   \n",
       "max         112.000000        19.000000     32.000000        60.000000   \n",
       "\n",
       "       number_of_balcony  total_images  ceiling_height_m  airports_nearest_m  \\\n",
       "count       21120.000000  21120.000000      13001.000000        16086.000000   \n",
       "mean            0.580492      9.906866          2.729534        28888.783911   \n",
       "std             0.959010      5.646054          0.272954        12615.180347   \n",
       "min             0.000000      0.000000          2.400000            0.000000   \n",
       "25%             0.000000      6.000000          2.520000        18732.000000   \n",
       "50%             0.000000      9.000000          2.650000        26763.500000   \n",
       "75%             1.000000     14.000000          2.800000        37344.750000   \n",
       "max             5.000000     50.000000          4.900000        84869.000000   \n",
       "\n",
       "       city_centers_nearest_m  parks_around_3km  parks_nearest_m  \\\n",
       "count            16106.000000      16107.000000      7244.000000   \n",
       "mean             14208.674593          0.620165       491.804804   \n",
       "std               8770.284544          0.806429       346.109729   \n",
       "min                181.000000          0.000000         1.000000   \n",
       "25%               9014.000000          0.000000       287.000000   \n",
       "50%              13058.000000          0.000000       454.000000   \n",
       "75%              16355.250000          1.000000       613.250000   \n",
       "max              65968.000000          3.000000      3190.000000   \n",
       "\n",
       "       ponds_around_3km  ponds_nearest_m  days_exposition  \\\n",
       "count      16107.000000      8154.000000     17964.000000   \n",
       "mean           0.782206       515.439171       203.727511   \n",
       "std            0.944373       277.513364       224.653810   \n",
       "min            0.000000        13.000000        20.000000   \n",
       "25%            0.000000       290.000000        58.000000   \n",
       "50%            1.000000       497.500000       117.000000   \n",
       "75%            1.000000       726.000000       264.000000   \n",
       "max            3.000000      1344.000000      1580.000000   \n",
       "\n",
       "       year_first_day_exposition  live_area/total_area  \\\n",
       "count               21120.000000          19383.000000   \n",
       "mean                 2017.314583              0.566766   \n",
       "std                     1.055985              0.105013   \n",
       "min                  2014.000000              0.021583   \n",
       "25%                  2017.000000              0.500000   \n",
       "50%                  2017.000000              0.571154   \n",
       "75%                  2018.000000              0.640323   \n",
       "max                  2019.000000              1.000000   \n",
       "\n",
       "       kitchen_area/total_area  \n",
       "count             19196.000000  \n",
       "mean                  0.187558  \n",
       "std                   0.073660  \n",
       "min                   0.025381  \n",
       "25%                   0.133333  \n",
       "50%                   0.171875  \n",
       "75%                   0.232558  \n",
       "max                   0.787879  "
      ]
     },
     "execution_count": 40,
     "metadata": {},
     "output_type": "execute_result"
    }
   ],
   "source": [
    "df.describe()"
   ]
  },
  {
   "cell_type": "markdown",
   "metadata": {},
   "source": [
    "Пройдемся по колонкам и выберем **относительно** реалистичные границы параметров."
   ]
  },
  {
   "cell_type": "code",
   "execution_count": 41,
   "metadata": {},
   "outputs": [
    {
     "data": {
      "text/plain": [
       "(21120, 30)"
      ]
     },
     "execution_count": 41,
     "metadata": {},
     "output_type": "execute_result"
    }
   ],
   "source": [
    "df.shape"
   ]
  },
  {
   "cell_type": "code",
   "execution_count": 42,
   "metadata": {},
   "outputs": [],
   "source": [
    "df = df.query('airports_nearest_m > 100 or airports_nearest_m!=airports_nearest_m')"
   ]
  },
  {
   "cell_type": "markdown",
   "metadata": {},
   "source": [
    "1. **Рамер кухни** от 2 $м^2$ до 30 $м^2$.\n",
    "2. **Размер жилой площади** от 15 $м^2$ до 50 $м^2$.\n",
    "3. **Расстояние до аэропорта** больше 100 $м^2$."
   ]
  },
  {
   "cell_type": "markdown",
   "metadata": {},
   "source": [
    "<hr>"
   ]
  },
  {
   "cell_type": "markdown",
   "metadata": {},
   "source": [
    "### 2. <span style=\"color: crimson\"><b>Какие</b></span> факторы больше всего влияют на стоимость квартиры?\n",
    "    Изучите, зависит ли цена: \n",
    "    1. от площади (total_area_m2)\n",
    "    2. числа комнат (number_of_rooms)\n",
    "    3. удалённости от центра (city_centers_nearest_m)\n",
    "    4. этаже: первом, последнем или другом. (floor_level)\n",
    "    5. даты размещения: дня недели, месяца и года. (days_of_week_first_day_exposition, month_first_day_exposition, year_first_day_exposition)\n"
   ]
  },
  {
   "cell_type": "code",
   "execution_count": 43,
   "metadata": {},
   "outputs": [
    {
     "data": {
      "image/png": "[encoded data removed]",
      "text/plain": [
       "<Figure size 432x288 with 2 Axes>"
      ]
     },
     "metadata": {
      "needs_background": "light"
     },
     "output_type": "display_data"
    }
   ],
   "source": [
    "corr = df[['price',\n",
    "           'total_area_m2',\n",
    "           'number_of_rooms',\n",
    "           'city_centers_nearest_m',\n",
    "           'floor_level',\n",
    "           'days_of_week_first_day_exposition',\n",
    "           'month_first_day_exposition',\n",
    "           'year_first_day_exposition']].corr()\n",
    "sns.heatmap(corr, annot=True);"
   ]
  },
  {
   "cell_type": "markdown",
   "metadata": {},
   "source": [
    "##### Поищем нелинейные корреляции."
   ]
  },
  {
   "cell_type": "code",
   "execution_count": 69,
   "metadata": {
    "scrolled": false
   },
   "outputs": [
    {
     "data": {
      "image/png": "[encoded data removed]",
      "text/plain": [
       "<Figure size 1440x504 with 1 Axes>"
      ]
     },
     "metadata": {
      "needs_background": "light"
     },
     "output_type": "display_data"
    }
   ],
   "source": [
    "plt.figure(figsize=(20,7))\n",
    "sns.boxplot(data=df_price, \n",
    "            x='floor_level', \n",
    "            y='price')\n",
    "plt.title(\"Соотношение стоимости квартир и этажа\",\n",
    "           fontdict={'size':19,'color':'crimson'})\n",
    "plt.ylim([0,20])\n",
    "plt.show()"
   ]
  },
  {
   "cell_type": "markdown",
   "metadata": {},
   "source": [
    "Первый этаж явно не пользуется популярностью."
   ]
  },
  {
   "cell_type": "code",
   "execution_count": 45,
   "metadata": {},
   "outputs": [
    {
     "data": {
      "image/png": "[encoded data removed]",
      "text/plain": [
       "<Figure size 1440x360 with 1 Axes>"
      ]
     },
     "metadata": {
      "needs_background": "light"
     },
     "output_type": "display_data"
    }
   ],
   "source": [
    "plt.figure(figsize=(20,5))\n",
    "sns.boxplot(data=df_price, \n",
    "            x='number_of_rooms', \n",
    "            y='price')\n",
    "plt.title(\"Соотношение стоимости квартир и числа комнат\",\n",
    "           fontdict={'size':19,'color':'crimson'})\n",
    "plt.ylim([0,100])\n",
    "plt.show()"
   ]
  },
  {
   "cell_type": "markdown",
   "metadata": {},
   "source": [
    "Чем выше число комнат, тем выше стоимость, но это, может быть, косвенная корреляция через площадь квартиры."
   ]
  },
  {
   "cell_type": "markdown",
   "metadata": {},
   "source": [
    "**На стоимость квартиры больше всего влиют**: площадь (0.65) и число комнат(0.27) (между собой у этих двух параметров корреляция 0.72%)."
   ]
  },
  {
   "cell_type": "markdown",
   "metadata": {},
   "source": [
    "<hr>"
   ]
  },
  {
   "cell_type": "markdown",
   "metadata": {},
   "source": [
    "### 3. <span style=\"color: crimson\"><b>Выберите</b></span> 10 населённых пунктов с наибольшим числом объявлений. "
   ]
  },
  {
   "cell_type": "markdown",
   "metadata": {},
   "source": [
    "Параметры без locality_name нужно удалить т.к. они будут мешать при анализе."
   ]
  },
  {
   "cell_type": "code",
   "execution_count": 46,
   "metadata": {},
   "outputs": [],
   "source": [
    "df = df[df['locality_name']==df['locality_name']].reset_index(drop=True)               "
   ]
  },
  {
   "cell_type": "code",
   "execution_count": 47,
   "metadata": {},
   "outputs": [
    {
     "data": {
      "text/plain": [
       "санкт-петербург      13886\n",
       "посёлок мурино         428\n",
       "посёлок шушары         392\n",
       "всеволожск             370\n",
       "пушкин                 333\n",
       "колпино                295\n",
       "посёлок парголово      289\n",
       "гатчина                278\n",
       "деревня кудрово        252\n",
       "выборг                 221\n",
       "Name: locality_name, dtype: int64"
      ]
     },
     "execution_count": 47,
     "metadata": {},
     "output_type": "execute_result"
    }
   ],
   "source": [
    "df['locality_name'].value_counts().head(10)"
   ]
  },
  {
   "cell_type": "code",
   "execution_count": 48,
   "metadata": {},
   "outputs": [
    {
     "data": {
      "text/html": [
       "<div>\n",
       "<style scoped>\n",
       "    .dataframe tbody tr th:only-of-type {\n",
       "        vertical-align: middle;\n",
       "    }\n",
       "\n",
       "    .dataframe tbody tr th {\n",
       "        vertical-align: top;\n",
       "    }\n",
       "\n",
       "    .dataframe thead th {\n",
       "        text-align: right;\n",
       "    }\n",
       "</style>\n",
       "<table border=\"1\" class=\"dataframe\">\n",
       "  <thead>\n",
       "    <tr style=\"text-align: right;\">\n",
       "      <th></th>\n",
       "      <th>price_square_meter</th>\n",
       "    </tr>\n",
       "    <tr>\n",
       "      <th>locality_name</th>\n",
       "      <th></th>\n",
       "    </tr>\n",
       "  </thead>\n",
       "  <tbody>\n",
       "    <tr>\n",
       "      <th>посёлок лисий нос</th>\n",
       "      <td>123135.500000</td>\n",
       "    </tr>\n",
       "    <tr>\n",
       "      <th>зеленогорск</th>\n",
       "      <td>117804.565217</td>\n",
       "    </tr>\n",
       "    <tr>\n",
       "      <th>санкт-петербург</th>\n",
       "      <td>115740.922512</td>\n",
       "    </tr>\n",
       "    <tr>\n",
       "      <th>посёлок репино</th>\n",
       "      <td>104313.750000</td>\n",
       "    </tr>\n",
       "    <tr>\n",
       "      <th>пушкин</th>\n",
       "      <td>103562.600601</td>\n",
       "    </tr>\n",
       "  </tbody>\n",
       "</table>\n",
       "</div>"
      ],
      "text/plain": [
       "                   price_square_meter\n",
       "locality_name                        \n",
       "посёлок лисий нос       123135.500000\n",
       "зеленогорск             117804.565217\n",
       "санкт-петербург         115740.922512\n",
       "посёлок репино          104313.750000\n",
       "пушкин                  103562.600601"
      ]
     },
     "metadata": {},
     "output_type": "display_data"
    },
    {
     "data": {
      "text/html": [
       "<div>\n",
       "<style scoped>\n",
       "    .dataframe tbody tr th:only-of-type {\n",
       "        vertical-align: middle;\n",
       "    }\n",
       "\n",
       "    .dataframe tbody tr th {\n",
       "        vertical-align: top;\n",
       "    }\n",
       "\n",
       "    .dataframe thead th {\n",
       "        text-align: right;\n",
       "    }\n",
       "</style>\n",
       "<table border=\"1\" class=\"dataframe\">\n",
       "  <thead>\n",
       "    <tr style=\"text-align: right;\">\n",
       "      <th></th>\n",
       "      <th>price_square_meter</th>\n",
       "    </tr>\n",
       "    <tr>\n",
       "      <th>locality_name</th>\n",
       "      <th></th>\n",
       "    </tr>\n",
       "  </thead>\n",
       "  <tbody>\n",
       "    <tr>\n",
       "      <th>поселок совхозный</th>\n",
       "      <td>12628.500000</td>\n",
       "    </tr>\n",
       "    <tr>\n",
       "      <th>деревня выскатка</th>\n",
       "      <td>12335.000000</td>\n",
       "    </tr>\n",
       "    <tr>\n",
       "      <th>деревня вахнова кара</th>\n",
       "      <td>11842.000000</td>\n",
       "    </tr>\n",
       "    <tr>\n",
       "      <th>посёлок станции свирь</th>\n",
       "      <td>11481.000000</td>\n",
       "    </tr>\n",
       "    <tr>\n",
       "      <th>деревня старополье</th>\n",
       "      <td>11238.333333</td>\n",
       "    </tr>\n",
       "  </tbody>\n",
       "</table>\n",
       "</div>"
      ],
      "text/plain": [
       "                       price_square_meter\n",
       "locality_name                            \n",
       "поселок совхозный            12628.500000\n",
       "деревня выскатка             12335.000000\n",
       "деревня вахнова кара         11842.000000\n",
       "посёлок станции свирь        11481.000000\n",
       "деревня старополье           11238.333333"
      ]
     },
     "metadata": {},
     "output_type": "display_data"
    }
   ],
   "source": [
    "price_towm = df.groupby('locality_name')\\\n",
    "               .agg({'price_square_meter':'mean'})\\\n",
    "               .sort_values(by='price_square_meter', ascending=False)\n",
    "display(price_towm.head(5))\n",
    "display(price_towm.tail(5))"
   ]
  },
  {
   "cell_type": "markdown",
   "metadata": {},
   "source": [
    "1. Самая высокая стоимость недвижимости в **зеленогорск**\n",
    "2. Самая низкая  стоимость недвижимости в **деревня старополье**"
   ]
  },
  {
   "cell_type": "markdown",
   "metadata": {},
   "source": [
    "---"
   ]
  },
  {
   "cell_type": "markdown",
   "metadata": {},
   "source": [
    "### 4. <span style=\"color: crimson\"><b>Изучите</b></span>  предложения квартир: для каждой квартиры есть информация о расстоянии до центра. \n",
    "  1. Выделите квартиры в Санкт-Петербурге. \n",
    "  2. Ваша задача — выяснить, какая область входит в центр.\n",
    "  3. Создайте столбец с расстоянием до центра в километрах: округлите до целых значений. \n",
    "  4. После этого посчитайте среднюю цену для каждого километра. \n",
    "  5. Постройте график: он должен показывать, как цена зависит от удалённости от центра. \n",
    "  6. Определите границу, где график сильно меняется — это и будет центральная зона."
   ]
  },
  {
   "cell_type": "markdown",
   "metadata": {},
   "source": [
    "**Изучите предложения квартир: для каждой квартиры есть информация о расстоянии до центра.**"
   ]
  },
  {
   "cell_type": "code",
   "execution_count": 49,
   "metadata": {},
   "outputs": [],
   "source": [
    "df_city = df_price[df_price['city_centers_nearest_m'].notna()].reset_index(drop=True)"
   ]
  },
  {
   "cell_type": "markdown",
   "metadata": {},
   "source": [
    "**Выделите квартиры в Санкт-Петербурге ('locality_name').**"
   ]
  },
  {
   "cell_type": "code",
   "execution_count": 50,
   "metadata": {},
   "outputs": [],
   "source": [
    "df_city = df_city[df_city['locality_name']=='санкт-петербург']"
   ]
  },
  {
   "cell_type": "markdown",
   "metadata": {},
   "source": [
    "**|Создайте столбец с расстоянием до центра в километрах: округлите до целых значений.**"
   ]
  },
  {
   "cell_type": "code",
   "execution_count": 51,
   "metadata": {},
   "outputs": [],
   "source": [
    "df_city['city_centers_nearest_km'] = df_city['city_centers_nearest_m']//1000\n",
    "df_city['city_centers_nearest_km'] = df_city['city_centers_nearest_km'].astype('int64')"
   ]
  },
  {
   "cell_type": "markdown",
   "metadata": {},
   "source": [
    "**|После этого посчитайте среднюю цену для каждого километра.**"
   ]
  },
  {
   "cell_type": "code",
   "execution_count": 52,
   "metadata": {},
   "outputs": [],
   "source": [
    "km_price = df_city.groupby(['city_centers_nearest_km'])['price'].mean().map(int)"
   ]
  },
  {
   "cell_type": "markdown",
   "metadata": {},
   "source": [
    "| **Постройте график**: он должен показывать, как цена зависит от удалённости от центра."
   ]
  },
  {
   "cell_type": "code",
   "execution_count": 53,
   "metadata": {},
   "outputs": [
    {
     "data": {
      "image/png": "[encoded data removed]",
      "text/plain": [
       "<Figure size 720x360 with 1 Axes>"
      ]
     },
     "metadata": {
      "needs_background": "light"
     },
     "output_type": "display_data"
    }
   ],
   "source": [
    "plt.figure(figsize=(10,5))\n",
    "\n",
    "plt.plot(km_price)\n",
    "\n",
    "plt.title('Как цена зависит от удалённости от центра',\n",
    "           fontdict = {'size':19, 'color':'crimson'})\n",
    "plt.xlabel(\"Растрояние от центра (км)\")\n",
    "plt.ylabel(\"Цена квартиры (млн)\")\n",
    "\n",
    "plt.show()"
   ]
  },
  {
   "cell_type": "markdown",
   "metadata": {},
   "source": [
    "**|Определите границу, где график сильно меняется — это и будет центральная зона.**"
   ]
  },
  {
   "cell_type": "markdown",
   "metadata": {},
   "source": [
    "Полагаю, центрольной зоной является граница в 5-10 км, после неё цена начинает резко падать."
   ]
  },
  {
   "cell_type": "markdown",
   "metadata": {},
   "source": [
    "<hr>"
   ]
  },
  {
   "cell_type": "markdown",
   "metadata": {},
   "source": [
    "###   5. <span style=\"color: crimson\"><b>Выделите</b></span>  сегмент квартир в центре. \n",
    "1. Проанализируйте эту территорию и изучите следующие параметры: площадь, цена, число комнат, высота потолков. \n",
    "2. Также выделите факторы, которые влияют на стоимость квартиры (число комнат, этаж, удалённость от центра, дата размещения объявления).\n",
    "3. Сделайте выводы. \n",
    "4. Отличаются ли они от общих выводов по всему городу?"
   ]
  },
  {
   "cell_type": "markdown",
   "metadata": {},
   "source": [
    "**| Выделите сегмент квартир в центре.**"
   ]
  },
  {
   "cell_type": "code",
   "execution_count": 54,
   "metadata": {},
   "outputs": [],
   "source": [
    "center_df_city     = df_city[df_city['city_centers_nearest_km']<=4].reset_index(drop=True)\n",
    "out_center_df_city = df_city[df_city['city_centers_nearest_km'] >4].reset_index(drop=True)"
   ]
  },
  {
   "cell_type": "markdown",
   "metadata": {},
   "source": [
    "**| Проанализируйте эту территорию и изучите следующие параметры: площадь, цена, число комнат, высота потолков.**"
   ]
  },
  {
   "cell_type": "markdown",
   "metadata": {},
   "source": [
    "Нужно учитывать размер выборки по сравнению с генеральной совокупностью."
   ]
  },
  {
   "cell_type": "code",
   "execution_count": 55,
   "metadata": {},
   "outputs": [
    {
     "data": {
      "text/html": [
       "<div>\n",
       "<style scoped>\n",
       "    .dataframe tbody tr th:only-of-type {\n",
       "        vertical-align: middle;\n",
       "    }\n",
       "\n",
       "    .dataframe tbody tr th {\n",
       "        vertical-align: top;\n",
       "    }\n",
       "\n",
       "    .dataframe thead th {\n",
       "        text-align: right;\n",
       "    }\n",
       "</style>\n",
       "<table border=\"1\" class=\"dataframe\">\n",
       "  <thead>\n",
       "    <tr style=\"text-align: right;\">\n",
       "      <th></th>\n",
       "      <th>total_area_m2</th>\n",
       "    </tr>\n",
       "  </thead>\n",
       "  <tbody>\n",
       "    <tr>\n",
       "      <th>count</th>\n",
       "      <td>-11528</td>\n",
       "    </tr>\n",
       "    <tr>\n",
       "      <th>mean</th>\n",
       "      <td>37</td>\n",
       "    </tr>\n",
       "    <tr>\n",
       "      <th>std</th>\n",
       "      <td>24</td>\n",
       "    </tr>\n",
       "    <tr>\n",
       "      <th>min</th>\n",
       "      <td>-1</td>\n",
       "    </tr>\n",
       "    <tr>\n",
       "      <th>25%</th>\n",
       "      <td>21</td>\n",
       "    </tr>\n",
       "    <tr>\n",
       "      <th>50%</th>\n",
       "      <td>32</td>\n",
       "    </tr>\n",
       "    <tr>\n",
       "      <th>75%</th>\n",
       "      <td>45</td>\n",
       "    </tr>\n",
       "    <tr>\n",
       "      <th>max</th>\n",
       "      <td>-269</td>\n",
       "    </tr>\n",
       "  </tbody>\n",
       "</table>\n",
       "</div>"
      ],
      "text/plain": [
       "       total_area_m2\n",
       "count         -11528\n",
       "mean              37\n",
       "std               24\n",
       "min               -1\n",
       "25%               21\n",
       "50%               32\n",
       "75%               45\n",
       "max             -269"
      ]
     },
     "execution_count": 55,
     "metadata": {},
     "output_type": "execute_result"
    }
   ],
   "source": [
    "(center_df_city['total_area_m2'].describe()-out_center_df_city['total_area_m2'].describe()).astype('int64').to_frame()"
   ]
  },
  {
   "cell_type": "markdown",
   "metadata": {},
   "source": [
    "Квартиры в среднем на 30 м2 больше."
   ]
  },
  {
   "cell_type": "code",
   "execution_count": 56,
   "metadata": {},
   "outputs": [
    {
     "data": {
      "text/html": [
       "<div>\n",
       "<style scoped>\n",
       "    .dataframe tbody tr th:only-of-type {\n",
       "        vertical-align: middle;\n",
       "    }\n",
       "\n",
       "    .dataframe tbody tr th {\n",
       "        vertical-align: top;\n",
       "    }\n",
       "\n",
       "    .dataframe thead th {\n",
       "        text-align: right;\n",
       "    }\n",
       "</style>\n",
       "<table border=\"1\" class=\"dataframe\">\n",
       "  <thead>\n",
       "    <tr style=\"text-align: right;\">\n",
       "      <th></th>\n",
       "      <th>price</th>\n",
       "    </tr>\n",
       "  </thead>\n",
       "  <tbody>\n",
       "    <tr>\n",
       "      <th>count</th>\n",
       "      <td>-11528</td>\n",
       "    </tr>\n",
       "    <tr>\n",
       "      <th>mean</th>\n",
       "      <td>7</td>\n",
       "    </tr>\n",
       "    <tr>\n",
       "      <th>std</th>\n",
       "      <td>17</td>\n",
       "    </tr>\n",
       "    <tr>\n",
       "      <th>min</th>\n",
       "      <td>1</td>\n",
       "    </tr>\n",
       "    <tr>\n",
       "      <th>25%</th>\n",
       "      <td>2</td>\n",
       "    </tr>\n",
       "    <tr>\n",
       "      <th>50%</th>\n",
       "      <td>4</td>\n",
       "    </tr>\n",
       "    <tr>\n",
       "      <th>75%</th>\n",
       "      <td>7</td>\n",
       "    </tr>\n",
       "    <tr>\n",
       "      <th>max</th>\n",
       "      <td>343</td>\n",
       "    </tr>\n",
       "  </tbody>\n",
       "</table>\n",
       "</div>"
      ],
      "text/plain": [
       "       price\n",
       "count -11528\n",
       "mean       7\n",
       "std       17\n",
       "min        1\n",
       "25%        2\n",
       "50%        4\n",
       "75%        7\n",
       "max      343"
      ]
     },
     "execution_count": 56,
     "metadata": {},
     "output_type": "execute_result"
    }
   ],
   "source": [
    "(center_df_city['price'].describe()-out_center_df_city['price'].describe()).astype('int64').to_frame()"
   ]
  },
  {
   "cell_type": "markdown",
   "metadata": {},
   "source": [
    "Квартиры в центре стоят на порядок больше."
   ]
  },
  {
   "cell_type": "code",
   "execution_count": 57,
   "metadata": {},
   "outputs": [
    {
     "data": {
      "text/html": [
       "<div>\n",
       "<style scoped>\n",
       "    .dataframe tbody tr th:only-of-type {\n",
       "        vertical-align: middle;\n",
       "    }\n",
       "\n",
       "    .dataframe tbody tr th {\n",
       "        vertical-align: top;\n",
       "    }\n",
       "\n",
       "    .dataframe thead th {\n",
       "        text-align: right;\n",
       "    }\n",
       "</style>\n",
       "<table border=\"1\" class=\"dataframe\">\n",
       "  <thead>\n",
       "    <tr style=\"text-align: right;\">\n",
       "      <th></th>\n",
       "      <th>number_of_rooms</th>\n",
       "    </tr>\n",
       "  </thead>\n",
       "  <tbody>\n",
       "    <tr>\n",
       "      <th>count</th>\n",
       "      <td>-11528.000000</td>\n",
       "    </tr>\n",
       "    <tr>\n",
       "      <th>mean</th>\n",
       "      <td>0.984459</td>\n",
       "    </tr>\n",
       "    <tr>\n",
       "      <th>std</th>\n",
       "      <td>0.506540</td>\n",
       "    </tr>\n",
       "    <tr>\n",
       "      <th>min</th>\n",
       "      <td>0.000000</td>\n",
       "    </tr>\n",
       "    <tr>\n",
       "      <th>25%</th>\n",
       "      <td>1.000000</td>\n",
       "    </tr>\n",
       "    <tr>\n",
       "      <th>50%</th>\n",
       "      <td>1.000000</td>\n",
       "    </tr>\n",
       "    <tr>\n",
       "      <th>75%</th>\n",
       "      <td>1.000000</td>\n",
       "    </tr>\n",
       "    <tr>\n",
       "      <th>max</th>\n",
       "      <td>5.000000</td>\n",
       "    </tr>\n",
       "  </tbody>\n",
       "</table>\n",
       "</div>"
      ],
      "text/plain": [
       "       number_of_rooms\n",
       "count    -11528.000000\n",
       "mean          0.984459\n",
       "std           0.506540\n",
       "min           0.000000\n",
       "25%           1.000000\n",
       "50%           1.000000\n",
       "75%           1.000000\n",
       "max           5.000000"
      ]
     },
     "execution_count": 57,
     "metadata": {},
     "output_type": "execute_result"
    }
   ],
   "source": [
    "(center_df_city['number_of_rooms'].describe()-out_center_df_city['number_of_rooms'].describe()).to_frame()"
   ]
  },
  {
   "cell_type": "markdown",
   "metadata": {},
   "source": [
    "Комнат в среднем на одну больше."
   ]
  },
  {
   "cell_type": "code",
   "execution_count": 58,
   "metadata": {
    "scrolled": true
   },
   "outputs": [
    {
     "data": {
      "text/html": [
       "<div>\n",
       "<style scoped>\n",
       "    .dataframe tbody tr th:only-of-type {\n",
       "        vertical-align: middle;\n",
       "    }\n",
       "\n",
       "    .dataframe tbody tr th {\n",
       "        vertical-align: top;\n",
       "    }\n",
       "\n",
       "    .dataframe thead th {\n",
       "        text-align: right;\n",
       "    }\n",
       "</style>\n",
       "<table border=\"1\" class=\"dataframe\">\n",
       "  <thead>\n",
       "    <tr style=\"text-align: right;\">\n",
       "      <th></th>\n",
       "      <th>ceiling_height_m</th>\n",
       "    </tr>\n",
       "  </thead>\n",
       "  <tbody>\n",
       "    <tr>\n",
       "      <th>count</th>\n",
       "      <td>-7305.000000</td>\n",
       "    </tr>\n",
       "    <tr>\n",
       "      <th>mean</th>\n",
       "      <td>0.463178</td>\n",
       "    </tr>\n",
       "    <tr>\n",
       "      <th>std</th>\n",
       "      <td>-0.249511</td>\n",
       "    </tr>\n",
       "    <tr>\n",
       "      <th>min</th>\n",
       "      <td>1.400000</td>\n",
       "    </tr>\n",
       "    <tr>\n",
       "      <th>25%</th>\n",
       "      <td>0.480000</td>\n",
       "    </tr>\n",
       "    <tr>\n",
       "      <th>50%</th>\n",
       "      <td>0.450000</td>\n",
       "    </tr>\n",
       "    <tr>\n",
       "      <th>75%</th>\n",
       "      <td>0.560000</td>\n",
       "    </tr>\n",
       "    <tr>\n",
       "      <th>max</th>\n",
       "      <td>-68.000000</td>\n",
       "    </tr>\n",
       "  </tbody>\n",
       "</table>\n",
       "</div>"
      ],
      "text/plain": [
       "       ceiling_height_m\n",
       "count      -7305.000000\n",
       "mean           0.463178\n",
       "std           -0.249511\n",
       "min            1.400000\n",
       "25%            0.480000\n",
       "50%            0.450000\n",
       "75%            0.560000\n",
       "max          -68.000000"
      ]
     },
     "execution_count": 58,
     "metadata": {},
     "output_type": "execute_result"
    }
   ],
   "source": [
    "(center_df_city['ceiling_height_m'].describe()-out_center_df_city['ceiling_height_m'].describe()).to_frame()"
   ]
  },
  {
   "cell_type": "markdown",
   "metadata": {},
   "source": [
    "Потолки на 40 сантиметров выше."
   ]
  },
  {
   "cell_type": "markdown",
   "metadata": {},
   "source": [
    "### <center><span style=\"color: crimson\"><b>Вывод</b></span></center>\n",
    "Если взять квартры в центре Питера и в не центра, то различия:\n",
    "1. Потолков в среднем на 40 сантиметров выше.\n",
    "2. Квартиры в среднем на 30 м2 больше.\n",
    "3. Комнат в среднем на одну больше.\n",
    "4. Цены которые в среднем выше на 2849500."
   ]
  },
  {
   "cell_type": "markdown",
   "metadata": {},
   "source": [
    "<hr>"
   ]
  },
  {
   "cell_type": "markdown",
   "metadata": {},
   "source": [
    "### 6. <span style=\"color: crimson\"><b>Выделить</b></span>  факторы, которые влияют на стоимость квартиры."
   ]
  },
  {
   "cell_type": "code",
   "execution_count": 59,
   "metadata": {},
   "outputs": [
    {
     "data": {
      "text/html": [
       "<style type=\"text/css\">\n",
       "#T_e3677_row0_col1, #T_e3677_row0_col2 {\n",
       "  background-color: #b40426;\n",
       "  color: #f1f1f1;\n",
       "}\n",
       "#T_e3677_row1_col1 {\n",
       "  background-color: #f49a7b;\n",
       "  color: #000000;\n",
       "}\n",
       "#T_e3677_row1_col2 {\n",
       "  background-color: #ea7b60;\n",
       "  color: #f1f1f1;\n",
       "}\n",
       "#T_e3677_row2_col1 {\n",
       "  background-color: #ef886b;\n",
       "  color: #f1f1f1;\n",
       "}\n",
       "#T_e3677_row2_col2 {\n",
       "  background-color: #f0cdbb;\n",
       "  color: #000000;\n",
       "}\n",
       "#T_e3677_row3_col1 {\n",
       "  background-color: #f7a98b;\n",
       "  color: #000000;\n",
       "}\n",
       "#T_e3677_row3_col2 {\n",
       "  background-color: #e1dad6;\n",
       "  color: #000000;\n",
       "}\n",
       "#T_e3677_row4_col1 {\n",
       "  background-color: #f5c1a9;\n",
       "  color: #000000;\n",
       "}\n",
       "#T_e3677_row4_col2 {\n",
       "  background-color: #d9dce1;\n",
       "  color: #000000;\n",
       "}\n",
       "#T_e3677_row5_col1 {\n",
       "  background-color: #e2dad5;\n",
       "  color: #000000;\n",
       "}\n",
       "#T_e3677_row5_col2 {\n",
       "  background-color: #a7c5fe;\n",
       "  color: #000000;\n",
       "}\n",
       "#T_e3677_row6_col1 {\n",
       "  background-color: #82a6fb;\n",
       "  color: #f1f1f1;\n",
       "}\n",
       "#T_e3677_row6_col2 {\n",
       "  background-color: #7b9ff9;\n",
       "  color: #f1f1f1;\n",
       "}\n",
       "#T_e3677_row7_col1 {\n",
       "  background-color: #779af7;\n",
       "  color: #f1f1f1;\n",
       "}\n",
       "#T_e3677_row7_col2 {\n",
       "  background-color: #6384eb;\n",
       "  color: #f1f1f1;\n",
       "}\n",
       "#T_e3677_row8_col1 {\n",
       "  background-color: #7ea1fa;\n",
       "  color: #f1f1f1;\n",
       "}\n",
       "#T_e3677_row8_col2 {\n",
       "  background-color: #7699f6;\n",
       "  color: #f1f1f1;\n",
       "}\n",
       "#T_e3677_row9_col1, #T_e3677_row12_col2 {\n",
       "  background-color: #80a3fa;\n",
       "  color: #f1f1f1;\n",
       "}\n",
       "#T_e3677_row9_col2 {\n",
       "  background-color: #5b7ae5;\n",
       "  color: #f1f1f1;\n",
       "}\n",
       "#T_e3677_row10_col1, #T_e3677_row17_col1, #T_e3677_row22_col1 {\n",
       "  background-color: #7295f4;\n",
       "  color: #f1f1f1;\n",
       "}\n",
       "#T_e3677_row10_col2 {\n",
       "  background-color: #4c66d6;\n",
       "  color: #f1f1f1;\n",
       "}\n",
       "#T_e3677_row11_col1 {\n",
       "  background-color: #7a9df8;\n",
       "  color: #f1f1f1;\n",
       "}\n",
       "#T_e3677_row11_col2 {\n",
       "  background-color: #4f69d9;\n",
       "  color: #f1f1f1;\n",
       "}\n",
       "#T_e3677_row12_col1, #T_e3677_row20_col1 {\n",
       "  background-color: #94b6ff;\n",
       "  color: #000000;\n",
       "}\n",
       "#T_e3677_row13_col1 {\n",
       "  background-color: #8db0fe;\n",
       "  color: #000000;\n",
       "}\n",
       "#T_e3677_row13_col2 {\n",
       "  background-color: #6687ed;\n",
       "  color: #f1f1f1;\n",
       "}\n",
       "#T_e3677_row14_col1 {\n",
       "  background-color: #81a4fb;\n",
       "  color: #f1f1f1;\n",
       "}\n",
       "#T_e3677_row14_col2 {\n",
       "  background-color: #5d7ce6;\n",
       "  color: #f1f1f1;\n",
       "}\n",
       "#T_e3677_row15_col1, #T_e3677_row15_col2, #T_e3677_row23_col2, #T_e3677_row24_col1, #T_e3677_row24_col2 {\n",
       "  background-color: #3b4cc0;\n",
       "  color: #f1f1f1;\n",
       "}\n",
       "#T_e3677_row16_col1 {\n",
       "  background-color: #a3c2fe;\n",
       "  color: #000000;\n",
       "}\n",
       "#T_e3677_row16_col2 {\n",
       "  background-color: #6b8df0;\n",
       "  color: #f1f1f1;\n",
       "}\n",
       "#T_e3677_row17_col2 {\n",
       "  background-color: #5977e3;\n",
       "  color: #f1f1f1;\n",
       "}\n",
       "#T_e3677_row18_col1 {\n",
       "  background-color: #a6c4fe;\n",
       "  color: #000000;\n",
       "}\n",
       "#T_e3677_row18_col2 {\n",
       "  background-color: #7093f3;\n",
       "  color: #f1f1f1;\n",
       "}\n",
       "#T_e3677_row19_col1 {\n",
       "  background-color: #5e7de7;\n",
       "  color: #f1f1f1;\n",
       "}\n",
       "#T_e3677_row19_col2 {\n",
       "  background-color: #4961d2;\n",
       "  color: #f1f1f1;\n",
       "}\n",
       "#T_e3677_row20_col2 {\n",
       "  background-color: #5f7fe8;\n",
       "  color: #f1f1f1;\n",
       "}\n",
       "#T_e3677_row21_col1 {\n",
       "  background-color: #6e90f2;\n",
       "  color: #f1f1f1;\n",
       "}\n",
       "#T_e3677_row21_col2 {\n",
       "  background-color: #4e68d8;\n",
       "  color: #f1f1f1;\n",
       "}\n",
       "#T_e3677_row22_col2 {\n",
       "  background-color: #506bda;\n",
       "  color: #f1f1f1;\n",
       "}\n",
       "#T_e3677_row23_col1 {\n",
       "  background-color: #6180e9;\n",
       "  color: #f1f1f1;\n",
       "}\n",
       "</style>\n",
       "<table id=\"T_e3677\">\n",
       "  <thead>\n",
       "    <tr>\n",
       "      <th class=\"blank level0\" >&nbsp;</th>\n",
       "      <th id=\"T_e3677_level0_col0\" class=\"col_heading level0 col0\" >index</th>\n",
       "      <th id=\"T_e3677_level0_col1\" class=\"col_heading level0 col1\" >cor_in_center</th>\n",
       "      <th id=\"T_e3677_level0_col2\" class=\"col_heading level0 col2\" >cor_out_center</th>\n",
       "    </tr>\n",
       "  </thead>\n",
       "  <tbody>\n",
       "    <tr>\n",
       "      <th id=\"T_e3677_level0_row0\" class=\"row_heading level0 row0\" >0</th>\n",
       "      <td id=\"T_e3677_row0_col0\" class=\"data row0 col0\" >price</td>\n",
       "      <td id=\"T_e3677_row0_col1\" class=\"data row0 col1\" >1.000000</td>\n",
       "      <td id=\"T_e3677_row0_col2\" class=\"data row0 col2\" >1.000000</td>\n",
       "    </tr>\n",
       "    <tr>\n",
       "      <th id=\"T_e3677_level0_row1\" class=\"row_heading level0 row1\" >1</th>\n",
       "      <td id=\"T_e3677_row1_col0\" class=\"data row1 col0\" >price_square_meter</td>\n",
       "      <td id=\"T_e3677_row1_col1\" class=\"data row1 col1\" >0.686071</td>\n",
       "      <td id=\"T_e3677_row1_col2\" class=\"data row1 col2\" >0.804355</td>\n",
       "    </tr>\n",
       "    <tr>\n",
       "      <th id=\"T_e3677_level0_row2\" class=\"row_heading level0 row2\" >2</th>\n",
       "      <td id=\"T_e3677_row2_col0\" class=\"data row2 col0\" >total_area_m2</td>\n",
       "      <td id=\"T_e3677_row2_col1\" class=\"data row2 col1\" >0.741742</td>\n",
       "      <td id=\"T_e3677_row2_col2\" class=\"data row2 col2\" >0.552148</td>\n",
       "    </tr>\n",
       "    <tr>\n",
       "      <th id=\"T_e3677_level0_row3\" class=\"row_heading level0 row3\" >3</th>\n",
       "      <td id=\"T_e3677_row3_col0\" class=\"data row3 col0\" >living_area_m2</td>\n",
       "      <td id=\"T_e3677_row3_col1\" class=\"data row3 col1\" >0.637803</td>\n",
       "      <td id=\"T_e3677_row3_col2\" class=\"data row3 col2\" >0.474850</td>\n",
       "    </tr>\n",
       "    <tr>\n",
       "      <th id=\"T_e3677_level0_row4\" class=\"row_heading level0 row4\" >4</th>\n",
       "      <td id=\"T_e3677_row4_col0\" class=\"data row4 col0\" >kitchen_area_m2</td>\n",
       "      <td id=\"T_e3677_row4_col1\" class=\"data row4 col1\" >0.546690</td>\n",
       "      <td id=\"T_e3677_row4_col2\" class=\"data row4 col2\" >0.442092</td>\n",
       "    </tr>\n",
       "    <tr>\n",
       "      <th id=\"T_e3677_level0_row5\" class=\"row_heading level0 row5\" >5</th>\n",
       "      <td id=\"T_e3677_row5_col0\" class=\"data row5 col0\" >number_of_rooms</td>\n",
       "      <td id=\"T_e3677_row5_col1\" class=\"data row5 col1\" >0.406470</td>\n",
       "      <td id=\"T_e3677_row5_col2\" class=\"data row5 col2\" >0.268803</td>\n",
       "    </tr>\n",
       "    <tr>\n",
       "      <th id=\"T_e3677_level0_row6\" class=\"row_heading level0 row6\" >6</th>\n",
       "      <td id=\"T_e3677_row6_col0\" class=\"data row6 col0\" >floor</td>\n",
       "      <td id=\"T_e3677_row6_col1\" class=\"data row6 col1\" >0.032024</td>\n",
       "      <td id=\"T_e3677_row6_col2\" class=\"data row6 col2\" >0.132746</td>\n",
       "    </tr>\n",
       "    <tr>\n",
       "      <th id=\"T_e3677_level0_row7\" class=\"row_heading level0 row7\" >7</th>\n",
       "      <td id=\"T_e3677_row7_col0\" class=\"data row7 col0\" >floors_in_house</td>\n",
       "      <td id=\"T_e3677_row7_col1\" class=\"data row7 col1\" >-0.006382</td>\n",
       "      <td id=\"T_e3677_row7_col2\" class=\"data row7 col2\" >0.054252</td>\n",
       "    </tr>\n",
       "    <tr>\n",
       "      <th id=\"T_e3677_level0_row8\" class=\"row_heading level0 row8\" >8</th>\n",
       "      <td id=\"T_e3677_row8_col0\" class=\"data row8 col0\" >number_of_balcony</td>\n",
       "      <td id=\"T_e3677_row8_col1\" class=\"data row8 col1\" >0.016059</td>\n",
       "      <td id=\"T_e3677_row8_col2\" class=\"data row8 col2\" >0.113690</td>\n",
       "    </tr>\n",
       "    <tr>\n",
       "      <th id=\"T_e3677_level0_row9\" class=\"row_heading level0 row9\" >9</th>\n",
       "      <td id=\"T_e3677_row9_col0\" class=\"data row9 col0\" >is_apartment</td>\n",
       "      <td id=\"T_e3677_row9_col1\" class=\"data row9 col1\" >0.018231</td>\n",
       "      <td id=\"T_e3677_row9_col2\" class=\"data row9 col2\" >0.029125</td>\n",
       "    </tr>\n",
       "    <tr>\n",
       "      <th id=\"T_e3677_level0_row10\" class=\"row_heading level0 row10\" >10</th>\n",
       "      <td id=\"T_e3677_row10_col0\" class=\"data row10 col0\" >is_studio</td>\n",
       "      <td id=\"T_e3677_row10_col1\" class=\"data row10 col1\" >-0.029008</td>\n",
       "      <td id=\"T_e3677_row10_col2\" class=\"data row10 col2\" >-0.021954</td>\n",
       "    </tr>\n",
       "    <tr>\n",
       "      <th id=\"T_e3677_level0_row11\" class=\"row_heading level0 row11\" >11</th>\n",
       "      <td id=\"T_e3677_row11_col0\" class=\"data row11 col0\" >is_open_plan</td>\n",
       "      <td id=\"T_e3677_row11_col1\" class=\"data row11 col1\" >0.000869</td>\n",
       "      <td id=\"T_e3677_row11_col2\" class=\"data row11 col2\" >-0.012176</td>\n",
       "    </tr>\n",
       "    <tr>\n",
       "      <th id=\"T_e3677_level0_row12\" class=\"row_heading level0 row12\" >12</th>\n",
       "      <td id=\"T_e3677_row12_col0\" class=\"data row12 col0\" >total_images</td>\n",
       "      <td id=\"T_e3677_row12_col1\" class=\"data row12 col1\" >0.094478</td>\n",
       "      <td id=\"T_e3677_row12_col2\" class=\"data row12 col2\" >0.145620</td>\n",
       "    </tr>\n",
       "    <tr>\n",
       "      <th id=\"T_e3677_level0_row13\" class=\"row_heading level0 row13\" >13</th>\n",
       "      <td id=\"T_e3677_row13_col0\" class=\"data row13 col0\" >ceiling_height_m</td>\n",
       "      <td id=\"T_e3677_row13_col1\" class=\"data row13 col1\" >0.069995</td>\n",
       "      <td id=\"T_e3677_row13_col2\" class=\"data row13 col2\" >0.062506</td>\n",
       "    </tr>\n",
       "    <tr>\n",
       "      <th id=\"T_e3677_level0_row14\" class=\"row_heading level0 row14\" >14</th>\n",
       "      <td id=\"T_e3677_row14_col0\" class=\"data row14 col0\" >airports_nearest_m</td>\n",
       "      <td id=\"T_e3677_row14_col1\" class=\"data row14 col1\" >0.023466</td>\n",
       "      <td id=\"T_e3677_row14_col2\" class=\"data row14 col2\" >0.035266</td>\n",
       "    </tr>\n",
       "    <tr>\n",
       "      <th id=\"T_e3677_level0_row15\" class=\"row_heading level0 row15\" >15</th>\n",
       "      <td id=\"T_e3677_row15_col0\" class=\"data row15 col0\" >city_centers_nearest_m</td>\n",
       "      <td id=\"T_e3677_row15_col1\" class=\"data row15 col1\" >-0.244216</td>\n",
       "      <td id=\"T_e3677_row15_col2\" class=\"data row15 col2\" >-0.083378</td>\n",
       "    </tr>\n",
       "    <tr>\n",
       "      <th id=\"T_e3677_level0_row16\" class=\"row_heading level0 row16\" >16</th>\n",
       "      <td id=\"T_e3677_row16_col0\" class=\"data row16 col0\" >parks_around_3km</td>\n",
       "      <td id=\"T_e3677_row16_col1\" class=\"data row16 col1\" >0.149390</td>\n",
       "      <td id=\"T_e3677_row16_col2\" class=\"data row16 col2\" >0.082440</td>\n",
       "    </tr>\n",
       "    <tr>\n",
       "      <th id=\"T_e3677_level0_row17\" class=\"row_heading level0 row17\" >17</th>\n",
       "      <td id=\"T_e3677_row17_col0\" class=\"data row17 col0\" >parks_nearest_m</td>\n",
       "      <td id=\"T_e3677_row17_col1\" class=\"data row17 col1\" >-0.026383</td>\n",
       "      <td id=\"T_e3677_row17_col2\" class=\"data row17 col2\" >0.020063</td>\n",
       "    </tr>\n",
       "    <tr>\n",
       "      <th id=\"T_e3677_level0_row18\" class=\"row_heading level0 row18\" >18</th>\n",
       "      <td id=\"T_e3677_row18_col0\" class=\"data row18 col0\" >ponds_around_3km</td>\n",
       "      <td id=\"T_e3677_row18_col1\" class=\"data row18 col1\" >0.154891</td>\n",
       "      <td id=\"T_e3677_row18_col2\" class=\"data row18 col2\" >0.098446</td>\n",
       "    </tr>\n",
       "    <tr>\n",
       "      <th id=\"T_e3677_level0_row19\" class=\"row_heading level0 row19\" >19</th>\n",
       "      <td id=\"T_e3677_row19_col0\" class=\"data row19 col0\" >ponds_nearest_m</td>\n",
       "      <td id=\"T_e3677_row19_col1\" class=\"data row19 col1\" >-0.099687</td>\n",
       "      <td id=\"T_e3677_row19_col2\" class=\"data row19 col2\" >-0.032813</td>\n",
       "    </tr>\n",
       "    <tr>\n",
       "      <th id=\"T_e3677_level0_row20\" class=\"row_heading level0 row20\" >20</th>\n",
       "      <td id=\"T_e3677_row20_col0\" class=\"data row20 col0\" >days_exposition</td>\n",
       "      <td id=\"T_e3677_row20_col1\" class=\"data row20 col1\" >0.092402</td>\n",
       "      <td id=\"T_e3677_row20_col2\" class=\"data row20 col2\" >0.044806</td>\n",
       "    </tr>\n",
       "    <tr>\n",
       "      <th id=\"T_e3677_level0_row21\" class=\"row_heading level0 row21\" >21</th>\n",
       "      <td id=\"T_e3677_row21_col0\" class=\"data row21 col0\" >year_first_day_exposition</td>\n",
       "      <td id=\"T_e3677_row21_col1\" class=\"data row21 col1\" >-0.043541</td>\n",
       "      <td id=\"T_e3677_row21_col2\" class=\"data row21 col2\" >-0.016766</td>\n",
       "    </tr>\n",
       "    <tr>\n",
       "      <th id=\"T_e3677_level0_row22\" class=\"row_heading level0 row22\" >22</th>\n",
       "      <td id=\"T_e3677_row22_col0\" class=\"data row22 col0\" >live_area/total_area</td>\n",
       "      <td id=\"T_e3677_row22_col1\" class=\"data row22 col1\" >-0.028301</td>\n",
       "      <td id=\"T_e3677_row22_col2\" class=\"data row22 col2\" >-0.007253</td>\n",
       "    </tr>\n",
       "    <tr>\n",
       "      <th id=\"T_e3677_level0_row23\" class=\"row_heading level0 row23\" >23</th>\n",
       "      <td id=\"T_e3677_row23_col0\" class=\"data row23 col0\" >kitchen_area/total_area</td>\n",
       "      <td id=\"T_e3677_row23_col1\" class=\"data row23 col1\" >-0.089249</td>\n",
       "      <td id=\"T_e3677_row23_col2\" class=\"data row23 col2\" >-0.085469</td>\n",
       "    </tr>\n",
       "    <tr>\n",
       "      <th id=\"T_e3677_level0_row24\" class=\"row_heading level0 row24\" >24</th>\n",
       "      <td id=\"T_e3677_row24_col0\" class=\"data row24 col0\" >city_centers_nearest_km</td>\n",
       "      <td id=\"T_e3677_row24_col1\" class=\"data row24 col1\" >-0.244241</td>\n",
       "      <td id=\"T_e3677_row24_col2\" class=\"data row24 col2\" >-0.086415</td>\n",
       "    </tr>\n",
       "  </tbody>\n",
       "</table>\n"
      ],
      "text/plain": [
       "<pandas.io.formats.style.Styler at 0x247f227fbb0>"
      ]
     },
     "execution_count": 59,
     "metadata": {},
     "output_type": "execute_result"
    }
   ],
   "source": [
    "corr_out_center_df_city = out_center_df_city.corr()['price'].reset_index()\n",
    "corr_center_df_city = center_df_city.corr()['price'].reset_index()\n",
    "cor_in_out_center = corr_out_center_df_city.merge(corr_center_df_city, on='index')\\\n",
    "                                           .rename(columns={'price_x':'cor_in_center', 'price_y':'cor_out_center'})\n",
    "\n",
    "cor_in_out_center.style.background_gradient('coolwarm')"
   ]
  },
  {
   "cell_type": "code",
   "execution_count": 60,
   "metadata": {},
   "outputs": [
    {
     "name": "stdout",
     "output_type": "stream",
     "text": [
      "(2066, 31)\n",
      "(13594, 31)\n"
     ]
    }
   ],
   "source": [
    "print(center_df_city.shape)\n",
    "print(out_center_df_city.shape)"
   ]
  },
  {
   "cell_type": "markdown",
   "metadata": {},
   "source": [
    "Различий между параметрами влияющими на стоимость квартиры в центре и за пределами центра Питера: площадь (квартиры, кухни...).\n",
    "<hr>"
   ]
  },
  {
   "cell_type": "markdown",
   "metadata": {},
   "source": [
    "**| Сравним цену в городе и вне него по отношению к числу комнат.**"
   ]
  },
  {
   "cell_type": "code",
   "execution_count": 61,
   "metadata": {},
   "outputs": [],
   "source": [
    "center_df_city_14 = center_df_city.query('number_of_rooms<=14').copy()"
   ]
  },
  {
   "cell_type": "code",
   "execution_count": 62,
   "metadata": {},
   "outputs": [
    {
     "data": {
      "image/png": "[encoded data removed]",
      "text/plain": [
       "<Figure size 1440x360 with 1 Axes>"
      ]
     },
     "metadata": {
      "needs_background": "light"
     },
     "output_type": "display_data"
    }
   ],
   "source": [
    "plt.figure(figsize=(20,5))\n",
    "sns.boxplot(data=center_df_city_14, \n",
    "            x='number_of_rooms', \n",
    "            y='price')\n",
    "\n",
    "\n",
    "plt.title(\"Соотношение стоимости квартир и числа комнат в городе\",\n",
    "           fontdict={'size':19,'color':'crimson'})\n",
    "plt.ylim([0,100])\n",
    "\n",
    "plt.show()"
   ]
  },
  {
   "cell_type": "code",
   "execution_count": 63,
   "metadata": {},
   "outputs": [
    {
     "data": {
      "image/png": "[encoded data removed]",
      "text/plain": [
       "<Figure size 1440x360 with 1 Axes>"
      ]
     },
     "metadata": {
      "needs_background": "light"
     },
     "output_type": "display_data"
    }
   ],
   "source": [
    "plt.figure(figsize=(20,5))\n",
    "sns.boxplot(data=out_center_df_city, \n",
    "            x='number_of_rooms', \n",
    "            y='price')\n",
    "\n",
    "\n",
    "plt.title(\"Соотношение стоимости квартир и числа комнат вне города\",\n",
    "           fontdict={'size':19,'color':'crimson'})\n",
    "plt.ylim([0,100])\n",
    "\n",
    "plt.show()"
   ]
  },
  {
   "cell_type": "markdown",
   "metadata": {},
   "source": [
    "Стоимость вне города у многоквартирной недвижимости выше, но вероятнее всего это связанно с низким количеством объектов."
   ]
  },
  {
   "cell_type": "markdown",
   "metadata": {},
   "source": [
    "<hr>"
   ]
  },
  {
   "cell_type": "markdown",
   "metadata": {},
   "source": [
    "**| Сравним цену в городе и вне него по отношению к этажности.**"
   ]
  },
  {
   "cell_type": "code",
   "execution_count": 64,
   "metadata": {},
   "outputs": [
    {
     "data": {
      "image/png": "[encoded data removed]",
      "text/plain": [
       "<Figure size 1440x360 with 1 Axes>"
      ]
     },
     "metadata": {
      "needs_background": "light"
     },
     "output_type": "display_data"
    }
   ],
   "source": [
    "plt.figure(figsize=(20,5))\n",
    "sns.boxplot(data=center_df_city_14, \n",
    "            x='floor_level', \n",
    "            y='price')\n",
    "\n",
    "\n",
    "plt.title(\"Соотношение стоимости квартир и этажности комнат в города\",\n",
    "           fontdict={'size':19,'color':'crimson'})\n",
    "plt.ylim([0,100])\n",
    "\n",
    "plt.show()"
   ]
  },
  {
   "cell_type": "code",
   "execution_count": 65,
   "metadata": {},
   "outputs": [
    {
     "data": {
      "image/png": "[encoded data removed]",
      "text/plain": [
       "<Figure size 1440x360 with 1 Axes>"
      ]
     },
     "metadata": {
      "needs_background": "light"
     },
     "output_type": "display_data"
    }
   ],
   "source": [
    "plt.figure(figsize=(20,5))\n",
    "sns.boxplot(data=out_center_df_city, \n",
    "            x='floor_level', \n",
    "            y='price')\n",
    "\n",
    "\n",
    "plt.title(\"Соотношение стоимости квартир и этажности комнат вне города\",\n",
    "           fontdict={'size':19,'color':'crimson'})\n",
    "plt.ylim([0,100])\n",
    "\n",
    "plt.show()"
   ]
  },
  {
   "cell_type": "markdown",
   "metadata": {},
   "source": [
    "### <center><span style=\"color: crimson\"><b>Вывод</b></span></center>\n",
    "\n",
    "Есть отличия, в городе, но вне города нет, скорее всего т.к. вне города редко встречаются многоэтажки."
   ]
  },
  {
   "cell_type": "markdown",
   "metadata": {},
   "source": [
    "## <span style=\"color: crimson\">Этап 4</span> Результаты исследований"
   ]
  },
  {
   "cell_type": "markdown",
   "metadata": {},
   "source": [
    "**|| Параметры влияющие на стоимость:**\n",
    "* Апартаменты дешевле, чем все остальные квартиры.\n",
    "* Квартиры в центре Питера дороже, чем квартиры вне центра (Полагаю, центрольной зоной является граница в 5-10 км, после неё цена начинает резко падать).\n",
    "* Первый этаж явно не пользуется популярностью. (низкая стоимсоть)\n",
    "* Площадь (0.65) и число комнат (0.27) (между собой у этих двух параметров корреляция 72%).\n",
    "* Самая высокая стоимость недвижимости в зеленогорск\n",
    "* Самая низкая стоимость недвижимости в деревня старополье\n",
    "\n",
    "**|| Типичные параметры квартиры:**  \n",
    "* Больше всего квартир с площадью с 40-69 м2 (IQR).\n",
    "* Большинство квартир со стоимостью со строимостью от 3.400 млн. - 6.800 млн. (IQR).\n",
    "* Число комнат: Большинство кол-во комнат от 1 до 3.(IQR).\n",
    "* Высота потолка: чаще всего комнаты с высотой потолка от 2.5 до 2.8(IQR).\n",
    "\n",
    "**|| Критериии скорости продажи квартиры:**\n",
    "* **Быстро**: продаже прошла до 1 квартиля (<45 дней)\n",
    "* **Медленно**: продаже прошла после 3 квартиля (>232 дней)\n",
    "* **Очень медленно**: продажа после 3 сигмы (>840 дней)"
   ]
  },
  {
   "cell_type": "markdown",
   "metadata": {},
   "source": [
    "### <span style=\"color: red\">Р</span>екомендации платформе:\n",
    "- Сделать обязательным заполнение всех ячеек при подачи объявления, чтобы не было пропусков.\n",
    "- По адреса недвижимости добавить расстояние до различных объектов.\n",
    "- Убрать такие колонки, как расстояние до водоёма или аэропорта.\n",
    "- Добавить является ли район подходящий для детей или пожилой (рассчитываемое по расстоянию до школ и больниц) \n",
    "- Добавить столбец, был ли в квартире ремонт в последние 2 года, является ли квартира новостройкой (соседи с дрелью).\n",
    "- Создать карту преступлений по оф. заявлениям полиции и рекомендовать районы исходя из этого.\n",
    "- Использовать корректные типы данных.\n",
    "- Проверят возможный выброс по остальным показателям (искать наиболее похожее объявление и его цену (можно исп. алгоритм k-ближайших соседей)).\n",
    "- Создать минимальный и максимальный лимит по фото, чтобы не перегружать сервер 30 фото однокомнатной квартиры."
   ]
  }
 ],
 "metadata": {
  "ExecuteTimeLog": [
   {
    "duration": 629,
    "start_time": "2021-10-02T10:25:21.524Z"
   },
   {
    "duration": 13,
    "start_time": "2021-10-02T10:25:36.433Z"
   },
   {
    "duration": 329,
    "start_time": "2021-10-02T10:25:46.637Z"
   },
   {
    "duration": 69,
    "start_time": "2021-10-02T10:26:53.493Z"
   },
   {
    "duration": 24,
    "start_time": "2021-10-02T10:26:54.371Z"
   },
   {
    "duration": 11,
    "start_time": "2021-10-02T10:37:15.582Z"
   },
   {
    "duration": 69,
    "start_time": "2021-10-02T10:37:31.369Z"
   },
   {
    "duration": 45,
    "start_time": "2021-10-02T11:01:19.853Z"
   },
   {
    "duration": 218,
    "start_time": "2021-10-02T11:03:05.394Z"
   },
   {
    "duration": 179,
    "start_time": "2021-10-02T11:08:17.004Z"
   },
   {
    "duration": 182,
    "start_time": "2021-10-02T11:10:51.524Z"
   },
   {
    "duration": 256,
    "start_time": "2021-10-02T11:16:29.593Z"
   },
   {
    "duration": 236,
    "start_time": "2021-10-02T11:17:53.209Z"
   },
   {
    "duration": 570,
    "start_time": "2021-10-02T11:17:59.998Z"
   },
   {
    "duration": 87,
    "start_time": "2021-10-02T11:20:09.190Z"
   },
   {
    "duration": 187,
    "start_time": "2021-10-02T11:20:12.544Z"
   },
   {
    "duration": 163,
    "start_time": "2021-10-02T11:20:22.055Z"
   },
   {
    "duration": 196,
    "start_time": "2021-10-02T11:20:30.096Z"
   },
   {
    "duration": 147,
    "start_time": "2021-10-02T11:20:38.694Z"
   },
   {
    "duration": 103,
    "start_time": "2021-10-02T11:20:49.467Z"
   },
   {
    "duration": 93,
    "start_time": "2021-10-02T11:20:58.990Z"
   },
   {
    "duration": 174,
    "start_time": "2021-10-02T11:21:10.086Z"
   },
   {
    "duration": 7127,
    "start_time": "2021-10-02T11:21:26.312Z"
   },
   {
    "duration": 122,
    "start_time": "2021-10-02T11:21:34.130Z"
   },
   {
    "duration": 137,
    "start_time": "2021-10-02T11:21:40.008Z"
   },
   {
    "duration": 79,
    "start_time": "2021-10-02T11:21:46.511Z"
   },
   {
    "duration": 131,
    "start_time": "2021-10-02T11:21:52.446Z"
   },
   {
    "duration": 95,
    "start_time": "2021-10-02T11:21:59.161Z"
   },
   {
    "duration": 88,
    "start_time": "2021-10-02T11:22:19.493Z"
   },
   {
    "duration": 444,
    "start_time": "2021-10-02T11:22:51.708Z"
   },
   {
    "duration": 24,
    "start_time": "2021-10-02T11:22:52.570Z"
   },
   {
    "duration": 12,
    "start_time": "2021-10-02T11:22:55.290Z"
   },
   {
    "duration": 604,
    "start_time": "2021-10-02T11:25:21.031Z"
   },
   {
    "duration": 427,
    "start_time": "2021-10-02T11:25:59.229Z"
   },
   {
    "duration": 1241,
    "start_time": "2021-10-02T11:26:20.543Z"
   },
   {
    "duration": 2176,
    "start_time": "2021-10-02T11:26:30.111Z"
   },
   {
    "duration": 1970,
    "start_time": "2021-10-02T11:26:49.348Z"
   },
   {
    "duration": 2079,
    "start_time": "2021-10-02T11:27:46.938Z"
   },
   {
    "duration": 170,
    "start_time": "2021-10-02T11:29:50.623Z"
   },
   {
    "duration": 256,
    "start_time": "2021-10-02T11:32:27.132Z"
   },
   {
    "duration": 183,
    "start_time": "2021-10-02T11:32:30.947Z"
   },
   {
    "duration": 199,
    "start_time": "2021-10-02T11:54:50.350Z"
   },
   {
    "duration": 151,
    "start_time": "2021-10-02T11:54:56.760Z"
   },
   {
    "duration": 168,
    "start_time": "2021-10-02T11:55:52.471Z"
   },
   {
    "duration": 197,
    "start_time": "2021-10-02T11:55:55.589Z"
   },
   {
    "duration": 161,
    "start_time": "2021-10-02T11:56:04.256Z"
   },
   {
    "duration": 195,
    "start_time": "2021-10-02T11:56:06.382Z"
   },
   {
    "duration": 226,
    "start_time": "2021-10-02T11:56:16.861Z"
   },
   {
    "duration": 48,
    "start_time": "2021-10-02T11:56:22.369Z"
   },
   {
    "duration": 284,
    "start_time": "2021-10-03T19:07:54.848Z"
   },
   {
    "duration": 741,
    "start_time": "2021-10-03T19:07:57.146Z"
   },
   {
    "duration": 29,
    "start_time": "2021-10-03T19:07:57.889Z"
   },
   {
    "duration": 277,
    "start_time": "2021-10-03T19:39:52.362Z"
   },
   {
    "duration": 266,
    "start_time": "2021-10-03T19:40:48.594Z"
   },
   {
    "duration": 240,
    "start_time": "2021-10-03T19:40:58.131Z"
   },
   {
    "duration": 457,
    "start_time": "2021-10-03T19:45:17.067Z"
   },
   {
    "duration": 5,
    "start_time": "2021-10-03T20:02:29.825Z"
   },
   {
    "duration": 5,
    "start_time": "2021-10-03T20:11:14.064Z"
   },
   {
    "duration": 4,
    "start_time": "2021-10-03T20:11:22.983Z"
   },
   {
    "duration": 5,
    "start_time": "2021-10-03T20:12:21.522Z"
   },
   {
    "duration": 5,
    "start_time": "2021-10-03T20:15:31.834Z"
   },
   {
    "duration": 4,
    "start_time": "2021-10-03T20:15:48.892Z"
   },
   {
    "duration": 4,
    "start_time": "2021-10-03T20:30:04.493Z"
   },
   {
    "duration": 4,
    "start_time": "2021-10-03T20:30:15.921Z"
   },
   {
    "duration": 4,
    "start_time": "2021-10-03T20:30:22.275Z"
   },
   {
    "duration": 4,
    "start_time": "2021-10-03T20:30:23.773Z"
   },
   {
    "duration": 278,
    "start_time": "2021-10-03T20:30:29.019Z"
   },
   {
    "duration": 250,
    "start_time": "2021-10-03T20:30:31.933Z"
   },
   {
    "duration": 4,
    "start_time": "2021-10-03T20:30:35.091Z"
   },
   {
    "duration": 846,
    "start_time": "2021-10-04T07:24:53.788Z"
   },
   {
    "duration": 50,
    "start_time": "2021-10-04T07:24:54.636Z"
   },
   {
    "duration": 17,
    "start_time": "2021-10-04T07:24:56.230Z"
   },
   {
    "duration": 111,
    "start_time": "2021-10-04T07:24:58.373Z"
   },
   {
    "duration": 486,
    "start_time": "2021-10-04T07:25:30.121Z"
   },
   {
    "duration": 104,
    "start_time": "2021-10-04T07:26:18.008Z"
   },
   {
    "duration": 106,
    "start_time": "2021-10-04T07:26:21.289Z"
   },
   {
    "duration": 4259,
    "start_time": "2021-10-04T07:26:25.062Z"
   },
   {
    "duration": 2455,
    "start_time": "2021-10-04T07:26:32.045Z"
   },
   {
    "duration": 223,
    "start_time": "2021-10-04T08:33:22.498Z"
   },
   {
    "duration": 6,
    "start_time": "2021-10-04T08:34:06.210Z"
   },
   {
    "duration": 7,
    "start_time": "2021-10-04T08:35:29.130Z"
   },
   {
    "duration": 478,
    "start_time": "2021-10-04T08:36:43.288Z"
   },
   {
    "duration": 368,
    "start_time": "2021-10-04T08:38:00.185Z"
   },
   {
    "duration": 7,
    "start_time": "2021-10-04T08:38:03.776Z"
   },
   {
    "duration": 6,
    "start_time": "2021-10-04T08:39:50.673Z"
   },
   {
    "duration": 6,
    "start_time": "2021-10-04T08:40:01.911Z"
   },
   {
    "duration": 5,
    "start_time": "2021-10-04T08:46:41.889Z"
   },
   {
    "duration": 6,
    "start_time": "2021-10-04T08:46:50.934Z"
   },
   {
    "duration": 6,
    "start_time": "2021-10-04T08:46:53.095Z"
   },
   {
    "duration": 7,
    "start_time": "2021-10-04T08:46:55.453Z"
   },
   {
    "duration": 7,
    "start_time": "2021-10-04T08:47:03.155Z"
   },
   {
    "duration": 6,
    "start_time": "2021-10-04T08:47:05.991Z"
   },
   {
    "duration": 6,
    "start_time": "2021-10-04T08:47:08.414Z"
   },
   {
    "duration": 455,
    "start_time": "2021-10-04T08:47:16.871Z"
   },
   {
    "duration": 5,
    "start_time": "2021-10-04T08:47:19.571Z"
   },
   {
    "duration": 6,
    "start_time": "2021-10-04T08:47:21.434Z"
   },
   {
    "duration": 8,
    "start_time": "2021-10-04T08:47:38.990Z"
   },
   {
    "duration": 5,
    "start_time": "2021-10-04T08:47:49.489Z"
   },
   {
    "duration": 6,
    "start_time": "2021-10-04T08:48:01.166Z"
   },
   {
    "duration": 6,
    "start_time": "2021-10-04T08:49:58.582Z"
   },
   {
    "duration": 7,
    "start_time": "2021-10-04T08:51:29.279Z"
   },
   {
    "duration": 7,
    "start_time": "2021-10-04T08:51:31.015Z"
   },
   {
    "duration": 374,
    "start_time": "2021-10-04T08:53:29.872Z"
   },
   {
    "duration": 5,
    "start_time": "2021-10-04T08:53:39.358Z"
   },
   {
    "duration": 113,
    "start_time": "2021-10-04T08:59:57.615Z"
   },
   {
    "duration": 6,
    "start_time": "2021-10-04T09:00:02.459Z"
   },
   {
    "duration": 6,
    "start_time": "2021-10-04T09:00:08.627Z"
   },
   {
    "duration": 5,
    "start_time": "2021-10-04T09:00:29.337Z"
   },
   {
    "duration": 6,
    "start_time": "2021-10-04T09:00:52.032Z"
   },
   {
    "duration": 6,
    "start_time": "2021-10-04T09:00:56.234Z"
   },
   {
    "duration": 6,
    "start_time": "2021-10-04T09:01:03.244Z"
   },
   {
    "duration": 5,
    "start_time": "2021-10-04T09:01:06.740Z"
   },
   {
    "duration": 380,
    "start_time": "2021-10-04T09:01:29.730Z"
   },
   {
    "duration": 6,
    "start_time": "2021-10-04T09:04:16.191Z"
   },
   {
    "duration": 7,
    "start_time": "2021-10-04T09:04:31.096Z"
   },
   {
    "duration": 6,
    "start_time": "2021-10-04T09:07:05.926Z"
   },
   {
    "duration": 7,
    "start_time": "2021-10-04T09:08:41.260Z"
   },
   {
    "duration": 6,
    "start_time": "2021-10-04T09:08:50.408Z"
   },
   {
    "duration": 6,
    "start_time": "2021-10-04T09:09:05.620Z"
   },
   {
    "duration": 6,
    "start_time": "2021-10-04T09:09:09.733Z"
   },
   {
    "duration": 456,
    "start_time": "2021-10-04T09:13:10.700Z"
   },
   {
    "duration": 8,
    "start_time": "2021-10-04T09:13:20.241Z"
   },
   {
    "duration": 7,
    "start_time": "2021-10-04T09:13:54.448Z"
   },
   {
    "duration": 7,
    "start_time": "2021-10-04T09:14:04.103Z"
   },
   {
    "duration": 7,
    "start_time": "2021-10-04T09:15:11.445Z"
   },
   {
    "duration": 6,
    "start_time": "2021-10-04T09:15:15.223Z"
   },
   {
    "duration": 7,
    "start_time": "2021-10-04T09:21:14.751Z"
   },
   {
    "duration": 6,
    "start_time": "2021-10-04T09:21:23.765Z"
   },
   {
    "duration": 9,
    "start_time": "2021-10-04T09:23:55.810Z"
   },
   {
    "duration": 11,
    "start_time": "2021-10-04T09:24:48.321Z"
   },
   {
    "duration": 8,
    "start_time": "2021-10-04T09:25:01.373Z"
   },
   {
    "duration": 10,
    "start_time": "2021-10-04T09:26:59.379Z"
   },
   {
    "duration": 9,
    "start_time": "2021-10-04T09:27:06.643Z"
   },
   {
    "duration": 10,
    "start_time": "2021-10-04T09:27:10.639Z"
   },
   {
    "duration": 12,
    "start_time": "2021-10-04T09:27:14.180Z"
   },
   {
    "duration": 107,
    "start_time": "2021-10-04T09:27:24.333Z"
   },
   {
    "duration": 12,
    "start_time": "2021-10-04T09:27:31.375Z"
   },
   {
    "duration": 7,
    "start_time": "2021-10-04T09:27:46.491Z"
   },
   {
    "duration": 7,
    "start_time": "2021-10-04T09:27:59.405Z"
   },
   {
    "duration": 7,
    "start_time": "2021-10-04T09:28:09.803Z"
   },
   {
    "duration": 7,
    "start_time": "2021-10-04T09:29:26.364Z"
   },
   {
    "duration": 6,
    "start_time": "2021-10-04T09:31:16.190Z"
   },
   {
    "duration": 7,
    "start_time": "2021-10-04T09:31:24.522Z"
   },
   {
    "duration": 7,
    "start_time": "2021-10-04T09:31:42.856Z"
   },
   {
    "duration": 8,
    "start_time": "2021-10-04T09:32:06.837Z"
   },
   {
    "duration": 144,
    "start_time": "2021-10-04T09:34:28.977Z"
   },
   {
    "duration": 4,
    "start_time": "2021-10-04T10:03:59.383Z"
   },
   {
    "duration": 3,
    "start_time": "2021-10-04T10:05:31.948Z"
   },
   {
    "duration": 75,
    "start_time": "2021-10-04T10:08:33.190Z"
   },
   {
    "duration": 36,
    "start_time": "2021-10-04T10:08:33.620Z"
   },
   {
    "duration": 19,
    "start_time": "2021-10-04T10:08:35.064Z"
   },
   {
    "duration": 1344,
    "start_time": "2021-10-04T10:08:49.172Z"
   },
   {
    "duration": 112,
    "start_time": "2021-10-04T10:14:29.027Z"
   },
   {
    "duration": 66,
    "start_time": "2021-10-04T10:14:35.220Z"
   },
   {
    "duration": 36,
    "start_time": "2021-10-04T10:15:36.417Z"
   },
   {
    "duration": 9145,
    "start_time": "2021-10-04T10:17:11.100Z"
   },
   {
    "duration": 7,
    "start_time": "2021-10-04T10:17:46.779Z"
   },
   {
    "duration": 23,
    "start_time": "2021-10-04T10:17:54.120Z"
   },
   {
    "duration": 9026,
    "start_time": "2021-10-04T10:18:05.728Z"
   },
   {
    "duration": 1728,
    "start_time": "2021-10-04T10:18:33.761Z"
   },
   {
    "duration": 2645,
    "start_time": "2021-10-04T10:18:44.063Z"
   },
   {
    "duration": 1294,
    "start_time": "2021-10-04T10:19:14.428Z"
   },
   {
    "duration": 230,
    "start_time": "2021-10-04T10:20:12.583Z"
   },
   {
    "duration": 8,
    "start_time": "2021-10-04T11:04:59.130Z"
   },
   {
    "duration": 6,
    "start_time": "2021-10-04T11:05:08.492Z"
   },
   {
    "duration": 6,
    "start_time": "2021-10-04T11:09:20.073Z"
   },
   {
    "duration": 372,
    "start_time": "2021-10-04T11:09:27.873Z"
   },
   {
    "duration": 6,
    "start_time": "2021-10-04T11:09:31.236Z"
   },
   {
    "duration": 6,
    "start_time": "2021-10-04T11:09:41.841Z"
   },
   {
    "duration": 6,
    "start_time": "2021-10-04T11:09:45.134Z"
   },
   {
    "duration": 117,
    "start_time": "2021-10-04T11:10:10.877Z"
   },
   {
    "duration": 141,
    "start_time": "2021-10-04T11:12:20.620Z"
   },
   {
    "duration": 116,
    "start_time": "2021-10-04T11:12:23.662Z"
   },
   {
    "duration": 123,
    "start_time": "2021-10-04T11:12:58.781Z"
   },
   {
    "duration": 129,
    "start_time": "2021-10-04T11:13:02.730Z"
   },
   {
    "duration": 6,
    "start_time": "2021-10-04T11:13:04.889Z"
   },
   {
    "duration": 6,
    "start_time": "2021-10-04T11:13:09.896Z"
   },
   {
    "duration": 7,
    "start_time": "2021-10-04T11:13:13.768Z"
   },
   {
    "duration": 6,
    "start_time": "2021-10-04T11:13:16.444Z"
   },
   {
    "duration": 7,
    "start_time": "2021-10-04T11:13:38.696Z"
   },
   {
    "duration": 5,
    "start_time": "2021-10-04T11:13:46.158Z"
   },
   {
    "duration": 6,
    "start_time": "2021-10-04T11:13:55.534Z"
   },
   {
    "duration": 6,
    "start_time": "2021-10-04T11:13:59.306Z"
   },
   {
    "duration": 6,
    "start_time": "2021-10-04T11:14:20.057Z"
   },
   {
    "duration": 103,
    "start_time": "2021-10-04T11:14:37.408Z"
   },
   {
    "duration": 121,
    "start_time": "2021-10-04T11:14:39.059Z"
   },
   {
    "duration": 5,
    "start_time": "2021-10-04T11:14:42.215Z"
   },
   {
    "duration": 5,
    "start_time": "2021-10-04T11:15:06.198Z"
   },
   {
    "duration": 4,
    "start_time": "2021-10-04T11:15:09.533Z"
   },
   {
    "duration": 5,
    "start_time": "2021-10-04T11:15:14.142Z"
   },
   {
    "duration": 4,
    "start_time": "2021-10-04T11:15:16.228Z"
   },
   {
    "duration": 6,
    "start_time": "2021-10-04T11:15:18.401Z"
   },
   {
    "duration": 363,
    "start_time": "2021-10-04T11:15:59.415Z"
   },
   {
    "duration": 4,
    "start_time": "2021-10-04T11:16:14.504Z"
   },
   {
    "duration": 5,
    "start_time": "2021-10-04T11:16:20.207Z"
   },
   {
    "duration": 5,
    "start_time": "2021-10-04T11:16:27.133Z"
   },
   {
    "duration": 6,
    "start_time": "2021-10-04T11:17:32.132Z"
   },
   {
    "duration": 6,
    "start_time": "2021-10-04T11:17:39.762Z"
   },
   {
    "duration": 6,
    "start_time": "2021-10-04T11:17:55.081Z"
   },
   {
    "duration": 9,
    "start_time": "2021-10-04T11:23:55.790Z"
   },
   {
    "duration": 113,
    "start_time": "2021-10-04T11:24:11.639Z"
   },
   {
    "duration": 6,
    "start_time": "2021-10-04T11:24:58.025Z"
   },
   {
    "duration": 6,
    "start_time": "2021-10-04T11:25:06.569Z"
   },
   {
    "duration": 385,
    "start_time": "2021-10-04T11:26:01.698Z"
   },
   {
    "duration": 386,
    "start_time": "2021-10-04T11:26:10.644Z"
   },
   {
    "duration": 6,
    "start_time": "2021-10-04T11:26:15.806Z"
   },
   {
    "duration": 125,
    "start_time": "2021-10-04T11:28:41.737Z"
   },
   {
    "duration": 5,
    "start_time": "2021-10-04T11:28:50.733Z"
   },
   {
    "duration": 7,
    "start_time": "2021-10-04T11:29:09.935Z"
   },
   {
    "duration": 6,
    "start_time": "2021-10-04T11:29:47.875Z"
   },
   {
    "duration": 8,
    "start_time": "2021-10-04T11:30:24.744Z"
   },
   {
    "duration": 366,
    "start_time": "2021-10-04T12:19:54.013Z"
   },
   {
    "duration": 387,
    "start_time": "2021-10-04T12:20:01.798Z"
   },
   {
    "duration": 901,
    "start_time": "2021-10-04T12:20:02.426Z"
   },
   {
    "duration": 1523,
    "start_time": "2021-10-04T12:20:07.135Z"
   },
   {
    "duration": 89,
    "start_time": "2021-10-04T12:20:08.661Z"
   },
   {
    "duration": 50,
    "start_time": "2021-10-04T12:20:08.753Z"
   },
   {
    "duration": 15,
    "start_time": "2021-10-04T12:20:09.105Z"
   },
   {
    "duration": 1341,
    "start_time": "2021-10-04T12:20:09.678Z"
   },
   {
    "duration": 116,
    "start_time": "2021-10-04T12:20:11.021Z"
   },
   {
    "duration": 248,
    "start_time": "2021-10-04T12:20:11.752Z"
   },
   {
    "duration": 692,
    "start_time": "2021-10-04T12:23:06.012Z"
   },
   {
    "duration": 243,
    "start_time": "2021-10-04T12:23:10.858Z"
   },
   {
    "duration": 12,
    "start_time": "2021-10-04T12:42:39.122Z"
   },
   {
    "duration": 782,
    "start_time": "2021-10-04T12:59:06.629Z"
   },
   {
    "duration": 614,
    "start_time": "2021-10-04T12:59:23.444Z"
   },
   {
    "duration": 1314,
    "start_time": "2021-10-04T13:00:21.752Z"
   },
   {
    "duration": 1264,
    "start_time": "2021-10-04T13:00:45.140Z"
   },
   {
    "duration": -106,
    "start_time": "2021-10-04T13:01:36.665Z"
   },
   {
    "duration": 11374,
    "start_time": "2021-10-04T13:01:57.402Z"
   },
   {
    "duration": 9169,
    "start_time": "2021-10-04T13:06:47.012Z"
   },
   {
    "duration": 116,
    "start_time": "2021-10-04T13:07:41.740Z"
   },
   {
    "duration": 5,
    "start_time": "2021-10-04T13:07:47.153Z"
   },
   {
    "duration": 563,
    "start_time": "2021-10-04T13:10:13.492Z"
   },
   {
    "duration": 125,
    "start_time": "2021-10-04T13:10:20.748Z"
   },
   {
    "duration": 141,
    "start_time": "2021-10-04T13:10:25.114Z"
   },
   {
    "duration": 10644,
    "start_time": "2021-10-04T13:10:27.919Z"
   },
   {
    "duration": 7662,
    "start_time": "2021-10-04T13:11:00.446Z"
   },
   {
    "duration": 2323,
    "start_time": "2021-10-04T13:18:40.863Z"
   },
   {
    "duration": 526,
    "start_time": "2021-10-04T13:35:46.823Z"
   },
   {
    "duration": 4,
    "start_time": "2021-10-04T13:37:23.420Z"
   },
   {
    "duration": 1382,
    "start_time": "2021-10-04T13:37:30.941Z"
   },
   {
    "duration": 83,
    "start_time": "2021-10-04T13:37:32.326Z"
   },
   {
    "duration": 40,
    "start_time": "2021-10-04T13:37:32.897Z"
   },
   {
    "duration": 15,
    "start_time": "2021-10-04T13:37:33.504Z"
   },
   {
    "duration": 9530,
    "start_time": "2021-10-04T13:37:34.207Z"
   },
   {
    "duration": 1384,
    "start_time": "2021-10-04T13:37:43.739Z"
   },
   {
    "duration": 110,
    "start_time": "2021-10-04T13:37:45.126Z"
   },
   {
    "duration": 10514,
    "start_time": "2021-10-04T13:38:06.021Z"
   },
   {
    "duration": 17275,
    "start_time": "2021-10-04T13:38:22.091Z"
   },
   {
    "duration": 26209,
    "start_time": "2021-10-04T13:38:57.633Z"
   },
   {
    "duration": 11590,
    "start_time": "2021-10-04T13:39:34.499Z"
   },
   {
    "duration": 446,
    "start_time": "2021-10-04T13:43:02.152Z"
   },
   {
    "duration": 334,
    "start_time": "2021-10-04T13:43:05.891Z"
   },
   {
    "duration": 339,
    "start_time": "2021-10-04T13:43:14.359Z"
   },
   {
    "duration": 350,
    "start_time": "2021-10-04T13:43:24.307Z"
   },
   {
    "duration": 438,
    "start_time": "2021-10-04T14:20:29.870Z"
   },
   {
    "duration": 285,
    "start_time": "2021-10-04T14:29:11.219Z"
   },
   {
    "duration": 87,
    "start_time": "2021-10-04T15:12:16.766Z"
   },
   {
    "duration": 42,
    "start_time": "2021-10-04T15:12:25.387Z"
   },
   {
    "duration": 8,
    "start_time": "2021-10-04T15:12:46.262Z"
   },
   {
    "duration": 62,
    "start_time": "2021-10-04T15:12:54.170Z"
   },
   {
    "duration": 17,
    "start_time": "2021-10-04T15:13:06.685Z"
   },
   {
    "duration": 113,
    "start_time": "2021-10-04T15:13:15.645Z"
   },
   {
    "duration": 53,
    "start_time": "2021-10-04T15:13:22.524Z"
   },
   {
    "duration": 290,
    "start_time": "2021-10-04T15:15:00.053Z"
   },
   {
    "duration": 281,
    "start_time": "2021-10-04T15:18:00.950Z"
   },
   {
    "duration": 523,
    "start_time": "2021-10-04T15:19:50.732Z"
   },
   {
    "duration": 9616,
    "start_time": "2021-10-04T15:20:31.514Z"
   },
   {
    "duration": 10079,
    "start_time": "2021-10-04T15:20:50.666Z"
   },
   {
    "duration": 10868,
    "start_time": "2021-10-04T15:21:10.258Z"
   },
   {
    "duration": 334,
    "start_time": "2021-10-04T15:22:05.894Z"
   },
   {
    "duration": 312,
    "start_time": "2021-10-04T15:22:51.731Z"
   },
   {
    "duration": 356,
    "start_time": "2021-10-04T15:22:56.867Z"
   },
   {
    "duration": 291,
    "start_time": "2021-10-04T15:23:03.050Z"
   },
   {
    "duration": 330,
    "start_time": "2021-10-04T15:24:14.763Z"
   },
   {
    "duration": 307,
    "start_time": "2021-10-04T15:24:53.142Z"
   },
   {
    "duration": 21,
    "start_time": "2021-10-04T15:26:51.949Z"
   },
   {
    "duration": 396,
    "start_time": "2021-10-04T15:26:59.702Z"
   },
   {
    "duration": 348,
    "start_time": "2021-10-04T15:27:09.273Z"
   },
   {
    "duration": 26,
    "start_time": "2021-10-04T15:27:19.342Z"
   },
   {
    "duration": 34,
    "start_time": "2021-10-04T15:27:28.371Z"
   },
   {
    "duration": 131,
    "start_time": "2021-10-04T15:29:59.990Z"
   },
   {
    "duration": 109,
    "start_time": "2021-10-04T15:30:10.929Z"
   },
   {
    "duration": 26,
    "start_time": "2021-10-04T15:30:26.249Z"
   },
   {
    "duration": 34,
    "start_time": "2021-10-04T15:30:48.367Z"
   },
   {
    "duration": 27,
    "start_time": "2021-10-04T15:30:55.304Z"
   },
   {
    "duration": 28,
    "start_time": "2021-10-04T15:31:05.597Z"
   },
   {
    "duration": 26,
    "start_time": "2021-10-04T15:32:17.008Z"
   },
   {
    "duration": 28,
    "start_time": "2021-10-04T15:35:10.934Z"
   },
   {
    "duration": 21,
    "start_time": "2021-10-04T15:35:26.364Z"
   },
   {
    "duration": 33,
    "start_time": "2021-10-04T15:35:38.511Z"
   },
   {
    "duration": 50,
    "start_time": "2021-10-04T15:35:42.284Z"
   },
   {
    "duration": 63,
    "start_time": "2021-10-04T15:36:13.269Z"
   },
   {
    "duration": 91,
    "start_time": "2021-10-04T15:36:23.265Z"
   },
   {
    "duration": 53,
    "start_time": "2021-10-04T15:37:58.695Z"
   },
   {
    "duration": 30,
    "start_time": "2021-10-04T15:38:34.212Z"
   },
   {
    "duration": 33,
    "start_time": "2021-10-04T15:38:46.146Z"
   },
   {
    "duration": 42,
    "start_time": "2021-10-04T15:39:36.033Z"
   },
   {
    "duration": 336,
    "start_time": "2021-10-04T15:40:27.499Z"
   },
   {
    "duration": 56,
    "start_time": "2021-10-04T15:40:28.934Z"
   },
   {
    "duration": 287,
    "start_time": "2021-10-04T15:41:05.147Z"
   },
   {
    "duration": 45,
    "start_time": "2021-10-04T15:41:05.991Z"
   },
   {
    "duration": 341,
    "start_time": "2021-10-05T06:47:20.317Z"
   },
   {
    "duration": 1060,
    "start_time": "2021-10-05T06:47:25.760Z"
   },
   {
    "duration": -1591,
    "start_time": "2021-10-05T06:47:28.414Z"
   },
   {
    "duration": -1594,
    "start_time": "2021-10-05T06:47:28.418Z"
   },
   {
    "duration": -1597,
    "start_time": "2021-10-05T06:47:28.422Z"
   },
   {
    "duration": 292,
    "start_time": "2021-10-05T06:47:27.150Z"
   },
   {
    "duration": 5456,
    "start_time": "2021-10-05T06:47:55.011Z"
   },
   {
    "duration": 793,
    "start_time": "2021-10-05T06:48:00.470Z"
   },
   {
    "duration": 90,
    "start_time": "2021-10-05T06:48:03.743Z"
   },
   {
    "duration": 41,
    "start_time": "2021-10-05T06:48:07.865Z"
   },
   {
    "duration": 16,
    "start_time": "2021-10-05T06:48:08.561Z"
   },
   {
    "duration": 1486,
    "start_time": "2021-10-05T06:48:09.748Z"
   },
   {
    "duration": 339,
    "start_time": "2021-10-05T06:48:12.046Z"
   },
   {
    "duration": 334,
    "start_time": "2021-10-05T06:48:27.540Z"
   },
   {
    "duration": 297,
    "start_time": "2021-10-05T06:48:40.780Z"
   },
   {
    "duration": 425,
    "start_time": "2021-10-05T06:49:27.491Z"
   },
   {
    "duration": 317,
    "start_time": "2021-10-05T06:49:40.717Z"
   },
   {
    "duration": 306,
    "start_time": "2021-10-05T06:49:55.685Z"
   },
   {
    "duration": 280,
    "start_time": "2021-10-05T06:50:09.503Z"
   },
   {
    "duration": 97,
    "start_time": "2021-10-05T06:51:39.473Z"
   },
   {
    "duration": 6695,
    "start_time": "2021-10-05T06:51:45.292Z"
   },
   {
    "duration": 274,
    "start_time": "2021-10-05T06:52:32.396Z"
   },
   {
    "duration": 45,
    "start_time": "2021-10-05T06:53:45.926Z"
   },
   {
    "duration": 276,
    "start_time": "2021-10-05T06:55:55.095Z"
   },
   {
    "duration": 367,
    "start_time": "2021-10-05T06:56:12.777Z"
   },
   {
    "duration": 8624,
    "start_time": "2021-10-05T06:58:37.206Z"
   },
   {
    "duration": 58,
    "start_time": "2021-10-05T06:59:00.629Z"
   },
   {
    "duration": 321,
    "start_time": "2021-10-05T07:01:59.764Z"
   },
   {
    "duration": 63,
    "start_time": "2021-10-05T07:02:36.402Z"
   },
   {
    "duration": 278,
    "start_time": "2021-10-05T07:07:48.041Z"
   },
   {
    "duration": 157,
    "start_time": "2021-10-05T07:28:55.941Z"
   },
   {
    "duration": 43,
    "start_time": "2021-10-05T07:29:08.341Z"
   },
   {
    "duration": 110,
    "start_time": "2021-10-05T08:03:45.238Z"
   },
   {
    "duration": 7,
    "start_time": "2021-10-05T08:06:24.889Z"
   },
   {
    "duration": 8,
    "start_time": "2021-10-05T08:06:37.254Z"
   },
   {
    "duration": 41,
    "start_time": "2021-10-05T08:12:35.684Z"
   },
   {
    "duration": 37,
    "start_time": "2021-10-05T08:12:48.995Z"
   },
   {
    "duration": 37,
    "start_time": "2021-10-05T08:13:06.238Z"
   },
   {
    "duration": 37,
    "start_time": "2021-10-05T08:13:47.775Z"
   },
   {
    "duration": 38,
    "start_time": "2021-10-05T08:14:32.928Z"
   },
   {
    "duration": 42,
    "start_time": "2021-10-05T08:15:12.059Z"
   },
   {
    "duration": 37,
    "start_time": "2021-10-05T08:15:26.626Z"
   },
   {
    "duration": 60,
    "start_time": "2021-10-05T08:15:40.234Z"
   },
   {
    "duration": 87,
    "start_time": "2021-10-05T08:16:12.362Z"
   },
   {
    "duration": 41,
    "start_time": "2021-10-05T08:16:15.114Z"
   },
   {
    "duration": 312,
    "start_time": "2021-10-05T08:17:40.225Z"
   },
   {
    "duration": 49,
    "start_time": "2021-10-05T08:17:54.862Z"
   },
   {
    "duration": 41,
    "start_time": "2021-10-05T08:18:21.715Z"
   },
   {
    "duration": 42,
    "start_time": "2021-10-05T08:18:57.459Z"
   },
   {
    "duration": 37,
    "start_time": "2021-10-05T08:19:43.665Z"
   },
   {
    "duration": 36,
    "start_time": "2021-10-05T08:19:59.168Z"
   },
   {
    "duration": 47,
    "start_time": "2021-10-05T08:20:25.209Z"
   },
   {
    "duration": 46,
    "start_time": "2021-10-05T08:20:44.312Z"
   },
   {
    "duration": 44,
    "start_time": "2021-10-05T08:21:34.648Z"
   },
   {
    "duration": 32,
    "start_time": "2021-10-05T08:22:16.728Z"
   },
   {
    "duration": 35,
    "start_time": "2021-10-05T08:23:41.895Z"
   },
   {
    "duration": 24,
    "start_time": "2021-10-05T08:26:45.399Z"
   },
   {
    "duration": 34,
    "start_time": "2021-10-05T08:26:56.947Z"
   },
   {
    "duration": 28,
    "start_time": "2021-10-05T08:27:08.180Z"
   },
   {
    "duration": 665,
    "start_time": "2021-10-05T08:27:58.231Z"
   },
   {
    "duration": 4144,
    "start_time": "2021-10-05T08:28:06.020Z"
   },
   {
    "duration": 50,
    "start_time": "2021-10-05T08:28:39.148Z"
   },
   {
    "duration": 10,
    "start_time": "2021-10-05T08:29:19.286Z"
   },
   {
    "duration": 104,
    "start_time": "2021-10-05T08:29:23.617Z"
   },
   {
    "duration": 38,
    "start_time": "2021-10-05T08:29:31.214Z"
   },
   {
    "duration": 77,
    "start_time": "2021-10-05T08:32:30.782Z"
   },
   {
    "duration": 50,
    "start_time": "2021-10-05T08:32:43.078Z"
   },
   {
    "duration": 53,
    "start_time": "2021-10-05T08:32:50.999Z"
   },
   {
    "duration": 52,
    "start_time": "2021-10-05T08:32:56.667Z"
   },
   {
    "duration": 72,
    "start_time": "2021-10-05T08:32:59.797Z"
   },
   {
    "duration": 56,
    "start_time": "2021-10-05T08:33:02.755Z"
   },
   {
    "duration": 306,
    "start_time": "2021-10-05T08:33:42.714Z"
   },
   {
    "duration": 65,
    "start_time": "2021-10-05T08:34:04.714Z"
   },
   {
    "duration": 290,
    "start_time": "2021-10-05T08:34:09.962Z"
   },
   {
    "duration": 74,
    "start_time": "2021-10-05T08:34:25.396Z"
   },
   {
    "duration": 85,
    "start_time": "2021-10-05T08:34:46.882Z"
   },
   {
    "duration": 98,
    "start_time": "2021-10-05T08:35:08.446Z"
   },
   {
    "duration": 100,
    "start_time": "2021-10-05T08:35:29.744Z"
   },
   {
    "duration": 85,
    "start_time": "2021-10-05T08:35:39.917Z"
   },
   {
    "duration": 93,
    "start_time": "2021-10-05T08:35:44.444Z"
   },
   {
    "duration": 107,
    "start_time": "2021-10-05T08:35:54.832Z"
   },
   {
    "duration": 125,
    "start_time": "2021-10-05T08:36:04.344Z"
   },
   {
    "duration": 34,
    "start_time": "2021-10-05T08:36:51.686Z"
   },
   {
    "duration": 69,
    "start_time": "2021-10-05T08:36:59.332Z"
   },
   {
    "duration": 71,
    "start_time": "2021-10-05T08:38:09.814Z"
   },
   {
    "duration": 28,
    "start_time": "2021-10-05T08:38:19.571Z"
   },
   {
    "duration": 283,
    "start_time": "2021-10-05T08:38:29.181Z"
   },
   {
    "duration": 782,
    "start_time": "2021-10-05T08:38:37.567Z"
   },
   {
    "duration": 7410,
    "start_time": "2021-10-05T08:41:18.912Z"
   },
   {
    "duration": 6958,
    "start_time": "2021-10-05T08:41:34.045Z"
   },
   {
    "duration": 7364,
    "start_time": "2021-10-05T08:42:14.050Z"
   },
   {
    "duration": 270,
    "start_time": "2021-10-05T08:43:24.173Z"
   },
   {
    "duration": 304,
    "start_time": "2021-10-05T08:43:30.007Z"
   },
   {
    "duration": 290,
    "start_time": "2021-10-05T08:43:44.613Z"
   },
   {
    "duration": 292,
    "start_time": "2021-10-05T08:44:35.736Z"
   },
   {
    "duration": 38,
    "start_time": "2021-10-05T08:45:12.407Z"
   },
   {
    "duration": 7908,
    "start_time": "2021-10-05T08:45:28.424Z"
   },
   {
    "duration": 6995,
    "start_time": "2021-10-05T08:47:47.551Z"
   },
   {
    "duration": 28,
    "start_time": "2021-10-05T08:48:38.851Z"
   },
   {
    "duration": 7726,
    "start_time": "2021-10-05T08:48:41.180Z"
   },
   {
    "duration": 7883,
    "start_time": "2021-10-05T08:50:31.777Z"
   },
   {
    "duration": 6901,
    "start_time": "2021-10-05T08:55:48.525Z"
   },
   {
    "duration": 43,
    "start_time": "2021-10-05T08:56:14.903Z"
   },
   {
    "duration": 92,
    "start_time": "2021-10-05T08:56:32.592Z"
   },
   {
    "duration": 295,
    "start_time": "2021-10-05T08:56:37.025Z"
   },
   {
    "duration": 161,
    "start_time": "2021-10-05T08:57:02.836Z"
   },
   {
    "duration": 167,
    "start_time": "2021-10-05T08:57:16.547Z"
   },
   {
    "duration": 329,
    "start_time": "2021-10-05T08:57:26.148Z"
   },
   {
    "duration": 181,
    "start_time": "2021-10-05T08:57:35.915Z"
   },
   {
    "duration": 315,
    "start_time": "2021-10-05T08:58:22.395Z"
   },
   {
    "duration": 158,
    "start_time": "2021-10-05T08:58:39.628Z"
   },
   {
    "duration": 308,
    "start_time": "2021-10-05T08:58:42.936Z"
   },
   {
    "duration": 419,
    "start_time": "2021-10-05T08:59:01.576Z"
   },
   {
    "duration": 427,
    "start_time": "2021-10-05T08:59:21.886Z"
   },
   {
    "duration": 171,
    "start_time": "2021-10-05T08:59:34.215Z"
   },
   {
    "duration": 184,
    "start_time": "2021-10-05T09:00:24.249Z"
   },
   {
    "duration": 113,
    "start_time": "2021-10-05T09:00:49.142Z"
   },
   {
    "duration": 166,
    "start_time": "2021-10-05T09:00:55.762Z"
   },
   {
    "duration": 896,
    "start_time": "2021-10-05T09:01:03.350Z"
   },
   {
    "duration": 127,
    "start_time": "2021-10-05T09:01:16.123Z"
   },
   {
    "duration": 389,
    "start_time": "2021-10-05T09:01:20.122Z"
   },
   {
    "duration": 391,
    "start_time": "2021-10-05T09:01:33.497Z"
   },
   {
    "duration": 3728,
    "start_time": "2021-10-05T09:03:43.688Z"
   },
   {
    "duration": 3879,
    "start_time": "2021-10-05T09:04:44.181Z"
   },
   {
    "duration": 13,
    "start_time": "2021-10-05T09:04:55.337Z"
   },
   {
    "duration": 387,
    "start_time": "2021-10-05T09:05:03.258Z"
   },
   {
    "duration": 430,
    "start_time": "2021-10-05T09:07:36.651Z"
   },
   {
    "duration": 382,
    "start_time": "2021-10-05T09:08:18.550Z"
   },
   {
    "duration": 71,
    "start_time": "2021-10-05T09:08:55.830Z"
   },
   {
    "duration": 69,
    "start_time": "2021-10-05T09:09:10.851Z"
   },
   {
    "duration": 62,
    "start_time": "2021-10-05T09:29:32.390Z"
   },
   {
    "duration": 72,
    "start_time": "2021-10-05T09:30:01.004Z"
   },
   {
    "duration": 67,
    "start_time": "2021-10-05T09:30:22.312Z"
   },
   {
    "duration": 350,
    "start_time": "2021-10-05T09:31:22.609Z"
   },
   {
    "duration": 66,
    "start_time": "2021-10-05T09:31:53.871Z"
   },
   {
    "duration": 66,
    "start_time": "2021-10-05T09:32:05.343Z"
   },
   {
    "duration": 65,
    "start_time": "2021-10-05T09:33:27.118Z"
   },
   {
    "duration": 73,
    "start_time": "2021-10-05T09:35:47.238Z"
   },
   {
    "duration": 355,
    "start_time": "2021-10-05T09:35:55.907Z"
   },
   {
    "duration": 284,
    "start_time": "2021-10-05T09:36:07.179Z"
   },
   {
    "duration": 67,
    "start_time": "2021-10-05T09:36:12.274Z"
   },
   {
    "duration": 71,
    "start_time": "2021-10-05T09:37:02.085Z"
   },
   {
    "duration": 69,
    "start_time": "2021-10-05T09:37:15.309Z"
   },
   {
    "duration": 68,
    "start_time": "2021-10-05T09:37:25.538Z"
   },
   {
    "duration": 67,
    "start_time": "2021-10-05T09:38:54.572Z"
   },
   {
    "duration": 66,
    "start_time": "2021-10-05T09:41:04.607Z"
   },
   {
    "duration": 64,
    "start_time": "2021-10-05T09:41:13.846Z"
   },
   {
    "duration": 68,
    "start_time": "2021-10-05T09:42:57.613Z"
   },
   {
    "duration": 296,
    "start_time": "2021-10-05T09:43:41.647Z"
   },
   {
    "duration": 65,
    "start_time": "2021-10-05T09:43:45.309Z"
   },
   {
    "duration": 70,
    "start_time": "2021-10-05T09:44:00.664Z"
   },
   {
    "duration": 77,
    "start_time": "2021-10-05T09:44:13.760Z"
   },
   {
    "duration": 3411,
    "start_time": "2021-10-05T09:44:47.879Z"
   },
   {
    "duration": 105,
    "start_time": "2021-10-05T09:44:58.173Z"
   },
   {
    "duration": 119,
    "start_time": "2021-10-05T10:01:10.206Z"
   },
   {
    "duration": 108,
    "start_time": "2021-10-05T10:01:23.364Z"
   },
   {
    "duration": 702,
    "start_time": "2021-10-05T10:01:44.370Z"
   },
   {
    "duration": 794,
    "start_time": "2021-10-05T10:02:10.391Z"
   },
   {
    "duration": 705,
    "start_time": "2021-10-05T10:02:32.328Z"
   },
   {
    "duration": 758,
    "start_time": "2021-10-05T10:03:09.431Z"
   },
   {
    "duration": 799,
    "start_time": "2021-10-05T10:03:35.908Z"
   },
   {
    "duration": 809,
    "start_time": "2021-10-05T10:03:39.574Z"
   },
   {
    "duration": 827,
    "start_time": "2021-10-05T10:03:57.889Z"
   },
   {
    "duration": 749,
    "start_time": "2021-10-05T10:04:11.038Z"
   },
   {
    "duration": 759,
    "start_time": "2021-10-05T10:04:24.376Z"
   },
   {
    "duration": 856,
    "start_time": "2021-10-05T10:04:29.817Z"
   },
   {
    "duration": 707,
    "start_time": "2021-10-05T10:05:42.932Z"
   },
   {
    "duration": 649,
    "start_time": "2021-10-05T10:05:47.195Z"
   },
   {
    "duration": 707,
    "start_time": "2021-10-05T10:05:53.268Z"
   },
   {
    "duration": 869,
    "start_time": "2021-10-05T10:07:03.502Z"
   },
   {
    "duration": 697,
    "start_time": "2021-10-05T10:07:10.893Z"
   },
   {
    "duration": 686,
    "start_time": "2021-10-05T10:07:24.001Z"
   },
   {
    "duration": 8708,
    "start_time": "2021-10-05T10:19:56.169Z"
   },
   {
    "duration": 1415,
    "start_time": "2021-10-05T10:20:41.007Z"
   },
   {
    "duration": 13,
    "start_time": "2021-10-05T10:40:42.173Z"
   },
   {
    "duration": 10,
    "start_time": "2021-10-05T10:40:48.337Z"
   },
   {
    "duration": 1038,
    "start_time": "2021-10-05T10:40:50.637Z"
   },
   {
    "duration": 70,
    "start_time": "2021-10-05T10:41:04.841Z"
   },
   {
    "duration": 1052,
    "start_time": "2021-10-05T10:42:43.439Z"
   },
   {
    "duration": 1056,
    "start_time": "2021-10-05T10:43:00.070Z"
   },
   {
    "duration": 76,
    "start_time": "2021-10-05T10:43:03.491Z"
   },
   {
    "duration": 986,
    "start_time": "2021-10-05T10:44:31.269Z"
   },
   {
    "duration": 7,
    "start_time": "2021-10-05T10:44:34.248Z"
   },
   {
    "duration": 35,
    "start_time": "2021-10-05T10:45:48.377Z"
   },
   {
    "duration": 4,
    "start_time": "2021-10-05T10:45:50.406Z"
   },
   {
    "duration": 5,
    "start_time": "2021-10-05T10:45:54.757Z"
   },
   {
    "duration": 9,
    "start_time": "2021-10-05T10:45:55.939Z"
   },
   {
    "duration": 5,
    "start_time": "2021-10-05T10:45:56.577Z"
   },
   {
    "duration": 1061,
    "start_time": "2021-10-05T10:46:07.789Z"
   },
   {
    "duration": 45,
    "start_time": "2021-10-05T10:46:08.894Z"
   },
   {
    "duration": 286,
    "start_time": "2021-10-05T10:56:28.882Z"
   },
   {
    "duration": 36,
    "start_time": "2021-10-05T10:59:42.329Z"
   },
   {
    "duration": 37,
    "start_time": "2021-10-05T11:00:38.993Z"
   },
   {
    "duration": 1982,
    "start_time": "2021-10-05T11:00:51.979Z"
   },
   {
    "duration": 2303,
    "start_time": "2021-10-05T11:01:29.494Z"
   },
   {
    "duration": 34,
    "start_time": "2021-10-05T11:01:39.086Z"
   },
   {
    "duration": 1431,
    "start_time": "2021-10-05T11:01:57.564Z"
   },
   {
    "duration": 35,
    "start_time": "2021-10-05T11:02:25.379Z"
   },
   {
    "duration": 24,
    "start_time": "2021-10-05T11:06:44.951Z"
   },
   {
    "duration": 37,
    "start_time": "2021-10-05T11:06:46.684Z"
   },
   {
    "duration": 27,
    "start_time": "2021-10-05T11:06:58.116Z"
   },
   {
    "duration": 36,
    "start_time": "2021-10-05T11:06:58.585Z"
   },
   {
    "duration": 36,
    "start_time": "2021-10-05T11:09:08.573Z"
   },
   {
    "duration": 36,
    "start_time": "2021-10-05T11:09:23.493Z"
   },
   {
    "duration": 904,
    "start_time": "2021-10-05T11:09:40.120Z"
   },
   {
    "duration": 788,
    "start_time": "2021-10-05T11:38:12.388Z"
   },
   {
    "duration": 810,
    "start_time": "2021-10-05T11:38:17.725Z"
   },
   {
    "duration": 88,
    "start_time": "2021-10-05T11:39:00.435Z"
   },
   {
    "duration": 36,
    "start_time": "2021-10-05T11:39:00.898Z"
   },
   {
    "duration": 15,
    "start_time": "2021-10-05T11:39:02.348Z"
   },
   {
    "duration": 1494,
    "start_time": "2021-10-05T11:39:05.736Z"
   },
   {
    "duration": 114,
    "start_time": "2021-10-05T11:51:36.410Z"
   },
   {
    "duration": 6346,
    "start_time": "2021-10-05T11:51:41.275Z"
   },
   {
    "duration": 95,
    "start_time": "2021-10-05T11:51:53.112Z"
   },
   {
    "duration": 93,
    "start_time": "2021-10-05T11:52:15.657Z"
   },
   {
    "duration": 91,
    "start_time": "2021-10-05T11:52:28.601Z"
   },
   {
    "duration": 276,
    "start_time": "2021-10-05T11:53:06.548Z"
   },
   {
    "duration": 78,
    "start_time": "2021-10-05T11:53:41.265Z"
   },
   {
    "duration": 78,
    "start_time": "2021-10-05T11:53:47.336Z"
   },
   {
    "duration": 14,
    "start_time": "2021-10-05T11:54:02.392Z"
   },
   {
    "duration": 6,
    "start_time": "2021-10-05T11:54:13.498Z"
   },
   {
    "duration": 9,
    "start_time": "2021-10-05T11:54:27.760Z"
   },
   {
    "duration": 43,
    "start_time": "2021-10-05T11:57:23.862Z"
   },
   {
    "duration": 31,
    "start_time": "2021-10-05T11:57:26.407Z"
   },
   {
    "duration": 3637,
    "start_time": "2021-10-05T11:57:51.432Z"
   },
   {
    "duration": 34,
    "start_time": "2021-10-05T11:57:55.073Z"
   },
   {
    "duration": 6,
    "start_time": "2021-10-05T11:58:11.411Z"
   },
   {
    "duration": 111,
    "start_time": "2021-10-05T11:58:48.484Z"
   },
   {
    "duration": 6,
    "start_time": "2021-10-05T11:58:49.113Z"
   },
   {
    "duration": 30,
    "start_time": "2021-10-05T11:58:55.571Z"
   },
   {
    "duration": 7,
    "start_time": "2021-10-05T11:58:56.265Z"
   },
   {
    "duration": 94,
    "start_time": "2021-10-05T11:59:44.663Z"
   },
   {
    "duration": 3606,
    "start_time": "2021-10-05T11:59:49.462Z"
   },
   {
    "duration": 30,
    "start_time": "2021-10-05T11:59:53.071Z"
   },
   {
    "duration": 5,
    "start_time": "2021-10-05T11:59:54.108Z"
   },
   {
    "duration": 3359,
    "start_time": "2021-10-05T12:00:35.130Z"
   },
   {
    "duration": 28,
    "start_time": "2021-10-05T12:00:38.492Z"
   },
   {
    "duration": 4,
    "start_time": "2021-10-05T12:00:40.499Z"
   },
   {
    "duration": 88,
    "start_time": "2021-10-05T12:04:08.815Z"
   },
   {
    "duration": 38,
    "start_time": "2021-10-05T12:04:09.196Z"
   },
   {
    "duration": 17,
    "start_time": "2021-10-05T12:04:09.632Z"
   },
   {
    "duration": 1476,
    "start_time": "2021-10-05T12:04:10.521Z"
   },
   {
    "duration": 19,
    "start_time": "2021-10-05T12:04:12.000Z"
   },
   {
    "duration": 1375,
    "start_time": "2021-10-05T12:04:16.098Z"
   },
   {
    "duration": 102,
    "start_time": "2021-10-05T12:06:27.016Z"
   },
   {
    "duration": 17,
    "start_time": "2021-10-05T12:08:33.371Z"
   },
   {
    "duration": 1303,
    "start_time": "2021-10-05T12:08:34.154Z"
   },
   {
    "duration": 84,
    "start_time": "2021-10-05T12:08:46.753Z"
   },
   {
    "duration": 39,
    "start_time": "2021-10-05T12:08:47.106Z"
   },
   {
    "duration": 18,
    "start_time": "2021-10-05T12:08:47.707Z"
   },
   {
    "duration": 19,
    "start_time": "2021-10-05T12:08:52.835Z"
   },
   {
    "duration": 1375,
    "start_time": "2021-10-05T12:08:53.114Z"
   },
   {
    "duration": 23,
    "start_time": "2021-10-05T12:09:08.394Z"
   },
   {
    "duration": 40,
    "start_time": "2021-10-05T12:09:08.619Z"
   },
   {
    "duration": 1312,
    "start_time": "2021-10-05T12:10:28.240Z"
   },
   {
    "duration": 4,
    "start_time": "2021-10-05T12:10:47.339Z"
   },
   {
    "duration": 1397,
    "start_time": "2021-10-05T12:10:58.184Z"
   },
   {
    "duration": 48,
    "start_time": "2021-10-05T12:11:18.504Z"
   },
   {
    "duration": 10,
    "start_time": "2021-10-05T12:12:15.930Z"
   },
   {
    "duration": 39,
    "start_time": "2021-10-05T12:14:34.440Z"
   },
   {
    "duration": 22,
    "start_time": "2021-10-05T12:18:23.063Z"
   },
   {
    "duration": 38,
    "start_time": "2021-10-05T12:22:40.015Z"
   },
   {
    "duration": 753,
    "start_time": "2021-10-05T12:22:53.280Z"
   },
   {
    "duration": 998,
    "start_time": "2021-10-05T12:24:00.807Z"
   },
   {
    "duration": 269,
    "start_time": "2021-10-05T12:24:25.790Z"
   },
   {
    "duration": 89,
    "start_time": "2021-10-05T12:24:32.671Z"
   },
   {
    "duration": 923,
    "start_time": "2021-10-05T12:24:34.952Z"
   },
   {
    "duration": 860,
    "start_time": "2021-10-05T12:24:48.712Z"
   },
   {
    "duration": 882,
    "start_time": "2021-10-05T12:24:53.237Z"
   },
   {
    "duration": 848,
    "start_time": "2021-10-05T12:25:08.631Z"
   },
   {
    "duration": 861,
    "start_time": "2021-10-05T12:25:16.678Z"
   },
   {
    "duration": 856,
    "start_time": "2021-10-05T12:25:25.575Z"
   },
   {
    "duration": 130,
    "start_time": "2021-10-05T12:25:31.031Z"
   },
   {
    "duration": 891,
    "start_time": "2021-10-05T12:25:35.397Z"
   },
   {
    "duration": 953,
    "start_time": "2021-10-05T12:31:47.715Z"
   },
   {
    "duration": 996,
    "start_time": "2021-10-05T12:32:00.775Z"
   },
   {
    "duration": 928,
    "start_time": "2021-10-05T12:34:21.003Z"
   },
   {
    "duration": 913,
    "start_time": "2021-10-05T12:34:27.611Z"
   },
   {
    "duration": 91,
    "start_time": "2021-10-05T12:34:48.771Z"
   },
   {
    "duration": 934,
    "start_time": "2021-10-05T12:34:54.486Z"
   },
   {
    "duration": 853,
    "start_time": "2021-10-05T12:35:25.229Z"
   },
   {
    "duration": 833,
    "start_time": "2021-10-05T12:35:47.145Z"
   },
   {
    "duration": 822,
    "start_time": "2021-10-05T12:36:03.246Z"
   },
   {
    "duration": 784,
    "start_time": "2021-10-05T12:36:16.802Z"
   },
   {
    "duration": 775,
    "start_time": "2021-10-05T12:36:28.773Z"
   },
   {
    "duration": 785,
    "start_time": "2021-10-05T12:36:31.542Z"
   },
   {
    "duration": 862,
    "start_time": "2021-10-05T12:36:53.310Z"
   },
   {
    "duration": 143,
    "start_time": "2021-10-05T12:37:38.508Z"
   },
   {
    "duration": 771,
    "start_time": "2021-10-05T12:37:40.507Z"
   },
   {
    "duration": 753,
    "start_time": "2021-10-05T12:37:48.539Z"
   },
   {
    "duration": 748,
    "start_time": "2021-10-05T12:38:15.586Z"
   },
   {
    "duration": 280,
    "start_time": "2021-10-05T12:44:47.695Z"
   },
   {
    "duration": 342,
    "start_time": "2021-10-05T12:44:53.030Z"
   },
   {
    "duration": 513,
    "start_time": "2021-10-05T12:45:03.701Z"
   },
   {
    "duration": 345,
    "start_time": "2021-10-05T12:45:40.813Z"
   },
   {
    "duration": 88,
    "start_time": "2021-10-05T12:45:46.366Z"
   },
   {
    "duration": 282,
    "start_time": "2021-10-05T12:45:48.339Z"
   },
   {
    "duration": 346,
    "start_time": "2021-10-05T12:46:06.304Z"
   },
   {
    "duration": 290,
    "start_time": "2021-10-05T12:46:19.567Z"
   },
   {
    "duration": 369,
    "start_time": "2021-10-05T12:46:30.016Z"
   },
   {
    "duration": 301,
    "start_time": "2021-10-05T12:47:33.185Z"
   },
   {
    "duration": 730,
    "start_time": "2021-10-05T12:48:58.098Z"
   },
   {
    "duration": 16,
    "start_time": "2021-10-05T12:49:18.118Z"
   },
   {
    "duration": 724,
    "start_time": "2021-10-05T12:49:23.363Z"
   },
   {
    "duration": 349,
    "start_time": "2021-10-05T12:49:27.623Z"
   },
   {
    "duration": 277,
    "start_time": "2021-10-05T12:50:19.109Z"
   },
   {
    "duration": 291,
    "start_time": "2021-10-05T12:51:16.466Z"
   },
   {
    "duration": 92,
    "start_time": "2021-10-05T12:51:24.800Z"
   },
   {
    "duration": 767,
    "start_time": "2021-10-05T12:53:12.333Z"
   },
   {
    "duration": 312,
    "start_time": "2021-10-05T12:53:31.587Z"
   },
   {
    "duration": 87,
    "start_time": "2021-10-05T12:54:04.491Z"
   },
   {
    "duration": 110,
    "start_time": "2021-10-05T12:54:10.736Z"
   },
   {
    "duration": 153,
    "start_time": "2021-10-05T12:54:13.280Z"
   },
   {
    "duration": 100,
    "start_time": "2021-10-05T12:54:56.263Z"
   },
   {
    "duration": 330,
    "start_time": "2021-10-05T12:55:05.396Z"
   },
   {
    "duration": 360,
    "start_time": "2021-10-05T12:55:18.790Z"
   },
   {
    "duration": 327,
    "start_time": "2021-10-05T12:56:24.013Z"
   },
   {
    "duration": 87,
    "start_time": "2021-10-05T12:56:46.125Z"
   },
   {
    "duration": 101,
    "start_time": "2021-10-05T12:57:27.934Z"
   },
   {
    "duration": 180,
    "start_time": "2021-10-05T12:57:35.407Z"
   },
   {
    "duration": 941,
    "start_time": "2021-10-05T12:57:52.679Z"
   },
   {
    "duration": 250,
    "start_time": "2021-10-05T13:02:58.797Z"
   },
   {
    "duration": 997,
    "start_time": "2021-10-05T13:03:03.909Z"
   },
   {
    "duration": 951,
    "start_time": "2021-10-05T13:45:24.972Z"
   },
   {
    "duration": 998,
    "start_time": "2021-10-05T13:57:26.577Z"
   },
   {
    "duration": 1056,
    "start_time": "2021-10-05T13:59:00.152Z"
   },
   {
    "duration": 2086,
    "start_time": "2021-10-05T13:59:13.324Z"
   },
   {
    "duration": 2005,
    "start_time": "2021-10-05T14:00:19.014Z"
   },
   {
    "duration": 2138,
    "start_time": "2021-10-05T14:01:10.943Z"
   },
   {
    "duration": 511,
    "start_time": "2021-10-05T14:05:47.053Z"
   },
   {
    "duration": 367,
    "start_time": "2021-10-05T14:05:59.202Z"
   },
   {
    "duration": 316,
    "start_time": "2021-10-05T14:06:28.904Z"
   },
   {
    "duration": 354,
    "start_time": "2021-10-05T14:06:33.049Z"
   },
   {
    "duration": 2250,
    "start_time": "2021-10-05T14:06:46.897Z"
   },
   {
    "duration": 2138,
    "start_time": "2021-10-05T14:06:56.786Z"
   },
   {
    "duration": 2189,
    "start_time": "2021-10-05T14:07:07.679Z"
   },
   {
    "duration": 2054,
    "start_time": "2021-10-05T14:07:11.946Z"
   },
   {
    "duration": 2759,
    "start_time": "2021-10-05T14:08:06.122Z"
   },
   {
    "duration": 2166,
    "start_time": "2021-10-05T14:10:38.561Z"
   },
   {
    "duration": 2713,
    "start_time": "2021-10-05T14:33:05.293Z"
   },
   {
    "duration": 3079,
    "start_time": "2021-10-05T14:40:28.347Z"
   },
   {
    "duration": 3378,
    "start_time": "2021-10-05T14:40:51.615Z"
   },
   {
    "duration": 4504,
    "start_time": "2021-10-05T14:41:38.000Z"
   },
   {
    "duration": 653,
    "start_time": "2021-10-05T14:42:30.857Z"
   },
   {
    "duration": 2908,
    "start_time": "2021-10-05T14:43:15.208Z"
   },
   {
    "duration": 2935,
    "start_time": "2021-10-05T14:45:10.262Z"
   },
   {
    "duration": 3073,
    "start_time": "2021-10-05T14:47:32.379Z"
   },
   {
    "duration": 2686,
    "start_time": "2021-10-05T18:09:23.293Z"
   },
   {
    "duration": 1133,
    "start_time": "2021-10-05T18:09:53.260Z"
   },
   {
    "duration": 89,
    "start_time": "2021-10-05T18:10:55.202Z"
   },
   {
    "duration": 100,
    "start_time": "2021-10-05T18:11:15.765Z"
   },
   {
    "duration": 98,
    "start_time": "2021-10-05T18:11:27.935Z"
   },
   {
    "duration": 1931,
    "start_time": "2021-10-05T18:11:41.898Z"
   },
   {
    "duration": 2889,
    "start_time": "2021-10-05T18:11:51.088Z"
   },
   {
    "duration": 1685,
    "start_time": "2021-10-05T18:14:32.158Z"
   },
   {
    "duration": 1977,
    "start_time": "2021-10-05T18:14:51.777Z"
   },
   {
    "duration": 109,
    "start_time": "2021-10-05T18:14:57.988Z"
   },
   {
    "duration": 222,
    "start_time": "2021-10-05T18:15:08.899Z"
   },
   {
    "duration": 2762,
    "start_time": "2021-10-05T18:15:34.960Z"
   },
   {
    "duration": 4265,
    "start_time": "2021-10-06T08:50:34.471Z"
   },
   {
    "duration": 1421,
    "start_time": "2021-10-06T08:50:38.739Z"
   },
   {
    "duration": 86,
    "start_time": "2021-10-06T08:50:40.162Z"
   },
   {
    "duration": 39,
    "start_time": "2021-10-06T08:50:40.251Z"
   },
   {
    "duration": 32,
    "start_time": "2021-10-06T08:50:40.293Z"
   },
   {
    "duration": 1378,
    "start_time": "2021-10-06T08:50:40.327Z"
   },
   {
    "duration": 32,
    "start_time": "2021-10-06T08:50:41.707Z"
   },
   {
    "duration": 38,
    "start_time": "2021-10-06T08:50:41.742Z"
   },
   {
    "duration": 2539,
    "start_time": "2021-10-06T08:50:41.783Z"
   },
   {
    "duration": 113,
    "start_time": "2021-10-06T08:50:44.325Z"
   },
   {
    "duration": 334,
    "start_time": "2021-10-06T08:50:44.441Z"
   },
   {
    "duration": 370,
    "start_time": "2021-10-06T08:50:44.778Z"
   },
   {
    "duration": 17,
    "start_time": "2021-10-06T08:54:39.246Z"
   },
   {
    "duration": 8,
    "start_time": "2021-10-06T08:54:47.322Z"
   },
   {
    "duration": 246,
    "start_time": "2021-10-06T08:55:14.050Z"
   },
   {
    "duration": 240,
    "start_time": "2021-10-06T08:57:24.440Z"
   },
   {
    "duration": 264,
    "start_time": "2021-10-06T08:57:52.081Z"
   },
   {
    "duration": 255,
    "start_time": "2021-10-06T08:57:58.798Z"
   },
   {
    "duration": 11,
    "start_time": "2021-10-06T08:58:51.570Z"
   },
   {
    "duration": 8,
    "start_time": "2021-10-06T08:58:53.300Z"
   },
   {
    "duration": 10,
    "start_time": "2021-10-06T08:58:56.902Z"
   },
   {
    "duration": 7,
    "start_time": "2021-10-06T08:58:57.667Z"
   },
   {
    "duration": 10,
    "start_time": "2021-10-06T08:59:06.621Z"
   },
   {
    "duration": 8,
    "start_time": "2021-10-06T08:59:06.940Z"
   },
   {
    "duration": 7,
    "start_time": "2021-10-06T08:59:36.751Z"
   },
   {
    "duration": 11,
    "start_time": "2021-10-06T08:59:40.802Z"
   },
   {
    "duration": 7,
    "start_time": "2021-10-06T08:59:41.072Z"
   },
   {
    "duration": 35,
    "start_time": "2021-10-06T08:59:45.794Z"
   },
   {
    "duration": 38,
    "start_time": "2021-10-06T08:59:48.767Z"
   },
   {
    "duration": 30,
    "start_time": "2021-10-06T09:01:20.080Z"
   },
   {
    "duration": 7,
    "start_time": "2021-10-06T09:01:21.090Z"
   },
   {
    "duration": 37,
    "start_time": "2021-10-06T09:01:25.118Z"
   },
   {
    "duration": 8,
    "start_time": "2021-10-06T09:01:50.655Z"
   },
   {
    "duration": 7,
    "start_time": "2021-10-06T09:01:59.033Z"
   },
   {
    "duration": 7,
    "start_time": "2021-10-06T09:02:00.690Z"
   },
   {
    "duration": 244,
    "start_time": "2021-10-06T09:02:08.204Z"
   },
   {
    "duration": 249,
    "start_time": "2021-10-06T09:02:11.867Z"
   },
   {
    "duration": 16,
    "start_time": "2021-10-06T09:02:30.432Z"
   },
   {
    "duration": 245,
    "start_time": "2021-10-06T09:02:32.406Z"
   },
   {
    "duration": 5,
    "start_time": "2021-10-06T09:02:38.994Z"
   },
   {
    "duration": 8,
    "start_time": "2021-10-06T09:02:40.239Z"
   },
   {
    "duration": 18,
    "start_time": "2021-10-06T09:02:51.968Z"
   },
   {
    "duration": 5,
    "start_time": "2021-10-06T09:02:52.485Z"
   },
   {
    "duration": 8,
    "start_time": "2021-10-06T09:02:53.180Z"
   },
   {
    "duration": 5,
    "start_time": "2021-10-06T09:03:07.931Z"
   },
   {
    "duration": 7,
    "start_time": "2021-10-06T09:03:08.362Z"
   },
   {
    "duration": 4,
    "start_time": "2021-10-06T09:03:12.000Z"
   },
   {
    "duration": 7,
    "start_time": "2021-10-06T09:03:12.750Z"
   },
   {
    "duration": 4,
    "start_time": "2021-10-06T09:03:23.296Z"
   },
   {
    "duration": 7,
    "start_time": "2021-10-06T09:03:24.664Z"
   },
   {
    "duration": 35,
    "start_time": "2021-10-06T09:03:32.622Z"
   },
   {
    "duration": 8,
    "start_time": "2021-10-06T09:03:45.103Z"
   },
   {
    "duration": 8,
    "start_time": "2021-10-06T09:03:46.514Z"
   },
   {
    "duration": 5,
    "start_time": "2021-10-06T09:03:50.548Z"
   },
   {
    "duration": 8,
    "start_time": "2021-10-06T09:03:50.858Z"
   },
   {
    "duration": 7,
    "start_time": "2021-10-06T09:03:54.478Z"
   },
   {
    "duration": 11,
    "start_time": "2021-10-06T09:04:15.934Z"
   },
   {
    "duration": 10,
    "start_time": "2021-10-06T09:04:24.010Z"
   },
   {
    "duration": 7,
    "start_time": "2021-10-06T09:04:24.920Z"
   },
   {
    "duration": 9,
    "start_time": "2021-10-06T09:04:29.239Z"
   },
   {
    "duration": 7,
    "start_time": "2021-10-06T09:04:29.594Z"
   },
   {
    "duration": 36,
    "start_time": "2021-10-06T09:04:33.053Z"
   },
   {
    "duration": 11,
    "start_time": "2021-10-06T09:04:38.716Z"
   },
   {
    "duration": 273,
    "start_time": "2021-10-06T09:05:21.221Z"
   },
   {
    "duration": 9,
    "start_time": "2021-10-06T09:05:24.236Z"
   },
   {
    "duration": 7,
    "start_time": "2021-10-06T09:05:26.294Z"
   },
   {
    "duration": 266,
    "start_time": "2021-10-06T09:05:37.992Z"
   },
   {
    "duration": 17,
    "start_time": "2021-10-06T09:06:11.218Z"
   },
   {
    "duration": 7,
    "start_time": "2021-10-06T09:06:13.752Z"
   },
   {
    "duration": 7,
    "start_time": "2021-10-06T09:06:16.622Z"
   },
   {
    "duration": 18,
    "start_time": "2021-10-06T09:06:18.871Z"
   },
   {
    "duration": 8,
    "start_time": "2021-10-06T09:06:20.483Z"
   },
   {
    "duration": 282,
    "start_time": "2021-10-06T09:16:19.406Z"
   },
   {
    "duration": 10,
    "start_time": "2021-10-06T09:16:33.977Z"
   },
   {
    "duration": 252,
    "start_time": "2021-10-06T09:16:53.059Z"
   },
   {
    "duration": 364,
    "start_time": "2021-10-06T09:17:04.330Z"
   },
   {
    "duration": 11,
    "start_time": "2021-10-06T09:17:15.679Z"
   },
   {
    "duration": 10,
    "start_time": "2021-10-06T09:17:47.614Z"
   },
   {
    "duration": 11,
    "start_time": "2021-10-06T09:17:49.921Z"
   },
   {
    "duration": 21,
    "start_time": "2021-10-06T09:20:40.671Z"
   },
   {
    "duration": 7,
    "start_time": "2021-10-06T09:20:42.396Z"
   },
   {
    "duration": 236,
    "start_time": "2021-10-06T09:20:54.930Z"
   },
   {
    "duration": 11,
    "start_time": "2021-10-06T09:20:58.277Z"
   },
   {
    "duration": 7,
    "start_time": "2021-10-06T09:20:59.117Z"
   },
   {
    "duration": 30,
    "start_time": "2021-10-06T09:26:31.813Z"
   },
   {
    "duration": 29,
    "start_time": "2021-10-06T09:33:39.822Z"
   },
   {
    "duration": 202,
    "start_time": "2021-10-06T09:33:40.088Z"
   },
   {
    "duration": 245,
    "start_time": "2021-10-06T09:34:27.998Z"
   },
   {
    "duration": 291,
    "start_time": "2021-10-06T09:35:14.920Z"
   },
   {
    "duration": 78,
    "start_time": "2021-10-06T09:35:18.021Z"
   },
   {
    "duration": 14,
    "start_time": "2021-10-06T09:35:21.282Z"
   },
   {
    "duration": 13,
    "start_time": "2021-10-06T09:35:48.935Z"
   },
   {
    "duration": 14,
    "start_time": "2021-10-06T09:38:29.735Z"
   },
   {
    "duration": 4,
    "start_time": "2021-10-06T10:05:06.184Z"
   },
   {
    "duration": 270,
    "start_time": "2021-10-06T10:05:31.383Z"
   },
   {
    "duration": 15,
    "start_time": "2021-10-06T10:05:45.886Z"
   },
   {
    "duration": 16,
    "start_time": "2021-10-06T10:05:55.157Z"
   },
   {
    "duration": 8093,
    "start_time": "2021-10-06T10:07:02.670Z"
   },
   {
    "duration": 1070,
    "start_time": "2021-10-06T10:07:11.900Z"
   },
   {
    "duration": 6,
    "start_time": "2021-10-06T10:08:04.733Z"
   },
   {
    "duration": 67,
    "start_time": "2021-10-06T10:08:11.229Z"
   },
   {
    "duration": 8,
    "start_time": "2021-10-06T10:08:22.786Z"
   },
   {
    "duration": 24,
    "start_time": "2021-10-06T10:09:19.755Z"
   },
   {
    "duration": 8,
    "start_time": "2021-10-06T10:09:27.292Z"
   },
   {
    "duration": 25,
    "start_time": "2021-10-06T10:09:52.565Z"
   },
   {
    "duration": 45,
    "start_time": "2021-10-06T10:10:47.628Z"
   },
   {
    "duration": 44,
    "start_time": "2021-10-06T10:10:53.483Z"
   },
   {
    "duration": 44,
    "start_time": "2021-10-06T10:10:57.690Z"
   },
   {
    "duration": 46,
    "start_time": "2021-10-06T10:11:05.792Z"
   },
   {
    "duration": 404,
    "start_time": "2021-10-06T10:14:02.040Z"
   },
   {
    "duration": 12,
    "start_time": "2021-10-06T10:14:41.887Z"
   },
   {
    "duration": 66,
    "start_time": "2021-10-06T10:16:41.823Z"
   },
   {
    "duration": 31,
    "start_time": "2021-10-06T10:17:08.850Z"
   },
   {
    "duration": 35,
    "start_time": "2021-10-06T10:18:14.359Z"
   },
   {
    "duration": 63,
    "start_time": "2021-10-06T10:19:36.851Z"
   },
   {
    "duration": 57,
    "start_time": "2021-10-06T10:19:44.067Z"
   },
   {
    "duration": 57,
    "start_time": "2021-10-06T10:19:51.228Z"
   },
   {
    "duration": 25,
    "start_time": "2021-10-06T10:20:01.714Z"
   },
   {
    "duration": 1286,
    "start_time": "2021-10-06T10:22:37.452Z"
   },
   {
    "duration": 3058,
    "start_time": "2021-10-06T10:23:00.971Z"
   },
   {
    "duration": 5,
    "start_time": "2021-10-06T10:23:04.033Z"
   },
   {
    "duration": 99,
    "start_time": "2021-10-06T10:23:04.041Z"
   },
   {
    "duration": 35,
    "start_time": "2021-10-06T10:23:04.143Z"
   },
   {
    "duration": 30,
    "start_time": "2021-10-06T10:23:04.180Z"
   },
   {
    "duration": 1439,
    "start_time": "2021-10-06T10:23:04.212Z"
   },
   {
    "duration": 23,
    "start_time": "2021-10-06T10:23:05.653Z"
   },
   {
    "duration": 54,
    "start_time": "2021-10-06T10:23:05.680Z"
   },
   {
    "duration": 327,
    "start_time": "2021-10-06T10:23:05.737Z"
   },
   {
    "duration": 15,
    "start_time": "2021-10-06T10:23:06.067Z"
   },
   {
    "duration": 47,
    "start_time": "2021-10-06T10:23:06.084Z"
   },
   {
    "duration": 127,
    "start_time": "2021-10-06T10:23:06.134Z"
   },
   {
    "duration": 1071,
    "start_time": "2021-10-06T10:23:06.263Z"
   },
   {
    "duration": 8,
    "start_time": "2021-10-06T10:23:07.336Z"
   },
   {
    "duration": 19,
    "start_time": "2021-10-06T10:23:07.346Z"
   },
   {
    "duration": 40,
    "start_time": "2021-10-06T10:23:07.368Z"
   },
   {
    "duration": 15,
    "start_time": "2021-10-06T10:23:45.826Z"
   },
   {
    "duration": 2485,
    "start_time": "2021-10-06T10:29:56.506Z"
   },
   {
    "duration": 30,
    "start_time": "2021-10-06T10:29:58.994Z"
   },
   {
    "duration": 2298,
    "start_time": "2021-10-06T10:31:32.024Z"
   },
   {
    "duration": 14,
    "start_time": "2021-10-06T10:31:36.067Z"
   },
   {
    "duration": 2408,
    "start_time": "2021-10-06T10:32:27.885Z"
   },
   {
    "duration": 13,
    "start_time": "2021-10-06T10:32:30.295Z"
   },
   {
    "duration": 3627,
    "start_time": "2021-10-06T10:32:34.457Z"
   },
   {
    "duration": 4,
    "start_time": "2021-10-06T10:32:38.087Z"
   },
   {
    "duration": 102,
    "start_time": "2021-10-06T10:32:38.094Z"
   },
   {
    "duration": 36,
    "start_time": "2021-10-06T10:32:38.199Z"
   },
   {
    "duration": 31,
    "start_time": "2021-10-06T10:32:38.237Z"
   },
   {
    "duration": 1382,
    "start_time": "2021-10-06T10:32:38.271Z"
   },
   {
    "duration": 24,
    "start_time": "2021-10-06T10:32:39.655Z"
   },
   {
    "duration": 49,
    "start_time": "2021-10-06T10:32:39.682Z"
   },
   {
    "duration": 333,
    "start_time": "2021-10-06T10:32:39.734Z"
   },
   {
    "duration": 14,
    "start_time": "2021-10-06T10:32:40.070Z"
   },
   {
    "duration": 12,
    "start_time": "2021-10-06T10:32:40.123Z"
   },
   {
    "duration": 105,
    "start_time": "2021-10-06T10:32:41.041Z"
   },
   {
    "duration": 2300,
    "start_time": "2021-10-06T10:32:42.972Z"
   },
   {
    "duration": 11,
    "start_time": "2021-10-06T10:32:45.275Z"
   },
   {
    "duration": 14,
    "start_time": "2021-10-06T10:33:02.926Z"
   },
   {
    "duration": 10,
    "start_time": "2021-10-06T10:38:05.891Z"
   },
   {
    "duration": 82,
    "start_time": "2021-10-06T10:38:53.179Z"
   },
   {
    "duration": 9,
    "start_time": "2021-10-06T10:41:14.333Z"
   },
   {
    "duration": 7,
    "start_time": "2021-10-06T10:41:16.524Z"
   },
   {
    "duration": 17,
    "start_time": "2021-10-06T10:42:25.417Z"
   },
   {
    "duration": 7,
    "start_time": "2021-10-06T10:42:27.089Z"
   },
   {
    "duration": 16,
    "start_time": "2021-10-06T10:42:49.992Z"
   },
   {
    "duration": 7,
    "start_time": "2021-10-06T10:42:50.980Z"
   },
   {
    "duration": 14,
    "start_time": "2021-10-06T10:43:45.202Z"
   },
   {
    "duration": 15,
    "start_time": "2021-10-06T10:44:04.758Z"
   },
   {
    "duration": 8,
    "start_time": "2021-10-06T10:44:06.631Z"
   },
   {
    "duration": 19,
    "start_time": "2021-10-06T10:44:40.435Z"
   },
   {
    "duration": 7,
    "start_time": "2021-10-06T10:44:41.637Z"
   },
   {
    "duration": 32,
    "start_time": "2021-10-06T10:45:52.087Z"
   },
   {
    "duration": 7,
    "start_time": "2021-10-06T10:45:53.225Z"
   },
   {
    "duration": 55,
    "start_time": "2021-10-06T10:46:03.982Z"
   },
   {
    "duration": 8,
    "start_time": "2021-10-06T10:46:04.457Z"
   },
   {
    "duration": 7,
    "start_time": "2021-10-06T11:02:56.250Z"
   },
   {
    "duration": 18,
    "start_time": "2021-10-06T11:04:05.467Z"
   },
   {
    "duration": 7,
    "start_time": "2021-10-06T11:04:10.263Z"
   },
   {
    "duration": 166,
    "start_time": "2021-10-06T11:05:45.111Z"
   },
   {
    "duration": 7,
    "start_time": "2021-10-06T11:05:48.435Z"
   },
   {
    "duration": 2419,
    "start_time": "2021-10-06T11:06:25.364Z"
   },
   {
    "duration": -673,
    "start_time": "2021-10-06T11:06:28.459Z"
   },
   {
    "duration": 2645,
    "start_time": "2021-10-06T11:06:31.925Z"
   },
   {
    "duration": 9,
    "start_time": "2021-10-06T11:06:37.705Z"
   },
   {
    "duration": 27,
    "start_time": "2021-10-06T11:06:38.223Z"
   },
   {
    "duration": 11,
    "start_time": "2021-10-06T11:07:06.800Z"
   },
   {
    "duration": 2411,
    "start_time": "2021-10-06T11:07:12.807Z"
   },
   {
    "duration": 8,
    "start_time": "2021-10-06T11:07:18.023Z"
   },
   {
    "duration": 3,
    "start_time": "2021-10-06T11:07:22.981Z"
   },
   {
    "duration": 106,
    "start_time": "2021-10-06T11:07:23.422Z"
   },
   {
    "duration": 36,
    "start_time": "2021-10-06T11:07:23.607Z"
   },
   {
    "duration": 15,
    "start_time": "2021-10-06T11:07:23.783Z"
   },
   {
    "duration": 1350,
    "start_time": "2021-10-06T11:07:24.122Z"
   },
   {
    "duration": 20,
    "start_time": "2021-10-06T11:07:25.475Z"
   },
   {
    "duration": 49,
    "start_time": "2021-10-06T11:07:25.498Z"
   },
   {
    "duration": 334,
    "start_time": "2021-10-06T11:07:25.549Z"
   },
   {
    "duration": 18,
    "start_time": "2021-10-06T11:07:25.941Z"
   },
   {
    "duration": 12,
    "start_time": "2021-10-06T11:07:30.367Z"
   },
   {
    "duration": 2294,
    "start_time": "2021-10-06T11:07:30.881Z"
   },
   {
    "duration": 7,
    "start_time": "2021-10-06T11:07:55.363Z"
   },
   {
    "duration": 164,
    "start_time": "2021-10-06T11:07:59.771Z"
   },
   {
    "duration": 7,
    "start_time": "2021-10-06T11:08:02.511Z"
   },
   {
    "duration": 19,
    "start_time": "2021-10-06T11:08:05.585Z"
   },
   {
    "duration": 6,
    "start_time": "2021-10-06T11:08:37.906Z"
   },
   {
    "duration": 7,
    "start_time": "2021-10-06T11:08:41.519Z"
   },
   {
    "duration": 3287,
    "start_time": "2021-10-06T11:09:35.615Z"
   },
   {
    "duration": 4,
    "start_time": "2021-10-06T11:09:38.905Z"
   },
   {
    "duration": 91,
    "start_time": "2021-10-06T11:09:38.913Z"
   },
   {
    "duration": 35,
    "start_time": "2021-10-06T11:09:39.007Z"
   },
   {
    "duration": 33,
    "start_time": "2021-10-06T11:09:39.045Z"
   },
   {
    "duration": 1762,
    "start_time": "2021-10-06T11:09:39.080Z"
   },
   {
    "duration": 21,
    "start_time": "2021-10-06T11:09:40.845Z"
   },
   {
    "duration": 41,
    "start_time": "2021-10-06T11:09:40.870Z"
   },
   {
    "duration": 347,
    "start_time": "2021-10-06T11:09:40.922Z"
   },
   {
    "duration": 14,
    "start_time": "2021-10-06T11:09:41.272Z"
   },
   {
    "duration": 10,
    "start_time": "2021-10-06T11:09:41.323Z"
   },
   {
    "duration": 108,
    "start_time": "2021-10-06T11:09:41.694Z"
   },
   {
    "duration": 11,
    "start_time": "2021-10-06T11:09:43.576Z"
   },
   {
    "duration": 2322,
    "start_time": "2021-10-06T11:09:43.751Z"
   },
   {
    "duration": 10,
    "start_time": "2021-10-06T11:09:46.076Z"
   },
   {
    "duration": 12,
    "start_time": "2021-10-06T11:09:46.089Z"
   },
   {
    "duration": 1696,
    "start_time": "2021-10-06T11:09:47.657Z"
   },
   {
    "duration": 21,
    "start_time": "2021-10-06T11:10:00.632Z"
   },
   {
    "duration": 8,
    "start_time": "2021-10-06T11:10:01.775Z"
   },
   {
    "duration": 14,
    "start_time": "2021-10-06T11:11:03.838Z"
   },
   {
    "duration": 8,
    "start_time": "2021-10-06T11:11:04.882Z"
   },
   {
    "duration": 7,
    "start_time": "2021-10-06T11:11:07.069Z"
   },
   {
    "duration": 7,
    "start_time": "2021-10-06T11:11:20.493Z"
   },
   {
    "duration": 9,
    "start_time": "2021-10-06T11:11:22.546Z"
   },
   {
    "duration": 3044,
    "start_time": "2021-10-06T11:14:13.495Z"
   },
   {
    "duration": 185,
    "start_time": "2021-10-06T11:14:34.642Z"
   },
   {
    "duration": 8,
    "start_time": "2021-10-06T11:14:36.413Z"
   },
   {
    "duration": 7,
    "start_time": "2021-10-06T11:14:42.914Z"
   },
   {
    "duration": 187,
    "start_time": "2021-10-06T11:14:49.951Z"
   },
   {
    "duration": 7,
    "start_time": "2021-10-06T11:14:51.635Z"
   },
   {
    "duration": 14,
    "start_time": "2021-10-06T11:15:01.714Z"
   },
   {
    "duration": 8,
    "start_time": "2021-10-06T11:15:04.207Z"
   },
   {
    "duration": 347,
    "start_time": "2021-10-07T13:55:15.518Z"
   },
   {
    "duration": 4585,
    "start_time": "2021-10-07T13:55:21.538Z"
   },
   {
    "duration": 1534,
    "start_time": "2021-10-07T13:55:26.126Z"
   },
   {
    "duration": 93,
    "start_time": "2021-10-07T13:55:27.663Z"
   },
   {
    "duration": 52,
    "start_time": "2021-10-07T13:55:27.759Z"
   },
   {
    "duration": 17,
    "start_time": "2021-10-07T13:55:27.814Z"
   },
   {
    "duration": 1405,
    "start_time": "2021-10-07T13:55:27.834Z"
   },
   {
    "duration": 22,
    "start_time": "2021-10-07T13:55:29.241Z"
   },
   {
    "duration": 36,
    "start_time": "2021-10-07T13:55:29.283Z"
   },
   {
    "duration": 399,
    "start_time": "2021-10-07T13:55:29.321Z"
   },
   {
    "duration": 14,
    "start_time": "2021-10-07T13:55:29.723Z"
   },
   {
    "duration": 51,
    "start_time": "2021-10-07T13:55:29.740Z"
   },
   {
    "duration": 119,
    "start_time": "2021-10-07T13:55:29.794Z"
   },
   {
    "duration": 11,
    "start_time": "2021-10-07T13:55:29.916Z"
   },
   {
    "duration": 2352,
    "start_time": "2021-10-07T13:55:29.930Z"
   },
   {
    "duration": 10,
    "start_time": "2021-10-07T13:55:32.285Z"
   },
   {
    "duration": 24,
    "start_time": "2021-10-07T13:55:32.297Z"
   },
   {
    "duration": 7,
    "start_time": "2021-10-07T13:55:32.324Z"
   },
   {
    "duration": 64,
    "start_time": "2021-10-07T13:55:32.334Z"
   },
   {
    "duration": 11,
    "start_time": "2021-10-07T13:55:32.401Z"
   },
   {
    "duration": 7,
    "start_time": "2021-10-07T13:55:39.751Z"
   },
   {
    "duration": 356,
    "start_time": "2021-10-07T13:55:46.980Z"
   },
   {
    "duration": 10,
    "start_time": "2021-10-07T14:00:35.761Z"
   },
   {
    "duration": 5,
    "start_time": "2021-10-07T14:00:40.828Z"
   },
   {
    "duration": 8,
    "start_time": "2021-10-07T14:00:42.217Z"
   },
   {
    "duration": 283,
    "start_time": "2021-10-07T14:04:12.520Z"
   },
   {
    "duration": 312,
    "start_time": "2021-10-07T14:04:17.298Z"
   },
   {
    "duration": 324,
    "start_time": "2021-10-07T14:04:20.100Z"
   },
   {
    "duration": 12,
    "start_time": "2021-10-07T14:04:31.878Z"
   },
   {
    "duration": 291,
    "start_time": "2021-10-07T14:04:37.358Z"
   },
   {
    "duration": 21,
    "start_time": "2021-10-07T14:04:47.485Z"
   },
   {
    "duration": 4582,
    "start_time": "2021-10-07T14:21:31.303Z"
   },
   {
    "duration": 475,
    "start_time": "2021-10-07T14:25:26.657Z"
   },
   {
    "duration": 899,
    "start_time": "2021-10-07T14:28:48.400Z"
   },
   {
    "duration": 5255,
    "start_time": "2021-10-07T14:28:52.073Z"
   },
   {
    "duration": 1364,
    "start_time": "2021-10-07T14:29:52.389Z"
   },
   {
    "duration": 841,
    "start_time": "2021-10-07T14:32:49.973Z"
   },
   {
    "duration": 5406,
    "start_time": "2021-10-07T14:33:14.455Z"
   },
   {
    "duration": 4074,
    "start_time": "2021-10-07T14:33:21.543Z"
   },
   {
    "duration": 8,
    "start_time": "2021-10-07T14:37:02.506Z"
   },
   {
    "duration": 5,
    "start_time": "2021-10-07T14:37:03.892Z"
   },
   {
    "duration": 6085,
    "start_time": "2021-10-07T14:37:04.045Z"
   },
   {
    "duration": 816,
    "start_time": "2021-10-07T14:37:26.450Z"
   },
   {
    "duration": 932,
    "start_time": "2021-10-07T14:37:46.984Z"
   },
   {
    "duration": 8,
    "start_time": "2021-10-07T14:37:53.129Z"
   },
   {
    "duration": 30,
    "start_time": "2021-10-07T14:38:12.045Z"
   },
   {
    "duration": 10,
    "start_time": "2021-10-07T14:43:39.543Z"
   },
   {
    "duration": 292,
    "start_time": "2021-10-07T14:44:22.055Z"
   },
   {
    "duration": 16,
    "start_time": "2021-10-07T14:45:00.498Z"
   },
   {
    "duration": 41,
    "start_time": "2021-10-07T14:45:16.449Z"
   },
   {
    "duration": 40,
    "start_time": "2021-10-07T14:46:11.906Z"
   },
   {
    "duration": 43,
    "start_time": "2021-10-07T14:46:20.057Z"
   },
   {
    "duration": 40,
    "start_time": "2021-10-07T14:46:26.583Z"
   },
   {
    "duration": 48,
    "start_time": "2021-10-07T14:47:24.040Z"
   },
   {
    "duration": 7748,
    "start_time": "2021-10-07T14:49:52.627Z"
   },
   {
    "duration": 8,
    "start_time": "2021-10-07T14:50:54.603Z"
   },
   {
    "duration": 6,
    "start_time": "2021-10-07T14:53:42.418Z"
   },
   {
    "duration": 7,
    "start_time": "2021-10-07T14:53:48.792Z"
   },
   {
    "duration": 7,
    "start_time": "2021-10-07T14:54:17.621Z"
   },
   {
    "duration": 6,
    "start_time": "2021-10-07T14:54:28.568Z"
   },
   {
    "duration": 56,
    "start_time": "2021-10-07T14:54:37.996Z"
   },
   {
    "duration": 4549,
    "start_time": "2021-10-07T14:54:50.697Z"
   },
   {
    "duration": 5018,
    "start_time": "2021-10-07T14:54:59.122Z"
   },
   {
    "duration": 5082,
    "start_time": "2021-10-07T14:55:14.662Z"
   },
   {
    "duration": 1012,
    "start_time": "2021-10-07T14:56:01.384Z"
   },
   {
    "duration": 5025,
    "start_time": "2021-10-07T14:56:21.347Z"
   },
   {
    "duration": 4,
    "start_time": "2021-10-07T15:52:39.116Z"
   },
   {
    "duration": 3501,
    "start_time": "2021-10-07T15:52:53.546Z"
   },
   {
    "duration": 308,
    "start_time": "2021-10-07T15:52:58.682Z"
   },
   {
    "duration": 118,
    "start_time": "2021-10-07T15:53:08.845Z"
   },
   {
    "duration": 321,
    "start_time": "2021-10-07T15:53:12.409Z"
   },
   {
    "duration": 327,
    "start_time": "2021-10-07T15:54:06.773Z"
   },
   {
    "duration": 575,
    "start_time": "2021-10-07T15:54:10.470Z"
   },
   {
    "duration": 4,
    "start_time": "2021-10-07T15:54:30.921Z"
   },
   {
    "duration": 6,
    "start_time": "2021-10-07T15:54:47.256Z"
   },
   {
    "duration": 342,
    "start_time": "2021-10-07T15:55:06.015Z"
   },
   {
    "duration": 319,
    "start_time": "2021-10-07T15:55:12.092Z"
   },
   {
    "duration": 7,
    "start_time": "2021-10-07T15:55:17.558Z"
   },
   {
    "duration": 105,
    "start_time": "2021-10-07T15:55:27.770Z"
   },
   {
    "duration": 7,
    "start_time": "2021-10-07T15:55:30.200Z"
   },
   {
    "duration": 297,
    "start_time": "2021-10-07T15:57:42.512Z"
   },
   {
    "duration": 329,
    "start_time": "2021-10-07T15:58:02.887Z"
   },
   {
    "duration": 3,
    "start_time": "2021-10-07T15:58:07.509Z"
   },
   {
    "duration": 4,
    "start_time": "2021-10-07T15:58:16.975Z"
   },
   {
    "duration": 8,
    "start_time": "2021-10-07T15:58:24.981Z"
   },
   {
    "duration": 35,
    "start_time": "2021-10-07T15:59:24.473Z"
   },
   {
    "duration": 9,
    "start_time": "2021-10-07T15:59:29.011Z"
   },
   {
    "duration": 300,
    "start_time": "2021-10-07T15:59:34.385Z"
   },
   {
    "duration": 6,
    "start_time": "2021-10-07T15:59:39.721Z"
   },
   {
    "duration": 17,
    "start_time": "2021-10-07T16:00:26.066Z"
   },
   {
    "duration": 8,
    "start_time": "2021-10-07T16:00:32.522Z"
   },
   {
    "duration": 7883,
    "start_time": "2021-10-07T16:00:59.062Z"
   },
   {
    "duration": 2635,
    "start_time": "2021-10-07T16:01:27.379Z"
   },
   {
    "duration": 1880,
    "start_time": "2021-10-07T16:01:40.150Z"
   },
   {
    "duration": 1584,
    "start_time": "2021-10-07T16:01:47.594Z"
   },
   {
    "duration": 1508,
    "start_time": "2021-10-07T16:01:59.509Z"
   },
   {
    "duration": 9,
    "start_time": "2021-10-07T16:02:54.952Z"
   },
   {
    "duration": 90,
    "start_time": "2021-10-07T16:03:07.170Z"
   },
   {
    "duration": 385,
    "start_time": "2021-10-07T16:03:12.469Z"
   },
   {
    "duration": 304,
    "start_time": "2021-10-07T16:03:19.371Z"
   },
   {
    "duration": 371,
    "start_time": "2021-10-07T16:03:21.988Z"
   },
   {
    "duration": 371,
    "start_time": "2021-10-07T16:03:25.863Z"
   },
   {
    "duration": 645,
    "start_time": "2021-10-07T16:03:29.344Z"
   },
   {
    "duration": 353,
    "start_time": "2021-10-07T16:03:34.929Z"
   },
   {
    "duration": 844,
    "start_time": "2021-10-07T16:03:39.348Z"
   },
   {
    "duration": 305,
    "start_time": "2021-10-07T16:04:15.412Z"
   },
   {
    "duration": 272,
    "start_time": "2021-10-07T16:05:10.870Z"
   },
   {
    "duration": 288,
    "start_time": "2021-10-07T16:05:15.209Z"
   },
   {
    "duration": 2299,
    "start_time": "2021-10-07T16:08:01.532Z"
   },
   {
    "duration": 304,
    "start_time": "2021-10-07T16:09:31.643Z"
   },
   {
    "duration": 35,
    "start_time": "2021-10-07T16:09:47.244Z"
   },
   {
    "duration": 2482,
    "start_time": "2021-10-07T16:10:17.608Z"
   },
   {
    "duration": 2469,
    "start_time": "2021-10-07T16:10:35.054Z"
   },
   {
    "duration": 596,
    "start_time": "2021-10-07T16:11:10.894Z"
   },
   {
    "duration": 444,
    "start_time": "2021-10-07T16:11:23.341Z"
   },
   {
    "duration": 102,
    "start_time": "2021-10-07T16:12:54.090Z"
   },
   {
    "duration": 4,
    "start_time": "2021-10-07T16:12:55.983Z"
   },
   {
    "duration": 4,
    "start_time": "2021-10-07T16:13:01.221Z"
   },
   {
    "duration": 287,
    "start_time": "2021-10-07T16:13:13.768Z"
   },
   {
    "duration": 8967,
    "start_time": "2021-10-07T16:13:25.578Z"
   },
   {
    "duration": 333,
    "start_time": "2021-10-07T16:14:14.380Z"
   },
   {
    "duration": 10974,
    "start_time": "2021-10-07T16:14:28.893Z"
   },
   {
    "duration": 21264,
    "start_time": "2021-10-07T16:16:12.414Z"
   },
   {
    "duration": 370,
    "start_time": "2021-10-07T16:17:25.831Z"
   },
   {
    "duration": 13929,
    "start_time": "2021-10-07T16:17:29.646Z"
   },
   {
    "duration": 368,
    "start_time": "2021-10-08T07:22:25.864Z"
   },
   {
    "duration": 4855,
    "start_time": "2021-10-08T07:22:32.265Z"
   },
   {
    "duration": 1507,
    "start_time": "2021-10-08T07:22:37.123Z"
   },
   {
    "duration": 86,
    "start_time": "2021-10-08T07:22:38.633Z"
   },
   {
    "duration": 48,
    "start_time": "2021-10-08T07:22:38.722Z"
   },
   {
    "duration": 16,
    "start_time": "2021-10-08T07:22:38.772Z"
   },
   {
    "duration": 1462,
    "start_time": "2021-10-08T07:22:38.791Z"
   },
   {
    "duration": 31,
    "start_time": "2021-10-08T07:22:40.256Z"
   },
   {
    "duration": 34,
    "start_time": "2021-10-08T07:22:40.290Z"
   },
   {
    "duration": 385,
    "start_time": "2021-10-08T07:22:40.327Z"
   },
   {
    "duration": 16,
    "start_time": "2021-10-08T07:22:42.821Z"
   },
   {
    "duration": 11,
    "start_time": "2021-10-08T07:22:43.785Z"
   },
   {
    "duration": 2657,
    "start_time": "2021-10-08T07:22:44.672Z"
   },
   {
    "duration": 133,
    "start_time": "2021-10-08T07:25:50.862Z"
   },
   {
    "duration": 114,
    "start_time": "2021-10-08T07:34:31.568Z"
   },
   {
    "duration": 8,
    "start_time": "2021-10-08T07:54:00.885Z"
   },
   {
    "duration": 23,
    "start_time": "2021-10-08T07:54:05.920Z"
   },
   {
    "duration": 3094,
    "start_time": "2021-10-08T07:54:11.154Z"
   },
   {
    "duration": 4,
    "start_time": "2021-10-08T07:54:14.251Z"
   },
   {
    "duration": 101,
    "start_time": "2021-10-08T07:54:14.258Z"
   },
   {
    "duration": 36,
    "start_time": "2021-10-08T07:54:14.361Z"
   },
   {
    "duration": 17,
    "start_time": "2021-10-08T07:54:14.400Z"
   },
   {
    "duration": 1600,
    "start_time": "2021-10-08T07:54:14.419Z"
   },
   {
    "duration": 22,
    "start_time": "2021-10-08T07:54:16.022Z"
   },
   {
    "duration": 46,
    "start_time": "2021-10-08T07:54:16.047Z"
   },
   {
    "duration": 328,
    "start_time": "2021-10-08T07:54:16.095Z"
   },
   {
    "duration": 47,
    "start_time": "2021-10-08T07:54:16.425Z"
   },
   {
    "duration": 12,
    "start_time": "2021-10-08T07:54:20.001Z"
   },
   {
    "duration": 22,
    "start_time": "2021-10-08T07:54:21.881Z"
   },
   {
    "duration": 354,
    "start_time": "2021-10-08T07:54:57.858Z"
   },
   {
    "duration": 60,
    "start_time": "2021-10-08T07:55:07.779Z"
   },
   {
    "duration": 74,
    "start_time": "2021-10-08T07:55:42.673Z"
   },
   {
    "duration": 62,
    "start_time": "2021-10-08T07:55:58.481Z"
   },
   {
    "duration": 57,
    "start_time": "2021-10-08T07:56:15.948Z"
   },
   {
    "duration": 41,
    "start_time": "2021-10-08T07:56:31.019Z"
   },
   {
    "duration": 71,
    "start_time": "2021-10-08T07:56:37.012Z"
   },
   {
    "duration": 60,
    "start_time": "2021-10-08T07:57:25.792Z"
   },
   {
    "duration": 87,
    "start_time": "2021-10-08T07:57:35.891Z"
   },
   {
    "duration": 10,
    "start_time": "2021-10-08T07:57:41.881Z"
   },
   {
    "duration": 8,
    "start_time": "2021-10-08T07:57:50.597Z"
   },
   {
    "duration": 8,
    "start_time": "2021-10-08T07:58:02.365Z"
   },
   {
    "duration": 12,
    "start_time": "2021-10-08T07:58:05.550Z"
   },
   {
    "duration": 13,
    "start_time": "2021-10-08T07:58:59.427Z"
   },
   {
    "duration": 11,
    "start_time": "2021-10-08T07:59:04.999Z"
   },
   {
    "duration": 37,
    "start_time": "2021-10-08T09:36:48.813Z"
   },
   {
    "duration": 40,
    "start_time": "2021-10-08T10:01:05.606Z"
   },
   {
    "duration": 7494,
    "start_time": "2021-10-08T10:01:24.632Z"
   },
   {
    "duration": 1860,
    "start_time": "2021-10-08T10:01:41.328Z"
   },
   {
    "duration": 1787,
    "start_time": "2021-10-08T10:01:47.399Z"
   },
   {
    "duration": 13,
    "start_time": "2021-10-08T10:02:19.156Z"
   },
   {
    "duration": 14,
    "start_time": "2021-10-08T10:02:23.332Z"
   },
   {
    "duration": 15,
    "start_time": "2021-10-08T10:02:28.497Z"
   },
   {
    "duration": 95,
    "start_time": "2021-10-08T10:02:55.585Z"
   },
   {
    "duration": 78,
    "start_time": "2021-10-08T10:02:59.075Z"
   },
   {
    "duration": 93,
    "start_time": "2021-10-08T10:03:02.282Z"
   },
   {
    "duration": 24,
    "start_time": "2021-10-08T10:03:05.156Z"
   },
   {
    "duration": 20,
    "start_time": "2021-10-08T10:03:28.585Z"
   },
   {
    "duration": 10,
    "start_time": "2021-10-08T10:03:31.545Z"
   },
   {
    "duration": 300,
    "start_time": "2021-10-08T10:03:36.045Z"
   },
   {
    "duration": 19,
    "start_time": "2021-10-08T10:03:39.554Z"
   },
   {
    "duration": 525,
    "start_time": "2021-10-08T10:03:47.174Z"
   },
   {
    "duration": 1129,
    "start_time": "2021-10-08T10:04:02.113Z"
   },
   {
    "duration": 6490,
    "start_time": "2021-10-08T10:04:14.034Z"
   },
   {
    "duration": 400,
    "start_time": "2021-10-08T10:04:22.670Z"
   },
   {
    "duration": 710,
    "start_time": "2021-10-08T10:04:36.024Z"
   },
   {
    "duration": 7728,
    "start_time": "2021-10-08T10:05:30.287Z"
   },
   {
    "duration": 1145,
    "start_time": "2021-10-08T10:05:42.589Z"
   },
   {
    "duration": 381,
    "start_time": "2021-10-08T10:05:55.141Z"
   },
   {
    "duration": 409,
    "start_time": "2021-10-08T10:05:58.720Z"
   },
   {
    "duration": 657,
    "start_time": "2021-10-08T10:06:11.950Z"
   },
   {
    "duration": 699,
    "start_time": "2021-10-08T10:06:16.111Z"
   },
   {
    "duration": 109,
    "start_time": "2021-10-08T10:06:20.427Z"
   },
   {
    "duration": 614,
    "start_time": "2021-10-08T10:06:21.642Z"
   },
   {
    "duration": 599,
    "start_time": "2021-10-08T10:06:40.120Z"
   },
   {
    "duration": 591,
    "start_time": "2021-10-08T10:06:55.862Z"
   },
   {
    "duration": 579,
    "start_time": "2021-10-08T10:06:59.013Z"
   },
   {
    "duration": 81,
    "start_time": "2021-10-08T10:07:23.530Z"
   },
   {
    "duration": 616,
    "start_time": "2021-10-08T10:07:26.445Z"
   },
   {
    "duration": 768,
    "start_time": "2021-10-08T10:08:12.695Z"
   },
   {
    "duration": 827,
    "start_time": "2021-10-08T10:08:16.242Z"
   },
   {
    "duration": 880,
    "start_time": "2021-10-08T10:08:24.999Z"
   },
   {
    "duration": 869,
    "start_time": "2021-10-08T10:08:32.016Z"
   },
   {
    "duration": 1032,
    "start_time": "2021-10-08T10:09:00.994Z"
   },
   {
    "duration": 841,
    "start_time": "2021-10-08T10:09:08.895Z"
   },
   {
    "duration": 951,
    "start_time": "2021-10-08T10:09:14.202Z"
   },
   {
    "duration": 1230,
    "start_time": "2021-10-08T10:09:20.589Z"
   },
   {
    "duration": 1331,
    "start_time": "2021-10-08T10:09:25.963Z"
   },
   {
    "duration": 1579,
    "start_time": "2021-10-08T10:09:28.918Z"
   },
   {
    "duration": 1399,
    "start_time": "2021-10-08T10:10:30.848Z"
   },
   {
    "duration": 34,
    "start_time": "2021-10-08T10:10:50.880Z"
   },
   {
    "duration": 1104,
    "start_time": "2021-10-08T10:11:00.007Z"
   },
   {
    "duration": 1610,
    "start_time": "2021-10-08T10:11:24.848Z"
   },
   {
    "duration": 1572,
    "start_time": "2021-10-08T10:11:45.866Z"
   },
   {
    "duration": 16,
    "start_time": "2021-10-08T10:12:07.483Z"
   },
   {
    "duration": 1594,
    "start_time": "2021-10-08T10:12:20.633Z"
   },
   {
    "duration": 1227,
    "start_time": "2021-10-09T16:13:48.867Z"
   },
   {
    "duration": 55785,
    "start_time": "2021-10-09T16:12:54.317Z"
   },
   {
    "duration": 55781,
    "start_time": "2021-10-09T16:12:54.323Z"
   },
   {
    "duration": 55777,
    "start_time": "2021-10-09T16:12:54.329Z"
   },
   {
    "duration": 55774,
    "start_time": "2021-10-09T16:12:54.334Z"
   },
   {
    "duration": 55772,
    "start_time": "2021-10-09T16:12:54.338Z"
   },
   {
    "duration": 55769,
    "start_time": "2021-10-09T16:12:54.343Z"
   },
   {
    "duration": 55766,
    "start_time": "2021-10-09T16:12:54.348Z"
   },
   {
    "duration": 55760,
    "start_time": "2021-10-09T16:12:54.356Z"
   },
   {
    "duration": 55759,
    "start_time": "2021-10-09T16:12:54.360Z"
   },
   {
    "duration": 55757,
    "start_time": "2021-10-09T16:12:54.364Z"
   },
   {
    "duration": 55755,
    "start_time": "2021-10-09T16:12:54.368Z"
   },
   {
    "duration": 55754,
    "start_time": "2021-10-09T16:12:54.372Z"
   },
   {
    "duration": 55748,
    "start_time": "2021-10-09T16:12:54.381Z"
   },
   {
    "duration": 55745,
    "start_time": "2021-10-09T16:12:54.385Z"
   },
   {
    "duration": 55741,
    "start_time": "2021-10-09T16:12:54.390Z"
   },
   {
    "duration": 55739,
    "start_time": "2021-10-09T16:12:54.393Z"
   },
   {
    "duration": 55735,
    "start_time": "2021-10-09T16:12:54.398Z"
   },
   {
    "duration": 55732,
    "start_time": "2021-10-09T16:12:54.402Z"
   },
   {
    "duration": 55728,
    "start_time": "2021-10-09T16:12:54.407Z"
   },
   {
    "duration": 55725,
    "start_time": "2021-10-09T16:12:54.411Z"
   },
   {
    "duration": 55721,
    "start_time": "2021-10-09T16:12:54.416Z"
   },
   {
    "duration": 55718,
    "start_time": "2021-10-09T16:12:54.420Z"
   },
   {
    "duration": 55711,
    "start_time": "2021-10-09T16:12:54.428Z"
   },
   {
    "duration": 55708,
    "start_time": "2021-10-09T16:12:54.432Z"
   },
   {
    "duration": 55725,
    "start_time": "2021-10-09T16:12:54.437Z"
   },
   {
    "duration": 55722,
    "start_time": "2021-10-09T16:12:54.441Z"
   },
   {
    "duration": 55720,
    "start_time": "2021-10-09T16:12:54.445Z"
   },
   {
    "duration": 55717,
    "start_time": "2021-10-09T16:12:54.449Z"
   },
   {
    "duration": 55554,
    "start_time": "2021-10-09T16:12:54.613Z"
   },
   {
    "duration": 55344,
    "start_time": "2021-10-09T16:12:54.825Z"
   },
   {
    "duration": 55242,
    "start_time": "2021-10-09T16:12:54.929Z"
   },
   {
    "duration": 55188,
    "start_time": "2021-10-09T16:12:54.984Z"
   },
   {
    "duration": 55185,
    "start_time": "2021-10-09T16:12:54.988Z"
   },
   {
    "duration": 55183,
    "start_time": "2021-10-09T16:12:54.991Z"
   },
   {
    "duration": 55181,
    "start_time": "2021-10-09T16:12:54.995Z"
   },
   {
    "duration": 55179,
    "start_time": "2021-10-09T16:12:54.998Z"
   },
   {
    "duration": 55177,
    "start_time": "2021-10-09T16:12:55.001Z"
   },
   {
    "duration": 55175,
    "start_time": "2021-10-09T16:12:55.004Z"
   },
   {
    "duration": 55172,
    "start_time": "2021-10-09T16:12:55.009Z"
   },
   {
    "duration": 55170,
    "start_time": "2021-10-09T16:12:55.012Z"
   },
   {
    "duration": 55167,
    "start_time": "2021-10-09T16:12:55.016Z"
   },
   {
    "duration": 55165,
    "start_time": "2021-10-09T16:12:55.019Z"
   },
   {
    "duration": 55163,
    "start_time": "2021-10-09T16:12:55.023Z"
   },
   {
    "duration": 55161,
    "start_time": "2021-10-09T16:12:55.026Z"
   },
   {
    "duration": 55158,
    "start_time": "2021-10-09T16:12:55.030Z"
   },
   {
    "duration": 55156,
    "start_time": "2021-10-09T16:12:55.033Z"
   },
   {
    "duration": 55148,
    "start_time": "2021-10-09T16:12:55.042Z"
   },
   {
    "duration": 55146,
    "start_time": "2021-10-09T16:12:55.046Z"
   },
   {
    "duration": 55143,
    "start_time": "2021-10-09T16:12:55.050Z"
   },
   {
    "duration": 55141,
    "start_time": "2021-10-09T16:12:55.053Z"
   },
   {
    "duration": 55138,
    "start_time": "2021-10-09T16:12:55.057Z"
   },
   {
    "duration": 55137,
    "start_time": "2021-10-09T16:12:55.060Z"
   },
   {
    "duration": 55134,
    "start_time": "2021-10-09T16:12:55.064Z"
   },
   {
    "duration": 55132,
    "start_time": "2021-10-09T16:12:55.067Z"
   },
   {
    "duration": 55193,
    "start_time": "2021-10-09T16:12:55.070Z"
   },
   {
    "duration": 55198,
    "start_time": "2021-10-09T16:12:55.073Z"
   },
   {
    "duration": 55196,
    "start_time": "2021-10-09T16:12:55.077Z"
   },
   {
    "duration": 55194,
    "start_time": "2021-10-09T16:12:55.081Z"
   },
   {
    "duration": 55193,
    "start_time": "2021-10-09T16:12:55.085Z"
   },
   {
    "duration": 55192,
    "start_time": "2021-10-09T16:12:55.088Z"
   },
   {
    "duration": 55190,
    "start_time": "2021-10-09T16:12:55.092Z"
   },
   {
    "duration": 103911,
    "start_time": "2021-10-09T16:17:03.259Z"
   },
   {
    "duration": 90,
    "start_time": "2021-10-09T16:18:47.173Z"
   },
   {
    "duration": 98,
    "start_time": "2021-10-09T16:18:47.269Z"
   },
   {
    "duration": 96,
    "start_time": "2021-10-09T16:18:47.370Z"
   },
   {
    "duration": 42,
    "start_time": "2021-10-09T16:18:47.469Z"
   },
   {
    "duration": 23,
    "start_time": "2021-10-09T16:18:47.514Z"
   },
   {
    "duration": 228,
    "start_time": "2021-10-09T16:18:47.542Z"
   },
   {
    "duration": 88,
    "start_time": "2021-10-09T16:18:47.774Z"
   },
   {
    "duration": 6,
    "start_time": "2021-10-09T16:18:47.865Z"
   },
   {
    "duration": 11,
    "start_time": "2021-10-09T16:18:47.874Z"
   },
   {
    "duration": 12,
    "start_time": "2021-10-09T16:18:47.888Z"
   },
   {
    "duration": 9,
    "start_time": "2021-10-09T16:18:47.903Z"
   },
   {
    "duration": 55,
    "start_time": "2021-10-09T16:18:47.915Z"
   },
   {
    "duration": 21,
    "start_time": "2021-10-09T16:18:47.973Z"
   },
   {
    "duration": 39,
    "start_time": "2021-10-09T16:18:47.997Z"
   },
   {
    "duration": 31,
    "start_time": "2021-10-09T16:18:48.039Z"
   },
   {
    "duration": 26,
    "start_time": "2021-10-09T16:18:48.073Z"
   },
   {
    "duration": 26,
    "start_time": "2021-10-09T16:18:48.101Z"
   },
   {
    "duration": 60,
    "start_time": "2021-10-09T16:18:48.130Z"
   },
   {
    "duration": 5,
    "start_time": "2021-10-09T16:18:48.192Z"
   },
   {
    "duration": 20,
    "start_time": "2021-10-09T16:18:48.199Z"
   },
   {
    "duration": 1736,
    "start_time": "2021-10-09T16:18:48.225Z"
   },
   {
    "duration": 9,
    "start_time": "2021-10-09T16:18:49.966Z"
   },
   {
    "duration": 102,
    "start_time": "2021-10-09T16:18:49.978Z"
   },
   {
    "duration": 18,
    "start_time": "2021-10-09T16:18:50.083Z"
   },
   {
    "duration": 13,
    "start_time": "2021-10-09T16:18:50.105Z"
   },
   {
    "duration": 61,
    "start_time": "2021-10-09T16:18:50.121Z"
   },
   {
    "duration": 5,
    "start_time": "2021-10-09T16:18:50.186Z"
   },
   {
    "duration": 567,
    "start_time": "2021-10-09T16:18:50.194Z"
   },
   {
    "duration": 55791,
    "start_time": "2021-10-09T16:17:54.973Z"
   },
   {
    "duration": 55789,
    "start_time": "2021-10-09T16:17:54.977Z"
   },
   {
    "duration": 55786,
    "start_time": "2021-10-09T16:17:54.982Z"
   },
   {
    "duration": 55784,
    "start_time": "2021-10-09T16:17:54.986Z"
   },
   {
    "duration": 55777,
    "start_time": "2021-10-09T16:17:54.995Z"
   },
   {
    "duration": 55776,
    "start_time": "2021-10-09T16:17:54.999Z"
   },
   {
    "duration": 55774,
    "start_time": "2021-10-09T16:17:55.003Z"
   },
   {
    "duration": 55773,
    "start_time": "2021-10-09T16:17:55.007Z"
   },
   {
    "duration": 55771,
    "start_time": "2021-10-09T16:17:55.011Z"
   },
   {
    "duration": 55769,
    "start_time": "2021-10-09T16:17:55.015Z"
   },
   {
    "duration": 55762,
    "start_time": "2021-10-09T16:17:55.024Z"
   },
   {
    "duration": 55760,
    "start_time": "2021-10-09T16:17:55.029Z"
   },
   {
    "duration": 55758,
    "start_time": "2021-10-09T16:17:55.033Z"
   },
   {
    "duration": 55742,
    "start_time": "2021-10-09T16:17:55.051Z"
   },
   {
    "duration": 55736,
    "start_time": "2021-10-09T16:17:55.059Z"
   },
   {
    "duration": 55735,
    "start_time": "2021-10-09T16:17:55.063Z"
   },
   {
    "duration": 55733,
    "start_time": "2021-10-09T16:17:55.067Z"
   },
   {
    "duration": 55786,
    "start_time": "2021-10-09T16:17:55.075Z"
   },
   {
    "duration": 55772,
    "start_time": "2021-10-09T16:17:55.091Z"
   },
   {
    "duration": 55761,
    "start_time": "2021-10-09T16:17:55.105Z"
   },
   {
    "duration": 55758,
    "start_time": "2021-10-09T16:17:55.110Z"
   },
   {
    "duration": 55714,
    "start_time": "2021-10-09T16:17:55.157Z"
   },
   {
    "duration": 55711,
    "start_time": "2021-10-09T16:17:55.162Z"
   },
   {
    "duration": 55703,
    "start_time": "2021-10-09T16:17:55.172Z"
   },
   {
    "duration": 55702,
    "start_time": "2021-10-09T16:17:55.176Z"
   },
   {
    "duration": 55699,
    "start_time": "2021-10-09T16:17:55.181Z"
   },
   {
    "duration": 55659,
    "start_time": "2021-10-09T16:17:55.223Z"
   },
   {
    "duration": 55590,
    "start_time": "2021-10-09T16:17:55.294Z"
   },
   {
    "duration": 55584,
    "start_time": "2021-10-09T16:17:55.303Z"
   },
   {
    "duration": 55582,
    "start_time": "2021-10-09T16:17:55.307Z"
   },
   {
    "duration": 55567,
    "start_time": "2021-10-09T16:17:55.324Z"
   },
   {
    "duration": 55566,
    "start_time": "2021-10-09T16:17:55.328Z"
   },
   {
    "duration": 55560,
    "start_time": "2021-10-09T16:17:55.336Z"
   },
   {
    "duration": 7,
    "start_time": "2021-10-09T16:19:33.941Z"
   },
   {
    "duration": 146,
    "start_time": "2021-10-09T16:19:34.757Z"
   },
   {
    "duration": 131,
    "start_time": "2021-10-09T16:19:36.542Z"
   },
   {
    "duration": 4,
    "start_time": "2021-10-09T16:19:38.678Z"
   },
   {
    "duration": 340,
    "start_time": "2021-10-09T16:19:41.785Z"
   },
   {
    "duration": 551,
    "start_time": "2021-10-09T16:19:45.277Z"
   },
   {
    "duration": 10,
    "start_time": "2021-10-09T16:19:45.831Z"
   },
   {
    "duration": 467,
    "start_time": "2021-10-09T16:19:46.415Z"
   },
   {
    "duration": 794,
    "start_time": "2021-10-09T16:19:46.903Z"
   },
   {
    "duration": 12,
    "start_time": "2021-10-09T16:19:47.700Z"
   },
   {
    "duration": 501,
    "start_time": "2021-10-09T16:19:47.716Z"
   },
   {
    "duration": 675,
    "start_time": "2021-10-09T16:19:48.221Z"
   },
   {
    "duration": 11,
    "start_time": "2021-10-09T16:19:48.898Z"
   },
   {
    "duration": 423,
    "start_time": "2021-10-09T16:19:48.911Z"
   },
   {
    "duration": 24,
    "start_time": "2021-10-09T16:19:49.338Z"
   },
   {
    "duration": 476,
    "start_time": "2021-10-09T16:19:53.037Z"
   },
   {
    "duration": 16,
    "start_time": "2021-10-09T16:19:53.670Z"
   },
   {
    "duration": 9,
    "start_time": "2021-10-09T16:19:54.390Z"
   },
   {
    "duration": 97949,
    "start_time": "2021-10-09T16:19:58.295Z"
   },
   {
    "duration": 23,
    "start_time": "2021-10-09T16:37:57.841Z"
   },
   {
    "duration": 14,
    "start_time": "2021-10-09T16:37:58.482Z"
   },
   {
    "duration": 21,
    "start_time": "2021-10-09T16:37:59.329Z"
   },
   {
    "duration": 13,
    "start_time": "2021-10-09T16:38:58.850Z"
   },
   {
    "duration": 11,
    "start_time": "2021-10-09T16:39:00.075Z"
   },
   {
    "duration": 9,
    "start_time": "2021-10-09T16:39:01.660Z"
   },
   {
    "duration": 11,
    "start_time": "2021-10-09T16:39:02.587Z"
   },
   {
    "duration": 336,
    "start_time": "2021-10-09T16:39:05.292Z"
   },
   {
    "duration": 42,
    "start_time": "2021-10-09T16:39:37.125Z"
   },
   {
    "duration": 16,
    "start_time": "2021-10-09T16:39:39.750Z"
   },
   {
    "duration": 16,
    "start_time": "2021-10-09T16:39:41.846Z"
   },
   {
    "duration": 15,
    "start_time": "2021-10-09T16:39:51.375Z"
   },
   {
    "duration": 14,
    "start_time": "2021-10-09T16:39:53.022Z"
   },
   {
    "duration": 118,
    "start_time": "2021-10-09T16:39:57.430Z"
   },
   {
    "duration": 703,
    "start_time": "2021-10-10T09:12:03.834Z"
   },
   {
    "duration": 2633,
    "start_time": "2021-10-10T09:12:06.774Z"
   },
   {
    "duration": 78,
    "start_time": "2021-10-10T09:12:09.410Z"
   },
   {
    "duration": 68,
    "start_time": "2021-10-10T09:12:14.564Z"
   },
   {
    "duration": 26,
    "start_time": "2021-10-10T09:12:15.460Z"
   },
   {
    "duration": 22,
    "start_time": "2021-10-10T09:12:17.134Z"
   },
   {
    "duration": 23,
    "start_time": "2021-10-10T09:12:17.268Z"
   },
   {
    "duration": 4,
    "start_time": "2021-10-10T09:12:26.312Z"
   },
   {
    "duration": 3,
    "start_time": "2021-10-10T09:14:47.443Z"
   },
   {
    "duration": 4,
    "start_time": "2021-10-10T09:14:51.549Z"
   },
   {
    "duration": 46,
    "start_time": "2021-10-10T09:17:02.875Z"
   },
   {
    "duration": 41,
    "start_time": "2021-10-10T09:17:06.744Z"
   },
   {
    "duration": 46,
    "start_time": "2021-10-10T09:17:16.551Z"
   },
   {
    "duration": 48,
    "start_time": "2021-10-10T09:18:33.262Z"
   },
   {
    "duration": 3,
    "start_time": "2021-10-10T09:18:37.100Z"
   },
   {
    "duration": 6,
    "start_time": "2021-10-10T09:18:39.742Z"
   },
   {
    "duration": 130,
    "start_time": "2021-10-10T09:21:21.176Z"
   },
   {
    "duration": 128,
    "start_time": "2021-10-10T09:21:49.079Z"
   },
   {
    "duration": 4,
    "start_time": "2021-10-10T09:22:07.152Z"
   },
   {
    "duration": 6,
    "start_time": "2021-10-10T09:22:15.380Z"
   },
   {
    "duration": 4,
    "start_time": "2021-10-10T09:28:41.279Z"
   },
   {
    "duration": 5,
    "start_time": "2021-10-10T09:28:48.000Z"
   },
   {
    "duration": 10,
    "start_time": "2021-10-10T09:29:23.760Z"
   },
   {
    "duration": 3,
    "start_time": "2021-10-10T09:34:20.340Z"
   },
   {
    "duration": 3,
    "start_time": "2021-10-10T09:41:35.995Z"
   },
   {
    "duration": 9,
    "start_time": "2021-10-10T09:41:38.623Z"
   },
   {
    "duration": 39,
    "start_time": "2021-10-10T09:41:44.057Z"
   },
   {
    "duration": 66,
    "start_time": "2021-10-10T09:42:08.713Z"
   },
   {
    "duration": 22,
    "start_time": "2021-10-10T09:42:08.978Z"
   },
   {
    "duration": 4,
    "start_time": "2021-10-10T09:46:51.161Z"
   },
   {
    "duration": 5,
    "start_time": "2021-10-10T09:46:51.959Z"
   },
   {
    "duration": 37,
    "start_time": "2021-10-10T09:46:53.001Z"
   },
   {
    "duration": 135,
    "start_time": "2021-10-10T10:04:56.935Z"
   },
   {
    "duration": 129,
    "start_time": "2021-10-10T10:05:27.018Z"
   },
   {
    "duration": 50,
    "start_time": "2021-10-10T10:05:39.270Z"
   },
   {
    "duration": 6621,
    "start_time": "2021-10-10T10:05:45.814Z"
   },
   {
    "duration": 4,
    "start_time": "2021-10-10T10:05:52.437Z"
   },
   {
    "duration": 2,
    "start_time": "2021-10-10T10:06:17.522Z"
   },
   {
    "duration": 25,
    "start_time": "2021-10-10T10:06:19.501Z"
   },
   {
    "duration": 282,
    "start_time": "2021-10-10T10:06:52.793Z"
   },
   {
    "duration": 3695,
    "start_time": "2021-10-10T10:33:22.222Z"
   },
   {
    "duration": 45,
    "start_time": "2021-10-10T10:39:32.328Z"
   },
   {
    "duration": 152,
    "start_time": "2021-10-10T10:43:09.395Z"
   },
   {
    "duration": 17,
    "start_time": "2021-10-10T10:43:18.469Z"
   },
   {
    "duration": 174,
    "start_time": "2021-10-10T10:43:20.210Z"
   },
   {
    "duration": 9,
    "start_time": "2021-10-10T10:43:22.349Z"
   },
   {
    "duration": 4,
    "start_time": "2021-10-10T10:43:40.935Z"
   },
   {
    "duration": 8,
    "start_time": "2021-10-10T10:44:22.242Z"
   },
   {
    "duration": 9,
    "start_time": "2021-10-10T10:44:30.759Z"
   },
   {
    "duration": 5,
    "start_time": "2021-10-10T10:44:55.195Z"
   },
   {
    "duration": 22,
    "start_time": "2021-10-10T10:45:15.232Z"
   },
   {
    "duration": 12,
    "start_time": "2021-10-10T10:45:19.188Z"
   },
   {
    "duration": 22,
    "start_time": "2021-10-10T10:45:22.588Z"
   },
   {
    "duration": 791,
    "start_time": "2021-10-10T10:45:38.870Z"
   },
   {
    "duration": 829,
    "start_time": "2021-10-10T10:45:45.582Z"
   },
   {
    "duration": 806,
    "start_time": "2021-10-10T10:45:49.099Z"
   },
   {
    "duration": 852,
    "start_time": "2021-10-10T10:46:08.871Z"
   },
   {
    "duration": 12,
    "start_time": "2021-10-10T10:46:31.105Z"
   },
   {
    "duration": 174,
    "start_time": "2021-10-10T10:46:38.432Z"
   },
   {
    "duration": 23,
    "start_time": "2021-10-10T10:46:41.641Z"
   },
   {
    "duration": 3,
    "start_time": "2021-10-10T10:46:50.242Z"
   },
   {
    "duration": 66,
    "start_time": "2021-10-10T10:46:51.340Z"
   },
   {
    "duration": 25,
    "start_time": "2021-10-10T10:46:51.638Z"
   },
   {
    "duration": 23,
    "start_time": "2021-10-10T10:46:51.853Z"
   },
   {
    "duration": 23,
    "start_time": "2021-10-10T10:46:52.370Z"
   },
   {
    "duration": 11,
    "start_time": "2021-10-10T10:46:52.480Z"
   },
   {
    "duration": 68,
    "start_time": "2021-10-10T10:46:52.536Z"
   },
   {
    "duration": 22,
    "start_time": "2021-10-10T10:46:52.750Z"
   },
   {
    "duration": 4,
    "start_time": "2021-10-10T10:46:53.238Z"
   },
   {
    "duration": 7,
    "start_time": "2021-10-10T10:46:53.244Z"
   },
   {
    "duration": 6,
    "start_time": "2021-10-10T10:46:53.822Z"
   },
   {
    "duration": 4,
    "start_time": "2021-10-10T10:46:55.518Z"
   },
   {
    "duration": 20,
    "start_time": "2021-10-10T10:46:57.155Z"
   },
   {
    "duration": 18,
    "start_time": "2021-10-10T10:47:00.561Z"
   },
   {
    "duration": 6,
    "start_time": "2021-10-10T10:47:01.728Z"
   },
   {
    "duration": 10,
    "start_time": "2021-10-10T10:47:02.193Z"
   },
   {
    "duration": 11,
    "start_time": "2021-10-10T10:47:13.273Z"
   },
   {
    "duration": 22,
    "start_time": "2021-10-10T10:47:14.004Z"
   },
   {
    "duration": 22,
    "start_time": "2021-10-10T10:47:16.895Z"
   },
   {
    "duration": 5,
    "start_time": "2021-10-10T10:47:18.016Z"
   },
   {
    "duration": 5,
    "start_time": "2021-10-10T10:49:00.752Z"
   },
   {
    "duration": 5,
    "start_time": "2021-10-10T10:49:10.117Z"
   },
   {
    "duration": 4,
    "start_time": "2021-10-10T10:50:30.068Z"
   },
   {
    "duration": 5,
    "start_time": "2021-10-10T10:51:16.174Z"
   },
   {
    "duration": 4102,
    "start_time": "2021-10-10T10:51:52.825Z"
   },
   {
    "duration": 3,
    "start_time": "2021-10-10T10:51:56.929Z"
   },
   {
    "duration": 69,
    "start_time": "2021-10-10T10:51:56.935Z"
   },
   {
    "duration": 24,
    "start_time": "2021-10-10T10:51:57.006Z"
   },
   {
    "duration": 22,
    "start_time": "2021-10-10T10:51:57.032Z"
   },
   {
    "duration": 47,
    "start_time": "2021-10-10T10:51:57.056Z"
   },
   {
    "duration": 11,
    "start_time": "2021-10-10T10:51:57.105Z"
   },
   {
    "duration": 82,
    "start_time": "2021-10-10T10:51:57.119Z"
   },
   {
    "duration": 22,
    "start_time": "2021-10-10T10:51:57.204Z"
   },
   {
    "duration": 3,
    "start_time": "2021-10-10T10:51:57.228Z"
   },
   {
    "duration": 8,
    "start_time": "2021-10-10T10:51:57.233Z"
   },
   {
    "duration": 7,
    "start_time": "2021-10-10T10:51:57.242Z"
   },
   {
    "duration": 5,
    "start_time": "2021-10-10T10:51:57.251Z"
   },
   {
    "duration": 42,
    "start_time": "2021-10-10T10:51:57.258Z"
   },
   {
    "duration": 19,
    "start_time": "2021-10-10T10:51:57.635Z"
   },
   {
    "duration": 5,
    "start_time": "2021-10-10T10:51:58.638Z"
   },
   {
    "duration": 9,
    "start_time": "2021-10-10T10:51:59.171Z"
   },
   {
    "duration": 12,
    "start_time": "2021-10-10T10:52:00.402Z"
   },
   {
    "duration": 22,
    "start_time": "2021-10-10T10:52:00.859Z"
   },
   {
    "duration": 6,
    "start_time": "2021-10-10T10:52:02.209Z"
   },
   {
    "duration": 143,
    "start_time": "2021-10-10T10:52:19.036Z"
   },
   {
    "duration": 6,
    "start_time": "2021-10-10T10:52:23.612Z"
   },
   {
    "duration": 37,
    "start_time": "2021-10-10T10:52:30.839Z"
   },
   {
    "duration": 4,
    "start_time": "2021-10-10T10:52:42.132Z"
   },
   {
    "duration": 23,
    "start_time": "2021-10-10T10:53:00.719Z"
   },
   {
    "duration": 43,
    "start_time": "2021-10-10T11:00:49.749Z"
   },
   {
    "duration": 402,
    "start_time": "2021-10-10T11:34:42.204Z"
   },
   {
    "duration": 267,
    "start_time": "2021-10-10T11:35:07.900Z"
   },
   {
    "duration": 265,
    "start_time": "2021-10-10T11:35:15.073Z"
   },
   {
    "duration": 276,
    "start_time": "2021-10-10T11:35:22.783Z"
   },
   {
    "duration": 211,
    "start_time": "2021-10-10T11:36:53.598Z"
   },
   {
    "duration": 3797,
    "start_time": "2021-10-10T11:37:03.680Z"
   },
   {
    "duration": 3,
    "start_time": "2021-10-10T11:37:07.479Z"
   },
   {
    "duration": 70,
    "start_time": "2021-10-10T11:37:07.485Z"
   },
   {
    "duration": 23,
    "start_time": "2021-10-10T11:37:07.557Z"
   },
   {
    "duration": 31,
    "start_time": "2021-10-10T11:37:07.582Z"
   },
   {
    "duration": 24,
    "start_time": "2021-10-10T11:37:07.615Z"
   },
   {
    "duration": 11,
    "start_time": "2021-10-10T11:37:07.640Z"
   },
   {
    "duration": 94,
    "start_time": "2021-10-10T11:37:07.653Z"
   },
   {
    "duration": 21,
    "start_time": "2021-10-10T11:37:07.749Z"
   },
   {
    "duration": 3,
    "start_time": "2021-10-10T11:37:07.772Z"
   },
   {
    "duration": 24,
    "start_time": "2021-10-10T11:37:07.776Z"
   },
   {
    "duration": 6,
    "start_time": "2021-10-10T11:37:07.802Z"
   },
   {
    "duration": 4,
    "start_time": "2021-10-10T11:37:07.981Z"
   },
   {
    "duration": 20,
    "start_time": "2021-10-10T11:37:08.421Z"
   },
   {
    "duration": 19,
    "start_time": "2021-10-10T11:37:13.679Z"
   },
   {
    "duration": 5,
    "start_time": "2021-10-10T11:37:14.677Z"
   },
   {
    "duration": 9,
    "start_time": "2021-10-10T11:37:14.949Z"
   },
   {
    "duration": 12,
    "start_time": "2021-10-10T11:37:15.549Z"
   },
   {
    "duration": 22,
    "start_time": "2021-10-10T11:37:15.932Z"
   },
   {
    "duration": 5,
    "start_time": "2021-10-10T11:37:16.518Z"
   },
   {
    "duration": 22,
    "start_time": "2021-10-10T11:37:16.908Z"
   },
   {
    "duration": 551,
    "start_time": "2021-10-10T11:37:18.987Z"
   },
   {
    "duration": 5,
    "start_time": "2021-10-10T11:37:19.720Z"
   },
   {
    "duration": 35,
    "start_time": "2021-10-10T11:37:19.939Z"
   },
   {
    "duration": 14,
    "start_time": "2021-10-10T11:37:20.831Z"
   },
   {
    "duration": 40,
    "start_time": "2021-10-10T11:38:27.592Z"
   },
   {
    "duration": 268,
    "start_time": "2021-10-10T11:38:44.359Z"
   },
   {
    "duration": 299,
    "start_time": "2021-10-10T11:40:19.866Z"
   },
   {
    "duration": 438,
    "start_time": "2021-10-10T11:40:28.085Z"
   },
   {
    "duration": 301,
    "start_time": "2021-10-10T11:40:38.361Z"
   },
   {
    "duration": 260,
    "start_time": "2021-10-10T11:43:54.857Z"
   },
   {
    "duration": 286,
    "start_time": "2021-10-10T11:44:16.096Z"
   },
   {
    "duration": 409,
    "start_time": "2021-10-10T11:46:14.872Z"
   },
   {
    "duration": 587,
    "start_time": "2021-10-10T11:46:46.124Z"
   },
   {
    "duration": 131,
    "start_time": "2021-10-10T11:47:01.059Z"
   },
   {
    "duration": 132,
    "start_time": "2021-10-10T11:47:22.244Z"
   },
   {
    "duration": 122,
    "start_time": "2021-10-10T11:47:25.168Z"
   },
   {
    "duration": 146,
    "start_time": "2021-10-10T11:47:47.275Z"
   },
   {
    "duration": 125,
    "start_time": "2021-10-10T11:47:57.524Z"
   },
   {
    "duration": 138,
    "start_time": "2021-10-10T11:48:01.006Z"
   },
   {
    "duration": 135,
    "start_time": "2021-10-10T11:48:18.558Z"
   },
   {
    "duration": 68,
    "start_time": "2021-10-10T11:48:42.157Z"
   },
   {
    "duration": 24,
    "start_time": "2021-10-10T11:48:42.377Z"
   },
   {
    "duration": 21,
    "start_time": "2021-10-10T11:48:42.530Z"
   },
   {
    "duration": 23,
    "start_time": "2021-10-10T11:48:43.343Z"
   },
   {
    "duration": 11,
    "start_time": "2021-10-10T11:48:43.652Z"
   },
   {
    "duration": 75,
    "start_time": "2021-10-10T11:48:43.814Z"
   },
   {
    "duration": 21,
    "start_time": "2021-10-10T11:48:44.287Z"
   },
   {
    "duration": 3,
    "start_time": "2021-10-10T11:48:45.510Z"
   },
   {
    "duration": 5,
    "start_time": "2021-10-10T11:48:45.681Z"
   },
   {
    "duration": 6,
    "start_time": "2021-10-10T11:48:45.891Z"
   },
   {
    "duration": 4,
    "start_time": "2021-10-10T11:48:47.524Z"
   },
   {
    "duration": 20,
    "start_time": "2021-10-10T11:48:47.530Z"
   },
   {
    "duration": 19,
    "start_time": "2021-10-10T11:48:50.306Z"
   },
   {
    "duration": 6,
    "start_time": "2021-10-10T11:48:52.070Z"
   },
   {
    "duration": 10,
    "start_time": "2021-10-10T11:48:52.575Z"
   },
   {
    "duration": 12,
    "start_time": "2021-10-10T11:48:54.157Z"
   },
   {
    "duration": 22,
    "start_time": "2021-10-10T11:48:54.590Z"
   },
   {
    "duration": 5,
    "start_time": "2021-10-10T11:48:55.336Z"
   },
   {
    "duration": 23,
    "start_time": "2021-10-10T11:48:56.219Z"
   },
   {
    "duration": 546,
    "start_time": "2021-10-10T11:48:57.209Z"
   },
   {
    "duration": 5,
    "start_time": "2021-10-10T11:48:59.450Z"
   },
   {
    "duration": 34,
    "start_time": "2021-10-10T11:49:00.708Z"
   },
   {
    "duration": 14,
    "start_time": "2021-10-10T11:49:03.015Z"
   },
   {
    "duration": 129,
    "start_time": "2021-10-10T11:49:04.401Z"
   },
   {
    "duration": 3,
    "start_time": "2021-10-10T11:49:18.091Z"
   },
   {
    "duration": 36,
    "start_time": "2021-10-10T11:49:28.948Z"
   },
   {
    "duration": 5,
    "start_time": "2021-10-10T11:49:31.558Z"
   },
   {
    "duration": 556,
    "start_time": "2021-10-10T11:49:34.348Z"
   },
   {
    "duration": 144,
    "start_time": "2021-10-10T11:49:48.261Z"
   },
   {
    "duration": 139,
    "start_time": "2021-10-10T11:49:57.908Z"
   },
   {
    "duration": 3,
    "start_time": "2021-10-10T11:50:07.116Z"
   },
   {
    "duration": 132,
    "start_time": "2021-10-10T11:50:19.480Z"
   },
   {
    "duration": 3607,
    "start_time": "2021-10-10T11:50:31.779Z"
   },
   {
    "duration": 711,
    "start_time": "2021-10-10T11:50:35.388Z"
   },
   {
    "duration": 82,
    "start_time": "2021-10-10T11:50:36.101Z"
   },
   {
    "duration": 28,
    "start_time": "2021-10-10T11:50:36.185Z"
   },
   {
    "duration": 23,
    "start_time": "2021-10-10T11:50:36.215Z"
   },
   {
    "duration": 60,
    "start_time": "2021-10-10T11:50:36.241Z"
   },
   {
    "duration": 13,
    "start_time": "2021-10-10T11:50:36.302Z"
   },
   {
    "duration": 68,
    "start_time": "2021-10-10T11:50:36.318Z"
   },
   {
    "duration": 18,
    "start_time": "2021-10-10T11:50:36.400Z"
   },
   {
    "duration": 4,
    "start_time": "2021-10-10T11:50:36.420Z"
   },
   {
    "duration": 8,
    "start_time": "2021-10-10T11:50:36.425Z"
   },
   {
    "duration": 7,
    "start_time": "2021-10-10T11:50:36.434Z"
   },
   {
    "duration": 6,
    "start_time": "2021-10-10T11:50:36.442Z"
   },
   {
    "duration": 203,
    "start_time": "2021-10-10T11:50:36.449Z"
   },
   {
    "duration": 18,
    "start_time": "2021-10-10T11:50:36.783Z"
   },
   {
    "duration": 5,
    "start_time": "2021-10-10T11:50:37.081Z"
   },
   {
    "duration": 9,
    "start_time": "2021-10-10T11:50:37.246Z"
   },
   {
    "duration": 12,
    "start_time": "2021-10-10T11:50:38.553Z"
   },
   {
    "duration": 24,
    "start_time": "2021-10-10T11:50:39.526Z"
   },
   {
    "duration": 5,
    "start_time": "2021-10-10T11:50:42.514Z"
   },
   {
    "duration": 22,
    "start_time": "2021-10-10T11:50:43.171Z"
   },
   {
    "duration": 443,
    "start_time": "2021-10-10T11:50:44.772Z"
   },
   {
    "duration": 7,
    "start_time": "2021-10-10T11:50:45.307Z"
   },
   {
    "duration": 34,
    "start_time": "2021-10-10T11:50:45.615Z"
   },
   {
    "duration": 12,
    "start_time": "2021-10-10T11:50:46.601Z"
   },
   {
    "duration": 421,
    "start_time": "2021-10-10T11:50:47.951Z"
   },
   {
    "duration": 315,
    "start_time": "2021-10-10T11:50:50.661Z"
   },
   {
    "duration": 8,
    "start_time": "2021-10-10T11:50:52.187Z"
   },
   {
    "duration": 224,
    "start_time": "2021-10-10T11:50:53.030Z"
   },
   {
    "duration": 329,
    "start_time": "2021-10-10T11:50:54.276Z"
   },
   {
    "duration": 8,
    "start_time": "2021-10-10T11:50:54.607Z"
   },
   {
    "duration": 230,
    "start_time": "2021-10-10T11:50:55.145Z"
   },
   {
    "duration": 282,
    "start_time": "2021-10-10T11:50:56.273Z"
   },
   {
    "duration": 213,
    "start_time": "2021-10-10T11:51:41.396Z"
   },
   {
    "duration": 212,
    "start_time": "2021-10-10T11:51:49.653Z"
   },
   {
    "duration": 278,
    "start_time": "2021-10-10T11:51:56.095Z"
   },
   {
    "duration": 218,
    "start_time": "2021-10-10T11:52:06.172Z"
   },
   {
    "duration": 224,
    "start_time": "2021-10-10T11:52:12.497Z"
   },
   {
    "duration": 319,
    "start_time": "2021-10-10T11:53:02.848Z"
   },
   {
    "duration": 261,
    "start_time": "2021-10-10T11:53:18.271Z"
   },
   {
    "duration": 42,
    "start_time": "2021-10-10T11:56:17.378Z"
   },
   {
    "duration": 151,
    "start_time": "2021-10-10T11:56:21.741Z"
   },
   {
    "duration": 155,
    "start_time": "2021-10-10T11:56:28.197Z"
   },
   {
    "duration": 161,
    "start_time": "2021-10-10T11:56:31.858Z"
   },
   {
    "duration": 165,
    "start_time": "2021-10-10T11:56:39.922Z"
   },
   {
    "duration": 165,
    "start_time": "2021-10-10T11:56:49.655Z"
   },
   {
    "duration": 157,
    "start_time": "2021-10-10T11:57:13.556Z"
   },
   {
    "duration": 385,
    "start_time": "2021-10-10T11:57:37.497Z"
   },
   {
    "duration": 243,
    "start_time": "2021-10-10T11:57:50.859Z"
   },
   {
    "duration": 151,
    "start_time": "2021-10-10T11:58:09.599Z"
   },
   {
    "duration": 246,
    "start_time": "2021-10-10T11:58:14.921Z"
   },
   {
    "duration": 269,
    "start_time": "2021-10-10T11:58:23.256Z"
   },
   {
    "duration": 257,
    "start_time": "2021-10-10T11:58:30.750Z"
   },
   {
    "duration": 254,
    "start_time": "2021-10-10T11:58:37.241Z"
   },
   {
    "duration": 404,
    "start_time": "2021-10-10T12:01:31.748Z"
   },
   {
    "duration": 428,
    "start_time": "2021-10-10T12:01:43.923Z"
   },
   {
    "duration": 542,
    "start_time": "2021-10-10T12:02:23.188Z"
   },
   {
    "duration": 404,
    "start_time": "2021-10-10T12:02:40.908Z"
   },
   {
    "duration": 416,
    "start_time": "2021-10-10T12:02:46.612Z"
   },
   {
    "duration": 276,
    "start_time": "2021-10-10T12:03:16.208Z"
   },
   {
    "duration": 273,
    "start_time": "2021-10-10T12:03:36.726Z"
   },
   {
    "duration": 268,
    "start_time": "2021-10-10T12:04:06.203Z"
   },
   {
    "duration": 329,
    "start_time": "2021-10-10T12:04:18.096Z"
   },
   {
    "duration": 546,
    "start_time": "2021-10-10T12:04:46.171Z"
   },
   {
    "duration": 337,
    "start_time": "2021-10-10T12:04:57.001Z"
   },
   {
    "duration": 457,
    "start_time": "2021-10-10T12:15:55.235Z"
   },
   {
    "duration": 306,
    "start_time": "2021-10-10T12:16:57.276Z"
   },
   {
    "duration": 358,
    "start_time": "2021-10-10T12:17:30.714Z"
   },
   {
    "duration": 380,
    "start_time": "2021-10-10T12:36:50.148Z"
   },
   {
    "duration": 499,
    "start_time": "2021-10-10T12:36:57.313Z"
   },
   {
    "duration": 386,
    "start_time": "2021-10-10T12:37:05.776Z"
   },
   {
    "duration": 391,
    "start_time": "2021-10-10T12:37:09.655Z"
   },
   {
    "duration": 411,
    "start_time": "2021-10-10T12:37:21.395Z"
   },
   {
    "duration": 416,
    "start_time": "2021-10-10T12:46:05.388Z"
   },
   {
    "duration": 375,
    "start_time": "2021-10-10T12:46:11.124Z"
   },
   {
    "duration": 493,
    "start_time": "2021-10-10T12:46:16.351Z"
   },
   {
    "duration": 413,
    "start_time": "2021-10-10T12:46:22.769Z"
   },
   {
    "duration": 242,
    "start_time": "2021-10-10T12:46:43.016Z"
   },
   {
    "duration": 247,
    "start_time": "2021-10-10T12:47:31.871Z"
   },
   {
    "duration": 250,
    "start_time": "2021-10-10T12:51:32.292Z"
   },
   {
    "duration": 239,
    "start_time": "2021-10-10T12:51:52.570Z"
   },
   {
    "duration": 244,
    "start_time": "2021-10-10T12:52:47.734Z"
   },
   {
    "duration": 256,
    "start_time": "2021-10-10T12:53:00.745Z"
   },
   {
    "duration": 708,
    "start_time": "2021-10-10T12:56:49.813Z"
   },
   {
    "duration": 348,
    "start_time": "2021-10-10T12:56:58.123Z"
   },
   {
    "duration": 405,
    "start_time": "2021-10-10T12:57:14.530Z"
   },
   {
    "duration": 312,
    "start_time": "2021-10-10T12:57:50.448Z"
   },
   {
    "duration": 267,
    "start_time": "2021-10-10T12:58:24.659Z"
   },
   {
    "duration": 447,
    "start_time": "2021-10-10T12:58:53.274Z"
   },
   {
    "duration": 318,
    "start_time": "2021-10-10T12:59:03.715Z"
   },
   {
    "duration": 332,
    "start_time": "2021-10-10T12:59:10.186Z"
   },
   {
    "duration": 124,
    "start_time": "2021-10-10T13:01:23.212Z"
   },
   {
    "duration": 127,
    "start_time": "2021-10-10T13:01:29.262Z"
   },
   {
    "duration": 473,
    "start_time": "2021-10-10T13:01:44.404Z"
   },
   {
    "duration": 380,
    "start_time": "2021-10-10T13:01:50.775Z"
   },
   {
    "duration": 45,
    "start_time": "2021-10-10T13:01:56.744Z"
   },
   {
    "duration": 382,
    "start_time": "2021-10-10T13:02:01.967Z"
   },
   {
    "duration": 261,
    "start_time": "2021-10-10T13:02:21.620Z"
   },
   {
    "duration": 247,
    "start_time": "2021-10-10T13:03:18.022Z"
   },
   {
    "duration": 373,
    "start_time": "2021-10-10T13:04:17.483Z"
   },
   {
    "duration": 254,
    "start_time": "2021-10-10T13:04:23.305Z"
   },
   {
    "duration": 252,
    "start_time": "2021-10-10T13:04:34.583Z"
   },
   {
    "duration": 295,
    "start_time": "2021-10-10T13:04:39.572Z"
   },
   {
    "duration": 310,
    "start_time": "2021-10-10T13:04:45.393Z"
   },
   {
    "duration": 506,
    "start_time": "2021-10-10T13:04:53.171Z"
   },
   {
    "duration": 1352,
    "start_time": "2021-10-10T13:05:06.303Z"
   },
   {
    "duration": 823,
    "start_time": "2021-10-10T13:05:14.953Z"
   },
   {
    "duration": 61,
    "start_time": "2021-10-10T13:08:17.464Z"
   },
   {
    "duration": 54,
    "start_time": "2021-10-10T13:08:42.508Z"
   },
   {
    "duration": 531,
    "start_time": "2021-10-10T13:09:00.723Z"
   },
   {
    "duration": 150,
    "start_time": "2021-10-10T13:09:24.899Z"
   },
   {
    "duration": 418,
    "start_time": "2021-10-10T13:58:00.492Z"
   },
   {
    "duration": 421,
    "start_time": "2021-10-10T13:58:04.833Z"
   },
   {
    "duration": 406,
    "start_time": "2021-10-10T14:23:44.194Z"
   },
   {
    "duration": 407,
    "start_time": "2021-10-10T14:23:53.000Z"
   },
   {
    "duration": 535,
    "start_time": "2021-10-10T14:23:58.503Z"
   },
   {
    "duration": 451,
    "start_time": "2021-10-10T14:24:05.074Z"
   },
   {
    "duration": 424,
    "start_time": "2021-10-10T14:24:07.602Z"
   },
   {
    "duration": 407,
    "start_time": "2021-10-10T14:24:18.564Z"
   },
   {
    "duration": 424,
    "start_time": "2021-10-10T14:24:29.727Z"
   },
   {
    "duration": 753,
    "start_time": "2021-10-10T14:24:44.747Z"
   },
   {
    "duration": 643,
    "start_time": "2021-10-10T14:25:03.265Z"
   },
   {
    "duration": 690,
    "start_time": "2021-10-10T14:25:07.877Z"
   },
   {
    "duration": 227,
    "start_time": "2021-10-10T14:25:16.673Z"
   },
   {
    "duration": 364,
    "start_time": "2021-10-10T14:25:22.104Z"
   },
   {
    "duration": 278,
    "start_time": "2021-10-10T14:25:36.947Z"
   },
   {
    "duration": 352,
    "start_time": "2021-10-10T14:25:47.187Z"
   },
   {
    "duration": 374,
    "start_time": "2021-10-10T14:25:57.375Z"
   },
   {
    "duration": 496,
    "start_time": "2021-10-10T14:26:01.735Z"
   },
   {
    "duration": 487,
    "start_time": "2021-10-10T14:26:18.502Z"
   },
   {
    "duration": 620,
    "start_time": "2021-10-10T14:29:28.732Z"
   },
   {
    "duration": 626,
    "start_time": "2021-10-10T14:29:50.176Z"
   },
   {
    "duration": 821,
    "start_time": "2021-10-10T14:30:14.422Z"
   },
   {
    "duration": 888,
    "start_time": "2021-10-10T14:30:35.656Z"
   },
   {
    "duration": 229,
    "start_time": "2021-10-10T14:33:48.153Z"
   },
   {
    "duration": 704,
    "start_time": "2021-10-10T14:34:18.630Z"
   },
   {
    "duration": 715,
    "start_time": "2021-10-10T14:34:42.055Z"
   },
   {
    "duration": 629,
    "start_time": "2021-10-10T14:34:51.572Z"
   },
   {
    "duration": 629,
    "start_time": "2021-10-10T14:35:02.165Z"
   },
   {
    "duration": 327,
    "start_time": "2021-10-10T14:36:26.354Z"
   },
   {
    "duration": 302,
    "start_time": "2021-10-10T14:36:32.354Z"
   },
   {
    "duration": 304,
    "start_time": "2021-10-10T14:36:40.135Z"
   },
   {
    "duration": 325,
    "start_time": "2021-10-10T14:36:44.844Z"
   },
   {
    "duration": 301,
    "start_time": "2021-10-10T14:36:51.471Z"
   },
   {
    "duration": 305,
    "start_time": "2021-10-10T14:36:58.673Z"
   },
   {
    "duration": 298,
    "start_time": "2021-10-10T14:37:05.833Z"
   },
   {
    "duration": 310,
    "start_time": "2021-10-10T14:37:23.794Z"
   },
   {
    "duration": 306,
    "start_time": "2021-10-10T14:37:27.894Z"
   },
   {
    "duration": 704,
    "start_time": "2021-10-10T14:37:59.823Z"
   },
   {
    "duration": 472,
    "start_time": "2021-10-10T14:38:31.587Z"
   },
   {
    "duration": 472,
    "start_time": "2021-10-10T14:38:37.282Z"
   },
   {
    "duration": 481,
    "start_time": "2021-10-10T14:40:26.582Z"
   },
   {
    "duration": 474,
    "start_time": "2021-10-10T14:40:31.374Z"
   },
   {
    "duration": 395,
    "start_time": "2021-10-10T14:40:36.788Z"
   },
   {
    "duration": 436,
    "start_time": "2021-10-10T14:40:43.497Z"
   },
   {
    "duration": 382,
    "start_time": "2021-10-10T14:40:49.629Z"
   },
   {
    "duration": 423,
    "start_time": "2021-10-10T14:41:07.518Z"
   },
   {
    "duration": 384,
    "start_time": "2021-10-10T14:41:54.411Z"
   },
   {
    "duration": 138,
    "start_time": "2021-10-10T14:52:05.624Z"
   },
   {
    "duration": 31,
    "start_time": "2021-10-10T14:52:10.699Z"
   },
   {
    "duration": 28,
    "start_time": "2021-10-10T14:53:24.640Z"
   },
   {
    "duration": 135,
    "start_time": "2021-10-10T14:53:31.418Z"
   },
   {
    "duration": 137,
    "start_time": "2021-10-10T14:53:35.720Z"
   },
   {
    "duration": 22,
    "start_time": "2021-10-10T14:53:39.159Z"
   },
   {
    "duration": 11,
    "start_time": "2021-10-10T14:53:41.728Z"
   },
   {
    "duration": 8,
    "start_time": "2021-10-10T14:53:58.462Z"
   },
   {
    "duration": 9,
    "start_time": "2021-10-10T14:54:02.148Z"
   },
   {
    "duration": 9,
    "start_time": "2021-10-10T14:54:10.318Z"
   },
   {
    "duration": 8,
    "start_time": "2021-10-10T15:02:42.720Z"
   },
   {
    "duration": 7,
    "start_time": "2021-10-10T15:05:28.510Z"
   },
   {
    "duration": 8,
    "start_time": "2021-10-10T15:05:33.388Z"
   },
   {
    "duration": 575,
    "start_time": "2021-10-10T15:10:22.959Z"
   },
   {
    "duration": 3,
    "start_time": "2021-10-10T15:11:26.279Z"
   },
   {
    "duration": 155,
    "start_time": "2021-10-10T15:12:04.527Z"
   },
   {
    "duration": 3,
    "start_time": "2021-10-10T15:12:10.793Z"
   },
   {
    "duration": 5,
    "start_time": "2021-10-10T15:12:14.558Z"
   },
   {
    "duration": 8,
    "start_time": "2021-10-10T15:12:46.282Z"
   },
   {
    "duration": 4,
    "start_time": "2021-10-10T15:12:56.367Z"
   },
   {
    "duration": 580,
    "start_time": "2021-10-10T15:12:58.075Z"
   },
   {
    "duration": 636,
    "start_time": "2021-10-10T15:13:10.309Z"
   },
   {
    "duration": 581,
    "start_time": "2021-10-10T15:13:20.139Z"
   },
   {
    "duration": 1349,
    "start_time": "2021-10-10T15:13:25.098Z"
   },
   {
    "duration": 368,
    "start_time": "2021-10-10T15:13:42.037Z"
   },
   {
    "duration": 612,
    "start_time": "2021-10-10T15:14:10.071Z"
   },
   {
    "duration": 136,
    "start_time": "2021-10-10T15:14:45.980Z"
   },
   {
    "duration": 8,
    "start_time": "2021-10-10T15:22:10.595Z"
   },
   {
    "duration": 144,
    "start_time": "2021-10-10T15:29:49.341Z"
   },
   {
    "duration": 142,
    "start_time": "2021-10-10T15:29:56.160Z"
   },
   {
    "duration": 29,
    "start_time": "2021-10-10T15:29:59.932Z"
   },
   {
    "duration": 10,
    "start_time": "2021-10-10T15:30:05.782Z"
   },
   {
    "duration": 7,
    "start_time": "2021-10-10T15:30:15.464Z"
   },
   {
    "duration": 407,
    "start_time": "2021-10-10T15:31:15.012Z"
   },
   {
    "duration": 9,
    "start_time": "2021-10-10T15:31:40.735Z"
   },
   {
    "duration": 383,
    "start_time": "2021-10-10T15:32:16.187Z"
   },
   {
    "duration": 351,
    "start_time": "2021-10-10T15:32:26.786Z"
   },
   {
    "duration": 630,
    "start_time": "2021-10-10T15:32:30.955Z"
   },
   {
    "duration": 9,
    "start_time": "2021-10-10T15:32:59.296Z"
   },
   {
    "duration": 8,
    "start_time": "2021-10-10T15:33:04.462Z"
   },
   {
    "duration": 8,
    "start_time": "2021-10-10T15:33:07.121Z"
   },
   {
    "duration": 77,
    "start_time": "2021-10-10T15:33:30.843Z"
   },
   {
    "duration": 8,
    "start_time": "2021-10-10T15:33:36.540Z"
   },
   {
    "duration": 412,
    "start_time": "2021-10-10T15:35:23.305Z"
   },
   {
    "duration": 376,
    "start_time": "2021-10-10T15:35:27.480Z"
   },
   {
    "duration": 342,
    "start_time": "2021-10-10T15:35:46.887Z"
   },
   {
    "duration": 328,
    "start_time": "2021-10-10T15:35:51.638Z"
   },
   {
    "duration": 335,
    "start_time": "2021-10-10T15:35:54.605Z"
   },
   {
    "duration": 347,
    "start_time": "2021-10-10T15:36:02.524Z"
   },
   {
    "duration": 336,
    "start_time": "2021-10-10T15:36:08.309Z"
   },
   {
    "duration": 343,
    "start_time": "2021-10-10T15:36:14.736Z"
   },
   {
    "duration": 329,
    "start_time": "2021-10-10T15:36:19.534Z"
   },
   {
    "duration": 332,
    "start_time": "2021-10-10T15:37:04.477Z"
   },
   {
    "duration": 337,
    "start_time": "2021-10-10T15:37:10.802Z"
   },
   {
    "duration": 338,
    "start_time": "2021-10-10T15:37:16.323Z"
   },
   {
    "duration": 601,
    "start_time": "2021-10-10T15:37:18.627Z"
   },
   {
    "duration": 8,
    "start_time": "2021-10-10T15:40:17.739Z"
   },
   {
    "duration": 9,
    "start_time": "2021-10-10T15:40:25.291Z"
   },
   {
    "duration": 7,
    "start_time": "2021-10-10T15:40:30.620Z"
   },
   {
    "duration": 8,
    "start_time": "2021-10-10T15:43:51.828Z"
   },
   {
    "duration": 7,
    "start_time": "2021-10-10T15:44:02.513Z"
   },
   {
    "duration": 8,
    "start_time": "2021-10-10T15:44:14.805Z"
   },
   {
    "duration": 9,
    "start_time": "2021-10-10T15:44:17.191Z"
   },
   {
    "duration": 272,
    "start_time": "2021-10-10T15:49:33.041Z"
   },
   {
    "duration": 256,
    "start_time": "2021-10-10T15:49:37.275Z"
   },
   {
    "duration": 193,
    "start_time": "2021-10-10T15:49:54.973Z"
   },
   {
    "duration": 194,
    "start_time": "2021-10-10T15:50:18.124Z"
   },
   {
    "duration": 139,
    "start_time": "2021-10-10T15:50:36.217Z"
   },
   {
    "duration": 3,
    "start_time": "2021-10-10T15:50:44.160Z"
   },
   {
    "duration": 136,
    "start_time": "2021-10-10T15:50:49.465Z"
   },
   {
    "duration": 4,
    "start_time": "2021-10-10T15:51:36.328Z"
   },
   {
    "duration": 3,
    "start_time": "2021-10-10T15:51:54.574Z"
   },
   {
    "duration": 67,
    "start_time": "2021-10-10T15:52:01.018Z"
   },
   {
    "duration": 425,
    "start_time": "2021-10-10T15:54:27.281Z"
   },
   {
    "duration": 421,
    "start_time": "2021-10-10T15:54:34.516Z"
   },
   {
    "duration": 420,
    "start_time": "2021-10-10T15:55:13.769Z"
   },
   {
    "duration": 389,
    "start_time": "2021-10-10T15:56:05.379Z"
   },
   {
    "duration": 385,
    "start_time": "2021-10-10T15:56:14.140Z"
   },
   {
    "duration": 392,
    "start_time": "2021-10-10T15:56:23.047Z"
   },
   {
    "duration": 392,
    "start_time": "2021-10-10T15:56:32.012Z"
   },
   {
    "duration": 378,
    "start_time": "2021-10-10T15:56:37.284Z"
   },
   {
    "duration": 9,
    "start_time": "2021-10-10T15:57:16.542Z"
   },
   {
    "duration": 401,
    "start_time": "2021-10-10T15:58:01.604Z"
   },
   {
    "duration": 679,
    "start_time": "2021-10-10T15:58:24.958Z"
   },
   {
    "duration": 356,
    "start_time": "2021-10-10T15:58:40.234Z"
   },
   {
    "duration": 209,
    "start_time": "2021-10-10T15:59:27.543Z"
   },
   {
    "duration": 8,
    "start_time": "2021-10-10T16:07:44.498Z"
   },
   {
    "duration": 25,
    "start_time": "2021-10-10T16:08:27.649Z"
   },
   {
    "duration": 28,
    "start_time": "2021-10-10T16:08:30.478Z"
   },
   {
    "duration": 23,
    "start_time": "2021-10-10T16:08:45.931Z"
   },
   {
    "duration": 78,
    "start_time": "2021-10-10T16:08:49.644Z"
   },
   {
    "duration": 20,
    "start_time": "2021-10-10T16:09:54.975Z"
   },
   {
    "duration": 82,
    "start_time": "2021-10-10T16:09:57.412Z"
   },
   {
    "duration": 79,
    "start_time": "2021-10-10T16:10:09.478Z"
   },
   {
    "duration": 3,
    "start_time": "2021-10-10T16:10:44.261Z"
   },
   {
    "duration": 77,
    "start_time": "2021-10-10T16:10:45.209Z"
   },
   {
    "duration": 23,
    "start_time": "2021-10-10T16:10:46.209Z"
   },
   {
    "duration": 3,
    "start_time": "2021-10-10T16:10:57.523Z"
   },
   {
    "duration": 3,
    "start_time": "2021-10-10T16:10:57.729Z"
   },
   {
    "duration": 6,
    "start_time": "2021-10-10T16:10:57.944Z"
   },
   {
    "duration": 20,
    "start_time": "2021-10-10T16:11:02.115Z"
   },
   {
    "duration": 19,
    "start_time": "2021-10-10T16:11:09.901Z"
   },
   {
    "duration": 6,
    "start_time": "2021-10-10T16:11:11.823Z"
   },
   {
    "duration": 9,
    "start_time": "2021-10-10T16:11:13.560Z"
   },
   {
    "duration": 19,
    "start_time": "2021-10-10T16:11:14.469Z"
   },
   {
    "duration": 20,
    "start_time": "2021-10-10T16:11:14.854Z"
   },
   {
    "duration": 7,
    "start_time": "2021-10-10T16:11:15.447Z"
   },
   {
    "duration": 22,
    "start_time": "2021-10-10T16:11:15.848Z"
   },
   {
    "duration": 384,
    "start_time": "2021-10-10T16:11:16.616Z"
   },
   {
    "duration": 6,
    "start_time": "2021-10-10T16:11:17.002Z"
   },
   {
    "duration": 31,
    "start_time": "2021-10-10T16:11:17.194Z"
   },
   {
    "duration": 12,
    "start_time": "2021-10-10T16:11:17.600Z"
   },
   {
    "duration": 450,
    "start_time": "2021-10-10T16:11:17.986Z"
   },
   {
    "duration": 420,
    "start_time": "2021-10-10T16:11:18.438Z"
   },
   {
    "duration": 9,
    "start_time": "2021-10-10T16:11:18.859Z"
   },
   {
    "duration": 416,
    "start_time": "2021-10-10T16:11:19.001Z"
   },
   {
    "duration": 8,
    "start_time": "2021-10-10T16:11:19.419Z"
   },
   {
    "duration": 384,
    "start_time": "2021-10-10T16:11:19.762Z"
   },
   {
    "duration": 9,
    "start_time": "2021-10-10T16:11:20.148Z"
   },
   {
    "duration": 227,
    "start_time": "2021-10-10T16:11:22.216Z"
   },
   {
    "duration": 6,
    "start_time": "2021-10-10T16:11:22.518Z"
   },
   {
    "duration": 86,
    "start_time": "2021-10-10T16:11:25.785Z"
   },
   {
    "duration": 27,
    "start_time": "2021-10-10T16:11:37.187Z"
   },
   {
    "duration": 80,
    "start_time": "2021-10-10T16:11:38.858Z"
   },
   {
    "duration": 49,
    "start_time": "2021-10-10T16:17:43.585Z"
   },
   {
    "duration": 14,
    "start_time": "2021-10-10T16:20:24.635Z"
   },
   {
    "duration": 11,
    "start_time": "2021-10-10T16:20:33.560Z"
   },
   {
    "duration": 12,
    "start_time": "2021-10-10T16:20:46.404Z"
   },
   {
    "duration": 12,
    "start_time": "2021-10-10T16:20:49.000Z"
   },
   {
    "duration": 12,
    "start_time": "2021-10-10T16:20:51.239Z"
   },
   {
    "duration": 11,
    "start_time": "2021-10-10T16:20:54.181Z"
   },
   {
    "duration": 25,
    "start_time": "2021-10-10T16:21:14.740Z"
   },
   {
    "duration": 86,
    "start_time": "2021-10-10T16:21:18.695Z"
   },
   {
    "duration": 12,
    "start_time": "2021-10-10T16:21:24.260Z"
   },
   {
    "duration": 11,
    "start_time": "2021-10-10T16:21:28.071Z"
   },
   {
    "duration": 11,
    "start_time": "2021-10-10T16:21:32.759Z"
   },
   {
    "duration": 13,
    "start_time": "2021-10-10T16:21:35.137Z"
   },
   {
    "duration": 15,
    "start_time": "2021-10-10T16:21:40.452Z"
   },
   {
    "duration": 12,
    "start_time": "2021-10-10T16:22:00.288Z"
   },
   {
    "duration": 22,
    "start_time": "2021-10-10T16:22:26.809Z"
   },
   {
    "duration": 19,
    "start_time": "2021-10-10T16:22:32.083Z"
   },
   {
    "duration": 20,
    "start_time": "2021-10-10T16:22:35.491Z"
   },
   {
    "duration": 21,
    "start_time": "2021-10-10T16:22:42.867Z"
   },
   {
    "duration": 20,
    "start_time": "2021-10-10T16:22:45.707Z"
   },
   {
    "duration": 28,
    "start_time": "2021-10-10T16:22:47.972Z"
   },
   {
    "duration": 18,
    "start_time": "2021-10-10T16:22:50.680Z"
   },
   {
    "duration": 19,
    "start_time": "2021-10-10T16:22:53.132Z"
   },
   {
    "duration": 20,
    "start_time": "2021-10-10T16:23:00.879Z"
   },
   {
    "duration": 26,
    "start_time": "2021-10-10T16:23:04.919Z"
   },
   {
    "duration": 28,
    "start_time": "2021-10-10T16:23:07.589Z"
   },
   {
    "duration": 20,
    "start_time": "2021-10-10T16:23:48.038Z"
   },
   {
    "duration": 29,
    "start_time": "2021-10-10T16:23:53.014Z"
   },
   {
    "duration": 30,
    "start_time": "2021-10-10T16:23:56.495Z"
   },
   {
    "duration": 3831,
    "start_time": "2021-10-10T16:24:04.061Z"
   },
   {
    "duration": 4,
    "start_time": "2021-10-10T16:24:07.895Z"
   },
   {
    "duration": 93,
    "start_time": "2021-10-10T16:24:07.902Z"
   },
   {
    "duration": 30,
    "start_time": "2021-10-10T16:24:07.997Z"
   },
   {
    "duration": 22,
    "start_time": "2021-10-10T16:24:08.029Z"
   },
   {
    "duration": 25,
    "start_time": "2021-10-10T16:24:08.053Z"
   },
   {
    "duration": 41,
    "start_time": "2021-10-10T16:24:08.079Z"
   },
   {
    "duration": 67,
    "start_time": "2021-10-10T16:24:08.123Z"
   },
   {
    "duration": 23,
    "start_time": "2021-10-10T16:24:08.208Z"
   },
   {
    "duration": 3,
    "start_time": "2021-10-10T16:24:08.233Z"
   },
   {
    "duration": 7,
    "start_time": "2021-10-10T16:24:08.238Z"
   },
   {
    "duration": 7,
    "start_time": "2021-10-10T16:24:08.247Z"
   },
   {
    "duration": 6,
    "start_time": "2021-10-10T16:24:08.256Z"
   },
   {
    "duration": 42,
    "start_time": "2021-10-10T16:24:08.264Z"
   },
   {
    "duration": 21,
    "start_time": "2021-10-10T16:24:08.308Z"
   },
   {
    "duration": 5,
    "start_time": "2021-10-10T16:24:08.330Z"
   },
   {
    "duration": 12,
    "start_time": "2021-10-10T16:24:08.337Z"
   },
   {
    "duration": 13,
    "start_time": "2021-10-10T16:24:08.350Z"
   },
   {
    "duration": 49,
    "start_time": "2021-10-10T16:24:08.365Z"
   },
   {
    "duration": 5,
    "start_time": "2021-10-10T16:24:08.415Z"
   },
   {
    "duration": 21,
    "start_time": "2021-10-10T16:24:08.421Z"
   },
   {
    "duration": 720,
    "start_time": "2021-10-10T16:24:08.443Z"
   },
   {
    "duration": 6,
    "start_time": "2021-10-10T16:24:09.166Z"
   },
   {
    "duration": 59,
    "start_time": "2021-10-10T16:24:09.174Z"
   },
   {
    "duration": 11,
    "start_time": "2021-10-10T16:24:09.235Z"
   },
   {
    "duration": 504,
    "start_time": "2021-10-10T16:24:09.248Z"
   },
   {
    "duration": 461,
    "start_time": "2021-10-10T16:24:09.754Z"
   },
   {
    "duration": 11,
    "start_time": "2021-10-10T16:24:10.217Z"
   },
   {
    "duration": 446,
    "start_time": "2021-10-10T16:24:10.229Z"
   },
   {
    "duration": 9,
    "start_time": "2021-10-10T16:24:10.677Z"
   },
   {
    "duration": 391,
    "start_time": "2021-10-10T16:24:10.700Z"
   },
   {
    "duration": 18,
    "start_time": "2021-10-10T16:24:11.093Z"
   },
   {
    "duration": 236,
    "start_time": "2021-10-10T16:24:11.113Z"
   },
   {
    "duration": 4,
    "start_time": "2021-10-10T16:24:11.351Z"
   },
   {
    "duration": 46,
    "start_time": "2021-10-10T16:24:11.357Z"
   },
   {
    "duration": 85,
    "start_time": "2021-10-10T16:24:11.406Z"
   },
   {
    "duration": 20,
    "start_time": "2021-10-10T16:24:12.018Z"
   },
   {
    "duration": 22,
    "start_time": "2021-10-10T16:24:12.182Z"
   },
   {
    "duration": 13,
    "start_time": "2021-10-10T16:24:13.571Z"
   },
   {
    "duration": 9,
    "start_time": "2021-10-10T16:24:13.772Z"
   },
   {
    "duration": 17,
    "start_time": "2021-10-10T16:24:13.956Z"
   },
   {
    "duration": 10,
    "start_time": "2021-10-10T16:24:15.727Z"
   },
   {
    "duration": 9,
    "start_time": "2021-10-10T16:24:16.314Z"
   },
   {
    "duration": 7,
    "start_time": "2021-10-10T16:24:16.706Z"
   },
   {
    "duration": 24,
    "start_time": "2021-10-10T16:24:27.594Z"
   },
   {
    "duration": 23,
    "start_time": "2021-10-10T16:24:52.523Z"
   },
   {
    "duration": 22,
    "start_time": "2021-10-10T16:24:52.724Z"
   },
   {
    "duration": 25,
    "start_time": "2021-10-10T16:24:52.910Z"
   },
   {
    "duration": 17,
    "start_time": "2021-10-10T16:24:53.663Z"
   },
   {
    "duration": 78,
    "start_time": "2021-10-10T16:24:53.719Z"
   },
   {
    "duration": 29,
    "start_time": "2021-10-10T16:24:53.824Z"
   },
   {
    "duration": 4,
    "start_time": "2021-10-10T16:24:54.090Z"
   },
   {
    "duration": 4,
    "start_time": "2021-10-10T16:24:54.310Z"
   },
   {
    "duration": 6,
    "start_time": "2021-10-10T16:24:54.491Z"
   },
   {
    "duration": 4,
    "start_time": "2021-10-10T16:24:55.069Z"
   },
   {
    "duration": 17,
    "start_time": "2021-10-10T16:24:55.422Z"
   },
   {
    "duration": 83,
    "start_time": "2021-10-10T16:25:03.369Z"
   },
   {
    "duration": 28,
    "start_time": "2021-10-10T16:25:03.591Z"
   },
   {
    "duration": 25,
    "start_time": "2021-10-10T16:25:03.753Z"
   },
   {
    "duration": 26,
    "start_time": "2021-10-10T16:25:04.272Z"
   },
   {
    "duration": 15,
    "start_time": "2021-10-10T16:25:04.375Z"
   },
   {
    "duration": 71,
    "start_time": "2021-10-10T16:25:04.438Z"
   },
   {
    "duration": 19,
    "start_time": "2021-10-10T16:25:04.531Z"
   },
   {
    "duration": 4,
    "start_time": "2021-10-10T16:25:04.984Z"
   },
   {
    "duration": 4,
    "start_time": "2021-10-10T16:25:05.160Z"
   },
   {
    "duration": 6,
    "start_time": "2021-10-10T16:25:05.335Z"
   },
   {
    "duration": 5,
    "start_time": "2021-10-10T16:25:05.942Z"
   },
   {
    "duration": 18,
    "start_time": "2021-10-10T16:25:06.032Z"
   },
   {
    "duration": 25,
    "start_time": "2021-10-10T16:25:06.204Z"
   },
   {
    "duration": 9,
    "start_time": "2021-10-10T16:25:06.299Z"
   },
   {
    "duration": 9,
    "start_time": "2021-10-10T16:25:06.353Z"
   },
   {
    "duration": 16,
    "start_time": "2021-10-10T16:25:06.491Z"
   },
   {
    "duration": 24,
    "start_time": "2021-10-10T16:25:06.582Z"
   },
   {
    "duration": 9,
    "start_time": "2021-10-10T16:25:06.705Z"
   },
   {
    "duration": 30,
    "start_time": "2021-10-10T16:25:06.796Z"
   },
   {
    "duration": 413,
    "start_time": "2021-10-10T16:25:06.964Z"
   },
   {
    "duration": 22,
    "start_time": "2021-10-10T16:25:07.379Z"
   },
   {
    "duration": 37,
    "start_time": "2021-10-10T16:25:07.406Z"
   },
   {
    "duration": 11,
    "start_time": "2021-10-10T16:25:07.444Z"
   },
   {
    "duration": 508,
    "start_time": "2021-10-10T16:25:07.457Z"
   },
   {
    "duration": 447,
    "start_time": "2021-10-10T16:25:07.967Z"
   },
   {
    "duration": 8,
    "start_time": "2021-10-10T16:25:08.416Z"
   },
   {
    "duration": 443,
    "start_time": "2021-10-10T16:25:08.426Z"
   },
   {
    "duration": 7,
    "start_time": "2021-10-10T16:25:08.871Z"
   },
   {
    "duration": 412,
    "start_time": "2021-10-10T16:25:08.880Z"
   },
   {
    "duration": 12,
    "start_time": "2021-10-10T16:25:09.294Z"
   },
   {
    "duration": 243,
    "start_time": "2021-10-10T16:25:09.308Z"
   },
   {
    "duration": 5,
    "start_time": "2021-10-10T16:25:09.553Z"
   },
   {
    "duration": 53,
    "start_time": "2021-10-10T16:25:09.560Z"
   },
   {
    "duration": 90,
    "start_time": "2021-10-10T16:25:09.615Z"
   },
   {
    "duration": 4,
    "start_time": "2021-10-10T16:25:09.707Z"
   },
   {
    "duration": 21,
    "start_time": "2021-10-10T16:25:09.713Z"
   },
   {
    "duration": 20,
    "start_time": "2021-10-10T16:25:09.735Z"
   },
   {
    "duration": 14,
    "start_time": "2021-10-10T16:25:09.975Z"
   },
   {
    "duration": 9,
    "start_time": "2021-10-10T16:25:10.025Z"
   },
   {
    "duration": 19,
    "start_time": "2021-10-10T16:25:10.522Z"
   },
   {
    "duration": 15,
    "start_time": "2021-10-10T16:25:13.153Z"
   },
   {
    "duration": 9,
    "start_time": "2021-10-10T16:25:13.511Z"
   },
   {
    "duration": 21,
    "start_time": "2021-10-10T16:25:24.148Z"
   },
   {
    "duration": 5,
    "start_time": "2021-10-10T16:25:31.001Z"
   },
   {
    "duration": 18,
    "start_time": "2021-10-10T16:25:31.773Z"
   },
   {
    "duration": 2,
    "start_time": "2021-10-10T16:25:39.368Z"
   },
   {
    "duration": 23,
    "start_time": "2021-10-10T16:25:44.096Z"
   },
   {
    "duration": 19,
    "start_time": "2021-10-10T16:25:51.542Z"
   },
   {
    "duration": 20,
    "start_time": "2021-10-10T16:25:53.754Z"
   },
   {
    "duration": 3,
    "start_time": "2021-10-10T16:25:58.555Z"
   },
   {
    "duration": 18,
    "start_time": "2021-10-10T16:26:00.413Z"
   },
   {
    "duration": 22,
    "start_time": "2021-10-10T16:26:06.695Z"
   },
   {
    "duration": 21,
    "start_time": "2021-10-10T16:26:09.649Z"
   },
   {
    "duration": 21,
    "start_time": "2021-10-10T16:26:15.107Z"
   },
   {
    "duration": 27,
    "start_time": "2021-10-10T16:27:42.271Z"
   },
   {
    "duration": 64,
    "start_time": "2021-10-10T16:27:46.141Z"
   },
   {
    "duration": 34,
    "start_time": "2021-10-10T16:27:50.675Z"
   },
   {
    "duration": 26,
    "start_time": "2021-10-10T16:28:04.741Z"
   },
   {
    "duration": 26,
    "start_time": "2021-10-10T16:28:28.526Z"
   },
   {
    "duration": 3,
    "start_time": "2021-10-10T16:28:30.432Z"
   },
   {
    "duration": 12,
    "start_time": "2021-10-10T16:32:27.670Z"
   },
   {
    "duration": 10,
    "start_time": "2021-10-10T16:32:34.399Z"
   },
   {
    "duration": 12,
    "start_time": "2021-10-10T16:32:54.765Z"
   },
   {
    "duration": 17,
    "start_time": "2021-10-10T16:33:00.603Z"
   },
   {
    "duration": 12,
    "start_time": "2021-10-10T16:33:03.775Z"
   },
   {
    "duration": 14,
    "start_time": "2021-10-10T16:33:12.714Z"
   },
   {
    "duration": 15,
    "start_time": "2021-10-10T16:33:15.502Z"
   },
   {
    "duration": 14,
    "start_time": "2021-10-10T16:33:20.970Z"
   },
   {
    "duration": 12,
    "start_time": "2021-10-10T16:33:29.648Z"
   },
   {
    "duration": 12,
    "start_time": "2021-10-10T16:36:49.288Z"
   },
   {
    "duration": 19,
    "start_time": "2021-10-10T16:36:59.993Z"
   },
   {
    "duration": 15,
    "start_time": "2021-10-10T16:37:04.170Z"
   },
   {
    "duration": 11,
    "start_time": "2021-10-10T16:37:07.223Z"
   },
   {
    "duration": 26,
    "start_time": "2021-10-10T16:38:05.409Z"
   },
   {
    "duration": 25,
    "start_time": "2021-10-10T16:38:58.311Z"
   },
   {
    "duration": 20,
    "start_time": "2021-10-10T16:39:04.256Z"
   },
   {
    "duration": 262,
    "start_time": "2021-10-10T16:39:56.678Z"
   },
   {
    "duration": 96,
    "start_time": "2021-10-10T16:40:17.732Z"
   },
   {
    "duration": 660,
    "start_time": "2021-10-10T16:40:56.683Z"
   },
   {
    "duration": 333,
    "start_time": "2021-10-10T16:41:39.730Z"
   },
   {
    "duration": 367,
    "start_time": "2021-10-10T16:41:44.010Z"
   },
   {
    "duration": 49,
    "start_time": "2021-10-10T16:52:16.240Z"
   },
   {
    "duration": 147,
    "start_time": "2021-10-10T16:52:24.217Z"
   },
   {
    "duration": 152,
    "start_time": "2021-10-10T16:52:38.360Z"
   },
   {
    "duration": 140,
    "start_time": "2021-10-10T16:52:43.281Z"
   },
   {
    "duration": -3345,
    "start_time": "2021-10-10T16:58:25.686Z"
   },
   {
    "duration": 68168,
    "start_time": "2021-10-10T16:58:27.119Z"
   },
   {
    "duration": 43,
    "start_time": "2021-10-10T16:59:40.652Z"
   },
   {
    "duration": 51,
    "start_time": "2021-10-10T16:59:50.020Z"
   },
   {
    "duration": 31,
    "start_time": "2021-10-10T17:00:00.142Z"
   },
   {
    "duration": 30,
    "start_time": "2021-10-10T17:00:07.269Z"
   },
   {
    "duration": 35,
    "start_time": "2021-10-10T17:00:15.936Z"
   },
   {
    "duration": 3832,
    "start_time": "2021-10-10T17:00:38.009Z"
   },
   {
    "duration": 3,
    "start_time": "2021-10-10T17:00:41.844Z"
   },
   {
    "duration": 97,
    "start_time": "2021-10-10T17:00:41.849Z"
   },
   {
    "duration": 25,
    "start_time": "2021-10-10T17:00:41.948Z"
   },
   {
    "duration": 41,
    "start_time": "2021-10-10T17:00:41.974Z"
   },
   {
    "duration": 34,
    "start_time": "2021-10-10T17:00:42.016Z"
   },
   {
    "duration": 13,
    "start_time": "2021-10-10T17:00:42.051Z"
   },
   {
    "duration": 82,
    "start_time": "2021-10-10T17:00:42.067Z"
   },
   {
    "duration": 18,
    "start_time": "2021-10-10T17:00:42.151Z"
   },
   {
    "duration": 3,
    "start_time": "2021-10-10T17:00:42.170Z"
   },
   {
    "duration": 24,
    "start_time": "2021-10-10T17:00:42.175Z"
   },
   {
    "duration": 5,
    "start_time": "2021-10-10T17:00:42.201Z"
   },
   {
    "duration": 6,
    "start_time": "2021-10-10T17:00:42.208Z"
   },
   {
    "duration": 21,
    "start_time": "2021-10-10T17:00:42.216Z"
   },
   {
    "duration": 19,
    "start_time": "2021-10-10T17:00:42.239Z"
   },
   {
    "duration": 6,
    "start_time": "2021-10-10T17:00:42.260Z"
   },
   {
    "duration": 42,
    "start_time": "2021-10-10T17:00:42.267Z"
   },
   {
    "duration": 12,
    "start_time": "2021-10-10T17:00:42.311Z"
   },
   {
    "duration": 21,
    "start_time": "2021-10-10T17:00:42.325Z"
   },
   {
    "duration": 5,
    "start_time": "2021-10-10T17:00:42.347Z"
   },
   {
    "duration": 59,
    "start_time": "2021-10-10T17:00:42.354Z"
   },
   {
    "duration": 389,
    "start_time": "2021-10-10T17:00:42.415Z"
   },
   {
    "duration": 6,
    "start_time": "2021-10-10T17:00:42.808Z"
   },
   {
    "duration": 44,
    "start_time": "2021-10-10T17:00:42.816Z"
   },
   {
    "duration": 10,
    "start_time": "2021-10-10T17:00:42.863Z"
   },
   {
    "duration": 476,
    "start_time": "2021-10-10T17:00:42.875Z"
   },
   {
    "duration": 407,
    "start_time": "2021-10-10T17:00:43.353Z"
   },
   {
    "duration": 11,
    "start_time": "2021-10-10T17:00:43.762Z"
   },
   {
    "duration": 425,
    "start_time": "2021-10-10T17:00:43.775Z"
   },
   {
    "duration": 8,
    "start_time": "2021-10-10T17:00:44.202Z"
   },
   {
    "duration": 389,
    "start_time": "2021-10-10T17:00:44.213Z"
   },
   {
    "duration": 7,
    "start_time": "2021-10-10T17:00:44.603Z"
   },
   {
    "duration": 226,
    "start_time": "2021-10-10T17:00:44.612Z"
   },
   {
    "duration": 4,
    "start_time": "2021-10-10T17:00:44.840Z"
   },
   {
    "duration": 40,
    "start_time": "2021-10-10T17:00:44.914Z"
   },
   {
    "duration": 85,
    "start_time": "2021-10-10T17:00:44.970Z"
   },
   {
    "duration": 24,
    "start_time": "2021-10-10T17:00:45.070Z"
   },
   {
    "duration": 384,
    "start_time": "2021-10-10T17:00:45.240Z"
   },
   {
    "duration": 13,
    "start_time": "2021-10-10T17:01:08.176Z"
   },
   {
    "duration": 9,
    "start_time": "2021-10-10T17:01:08.190Z"
   },
   {
    "duration": 16,
    "start_time": "2021-10-10T17:01:08.200Z"
   },
   {
    "duration": 4085,
    "start_time": "2021-10-10T17:02:28.404Z"
   },
   {
    "duration": 192,
    "start_time": "2021-10-10T17:03:38.776Z"
   },
   {
    "duration": 338,
    "start_time": "2021-10-10T17:07:18.141Z"
   },
   {
    "duration": 66,
    "start_time": "2021-10-10T17:07:22.246Z"
   },
   {
    "duration": 41,
    "start_time": "2021-10-10T17:07:32.341Z"
   },
   {
    "duration": 43,
    "start_time": "2021-10-10T17:07:38.714Z"
   },
   {
    "duration": 45,
    "start_time": "2021-10-10T17:07:47.668Z"
   },
   {
    "duration": 123326,
    "start_time": "2021-10-10T17:07:55.707Z"
   },
   {
    "duration": 5105,
    "start_time": "2021-10-10T17:10:03.106Z"
   },
   {
    "duration": 166,
    "start_time": "2021-10-10T17:10:36.181Z"
   },
   {
    "duration": 14,
    "start_time": "2021-10-10T17:16:45.192Z"
   },
   {
    "duration": 18,
    "start_time": "2021-10-10T17:16:50.493Z"
   },
   {
    "duration": 18,
    "start_time": "2021-10-10T17:17:10.803Z"
   },
   {
    "duration": 16,
    "start_time": "2021-10-10T17:17:16.473Z"
   },
   {
    "duration": 4010,
    "start_time": "2021-10-10T17:17:35.221Z"
   },
   {
    "duration": 3,
    "start_time": "2021-10-10T17:17:39.233Z"
   },
   {
    "duration": 101,
    "start_time": "2021-10-10T17:17:39.238Z"
   },
   {
    "duration": 29,
    "start_time": "2021-10-10T17:17:39.341Z"
   },
   {
    "duration": 42,
    "start_time": "2021-10-10T17:17:39.371Z"
   },
   {
    "duration": 25,
    "start_time": "2021-10-10T17:17:39.415Z"
   },
   {
    "duration": 18,
    "start_time": "2021-10-10T17:17:39.442Z"
   },
   {
    "duration": 87,
    "start_time": "2021-10-10T17:17:39.463Z"
   },
   {
    "duration": 19,
    "start_time": "2021-10-10T17:17:39.552Z"
   },
   {
    "duration": 3,
    "start_time": "2021-10-10T17:17:39.573Z"
   },
   {
    "duration": 39,
    "start_time": "2021-10-10T17:17:39.577Z"
   },
   {
    "duration": 7,
    "start_time": "2021-10-10T17:17:39.618Z"
   },
   {
    "duration": 5,
    "start_time": "2021-10-10T17:17:39.627Z"
   },
   {
    "duration": 22,
    "start_time": "2021-10-10T17:17:39.634Z"
   },
   {
    "duration": 20,
    "start_time": "2021-10-10T17:17:39.658Z"
   },
   {
    "duration": 6,
    "start_time": "2021-10-10T17:17:39.679Z"
   },
   {
    "duration": 30,
    "start_time": "2021-10-10T17:17:39.686Z"
   },
   {
    "duration": 11,
    "start_time": "2021-10-10T17:17:39.718Z"
   },
   {
    "duration": 18,
    "start_time": "2021-10-10T17:17:39.731Z"
   },
   {
    "duration": 4,
    "start_time": "2021-10-10T17:17:39.751Z"
   },
   {
    "duration": 48,
    "start_time": "2021-10-10T17:17:39.756Z"
   },
   {
    "duration": 422,
    "start_time": "2021-10-10T17:17:39.806Z"
   },
   {
    "duration": 5,
    "start_time": "2021-10-10T17:17:40.231Z"
   },
   {
    "duration": 63,
    "start_time": "2021-10-10T17:17:40.238Z"
   },
   {
    "duration": 12,
    "start_time": "2021-10-10T17:17:40.308Z"
   },
   {
    "duration": 505,
    "start_time": "2021-10-10T17:17:40.321Z"
   },
   {
    "duration": 429,
    "start_time": "2021-10-10T17:17:40.828Z"
   },
   {
    "duration": 10,
    "start_time": "2021-10-10T17:17:41.258Z"
   },
   {
    "duration": 440,
    "start_time": "2021-10-10T17:17:41.270Z"
   },
   {
    "duration": 9,
    "start_time": "2021-10-10T17:17:41.712Z"
   },
   {
    "duration": 396,
    "start_time": "2021-10-10T17:17:41.722Z"
   },
   {
    "duration": 7,
    "start_time": "2021-10-10T17:17:42.120Z"
   },
   {
    "duration": 223,
    "start_time": "2021-10-10T17:17:42.129Z"
   },
   {
    "duration": 5,
    "start_time": "2021-10-10T17:17:42.354Z"
   },
   {
    "duration": 97,
    "start_time": "2021-10-10T17:17:42.362Z"
   },
   {
    "duration": 49,
    "start_time": "2021-10-10T17:17:42.461Z"
   },
   {
    "duration": 97,
    "start_time": "2021-10-10T17:17:42.512Z"
   },
   {
    "duration": 25,
    "start_time": "2021-10-10T17:17:42.611Z"
   },
   {
    "duration": 363,
    "start_time": "2021-10-10T17:17:42.638Z"
   },
   {
    "duration": 20,
    "start_time": "2021-10-10T17:17:43.003Z"
   },
   {
    "duration": 8,
    "start_time": "2021-10-10T17:17:43.025Z"
   },
   {
    "duration": 17,
    "start_time": "2021-10-10T17:17:43.035Z"
   },
   {
    "duration": 10,
    "start_time": "2021-10-10T17:17:43.053Z"
   },
   {
    "duration": 38,
    "start_time": "2021-10-10T17:17:43.065Z"
   },
   {
    "duration": 8,
    "start_time": "2021-10-10T17:17:43.105Z"
   },
   {
    "duration": 53,
    "start_time": "2021-10-10T17:18:58.295Z"
   },
   {
    "duration": 47,
    "start_time": "2021-10-10T17:19:08.714Z"
   },
   {
    "duration": 4049,
    "start_time": "2021-10-10T17:19:33.284Z"
   },
   {
    "duration": 3,
    "start_time": "2021-10-10T17:19:37.335Z"
   },
   {
    "duration": 100,
    "start_time": "2021-10-10T17:19:37.341Z"
   },
   {
    "duration": 24,
    "start_time": "2021-10-10T17:19:37.443Z"
   },
   {
    "duration": 39,
    "start_time": "2021-10-10T17:19:37.468Z"
   },
   {
    "duration": 27,
    "start_time": "2021-10-10T17:19:37.509Z"
   },
   {
    "duration": 14,
    "start_time": "2021-10-10T17:19:37.537Z"
   },
   {
    "duration": 95,
    "start_time": "2021-10-10T17:19:37.554Z"
   },
   {
    "duration": 19,
    "start_time": "2021-10-10T17:19:37.652Z"
   },
   {
    "duration": 3,
    "start_time": "2021-10-10T17:19:37.672Z"
   },
   {
    "duration": 6,
    "start_time": "2021-10-10T17:19:37.677Z"
   },
   {
    "duration": 9,
    "start_time": "2021-10-10T17:19:37.699Z"
   },
   {
    "duration": 5,
    "start_time": "2021-10-10T17:19:37.896Z"
   },
   {
    "duration": 22,
    "start_time": "2021-10-10T17:19:38.605Z"
   },
   {
    "duration": 20,
    "start_time": "2021-10-10T17:19:40.074Z"
   },
   {
    "duration": 5,
    "start_time": "2021-10-10T17:19:40.481Z"
   },
   {
    "duration": 9,
    "start_time": "2021-10-10T17:19:40.658Z"
   },
   {
    "duration": 13,
    "start_time": "2021-10-10T17:19:41.382Z"
   },
   {
    "duration": 21,
    "start_time": "2021-10-10T17:19:41.746Z"
   },
   {
    "duration": 5,
    "start_time": "2021-10-10T17:19:42.252Z"
   },
   {
    "duration": 24,
    "start_time": "2021-10-10T17:19:42.609Z"
   },
   {
    "duration": 417,
    "start_time": "2021-10-10T17:19:43.373Z"
   },
   {
    "duration": 10,
    "start_time": "2021-10-10T17:19:47.005Z"
   },
   {
    "duration": 31,
    "start_time": "2021-10-10T17:19:47.220Z"
   },
   {
    "duration": 11,
    "start_time": "2021-10-10T17:19:47.579Z"
   },
   {
    "duration": 479,
    "start_time": "2021-10-10T17:19:47.906Z"
   },
   {
    "duration": 441,
    "start_time": "2021-10-10T17:19:48.386Z"
   },
   {
    "duration": 9,
    "start_time": "2021-10-10T17:19:48.829Z"
   },
   {
    "duration": 405,
    "start_time": "2021-10-10T17:19:49.142Z"
   },
   {
    "duration": 7,
    "start_time": "2021-10-10T17:19:49.549Z"
   },
   {
    "duration": 404,
    "start_time": "2021-10-10T17:19:49.846Z"
   },
   {
    "duration": 9,
    "start_time": "2021-10-10T17:19:50.841Z"
   },
   {
    "duration": 215,
    "start_time": "2021-10-10T17:19:53.249Z"
   },
   {
    "duration": 5,
    "start_time": "2021-10-10T17:19:53.465Z"
   },
   {
    "duration": 86,
    "start_time": "2021-10-10T17:19:55.632Z"
   },
   {
    "duration": 40,
    "start_time": "2021-10-10T17:19:56.652Z"
   },
   {
    "duration": 36,
    "start_time": "2021-10-10T17:20:15.490Z"
   },
   {
    "duration": 86,
    "start_time": "2021-10-10T17:20:16.655Z"
   },
   {
    "duration": 27,
    "start_time": "2021-10-10T17:20:18.348Z"
   },
   {
    "duration": 40,
    "start_time": "2021-10-10T17:20:23.970Z"
   },
   {
    "duration": 4,
    "start_time": "2021-10-10T17:20:33.537Z"
   },
   {
    "duration": 4,
    "start_time": "2021-10-10T17:20:49.456Z"
   },
   {
    "duration": 30,
    "start_time": "2021-10-10T17:20:50.629Z"
   },
   {
    "duration": 79,
    "start_time": "2021-10-10T17:20:53.080Z"
   },
   {
    "duration": 24,
    "start_time": "2021-10-10T17:20:53.161Z"
   },
   {
    "duration": 4,
    "start_time": "2021-10-10T17:20:53.476Z"
   },
   {
    "duration": 27,
    "start_time": "2021-10-10T17:21:09.991Z"
   },
   {
    "duration": 4,
    "start_time": "2021-10-10T17:21:13.113Z"
   },
   {
    "duration": 27,
    "start_time": "2021-10-10T17:22:27.372Z"
   },
   {
    "duration": 24,
    "start_time": "2021-10-10T17:22:54.665Z"
   },
   {
    "duration": 5,
    "start_time": "2021-10-10T17:22:58.412Z"
   },
   {
    "duration": 82,
    "start_time": "2021-10-10T17:23:25.193Z"
   },
   {
    "duration": 21,
    "start_time": "2021-10-10T17:23:30.513Z"
   },
   {
    "duration": 4,
    "start_time": "2021-10-10T17:23:31.276Z"
   },
   {
    "duration": 4,
    "start_time": "2021-10-10T17:23:31.333Z"
   },
   {
    "duration": 9,
    "start_time": "2021-10-10T17:23:31.403Z"
   },
   {
    "duration": 5,
    "start_time": "2021-10-10T17:23:31.542Z"
   },
   {
    "duration": 19,
    "start_time": "2021-10-10T17:23:31.645Z"
   },
   {
    "duration": 20,
    "start_time": "2021-10-10T17:23:31.833Z"
   },
   {
    "duration": 5,
    "start_time": "2021-10-10T17:23:31.932Z"
   },
   {
    "duration": 9,
    "start_time": "2021-10-10T17:23:31.988Z"
   },
   {
    "duration": 12,
    "start_time": "2021-10-10T17:23:32.135Z"
   },
   {
    "duration": 20,
    "start_time": "2021-10-10T17:23:32.237Z"
   },
   {
    "duration": 5,
    "start_time": "2021-10-10T17:23:32.371Z"
   },
   {
    "duration": 22,
    "start_time": "2021-10-10T17:23:32.469Z"
   },
   {
    "duration": 406,
    "start_time": "2021-10-10T17:23:32.653Z"
   },
   {
    "duration": 5,
    "start_time": "2021-10-10T17:23:33.061Z"
   },
   {
    "duration": 53,
    "start_time": "2021-10-10T17:23:33.068Z"
   },
   {
    "duration": 10,
    "start_time": "2021-10-10T17:23:33.123Z"
   },
   {
    "duration": 494,
    "start_time": "2021-10-10T17:23:33.134Z"
   },
   {
    "duration": 431,
    "start_time": "2021-10-10T17:23:33.630Z"
   },
   {
    "duration": 8,
    "start_time": "2021-10-10T17:23:34.062Z"
   },
   {
    "duration": 448,
    "start_time": "2021-10-10T17:23:34.072Z"
   },
   {
    "duration": 8,
    "start_time": "2021-10-10T17:23:34.522Z"
   },
   {
    "duration": 450,
    "start_time": "2021-10-10T17:23:34.532Z"
   },
   {
    "duration": 19,
    "start_time": "2021-10-10T17:23:34.984Z"
   },
   {
    "duration": 302,
    "start_time": "2021-10-10T17:23:35.007Z"
   },
   {
    "duration": 8,
    "start_time": "2021-10-10T17:23:35.311Z"
   },
   {
    "duration": 35,
    "start_time": "2021-10-10T17:24:10.465Z"
   },
   {
    "duration": 420,
    "start_time": "2021-10-10T17:24:19.227Z"
   },
   {
    "duration": 6,
    "start_time": "2021-10-10T17:24:43.434Z"
   },
   {
    "duration": 2,
    "start_time": "2021-10-10T17:24:46.490Z"
   },
   {
    "duration": 4,
    "start_time": "2021-10-10T17:24:46.862Z"
   },
   {
    "duration": 27,
    "start_time": "2021-10-10T17:24:47.879Z"
   },
   {
    "duration": 71,
    "start_time": "2021-10-10T17:24:48.701Z"
   },
   {
    "duration": 4,
    "start_time": "2021-10-10T17:24:52.493Z"
   },
   {
    "duration": 4,
    "start_time": "2021-10-10T17:25:12.858Z"
   },
   {
    "duration": 3,
    "start_time": "2021-10-10T17:25:20.149Z"
   },
   {
    "duration": 15,
    "start_time": "2021-10-10T17:25:21.230Z"
   },
   {
    "duration": 4,
    "start_time": "2021-10-10T17:25:23.832Z"
   },
   {
    "duration": 22,
    "start_time": "2021-10-10T17:25:32.163Z"
   },
   {
    "duration": 3,
    "start_time": "2021-10-10T17:25:33.271Z"
   },
   {
    "duration": 3,
    "start_time": "2021-10-10T17:25:36.033Z"
   },
   {
    "duration": 4,
    "start_time": "2021-10-10T17:25:36.877Z"
   },
   {
    "duration": 22,
    "start_time": "2021-10-10T17:25:38.138Z"
   },
   {
    "duration": 4,
    "start_time": "2021-10-10T17:25:38.987Z"
   },
   {
    "duration": 3,
    "start_time": "2021-10-10T17:25:58.036Z"
   },
   {
    "duration": 4,
    "start_time": "2021-10-10T17:25:59.475Z"
   },
   {
    "duration": 26,
    "start_time": "2021-10-10T17:26:00.953Z"
   },
   {
    "duration": 4,
    "start_time": "2021-10-10T17:26:01.874Z"
   },
   {
    "duration": 5,
    "start_time": "2021-10-10T17:26:11.294Z"
   },
   {
    "duration": 4,
    "start_time": "2021-10-10T17:26:12.914Z"
   },
   {
    "duration": 33,
    "start_time": "2021-10-10T17:26:13.878Z"
   },
   {
    "duration": 7,
    "start_time": "2021-10-10T17:26:14.602Z"
   },
   {
    "duration": 3,
    "start_time": "2021-10-10T17:26:21.243Z"
   },
   {
    "duration": 24,
    "start_time": "2021-10-10T17:26:22.225Z"
   },
   {
    "duration": 5,
    "start_time": "2021-10-10T17:26:23.014Z"
   },
   {
    "duration": 3,
    "start_time": "2021-10-10T17:26:27.663Z"
   },
   {
    "duration": 26,
    "start_time": "2021-10-10T17:26:28.726Z"
   },
   {
    "duration": 5,
    "start_time": "2021-10-10T17:26:29.525Z"
   },
   {
    "duration": 4,
    "start_time": "2021-10-10T17:26:34.149Z"
   },
   {
    "duration": 35,
    "start_time": "2021-10-10T17:26:35.081Z"
   },
   {
    "duration": 7,
    "start_time": "2021-10-10T17:26:36.103Z"
   },
   {
    "duration": 4,
    "start_time": "2021-10-10T17:26:40.909Z"
   },
   {
    "duration": 4,
    "start_time": "2021-10-10T17:26:42.679Z"
   },
   {
    "duration": 28,
    "start_time": "2021-10-10T17:26:43.480Z"
   },
   {
    "duration": 4,
    "start_time": "2021-10-10T17:26:44.351Z"
   },
   {
    "duration": 33,
    "start_time": "2021-10-10T17:27:16.292Z"
   },
   {
    "duration": 4,
    "start_time": "2021-10-10T17:27:18.247Z"
   },
   {
    "duration": 3,
    "start_time": "2021-10-10T17:27:19.538Z"
   },
   {
    "duration": 6,
    "start_time": "2021-10-10T17:27:20.119Z"
   },
   {
    "duration": 30,
    "start_time": "2021-10-10T17:27:20.926Z"
   },
   {
    "duration": 4,
    "start_time": "2021-10-10T17:27:21.644Z"
   },
   {
    "duration": 31,
    "start_time": "2021-10-10T17:28:59.295Z"
   },
   {
    "duration": 6,
    "start_time": "2021-10-10T17:29:00.502Z"
   },
   {
    "duration": 435,
    "start_time": "2021-10-10T17:29:04.380Z"
   },
   {
    "duration": 19,
    "start_time": "2021-10-10T17:31:23.819Z"
   },
   {
    "duration": 147,
    "start_time": "2021-10-10T17:31:49.845Z"
   },
   {
    "duration": 488,
    "start_time": "2021-10-10T17:31:53.925Z"
   },
   {
    "duration": 13,
    "start_time": "2021-10-10T17:32:06.266Z"
   },
   {
    "duration": 21,
    "start_time": "2021-10-10T17:32:13.328Z"
   },
   {
    "duration": 9,
    "start_time": "2021-10-10T17:32:21.744Z"
   },
   {
    "duration": 9,
    "start_time": "2021-10-10T17:32:30.309Z"
   },
   {
    "duration": 11,
    "start_time": "2021-10-10T17:32:33.340Z"
   },
   {
    "duration": 132,
    "start_time": "2021-10-10T17:32:40.990Z"
   },
   {
    "duration": 14,
    "start_time": "2021-10-10T17:33:31.196Z"
   },
   {
    "duration": 11,
    "start_time": "2021-10-10T17:33:45.031Z"
   },
   {
    "duration": 8,
    "start_time": "2021-10-10T17:33:48.992Z"
   },
   {
    "duration": 13,
    "start_time": "2021-10-10T17:34:23.170Z"
   },
   {
    "duration": 8,
    "start_time": "2021-10-10T17:34:23.847Z"
   },
   {
    "duration": 16,
    "start_time": "2021-10-10T17:34:29.893Z"
   },
   {
    "duration": 14,
    "start_time": "2021-10-10T17:35:30.452Z"
   },
   {
    "duration": 10,
    "start_time": "2021-10-10T17:35:52.407Z"
   },
   {
    "duration": 33,
    "start_time": "2021-10-10T17:45:29.223Z"
   },
   {
    "duration": 3,
    "start_time": "2021-10-10T17:46:30.688Z"
   },
   {
    "duration": 25,
    "start_time": "2021-10-10T17:46:33.958Z"
   },
   {
    "duration": 35,
    "start_time": "2021-10-10T17:47:32.325Z"
   },
   {
    "duration": 56475,
    "start_time": "2021-10-10T17:48:02.754Z"
   },
   {
    "duration": -1940,
    "start_time": "2021-10-10T17:49:01.178Z"
   },
   {
    "duration": 141,
    "start_time": "2021-10-10T17:49:03.504Z"
   },
   {
    "duration": 132,
    "start_time": "2021-10-10T17:52:44.102Z"
   },
   {
    "duration": 136,
    "start_time": "2021-10-10T17:53:38.659Z"
   },
   {
    "duration": 536,
    "start_time": "2021-10-10T17:53:45.139Z"
   },
   {
    "duration": 490,
    "start_time": "2021-10-10T17:54:02.145Z"
   },
   {
    "duration": 464,
    "start_time": "2021-10-10T17:54:44.202Z"
   },
   {
    "duration": 314,
    "start_time": "2021-10-10T17:54:50.770Z"
   },
   {
    "duration": 370,
    "start_time": "2021-10-10T17:54:59.232Z"
   },
   {
    "duration": 388,
    "start_time": "2021-10-10T17:56:55.342Z"
   },
   {
    "duration": 530,
    "start_time": "2021-10-10T17:57:36.216Z"
   },
   {
    "duration": 46,
    "start_time": "2021-10-10T17:58:12.362Z"
   },
   {
    "duration": 40,
    "start_time": "2021-10-10T17:58:13.589Z"
   },
   {
    "duration": 701,
    "start_time": "2021-10-10T17:58:19.550Z"
   },
   {
    "duration": 50,
    "start_time": "2021-10-10T17:58:33.751Z"
   },
   {
    "duration": 40,
    "start_time": "2021-10-10T17:58:40.866Z"
   },
   {
    "duration": 51,
    "start_time": "2021-10-10T17:58:46.239Z"
   },
   {
    "duration": 576,
    "start_time": "2021-10-10T17:58:55.117Z"
   },
   {
    "duration": 64,
    "start_time": "2021-10-10T17:59:19.664Z"
   },
   {
    "duration": 1300,
    "start_time": "2021-10-10T17:59:31.600Z"
   },
   {
    "duration": 1344,
    "start_time": "2021-10-10T17:59:59.524Z"
   },
   {
    "duration": 1195,
    "start_time": "2021-10-10T18:00:19.544Z"
   },
   {
    "duration": 370,
    "start_time": "2021-10-10T18:00:38.000Z"
   },
   {
    "duration": 421,
    "start_time": "2021-10-10T18:01:12.218Z"
   },
   {
    "duration": 261,
    "start_time": "2021-10-10T18:02:55.549Z"
   },
   {
    "duration": 266,
    "start_time": "2021-10-10T18:03:03.407Z"
   },
   {
    "duration": 576,
    "start_time": "2021-10-10T18:03:22.459Z"
   },
   {
    "duration": 147,
    "start_time": "2021-10-10T18:04:55.401Z"
   },
   {
    "duration": 208,
    "start_time": "2021-10-10T18:06:32.809Z"
   },
   {
    "duration": 144,
    "start_time": "2021-10-10T18:07:18.546Z"
   },
   {
    "duration": 38,
    "start_time": "2021-10-10T18:07:25.827Z"
   },
   {
    "duration": 12,
    "start_time": "2021-10-10T18:07:32.993Z"
   },
   {
    "duration": 43,
    "start_time": "2021-10-10T18:07:36.801Z"
   },
   {
    "duration": 80,
    "start_time": "2021-10-10T18:12:22.315Z"
   },
   {
    "duration": 4,
    "start_time": "2021-10-10T18:12:23.087Z"
   },
   {
    "duration": 22,
    "start_time": "2021-10-10T18:12:23.901Z"
   },
   {
    "duration": 21,
    "start_time": "2021-10-10T18:12:27.095Z"
   },
   {
    "duration": 21,
    "start_time": "2021-10-10T18:12:27.613Z"
   },
   {
    "duration": 19,
    "start_time": "2021-10-10T18:12:27.734Z"
   },
   {
    "duration": 77,
    "start_time": "2021-10-10T18:12:27.792Z"
   },
   {
    "duration": 19,
    "start_time": "2021-10-10T18:12:27.957Z"
   },
   {
    "duration": 4,
    "start_time": "2021-10-10T18:12:28.231Z"
   },
   {
    "duration": 4,
    "start_time": "2021-10-10T18:12:28.288Z"
   },
   {
    "duration": 6,
    "start_time": "2021-10-10T18:12:28.356Z"
   },
   {
    "duration": 5,
    "start_time": "2021-10-10T18:12:28.508Z"
   },
   {
    "duration": 19,
    "start_time": "2021-10-10T18:12:28.614Z"
   },
   {
    "duration": 21,
    "start_time": "2021-10-10T18:12:28.817Z"
   },
   {
    "duration": 6,
    "start_time": "2021-10-10T18:12:28.914Z"
   },
   {
    "duration": 10,
    "start_time": "2021-10-10T18:12:28.971Z"
   },
   {
    "duration": 12,
    "start_time": "2021-10-10T18:12:29.115Z"
   },
   {
    "duration": 21,
    "start_time": "2021-10-10T18:12:29.223Z"
   },
   {
    "duration": 5,
    "start_time": "2021-10-10T18:12:29.368Z"
   },
   {
    "duration": 22,
    "start_time": "2021-10-10T18:12:29.548Z"
   },
   {
    "duration": 394,
    "start_time": "2021-10-10T18:12:30.111Z"
   },
   {
    "duration": 5,
    "start_time": "2021-10-10T18:12:30.507Z"
   },
   {
    "duration": 36,
    "start_time": "2021-10-10T18:12:30.514Z"
   },
   {
    "duration": 10,
    "start_time": "2021-10-10T18:12:30.552Z"
   },
   {
    "duration": 470,
    "start_time": "2021-10-10T18:12:30.564Z"
   },
   {
    "duration": 399,
    "start_time": "2021-10-10T18:12:31.035Z"
   },
   {
    "duration": 8,
    "start_time": "2021-10-10T18:12:31.436Z"
   },
   {
    "duration": 407,
    "start_time": "2021-10-10T18:12:31.446Z"
   },
   {
    "duration": 4,
    "start_time": "2021-10-10T18:13:02.328Z"
   },
   {
    "duration": 4,
    "start_time": "2021-10-10T18:13:02.401Z"
   },
   {
    "duration": 8,
    "start_time": "2021-10-10T18:13:02.494Z"
   },
   {
    "duration": 4,
    "start_time": "2021-10-10T18:13:02.905Z"
   },
   {
    "duration": 16,
    "start_time": "2021-10-10T18:13:03.409Z"
   },
   {
    "duration": 16,
    "start_time": "2021-10-10T18:13:08.919Z"
   },
   {
    "duration": 5,
    "start_time": "2021-10-10T18:13:10.050Z"
   },
   {
    "duration": 9,
    "start_time": "2021-10-10T18:13:10.227Z"
   },
   {
    "duration": 13,
    "start_time": "2021-10-10T18:13:12.098Z"
   },
   {
    "duration": 22,
    "start_time": "2021-10-10T18:13:34.141Z"
   },
   {
    "duration": 5,
    "start_time": "2021-10-10T18:13:35.266Z"
   },
   {
    "duration": 23,
    "start_time": "2021-10-10T18:13:36.613Z"
   },
   {
    "duration": 381,
    "start_time": "2021-10-10T18:13:42.018Z"
   },
   {
    "duration": 5,
    "start_time": "2021-10-10T18:13:43.017Z"
   },
   {
    "duration": 38,
    "start_time": "2021-10-10T18:13:43.840Z"
   },
   {
    "duration": 12,
    "start_time": "2021-10-10T18:13:49.180Z"
   },
   {
    "duration": 443,
    "start_time": "2021-10-10T18:13:54.475Z"
   },
   {
    "duration": 396,
    "start_time": "2021-10-10T18:13:55.308Z"
   },
   {
    "duration": 8,
    "start_time": "2021-10-10T18:13:55.705Z"
   },
   {
    "duration": 401,
    "start_time": "2021-10-10T18:13:56.122Z"
   },
   {
    "duration": 7,
    "start_time": "2021-10-10T18:13:56.525Z"
   },
   {
    "duration": 367,
    "start_time": "2021-10-10T18:13:57.419Z"
   },
   {
    "duration": 8,
    "start_time": "2021-10-10T18:13:57.871Z"
   },
   {
    "duration": 40,
    "start_time": "2021-10-10T18:14:05.538Z"
   },
   {
    "duration": 17,
    "start_time": "2021-10-10T18:14:49.240Z"
   },
   {
    "duration": 9,
    "start_time": "2021-10-10T18:14:49.744Z"
   },
   {
    "duration": 16,
    "start_time": "2021-10-10T18:14:50.392Z"
   },
   {
    "duration": 13,
    "start_time": "2021-10-10T18:14:59.919Z"
   },
   {
    "duration": 11,
    "start_time": "2021-10-10T18:15:00.381Z"
   },
   {
    "duration": 5,
    "start_time": "2021-10-10T18:15:00.829Z"
   },
   {
    "duration": 4,
    "start_time": "2021-10-10T18:15:41.076Z"
   },
   {
    "duration": 202,
    "start_time": "2021-10-10T18:15:41.785Z"
   },
   {
    "duration": 12,
    "start_time": "2021-10-10T18:15:43.541Z"
   },
   {
    "duration": 10,
    "start_time": "2021-10-10T18:15:43.679Z"
   },
   {
    "duration": 10,
    "start_time": "2021-10-10T18:15:43.781Z"
   },
   {
    "duration": 10,
    "start_time": "2021-10-10T18:15:43.883Z"
   },
   {
    "duration": 10,
    "start_time": "2021-10-10T18:15:43.984Z"
   },
   {
    "duration": 45,
    "start_time": "2021-10-10T18:15:45.153Z"
   },
   {
    "duration": 932,
    "start_time": "2021-10-10T18:15:45.430Z"
   },
   {
    "duration": 569,
    "start_time": "2021-10-10T18:18:06.772Z"
   },
   {
    "duration": 580,
    "start_time": "2021-10-10T18:20:51.936Z"
   },
   {
    "duration": 608,
    "start_time": "2021-10-10T18:21:00.230Z"
   },
   {
    "duration": 945,
    "start_time": "2021-10-10T18:22:29.060Z"
   },
   {
    "duration": 921,
    "start_time": "2021-10-10T18:24:22.722Z"
   },
   {
    "duration": 50,
    "start_time": "2021-10-10T18:24:34.032Z"
   },
   {
    "duration": 900,
    "start_time": "2021-10-10T18:24:36.024Z"
   },
   {
    "duration": 889,
    "start_time": "2021-10-10T18:24:48.785Z"
   },
   {
    "duration": 991,
    "start_time": "2021-10-10T18:24:58.253Z"
   },
   {
    "duration": 893,
    "start_time": "2021-10-10T18:25:06.888Z"
   },
   {
    "duration": 882,
    "start_time": "2021-10-10T18:25:16.381Z"
   },
   {
    "duration": 915,
    "start_time": "2021-10-10T18:25:22.866Z"
   },
   {
    "duration": 918,
    "start_time": "2021-10-10T18:25:38.422Z"
   },
   {
    "duration": 904,
    "start_time": "2021-10-10T18:26:20.836Z"
   },
   {
    "duration": 842,
    "start_time": "2021-10-10T18:27:06.913Z"
   },
   {
    "duration": 880,
    "start_time": "2021-10-10T18:27:23.610Z"
   },
   {
    "duration": 845,
    "start_time": "2021-10-10T18:27:36.233Z"
   },
   {
    "duration": 855,
    "start_time": "2021-10-10T18:27:41.206Z"
   },
   {
    "duration": 4,
    "start_time": "2021-10-10T18:29:49.636Z"
   },
   {
    "duration": 4,
    "start_time": "2021-10-10T18:29:52.977Z"
   },
   {
    "duration": 4,
    "start_time": "2021-10-10T18:29:57.606Z"
   },
   {
    "duration": 4,
    "start_time": "2021-10-10T18:30:21.655Z"
   },
   {
    "duration": 4,
    "start_time": "2021-10-10T18:30:27.662Z"
   },
   {
    "duration": 86,
    "start_time": "2021-10-10T18:30:41.300Z"
   },
   {
    "duration": 4,
    "start_time": "2021-10-10T18:30:41.888Z"
   },
   {
    "duration": 23,
    "start_time": "2021-10-10T18:30:41.945Z"
   },
   {
    "duration": 21,
    "start_time": "2021-10-10T18:30:42.010Z"
   },
   {
    "duration": 21,
    "start_time": "2021-10-10T18:30:42.073Z"
   },
   {
    "duration": 14,
    "start_time": "2021-10-10T18:30:42.186Z"
   },
   {
    "duration": 67,
    "start_time": "2021-10-10T18:30:42.238Z"
   },
   {
    "duration": 18,
    "start_time": "2021-10-10T18:30:42.394Z"
   },
   {
    "duration": 4,
    "start_time": "2021-10-10T18:30:42.660Z"
   },
   {
    "duration": 3,
    "start_time": "2021-10-10T18:30:42.714Z"
   },
   {
    "duration": 6,
    "start_time": "2021-10-10T18:30:42.785Z"
   },
   {
    "duration": 4,
    "start_time": "2021-10-10T18:30:42.922Z"
   },
   {
    "duration": 18,
    "start_time": "2021-10-10T18:30:43.017Z"
   },
   {
    "duration": 19,
    "start_time": "2021-10-10T18:30:43.203Z"
   },
   {
    "duration": 6,
    "start_time": "2021-10-10T18:30:43.307Z"
   },
   {
    "duration": 9,
    "start_time": "2021-10-10T18:30:43.355Z"
   },
   {
    "duration": 13,
    "start_time": "2021-10-10T18:30:43.495Z"
   },
   {
    "duration": 20,
    "start_time": "2021-10-10T18:30:43.601Z"
   },
   {
    "duration": 5,
    "start_time": "2021-10-10T18:30:43.747Z"
   },
   {
    "duration": 22,
    "start_time": "2021-10-10T18:30:43.849Z"
   },
   {
    "duration": 397,
    "start_time": "2021-10-10T18:30:44.335Z"
   },
   {
    "duration": 5,
    "start_time": "2021-10-10T18:30:44.734Z"
   },
   {
    "duration": 30,
    "start_time": "2021-10-10T18:30:44.741Z"
   },
   {
    "duration": 30,
    "start_time": "2021-10-10T18:30:44.773Z"
   },
   {
    "duration": 469,
    "start_time": "2021-10-10T18:30:44.805Z"
   },
   {
    "duration": 400,
    "start_time": "2021-10-10T18:30:45.276Z"
   },
   {
    "duration": 8,
    "start_time": "2021-10-10T18:30:45.678Z"
   },
   {
    "duration": 431,
    "start_time": "2021-10-10T18:30:45.701Z"
   },
   {
    "duration": 9,
    "start_time": "2021-10-10T18:30:46.135Z"
   },
   {
    "duration": 394,
    "start_time": "2021-10-10T18:30:46.146Z"
   },
   {
    "duration": 8,
    "start_time": "2021-10-10T18:30:46.542Z"
   },
   {
    "duration": 244,
    "start_time": "2021-10-10T18:30:46.552Z"
   },
   {
    "duration": 6,
    "start_time": "2021-10-10T18:30:46.800Z"
   },
   {
    "duration": 33,
    "start_time": "2021-10-10T18:30:46.807Z"
   },
   {
    "duration": 100,
    "start_time": "2021-10-10T18:30:46.843Z"
   },
   {
    "duration": 33,
    "start_time": "2021-10-10T18:30:46.945Z"
   },
   {
    "duration": 416,
    "start_time": "2021-10-10T18:30:46.980Z"
   },
   {
    "duration": 13,
    "start_time": "2021-10-10T18:30:47.765Z"
   },
   {
    "duration": 9,
    "start_time": "2021-10-10T18:30:47.818Z"
   },
   {
    "duration": 16,
    "start_time": "2021-10-10T18:30:47.879Z"
   },
   {
    "duration": 9,
    "start_time": "2021-10-10T18:30:48.146Z"
   },
   {
    "duration": 8,
    "start_time": "2021-10-10T18:30:48.239Z"
   },
   {
    "duration": 6,
    "start_time": "2021-10-10T18:30:48.337Z"
   },
   {
    "duration": 6,
    "start_time": "2021-10-10T18:30:48.441Z"
   },
   {
    "duration": 205,
    "start_time": "2021-10-10T18:30:48.528Z"
   },
   {
    "duration": 10,
    "start_time": "2021-10-10T18:30:49.860Z"
   },
   {
    "duration": 11,
    "start_time": "2021-10-10T18:30:50.420Z"
   },
   {
    "duration": 10,
    "start_time": "2021-10-10T18:30:51.424Z"
   },
   {
    "duration": 9,
    "start_time": "2021-10-10T18:30:52.053Z"
   },
   {
    "duration": 10,
    "start_time": "2021-10-10T18:30:52.711Z"
   },
   {
    "duration": 4,
    "start_time": "2021-10-10T18:30:54.069Z"
   },
   {
    "duration": 4,
    "start_time": "2021-10-10T18:30:54.470Z"
   },
   {
    "duration": 39,
    "start_time": "2021-10-10T18:30:55.162Z"
   },
   {
    "duration": 550,
    "start_time": "2021-10-10T18:30:55.436Z"
   },
   {
    "duration": 573,
    "start_time": "2021-10-10T18:30:56.473Z"
   },
   {
    "duration": 9,
    "start_time": "2021-10-10T18:31:35.965Z"
   },
   {
    "duration": 4,
    "start_time": "2021-10-10T18:31:36.554Z"
   },
   {
    "duration": 5,
    "start_time": "2021-10-10T18:31:37.601Z"
   },
   {
    "duration": 11,
    "start_time": "2021-10-10T18:31:41.210Z"
   },
   {
    "duration": 4,
    "start_time": "2021-10-10T18:31:42.715Z"
   },
   {
    "duration": 4,
    "start_time": "2021-10-10T18:31:43.066Z"
   },
   {
    "duration": 4,
    "start_time": "2021-10-10T18:32:34.420Z"
   },
   {
    "duration": 10,
    "start_time": "2021-10-10T18:33:13.597Z"
   },
   {
    "duration": 11,
    "start_time": "2021-10-10T18:33:36.942Z"
   },
   {
    "duration": 10,
    "start_time": "2021-10-10T18:33:41.874Z"
   },
   {
    "duration": 10,
    "start_time": "2021-10-10T18:33:44.659Z"
   },
   {
    "duration": 10,
    "start_time": "2021-10-10T18:33:47.214Z"
   },
   {
    "duration": 4,
    "start_time": "2021-10-10T18:33:52.605Z"
   },
   {
    "duration": 5,
    "start_time": "2021-10-10T18:34:02.677Z"
   },
   {
    "duration": 4,
    "start_time": "2021-10-10T18:36:28.272Z"
   },
   {
    "duration": 581,
    "start_time": "2021-10-10T18:36:44.922Z"
   },
   {
    "duration": 547,
    "start_time": "2021-10-10T18:36:55.454Z"
   },
   {
    "duration": 6,
    "start_time": "2021-10-10T18:37:56.542Z"
   },
   {
    "duration": 15,
    "start_time": "2021-10-10T18:38:01.196Z"
   },
   {
    "duration": 18,
    "start_time": "2021-10-10T18:38:06.997Z"
   },
   {
    "duration": 94,
    "start_time": "2021-10-10T18:38:48.376Z"
   },
   {
    "duration": 3,
    "start_time": "2021-10-10T18:38:48.476Z"
   },
   {
    "duration": 22,
    "start_time": "2021-10-10T18:38:48.535Z"
   },
   {
    "duration": 22,
    "start_time": "2021-10-10T18:38:48.601Z"
   },
   {
    "duration": 23,
    "start_time": "2021-10-10T18:38:48.665Z"
   },
   {
    "duration": 14,
    "start_time": "2021-10-10T18:38:48.771Z"
   },
   {
    "duration": 68,
    "start_time": "2021-10-10T18:38:48.827Z"
   },
   {
    "duration": 19,
    "start_time": "2021-10-10T18:38:48.982Z"
   },
   {
    "duration": 3,
    "start_time": "2021-10-10T18:38:49.249Z"
   },
   {
    "duration": 4,
    "start_time": "2021-10-10T18:38:49.301Z"
   },
   {
    "duration": 6,
    "start_time": "2021-10-10T18:38:49.369Z"
   },
   {
    "duration": 4,
    "start_time": "2021-10-10T18:38:49.508Z"
   },
   {
    "duration": 18,
    "start_time": "2021-10-10T18:38:49.606Z"
   },
   {
    "duration": 19,
    "start_time": "2021-10-10T18:38:49.794Z"
   },
   {
    "duration": 5,
    "start_time": "2021-10-10T18:38:49.892Z"
   },
   {
    "duration": 8,
    "start_time": "2021-10-10T18:38:49.946Z"
   },
   {
    "duration": 14,
    "start_time": "2021-10-10T18:38:50.086Z"
   },
   {
    "duration": 21,
    "start_time": "2021-10-10T18:38:50.192Z"
   },
   {
    "duration": 5,
    "start_time": "2021-10-10T18:38:50.334Z"
   },
   {
    "duration": 21,
    "start_time": "2021-10-10T18:38:50.432Z"
   },
   {
    "duration": 398,
    "start_time": "2021-10-10T18:38:50.615Z"
   },
   {
    "duration": 5,
    "start_time": "2021-10-10T18:38:51.015Z"
   },
   {
    "duration": 29,
    "start_time": "2021-10-10T18:38:51.022Z"
   },
   {
    "duration": 10,
    "start_time": "2021-10-10T18:38:51.053Z"
   },
   {
    "duration": 456,
    "start_time": "2021-10-10T18:38:51.090Z"
   },
   {
    "duration": 412,
    "start_time": "2021-10-10T18:38:51.547Z"
   },
   {
    "duration": 7,
    "start_time": "2021-10-10T18:38:51.961Z"
   },
   {
    "duration": 399,
    "start_time": "2021-10-10T18:38:51.970Z"
   },
   {
    "duration": 7,
    "start_time": "2021-10-10T18:38:52.370Z"
   },
   {
    "duration": 379,
    "start_time": "2021-10-10T18:38:52.378Z"
   },
   {
    "duration": 8,
    "start_time": "2021-10-10T18:38:52.758Z"
   },
   {
    "duration": 222,
    "start_time": "2021-10-10T18:38:52.768Z"
   },
   {
    "duration": 10,
    "start_time": "2021-10-10T18:38:52.992Z"
   },
   {
    "duration": 11,
    "start_time": "2021-10-10T18:38:53.004Z"
   },
   {
    "duration": 32,
    "start_time": "2021-10-10T18:38:53.016Z"
   },
   {
    "duration": 88,
    "start_time": "2021-10-10T18:38:53.050Z"
   },
   {
    "duration": 30,
    "start_time": "2021-10-10T18:38:53.140Z"
   },
   {
    "duration": 400,
    "start_time": "2021-10-10T18:38:53.171Z"
   },
   {
    "duration": 13,
    "start_time": "2021-10-10T18:38:53.573Z"
   },
   {
    "duration": 18,
    "start_time": "2021-10-10T18:38:53.587Z"
   },
   {
    "duration": 15,
    "start_time": "2021-10-10T18:38:53.607Z"
   },
   {
    "duration": 7,
    "start_time": "2021-10-10T18:38:53.624Z"
   },
   {
    "duration": 9,
    "start_time": "2021-10-10T18:38:53.633Z"
   },
   {
    "duration": 5,
    "start_time": "2021-10-10T18:38:53.703Z"
   },
   {
    "duration": 6,
    "start_time": "2021-10-10T18:38:53.800Z"
   },
   {
    "duration": 214,
    "start_time": "2021-10-10T18:38:53.902Z"
   },
   {
    "duration": 10,
    "start_time": "2021-10-10T18:38:54.203Z"
   },
   {
    "duration": 15,
    "start_time": "2021-10-10T18:39:01.913Z"
   },
   {
    "duration": 9,
    "start_time": "2021-10-10T18:40:08.600Z"
   },
   {
    "duration": 14,
    "start_time": "2021-10-10T18:40:14.546Z"
   },
   {
    "duration": 17,
    "start_time": "2021-10-10T18:40:22.939Z"
   },
   {
    "duration": 3986,
    "start_time": "2021-10-10T18:40:39.507Z"
   },
   {
    "duration": 3,
    "start_time": "2021-10-10T18:40:43.496Z"
   },
   {
    "duration": 89,
    "start_time": "2021-10-10T18:40:43.501Z"
   },
   {
    "duration": 21,
    "start_time": "2021-10-10T18:40:54.013Z"
   },
   {
    "duration": 22,
    "start_time": "2021-10-10T18:40:54.174Z"
   },
   {
    "duration": 32,
    "start_time": "2021-10-10T18:40:54.270Z"
   },
   {
    "duration": 14,
    "start_time": "2021-10-10T18:40:54.527Z"
   },
   {
    "duration": 67,
    "start_time": "2021-10-10T18:40:54.667Z"
   },
   {
    "duration": 26,
    "start_time": "2021-10-10T18:40:55.376Z"
   },
   {
    "duration": 3,
    "start_time": "2021-10-10T18:40:56.754Z"
   },
   {
    "duration": 3,
    "start_time": "2021-10-10T18:40:57.524Z"
   },
   {
    "duration": 6,
    "start_time": "2021-10-10T18:40:57.670Z"
   },
   {
    "duration": 40,
    "start_time": "2021-10-10T18:41:05.135Z"
   },
   {
    "duration": 5,
    "start_time": "2021-10-10T18:41:13.846Z"
   },
   {
    "duration": 19,
    "start_time": "2021-10-10T18:41:14.118Z"
   },
   {
    "duration": 23,
    "start_time": "2021-10-10T18:41:14.629Z"
   },
   {
    "duration": 6,
    "start_time": "2021-10-10T18:41:16.480Z"
   },
   {
    "duration": 11,
    "start_time": "2021-10-10T18:41:16.641Z"
   },
   {
    "duration": 13,
    "start_time": "2021-10-10T18:41:17.155Z"
   },
   {
    "duration": 20,
    "start_time": "2021-10-10T18:41:18.732Z"
   },
   {
    "duration": 5,
    "start_time": "2021-10-10T18:41:19.166Z"
   },
   {
    "duration": 23,
    "start_time": "2021-10-10T18:41:21.823Z"
   },
   {
    "duration": 23,
    "start_time": "2021-10-10T18:42:05.943Z"
   },
   {
    "duration": 44,
    "start_time": "2021-10-10T18:42:10.664Z"
   },
   {
    "duration": 379,
    "start_time": "2021-10-10T18:42:16.780Z"
   },
   {
    "duration": 8,
    "start_time": "2021-10-10T18:42:18.373Z"
   },
   {
    "duration": 32,
    "start_time": "2021-10-10T18:42:18.660Z"
   },
   {
    "duration": 13,
    "start_time": "2021-10-10T18:42:19.168Z"
   },
   {
    "duration": 453,
    "start_time": "2021-10-10T18:42:19.521Z"
   },
   {
    "duration": 434,
    "start_time": "2021-10-10T18:42:19.976Z"
   },
   {
    "duration": 9,
    "start_time": "2021-10-10T18:42:20.412Z"
   },
   {
    "duration": 407,
    "start_time": "2021-10-10T18:42:20.995Z"
   },
   {
    "duration": 7,
    "start_time": "2021-10-10T18:42:21.404Z"
   },
   {
    "duration": 385,
    "start_time": "2021-10-10T18:42:22.598Z"
   },
   {
    "duration": 41,
    "start_time": "2021-10-10T18:42:26.971Z"
   },
   {
    "duration": 207,
    "start_time": "2021-10-10T18:42:34.467Z"
   },
   {
    "duration": 6,
    "start_time": "2021-10-10T18:42:35.819Z"
   },
   {
    "duration": 4,
    "start_time": "2021-10-10T18:43:03.487Z"
   },
   {
    "duration": 34,
    "start_time": "2021-10-10T18:43:06.099Z"
   },
   {
    "duration": 4,
    "start_time": "2021-10-10T18:43:06.939Z"
   },
   {
    "duration": 41,
    "start_time": "2021-10-10T18:43:21.867Z"
   },
   {
    "duration": 31,
    "start_time": "2021-10-10T18:44:38.266Z"
   },
   {
    "duration": 143,
    "start_time": "2021-10-10T18:44:38.487Z"
   },
   {
    "duration": 134,
    "start_time": "2021-10-10T18:44:41.694Z"
   },
   {
    "duration": 4,
    "start_time": "2021-10-10T18:44:46.024Z"
   },
   {
    "duration": 447,
    "start_time": "2021-10-10T18:45:07.852Z"
   },
   {
    "duration": 13,
    "start_time": "2021-10-10T18:45:34.163Z"
   },
   {
    "duration": 9,
    "start_time": "2021-10-10T18:45:35.454Z"
   },
   {
    "duration": 17,
    "start_time": "2021-10-10T18:45:36.525Z"
   },
   {
    "duration": 10,
    "start_time": "2021-10-10T18:45:57.318Z"
   },
   {
    "duration": 9,
    "start_time": "2021-10-10T18:45:58.477Z"
   },
   {
    "duration": 5,
    "start_time": "2021-10-10T18:45:58.968Z"
   },
   {
    "duration": 5,
    "start_time": "2021-10-10T18:46:02.298Z"
   },
   {
    "duration": 210,
    "start_time": "2021-10-10T18:46:02.962Z"
   },
   {
    "duration": 14,
    "start_time": "2021-10-10T18:46:08.404Z"
   },
   {
    "duration": 13,
    "start_time": "2021-10-10T18:46:09.133Z"
   },
   {
    "duration": 10,
    "start_time": "2021-10-10T18:46:10.219Z"
   },
   {
    "duration": 10,
    "start_time": "2021-10-10T18:46:15.633Z"
   },
   {
    "duration": 13,
    "start_time": "2021-10-10T18:46:21.363Z"
   },
   {
    "duration": 48,
    "start_time": "2021-10-10T18:46:25.577Z"
   },
   {
    "duration": 4,
    "start_time": "2021-10-10T18:46:43.593Z"
   },
   {
    "duration": 556,
    "start_time": "2021-10-10T18:47:07.335Z"
   },
   {
    "duration": 15,
    "start_time": "2021-10-10T18:47:24.314Z"
   },
   {
    "duration": 4208,
    "start_time": "2021-10-10T18:48:30.734Z"
   },
   {
    "duration": 4,
    "start_time": "2021-10-10T18:48:34.946Z"
   },
   {
    "duration": 171,
    "start_time": "2021-10-10T18:48:34.952Z"
   },
   {
    "duration": 11,
    "start_time": "2021-10-10T18:48:35.125Z"
   },
   {
    "duration": 52,
    "start_time": "2021-10-10T18:48:35.138Z"
   },
   {
    "duration": 40,
    "start_time": "2021-10-10T18:48:35.193Z"
   },
   {
    "duration": 37,
    "start_time": "2021-10-10T18:48:35.235Z"
   },
   {
    "duration": 40,
    "start_time": "2021-10-10T18:48:35.274Z"
   },
   {
    "duration": 77,
    "start_time": "2021-10-10T18:48:35.316Z"
   },
   {
    "duration": 22,
    "start_time": "2021-10-10T18:48:35.394Z"
   },
   {
    "duration": 3,
    "start_time": "2021-10-10T18:48:35.418Z"
   },
   {
    "duration": 14,
    "start_time": "2021-10-10T18:48:35.423Z"
   },
   {
    "duration": 10,
    "start_time": "2021-10-10T18:48:35.439Z"
   },
   {
    "duration": 7,
    "start_time": "2021-10-10T18:48:35.450Z"
   },
   {
    "duration": 35,
    "start_time": "2021-10-10T18:48:35.459Z"
   },
   {
    "duration": 23,
    "start_time": "2021-10-10T18:48:35.496Z"
   },
   {
    "duration": 5,
    "start_time": "2021-10-10T18:48:35.521Z"
   },
   {
    "duration": 12,
    "start_time": "2021-10-10T18:48:35.528Z"
   },
   {
    "duration": 29,
    "start_time": "2021-10-10T18:48:35.541Z"
   },
   {
    "duration": 20,
    "start_time": "2021-10-10T18:48:35.572Z"
   },
   {
    "duration": 4,
    "start_time": "2021-10-10T18:48:35.599Z"
   },
   {
    "duration": 31,
    "start_time": "2021-10-10T18:48:35.605Z"
   },
   {
    "duration": 584,
    "start_time": "2021-10-10T18:48:35.639Z"
   },
   {
    "duration": 6,
    "start_time": "2021-10-10T18:48:36.225Z"
   },
   {
    "duration": 37,
    "start_time": "2021-10-10T18:48:36.232Z"
   },
   {
    "duration": 15,
    "start_time": "2021-10-10T18:48:36.270Z"
   },
   {
    "duration": 445,
    "start_time": "2021-10-10T18:48:36.287Z"
   },
   {
    "duration": 405,
    "start_time": "2021-10-10T18:48:36.734Z"
   },
   {
    "duration": 10,
    "start_time": "2021-10-10T18:48:37.141Z"
   },
   {
    "duration": 408,
    "start_time": "2021-10-10T18:48:37.152Z"
   },
   {
    "duration": 8,
    "start_time": "2021-10-10T18:48:37.561Z"
   },
   {
    "duration": 388,
    "start_time": "2021-10-10T18:48:37.570Z"
   },
   {
    "duration": 8,
    "start_time": "2021-10-10T18:48:37.960Z"
   },
   {
    "duration": 231,
    "start_time": "2021-10-10T18:48:37.969Z"
   },
   {
    "duration": 4,
    "start_time": "2021-10-10T18:48:38.202Z"
   },
   {
    "duration": 50,
    "start_time": "2021-10-10T18:48:38.208Z"
   },
   {
    "duration": 84,
    "start_time": "2021-10-10T18:48:38.259Z"
   },
   {
    "duration": 29,
    "start_time": "2021-10-10T18:48:38.344Z"
   },
   {
    "duration": 432,
    "start_time": "2021-10-10T18:48:38.375Z"
   },
   {
    "duration": 18,
    "start_time": "2021-10-10T18:48:38.809Z"
   },
   {
    "duration": 14,
    "start_time": "2021-10-10T18:48:38.829Z"
   },
   {
    "duration": 38,
    "start_time": "2021-10-10T18:48:38.845Z"
   },
   {
    "duration": 11,
    "start_time": "2021-10-10T18:48:38.887Z"
   },
   {
    "duration": 37,
    "start_time": "2021-10-10T18:48:38.900Z"
   },
   {
    "duration": 15,
    "start_time": "2021-10-10T18:48:38.938Z"
   },
   {
    "duration": 19,
    "start_time": "2021-10-10T18:48:38.955Z"
   },
   {
    "duration": 216,
    "start_time": "2021-10-10T18:48:38.976Z"
   },
   {
    "duration": 15,
    "start_time": "2021-10-10T18:48:39.194Z"
   },
   {
    "duration": 42,
    "start_time": "2021-10-10T18:48:39.211Z"
   },
   {
    "duration": 18,
    "start_time": "2021-10-10T18:48:39.255Z"
   },
   {
    "duration": 29,
    "start_time": "2021-10-10T18:48:39.275Z"
   },
   {
    "duration": 15,
    "start_time": "2021-10-10T18:48:39.305Z"
   },
   {
    "duration": 64,
    "start_time": "2021-10-10T18:48:39.322Z"
   },
   {
    "duration": 569,
    "start_time": "2021-10-10T18:48:39.387Z"
   },
   {
    "duration": 594,
    "start_time": "2021-10-10T18:48:39.958Z"
   },
   {
    "duration": 4,
    "start_time": "2021-10-10T18:48:40.554Z"
   },
   {
    "duration": 5500,
    "start_time": "2021-10-10T18:49:21.621Z"
   },
   {
    "duration": 4,
    "start_time": "2021-10-10T18:49:27.124Z"
   },
   {
    "duration": 100,
    "start_time": "2021-10-10T18:49:27.131Z"
   },
   {
    "duration": 4,
    "start_time": "2021-10-10T18:49:27.233Z"
   },
   {
    "duration": 26,
    "start_time": "2021-10-10T18:49:27.239Z"
   },
   {
    "duration": 39,
    "start_time": "2021-10-10T18:49:27.267Z"
   },
   {
    "duration": 23,
    "start_time": "2021-10-10T18:49:27.308Z"
   },
   {
    "duration": 16,
    "start_time": "2021-10-10T18:49:27.334Z"
   },
   {
    "duration": 93,
    "start_time": "2021-10-10T18:49:27.352Z"
   },
   {
    "duration": 26,
    "start_time": "2021-10-10T18:49:27.447Z"
   },
   {
    "duration": 3,
    "start_time": "2021-10-10T18:49:27.475Z"
   },
   {
    "duration": 7,
    "start_time": "2021-10-10T18:49:27.480Z"
   },
   {
    "duration": 14,
    "start_time": "2021-10-10T18:49:27.488Z"
   },
   {
    "duration": 9,
    "start_time": "2021-10-10T18:49:27.504Z"
   },
   {
    "duration": 18,
    "start_time": "2021-10-10T18:49:27.515Z"
   },
   {
    "duration": 18,
    "start_time": "2021-10-10T18:49:27.535Z"
   },
   {
    "duration": 4,
    "start_time": "2021-10-10T18:49:27.555Z"
   },
   {
    "duration": 10,
    "start_time": "2021-10-10T18:49:27.561Z"
   },
   {
    "duration": 40,
    "start_time": "2021-10-10T18:49:27.572Z"
   },
   {
    "duration": 20,
    "start_time": "2021-10-10T18:49:27.613Z"
   },
   {
    "duration": 5,
    "start_time": "2021-10-10T18:49:27.634Z"
   },
   {
    "duration": 38,
    "start_time": "2021-10-10T18:49:27.640Z"
   },
   {
    "duration": 406,
    "start_time": "2021-10-10T18:49:27.681Z"
   },
   {
    "duration": 11,
    "start_time": "2021-10-10T18:49:28.089Z"
   },
   {
    "duration": 30,
    "start_time": "2021-10-10T18:49:28.102Z"
   },
   {
    "duration": 11,
    "start_time": "2021-10-10T18:49:28.133Z"
   },
   {
    "duration": 464,
    "start_time": "2021-10-10T18:49:28.145Z"
   },
   {
    "duration": 409,
    "start_time": "2021-10-10T18:49:28.610Z"
   },
   {
    "duration": 11,
    "start_time": "2021-10-10T18:49:29.021Z"
   },
   {
    "duration": 415,
    "start_time": "2021-10-10T18:49:29.034Z"
   },
   {
    "duration": 9,
    "start_time": "2021-10-10T18:49:29.451Z"
   },
   {
    "duration": 396,
    "start_time": "2021-10-10T18:49:29.462Z"
   },
   {
    "duration": 8,
    "start_time": "2021-10-10T18:49:29.859Z"
   },
   {
    "duration": 233,
    "start_time": "2021-10-10T18:49:29.868Z"
   },
   {
    "duration": 4,
    "start_time": "2021-10-10T18:49:30.103Z"
   },
   {
    "duration": 53,
    "start_time": "2021-10-10T18:49:30.109Z"
   },
   {
    "duration": 88,
    "start_time": "2021-10-10T18:49:30.164Z"
   },
   {
    "duration": 30,
    "start_time": "2021-10-10T18:49:30.254Z"
   },
   {
    "duration": 424,
    "start_time": "2021-10-10T18:49:30.286Z"
   },
   {
    "duration": 15,
    "start_time": "2021-10-10T18:49:30.711Z"
   },
   {
    "duration": 20,
    "start_time": "2021-10-10T18:49:30.728Z"
   },
   {
    "duration": 17,
    "start_time": "2021-10-10T18:49:30.749Z"
   },
   {
    "duration": 213,
    "start_time": "2021-10-10T18:50:32.106Z"
   },
   {
    "duration": -797,
    "start_time": "2021-10-10T18:50:33.118Z"
   },
   {
    "duration": -803,
    "start_time": "2021-10-10T18:50:33.125Z"
   },
   {
    "duration": -965,
    "start_time": "2021-10-10T18:50:33.288Z"
   },
   {
    "duration": -971,
    "start_time": "2021-10-10T18:50:33.295Z"
   },
   {
    "duration": -976,
    "start_time": "2021-10-10T18:50:33.301Z"
   },
   {
    "duration": -981,
    "start_time": "2021-10-10T18:50:33.307Z"
   },
   {
    "duration": -1158,
    "start_time": "2021-10-10T18:50:33.485Z"
   },
   {
    "duration": -1163,
    "start_time": "2021-10-10T18:50:33.491Z"
   },
   {
    "duration": -1168,
    "start_time": "2021-10-10T18:50:33.497Z"
   },
   {
    "duration": -1172,
    "start_time": "2021-10-10T18:50:33.502Z"
   },
   {
    "duration": -1199,
    "start_time": "2021-10-10T18:50:33.530Z"
   },
   {
    "duration": -1207,
    "start_time": "2021-10-10T18:50:33.539Z"
   },
   {
    "duration": -1211,
    "start_time": "2021-10-10T18:50:33.544Z"
   },
   {
    "duration": -1216,
    "start_time": "2021-10-10T18:50:33.550Z"
   },
   {
    "duration": 147,
    "start_time": "2021-10-10T18:50:40.728Z"
   },
   {
    "duration": 4232,
    "start_time": "2021-10-10T18:50:46.064Z"
   },
   {
    "duration": 2057,
    "start_time": "2021-10-10T18:50:50.298Z"
   },
   {
    "duration": 92,
    "start_time": "2021-10-10T18:50:52.357Z"
   },
   {
    "duration": 3,
    "start_time": "2021-10-10T18:50:52.451Z"
   },
   {
    "duration": 33,
    "start_time": "2021-10-10T18:50:52.456Z"
   },
   {
    "duration": 21,
    "start_time": "2021-10-10T18:50:52.491Z"
   },
   {
    "duration": 24,
    "start_time": "2021-10-10T18:50:52.514Z"
   },
   {
    "duration": 27,
    "start_time": "2021-10-10T18:50:52.542Z"
   },
   {
    "duration": 80,
    "start_time": "2021-10-10T18:50:52.570Z"
   },
   {
    "duration": 21,
    "start_time": "2021-10-10T18:50:52.652Z"
   },
   {
    "duration": 3,
    "start_time": "2021-10-10T18:50:52.674Z"
   },
   {
    "duration": 21,
    "start_time": "2021-10-10T18:50:52.678Z"
   },
   {
    "duration": 9,
    "start_time": "2021-10-10T18:50:52.701Z"
   },
   {
    "duration": 5,
    "start_time": "2021-10-10T18:50:52.711Z"
   },
   {
    "duration": 254,
    "start_time": "2021-10-10T18:50:52.717Z"
   },
   {
    "duration": 21,
    "start_time": "2021-10-10T18:50:52.973Z"
   },
   {
    "duration": 4,
    "start_time": "2021-10-10T18:50:52.996Z"
   },
   {
    "duration": 15,
    "start_time": "2021-10-10T18:50:53.002Z"
   },
   {
    "duration": 20,
    "start_time": "2021-10-10T18:50:53.019Z"
   },
   {
    "duration": 23,
    "start_time": "2021-10-10T18:50:53.041Z"
   },
   {
    "duration": 5,
    "start_time": "2021-10-10T18:50:53.066Z"
   },
   {
    "duration": 37,
    "start_time": "2021-10-10T18:50:53.072Z"
   },
   {
    "duration": 464,
    "start_time": "2021-10-10T18:50:53.112Z"
   },
   {
    "duration": 5,
    "start_time": "2021-10-10T18:50:53.578Z"
   },
   {
    "duration": 42,
    "start_time": "2021-10-10T18:50:53.585Z"
   },
   {
    "duration": 11,
    "start_time": "2021-10-10T18:50:53.629Z"
   },
   {
    "duration": 470,
    "start_time": "2021-10-10T18:50:53.642Z"
   },
   {
    "duration": 414,
    "start_time": "2021-10-10T18:50:54.113Z"
   },
   {
    "duration": 9,
    "start_time": "2021-10-10T18:50:54.529Z"
   },
   {
    "duration": 405,
    "start_time": "2021-10-10T18:50:54.539Z"
   },
   {
    "duration": 6,
    "start_time": "2021-10-10T18:50:54.946Z"
   },
   {
    "duration": 398,
    "start_time": "2021-10-10T18:50:54.953Z"
   },
   {
    "duration": 7,
    "start_time": "2021-10-10T18:50:55.352Z"
   },
   {
    "duration": 207,
    "start_time": "2021-10-10T18:50:57.517Z"
   },
   {
    "duration": 6,
    "start_time": "2021-10-10T18:51:05.647Z"
   },
   {
    "duration": 38,
    "start_time": "2021-10-10T18:51:09.257Z"
   },
   {
    "duration": 43,
    "start_time": "2021-10-10T18:51:13.758Z"
   },
   {
    "duration": 40,
    "start_time": "2021-10-10T18:51:16.244Z"
   },
   {
    "duration": 77,
    "start_time": "2021-10-10T18:51:18.652Z"
   },
   {
    "duration": 13,
    "start_time": "2021-10-10T18:51:20.573Z"
   },
   {
    "duration": 50,
    "start_time": "2021-10-10T18:51:21.618Z"
   },
   {
    "duration": 13,
    "start_time": "2021-10-10T18:51:23.904Z"
   },
   {
    "duration": 13,
    "start_time": "2021-10-10T18:51:24.275Z"
   },
   {
    "duration": 78,
    "start_time": "2021-10-10T18:52:36.670Z"
   },
   {
    "duration": 3,
    "start_time": "2021-10-10T18:52:36.765Z"
   },
   {
    "duration": 21,
    "start_time": "2021-10-10T18:52:36.823Z"
   },
   {
    "duration": 21,
    "start_time": "2021-10-10T18:52:36.887Z"
   },
   {
    "duration": 21,
    "start_time": "2021-10-10T18:52:36.957Z"
   },
   {
    "duration": 14,
    "start_time": "2021-10-10T18:52:37.051Z"
   },
   {
    "duration": 68,
    "start_time": "2021-10-10T18:52:37.107Z"
   },
   {
    "duration": 20,
    "start_time": "2021-10-10T18:52:37.257Z"
   },
   {
    "duration": 4,
    "start_time": "2021-10-10T18:52:37.522Z"
   },
   {
    "duration": 3,
    "start_time": "2021-10-10T18:52:37.577Z"
   },
   {
    "duration": 5,
    "start_time": "2021-10-10T18:52:37.644Z"
   },
   {
    "duration": 4,
    "start_time": "2021-10-10T18:52:37.778Z"
   },
   {
    "duration": 20,
    "start_time": "2021-10-10T18:52:37.876Z"
   },
   {
    "duration": 20,
    "start_time": "2021-10-10T18:52:38.059Z"
   },
   {
    "duration": 5,
    "start_time": "2021-10-10T18:52:38.157Z"
   },
   {
    "duration": 9,
    "start_time": "2021-10-10T18:52:38.210Z"
   },
   {
    "duration": 12,
    "start_time": "2021-10-10T18:52:38.348Z"
   },
   {
    "duration": 20,
    "start_time": "2021-10-10T18:52:38.450Z"
   },
   {
    "duration": 5,
    "start_time": "2021-10-10T18:52:38.587Z"
   },
   {
    "duration": 21,
    "start_time": "2021-10-10T18:52:38.685Z"
   },
   {
    "duration": 470,
    "start_time": "2021-10-10T18:52:38.866Z"
   },
   {
    "duration": 7,
    "start_time": "2021-10-10T18:52:39.338Z"
   },
   {
    "duration": 37,
    "start_time": "2021-10-10T18:52:39.347Z"
   },
   {
    "duration": 11,
    "start_time": "2021-10-10T18:52:39.399Z"
   },
   {
    "duration": 468,
    "start_time": "2021-10-10T18:52:39.412Z"
   },
   {
    "duration": 411,
    "start_time": "2021-10-10T18:52:39.882Z"
   },
   {
    "duration": 10,
    "start_time": "2021-10-10T18:52:40.299Z"
   },
   {
    "duration": 433,
    "start_time": "2021-10-10T18:52:40.311Z"
   },
   {
    "duration": 6,
    "start_time": "2021-10-10T18:52:40.746Z"
   },
   {
    "duration": 411,
    "start_time": "2021-10-10T18:52:40.754Z"
   },
   {
    "duration": 7,
    "start_time": "2021-10-10T18:52:41.167Z"
   },
   {
    "duration": 230,
    "start_time": "2021-10-10T18:52:41.175Z"
   },
   {
    "duration": 5,
    "start_time": "2021-10-10T18:52:41.406Z"
   },
   {
    "duration": 42,
    "start_time": "2021-10-10T18:52:41.413Z"
   },
   {
    "duration": 182,
    "start_time": "2021-10-10T18:52:41.457Z"
   },
   {
    "duration": 14,
    "start_time": "2021-10-10T18:52:41.640Z"
   },
   {
    "duration": 393,
    "start_time": "2021-10-10T18:52:41.655Z"
   },
   {
    "duration": 14,
    "start_time": "2021-10-10T18:52:42.049Z"
   },
   {
    "duration": 8,
    "start_time": "2021-10-10T18:52:42.064Z"
   },
   {
    "duration": 35,
    "start_time": "2021-10-10T18:52:42.073Z"
   },
   {
    "duration": 11,
    "start_time": "2021-10-10T18:52:45.456Z"
   },
   {
    "duration": 9,
    "start_time": "2021-10-10T18:52:45.554Z"
   },
   {
    "duration": 5,
    "start_time": "2021-10-10T18:52:45.650Z"
   },
   {
    "duration": 4,
    "start_time": "2021-10-10T18:52:45.746Z"
   },
   {
    "duration": 217,
    "start_time": "2021-10-10T18:52:45.842Z"
   },
   {
    "duration": 11,
    "start_time": "2021-10-10T18:52:46.476Z"
   },
   {
    "duration": 9,
    "start_time": "2021-10-10T18:52:48.960Z"
   },
   {
    "duration": 9,
    "start_time": "2021-10-10T18:52:49.062Z"
   },
   {
    "duration": 9,
    "start_time": "2021-10-10T18:52:49.161Z"
   },
   {
    "duration": 10,
    "start_time": "2021-10-10T18:52:49.262Z"
   },
   {
    "duration": 47,
    "start_time": "2021-10-10T18:52:50.898Z"
   },
   {
    "duration": 791,
    "start_time": "2021-10-10T18:52:50.964Z"
   },
   {
    "duration": 784,
    "start_time": "2021-10-10T18:52:51.756Z"
   },
   {
    "duration": 3,
    "start_time": "2021-10-10T18:52:52.542Z"
   },
   {
    "duration": 52,
    "start_time": "2021-10-10T18:54:45.518Z"
   },
   {
    "duration": 783,
    "start_time": "2021-10-10T18:54:57.050Z"
   },
   {
    "duration": 944,
    "start_time": "2021-10-10T18:55:04.624Z"
   },
   {
    "duration": 51,
    "start_time": "2021-10-10T18:56:27.798Z"
   },
   {
    "duration": 542,
    "start_time": "2021-10-10T18:57:10.142Z"
   },
   {
    "duration": 49,
    "start_time": "2021-10-10T18:57:25.327Z"
   },
   {
    "duration": 42,
    "start_time": "2021-10-10T18:58:42.842Z"
   },
   {
    "duration": 4,
    "start_time": "2021-10-10T18:59:10.446Z"
   },
   {
    "duration": 259,
    "start_time": "2021-10-10T19:01:38.403Z"
   },
   {
    "duration": 451,
    "start_time": "2021-10-10T19:01:38.664Z"
   },
   {
    "duration": 47,
    "start_time": "2021-10-10T19:24:49.799Z"
   },
   {
    "duration": 90,
    "start_time": "2021-12-17T19:07:01.758Z"
   },
   {
    "duration": 359,
    "start_time": "2021-12-17T19:07:07.473Z"
   },
   {
    "duration": 13982,
    "start_time": "2021-12-17T19:07:11.759Z"
   },
   {
    "duration": 1552,
    "start_time": "2021-12-17T19:07:25.743Z"
   },
   {
    "duration": 4,
    "start_time": "2021-12-17T19:07:27.298Z"
   },
   {
    "duration": 121,
    "start_time": "2021-12-17T19:07:27.304Z"
   },
   {
    "duration": 38,
    "start_time": "2021-12-17T19:07:27.428Z"
   },
   {
    "duration": 56,
    "start_time": "2021-12-17T19:07:27.468Z"
   },
   {
    "duration": 20,
    "start_time": "2021-12-17T19:07:27.528Z"
   },
   {
    "duration": 119,
    "start_time": "2021-12-17T19:07:27.552Z"
   },
   {
    "duration": 28,
    "start_time": "2021-12-17T19:07:27.673Z"
   },
   {
    "duration": 20,
    "start_time": "2021-12-17T19:07:27.703Z"
   },
   {
    "duration": 13,
    "start_time": "2021-12-17T19:07:27.725Z"
   },
   {
    "duration": 23,
    "start_time": "2021-12-17T19:07:27.740Z"
   },
   {
    "duration": 392,
    "start_time": "2021-12-17T19:07:27.765Z"
   },
   {
    "duration": 600,
    "start_time": "2021-12-17T19:07:57.560Z"
   },
   {
    "duration": 29,
    "start_time": "2021-12-17T19:08:12.616Z"
   },
   {
    "duration": 20,
    "start_time": "2021-12-17T19:08:39.377Z"
   },
   {
    "duration": 38,
    "start_time": "2021-12-17T19:10:55.563Z"
   },
   {
    "duration": 32,
    "start_time": "2021-12-17T19:11:18.459Z"
   },
   {
    "duration": 24,
    "start_time": "2021-12-17T19:11:26.121Z"
   },
   {
    "duration": 293,
    "start_time": "2021-12-17T19:17:12.467Z"
   },
   {
    "duration": 33,
    "start_time": "2021-12-17T19:17:21.994Z"
   },
   {
    "duration": 25,
    "start_time": "2021-12-17T19:28:53.446Z"
   },
   {
    "duration": 314,
    "start_time": "2021-12-17T19:30:28.964Z"
   },
   {
    "duration": 38,
    "start_time": "2021-12-17T19:30:36.966Z"
   },
   {
    "duration": 323,
    "start_time": "2021-12-17T19:35:36.380Z"
   },
   {
    "duration": 23,
    "start_time": "2021-12-17T19:35:44.577Z"
   },
   {
    "duration": 325,
    "start_time": "2021-12-17T19:38:09.302Z"
   },
   {
    "duration": 37,
    "start_time": "2021-12-17T19:38:13.072Z"
   },
   {
    "duration": 59,
    "start_time": "2021-12-17T19:38:31.231Z"
   },
   {
    "duration": 6265,
    "start_time": "2021-12-17T20:13:09.244Z"
   },
   {
    "duration": 5,
    "start_time": "2021-12-17T20:13:15.512Z"
   },
   {
    "duration": 6,
    "start_time": "2021-12-17T20:13:15.520Z"
   },
   {
    "duration": 106,
    "start_time": "2021-12-17T20:13:15.528Z"
   },
   {
    "duration": 32,
    "start_time": "2021-12-17T20:13:15.637Z"
   },
   {
    "duration": 47,
    "start_time": "2021-12-17T20:13:15.672Z"
   },
   {
    "duration": 19,
    "start_time": "2021-12-17T20:13:15.721Z"
   },
   {
    "duration": 119,
    "start_time": "2021-12-17T20:13:15.744Z"
   },
   {
    "duration": 26,
    "start_time": "2021-12-17T20:13:15.866Z"
   },
   {
    "duration": 23,
    "start_time": "2021-12-17T20:13:15.894Z"
   },
   {
    "duration": 6,
    "start_time": "2021-12-17T20:13:15.920Z"
   },
   {
    "duration": 10,
    "start_time": "2021-12-17T20:13:15.929Z"
   },
   {
    "duration": 40,
    "start_time": "2021-12-17T20:13:15.941Z"
   },
   {
    "duration": 40,
    "start_time": "2021-12-17T20:13:15.983Z"
   },
   {
    "duration": 10,
    "start_time": "2021-12-17T20:13:16.025Z"
   },
   {
    "duration": 16,
    "start_time": "2021-12-17T20:13:16.037Z"
   },
   {
    "duration": 15,
    "start_time": "2021-12-17T20:13:16.055Z"
   },
   {
    "duration": 62,
    "start_time": "2021-12-17T20:13:16.073Z"
   },
   {
    "duration": 5,
    "start_time": "2021-12-17T20:13:16.137Z"
   },
   {
    "duration": 32,
    "start_time": "2021-12-17T20:13:16.145Z"
   },
   {
    "duration": 754,
    "start_time": "2021-12-17T20:13:16.179Z"
   },
   {
    "duration": 7,
    "start_time": "2021-12-17T20:13:16.935Z"
   },
   {
    "duration": 73,
    "start_time": "2021-12-17T20:13:16.948Z"
   },
   {
    "duration": 16,
    "start_time": "2021-12-17T20:13:17.024Z"
   },
   {
    "duration": 731,
    "start_time": "2021-12-17T20:13:17.043Z"
   },
   {
    "duration": 641,
    "start_time": "2021-12-17T20:13:17.776Z"
   },
   {
    "duration": 12,
    "start_time": "2021-12-17T20:13:18.419Z"
   },
   {
    "duration": 653,
    "start_time": "2021-12-17T20:13:18.433Z"
   },
   {
    "duration": 9,
    "start_time": "2021-12-17T20:13:19.088Z"
   },
   {
    "duration": 588,
    "start_time": "2021-12-17T20:13:19.118Z"
   },
   {
    "duration": 15,
    "start_time": "2021-12-17T20:13:19.709Z"
   },
   {
    "duration": 350,
    "start_time": "2021-12-17T20:13:19.727Z"
   },
   {
    "duration": 8,
    "start_time": "2021-12-17T20:13:20.079Z"
   },
   {
    "duration": 77,
    "start_time": "2021-12-17T20:13:20.089Z"
   },
   {
    "duration": 117,
    "start_time": "2021-12-17T20:13:20.168Z"
   },
   {
    "duration": 29,
    "start_time": "2021-12-17T20:13:20.288Z"
   },
   {
    "duration": 555,
    "start_time": "2021-12-17T20:13:20.319Z"
   },
   {
    "duration": 544,
    "start_time": "2021-12-17T20:13:20.876Z"
   },
   {
    "duration": 747,
    "start_time": "2021-12-17T20:13:21.422Z"
   },
   {
    "duration": 17,
    "start_time": "2021-12-17T20:13:22.171Z"
   },
   {
    "duration": 29,
    "start_time": "2021-12-17T20:13:22.190Z"
   },
   {
    "duration": 22,
    "start_time": "2021-12-17T20:13:22.222Z"
   },
   {
    "duration": 13,
    "start_time": "2021-12-17T20:13:22.246Z"
   },
   {
    "duration": 9,
    "start_time": "2021-12-17T20:13:22.261Z"
   },
   {
    "duration": 46,
    "start_time": "2021-12-17T20:13:22.272Z"
   },
   {
    "duration": 5,
    "start_time": "2021-12-17T20:13:22.321Z"
   },
   {
    "duration": 347,
    "start_time": "2021-12-17T20:13:22.328Z"
   },
   {
    "duration": 14,
    "start_time": "2021-12-17T20:13:22.677Z"
   },
   {
    "duration": 30,
    "start_time": "2021-12-17T20:13:22.693Z"
   },
   {
    "duration": 14,
    "start_time": "2021-12-17T20:13:22.726Z"
   },
   {
    "duration": 13,
    "start_time": "2021-12-17T20:13:22.743Z"
   },
   {
    "duration": 59,
    "start_time": "2021-12-17T20:13:22.759Z"
   },
   {
    "duration": 60,
    "start_time": "2021-12-17T20:13:22.821Z"
   },
   {
    "duration": 6,
    "start_time": "2021-12-17T20:13:22.884Z"
   },
   {
    "duration": 1313,
    "start_time": "2021-12-17T20:13:22.917Z"
   },
   {
    "duration": 835,
    "start_time": "2021-12-17T20:13:24.232Z"
   },
   {
    "duration": 62,
    "start_time": "2021-12-17T20:25:07.307Z"
   },
   {
    "duration": 40,
    "start_time": "2021-12-17T20:25:14.082Z"
   },
   {
    "duration": 7,
    "start_time": "2021-12-17T20:25:38.732Z"
   },
   {
    "duration": 30,
    "start_time": "2021-12-17T20:26:01.599Z"
   },
   {
    "duration": 11,
    "start_time": "2021-12-17T20:31:44.042Z"
   },
   {
    "duration": 9,
    "start_time": "2021-12-17T20:31:54.286Z"
   },
   {
    "duration": 3,
    "start_time": "2021-12-17T20:32:09.211Z"
   },
   {
    "duration": 296,
    "start_time": "2021-12-17T20:32:49.744Z"
   },
   {
    "duration": 11,
    "start_time": "2021-12-17T20:32:56.822Z"
   },
   {
    "duration": 11,
    "start_time": "2021-12-17T20:33:07.277Z"
   },
   {
    "duration": 38,
    "start_time": "2021-12-17T20:40:27.978Z"
   },
   {
    "duration": 25,
    "start_time": "2021-12-17T20:41:33.589Z"
   },
   {
    "duration": 6199,
    "start_time": "2021-12-17T20:41:39.177Z"
   },
   {
    "duration": 5,
    "start_time": "2021-12-17T20:41:45.379Z"
   },
   {
    "duration": 8,
    "start_time": "2021-12-17T20:41:45.387Z"
   },
   {
    "duration": 109,
    "start_time": "2021-12-17T20:41:45.398Z"
   },
   {
    "duration": 34,
    "start_time": "2021-12-17T20:41:45.510Z"
   },
   {
    "duration": 35,
    "start_time": "2021-12-17T20:41:45.546Z"
   },
   {
    "duration": 43,
    "start_time": "2021-12-17T20:41:45.584Z"
   },
   {
    "duration": 110,
    "start_time": "2021-12-17T20:41:45.630Z"
   },
   {
    "duration": 30,
    "start_time": "2021-12-17T20:41:45.743Z"
   },
   {
    "duration": 5,
    "start_time": "2021-12-17T20:41:45.775Z"
   },
   {
    "duration": 8,
    "start_time": "2021-12-17T20:41:45.782Z"
   },
   {
    "duration": 8,
    "start_time": "2021-12-17T20:41:45.818Z"
   },
   {
    "duration": 41,
    "start_time": "2021-12-17T20:41:45.828Z"
   },
   {
    "duration": 11,
    "start_time": "2021-12-17T20:41:45.871Z"
   },
   {
    "duration": 37,
    "start_time": "2021-12-17T20:41:45.885Z"
   },
   {
    "duration": 16,
    "start_time": "2021-12-17T20:41:45.925Z"
   },
   {
    "duration": 18,
    "start_time": "2021-12-17T20:41:45.943Z"
   },
   {
    "duration": 67,
    "start_time": "2021-12-17T20:41:45.963Z"
   },
   {
    "duration": 40,
    "start_time": "2021-12-17T20:43:47.527Z"
   },
   {
    "duration": 39,
    "start_time": "2021-12-17T21:00:18.072Z"
   },
   {
    "duration": 13,
    "start_time": "2021-12-17T21:01:27.540Z"
   },
   {
    "duration": 78,
    "start_time": "2021-12-17T21:02:28.304Z"
   },
   {
    "duration": 50,
    "start_time": "2021-12-17T21:02:32.302Z"
   },
   {
    "duration": 6244,
    "start_time": "2021-12-17T21:02:36.399Z"
   },
   {
    "duration": 5,
    "start_time": "2021-12-17T21:02:42.646Z"
   },
   {
    "duration": 19,
    "start_time": "2021-12-17T21:02:42.654Z"
   },
   {
    "duration": 141,
    "start_time": "2021-12-17T21:02:42.676Z"
   },
   {
    "duration": 33,
    "start_time": "2021-12-17T21:02:42.820Z"
   },
   {
    "duration": 71,
    "start_time": "2021-12-17T21:02:42.855Z"
   },
   {
    "duration": 47,
    "start_time": "2021-12-17T21:02:42.928Z"
   },
   {
    "duration": 107,
    "start_time": "2021-12-17T21:02:42.979Z"
   },
   {
    "duration": 45,
    "start_time": "2021-12-17T21:02:43.089Z"
   },
   {
    "duration": 5,
    "start_time": "2021-12-17T21:02:43.136Z"
   },
   {
    "duration": 9,
    "start_time": "2021-12-17T21:02:43.144Z"
   },
   {
    "duration": 8,
    "start_time": "2021-12-17T21:02:43.155Z"
   },
   {
    "duration": 65,
    "start_time": "2021-12-17T21:02:43.166Z"
   },
   {
    "duration": 9,
    "start_time": "2021-12-17T21:02:43.234Z"
   },
   {
    "duration": 9,
    "start_time": "2021-12-17T21:02:43.245Z"
   },
   {
    "duration": 15,
    "start_time": "2021-12-17T21:02:43.257Z"
   },
   {
    "duration": 49,
    "start_time": "2021-12-17T21:02:43.274Z"
   },
   {
    "duration": 29,
    "start_time": "2021-12-17T21:02:43.325Z"
   },
   {
    "duration": 20,
    "start_time": "2021-12-17T21:02:43.356Z"
   },
   {
    "duration": 86,
    "start_time": "2021-12-17T21:02:43.378Z"
   },
   {
    "duration": 6387,
    "start_time": "2021-12-17T21:02:57.515Z"
   },
   {
    "duration": 1600,
    "start_time": "2021-12-17T21:03:03.905Z"
   },
   {
    "duration": 4,
    "start_time": "2021-12-17T21:03:05.516Z"
   },
   {
    "duration": 112,
    "start_time": "2021-12-17T21:03:05.524Z"
   },
   {
    "duration": 37,
    "start_time": "2021-12-17T21:03:05.638Z"
   },
   {
    "duration": 44,
    "start_time": "2021-12-17T21:03:05.678Z"
   },
   {
    "duration": 32,
    "start_time": "2021-12-17T21:03:05.724Z"
   },
   {
    "duration": 108,
    "start_time": "2021-12-17T21:03:05.759Z"
   },
   {
    "duration": 59,
    "start_time": "2021-12-17T21:03:05.870Z"
   },
   {
    "duration": 7,
    "start_time": "2021-12-17T21:03:05.932Z"
   },
   {
    "duration": 21,
    "start_time": "2021-12-17T21:03:05.942Z"
   },
   {
    "duration": 11,
    "start_time": "2021-12-17T21:03:05.966Z"
   },
   {
    "duration": 666,
    "start_time": "2021-12-17T21:03:05.980Z"
   },
   {
    "duration": 9,
    "start_time": "2021-12-17T21:03:06.649Z"
   },
   {
    "duration": 29,
    "start_time": "2021-12-17T21:03:06.660Z"
   },
   {
    "duration": 33,
    "start_time": "2021-12-17T21:03:06.691Z"
   },
   {
    "duration": 21,
    "start_time": "2021-12-17T21:03:06.727Z"
   },
   {
    "duration": 38,
    "start_time": "2021-12-17T21:03:06.751Z"
   },
   {
    "duration": 37,
    "start_time": "2021-12-17T21:03:06.792Z"
   },
   {
    "duration": 62,
    "start_time": "2021-12-17T21:03:09.966Z"
   },
   {
    "duration": 6893,
    "start_time": "2021-12-17T21:03:23.983Z"
   },
   {
    "duration": 2004,
    "start_time": "2021-12-17T21:03:30.879Z"
   },
   {
    "duration": 5,
    "start_time": "2021-12-17T21:03:32.887Z"
   },
   {
    "duration": 122,
    "start_time": "2021-12-17T21:03:32.896Z"
   },
   {
    "duration": 36,
    "start_time": "2021-12-17T21:03:33.020Z"
   },
   {
    "duration": 31,
    "start_time": "2021-12-17T21:03:33.058Z"
   },
   {
    "duration": 40,
    "start_time": "2021-12-17T21:03:33.091Z"
   },
   {
    "duration": 115,
    "start_time": "2021-12-17T21:03:33.135Z"
   },
   {
    "duration": 31,
    "start_time": "2021-12-17T21:03:33.252Z"
   },
   {
    "duration": 4,
    "start_time": "2021-12-17T21:03:33.285Z"
   },
   {
    "duration": 31,
    "start_time": "2021-12-17T21:03:33.292Z"
   },
   {
    "duration": 11,
    "start_time": "2021-12-17T21:03:33.326Z"
   },
   {
    "duration": 657,
    "start_time": "2021-12-17T21:03:33.339Z"
   },
   {
    "duration": 9,
    "start_time": "2021-12-17T21:03:33.999Z"
   },
   {
    "duration": 7,
    "start_time": "2021-12-17T21:03:34.017Z"
   },
   {
    "duration": 16,
    "start_time": "2021-12-17T21:03:34.026Z"
   },
   {
    "duration": 17,
    "start_time": "2021-12-17T21:03:34.044Z"
   },
   {
    "duration": 59,
    "start_time": "2021-12-17T21:03:34.064Z"
   },
   {
    "duration": 26,
    "start_time": "2021-12-17T21:03:34.126Z"
   },
   {
    "duration": 101,
    "start_time": "2021-12-17T21:03:34.155Z"
   },
   {
    "duration": 716,
    "start_time": "2021-12-17T21:04:08.594Z"
   },
   {
    "duration": 6,
    "start_time": "2021-12-17T21:04:14.452Z"
   },
   {
    "duration": 45,
    "start_time": "2021-12-17T21:04:17.397Z"
   },
   {
    "duration": 6118,
    "start_time": "2021-12-17T21:04:24.436Z"
   },
   {
    "duration": 1581,
    "start_time": "2021-12-17T21:04:30.557Z"
   },
   {
    "duration": 4,
    "start_time": "2021-12-17T21:04:32.141Z"
   },
   {
    "duration": 165,
    "start_time": "2021-12-17T21:04:32.148Z"
   },
   {
    "duration": 57,
    "start_time": "2021-12-17T21:04:32.316Z"
   },
   {
    "duration": 66,
    "start_time": "2021-12-17T21:04:32.376Z"
   },
   {
    "duration": 30,
    "start_time": "2021-12-17T21:04:32.445Z"
   },
   {
    "duration": 156,
    "start_time": "2021-12-17T21:04:32.481Z"
   },
   {
    "duration": 32,
    "start_time": "2021-12-17T21:04:32.640Z"
   },
   {
    "duration": 5,
    "start_time": "2021-12-17T21:04:32.674Z"
   },
   {
    "duration": 29,
    "start_time": "2021-12-17T21:04:32.682Z"
   },
   {
    "duration": 27,
    "start_time": "2021-12-17T21:04:32.714Z"
   },
   {
    "duration": 575,
    "start_time": "2021-12-17T21:04:32.744Z"
   },
   {
    "duration": 10,
    "start_time": "2021-12-17T21:04:33.321Z"
   },
   {
    "duration": 25,
    "start_time": "2021-12-17T21:04:33.334Z"
   },
   {
    "duration": 29,
    "start_time": "2021-12-17T21:04:33.361Z"
   },
   {
    "duration": 16,
    "start_time": "2021-12-17T21:04:33.393Z"
   },
   {
    "duration": 31,
    "start_time": "2021-12-17T21:04:33.417Z"
   },
   {
    "duration": 25,
    "start_time": "2021-12-17T21:04:33.451Z"
   },
   {
    "duration": 100,
    "start_time": "2021-12-17T21:04:33.479Z"
   },
   {
    "duration": 746,
    "start_time": "2021-12-17T21:04:33.581Z"
   },
   {
    "duration": 6,
    "start_time": "2021-12-17T21:04:34.330Z"
   },
   {
    "duration": 48,
    "start_time": "2021-12-17T21:04:34.343Z"
   },
   {
    "duration": 457,
    "start_time": "2021-12-17T21:04:34.395Z"
   },
   {
    "duration": 318,
    "start_time": "2021-12-17T21:04:34.536Z"
   },
   {
    "duration": 307,
    "start_time": "2021-12-17T21:04:34.549Z"
   },
   {
    "duration": 303,
    "start_time": "2021-12-17T21:04:34.554Z"
   },
   {
    "duration": 293,
    "start_time": "2021-12-17T21:04:34.566Z"
   },
   {
    "duration": 290,
    "start_time": "2021-12-17T21:04:34.571Z"
   },
   {
    "duration": 277,
    "start_time": "2021-12-17T21:04:34.585Z"
   },
   {
    "duration": 266,
    "start_time": "2021-12-17T21:04:34.598Z"
   },
   {
    "duration": 263,
    "start_time": "2021-12-17T21:04:34.603Z"
   },
   {
    "duration": 252,
    "start_time": "2021-12-17T21:04:34.615Z"
   },
   {
    "duration": 248,
    "start_time": "2021-12-17T21:04:34.620Z"
   },
   {
    "duration": 237,
    "start_time": "2021-12-17T21:04:34.632Z"
   },
   {
    "duration": 232,
    "start_time": "2021-12-17T21:04:34.638Z"
   },
   {
    "duration": 221,
    "start_time": "2021-12-17T21:04:34.650Z"
   },
   {
    "duration": 209,
    "start_time": "2021-12-17T21:04:34.663Z"
   },
   {
    "duration": 205,
    "start_time": "2021-12-17T21:04:34.668Z"
   },
   {
    "duration": 193,
    "start_time": "2021-12-17T21:04:34.681Z"
   },
   {
    "duration": 189,
    "start_time": "2021-12-17T21:04:34.686Z"
   },
   {
    "duration": 178,
    "start_time": "2021-12-17T21:04:34.698Z"
   },
   {
    "duration": 172,
    "start_time": "2021-12-17T21:04:34.705Z"
   },
   {
    "duration": 160,
    "start_time": "2021-12-17T21:04:34.718Z"
   },
   {
    "duration": 148,
    "start_time": "2021-12-17T21:04:34.731Z"
   },
   {
    "duration": 144,
    "start_time": "2021-12-17T21:04:34.736Z"
   },
   {
    "duration": 131,
    "start_time": "2021-12-17T21:04:34.750Z"
   },
   {
    "duration": 118,
    "start_time": "2021-12-17T21:04:34.764Z"
   },
   {
    "duration": 114,
    "start_time": "2021-12-17T21:04:34.769Z"
   },
   {
    "duration": 104,
    "start_time": "2021-12-17T21:04:34.783Z"
   },
   {
    "duration": 100,
    "start_time": "2021-12-17T21:04:34.788Z"
   },
   {
    "duration": 88,
    "start_time": "2021-12-17T21:04:34.801Z"
   },
   {
    "duration": 77,
    "start_time": "2021-12-17T21:04:34.814Z"
   },
   {
    "duration": 96,
    "start_time": "2021-12-17T21:04:34.820Z"
   },
   {
    "duration": 87,
    "start_time": "2021-12-17T21:04:34.831Z"
   },
   {
    "duration": 82,
    "start_time": "2021-12-17T21:04:34.837Z"
   },
   {
    "duration": 7037,
    "start_time": "2021-12-17T21:06:40.245Z"
   },
   {
    "duration": 1604,
    "start_time": "2021-12-17T21:06:47.286Z"
   },
   {
    "duration": 4,
    "start_time": "2021-12-17T21:06:48.893Z"
   },
   {
    "duration": 104,
    "start_time": "2021-12-17T21:06:48.900Z"
   },
   {
    "duration": 38,
    "start_time": "2021-12-17T21:06:49.006Z"
   },
   {
    "duration": 31,
    "start_time": "2021-12-17T21:06:49.047Z"
   },
   {
    "duration": 51,
    "start_time": "2021-12-17T21:06:49.081Z"
   },
   {
    "duration": 113,
    "start_time": "2021-12-17T21:06:49.136Z"
   },
   {
    "duration": 32,
    "start_time": "2021-12-17T21:06:49.252Z"
   },
   {
    "duration": 4,
    "start_time": "2021-12-17T21:06:49.287Z"
   },
   {
    "duration": 27,
    "start_time": "2021-12-17T21:06:49.294Z"
   },
   {
    "duration": 11,
    "start_time": "2021-12-17T21:06:49.324Z"
   },
   {
    "duration": 605,
    "start_time": "2021-12-17T21:06:49.337Z"
   },
   {
    "duration": 9,
    "start_time": "2021-12-17T21:06:49.944Z"
   },
   {
    "duration": 18,
    "start_time": "2021-12-17T21:06:49.956Z"
   },
   {
    "duration": 14,
    "start_time": "2021-12-17T21:06:49.977Z"
   },
   {
    "duration": 36,
    "start_time": "2021-12-17T21:06:49.993Z"
   },
   {
    "duration": 31,
    "start_time": "2021-12-17T21:06:50.031Z"
   },
   {
    "duration": 53,
    "start_time": "2021-12-17T21:06:50.064Z"
   },
   {
    "duration": 98,
    "start_time": "2021-12-17T21:06:50.119Z"
   },
   {
    "duration": 859,
    "start_time": "2021-12-17T21:06:50.219Z"
   },
   {
    "duration": 43,
    "start_time": "2021-12-17T21:06:51.080Z"
   },
   {
    "duration": 47,
    "start_time": "2021-12-17T21:06:51.128Z"
   },
   {
    "duration": 438,
    "start_time": "2021-12-17T21:06:51.179Z"
   },
   {
    "duration": 304,
    "start_time": "2021-12-17T21:06:51.315Z"
   },
   {
    "duration": 299,
    "start_time": "2021-12-17T21:06:51.322Z"
   },
   {
    "duration": 288,
    "start_time": "2021-12-17T21:06:51.334Z"
   },
   {
    "duration": 276,
    "start_time": "2021-12-17T21:06:51.348Z"
   },
   {
    "duration": 271,
    "start_time": "2021-12-17T21:06:51.354Z"
   },
   {
    "duration": 261,
    "start_time": "2021-12-17T21:06:51.366Z"
   },
   {
    "duration": 249,
    "start_time": "2021-12-17T21:06:51.380Z"
   },
   {
    "duration": 244,
    "start_time": "2021-12-17T21:06:51.386Z"
   },
   {
    "duration": 233,
    "start_time": "2021-12-17T21:06:51.399Z"
   },
   {
    "duration": 220,
    "start_time": "2021-12-17T21:06:51.414Z"
   },
   {
    "duration": 214,
    "start_time": "2021-12-17T21:06:51.421Z"
   },
   {
    "duration": 203,
    "start_time": "2021-12-17T21:06:51.433Z"
   },
   {
    "duration": 191,
    "start_time": "2021-12-17T21:06:51.447Z"
   },
   {
    "duration": 186,
    "start_time": "2021-12-17T21:06:51.453Z"
   },
   {
    "duration": 175,
    "start_time": "2021-12-17T21:06:51.465Z"
   },
   {
    "duration": 171,
    "start_time": "2021-12-17T21:06:51.471Z"
   },
   {
    "duration": 160,
    "start_time": "2021-12-17T21:06:51.483Z"
   },
   {
    "duration": 149,
    "start_time": "2021-12-17T21:06:51.496Z"
   },
   {
    "duration": 146,
    "start_time": "2021-12-17T21:06:51.501Z"
   },
   {
    "duration": 135,
    "start_time": "2021-12-17T21:06:51.513Z"
   },
   {
    "duration": 129,
    "start_time": "2021-12-17T21:06:51.520Z"
   },
   {
    "duration": 120,
    "start_time": "2021-12-17T21:06:51.531Z"
   },
   {
    "duration": 115,
    "start_time": "2021-12-17T21:06:51.537Z"
   },
   {
    "duration": 90,
    "start_time": "2021-12-17T21:06:51.564Z"
   },
   {
    "duration": 84,
    "start_time": "2021-12-17T21:06:51.571Z"
   },
   {
    "duration": 75,
    "start_time": "2021-12-17T21:06:51.582Z"
   },
   {
    "duration": 63,
    "start_time": "2021-12-17T21:06:51.595Z"
   },
   {
    "duration": 117,
    "start_time": "2021-12-17T21:06:51.599Z"
   },
   {
    "duration": 103,
    "start_time": "2021-12-17T21:06:51.615Z"
   },
   {
    "duration": 98,
    "start_time": "2021-12-17T21:06:51.621Z"
   },
   {
    "duration": 85,
    "start_time": "2021-12-17T21:06:51.636Z"
   },
   {
    "duration": 74,
    "start_time": "2021-12-17T21:06:51.648Z"
   },
   {
    "duration": 301,
    "start_time": "2021-12-17T21:09:42.382Z"
   },
   {
    "duration": 37,
    "start_time": "2021-12-17T21:20:02.435Z"
   },
   {
    "duration": 6506,
    "start_time": "2021-12-17T21:20:20.737Z"
   },
   {
    "duration": 5,
    "start_time": "2021-12-17T21:20:27.246Z"
   },
   {
    "duration": 9,
    "start_time": "2021-12-17T21:20:27.255Z"
   },
   {
    "duration": 103,
    "start_time": "2021-12-17T21:20:27.267Z"
   },
   {
    "duration": 33,
    "start_time": "2021-12-17T21:20:27.373Z"
   },
   {
    "duration": 58,
    "start_time": "2021-12-17T21:20:27.408Z"
   },
   {
    "duration": 48,
    "start_time": "2021-12-17T21:20:27.469Z"
   },
   {
    "duration": 156,
    "start_time": "2021-12-17T21:20:27.523Z"
   },
   {
    "duration": 59,
    "start_time": "2021-12-17T21:20:27.683Z"
   },
   {
    "duration": 6,
    "start_time": "2021-12-17T21:20:27.745Z"
   },
   {
    "duration": 9,
    "start_time": "2021-12-17T21:20:27.754Z"
   },
   {
    "duration": 10,
    "start_time": "2021-12-17T21:20:27.766Z"
   },
   {
    "duration": 63,
    "start_time": "2021-12-17T21:20:27.779Z"
   },
   {
    "duration": 9,
    "start_time": "2021-12-17T21:20:27.845Z"
   },
   {
    "duration": 8,
    "start_time": "2021-12-17T21:20:27.856Z"
   },
   {
    "duration": 13,
    "start_time": "2021-12-17T21:20:27.867Z"
   },
   {
    "duration": 26,
    "start_time": "2021-12-17T21:20:27.918Z"
   },
   {
    "duration": 44,
    "start_time": "2021-12-17T21:20:27.947Z"
   },
   {
    "duration": 56,
    "start_time": "2021-12-17T21:20:27.994Z"
   },
   {
    "duration": 153,
    "start_time": "2021-12-17T21:20:28.053Z"
   },
   {
    "duration": 1256,
    "start_time": "2021-12-17T21:20:28.210Z"
   },
   {
    "duration": 32,
    "start_time": "2021-12-17T21:20:29.468Z"
   },
   {
    "duration": 52,
    "start_time": "2021-12-17T21:20:29.518Z"
   },
   {
    "duration": 323,
    "start_time": "2021-12-17T21:21:43.105Z"
   },
   {
    "duration": 39,
    "start_time": "2021-12-17T21:22:03.662Z"
   },
   {
    "duration": 287,
    "start_time": "2021-12-17T21:27:18.147Z"
   },
   {
    "duration": 6532,
    "start_time": "2021-12-17T21:27:23.019Z"
   },
   {
    "duration": 5,
    "start_time": "2021-12-17T21:27:29.557Z"
   },
   {
    "duration": 6,
    "start_time": "2021-12-17T21:27:29.565Z"
   },
   {
    "duration": 162,
    "start_time": "2021-12-17T21:27:29.573Z"
   },
   {
    "duration": 51,
    "start_time": "2021-12-17T21:27:29.739Z"
   },
   {
    "duration": 67,
    "start_time": "2021-12-17T21:27:29.793Z"
   },
   {
    "duration": 31,
    "start_time": "2021-12-17T21:27:29.863Z"
   },
   {
    "duration": 176,
    "start_time": "2021-12-17T21:27:29.899Z"
   },
   {
    "duration": 62,
    "start_time": "2021-12-17T21:27:30.079Z"
   },
   {
    "duration": 7,
    "start_time": "2021-12-17T21:27:30.144Z"
   },
   {
    "duration": 16,
    "start_time": "2021-12-17T21:27:30.154Z"
   },
   {
    "duration": 21,
    "start_time": "2021-12-17T21:27:30.174Z"
   },
   {
    "duration": 71,
    "start_time": "2021-12-17T21:27:30.198Z"
   },
   {
    "duration": 13,
    "start_time": "2021-12-17T21:27:30.272Z"
   },
   {
    "duration": 32,
    "start_time": "2021-12-17T21:27:30.288Z"
   },
   {
    "duration": 27,
    "start_time": "2021-12-17T21:27:30.323Z"
   },
   {
    "duration": 20,
    "start_time": "2021-12-17T21:27:30.352Z"
   },
   {
    "duration": 43,
    "start_time": "2021-12-17T21:27:30.375Z"
   },
   {
    "duration": 5,
    "start_time": "2021-12-17T21:27:30.420Z"
   },
   {
    "duration": 42,
    "start_time": "2021-12-17T21:27:30.428Z"
   },
   {
    "duration": 666,
    "start_time": "2021-12-17T21:27:30.472Z"
   },
   {
    "duration": 7,
    "start_time": "2021-12-17T21:27:31.140Z"
   },
   {
    "duration": 66,
    "start_time": "2021-12-17T21:27:31.151Z"
   },
   {
    "duration": 38,
    "start_time": "2021-12-17T21:27:31.220Z"
   },
   {
    "duration": 35,
    "start_time": "2021-12-17T21:27:31.260Z"
   },
   {
    "duration": 718,
    "start_time": "2021-12-17T21:28:48.652Z"
   },
   {
    "duration": 313,
    "start_time": "2021-12-17T21:30:11.126Z"
   },
   {
    "duration": 1149,
    "start_time": "2021-12-17T21:32:19.283Z"
   },
   {
    "duration": 389,
    "start_time": "2021-12-17T21:32:39.845Z"
   },
   {
    "duration": 15,
    "start_time": "2021-12-17T21:32:44.329Z"
   },
   {
    "duration": 625,
    "start_time": "2021-12-17T21:32:54.141Z"
   },
   {
    "duration": 255,
    "start_time": "2021-12-17T21:33:02.632Z"
   },
   {
    "duration": 273,
    "start_time": "2021-12-17T21:33:06.268Z"
   },
   {
    "duration": 11,
    "start_time": "2021-12-17T21:33:16.451Z"
   },
   {
    "duration": 45,
    "start_time": "2021-12-17T21:34:34.529Z"
   },
   {
    "duration": 71,
    "start_time": "2021-12-17T21:34:40.522Z"
   },
   {
    "duration": 33,
    "start_time": "2021-12-17T21:35:36.213Z"
   },
   {
    "duration": 547,
    "start_time": "2021-12-17T21:36:02.702Z"
   },
   {
    "duration": 698,
    "start_time": "2021-12-17T21:41:46.181Z"
   },
   {
    "duration": 578,
    "start_time": "2021-12-17T21:47:23.739Z"
   },
   {
    "duration": 735,
    "start_time": "2021-12-17T21:47:55.071Z"
   },
   {
    "duration": 574,
    "start_time": "2021-12-17T21:48:01.982Z"
   },
   {
    "duration": 523,
    "start_time": "2021-12-17T21:48:15.877Z"
   },
   {
    "duration": 241,
    "start_time": "2021-12-17T21:48:21.533Z"
   },
   {
    "duration": 13,
    "start_time": "2021-12-17T21:48:30.539Z"
   },
   {
    "duration": 8608,
    "start_time": "2021-12-18T11:56:59.977Z"
   },
   {
    "duration": 1576,
    "start_time": "2021-12-18T11:57:08.588Z"
   },
   {
    "duration": 5,
    "start_time": "2021-12-18T11:57:10.167Z"
   },
   {
    "duration": 115,
    "start_time": "2021-12-18T11:57:10.175Z"
   },
   {
    "duration": 37,
    "start_time": "2021-12-18T11:57:10.292Z"
   },
   {
    "duration": 56,
    "start_time": "2021-12-18T11:57:10.332Z"
   },
   {
    "duration": 19,
    "start_time": "2021-12-18T11:57:10.391Z"
   },
   {
    "duration": 125,
    "start_time": "2021-12-18T11:57:10.412Z"
   },
   {
    "duration": 38,
    "start_time": "2021-12-18T11:57:10.541Z"
   },
   {
    "duration": 4,
    "start_time": "2021-12-18T11:57:10.583Z"
   },
   {
    "duration": 8,
    "start_time": "2021-12-18T11:57:10.590Z"
   },
   {
    "duration": 10,
    "start_time": "2021-12-18T11:57:10.601Z"
   },
   {
    "duration": 829,
    "start_time": "2021-12-18T11:57:10.614Z"
   },
   {
    "duration": 16,
    "start_time": "2021-12-18T11:57:11.446Z"
   },
   {
    "duration": 10,
    "start_time": "2021-12-18T11:57:11.466Z"
   },
   {
    "duration": 13,
    "start_time": "2021-12-18T11:57:11.479Z"
   },
   {
    "duration": 16,
    "start_time": "2021-12-18T11:57:11.494Z"
   },
   {
    "duration": 67,
    "start_time": "2021-12-18T11:57:11.512Z"
   },
   {
    "duration": 5,
    "start_time": "2021-12-18T11:57:11.581Z"
   },
   {
    "duration": 29,
    "start_time": "2021-12-18T11:57:11.588Z"
   },
   {
    "duration": 818,
    "start_time": "2021-12-18T11:57:11.620Z"
   },
   {
    "duration": 7,
    "start_time": "2021-12-18T11:57:12.441Z"
   },
   {
    "duration": 77,
    "start_time": "2021-12-18T11:57:12.460Z"
   },
   {
    "duration": 37,
    "start_time": "2021-12-18T11:57:12.540Z"
   },
   {
    "duration": 490,
    "start_time": "2021-12-18T11:57:12.580Z"
   },
   {
    "duration": 278,
    "start_time": "2021-12-18T11:57:13.073Z"
   },
   {
    "duration": 14,
    "start_time": "2021-12-18T11:57:13.356Z"
   },
   {
    "duration": 600,
    "start_time": "2021-12-18T11:57:13.373Z"
   },
   {
    "duration": 12,
    "start_time": "2021-12-18T11:57:13.976Z"
   },
   {
    "duration": 310,
    "start_time": "2021-12-18T11:57:13.991Z"
   },
   {
    "duration": 11,
    "start_time": "2021-12-18T11:57:14.304Z"
   },
   {
    "duration": 369,
    "start_time": "2021-12-18T11:57:14.318Z"
   },
   {
    "duration": 7,
    "start_time": "2021-12-18T11:57:14.689Z"
   },
   {
    "duration": 92,
    "start_time": "2021-12-18T11:57:14.698Z"
   },
   {
    "duration": 120,
    "start_time": "2021-12-18T11:57:14.793Z"
   },
   {
    "duration": 16,
    "start_time": "2021-12-18T11:57:14.916Z"
   },
   {
    "duration": 506,
    "start_time": "2021-12-18T11:57:14.934Z"
   },
   {
    "duration": 466,
    "start_time": "2021-12-18T11:57:15.443Z"
   },
   {
    "duration": 861,
    "start_time": "2021-12-18T11:57:15.911Z"
   },
   {
    "duration": 16,
    "start_time": "2021-12-18T11:57:16.774Z"
   },
   {
    "duration": 11,
    "start_time": "2021-12-18T11:57:16.792Z"
   },
   {
    "duration": 21,
    "start_time": "2021-12-18T11:57:16.805Z"
   },
   {
    "duration": 10,
    "start_time": "2021-12-18T11:57:16.860Z"
   },
   {
    "duration": 10,
    "start_time": "2021-12-18T11:57:16.872Z"
   },
   {
    "duration": 6,
    "start_time": "2021-12-18T11:57:16.884Z"
   },
   {
    "duration": 6,
    "start_time": "2021-12-18T11:57:16.892Z"
   },
   {
    "duration": 376,
    "start_time": "2021-12-18T11:57:16.900Z"
   },
   {
    "duration": 13,
    "start_time": "2021-12-18T11:57:17.279Z"
   },
   {
    "duration": 12,
    "start_time": "2021-12-18T11:57:17.295Z"
   },
   {
    "duration": 12,
    "start_time": "2021-12-18T11:57:17.310Z"
   },
   {
    "duration": 13,
    "start_time": "2021-12-18T11:57:17.360Z"
   },
   {
    "duration": 14,
    "start_time": "2021-12-18T11:57:17.375Z"
   },
   {
    "duration": 202,
    "start_time": "2021-12-18T11:57:17.392Z"
   },
   {
    "duration": 5,
    "start_time": "2021-12-18T11:57:17.596Z"
   },
   {
    "duration": 1711,
    "start_time": "2021-12-18T11:57:17.603Z"
   },
   {
    "duration": 1126,
    "start_time": "2021-12-18T11:57:19.317Z"
   },
   {
    "duration": 14267,
    "start_time": "2022-01-07T10:12:26.261Z"
   },
   {
    "duration": 1568,
    "start_time": "2022-01-07T10:12:40.531Z"
   },
   {
    "duration": 4,
    "start_time": "2022-01-07T10:12:42.102Z"
   },
   {
    "duration": 113,
    "start_time": "2022-01-07T10:12:42.109Z"
   },
   {
    "duration": 35,
    "start_time": "2022-01-07T10:12:42.224Z"
   },
   {
    "duration": 31,
    "start_time": "2022-01-07T10:12:42.262Z"
   },
   {
    "duration": 22,
    "start_time": "2022-01-07T10:12:42.324Z"
   },
   {
    "duration": 115,
    "start_time": "2022-01-07T10:12:42.351Z"
   },
   {
    "duration": 32,
    "start_time": "2022-01-07T10:12:42.469Z"
   },
   {
    "duration": 4,
    "start_time": "2022-01-07T10:12:42.523Z"
   },
   {
    "duration": 7,
    "start_time": "2022-01-07T10:12:42.530Z"
   },
   {
    "duration": 12,
    "start_time": "2022-01-07T10:12:42.540Z"
   },
   {
    "duration": 891,
    "start_time": "2022-01-07T10:12:42.555Z"
   },
   {
    "duration": 9,
    "start_time": "2022-01-07T10:12:43.449Z"
   },
   {
    "duration": 12,
    "start_time": "2022-01-07T10:12:43.461Z"
   },
   {
    "duration": 481,
    "start_time": "2022-01-07T10:12:53.715Z"
   },
   {
    "duration": 12,
    "start_time": "2022-01-07T10:13:00.995Z"
   },
   {
    "duration": 40,
    "start_time": "2022-01-07T10:13:08.905Z"
   },
   {
    "duration": 13,
    "start_time": "2022-01-07T10:13:13.378Z"
   },
   {
    "duration": 6479,
    "start_time": "2022-01-07T10:38:34.300Z"
   },
   {
    "duration": 5,
    "start_time": "2022-01-07T10:38:40.783Z"
   },
   {
    "duration": 6,
    "start_time": "2022-01-07T10:38:40.791Z"
   },
   {
    "duration": 98,
    "start_time": "2022-01-07T10:38:40.800Z"
   },
   {
    "duration": 33,
    "start_time": "2022-01-07T10:38:40.900Z"
   },
   {
    "duration": 32,
    "start_time": "2022-01-07T10:38:40.935Z"
   },
   {
    "duration": 21,
    "start_time": "2022-01-07T10:38:40.969Z"
   },
   {
    "duration": 109,
    "start_time": "2022-01-07T10:38:41.025Z"
   },
   {
    "duration": 32,
    "start_time": "2022-01-07T10:38:41.137Z"
   },
   {
    "duration": 5,
    "start_time": "2022-01-07T10:38:41.171Z"
   },
   {
    "duration": 7,
    "start_time": "2022-01-07T10:38:41.178Z"
   },
   {
    "duration": 39,
    "start_time": "2022-01-07T10:38:41.187Z"
   },
   {
    "duration": 45,
    "start_time": "2022-01-07T10:38:41.228Z"
   },
   {
    "duration": 9,
    "start_time": "2022-01-07T10:38:41.276Z"
   },
   {
    "duration": 9,
    "start_time": "2022-01-07T10:38:41.287Z"
   },
   {
    "duration": 37,
    "start_time": "2022-01-07T10:38:41.298Z"
   },
   {
    "duration": 16,
    "start_time": "2022-01-07T10:38:41.337Z"
   },
   {
    "duration": 27,
    "start_time": "2022-01-07T10:38:41.355Z"
   },
   {
    "duration": 4,
    "start_time": "2022-01-07T10:38:41.385Z"
   },
   {
    "duration": 31,
    "start_time": "2022-01-07T10:38:41.423Z"
   },
   {
    "duration": 750,
    "start_time": "2022-01-07T10:38:41.456Z"
   },
   {
    "duration": 15,
    "start_time": "2022-01-07T10:38:42.208Z"
   },
   {
    "duration": 43,
    "start_time": "2022-01-07T10:38:42.227Z"
   },
   {
    "duration": 7,
    "start_time": "2022-01-07T10:38:48.060Z"
   },
   {
    "duration": 9,
    "start_time": "2022-01-07T10:39:06.681Z"
   },
   {
    "duration": 6107,
    "start_time": "2022-01-07T10:39:27.737Z"
   },
   {
    "duration": 5,
    "start_time": "2022-01-07T10:39:33.847Z"
   },
   {
    "duration": 7,
    "start_time": "2022-01-07T10:39:33.855Z"
   },
   {
    "duration": 101,
    "start_time": "2022-01-07T10:39:33.865Z"
   },
   {
    "duration": 34,
    "start_time": "2022-01-07T10:39:33.969Z"
   },
   {
    "duration": 44,
    "start_time": "2022-01-07T10:39:34.005Z"
   },
   {
    "duration": 20,
    "start_time": "2022-01-07T10:39:34.051Z"
   },
   {
    "duration": 117,
    "start_time": "2022-01-07T10:39:34.075Z"
   },
   {
    "duration": 41,
    "start_time": "2022-01-07T10:39:34.195Z"
   },
   {
    "duration": 5,
    "start_time": "2022-01-07T10:39:34.238Z"
   },
   {
    "duration": 15,
    "start_time": "2022-01-07T10:39:34.245Z"
   },
   {
    "duration": 9,
    "start_time": "2022-01-07T10:39:34.262Z"
   },
   {
    "duration": 60,
    "start_time": "2022-01-07T10:39:34.273Z"
   },
   {
    "duration": 9,
    "start_time": "2022-01-07T10:39:34.335Z"
   },
   {
    "duration": 9,
    "start_time": "2022-01-07T10:39:34.347Z"
   },
   {
    "duration": 13,
    "start_time": "2022-01-07T10:39:34.359Z"
   },
   {
    "duration": 16,
    "start_time": "2022-01-07T10:39:34.374Z"
   },
   {
    "duration": 27,
    "start_time": "2022-01-07T10:39:34.424Z"
   },
   {
    "duration": 5,
    "start_time": "2022-01-07T10:39:34.454Z"
   },
   {
    "duration": 32,
    "start_time": "2022-01-07T10:39:34.461Z"
   },
   {
    "duration": 657,
    "start_time": "2022-01-07T10:39:34.495Z"
   },
   {
    "duration": 6,
    "start_time": "2022-01-07T10:39:35.154Z"
   },
   {
    "duration": 31,
    "start_time": "2022-01-07T10:39:35.164Z"
   },
   {
    "duration": 27,
    "start_time": "2022-01-07T10:39:35.198Z"
   },
   {
    "duration": 6206,
    "start_time": "2022-01-07T10:43:31.601Z"
   },
   {
    "duration": 1652,
    "start_time": "2022-01-07T10:43:37.811Z"
   },
   {
    "duration": 4,
    "start_time": "2022-01-07T10:43:39.468Z"
   },
   {
    "duration": 106,
    "start_time": "2022-01-07T10:43:39.476Z"
   },
   {
    "duration": 49,
    "start_time": "2022-01-07T10:43:39.585Z"
   },
   {
    "duration": 29,
    "start_time": "2022-01-07T10:43:39.636Z"
   },
   {
    "duration": 23,
    "start_time": "2022-01-07T10:43:39.668Z"
   },
   {
    "duration": 114,
    "start_time": "2022-01-07T10:43:39.693Z"
   },
   {
    "duration": 38,
    "start_time": "2022-01-07T10:43:39.811Z"
   },
   {
    "duration": 4,
    "start_time": "2022-01-07T10:43:39.853Z"
   },
   {
    "duration": 7,
    "start_time": "2022-01-07T10:43:39.860Z"
   },
   {
    "duration": 11,
    "start_time": "2022-01-07T10:43:39.869Z"
   },
   {
    "duration": 678,
    "start_time": "2022-01-07T10:43:39.883Z"
   },
   {
    "duration": 9,
    "start_time": "2022-01-07T10:43:40.563Z"
   },
   {
    "duration": 11,
    "start_time": "2022-01-07T10:43:40.574Z"
   },
   {
    "duration": 22,
    "start_time": "2022-01-07T10:43:40.587Z"
   },
   {
    "duration": 16,
    "start_time": "2022-01-07T10:43:40.624Z"
   },
   {
    "duration": 27,
    "start_time": "2022-01-07T10:43:40.642Z"
   },
   {
    "duration": 5,
    "start_time": "2022-01-07T10:43:40.671Z"
   },
   {
    "duration": 60,
    "start_time": "2022-01-07T10:43:40.678Z"
   },
   {
    "duration": 674,
    "start_time": "2022-01-07T10:43:40.740Z"
   },
   {
    "duration": 9,
    "start_time": "2022-01-07T10:43:41.417Z"
   },
   {
    "duration": 32,
    "start_time": "2022-01-07T10:43:41.428Z"
   },
   {
    "duration": 9,
    "start_time": "2022-01-07T10:43:41.462Z"
   },
   {
    "duration": 50,
    "start_time": "2022-01-07T10:43:41.473Z"
   },
   {
    "duration": 427,
    "start_time": "2022-01-07T10:43:41.525Z"
   },
   {
    "duration": 254,
    "start_time": "2022-01-07T10:43:41.957Z"
   },
   {
    "duration": 13,
    "start_time": "2022-01-07T10:43:42.214Z"
   },
   {
    "duration": 377,
    "start_time": "2022-01-07T10:43:42.229Z"
   },
   {
    "duration": 17,
    "start_time": "2022-01-07T10:43:42.609Z"
   },
   {
    "duration": 241,
    "start_time": "2022-01-07T10:43:42.629Z"
   },
   {
    "duration": 10,
    "start_time": "2022-01-07T10:43:42.873Z"
   },
   {
    "duration": 383,
    "start_time": "2022-01-07T10:43:42.886Z"
   },
   {
    "duration": 6,
    "start_time": "2022-01-07T10:43:43.271Z"
   },
   {
    "duration": 78,
    "start_time": "2022-01-07T10:43:43.280Z"
   },
   {
    "duration": 125,
    "start_time": "2022-01-07T10:43:43.361Z"
   },
   {
    "duration": 15,
    "start_time": "2022-01-07T10:43:43.489Z"
   },
   {
    "duration": 486,
    "start_time": "2022-01-07T10:43:43.507Z"
   },
   {
    "duration": 439,
    "start_time": "2022-01-07T10:43:43.996Z"
   },
   {
    "duration": 712,
    "start_time": "2022-01-07T10:43:44.437Z"
   },
   {
    "duration": 15,
    "start_time": "2022-01-07T10:43:45.151Z"
   },
   {
    "duration": 9,
    "start_time": "2022-01-07T10:43:45.169Z"
   },
   {
    "duration": 50,
    "start_time": "2022-01-07T10:43:45.180Z"
   },
   {
    "duration": 10,
    "start_time": "2022-01-07T10:43:45.232Z"
   },
   {
    "duration": 7,
    "start_time": "2022-01-07T10:43:45.244Z"
   },
   {
    "duration": 7,
    "start_time": "2022-01-07T10:43:45.253Z"
   },
   {
    "duration": 7,
    "start_time": "2022-01-07T10:43:45.262Z"
   },
   {
    "duration": 470,
    "start_time": "2022-01-07T10:43:45.271Z"
   },
   {
    "duration": -117,
    "start_time": "2022-01-07T10:43:45.861Z"
   },
   {
    "duration": -120,
    "start_time": "2022-01-07T10:43:45.867Z"
   },
   {
    "duration": -122,
    "start_time": "2022-01-07T10:43:45.871Z"
   },
   {
    "duration": -124,
    "start_time": "2022-01-07T10:43:45.875Z"
   },
   {
    "duration": -125,
    "start_time": "2022-01-07T10:43:45.878Z"
   },
   {
    "duration": -127,
    "start_time": "2022-01-07T10:43:45.883Z"
   },
   {
    "duration": -128,
    "start_time": "2022-01-07T10:43:45.887Z"
   },
   {
    "duration": -130,
    "start_time": "2022-01-07T10:43:45.891Z"
   },
   {
    "duration": -131,
    "start_time": "2022-01-07T10:43:45.894Z"
   },
   {
    "duration": 309,
    "start_time": "2022-01-07T10:44:41.528Z"
   },
   {
    "duration": 6096,
    "start_time": "2022-01-07T10:44:44.938Z"
   },
   {
    "duration": 5,
    "start_time": "2022-01-07T10:44:51.037Z"
   },
   {
    "duration": 6,
    "start_time": "2022-01-07T10:44:51.045Z"
   },
   {
    "duration": 100,
    "start_time": "2022-01-07T10:44:51.054Z"
   },
   {
    "duration": 33,
    "start_time": "2022-01-07T10:44:51.156Z"
   },
   {
    "duration": 46,
    "start_time": "2022-01-07T10:44:51.192Z"
   },
   {
    "duration": 25,
    "start_time": "2022-01-07T10:44:51.241Z"
   },
   {
    "duration": 110,
    "start_time": "2022-01-07T10:44:51.270Z"
   },
   {
    "duration": 44,
    "start_time": "2022-01-07T10:44:51.383Z"
   },
   {
    "duration": 5,
    "start_time": "2022-01-07T10:44:51.429Z"
   },
   {
    "duration": 11,
    "start_time": "2022-01-07T10:44:51.437Z"
   },
   {
    "duration": 9,
    "start_time": "2022-01-07T10:44:51.450Z"
   },
   {
    "duration": 64,
    "start_time": "2022-01-07T10:44:51.461Z"
   },
   {
    "duration": 9,
    "start_time": "2022-01-07T10:44:51.527Z"
   },
   {
    "duration": 9,
    "start_time": "2022-01-07T10:44:51.539Z"
   },
   {
    "duration": 15,
    "start_time": "2022-01-07T10:44:51.551Z"
   },
   {
    "duration": 18,
    "start_time": "2022-01-07T10:44:51.568Z"
   },
   {
    "duration": 55,
    "start_time": "2022-01-07T10:44:51.588Z"
   },
   {
    "duration": 4,
    "start_time": "2022-01-07T10:44:51.645Z"
   },
   {
    "duration": 30,
    "start_time": "2022-01-07T10:44:51.652Z"
   },
   {
    "duration": 730,
    "start_time": "2022-01-07T10:44:51.685Z"
   },
   {
    "duration": 8,
    "start_time": "2022-01-07T10:44:52.418Z"
   },
   {
    "duration": 43,
    "start_time": "2022-01-07T10:44:52.432Z"
   },
   {
    "duration": 8,
    "start_time": "2022-01-07T10:44:52.478Z"
   },
   {
    "duration": 43,
    "start_time": "2022-01-07T10:44:52.488Z"
   },
   {
    "duration": 433,
    "start_time": "2022-01-07T10:44:52.534Z"
   },
   {
    "duration": 309,
    "start_time": "2022-01-07T10:44:52.969Z"
   },
   {
    "duration": 15,
    "start_time": "2022-01-07T10:44:53.282Z"
   },
   {
    "duration": 388,
    "start_time": "2022-01-07T10:44:53.299Z"
   },
   {
    "duration": 9,
    "start_time": "2022-01-07T10:44:53.689Z"
   },
   {
    "duration": 244,
    "start_time": "2022-01-07T10:44:53.724Z"
   },
   {
    "duration": 13,
    "start_time": "2022-01-07T10:44:53.971Z"
   },
   {
    "duration": 343,
    "start_time": "2022-01-07T10:44:53.987Z"
   },
   {
    "duration": 7,
    "start_time": "2022-01-07T10:44:54.332Z"
   },
   {
    "duration": 50,
    "start_time": "2022-01-07T10:44:54.341Z"
   },
   {
    "duration": 139,
    "start_time": "2022-01-07T10:44:54.393Z"
   },
   {
    "duration": 16,
    "start_time": "2022-01-07T10:44:54.535Z"
   },
   {
    "duration": 566,
    "start_time": "2022-01-07T10:44:54.553Z"
   },
   {
    "duration": 436,
    "start_time": "2022-01-07T10:44:55.121Z"
   },
   {
    "duration": 815,
    "start_time": "2022-01-07T10:44:55.559Z"
   },
   {
    "duration": 15,
    "start_time": "2022-01-07T10:44:56.376Z"
   },
   {
    "duration": 30,
    "start_time": "2022-01-07T10:44:56.394Z"
   },
   {
    "duration": 24,
    "start_time": "2022-01-07T10:44:56.427Z"
   },
   {
    "duration": 18,
    "start_time": "2022-01-07T10:44:56.453Z"
   },
   {
    "duration": 11,
    "start_time": "2022-01-07T10:44:56.474Z"
   },
   {
    "duration": 19,
    "start_time": "2022-01-07T10:44:56.487Z"
   },
   {
    "duration": 21,
    "start_time": "2022-01-07T10:44:56.508Z"
   },
   {
    "duration": 324,
    "start_time": "2022-01-07T10:44:56.532Z"
   },
   {
    "duration": 6086,
    "start_time": "2022-01-07T10:45:13.134Z"
   },
   {
    "duration": 1541,
    "start_time": "2022-01-07T10:45:19.223Z"
   },
   {
    "duration": 4,
    "start_time": "2022-01-07T10:45:20.768Z"
   },
   {
    "duration": 105,
    "start_time": "2022-01-07T10:45:20.775Z"
   },
   {
    "duration": 44,
    "start_time": "2022-01-07T10:45:20.882Z"
   },
   {
    "duration": 29,
    "start_time": "2022-01-07T10:45:20.928Z"
   },
   {
    "duration": 24,
    "start_time": "2022-01-07T10:45:20.959Z"
   },
   {
    "duration": 117,
    "start_time": "2022-01-07T10:45:20.985Z"
   },
   {
    "duration": 42,
    "start_time": "2022-01-07T10:45:21.106Z"
   },
   {
    "duration": 4,
    "start_time": "2022-01-07T10:45:21.152Z"
   },
   {
    "duration": 7,
    "start_time": "2022-01-07T10:45:21.158Z"
   },
   {
    "duration": 8,
    "start_time": "2022-01-07T10:45:21.168Z"
   },
   {
    "duration": 668,
    "start_time": "2022-01-07T10:45:21.178Z"
   },
   {
    "duration": 8,
    "start_time": "2022-01-07T10:45:21.849Z"
   },
   {
    "duration": 8,
    "start_time": "2022-01-07T10:45:21.860Z"
   },
   {
    "duration": 12,
    "start_time": "2022-01-07T10:45:21.871Z"
   },
   {
    "duration": 43,
    "start_time": "2022-01-07T10:45:21.886Z"
   },
   {
    "duration": 30,
    "start_time": "2022-01-07T10:45:21.931Z"
   },
   {
    "duration": 4,
    "start_time": "2022-01-07T10:45:21.964Z"
   },
   {
    "duration": 59,
    "start_time": "2022-01-07T10:45:21.970Z"
   },
   {
    "duration": 694,
    "start_time": "2022-01-07T10:45:22.031Z"
   },
   {
    "duration": 6,
    "start_time": "2022-01-07T10:45:22.727Z"
   },
   {
    "duration": 47,
    "start_time": "2022-01-07T10:45:22.735Z"
   },
   {
    "duration": 9,
    "start_time": "2022-01-07T10:45:22.784Z"
   },
   {
    "duration": 40,
    "start_time": "2022-01-07T10:45:22.795Z"
   },
   {
    "duration": 475,
    "start_time": "2022-01-07T10:45:22.838Z"
   },
   {
    "duration": 258,
    "start_time": "2022-01-07T10:45:23.323Z"
   },
   {
    "duration": 13,
    "start_time": "2022-01-07T10:45:23.584Z"
   },
   {
    "duration": 395,
    "start_time": "2022-01-07T10:45:23.599Z"
   },
   {
    "duration": 10,
    "start_time": "2022-01-07T10:45:23.996Z"
   },
   {
    "duration": 241,
    "start_time": "2022-01-07T10:45:24.024Z"
   },
   {
    "duration": 10,
    "start_time": "2022-01-07T10:45:24.267Z"
   },
   {
    "duration": 352,
    "start_time": "2022-01-07T10:45:24.279Z"
   },
   {
    "duration": 6,
    "start_time": "2022-01-07T10:45:24.634Z"
   },
   {
    "duration": 56,
    "start_time": "2022-01-07T10:45:24.642Z"
   },
   {
    "duration": 117,
    "start_time": "2022-01-07T10:45:24.723Z"
   },
   {
    "duration": 16,
    "start_time": "2022-01-07T10:45:24.842Z"
   },
   {
    "duration": 510,
    "start_time": "2022-01-07T10:45:24.861Z"
   },
   {
    "duration": 424,
    "start_time": "2022-01-07T10:45:25.374Z"
   },
   {
    "duration": 737,
    "start_time": "2022-01-07T10:45:25.800Z"
   },
   {
    "duration": 16,
    "start_time": "2022-01-07T10:45:26.540Z"
   },
   {
    "duration": 10,
    "start_time": "2022-01-07T10:45:26.559Z"
   },
   {
    "duration": 53,
    "start_time": "2022-01-07T10:45:26.572Z"
   },
   {
    "duration": 9,
    "start_time": "2022-01-07T10:45:26.628Z"
   },
   {
    "duration": 7,
    "start_time": "2022-01-07T10:45:26.640Z"
   },
   {
    "duration": 8,
    "start_time": "2022-01-07T10:45:26.650Z"
   },
   {
    "duration": 6,
    "start_time": "2022-01-07T10:45:26.660Z"
   },
   {
    "duration": 357,
    "start_time": "2022-01-07T10:45:26.668Z"
   },
   {
    "duration": 11,
    "start_time": "2022-01-07T10:45:27.028Z"
   },
   {
    "duration": 11,
    "start_time": "2022-01-07T10:45:27.041Z"
   },
   {
    "duration": 10,
    "start_time": "2022-01-07T10:45:27.055Z"
   },
   {
    "duration": 11,
    "start_time": "2022-01-07T10:45:27.067Z"
   },
   {
    "duration": 52,
    "start_time": "2022-01-07T10:45:27.080Z"
   },
   {
    "duration": 163,
    "start_time": "2022-01-07T10:45:27.134Z"
   },
   {
    "duration": 4,
    "start_time": "2022-01-07T10:45:27.300Z"
   },
   {
    "duration": 1340,
    "start_time": "2022-01-07T10:45:27.306Z"
   },
   {
    "duration": 823,
    "start_time": "2022-01-07T10:45:28.649Z"
   },
   {
    "duration": 5,
    "start_time": "2022-01-07T10:59:58.183Z"
   },
   {
    "duration": 4,
    "start_time": "2022-01-07T11:02:18.019Z"
   },
   {
    "duration": 6035,
    "start_time": "2022-01-07T11:02:25.206Z"
   },
   {
    "duration": 1527,
    "start_time": "2022-01-07T11:02:31.244Z"
   },
   {
    "duration": 4,
    "start_time": "2022-01-07T11:02:32.775Z"
   },
   {
    "duration": 7,
    "start_time": "2022-01-07T11:02:32.782Z"
   },
   {
    "duration": 117,
    "start_time": "2022-01-07T11:02:32.791Z"
   },
   {
    "duration": 42,
    "start_time": "2022-01-07T11:02:32.910Z"
   },
   {
    "duration": 31,
    "start_time": "2022-01-07T11:02:32.955Z"
   },
   {
    "duration": 45,
    "start_time": "2022-01-07T11:02:32.989Z"
   },
   {
    "duration": 116,
    "start_time": "2022-01-07T11:02:33.040Z"
   },
   {
    "duration": 32,
    "start_time": "2022-01-07T11:02:33.159Z"
   },
   {
    "duration": 5,
    "start_time": "2022-01-07T11:02:33.194Z"
   },
   {
    "duration": 5,
    "start_time": "2022-01-07T11:02:33.224Z"
   },
   {
    "duration": 11,
    "start_time": "2022-01-07T11:02:33.231Z"
   },
   {
    "duration": 752,
    "start_time": "2022-01-07T11:02:33.245Z"
   },
   {
    "duration": 9,
    "start_time": "2022-01-07T11:02:34.000Z"
   },
   {
    "duration": 15,
    "start_time": "2022-01-07T11:02:34.012Z"
   },
   {
    "duration": 19,
    "start_time": "2022-01-07T11:02:34.030Z"
   },
   {
    "duration": 17,
    "start_time": "2022-01-07T11:02:34.052Z"
   },
   {
    "duration": 57,
    "start_time": "2022-01-07T11:02:34.071Z"
   },
   {
    "duration": 6,
    "start_time": "2022-01-07T11:02:34.131Z"
   },
   {
    "duration": 30,
    "start_time": "2022-01-07T11:02:34.139Z"
   },
   {
    "duration": 707,
    "start_time": "2022-01-07T11:02:34.171Z"
   },
   {
    "duration": 6,
    "start_time": "2022-01-07T11:02:34.880Z"
   },
   {
    "duration": 61,
    "start_time": "2022-01-07T11:02:34.889Z"
   },
   {
    "duration": 9,
    "start_time": "2022-01-07T11:02:34.953Z"
   },
   {
    "duration": 16,
    "start_time": "2022-01-07T11:02:34.964Z"
   },
   {
    "duration": 442,
    "start_time": "2022-01-07T11:02:34.986Z"
   },
   {
    "duration": 244,
    "start_time": "2022-01-07T11:02:35.432Z"
   },
   {
    "duration": 13,
    "start_time": "2022-01-07T11:02:35.679Z"
   },
   {
    "duration": 384,
    "start_time": "2022-01-07T11:02:35.694Z"
   },
   {
    "duration": 10,
    "start_time": "2022-01-07T11:02:36.080Z"
   },
   {
    "duration": 241,
    "start_time": "2022-01-07T11:02:36.092Z"
   },
   {
    "duration": 11,
    "start_time": "2022-01-07T11:02:36.335Z"
   },
   {
    "duration": 336,
    "start_time": "2022-01-07T11:02:36.348Z"
   },
   {
    "duration": 7,
    "start_time": "2022-01-07T11:02:36.686Z"
   },
   {
    "duration": 75,
    "start_time": "2022-01-07T11:02:36.696Z"
   },
   {
    "duration": 120,
    "start_time": "2022-01-07T11:02:36.773Z"
   },
   {
    "duration": 32,
    "start_time": "2022-01-07T11:02:36.896Z"
   },
   {
    "duration": 467,
    "start_time": "2022-01-07T11:02:36.930Z"
   },
   {
    "duration": 440,
    "start_time": "2022-01-07T11:02:37.400Z"
   },
   {
    "duration": 737,
    "start_time": "2022-01-07T11:02:37.843Z"
   },
   {
    "duration": 17,
    "start_time": "2022-01-07T11:02:38.583Z"
   },
   {
    "duration": 26,
    "start_time": "2022-01-07T11:02:38.603Z"
   },
   {
    "duration": 23,
    "start_time": "2022-01-07T11:02:38.632Z"
   },
   {
    "duration": 9,
    "start_time": "2022-01-07T11:02:38.658Z"
   },
   {
    "duration": 10,
    "start_time": "2022-01-07T11:02:38.669Z"
   },
   {
    "duration": 41,
    "start_time": "2022-01-07T11:02:38.682Z"
   },
   {
    "duration": 6,
    "start_time": "2022-01-07T11:02:38.725Z"
   },
   {
    "duration": 341,
    "start_time": "2022-01-07T11:02:38.734Z"
   },
   {
    "duration": 12,
    "start_time": "2022-01-07T11:02:39.077Z"
   },
   {
    "duration": 16,
    "start_time": "2022-01-07T11:02:39.091Z"
   },
   {
    "duration": 11,
    "start_time": "2022-01-07T11:02:39.124Z"
   },
   {
    "duration": 11,
    "start_time": "2022-01-07T11:02:39.137Z"
   },
   {
    "duration": 13,
    "start_time": "2022-01-07T11:02:39.151Z"
   },
   {
    "duration": 178,
    "start_time": "2022-01-07T11:02:39.166Z"
   },
   {
    "duration": 5,
    "start_time": "2022-01-07T11:02:39.346Z"
   },
   {
    "duration": 1252,
    "start_time": "2022-01-07T11:02:39.354Z"
   },
   {
    "duration": 784,
    "start_time": "2022-01-07T11:02:40.609Z"
   },
   {
    "duration": 322,
    "start_time": "2022-01-07T11:07:10.091Z"
   },
   {
    "duration": 854,
    "start_time": "2022-01-07T12:14:53.370Z"
   },
   {
    "duration": 406,
    "start_time": "2022-01-07T12:15:39.611Z"
   },
   {
    "duration": 395,
    "start_time": "2022-01-07T12:15:45.973Z"
   },
   {
    "duration": 461,
    "start_time": "2022-01-07T12:15:49.712Z"
   },
   {
    "duration": 11,
    "start_time": "2022-01-07T12:16:03.333Z"
   },
   {
    "duration": 19,
    "start_time": "2022-01-07T12:16:11.695Z"
   },
   {
    "duration": 987,
    "start_time": "2022-01-07T12:17:19.316Z"
   },
   {
    "duration": 630,
    "start_time": "2022-01-07T12:17:24.004Z"
   },
   {
    "duration": 556,
    "start_time": "2022-01-07T12:19:22.532Z"
   },
   {
    "duration": 623,
    "start_time": "2022-01-07T12:20:20.403Z"
   },
   {
    "duration": 229,
    "start_time": "2022-01-07T12:21:23.515Z"
   },
   {
    "duration": 204,
    "start_time": "2022-01-07T12:21:28.622Z"
   },
   {
    "duration": 204,
    "start_time": "2022-01-07T12:21:32.087Z"
   },
   {
    "duration": 12,
    "start_time": "2022-01-07T12:21:51.138Z"
   },
   {
    "duration": 14,
    "start_time": "2022-01-07T12:22:00.186Z"
   },
   {
    "duration": 14,
    "start_time": "2022-01-07T12:22:16.105Z"
   },
   {
    "duration": 200,
    "start_time": "2022-01-07T12:25:24.557Z"
   },
   {
    "duration": 108,
    "start_time": "2022-01-07T12:27:04.982Z"
   },
   {
    "duration": 548,
    "start_time": "2022-01-07T12:27:31.485Z"
   },
   {
    "duration": 508,
    "start_time": "2022-01-07T12:27:37.187Z"
   },
   {
    "duration": 648,
    "start_time": "2022-01-07T12:27:54.675Z"
   },
   {
    "duration": 1487,
    "start_time": "2022-01-07T12:28:08.227Z"
   },
   {
    "duration": 1813,
    "start_time": "2022-01-07T12:28:23.469Z"
   },
   {
    "duration": 1509,
    "start_time": "2022-01-07T12:28:43.005Z"
   },
   {
    "duration": 1668,
    "start_time": "2022-01-07T12:29:01.700Z"
   },
   {
    "duration": 6480,
    "start_time": "2022-01-07T12:54:38.402Z"
   },
   {
    "duration": 1489,
    "start_time": "2022-01-07T12:54:44.886Z"
   },
   {
    "duration": 4,
    "start_time": "2022-01-07T12:54:46.380Z"
   },
   {
    "duration": 5,
    "start_time": "2022-01-07T12:54:46.388Z"
   },
   {
    "duration": 31,
    "start_time": "2022-01-07T12:54:46.396Z"
   },
   {
    "duration": 97,
    "start_time": "2022-01-07T12:54:46.429Z"
   },
   {
    "duration": 38,
    "start_time": "2022-01-07T12:54:46.528Z"
   },
   {
    "duration": 56,
    "start_time": "2022-01-07T12:54:46.569Z"
   },
   {
    "duration": 20,
    "start_time": "2022-01-07T12:54:46.632Z"
   },
   {
    "duration": 124,
    "start_time": "2022-01-07T12:54:46.656Z"
   },
   {
    "duration": 43,
    "start_time": "2022-01-07T12:54:46.783Z"
   },
   {
    "duration": 6,
    "start_time": "2022-01-07T12:54:46.829Z"
   },
   {
    "duration": 10,
    "start_time": "2022-01-07T12:54:46.838Z"
   },
   {
    "duration": 9,
    "start_time": "2022-01-07T12:54:46.851Z"
   },
   {
    "duration": 664,
    "start_time": "2022-01-07T12:54:46.863Z"
   },
   {
    "duration": 9,
    "start_time": "2022-01-07T12:54:47.529Z"
   },
   {
    "duration": 8,
    "start_time": "2022-01-07T12:54:47.540Z"
   },
   {
    "duration": 12,
    "start_time": "2022-01-07T12:54:47.550Z"
   },
   {
    "duration": 15,
    "start_time": "2022-01-07T12:54:47.564Z"
   },
   {
    "duration": 65,
    "start_time": "2022-01-07T12:54:47.581Z"
   },
   {
    "duration": 5,
    "start_time": "2022-01-07T12:54:47.649Z"
   },
   {
    "duration": 31,
    "start_time": "2022-01-07T12:54:47.656Z"
   },
   {
    "duration": 704,
    "start_time": "2022-01-07T12:54:47.689Z"
   },
   {
    "duration": 7,
    "start_time": "2022-01-07T12:54:48.395Z"
   },
   {
    "duration": 56,
    "start_time": "2022-01-07T12:54:48.404Z"
   },
   {
    "duration": 9,
    "start_time": "2022-01-07T12:54:48.462Z"
   },
   {
    "duration": 16,
    "start_time": "2022-01-07T12:54:48.477Z"
   },
   {
    "duration": 533,
    "start_time": "2022-01-07T12:54:48.496Z"
   },
   {
    "duration": 14,
    "start_time": "2022-01-07T12:54:49.031Z"
   },
   {
    "duration": 734,
    "start_time": "2022-01-07T12:54:49.047Z"
   },
   {
    "duration": -124,
    "start_time": "2022-01-07T12:54:49.908Z"
   },
   {
    "duration": -127,
    "start_time": "2022-01-07T12:54:49.912Z"
   },
   {
    "duration": -130,
    "start_time": "2022-01-07T12:54:49.917Z"
   },
   {
    "duration": -138,
    "start_time": "2022-01-07T12:54:49.927Z"
   },
   {
    "duration": -142,
    "start_time": "2022-01-07T12:54:49.932Z"
   },
   {
    "duration": -144,
    "start_time": "2022-01-07T12:54:49.936Z"
   },
   {
    "duration": -147,
    "start_time": "2022-01-07T12:54:49.940Z"
   },
   {
    "duration": -149,
    "start_time": "2022-01-07T12:54:49.944Z"
   },
   {
    "duration": -151,
    "start_time": "2022-01-07T12:54:49.947Z"
   },
   {
    "duration": -153,
    "start_time": "2022-01-07T12:54:49.951Z"
   },
   {
    "duration": -155,
    "start_time": "2022-01-07T12:54:49.954Z"
   },
   {
    "duration": -157,
    "start_time": "2022-01-07T12:54:49.958Z"
   },
   {
    "duration": -159,
    "start_time": "2022-01-07T12:54:49.961Z"
   },
   {
    "duration": -162,
    "start_time": "2022-01-07T12:54:49.965Z"
   },
   {
    "duration": -163,
    "start_time": "2022-01-07T12:54:49.968Z"
   },
   {
    "duration": -166,
    "start_time": "2022-01-07T12:54:49.972Z"
   },
   {
    "duration": -168,
    "start_time": "2022-01-07T12:54:49.975Z"
   },
   {
    "duration": -171,
    "start_time": "2022-01-07T12:54:49.979Z"
   },
   {
    "duration": -172,
    "start_time": "2022-01-07T12:54:49.982Z"
   },
   {
    "duration": -175,
    "start_time": "2022-01-07T12:54:49.986Z"
   },
   {
    "duration": -177,
    "start_time": "2022-01-07T12:54:49.989Z"
   },
   {
    "duration": -179,
    "start_time": "2022-01-07T12:54:49.993Z"
   },
   {
    "duration": -181,
    "start_time": "2022-01-07T12:54:49.996Z"
   },
   {
    "duration": -184,
    "start_time": "2022-01-07T12:54:50.000Z"
   },
   {
    "duration": -186,
    "start_time": "2022-01-07T12:54:50.003Z"
   },
   {
    "duration": -188,
    "start_time": "2022-01-07T12:54:50.007Z"
   },
   {
    "duration": -187,
    "start_time": "2022-01-07T12:54:50.010Z"
   },
   {
    "duration": -190,
    "start_time": "2022-01-07T12:54:50.014Z"
   },
   {
    "duration": -192,
    "start_time": "2022-01-07T12:54:50.018Z"
   },
   {
    "duration": -195,
    "start_time": "2022-01-07T12:54:50.022Z"
   },
   {
    "duration": -207,
    "start_time": "2022-01-07T12:54:50.035Z"
   },
   {
    "duration": 1554,
    "start_time": "2022-01-07T12:55:06.896Z"
   },
   {
    "duration": 218,
    "start_time": "2022-01-07T13:03:28.061Z"
   },
   {
    "duration": 302,
    "start_time": "2022-01-07T13:04:14.851Z"
   },
   {
    "duration": 212,
    "start_time": "2022-01-07T13:04:17.643Z"
   },
   {
    "duration": 201,
    "start_time": "2022-01-07T13:04:23.275Z"
   },
   {
    "duration": 436,
    "start_time": "2022-01-07T13:04:43.119Z"
   },
   {
    "duration": 318,
    "start_time": "2022-01-07T13:04:47.708Z"
   },
   {
    "duration": 1106,
    "start_time": "2022-01-07T13:04:51.183Z"
   },
   {
    "duration": 521,
    "start_time": "2022-01-07T13:04:54.453Z"
   },
   {
    "duration": 318,
    "start_time": "2022-01-07T13:05:02.158Z"
   },
   {
    "duration": 250,
    "start_time": "2022-01-07T13:05:08.076Z"
   },
   {
    "duration": 231,
    "start_time": "2022-01-07T13:05:13.635Z"
   },
   {
    "duration": 239,
    "start_time": "2022-01-07T13:06:01.553Z"
   },
   {
    "duration": 1833,
    "start_time": "2022-01-07T13:10:59.748Z"
   },
   {
    "duration": 1631,
    "start_time": "2022-01-07T13:11:50.143Z"
   },
   {
    "duration": 499,
    "start_time": "2022-01-07T13:12:45.650Z"
   },
   {
    "duration": 316,
    "start_time": "2022-01-07T13:13:22.748Z"
   },
   {
    "duration": 591,
    "start_time": "2022-01-07T13:13:39.982Z"
   },
   {
    "duration": 486,
    "start_time": "2022-01-07T13:13:48.877Z"
   },
   {
    "duration": 1727,
    "start_time": "2022-01-07T13:13:59.802Z"
   },
   {
    "duration": 2927,
    "start_time": "2022-01-07T13:26:13.588Z"
   },
   {
    "duration": 8705,
    "start_time": "2022-01-07T13:26:30.264Z"
   },
   {
    "duration": 187532,
    "start_time": "2022-01-07T13:26:50.575Z"
   },
   {
    "duration": 13663,
    "start_time": "2022-01-07T13:31:32.812Z"
   },
   {
    "duration": 13742,
    "start_time": "2022-01-07T13:31:51.901Z"
   },
   {
    "duration": 8205,
    "start_time": "2022-01-07T13:32:18.225Z"
   },
   {
    "duration": 3724,
    "start_time": "2022-01-07T13:32:51.491Z"
   },
   {
    "duration": 628,
    "start_time": "2022-01-07T13:38:51.802Z"
   },
   {
    "duration": 967,
    "start_time": "2022-01-07T13:38:55.059Z"
   },
   {
    "duration": 974,
    "start_time": "2022-01-07T13:39:09.218Z"
   },
   {
    "duration": 1132,
    "start_time": "2022-01-07T13:51:11.638Z"
   },
   {
    "duration": 7,
    "start_time": "2022-01-07T13:52:58.662Z"
   },
   {
    "duration": 8,
    "start_time": "2022-01-07T13:53:38.063Z"
   },
   {
    "duration": 641,
    "start_time": "2022-01-07T13:53:47.139Z"
   },
   {
    "duration": 685,
    "start_time": "2022-01-07T13:54:00.781Z"
   },
   {
    "duration": 646,
    "start_time": "2022-01-07T13:54:11.803Z"
   },
   {
    "duration": 612,
    "start_time": "2022-01-07T13:54:20.664Z"
   },
   {
    "duration": 3141,
    "start_time": "2022-01-07T13:54:26.535Z"
   },
   {
    "duration": 3070,
    "start_time": "2022-01-07T13:54:37.945Z"
   },
   {
    "duration": 2943,
    "start_time": "2022-01-07T13:54:46.426Z"
   },
   {
    "duration": 2860,
    "start_time": "2022-01-07T14:06:47.658Z"
   },
   {
    "duration": 581,
    "start_time": "2022-01-07T14:09:43.485Z"
   },
   {
    "duration": 506,
    "start_time": "2022-01-07T14:09:49.796Z"
   },
   {
    "duration": 500,
    "start_time": "2022-01-07T14:10:00.256Z"
   },
   {
    "duration": 13,
    "start_time": "2022-01-07T14:23:07.732Z"
   },
   {
    "duration": 9,
    "start_time": "2022-01-07T14:23:11.997Z"
   },
   {
    "duration": 496,
    "start_time": "2022-01-07T14:42:03.086Z"
   },
   {
    "duration": 118,
    "start_time": "2022-01-07T14:42:10.333Z"
   },
   {
    "duration": 15,
    "start_time": "2022-01-07T14:42:13.011Z"
   },
   {
    "duration": 13,
    "start_time": "2022-01-07T14:42:13.477Z"
   },
   {
    "duration": 374,
    "start_time": "2022-01-07T14:42:52.683Z"
   },
   {
    "duration": 11,
    "start_time": "2022-01-07T14:42:53.608Z"
   },
   {
    "duration": 401,
    "start_time": "2022-01-07T14:43:35.364Z"
   },
   {
    "duration": 554,
    "start_time": "2022-01-07T14:43:43.195Z"
   },
   {
    "duration": 380,
    "start_time": "2022-01-07T14:43:49.032Z"
   },
   {
    "duration": 420,
    "start_time": "2022-01-07T14:44:03.320Z"
   },
   {
    "duration": 391,
    "start_time": "2022-01-07T14:44:10.591Z"
   },
   {
    "duration": 10,
    "start_time": "2022-01-07T14:44:17.265Z"
   },
   {
    "duration": 15,
    "start_time": "2022-01-07T14:44:24.491Z"
   },
   {
    "duration": 502,
    "start_time": "2022-01-07T14:45:42.746Z"
   },
   {
    "duration": 474,
    "start_time": "2022-01-07T14:45:43.252Z"
   },
   {
    "duration": 367,
    "start_time": "2022-01-07T14:46:00.706Z"
   },
   {
    "duration": 420,
    "start_time": "2022-01-07T14:46:15.820Z"
   },
   {
    "duration": 421,
    "start_time": "2022-01-07T14:46:31.259Z"
   },
   {
    "duration": 548,
    "start_time": "2022-01-07T15:03:05.934Z"
   },
   {
    "duration": 533,
    "start_time": "2022-01-07T15:03:18.748Z"
   },
   {
    "duration": 221,
    "start_time": "2022-01-07T15:03:24.921Z"
   },
   {
    "duration": 426,
    "start_time": "2022-01-07T15:03:36.616Z"
   },
   {
    "duration": 391,
    "start_time": "2022-01-07T15:20:37.807Z"
   },
   {
    "duration": 369,
    "start_time": "2022-01-07T15:20:46.880Z"
   },
   {
    "duration": 7,
    "start_time": "2022-01-07T15:20:57.621Z"
   },
   {
    "duration": 7,
    "start_time": "2022-01-07T15:33:52.788Z"
   },
   {
    "duration": 395,
    "start_time": "2022-01-07T15:35:47.150Z"
   },
   {
    "duration": 506,
    "start_time": "2022-01-07T15:36:00.674Z"
   },
   {
    "duration": 303,
    "start_time": "2022-01-07T15:36:09.796Z"
   },
   {
    "duration": 6,
    "start_time": "2022-01-07T15:36:27.864Z"
   },
   {
    "duration": 328,
    "start_time": "2022-01-07T15:41:33.080Z"
   },
   {
    "duration": 6,
    "start_time": "2022-01-07T15:41:36.387Z"
   },
   {
    "duration": 7,
    "start_time": "2022-01-07T15:41:50.746Z"
   },
   {
    "duration": 8,
    "start_time": "2022-01-07T15:41:52.907Z"
   },
   {
    "duration": 317,
    "start_time": "2022-01-07T15:42:03.027Z"
   },
   {
    "duration": 314,
    "start_time": "2022-01-07T15:42:08.121Z"
   },
   {
    "duration": 431,
    "start_time": "2022-01-07T15:42:11.953Z"
   },
   {
    "duration": 96,
    "start_time": "2022-01-07T15:42:14.669Z"
   },
   {
    "duration": 7,
    "start_time": "2022-01-07T15:42:50.008Z"
   },
   {
    "duration": 323,
    "start_time": "2022-01-07T15:42:56.035Z"
   },
   {
    "duration": 350,
    "start_time": "2022-01-07T15:42:58.076Z"
   },
   {
    "duration": 378,
    "start_time": "2022-01-07T15:43:01.033Z"
   },
   {
    "duration": 8,
    "start_time": "2022-01-07T15:43:08.089Z"
   },
   {
    "duration": 6,
    "start_time": "2022-01-07T15:46:10.541Z"
   },
   {
    "duration": 423,
    "start_time": "2022-01-07T16:00:42.974Z"
   },
   {
    "duration": 687,
    "start_time": "2022-01-07T16:01:06.122Z"
   },
   {
    "duration": 375,
    "start_time": "2022-01-07T16:12:27.083Z"
   },
   {
    "duration": 346,
    "start_time": "2022-01-07T16:13:25.850Z"
   },
   {
    "duration": 342,
    "start_time": "2022-01-07T16:13:40.704Z"
   },
   {
    "duration": 334,
    "start_time": "2022-01-07T16:14:10.973Z"
   },
   {
    "duration": 362,
    "start_time": "2022-01-07T16:14:58.231Z"
   },
   {
    "duration": 303,
    "start_time": "2022-01-07T16:15:15.155Z"
   },
   {
    "duration": 324,
    "start_time": "2022-01-07T16:15:25.766Z"
   },
   {
    "duration": 348,
    "start_time": "2022-01-07T16:15:31.158Z"
   },
   {
    "duration": 320,
    "start_time": "2022-01-07T16:15:35.317Z"
   },
   {
    "duration": 410,
    "start_time": "2022-01-07T16:15:37.958Z"
   },
   {
    "duration": 313,
    "start_time": "2022-01-07T16:15:40.362Z"
   },
   {
    "duration": 315,
    "start_time": "2022-01-07T16:15:42.293Z"
   },
   {
    "duration": 722,
    "start_time": "2022-01-07T16:15:57.077Z"
   },
   {
    "duration": 682,
    "start_time": "2022-01-07T16:16:00.453Z"
   },
   {
    "duration": 318,
    "start_time": "2022-01-07T16:16:02.691Z"
   },
   {
    "duration": 326,
    "start_time": "2022-01-07T16:16:05.241Z"
   },
   {
    "duration": 331,
    "start_time": "2022-01-07T16:16:07.075Z"
   },
   {
    "duration": 317,
    "start_time": "2022-01-07T16:16:09.154Z"
   },
   {
    "duration": 306,
    "start_time": "2022-01-07T16:16:11.169Z"
   },
   {
    "duration": 349,
    "start_time": "2022-01-07T16:16:13.174Z"
   },
   {
    "duration": 401,
    "start_time": "2022-01-07T16:16:17.798Z"
   },
   {
    "duration": 321,
    "start_time": "2022-01-07T16:16:19.474Z"
   },
   {
    "duration": 303,
    "start_time": "2022-01-07T16:16:21.657Z"
   },
   {
    "duration": 322,
    "start_time": "2022-01-07T16:16:26.067Z"
   },
   {
    "duration": 325,
    "start_time": "2022-01-07T16:16:32.866Z"
   },
   {
    "duration": 426,
    "start_time": "2022-01-07T16:16:38.924Z"
   },
   {
    "duration": 427,
    "start_time": "2022-01-07T16:16:46.757Z"
   },
   {
    "duration": 6864,
    "start_time": "2022-01-07T16:17:06.167Z"
   },
   {
    "duration": 4,
    "start_time": "2022-01-07T16:17:13.035Z"
   },
   {
    "duration": 6,
    "start_time": "2022-01-07T16:17:13.042Z"
   },
   {
    "duration": 5,
    "start_time": "2022-01-07T16:17:13.050Z"
   },
   {
    "duration": 6,
    "start_time": "2022-01-07T16:17:13.058Z"
   },
   {
    "duration": 126,
    "start_time": "2022-01-07T16:17:13.067Z"
   },
   {
    "duration": 62,
    "start_time": "2022-01-07T16:17:13.196Z"
   },
   {
    "duration": 39,
    "start_time": "2022-01-07T16:17:13.263Z"
   },
   {
    "duration": 37,
    "start_time": "2022-01-07T16:17:13.305Z"
   },
   {
    "duration": 119,
    "start_time": "2022-01-07T16:17:13.344Z"
   },
   {
    "duration": 29,
    "start_time": "2022-01-07T16:17:13.466Z"
   },
   {
    "duration": 4,
    "start_time": "2022-01-07T16:17:13.498Z"
   },
   {
    "duration": 4,
    "start_time": "2022-01-07T16:17:13.524Z"
   },
   {
    "duration": 8,
    "start_time": "2022-01-07T16:17:13.530Z"
   },
   {
    "duration": 38,
    "start_time": "2022-01-07T16:17:13.540Z"
   },
   {
    "duration": 9,
    "start_time": "2022-01-07T16:17:13.580Z"
   },
   {
    "duration": 6,
    "start_time": "2022-01-07T16:17:13.623Z"
   },
   {
    "duration": 18,
    "start_time": "2022-01-07T16:17:13.631Z"
   },
   {
    "duration": 28,
    "start_time": "2022-01-07T16:17:13.651Z"
   },
   {
    "duration": 5,
    "start_time": "2022-01-07T16:17:13.681Z"
   },
   {
    "duration": 61,
    "start_time": "2022-01-07T16:17:13.689Z"
   },
   {
    "duration": 620,
    "start_time": "2022-01-07T16:17:13.752Z"
   },
   {
    "duration": 7,
    "start_time": "2022-01-07T16:17:14.377Z"
   },
   {
    "duration": 64,
    "start_time": "2022-01-07T16:17:14.387Z"
   },
   {
    "duration": 8,
    "start_time": "2022-01-07T16:17:14.454Z"
   },
   {
    "duration": 14,
    "start_time": "2022-01-07T16:17:14.465Z"
   },
   {
    "duration": 655,
    "start_time": "2022-01-07T16:17:14.481Z"
   },
   {
    "duration": 13,
    "start_time": "2022-01-07T16:17:15.138Z"
   },
   {
    "duration": 3095,
    "start_time": "2022-01-07T16:17:15.154Z"
   },
   {
    "duration": 17,
    "start_time": "2022-01-07T16:17:18.252Z"
   },
   {
    "duration": 14,
    "start_time": "2022-01-07T16:17:18.271Z"
   },
   {
    "duration": 565,
    "start_time": "2022-01-07T16:17:18.287Z"
   },
   {
    "duration": 14,
    "start_time": "2022-01-07T16:17:18.855Z"
   },
   {
    "duration": 12,
    "start_time": "2022-01-07T16:17:18.872Z"
   },
   {
    "duration": 274,
    "start_time": "2022-01-07T16:17:18.887Z"
   },
   {
    "duration": 13,
    "start_time": "2022-01-07T16:17:19.164Z"
   },
   {
    "duration": 330,
    "start_time": "2022-01-07T16:17:19.180Z"
   },
   {
    "duration": 9,
    "start_time": "2022-01-07T16:17:19.524Z"
   },
   {
    "duration": 48,
    "start_time": "2022-01-07T16:17:19.536Z"
   },
   {
    "duration": 143,
    "start_time": "2022-01-07T16:17:19.586Z"
   },
   {
    "duration": 18,
    "start_time": "2022-01-07T16:17:19.732Z"
   },
   {
    "duration": 562,
    "start_time": "2022-01-07T16:17:19.753Z"
   },
   {
    "duration": 408,
    "start_time": "2022-01-07T16:17:20.318Z"
   },
   {
    "duration": 327,
    "start_time": "2022-01-07T16:17:20.728Z"
   },
   {
    "duration": 408,
    "start_time": "2022-01-07T16:17:24.885Z"
   },
   {
    "duration": 447,
    "start_time": "2022-01-07T16:17:31.972Z"
   },
   {
    "duration": 6274,
    "start_time": "2022-01-07T16:17:36.523Z"
   },
   {
    "duration": 5,
    "start_time": "2022-01-07T16:17:42.800Z"
   },
   {
    "duration": 7,
    "start_time": "2022-01-07T16:17:42.808Z"
   },
   {
    "duration": 8,
    "start_time": "2022-01-07T16:17:42.818Z"
   },
   {
    "duration": 11,
    "start_time": "2022-01-07T16:17:42.828Z"
   },
   {
    "duration": 101,
    "start_time": "2022-01-07T16:17:42.841Z"
   },
   {
    "duration": 33,
    "start_time": "2022-01-07T16:17:42.945Z"
   },
   {
    "duration": 46,
    "start_time": "2022-01-07T16:17:42.983Z"
   },
   {
    "duration": 21,
    "start_time": "2022-01-07T16:17:43.033Z"
   },
   {
    "duration": 136,
    "start_time": "2022-01-07T16:17:43.057Z"
   },
   {
    "duration": 46,
    "start_time": "2022-01-07T16:17:43.195Z"
   },
   {
    "duration": 6,
    "start_time": "2022-01-07T16:17:43.244Z"
   },
   {
    "duration": 12,
    "start_time": "2022-01-07T16:17:43.253Z"
   },
   {
    "duration": 10,
    "start_time": "2022-01-07T16:17:43.267Z"
   },
   {
    "duration": 78,
    "start_time": "2022-01-07T16:17:43.279Z"
   },
   {
    "duration": 11,
    "start_time": "2022-01-07T16:17:43.360Z"
   },
   {
    "duration": 9,
    "start_time": "2022-01-07T16:17:43.374Z"
   },
   {
    "duration": 50,
    "start_time": "2022-01-07T16:17:43.386Z"
   },
   {
    "duration": 29,
    "start_time": "2022-01-07T16:17:43.439Z"
   },
   {
    "duration": 6,
    "start_time": "2022-01-07T16:17:43.471Z"
   },
   {
    "duration": 59,
    "start_time": "2022-01-07T16:17:43.479Z"
   },
   {
    "duration": 729,
    "start_time": "2022-01-07T16:17:43.540Z"
   },
   {
    "duration": 6,
    "start_time": "2022-01-07T16:17:44.275Z"
   },
   {
    "duration": 60,
    "start_time": "2022-01-07T16:17:44.284Z"
   },
   {
    "duration": 9,
    "start_time": "2022-01-07T16:17:44.346Z"
   },
   {
    "duration": 16,
    "start_time": "2022-01-07T16:17:44.357Z"
   },
   {
    "duration": 526,
    "start_time": "2022-01-07T16:17:44.377Z"
   },
   {
    "duration": 28,
    "start_time": "2022-01-07T16:17:44.906Z"
   },
   {
    "duration": 2797,
    "start_time": "2022-01-07T16:17:44.937Z"
   },
   {
    "duration": 15,
    "start_time": "2022-01-07T16:17:47.737Z"
   },
   {
    "duration": 14,
    "start_time": "2022-01-07T16:17:47.755Z"
   },
   {
    "duration": 579,
    "start_time": "2022-01-07T16:17:47.772Z"
   },
   {
    "duration": 16,
    "start_time": "2022-01-07T16:17:48.354Z"
   },
   {
    "duration": 12,
    "start_time": "2022-01-07T16:17:48.372Z"
   },
   {
    "duration": 264,
    "start_time": "2022-01-07T16:17:48.386Z"
   },
   {
    "duration": 12,
    "start_time": "2022-01-07T16:17:48.653Z"
   },
   {
    "duration": 343,
    "start_time": "2022-01-07T16:17:48.667Z"
   },
   {
    "duration": 9,
    "start_time": "2022-01-07T16:17:49.024Z"
   },
   {
    "duration": 51,
    "start_time": "2022-01-07T16:17:49.035Z"
   },
   {
    "duration": 140,
    "start_time": "2022-01-07T16:17:49.089Z"
   },
   {
    "duration": 16,
    "start_time": "2022-01-07T16:17:49.232Z"
   },
   {
    "duration": 557,
    "start_time": "2022-01-07T16:17:49.250Z"
   },
   {
    "duration": 421,
    "start_time": "2022-01-07T16:17:49.810Z"
   },
   {
    "duration": 739,
    "start_time": "2022-01-07T16:17:50.233Z"
   },
   {
    "duration": 399,
    "start_time": "2022-01-07T16:17:54.792Z"
   },
   {
    "duration": 331,
    "start_time": "2022-01-07T16:18:01.403Z"
   },
   {
    "duration": 326,
    "start_time": "2022-01-07T16:18:06.253Z"
   },
   {
    "duration": 319,
    "start_time": "2022-01-07T16:18:09.528Z"
   },
   {
    "duration": 500,
    "start_time": "2022-01-07T16:18:28.615Z"
   },
   {
    "duration": 441,
    "start_time": "2022-01-07T16:18:36.832Z"
   },
   {
    "duration": 400,
    "start_time": "2022-01-07T16:18:40.582Z"
   },
   {
    "duration": 405,
    "start_time": "2022-01-07T16:18:42.481Z"
   },
   {
    "duration": 406,
    "start_time": "2022-01-07T16:18:44.524Z"
   },
   {
    "duration": 411,
    "start_time": "2022-01-07T16:18:46.701Z"
   },
   {
    "duration": 497,
    "start_time": "2022-01-07T16:18:57.187Z"
   },
   {
    "duration": 336,
    "start_time": "2022-01-07T16:30:18.353Z"
   },
   {
    "duration": 420,
    "start_time": "2022-01-07T16:30:22.019Z"
   },
   {
    "duration": 993,
    "start_time": "2022-01-07T16:30:33.499Z"
   },
   {
    "duration": 462,
    "start_time": "2022-01-07T16:30:36.662Z"
   },
   {
    "duration": 484,
    "start_time": "2022-01-07T16:30:39.520Z"
   },
   {
    "duration": 473,
    "start_time": "2022-01-07T16:30:43.710Z"
   },
   {
    "duration": 294,
    "start_time": "2022-01-07T16:34:36.104Z"
   },
   {
    "duration": 313,
    "start_time": "2022-01-07T16:34:42.992Z"
   },
   {
    "duration": 111,
    "start_time": "2022-01-07T16:34:57.250Z"
   },
   {
    "duration": 230,
    "start_time": "2022-01-07T16:35:00.246Z"
   },
   {
    "duration": 208,
    "start_time": "2022-01-07T16:35:06.580Z"
   },
   {
    "duration": 213,
    "start_time": "2022-01-07T16:35:09.738Z"
   },
   {
    "duration": 212,
    "start_time": "2022-01-07T16:35:21.430Z"
   },
   {
    "duration": 228,
    "start_time": "2022-01-07T16:35:24.940Z"
   },
   {
    "duration": 234,
    "start_time": "2022-01-07T16:35:28.773Z"
   },
   {
    "duration": 343,
    "start_time": "2022-01-07T16:35:34.882Z"
   },
   {
    "duration": 6501,
    "start_time": "2022-01-07T16:35:40.809Z"
   },
   {
    "duration": 5,
    "start_time": "2022-01-07T16:35:47.313Z"
   },
   {
    "duration": 5,
    "start_time": "2022-01-07T16:35:47.321Z"
   },
   {
    "duration": 5,
    "start_time": "2022-01-07T16:35:47.329Z"
   },
   {
    "duration": 7,
    "start_time": "2022-01-07T16:35:47.336Z"
   },
   {
    "duration": 111,
    "start_time": "2022-01-07T16:35:47.345Z"
   },
   {
    "duration": 32,
    "start_time": "2022-01-07T16:35:47.459Z"
   },
   {
    "duration": 50,
    "start_time": "2022-01-07T16:35:47.495Z"
   },
   {
    "duration": 20,
    "start_time": "2022-01-07T16:35:47.548Z"
   },
   {
    "duration": 117,
    "start_time": "2022-01-07T16:35:47.571Z"
   },
   {
    "duration": 44,
    "start_time": "2022-01-07T16:35:47.690Z"
   },
   {
    "duration": 5,
    "start_time": "2022-01-07T16:35:47.736Z"
   },
   {
    "duration": 8,
    "start_time": "2022-01-07T16:35:47.744Z"
   },
   {
    "duration": 8,
    "start_time": "2022-01-07T16:35:47.755Z"
   },
   {
    "duration": 66,
    "start_time": "2022-01-07T16:35:47.766Z"
   },
   {
    "duration": 10,
    "start_time": "2022-01-07T16:35:47.834Z"
   },
   {
    "duration": 13,
    "start_time": "2022-01-07T16:35:47.846Z"
   },
   {
    "duration": 19,
    "start_time": "2022-01-07T16:35:47.862Z"
   },
   {
    "duration": 54,
    "start_time": "2022-01-07T16:35:47.884Z"
   },
   {
    "duration": 5,
    "start_time": "2022-01-07T16:35:47.940Z"
   },
   {
    "duration": 31,
    "start_time": "2022-01-07T16:35:47.948Z"
   },
   {
    "duration": 663,
    "start_time": "2022-01-07T16:35:47.981Z"
   },
   {
    "duration": 7,
    "start_time": "2022-01-07T16:35:48.650Z"
   },
   {
    "duration": 65,
    "start_time": "2022-01-07T16:35:48.660Z"
   },
   {
    "duration": 9,
    "start_time": "2022-01-07T16:35:48.727Z"
   },
   {
    "duration": 18,
    "start_time": "2022-01-07T16:35:48.739Z"
   },
   {
    "duration": 537,
    "start_time": "2022-01-07T16:35:48.759Z"
   },
   {
    "duration": 27,
    "start_time": "2022-01-07T16:35:49.299Z"
   },
   {
    "duration": 3019,
    "start_time": "2022-01-07T16:35:49.329Z"
   },
   {
    "duration": 13,
    "start_time": "2022-01-07T16:35:52.351Z"
   },
   {
    "duration": 13,
    "start_time": "2022-01-07T16:35:52.366Z"
   },
   {
    "duration": 505,
    "start_time": "2022-01-07T16:35:52.383Z"
   },
   {
    "duration": 14,
    "start_time": "2022-01-07T16:35:52.890Z"
   },
   {
    "duration": 11,
    "start_time": "2022-01-07T16:35:52.924Z"
   },
   {
    "duration": 292,
    "start_time": "2022-01-07T16:35:52.937Z"
   },
   {
    "duration": 242,
    "start_time": "2022-01-07T16:36:39.503Z"
   },
   {
    "duration": 15,
    "start_time": "2022-01-07T16:36:48.471Z"
   },
   {
    "duration": 213,
    "start_time": "2022-01-07T16:36:52.495Z"
   },
   {
    "duration": 348,
    "start_time": "2022-01-07T16:38:20.316Z"
   },
   {
    "duration": 345,
    "start_time": "2022-01-07T16:38:27.813Z"
   },
   {
    "duration": 453,
    "start_time": "2022-01-07T16:38:57.472Z"
   },
   {
    "duration": 314,
    "start_time": "2022-01-07T16:39:13.241Z"
   },
   {
    "duration": 61,
    "start_time": "2022-01-07T16:39:26.044Z"
   },
   {
    "duration": 344,
    "start_time": "2022-01-07T16:39:38.195Z"
   },
   {
    "duration": 320,
    "start_time": "2022-01-07T16:39:42.607Z"
   },
   {
    "duration": 318,
    "start_time": "2022-01-07T16:39:46.839Z"
   },
   {
    "duration": 330,
    "start_time": "2022-01-07T16:39:54.628Z"
   },
   {
    "duration": 443,
    "start_time": "2022-01-07T16:39:57.920Z"
   },
   {
    "duration": 7730,
    "start_time": "2022-01-07T16:41:54.274Z"
   },
   {
    "duration": 5,
    "start_time": "2022-01-07T16:42:02.007Z"
   },
   {
    "duration": 13,
    "start_time": "2022-01-07T16:42:02.016Z"
   },
   {
    "duration": 14,
    "start_time": "2022-01-07T16:42:02.032Z"
   },
   {
    "duration": 20,
    "start_time": "2022-01-07T16:42:02.048Z"
   },
   {
    "duration": 112,
    "start_time": "2022-01-07T16:42:02.071Z"
   },
   {
    "duration": 39,
    "start_time": "2022-01-07T16:42:02.186Z"
   },
   {
    "duration": 42,
    "start_time": "2022-01-07T16:42:02.228Z"
   },
   {
    "duration": 20,
    "start_time": "2022-01-07T16:42:02.273Z"
   },
   {
    "duration": 103,
    "start_time": "2022-01-07T16:42:02.323Z"
   },
   {
    "duration": 31,
    "start_time": "2022-01-07T16:42:02.428Z"
   },
   {
    "duration": 5,
    "start_time": "2022-01-07T16:42:02.461Z"
   },
   {
    "duration": 27,
    "start_time": "2022-01-07T16:42:02.468Z"
   },
   {
    "duration": 27,
    "start_time": "2022-01-07T16:42:02.497Z"
   },
   {
    "duration": 53,
    "start_time": "2022-01-07T16:42:02.527Z"
   },
   {
    "duration": 9,
    "start_time": "2022-01-07T16:42:02.583Z"
   },
   {
    "duration": 29,
    "start_time": "2022-01-07T16:42:02.595Z"
   },
   {
    "duration": 110,
    "start_time": "2022-01-07T16:42:02.627Z"
   },
   {
    "duration": -106,
    "start_time": "2022-01-07T16:42:02.847Z"
   },
   {
    "duration": -108,
    "start_time": "2022-01-07T16:42:02.851Z"
   },
   {
    "duration": -110,
    "start_time": "2022-01-07T16:42:02.855Z"
   },
   {
    "duration": -113,
    "start_time": "2022-01-07T16:42:02.859Z"
   },
   {
    "duration": -115,
    "start_time": "2022-01-07T16:42:02.863Z"
   },
   {
    "duration": -119,
    "start_time": "2022-01-07T16:42:02.869Z"
   },
   {
    "duration": -122,
    "start_time": "2022-01-07T16:42:02.873Z"
   },
   {
    "duration": -124,
    "start_time": "2022-01-07T16:42:02.877Z"
   },
   {
    "duration": -125,
    "start_time": "2022-01-07T16:42:02.880Z"
   },
   {
    "duration": -127,
    "start_time": "2022-01-07T16:42:02.884Z"
   },
   {
    "duration": -130,
    "start_time": "2022-01-07T16:42:02.888Z"
   },
   {
    "duration": -141,
    "start_time": "2022-01-07T16:42:02.901Z"
   },
   {
    "duration": -144,
    "start_time": "2022-01-07T16:42:02.905Z"
   },
   {
    "duration": -146,
    "start_time": "2022-01-07T16:42:02.909Z"
   },
   {
    "duration": -149,
    "start_time": "2022-01-07T16:42:02.913Z"
   },
   {
    "duration": -150,
    "start_time": "2022-01-07T16:42:02.917Z"
   },
   {
    "duration": -152,
    "start_time": "2022-01-07T16:42:02.921Z"
   },
   {
    "duration": -155,
    "start_time": "2022-01-07T16:42:02.925Z"
   },
   {
    "duration": -158,
    "start_time": "2022-01-07T16:42:02.929Z"
   },
   {
    "duration": -160,
    "start_time": "2022-01-07T16:42:02.933Z"
   },
   {
    "duration": -163,
    "start_time": "2022-01-07T16:42:02.937Z"
   },
   {
    "duration": -166,
    "start_time": "2022-01-07T16:42:02.942Z"
   },
   {
    "duration": -169,
    "start_time": "2022-01-07T16:42:02.946Z"
   },
   {
    "duration": -171,
    "start_time": "2022-01-07T16:42:02.950Z"
   },
   {
    "duration": -174,
    "start_time": "2022-01-07T16:42:02.954Z"
   },
   {
    "duration": -178,
    "start_time": "2022-01-07T16:42:02.959Z"
   },
   {
    "duration": -153,
    "start_time": "2022-01-07T16:42:02.975Z"
   },
   {
    "duration": -156,
    "start_time": "2022-01-07T16:42:02.980Z"
   },
   {
    "duration": -166,
    "start_time": "2022-01-07T16:42:02.991Z"
   },
   {
    "duration": -173,
    "start_time": "2022-01-07T16:42:02.999Z"
   },
   {
    "duration": -178,
    "start_time": "2022-01-07T16:42:03.006Z"
   },
   {
    "duration": -183,
    "start_time": "2022-01-07T16:42:03.012Z"
   },
   {
    "duration": -195,
    "start_time": "2022-01-07T16:42:03.026Z"
   },
   {
    "duration": -207,
    "start_time": "2022-01-07T16:42:03.039Z"
   },
   {
    "duration": -210,
    "start_time": "2022-01-07T16:42:03.043Z"
   },
   {
    "duration": -219,
    "start_time": "2022-01-07T16:42:03.054Z"
   },
   {
    "duration": -228,
    "start_time": "2022-01-07T16:42:03.064Z"
   },
   {
    "duration": -266,
    "start_time": "2022-01-07T16:42:03.104Z"
   },
   {
    "duration": -268,
    "start_time": "2022-01-07T16:42:03.107Z"
   },
   {
    "duration": -272,
    "start_time": "2022-01-07T16:42:03.113Z"
   },
   {
    "duration": -274,
    "start_time": "2022-01-07T16:42:03.116Z"
   },
   {
    "duration": -277,
    "start_time": "2022-01-07T16:42:03.120Z"
   },
   {
    "duration": -278,
    "start_time": "2022-01-07T16:42:03.123Z"
   },
   {
    "duration": -282,
    "start_time": "2022-01-07T16:42:03.128Z"
   },
   {
    "duration": 17,
    "start_time": "2022-01-07T16:42:51.826Z"
   },
   {
    "duration": 28,
    "start_time": "2022-01-07T16:42:51.846Z"
   },
   {
    "duration": 46,
    "start_time": "2022-01-07T16:42:51.877Z"
   },
   {
    "duration": 29,
    "start_time": "2022-01-07T16:42:51.926Z"
   },
   {
    "duration": 655,
    "start_time": "2022-01-07T16:42:51.958Z"
   },
   {
    "duration": 11,
    "start_time": "2022-01-07T16:42:52.615Z"
   },
   {
    "duration": 44,
    "start_time": "2022-01-07T16:42:52.628Z"
   },
   {
    "duration": 8,
    "start_time": "2022-01-07T16:42:52.676Z"
   },
   {
    "duration": 41,
    "start_time": "2022-01-07T16:42:52.688Z"
   },
   {
    "duration": 634,
    "start_time": "2022-01-07T16:42:52.732Z"
   },
   {
    "duration": 15,
    "start_time": "2022-01-07T16:42:53.369Z"
   },
   {
    "duration": 3213,
    "start_time": "2022-01-07T16:42:53.387Z"
   },
   {
    "duration": 26,
    "start_time": "2022-01-07T16:42:56.603Z"
   },
   {
    "duration": 15,
    "start_time": "2022-01-07T16:42:56.632Z"
   },
   {
    "duration": 574,
    "start_time": "2022-01-07T16:42:56.649Z"
   },
   {
    "duration": 13,
    "start_time": "2022-01-07T16:42:57.226Z"
   },
   {
    "duration": 9,
    "start_time": "2022-01-07T16:42:57.241Z"
   },
   {
    "duration": 340,
    "start_time": "2022-01-07T16:42:57.252Z"
   },
   {
    "duration": 14,
    "start_time": "2022-01-07T16:42:57.594Z"
   },
   {
    "duration": 10,
    "start_time": "2022-01-07T16:42:57.622Z"
   },
   {
    "duration": 3572,
    "start_time": "2022-01-07T16:42:57.635Z"
   },
   {
    "duration": 15,
    "start_time": "2022-01-07T16:43:01.210Z"
   },
   {
    "duration": 59,
    "start_time": "2022-01-07T16:43:01.230Z"
   },
   {
    "duration": 132,
    "start_time": "2022-01-07T16:43:01.293Z"
   },
   {
    "duration": 16,
    "start_time": "2022-01-07T16:43:01.427Z"
   },
   {
    "duration": 554,
    "start_time": "2022-01-07T16:43:01.445Z"
   },
   {
    "duration": 319,
    "start_time": "2022-01-07T16:43:02.001Z"
   },
   {
    "duration": -19,
    "start_time": "2022-01-07T16:43:02.342Z"
   },
   {
    "duration": -24,
    "start_time": "2022-01-07T16:43:02.348Z"
   },
   {
    "duration": -26,
    "start_time": "2022-01-07T16:43:02.352Z"
   },
   {
    "duration": -31,
    "start_time": "2022-01-07T16:43:02.358Z"
   },
   {
    "duration": -43,
    "start_time": "2022-01-07T16:43:02.371Z"
   },
   {
    "duration": -54,
    "start_time": "2022-01-07T16:43:02.384Z"
   },
   {
    "duration": -58,
    "start_time": "2022-01-07T16:43:02.389Z"
   },
   {
    "duration": -68,
    "start_time": "2022-01-07T16:43:02.401Z"
   },
   {
    "duration": -72,
    "start_time": "2022-01-07T16:43:02.406Z"
   },
   {
    "duration": -85,
    "start_time": "2022-01-07T16:43:02.420Z"
   },
   {
    "duration": -88,
    "start_time": "2022-01-07T16:43:02.425Z"
   },
   {
    "duration": -99,
    "start_time": "2022-01-07T16:43:02.437Z"
   },
   {
    "duration": -110,
    "start_time": "2022-01-07T16:43:02.450Z"
   },
   {
    "duration": -114,
    "start_time": "2022-01-07T16:43:02.455Z"
   },
   {
    "duration": -125,
    "start_time": "2022-01-07T16:43:02.468Z"
   },
   {
    "duration": -130,
    "start_time": "2022-01-07T16:43:02.474Z"
   },
   {
    "duration": -139,
    "start_time": "2022-01-07T16:43:02.485Z"
   },
   {
    "duration": -153,
    "start_time": "2022-01-07T16:43:02.500Z"
   },
   {
    "duration": 21,
    "start_time": "2022-01-07T16:44:06.715Z"
   },
   {
    "duration": 5,
    "start_time": "2022-01-07T16:47:43.721Z"
   },
   {
    "duration": 7,
    "start_time": "2022-01-07T16:47:44.568Z"
   },
   {
    "duration": 3016,
    "start_time": "2022-01-07T16:47:45.521Z"
   },
   {
    "duration": 2938,
    "start_time": "2022-01-07T16:47:54.945Z"
   },
   {
    "duration": 14,
    "start_time": "2022-01-07T16:48:01.947Z"
   },
   {
    "duration": 17,
    "start_time": "2022-01-07T16:48:12.256Z"
   },
   {
    "duration": 10,
    "start_time": "2022-01-07T16:48:33.941Z"
   },
   {
    "duration": 6470,
    "start_time": "2022-01-07T16:48:49.507Z"
   },
   {
    "duration": 5,
    "start_time": "2022-01-07T16:48:55.980Z"
   },
   {
    "duration": 10,
    "start_time": "2022-01-07T16:48:55.989Z"
   },
   {
    "duration": 6,
    "start_time": "2022-01-07T16:48:56.002Z"
   },
   {
    "duration": 5,
    "start_time": "2022-01-07T16:48:56.010Z"
   },
   {
    "duration": 101,
    "start_time": "2022-01-07T16:48:56.017Z"
   },
   {
    "duration": 32,
    "start_time": "2022-01-07T16:48:56.120Z"
   },
   {
    "duration": 32,
    "start_time": "2022-01-07T16:48:56.156Z"
   },
   {
    "duration": 47,
    "start_time": "2022-01-07T16:48:56.191Z"
   },
   {
    "duration": 113,
    "start_time": "2022-01-07T16:48:56.241Z"
   },
   {
    "duration": 30,
    "start_time": "2022-01-07T16:48:56.357Z"
   },
   {
    "duration": 5,
    "start_time": "2022-01-07T16:48:56.390Z"
   },
   {
    "duration": 7,
    "start_time": "2022-01-07T16:48:56.397Z"
   },
   {
    "duration": 7,
    "start_time": "2022-01-07T16:48:56.423Z"
   },
   {
    "duration": 45,
    "start_time": "2022-01-07T16:48:56.433Z"
   },
   {
    "duration": 9,
    "start_time": "2022-01-07T16:48:56.481Z"
   },
   {
    "duration": 35,
    "start_time": "2022-01-07T16:48:56.493Z"
   },
   {
    "duration": 21,
    "start_time": "2022-01-07T16:48:56.531Z"
   },
   {
    "duration": 28,
    "start_time": "2022-01-07T16:48:56.554Z"
   },
   {
    "duration": 6,
    "start_time": "2022-01-07T16:48:56.585Z"
   },
   {
    "duration": 53,
    "start_time": "2022-01-07T16:48:56.593Z"
   },
   {
    "duration": 621,
    "start_time": "2022-01-07T16:48:56.648Z"
   },
   {
    "duration": 7,
    "start_time": "2022-01-07T16:48:57.273Z"
   },
   {
    "duration": 62,
    "start_time": "2022-01-07T16:48:57.282Z"
   },
   {
    "duration": 9,
    "start_time": "2022-01-07T16:48:57.346Z"
   },
   {
    "duration": 15,
    "start_time": "2022-01-07T16:48:57.358Z"
   },
   {
    "duration": 543,
    "start_time": "2022-01-07T16:48:57.375Z"
   },
   {
    "duration": 13,
    "start_time": "2022-01-07T16:48:57.924Z"
   },
   {
    "duration": 6,
    "start_time": "2022-01-07T16:48:57.939Z"
   },
   {
    "duration": 3063,
    "start_time": "2022-01-07T16:48:57.947Z"
   },
   {
    "duration": 23,
    "start_time": "2022-01-07T16:49:01.013Z"
   },
   {
    "duration": 20,
    "start_time": "2022-01-07T16:49:01.038Z"
   },
   {
    "duration": 415,
    "start_time": "2022-01-07T16:49:08.055Z"
   },
   {
    "duration": 435,
    "start_time": "2022-01-07T16:50:48.611Z"
   },
   {
    "duration": 448,
    "start_time": "2022-01-07T16:52:55.669Z"
   },
   {
    "duration": 2926,
    "start_time": "2022-01-07T16:55:43.744Z"
   },
   {
    "duration": 515,
    "start_time": "2022-01-07T16:57:30.843Z"
   },
   {
    "duration": 3593,
    "start_time": "2022-01-07T16:57:46.488Z"
   },
   {
    "duration": 3893,
    "start_time": "2022-01-07T16:58:11.630Z"
   },
   {
    "duration": 3333,
    "start_time": "2022-01-07T16:58:20.775Z"
   },
   {
    "duration": 3264,
    "start_time": "2022-01-07T16:58:30.480Z"
   },
   {
    "duration": 682,
    "start_time": "2022-01-07T16:58:38.244Z"
   },
   {
    "duration": 1137,
    "start_time": "2022-01-07T16:58:52.321Z"
   },
   {
    "duration": 468,
    "start_time": "2022-01-07T17:00:05.251Z"
   },
   {
    "duration": 479,
    "start_time": "2022-01-07T17:00:24.859Z"
   },
   {
    "duration": 479,
    "start_time": "2022-01-07T17:00:30.663Z"
   },
   {
    "duration": 8,
    "start_time": "2022-01-07T17:04:13.473Z"
   },
   {
    "duration": 7,
    "start_time": "2022-01-07T17:04:24.227Z"
   },
   {
    "duration": 7,
    "start_time": "2022-01-07T17:04:27.764Z"
   },
   {
    "duration": 472,
    "start_time": "2022-01-07T17:07:31.290Z"
   },
   {
    "duration": 477,
    "start_time": "2022-01-07T17:12:12.285Z"
   },
   {
    "duration": 7,
    "start_time": "2022-01-07T17:12:25.534Z"
   },
   {
    "duration": 6,
    "start_time": "2022-01-07T17:12:35.243Z"
   },
   {
    "duration": 731,
    "start_time": "2022-01-07T17:13:19.253Z"
   },
   {
    "duration": 710,
    "start_time": "2022-01-07T17:13:26.459Z"
   },
   {
    "duration": 989,
    "start_time": "2022-01-07T17:13:28.840Z"
   },
   {
    "duration": 119,
    "start_time": "2022-01-07T17:14:04.070Z"
   },
   {
    "duration": 7,
    "start_time": "2022-01-07T17:18:58.144Z"
   },
   {
    "duration": 2918,
    "start_time": "2022-01-07T17:19:08.047Z"
   },
   {
    "duration": 3247,
    "start_time": "2022-01-07T17:19:18.232Z"
   },
   {
    "duration": 3777,
    "start_time": "2022-01-07T17:19:22.266Z"
   },
   {
    "duration": 55,
    "start_time": "2022-01-07T17:19:40.811Z"
   },
   {
    "duration": 8,
    "start_time": "2022-01-07T17:19:49.511Z"
   },
   {
    "duration": 8,
    "start_time": "2022-01-07T17:20:15.355Z"
   },
   {
    "duration": 3098,
    "start_time": "2022-01-07T17:20:16.202Z"
   },
   {
    "duration": 7,
    "start_time": "2022-01-07T17:20:29.981Z"
   },
   {
    "duration": 6462,
    "start_time": "2022-01-07T17:20:40.784Z"
   },
   {
    "duration": 4,
    "start_time": "2022-01-07T17:20:47.250Z"
   },
   {
    "duration": 9,
    "start_time": "2022-01-07T17:20:47.257Z"
   },
   {
    "duration": 4,
    "start_time": "2022-01-07T17:20:47.269Z"
   },
   {
    "duration": 6,
    "start_time": "2022-01-07T17:20:47.275Z"
   },
   {
    "duration": 100,
    "start_time": "2022-01-07T17:20:47.283Z"
   },
   {
    "duration": 31,
    "start_time": "2022-01-07T17:20:47.386Z"
   },
   {
    "duration": 31,
    "start_time": "2022-01-07T17:20:47.424Z"
   },
   {
    "duration": 20,
    "start_time": "2022-01-07T17:20:47.458Z"
   },
   {
    "duration": 126,
    "start_time": "2022-01-07T17:20:47.481Z"
   },
   {
    "duration": 38,
    "start_time": "2022-01-07T17:20:47.610Z"
   },
   {
    "duration": 5,
    "start_time": "2022-01-07T17:20:47.650Z"
   },
   {
    "duration": 20,
    "start_time": "2022-01-07T17:20:47.658Z"
   },
   {
    "duration": 9,
    "start_time": "2022-01-07T17:20:47.680Z"
   },
   {
    "duration": 55,
    "start_time": "2022-01-07T17:20:47.691Z"
   },
   {
    "duration": 9,
    "start_time": "2022-01-07T17:20:47.749Z"
   },
   {
    "duration": 8,
    "start_time": "2022-01-07T17:20:47.760Z"
   },
   {
    "duration": 17,
    "start_time": "2022-01-07T17:20:47.770Z"
   },
   {
    "duration": 58,
    "start_time": "2022-01-07T17:20:47.789Z"
   },
   {
    "duration": 7,
    "start_time": "2022-01-07T17:20:47.849Z"
   },
   {
    "duration": 29,
    "start_time": "2022-01-07T17:20:47.859Z"
   },
   {
    "duration": 836,
    "start_time": "2022-01-07T17:20:47.890Z"
   },
   {
    "duration": 7,
    "start_time": "2022-01-07T17:20:48.732Z"
   },
   {
    "duration": 44,
    "start_time": "2022-01-07T17:20:48.742Z"
   },
   {
    "duration": 38,
    "start_time": "2022-01-07T17:20:48.789Z"
   },
   {
    "duration": 16,
    "start_time": "2022-01-07T17:20:48.830Z"
   },
   {
    "duration": 564,
    "start_time": "2022-01-07T17:20:48.848Z"
   },
   {
    "duration": 12,
    "start_time": "2022-01-07T17:20:49.423Z"
   },
   {
    "duration": 8,
    "start_time": "2022-01-07T17:20:49.437Z"
   },
   {
    "duration": 3009,
    "start_time": "2022-01-07T17:20:49.448Z"
   },
   {
    "duration": 15,
    "start_time": "2022-01-07T17:22:48.779Z"
   },
   {
    "duration": 13,
    "start_time": "2022-01-07T17:22:59.430Z"
   },
   {
    "duration": 427,
    "start_time": "2022-01-07T17:23:04.592Z"
   },
   {
    "duration": 420,
    "start_time": "2022-01-07T17:25:37.540Z"
   },
   {
    "duration": 363,
    "start_time": "2022-01-07T17:27:13.127Z"
   },
   {
    "duration": 334,
    "start_time": "2022-01-07T17:27:21.167Z"
   },
   {
    "duration": 538,
    "start_time": "2022-01-07T17:28:22.285Z"
   },
   {
    "duration": 425,
    "start_time": "2022-01-07T17:28:28.870Z"
   },
   {
    "duration": 728,
    "start_time": "2022-01-07T17:29:33.795Z"
   },
   {
    "duration": 19,
    "start_time": "2022-01-07T17:30:36.102Z"
   },
   {
    "duration": 11,
    "start_time": "2022-01-07T17:30:38.009Z"
   },
   {
    "duration": 24,
    "start_time": "2022-01-07T17:30:48.149Z"
   },
   {
    "duration": 22,
    "start_time": "2022-01-07T17:31:00.643Z"
   },
   {
    "duration": 6456,
    "start_time": "2022-01-07T17:33:02.919Z"
   },
   {
    "duration": 6,
    "start_time": "2022-01-07T17:33:09.379Z"
   },
   {
    "duration": 7,
    "start_time": "2022-01-07T17:33:09.389Z"
   },
   {
    "duration": 7,
    "start_time": "2022-01-07T17:33:09.399Z"
   },
   {
    "duration": 7,
    "start_time": "2022-01-07T17:33:09.409Z"
   },
   {
    "duration": 110,
    "start_time": "2022-01-07T17:33:09.418Z"
   },
   {
    "duration": 37,
    "start_time": "2022-01-07T17:33:09.530Z"
   },
   {
    "duration": 55,
    "start_time": "2022-01-07T17:33:09.571Z"
   },
   {
    "duration": 23,
    "start_time": "2022-01-07T17:33:09.630Z"
   },
   {
    "duration": 123,
    "start_time": "2022-01-07T17:33:09.656Z"
   },
   {
    "duration": 44,
    "start_time": "2022-01-07T17:33:09.782Z"
   },
   {
    "duration": 5,
    "start_time": "2022-01-07T17:33:09.828Z"
   },
   {
    "duration": 12,
    "start_time": "2022-01-07T17:33:09.836Z"
   },
   {
    "duration": 10,
    "start_time": "2022-01-07T17:33:09.850Z"
   },
   {
    "duration": 65,
    "start_time": "2022-01-07T17:33:09.862Z"
   },
   {
    "duration": 12,
    "start_time": "2022-01-07T17:33:09.930Z"
   },
   {
    "duration": 11,
    "start_time": "2022-01-07T17:33:09.945Z"
   },
   {
    "duration": 16,
    "start_time": "2022-01-07T17:33:09.959Z"
   },
   {
    "duration": 87,
    "start_time": "2022-01-07T17:33:09.978Z"
   },
   {
    "duration": 7,
    "start_time": "2022-01-07T17:33:10.068Z"
   },
   {
    "duration": 33,
    "start_time": "2022-01-07T17:33:10.077Z"
   },
   {
    "duration": 875,
    "start_time": "2022-01-07T17:33:10.113Z"
   },
   {
    "duration": 6,
    "start_time": "2022-01-07T17:33:10.994Z"
   },
   {
    "duration": 68,
    "start_time": "2022-01-07T17:33:11.004Z"
   },
   {
    "duration": 10,
    "start_time": "2022-01-07T17:33:11.075Z"
   },
   {
    "duration": 40,
    "start_time": "2022-01-07T17:33:11.088Z"
   },
   {
    "duration": 537,
    "start_time": "2022-01-07T17:33:11.131Z"
   },
   {
    "duration": 14,
    "start_time": "2022-01-07T17:33:11.670Z"
   },
   {
    "duration": 4,
    "start_time": "2022-01-07T17:33:11.687Z"
   },
   {
    "duration": 3231,
    "start_time": "2022-01-07T17:33:11.693Z"
   },
   {
    "duration": 18,
    "start_time": "2022-01-07T17:33:14.927Z"
   },
   {
    "duration": 14,
    "start_time": "2022-01-07T17:33:14.947Z"
   },
   {
    "duration": 6431,
    "start_time": "2022-01-07T17:33:22.098Z"
   },
   {
    "duration": 2253,
    "start_time": "2022-01-07T17:33:28.534Z"
   },
   {
    "duration": 5,
    "start_time": "2022-01-07T17:33:30.791Z"
   },
   {
    "duration": 24,
    "start_time": "2022-01-07T17:33:30.799Z"
   },
   {
    "duration": 17,
    "start_time": "2022-01-07T17:33:30.826Z"
   },
   {
    "duration": 108,
    "start_time": "2022-01-07T17:33:30.845Z"
   },
   {
    "duration": 39,
    "start_time": "2022-01-07T17:33:30.955Z"
   },
   {
    "duration": 49,
    "start_time": "2022-01-07T17:33:30.997Z"
   },
   {
    "duration": 19,
    "start_time": "2022-01-07T17:33:31.049Z"
   },
   {
    "duration": 127,
    "start_time": "2022-01-07T17:33:31.071Z"
   },
   {
    "duration": 43,
    "start_time": "2022-01-07T17:33:31.203Z"
   },
   {
    "duration": 4,
    "start_time": "2022-01-07T17:33:31.249Z"
   },
   {
    "duration": 16,
    "start_time": "2022-01-07T17:33:31.256Z"
   },
   {
    "duration": 9,
    "start_time": "2022-01-07T17:33:31.274Z"
   },
   {
    "duration": 754,
    "start_time": "2022-01-07T17:33:31.286Z"
   },
   {
    "duration": 9,
    "start_time": "2022-01-07T17:33:32.043Z"
   },
   {
    "duration": 12,
    "start_time": "2022-01-07T17:33:32.055Z"
   },
   {
    "duration": 17,
    "start_time": "2022-01-07T17:33:32.069Z"
   },
   {
    "duration": 57,
    "start_time": "2022-01-07T17:33:32.089Z"
   },
   {
    "duration": 8,
    "start_time": "2022-01-07T17:33:32.148Z"
   },
   {
    "duration": 30,
    "start_time": "2022-01-07T17:33:32.159Z"
   },
   {
    "duration": 737,
    "start_time": "2022-01-07T17:33:32.191Z"
   },
   {
    "duration": 6,
    "start_time": "2022-01-07T17:33:32.931Z"
   },
   {
    "duration": 49,
    "start_time": "2022-01-07T17:33:32.939Z"
   },
   {
    "duration": 33,
    "start_time": "2022-01-07T17:33:32.991Z"
   },
   {
    "duration": 21,
    "start_time": "2022-01-07T17:33:33.027Z"
   },
   {
    "duration": 559,
    "start_time": "2022-01-07T17:33:33.051Z"
   },
   {
    "duration": 21,
    "start_time": "2022-01-07T17:33:33.612Z"
   },
   {
    "duration": 470,
    "start_time": "2022-01-07T17:33:33.636Z"
   },
   {
    "duration": -4,
    "start_time": "2022-01-07T17:33:34.113Z"
   },
   {
    "duration": -7,
    "start_time": "2022-01-07T17:33:34.118Z"
   },
   {
    "duration": -21,
    "start_time": "2022-01-07T17:33:34.133Z"
   },
   {
    "duration": -33,
    "start_time": "2022-01-07T17:33:34.147Z"
   },
   {
    "duration": -36,
    "start_time": "2022-01-07T17:33:34.152Z"
   },
   {
    "duration": -49,
    "start_time": "2022-01-07T17:33:34.166Z"
   },
   {
    "duration": -62,
    "start_time": "2022-01-07T17:33:34.181Z"
   },
   {
    "duration": -75,
    "start_time": "2022-01-07T17:33:34.196Z"
   },
   {
    "duration": -80,
    "start_time": "2022-01-07T17:33:34.202Z"
   },
   {
    "duration": -91,
    "start_time": "2022-01-07T17:33:34.214Z"
   },
   {
    "duration": -105,
    "start_time": "2022-01-07T17:33:34.230Z"
   },
   {
    "duration": -119,
    "start_time": "2022-01-07T17:33:34.245Z"
   },
   {
    "duration": -123,
    "start_time": "2022-01-07T17:33:34.251Z"
   },
   {
    "duration": -136,
    "start_time": "2022-01-07T17:33:34.265Z"
   },
   {
    "duration": -148,
    "start_time": "2022-01-07T17:33:34.279Z"
   },
   {
    "duration": -152,
    "start_time": "2022-01-07T17:33:34.284Z"
   },
   {
    "duration": -163,
    "start_time": "2022-01-07T17:33:34.296Z"
   },
   {
    "duration": -167,
    "start_time": "2022-01-07T17:33:34.302Z"
   },
   {
    "duration": -178,
    "start_time": "2022-01-07T17:33:34.314Z"
   },
   {
    "duration": -181,
    "start_time": "2022-01-07T17:33:34.319Z"
   },
   {
    "duration": -192,
    "start_time": "2022-01-07T17:33:34.331Z"
   },
   {
    "duration": -204,
    "start_time": "2022-01-07T17:33:34.345Z"
   },
   {
    "duration": -209,
    "start_time": "2022-01-07T17:33:34.351Z"
   },
   {
    "duration": -219,
    "start_time": "2022-01-07T17:33:34.363Z"
   },
   {
    "duration": -224,
    "start_time": "2022-01-07T17:33:34.369Z"
   },
   {
    "duration": -236,
    "start_time": "2022-01-07T17:33:34.383Z"
   },
   {
    "duration": -266,
    "start_time": "2022-01-07T17:33:34.414Z"
   },
   {
    "duration": -284,
    "start_time": "2022-01-07T17:33:34.434Z"
   },
   {
    "duration": -298,
    "start_time": "2022-01-07T17:33:34.449Z"
   },
   {
    "duration": -311,
    "start_time": "2022-01-07T17:33:34.464Z"
   },
   {
    "duration": -326,
    "start_time": "2022-01-07T17:33:34.480Z"
   },
   {
    "duration": -330,
    "start_time": "2022-01-07T17:33:34.486Z"
   },
   {
    "duration": -342,
    "start_time": "2022-01-07T17:33:34.500Z"
   },
   {
    "duration": -357,
    "start_time": "2022-01-07T17:33:34.516Z"
   },
   {
    "duration": 751,
    "start_time": "2022-01-07T17:34:00.047Z"
   },
   {
    "duration": 16,
    "start_time": "2022-01-07T17:34:00.787Z"
   },
   {
    "duration": -9,
    "start_time": "2022-01-07T17:34:00.813Z"
   },
   {
    "duration": -12,
    "start_time": "2022-01-07T17:34:00.817Z"
   },
   {
    "duration": -15,
    "start_time": "2022-01-07T17:34:00.822Z"
   },
   {
    "duration": -26,
    "start_time": "2022-01-07T17:34:00.835Z"
   },
   {
    "duration": -37,
    "start_time": "2022-01-07T17:34:00.848Z"
   },
   {
    "duration": -40,
    "start_time": "2022-01-07T17:34:00.852Z"
   },
   {
    "duration": -50,
    "start_time": "2022-01-07T17:34:00.864Z"
   },
   {
    "duration": -53,
    "start_time": "2022-01-07T17:34:00.868Z"
   },
   {
    "duration": -64,
    "start_time": "2022-01-07T17:34:00.881Z"
   },
   {
    "duration": -67,
    "start_time": "2022-01-07T17:34:00.885Z"
   },
   {
    "duration": -80,
    "start_time": "2022-01-07T17:34:00.899Z"
   },
   {
    "duration": -83,
    "start_time": "2022-01-07T17:34:00.904Z"
   },
   {
    "duration": -94,
    "start_time": "2022-01-07T17:34:00.916Z"
   },
   {
    "duration": -98,
    "start_time": "2022-01-07T17:34:00.921Z"
   },
   {
    "duration": -109,
    "start_time": "2022-01-07T17:34:00.933Z"
   },
   {
    "duration": -112,
    "start_time": "2022-01-07T17:34:00.938Z"
   },
   {
    "duration": -123,
    "start_time": "2022-01-07T17:34:00.950Z"
   },
   {
    "duration": -127,
    "start_time": "2022-01-07T17:34:00.955Z"
   },
   {
    "duration": -137,
    "start_time": "2022-01-07T17:34:00.966Z"
   },
   {
    "duration": -140,
    "start_time": "2022-01-07T17:34:00.971Z"
   },
   {
    "duration": -150,
    "start_time": "2022-01-07T17:34:00.982Z"
   },
   {
    "duration": -154,
    "start_time": "2022-01-07T17:34:00.987Z"
   },
   {
    "duration": -164,
    "start_time": "2022-01-07T17:34:00.999Z"
   },
   {
    "duration": -168,
    "start_time": "2022-01-07T17:34:01.004Z"
   },
   {
    "duration": -178,
    "start_time": "2022-01-07T17:34:01.015Z"
   },
   {
    "duration": -181,
    "start_time": "2022-01-07T17:34:01.020Z"
   },
   {
    "duration": -193,
    "start_time": "2022-01-07T17:34:01.033Z"
   },
   {
    "duration": -197,
    "start_time": "2022-01-07T17:34:01.038Z"
   },
   {
    "duration": -206,
    "start_time": "2022-01-07T17:34:01.049Z"
   },
   {
    "duration": -210,
    "start_time": "2022-01-07T17:34:01.054Z"
   },
   {
    "duration": -221,
    "start_time": "2022-01-07T17:34:01.066Z"
   },
   {
    "duration": -224,
    "start_time": "2022-01-07T17:34:01.071Z"
   },
   {
    "duration": 10,
    "start_time": "2022-01-07T17:34:48.005Z"
   },
   {
    "duration": 3081,
    "start_time": "2022-01-07T17:34:48.826Z"
   },
   {
    "duration": 3213,
    "start_time": "2022-01-07T17:34:55.527Z"
   },
   {
    "duration": 15,
    "start_time": "2022-01-07T17:34:58.744Z"
   },
   {
    "duration": 12,
    "start_time": "2022-01-07T17:34:58.762Z"
   },
   {
    "duration": 482,
    "start_time": "2022-01-07T17:34:58.776Z"
   },
   {
    "duration": 13,
    "start_time": "2022-01-07T17:34:59.260Z"
   },
   {
    "duration": 10,
    "start_time": "2022-01-07T17:34:59.276Z"
   },
   {
    "duration": 258,
    "start_time": "2022-01-07T17:34:59.288Z"
   },
   {
    "duration": 14,
    "start_time": "2022-01-07T17:34:59.550Z"
   },
   {
    "duration": 10,
    "start_time": "2022-01-07T17:34:59.567Z"
   },
   {
    "duration": 520,
    "start_time": "2022-01-07T17:34:59.580Z"
   },
   {
    "duration": 7,
    "start_time": "2022-01-07T17:35:00.102Z"
   },
   {
    "duration": 57,
    "start_time": "2022-01-07T17:35:00.124Z"
   },
   {
    "duration": 139,
    "start_time": "2022-01-07T17:35:00.184Z"
   },
   {
    "duration": 16,
    "start_time": "2022-01-07T17:35:00.325Z"
   },
   {
    "duration": 515,
    "start_time": "2022-01-07T17:35:00.344Z"
   },
   {
    "duration": 450,
    "start_time": "2022-01-07T17:35:00.861Z"
   },
   {
    "duration": 775,
    "start_time": "2022-01-07T17:35:01.313Z"
   },
   {
    "duration": 33,
    "start_time": "2022-01-07T17:35:02.091Z"
   },
   {
    "duration": 12,
    "start_time": "2022-01-07T17:35:02.126Z"
   },
   {
    "duration": 33,
    "start_time": "2022-01-07T17:35:02.141Z"
   },
   {
    "duration": 10,
    "start_time": "2022-01-07T17:35:02.178Z"
   },
   {
    "duration": 10,
    "start_time": "2022-01-07T17:35:02.224Z"
   },
   {
    "duration": 6,
    "start_time": "2022-01-07T17:35:02.240Z"
   },
   {
    "duration": 5,
    "start_time": "2022-01-07T17:35:02.249Z"
   },
   {
    "duration": 344,
    "start_time": "2022-01-07T17:35:02.256Z"
   },
   {
    "duration": 24,
    "start_time": "2022-01-07T17:35:02.603Z"
   },
   {
    "duration": 14,
    "start_time": "2022-01-07T17:35:02.630Z"
   },
   {
    "duration": 14,
    "start_time": "2022-01-07T17:35:02.646Z"
   },
   {
    "duration": 12,
    "start_time": "2022-01-07T17:35:02.662Z"
   },
   {
    "duration": 52,
    "start_time": "2022-01-07T17:35:02.677Z"
   },
   {
    "duration": 60,
    "start_time": "2022-01-07T17:35:02.733Z"
   },
   {
    "duration": 4,
    "start_time": "2022-01-07T17:35:02.796Z"
   },
   {
    "duration": 1587,
    "start_time": "2022-01-07T17:35:02.823Z"
   },
   {
    "duration": 943,
    "start_time": "2022-01-07T17:35:04.413Z"
   },
   {
    "duration": 17,
    "start_time": "2022-01-07T17:36:22.218Z"
   },
   {
    "duration": 6063,
    "start_time": "2022-01-07T17:36:37.436Z"
   },
   {
    "duration": 1578,
    "start_time": "2022-01-07T17:36:43.501Z"
   },
   {
    "duration": 5,
    "start_time": "2022-01-07T17:36:45.084Z"
   },
   {
    "duration": 14,
    "start_time": "2022-01-07T17:36:45.092Z"
   },
   {
    "duration": 21,
    "start_time": "2022-01-07T17:36:45.108Z"
   },
   {
    "duration": 114,
    "start_time": "2022-01-07T17:36:45.132Z"
   },
   {
    "duration": 37,
    "start_time": "2022-01-07T17:36:45.248Z"
   },
   {
    "duration": 42,
    "start_time": "2022-01-07T17:36:45.289Z"
   },
   {
    "duration": 22,
    "start_time": "2022-01-07T17:36:45.335Z"
   },
   {
    "duration": 117,
    "start_time": "2022-01-07T17:36:45.360Z"
   },
   {
    "duration": 30,
    "start_time": "2022-01-07T17:36:45.479Z"
   },
   {
    "duration": 5,
    "start_time": "2022-01-07T17:36:45.524Z"
   },
   {
    "duration": 6,
    "start_time": "2022-01-07T17:36:45.532Z"
   },
   {
    "duration": 9,
    "start_time": "2022-01-07T17:36:45.541Z"
   },
   {
    "duration": 695,
    "start_time": "2022-01-07T17:36:45.553Z"
   },
   {
    "duration": 9,
    "start_time": "2022-01-07T17:36:46.250Z"
   },
   {
    "duration": 18,
    "start_time": "2022-01-07T17:36:46.262Z"
   },
   {
    "duration": 24,
    "start_time": "2022-01-07T17:36:46.282Z"
   },
   {
    "duration": 38,
    "start_time": "2022-01-07T17:36:46.308Z"
   },
   {
    "duration": 7,
    "start_time": "2022-01-07T17:36:46.349Z"
   },
   {
    "duration": 37,
    "start_time": "2022-01-07T17:36:46.358Z"
   },
   {
    "duration": 811,
    "start_time": "2022-01-07T17:36:46.397Z"
   },
   {
    "duration": 11,
    "start_time": "2022-01-07T17:36:47.214Z"
   },
   {
    "duration": 50,
    "start_time": "2022-01-07T17:36:47.229Z"
   },
   {
    "duration": 9,
    "start_time": "2022-01-07T17:36:47.282Z"
   },
   {
    "duration": 37,
    "start_time": "2022-01-07T17:36:47.293Z"
   },
   {
    "duration": 535,
    "start_time": "2022-01-07T17:36:47.333Z"
   },
   {
    "duration": 13,
    "start_time": "2022-01-07T17:36:47.871Z"
   },
   {
    "duration": 14,
    "start_time": "2022-01-07T17:36:47.886Z"
   },
   {
    "duration": 2992,
    "start_time": "2022-01-07T17:36:47.903Z"
   },
   {
    "duration": 27,
    "start_time": "2022-01-07T17:36:50.897Z"
   },
   {
    "duration": 12,
    "start_time": "2022-01-07T17:36:50.927Z"
   },
   {
    "duration": 448,
    "start_time": "2022-01-07T17:36:50.941Z"
   },
   {
    "duration": 13,
    "start_time": "2022-01-07T17:36:51.391Z"
   },
   {
    "duration": 24,
    "start_time": "2022-01-07T17:36:51.406Z"
   },
   {
    "duration": 237,
    "start_time": "2022-01-07T17:36:51.432Z"
   },
   {
    "duration": 14,
    "start_time": "2022-01-07T17:36:51.672Z"
   },
   {
    "duration": 10,
    "start_time": "2022-01-07T17:36:51.688Z"
   },
   {
    "duration": 490,
    "start_time": "2022-01-07T17:36:51.724Z"
   },
   {
    "duration": 7,
    "start_time": "2022-01-07T17:36:52.217Z"
   },
   {
    "duration": 43,
    "start_time": "2022-01-07T17:36:52.227Z"
   },
   {
    "duration": 136,
    "start_time": "2022-01-07T17:36:52.273Z"
   },
   {
    "duration": 18,
    "start_time": "2022-01-07T17:36:52.412Z"
   },
   {
    "duration": 484,
    "start_time": "2022-01-07T17:36:52.432Z"
   },
   {
    "duration": 453,
    "start_time": "2022-01-07T17:36:52.918Z"
   },
   {
    "duration": 764,
    "start_time": "2022-01-07T17:36:53.374Z"
   },
   {
    "duration": 18,
    "start_time": "2022-01-07T17:36:54.140Z"
   },
   {
    "duration": 11,
    "start_time": "2022-01-07T17:36:54.161Z"
   },
   {
    "duration": 56,
    "start_time": "2022-01-07T17:36:54.175Z"
   },
   {
    "duration": 11,
    "start_time": "2022-01-07T17:36:54.233Z"
   },
   {
    "duration": 8,
    "start_time": "2022-01-07T17:36:54.246Z"
   },
   {
    "duration": 6,
    "start_time": "2022-01-07T17:36:54.257Z"
   },
   {
    "duration": 6,
    "start_time": "2022-01-07T17:36:54.265Z"
   },
   {
    "duration": 377,
    "start_time": "2022-01-07T17:36:54.273Z"
   },
   {
    "duration": 12,
    "start_time": "2022-01-07T17:36:54.653Z"
   },
   {
    "duration": 13,
    "start_time": "2022-01-07T17:36:54.667Z"
   },
   {
    "duration": 41,
    "start_time": "2022-01-07T17:36:54.682Z"
   },
   {
    "duration": 12,
    "start_time": "2022-01-07T17:36:54.725Z"
   },
   {
    "duration": 12,
    "start_time": "2022-01-07T17:36:54.740Z"
   },
   {
    "duration": 83,
    "start_time": "2022-01-07T17:36:54.755Z"
   },
   {
    "duration": 5,
    "start_time": "2022-01-07T17:36:54.841Z"
   },
   {
    "duration": 1426,
    "start_time": "2022-01-07T17:36:54.848Z"
   },
   {
    "duration": 822,
    "start_time": "2022-01-07T17:36:56.277Z"
   },
   {
    "duration": 15,
    "start_time": "2022-01-07T17:37:30.135Z"
   },
   {
    "duration": 18,
    "start_time": "2022-01-07T17:37:36.575Z"
   },
   {
    "duration": 27,
    "start_time": "2022-01-07T17:37:56.279Z"
   },
   {
    "duration": 18,
    "start_time": "2022-01-07T17:38:01.741Z"
   },
   {
    "duration": 26,
    "start_time": "2022-01-07T17:38:06.179Z"
   },
   {
    "duration": 17,
    "start_time": "2022-01-07T17:38:13.031Z"
   },
   {
    "duration": 18,
    "start_time": "2022-01-07T17:38:57.826Z"
   },
   {
    "duration": 16,
    "start_time": "2022-01-07T17:39:07.794Z"
   },
   {
    "duration": 17,
    "start_time": "2022-01-07T17:39:13.598Z"
   },
   {
    "duration": 15,
    "start_time": "2022-01-07T17:39:24.846Z"
   },
   {
    "duration": 16,
    "start_time": "2022-01-07T17:39:30.751Z"
   },
   {
    "duration": 17,
    "start_time": "2022-01-07T17:39:34.077Z"
   },
   {
    "duration": 16,
    "start_time": "2022-01-07T17:39:38.263Z"
   },
   {
    "duration": 17,
    "start_time": "2022-01-07T17:39:42.040Z"
   },
   {
    "duration": 16,
    "start_time": "2022-01-07T17:39:55.674Z"
   },
   {
    "duration": 17,
    "start_time": "2022-01-07T17:40:00.534Z"
   },
   {
    "duration": 19,
    "start_time": "2022-01-07T17:46:21.227Z"
   },
   {
    "duration": 17,
    "start_time": "2022-01-07T17:46:28.246Z"
   },
   {
    "duration": 17,
    "start_time": "2022-01-07T17:52:14.387Z"
   },
   {
    "duration": 105,
    "start_time": "2022-01-07T17:52:20.513Z"
   },
   {
    "duration": 18,
    "start_time": "2022-01-07T17:52:25.283Z"
   },
   {
    "duration": 764,
    "start_time": "2022-01-07T17:55:24.411Z"
   },
   {
    "duration": 670,
    "start_time": "2022-01-07T17:55:28.681Z"
   },
   {
    "duration": 249,
    "start_time": "2022-01-07T17:55:32.853Z"
   },
   {
    "duration": 14,
    "start_time": "2022-01-07T17:57:30.556Z"
   },
   {
    "duration": 6251,
    "start_time": "2022-01-07T17:57:37.082Z"
   },
   {
    "duration": 6,
    "start_time": "2022-01-07T17:57:43.337Z"
   },
   {
    "duration": 5,
    "start_time": "2022-01-07T17:57:43.347Z"
   },
   {
    "duration": 6,
    "start_time": "2022-01-07T17:57:43.355Z"
   },
   {
    "duration": 7,
    "start_time": "2022-01-07T17:57:43.363Z"
   },
   {
    "duration": 126,
    "start_time": "2022-01-07T17:57:43.373Z"
   },
   {
    "duration": 60,
    "start_time": "2022-01-07T17:57:43.501Z"
   },
   {
    "duration": 65,
    "start_time": "2022-01-07T17:57:43.567Z"
   },
   {
    "duration": 29,
    "start_time": "2022-01-07T17:57:43.636Z"
   },
   {
    "duration": 126,
    "start_time": "2022-01-07T17:57:43.667Z"
   },
   {
    "duration": 44,
    "start_time": "2022-01-07T17:57:43.796Z"
   },
   {
    "duration": 5,
    "start_time": "2022-01-07T17:57:43.843Z"
   },
   {
    "duration": 7,
    "start_time": "2022-01-07T17:57:43.850Z"
   },
   {
    "duration": 13,
    "start_time": "2022-01-07T17:57:43.859Z"
   },
   {
    "duration": 75,
    "start_time": "2022-01-07T17:57:43.875Z"
   },
   {
    "duration": 11,
    "start_time": "2022-01-07T17:57:43.953Z"
   },
   {
    "duration": 10,
    "start_time": "2022-01-07T17:57:43.967Z"
   },
   {
    "duration": 17,
    "start_time": "2022-01-07T17:57:43.979Z"
   },
   {
    "duration": 29,
    "start_time": "2022-01-07T17:57:44.024Z"
   },
   {
    "duration": 6,
    "start_time": "2022-01-07T17:57:44.055Z"
   },
   {
    "duration": 27,
    "start_time": "2022-01-07T17:57:44.064Z"
   },
   {
    "duration": 666,
    "start_time": "2022-01-07T17:57:44.094Z"
   },
   {
    "duration": 7,
    "start_time": "2022-01-07T17:57:44.768Z"
   },
   {
    "duration": 68,
    "start_time": "2022-01-07T17:57:44.778Z"
   },
   {
    "duration": 12,
    "start_time": "2022-01-07T17:57:44.848Z"
   },
   {
    "duration": 13,
    "start_time": "2022-01-07T17:57:44.862Z"
   },
   {
    "duration": 557,
    "start_time": "2022-01-07T17:57:44.878Z"
   },
   {
    "duration": 14,
    "start_time": "2022-01-07T17:57:45.437Z"
   },
   {
    "duration": 8,
    "start_time": "2022-01-07T17:57:45.454Z"
   },
   {
    "duration": 3028,
    "start_time": "2022-01-07T17:57:45.465Z"
   },
   {
    "duration": 28,
    "start_time": "2022-01-07T17:57:48.495Z"
   },
   {
    "duration": 12,
    "start_time": "2022-01-07T17:57:48.525Z"
   },
   {
    "duration": 440,
    "start_time": "2022-01-07T17:57:48.540Z"
   },
   {
    "duration": 13,
    "start_time": "2022-01-07T17:57:48.982Z"
   },
   {
    "duration": 27,
    "start_time": "2022-01-07T17:57:48.997Z"
   },
   {
    "duration": 340,
    "start_time": "2022-01-07T17:57:49.027Z"
   },
   {
    "duration": 14,
    "start_time": "2022-01-07T17:57:49.370Z"
   },
   {
    "duration": 9,
    "start_time": "2022-01-07T17:57:49.386Z"
   },
   {
    "duration": 495,
    "start_time": "2022-01-07T17:57:49.397Z"
   },
   {
    "duration": 27,
    "start_time": "2022-01-07T17:57:49.895Z"
   },
   {
    "duration": 45,
    "start_time": "2022-01-07T17:57:49.924Z"
   },
   {
    "duration": 126,
    "start_time": "2022-01-07T17:57:49.972Z"
   },
   {
    "duration": 25,
    "start_time": "2022-01-07T17:57:50.101Z"
   },
   {
    "duration": 511,
    "start_time": "2022-01-07T17:57:50.128Z"
   },
   {
    "duration": 434,
    "start_time": "2022-01-07T17:57:50.641Z"
   },
   {
    "duration": 746,
    "start_time": "2022-01-07T17:57:51.077Z"
   },
   {
    "duration": 15,
    "start_time": "2022-01-07T17:57:51.825Z"
   },
   {
    "duration": 20,
    "start_time": "2022-01-07T17:57:51.843Z"
   },
   {
    "duration": 28,
    "start_time": "2022-01-07T17:57:51.866Z"
   },
   {
    "duration": 32,
    "start_time": "2022-01-07T17:57:51.896Z"
   },
   {
    "duration": 10,
    "start_time": "2022-01-07T17:57:51.930Z"
   },
   {
    "duration": 9,
    "start_time": "2022-01-07T17:57:51.943Z"
   },
   {
    "duration": 13,
    "start_time": "2022-01-07T17:57:51.954Z"
   },
   {
    "duration": 316,
    "start_time": "2022-01-07T17:57:51.969Z"
   },
   {
    "duration": 19,
    "start_time": "2022-01-07T17:57:52.269Z"
   },
   {
    "duration": 16,
    "start_time": "2022-01-07T17:57:52.274Z"
   },
   {
    "duration": 12,
    "start_time": "2022-01-07T17:57:52.279Z"
   },
   {
    "duration": 9,
    "start_time": "2022-01-07T17:57:52.284Z"
   },
   {
    "duration": 5,
    "start_time": "2022-01-07T17:57:52.289Z"
   },
   {
    "duration": 3,
    "start_time": "2022-01-07T17:57:52.292Z"
   },
   {
    "duration": -6,
    "start_time": "2022-01-07T17:57:52.303Z"
   },
   {
    "duration": -9,
    "start_time": "2022-01-07T17:57:52.307Z"
   },
   {
    "duration": -12,
    "start_time": "2022-01-07T17:57:52.312Z"
   },
   {
    "duration": 289,
    "start_time": "2022-01-07T18:01:35.137Z"
   },
   {
    "duration": 284,
    "start_time": "2022-01-07T18:01:46.592Z"
   },
   {
    "duration": 314,
    "start_time": "2022-01-07T18:02:00.460Z"
   },
   {
    "duration": 289,
    "start_time": "2022-01-07T18:54:53.624Z"
   },
   {
    "duration": 820,
    "start_time": "2022-01-07T19:40:15.357Z"
   },
   {
    "duration": 850,
    "start_time": "2022-01-07T19:40:25.807Z"
   },
   {
    "duration": 811,
    "start_time": "2022-01-07T19:42:27.484Z"
   },
   {
    "duration": 763,
    "start_time": "2022-01-07T19:42:46.292Z"
   },
   {
    "duration": 107,
    "start_time": "2022-01-07T19:48:55.828Z"
   },
   {
    "duration": 448,
    "start_time": "2022-01-07T19:49:00.490Z"
   },
   {
    "duration": 478,
    "start_time": "2022-01-07T19:56:29.766Z"
   },
   {
    "duration": 813,
    "start_time": "2022-01-07T20:22:18.876Z"
   },
   {
    "duration": 296,
    "start_time": "2022-01-07T20:22:39.720Z"
   },
   {
    "duration": 358,
    "start_time": "2022-01-07T20:23:25.383Z"
   },
   {
    "duration": 342,
    "start_time": "2022-01-07T20:23:30.712Z"
   },
   {
    "duration": 256,
    "start_time": "2022-01-07T20:23:38.033Z"
   },
   {
    "duration": 318,
    "start_time": "2022-01-07T20:26:25.123Z"
   },
   {
    "duration": 616,
    "start_time": "2022-01-07T20:26:49.172Z"
   },
   {
    "duration": 478,
    "start_time": "2022-01-07T20:28:48.795Z"
   },
   {
    "duration": 710,
    "start_time": "2022-01-07T20:29:17.472Z"
   },
   {
    "duration": 251,
    "start_time": "2022-01-07T20:34:14.960Z"
   },
   {
    "duration": 740,
    "start_time": "2022-01-07T20:34:28.093Z"
   },
   {
    "duration": 323,
    "start_time": "2022-01-07T20:34:33.610Z"
   },
   {
    "duration": 812,
    "start_time": "2022-01-07T20:52:16.414Z"
   },
   {
    "duration": 267,
    "start_time": "2022-01-07T20:52:28.408Z"
   },
   {
    "duration": 234,
    "start_time": "2022-01-07T20:53:01.813Z"
   },
   {
    "duration": 215,
    "start_time": "2022-01-07T20:53:11.523Z"
   },
   {
    "duration": 120,
    "start_time": "2022-01-07T20:53:20.388Z"
   },
   {
    "duration": 9,
    "start_time": "2022-01-07T20:53:23.525Z"
   },
   {
    "duration": 370,
    "start_time": "2022-01-07T20:54:11.695Z"
   },
   {
    "duration": 231,
    "start_time": "2022-01-07T20:54:16.092Z"
   },
   {
    "duration": 248,
    "start_time": "2022-01-07T20:54:27.428Z"
   },
   {
    "duration": 592,
    "start_time": "2022-01-07T20:54:58.772Z"
   },
   {
    "duration": 373,
    "start_time": "2022-01-07T20:55:06.512Z"
   },
   {
    "duration": 336,
    "start_time": "2022-01-07T20:55:13.260Z"
   },
   {
    "duration": 373,
    "start_time": "2022-01-07T20:55:27.431Z"
   },
   {
    "duration": 264,
    "start_time": "2022-01-07T20:55:37.075Z"
   },
   {
    "duration": 311,
    "start_time": "2022-01-07T20:56:24.088Z"
   },
   {
    "duration": 318,
    "start_time": "2022-01-07T20:56:47.214Z"
   },
   {
    "duration": 6,
    "start_time": "2022-01-07T21:00:21.181Z"
   },
   {
    "duration": 10,
    "start_time": "2022-01-07T21:00:34.995Z"
   },
   {
    "duration": 6,
    "start_time": "2022-01-07T21:02:02.379Z"
   },
   {
    "duration": 11,
    "start_time": "2022-01-07T21:02:02.835Z"
   },
   {
    "duration": 5,
    "start_time": "2022-01-07T21:02:08.639Z"
   },
   {
    "duration": 10,
    "start_time": "2022-01-07T21:02:08.907Z"
   },
   {
    "duration": 334,
    "start_time": "2022-01-07T21:03:20.924Z"
   },
   {
    "duration": 6378,
    "start_time": "2022-01-07T21:03:39.336Z"
   },
   {
    "duration": 1596,
    "start_time": "2022-01-07T21:03:45.717Z"
   },
   {
    "duration": 8,
    "start_time": "2022-01-07T21:03:47.316Z"
   },
   {
    "duration": 6,
    "start_time": "2022-01-07T21:03:47.326Z"
   },
   {
    "duration": 7,
    "start_time": "2022-01-07T21:03:47.334Z"
   },
   {
    "duration": 114,
    "start_time": "2022-01-07T21:03:47.344Z"
   },
   {
    "duration": 36,
    "start_time": "2022-01-07T21:03:47.460Z"
   },
   {
    "duration": 49,
    "start_time": "2022-01-07T21:03:47.500Z"
   },
   {
    "duration": 21,
    "start_time": "2022-01-07T21:03:47.552Z"
   },
   {
    "duration": 127,
    "start_time": "2022-01-07T21:03:47.576Z"
   },
   {
    "duration": 38,
    "start_time": "2022-01-07T21:03:47.706Z"
   },
   {
    "duration": 5,
    "start_time": "2022-01-07T21:03:47.746Z"
   },
   {
    "duration": 7,
    "start_time": "2022-01-07T21:03:47.753Z"
   },
   {
    "duration": 10,
    "start_time": "2022-01-07T21:03:47.763Z"
   },
   {
    "duration": 735,
    "start_time": "2022-01-07T21:03:47.776Z"
   },
   {
    "duration": 15,
    "start_time": "2022-01-07T21:03:48.514Z"
   },
   {
    "duration": 9,
    "start_time": "2022-01-07T21:03:48.532Z"
   },
   {
    "duration": 19,
    "start_time": "2022-01-07T21:03:48.544Z"
   },
   {
    "duration": 64,
    "start_time": "2022-01-07T21:03:48.565Z"
   },
   {
    "duration": 8,
    "start_time": "2022-01-07T21:03:48.632Z"
   },
   {
    "duration": 29,
    "start_time": "2022-01-07T21:03:48.642Z"
   },
   {
    "duration": 733,
    "start_time": "2022-01-07T21:03:48.674Z"
   },
   {
    "duration": 12,
    "start_time": "2022-01-07T21:03:49.413Z"
   },
   {
    "duration": 50,
    "start_time": "2022-01-07T21:03:49.429Z"
   },
   {
    "duration": 9,
    "start_time": "2022-01-07T21:03:49.482Z"
   },
   {
    "duration": 38,
    "start_time": "2022-01-07T21:03:49.493Z"
   },
   {
    "duration": 657,
    "start_time": "2022-01-07T21:03:49.533Z"
   },
   {
    "duration": 14,
    "start_time": "2022-01-07T21:03:50.192Z"
   },
   {
    "duration": 22,
    "start_time": "2022-01-07T21:03:50.208Z"
   },
   {
    "duration": 3196,
    "start_time": "2022-01-07T21:03:50.232Z"
   },
   {
    "duration": 14,
    "start_time": "2022-01-07T21:03:53.430Z"
   },
   {
    "duration": 12,
    "start_time": "2022-01-07T21:03:53.446Z"
   },
   {
    "duration": 566,
    "start_time": "2022-01-07T21:03:53.460Z"
   },
   {
    "duration": 14,
    "start_time": "2022-01-07T21:03:54.029Z"
   },
   {
    "duration": 11,
    "start_time": "2022-01-07T21:03:54.045Z"
   },
   {
    "duration": 289,
    "start_time": "2022-01-07T21:03:54.059Z"
   },
   {
    "duration": 719,
    "start_time": "2022-01-07T21:03:54.350Z"
   },
   {
    "duration": 26,
    "start_time": "2022-01-07T21:03:55.046Z"
   },
   {
    "duration": 23,
    "start_time": "2022-01-07T21:03:55.051Z"
   },
   {
    "duration": 19,
    "start_time": "2022-01-07T21:03:55.056Z"
   },
   {
    "duration": 17,
    "start_time": "2022-01-07T21:03:55.060Z"
   },
   {
    "duration": 13,
    "start_time": "2022-01-07T21:03:55.065Z"
   },
   {
    "duration": 4,
    "start_time": "2022-01-07T21:03:55.076Z"
   },
   {
    "duration": 1,
    "start_time": "2022-01-07T21:03:55.081Z"
   },
   {
    "duration": -3,
    "start_time": "2022-01-07T21:03:55.086Z"
   },
   {
    "duration": -6,
    "start_time": "2022-01-07T21:03:55.090Z"
   },
   {
    "duration": -11,
    "start_time": "2022-01-07T21:03:55.097Z"
   },
   {
    "duration": -13,
    "start_time": "2022-01-07T21:03:55.101Z"
   },
   {
    "duration": -16,
    "start_time": "2022-01-07T21:03:55.105Z"
   },
   {
    "duration": -19,
    "start_time": "2022-01-07T21:03:55.109Z"
   },
   {
    "duration": 11,
    "start_time": "2022-01-07T21:03:55.113Z"
   },
   {
    "duration": 9,
    "start_time": "2022-01-07T21:03:55.117Z"
   },
   {
    "duration": -1,
    "start_time": "2022-01-07T21:03:55.129Z"
   },
   {
    "duration": -3,
    "start_time": "2022-01-07T21:03:55.134Z"
   },
   {
    "duration": -5,
    "start_time": "2022-01-07T21:03:55.138Z"
   },
   {
    "duration": -7,
    "start_time": "2022-01-07T21:03:55.142Z"
   },
   {
    "duration": -8,
    "start_time": "2022-01-07T21:03:55.146Z"
   },
   {
    "duration": -11,
    "start_time": "2022-01-07T21:03:55.151Z"
   },
   {
    "duration": -13,
    "start_time": "2022-01-07T21:03:55.155Z"
   },
   {
    "duration": -14,
    "start_time": "2022-01-07T21:03:55.159Z"
   },
   {
    "duration": -15,
    "start_time": "2022-01-07T21:03:55.162Z"
   },
   {
    "duration": -18,
    "start_time": "2022-01-07T21:03:55.167Z"
   },
   {
    "duration": -36,
    "start_time": "2022-01-07T21:03:55.188Z"
   },
   {
    "duration": -38,
    "start_time": "2022-01-07T21:03:55.192Z"
   },
   {
    "duration": -40,
    "start_time": "2022-01-07T21:03:55.196Z"
   },
   {
    "duration": 299,
    "start_time": "2022-01-07T21:04:17.998Z"
   },
   {
    "duration": 32,
    "start_time": "2022-01-07T21:04:18.300Z"
   },
   {
    "duration": 10,
    "start_time": "2022-01-07T21:04:18.335Z"
   },
   {
    "duration": 507,
    "start_time": "2022-01-07T21:04:18.348Z"
   },
   {
    "duration": 7,
    "start_time": "2022-01-07T21:04:18.858Z"
   },
   {
    "duration": 71,
    "start_time": "2022-01-07T21:04:18.867Z"
   },
   {
    "duration": 121,
    "start_time": "2022-01-07T21:04:18.940Z"
   },
   {
    "duration": 14,
    "start_time": "2022-01-07T21:04:19.065Z"
   },
   {
    "duration": 531,
    "start_time": "2022-01-07T21:04:19.082Z"
   },
   {
    "duration": 570,
    "start_time": "2022-01-07T21:04:19.623Z"
   },
   {
    "duration": 789,
    "start_time": "2022-01-07T21:04:20.196Z"
   },
   {
    "duration": 18,
    "start_time": "2022-01-07T21:04:20.987Z"
   },
   {
    "duration": 11,
    "start_time": "2022-01-07T21:04:21.023Z"
   },
   {
    "duration": 27,
    "start_time": "2022-01-07T21:04:21.037Z"
   },
   {
    "duration": 10,
    "start_time": "2022-01-07T21:04:21.067Z"
   },
   {
    "duration": 44,
    "start_time": "2022-01-07T21:04:21.079Z"
   },
   {
    "duration": 6,
    "start_time": "2022-01-07T21:04:21.126Z"
   },
   {
    "duration": 8,
    "start_time": "2022-01-07T21:04:21.135Z"
   },
   {
    "duration": 10,
    "start_time": "2022-01-07T21:04:21.145Z"
   },
   {
    "duration": 355,
    "start_time": "2022-01-07T21:04:21.158Z"
   },
   {
    "duration": 19,
    "start_time": "2022-01-07T21:04:21.515Z"
   },
   {
    "duration": 18,
    "start_time": "2022-01-07T21:04:21.537Z"
   },
   {
    "duration": 15,
    "start_time": "2022-01-07T21:04:21.560Z"
   },
   {
    "duration": 53,
    "start_time": "2022-01-07T21:04:21.577Z"
   },
   {
    "duration": 17,
    "start_time": "2022-01-07T21:04:21.633Z"
   },
   {
    "duration": 241,
    "start_time": "2022-01-07T21:04:21.652Z"
   },
   {
    "duration": 4,
    "start_time": "2022-01-07T21:04:21.895Z"
   },
   {
    "duration": 1484,
    "start_time": "2022-01-07T21:04:21.903Z"
   },
   {
    "duration": 1245,
    "start_time": "2022-01-07T21:04:23.390Z"
   },
   {
    "duration": 1276,
    "start_time": "2022-01-07T21:06:56.235Z"
   },
   {
    "duration": 153494,
    "start_time": "2022-01-07T21:09:33.905Z"
   },
   {
    "duration": 22852,
    "start_time": "2022-01-07T21:12:29.871Z"
   },
   {
    "duration": 5991,
    "start_time": "2022-01-07T21:13:48.897Z"
   },
   {
    "duration": 1569,
    "start_time": "2022-01-07T21:13:54.891Z"
   },
   {
    "duration": 4,
    "start_time": "2022-01-07T21:13:56.467Z"
   },
   {
    "duration": 6,
    "start_time": "2022-01-07T21:13:56.473Z"
   },
   {
    "duration": 7,
    "start_time": "2022-01-07T21:13:56.482Z"
   },
   {
    "duration": 116,
    "start_time": "2022-01-07T21:13:56.491Z"
   },
   {
    "duration": 44,
    "start_time": "2022-01-07T21:13:56.609Z"
   },
   {
    "duration": 29,
    "start_time": "2022-01-07T21:13:56.656Z"
   },
   {
    "duration": 39,
    "start_time": "2022-01-07T21:13:56.688Z"
   },
   {
    "duration": 108,
    "start_time": "2022-01-07T21:13:56.730Z"
   },
   {
    "duration": 30,
    "start_time": "2022-01-07T21:13:56.840Z"
   },
   {
    "duration": 5,
    "start_time": "2022-01-07T21:13:56.872Z"
   },
   {
    "duration": 10,
    "start_time": "2022-01-07T21:13:56.879Z"
   },
   {
    "duration": 31,
    "start_time": "2022-01-07T21:13:56.892Z"
   },
   {
    "duration": 652,
    "start_time": "2022-01-07T21:13:56.926Z"
   },
   {
    "duration": 9,
    "start_time": "2022-01-07T21:13:57.580Z"
   },
   {
    "duration": 10,
    "start_time": "2022-01-07T21:13:57.592Z"
   },
   {
    "duration": 32,
    "start_time": "2022-01-07T21:13:57.604Z"
   },
   {
    "duration": 27,
    "start_time": "2022-01-07T21:13:57.638Z"
   },
   {
    "duration": 7,
    "start_time": "2022-01-07T21:13:57.667Z"
   },
   {
    "duration": 56,
    "start_time": "2022-01-07T21:13:57.676Z"
   },
   {
    "duration": 813,
    "start_time": "2022-01-07T21:13:57.735Z"
   },
   {
    "duration": 6,
    "start_time": "2022-01-07T21:13:58.551Z"
   },
   {
    "duration": 45,
    "start_time": "2022-01-07T21:13:58.560Z"
   },
   {
    "duration": 16,
    "start_time": "2022-01-07T21:13:58.607Z"
   },
   {
    "duration": 14,
    "start_time": "2022-01-07T21:13:58.631Z"
   },
   {
    "duration": 570,
    "start_time": "2022-01-07T21:13:58.648Z"
   },
   {
    "duration": 14,
    "start_time": "2022-01-07T21:13:59.223Z"
   },
   {
    "duration": 9,
    "start_time": "2022-01-07T21:13:59.240Z"
   },
   {
    "duration": 3312,
    "start_time": "2022-01-07T21:13:59.251Z"
   },
   {
    "duration": 15,
    "start_time": "2022-01-07T21:14:02.566Z"
   },
   {
    "duration": 13,
    "start_time": "2022-01-07T21:14:02.583Z"
   },
   {
    "duration": 432,
    "start_time": "2022-01-07T21:14:02.622Z"
   },
   {
    "duration": 13,
    "start_time": "2022-01-07T21:14:03.056Z"
   },
   {
    "duration": 10,
    "start_time": "2022-01-07T21:14:03.071Z"
   },
   {
    "duration": 281,
    "start_time": "2022-01-07T21:14:03.083Z"
   },
   {
    "duration": 15,
    "start_time": "2022-01-07T21:14:03.367Z"
   },
   {
    "duration": 11,
    "start_time": "2022-01-07T21:14:03.384Z"
   },
   {
    "duration": 498,
    "start_time": "2022-01-07T21:14:03.398Z"
   },
   {
    "duration": 7,
    "start_time": "2022-01-07T21:14:03.899Z"
   },
   {
    "duration": 42,
    "start_time": "2022-01-07T21:14:03.924Z"
   },
   {
    "duration": 134,
    "start_time": "2022-01-07T21:14:03.968Z"
   },
   {
    "duration": 23,
    "start_time": "2022-01-07T21:14:04.104Z"
   },
   {
    "duration": 568,
    "start_time": "2022-01-07T21:14:04.129Z"
   },
   {
    "duration": 447,
    "start_time": "2022-01-07T21:14:04.700Z"
   },
   {
    "duration": 869,
    "start_time": "2022-01-07T21:14:05.150Z"
   },
   {
    "duration": 19,
    "start_time": "2022-01-07T21:14:06.023Z"
   },
   {
    "duration": 10,
    "start_time": "2022-01-07T21:14:06.044Z"
   },
   {
    "duration": 22,
    "start_time": "2022-01-07T21:14:06.056Z"
   },
   {
    "duration": 47,
    "start_time": "2022-01-07T21:14:06.081Z"
   },
   {
    "duration": 11,
    "start_time": "2022-01-07T21:14:06.130Z"
   },
   {
    "duration": 6,
    "start_time": "2022-01-07T21:14:06.144Z"
   },
   {
    "duration": 12,
    "start_time": "2022-01-07T21:14:06.152Z"
   },
   {
    "duration": 99,
    "start_time": "2022-01-07T21:14:06.166Z"
   },
   {
    "duration": 51,
    "start_time": "2022-01-07T21:14:06.216Z"
   },
   {
    "duration": 49,
    "start_time": "2022-01-07T21:14:06.220Z"
   },
   {
    "duration": 32,
    "start_time": "2022-01-07T21:14:06.238Z"
   },
   {
    "duration": 29,
    "start_time": "2022-01-07T21:14:06.242Z"
   },
   {
    "duration": 26,
    "start_time": "2022-01-07T21:14:06.246Z"
   },
   {
    "duration": 23,
    "start_time": "2022-01-07T21:14:06.250Z"
   },
   {
    "duration": 21,
    "start_time": "2022-01-07T21:14:06.254Z"
   },
   {
    "duration": 18,
    "start_time": "2022-01-07T21:14:06.258Z"
   },
   {
    "duration": 15,
    "start_time": "2022-01-07T21:14:06.262Z"
   },
   {
    "duration": 14,
    "start_time": "2022-01-07T21:14:06.265Z"
   },
   {
    "duration": 326,
    "start_time": "2022-01-07T21:14:15.229Z"
   },
   {
    "duration": 16,
    "start_time": "2022-01-07T21:14:21.233Z"
   },
   {
    "duration": 19,
    "start_time": "2022-01-07T21:14:21.251Z"
   },
   {
    "duration": 52,
    "start_time": "2022-01-07T21:14:21.273Z"
   },
   {
    "duration": 19,
    "start_time": "2022-01-07T21:14:21.328Z"
   },
   {
    "duration": 17,
    "start_time": "2022-01-07T21:14:21.350Z"
   },
   {
    "duration": 97,
    "start_time": "2022-01-07T21:14:21.370Z"
   },
   {
    "duration": 5,
    "start_time": "2022-01-07T21:14:21.471Z"
   },
   {
    "duration": 59,
    "start_time": "2022-01-07T21:14:49.113Z"
   },
   {
    "duration": 56,
    "start_time": "2022-01-07T21:14:49.118Z"
   },
   {
    "duration": 56,
    "start_time": "2022-01-07T21:14:49.122Z"
   },
   {
    "duration": 55836,
    "start_time": "2022-01-07T21:14:57.175Z"
   },
   {
    "duration": 39,
    "start_time": "2022-01-07T21:15:52.977Z"
   },
   {
    "duration": 8,
    "start_time": "2022-01-07T21:15:55.790Z"
   },
   {
    "duration": 8,
    "start_time": "2022-01-07T21:16:04.892Z"
   },
   {
    "duration": 362,
    "start_time": "2022-01-07T21:16:11.156Z"
   },
   {
    "duration": 1420,
    "start_time": "2022-01-07T21:16:24.985Z"
   },
   {
    "duration": 72,
    "start_time": "2022-01-07T21:20:33.552Z"
   },
   {
    "duration": 770,
    "start_time": "2022-01-07T21:20:37.374Z"
   },
   {
    "duration": 791,
    "start_time": "2022-01-07T21:20:49.887Z"
   },
   {
    "duration": 814,
    "start_time": "2022-01-07T21:21:11.496Z"
   },
   {
    "duration": 818,
    "start_time": "2022-01-07T21:21:20.291Z"
   },
   {
    "duration": 3267,
    "start_time": "2022-01-07T21:22:43.449Z"
   },
   {
    "duration": 37957,
    "start_time": "2022-01-07T21:23:45.683Z"
   },
   {
    "duration": 634,
    "start_time": "2022-01-07T21:25:04.854Z"
   },
   {
    "duration": 837,
    "start_time": "2022-01-07T21:25:12.698Z"
   },
   {
    "duration": 681,
    "start_time": "2022-01-07T21:25:21.349Z"
   },
   {
    "duration": 654,
    "start_time": "2022-01-07T21:25:43.324Z"
   },
   {
    "duration": 648,
    "start_time": "2022-01-07T21:26:38.735Z"
   },
   {
    "duration": 636,
    "start_time": "2022-01-07T21:28:39.887Z"
   },
   {
    "duration": 8,
    "start_time": "2022-01-07T21:28:44.637Z"
   },
   {
    "duration": 666,
    "start_time": "2022-01-07T21:29:07.887Z"
   },
   {
    "duration": 671,
    "start_time": "2022-01-07T21:29:08.556Z"
   },
   {
    "duration": 645,
    "start_time": "2022-01-07T21:29:57.193Z"
   },
   {
    "duration": 643,
    "start_time": "2022-01-07T21:30:55.029Z"
   },
   {
    "duration": 670,
    "start_time": "2022-01-07T21:31:02.731Z"
   },
   {
    "duration": 384,
    "start_time": "2022-01-07T21:38:31.884Z"
   },
   {
    "duration": 386,
    "start_time": "2022-01-07T21:38:32.270Z"
   },
   {
    "duration": 390,
    "start_time": "2022-01-07T21:39:00.118Z"
   },
   {
    "duration": 383,
    "start_time": "2022-01-07T21:39:02.162Z"
   },
   {
    "duration": 391,
    "start_time": "2022-01-07T21:39:10.473Z"
   },
   {
    "duration": 379,
    "start_time": "2022-01-07T21:39:16.635Z"
   },
   {
    "duration": 367,
    "start_time": "2022-01-07T21:42:02.374Z"
   },
   {
    "duration": 366,
    "start_time": "2022-01-07T21:45:07.812Z"
   },
   {
    "duration": 5774,
    "start_time": "2022-01-07T21:48:40.644Z"
   },
   {
    "duration": 1517,
    "start_time": "2022-01-07T21:48:46.421Z"
   },
   {
    "duration": 4,
    "start_time": "2022-01-07T21:48:47.941Z"
   },
   {
    "duration": 7,
    "start_time": "2022-01-07T21:48:47.947Z"
   },
   {
    "duration": 7,
    "start_time": "2022-01-07T21:48:47.956Z"
   },
   {
    "duration": 112,
    "start_time": "2022-01-07T21:48:47.965Z"
   },
   {
    "duration": 43,
    "start_time": "2022-01-07T21:48:48.080Z"
   },
   {
    "duration": 31,
    "start_time": "2022-01-07T21:48:48.126Z"
   },
   {
    "duration": 25,
    "start_time": "2022-01-07T21:48:48.159Z"
   },
   {
    "duration": 123,
    "start_time": "2022-01-07T21:48:48.187Z"
   },
   {
    "duration": 38,
    "start_time": "2022-01-07T21:48:48.313Z"
   },
   {
    "duration": 5,
    "start_time": "2022-01-07T21:48:48.354Z"
   },
   {
    "duration": 6,
    "start_time": "2022-01-07T21:48:48.362Z"
   },
   {
    "duration": 14,
    "start_time": "2022-01-07T21:48:48.370Z"
   },
   {
    "duration": 661,
    "start_time": "2022-01-07T21:48:48.386Z"
   },
   {
    "duration": 9,
    "start_time": "2022-01-07T21:48:49.049Z"
   },
   {
    "duration": 10,
    "start_time": "2022-01-07T21:48:49.060Z"
   },
   {
    "duration": 14,
    "start_time": "2022-01-07T21:48:49.073Z"
   },
   {
    "duration": 53,
    "start_time": "2022-01-07T21:48:49.089Z"
   },
   {
    "duration": 7,
    "start_time": "2022-01-07T21:48:49.144Z"
   },
   {
    "duration": 27,
    "start_time": "2022-01-07T21:48:49.153Z"
   },
   {
    "duration": 698,
    "start_time": "2022-01-07T21:48:49.187Z"
   },
   {
    "duration": 7,
    "start_time": "2022-01-07T21:48:49.889Z"
   },
   {
    "duration": 59,
    "start_time": "2022-01-07T21:48:49.899Z"
   },
   {
    "duration": 8,
    "start_time": "2022-01-07T21:48:49.960Z"
   },
   {
    "duration": 15,
    "start_time": "2022-01-07T21:48:49.971Z"
   },
   {
    "duration": 534,
    "start_time": "2022-01-07T21:48:49.989Z"
   },
   {
    "duration": 14,
    "start_time": "2022-01-07T21:48:50.526Z"
   },
   {
    "duration": 9,
    "start_time": "2022-01-07T21:48:50.542Z"
   },
   {
    "duration": 2844,
    "start_time": "2022-01-07T21:48:50.554Z"
   },
   {
    "duration": 27,
    "start_time": "2022-01-07T21:48:53.401Z"
   },
   {
    "duration": 13,
    "start_time": "2022-01-07T21:48:53.431Z"
   },
   {
    "duration": 441,
    "start_time": "2022-01-07T21:48:53.448Z"
   },
   {
    "duration": 14,
    "start_time": "2022-01-07T21:48:53.892Z"
   },
   {
    "duration": 10,
    "start_time": "2022-01-07T21:48:53.923Z"
   },
   {
    "duration": 252,
    "start_time": "2022-01-07T21:48:53.936Z"
   },
   {
    "duration": 14,
    "start_time": "2022-01-07T21:48:54.190Z"
   },
   {
    "duration": 23,
    "start_time": "2022-01-07T21:48:54.207Z"
   },
   {
    "duration": 472,
    "start_time": "2022-01-07T21:48:54.233Z"
   },
   {
    "duration": 18,
    "start_time": "2022-01-07T21:48:54.708Z"
   },
   {
    "duration": 42,
    "start_time": "2022-01-07T21:48:54.729Z"
   },
   {
    "duration": 123,
    "start_time": "2022-01-07T21:48:54.773Z"
   },
   {
    "duration": 24,
    "start_time": "2022-01-07T21:48:54.899Z"
   },
   {
    "duration": 461,
    "start_time": "2022-01-07T21:48:54.925Z"
   },
   {
    "duration": 438,
    "start_time": "2022-01-07T21:48:55.389Z"
   },
   {
    "duration": 743,
    "start_time": "2022-01-07T21:48:55.829Z"
   },
   {
    "duration": 20,
    "start_time": "2022-01-07T21:48:56.575Z"
   },
   {
    "duration": 33,
    "start_time": "2022-01-07T21:48:56.598Z"
   },
   {
    "duration": 25,
    "start_time": "2022-01-07T21:48:56.634Z"
   },
   {
    "duration": 11,
    "start_time": "2022-01-07T21:48:56.662Z"
   },
   {
    "duration": 51,
    "start_time": "2022-01-07T21:48:56.676Z"
   },
   {
    "duration": 8,
    "start_time": "2022-01-07T21:48:56.730Z"
   },
   {
    "duration": 11,
    "start_time": "2022-01-07T21:48:56.740Z"
   },
   {
    "duration": 352,
    "start_time": "2022-01-07T21:48:56.753Z"
   },
   {
    "duration": 22,
    "start_time": "2022-01-07T21:48:57.107Z"
   },
   {
    "duration": 17,
    "start_time": "2022-01-07T21:48:57.131Z"
   },
   {
    "duration": 16,
    "start_time": "2022-01-07T21:48:57.151Z"
   },
   {
    "duration": 54,
    "start_time": "2022-01-07T21:48:57.169Z"
   },
   {
    "duration": 18,
    "start_time": "2022-01-07T21:48:57.226Z"
   },
   {
    "duration": 82,
    "start_time": "2022-01-07T21:48:57.246Z"
   },
   {
    "duration": 4,
    "start_time": "2022-01-07T21:48:57.331Z"
   },
   {
    "duration": 12,
    "start_time": "2022-01-07T21:48:57.337Z"
   },
   {
    "duration": 653,
    "start_time": "2022-01-07T21:48:57.351Z"
   },
   {
    "duration": 831,
    "start_time": "2022-01-07T21:48:58.006Z"
   },
   {
    "duration": 376,
    "start_time": "2022-01-07T21:48:58.839Z"
   },
   {
    "duration": 394,
    "start_time": "2022-01-07T21:48:59.222Z"
   }
  ],
  "kernelspec": {
   "display_name": "Python 3",
   "language": "python",
   "name": "python3"
  },
  "language_info": {
   "codemirror_mode": {
    "name": "ipython",
    "version": 3
   },
   "file_extension": ".py",
   "mimetype": "text/x-python",
   "name": "python",
   "nbconvert_exporter": "python",
   "pygments_lexer": "ipython3",
   "version": "3.10.1"
  },
  "toc": {
   "base_numbering": 1,
   "nav_menu": {},
   "number_sections": false,
   "sideBar": true,
   "skip_h1_title": false,
   "title_cell": "Содержание",
   "title_sidebar": "Contents",
   "toc_cell": false,
   "toc_position": {
    "height": "612px",
    "left": "251px",
    "top": "204.125px",
    "width": "165px"
   },
   "toc_section_display": true,
   "toc_window_display": false
  }
 },
 "nbformat": 4,
 "nbformat_minor": 2
}
