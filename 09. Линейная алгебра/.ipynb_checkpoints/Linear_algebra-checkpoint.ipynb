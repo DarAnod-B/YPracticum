{
 "cells": [
  {
   "cell_type": "markdown",
   "metadata": {},
   "source": [
    "# <span style=\"color: crimson\">Защита персональных данных клиентов</span>\n",
    "---\n",
    "**<span style=\"color: crimson\">Заказчик</span>**:  страховая компания «Хоть потоп».  \n",
    "**<span style=\"color: crimson\">Цель анализа</span>**: разработать метод преобразования данных, чтобы по ним было сложно восстановить персональную информацию, нужно защитить данные, чтобы при преобразовании качество моделей машинного обучения не ухудшилось.    \n",
    "**<span style=\"color: crimson\">Датасет</span>**: данные о клиентах.\n",
    "\n",
    "\n",
    "---"
   ]
  },
  {
   "cell_type": "markdown",
   "metadata": {},
   "source": [
    "## Импорт библиотек:"
   ]
  },
  {
   "cell_type": "code",
   "execution_count": 1,
   "metadata": {},
   "outputs": [],
   "source": [
    "import pandas as pd\n",
    "import matplotlib.pyplot as plt\n",
    "import seaborn as sns\n",
    "import statsmodels.api as sm\n",
    "import pylab as py\n",
    "\n",
    "from sklearn.model_selection import train_test_split\n",
    "from sklearn.linear_model import LinearRegression\n",
    "from sklearn.metrics import r2_score\n",
    "\n",
    "import numpy as np"
   ]
  },
  {
   "cell_type": "markdown",
   "metadata": {},
   "source": [
    "## <span style=\"color: crimson\">Этап 1</span> Изучение данных"
   ]
  },
  {
   "cell_type": "code",
   "execution_count": 2,
   "metadata": {},
   "outputs": [],
   "source": [
    "df = pd.read_csv('/datasets/insurance.csv')"
   ]
  },
  {
   "cell_type": "code",
   "execution_count": 3,
   "metadata": {},
   "outputs": [
    {
     "data": {
      "text/html": [
       "<div>\n",
       "<style scoped>\n",
       "    .dataframe tbody tr th:only-of-type {\n",
       "        vertical-align: middle;\n",
       "    }\n",
       "\n",
       "    .dataframe tbody tr th {\n",
       "        vertical-align: top;\n",
       "    }\n",
       "\n",
       "    .dataframe thead th {\n",
       "        text-align: right;\n",
       "    }\n",
       "</style>\n",
       "<table border=\"1\" class=\"dataframe\">\n",
       "  <thead>\n",
       "    <tr style=\"text-align: right;\">\n",
       "      <th></th>\n",
       "      <th>Пол</th>\n",
       "      <th>Возраст</th>\n",
       "      <th>Зарплата</th>\n",
       "      <th>Члены семьи</th>\n",
       "      <th>Страховые выплаты</th>\n",
       "    </tr>\n",
       "  </thead>\n",
       "  <tbody>\n",
       "    <tr>\n",
       "      <td>0</td>\n",
       "      <td>1</td>\n",
       "      <td>41.0</td>\n",
       "      <td>49600.0</td>\n",
       "      <td>1</td>\n",
       "      <td>0</td>\n",
       "    </tr>\n",
       "    <tr>\n",
       "      <td>1</td>\n",
       "      <td>0</td>\n",
       "      <td>46.0</td>\n",
       "      <td>38000.0</td>\n",
       "      <td>1</td>\n",
       "      <td>1</td>\n",
       "    </tr>\n",
       "    <tr>\n",
       "      <td>2</td>\n",
       "      <td>0</td>\n",
       "      <td>29.0</td>\n",
       "      <td>21000.0</td>\n",
       "      <td>0</td>\n",
       "      <td>0</td>\n",
       "    </tr>\n",
       "    <tr>\n",
       "      <td>3</td>\n",
       "      <td>0</td>\n",
       "      <td>21.0</td>\n",
       "      <td>41700.0</td>\n",
       "      <td>2</td>\n",
       "      <td>0</td>\n",
       "    </tr>\n",
       "    <tr>\n",
       "      <td>4</td>\n",
       "      <td>1</td>\n",
       "      <td>28.0</td>\n",
       "      <td>26100.0</td>\n",
       "      <td>0</td>\n",
       "      <td>0</td>\n",
       "    </tr>\n",
       "  </tbody>\n",
       "</table>\n",
       "</div>"
      ],
      "text/plain": [
       "   Пол  Возраст  Зарплата  Члены семьи  Страховые выплаты\n",
       "0    1     41.0   49600.0            1                  0\n",
       "1    0     46.0   38000.0            1                  1\n",
       "2    0     29.0   21000.0            0                  0\n",
       "3    0     21.0   41700.0            2                  0\n",
       "4    1     28.0   26100.0            0                  0"
      ]
     },
     "execution_count": 3,
     "metadata": {},
     "output_type": "execute_result"
    }
   ],
   "source": [
    "df.head()"
   ]
  },
  {
   "cell_type": "code",
   "execution_count": 4,
   "metadata": {},
   "outputs": [
    {
     "data": {
      "text/html": [
       "<div>\n",
       "<style scoped>\n",
       "    .dataframe tbody tr th:only-of-type {\n",
       "        vertical-align: middle;\n",
       "    }\n",
       "\n",
       "    .dataframe tbody tr th {\n",
       "        vertical-align: top;\n",
       "    }\n",
       "\n",
       "    .dataframe thead th {\n",
       "        text-align: right;\n",
       "    }\n",
       "</style>\n",
       "<table border=\"1\" class=\"dataframe\">\n",
       "  <thead>\n",
       "    <tr style=\"text-align: right;\">\n",
       "      <th></th>\n",
       "      <th>Пол</th>\n",
       "      <th>Возраст</th>\n",
       "      <th>Зарплата</th>\n",
       "      <th>Члены семьи</th>\n",
       "      <th>Страховые выплаты</th>\n",
       "    </tr>\n",
       "  </thead>\n",
       "  <tbody>\n",
       "    <tr>\n",
       "      <td>4995</td>\n",
       "      <td>0</td>\n",
       "      <td>28.0</td>\n",
       "      <td>35700.0</td>\n",
       "      <td>2</td>\n",
       "      <td>0</td>\n",
       "    </tr>\n",
       "    <tr>\n",
       "      <td>4996</td>\n",
       "      <td>0</td>\n",
       "      <td>34.0</td>\n",
       "      <td>52400.0</td>\n",
       "      <td>1</td>\n",
       "      <td>0</td>\n",
       "    </tr>\n",
       "    <tr>\n",
       "      <td>4997</td>\n",
       "      <td>0</td>\n",
       "      <td>20.0</td>\n",
       "      <td>33900.0</td>\n",
       "      <td>2</td>\n",
       "      <td>0</td>\n",
       "    </tr>\n",
       "    <tr>\n",
       "      <td>4998</td>\n",
       "      <td>1</td>\n",
       "      <td>22.0</td>\n",
       "      <td>32700.0</td>\n",
       "      <td>3</td>\n",
       "      <td>0</td>\n",
       "    </tr>\n",
       "    <tr>\n",
       "      <td>4999</td>\n",
       "      <td>1</td>\n",
       "      <td>28.0</td>\n",
       "      <td>40600.0</td>\n",
       "      <td>1</td>\n",
       "      <td>0</td>\n",
       "    </tr>\n",
       "  </tbody>\n",
       "</table>\n",
       "</div>"
      ],
      "text/plain": [
       "      Пол  Возраст  Зарплата  Члены семьи  Страховые выплаты\n",
       "4995    0     28.0   35700.0            2                  0\n",
       "4996    0     34.0   52400.0            1                  0\n",
       "4997    0     20.0   33900.0            2                  0\n",
       "4998    1     22.0   32700.0            3                  0\n",
       "4999    1     28.0   40600.0            1                  0"
      ]
     },
     "execution_count": 4,
     "metadata": {},
     "output_type": "execute_result"
    }
   ],
   "source": [
    "df.tail()"
   ]
  },
  {
   "cell_type": "markdown",
   "metadata": {},
   "source": [
    "---"
   ]
  },
  {
   "cell_type": "code",
   "execution_count": 5,
   "metadata": {},
   "outputs": [
    {
     "data": {
      "text/html": [
       "<div>\n",
       "<style scoped>\n",
       "    .dataframe tbody tr th:only-of-type {\n",
       "        vertical-align: middle;\n",
       "    }\n",
       "\n",
       "    .dataframe tbody tr th {\n",
       "        vertical-align: top;\n",
       "    }\n",
       "\n",
       "    .dataframe thead th {\n",
       "        text-align: right;\n",
       "    }\n",
       "</style>\n",
       "<table border=\"1\" class=\"dataframe\">\n",
       "  <thead>\n",
       "    <tr style=\"text-align: right;\">\n",
       "      <th></th>\n",
       "      <th>Пол</th>\n",
       "      <th>Возраст</th>\n",
       "      <th>Зарплата</th>\n",
       "      <th>Члены семьи</th>\n",
       "      <th>Страховые выплаты</th>\n",
       "    </tr>\n",
       "  </thead>\n",
       "  <tbody>\n",
       "    <tr>\n",
       "      <td>count</td>\n",
       "      <td>5000.000000</td>\n",
       "      <td>5000.000000</td>\n",
       "      <td>5000.000000</td>\n",
       "      <td>5000.000000</td>\n",
       "      <td>5000.000000</td>\n",
       "    </tr>\n",
       "    <tr>\n",
       "      <td>mean</td>\n",
       "      <td>0.499000</td>\n",
       "      <td>30.952800</td>\n",
       "      <td>39916.360000</td>\n",
       "      <td>1.194200</td>\n",
       "      <td>0.148000</td>\n",
       "    </tr>\n",
       "    <tr>\n",
       "      <td>std</td>\n",
       "      <td>0.500049</td>\n",
       "      <td>8.440807</td>\n",
       "      <td>9900.083569</td>\n",
       "      <td>1.091387</td>\n",
       "      <td>0.463183</td>\n",
       "    </tr>\n",
       "    <tr>\n",
       "      <td>min</td>\n",
       "      <td>0.000000</td>\n",
       "      <td>18.000000</td>\n",
       "      <td>5300.000000</td>\n",
       "      <td>0.000000</td>\n",
       "      <td>0.000000</td>\n",
       "    </tr>\n",
       "    <tr>\n",
       "      <td>25%</td>\n",
       "      <td>0.000000</td>\n",
       "      <td>24.000000</td>\n",
       "      <td>33300.000000</td>\n",
       "      <td>0.000000</td>\n",
       "      <td>0.000000</td>\n",
       "    </tr>\n",
       "    <tr>\n",
       "      <td>50%</td>\n",
       "      <td>0.000000</td>\n",
       "      <td>30.000000</td>\n",
       "      <td>40200.000000</td>\n",
       "      <td>1.000000</td>\n",
       "      <td>0.000000</td>\n",
       "    </tr>\n",
       "    <tr>\n",
       "      <td>75%</td>\n",
       "      <td>1.000000</td>\n",
       "      <td>37.000000</td>\n",
       "      <td>46600.000000</td>\n",
       "      <td>2.000000</td>\n",
       "      <td>0.000000</td>\n",
       "    </tr>\n",
       "    <tr>\n",
       "      <td>max</td>\n",
       "      <td>1.000000</td>\n",
       "      <td>65.000000</td>\n",
       "      <td>79000.000000</td>\n",
       "      <td>6.000000</td>\n",
       "      <td>5.000000</td>\n",
       "    </tr>\n",
       "  </tbody>\n",
       "</table>\n",
       "</div>"
      ],
      "text/plain": [
       "               Пол      Возраст      Зарплата  Члены семьи  Страховые выплаты\n",
       "count  5000.000000  5000.000000   5000.000000  5000.000000        5000.000000\n",
       "mean      0.499000    30.952800  39916.360000     1.194200           0.148000\n",
       "std       0.500049     8.440807   9900.083569     1.091387           0.463183\n",
       "min       0.000000    18.000000   5300.000000     0.000000           0.000000\n",
       "25%       0.000000    24.000000  33300.000000     0.000000           0.000000\n",
       "50%       0.000000    30.000000  40200.000000     1.000000           0.000000\n",
       "75%       1.000000    37.000000  46600.000000     2.000000           0.000000\n",
       "max       1.000000    65.000000  79000.000000     6.000000           5.000000"
      ]
     },
     "execution_count": 5,
     "metadata": {},
     "output_type": "execute_result"
    }
   ],
   "source": [
    "df.describe()"
   ]
  },
  {
   "cell_type": "code",
   "execution_count": 6,
   "metadata": {
    "scrolled": true
   },
   "outputs": [
    {
     "name": "stdout",
     "output_type": "stream",
     "text": [
      "<class 'pandas.core.frame.DataFrame'>\n",
      "RangeIndex: 5000 entries, 0 to 4999\n",
      "Data columns (total 5 columns):\n",
      "Пол                  5000 non-null int64\n",
      "Возраст              5000 non-null float64\n",
      "Зарплата             5000 non-null float64\n",
      "Члены семьи          5000 non-null int64\n",
      "Страховые выплаты    5000 non-null int64\n",
      "dtypes: float64(2), int64(3)\n",
      "memory usage: 195.4 KB\n"
     ]
    }
   ],
   "source": [
    "df.info()"
   ]
  },
  {
   "cell_type": "markdown",
   "metadata": {},
   "source": [
    "Глянем есть ли в столбцам возраста и зарплаты float значения."
   ]
  },
  {
   "cell_type": "code",
   "execution_count": 7,
   "metadata": {},
   "outputs": [
    {
     "data": {
      "text/plain": [
       "0"
      ]
     },
     "execution_count": 7,
     "metadata": {},
     "output_type": "execute_result"
    }
   ],
   "source": [
    "sum(pd.to_numeric(df['Возраст']) != df['Возраст']) +\\\n",
    "sum(pd.to_numeric(df['Зарплата']) != df['Зарплата'])"
   ]
  },
  {
   "cell_type": "markdown",
   "metadata": {},
   "source": [
    "Поиск дубликатов"
   ]
  },
  {
   "cell_type": "code",
   "execution_count": 8,
   "metadata": {},
   "outputs": [
    {
     "data": {
      "text/html": [
       "<div>\n",
       "<style scoped>\n",
       "    .dataframe tbody tr th:only-of-type {\n",
       "        vertical-align: middle;\n",
       "    }\n",
       "\n",
       "    .dataframe tbody tr th {\n",
       "        vertical-align: top;\n",
       "    }\n",
       "\n",
       "    .dataframe thead th {\n",
       "        text-align: right;\n",
       "    }\n",
       "</style>\n",
       "<table border=\"1\" class=\"dataframe\">\n",
       "  <thead>\n",
       "    <tr style=\"text-align: right;\">\n",
       "      <th></th>\n",
       "      <th>Пол</th>\n",
       "      <th>Возраст</th>\n",
       "      <th>Зарплата</th>\n",
       "      <th>Члены семьи</th>\n",
       "      <th>Страховые выплаты</th>\n",
       "    </tr>\n",
       "  </thead>\n",
       "  <tbody>\n",
       "    <tr>\n",
       "      <td>281</td>\n",
       "      <td>1</td>\n",
       "      <td>39.0</td>\n",
       "      <td>48100.0</td>\n",
       "      <td>1</td>\n",
       "      <td>0</td>\n",
       "    </tr>\n",
       "    <tr>\n",
       "      <td>488</td>\n",
       "      <td>1</td>\n",
       "      <td>24.0</td>\n",
       "      <td>32900.0</td>\n",
       "      <td>1</td>\n",
       "      <td>0</td>\n",
       "    </tr>\n",
       "    <tr>\n",
       "      <td>513</td>\n",
       "      <td>0</td>\n",
       "      <td>31.0</td>\n",
       "      <td>37400.0</td>\n",
       "      <td>2</td>\n",
       "      <td>0</td>\n",
       "    </tr>\n",
       "    <tr>\n",
       "      <td>718</td>\n",
       "      <td>1</td>\n",
       "      <td>22.0</td>\n",
       "      <td>32600.0</td>\n",
       "      <td>1</td>\n",
       "      <td>0</td>\n",
       "    </tr>\n",
       "    <tr>\n",
       "      <td>785</td>\n",
       "      <td>0</td>\n",
       "      <td>20.0</td>\n",
       "      <td>35800.0</td>\n",
       "      <td>0</td>\n",
       "      <td>0</td>\n",
       "    </tr>\n",
       "    <tr>\n",
       "      <td>...</td>\n",
       "      <td>...</td>\n",
       "      <td>...</td>\n",
       "      <td>...</td>\n",
       "      <td>...</td>\n",
       "      <td>...</td>\n",
       "    </tr>\n",
       "    <tr>\n",
       "      <td>4793</td>\n",
       "      <td>1</td>\n",
       "      <td>24.0</td>\n",
       "      <td>37800.0</td>\n",
       "      <td>0</td>\n",
       "      <td>0</td>\n",
       "    </tr>\n",
       "    <tr>\n",
       "      <td>4902</td>\n",
       "      <td>1</td>\n",
       "      <td>35.0</td>\n",
       "      <td>38700.0</td>\n",
       "      <td>1</td>\n",
       "      <td>0</td>\n",
       "    </tr>\n",
       "    <tr>\n",
       "      <td>4935</td>\n",
       "      <td>1</td>\n",
       "      <td>19.0</td>\n",
       "      <td>32700.0</td>\n",
       "      <td>0</td>\n",
       "      <td>0</td>\n",
       "    </tr>\n",
       "    <tr>\n",
       "      <td>4945</td>\n",
       "      <td>1</td>\n",
       "      <td>21.0</td>\n",
       "      <td>45800.0</td>\n",
       "      <td>0</td>\n",
       "      <td>0</td>\n",
       "    </tr>\n",
       "    <tr>\n",
       "      <td>4965</td>\n",
       "      <td>0</td>\n",
       "      <td>22.0</td>\n",
       "      <td>40100.0</td>\n",
       "      <td>1</td>\n",
       "      <td>0</td>\n",
       "    </tr>\n",
       "  </tbody>\n",
       "</table>\n",
       "<p>153 rows × 5 columns</p>\n",
       "</div>"
      ],
      "text/plain": [
       "      Пол  Возраст  Зарплата  Члены семьи  Страховые выплаты\n",
       "281     1     39.0   48100.0            1                  0\n",
       "488     1     24.0   32900.0            1                  0\n",
       "513     0     31.0   37400.0            2                  0\n",
       "718     1     22.0   32600.0            1                  0\n",
       "785     0     20.0   35800.0            0                  0\n",
       "...   ...      ...       ...          ...                ...\n",
       "4793    1     24.0   37800.0            0                  0\n",
       "4902    1     35.0   38700.0            1                  0\n",
       "4935    1     19.0   32700.0            0                  0\n",
       "4945    1     21.0   45800.0            0                  0\n",
       "4965    0     22.0   40100.0            1                  0\n",
       "\n",
       "[153 rows x 5 columns]"
      ]
     },
     "execution_count": 8,
     "metadata": {},
     "output_type": "execute_result"
    }
   ],
   "source": [
    "df[df.duplicated()]"
   ]
  },
  {
   "cell_type": "markdown",
   "metadata": {},
   "source": [
    "**<span style=\"color: red\">Изучение распределения параметров.</span>**"
   ]
  },
  {
   "cell_type": "code",
   "execution_count": 9,
   "metadata": {},
   "outputs": [
    {
     "data": {
      "image/png": "[encoded data removed]",
      "text/plain": [
       "<Figure size 936x288 with 1 Axes>"
      ]
     },
     "metadata": {
      "needs_background": "light"
     },
     "output_type": "display_data"
    }
   ],
   "source": [
    "plt.figure(figsize=(13,4))\n",
    "\n",
    "sns.countplot(df['Пол'])\n",
    "plt.title(\"Соотношение полов\",\n",
    "          fontsize = 15, \n",
    "          fontdict = {'color':'crimson'})\n",
    "\n",
    "\n",
    "plt.show();"
   ]
  },
  {
   "cell_type": "code",
   "execution_count": 10,
   "metadata": {},
   "outputs": [
    {
     "data": {
      "image/png": "[encoded data removed]",
      "text/plain": [
       "<Figure size 936x288 with 1 Axes>"
      ]
     },
     "metadata": {
      "needs_background": "light"
     },
     "output_type": "display_data"
    }
   ],
   "source": [
    "plt.figure(figsize = (13,4))\n",
    "\n",
    "plt.hist(df['Возраст'], \n",
    "         50,\n",
    "         density = 1, \n",
    "         color = 'navy',\n",
    "         alpha = 0.7)\n",
    "\n",
    "plt.title(\"Распределение возрастов\",\n",
    "          fontsize = 15, \n",
    "          fontdict = {'color':'crimson'})\n",
    "plt.show();"
   ]
  },
  {
   "cell_type": "markdown",
   "metadata": {},
   "source": [
    "В основном, страховку берут те кто более помоложе."
   ]
  },
  {
   "cell_type": "code",
   "execution_count": 11,
   "metadata": {},
   "outputs": [
    {
     "data": {
      "image/png": "[encoded data removed]",
      "text/plain": [
       "<Figure size 936x288 with 1 Axes>"
      ]
     },
     "metadata": {
      "needs_background": "light"
     },
     "output_type": "display_data"
    }
   ],
   "source": [
    "plt.figure(figsize=(13,4))\n",
    "\n",
    "plt.hist(df['Зарплата'], \n",
    "         50,\n",
    "         density = 1, \n",
    "         color ='green',\n",
    "         alpha = 0.7)\n",
    "\n",
    "plt.title(\"Распределение зарплат\",\n",
    "          fontsize=15, \n",
    "          fontdict = {'color':'crimson'})\n",
    "plt.show();"
   ]
  },
  {
   "cell_type": "markdown",
   "metadata": {},
   "source": [
    "**Проверим распределение параметра зарплата:**"
   ]
  },
  {
   "cell_type": "code",
   "execution_count": 12,
   "metadata": {},
   "outputs": [
    {
     "data": {
      "image/png": "[encoded data removed]",
      "text/plain": [
       "<Figure size 432x288 with 1 Axes>"
      ]
     },
     "metadata": {
      "needs_background": "light"
     },
     "output_type": "display_data"
    }
   ],
   "source": [
    "sm.qqplot(df['Зарплата'])\n",
    "py.show()"
   ]
  },
  {
   "cell_type": "markdown",
   "metadata": {},
   "source": [
    "Как мы видим параметр \"Зарплата\" имеет нормальное распеделение с медианой и средним примерно в 40000."
   ]
  },
  {
   "cell_type": "code",
   "execution_count": 13,
   "metadata": {},
   "outputs": [
    {
     "data": {
      "image/png": "[encoded data removed]",
      "text/plain": [
       "<Figure size 936x288 with 1 Axes>"
      ]
     },
     "metadata": {
      "needs_background": "light"
     },
     "output_type": "display_data"
    }
   ],
   "source": [
    "plt.figure(figsize=(13,4))\n",
    "\n",
    "sns.countplot(df['Члены семьи'])\n",
    "plt.title(\"Соотношение кол-ва членов семьи\",fontsize=15, fontdict = {'color':'crimson'})\n",
    "\n",
    "plt.show();"
   ]
  },
  {
   "cell_type": "markdown",
   "metadata": {},
   "source": [
    "Распределение с положительной асимметрией, клинтов с одним членом семьи больше всего, с 0 (полагаю это уже не семья, т.к. в ней только клиент) на втором месте, а дальше по убывающей."
   ]
  },
  {
   "cell_type": "code",
   "execution_count": 14,
   "metadata": {},
   "outputs": [
    {
     "data": {
      "image/png": "[encoded data removed]",
      "text/plain": [
       "<Figure size 936x288 with 1 Axes>"
      ]
     },
     "metadata": {
      "needs_background": "light"
     },
     "output_type": "display_data"
    }
   ],
   "source": [
    "plt.figure(figsize=(13,4))\n",
    "\n",
    "sns.countplot(df['Страховые выплаты'])\n",
    "plt.title(\"Соотношение кол-ва страховых выплат\",fontsize=15, fontdict = {'color':'crimson'})\n",
    "\n",
    "plt.show();"
   ]
  },
  {
   "cell_type": "markdown",
   "metadata": {},
   "source": [
    "Распределение с положительной асимметрией, похоже страховые выплаты дело редкое."
   ]
  },
  {
   "cell_type": "markdown",
   "metadata": {},
   "source": [
    "**<span style=\"color: red\">Корреляции</span>**"
   ]
  },
  {
   "cell_type": "code",
   "execution_count": 15,
   "metadata": {
    "scrolled": false
   },
   "outputs": [
    {
     "data": {
      "image/png": "[encoded data removed]",
      "text/plain": [
       "<Figure size 2160x1800 with 25 Axes>"
      ]
     },
     "metadata": {
      "needs_background": "light"
     },
     "output_type": "display_data"
    }
   ],
   "source": [
    "plt.rcParams['axes.labelsize'] = 27\n",
    "pd.plotting.scatter_matrix(df,figsize=(30,25));\n",
    "plt.rcParams['axes.labelsize'] = 10"
   ]
  },
  {
   "cell_type": "markdown",
   "metadata": {},
   "source": [
    "**Посмотрим корреляции страховых выплат.**\n",
    "1. Мы явно видим, что чем человеку больше лет, тем чаще он получает страховые выплаты. \n",
    "2. Все остальные параметры могут могут выдавать корреляции из-за того, что при уменьшении выборок они стремятся к среднему."
   ]
  },
  {
   "cell_type": "markdown",
   "metadata": {},
   "source": [
    "---"
   ]
  },
  {
   "cell_type": "markdown",
   "metadata": {},
   "source": [
    "## <span style=\"color: crimson\">Этап 2</span> Предобработка данных\n"
   ]
  },
  {
   "cell_type": "markdown",
   "metadata": {},
   "source": [
    "**<span style=\"color: red\">Обработка данных</span>**"
   ]
  },
  {
   "cell_type": "markdown",
   "metadata": {},
   "source": [
    "Типы данных изменить на целочисленный."
   ]
  },
  {
   "cell_type": "code",
   "execution_count": 16,
   "metadata": {},
   "outputs": [],
   "source": [
    "df.loc[:,'Возраст'] = pd.to_numeric(df['Возраст'])\n",
    "df.loc[:,'Зарплата'] = pd.to_numeric(df['Зарплата'])"
   ]
  },
  {
   "cell_type": "markdown",
   "metadata": {},
   "source": [
    "Около 3% дубликатов можно и удалит."
   ]
  },
  {
   "cell_type": "code",
   "execution_count": 17,
   "metadata": {},
   "outputs": [],
   "source": [
    "df = df.drop_duplicates()"
   ]
  },
  {
   "cell_type": "markdown",
   "metadata": {},
   "source": [
    "**<span style=\"color: red\">Выводы</span>:**   \n",
    "Данные отчищены от дубликатов и имеют корректные типы данных.   \n",
    "Самый любопытный момент, это четкая зависимость возраста и кол-ва страховых выплат."
   ]
  },
  {
   "cell_type": "markdown",
   "metadata": {},
   "source": [
    "## <span style=\"color: crimson\">Этап 3</span> Умножение матриц"
   ]
  },
  {
   "cell_type": "markdown",
   "metadata": {},
   "source": [
    "Обозначения:\n",
    "\n",
    "- $X$ — матрица признаков (нулевой столбец состоит из единиц)\n",
    "\n",
    "- $y$ — вектор целевого признака\n",
    "\n",
    "- $P$ — матрица, на которую умножаются признаки\n",
    "\n",
    "- $w$ — вектор весов линейной регрессии (нулевой элемент равен сдвигу)"
   ]
  },
  {
   "cell_type": "markdown",
   "metadata": {},
   "source": [
    "Предсказания:\n",
    "\n",
    "$$\n",
    "a = Xw\n",
    "$$\n",
    "\n",
    "Задача обучения:\n",
    "\n",
    "$$\n",
    "w = \\arg\\min_w MSE(Xw, y)\n",
    "$$\n",
    "\n",
    "Формула обучения:\n",
    "\n",
    "$$\n",
    "w = (X^T X)^{-1} X^T y\n",
    "$$"
   ]
  },
  {
   "cell_type": "markdown",
   "metadata": {},
   "source": [
    "**<span style=\"color: red\">В</span>опрос:**   \n",
    "Признаки умножают на обратимую матрицу. Изменится ли качество линейной регрессии?  \n",
    "\n",
    "---\n",
    "**<span style=\"color: red\">О</span>твет:**   \n",
    "Не изменится. \n",
    "\n",
    "---\n",
    "**<span style=\"color: red\">О</span>боснование:** \n",
    "1. Выразив $a$ через $a = Xw$ и $w = (X^T X)^{-1} X^T y$, получим: $$a = X(X^T X)^{-1} X^T y$$\n",
    "2. Умножим наш прямоугольный $X$ массив данных на обратимую матрицу$P$ и получим $XP$ \n",
    "3. Подставим $XP$ вместо $X$ в формулу выше, выходит: $$a = XP((XP)^T XP)^{-1} (XP)^T y$$\n",
    "4. Упростим:\n",
    "$$a = XP((XP)^T XP)^{-1} (XP)^T y$$  \n",
    "$$ = XP(P^T (X^TX) P)^{-1} (XP)^T y$$\n",
    "$$ = XPP^{-1}((XP)^T)^{-1} (P^T)^{-1} P^T X^T y$$ \n",
    "$$ = X(X^TX)^{-1}X^T y$$\n",
    "$$ = Xw$$\n",
    "Так как, значение предсказание не изменилось, то наше решение верно ч.т.д."
   ]
  },
  {
   "cell_type": "code",
   "execution_count": 18,
   "metadata": {},
   "outputs": [
    {
     "data": {
      "text/html": [
       "<div>\n",
       "<style scoped>\n",
       "    .dataframe tbody tr th:only-of-type {\n",
       "        vertical-align: middle;\n",
       "    }\n",
       "\n",
       "    .dataframe tbody tr th {\n",
       "        vertical-align: top;\n",
       "    }\n",
       "\n",
       "    .dataframe thead th {\n",
       "        text-align: right;\n",
       "    }\n",
       "</style>\n",
       "<table border=\"1\" class=\"dataframe\">\n",
       "  <thead>\n",
       "    <tr style=\"text-align: right;\">\n",
       "      <th></th>\n",
       "      <th>0</th>\n",
       "      <th>1</th>\n",
       "      <th>2</th>\n",
       "      <th>3</th>\n",
       "    </tr>\n",
       "  </thead>\n",
       "  <tbody>\n",
       "    <tr>\n",
       "      <td>0</td>\n",
       "      <td>0.448090</td>\n",
       "      <td>-0.327807</td>\n",
       "      <td>0.094409</td>\n",
       "      <td>-0.402301</td>\n",
       "    </tr>\n",
       "    <tr>\n",
       "      <td>1</td>\n",
       "      <td>-0.327807</td>\n",
       "      <td>0.240717</td>\n",
       "      <td>-0.069976</td>\n",
       "      <td>0.294317</td>\n",
       "    </tr>\n",
       "    <tr>\n",
       "      <td>2</td>\n",
       "      <td>0.094409</td>\n",
       "      <td>-0.069976</td>\n",
       "      <td>0.021645</td>\n",
       "      <td>-0.085303</td>\n",
       "    </tr>\n",
       "    <tr>\n",
       "      <td>3</td>\n",
       "      <td>-0.402301</td>\n",
       "      <td>0.294317</td>\n",
       "      <td>-0.085303</td>\n",
       "      <td>0.361545</td>\n",
       "    </tr>\n",
       "  </tbody>\n",
       "</table>\n",
       "</div>"
      ],
      "text/plain": [
       "          0         1         2         3\n",
       "0  0.448090 -0.327807  0.094409 -0.402301\n",
       "1 -0.327807  0.240717 -0.069976  0.294317\n",
       "2  0.094409 -0.069976  0.021645 -0.085303\n",
       "3 -0.402301  0.294317 -0.085303  0.361545"
      ]
     },
     "metadata": {},
     "output_type": "display_data"
    },
    {
     "data": {
      "text/html": [
       "<div>\n",
       "<style scoped>\n",
       "    .dataframe tbody tr th:only-of-type {\n",
       "        vertical-align: middle;\n",
       "    }\n",
       "\n",
       "    .dataframe tbody tr th {\n",
       "        vertical-align: top;\n",
       "    }\n",
       "\n",
       "    .dataframe thead th {\n",
       "        text-align: right;\n",
       "    }\n",
       "</style>\n",
       "<table border=\"1\" class=\"dataframe\">\n",
       "  <thead>\n",
       "    <tr style=\"text-align: right;\">\n",
       "      <th></th>\n",
       "      <th>0</th>\n",
       "      <th>1</th>\n",
       "      <th>2</th>\n",
       "      <th>3</th>\n",
       "    </tr>\n",
       "  </thead>\n",
       "  <tbody>\n",
       "    <tr>\n",
       "      <td>0</td>\n",
       "      <td>0.448090</td>\n",
       "      <td>-0.327807</td>\n",
       "      <td>0.094409</td>\n",
       "      <td>-0.402301</td>\n",
       "    </tr>\n",
       "    <tr>\n",
       "      <td>1</td>\n",
       "      <td>-0.327807</td>\n",
       "      <td>0.240717</td>\n",
       "      <td>-0.069976</td>\n",
       "      <td>0.294317</td>\n",
       "    </tr>\n",
       "    <tr>\n",
       "      <td>2</td>\n",
       "      <td>0.094409</td>\n",
       "      <td>-0.069976</td>\n",
       "      <td>0.021645</td>\n",
       "      <td>-0.085303</td>\n",
       "    </tr>\n",
       "    <tr>\n",
       "      <td>3</td>\n",
       "      <td>-0.402301</td>\n",
       "      <td>0.294317</td>\n",
       "      <td>-0.085303</td>\n",
       "      <td>0.361545</td>\n",
       "    </tr>\n",
       "  </tbody>\n",
       "</table>\n",
       "</div>"
      ],
      "text/plain": [
       "          0         1         2         3\n",
       "0  0.448090 -0.327807  0.094409 -0.402301\n",
       "1 -0.327807  0.240717 -0.069976  0.294317\n",
       "2  0.094409 -0.069976  0.021645 -0.085303\n",
       "3 -0.402301  0.294317 -0.085303  0.361545"
      ]
     },
     "metadata": {},
     "output_type": "display_data"
    }
   ],
   "source": [
    "P = np.random.randint(0, 10,(4, 4))\n",
    "X = np.random.randint(0, 10,(7, 4))\n",
    "display(pd.DataFrame(np.linalg.inv(P.T @ (X.T @ X) @ P)))\n",
    "display(pd.DataFrame(np.linalg.inv(P) @ np.linalg.inv(X.T @ X) @ np.linalg.inv(P.T)))"
   ]
  },
  {
   "cell_type": "markdown",
   "metadata": {},
   "source": [
    "$$\n",
    "w' = ((XP)^T XP)^{-1} (XP)^T y\n",
    "$$\n",
    "$$\n",
    "w' = (P^T (X^T X) P)^{-1} (XP)^T y\n",
    "$$\n",
    "$$\n",
    "......\n",
    "$$"
   ]
  },
  {
   "cell_type": "markdown",
   "metadata": {},
   "source": [
    "**Алгоритм преобразования**\n",
    "\n",
    "1. Создать рандомный квадратный массив $P$, размеров df.shape[1]\n",
    "2. Проверить его на обратимость $det(P) == 0$ то массив необратимый, по формуле $A^{-1} = \\frac {1}{\\det A} \\cdot A^*$\n",
    "3. Умножить наши признаки на этот массив $XP$\n",
    "4. Обучить модель\n",
    "    1. Проверим модель на не трансформированных признаках\n",
    "    2. Трансформируем признаки и вновь проверить модель\n",
    "    3. Сравним качество по метрике R2"
   ]
  },
  {
   "cell_type": "markdown",
   "metadata": {},
   "source": [
    "## <span style=\"color: crimson\">Этап 4</span> Проверка алгоритма"
   ]
  },
  {
   "cell_type": "markdown",
   "metadata": {},
   "source": [
    "#### Разбиение  данных на выборки"
   ]
  },
  {
   "cell_type": "markdown",
   "metadata": {},
   "source": [
    "**I <span style=\"color: red\">Шаг первый</span>: проверка на начальных признаках.**"
   ]
  },
  {
   "cell_type": "markdown",
   "metadata": {},
   "source": [
    "**План**:\n",
    "1. Проверим данные на не трансформированных признака\n",
    "2. Трансформируем признаки и вновь проверим\n",
    "3. Сравним качество по метрике R2"
   ]
  },
  {
   "cell_type": "code",
   "execution_count": 19,
   "metadata": {},
   "outputs": [],
   "source": [
    "features = df.drop([\"Страховые выплаты\"], axis=1)\n",
    "target = df[\"Страховые выплаты\"]\n",
    "\n",
    "features_train, features_valid, target_train, target_valid = train_test_split(\n",
    "    features, target, test_size=0.25, random_state=12345)"
   ]
  },
  {
   "cell_type": "code",
   "execution_count": 20,
   "metadata": {},
   "outputs": [
    {
     "name": "stdout",
     "output_type": "stream",
     "text": [
      "R2: 0.42307727492147296\n"
     ]
    }
   ],
   "source": [
    "model = LinearRegression()\n",
    "model.fit(features_train, target_train)\n",
    "\n",
    "predict = model.predict(features_valid)\n",
    "R2 = r2_score(target_valid, predict)\n",
    "print('R2:',R2)"
   ]
  },
  {
   "cell_type": "markdown",
   "metadata": {},
   "source": [
    "**II <span style=\"color: red\">Шаг второй</span>: проверка на изменённых признаках.**"
   ]
  },
  {
   "cell_type": "markdown",
   "metadata": {},
   "source": [
    "Создание массива для шифрования"
   ]
  },
  {
   "cell_type": "code",
   "execution_count": 21,
   "metadata": {},
   "outputs": [],
   "source": [
    "while True:\n",
    "    P = np.random.randint(0, 10,(4, 4))\n",
    "    if np.linalg.det(P) != 0:\n",
    "        break"
   ]
  },
  {
   "cell_type": "code",
   "execution_count": 22,
   "metadata": {},
   "outputs": [],
   "source": [
    "features_code = df.drop([\"Страховые выплаты\"], axis=1) @ P\n",
    "target = df[\"Страховые выплаты\"]\n",
    "\n",
    "features_train, features_valid, target_train, target_valid = train_test_split(\n",
    "    features_code, target, test_size=0.25, random_state=12345)"
   ]
  },
  {
   "cell_type": "code",
   "execution_count": 23,
   "metadata": {},
   "outputs": [
    {
     "name": "stdout",
     "output_type": "stream",
     "text": [
      "R2: 0.42307727492147296\n"
     ]
    }
   ],
   "source": [
    "model = LinearRegression()\n",
    "model.fit(features_train, target_train)\n",
    "\n",
    "predict_code = model.predict(features_valid)\n",
    "R2_code = r2_score(target_valid, predict)\n",
    "print('R2:',R2_code)"
   ]
  },
  {
   "cell_type": "markdown",
   "metadata": {},
   "source": [
    "**III <span style=\"color: red\">Шаг третий</span>: сравнение метрик.**"
   ]
  },
  {
   "cell_type": "code",
   "execution_count": 24,
   "metadata": {},
   "outputs": [
    {
     "name": "stdout",
     "output_type": "stream",
     "text": [
      "Качество модели до шифрования    0.42307727492147296\n",
      "Качество модели после шифрования 0.42307727492147296\n",
      "---\n",
      "Разница в качестве 0.0\n"
     ]
    }
   ],
   "source": [
    "print('Качество модели до шифрования   ', R2)\n",
    "print('Качество модели после шифрования', R2_code)\n",
    "print('---')\n",
    "print('Разница в качестве', R2-R2_code)"
   ]
  },
  {
   "cell_type": "markdown",
   "metadata": {},
   "source": [
    "## <span style=\"color: crimson\">Этап 5</span> Результаты исследований\n",
    "Данные были зашифрованы и соблюдена конфиденциальность пользователей при этом качество модели не ухудшилось, что иы доказали, как теоретически, так и экспериментально."
   ]
  }
 ],
 "metadata": {
  "ExecuteTimeLog": [
   {
    "duration": 901,
    "start_time": "2022-01-13T07:57:38.272Z"
   },
   {
    "duration": 23,
    "start_time": "2022-01-13T07:57:49.153Z"
   },
   {
    "duration": 956,
    "start_time": "2022-01-15T19:04:07.903Z"
   },
   {
    "duration": 981,
    "start_time": "2022-01-15T19:04:10.862Z"
   },
   {
    "duration": 25,
    "start_time": "2022-01-15T19:04:11.846Z"
   },
   {
    "duration": 30,
    "start_time": "2022-01-15T19:04:11.875Z"
   },
   {
    "duration": 12,
    "start_time": "2022-01-15T19:04:21.601Z"
   },
   {
    "duration": 286,
    "start_time": "2022-01-15T19:04:57.330Z"
   },
   {
    "duration": 262,
    "start_time": "2022-01-15T19:05:12.526Z"
   },
   {
    "duration": 252,
    "start_time": "2022-01-15T19:05:50.348Z"
   },
   {
    "duration": 36,
    "start_time": "2022-01-15T19:06:22.285Z"
   },
   {
    "duration": 9,
    "start_time": "2022-01-15T19:06:35.662Z"
   },
   {
    "duration": 96,
    "start_time": "2022-01-15T19:07:49.802Z"
   },
   {
    "duration": 242,
    "start_time": "2022-01-15T19:39:33.263Z"
   },
   {
    "duration": 10,
    "start_time": "2022-01-15T19:39:54.374Z"
   },
   {
    "duration": 9,
    "start_time": "2022-01-15T19:40:04.483Z"
   },
   {
    "duration": 22,
    "start_time": "2022-01-15T19:40:25.063Z"
   },
   {
    "duration": 21,
    "start_time": "2022-01-15T19:40:55.556Z"
   },
   {
    "duration": 5,
    "start_time": "2022-01-15T19:41:33.146Z"
   },
   {
    "duration": 8,
    "start_time": "2022-01-15T19:41:58.725Z"
   },
   {
    "duration": 20,
    "start_time": "2022-01-15T19:42:09.725Z"
   },
   {
    "duration": 264,
    "start_time": "2022-01-15T19:42:22.149Z"
   },
   {
    "duration": 7,
    "start_time": "2022-01-15T19:42:45.741Z"
   },
   {
    "duration": 685,
    "start_time": "2022-01-15T19:48:02.454Z"
   },
   {
    "duration": 5,
    "start_time": "2022-01-15T19:48:06.018Z"
   },
   {
    "duration": 8,
    "start_time": "2022-01-15T19:48:45.266Z"
   },
   {
    "duration": 259,
    "start_time": "2022-01-15T19:48:50.225Z"
   },
   {
    "duration": 249,
    "start_time": "2022-01-15T19:49:19.732Z"
   },
   {
    "duration": 10,
    "start_time": "2022-01-15T19:49:31.469Z"
   },
   {
    "duration": 7,
    "start_time": "2022-01-15T19:49:40.394Z"
   },
   {
    "duration": 7,
    "start_time": "2022-01-15T19:49:52.513Z"
   },
   {
    "duration": 294,
    "start_time": "2022-01-15T19:50:25.203Z"
   },
   {
    "duration": 252,
    "start_time": "2022-01-15T19:50:36.380Z"
   },
   {
    "duration": 15,
    "start_time": "2022-01-15T19:50:41.437Z"
   },
   {
    "duration": 273,
    "start_time": "2022-01-15T19:50:46.853Z"
   },
   {
    "duration": 92,
    "start_time": "2022-01-15T19:51:24.067Z"
   },
   {
    "duration": 8,
    "start_time": "2022-01-15T19:51:26.475Z"
   },
   {
    "duration": 6,
    "start_time": "2022-01-15T20:04:12.343Z"
   },
   {
    "duration": 668,
    "start_time": "2022-01-15T20:26:52.031Z"
   },
   {
    "duration": 6,
    "start_time": "2022-01-15T20:27:01.808Z"
   },
   {
    "duration": 76,
    "start_time": "2022-01-15T20:27:16.788Z"
   },
   {
    "duration": 9,
    "start_time": "2022-01-15T20:27:24.697Z"
   },
   {
    "duration": 256,
    "start_time": "2022-01-15T20:27:32.405Z"
   },
   {
    "duration": 6,
    "start_time": "2022-01-15T20:27:50.202Z"
   },
   {
    "duration": 84,
    "start_time": "2022-01-15T20:28:56.142Z"
   },
   {
    "duration": 22,
    "start_time": "2022-01-15T20:29:32.812Z"
   },
   {
    "duration": 21,
    "start_time": "2022-01-15T20:29:38.851Z"
   },
   {
    "duration": 21,
    "start_time": "2022-01-15T20:29:44.570Z"
   },
   {
    "duration": 14,
    "start_time": "2022-01-15T20:29:49.506Z"
   },
   {
    "duration": 398,
    "start_time": "2022-01-15T20:39:43.493Z"
   },
   {
    "duration": 259,
    "start_time": "2022-01-15T20:41:56.295Z"
   },
   {
    "duration": 419,
    "start_time": "2022-01-15T20:42:14.196Z"
   },
   {
    "duration": 257,
    "start_time": "2022-01-15T20:42:26.522Z"
   },
   {
    "duration": 951,
    "start_time": "2022-01-15T20:42:45.203Z"
   },
   {
    "duration": 347,
    "start_time": "2022-01-15T20:43:43.683Z"
   },
   {
    "duration": 494,
    "start_time": "2022-01-15T20:44:28.262Z"
   },
   {
    "duration": 376,
    "start_time": "2022-01-15T20:44:54.080Z"
   },
   {
    "duration": 417,
    "start_time": "2022-01-15T20:45:01.671Z"
   },
   {
    "duration": 304,
    "start_time": "2022-01-15T20:45:32.898Z"
   },
   {
    "duration": 10074,
    "start_time": "2022-01-15T20:45:48.803Z"
   },
   {
    "duration": 359,
    "start_time": "2022-01-15T20:46:32.835Z"
   },
   {
    "duration": 7688,
    "start_time": "2022-01-15T20:46:43.024Z"
   },
   {
    "duration": 246,
    "start_time": "2022-01-16T09:01:57.622Z"
   },
   {
    "duration": 1171,
    "start_time": "2022-01-16T09:02:01.688Z"
   },
   {
    "duration": 17,
    "start_time": "2022-01-16T09:02:02.860Z"
   },
   {
    "duration": 11,
    "start_time": "2022-01-16T09:02:02.879Z"
   },
   {
    "duration": 13,
    "start_time": "2022-01-16T09:02:02.892Z"
   },
   {
    "duration": 27,
    "start_time": "2022-01-16T09:02:02.907Z"
   },
   {
    "duration": 5,
    "start_time": "2022-01-16T09:02:02.936Z"
   },
   {
    "duration": 7,
    "start_time": "2022-01-16T09:02:02.942Z"
   },
   {
    "duration": 15,
    "start_time": "2022-01-16T09:02:02.950Z"
   },
   {
    "duration": 162,
    "start_time": "2022-01-16T09:02:11.848Z"
   },
   {
    "duration": 161,
    "start_time": "2022-01-16T09:06:03.210Z"
   },
   {
    "duration": 160,
    "start_time": "2022-01-16T09:06:07.583Z"
   },
   {
    "duration": 158,
    "start_time": "2022-01-16T09:06:09.775Z"
   },
   {
    "duration": 166,
    "start_time": "2022-01-16T09:06:10.848Z"
   },
   {
    "duration": 166,
    "start_time": "2022-01-16T09:06:15.264Z"
   },
   {
    "duration": 258,
    "start_time": "2022-01-16T09:07:20.094Z"
   },
   {
    "duration": 289,
    "start_time": "2022-01-16T09:07:50.291Z"
   },
   {
    "duration": 306,
    "start_time": "2022-01-16T09:07:56.406Z"
   },
   {
    "duration": 287,
    "start_time": "2022-01-16T09:08:46.172Z"
   },
   {
    "duration": 283,
    "start_time": "2022-01-16T09:10:29.994Z"
   },
   {
    "duration": 298,
    "start_time": "2022-01-16T09:11:02.825Z"
   },
   {
    "duration": 312,
    "start_time": "2022-01-16T09:12:26.753Z"
   },
   {
    "duration": 201,
    "start_time": "2022-01-16T09:12:50.924Z"
   },
   {
    "duration": 212,
    "start_time": "2022-01-16T09:12:55.348Z"
   },
   {
    "duration": 269,
    "start_time": "2022-01-16T09:13:11.343Z"
   },
   {
    "duration": 364,
    "start_time": "2022-01-16T09:13:18.893Z"
   },
   {
    "duration": 199,
    "start_time": "2022-01-16T09:13:28.751Z"
   },
   {
    "duration": 3,
    "start_time": "2022-01-16T09:13:38.908Z"
   },
   {
    "duration": 275,
    "start_time": "2022-01-16T09:13:54.633Z"
   },
   {
    "duration": 279,
    "start_time": "2022-01-16T09:14:37.238Z"
   },
   {
    "duration": 477,
    "start_time": "2022-01-16T09:14:44.726Z"
   },
   {
    "duration": 271,
    "start_time": "2022-01-16T09:14:47.360Z"
   },
   {
    "duration": 280,
    "start_time": "2022-01-16T09:15:10.778Z"
   },
   {
    "duration": 313,
    "start_time": "2022-01-16T09:15:18.009Z"
   },
   {
    "duration": 288,
    "start_time": "2022-01-16T09:15:29.751Z"
   },
   {
    "duration": 5383,
    "start_time": "2022-01-16T09:17:01.869Z"
   },
   {
    "duration": 70,
    "start_time": "2022-01-16T09:17:08.503Z"
   },
   {
    "duration": 274,
    "start_time": "2022-01-16T09:17:18.540Z"
   },
   {
    "duration": 192,
    "start_time": "2022-01-16T09:17:33.238Z"
   },
   {
    "duration": 193,
    "start_time": "2022-01-16T09:17:53.663Z"
   },
   {
    "duration": 180,
    "start_time": "2022-01-16T09:20:39.004Z"
   },
   {
    "duration": 178,
    "start_time": "2022-01-16T09:20:48.388Z"
   },
   {
    "duration": 69,
    "start_time": "2022-01-16T09:21:26.481Z"
   },
   {
    "duration": 231,
    "start_time": "2022-01-16T11:34:49.688Z"
   },
   {
    "duration": 723,
    "start_time": "2022-01-16T11:35:06.836Z"
   },
   {
    "duration": 632,
    "start_time": "2022-01-16T11:35:12.239Z"
   },
   {
    "duration": 2,
    "start_time": "2022-01-16T11:35:56.737Z"
   },
   {
    "duration": 783,
    "start_time": "2022-01-16T11:35:58.188Z"
   },
   {
    "duration": 568,
    "start_time": "2022-01-16T11:36:09.688Z"
   },
   {
    "duration": 343,
    "start_time": "2022-01-16T11:36:14.451Z"
   },
   {
    "duration": 404,
    "start_time": "2022-01-16T11:36:17.363Z"
   },
   {
    "duration": 2,
    "start_time": "2022-01-16T11:36:43.151Z"
   },
   {
    "duration": 3,
    "start_time": "2022-01-16T11:36:47.783Z"
   },
   {
    "duration": 216,
    "start_time": "2022-01-16T11:36:56.809Z"
   },
   {
    "duration": 5,
    "start_time": "2022-01-16T11:37:08.054Z"
   },
   {
    "duration": 5,
    "start_time": "2022-01-16T11:37:33.233Z"
   },
   {
    "duration": 5,
    "start_time": "2022-01-16T11:49:43.988Z"
   },
   {
    "duration": 6,
    "start_time": "2022-01-16T11:49:52.134Z"
   },
   {
    "duration": 6,
    "start_time": "2022-01-16T11:50:02.506Z"
   },
   {
    "duration": 7,
    "start_time": "2022-01-16T11:50:16.356Z"
   },
   {
    "duration": 249,
    "start_time": "2022-01-16T13:23:09.505Z"
   },
   {
    "duration": 271,
    "start_time": "2022-01-16T13:23:15.739Z"
   },
   {
    "duration": 78,
    "start_time": "2022-01-16T13:23:25.316Z"
   },
   {
    "duration": 6,
    "start_time": "2022-01-16T13:23:28.413Z"
   },
   {
    "duration": 491,
    "start_time": "2022-01-16T13:30:49.329Z"
   },
   {
    "duration": 5,
    "start_time": "2022-01-16T13:30:58.105Z"
   },
   {
    "duration": 4,
    "start_time": "2022-01-16T13:43:27.656Z"
   },
   {
    "duration": 341,
    "start_time": "2022-01-16T17:22:51.830Z"
   },
   {
    "duration": 2505,
    "start_time": "2022-01-16T17:23:39.310Z"
   },
   {
    "duration": 430,
    "start_time": "2022-01-16T17:23:52.872Z"
   },
   {
    "duration": 4,
    "start_time": "2022-01-16T17:23:56.601Z"
   },
   {
    "duration": 44,
    "start_time": "2022-01-16T17:23:56.608Z"
   },
   {
    "duration": 24,
    "start_time": "2022-01-16T17:23:56.655Z"
   },
   {
    "duration": 11,
    "start_time": "2022-01-16T17:23:56.683Z"
   },
   {
    "duration": 66,
    "start_time": "2022-01-16T17:23:56.696Z"
   },
   {
    "duration": 14,
    "start_time": "2022-01-16T17:23:56.767Z"
   },
   {
    "duration": 8,
    "start_time": "2022-01-16T17:23:56.783Z"
   },
   {
    "duration": 22,
    "start_time": "2022-01-16T17:23:56.793Z"
   },
   {
    "duration": 309,
    "start_time": "2022-01-16T17:23:56.818Z"
   },
   {
    "duration": 487,
    "start_time": "2022-01-16T17:23:57.130Z"
   },
   {
    "duration": 604,
    "start_time": "2022-01-16T17:23:57.619Z"
   },
   {
    "duration": 337,
    "start_time": "2022-01-16T17:23:58.225Z"
   },
   {
    "duration": 345,
    "start_time": "2022-01-16T17:23:58.566Z"
   },
   {
    "duration": 324,
    "start_time": "2022-01-16T17:23:58.914Z"
   },
   {
    "duration": 8147,
    "start_time": "2022-01-16T17:23:59.241Z"
   },
   {
    "duration": 6,
    "start_time": "2022-01-16T17:24:07.390Z"
   },
   {
    "duration": 10,
    "start_time": "2022-01-16T17:24:07.398Z"
   },
   {
    "duration": 51,
    "start_time": "2022-01-16T17:24:07.412Z"
   },
   {
    "duration": 29,
    "start_time": "2022-01-16T17:34:37.373Z"
   },
   {
    "duration": 11,
    "start_time": "2022-01-16T17:36:11.595Z"
   },
   {
    "duration": 17,
    "start_time": "2022-01-16T17:36:26.268Z"
   },
   {
    "duration": 11,
    "start_time": "2022-01-16T17:36:50.588Z"
   },
   {
    "duration": 12,
    "start_time": "2022-01-16T17:37:09.536Z"
   },
   {
    "duration": 10,
    "start_time": "2022-01-16T17:37:21.679Z"
   },
   {
    "duration": 11,
    "start_time": "2022-01-16T17:37:28.114Z"
   },
   {
    "duration": 12,
    "start_time": "2022-01-16T17:37:49.934Z"
   },
   {
    "duration": 118,
    "start_time": "2022-01-16T17:38:15.569Z"
   },
   {
    "duration": 10,
    "start_time": "2022-01-16T17:38:22.584Z"
   },
   {
    "duration": 4,
    "start_time": "2022-01-16T17:38:29.313Z"
   },
   {
    "duration": 12,
    "start_time": "2022-01-16T17:53:58.203Z"
   },
   {
    "duration": 10,
    "start_time": "2022-01-16T17:53:58.982Z"
   },
   {
    "duration": 6,
    "start_time": "2022-01-16T17:56:33.527Z"
   },
   {
    "duration": 86,
    "start_time": "2022-01-16T17:56:58.431Z"
   },
   {
    "duration": 267,
    "start_time": "2022-01-16T17:58:39.360Z"
   },
   {
    "duration": 7,
    "start_time": "2022-01-16T17:58:58.903Z"
   },
   {
    "duration": 7,
    "start_time": "2022-01-16T17:59:10.089Z"
   },
   {
    "duration": 8,
    "start_time": "2022-01-16T17:59:14.668Z"
   },
   {
    "duration": 1110,
    "start_time": "2022-01-16T17:59:20.917Z"
   },
   {
    "duration": 6,
    "start_time": "2022-01-16T18:06:03.149Z"
   },
   {
    "duration": 6,
    "start_time": "2022-01-16T18:06:47.534Z"
   },
   {
    "duration": 116,
    "start_time": "2022-01-16T18:07:04.192Z"
   },
   {
    "duration": 7,
    "start_time": "2022-01-16T18:07:09.663Z"
   },
   {
    "duration": 5,
    "start_time": "2022-01-16T18:11:24.968Z"
   },
   {
    "duration": 8,
    "start_time": "2022-01-16T18:11:28.739Z"
   },
   {
    "duration": 10,
    "start_time": "2022-01-16T18:11:31.227Z"
   },
   {
    "duration": 7,
    "start_time": "2022-01-16T18:11:32.582Z"
   },
   {
    "duration": 9,
    "start_time": "2022-01-16T18:11:34.317Z"
   },
   {
    "duration": 7,
    "start_time": "2022-01-16T18:11:36.178Z"
   },
   {
    "duration": 7,
    "start_time": "2022-01-16T18:11:37.316Z"
   },
   {
    "duration": 6,
    "start_time": "2022-01-16T18:11:39.019Z"
   },
   {
    "duration": 7,
    "start_time": "2022-01-16T18:11:40.897Z"
   },
   {
    "duration": 7,
    "start_time": "2022-01-16T18:11:42.208Z"
   },
   {
    "duration": 8,
    "start_time": "2022-01-16T18:11:59.151Z"
   },
   {
    "duration": 7,
    "start_time": "2022-01-16T18:12:00.868Z"
   },
   {
    "duration": 7,
    "start_time": "2022-01-16T18:12:01.629Z"
   },
   {
    "duration": 7,
    "start_time": "2022-01-16T18:12:02.246Z"
   },
   {
    "duration": 7,
    "start_time": "2022-01-16T18:12:02.823Z"
   },
   {
    "duration": 7,
    "start_time": "2022-01-16T18:12:03.722Z"
   },
   {
    "duration": 10,
    "start_time": "2022-01-16T18:12:04.367Z"
   },
   {
    "duration": 7,
    "start_time": "2022-01-16T18:12:04.941Z"
   },
   {
    "duration": 7,
    "start_time": "2022-01-16T18:12:05.484Z"
   },
   {
    "duration": 6,
    "start_time": "2022-01-16T18:12:06.228Z"
   },
   {
    "duration": 7,
    "start_time": "2022-01-16T18:12:06.927Z"
   },
   {
    "duration": 7,
    "start_time": "2022-01-16T18:12:07.805Z"
   },
   {
    "duration": 6,
    "start_time": "2022-01-16T18:12:08.496Z"
   },
   {
    "duration": 7,
    "start_time": "2022-01-16T18:12:09.104Z"
   },
   {
    "duration": 7,
    "start_time": "2022-01-16T18:12:10.724Z"
   },
   {
    "duration": 7,
    "start_time": "2022-01-16T18:12:11.173Z"
   },
   {
    "duration": 7,
    "start_time": "2022-01-16T18:12:11.656Z"
   },
   {
    "duration": 8,
    "start_time": "2022-01-16T18:12:12.078Z"
   },
   {
    "duration": 9,
    "start_time": "2022-01-16T18:12:12.555Z"
   },
   {
    "duration": 6,
    "start_time": "2022-01-16T18:12:12.948Z"
   },
   {
    "duration": 7,
    "start_time": "2022-01-16T18:12:13.376Z"
   },
   {
    "duration": 7,
    "start_time": "2022-01-16T18:12:13.864Z"
   },
   {
    "duration": 8,
    "start_time": "2022-01-16T18:12:14.223Z"
   },
   {
    "duration": 7,
    "start_time": "2022-01-16T18:12:14.465Z"
   },
   {
    "duration": 7,
    "start_time": "2022-01-16T18:12:14.699Z"
   },
   {
    "duration": 7,
    "start_time": "2022-01-16T18:12:14.908Z"
   },
   {
    "duration": 7,
    "start_time": "2022-01-16T18:12:15.100Z"
   },
   {
    "duration": 7,
    "start_time": "2022-01-16T18:12:15.276Z"
   },
   {
    "duration": 7,
    "start_time": "2022-01-16T18:12:15.506Z"
   },
   {
    "duration": 7,
    "start_time": "2022-01-16T18:12:21.083Z"
   },
   {
    "duration": 8,
    "start_time": "2022-01-16T18:12:23.446Z"
   },
   {
    "duration": 7,
    "start_time": "2022-01-16T18:12:25.602Z"
   },
   {
    "duration": 8,
    "start_time": "2022-01-16T18:12:26.601Z"
   },
   {
    "duration": 8,
    "start_time": "2022-01-16T18:12:27.132Z"
   },
   {
    "duration": 7,
    "start_time": "2022-01-16T18:12:27.757Z"
   },
   {
    "duration": 8,
    "start_time": "2022-01-16T18:12:28.348Z"
   },
   {
    "duration": 7,
    "start_time": "2022-01-16T18:12:28.730Z"
   },
   {
    "duration": 8,
    "start_time": "2022-01-16T18:12:29.529Z"
   },
   {
    "duration": 7,
    "start_time": "2022-01-16T18:12:29.629Z"
   },
   {
    "duration": 7,
    "start_time": "2022-01-16T18:12:30.253Z"
   },
   {
    "duration": 6,
    "start_time": "2022-01-16T18:12:31.170Z"
   },
   {
    "duration": 7,
    "start_time": "2022-01-16T18:12:32.088Z"
   },
   {
    "duration": 4,
    "start_time": "2022-01-16T18:12:32.824Z"
   },
   {
    "duration": 8,
    "start_time": "2022-01-16T18:12:33.888Z"
   },
   {
    "duration": 5,
    "start_time": "2022-01-16T18:12:38.620Z"
   },
   {
    "duration": 79,
    "start_time": "2022-01-16T18:18:25.577Z"
   },
   {
    "duration": 5,
    "start_time": "2022-01-16T18:18:45.966Z"
   },
   {
    "duration": 113,
    "start_time": "2022-01-16T18:18:47.886Z"
   },
   {
    "duration": 402,
    "start_time": "2022-01-16T18:18:51.708Z"
   },
   {
    "duration": 447,
    "start_time": "2022-01-16T18:18:59.466Z"
   },
   {
    "duration": 148,
    "start_time": "2022-01-16T18:19:35.089Z"
   },
   {
    "duration": 260,
    "start_time": "2022-01-16T18:19:40.028Z"
   },
   {
    "duration": 257,
    "start_time": "2022-01-16T18:19:50.233Z"
   },
   {
    "duration": 8,
    "start_time": "2022-01-16T18:19:55.257Z"
   },
   {
    "duration": 5,
    "start_time": "2022-01-16T18:20:14.679Z"
   },
   {
    "duration": 8,
    "start_time": "2022-01-16T18:20:23.562Z"
   },
   {
    "duration": 8,
    "start_time": "2022-01-16T18:20:29.604Z"
   },
   {
    "duration": 9360,
    "start_time": "2022-01-16T18:20:48.973Z"
   },
   {
    "duration": 17449,
    "start_time": "2022-01-16T18:20:59.150Z"
   },
   {
    "duration": 479472,
    "start_time": "2022-01-16T18:21:33.985Z"
   },
   {
    "duration": -1331,
    "start_time": "2022-01-16T18:29:34.791Z"
   },
   {
    "duration": 5,
    "start_time": "2022-01-16T18:29:36.716Z"
   },
   {
    "duration": 11,
    "start_time": "2022-01-16T18:33:33.518Z"
   },
   {
    "duration": 496,
    "start_time": "2022-01-16T18:33:39.725Z"
   },
   {
    "duration": 8,
    "start_time": "2022-01-16T18:33:51.312Z"
   },
   {
    "duration": 919,
    "start_time": "2022-01-16T18:33:51.324Z"
   },
   {
    "duration": 5,
    "start_time": "2022-01-16T18:34:13.762Z"
   },
   {
    "duration": 24,
    "start_time": "2022-01-16T18:34:14.302Z"
   },
   {
    "duration": 5,
    "start_time": "2022-01-16T18:34:36.856Z"
   },
   {
    "duration": 19,
    "start_time": "2022-01-16T18:34:38.325Z"
   },
   {
    "duration": 6,
    "start_time": "2022-01-16T18:34:44.740Z"
   },
   {
    "duration": 17,
    "start_time": "2022-01-16T18:34:46.165Z"
   },
   {
    "duration": 5,
    "start_time": "2022-01-16T18:36:07.208Z"
   },
   {
    "duration": 18,
    "start_time": "2022-01-16T18:36:07.875Z"
   },
   {
    "duration": 7,
    "start_time": "2022-01-16T18:36:20.737Z"
   },
   {
    "duration": 22,
    "start_time": "2022-01-16T18:36:22.148Z"
   },
   {
    "duration": 6,
    "start_time": "2022-01-16T18:36:29.280Z"
   },
   {
    "duration": 23,
    "start_time": "2022-01-16T18:36:29.406Z"
   },
   {
    "duration": 6,
    "start_time": "2022-01-16T18:36:40.635Z"
   },
   {
    "duration": 17,
    "start_time": "2022-01-16T18:36:41.051Z"
   },
   {
    "duration": 6,
    "start_time": "2022-01-16T18:37:03.325Z"
   },
   {
    "duration": 18,
    "start_time": "2022-01-16T18:37:04.532Z"
   },
   {
    "duration": 17,
    "start_time": "2022-01-16T18:37:42.918Z"
   },
   {
    "duration": 10,
    "start_time": "2022-01-16T18:37:44.768Z"
   },
   {
    "duration": 18,
    "start_time": "2022-01-16T18:37:49.693Z"
   },
   {
    "duration": 13,
    "start_time": "2022-01-16T18:37:50.329Z"
   },
   {
    "duration": 18,
    "start_time": "2022-01-16T18:37:51.729Z"
   },
   {
    "duration": 18,
    "start_time": "2022-01-16T18:37:53.200Z"
   },
   {
    "duration": 14,
    "start_time": "2022-01-16T18:37:53.222Z"
   },
   {
    "duration": 17,
    "start_time": "2022-01-16T18:37:54.020Z"
   },
   {
    "duration": 11,
    "start_time": "2022-01-16T18:37:54.040Z"
   },
   {
    "duration": 9,
    "start_time": "2022-01-16T18:37:54.053Z"
   },
   {
    "duration": 24,
    "start_time": "2022-01-16T18:37:54.781Z"
   },
   {
    "duration": 14,
    "start_time": "2022-01-16T18:37:59.931Z"
   },
   {
    "duration": 11,
    "start_time": "2022-01-16T18:38:00.357Z"
   },
   {
    "duration": 14,
    "start_time": "2022-01-16T18:38:01.527Z"
   },
   {
    "duration": 12,
    "start_time": "2022-01-16T18:38:01.950Z"
   },
   {
    "duration": 13,
    "start_time": "2022-01-16T18:38:02.619Z"
   },
   {
    "duration": 10,
    "start_time": "2022-01-16T18:38:02.924Z"
   },
   {
    "duration": 12,
    "start_time": "2022-01-16T18:38:03.638Z"
   },
   {
    "duration": 10,
    "start_time": "2022-01-16T18:38:03.919Z"
   },
   {
    "duration": 13,
    "start_time": "2022-01-16T18:38:04.605Z"
   },
   {
    "duration": 12,
    "start_time": "2022-01-16T18:38:04.905Z"
   },
   {
    "duration": 13,
    "start_time": "2022-01-16T18:38:05.656Z"
   },
   {
    "duration": 11,
    "start_time": "2022-01-16T18:38:05.927Z"
   },
   {
    "duration": 13,
    "start_time": "2022-01-16T18:38:06.611Z"
   },
   {
    "duration": 12,
    "start_time": "2022-01-16T18:38:06.876Z"
   },
   {
    "duration": 5,
    "start_time": "2022-01-16T18:42:36.288Z"
   },
   {
    "duration": 6,
    "start_time": "2022-01-16T18:42:43.579Z"
   },
   {
    "duration": 6,
    "start_time": "2022-01-16T18:42:49.029Z"
   },
   {
    "duration": 397,
    "start_time": "2022-01-16T19:07:18.252Z"
   },
   {
    "duration": 5,
    "start_time": "2022-01-16T19:07:24.792Z"
   },
   {
    "duration": 14,
    "start_time": "2022-01-16T19:07:36.230Z"
   },
   {
    "duration": 12,
    "start_time": "2022-01-16T19:07:37.835Z"
   },
   {
    "duration": 12,
    "start_time": "2022-01-16T19:07:40.210Z"
   },
   {
    "duration": 10,
    "start_time": "2022-01-16T19:07:40.611Z"
   },
   {
    "duration": 5,
    "start_time": "2022-01-16T19:07:42.846Z"
   },
   {
    "duration": 12,
    "start_time": "2022-01-16T19:07:43.101Z"
   },
   {
    "duration": 11,
    "start_time": "2022-01-16T19:07:43.382Z"
   },
   {
    "duration": 626,
    "start_time": "2022-01-16T19:08:05.093Z"
   },
   {
    "duration": 10,
    "start_time": "2022-01-16T19:11:04.887Z"
   },
   {
    "duration": 10,
    "start_time": "2022-01-16T19:11:06.002Z"
   },
   {
    "duration": 7,
    "start_time": "2022-01-16T19:11:09.263Z"
   },
   {
    "duration": 13,
    "start_time": "2022-01-16T19:11:09.273Z"
   },
   {
    "duration": 9,
    "start_time": "2022-01-16T19:11:09.290Z"
   },
   {
    "duration": 10,
    "start_time": "2022-01-16T19:11:41.943Z"
   },
   {
    "duration": 10,
    "start_time": "2022-01-16T19:11:42.541Z"
   },
   {
    "duration": 10,
    "start_time": "2022-01-16T19:11:45.528Z"
   },
   {
    "duration": 11,
    "start_time": "2022-01-16T19:11:48.273Z"
   },
   {
    "duration": 10,
    "start_time": "2022-01-16T19:11:57.364Z"
   },
   {
    "duration": 10,
    "start_time": "2022-01-16T19:11:58.082Z"
   },
   {
    "duration": 11,
    "start_time": "2022-01-16T19:12:00.701Z"
   },
   {
    "duration": 12,
    "start_time": "2022-01-16T19:12:01.022Z"
   },
   {
    "duration": 353,
    "start_time": "2022-01-16T19:14:34.176Z"
   },
   {
    "duration": 294,
    "start_time": "2022-01-16T19:14:49.400Z"
   },
   {
    "duration": 1163,
    "start_time": "2022-01-16T19:14:52.180Z"
   },
   {
    "duration": 4,
    "start_time": "2022-01-16T19:15:04.675Z"
   },
   {
    "duration": 10,
    "start_time": "2022-01-16T19:15:07.632Z"
   },
   {
    "duration": 11,
    "start_time": "2022-01-16T19:15:09.200Z"
   },
   {
    "duration": 4,
    "start_time": "2022-01-16T19:15:11.871Z"
   },
   {
    "duration": 10,
    "start_time": "2022-01-16T19:15:15.119Z"
   },
   {
    "duration": 14,
    "start_time": "2022-01-16T19:15:15.554Z"
   },
   {
    "duration": 11,
    "start_time": "2022-01-16T19:15:17.632Z"
   },
   {
    "duration": 11,
    "start_time": "2022-01-16T19:15:18.235Z"
   },
   {
    "duration": 10,
    "start_time": "2022-01-16T19:15:18.812Z"
   },
   {
    "duration": 9,
    "start_time": "2022-01-16T19:15:19.084Z"
   },
   {
    "duration": 10,
    "start_time": "2022-01-16T19:15:19.841Z"
   },
   {
    "duration": 16,
    "start_time": "2022-01-16T19:15:20.089Z"
   },
   {
    "duration": 11,
    "start_time": "2022-01-16T19:15:20.722Z"
   },
   {
    "duration": 12,
    "start_time": "2022-01-16T19:15:21.020Z"
   },
   {
    "duration": 9,
    "start_time": "2022-01-16T19:15:21.567Z"
   },
   {
    "duration": 9,
    "start_time": "2022-01-16T19:15:21.804Z"
   },
   {
    "duration": 11,
    "start_time": "2022-01-16T19:15:22.344Z"
   },
   {
    "duration": 10,
    "start_time": "2022-01-16T19:15:22.890Z"
   },
   {
    "duration": 10,
    "start_time": "2022-01-16T19:16:38.834Z"
   },
   {
    "duration": 10,
    "start_time": "2022-01-16T19:16:39.588Z"
   },
   {
    "duration": 12,
    "start_time": "2022-01-16T19:16:41.780Z"
   },
   {
    "duration": 9,
    "start_time": "2022-01-16T19:16:42.010Z"
   },
   {
    "duration": 5,
    "start_time": "2022-01-16T19:16:43.709Z"
   },
   {
    "duration": 11,
    "start_time": "2022-01-16T19:16:44.796Z"
   },
   {
    "duration": 11,
    "start_time": "2022-01-16T19:16:45.147Z"
   },
   {
    "duration": 8,
    "start_time": "2022-01-16T19:16:56.084Z"
   },
   {
    "duration": 6,
    "start_time": "2022-01-16T19:17:13.875Z"
   },
   {
    "duration": 14,
    "start_time": "2022-01-16T19:17:15.509Z"
   },
   {
    "duration": 11,
    "start_time": "2022-01-16T19:17:16.660Z"
   },
   {
    "duration": 5,
    "start_time": "2022-01-16T19:17:18.239Z"
   },
   {
    "duration": 9,
    "start_time": "2022-01-16T19:17:18.583Z"
   },
   {
    "duration": 10,
    "start_time": "2022-01-16T19:17:18.971Z"
   },
   {
    "duration": 6,
    "start_time": "2022-01-16T19:17:20.282Z"
   },
   {
    "duration": 9,
    "start_time": "2022-01-16T19:17:20.612Z"
   },
   {
    "duration": 9,
    "start_time": "2022-01-16T19:17:21.258Z"
   },
   {
    "duration": 6,
    "start_time": "2022-01-16T19:17:22.234Z"
   },
   {
    "duration": 12,
    "start_time": "2022-01-16T19:17:22.244Z"
   },
   {
    "duration": 10,
    "start_time": "2022-01-16T19:17:22.632Z"
   },
   {
    "duration": 6,
    "start_time": "2022-01-16T19:17:23.257Z"
   },
   {
    "duration": 11,
    "start_time": "2022-01-16T19:17:23.597Z"
   },
   {
    "duration": 9,
    "start_time": "2022-01-16T19:17:24.019Z"
   },
   {
    "duration": 10,
    "start_time": "2022-01-16T19:17:26.247Z"
   },
   {
    "duration": 8,
    "start_time": "2022-01-16T19:17:27.788Z"
   },
   {
    "duration": 10,
    "start_time": "2022-01-16T19:17:28.278Z"
   },
   {
    "duration": 10,
    "start_time": "2022-01-16T19:17:29.165Z"
   },
   {
    "duration": 19,
    "start_time": "2022-01-16T19:18:07.662Z"
   },
   {
    "duration": 26,
    "start_time": "2022-01-16T19:19:09.695Z"
   },
   {
    "duration": 5,
    "start_time": "2022-01-16T19:20:35.764Z"
   },
   {
    "duration": 263,
    "start_time": "2022-01-16T19:20:36.778Z"
   },
   {
    "duration": 249,
    "start_time": "2022-01-16T19:20:51.378Z"
   },
   {
    "duration": 10,
    "start_time": "2022-01-16T19:21:02.868Z"
   },
   {
    "duration": 292,
    "start_time": "2022-01-16T19:21:04.221Z"
   },
   {
    "duration": 259,
    "start_time": "2022-01-16T19:21:19.012Z"
   },
   {
    "duration": 10,
    "start_time": "2022-01-16T19:22:00.039Z"
   },
   {
    "duration": 12,
    "start_time": "2022-01-16T19:22:09.613Z"
   },
   {
    "duration": 5,
    "start_time": "2022-01-16T19:22:29.643Z"
   },
   {
    "duration": 6,
    "start_time": "2022-01-16T19:22:35.176Z"
   },
   {
    "duration": 10,
    "start_time": "2022-01-16T19:22:42.555Z"
   },
   {
    "duration": 386,
    "start_time": "2022-01-16T19:22:43.001Z"
   },
   {
    "duration": 5,
    "start_time": "2022-01-16T19:22:46.569Z"
   },
   {
    "duration": 4,
    "start_time": "2022-01-16T19:22:51.964Z"
   },
   {
    "duration": 9,
    "start_time": "2022-01-16T19:22:54.498Z"
   },
   {
    "duration": 457,
    "start_time": "2022-01-16T19:22:55.006Z"
   },
   {
    "duration": 8,
    "start_time": "2022-01-16T19:23:02.265Z"
   },
   {
    "duration": 7,
    "start_time": "2022-01-16T19:23:07.207Z"
   },
   {
    "duration": 6,
    "start_time": "2022-01-16T19:23:09.489Z"
   },
   {
    "duration": 6,
    "start_time": "2022-01-16T19:23:17.221Z"
   },
   {
    "duration": 9,
    "start_time": "2022-01-16T19:24:15.103Z"
   },
   {
    "duration": 267,
    "start_time": "2022-01-16T19:24:15.662Z"
   },
   {
    "duration": 10,
    "start_time": "2022-01-16T19:24:22.993Z"
   },
   {
    "duration": 271,
    "start_time": "2022-01-16T19:24:23.352Z"
   },
   {
    "duration": 6,
    "start_time": "2022-01-16T19:24:35.935Z"
   },
   {
    "duration": 21,
    "start_time": "2022-01-16T19:24:35.944Z"
   },
   {
    "duration": 19,
    "start_time": "2022-01-16T19:24:35.968Z"
   },
   {
    "duration": 13,
    "start_time": "2022-01-16T19:24:35.990Z"
   },
   {
    "duration": 64,
    "start_time": "2022-01-16T19:24:36.005Z"
   },
   {
    "duration": 9,
    "start_time": "2022-01-16T19:24:36.072Z"
   },
   {
    "duration": 10,
    "start_time": "2022-01-16T19:24:36.083Z"
   },
   {
    "duration": 35,
    "start_time": "2022-01-16T19:24:36.096Z"
   },
   {
    "duration": 270,
    "start_time": "2022-01-16T19:24:36.134Z"
   },
   {
    "duration": 460,
    "start_time": "2022-01-16T19:24:36.406Z"
   },
   {
    "duration": 469,
    "start_time": "2022-01-16T19:24:36.868Z"
   },
   {
    "duration": 307,
    "start_time": "2022-01-16T19:24:37.339Z"
   },
   {
    "duration": 319,
    "start_time": "2022-01-16T19:24:37.649Z"
   },
   {
    "duration": 295,
    "start_time": "2022-01-16T19:24:37.970Z"
   },
   {
    "duration": 7022,
    "start_time": "2022-01-16T19:24:38.268Z"
   },
   {
    "duration": 6,
    "start_time": "2022-01-16T19:24:45.292Z"
   },
   {
    "duration": 23,
    "start_time": "2022-01-16T19:24:45.300Z"
   },
   {
    "duration": 22,
    "start_time": "2022-01-16T19:24:45.326Z"
   },
   {
    "duration": 270,
    "start_time": "2022-01-16T19:24:45.351Z"
   },
   {
    "duration": 5,
    "start_time": "2022-01-16T19:25:15.693Z"
   },
   {
    "duration": 5,
    "start_time": "2022-01-16T19:25:30.614Z"
   },
   {
    "duration": 6,
    "start_time": "2022-01-16T19:25:35.139Z"
   },
   {
    "duration": 354,
    "start_time": "2022-01-16T19:25:59.292Z"
   },
   {
    "duration": 6,
    "start_time": "2022-01-16T19:26:07.403Z"
   },
   {
    "duration": 9,
    "start_time": "2022-01-16T19:27:11.708Z"
   },
   {
    "duration": 12,
    "start_time": "2022-01-16T19:27:14.244Z"
   },
   {
    "duration": 9,
    "start_time": "2022-01-16T19:27:37.590Z"
   },
   {
    "duration": 9,
    "start_time": "2022-01-16T19:27:39.429Z"
   },
   {
    "duration": 10,
    "start_time": "2022-01-16T19:27:40.079Z"
   },
   {
    "duration": 9,
    "start_time": "2022-01-16T19:27:42.359Z"
   },
   {
    "duration": 13,
    "start_time": "2022-01-16T19:27:43.020Z"
   },
   {
    "duration": 11,
    "start_time": "2022-01-16T19:27:46.947Z"
   },
   {
    "duration": 13,
    "start_time": "2022-01-16T19:27:50.320Z"
   },
   {
    "duration": 10,
    "start_time": "2022-01-16T19:27:53.026Z"
   },
   {
    "duration": 9,
    "start_time": "2022-01-16T19:27:53.872Z"
   },
   {
    "duration": 8,
    "start_time": "2022-01-16T19:27:55.283Z"
   },
   {
    "duration": 10,
    "start_time": "2022-01-16T19:27:55.848Z"
   },
   {
    "duration": 10,
    "start_time": "2022-01-16T19:28:10.419Z"
   },
   {
    "duration": 9,
    "start_time": "2022-01-16T19:28:13.243Z"
   },
   {
    "duration": 13,
    "start_time": "2022-01-16T19:28:14.196Z"
   },
   {
    "duration": 10,
    "start_time": "2022-01-16T19:28:30.367Z"
   },
   {
    "duration": 10,
    "start_time": "2022-01-16T19:28:30.876Z"
   },
   {
    "duration": 11,
    "start_time": "2022-01-16T19:30:02.165Z"
   },
   {
    "duration": 18,
    "start_time": "2022-01-16T19:38:03.736Z"
   },
   {
    "duration": 10,
    "start_time": "2022-01-16T19:38:47.129Z"
   },
   {
    "duration": 10,
    "start_time": "2022-01-16T19:38:49.804Z"
   },
   {
    "duration": 6,
    "start_time": "2022-01-16T19:38:51.616Z"
   },
   {
    "duration": 15,
    "start_time": "2022-01-16T19:39:55.524Z"
   },
   {
    "duration": 11,
    "start_time": "2022-01-16T19:40:12.041Z"
   },
   {
    "duration": 11,
    "start_time": "2022-01-16T19:40:13.919Z"
   },
   {
    "duration": 5,
    "start_time": "2022-01-16T19:40:15.346Z"
   },
   {
    "duration": 5,
    "start_time": "2022-01-16T19:40:21.976Z"
   },
   {
    "duration": 6,
    "start_time": "2022-01-16T19:41:37.490Z"
   },
   {
    "duration": 6,
    "start_time": "2022-01-16T19:41:49.958Z"
   },
   {
    "duration": 94,
    "start_time": "2022-01-16T19:42:14.288Z"
   },
   {
    "duration": 11,
    "start_time": "2022-01-16T19:46:30.700Z"
   },
   {
    "duration": 11,
    "start_time": "2022-01-16T19:46:31.524Z"
   },
   {
    "duration": 1668,
    "start_time": "2022-01-16T19:46:41.495Z"
   },
   {
    "duration": 22,
    "start_time": "2022-01-16T19:46:43.165Z"
   },
   {
    "duration": 17,
    "start_time": "2022-01-16T19:46:43.190Z"
   },
   {
    "duration": 10,
    "start_time": "2022-01-16T19:46:43.210Z"
   },
   {
    "duration": 58,
    "start_time": "2022-01-16T19:46:43.223Z"
   },
   {
    "duration": 8,
    "start_time": "2022-01-16T19:46:43.283Z"
   },
   {
    "duration": 10,
    "start_time": "2022-01-16T19:46:43.293Z"
   },
   {
    "duration": 20,
    "start_time": "2022-01-16T19:46:43.306Z"
   },
   {
    "duration": 290,
    "start_time": "2022-01-16T19:46:43.329Z"
   },
   {
    "duration": 449,
    "start_time": "2022-01-16T19:46:43.622Z"
   },
   {
    "duration": 656,
    "start_time": "2022-01-16T19:46:44.073Z"
   },
   {
    "duration": 305,
    "start_time": "2022-01-16T19:46:44.732Z"
   },
   {
    "duration": 331,
    "start_time": "2022-01-16T19:46:45.039Z"
   },
   {
    "duration": 307,
    "start_time": "2022-01-16T19:46:45.373Z"
   },
   {
    "duration": 6982,
    "start_time": "2022-01-16T19:46:45.682Z"
   },
   {
    "duration": 6,
    "start_time": "2022-01-16T19:46:52.666Z"
   },
   {
    "duration": 10,
    "start_time": "2022-01-16T19:46:52.674Z"
   },
   {
    "duration": 833,
    "start_time": "2022-01-16T19:46:52.687Z"
   },
   {
    "duration": 0,
    "start_time": "2022-01-16T19:46:53.523Z"
   },
   {
    "duration": -2,
    "start_time": "2022-01-16T19:46:53.527Z"
   },
   {
    "duration": -4,
    "start_time": "2022-01-16T19:46:53.530Z"
   },
   {
    "duration": -6,
    "start_time": "2022-01-16T19:46:53.533Z"
   },
   {
    "duration": -6,
    "start_time": "2022-01-16T19:46:53.535Z"
   },
   {
    "duration": 10,
    "start_time": "2022-01-16T19:47:14.800Z"
   },
   {
    "duration": 11,
    "start_time": "2022-01-16T19:47:15.470Z"
   },
   {
    "duration": 1803,
    "start_time": "2022-01-16T19:47:28.428Z"
   },
   {
    "duration": 24,
    "start_time": "2022-01-16T19:47:30.234Z"
   },
   {
    "duration": 27,
    "start_time": "2022-01-16T19:47:30.262Z"
   },
   {
    "duration": 14,
    "start_time": "2022-01-16T19:47:30.292Z"
   },
   {
    "duration": 55,
    "start_time": "2022-01-16T19:47:30.309Z"
   },
   {
    "duration": 10,
    "start_time": "2022-01-16T19:47:30.367Z"
   },
   {
    "duration": 33,
    "start_time": "2022-01-16T19:47:30.380Z"
   },
   {
    "duration": 32,
    "start_time": "2022-01-16T19:47:30.416Z"
   },
   {
    "duration": 272,
    "start_time": "2022-01-16T19:47:30.452Z"
   },
   {
    "duration": 555,
    "start_time": "2022-01-16T19:47:30.727Z"
   },
   {
    "duration": 486,
    "start_time": "2022-01-16T19:47:31.284Z"
   },
   {
    "duration": 309,
    "start_time": "2022-01-16T19:47:31.772Z"
   },
   {
    "duration": 323,
    "start_time": "2022-01-16T19:47:32.083Z"
   },
   {
    "duration": 300,
    "start_time": "2022-01-16T19:47:32.409Z"
   },
   {
    "duration": 6803,
    "start_time": "2022-01-16T19:47:32.711Z"
   },
   {
    "duration": 6,
    "start_time": "2022-01-16T19:47:39.517Z"
   },
   {
    "duration": 12,
    "start_time": "2022-01-16T19:47:39.526Z"
   },
   {
    "duration": 11,
    "start_time": "2022-01-16T19:47:39.564Z"
   },
   {
    "duration": 13,
    "start_time": "2022-01-16T19:47:39.578Z"
   },
   {
    "duration": 5,
    "start_time": "2022-01-16T19:47:39.594Z"
   },
   {
    "duration": 13,
    "start_time": "2022-01-16T19:47:39.602Z"
   },
   {
    "duration": 12,
    "start_time": "2022-01-16T19:47:39.664Z"
   },
   {
    "duration": 7,
    "start_time": "2022-01-16T19:47:39.679Z"
   },
   {
    "duration": 1693,
    "start_time": "2022-01-17T04:10:03.519Z"
   },
   {
    "duration": 19,
    "start_time": "2022-01-17T04:10:05.214Z"
   },
   {
    "duration": 18,
    "start_time": "2022-01-17T04:10:09.503Z"
   },
   {
    "duration": 12,
    "start_time": "2022-01-17T04:10:09.755Z"
   },
   {
    "duration": 34,
    "start_time": "2022-01-17T04:10:11.058Z"
   },
   {
    "duration": 9,
    "start_time": "2022-01-17T04:10:11.565Z"
   },
   {
    "duration": 9,
    "start_time": "2022-01-17T04:10:13.070Z"
   },
   {
    "duration": 21,
    "start_time": "2022-01-17T04:10:22.529Z"
   },
   {
    "duration": 248,
    "start_time": "2022-01-17T04:10:23.570Z"
   },
   {
    "duration": 425,
    "start_time": "2022-01-17T04:10:24.169Z"
   },
   {
    "duration": 514,
    "start_time": "2022-01-17T04:10:25.143Z"
   },
   {
    "duration": 293,
    "start_time": "2022-01-17T04:10:25.660Z"
   },
   {
    "duration": 307,
    "start_time": "2022-01-17T04:10:25.956Z"
   },
   {
    "duration": 271,
    "start_time": "2022-01-17T04:10:26.355Z"
   },
   {
    "duration": 7171,
    "start_time": "2022-01-17T04:10:27.007Z"
   },
   {
    "duration": 6,
    "start_time": "2022-01-17T04:10:34.181Z"
   },
   {
    "duration": 26,
    "start_time": "2022-01-17T04:10:34.191Z"
   },
   {
    "duration": 10,
    "start_time": "2022-01-17T04:19:59.996Z"
   },
   {
    "duration": 12,
    "start_time": "2022-01-17T04:20:00.846Z"
   },
   {
    "duration": 4,
    "start_time": "2022-01-17T04:20:03.416Z"
   },
   {
    "duration": 10,
    "start_time": "2022-01-17T04:20:03.622Z"
   },
   {
    "duration": 9,
    "start_time": "2022-01-17T04:20:03.789Z"
   },
   {
    "duration": 5,
    "start_time": "2022-01-17T04:20:04.348Z"
   },
   {
    "duration": 438,
    "start_time": "2022-01-17T11:37:25.117Z"
   },
   {
    "duration": 1420,
    "start_time": "2022-01-17T11:37:37.272Z"
   },
   {
    "duration": 42,
    "start_time": "2022-01-17T11:37:38.694Z"
   },
   {
    "duration": 11,
    "start_time": "2022-01-17T11:37:38.738Z"
   },
   {
    "duration": 8,
    "start_time": "2022-01-17T11:37:38.751Z"
   },
   {
    "duration": 23,
    "start_time": "2022-01-17T11:37:38.761Z"
   },
   {
    "duration": 5,
    "start_time": "2022-01-17T11:37:38.786Z"
   },
   {
    "duration": 8,
    "start_time": "2022-01-17T11:37:38.793Z"
   },
   {
    "duration": 14,
    "start_time": "2022-01-17T11:37:38.803Z"
   },
   {
    "duration": 184,
    "start_time": "2022-01-17T11:37:38.819Z"
   },
   {
    "duration": 335,
    "start_time": "2022-01-17T11:37:39.005Z"
   },
   {
    "duration": 292,
    "start_time": "2022-01-17T11:37:39.342Z"
   },
   {
    "duration": 186,
    "start_time": "2022-01-17T11:37:39.636Z"
   },
   {
    "duration": 192,
    "start_time": "2022-01-17T11:37:39.824Z"
   },
   {
    "duration": 186,
    "start_time": "2022-01-17T11:37:40.019Z"
   },
   {
    "duration": 4432,
    "start_time": "2022-01-17T11:37:40.207Z"
   },
   {
    "duration": 4,
    "start_time": "2022-01-17T11:37:44.641Z"
   },
   {
    "duration": 6,
    "start_time": "2022-01-17T11:37:44.660Z"
   },
   {
    "duration": 9,
    "start_time": "2022-01-17T11:37:44.668Z"
   },
   {
    "duration": 8,
    "start_time": "2022-01-17T11:37:44.678Z"
   },
   {
    "duration": 3,
    "start_time": "2022-01-17T11:37:44.688Z"
   },
   {
    "duration": 9,
    "start_time": "2022-01-17T11:37:44.693Z"
   },
   {
    "duration": 6,
    "start_time": "2022-01-17T11:37:44.704Z"
   },
   {
    "duration": 4,
    "start_time": "2022-01-17T11:37:44.712Z"
   },
   {
    "duration": 408,
    "start_time": "2022-01-17T11:37:51.356Z"
   },
   {
    "duration": 12,
    "start_time": "2022-01-17T11:37:57.674Z"
   },
   {
    "duration": 66,
    "start_time": "2022-01-17T11:38:06.390Z"
   },
   {
    "duration": 10,
    "start_time": "2022-01-17T11:38:11.387Z"
   },
   {
    "duration": 22,
    "start_time": "2022-01-17T11:38:21.343Z"
   },
   {
    "duration": 26,
    "start_time": "2022-01-17T11:38:52.409Z"
   },
   {
    "duration": 21,
    "start_time": "2022-01-17T11:41:54.425Z"
   },
   {
    "duration": 17,
    "start_time": "2022-01-17T11:45:26.150Z"
   },
   {
    "duration": 24,
    "start_time": "2022-01-17T11:45:47.078Z"
   },
   {
    "duration": 25,
    "start_time": "2022-01-17T11:45:51.883Z"
   },
   {
    "duration": 16,
    "start_time": "2022-01-17T11:46:30.704Z"
   },
   {
    "duration": 26,
    "start_time": "2022-01-17T11:46:34.068Z"
   },
   {
    "duration": 25,
    "start_time": "2022-01-17T11:46:37.668Z"
   },
   {
    "duration": 33,
    "start_time": "2022-01-17T11:47:03.453Z"
   },
   {
    "duration": 24,
    "start_time": "2022-01-17T11:47:08.728Z"
   },
   {
    "duration": 22,
    "start_time": "2022-01-17T11:47:15.993Z"
   },
   {
    "duration": 22,
    "start_time": "2022-01-17T11:47:26.900Z"
   },
   {
    "duration": 21,
    "start_time": "2022-01-17T11:47:51.975Z"
   },
   {
    "duration": 25,
    "start_time": "2022-01-17T11:48:48.770Z"
   },
   {
    "duration": 190,
    "start_time": "2022-01-17T12:07:16.222Z"
   },
   {
    "duration": 92,
    "start_time": "2022-01-17T12:09:49.586Z"
   },
   {
    "duration": 5401,
    "start_time": "2022-01-17T12:09:52.726Z"
   },
   {
    "duration": 5479,
    "start_time": "2022-01-17T12:10:00.140Z"
   },
   {
    "duration": 5000,
    "start_time": "2022-01-17T12:11:31.017Z"
   },
   {
    "duration": 4634,
    "start_time": "2022-01-17T12:13:32.180Z"
   },
   {
    "duration": 4159,
    "start_time": "2022-01-17T12:14:34.154Z"
   },
   {
    "duration": 5101,
    "start_time": "2022-01-17T12:14:45.914Z"
   },
   {
    "duration": 4583,
    "start_time": "2022-01-17T12:15:02.062Z"
   },
   {
    "duration": 4310,
    "start_time": "2022-01-17T12:15:20.926Z"
   },
   {
    "duration": 211,
    "start_time": "2022-01-17T12:15:51.292Z"
   },
   {
    "duration": 5248,
    "start_time": "2022-01-17T12:16:07.833Z"
   },
   {
    "duration": 201,
    "start_time": "2022-01-17T12:16:13.575Z"
   },
   {
    "duration": 4611,
    "start_time": "2022-01-17T12:16:28.591Z"
   },
   {
    "duration": 360,
    "start_time": "2022-01-17T12:17:03.707Z"
   },
   {
    "duration": 359,
    "start_time": "2022-01-17T12:17:09.208Z"
   },
   {
    "duration": 5278,
    "start_time": "2022-01-17T12:17:19.055Z"
   },
   {
    "duration": 121,
    "start_time": "2022-01-17T12:18:43.714Z"
   },
   {
    "duration": 24,
    "start_time": "2022-01-17T12:19:16.749Z"
   },
   {
    "duration": 5,
    "start_time": "2022-01-17T12:19:51.242Z"
   },
   {
    "duration": 5,
    "start_time": "2022-01-17T12:19:54.904Z"
   },
   {
    "duration": 24,
    "start_time": "2022-01-17T12:20:00.536Z"
   },
   {
    "duration": 1499,
    "start_time": "2022-01-17T12:21:01.895Z"
   },
   {
    "duration": 18,
    "start_time": "2022-01-17T12:21:03.396Z"
   },
   {
    "duration": 12,
    "start_time": "2022-01-17T12:21:03.417Z"
   },
   {
    "duration": 11,
    "start_time": "2022-01-17T12:21:03.431Z"
   },
   {
    "duration": 34,
    "start_time": "2022-01-17T12:21:03.444Z"
   },
   {
    "duration": 7,
    "start_time": "2022-01-17T12:21:03.480Z"
   },
   {
    "duration": 16,
    "start_time": "2022-01-17T12:21:03.490Z"
   },
   {
    "duration": 20,
    "start_time": "2022-01-17T12:21:03.507Z"
   },
   {
    "duration": 201,
    "start_time": "2022-01-17T12:21:03.531Z"
   },
   {
    "duration": 532,
    "start_time": "2022-01-17T12:21:03.734Z"
   },
   {
    "duration": 498,
    "start_time": "2022-01-17T12:21:04.269Z"
   },
   {
    "duration": 325,
    "start_time": "2022-01-17T12:21:04.769Z"
   },
   {
    "duration": 324,
    "start_time": "2022-01-17T12:21:05.096Z"
   },
   {
    "duration": 316,
    "start_time": "2022-01-17T12:21:05.423Z"
   },
   {
    "duration": 8429,
    "start_time": "2022-01-17T12:21:05.742Z"
   },
   {
    "duration": 5,
    "start_time": "2022-01-17T12:21:14.173Z"
   },
   {
    "duration": 15,
    "start_time": "2022-01-17T12:21:14.181Z"
   },
   {
    "duration": 72,
    "start_time": "2022-01-17T12:21:14.199Z"
   },
   {
    "duration": 94,
    "start_time": "2022-01-17T12:21:14.274Z"
   },
   {
    "duration": 91,
    "start_time": "2022-01-17T12:21:14.371Z"
   },
   {
    "duration": 7,
    "start_time": "2022-01-17T12:21:14.464Z"
   },
   {
    "duration": 14,
    "start_time": "2022-01-17T12:21:14.472Z"
   },
   {
    "duration": 10,
    "start_time": "2022-01-17T12:21:14.487Z"
   },
   {
    "duration": 8,
    "start_time": "2022-01-17T12:21:14.500Z"
   }
  ],
  "kernelspec": {
   "display_name": "Python 3",
   "language": "python",
   "name": "python3"
  },
  "language_info": {
   "codemirror_mode": {
    "name": "ipython",
    "version": 3
   },
   "file_extension": ".py",
   "mimetype": "text/x-python",
   "name": "python",
   "nbconvert_exporter": "python",
   "pygments_lexer": "ipython3",
   "version": "3.10.1"
  },
  "toc": {
   "base_numbering": "1",
   "nav_menu": {},
   "number_sections": false,
   "sideBar": true,
   "skip_h1_title": true,
   "title_cell": "Содержание",
   "title_sidebar": "Contents",
   "toc_cell": false,
   "toc_position": {},
   "toc_section_display": false,
   "toc_window_display": false
  }
 },
 "nbformat": 4,
 "nbformat_minor": 2
}
